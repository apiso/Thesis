{
 "metadata": {
  "name": "",
  "signature": "sha256:8660d399687f2d167efbeca5d3f6bc0fb645b29c328a834af7cb4b99c07a7c6d"
 },
 "nbformat": 3,
 "nbformat_minor": 0,
 "worksheets": [
  {
   "cells": [
    {
     "cell_type": "code",
     "collapsed": false,
     "input": [
      "from drift_timescales_updated_sigmap import rf, read_drag_file_many\n",
      "from utils.constants import Msun"
     ],
     "language": "python",
     "metadata": {},
     "outputs": [],
     "prompt_number": 5
    },
    {
     "cell_type": "code",
     "collapsed": false,
     "input": [
      "a = logspace(-1, 2, 50)\n",
      "s = logspace(-3, 8, 50)\n",
      "\n",
      "darray = np.ndarray(shape = (len(s), len(a)), dtype = float)\n",
      "\n",
      "for i in range(len(s)):\n",
      "    for j in range(len(a)):\n",
      "        darray[i, j] = rf(a[j], 3e6*365*24*3600, s[i], 18, 5800., 0.01, 1e-3, 0.1*Msun, rhos = 2.0, mu = 2.3, Sigma0 = 2e3, betaS = 1)\n",
      "        print s[i], a[j]"
     ],
     "language": "python",
     "metadata": {},
     "outputs": [
      {
       "output_type": "stream",
       "stream": "stdout",
       "text": [
        "0.001 0.1\n",
        "0.001"
       ]
      },
      {
       "output_type": "stream",
       "stream": "stdout",
       "text": [
        " 0.115139539933\n",
        "0.001"
       ]
      },
      {
       "output_type": "stream",
       "stream": "stdout",
       "text": [
        " 0.132571136559\n",
        "0.001"
       ]
      },
      {
       "output_type": "stream",
       "stream": "stdout",
       "text": [
        " 0.152641796718\n",
        "0.001"
       ]
      },
      {
       "output_type": "stream",
       "stream": "stdout",
       "text": [
        " 0.175751062485\n",
        "0.001"
       ]
      },
      {
       "output_type": "stream",
       "stream": "stdout",
       "text": [
        " 0.202358964773\n",
        "0.001"
       ]
      },
      {
       "output_type": "stream",
       "stream": "stdout",
       "text": [
        " 0.232995181052\n",
        "0.001"
       ]
      },
      {
       "output_type": "stream",
       "stream": "stdout",
       "text": [
        " 0.268269579528\n",
        "0.001"
       ]
      },
      {
       "output_type": "stream",
       "stream": "stdout",
       "text": [
        " 0.308884359648\n",
        "0.001"
       ]
      },
      {
       "output_type": "stream",
       "stream": "stdout",
       "text": [
        " 0.355648030622\n",
        "0.001"
       ]
      },
      {
       "output_type": "stream",
       "stream": "stdout",
       "text": [
        " 0.409491506238\n",
        "0.001"
       ]
      },
      {
       "output_type": "stream",
       "stream": "stdout",
       "text": [
        " 0.471486636346\n",
        "0.001"
       ]
      },
      {
       "output_type": "stream",
       "stream": "stdout",
       "text": [
        " 0.542867543932\n",
        "0.001"
       ]
      },
      {
       "output_type": "stream",
       "stream": "stdout",
       "text": [
        " 0.625055192527\n",
        "0.001"
       ]
      },
      {
       "output_type": "stream",
       "stream": "stdout",
       "text": [
        " 0.719685673001\n",
        "0.001"
       ]
      },
      {
       "output_type": "stream",
       "stream": "stdout",
       "text": [
        " 0.828642772855\n",
        "0.001"
       ]
      },
      {
       "output_type": "stream",
       "stream": "stdout",
       "text": [
        " 0.95409547635\n",
        "0.001"
       ]
      },
      {
       "output_type": "stream",
       "stream": "stdout",
       "text": [
        " 1.09854114199\n",
        "0.001"
       ]
      },
      {
       "output_type": "stream",
       "stream": "stdout",
       "text": [
        " 1.26485521686\n",
        "0.001"
       ]
      },
      {
       "output_type": "stream",
       "stream": "stdout",
       "text": [
        " 1.4563484775\n",
        "0.001"
       ]
      },
      {
       "output_type": "stream",
       "stream": "stdout",
       "text": [
        " 1.67683293681\n",
        "0.001"
       ]
      }
     ]
    },
    {
     "cell_type": "code",
     "collapsed": false,
     "input": [
      "a = logspace(-1, 2, 50)\n",
      "s = logspace(-3, 8, 50)\n",
      "\n",
      "darrayCO2 = np.ndarray(shape = (len(s), len(a)), dtype = float)\n",
      "\n",
      "for i in range(len(s)):\n",
      "    for j in range(len(a)):\n",
      "        darrayCO2[i, j] = rf(a[j], 3e6*365*24*3600, s[i], 44, 2000., 0.01, 1e-3, 0.1*Msun, rhos = 2.0, mu = 2.3, Sigma0 = 2e3, betaS = 1)\n",
      "        print s[i], a[j]"
     ],
     "language": "python",
     "metadata": {},
     "outputs": []
    },
    {
     "cell_type": "code",
     "collapsed": false,
     "input": [
      "f = open('../dat/H2O/s_neg5_5_varying_sigmap.txt', 'wb')\n",
      "for i in range(len(s)):\n",
      "    f.write('%s ' % str(s[i]))\n",
      "    f.write('%s \\n' % str(len(a)))\n",
      "    for j in range(len(a)):\n",
      "        f.write(' %s ' % str(a[j]))\n",
      "        f.write(' %s \\n' % str(darray[i, j]))\n",
      "f.close()"
     ],
     "language": "python",
     "metadata": {},
     "outputs": [],
     "prompt_number": 4
    },
    {
     "cell_type": "code",
     "collapsed": false,
     "input": [
      "a = logspace(-1, 2, 50)\n",
      "s = logspace(-3, 8, 50)\n",
      "\n",
      "darrayCO = np.ndarray(shape = (len(s), len(a)), dtype = float)\n",
      "\n",
      "for i in range(len(s)):\n",
      "    for j in range(len(a)):\n",
      "        darrayCO[i, j] = rf(a[j], 3e6*365*24*3600, s[i], 28, 850., 0.01, 1e-3, 0.1*Msun, rhos = 2.0, mu = 2.3, Sigma0 = 2e3, betaS = 1)\n",
      "        print s[i], a[j]"
     ],
     "language": "python",
     "metadata": {},
     "outputs": []
    },
    {
     "cell_type": "code",
     "collapsed": false,
     "input": [
      "s, a, arrayH2O = read_drag_file_many('s_neg5_5_varying_sigmap.txt', 'H2O', 20, 20)"
     ],
     "language": "python",
     "metadata": {},
     "outputs": [],
     "prompt_number": 7
    },
    {
     "cell_type": "code",
     "collapsed": false,
     "input": [
      "f, (ax1, ax2, ax3) = plt.subplots(3, sharex = True, figsize = (3.5, 8))\n",
      "\n",
      "rnb = linspace(0, 256, len(s))\n",
      "\n",
      "for i in range(0, len(s)):\n",
      "    ax1.loglog(a, arrayH2O[i], c = cm.rainbow(int(rnb[i])))\n",
      "ax1.set_ylim(ymin = 0.1, ymax = 1e2)\n",
      "ax1.set_xlim(xmin = 0.1, xmax = 1e2)"
     ],
     "language": "python",
     "metadata": {},
     "outputs": [
      {
       "metadata": {},
       "output_type": "pyout",
       "prompt_number": 11,
       "text": [
        "(0.1, 100.0)"
       ]
      },
      {
       "metadata": {},
       "output_type": "display_data",
       "png": "[encoded data removed]",
       "text": [
        "<matplotlib.figure.Figure at 0x111891d90>"
       ]
      }
     ],
     "prompt_number": 11
    },
    {
     "cell_type": "code",
     "collapsed": false,
     "input": [
      "a"
     ],
     "language": "python",
     "metadata": {},
     "outputs": [
      {
       "metadata": {},
       "output_type": "pyout",
       "prompt_number": 10,
       "text": [
        "array([   0.1       ,    0.14384499,    0.20691381,    0.29763514,\n",
        "          0.42813324,    0.61584821,    0.88586679,    1.27427499,\n",
        "          1.83298071,    2.6366509 ,    3.79269019,    5.45559478,\n",
        "          7.8475997 ,   11.28837892,   16.23776739,   23.35721469,\n",
        "         33.59818286,   48.32930239,   69.51927962,  100.        ])"
       ]
      }
     ],
     "prompt_number": 10
    },
    {
     "cell_type": "code",
     "collapsed": false,
     "input": [],
     "language": "python",
     "metadata": {},
     "outputs": []
    }
   ],
   "metadata": {}
  }
 ]
}