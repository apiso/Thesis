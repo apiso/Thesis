{
 "metadata": {
  "name": "",
  "signature": "sha256:c5b69a10fe6107812a0171fdb82b80ed0f6e7f5b8f31e0790bb9e254de16c853"
 },
 "nbformat": 3,
 "nbformat_minor": 0,
 "worksheets": [
  {
   "cells": [
    {
     "cell_type": "code",
     "collapsed": false,
     "input": [
      "import numpy as np\n",
      "from matplotlib import pyplot as plt\n",
      "import C_to_O as CO\n",
      "from T_freeze import T_freeze, Rdes, tevap\n",
      "from C_to_O import T_freeze_H20, T_freeze_CO2, T_freeze_CO\n",
      "\n",
      "\n",
      "import matplotlib.cm as cm\n",
      "\n",
      "from drift_timescales import tr, Tdisk, ts, lambdamfp, cdisk, tdes, rf, r_freeze, \\\n",
      "        read_drag_file, read_drag_file_many, r_stop, Mdot_solids, Mdot_gas, dMgas_dt, dMsol_dt, rdot\n",
      "from drift_timescales_varying_sigma import dMdot, Mgas_dt, Msol_dt, Sigmadisk_act, vacc_act, rdot_gas\n",
      "from drift_timescales_varying_sigma_3 import dMdot as dMdott, Mdot_solids as Mdot_solids_t, dMgas_dt as dMgas_dt_t, \\\n",
      "        dMsol_dt as dMsol_dt_t, Sigmap_act, vacc_act as vacc_old\n",
      "from drift_timescales_Til_parameters import vacc_act as vacc_Til, Sigmap_act as Sigmap_2\n",
      "from drift_timescales_updated_sigmap import Sigmadisk, Tdisk as Tdisk_new, vacc_act as vacc_new, Sigmap_act as Sigmap_new\n",
      "    \n",
      "from scipy.optimize import brentq\n",
      "from utils.constants import cmperau, AU, Rsun, Msun\n",
      "from matplotlib import animation\n",
      "from IPython.display import HTML\n",
      "from IPython import display\n",
      "import JSAnimation\n",
      "from JSAnimation.JSAnimation import IPython_display"
     ],
     "language": "python",
     "metadata": {},
     "outputs": [],
     "prompt_number": 1
    },
    {
     "cell_type": "code",
     "collapsed": false,
     "input": [
      "nt = 20\n",
      "nr = 100 \n",
      "\n",
      "Tstar = 4300.\n",
      "Rstar = 2.5 * Rsun\n",
      "Mdisk = 0.1 * Msun\n",
      "alpha = 0.001\n",
      "\n",
      "r = np.logspace(-1, 4, nr)"
     ],
     "language": "python",
     "metadata": {},
     "outputs": [],
     "prompt_number": 2
    },
    {
     "cell_type": "code",
     "collapsed": false,
     "input": [
      "r = np.logspace(-1, 4, nr)\n",
      "t = np.linspace(0, 3e6 * 365 * 24 * 3600, nt)\n",
      "dt = t[1] - t[0]\n",
      "\n",
      "sigarray = np.ndarray(shape = (len(r), len(t)), dtype = float)\n",
      "sigarray_new = np.ndarray(shape = (len(r), len(t)), dtype = float)\n",
      "sigarray_new_1 = np.ndarray(shape = (len(r), len(t)), dtype = float)\n",
      "\n",
      "for i in range(len(r)):\n",
      "    for j in range(len(t)):\n",
      "        sigarray[i, j] = Sigmadisk_act(r[i], t[j], alpha, r1 = 100 * AU)\n",
      "        sigarray_new[i, j] = Sigmadisk(r[i], t[j], alpha, Mdisk, 100 * AU)\n",
      "        sigarray_new_1[i, j] = Sigmadisk(r[i], t[j], alpha, Mdisk, 100 * AU, gammadflag = 1)\n",
      "        \n",
      "        \n",
      "#for j in range(len(t)):\n",
      "#    temp = Sigmap_act(r[0], r[-1], nr, t[j], dt, 100., 0.01)\n",
      "#    for i in range(len(r)):\n",
      "#        sigparray[i, j] = temp[i]"
     ],
     "language": "python",
     "metadata": {},
     "outputs": [],
     "prompt_number": 5
    },
    {
     "cell_type": "code",
     "collapsed": false,
     "input": [
      "import time\n",
      "from IPython import display\n",
      "for i in range(nt):\n",
      "    plt.loglog(r, sigarray[:, i])\n",
      "    plt.loglog(r, sigarray_new[:, i])\n",
      "    plt.loglog(r, sigarray_new_1[:, i])\n",
      "    #plt.loglog(r[:-1], -array1[:, i, 2], '--b')\n",
      "    #plt.title('s=0.001 cm')\n",
      "    plt.xlabel('a [AU]')\n",
      "    plt.ylabel(r'$\\Sigma_{\\rm d}$ [g cm$^{-2}$]')\n",
      "    plt.ylim(ymin = 1, ymax = 5e4)\n",
      "    plt.xlim(xmax = 100)\n",
      "    display.clear_output(wait=True)\n",
      "    #plt.savefig('../figs/Sigma_disk_profiles/sigmad_vs_a_t_' + str(i) + '_.pdf')\n",
      "    plt.show()\n",
      "    display.display(plt.gcf())\n",
      "    time.sleep(0.00001)"
     ],
     "language": "python",
     "metadata": {},
     "outputs": [
      {
       "metadata": {},
       "output_type": "display_data",
       "png": "[encoded data removed]",
       "text": [
        "<matplotlib.figure.Figure at 0x10de1d8d0>"
       ]
      },
      {
       "metadata": {},
       "output_type": "display_data",
       "text": [
        "<matplotlib.figure.Figure at 0x10da18b90>"
       ]
      },
      {
       "metadata": {},
       "output_type": "display_data",
       "text": [
        "<matplotlib.figure.Figure at 0x10da18b90>"
       ]
      }
     ],
     "prompt_number": 68
    },
    {
     "cell_type": "code",
     "collapsed": false,
     "input": [
      "Td, Td_new, Td_new_noconst = [], [], []\n",
      "\n",
      "for i in range(len(r)):\n",
      "    Td = np.append(Td, Tdisk(r[i]))\n",
      "    Td_new = np.append(Td_new, Tdisk_new(r[i], Tstar, Rstar))\n",
      "    Td_new_noconst = np.append(Td_new_noconst, Tdisk_new(r[i], Tstar, Rstar, const = 0))"
     ],
     "language": "python",
     "metadata": {},
     "outputs": [],
     "prompt_number": 61
    },
    {
     "cell_type": "code",
     "collapsed": false,
     "input": [
      "plt.loglog(r, Td)\n",
      "plt.semilogx(r, Td_new)\n",
      "plt.semilogx(r, Td_new_noconst)\n",
      "#plt.xlim(xmax = 100)"
     ],
     "language": "python",
     "metadata": {},
     "outputs": [
      {
       "metadata": {},
       "output_type": "pyout",
       "prompt_number": 62,
       "text": [
        "[<matplotlib.lines.Line2D at 0x10d2229d0>]"
       ]
      },
      {
       "metadata": {},
       "output_type": "display_data",
       "png": "[encoded data removed]",
       "text": [
        "<matplotlib.figure.Figure at 0x10da12810>"
       ]
      }
     ],
     "prompt_number": 62
    },
    {
     "cell_type": "code",
     "collapsed": false,
     "input": [
      "v_Til = []\n",
      "\n",
      "for i in range(len(r)):\n",
      "    v_Til = np.append(v_Til, vacc_Til(r[i], alpha, Tstar, Rstar, Mstar = Msun, mu = 2.35))\n",
      "    \n",
      "v_old = np.ndarray(shape = (len(r), len(t)), dtype = float)\n",
      "v_new = np.ndarray(shape = (len(r), len(t)), dtype = float)\n",
      "\n",
      "for i in range(len(r)):\n",
      "    for j in range(len(t)):\n",
      "        v_old[i, j] = vacc_old(r[i], t[j], alpha)\n",
      "        v_new[i, j] = vacc_new(r[i], t[j], alpha, mu = 2.35, T0 = 120, betaT = 3./7, rc = 100 * AU, gammadflag = 0)"
     ],
     "language": "python",
     "metadata": {},
     "outputs": [],
     "prompt_number": 6
    },
    {
     "cell_type": "code",
     "collapsed": false,
     "input": [
      "import time\n",
      "from IPython import display\n",
      "for i in range(nt):\n",
      "    plt.semilogx(r, -v_Til)\n",
      "    plt.semilogx(r, -v_old[:, i])\n",
      "    plt.semilogx(r, v_old[:, i], '--g')\n",
      "    plt.semilogx(r, -v_new[:, i])\n",
      "    plt.semilogx(r, v_new[:, i], '--r')\n",
      "    #plt.loglog(r, sigarray_new_1[:, i])\n",
      "    #plt.loglog(r[:-1], -array1[:, i, 2], '--b')\n",
      "    #plt.title('s=0.001 cm')\n",
      "    plt.xlabel('a [AU]')\n",
      "    #plt.ylabel(r'$\\Sigma_{\\rm d}$ [g cm$^{-2}$]')\n",
      "    #plt.ylim(ymin = 1, ymax = 5e4)\n",
      "    plt.xlim(xmax = 100)\n",
      "    plt.ylim(0, 20)\n",
      "    display.clear_output(wait=True)\n",
      "    #plt.savefig('../figs/Sigma_disk_profiles/sigmad_vs_a_t_' + str(i) + '_.pdf')\n",
      "    plt.show()\n",
      "    display.display(plt.gcf())\n",
      "    time.sleep(0.00001)"
     ],
     "language": "python",
     "metadata": {},
     "outputs": [
      {
       "metadata": {},
       "output_type": "display_data",
       "png": "[encoded data removed]",
       "text": [
        "<matplotlib.figure.Figure at 0x10cba8290>"
       ]
      },
      {
       "metadata": {},
       "output_type": "display_data",
       "text": [
        "<matplotlib.figure.Figure at 0x10b4c9e50>"
       ]
      },
      {
       "metadata": {},
       "output_type": "display_data",
       "text": [
        "<matplotlib.figure.Figure at 0x10b4c9e50>"
       ]
      }
     ],
     "prompt_number": 7
    },
    {
     "cell_type": "code",
     "collapsed": false,
     "input": [
      "nt = 20\n",
      "nr = 50\n",
      "\n",
      "#Tstar = 4300.\n",
      "#Rstar = 2.5 * Rsun\n",
      "rc = 100 * AU\n",
      "Mdisk = 0.1 * Msun\n",
      "s = 1e4\n",
      "alpha = 1e-2\n",
      "\n",
      "r = logspace(np.log10(0.01),np.log10(4e4),nr)\n",
      "t = np.linspace(1e2,3e6,nt)*365*24*3600\n",
      "dt = t[1] - t[0]\n",
      "\n",
      "sigarray_new = np.ndarray(shape = (len(r), len(t)), dtype = float)\n",
      "\n",
      "for i in range(len(r)):\n",
      "    for j in range(len(t)):\n",
      "        sigarray_new[i, j] = Sigmadisk(r[i], t[j], alpha, Mdisk, rc, gammadflag = 0)\n",
      "\n",
      "\n",
      "#sigparray = Sigmap_2(r[0], r[-1], nr, t[0], t[-1], nt, s, alpha, Mdisk, Rstar, Tstar, rc, rhos = 1.6, mu= 2.3,  Mstar = Msun, sigma = 2 * 10**(-15), dusttogas = 0.01, gammadflag = 1)\n",
      "sigparray_new = Sigmap_new(r[0], r[-1], nr, t[0], t[-1], nt, s, alpha, Mdisk, rc, rhos = 1.6, mu = 2.3, gammadflag = 0)\n"
     ],
     "language": "python",
     "metadata": {},
     "outputs": [],
     "prompt_number": 34
    },
    {
     "cell_type": "code",
     "collapsed": false,
     "input": [
      "import time\n",
      "from IPython import display\n",
      "for i in range(nt):\n",
      "    #plt.loglog(r, sigarray[:, i])\n",
      "    plt.loglog(r, sigarray_new[:, i])\n",
      "    #plt.loglog(r, sigparray[:, i], label = 'Ana')\n",
      "    plt.loglog(r, sigparray_new[:,i], label = 'Ana new')\n",
      "    #plt.loglog(r[:-1], -array1[:, i, 2], '--b')\n",
      "    #plt.title('s=0.001 cm')\n",
      "    plt.xlabel('a [AU]')\n",
      "    plt.ylabel(r'$\\Sigma_{\\rm d}$ [g cm$^{-2}$]')\n",
      "    plt.title(str(t[i] / (365*24*3600)))\n",
      "    plt.ylim(2e-5, 2e5)\n",
      "    plt.xlim(0.1,100)\n",
      "    plt.legend()\n",
      "    display.clear_output(wait=True)\n",
      "    #plt.savefig('../figs/Sigma_disk_profiles_Ana_Til_parameters/' +str(s) +'/sigmad_vs_a_t_' + str(i) + '_.pdf')\n",
      "    plt.show()\n",
      "    display.display(plt.gcf())\n",
      "    time.sleep(0.00001)"
     ],
     "language": "python",
     "metadata": {},
     "outputs": [
      {
       "metadata": {},
       "output_type": "display_data",
       "png": "[encoded data removed]",
       "text": [
        "<matplotlib.figure.Figure at 0x10cb92590>"
       ]
      },
      {
       "metadata": {},
       "output_type": "display_data",
       "text": [
        "<matplotlib.figure.Figure at 0x10dc00490>"
       ]
      },
      {
       "metadata": {},
       "output_type": "display_data",
       "text": [
        "<matplotlib.figure.Figure at 0x10dc00490>"
       ]
      }
     ],
     "prompt_number": 35
    },
    {
     "cell_type": "code",
     "collapsed": false,
     "input": [
      "f=open('advection_from_Til/data_' + str(s)+ '/sigma_d.dat', 'r')\n",
      "\n",
      "sigparray_Til = np.ndarray(shape = (nt, nr), dtype = float)\n",
      "\n",
      "for j in range(nt):\n",
      "    line = f.readline().split()\n",
      "    for i in range(nr):\n",
      "        sigparray_Til[j ,i] = float(line[i])\n",
      "        \n",
      "f.close()"
     ],
     "language": "python",
     "metadata": {},
     "outputs": [],
     "prompt_number": 51
    },
    {
     "cell_type": "code",
     "collapsed": false,
     "input": [
      "import time\n",
      "from IPython import display\n",
      "for i in range(nt):\n",
      "    #plt.loglog(r, sigarray[:, i])\n",
      "    plt.loglog(r, sigparray[:, i], label = 'Ana')\n",
      "    plt.loglog(r, sigparray_Til[i], label = 'Til')\n",
      "    #plt.loglog(r[:-1], -array1[:, i, 2], '--b')\n",
      "    #plt.title('s=0.001 cm')\n",
      "    plt.xlabel('a [AU]')\n",
      "    plt.ylabel(r'$\\Sigma_{\\rm d}$ [g cm$^{-2}$]')\n",
      "    plt.title(str(t[i] / (365*24*3600)))\n",
      "    plt.ylim(2e-8, 2e5)\n",
      "    plt.xlim(0.5,500)\n",
      "    plt.legend()\n",
      "    display.clear_output(wait=True)\n",
      "    plt.savefig('../figs/Sigma_disk_profiles_Ana_Til_parameters/' +str(s) +'/sigmad_vs_a_t_' + str(i) + '_.pdf')\n",
      "    plt.show()\n",
      "    display.display(plt.gcf())\n",
      "    time.sleep(0.00001)"
     ],
     "language": "python",
     "metadata": {},
     "outputs": [
      {
       "metadata": {},
       "output_type": "display_data",
       "png": "[encoded data removed]",
       "text": [
        "<matplotlib.figure.Figure at 0x10cbadd50>"
       ]
      },
      {
       "metadata": {},
       "output_type": "display_data",
       "text": [
        "<matplotlib.figure.Figure at 0x10cba68d0>"
       ]
      },
      {
       "metadata": {},
       "output_type": "display_data",
       "text": [
        "<matplotlib.figure.Figure at 0x10cba68d0>"
       ]
      }
     ],
     "prompt_number": 52
    },
    {
     "cell_type": "code",
     "collapsed": false,
     "input": [
      "sigparray_new[:,-1]/sigarray_new[:,-1]"
     ],
     "language": "python",
     "metadata": {},
     "outputs": [
      {
       "metadata": {},
       "output_type": "pyout",
       "prompt_number": 26,
       "text": [
        "array([ 0.03015525,  0.03015526,  0.0301548 ,  0.0301538 ,  0.03015214,\n",
        "        0.0301497 ,  0.03014629,  0.0301417 ,  0.03013567,  0.03012786,\n",
        "        0.03011785,  0.03010511,  0.03008899,  0.03006868,  0.03004316,\n",
        "        0.03001117,  0.02997115,  0.02992115,  0.02985877,  0.02978105,\n",
        "        0.02968431,  0.02956404,  0.02941473,  0.02922964,  0.02900058,\n",
        "        0.02871781,  0.0283697 ,  0.02794262,  0.02742099,  0.02678764,\n",
        "        0.0260246 ,  0.02511478,  0.02404452,  0.02280695,  0.02140549,\n",
        "        0.01985635,  0.01818979,  0.01645065,  0.0146989 ,  0.01301026,\n",
        "        0.01147518,  0.01019366,  0.00926353,  0.00876375,  0.008738  ,\n",
        "        0.00919006,  0.0101198 ,  0.0116198 ,  0.01399678,  0.01794358])"
       ]
      }
     ],
     "prompt_number": 26
    },
    {
     "cell_type": "code",
     "collapsed": false,
     "input": [
      "sigarray_new[0]"
     ],
     "language": "python",
     "metadata": {},
     "outputs": [
      {
       "metadata": {},
       "output_type": "pyout",
       "prompt_number": 25,
       "text": [
        "array([ 77925.78792223,  74751.57162982,  71785.18784442,  69008.14549532,\n",
        "        66404.01180929,  63958.13941262,  61657.43514841,  59490.16342529,\n",
        "        57445.77828376,  55514.7794508 ,  53688.5885166 ,  51959.44205837,\n",
        "        50320.29909176,  48764.76068014,  47286.99989638,  45881.70062999,\n",
        "        44544.00397598,  43269.46114257,  42053.99198058,  40893.84837468])"
       ]
      }
     ],
     "prompt_number": 25
    },
    {
     "cell_type": "code",
     "collapsed": false,
     "input": [],
     "language": "python",
     "metadata": {},
     "outputs": []
    }
   ],
   "metadata": {}
  }
 ]
}