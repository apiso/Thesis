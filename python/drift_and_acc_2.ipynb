{
 "metadata": {
  "name": "",
  "signature": "sha256:de293ee79f52e45375727bff353a5800a19424299c706c254e44487c5b7d8dba"
 },
 "nbformat": 3,
 "nbformat_minor": 0,
 "worksheets": [
  {
   "cells": [
    {
     "cell_type": "code",
     "collapsed": false,
     "input": [
      "import numpy as np\n",
      "from matplotlib import pyplot as plt\n",
      "import C_to_O as CO\n",
      "from T_freeze import T_freeze, Rdes, tevap\n",
      "from C_to_O import T_freeze_H20, T_freeze_CO2, T_freeze_CO\n",
      "\n",
      "\n",
      "import matplotlib.cm as cm\n",
      "\n",
      "from drift_timescales import tr, Tdisk, ts, lambdamfp, cdisk, tdes, rf, r_freeze, \\\n",
      "        read_drag_file, read_drag_file_many, r_stop, Mdot_solids, Mdot_gas, dMgas_dt, dMsol_dt, rdot\n",
      "from drift_timescales_varying_sigma import dMdot, Mgas_dt, Msol_dt, Sigmadisk_act, vacc_act, rdot_gas\n",
      "from drift_timescales_varying_sigma_3 import dMdot as dMdott, Mdot_solids as Mdot_solids_t, dMgas_dt as dMgas_dt_t, \\\n",
      "        dMsol_dt as dMsol_dt_t, Sigmap_act\n",
      "from drift_timescales_Til_parameters import Sigmap_act as Sigmap_2, Sigmadisk\n",
      "\n",
      "    \n",
      "from scipy.optimize import brentq\n",
      "from utils.constants import cmperau, AU, Rsun, Msun\n",
      "from matplotlib import animation\n",
      "from IPython.display import HTML\n",
      "from IPython import display\n",
      "import JSAnimation\n",
      "from JSAnimation.JSAnimation import IPython_display"
     ],
     "language": "python",
     "metadata": {},
     "outputs": [],
     "prompt_number": 1
    },
    {
     "cell_type": "code",
     "collapsed": false,
     "input": [
      "nt = 20\n",
      "nr = 100 \n",
      "\n",
      "r = np.logspace(-1, 4, nr)\n",
      "t = np.linspace(3e7*4, 3e6 * 365 * 24 * 3600, nt)\n",
      "dt = t[1] - t[0]\n",
      "\n",
      "sigarray = np.ndarray(shape = (len(r), len(t)), dtype = float)\n",
      "sigparray = np.ndarray(shape = (len(r), len(t)), dtype = float)\n",
      "\n",
      "for i in range(len(r)):\n",
      "    for j in range(len(t)):\n",
      "        sigarray[i, j] = Sigmadisk_act(r[i], t[j], 0.01)\n",
      "        #sigparray[i, j] = Sigmap_act(r[0], r[-1], 500, t[j], dt, 1.0, 0.01)[j]\n",
      "        \n",
      "        \n",
      "for j in range(len(t)):\n",
      "    temp = Sigmap_act(r[0], r[-1], nr, t[j], dt, 100., 0.01)\n",
      "    for i in range(len(r)):\n",
      "        sigparray[i, j] = temp[i]"
     ],
     "language": "python",
     "metadata": {},
     "outputs": [],
     "prompt_number": 16
    },
    {
     "cell_type": "code",
     "collapsed": false,
     "input": [
      "import time\n",
      "from IPython import display\n",
      "for i in range(nt):\n",
      "    plt.loglog(r, sigarray[:, i])\n",
      "    plt.loglog(r, sigparray[:, i])\n",
      "    #plt.loglog(r[:-1], -array1[:, i, 2], '--b')\n",
      "    #plt.title('s=0.001 cm')\n",
      "    plt.xlabel('a [AU]')\n",
      "    plt.ylabel(r'$\\Sigma_{\\rm d}$ [g cm$^{-2}$]')\n",
      "    plt.ylim(ymin = 1e-5, ymax = 1e5)\n",
      "    plt.xlim(xmax = 100)\n",
      "    display.clear_output(wait=True)\n",
      "    plt.show()\n",
      "    display.display(plt.gcf())\n",
      "    time.sleep(0.00001)"
     ],
     "language": "python",
     "metadata": {},
     "outputs": [
      {
       "metadata": {},
       "output_type": "display_data",
       "png": "[encoded data removed]",
       "text": [
        "<matplotlib.figure.Figure at 0x10cc98910>"
       ]
      },
      {
       "metadata": {},
       "output_type": "display_data",
       "text": [
        "<matplotlib.figure.Figure at 0x10cbc6810>"
       ]
      },
      {
       "metadata": {},
       "output_type": "display_data",
       "text": [
        "<matplotlib.figure.Figure at 0x10cbc6810>"
       ]
      }
     ],
     "prompt_number": 19
    },
    {
     "cell_type": "code",
     "collapsed": false,
     "input": [
      "nt = 20\n",
      "nr = 50\n",
      "\n",
      "Tstar = 4300.\n",
      "Rstar = 2.5 * Rsun\n",
      "rc = 60 * AU\n",
      "Mdisk = 0.1 * Msun\n",
      "s = 1e5\n",
      "alpha = 1e-3\n",
      "\n",
      "r = logspace(np.log10(0.05),np.log10(4e3),nr)\n",
      "t = np.linspace(1e4,3e6,nt)*365*24*3600\n",
      "dt = t[1] - t[0]\n",
      "\n",
      "\n",
      "sigparray = Sigmap_2(r[0], r[-1], nr, t[0], t[-1], nt, s, alpha, Mdisk, Rstar, Tstar, rc, rhos = 1.6, mu= 2.3,  Mstar = Msun, sigma = 2 * 10**(-15), dusttogas = 0.01)\n",
      "\n"
     ],
     "language": "python",
     "metadata": {},
     "outputs": [],
     "prompt_number": 25
    },
    {
     "cell_type": "code",
     "collapsed": false,
     "input": [
      "import time\n",
      "from IPython import display\n",
      "for i in range(nt + 1):\n",
      "    #plt.loglog(r, sigarray[:, i])\n",
      "    plt.loglog(r, sigparray[:, i])\n",
      "    #plt.loglog(r[:-1], -array1[:, i, 2], '--b')\n",
      "    #plt.title('s=0.001 cm')\n",
      "    plt.xlabel('a [AU]')\n",
      "    plt.ylabel(r'$\\Sigma_{\\rm d}$ [g cm$^{-2}$]')\n",
      "    plt.ylim(2e-5, 2e5)\n",
      "    plt.xlim(0.5,500)\n",
      "    display.clear_output(wait=True)\n",
      "    plt.show()\n",
      "    display.display(plt.gcf())\n",
      "    time.sleep(0.00001)"
     ],
     "language": "python",
     "metadata": {},
     "outputs": [
      {
       "metadata": {},
       "output_type": "display_data",
       "png": "[encoded data removed]",
       "text": [
        "<matplotlib.figure.Figure at 0x10d3a4a90>"
       ]
      },
      {
       "metadata": {},
       "output_type": "display_data",
       "text": [
        "<matplotlib.figure.Figure at 0x10d3bc410>"
       ]
      },
      {
       "metadata": {},
       "output_type": "display_data",
       "text": [
        "<matplotlib.figure.Figure at 0x10d3bc410>"
       ]
      }
     ],
     "prompt_number": 26
    },
    {
     "cell_type": "code",
     "collapsed": false,
     "input": [
      "sigparray[:,0]"
     ],
     "language": "python",
     "metadata": {},
     "outputs": [
      {
       "metadata": {},
       "output_type": "pyout",
       "prompt_number": 16,
       "text": [
        "array([  4.71132065e+02,   4.20312963e+02,   3.74970952e+02,\n",
        "         3.34515732e+02,   2.98420625e+02,   2.66215715e+02,\n",
        "         2.37481733e+02,   2.11844596e+02,   1.88970539e+02,\n",
        "         1.68561770e+02,   1.50352590e+02,   1.34105937e+02,\n",
        "         1.19610300e+02,   1.06676963e+02,   9.51375479e+01,\n",
        "         8.48418263e+01,   7.56557599e+01,   6.74597572e+01,\n",
        "         6.01471157e+01,   5.36226336e+01,   4.78013699e+01,\n",
        "         4.26075386e+01,   3.79735222e+01,   3.38389911e+01,\n",
        "         3.01501188e+01,   2.68588803e+01,   2.39224275e+01,\n",
        "         2.13025312e+01,   1.89650833e+01,   1.68796527e+01,\n",
        "         1.50190895e+01,   1.33591708e+01,   1.18782862e+01,\n",
        "         1.05571557e+01,   9.37857924e+00,   8.32721222e+00,\n",
        "         7.38936610e+00,   6.55282998e+00,   5.80671154e+00,\n",
        "         5.14129524e+00,   4.54791565e+00,   4.01884460e+00,\n",
        "         3.54719035e+00,   3.12680775e+00,   2.75221799e+00,\n",
        "         2.41853697e+00,   2.12141146e+00,   1.85696196e+00,\n",
        "         1.62173175e+00,   1.41264131e+00,   1.22694752e+00,\n",
        "         1.06220714e+00,   9.16244042e-01,   7.87119774e-01,\n",
        "         6.73107002e-01,   5.72665574e-01,   4.84420818e-01,\n",
        "         4.07143835e-01,   3.39733557e-01,   2.81200391e-01,\n",
        "         2.30651306e-01,   1.87276296e-01,   1.50336184e-01,\n",
        "         1.19151791e-01,   9.30945647e-02,   7.15787709e-02,\n",
        "         5.40554033e-02,   4.00079356e-02,   2.89500044e-02,\n",
        "         2.04250085e-02,   1.40074661e-02,   9.30578235e-03,\n",
        "         5.96588285e-03,   3.67499028e-03,   2.16472477e-03,\n",
        "         1.21273677e-03,   6.42268382e-04,   3.19376977e-04,\n",
        "         1.47986613e-04,   6.33531847e-05,   2.48193043e-05,\n",
        "         8.80303203e-06,   2.79306307e-06,   7.82148488e-07,\n",
        "         1.90417021e-07,   3.96266226e-08,   6.91675974e-09,\n",
        "         9.91352430e-10,   1.13926393e-10,   1.02212439e-11,\n",
        "         6.94830375e-13,   3.46093278e-14,   1.21655630e-15,\n",
        "         2.89341389e-17,   4.44154496e-19,   4.17381285e-21,\n",
        "         2.26288725e-23,   6.62322841e-26,   9.71435170e-29,\n",
        "         6.56824174e-32])"
       ]
      }
     ],
     "prompt_number": 16
    },
    {
     "cell_type": "code",
     "collapsed": false,
     "input": [],
     "language": "python",
     "metadata": {},
     "outputs": []
    }
   ],
   "metadata": {}
  }
 ]
}