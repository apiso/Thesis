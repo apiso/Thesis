{
 "metadata": {
  "name": "",
  "signature": "sha256:8ef4c2abda0e776fa8341ea960d04760d714495af202ba22a990306172aa2116"
 },
 "nbformat": 3,
 "nbformat_minor": 0,
 "worksheets": [
  {
   "cells": [
    {
     "cell_type": "code",
     "collapsed": false,
     "input": [
      "import numpy as np\n",
      "from matplotlib import pyplot as plt\n",
      "from drift_timescales import r_freeze, Tdisk\n",
      "import C_to_O_CH4 as CO\n",
      "import C_to_O_CH4_COCO as COCO\n",
      "import N_to_O as NO\n",
      "import N_to_O_N2N2 as NON2"
     ],
     "language": "python",
     "metadata": {},
     "outputs": [],
     "prompt_number": 3
    },
    {
     "cell_type": "code",
     "collapsed": false,
     "input": [
      "a = np.logspace(-1, 2, 5000)\n",
      "\n",
      "rH2O = r_freeze(18, 5800, 1e6)\n",
      "rCO2 = r_freeze(44, 2000, 3e5)\n",
      "rNH3 = r_freeze(17., 2965., 5.5e4)\n",
      "rCO = r_freeze(28, 1388, 1e6)\n",
      "rCOpure = r_freeze(28, 834, 1e6)\n",
      "rN2 = r_freeze(28., 1266., 0.8e6/2)\n",
      "rN2pure = r_freeze(28., 767., 0.8e6/2)\n",
      "rCH4 = r_freeze(16., 1300., 0.0555*1e6)"
     ],
     "language": "python",
     "metadata": {},
     "outputs": [],
     "prompt_number": 4
    },
    {
     "cell_type": "code",
     "collapsed": false,
     "input": [
      "rcParams['mathtext.fontset'] = 'custom'\n",
      "rcParams['font.family'] = 'sans-serif'\n",
      "rcParams['mathtext.rm'] = 'Bitstream Vera Sans'\n",
      "rcParams['mathtext.it'] = 'Bitstream Vera Sans:italic'\n",
      "rcParams['mathtext.bf'] = 'Bitstream Vera Sans:bold'"
     ],
     "language": "python",
     "metadata": {},
     "outputs": [],
     "prompt_number": 5
    },
    {
     "cell_type": "code",
     "collapsed": false,
     "input": [
      "T = Tdisk(a)\n",
      "\n",
      "n_C_water, n_O_water, n_N_water = [], [], []\n",
      "\n",
      "for i in range(len(a)):\n",
      "    n_C_water = np.append(n_C_water, CO.n(T[i], 'C', CH4mid=1, CH4max = 0)[1])\n",
      "    n_O_water = np.append(n_O_water, CO.n(T[i], 'O', CH4mid=1, CH4max = 0)[1])\n",
      "    n_N_water = np.append(n_N_water, NO.n(T[i], 'N', NH3mid=1, NH3max = 0)[1])\n",
      "    \n",
      "n_C_CO, n_O_CO, n_N_N2 = [], [], []\n",
      "\n",
      "for i in range(len(a)):\n",
      "    n_C_CO = np.append(n_C_CO, COCO.n(T[i], 'C', CH4mid=1, CH4max = 0)[1])\n",
      "    n_O_CO = np.append(n_O_CO, COCO.n(T[i], 'O', CH4mid=1, CH4max = 0)[1])\n",
      "    n_N_N2 = np.append(n_N_N2, NON2.n(T[i], 'N', NH3mid=1, NH3max = 0)[1])"
     ],
     "language": "python",
     "metadata": {},
     "outputs": [],
     "prompt_number": 32
    },
    {
     "cell_type": "code",
     "collapsed": false,
     "input": [
      "plt.figure(figsize = (12/1.4, 0.6*9/1.4))\n",
      "\n",
      "plt.semilogx(a,n_C_water + n_N_water + n_O_water, c = 'black', lw = 3, label = 'on H$_2$O ice grains')\n",
      "plt.semilogx(a,n_C_CO + n_N_N2 + n_O_CO, c = 'r', ls = '--', lw = 3, label = 'pure ice grains')\n",
      "\n",
      "plt.axvline(x = rH2O, ls = ':', c = [1, 0, 67./255], lw = 3)\n",
      "plt.axvline(x = rCO2, ls = ':',  c = [1, 0, 67./255], lw = 3)\n",
      "plt.axvline(x = rNH3, ls = ':',  c = [1, 0, 67./255], lw = 3)\n",
      "plt.axvline(x = rCH4, ls = ':', c = [1, 0, 67./255], lw = 3)\n",
      "plt.axvline(x = rCO, ls = ':', c = [89./255, 89./255, 89./255], lw = 3)\n",
      "plt.axvline(x = rCOpure, ls = ':', c = [1, 0, 67./255], lw = 3)\n",
      "plt.axvline(x = rN2, ls = ':', c = [89./255, 89./255, 89./255], lw = 3)\n",
      "plt.axvline(x = rN2pure, ls = ':', c = [1, 0, 67./255], lw = 3)\n",
      "\n",
      "plt.text(0.54, 1.65, r'$r_{\\rm H_2O}$', rotation ='vertical', fontsize = 13)\n",
      "plt.text(3, 1.7, r'$r_{\\rm NH_3}$', rotation ='vertical', fontsize = 13)\n",
      "plt.text(7, 1.7, r'$r_{\\rm CO_2}$', rotation ='vertical', fontsize = 13)\n",
      "plt.text(15.5, 2, r'$r_{\\rm CO(m)}$', rotation ='vertical', fontsize = 13)\n",
      "plt.text(19.95, 2, r'$r_{\\rm N_2(m)}$', rotation ='vertical', fontsize = 13)\n",
      "plt.text(27, 1.7, r'$r_{\\rm CH_4}$', rotation ='vertical', fontsize = 13)\n",
      "plt.text(50, 2, r'$r_{\\rm CO(p)}$', rotation ='vertical', fontsize = 13)\n",
      "plt.text(63.5, 2, r'$r_{\\rm N_2(p)}$', rotation ='vertical', fontsize = 13)\n",
      "\n",
      "plt.legend(loc = 2, frameon = False, borderpad = 0)\n",
      "\n",
      "plt.xlabel(r'$r$ [AU]', fontsize = 15)\n",
      "plt.ylabel(r'$(n_{\\rm C}+n_{\\rm N}+n_{\\rm O})$ $/$ $(10^{-4} \\times n_{\\rm H})$', fontsize = 15)\n",
      "\n",
      "plt.tight_layout()\n",
      "\n",
      "plt.savefig('../figs/CNO_and_snowlines.pdf')"
     ],
     "language": "python",
     "metadata": {},
     "outputs": [
      {
       "metadata": {},
       "output_type": "display_data",
       "png": "[encoded data removed]",
       "text": [
        "<matplotlib.figure.Figure at 0x10e912b90>"
       ]
      }
     ],
     "prompt_number": 33
    },
    {
     "cell_type": "code",
     "collapsed": false,
     "input": [
      "(rCOpure-rCO)/rCOpure"
     ],
     "language": "python",
     "metadata": {},
     "outputs": [
      {
       "metadata": {},
       "output_type": "pyout",
       "prompt_number": 7,
       "text": [
        "0.6952082970824358"
       ]
      }
     ],
     "prompt_number": 7
    },
    {
     "cell_type": "code",
     "collapsed": false,
     "input": [
      "(rN2pure-rN2)/rN2pure"
     ],
     "language": "python",
     "metadata": {},
     "outputs": [
      {
       "metadata": {},
       "output_type": "pyout",
       "prompt_number": 8,
       "text": [
        "0.6894173418208263"
       ]
      }
     ],
     "prompt_number": 8
    },
    {
     "cell_type": "code",
     "collapsed": false,
     "input": [
      "rN2pure"
     ],
     "language": "python",
     "metadata": {},
     "outputs": [
      {
       "metadata": {},
       "output_type": "pyout",
       "prompt_number": 13,
       "text": [
        "78.97224192322153"
       ]
      }
     ],
     "prompt_number": 13
    },
    {
     "cell_type": "code",
     "collapsed": false,
     "input": [],
     "language": "python",
     "metadata": {},
     "outputs": []
    }
   ],
   "metadata": {}
  }
 ]
}