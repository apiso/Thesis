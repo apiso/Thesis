{
 "metadata": {
  "name": "CO_plots"
 },
 "nbformat": 3,
 "nbformat_minor": 0,
 "worksheets": [
  {
   "cells": [
    {
     "cell_type": "code",
     "collapsed": false,
     "input": [
      "import numpy as np\n",
      "from matplotlib import pyplot as plt\n",
      "import C_to_O as CO\n",
      "from T_freeze import T_freeze, Rdes, tevap\n",
      "from C_to_O import T_freeze_H20, T_freeze_CO2, T_freeze_CO\n",
      "import matplotlib.cm as cm\n",
      "\n",
      "from drift_timescales import tr, Tdisk, ts, lambdamfp, cdisk, tdes, rf, r_freeze, t_gas_acc\n",
      "from scipy.optimize import brentq\n",
      "from utils.constants import cmperau"
     ],
     "language": "python",
     "metadata": {},
     "outputs": [],
     "prompt_number": 1
    },
    {
     "cell_type": "code",
     "collapsed": false,
     "input": [
      "a = np.logspace(0, 2, 500)\n",
      "\n",
      "arraygas, arraysolid  = [], []\n",
      "for i in range(len(a)):\n",
      "    arraygas = np.append(arraygas, CO.C_O_ratio(a[i])[0])\n",
      "    arraysolid = np.append(arraysolid, CO.C_O_ratio(a[i])[1])"
     ],
     "language": "python",
     "metadata": {},
     "outputs": [
      {
       "output_type": "stream",
       "stream": "stderr",
       "text": [
        "C_to_O.py:119: RuntimeWarning: invalid value encountered in divide\n",
        "  return n(T, 'C') / n(T, 'O')\n"
       ]
      }
     ],
     "prompt_number": 3
    },
    {
     "cell_type": "code",
     "collapsed": false,
     "input": [
      "plt.semilogx(a, arraygas)\n",
      "plt.semilogx(a, arraysolid, '--b')\n",
      "plt.semilogx(a, ones(len(a))*0.54, ls = ':', lw = 2, color = 'black')\n",
      "plt.ylim(0, 1.2)\n",
      "plt.xlabel('a [AU]')\n",
      "plt.ylabel('C/O ratio')\n",
      "plt.savefig('C_O_ratio.pdf')"
     ],
     "language": "python",
     "metadata": {},
     "outputs": [
      {
       "output_type": "display_data",
       "png": "[encoded data removed]"
      }
     ],
     "prompt_number": 9
    },
    {
     "cell_type": "code",
     "collapsed": false,
     "input": [
      "def Tdiff_H2O(r):\n",
      "    return Tdisk(r) - T_freeze_H20\n",
      "\n",
      "def Tdiff_CO2(r):\n",
      "    return Tdisk(r) - T_freeze_CO2\n",
      "\n",
      "def Tdiff_CO(r):\n",
      "    return Tdisk(r) - T_freeze_CO\n",
      "\n",
      "\n",
      "\n",
      "rH2O = r_freeze(18., 5800., 1e6)\n",
      "rCO2 = r_freeze(44., 2000, 3e5)\n",
      "rCO = r_freeze(28., 850, 1e6)"
     ],
     "language": "python",
     "metadata": {},
     "outputs": [],
     "prompt_number": 3
    },
    {
     "cell_type": "code",
     "collapsed": false,
     "input": [
      "s = np.logspace(-5, 5, 100)\n",
      "\n",
      "tr_H2O, tr_CO2, tr_CO, teps_H2O, teps_CO2, teps_CO, tst_H2O, tst_CO2, tst_CO = [], [], [], [], [], [], [], [], []\n",
      "for i in range(len(s)):\n",
      "    tr_H2O = append(tr_H2O, tr(rH2O, s[i], rhos = 2.0, betaS = 1))\n",
      "    tr_CO2 = append(tr_CO2, tr(rCO2, s[i], rhos = 2.0, betaS = 1))\n",
      "    tr_CO = append(tr_CO, tr(rCO, s[i], rhos = 2.0, betaS = 1))\n",
      "    \n",
      "    teps_H2O = append(teps_H2O, tr(rH2O, s[i], rhos = 2.0, betaS = 1, eps = 1))\n",
      "    teps_CO2 = append(teps_CO2, tr(rCO2, s[i], rhos = 2.0, betaS = 1, eps = 1))\n",
      "    teps_CO = append(teps_CO, tr(rCO, s[i], rhos = 2.0, betaS = 1, eps = 1))\n",
      "    \n",
      "    tst_H2O = append(tst_H2O, tr(rH2O, s[i], rhos = 2.0, betaS = 1, eps = -1))\n",
      "    tst_CO2 = append(tst_CO2, tr(rCO2, s[i], rhos = 2.0, betaS = 1, eps = -1))\n",
      "    tst_CO = append(tst_CO, tr(rCO, s[i], rhos = 2.0, betaS = 1, eps = -1))\n",
      "    "
     ],
     "language": "python",
     "metadata": {},
     "outputs": [],
     "prompt_number": 4
    },
    {
     "cell_type": "code",
     "collapsed": false,
     "input": [
      "tevap_H2O = tdes(18., 5800., T_freeze_H20, s, rhos = 2.) #tevap(18., 5800., T_freeze_H20)\n",
      "tevap_CO2 =  tdes(44., 2000., T_freeze_CO2, s, rhos = 2.)\n",
      "tevap_CO =  tdes(28., 850., T_freeze_CO, s, rhos = 2.)"
     ],
     "language": "python",
     "metadata": {},
     "outputs": [],
     "prompt_number": 5
    },
    {
     "cell_type": "code",
     "collapsed": false,
     "input": [
      "t_acc_H2O = t_gas_acc(rH2O, 0.01, betaS = 1.)\n",
      "t_acc_CO2 = t_gas_acc(rCO2, 0.01, betaS = 1.)\n",
      "t_acc_CO = t_gas_acc(rCO, 0.01, betaS = 1.)"
     ],
     "language": "python",
     "metadata": {},
     "outputs": [],
     "prompt_number": 6
    },
    {
     "cell_type": "code",
     "collapsed": false,
     "input": [
      "p1, = plt.loglog(s, tr_H2O / (365 * 24 * 3600), label = r'$\\rm H_2 \\rm O$ snowline')\n",
      "p2, = plt.loglog(s, tr_CO2 / (365 * 24 * 3600), label = r'$\\rm CO_2$ snowline')\n",
      "p3, = plt.loglog(s, tr_CO / (365 * 24 * 3600), label = r'$\\rm CO$ snowline')\n",
      "p4, = plt.loglog(s, tevap_H2O * ones(len(s)) / (365 * 24 * 3600), '--b')\n",
      "\n",
      "#plt.loglog(s, teps_H2O / (365 * 24 * 3600), ':b')\n",
      "#plt.loglog(s, teps_CO2 / (365 * 24 * 3600), ':g')\n",
      "#plt.loglog(s, teps_CO / (365 * 24 * 3600), ':r')\n",
      "\n",
      "#plt.loglog(s, tst_H2O / (365 * 24 * 3600), ':b')\n",
      "#plt.loglog(s, tst_CO2 / (365 * 24 * 3600), ':g')\n",
      "#plt.loglog(s, tst_CO / (365 * 24 * 3600), ':r')\n",
      "\n",
      "plt.loglog(s, tevap_CO2 * ones(len(s)) / (365 * 24 * 3600), '--g')\n",
      "plt.loglog(s, tevap_CO * ones(len(s)) / (365 * 24 * 3600), '--r')\n",
      "\n",
      "p5, = plt.loglog(s, t_acc_H2O * ones(len(s)) / (365 * 24 * 3600), ':', lw = 2, c = 'b')\n",
      "plt.loglog(s, t_acc_CO2 * ones(len(s)) / (365 * 24 * 3600), ':', lw = 2, c = 'g')\n",
      "plt.loglog(s, t_acc_CO * ones(len(s)) / (365 * 24 * 3600), ':', lw = 2, c = 'r')\n",
      "\n",
      "l1 = legend([p1, p4, p5], [r'$t_{\\rm{r, drift}}$', r'$t_{\\rm evap}$', r'$t_{\\rm gas,acc}$'], frameon = False, loc = 4)\n",
      "plt.legend(loc = 9, frameon = False)\n",
      "gca().add_artist(l1)\n",
      "plt.xlabel('s [cm]')\n",
      "plt.ylabel(r'$t$ [yr]')\n",
      "plt.loglog(s, ones(len(s)) * 3e6, '--', color = 'black')\n",
      "\n",
      "plt.savefig('drift_timescales_betaS1_gas_acc.pdf')"
     ],
     "language": "python",
     "metadata": {},
     "outputs": [
      {
       "output_type": "display_data",
       "png": "[encoded data removed]"
      }
     ],
     "prompt_number": 16
    },
    {
     "cell_type": "code",
     "collapsed": false,
     "input": [
      "p1, = plt.loglog(s, tr_H2O / (365 * 24 * 3600), label = r'$\\rm H_2 \\rm O$ snowline')\n",
      "#p2, = plt.loglog(s, tr_CO2 / (365 * 24 * 3600), label = r'$\\rm CO_2$ snowline')\n",
      "#p3, = plt.loglog(s, tr_CO / (365 * 24 * 3600), label = r'$\\rm CO$ snowline')\n",
      "#p4, = plt.loglog(s, tevap_H2O * ones(len(s)) / (365 * 24 * 3600), '--b')\n",
      "\n",
      "p2, = plt.loglog(s, teps_H2O / (365 * 24 * 3600), '--g')\n",
      "#plt.loglog(s, teps_CO2 / (365 * 24 * 3600), ':g')\n",
      "#plt.loglog(s, teps_CO / (365 * 24 * 3600), ':r')\n",
      "\n",
      "p3, = plt.loglog(s, tst_H2O / (365 * 24 * 3600), '--r')\n",
      "#plt.loglog(s, tst_CO2 / (365 * 24 * 3600), ':g')\n",
      "#plt.loglog(s, tst_CO / (365 * 24 * 3600), ':r')\n",
      "\n",
      "#plt.loglog(s, tevap_CO2 * ones(len(s)) / (365 * 24 * 3600), '--g')\n",
      "#plt.loglog(s, tevap_CO * ones(len(s)) / (365 * 24 * 3600), '--r')\n",
      "l1 = legend([p2, p3], [r'Epstein', r'Stokes'], frameon = False, loc = 3)\n",
      "plt.legend(loc = 9, frameon = False)\n",
      "gca().add_artist(l1)\n",
      "plt.xlabel('s [cm]')\n",
      "plt.ylabel(r'$t$ [yr]')\n",
      "plt.loglog(s, ones(len(s)) * 3e6, '--', color = 'black')\n",
      "\n",
      "plt.savefig('drift_timescales_betaS1_H2O_eps.pdf')"
     ],
     "language": "python",
     "metadata": {},
     "outputs": [
      {
       "output_type": "display_data",
       "png": "[encoded data removed]"
      }
     ],
     "prompt_number": 22
    },
    {
     "cell_type": "code",
     "collapsed": false,
     "input": [
      "p1, = plt.loglog(s, tr_CO2 / (365 * 24 * 3600), label = r'$\\rm C O_2$ snowline')\n",
      "#p2, = plt.loglog(s, tr_CO2 / (365 * 24 * 3600), label = r'$\\rm CO_2$ snowline')\n",
      "#p3, = plt.loglog(s, tr_CO / (365 * 24 * 3600), label = r'$\\rm CO$ snowline')\n",
      "#p4, = plt.loglog(s, tevap_H2O * ones(len(s)) / (365 * 24 * 3600), '--b')\n",
      "\n",
      "p2, = plt.loglog(s, teps_CO2 / (365 * 24 * 3600), '--g')\n",
      "#plt.loglog(s, teps_CO2 / (365 * 24 * 3600), ':g')\n",
      "#plt.loglog(s, teps_CO / (365 * 24 * 3600), ':r')\n",
      "\n",
      "p3, = plt.loglog(s, tst_CO2 / (365 * 24 * 3600), '--r')\n",
      "#plt.loglog(s, tst_CO2 / (365 * 24 * 3600), ':g')\n",
      "#plt.loglog(s, tst_CO / (365 * 24 * 3600), ':r')\n",
      "\n",
      "#plt.loglog(s, tevap_CO2 * ones(len(s)) / (365 * 24 * 3600), '--g')\n",
      "#plt.loglog(s, tevap_CO * ones(len(s)) / (365 * 24 * 3600), '--r')\n",
      "l1 = legend([p2, p3], [r'Epstein', r'Stokes'], frameon = False, loc = 3)\n",
      "plt.legend(loc = 9, frameon = False)\n",
      "gca().add_artist(l1)\n",
      "plt.xlabel('s [cm]')\n",
      "plt.ylabel(r'$t$ [yr]')\n",
      "plt.loglog(s, ones(len(s)) * 3e6, '--', color = 'black')\n",
      "\n",
      "plt.savefig('drift_timescales_betaS1_CO2_eps.pdf')"
     ],
     "language": "python",
     "metadata": {},
     "outputs": [
      {
       "output_type": "display_data",
       "png": "[encoded data removed]"
      }
     ],
     "prompt_number": 23
    },
    {
     "cell_type": "code",
     "collapsed": false,
     "input": [
      "p1, = plt.loglog(s, tr_CO / (365 * 24 * 3600), label = r'$\\rm C O$ snowline')\n",
      "#p2, = plt.loglog(s, tr_CO2 / (365 * 24 * 3600), label = r'$\\rm CO_2$ snowline')\n",
      "#p3, = plt.loglog(s, tr_CO / (365 * 24 * 3600), label = r'$\\rm CO$ snowline')\n",
      "#p4, = plt.loglog(s, tevap_H2O * ones(len(s)) / (365 * 24 * 3600), '--b')\n",
      "\n",
      "p2, = plt.loglog(s, teps_CO / (365 * 24 * 3600), '--g')\n",
      "#plt.loglog(s, teps_CO2 / (365 * 24 * 3600), ':g')\n",
      "#plt.loglog(s, teps_CO / (365 * 24 * 3600), ':r')\n",
      "\n",
      "p3, = plt.loglog(s, tst_CO / (365 * 24 * 3600), '--r')\n",
      "#plt.loglog(s, tst_CO2 / (365 * 24 * 3600), ':g')\n",
      "#plt.loglog(s, tst_CO / (365 * 24 * 3600), ':r')\n",
      "\n",
      "#plt.loglog(s, tevap_CO2 * ones(len(s)) / (365 * 24 * 3600), '--g')\n",
      "#plt.loglog(s, tevap_CO * ones(len(s)) / (365 * 24 * 3600), '--r')\n",
      "l1 = legend([p2, p3], [r'Epstein', r'Stokes'], frameon = False, loc = 3)\n",
      "plt.legend(loc = 9, frameon = False)\n",
      "gca().add_artist(l1)\n",
      "plt.xlabel('s [cm]')\n",
      "plt.ylabel(r'$t$ [yr]')\n",
      "plt.loglog(s, ones(len(s)) * 3e6, '--', color = 'black')\n",
      "\n",
      "plt.savefig('drift_timescales_betaS1_CO_eps.pdf')"
     ],
     "language": "python",
     "metadata": {},
     "outputs": [
      {
       "output_type": "display_data",
       "png": "[encoded data removed]"
      }
     ],
     "prompt_number": 24
    },
    {
     "cell_type": "code",
     "collapsed": false,
     "input": [
      "vrel = rH2O * cmperau / tr_H2O"
     ],
     "language": "python",
     "metadata": {},
     "outputs": [],
     "prompt_number": 7
    },
    {
     "cell_type": "code",
     "collapsed": false,
     "input": [
      "Re = s * vrel / (lambdamfp(rH2O) * cdisk(rH2O))"
     ],
     "language": "python",
     "metadata": {},
     "outputs": [],
     "prompt_number": 8
    },
    {
     "cell_type": "code",
     "collapsed": false,
     "input": [
      "print Re"
     ],
     "language": "python",
     "metadata": {},
     "outputs": [
      {
       "output_type": "stream",
       "stream": "stdout",
       "text": [
        "[  2.16176814e-14   3.44214622e-14   5.48087019e-14   8.72709530e-14\n",
        "   1.38960037e-13   2.21263676e-13   3.52314343e-13   5.60984067e-13\n",
        "   8.93245277e-13   1.42229908e-12   2.26470236e-12   3.60604660e-12\n",
        "   5.74184595e-12   9.14264251e-12   1.45576724e-11   2.31799312e-11\n",
        "   3.69090056e-11   5.87695745e-11   9.35777823e-11   1.49002293e-10\n",
        "   2.37253787e-10   3.77775122e-10   6.01524827e-10   9.57797632e-10\n",
        "   1.52508469e-09   2.42836611e-09   3.86664557e-09   6.15679321e-09\n",
        "   9.80335589e-09   1.56097149e-08   2.48550804e-08   3.95763169e-08\n",
        "   6.30166884e-08   1.00340389e-07   1.59770274e-07   2.54399458e-07\n",
        "   4.05075878e-07   6.44995348e-07   1.02701499e-06   1.63529828e-06\n",
        "   2.60385727e-06   4.14607703e-06   6.60172685e-06   1.05118154e-05\n",
        "   1.67377811e-05   2.66512766e-05   4.99014081e-05   1.00263411e-04\n",
        "   2.01451814e-04   4.04759865e-04   8.13237683e-04   1.63388622e-03\n",
        "   3.28236013e-03   6.59249089e-03   1.32329520e-02   2.65226044e-02\n",
        "   5.29594159e-02   1.04759679e-01   2.02533184e-01   3.71359738e-01\n",
        "   6.10768108e-01   8.40523568e-01   9.38837220e-01   8.87309966e-01\n",
        "   7.60986952e-01   6.23279430e-01   5.00554607e-01   3.98787872e-01\n",
        "   3.16696016e-01   2.51184158e-01   1.99124234e-01   1.57822903e-01\n",
        "   1.25078315e-01   9.91244143e-02   7.85550249e-02   6.22537081e-02\n",
        "   4.93350598e-02   3.90972102e-02   3.09838764e-02   2.45541940e-02\n",
        "   1.94587794e-02   1.54207501e-02   1.22206808e-02   9.68468054e-03\n",
        "   7.67494371e-03   6.08226164e-03   4.82008833e-03   3.81983757e-03\n",
        "   3.02715595e-03   2.39896932e-03   1.90114216e-03   1.50662265e-03\n",
        "   1.19397268e-03   9.46202933e-04   7.49849643e-04   5.94243018e-04\n",
        "   4.70927429e-04   3.73201934e-04   2.95756150e-04   2.34381691e-04]\n"
       ]
      }
     ],
     "prompt_number": 9
    },
    {
     "cell_type": "code",
     "collapsed": false,
     "input": [
      "a = logspace(-1, 2, 50)\n",
      "s = logspace(-3, 8, 50)\n",
      "\n",
      "darray = np.ndarray(shape = (len(s), len(a)), dtype = float)\n",
      "\n",
      "for i in range(len(s)):\n",
      "    for j in range(len(a)):\n",
      "        darray[i, j] = rf(a[j], s[i], 18, 5800, rhos = 2.0, mu = 2.3, Sigma0 = 2e3, betaS = 1., npts = 1e5, nptsin = 1e4, vphi = 1)"
     ],
     "language": "python",
     "metadata": {},
     "outputs": [],
     "prompt_number": 108
    },
    {
     "cell_type": "code",
     "collapsed": false,
     "input": [
      "a = logspace(-1, 2, 50)\n",
      "s = logspace(-3, 8, 50)\n",
      "\n",
      "darrayCO2 = np.ndarray(shape = (len(s), len(a)), dtype = float)\n",
      "\n",
      "for i in range(len(s)):\n",
      "    for j in range(len(a)):\n",
      "        darrayCO2[i, j] = rf(a[j], s[i], 44, 2000, rhos = 2.0, mu = 2.3, Sigma0 = 2e3, betaS = 1., npts = 1e6, nptsin = 1e5, vphi = 1)"
     ],
     "language": "python",
     "metadata": {},
     "outputs": [
      {
       "output_type": "stream",
       "stream": "stdout",
       "text": [
        "Excess work done on this call (perhaps wrong Dfun type).\n",
        "Run with full_output = 1 to get quantitative information.\n",
        "Excess work done on this call (perhaps wrong Dfun type)."
       ]
      },
      {
       "output_type": "stream",
       "stream": "stdout",
       "text": [
        "\n",
        "Run with full_output = 1 to get quantitative information.\n",
        "Excess work done on this call (perhaps wrong Dfun type)."
       ]
      },
      {
       "output_type": "stream",
       "stream": "stdout",
       "text": [
        "\n",
        "Run with full_output = 1 to get quantitative information.\n",
        "Excess work done on this call (perhaps wrong Dfun type)."
       ]
      },
      {
       "output_type": "stream",
       "stream": "stdout",
       "text": [
        "\n",
        "Run with full_output = 1 to get quantitative information.\n",
        "Excess work done on this call (perhaps wrong Dfun type)."
       ]
      },
      {
       "output_type": "stream",
       "stream": "stdout",
       "text": [
        "\n",
        "Run with full_output = 1 to get quantitative information.\n",
        "Excess work done on this call (perhaps wrong Dfun type)."
       ]
      },
      {
       "output_type": "stream",
       "stream": "stdout",
       "text": [
        "\n",
        "Run with full_output = 1 to get quantitative information.\n",
        "Excess work done on this call (perhaps wrong Dfun type)."
       ]
      },
      {
       "output_type": "stream",
       "stream": "stdout",
       "text": [
        "\n",
        "Run with full_output = 1 to get quantitative information.\n",
        "Excess work done on this call (perhaps wrong Dfun type)."
       ]
      },
      {
       "output_type": "stream",
       "stream": "stdout",
       "text": [
        "\n",
        "Run with full_output = 1 to get quantitative information.\n",
        "Excess work done on this call (perhaps wrong Dfun type)."
       ]
      },
      {
       "output_type": "stream",
       "stream": "stdout",
       "text": [
        "\n",
        "Run with full_output = 1 to get quantitative information.\n",
        "Excess work done on this call (perhaps wrong Dfun type)."
       ]
      },
      {
       "output_type": "stream",
       "stream": "stdout",
       "text": [
        "\n",
        "Run with full_output = 1 to get quantitative information.\n"
       ]
      }
     ],
     "prompt_number": 128
    },
    {
     "cell_type": "code",
     "collapsed": false,
     "input": [
      "a = logspace(-1, 2, 50)\n",
      "s = logspace(-3, 8, 50)\n",
      "\n",
      "darrayCO = np.ndarray(shape = (len(s), len(a)), dtype = float)\n",
      "\n",
      "for i in range(len(s)):\n",
      "    for j in range(len(a)):\n",
      "        darrayCO[i, j] = rf(a[j], s[i], 28, 850, rhos = 2.0, mu = 2.3, Sigma0 = 2e3, betaS = 1., npts = 1e6, nptsin = 1e5, vphi = 1)"
     ],
     "language": "python",
     "metadata": {},
     "outputs": [
      {
       "output_type": "stream",
       "stream": "stdout",
       "text": [
        "Excess work done on this call (perhaps wrong Dfun type).\n",
        "Run with full_output = 1 to get quantitative information.\n",
        "Excess work done on this call (perhaps wrong Dfun type)."
       ]
      },
      {
       "output_type": "stream",
       "stream": "stdout",
       "text": [
        "\n",
        "Run with full_output = 1 to get quantitative information.\n",
        "Excess work done on this call (perhaps wrong Dfun type)."
       ]
      },
      {
       "output_type": "stream",
       "stream": "stdout",
       "text": [
        "\n",
        "Run with full_output = 1 to get quantitative information.\n",
        "Excess work done on this call (perhaps wrong Dfun type)."
       ]
      },
      {
       "output_type": "stream",
       "stream": "stdout",
       "text": [
        "\n",
        "Run with full_output = 1 to get quantitative information.\n",
        "Excess work done on this call (perhaps wrong Dfun type)."
       ]
      },
      {
       "output_type": "stream",
       "stream": "stdout",
       "text": [
        "\n",
        "Run with full_output = 1 to get quantitative information.\n",
        "Excess work done on this call (perhaps wrong Dfun type)."
       ]
      },
      {
       "output_type": "stream",
       "stream": "stdout",
       "text": [
        "\n",
        "Run with full_output = 1 to get quantitative information.\n",
        "Excess work done on this call (perhaps wrong Dfun type)."
       ]
      },
      {
       "output_type": "stream",
       "stream": "stdout",
       "text": [
        "\n",
        "Run with full_output = 1 to get quantitative information.\n",
        "Excess work done on this call (perhaps wrong Dfun type)."
       ]
      },
      {
       "output_type": "stream",
       "stream": "stdout",
       "text": [
        "\n",
        "Run with full_output = 1 to get quantitative information.\n",
        "Excess work done on this call (perhaps wrong Dfun type)."
       ]
      },
      {
       "output_type": "stream",
       "stream": "stdout",
       "text": [
        "\n",
        "Run with full_output = 1 to get quantitative information.\n",
        "Excess work done on this call (perhaps wrong Dfun type)."
       ]
      },
      {
       "output_type": "stream",
       "stream": "stdout",
       "text": [
        "\n",
        "Run with full_output = 1 to get quantitative information.\n",
        "Excess work done on this call (perhaps wrong Dfun type)."
       ]
      },
      {
       "output_type": "stream",
       "stream": "stdout",
       "text": [
        "\n",
        "Run with full_output = 1 to get quantitative information.\n",
        "Excess work done on this call (perhaps wrong Dfun type)."
       ]
      },
      {
       "output_type": "stream",
       "stream": "stdout",
       "text": [
        "\n",
        "Run with full_output = 1 to get quantitative information.\n",
        "Excess work done on this call (perhaps wrong Dfun type)."
       ]
      },
      {
       "output_type": "stream",
       "stream": "stdout",
       "text": [
        "\n",
        "Run with full_output = 1 to get quantitative information.\n",
        "Excess work done on this call (perhaps wrong Dfun type)."
       ]
      },
      {
       "output_type": "stream",
       "stream": "stdout",
       "text": [
        "\n",
        "Run with full_output = 1 to get quantitative information.\n",
        "Excess work done on this call (perhaps wrong Dfun type)."
       ]
      },
      {
       "output_type": "stream",
       "stream": "stdout",
       "text": [
        "\n",
        "Run with full_output = 1 to get quantitative information.\n",
        "Excess work done on this call (perhaps wrong Dfun type)."
       ]
      },
      {
       "output_type": "stream",
       "stream": "stdout",
       "text": [
        "\n",
        "Run with full_output = 1 to get quantitative information.\n",
        "Excess work done on this call (perhaps wrong Dfun type)."
       ]
      },
      {
       "output_type": "stream",
       "stream": "stdout",
       "text": [
        "\n",
        "Run with full_output = 1 to get quantitative information.\n",
        "Excess work done on this call (perhaps wrong Dfun type)."
       ]
      },
      {
       "output_type": "stream",
       "stream": "stdout",
       "text": [
        "\n",
        "Run with full_output = 1 to get quantitative information.\n",
        "Excess work done on this call (perhaps wrong Dfun type)."
       ]
      },
      {
       "output_type": "stream",
       "stream": "stdout",
       "text": [
        "\n",
        "Run with full_output = 1 to get quantitative information.\n",
        "Excess work done on this call (perhaps wrong Dfun type)."
       ]
      },
      {
       "output_type": "stream",
       "stream": "stdout",
       "text": [
        "\n",
        "Run with full_output = 1 to get quantitative information.\n",
        "Excess work done on this call (perhaps wrong Dfun type)."
       ]
      },
      {
       "output_type": "stream",
       "stream": "stdout",
       "text": [
        "\n",
        "Run with full_output = 1 to get quantitative information.\n",
        "Excess work done on this call (perhaps wrong Dfun type)."
       ]
      },
      {
       "output_type": "stream",
       "stream": "stdout",
       "text": [
        "\n",
        "Run with full_output = 1 to get quantitative information.\n",
        "Excess work done on this call (perhaps wrong Dfun type)."
       ]
      },
      {
       "output_type": "stream",
       "stream": "stdout",
       "text": [
        "\n",
        "Run with full_output = 1 to get quantitative information.\n",
        "Excess work done on this call (perhaps wrong Dfun type)."
       ]
      },
      {
       "output_type": "stream",
       "stream": "stdout",
       "text": [
        "\n",
        "Run with full_output = 1 to get quantitative information.\n",
        "Excess work done on this call (perhaps wrong Dfun type)."
       ]
      },
      {
       "output_type": "stream",
       "stream": "stdout",
       "text": [
        "\n",
        "Run with full_output = 1 to get quantitative information.\n",
        "Excess work done on this call (perhaps wrong Dfun type)."
       ]
      },
      {
       "output_type": "stream",
       "stream": "stdout",
       "text": [
        "\n",
        "Run with full_output = 1 to get quantitative information.\n",
        "Excess work done on this call (perhaps wrong Dfun type)."
       ]
      },
      {
       "output_type": "stream",
       "stream": "stdout",
       "text": [
        "\n",
        "Run with full_output = 1 to get quantitative information.\n",
        "Excess work done on this call (perhaps wrong Dfun type)."
       ]
      },
      {
       "output_type": "stream",
       "stream": "stdout",
       "text": [
        "\n",
        "Run with full_output = 1 to get quantitative information.\n",
        "Excess work done on this call (perhaps wrong Dfun type)."
       ]
      },
      {
       "output_type": "stream",
       "stream": "stdout",
       "text": [
        "\n",
        "Run with full_output = 1 to get quantitative information.\n",
        "Excess work done on this call (perhaps wrong Dfun type)."
       ]
      },
      {
       "output_type": "stream",
       "stream": "stdout",
       "text": [
        "\n",
        "Run with full_output = 1 to get quantitative information.\n",
        "Excess work done on this call (perhaps wrong Dfun type)."
       ]
      },
      {
       "output_type": "stream",
       "stream": "stdout",
       "text": [
        "\n",
        "Run with full_output = 1 to get quantitative information.\n",
        "Excess work done on this call (perhaps wrong Dfun type)."
       ]
      },
      {
       "output_type": "stream",
       "stream": "stdout",
       "text": [
        "\n",
        "Run with full_output = 1 to get quantitative information.\n",
        "Excess work done on this call (perhaps wrong Dfun type)."
       ]
      },
      {
       "output_type": "stream",
       "stream": "stdout",
       "text": [
        "\n",
        "Run with full_output = 1 to get quantitative information.\n",
        "Excess work done on this call (perhaps wrong Dfun type)."
       ]
      },
      {
       "output_type": "stream",
       "stream": "stdout",
       "text": [
        "\n",
        "Run with full_output = 1 to get quantitative information.\n",
        "Excess work done on this call (perhaps wrong Dfun type)."
       ]
      },
      {
       "output_type": "stream",
       "stream": "stdout",
       "text": [
        "\n",
        "Run with full_output = 1 to get quantitative information.\n",
        "Excess work done on this call (perhaps wrong Dfun type)."
       ]
      },
      {
       "output_type": "stream",
       "stream": "stdout",
       "text": [
        "\n",
        "Run with full_output = 1 to get quantitative information.\n",
        "Excess work done on this call (perhaps wrong Dfun type)."
       ]
      },
      {
       "output_type": "stream",
       "stream": "stdout",
       "text": [
        "\n",
        "Run with full_output = 1 to get quantitative information.\n",
        "Excess work done on this call (perhaps wrong Dfun type)."
       ]
      },
      {
       "output_type": "stream",
       "stream": "stdout",
       "text": [
        "\n",
        "Run with full_output = 1 to get quantitative information.\n",
        "Excess work done on this call (perhaps wrong Dfun type)."
       ]
      },
      {
       "output_type": "stream",
       "stream": "stdout",
       "text": [
        "\n",
        "Run with full_output = 1 to get quantitative information.\n",
        "Excess work done on this call (perhaps wrong Dfun type)."
       ]
      },
      {
       "output_type": "stream",
       "stream": "stdout",
       "text": [
        "\n",
        "Run with full_output = 1 to get quantitative information.\n",
        "Excess work done on this call (perhaps wrong Dfun type)."
       ]
      },
      {
       "output_type": "stream",
       "stream": "stdout",
       "text": [
        "\n",
        "Run with full_output = 1 to get quantitative information.\n",
        "Excess work done on this call (perhaps wrong Dfun type)."
       ]
      },
      {
       "output_type": "stream",
       "stream": "stdout",
       "text": [
        "\n",
        "Run with full_output = 1 to get quantitative information.\n",
        "Excess work done on this call (perhaps wrong Dfun type)."
       ]
      },
      {
       "output_type": "stream",
       "stream": "stdout",
       "text": [
        "\n",
        "Run with full_output = 1 to get quantitative information.\n",
        "Excess work done on this call (perhaps wrong Dfun type)."
       ]
      },
      {
       "output_type": "stream",
       "stream": "stdout",
       "text": [
        "\n",
        "Run with full_output = 1 to get quantitative information.\n",
        "Excess work done on this call (perhaps wrong Dfun type)."
       ]
      },
      {
       "output_type": "stream",
       "stream": "stdout",
       "text": [
        "\n",
        "Run with full_output = 1 to get quantitative information.\n",
        "Excess work done on this call (perhaps wrong Dfun type)."
       ]
      },
      {
       "output_type": "stream",
       "stream": "stdout",
       "text": [
        "\n",
        "Run with full_output = 1 to get quantitative information.\n",
        "Excess work done on this call (perhaps wrong Dfun type)."
       ]
      },
      {
       "output_type": "stream",
       "stream": "stdout",
       "text": [
        "\n",
        "Run with full_output = 1 to get quantitative information.\n",
        "Excess work done on this call (perhaps wrong Dfun type)."
       ]
      },
      {
       "output_type": "stream",
       "stream": "stdout",
       "text": [
        "\n",
        "Run with full_output = 1 to get quantitative information.\n",
        "Excess work done on this call (perhaps wrong Dfun type)."
       ]
      },
      {
       "output_type": "stream",
       "stream": "stdout",
       "text": [
        "\n",
        "Run with full_output = 1 to get quantitative information.\n",
        "Excess work done on this call (perhaps wrong Dfun type)."
       ]
      },
      {
       "output_type": "stream",
       "stream": "stdout",
       "text": [
        "\n",
        "Run with full_output = 1 to get quantitative information.\n",
        "Excess work done on this call (perhaps wrong Dfun type)."
       ]
      },
      {
       "output_type": "stream",
       "stream": "stdout",
       "text": [
        "\n",
        "Run with full_output = 1 to get quantitative information.\n",
        "Excess work done on this call (perhaps wrong Dfun type)."
       ]
      },
      {
       "output_type": "stream",
       "stream": "stdout",
       "text": [
        "\n",
        "Run with full_output = 1 to get quantitative information.\n",
        "Excess work done on this call (perhaps wrong Dfun type)."
       ]
      },
      {
       "output_type": "stream",
       "stream": "stdout",
       "text": [
        "\n",
        "Run with full_output = 1 to get quantitative information.\n",
        "Excess work done on this call (perhaps wrong Dfun type)."
       ]
      },
      {
       "output_type": "stream",
       "stream": "stdout",
       "text": [
        "\n",
        "Run with full_output = 1 to get quantitative information.\n",
        "Excess work done on this call (perhaps wrong Dfun type)."
       ]
      },
      {
       "output_type": "stream",
       "stream": "stdout",
       "text": [
        "\n",
        "Run with full_output = 1 to get quantitative information.\n",
        "Excess work done on this call (perhaps wrong Dfun type)."
       ]
      },
      {
       "output_type": "stream",
       "stream": "stdout",
       "text": [
        "\n",
        "Run with full_output = 1 to get quantitative information.\n",
        "Excess work done on this call (perhaps wrong Dfun type)."
       ]
      },
      {
       "output_type": "stream",
       "stream": "stdout",
       "text": [
        "\n",
        "Run with full_output = 1 to get quantitative information.\n",
        "Excess work done on this call (perhaps wrong Dfun type)."
       ]
      },
      {
       "output_type": "stream",
       "stream": "stdout",
       "text": [
        "\n",
        "Run with full_output = 1 to get quantitative information.\n"
       ]
      }
     ],
     "prompt_number": 129
    },
    {
     "cell_type": "code",
     "collapsed": false,
     "input": [
      "for i in range(len(s)):\n",
      "    plt.loglog(a, darrayCO[i])\n",
      "    plt.ylim(ymin = 0.1)"
     ],
     "language": "python",
     "metadata": {},
     "outputs": [
      {
       "output_type": "display_data",
       "png": "[encoded data removed]"
      }
     ],
     "prompt_number": 133
    },
    {
     "cell_type": "code",
     "collapsed": false,
     "input": [
      "#reload(rf)\n",
      "a = logspace(-1, 2, 50)\n",
      "\n",
      "s0, s1, s2, s3, s4, s5, s6, s7, s8, s9, s10 = [], [], [], [], [], [], [], [], [], [], []\n",
      "for i in range(len(a)):\n",
      "    s0 = append(s0, rf(a[i], 0.01, 18, 5800, rhos = 2.0, mu = 2.3, Sigma0 = 2e3, betaS = 1., npts = 1e5, nptsin = 1e4, vphi = 1))\n",
      "    s1 = append(s1, rf(a[i], 0.1, 18, 5800, rhos = 2.0, mu = 2.3, Sigma0 = 2e3, betaS = 1., npts = 1e5, nptsin = 1e4, vphi = 1))\n",
      "    s2 = append(s2, rf(a[i], 1, 18, 5800, rhos = 2.0, mu = 2.3, Sigma0 = 2e3, betaS = 1., npts = 1e5, nptsin = 1e4, vphi = 1))\n",
      "    s3 = append(s3, rf(a[i], 1e1, 18, 5800, rhos = 2.0, mu = 2.3, Sigma0 = 2e3, betaS = 1., npts = 1e5, nptsin = 1e4, vphi = 1))\n",
      "    s4 = append(s4, rf(a[i], 1e2, 18, 5800, rhos = 2.0, mu = 2.3, Sigma0 = 2e3, betaS = 1., npts = 1e5, nptsin = 1e4, vphi = 1))\n",
      "    s5 = append(s5, rf(a[i], 1e3, 18, 5800, rhos = 2.0, mu = 2.3, Sigma0 = 2e3, betaS = 1., npts = 1e5, nptsin = 1e4, vphi = 1))\n",
      "    s6 = append(s6, rf(a[i], 1e4, 18, 5800, rhos = 2.0, mu = 2.3, Sigma0 = 2e3, betaS = 1., npts = 1e5, nptsin = 1e4, vphi = 1))\n",
      "    s7 = append(s7, rf(a[i], 1e5, 18, 5800, rhos = 2.0, mu = 2.3, Sigma0 = 2e3, betaS = 1., npts = 1e5, nptsin = 1e4, vphi = 1))\n",
      "    s8 = append(s8, rf(a[i], 1e6, 18, 5800, rhos = 2.0, mu = 2.3, Sigma0 = 2e3, betaS = 1., npts = 1e5, nptsin = 1e4, vphi = 1))\n",
      "    s9 = append(s9, rf(a[i], 1e7, 18, 5800, rhos = 2.0, mu = 2.3, Sigma0 = 2e3, betaS = 1., npts = 1e5, nptsin = 1e4, vphi = 1))\n",
      "    s10 = append(s10, rf(a[i], 1e8, 18, 5800, rhos = 2.0, mu = 2.3, Sigma0 = 2e3, betaS = 1., npts = 1e5, nptsin = 1e4, vphi = 1))"
     ],
     "language": "python",
     "metadata": {},
     "outputs": [
      {
       "output_type": "stream",
       "stream": "stderr",
       "text": [
        "drift_timescales.py:11: RuntimeWarning: invalid value encountered in double_scalars\n",
        "  return T0 * r**(-betaT)\n",
        "drift_timescales.py:23: RuntimeWarning: invalid value encountered in sqrt\n",
        "  return np.sqrt(G * Mstar / (r * cmperau)**3)\n"
       ]
      }
     ],
     "prompt_number": 2
    },
    {
     "cell_type": "code",
     "collapsed": false,
     "input": [
      "s0c, s1c, s2c, s3c, s4c, s5c, s6c, s7c, s8c, s9c, s10c = [], [], [], [], [], [], [], [], [], [], []\n",
      "for i in range(len(a)):\n",
      "    s0c = append(s0c, rf(a[i], 0.01, 44, 2000, rhos = 2.0, betaS = 1., npts = 1e5, nptsin = 1e4, vphi = 1))\n",
      "    s1c = append(s1c, rf(a[i], 0.1, 44, 2000, rhos = 2.0, betaS = 1., npts = 1e5, nptsin = 1e4, vphi = 1))\n",
      "    s2c = append(s2c, rf(a[i], 1, 44, 2000, rhos = 2.0, betaS = 1., npts = 1e5, nptsin = 1e4, vphi = 1))\n",
      "    s3c = append(s3c, rf(a[i], 1e1, 44, 2000, rhos = 2.0, betaS = 1., npts = 1e5, nptsin = 1e4, vphi = 1))\n",
      "    s4c = append(s4c, rf(a[i], 1e2, 44, 2000, rhos = 2.0, betaS = 1., npts = 1e5, nptsin = 1e4, vphi = 1))\n",
      "    s5c = append(s5c, rf(a[i], 1e3, 44, 2000, rhos = 2.0, betaS = 1., npts = 1e5, nptsin = 1e4, vphi = 1))\n",
      "    s6c = append(s6c, rf(a[i], 1e4, 44, 2000, rhos = 2.0, betaS = 1., npts = 1e5, nptsin = 1e4, vphi = 1))\n",
      "    s7c = append(s7c, rf(a[i], 1e5, 44, 2000, rhos = 2.0, betaS = 1., npts = 1e5, nptsin = 1e4, vphi = 1))\n",
      "    s8c = append(s8c, rf(a[i], 1e6, 44, 2000, rhos = 2.0, betaS = 1., npts = 1e5, nptsin = 1e4, vphi = 1))\n",
      "    s9c = append(s9c, rf(a[i], 1e7, 44, 2000, rhos = 2.0, betaS = 1., npts = 1e5, nptsin = 1e4, vphi = 1))\n",
      "    s10c = append(s10c, rf(a[i], 1e8, 44, 2000, rhos = 2.0, betaS = 1., npts = 1e5, nptsin = 1e4, vphi = 1))"
     ],
     "language": "python",
     "metadata": {},
     "outputs": [
      {
       "output_type": "stream",
       "stream": "stdout",
       "text": [
        "Excess work done on this call (perhaps wrong Dfun type).\n",
        "Run with full_output = 1 to get quantitative information.\n",
        "Excess work done on this call (perhaps wrong Dfun type)."
       ]
      },
      {
       "output_type": "stream",
       "stream": "stdout",
       "text": [
        "\n",
        "Run with full_output = 1 to get quantitative information.\n",
        "Excess work done on this call (perhaps wrong Dfun type)."
       ]
      },
      {
       "output_type": "stream",
       "stream": "stdout",
       "text": [
        "\n",
        "Run with full_output = 1 to get quantitative information.\n",
        "Excess work done on this call (perhaps wrong Dfun type)."
       ]
      },
      {
       "output_type": "stream",
       "stream": "stdout",
       "text": [
        "\n",
        "Run with full_output = 1 to get quantitative information.\n",
        "Excess work done on this call (perhaps wrong Dfun type)."
       ]
      },
      {
       "output_type": "stream",
       "stream": "stdout",
       "text": [
        "\n",
        "Run with full_output = 1 to get quantitative information.\n",
        "Excess work done on this call (perhaps wrong Dfun type)."
       ]
      },
      {
       "output_type": "stream",
       "stream": "stdout",
       "text": [
        "\n",
        "Run with full_output = 1 to get quantitative information.\n",
        "Excess work done on this call (perhaps wrong Dfun type)."
       ]
      },
      {
       "output_type": "stream",
       "stream": "stdout",
       "text": [
        "\n",
        "Run with full_output = 1 to get quantitative information.\n",
        "Excess work done on this call (perhaps wrong Dfun type)."
       ]
      },
      {
       "output_type": "stream",
       "stream": "stdout",
       "text": [
        "\n",
        "Run with full_output = 1 to get quantitative information.\n",
        "Excess work done on this call (perhaps wrong Dfun type)."
       ]
      },
      {
       "output_type": "stream",
       "stream": "stdout",
       "text": [
        "\n",
        "Run with full_output = 1 to get quantitative information.\n",
        "Excess work done on this call (perhaps wrong Dfun type)."
       ]
      },
      {
       "output_type": "stream",
       "stream": "stdout",
       "text": [
        "\n",
        "Run with full_output = 1 to get quantitative information.\n",
        "Excess work done on this call (perhaps wrong Dfun type)."
       ]
      },
      {
       "output_type": "stream",
       "stream": "stdout",
       "text": [
        "\n",
        "Run with full_output = 1 to get quantitative information.\n",
        "Excess work done on this call (perhaps wrong Dfun type)."
       ]
      },
      {
       "output_type": "stream",
       "stream": "stdout",
       "text": [
        "\n",
        "Run with full_output = 1 to get quantitative information.\n"
       ]
      }
     ],
     "prompt_number": 3
    },
    {
     "cell_type": "code",
     "collapsed": false,
     "input": [
      "s0co, s1co, s2co, s3co, s4co, s5co, s6co, s7co, s8co, s9co, s10co = [], [], [], [], [], [], [], [], [], [], []\n",
      "for i in range(len(a)):\n",
      "    s0co = append(s0co, rf(a[i], 0.01, 28, 850, rhos = 2.0, betaS = 1., npts = 1e5, nptsin = 1e4, vphi = 1))\n",
      "    s1co = append(s1co, rf(a[i], 0.1, 28, 850, rhos = 2.0, betaS = 1., npts = 1e5, nptsin = 1e4, vphi = 1))\n",
      "    s2co = append(s2co, rf(a[i], 1, 28, 850, rhos = 2.0, betaS = 1., npts = 1e5, nptsin = 1e4, vphi = 1))\n",
      "    s3co = append(s3co, rf(a[i], 1e1, 28, 850, rhos = 2.0, betaS = 1., npts = 1e5, nptsin = 1e4, vphi = 1))\n",
      "    s4co = append(s4co, rf(a[i], 1e2, 28, 850, rhos = 2.0, betaS = 1., npts = 1e5, nptsin = 1e4, vphi = 1))\n",
      "    s5co = append(s5co, rf(a[i], 1e3, 28, 850, rhos = 2.0, betaS = 1., npts = 1e5, nptsin = 1e4, vphi = 1))\n",
      "    s6co = append(s6co, rf(a[i], 1e4, 28, 850, rhos = 2.0, betaS = 1., npts = 1e5, nptsin = 1e4, vphi = 1))\n",
      "    s7co = append(s7co, rf(a[i], 1e5, 28, 850, rhos = 2.0, betaS = 1., npts = 1e5, nptsin = 1e4, vphi = 1))\n",
      "    s8co = append(s8co, rf(a[i], 1e6, 28, 850, rhos = 2.0, betaS = 1., npts = 1e5, nptsin = 1e4, vphi = 1))\n",
      "    s9co = append(s9co, rf(a[i], 1e7, 28, 850, rhos = 2.0, betaS = 1., npts = 1e5, nptsin = 1e4, vphi = 1))\n",
      "    s10co = append(s10co, rf(a[i], 1e8, 28, 2000, rhos = 2.0, betaS = 1., npts = 1e5, nptsin = 1e4, vphi = 1))"
     ],
     "language": "python",
     "metadata": {},
     "outputs": [
      {
       "output_type": "stream",
       "stream": "stdout",
       "text": [
        "Excess work done on this call (perhaps wrong Dfun type).\n",
        "Run with full_output = 1 to get quantitative information.\n",
        "Excess work done on this call (perhaps wrong Dfun type)."
       ]
      },
      {
       "output_type": "stream",
       "stream": "stdout",
       "text": [
        "\n",
        "Run with full_output = 1 to get quantitative information.\n",
        "Excess work done on this call (perhaps wrong Dfun type)."
       ]
      },
      {
       "output_type": "stream",
       "stream": "stdout",
       "text": [
        "\n",
        "Run with full_output = 1 to get quantitative information.\n",
        "Excess work done on this call (perhaps wrong Dfun type)."
       ]
      },
      {
       "output_type": "stream",
       "stream": "stdout",
       "text": [
        "\n",
        "Run with full_output = 1 to get quantitative information.\n",
        "Excess work done on this call (perhaps wrong Dfun type)."
       ]
      },
      {
       "output_type": "stream",
       "stream": "stdout",
       "text": [
        "\n",
        "Run with full_output = 1 to get quantitative information.\n",
        "Excess work done on this call (perhaps wrong Dfun type)."
       ]
      },
      {
       "output_type": "stream",
       "stream": "stdout",
       "text": [
        "\n",
        "Run with full_output = 1 to get quantitative information.\n",
        "Excess work done on this call (perhaps wrong Dfun type)."
       ]
      },
      {
       "output_type": "stream",
       "stream": "stdout",
       "text": [
        "\n",
        "Run with full_output = 1 to get quantitative information.\n",
        "Excess work done on this call (perhaps wrong Dfun type)."
       ]
      },
      {
       "output_type": "stream",
       "stream": "stdout",
       "text": [
        "\n",
        "Run with full_output = 1 to get quantitative information.\n",
        "Excess work done on this call (perhaps wrong Dfun type)."
       ]
      },
      {
       "output_type": "stream",
       "stream": "stdout",
       "text": [
        "\n",
        "Run with full_output = 1 to get quantitative information.\n",
        "Excess work done on this call (perhaps wrong Dfun type)."
       ]
      },
      {
       "output_type": "stream",
       "stream": "stdout",
       "text": [
        "\n",
        "Run with full_output = 1 to get quantitative information.\n",
        "Excess work done on this call (perhaps wrong Dfun type)."
       ]
      },
      {
       "output_type": "stream",
       "stream": "stdout",
       "text": [
        "\n",
        "Run with full_output = 1 to get quantitative information.\n",
        "Excess work done on this call (perhaps wrong Dfun type)."
       ]
      },
      {
       "output_type": "stream",
       "stream": "stdout",
       "text": [
        "\n",
        "Run with full_output = 1 to get quantitative information.\n",
        "Excess work done on this call (perhaps wrong Dfun type)."
       ]
      },
      {
       "output_type": "stream",
       "stream": "stdout",
       "text": [
        "\n",
        "Run with full_output = 1 to get quantitative information.\n",
        "Excess work done on this call (perhaps wrong Dfun type)."
       ]
      },
      {
       "output_type": "stream",
       "stream": "stdout",
       "text": [
        "\n",
        "Run with full_output = 1 to get quantitative information.\n",
        "Excess work done on this call (perhaps wrong Dfun type)."
       ]
      },
      {
       "output_type": "stream",
       "stream": "stdout",
       "text": [
        "\n",
        "Run with full_output = 1 to get quantitative information.\n",
        "Excess work done on this call (perhaps wrong Dfun type)."
       ]
      },
      {
       "output_type": "stream",
       "stream": "stdout",
       "text": [
        "\n",
        "Run with full_output = 1 to get quantitative information.\n",
        "Excess work done on this call (perhaps wrong Dfun type)."
       ]
      },
      {
       "output_type": "stream",
       "stream": "stdout",
       "text": [
        "\n",
        "Run with full_output = 1 to get quantitative information.\n",
        "Excess work done on this call (perhaps wrong Dfun type)."
       ]
      },
      {
       "output_type": "stream",
       "stream": "stdout",
       "text": [
        "\n",
        "Run with full_output = 1 to get quantitative information.\n"
       ]
      }
     ],
     "prompt_number": 4
    },
    {
     "cell_type": "code",
     "collapsed": false,
     "input": [
      "f = open('../dat/CO/s_neg3_8.txt', 'wb')\n",
      "for i in range(len(s)):\n",
      "    f.write('%s ' % str(s[i]))\n",
      "    f.write('%s \\n' %str(len(a)))\n",
      "    for j in range(len(a)):\n",
      "        f.write(' %s ' %str(a[j]))\n",
      "        f.write(' %s \\n' % str(darrayCO[i, j]))\n",
      "    #f.write('\\n')\n",
      "f.close()"
     ],
     "language": "python",
     "metadata": {},
     "outputs": [],
     "prompt_number": 139
    },
    {
     "cell_type": "code",
     "collapsed": false,
     "input": [
      "darrayCO[0]\n"
     ],
     "language": "python",
     "metadata": {},
     "outputs": [
      {
       "output_type": "pyout",
       "prompt_number": 127,
       "text": [
        "array([  0.1       ,   0.11513954,   0.13257114,   0.1526418 ,\n",
        "         0.17575106,   0.20235896,   0.23299518,   0.26826958,\n",
        "         0.30888436,   0.35564803,   0.40949151,   0.47148664,\n",
        "         0.54286754,   0.62505519,   0.71968567,   0.82864277,\n",
        "         0.95409548,   1.09854114,   1.26485522,   1.45634848,\n",
        "         1.67683294,   1.93069773,   2.22299648,   2.55954792,\n",
        "         2.9470517 ,   3.39322177,   3.90693994,   4.49843267,\n",
        "         5.17947468,   5.96362332,   6.86648845,   7.90604321,\n",
        "         9.10298178,  10.48113134,  12.06792641,  13.89495494,\n",
        "        15.99858718,  18.42069964,  21.20950864,  24.4205297 ,\n",
        "        28.11767987,  32.37453009,  37.27561273,  42.9167202 ,\n",
        "        49.39308237,  56.65302037,  63.27454375,  65.82241729,\n",
        "        66.12026574,  66.14084163])"
       ]
      }
     ],
     "prompt_number": 127
    },
    {
     "cell_type": "code",
     "collapsed": false,
     "input": [
      "f, (ax1, ax2, ax3) = plt.subplots(3, sharex = True, figsize = (3.5, 8))\n",
      "\n",
      "rnb = linspace(0, 256, 11)\n",
      "\n",
      "ax1.loglog(a, s0, c = cm.rainbow(int(rnb[0])), label = '0.01 cm')\n",
      "ax1.loglog(a, s1, c = cm.rainbow(int(rnb[1])), label = '0.1 cm')\n",
      "ax1.loglog(a, s2, c = cm.rainbow(int(rnb[2])), label = '1 cm')\n",
      "ax1.loglog(a, s3, c = cm.rainbow(int(rnb[3])), label = '10 cm')\n",
      "ax1.loglog(a, s4, c = cm.rainbow(int(rnb[4])), label = r'$10^2$ cm')\n",
      "ax1.loglog(a, s5, c = cm.rainbow(int(rnb[5])), label = r'$10^3$ cm')\n",
      "ax1.loglog(a, s6, c = cm.rainbow(int(rnb[6])), label = r'$10^4$ cm')\n",
      "ax1.loglog(a, s7, c = cm.rainbow(int(rnb[7])), label = r'$10^5$ cm')\n",
      "ax1.loglog(a, s8, c = cm.rainbow(int(rnb[8])), label = r'$10^6$ cm')\n",
      "ax1.loglog(a, s9, c = cm.rainbow(int(rnb[9])), label = r'$10^7$ cm')\n",
      "ax1.loglog(a, s10, c = cm.rainbow(int(rnb[10])), label = r'$10^8$ cm')\n",
      "ax1.loglog(a, a, '--', color = 'black')\n",
      "ax1.set_ylabel('Desorption distance [AU]')\n",
      "ax1.set_ylim(ymin = 0.10001, ymax = 100)\n",
      "ax1.text(0.7, 55, 'H2O')\n",
      "\n",
      "ax2.loglog(a, s0c, c = cm.rainbow(int(rnb[0])))\n",
      "ax2.loglog(a, s1c, c = cm.rainbow(int(rnb[1])))\n",
      "ax2.loglog(a, s2c, c = cm.rainbow(int(rnb[2])))\n",
      "ax2.loglog(a, s3c, c = cm.rainbow(int(rnb[3])))\n",
      "ax2.loglog(a, s4c, c = cm.rainbow(int(rnb[4])))\n",
      "ax2.loglog(a, s5c, c = cm.rainbow(int(rnb[5])))\n",
      "ax2.loglog(a, s6c, c = cm.rainbow(int(rnb[6])))\n",
      "ax2.loglog(a, s7c, c = cm.rainbow(int(rnb[7])))\n",
      "ax2.loglog(a, s8c, c = cm.rainbow(int(rnb[8])))\n",
      "ax2.loglog(a, s9c, c = cm.rainbow(int(rnb[9])))\n",
      "ax2.loglog(a, s10c, c = cm.rainbow(int(rnb[10])))\n",
      "ax2.loglog(a, a, '--', color = 'black')\n",
      "ax2.set_ylabel('Desorption distance [AU]')\n",
      "ax2.set_ylim(ymin = 0.10001, ymax = 100)\n",
      "ax2.text(0.7, 55, 'CO2')\n",
      "\n",
      "ax3.loglog(a, s0co, c = cm.rainbow(int(rnb[0])), label = '0.01 cm')\n",
      "ax3.loglog(a, s1co, c = cm.rainbow(int(rnb[1])), label = '0.1 cm')\n",
      "ax3.loglog(a, s2co, c = cm.rainbow(int(rnb[2])), label = '1 cm')\n",
      "ax3.loglog(a, s3co, c = cm.rainbow(int(rnb[3])), label = '10 cm')\n",
      "ax3.loglog(a, s4co, c = cm.rainbow(int(rnb[4])), label = r'$10^2$ cm')\n",
      "ax3.loglog(a, s5co, c = cm.rainbow(int(rnb[5])), label = r'$10^3$ cm')\n",
      "ax3.loglog(a, s6co, c = cm.rainbow(int(rnb[6])), label = r'$10^4$ cm')\n",
      "ax3.loglog(a, s7co, c = cm.rainbow(int(rnb[7])), label = r'$10^5$ cm')\n",
      "ax3.loglog(a, s8co, c = cm.rainbow(int(rnb[8])), label = r'$10^6$ cm')\n",
      "ax3.loglog(a, s9co, c = cm.rainbow(int(rnb[9])), label = r'$10^7$ cm')\n",
      "ax3.loglog(a, s10co, c = cm.rainbow(int(rnb[10])), label = r'$10^8$ cm')\n",
      "ax3.loglog(a, a, '--', color = 'black')\n",
      "ax3.set_ylabel('Desorption distance [AU]')\n",
      "ax3.set_xlabel('Initial distance [AU]')\n",
      "ax3.set_ylim(ymin = 0.1, ymax = 100)\n",
      "ax3.legend(loc = 4, frameon = False, prop = {'size':8}, labelspacing = 0)\n",
      "ax3.text(0.7, 55, 'CO')\n",
      "\n",
      "plt.tight_layout()\n",
      "f.subplots_adjust(hspace = 0)\n",
      "\n",
      "plt.savefig('desorption_distace_new_n1_vphi_2000_1e5_1e4.pdf')\n",
      "\n"
     ],
     "language": "python",
     "metadata": {},
     "outputs": [
      {
       "output_type": "display_data",
       "png": "[encoded data removed]"
      }
     ],
     "prompt_number": 103
    },
    {
     "cell_type": "code",
     "collapsed": false,
     "input": [
      "s0"
     ],
     "language": "python",
     "metadata": {},
     "outputs": [
      {
       "output_type": "pyout",
       "prompt_number": 11,
       "text": [
        "array([ 0.1       ,  0.11513954,  0.13257113,  0.15264179,  0.17575103,\n",
        "        0.20235884,  0.23299459,  0.2682666 ,  0.30886768,  0.35554428,\n",
        "        0.40877503,  0.46624295,  0.51184426,  0.52737933,  0.52957646,\n",
        "        0.52978804,  0.52980499,  0.52980616,  0.52980618,  0.52980621,\n",
        "        0.52980618,  0.5298062 ,  0.52980612,  0.52980619,  0.52980616,\n",
        "        0.52980606,  0.52980612,  0.52980608,  0.52980616,  0.52980604,\n",
        "        0.52980601,  0.52980603,  0.52980607,  0.52980605,  0.52980606,\n",
        "        0.52980612,  0.52980604,  0.52980611,  0.52980613,  0.52980608,\n",
        "        0.52980622,  0.52980609,  0.52980607,  0.52980609,  0.52980613,\n",
        "        0.52980614,  0.52980604,  0.52980615,  0.52980613,  0.52980609])"
       ]
      }
     ],
     "prompt_number": 11
    },
    {
     "cell_type": "code",
     "collapsed": false,
     "input": [
      "f = open('../dat/CO/s_1e8cm_CO.txt', 'wb')\n",
      "for i in range(len(a)):\n",
      "    f.write(\"%s \" % str(a[i]))\n",
      "    f.write(\"%s \\n\" % str(s10co[i]))\n",
      "f.close()"
     ],
     "language": "python",
     "metadata": {},
     "outputs": [],
     "prompt_number": 99
    },
    {
     "cell_type": "code",
     "collapsed": false,
     "input": [
      "a, s1 = [], []\n",
      "f = open('../dat/H2O/s_1mm_H2O.txt', 'r')\n",
      "for line in f:\n",
      "    #line = f.readline()\n",
      "    a = append(a, float(line.split()[0]))\n",
      "    s1 = append(s1, float(line.split()[1]))\n",
      "f.close()"
     ],
     "language": "python",
     "metadata": {},
     "outputs": [],
     "prompt_number": 55
    },
    {
     "cell_type": "code",
     "collapsed": false,
     "input": [
      "s1"
     ],
     "language": "python",
     "metadata": {},
     "outputs": [
      {
       "output_type": "pyout",
       "prompt_number": 56,
       "text": [
        "array([ 0.1       ,  0.11513953,  0.13257111,  0.15264172,  0.17575076,\n",
        "        0.20235769,  0.2329893 ,  0.26823981,  0.30871808,  0.35462827,\n",
        "        0.40302256,  0.43917986,  0.4512442 ,  0.45312427,  0.45333302,\n",
        "        0.45335249,  0.45335404,  0.45335414,  0.45335414,  0.45335415,\n",
        "        0.45335415,  0.45335416,  0.45335414,  0.45335414,  0.45335415,\n",
        "        0.45335415,  0.45335415,  0.45335414,  0.45335414,  0.45335414,\n",
        "        0.45335413,  0.45335414,  0.45335413,  0.45335414,  0.45335413,\n",
        "        0.45335414,  0.45335414,  0.45335414,  0.45335414,  0.45335413,\n",
        "        0.45335415,  0.45335415,  0.45335413,  0.45335414,  0.45335413,\n",
        "        0.45335414,  0.45335413,  0.45335414,  0.45335414,  0.45335415])"
       ]
      }
     ],
     "prompt_number": 56
    },
    {
     "cell_type": "code",
     "collapsed": false,
     "input": [
      "s1"
     ],
     "language": "python",
     "metadata": {},
     "outputs": [
      {
       "output_type": "pyout",
       "prompt_number": 19,
       "text": [
        "array([  1.03524942e-01,   1.53976987e+00,   7.30776741e+01,\n",
        "         2.47132706e+02,   4.28132111e-01,   6.15293794e-01,\n",
        "         7.71224056e-01,   7.74006522e-01,   7.74007545e-01,\n",
        "         7.74007566e-01,   7.74007519e-01,   7.74007530e-01,\n",
        "         8.85832431e-01,   1.20621749e+00,   1.64343000e+00,\n",
        "         2.23642130e+00,   3.03965239e+00,   4.12625035e+00,\n",
        "         5.59429364e+00,   7.57523957e+00])"
       ]
      }
     ],
     "prompt_number": 19
    },
    {
     "cell_type": "code",
     "collapsed": false,
     "input": [],
     "language": "python",
     "metadata": {},
     "outputs": []
    }
   ],
   "metadata": {}
  }
 ]
}