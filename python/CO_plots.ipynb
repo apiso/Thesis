{
 "metadata": {
  "name": "CO_plots"
 },
 "nbformat": 3,
 "nbformat_minor": 0,
 "worksheets": [
  {
   "cells": [
    {
     "cell_type": "code",
     "collapsed": false,
     "input": [
      "import numpy as np\n",
      "from matplotlib import pyplot as plt\n",
      "import C_to_O as CO\n",
      "from T_freeze import T_freeze, Rdes, tevap\n",
      "from C_to_O import T_freeze_H20, T_freeze_CO2, T_freeze_CO\n",
      "from drift_timescales import tr, Tdisk, ts\n",
      "from scipy.optimize import brentq"
     ],
     "language": "python",
     "metadata": {},
     "outputs": [],
     "prompt_number": 1
    },
    {
     "cell_type": "code",
     "collapsed": false,
     "input": [
      "a = np.logspace(0, 2, 500)\n",
      "\n",
      "arraygas, arraysolid  = [], []\n",
      "for i in range(len(a)):\n",
      "    arraygas = np.append(arraygas, CO.C_O_ratio(a[i])[0])\n",
      "    arraysolid = np.append(arraysolid, CO.C_O_ratio(a[i])[1])"
     ],
     "language": "python",
     "metadata": {},
     "outputs": [
      {
       "output_type": "stream",
       "stream": "stderr",
       "text": [
        "C_to_O.py:119: RuntimeWarning: invalid value encountered in divide\n",
        "  return n(T, 'C') / n(T, 'O')\n"
       ]
      }
     ],
     "prompt_number": 3
    },
    {
     "cell_type": "code",
     "collapsed": false,
     "input": [
      "plt.semilogx(a, arraygas)\n",
      "plt.semilogx(a, arraysolid, '--b')\n",
      "plt.semilogx(a, ones(len(a))*0.54, ls = ':', lw = 2, color = 'black')\n",
      "plt.ylim(0, 1.2)\n",
      "plt.xlabel('a [AU]')\n",
      "plt.ylabel('C/O ratio')\n",
      "plt.savefig('C_O_ratio.pdf')"
     ],
     "language": "python",
     "metadata": {},
     "outputs": [
      {
       "output_type": "display_data",
       "png": "[encoded data removed]"
      }
     ],
     "prompt_number": 9
    },
    {
     "cell_type": "code",
     "collapsed": false,
     "input": [
      "def Tdiff_H2O(r):\n",
      "    return Tdisk(r, T0 = 200, betaT = 0.62) - T_freeze_H20\n",
      "\n",
      "def Tdiff_CO2(r):\n",
      "    return Tdisk(r, T0 = 200, betaT = 0.62) - T_freeze_CO2\n",
      "\n",
      "def Tdiff_CO(r):\n",
      "    return Tdisk(r, T0 = 200, betaT = 0.62) - T_freeze_CO\n",
      "\n",
      "\n",
      "\n",
      "rH2O = brentq(Tdiff_H2O, 0.1, 100)\n",
      "rCO2 = brentq(Tdiff_CO2, 0.1, 100)\n",
      "rCO = brentq(Tdiff_CO, 0.1, 100)"
     ],
     "language": "python",
     "metadata": {},
     "outputs": [],
     "prompt_number": 2
    },
    {
     "cell_type": "code",
     "collapsed": false,
     "input": [
      "tevap_H2O = tevap(18., 5800., T_freeze_H20)\n",
      "tevap_CO2 = tevap(44., 2000., T_freeze_CO2)\n",
      "tevap_CO = tevap(28., 850., T_freeze_CO)"
     ],
     "language": "python",
     "metadata": {},
     "outputs": [],
     "prompt_number": 3
    },
    {
     "cell_type": "code",
     "collapsed": false,
     "input": [
      "print tevap_H2O / (365 * 24 * 3600), tevap_CO2 / (365 * 24 * 3600), tevap_CO / (365 * 24 * 3600)"
     ],
     "language": "python",
     "metadata": {},
     "outputs": [
      {
       "output_type": "stream",
       "stream": "stdout",
       "text": [
        "0.00495831148279 0.0446598181957 0.0161540381003\n"
       ]
      }
     ],
     "prompt_number": 26
    },
    {
     "cell_type": "code",
     "collapsed": false,
     "input": [
      "rCO"
     ],
     "language": "python",
     "metadata": {},
     "outputs": [
      {
       "output_type": "pyout",
       "prompt_number": 12,
       "text": [
        "38.16450834948128"
       ]
      }
     ],
     "prompt_number": 12
    },
    {
     "cell_type": "code",
     "collapsed": false,
     "input": [
      "tr_H2O"
     ],
     "language": "python",
     "metadata": {},
     "outputs": [
      {
       "output_type": "pyout",
       "prompt_number": 18,
       "text": [
        "array([  1.75278527e+10,   1.75278530e+10,   1.75278535e+10,\n",
        "         1.75278541e+10,   1.75278548e+10,   1.75278557e+10,\n",
        "         1.75278568e+10,   1.75278582e+10,   1.75278600e+10,\n",
        "         1.75278623e+10,   1.75278652e+10,   1.75278688e+10,\n",
        "         1.75278734e+10,   1.75278792e+10,   1.75278865e+10,\n",
        "         1.75278957e+10,   1.75279074e+10,   1.75279220e+10,\n",
        "         1.75279405e+10,   1.75279639e+10,   1.75279934e+10,\n",
        "         1.75280306e+10,   1.75280775e+10,   1.75281367e+10,\n",
        "         1.75282115e+10,   1.75283058e+10,   1.75284248e+10,\n",
        "         1.75285750e+10,   1.75287644e+10,   1.75290035e+10,\n",
        "         1.75293053e+10,   1.75296860e+10,   1.75301664e+10,\n",
        "         1.75307726e+10,   1.75315376e+10,   1.75325029e+10,\n",
        "         1.75337209e+10,   1.75352579e+10,   1.75371973e+10,\n",
        "         1.75396447e+10,   1.75427328e+10,   1.75466297e+10,\n",
        "         1.75515469e+10,   1.75577517e+10,   1.75655814e+10,\n",
        "         1.75754612e+10,   1.75879282e+10,   1.76036598e+10,\n",
        "         1.76235107e+10,   1.76485598e+10,   1.76801682e+10,\n",
        "         1.77200534e+10,   1.77703828e+10,   1.78338913e+10,\n",
        "         1.79140300e+10,   1.80151535e+10,   1.81427570e+10,\n",
        "         1.83664245e+10,   1.88630970e+10,   1.96539401e+10,\n",
        "         2.09131858e+10,   2.29182612e+10,   2.61109083e+10,\n",
        "         3.11945052e+10,   3.92890291e+10,   5.21778003e+10,\n",
        "         7.27003689e+10,   1.05378102e+11,   1.57410293e+11,\n",
        "         2.40260257e+11,   3.72180828e+11,   5.82235684e+11,\n",
        "         9.16702417e+11,   1.44926804e+12,   2.29726312e+12,\n",
        "         3.64751109e+12,   5.79748770e+12,   9.22085847e+12,\n",
        "         1.46718328e+13,   2.33513255e+13,   3.71715324e+13,\n",
        "         5.91772100e+13,   9.42164718e+13,   1.50008885e+14,\n",
        "         2.38846186e+14,   3.80300290e+14,   6.05535227e+14,\n",
        "         9.64172941e+14,   1.53522560e+15,   2.44450293e+15,\n",
        "         3.89232957e+15,   6.19767902e+15,   9.86844728e+15,\n",
        "         1.57133484e+16,   2.50200839e+16,   3.98390388e+16,\n",
        "         6.34350055e+16,   1.01006457e+17,   1.60830834e+17,\n",
        "         2.56088159e+17])"
       ]
      }
     ],
     "prompt_number": 18
    },
    {
     "cell_type": "code",
     "collapsed": false,
     "input": [
      "s = np.logspace(-5, 5, 100)\n",
      "\n",
      "tr_H2O, tr_CO2, tr_CO, tss = [], [], [], []\n",
      "for i in range(len(s)):\n",
      "    tr_H2O = append(tr_H2O, tr(rH2O, s[i]))\n",
      "    tr_CO2 = append(tr_CO2, tr(rCO2, s[i]))\n",
      "    tr_CO = append(tr_CO, tr(rCO, s[i]))\n",
      "    tss = append(tss, ts(rH2O, s[i]))"
     ],
     "language": "python",
     "metadata": {},
     "outputs": [],
     "prompt_number": 4
    },
    {
     "cell_type": "code",
     "collapsed": false,
     "input": [
      "p1, = plt.loglog(s, tr_H2O / (365 * 24 * 3600), label = r'$\\rm H_2 \\rm O$ iceline')\n",
      "p2, = plt.loglog(s, tr_CO2 / (365 * 24 * 3600), label = r'$\\rm CO_2$ iceline')\n",
      "p3, = plt.loglog(s, tr_CO / (365 * 24 * 3600), label = r'$\\rm CO$ iceline')\n",
      "p4, = plt.loglog(s, tevap_H2O * ones(len(s)) / (365 * 24 * 3600), '--b')\n",
      "plt.loglog(s, tevap_CO2 * ones(len(s)) / (365 * 24 * 3600), '--g')\n",
      "plt.loglog(s, tevap_CO * ones(len(s)) / (365 * 24 * 3600), '--r')\n",
      "l1 = legend([p1, p4], [r'$t_{\\rm{r, drift}}$', r'$t_{\\rm evap}$'], frameon = False, loc = 5)\n",
      "plt.legend(loc = 2, frameon = False)\n",
      "gca().add_artist(l1)\n",
      "plt.xlabel('s [cm]')\n",
      "plt.ylabel(r'$t$ [yr]')\n",
      "\n",
      "plt.savefig('drift_timescales.pdf')"
     ],
     "language": "python",
     "metadata": {},
     "outputs": [
      {
       "output_type": "display_data",
       "png": "[encoded data removed]"
      }
     ],
     "prompt_number": 5
    },
    {
     "cell_type": "code",
     "collapsed": false,
     "input": [
      "plt.loglog(s, tss, '.')"
     ],
     "language": "python",
     "metadata": {},
     "outputs": [
      {
       "output_type": "pyout",
       "prompt_number": 39,
       "text": [
        "[<matplotlib.lines.Line2D at 0x112baef90>]"
       ]
      },
      {
       "output_type": "display_data",
       "png": "[encoded data removed]"
      }
     ],
     "prompt_number": 39
    },
    {
     "cell_type": "code",
     "collapsed": false,
     "input": [],
     "language": "python",
     "metadata": {},
     "outputs": []
    }
   ],
   "metadata": {}
  }
 ]
}