{
 "metadata": {
  "name": "CO_plots"
 },
 "nbformat": 3,
 "nbformat_minor": 0,
 "worksheets": [
  {
   "cells": [
    {
     "cell_type": "code",
     "collapsed": false,
     "input": [
      "import numpy as np\n",
      "from matplotlib import pyplot as plt\n",
      "import C_to_O as CO"
     ],
     "language": "python",
     "metadata": {},
     "outputs": [],
     "prompt_number": 1
    },
    {
     "cell_type": "code",
     "collapsed": false,
     "input": [
      "a = np.logspace(0, 2, 500)\n",
      "\n",
      "arraygas, arraysolid  = [], []\n",
      "for i in range(len(a)):\n",
      "    arraygas = np.append(arraygas, CO.C_O_ratio(a[i])[0])\n",
      "    arraysolid = np.append(arraysolid, CO.C_O_ratio(a[i])[1])"
     ],
     "language": "python",
     "metadata": {},
     "outputs": [
      {
       "output_type": "stream",
       "stream": "stderr",
       "text": [
        "C_to_O.py:119: RuntimeWarning: invalid value encountered in divide\n",
        "  return n(T, 'C') / n(T, 'O')\n"
       ]
      }
     ],
     "prompt_number": 3
    },
    {
     "cell_type": "code",
     "collapsed": false,
     "input": [
      "plt.semilogx(a, arraygas)\n",
      "plt.semilogx(a, arraysolid, '--b')\n",
      "plt.semilogx(a, ones(len(a))*0.54, ls = ':', lw = 2, color = 'black')\n",
      "plt.ylim(0, 1.2)\n",
      "plt.xlabel('a [AU]')\n",
      "plt.ylabel('C/O ratio')"
     ],
     "language": "python",
     "metadata": {},
     "outputs": [
      {
       "output_type": "pyout",
       "prompt_number": 8,
       "text": [
        "<matplotlib.text.Text at 0x10ca30f50>"
       ]
      },
      {
       "output_type": "display_data",
       "png": "[encoded data removed]"
      }
     ],
     "prompt_number": 8
    },
    {
     "cell_type": "code",
     "collapsed": false,
     "input": [],
     "language": "python",
     "metadata": {},
     "outputs": []
    }
   ],
   "metadata": {}
  }
 ]
}