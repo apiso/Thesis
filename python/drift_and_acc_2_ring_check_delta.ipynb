{
 "metadata": {
  "name": "",
  "signature": "sha256:fe86a837167c97f8df2673d9157eef2a9b96d00a4456bc8ee8e5d4daa568e0cd"
 },
 "nbformat": 3,
 "nbformat_minor": 0,
 "worksheets": [
  {
   "cells": [
    {
     "cell_type": "code",
     "collapsed": false,
     "input": [
      "import numpy as np\n",
      "from matplotlib import pyplot as plt\n",
      "import C_to_O as CO\n",
      "from T_freeze import T_freeze, Rdes, tevap\n",
      "\n",
      "from C_to_O import T_freeze_H20, T_freeze_CO2, T_freeze_CO\n",
      "\n",
      "\n",
      "import matplotlib.cm as cm\n",
      "\n",
      "#from drift_timescales import tr, Tdisk, ts, lambdamfp, cdisk, tdes, rf, r_freeze, \\\n",
      "#        read_drag_file, read_drag_file_many, r_stop, Mdot_solids, Mdot_gas, dMgas_dt, dMsol_dt#, rdot\n",
      "from drift_timescales_varying_sigma import dMdot, Mgas_dt, Msol_dt, Sigmadisk_act, vacc_act, rdot_gas\n",
      "from drift_timescales_varying_sigma_3 import dMdot as dMdott, Mdot_solids as Mdot_solids_t, dMgas_dt as dMgas_dt_t, \\\n",
      "        dMsol_dt as dMsol_dt_t, Sigmap_act, vacc_act as vacc_old\n",
      "#from drift_timescales_Til_parameters_ring_check import vacc_act as vacc_Til, Sigmap_act as Sigmap_2\n",
      "from drift_timescales_updated_sigmap import Sigmadisk, Tdisk as Tdisk_new, vacc_act as vacc_new, Sigmap_act, \\\n",
      "        rdot_with_acc, rdot, tr, rf, rdrift\n",
      "from drift_timescales_updated_sigmap_ring_check import Sigmap_act as Sigmap_act_fixed\n",
      "from drift_timescales import rdrift as rdrift_fixed\n",
      "    \n",
      "from scipy.optimize import brentq\n",
      "from utils.constants import cmperau, AU, Rsun, Msun\n",
      "from matplotlib import animation\n",
      "from IPython.display import HTML\n",
      "from IPython import display\n",
      "import JSAnimation\n",
      "from JSAnimation.JSAnimation import IPython_display"
     ],
     "language": "python",
     "metadata": {},
     "outputs": [],
     "prompt_number": 1
    },
    {
     "cell_type": "code",
     "collapsed": false,
     "input": [
      "s=1e-3\n",
      "nt = 500\n",
      "nr = 500\n",
      "alpha=0.01\n",
      "Mdisk=0.1*Msun\n",
      "\n",
      "\n",
      "r = logspace(np.log10(0.05),np.log10(4e3),nr)\n",
      "t = np.linspace(1,2e4,nt)*365*24*3600\n",
      "dt = t[1] - t[0]\n",
      "\n",
      "#f=open('advection_from_Til/data_' + str(s)+ '_gaussian/sigma_d.dat', 'r')\n",
      "\n",
      "#sigparray_Til = np.ndarray(shape = (nt, nr), dtype = float)\n",
      "#sigparray_Til_var_dt = np.ndarray(shape = (nt, nr), dtype = float)\n",
      "\n",
      "#for j in range(nt):\n",
      "#    line = f.readline().split()\n",
      "#    for i in range(nr):\n",
      "#        sigparray_Til[j ,i] = float(line[i])\n",
      "        \n",
      "#f.close()\n",
      "\n",
      "#f=open('advection_from_Til/data_' + str(s)+ '_gaussian_var_dt/sigma_d.dat', 'r')\n",
      "\n",
      "#for j in range(nt):\n",
      "#    line = f.readline().split()\n",
      "#    for i in range(nr):\n",
      "#        sigparray_Til_var_dt[j ,i] = float(line[i])\n",
      "        \n",
      "#f.close()\n",
      "\n",
      "sigparray = Sigmap_act(r[0], r[-1], nr, t[0], t[-1], nt, s, alpha, Mdisk, 100*AU, rhos = 2.0, mu = 2.3, gammadflag = 0)\n",
      "rv = [rdrift(10., t[0], t[1], s, 0.01, 1e-3, Mdisk, rhos = 2.0, mu = 2.3)]\n",
      "for i in range(1, nt):\n",
      "    rv = np.append(rv, rdrift(10., t[0], t[i], s, 0.01, 1e-3, Mdisk, rhos = 2.0, mu = 2.3))"
     ],
     "language": "python",
     "metadata": {},
     "outputs": [],
     "prompt_number": 10
    },
    {
     "cell_type": "code",
     "collapsed": false,
     "input": [
      "rv"
     ],
     "language": "python",
     "metadata": {},
     "outputs": [
      {
       "metadata": {},
       "output_type": "pyout",
       "prompt_number": 14,
       "text": [
        "array([ 9.98947824,  9.98947824,  9.97896753,  9.96846786,  9.95797922,\n",
        "        9.94750159,  9.93703495,  9.9265793 ,  9.9161346 ,  9.90570086,\n",
        "        9.89527805,  9.88486616,  9.87446517,  9.86407507,  9.85369585,\n",
        "        9.84332748,  9.83296995,  9.82262325,  9.81228736,  9.80196227,\n",
        "        9.79164796,  9.78134442,  9.77105163,  9.76076958,  9.75049825,\n",
        "        9.74023763,  9.7299877 ,  9.71974844,  9.70951985,  9.69930191,\n",
        "        9.68909459,  9.6788979 ,  9.66871181,  9.65853631,  9.64837138,\n",
        "        9.63821701,  9.62807319,  9.61793989,  9.60781711,  9.59770483,\n",
        "        9.58760304,  9.57751172,  9.56743086,  9.55736044,  9.54730045,\n",
        "        9.53725088,  9.5272117 ,  9.51718291,  9.50716449,  9.49715642,\n",
        "        9.4871587 ,  9.47717131,  9.46719423,  9.45722745,  9.44727096,\n",
        "        9.43732474,  9.42738877,  9.41746306,  9.40754756,  9.39764229,\n",
        "        9.38774722,  9.37786233,  9.36798762,  9.35812307,  9.34826867,\n",
        "        9.3384244 ,  9.32859025,  9.3187662 ,  9.30895224,  9.29914836,\n",
        "        9.28935455,  9.27957078,  9.26979706,  9.26003335,  9.25027966,\n",
        "        9.24053596,  9.23080224,  9.22107848,  9.21136469,  9.20166083,\n",
        "        9.1919669 ,  9.18228289,  9.17260877,  9.16294455,  9.15329019,\n",
        "        9.1436457 ,  9.13401105,  9.12438624,  9.11477125,  9.10516606,\n",
        "        9.09557067,  9.08598506,  9.07640922,  9.06684313,  9.05728679,\n",
        "        9.04774017,  9.03820327,  9.02867607,  9.01915856,  9.00965072,\n",
        "        9.00015255,  8.99066403,  8.98118514,  8.97171589,  8.96225623,\n",
        "        8.95280619,  8.94336572,  8.93393483,  8.92451358,  8.91510171,\n",
        "        8.90569946,  8.89630673,  8.8869235 ,  8.87754978,  8.86818554,\n",
        "        8.85883076,  8.84948545,  8.84014958,  8.83082315,  8.82150613,\n",
        "        8.81219852,  8.80290031,  8.79361148,  8.78433203,  8.77506192,\n",
        "        8.76580117,  8.75654974,  8.74730764,  8.73807485,  8.72885136,\n",
        "        8.71963714,  8.71043221,  8.70123652,  8.69205009,  8.68287289,\n",
        "        8.67370491,  8.66454614,  8.65539656,  8.64625618,  8.63712496,\n",
        "        8.62800292,  8.61889001,  8.60978625,  8.60069173,  8.59160609,\n",
        "        8.58252966,  8.57346233,  8.56440407,  8.55535488,  8.54631474,\n",
        "        8.53728364,  8.52826158,  8.51924853,  8.51024449,  8.50124944,\n",
        "        8.49226338,  8.48328628,  8.47431817,  8.46535896,  8.45640871,\n",
        "        8.44746738,  8.43853497,  8.42961145,  8.42069683,  8.41179107,\n",
        "        8.40289419,  8.39400616,  8.38512698,  8.37625662,  8.36739509,\n",
        "        8.35854236,  8.34969843,  8.34086328,  8.33203691,  8.3232193 ,\n",
        "        8.31441059,  8.30561032,  8.29681893,  8.28803625,  8.27926228,\n",
        "        8.27049701,  8.26174041,  8.2529925 ,  8.24425324,  8.23552263,\n",
        "        8.22680066,  8.21808731,  8.20938258,  8.20068646,  8.19199893,\n",
        "        8.18331998,  8.17464961,  8.16598779,  8.15733453,  8.1486898 ,\n",
        "        8.1400536 ,  8.13142592,  8.12280674,  8.11419606,  8.10559386,\n",
        "        8.09700013,  8.08841486,  8.07983805,  8.07126968,  8.06270973,\n",
        "        8.05415821,  8.04561509,  8.03708037,  8.02855404,  8.02003607,\n",
        "        8.01152648,  8.00302524,  7.99453234,  7.98604778,  7.97757154,\n",
        "        7.96910361,  7.96064402,  7.95219264,  7.94374958,  7.93531479,\n",
        "        7.92688825,  7.91846997,  7.91005993,  7.9016581 ,  7.8932645 ,\n",
        "        7.8848791 ,  7.8765019 ,  7.86813289,  7.85977204,  7.85141937,\n",
        "        7.84307484,  7.83473846,  7.82641022,  7.8180901 ,  7.80977808,\n",
        "        7.80147418,  7.79317836,  7.78489062,  7.77661096,  7.76833935,\n",
        "        7.7600758 ,  7.7518203 ,  7.74357282,  7.73533336,  7.72710191,\n",
        "        7.71887846,  7.710663  ,  7.70245552,  7.69425601,  7.68606446,\n",
        "        7.67788087,  7.66970521,  7.66153748,  7.65337768,  7.64522578,\n",
        "        7.63708178,  7.6289457 ,  7.62081747,  7.6126971 ,  7.60458461,\n",
        "        7.59647997,  7.58838317,  7.5802942 ,  7.57221305,  7.56413971,\n",
        "        7.55607418,  7.54801644,  7.53996648,  7.5319243 ,  7.52388987,\n",
        "        7.5158632 ,  7.50784427,  7.49983308,  7.49182964,  7.48383387,\n",
        "        7.47584582,  7.46786547,  7.4598928 ,  7.45192781,  7.44397049,\n",
        "        7.43602083,  7.42807881,  7.42014443,  7.41221768,  7.40429855,\n",
        "        7.39638703,  7.38848311,  7.38058678,  7.37269802,  7.36481685,\n",
        "        7.35694324,  7.34907718,  7.34121866,  7.33336768,  7.32552423,\n",
        "        7.31768829,  7.30985986,  7.30203892,  7.29422548,  7.28641951,\n",
        "        7.27862101,  7.27082998,  7.26304639,  7.25527025,  7.24750154,\n",
        "        7.23974026,  7.23198639,  7.22423992,  7.21650087,  7.20876918,\n",
        "        7.20104487,  7.19332794,  7.18561837,  7.17791615,  7.17022127,\n",
        "        7.16253373,  7.15485351,  7.1471806 ,  7.139515  ,  7.13185671,\n",
        "        7.12420569,  7.11656196,  7.1089255 ,  7.1012963 ,  7.09367435,\n",
        "        7.08605965,  7.07845218,  7.07085194,  7.06325891,  7.0556731 ,\n",
        "        7.04809449,  7.04052306,  7.03295882,  7.02540175,  7.01785185,\n",
        "        7.0103091 ,  7.00277351,  6.99524505,  6.98772372,  6.98020951,\n",
        "        6.97270241,  6.96520242,  6.95770953,  6.95022372,  6.94274499,\n",
        "        6.93527333,  6.92780874,  6.92035119,  6.91290069,  6.90545722,\n",
        "        6.8980208 ,  6.89059137,  6.88316896,  6.87575355,  6.86834514,\n",
        "        6.86094371,  6.85354926,  6.84616178,  6.83878125,  6.83140768,\n",
        "        6.82404105,  6.81668136,  6.80932858,  6.80198275,  6.79464379,\n",
        "        6.78731175,  6.7799866 ,  6.77266834,  6.76535697,  6.75805245,\n",
        "        6.75075477,  6.74346398,  6.73618   ,  6.72890288,  6.72163257,\n",
        "        6.71436909,  6.70711242,  6.69986255,  6.69261948,  6.68538319,\n",
        "        6.67815368,  6.67093093,  6.66371497,  6.65650573,  6.64930327,\n",
        "        6.64210751,  6.6349185 ,  6.62773621,  6.62056064,  6.61339176,\n",
        "        6.60622959,  6.59907411,  6.59192531,  6.58478318,  6.57764772,\n",
        "        6.57051892,  6.56339677,  6.55628126,  6.54917238,  6.54207015,\n",
        "        6.5349745 ,  6.52788548,  6.52080306,  6.51372724,  6.506658  ,\n",
        "        6.49959535,  6.49253927,  6.48548975,  6.47844678,  6.47141036,\n",
        "        6.46438049,  6.45735714,  6.45034034,  6.44333003,  6.43632624,\n",
        "        6.42932895,  6.42233816,  6.41535385,  6.40837602,  6.40140466,\n",
        "        6.39443977,  6.38748134,  6.38052935,  6.3735838 ,  6.36664469,\n",
        "        6.359712  ,  6.35278574,  6.34586588,  6.33895242,  6.33204537,\n",
        "        6.32514469,  6.31825041,  6.31136249,  6.30448094,  6.29760575,\n",
        "        6.29073691,  6.28387441,  6.27701825,  6.27016842,  6.26332491,\n",
        "        6.25648771,  6.24965682,  6.24283224,  6.23601393,  6.22920191,\n",
        "        6.22239617,  6.2155967 ,  6.2088035 ,  6.20201655,  6.19523584,\n",
        "        6.18846138,  6.18169315,  6.17493115,  6.16817537,  6.16142579,\n",
        "        6.15468243,  6.14794525,  6.14121429,  6.13448948,  6.12777082,\n",
        "        6.1210584 ,  6.11435211,  6.10765197,  6.10095798,  6.09427013,\n",
        "        6.08758841,  6.08091281,  6.07424334,  6.06757998,  6.06092272,\n",
        "        6.05427156,  6.04762649,  6.0409875 ,  6.03435458,  6.02772774,\n",
        "        6.02110697,  6.01449224,  6.00788356,  6.00128092,  5.99468432,\n",
        "        5.98809375,  5.98150919,  5.97493065,  5.96835812,  5.96179159,\n",
        "        5.95523105,  5.94867649,  5.94212791,  5.93558531,  5.92904867,\n",
        "        5.922518  ,  5.91599326,  5.90947448,  5.90296163,  5.89645472,\n",
        "        5.88995372,  5.88345865,  5.87696949,  5.87048623,  5.86400887])"
       ]
      }
     ],
     "prompt_number": 14
    },
    {
     "cell_type": "code",
     "collapsed": false,
     "input": [
      "import time\n",
      "from IPython import display\n",
      "for i in range(nt):\n",
      "    #plt.loglog(r, sigarray[:, i])\n",
      "    plt.loglog(r, sigparray[:, i], label = 'Ana')\n",
      "    plt.axvline(x = rv[i], ls = '--', c = 'black')\n",
      "    #plt.loglog(r, sigparray_Til[i], label = 'Til')\n",
      "    #plt.loglog(r, sigparray_Til_var_dt[i], label = 'Til variable timestep')\n",
      "    #plt.loglog(r[:-1], -array1[:, i, 2], '--b')\n",
      "    #plt.title('s=0.001 cm')\n",
      "    plt.xlabel('a [AU]')\n",
      "    plt.ylabel(r'$\\Sigma_{\\rm d}$ [g cm$^{-2}$]')\n",
      "    plt.title(str(t[i] / (365*24*3600)))\n",
      "    plt.ylim(2e-8, 2e5)\n",
      "    plt.xlim(0.5,500)\n",
      "    plt.legend()\n",
      "    display.clear_output(wait=True)\n",
      "    plt.savefig('../figs/Sigma_disk_profiles_ring_check/' +str(s) +'/sigmad_vs_a_t_delta_dt_drift_distance' + str(i) + '_.pdf')\n",
      "    plt.show()\n",
      "    display.display(plt.gcf())\n",
      "    time.sleep(0.00001)"
     ],
     "language": "python",
     "metadata": {},
     "outputs": [
      {
       "metadata": {},
       "output_type": "display_data",
       "png": "[encoded data removed]",
       "text": [
        "<matplotlib.figure.Figure at 0x102072050>"
       ]
      },
      {
       "metadata": {},
       "output_type": "display_data",
       "text": [
        "<matplotlib.figure.Figure at 0x10c954a50>"
       ]
      },
      {
       "metadata": {},
       "output_type": "display_data",
       "text": [
        "<matplotlib.figure.Figure at 0x10c954a50>"
       ]
      }
     ],
     "prompt_number": 11
    },
    {
     "cell_type": "code",
     "collapsed": false,
     "input": [
      "s=1.0\n",
      "nt = 500\n",
      "nr = 500\n",
      "alpha=0.01\n",
      "Mdisk=0.1*Msun\n",
      "\n",
      "\n",
      "r = logspace(np.log10(0.05),np.log10(4e3),nr)\n",
      "t = np.linspace(1,2e4,nt)*365*24*3600\n",
      "dt = t[1] - t[0]\n",
      "\n",
      "#f=open('advection_from_Til/data_' + str(s)+ '_gaussian/sigma_d.dat', 'r')\n",
      "\n",
      "#sigparray_Til = np.ndarray(shape = (nt, nr), dtype = float)\n",
      "#sigparray_Til_var_dt = np.ndarray(shape = (nt, nr), dtype = float)\n",
      "\n",
      "#for j in range(nt):\n",
      "#    line = f.readline().split()\n",
      "#    for i in range(nr):\n",
      "#        sigparray_Til[j ,i] = float(line[i])\n",
      "        \n",
      "#f.close()\n",
      "\n",
      "#f=open('advection_from_Til/data_' + str(s)+ '_gaussian_var_dt/sigma_d.dat', 'r')\n",
      "\n",
      "#for j in range(nt):\n",
      "#    line = f.readline().split()\n",
      "#    for i in range(nr):\n",
      "#        sigparray_Til_var_dt[j ,i] = float(line[i])\n",
      "        \n",
      "#f.close()\n",
      "\n",
      "sigparray = Sigmap_act(r[0], r[-1], nr, t[0], t[-1], nt, s, alpha, Mdisk, 100*AU, rhos = 2.0, mu = 2.3, gammadflag = 0)\n",
      "rv = [rdrift(10., t[0], t[1], s, 0.01, 1e-3, Mdisk, rhos = 2.0, mu = 2.3)]\n",
      "for i in range(1, nt):\n",
      "    rv = np.append(rv, rdrift(10., t[0], t[i], s, 0.01, 1e-3, Mdisk, rhos = 2.0, mu = 2.3))"
     ],
     "language": "python",
     "metadata": {},
     "outputs": [],
     "prompt_number": 12
    },
    {
     "cell_type": "code",
     "collapsed": false,
     "input": [
      "import time\n",
      "from IPython import display\n",
      "for i in range(nt):\n",
      "    #plt.loglog(r, sigarray[:, i])\n",
      "    plt.loglog(r, sigparray[:, i], label = 'Ana')\n",
      "    plt.axvline(x = rv[i], ls = '--', c = 'black')\n",
      "    #plt.loglog(r, sigparray_Til[i], label = 'Til')\n",
      "    #plt.loglog(r, sigparray_Til_var_dt[i], label = 'Til variable timestep')\n",
      "    #plt.loglog(r[:-1], -array1[:, i, 2], '--b')\n",
      "    #plt.title('s=0.001 cm')\n",
      "    plt.xlabel('a [AU]')\n",
      "    plt.ylabel(r'$\\Sigma_{\\rm d}$ [g cm$^{-2}$]')\n",
      "    plt.title(str(t[i] / (365*24*3600)))\n",
      "    plt.ylim(2e-8, 2e5)\n",
      "    plt.xlim(0.5,500)\n",
      "    plt.legend()\n",
      "    display.clear_output(wait=True)\n",
      "    plt.savefig('../figs/Sigma_disk_profiles_ring_check/' +str(s) +'/sigmad_vs_a_t_delta_dt_drift_distance' + str(i) + '_.pdf')\n",
      "    plt.show()\n",
      "    display.display(plt.gcf())\n",
      "    time.sleep(0.00001)"
     ],
     "language": "python",
     "metadata": {},
     "outputs": [
      {
       "metadata": {},
       "output_type": "display_data",
       "png": "[encoded data removed]",
       "text": [
        "<matplotlib.figure.Figure at 0x10d5bc090>"
       ]
      },
      {
       "metadata": {},
       "output_type": "display_data",
       "text": [
        "<matplotlib.figure.Figure at 0x10d012210>"
       ]
      },
      {
       "metadata": {},
       "output_type": "display_data",
       "text": [
        "<matplotlib.figure.Figure at 0x10d012210>"
       ]
      }
     ],
     "prompt_number": 15
    },
    {
     "cell_type": "code",
     "collapsed": false,
     "input": [
      "s=1e5\n",
      "nt = 1000\n",
      "nr = 500\n",
      "alpha=0.01\n",
      "Mdisk=0.1*Msun\n",
      "\n",
      "\n",
      "r = logspace(np.log10(0.05),np.log10(4e3),nr)\n",
      "t = np.linspace(1,2e4,nt)*365*24*3600\n",
      "dt = t[1] - t[0]\n",
      "\n",
      "#f=open('advection_from_Til/data_' + str(s)+ '_gaussian/sigma_d.dat', 'r')\n",
      "\n",
      "#sigparray_Til = np.ndarray(shape = (nt, nr), dtype = float)\n",
      "#sigparray_Til_var_dt = np.ndarray(shape = (nt, nr), dtype = float)\n",
      "\n",
      "#for j in range(nt):\n",
      "#    line = f.readline().split()\n",
      "#    for i in range(nr):\n",
      "#        sigparray_Til[j ,i] = float(line[i])\n",
      "        \n",
      "#f.close()\n",
      "\n",
      "#f=open('advection_from_Til/data_' + str(s)+ '_gaussian_var_dt/sigma_d.dat', 'r')\n",
      "\n",
      "#for j in range(nt):\n",
      "#    line = f.readline().split()\n",
      "#    for i in range(nr):\n",
      "#        sigparray_Til_var_dt[j ,i] = float(line[i])\n",
      "        \n",
      "#f.close()\n",
      "\n",
      "sigparray = Sigmap_act(r[0], r[-1], nr, t[0], t[-1], nt, s, alpha, Mdisk, 100*AU, rhos = 2.0, mu = 2.3, gammadflag = 0)"
     ],
     "language": "python",
     "metadata": {},
     "outputs": [],
     "prompt_number": 7
    },
    {
     "cell_type": "code",
     "collapsed": false,
     "input": [
      "import time\n",
      "from IPython import display\n",
      "for i in range(nt):\n",
      "    #plt.loglog(r, sigarray[:, i])\n",
      "    plt.loglog(r, sigparray[:, i], label = 'Ana')\n",
      "    #plt.loglog(r, sigparray_Til[i], label = 'Til')\n",
      "    #plt.loglog(r, sigparray_Til_var_dt[i], label = 'Til variable timestep')\n",
      "    #plt.loglog(r[:-1], -array1[:, i, 2], '--b')\n",
      "    #plt.title('s=0.001 cm')\n",
      "    plt.xlabel('a [AU]')\n",
      "    plt.ylabel(r'$\\Sigma_{\\rm d}$ [g cm$^{-2}$]')\n",
      "    plt.title(str(t[i] / (365*24*3600)))\n",
      "    plt.ylim(2e-8, 2e5)\n",
      "    plt.xlim(0.5,500)\n",
      "    plt.legend()\n",
      "    display.clear_output(wait=True)\n",
      "    plt.savefig('../figs/Sigma_disk_profiles_ring_check/' +str(s) +'/sigmad_vs_a_t_delta_dt_20yr' + str(i) + '_.pdf')\n",
      "    plt.show()\n",
      "    display.display(plt.gcf())\n",
      "    time.sleep(0.00001)"
     ],
     "language": "python",
     "metadata": {},
     "outputs": [
      {
       "metadata": {},
       "output_type": "display_data",
       "png": "[encoded data removed]",
       "text": [
        "<matplotlib.figure.Figure at 0x10cca0690>"
       ]
      },
      {
       "metadata": {},
       "output_type": "display_data",
       "text": [
        "<matplotlib.figure.Figure at 0x102015790>"
       ]
      },
      {
       "metadata": {},
       "output_type": "display_data",
       "text": [
        "<matplotlib.figure.Figure at 0x102015790>"
       ]
      }
     ],
     "prompt_number": 8
    },
    {
     "cell_type": "code",
     "collapsed": false,
     "input": [
      "s=1e-3\n",
      "nt = 500\n",
      "nr = 500\n",
      "alpha=0.01\n",
      "Mdisk=0.1*Msun\n",
      "\n",
      "\n",
      "r = logspace(np.log10(0.05),np.log10(4e3),nr)\n",
      "t = np.linspace(1,5e4,nt)*365*24*3600\n",
      "dt = t[1] - t[0]\n",
      "\n",
      "#f=open('advection_from_Til/data_' + str(s)+ '_gaussian/sigma_d.dat', 'r')\n",
      "\n",
      "#sigparray_Til = np.ndarray(shape = (nt, nr), dtype = float)\n",
      "#sigparray_Til_var_dt = np.ndarray(shape = (nt, nr), dtype = float)\n",
      "\n",
      "#for j in range(nt):\n",
      "#    line = f.readline().split()\n",
      "#    for i in range(nr):\n",
      "#        sigparray_Til[j ,i] = float(line[i])\n",
      "        \n",
      "#f.close()\n",
      "\n",
      "#f=open('advection_from_Til/data_' + str(s)+ '_gaussian_var_dt/sigma_d.dat', 'r')\n",
      "\n",
      "#for j in range(nt):\n",
      "#    line = f.readline().split()\n",
      "#    for i in range(nr):\n",
      "#        sigparray_Til_var_dt[j ,i] = float(line[i])\n",
      "        \n",
      "#f.close()\n",
      "\n",
      "sigparray = Sigmap_act_fixed(r[0], r[-1], nr, t[0], t[-1], nt, s, alpha, Mdisk, 100*AU, rhos = 2.0, mu = 2.3, gammadflag = 0, sigmad_dt = 0, dif = 0)\n",
      "rv = [rdrift_fixed(10., t[0], t[1], s, rhos = 2.0, mu=2.3)]\n",
      "for i in range(1, nt):\n",
      "    rv = np.append(rv, rdrift_fixed(10., t[0], t[i], s, rhos = 2.0, mu=2.3))"
     ],
     "language": "python",
     "metadata": {},
     "outputs": [],
     "prompt_number": 4
    },
    {
     "cell_type": "code",
     "collapsed": false,
     "input": [
      "import time\n",
      "from IPython import display\n",
      "for i in range(nt):\n",
      "    #plt.loglog(r, sigarray[:, i])\n",
      "    plt.loglog(r, sigparray[:, i], label = 'Ana')\n",
      "    plt.axvline(x = rv[i], ls = '--', c = 'black')\n",
      "    #plt.loglog(r, sigparray_Til[i], label = 'Til')\n",
      "    #plt.loglog(r, sigparray_Til_var_dt[i], label = 'Til variable timestep')\n",
      "    #plt.loglog(r[:-1], -array1[:, i, 2], '--b')\n",
      "    #plt.title('s=0.001 cm')\n",
      "    plt.xlabel('a [AU]')\n",
      "    plt.ylabel(r'$\\Sigma_{\\rm d}$ [g cm$^{-2}$]')\n",
      "    plt.title(str(t[i] / (365*24*3600)))\n",
      "    plt.ylim(2e-8, 2e5)\n",
      "    plt.xlim(0,100)\n",
      "    plt.legend()\n",
      "    display.clear_output(wait=True)\n",
      "    plt.savefig('../figs/Sigma_disk_profiles_ring_check/' +str(s) +'/sigmad_vs_a_t_delta_dt_fixed_drift_distance' + str(i) + '_.pdf')\n",
      "    plt.show()\n",
      "    display.display(plt.gcf())\n",
      "    time.sleep(0.00001)"
     ],
     "language": "python",
     "metadata": {},
     "outputs": [
      {
       "metadata": {},
       "output_type": "display_data",
       "png": "[encoded data removed]",
       "text": [
        "<matplotlib.figure.Figure at 0x10caca3d0>"
       ]
      },
      {
       "metadata": {},
       "output_type": "display_data",
       "text": [
        "<matplotlib.figure.Figure at 0x10d1788d0>"
       ]
      },
      {
       "metadata": {},
       "output_type": "display_data",
       "text": [
        "<matplotlib.figure.Figure at 0x10d1788d0>"
       ]
      }
     ],
     "prompt_number": 5
    },
    {
     "cell_type": "code",
     "collapsed": false,
     "input": [
      "set_printoptions(threshold=nan)\n",
      "print r\n"
     ],
     "language": "python",
     "metadata": {},
     "outputs": [
      {
       "output_type": "stream",
       "stream": "stdout",
       "text": [
        "[  5.00000000e-02   5.01130480e-02   5.02263516e-02   5.03399114e-02\n",
        "   5.04537279e-02   5.05678018e-02   5.06821336e-02   5.07967239e-02\n",
        "   5.09115732e-02   5.10266823e-02   5.11420516e-02   5.12576817e-02\n",
        "   5.13735733e-02   5.14897269e-02   5.16061431e-02   5.17228226e-02\n",
        "   5.18397658e-02   5.19569735e-02   5.20744461e-02   5.21921844e-02\n",
        "   5.23101888e-02   5.24284601e-02   5.25469987e-02   5.26658054e-02\n",
        "   5.27848807e-02   5.29042252e-02   5.30238395e-02   5.31437243e-02\n",
        "   5.32638802e-02   5.33843077e-02   5.35050075e-02   5.36259802e-02\n",
        "   5.37472264e-02   5.38687467e-02   5.39905418e-02   5.41126123e-02\n",
        "   5.42349587e-02   5.43575818e-02   5.44804822e-02   5.46036604e-02\n",
        "   5.47271171e-02   5.48508529e-02   5.49748685e-02   5.50991645e-02\n",
        "   5.52237415e-02   5.53486002e-02   5.54737412e-02   5.55991651e-02\n",
        "   5.57248726e-02   5.58508643e-02   5.59771409e-02   5.61037030e-02\n",
        "   5.62305512e-02   5.63576862e-02   5.64851087e-02   5.66128193e-02\n",
        "   5.67408186e-02   5.68691074e-02   5.69976862e-02   5.71265556e-02\n",
        "   5.72557165e-02   5.73851694e-02   5.75149150e-02   5.76449539e-02\n",
        "   5.77752869e-02   5.79059145e-02   5.80368375e-02   5.81680564e-02\n",
        "   5.82995721e-02   5.84313851e-02   5.85634962e-02   5.86959059e-02\n",
        "   5.88286150e-02   5.89616241e-02   5.90949340e-02   5.92285453e-02\n",
        "   5.93624587e-02   5.94966749e-02   5.96311945e-02   5.97660182e-02\n",
        "   5.99011468e-02   6.00365809e-02   6.01723213e-02   6.03083685e-02\n",
        "   6.04447233e-02   6.05813864e-02   6.07183585e-02   6.08556403e-02\n",
        "   6.09932325e-02   6.11311358e-02   6.12693508e-02   6.14078784e-02\n",
        "   6.15467191e-02   6.16858738e-02   6.18253431e-02   6.19651278e-02\n",
        "   6.21052285e-02   6.22456459e-02   6.23863808e-02   6.25274340e-02\n",
        "   6.26688060e-02   6.28104977e-02   6.29525097e-02   6.30948428e-02\n",
        "   6.32374978e-02   6.33804752e-02   6.35237760e-02   6.36674007e-02\n",
        "   6.38113501e-02   6.39556251e-02   6.41002262e-02   6.42451542e-02\n",
        "   6.43904100e-02   6.45359941e-02   6.46819074e-02   6.48281507e-02\n",
        "   6.49747245e-02   6.51216298e-02   6.52688672e-02   6.54164375e-02\n",
        "   6.55643415e-02   6.57125798e-02   6.58611534e-02   6.60100628e-02\n",
        "   6.61593089e-02   6.63088925e-02   6.64588143e-02   6.66090750e-02\n",
        "   6.67596755e-02   6.69106164e-02   6.70618987e-02   6.72135230e-02\n",
        "   6.73654901e-02   6.75178008e-02   6.76704558e-02   6.78234560e-02\n",
        "   6.79768022e-02   6.81304950e-02   6.82845353e-02   6.84389240e-02\n",
        "   6.85936616e-02   6.87487492e-02   6.89041874e-02   6.90599770e-02\n",
        "   6.92161188e-02   6.93726137e-02   6.95294624e-02   6.96866658e-02\n",
        "   6.98442246e-02   7.00021396e-02   7.01604116e-02   7.03190415e-02\n",
        "   7.04780301e-02   7.06373781e-02   7.07970864e-02   7.09571558e-02\n",
        "   7.11175871e-02   7.12783811e-02   7.14395387e-02   7.16010607e-02\n",
        "   7.17629478e-02   7.19252010e-02   7.20878210e-02   7.22508087e-02\n",
        "   7.24141649e-02   7.25778904e-02   7.27419862e-02   7.29064529e-02\n",
        "   7.30712915e-02   7.32365028e-02   7.34020876e-02   7.35680468e-02\n",
        "   7.37343812e-02   7.39010917e-02   7.40681791e-02   7.42356443e-02\n",
        "   7.44034882e-02   7.45717115e-02   7.47403152e-02   7.49093000e-02\n",
        "   7.50786670e-02   7.52484169e-02   7.54185505e-02   7.55890689e-02\n",
        "   7.57599728e-02   7.59312630e-02   7.61029406e-02   7.62750063e-02\n",
        "   7.64474611e-02   7.66203057e-02   7.67935412e-02   7.69671683e-02\n",
        "   7.71411880e-02   7.73156012e-02   7.74904087e-02   7.76656114e-02\n",
        "   7.78412103e-02   7.80172062e-02   7.81936000e-02   7.83703926e-02\n",
        "   7.85475849e-02   7.87251779e-02   7.89031724e-02   7.90815693e-02\n",
        "   7.92603696e-02   7.94395741e-02   7.96191838e-02   7.97991996e-02\n",
        "   7.99796224e-02   8.01604532e-02   8.03416928e-02   8.05233422e-02\n",
        "   8.07054022e-02   8.08878739e-02   8.10707582e-02   8.12540559e-02\n",
        "   8.14377681e-02   8.16218957e-02   8.18064395e-02   8.19914006e-02\n",
        "   8.21767799e-02   8.23625784e-02   8.25487969e-02   8.27354364e-02\n",
        "   8.29224979e-02   8.31099824e-02   8.32978908e-02   8.34862240e-02\n",
        "   8.36749830e-02   8.38641688e-02   8.40537824e-02   8.42438246e-02\n",
        "   8.44342966e-02   8.46251991e-02   8.48165333e-02   8.50083002e-02\n",
        "   8.52005005e-02   8.53931355e-02   8.55862060e-02   8.57797130e-02\n",
        "   8.59736575e-02   8.61680405e-02   8.63628630e-02   8.65581260e-02\n",
        "   8.67538305e-02   8.69499774e-02   8.71465679e-02   8.73436028e-02\n",
        "   8.75410832e-02   8.77390101e-02   8.79373845e-02   8.81362074e-02\n",
        "   8.83354799e-02   8.85352029e-02   8.87353775e-02   8.89360046e-02\n",
        "   8.91370854e-02   8.93386208e-02   8.95406118e-02   8.97430596e-02\n",
        "   8.99459651e-02   9.01493293e-02   9.03531534e-02   9.05574383e-02\n",
        "   9.07621850e-02   9.09673947e-02   9.11730684e-02   9.13792071e-02\n",
        "   9.15858118e-02   9.17928837e-02   9.20004237e-02   9.22084330e-02\n",
        "   9.24169126e-02   9.26258636e-02   9.28352870e-02   9.30451839e-02\n",
        "   9.32555553e-02   9.34664024e-02   9.36777262e-02   9.38895278e-02\n",
        "   9.41018083e-02   9.43145688e-02   9.45278103e-02   9.47415339e-02\n",
        "   9.49557407e-02   9.51704319e-02   9.53856084e-02   9.56012715e-02\n",
        "   9.58174221e-02   9.60340615e-02   9.62511907e-02   9.64688108e-02\n",
        "   9.66869230e-02   9.69055282e-02   9.71246278e-02   9.73442227e-02\n",
        "   9.75643141e-02   9.77849031e-02   9.80059909e-02   9.82275786e-02\n",
        "   9.84496672e-02   9.86722580e-02   9.88953520e-02   9.91189505e-02\n",
        "   9.93430545e-02   9.95676652e-02   9.97927837e-02   1.00018411e-01\n",
        "   1.00244549e-01   1.00471198e-01   1.00698359e-01   1.00926034e-01\n",
        "   1.01154224e-01   1.01382930e-01   1.01612152e-01   1.01841893e-01\n",
        "   1.02072154e-01   1.02302935e-01   1.02534238e-01   1.02766064e-01\n",
        "   1.02998414e-01   1.03231289e-01   1.03464691e-01   1.03698620e-01\n",
        "   1.03933079e-01   1.04168067e-01   1.04403587e-01   1.04639639e-01\n",
        "   1.04876226e-01   1.05113347e-01   1.05351004e-01   1.05589198e-01\n",
        "   1.05827931e-01   1.06067204e-01   1.06307017e-01   1.06547373e-01\n",
        "   1.06788273e-01   1.07029717e-01   1.07271707e-01   1.07514244e-01\n",
        "   1.07757329e-01   1.08000964e-01   1.08245150e-01   1.08489888e-01\n",
        "   1.08735179e-01   1.08981025e-01   1.09227427e-01   1.09474386e-01\n",
        "   1.09721903e-01   1.09969980e-01   1.10218618e-01   1.10467818e-01\n",
        "   1.10717581e-01   1.10967909e-01   1.11218803e-01   1.11470264e-01\n",
        "   1.11722294e-01   1.11974894e-01   1.12228065e-01   1.12481808e-01\n",
        "   1.12736125e-01   1.12991017e-01   1.13246485e-01   1.13502531e-01\n",
        "   1.13759155e-01   1.14016360e-01   1.14274147e-01   1.14532516e-01\n",
        "   1.14791469e-01   1.15051008e-01   1.15311134e-01   1.15571848e-01\n",
        "   1.15833151e-01   1.16095046e-01   1.16357532e-01   1.16620612e-01\n",
        "   1.16884286e-01   1.17148557e-01   1.17413425e-01   1.17678892e-01\n",
        "   1.17944959e-01   1.18211628e-01   1.18478900e-01   1.18746776e-01\n",
        "   1.19015258e-01   1.19284347e-01   1.19554044e-01   1.19824351e-01\n",
        "   1.20095269e-01   1.20366799e-01   1.20638944e-01   1.20911704e-01\n",
        "   1.21185080e-01   1.21459075e-01   1.21733689e-01   1.22008924e-01\n",
        "   1.22284781e-01   1.22561262e-01   1.22838369e-01   1.23116101e-01\n",
        "   1.23394462e-01   1.23673452e-01   1.23953073e-01   1.24233326e-01\n",
        "   1.24514212e-01   1.24795734e-01   1.25077892e-01   1.25360688e-01\n",
        "   1.25644124e-01   1.25928200e-01   1.26212919e-01   1.26498281e-01\n",
        "   1.26784289e-01   1.27070943e-01   1.27358245e-01   1.27646197e-01\n",
        "   1.27934800e-01   1.28224056e-01   1.28513965e-01   1.28804530e-01\n",
        "   1.29095752e-01   1.29387632e-01   1.29680173e-01   1.29973374e-01\n",
        "   1.30267239e-01   1.30561768e-01   1.30856963e-01   1.31152825e-01\n",
        "   1.31449357e-01   1.31746558e-01   1.32044432e-01   1.32342979e-01\n",
        "   1.32642202e-01   1.32942100e-01   1.33242677e-01   1.33543933e-01\n",
        "   1.33845871e-01   1.34148491e-01   1.34451796e-01   1.34755786e-01\n",
        "   1.35060463e-01   1.35365830e-01   1.35671886e-01   1.35978635e-01\n",
        "   1.36286077e-01   1.36594215e-01   1.36903049e-01   1.37212581e-01\n",
        "   1.37522813e-01   1.37833747e-01   1.38145384e-01   1.38457725e-01\n",
        "   1.38770772e-01   1.39084527e-01   1.39398992e-01   1.39714167e-01\n",
        "   1.40030056e-01   1.40346658e-01   1.40663976e-01   1.40982012e-01\n",
        "   1.41300767e-01   1.41620242e-01   1.41940440e-01   1.42261361e-01\n",
        "   1.42583009e-01   1.42905383e-01   1.43228487e-01   1.43552320e-01\n",
        "   1.43876887e-01   1.44202186e-01   1.44528222e-01   1.44854994e-01\n",
        "   1.45182506e-01   1.45510758e-01   1.45839752e-01   1.46169490e-01\n",
        "   1.46499973e-01   1.46831204e-01   1.47163183e-01   1.47495913e-01\n",
        "   1.47829396e-01   1.48163632e-01   1.48498624e-01   1.48834374e-01\n",
        "   1.49170882e-01   1.49508152e-01   1.49846184e-01   1.50184980e-01\n",
        "   1.50524542e-01   1.50864872e-01   1.51205971e-01   1.51547842e-01\n",
        "   1.51890486e-01   1.52233904e-01   1.52578099e-01   1.52923072e-01\n",
        "   1.53268825e-01   1.53615360e-01   1.53962678e-01   1.54310781e-01\n",
        "   1.54659672e-01   1.55009351e-01   1.55359821e-01   1.55711084e-01\n",
        "   1.56063140e-01   1.56415993e-01   1.56769643e-01   1.57124093e-01\n",
        "   1.57479344e-01   1.57835399e-01   1.58192258e-01   1.58549925e-01\n",
        "   1.58908400e-01   1.59267685e-01   1.59627783e-01   1.59988695e-01\n",
        "   1.60350423e-01   1.60712969e-01   1.61076335e-01   1.61440522e-01\n",
        "   1.61805533e-01   1.62171369e-01   1.62538032e-01   1.62905524e-01\n",
        "   1.63273847e-01   1.63643002e-01   1.64012993e-01   1.64383819e-01\n",
        "   1.64755485e-01   1.65127990e-01   1.65501338e-01   1.65875530e-01\n",
        "   1.66250568e-01   1.66626454e-01   1.67003190e-01   1.67380777e-01\n",
        "   1.67759218e-01   1.68138515e-01   1.68518670e-01   1.68899684e-01\n",
        "   1.69281559e-01   1.69664298e-01   1.70047902e-01   1.70432374e-01\n",
        "   1.70817715e-01   1.71203927e-01   1.71591012e-01   1.71978973e-01\n",
        "   1.72367810e-01   1.72757527e-01   1.73148125e-01   1.73539606e-01\n",
        "   1.73931972e-01   1.74325225e-01   1.74719368e-01   1.75114401e-01\n",
        "   1.75510328e-01   1.75907150e-01   1.76304869e-01   1.76703487e-01\n",
        "   1.77103007e-01   1.77503429e-01   1.77904758e-01   1.78306993e-01\n",
        "   1.78710138e-01   1.79114195e-01   1.79519165e-01   1.79925050e-01\n",
        "   1.80331854e-01   1.80739577e-01   1.81148222e-01   1.81557791e-01\n",
        "   1.81968286e-01   1.82379709e-01   1.82792062e-01   1.83205348e-01\n",
        "   1.83619568e-01   1.84034724e-01   1.84450819e-01   1.84867855e-01\n",
        "   1.85285834e-01   1.85704758e-01   1.86124629e-01   1.86545450e-01\n",
        "   1.86967221e-01   1.87389947e-01   1.87813628e-01   1.88238267e-01\n",
        "   1.88663866e-01   1.89090428e-01   1.89517954e-01   1.89946446e-01\n",
        "   1.90375908e-01   1.90806340e-01   1.91237746e-01   1.91670127e-01\n",
        "   1.92103485e-01   1.92537823e-01   1.92973144e-01   1.93409448e-01\n",
        "   1.93846739e-01   1.94285019e-01   1.94724290e-01   1.95164554e-01\n",
        "   1.95605813e-01   1.96048070e-01   1.96491327e-01   1.96935586e-01\n",
        "   1.97380849e-01   1.97827120e-01   1.98274399e-01   1.98722689e-01\n",
        "   1.99171994e-01   1.99622314e-01   2.00073652e-01   2.00526010e-01\n",
        "   2.00979392e-01   2.01433798e-01   2.01889232e-01   2.02345695e-01\n",
        "   2.02803191e-01   2.03261721e-01   2.03721287e-01   2.04181893e-01\n",
        "   2.04643540e-01   2.05106231e-01   2.05569968e-01   2.06034754e-01\n",
        "   2.06500590e-01   2.06967480e-01   2.07435425e-01   2.07904428e-01\n",
        "   2.08374492e-01   2.08845618e-01   2.09317810e-01   2.09791069e-01\n",
        "   2.10265398e-01   2.10740800e-01   2.11217277e-01   2.11694830e-01\n",
        "   2.12173464e-01   2.12653180e-01   2.13133980e-01   2.13615868e-01\n",
        "   2.14098845e-01   2.14582914e-01   2.15068077e-01   2.15554337e-01\n",
        "   2.16041697e-01   2.16530159e-01   2.17019725e-01   2.17510398e-01\n",
        "   2.18002180e-01   2.18495074e-01   2.18989083e-01   2.19484209e-01\n",
        "   2.19980454e-01   2.20477821e-01   2.20976312e-01   2.21475931e-01\n",
        "   2.21976679e-01   2.22478560e-01   2.22981575e-01   2.23485727e-01\n",
        "   2.23991020e-01   2.24497454e-01   2.25005034e-01   2.25513762e-01\n",
        "   2.26023639e-01   2.26534670e-01   2.27046856e-01   2.27560200e-01\n",
        "   2.28074704e-01   2.28590372e-01   2.29107206e-01   2.29625208e-01\n",
        "   2.30144381e-01   2.30664729e-01   2.31186252e-01   2.31708955e-01\n",
        "   2.32232840e-01   2.32757909e-01   2.33284166e-01   2.33811612e-01\n",
        "   2.34340251e-01   2.34870085e-01   2.35401116e-01   2.35933349e-01\n",
        "   2.36466785e-01   2.37001427e-01   2.37537278e-01   2.38074340e-01\n",
        "   2.38612617e-01   2.39152110e-01   2.39692824e-01   2.40234760e-01\n",
        "   2.40777921e-01   2.41322310e-01   2.41867930e-01   2.42414784e-01\n",
        "   2.42962874e-01   2.43512204e-01   2.44062775e-01   2.44614591e-01\n",
        "   2.45167655e-01   2.45721969e-01   2.46277537e-01   2.46834361e-01\n",
        "   2.47392443e-01   2.47951788e-01   2.48512397e-01   2.49074274e-01\n",
        "   2.49637421e-01   2.50201841e-01   2.50767537e-01   2.51334513e-01\n",
        "   2.51902770e-01   2.52472312e-01   2.53043142e-01   2.53615262e-01\n",
        "   2.54188676e-01   2.54763387e-01   2.55339397e-01   2.55916709e-01\n",
        "   2.56495326e-01   2.57075252e-01   2.57656489e-01   2.58239040e-01\n",
        "   2.58822908e-01   2.59408097e-01   2.59994608e-01   2.60582445e-01\n",
        "   2.61171612e-01   2.61762111e-01   2.62353944e-01   2.62947116e-01\n",
        "   2.63541629e-01   2.64137486e-01   2.64734691e-01   2.65333245e-01\n",
        "   2.65933153e-01   2.66534417e-01   2.67137041e-01   2.67741027e-01\n",
        "   2.68346379e-01   2.68953100e-01   2.69561192e-01   2.70170659e-01\n",
        "   2.70781504e-01   2.71393730e-01   2.72007341e-01   2.72622338e-01\n",
        "   2.73238727e-01   2.73856509e-01   2.74475687e-01   2.75096266e-01\n",
        "   2.75718248e-01   2.76341636e-01   2.76966433e-01   2.77592643e-01\n",
        "   2.78220269e-01   2.78849314e-01   2.79479781e-01   2.80111674e-01\n",
        "   2.80744995e-01   2.81379748e-01   2.82015937e-01   2.82653564e-01\n",
        "   2.83292632e-01   2.83933145e-01   2.84575107e-01   2.85218520e-01\n",
        "   2.85863388e-01   2.86509713e-01   2.87157500e-01   2.87806752e-01\n",
        "   2.88457472e-01   2.89109663e-01   2.89763328e-01   2.90418471e-01\n",
        "   2.91075096e-01   2.91733205e-01   2.92392802e-01   2.93053891e-01\n",
        "   2.93716474e-01   2.94380555e-01   2.95046138e-01   2.95713226e-01\n",
        "   2.96381821e-01   2.97051929e-01   2.97723551e-01   2.98396693e-01\n",
        "   2.99071356e-01   2.99747544e-01   3.00425261e-01   3.01104511e-01\n",
        "   3.01785296e-01   3.02467621e-01   3.03151488e-01   3.03836901e-01\n",
        "   3.04523865e-01   3.05212381e-01   3.05902454e-01   3.06594087e-01\n",
        "   3.07287284e-01   3.07982049e-01   3.08678384e-01   3.09376293e-01\n",
        "   3.10075781e-01   3.10776850e-01   3.11479504e-01   3.12183747e-01\n",
        "   3.12889582e-01   3.13597012e-01   3.14306043e-01   3.15016676e-01\n",
        "   3.15728916e-01   3.16442767e-01   3.17158231e-01   3.17875314e-01\n",
        "   3.18594017e-01   3.19314345e-01   3.20036302e-01   3.20759892e-01\n",
        "   3.21485117e-01   3.22211982e-01   3.22940491e-01   3.23670646e-01\n",
        "   3.24402453e-01   3.25135914e-01   3.25871033e-01   3.26607814e-01\n",
        "   3.27346262e-01   3.28086379e-01   3.28828169e-01   3.29571636e-01\n",
        "   3.30316785e-01   3.31063618e-01   3.31812139e-01   3.32562353e-01\n",
        "   3.33314264e-01   3.34067874e-01   3.34823188e-01   3.35580210e-01\n",
        "   3.36338943e-01   3.37099392e-01   3.37861561e-01   3.38625452e-01\n",
        "   3.39391071e-01   3.40158421e-01   3.40927505e-01   3.41698329e-01\n",
        "   3.42470895e-01   3.43245208e-01   3.44021272e-01   3.44799090e-01\n",
        "   3.45578667e-01   3.46360007e-01   3.47143113e-01   3.47927990e-01\n",
        "   3.48714641e-01   3.49503071e-01   3.50293284e-01   3.51085283e-01\n",
        "   3.51879073e-01   3.52674657e-01   3.53472041e-01   3.54271227e-01\n",
        "   3.55072220e-01   3.55875024e-01   3.56679643e-01   3.57486082e-01\n",
        "   3.58294344e-01   3.59104433e-01   3.59916354e-01   3.60730110e-01\n",
        "   3.61545707e-01   3.62363147e-01   3.63182436e-01   3.64003577e-01\n",
        "   3.64826574e-01   3.65651433e-01   3.66478156e-01   3.67306749e-01\n",
        "   3.68137215e-01   3.68969558e-01   3.69803784e-01   3.70639895e-01\n",
        "   3.71477897e-01   3.72317794e-01   3.73159590e-01   3.74003289e-01\n",
        "   3.74848895e-01   3.75696414e-01   3.76545848e-01   3.77397204e-01\n",
        "   3.78250484e-01   3.79105693e-01   3.79962836e-01   3.80821917e-01\n",
        "   3.81682940e-01   3.82545910e-01   3.83410831e-01   3.84277707e-01\n",
        "   3.85146544e-01   3.86017345e-01   3.86890115e-01   3.87764858e-01\n",
        "   3.88641579e-01   3.89520282e-01   3.90400972e-01   3.91283653e-01\n",
        "   3.92168330e-01   3.93055007e-01   3.93943688e-01   3.94834379e-01\n",
        "   3.95727084e-01   3.96621807e-01   3.97518554e-01   3.98417327e-01\n",
        "   3.99318133e-01   4.00220975e-01   4.01125859e-01   4.02032789e-01\n",
        "   4.02941769e-01   4.03852804e-01   4.04765899e-01   4.05681059e-01\n",
        "   4.06598287e-01   4.07517590e-01   4.08438971e-01   4.09362435e-01\n",
        "   4.10287987e-01   4.11215632e-01   4.12145374e-01   4.13077219e-01\n",
        "   4.14011170e-01   4.14947233e-01   4.15885412e-01   4.16825712e-01\n",
        "   4.17768138e-01   4.18712696e-01   4.19659388e-01   4.20608221e-01\n",
        "   4.21559200e-01   4.22512328e-01   4.23467612e-01   4.24425055e-01\n",
        "   4.25384664e-01   4.26346441e-01   4.27310394e-01   4.28276526e-01\n",
        "   4.29244842e-01   4.30215347e-01   4.31188047e-01   4.32162946e-01\n",
        "   4.33140049e-01   4.34119362e-01   4.35100888e-01   4.36084634e-01\n",
        "   4.37070604e-01   4.38058803e-01   4.39049237e-01   4.40041910e-01\n",
        "   4.41036827e-01   4.42033994e-01   4.43033415e-01   4.44035096e-01\n",
        "   4.45039041e-01   4.46045257e-01   4.47053747e-01   4.48064518e-01\n",
        "   4.49077574e-01   4.50092921e-01   4.51110563e-01   4.52130506e-01\n",
        "   4.53152755e-01   4.54177315e-01   4.55204192e-01   4.56233391e-01\n",
        "   4.57264916e-01   4.58298774e-01   4.59334969e-01   4.60373507e-01\n",
        "   4.61414394e-01   4.62457633e-01   4.63503231e-01   4.64551194e-01\n",
        "   4.65601526e-01   4.66654232e-01   4.67709319e-01   4.68766791e-01\n",
        "   4.69826654e-01   4.70888913e-01   4.71953574e-01   4.73020643e-01\n",
        "   4.74090123e-01   4.75162022e-01   4.76236345e-01   4.77313096e-01\n",
        "   4.78392282e-01   4.79473908e-01   4.80557979e-01   4.81644502e-01\n",
        "   4.82733481e-01   4.83824922e-01   4.84918831e-01   4.86015213e-01\n",
        "   4.87114074e-01   4.88215420e-01   4.89319255e-01   4.90425587e-01\n",
        "   4.91534419e-01   4.92645759e-01   4.93759612e-01   4.94875982e-01\n",
        "   4.95994877e-01   4.97116302e-01   4.98240262e-01   4.99366764e-01\n",
        "   5.00495812e-01   5.01627413e-01   5.02761573e-01   5.03898297e-01\n",
        "   5.05037591e-01   5.06179460e-01   5.07323912e-01   5.08470951e-01\n",
        "   5.09620584e-01   5.10772816e-01   5.11927653e-01   5.13085101e-01\n",
        "   5.14245166e-01   5.15407854e-01   5.16573170e-01   5.17741122e-01\n",
        "   5.18911714e-01   5.20084952e-01   5.21260844e-01   5.22439394e-01\n",
        "   5.23620608e-01   5.24804494e-01   5.25991056e-01   5.27180301e-01\n",
        "   5.28372234e-01   5.29566863e-01   5.30764193e-01   5.31964229e-01\n",
        "   5.33166979e-01   5.34372448e-01   5.35580643e-01   5.36791570e-01\n",
        "   5.38005234e-01   5.39221643e-01   5.40440801e-01   5.41662716e-01\n",
        "   5.42887394e-01   5.44114841e-01   5.45345063e-01   5.46578067e-01\n",
        "   5.47813858e-01   5.49052443e-01   5.50293829e-01   5.51538021e-01\n",
        "   5.52785027e-01   5.54034852e-01   5.55287502e-01   5.56542985e-01\n",
        "   5.57801307e-01   5.59062473e-01   5.60326491e-01   5.61593367e-01\n",
        "   5.62863108e-01   5.64135719e-01   5.65411207e-01   5.66689579e-01\n",
        "   5.67970842e-01   5.69255001e-01   5.70542064e-01   5.71832037e-01\n",
        "   5.73124927e-01   5.74420739e-01   5.75719482e-01   5.77021160e-01\n",
        "   5.78325782e-01   5.79633354e-01   5.80943882e-01   5.82257373e-01\n",
        "   5.83573834e-01   5.84893271e-01   5.86215691e-01   5.87541102e-01\n",
        "   5.88869509e-01   5.90200919e-01   5.91535340e-01   5.92872778e-01\n",
        "   5.94213239e-01   5.95556732e-01   5.96903262e-01   5.98252837e-01\n",
        "   5.99605462e-01   6.00961146e-01   6.02319896e-01   6.03681717e-01\n",
        "   6.05046617e-01   6.06414604e-01   6.07785683e-01   6.09159862e-01\n",
        "   6.10537148e-01   6.11917549e-01   6.13301070e-01   6.14687719e-01\n",
        "   6.16077503e-01   6.17470430e-01   6.18866506e-01   6.20265739e-01\n",
        "   6.21668135e-01   6.23073702e-01   6.24482447e-01   6.25894377e-01\n",
        "   6.27309499e-01   6.28727821e-01   6.30149349e-01   6.31574092e-01\n",
        "   6.33002056e-01   6.34433248e-01   6.35867677e-01   6.37305348e-01\n",
        "   6.38746270e-01   6.40190450e-01   6.41637895e-01   6.43088613e-01\n",
        "   6.44542611e-01   6.45999896e-01   6.47460476e-01   6.48924358e-01\n",
        "   6.50391550e-01   6.51862060e-01   6.53335894e-01   6.54813060e-01\n",
        "   6.56293567e-01   6.57777420e-01   6.59264629e-01   6.60755200e-01\n",
        "   6.62249141e-01   6.63746460e-01   6.65247164e-01   6.66751262e-01\n",
        "   6.68258760e-01   6.69769666e-01   6.71283989e-01   6.72801735e-01\n",
        "   6.74322913e-01   6.75847530e-01   6.77375595e-01   6.78907114e-01\n",
        "   6.80442096e-01   6.81980548e-01   6.83522479e-01   6.85067896e-01\n",
        "   6.86616808e-01   6.88169221e-01   6.89725144e-01   6.91284585e-01\n",
        "   6.92847552e-01   6.94414053e-01   6.95984095e-01   6.97557688e-01\n",
        "   6.99134838e-01   7.00715554e-01   7.02299844e-01   7.03887716e-01\n",
        "   7.05479178e-01   7.07074238e-01   7.08672905e-01   7.10275186e-01\n",
        "   7.11881090e-01   7.13490625e-01   7.15103799e-01   7.16720620e-01\n",
        "   7.18341097e-01   7.19965237e-01   7.21593050e-01   7.23224543e-01\n",
        "   7.24859725e-01   7.26498604e-01   7.28141189e-01   7.29787487e-01\n",
        "   7.31437507e-01   7.33091258e-01   7.34748749e-01   7.36409986e-01\n",
        "   7.38074980e-01   7.39743738e-01   7.41416269e-01   7.43092582e-01\n",
        "   7.44772685e-01   7.46456586e-01   7.48144295e-01   7.49835819e-01\n",
        "   7.51531168e-01   7.53230350e-01   7.54933374e-01   7.56640248e-01\n",
        "   7.58350982e-01   7.60065583e-01   7.61784061e-01   7.63506424e-01\n",
        "   7.65232682e-01   7.66962843e-01   7.68696915e-01   7.70434908e-01\n",
        "   7.72176831e-01   7.73922692e-01   7.75672500e-01   7.77426265e-01\n",
        "   7.79183995e-01   7.80945699e-01   7.82711386e-01   7.84481065e-01\n",
        "   7.86254746e-01   7.88032436e-01   7.89814146e-01   7.91599885e-01\n",
        "   7.93389661e-01   7.95183483e-01   7.96981361e-01   7.98783304e-01\n",
        "   8.00589322e-01   8.02399422e-01   8.04213615e-01   8.06031910e-01\n",
        "   8.07854316e-01   8.09680843e-01   8.11511499e-01   8.13346294e-01\n",
        "   8.15185238e-01   8.17028339e-01   8.18875608e-01   8.20727053e-01\n",
        "   8.22582684e-01   8.24442511e-01   8.26306542e-01   8.28174789e-01\n",
        "   8.30047259e-01   8.31923963e-01   8.33804910e-01   8.35690109e-01\n",
        "   8.37579571e-01   8.39473305e-01   8.41371321e-01   8.43273628e-01\n",
        "   8.45180236e-01   8.47091155e-01   8.49006395e-01   8.50925964e-01\n",
        "   8.52849874e-01   8.54778134e-01   8.56710753e-01   8.58647742e-01\n",
        "   8.60589110e-01   8.62534868e-01   8.64485025e-01   8.66439591e-01\n",
        "   8.68398576e-01   8.70361991e-01   8.72329845e-01   8.74302148e-01\n",
        "   8.76278910e-01   8.78260142e-01   8.80245853e-01   8.82236054e-01\n",
        "   8.84230755e-01   8.86229965e-01   8.88233696e-01   8.90241957e-01\n",
        "   8.92254759e-01   8.94272111e-01   8.96294025e-01   8.98320510e-01\n",
        "   9.00351577e-01   9.02387236e-01   9.04427497e-01   9.06472372e-01\n",
        "   9.08521870e-01   9.10576002e-01   9.12634778e-01   9.14698209e-01\n",
        "   9.16766305e-01   9.18839077e-01   9.20916536e-01   9.22998691e-01\n",
        "   9.25085554e-01   9.27177136e-01   9.29273447e-01   9.31374497e-01\n",
        "   9.33480298e-01   9.35590859e-01   9.37706193e-01   9.39826309e-01\n",
        "   9.41951219e-01   9.44080934e-01   9.46215463e-01   9.48354818e-01\n",
        "   9.50499011e-01   9.52648051e-01   9.54801951e-01   9.56960720e-01\n",
        "   9.59124370e-01   9.61292912e-01   9.63466357e-01   9.65644716e-01\n",
        "   9.67828000e-01   9.70016221e-01   9.72209389e-01   9.74407516e-01\n",
        "   9.76610612e-01   9.78818690e-01   9.81031760e-01   9.83249834e-01\n",
        "   9.85472923e-01   9.87701038e-01   9.89934190e-01   9.92172392e-01\n",
        "   9.94415654e-01   9.96663989e-01   9.98917406e-01   1.00117592e+00\n",
        "   1.00343954e+00   1.00570827e+00   1.00798214e+00   1.01026115e+00\n",
        "   1.01254531e+00   1.01483463e+00   1.01712913e+00   1.01942882e+00\n",
        "   1.02173371e+00   1.02404381e+00   1.02635913e+00   1.02867969e+00\n",
        "   1.03100549e+00   1.03333656e+00   1.03567289e+00   1.03801450e+00\n",
        "   1.04036141e+00   1.04271363e+00   1.04507116e+00   1.04743403e+00\n",
        "   1.04980223e+00   1.05217579e+00   1.05455472e+00   1.05693903e+00\n",
        "   1.05932873e+00   1.06172383e+00   1.06412434e+00   1.06653028e+00\n",
        "   1.06894167e+00   1.07135850e+00   1.07378080e+00   1.07620857e+00\n",
        "   1.07864184e+00   1.08108061e+00   1.08352489e+00   1.08597469e+00\n",
        "   1.08843004e+00   1.09089094e+00   1.09335740e+00   1.09582943e+00\n",
        "   1.09830706e+00   1.10079029e+00   1.10327913e+00   1.10577360e+00\n",
        "   1.10827371e+00   1.11077948e+00   1.11329090e+00   1.11580801e+00\n",
        "   1.11833081e+00   1.12085931e+00   1.12339353e+00   1.12593348e+00\n",
        "   1.12847917e+00   1.13103061e+00   1.13358783e+00   1.13615082e+00\n",
        "   1.13871962e+00   1.14129422e+00   1.14387464e+00   1.14646089e+00\n",
        "   1.14905299e+00   1.15165096e+00   1.15425479e+00   1.15686452e+00\n",
        "   1.15948014e+00   1.16210168e+00   1.16472915e+00   1.16736255e+00\n",
        "   1.17000191e+00   1.17264724e+00   1.17529855e+00   1.17795585e+00\n",
        "   1.18061916e+00   1.18328850e+00   1.18596387e+00   1.18864528e+00\n",
        "   1.19133276e+00   1.19402632e+00   1.19672596e+00   1.19943171e+00\n",
        "   1.20214358e+00   1.20486158e+00   1.20758572e+00   1.21031603e+00\n",
        "   1.21305250e+00   1.21579517e+00   1.21854403e+00   1.22129911e+00\n",
        "   1.22406042e+00   1.22682797e+00   1.22960178e+00   1.23238186e+00\n",
        "   1.23516823e+00   1.23796089e+00   1.24075987e+00   1.24356518e+00\n",
        "   1.24637683e+00   1.24919484e+00   1.25201922e+00   1.25484999e+00\n",
        "   1.25768715e+00   1.26053073e+00   1.26338074e+00   1.26623720e+00\n",
        "   1.26910011e+00   1.27196949e+00   1.27484537e+00   1.27772774e+00\n",
        "   1.28061663e+00   1.28351206e+00   1.28641403e+00   1.28932256e+00\n",
        "   1.29223766e+00   1.29515936e+00   1.29808767e+00   1.30102259e+00\n",
        "   1.30396415e+00   1.30691236e+00   1.30986724e+00   1.31282880e+00\n",
        "   1.31579705e+00   1.31877201e+00   1.32175371e+00   1.32474214e+00\n",
        "   1.32773733e+00   1.33073929e+00   1.33374804e+00   1.33676359e+00\n",
        "   1.33978596e+00   1.34281516e+00   1.34585121e+00   1.34889413e+00\n",
        "   1.35194392e+00   1.35500062e+00   1.35806422e+00   1.36113475e+00\n",
        "   1.36421222e+00   1.36729665e+00   1.37038805e+00   1.37348644e+00\n",
        "   1.37659184e+00   1.37970426e+00   1.38282372e+00   1.38595023e+00\n",
        "   1.38908381e+00   1.39222447e+00   1.39537223e+00   1.39852711e+00\n",
        "   1.40168913e+00   1.40485829e+00   1.40803462e+00   1.41121813e+00\n",
        "   1.41440884e+00   1.41760676e+00   1.42081191e+00   1.42402431e+00\n",
        "   1.42724397e+00   1.43047092e+00   1.43370515e+00   1.43694670e+00\n",
        "   1.44019558e+00   1.44345181e+00   1.44671540e+00   1.44998636e+00\n",
        "   1.45326472e+00   1.45655050e+00   1.45984370e+00   1.46314435e+00\n",
        "   1.46645246e+00   1.46976805e+00   1.47309114e+00   1.47642174e+00\n",
        "   1.47975987e+00   1.48310555e+00   1.48645879e+00   1.48981961e+00\n",
        "   1.49318804e+00   1.49656407e+00   1.49994775e+00   1.50333907e+00\n",
        "   1.50673806e+00   1.51014473e+00   1.51355911e+00   1.51698121e+00\n",
        "   1.52041104e+00   1.52384863e+00   1.52729399e+00   1.53074714e+00\n",
        "   1.53420810e+00   1.53767688e+00   1.54115351e+00   1.54463800e+00\n",
        "   1.54813036e+00   1.55163062e+00   1.55513880e+00   1.55865490e+00\n",
        "   1.56217896e+00   1.56571099e+00   1.56925100e+00   1.57279901e+00\n",
        "   1.57635505e+00   1.57991912e+00   1.58349126e+00   1.58707147e+00\n",
        "   1.59065977e+00   1.59425619e+00   1.59786074e+00   1.60147344e+00\n",
        "   1.60509431e+00   1.60872336e+00   1.61236062e+00   1.61600610e+00\n",
        "   1.61965983e+00   1.62332182e+00   1.62699208e+00   1.63067065e+00\n",
        "   1.63435753e+00   1.63805275e+00   1.64175632e+00   1.64546826e+00\n",
        "   1.64918860e+00   1.65291735e+00   1.65665453e+00   1.66040016e+00\n",
        "   1.66415426e+00   1.66791685e+00   1.67168794e+00   1.67546756e+00\n",
        "   1.67925573e+00   1.68305246e+00   1.68685777e+00   1.69067169e+00\n",
        "   1.69449423e+00   1.69832541e+00   1.70216526e+00   1.70601379e+00\n",
        "   1.70987102e+00   1.71373697e+00   1.71761166e+00   1.72149511e+00\n",
        "   1.72538734e+00   1.72928837e+00   1.73319823e+00   1.73711692e+00\n",
        "   1.74104447e+00   1.74498090e+00   1.74892624e+00   1.75288049e+00\n",
        "   1.75684368e+00   1.76081583e+00   1.76479697e+00   1.76878710e+00\n",
        "   1.77278626e+00   1.77679446e+00   1.78081172e+00   1.78483807e+00\n",
        "   1.78887351e+00   1.79291809e+00   1.79697180e+00   1.80103468e+00\n",
        "   1.80510675e+00   1.80918803e+00   1.81327853e+00   1.81737828e+00\n",
        "   1.82148730e+00   1.82560561e+00   1.82973323e+00   1.83387019e+00\n",
        "   1.83801649e+00   1.84217217e+00   1.84633725e+00   1.85051175e+00\n",
        "   1.85469568e+00   1.85888907e+00   1.86309195e+00   1.86730433e+00\n",
        "   1.87152623e+00   1.87575767e+00   1.87999869e+00   1.88424929e+00\n",
        "   1.88850950e+00   1.89277935e+00   1.89705884e+00   1.90134802e+00\n",
        "   1.90564689e+00   1.90995548e+00   1.91427382e+00   1.91860191e+00\n",
        "   1.92293980e+00   1.92728749e+00   1.93164501e+00   1.93601238e+00\n",
        "   1.94038963e+00   1.94477677e+00   1.94917383e+00   1.95358084e+00\n",
        "   1.95799780e+00   1.96242476e+00   1.96686172e+00   1.97130872e+00\n",
        "   1.97576577e+00   1.98023290e+00   1.98471013e+00   1.98919748e+00\n",
        "   1.99369497e+00   1.99820264e+00   2.00272049e+00   2.00724857e+00\n",
        "   2.01178688e+00   2.01633545e+00   2.02089430e+00   2.02546346e+00\n",
        "   2.03004295e+00   2.03463280e+00   2.03923302e+00   2.04384365e+00\n",
        "   2.04846470e+00   2.05309619e+00   2.05773816e+00   2.06239063e+00\n",
        "   2.06705361e+00   2.07172714e+00   2.07641123e+00   2.08110591e+00\n",
        "   2.08581121e+00   2.09052715e+00   2.09525374e+00   2.09999103e+00\n",
        "   2.10473903e+00   2.10949776e+00   2.11426725e+00   2.11904752e+00\n",
        "   2.12383860e+00   2.12864052e+00   2.13345329e+00   2.13827694e+00\n",
        "   2.14311150e+00   2.14795699e+00   2.15281344e+00   2.15768086e+00\n",
        "   2.16255929e+00   2.16744875e+00   2.17234927e+00   2.17726086e+00\n",
        "   2.18218356e+00   2.18711739e+00   2.19206238e+00   2.19701854e+00\n",
        "   2.20198592e+00   2.20696452e+00   2.21195438e+00   2.21695552e+00\n",
        "   2.22196797e+00   2.22699175e+00   2.23202689e+00   2.23707341e+00\n",
        "   2.24213135e+00   2.24720071e+00   2.25228155e+00   2.25737387e+00\n",
        "   2.26247770e+00   2.26759307e+00   2.27272001e+00   2.27785854e+00\n",
        "   2.28300868e+00   2.28817048e+00   2.29334394e+00   2.29852910e+00\n",
        "   2.30372598e+00   2.30893461e+00   2.31415502e+00   2.31938723e+00\n",
        "   2.32463128e+00   2.32988718e+00   2.33515496e+00   2.34043465e+00\n",
        "   2.34572628e+00   2.35102987e+00   2.35634546e+00   2.36167306e+00\n",
        "   2.36701271e+00   2.37236443e+00   2.37772825e+00   2.38310420e+00\n",
        "   2.38849231e+00   2.39389259e+00   2.39930509e+00   2.40472982e+00\n",
        "   2.41016682e+00   2.41561611e+00   2.42107772e+00   2.42655168e+00\n",
        "   2.43203802e+00   2.43753676e+00   2.44304793e+00   2.44857157e+00\n",
        "   2.45410769e+00   2.45965633e+00   2.46521752e+00   2.47079127e+00\n",
        "   2.47637764e+00   2.48197663e+00   2.48758828e+00   2.49321262e+00\n",
        "   2.49884967e+00   2.50449947e+00   2.51016204e+00   2.51583742e+00\n",
        "   2.52152563e+00   2.52722670e+00   2.53294066e+00   2.53866753e+00\n",
        "   2.54440736e+00   2.55016016e+00   2.55592597e+00   2.56170482e+00\n",
        "   2.56749673e+00   2.57330174e+00   2.57911987e+00   2.58495116e+00\n",
        "   2.59079563e+00   2.59665332e+00   2.60252425e+00   2.60840845e+00\n",
        "   2.61430596e+00   2.62021680e+00   2.62614101e+00   2.63207861e+00\n",
        "   2.63802963e+00   2.64399411e+00   2.64997208e+00   2.65596356e+00\n",
        "   2.66196859e+00   2.66798719e+00   2.67401941e+00   2.68006526e+00\n",
        "   2.68612478e+00   2.69219800e+00   2.69828495e+00   2.70438567e+00\n",
        "   2.71050017e+00   2.71662851e+00   2.72277070e+00   2.72892677e+00\n",
        "   2.73509677e+00   2.74128071e+00   2.74747864e+00   2.75369058e+00\n",
        "   2.75991656e+00   2.76615663e+00   2.77241080e+00   2.77867911e+00\n",
        "   2.78496159e+00   2.79125828e+00   2.79756920e+00   2.80389439e+00\n",
        "   2.81023389e+00   2.81658771e+00   2.82295591e+00   2.82933850e+00\n",
        "   2.83573552e+00   2.84214700e+00   2.84857298e+00   2.85501349e+00\n",
        "   2.86146857e+00   2.86793823e+00   2.87442253e+00   2.88092148e+00\n",
        "   2.88743513e+00   2.89396351e+00   2.90050664e+00   2.90706457e+00\n",
        "   2.91363733e+00   2.92022495e+00   2.92682746e+00   2.93344490e+00\n",
        "   2.94007730e+00   2.94672470e+00   2.95338713e+00   2.96006462e+00\n",
        "   2.96675721e+00   2.97346493e+00   2.98018781e+00   2.98692590e+00\n",
        "   2.99367922e+00   3.00044781e+00   3.00723170e+00   3.01403093e+00\n",
        "   3.02084554e+00   3.02767555e+00   3.03452100e+00   3.04138193e+00\n",
        "   3.04825838e+00   3.05515037e+00   3.06205794e+00   3.06898113e+00\n",
        "   3.07591998e+00   3.08287451e+00   3.08984477e+00   3.09683078e+00\n",
        "   3.10383259e+00   3.11085023e+00   3.11788374e+00   3.12493315e+00\n",
        "   3.13199850e+00   3.13907983e+00   3.14617716e+00   3.15329054e+00\n",
        "   3.16042001e+00   3.16756559e+00   3.17472733e+00   3.18190526e+00\n",
        "   3.18909942e+00   3.19630985e+00   3.20353658e+00   3.21077965e+00\n",
        "   3.21803909e+00   3.22531495e+00   3.23260726e+00   3.23991606e+00\n",
        "   3.24724138e+00   3.25458326e+00   3.26194175e+00   3.26931687e+00\n",
        "   3.27670866e+00   3.28411717e+00   3.29154243e+00   3.29898447e+00\n",
        "   3.30644335e+00   3.31391908e+00   3.32141172e+00   3.32892130e+00\n",
        "   3.33644786e+00   3.34399144e+00   3.35155207e+00   3.35912979e+00\n",
        "   3.36672465e+00   3.37433668e+00   3.38196592e+00   3.38961241e+00\n",
        "   3.39727619e+00   3.40495730e+00   3.41265577e+00   3.42037165e+00\n",
        "   3.42810497e+00   3.43585578e+00   3.44362412e+00   3.45141001e+00\n",
        "   3.45921351e+00   3.46703466e+00   3.47487349e+00   3.48273004e+00\n",
        "   3.49060435e+00   3.49849647e+00   3.50640643e+00   3.51433427e+00\n",
        "   3.52228004e+00   3.53024378e+00   3.53822552e+00   3.54622531e+00\n",
        "   3.55424318e+00   3.56227918e+00   3.57033335e+00   3.57840574e+00\n",
        "   3.58649637e+00   3.59460529e+00   3.60273255e+00   3.61087819e+00\n",
        "   3.61904224e+00   3.62722475e+00   3.63542576e+00   3.64364531e+00\n",
        "   3.65188345e+00   3.66014021e+00   3.66841565e+00   3.67670979e+00\n",
        "   3.68502268e+00   3.69335437e+00   3.70170490e+00   3.71007431e+00\n",
        "   3.71846264e+00   3.72686993e+00   3.73529624e+00   3.74374159e+00\n",
        "   3.75220604e+00   3.76068963e+00   3.76919240e+00   3.77771440e+00\n",
        "   3.78625566e+00   3.79481623e+00   3.80339616e+00   3.81199549e+00\n",
        "   3.82061426e+00   3.82925251e+00   3.83791030e+00   3.84658766e+00\n",
        "   3.85528465e+00   3.86400129e+00   3.87273764e+00   3.88149375e+00\n",
        "   3.89026965e+00   3.89906540e+00   3.90788103e+00   3.91671659e+00\n",
        "   3.92557213e+00   3.93444769e+00   3.94334332e+00   3.95225907e+00\n",
        "   3.96119497e+00   3.97015107e+00   3.97912742e+00   3.98812407e+00\n",
        "   3.99714106e+00   4.00617844e+00   4.01523625e+00   4.02431454e+00\n",
        "   4.03341335e+00   4.04253274e+00   4.05167275e+00   4.06083342e+00\n",
        "   4.07001480e+00   4.07921694e+00   4.08843989e+00   4.09768369e+00\n",
        "   4.10694839e+00   4.11623403e+00   4.12554068e+00   4.13486836e+00\n",
        "   4.14421713e+00   4.15358704e+00   4.16297814e+00   4.17239046e+00\n",
        "   4.18182407e+00   4.19127901e+00   4.20075533e+00   4.21025307e+00\n",
        "   4.21977228e+00   4.22931302e+00   4.23887533e+00   4.24845926e+00\n",
        "   4.25806485e+00   4.26769217e+00   4.27734125e+00   4.28701215e+00\n",
        "   4.29670491e+00   4.30641959e+00   4.31615623e+00   4.32591489e+00\n",
        "   4.33569561e+00   4.34549845e+00   4.35532345e+00   4.36517066e+00\n",
        "   4.37504014e+00   4.38493193e+00   4.39484608e+00   4.40478266e+00\n",
        "   4.41474169e+00   4.42472325e+00   4.43472737e+00   4.44475412e+00\n",
        "   4.45480353e+00   4.46487566e+00   4.47497057e+00   4.48508830e+00\n",
        "   4.49522890e+00   4.50539244e+00   4.51557895e+00   4.52578849e+00\n",
        "   4.53602112e+00   4.54627688e+00   4.55655584e+00   4.56685803e+00\n",
        "   4.57718351e+00   4.58753234e+00   4.59790457e+00   4.60830025e+00\n",
        "   4.61871943e+00   4.62916217e+00   4.63962852e+00   4.65011854e+00\n",
        "   4.66063227e+00   4.67116978e+00   4.68173111e+00   4.69231631e+00\n",
        "   4.70292545e+00   4.71355858e+00   4.72421575e+00   4.73489701e+00\n",
        "   4.74560243e+00   4.75633204e+00   4.76708592e+00   4.77786411e+00\n",
        "   4.78866667e+00   4.79949366e+00   4.81034512e+00   4.82122112e+00\n",
        "   4.83212171e+00   4.84304694e+00   4.85399688e+00   4.86497158e+00\n",
        "   4.87597108e+00   4.88699546e+00   4.89804476e+00   4.90911904e+00\n",
        "   4.92021837e+00   4.93134279e+00   4.94249236e+00   4.95366713e+00\n",
        "   4.96486718e+00   4.97609254e+00   4.98734329e+00   4.99861948e+00\n",
        "   5.00992116e+00   5.02124839e+00   5.03260123e+00   5.04397974e+00\n",
        "   5.05538398e+00   5.06681400e+00   5.07826987e+00   5.08975163e+00\n",
        "   5.10125936e+00   5.11279310e+00   5.12435292e+00   5.13593888e+00\n",
        "   5.14755104e+00   5.15918944e+00   5.17085417e+00   5.18254526e+00\n",
        "   5.19426279e+00   5.20600681e+00   5.21777738e+00   5.22957457e+00\n",
        "   5.24139843e+00   5.25324902e+00   5.26512641e+00   5.27703065e+00\n",
        "   5.28896181e+00   5.30091994e+00   5.31290511e+00   5.32491738e+00\n",
        "   5.33695680e+00   5.34902345e+00   5.36111738e+00   5.37323865e+00\n",
        "   5.38538733e+00   5.39756348e+00   5.40976715e+00   5.42199842e+00\n",
        "   5.43425734e+00   5.44654398e+00   5.45885840e+00   5.47120066e+00\n",
        "   5.48357083e+00   5.49596897e+00   5.50839513e+00   5.52084940e+00\n",
        "   5.53333182e+00   5.54584246e+00   5.55838139e+00   5.57094867e+00\n",
        "   5.58354436e+00   5.59616853e+00   5.60882125e+00   5.62150257e+00\n",
        "   5.63421256e+00   5.64695129e+00   5.65971882e+00   5.67251522e+00\n",
        "   5.68534055e+00   5.69819488e+00   5.71107827e+00   5.72399079e+00\n",
        "   5.73693251e+00   5.74990349e+00   5.76290379e+00   5.77593348e+00\n",
        "   5.78899264e+00   5.80208132e+00   5.81519960e+00   5.82834753e+00\n",
        "   5.84152519e+00   5.85473265e+00   5.86796997e+00   5.88123721e+00\n",
        "   5.89453446e+00   5.90786176e+00   5.92121920e+00   5.93460685e+00\n",
        "   5.94802476e+00   5.96147300e+00   5.97495166e+00   5.98846078e+00\n",
        "   6.00200046e+00   6.01557074e+00   6.02917171e+00   6.04280342e+00\n",
        "   6.05646596e+00   6.07015939e+00   6.08388378e+00   6.09763920e+00\n",
        "   6.11142572e+00   6.12524341e+00   6.13909234e+00   6.15297258e+00\n",
        "   6.16688421e+00   6.18082729e+00   6.19480189e+00   6.20880809e+00\n",
        "   6.22284596e+00   6.23691557e+00   6.25101698e+00   6.26515028e+00\n",
        "   6.27931554e+00   6.29351282e+00   6.30774220e+00   6.32200376e+00\n",
        "   6.33629756e+00   6.35062367e+00   6.36498218e+00   6.37937315e+00\n",
        "   6.39379666e+00   6.40825278e+00   6.42274159e+00   6.43726315e+00\n",
        "   6.45181754e+00   6.46640485e+00   6.48102513e+00   6.49567847e+00\n",
        "   6.51036494e+00   6.52508462e+00   6.53983757e+00   6.55462389e+00\n",
        "   6.56944363e+00   6.58429688e+00   6.59918371e+00   6.61410420e+00\n",
        "   6.62905843e+00   6.64404647e+00   6.65906839e+00   6.67412428e+00\n",
        "   6.68921421e+00   6.70433826e+00   6.71949650e+00   6.73468901e+00\n",
        "   6.74991588e+00   6.76517717e+00   6.78047296e+00   6.79580334e+00\n",
        "   6.81116838e+00   6.82656817e+00   6.84200276e+00   6.85747226e+00\n",
        "   6.87297673e+00   6.88851626e+00   6.90409092e+00   6.91970079e+00\n",
        "   6.93534596e+00   6.95102650e+00   6.96674250e+00   6.98249403e+00\n",
        "   6.99828117e+00   7.01410400e+00   7.02996261e+00   7.04585708e+00\n",
        "   7.06178748e+00   7.07775390e+00   7.09375642e+00   7.10979512e+00\n",
        "   7.12587008e+00   7.14198139e+00   7.15812913e+00   7.17431337e+00\n",
        "   7.19053421e+00   7.20679172e+00   7.22308599e+00   7.23941710e+00\n",
        "   7.25578513e+00   7.27219018e+00   7.28863231e+00   7.30511162e+00\n",
        "   7.32162818e+00   7.33818209e+00   7.35477343e+00   7.37140228e+00\n",
        "   7.38806873e+00   7.40477286e+00   7.42151475e+00   7.43829450e+00\n",
        "   7.45511219e+00   7.47196790e+00   7.48886172e+00   7.50579374e+00\n",
        "   7.52276404e+00   7.53977271e+00   7.55681984e+00   7.57390551e+00\n",
        "   7.59102981e+00   7.60819282e+00   7.62539464e+00   7.64263536e+00\n",
        "   7.65991505e+00   7.67723381e+00   7.69459173e+00   7.71198890e+00\n",
        "   7.72942540e+00   7.74690132e+00   7.76441676e+00   7.78197180e+00\n",
        "   7.79956652e+00   7.81720103e+00   7.83487541e+00   7.85258976e+00\n",
        "   7.87034415e+00   7.88813868e+00   7.90597345e+00   7.92384854e+00\n",
        "   7.94176405e+00   7.95972006e+00   7.97771667e+00   7.99575397e+00\n",
        "   8.01383205e+00   8.03195101e+00   8.05011093e+00   8.06831191e+00\n",
        "   8.08655404e+00   8.10483742e+00   8.12316213e+00   8.14152828e+00\n",
        "   8.15993595e+00   8.17838524e+00   8.19687624e+00   8.21540905e+00\n",
        "   8.23398377e+00   8.25260048e+00   8.27125928e+00   8.28996027e+00\n",
        "   8.30870354e+00   8.32748918e+00   8.34631730e+00   8.36518800e+00\n",
        "   8.38410135e+00   8.40305747e+00   8.42205645e+00   8.44109839e+00\n",
        "   8.46018337e+00   8.47931151e+00   8.49848290e+00   8.51769763e+00\n",
        "   8.53695580e+00   8.55625752e+00   8.57560288e+00   8.59499197e+00\n",
        "   8.61442491e+00   8.63390178e+00   8.65342269e+00   8.67298773e+00\n",
        "   8.69259701e+00   8.71225063e+00   8.73194868e+00   8.75169127e+00\n",
        "   8.77147849e+00   8.79131046e+00   8.81118726e+00   8.83110900e+00\n",
        "   8.85107579e+00   8.87108772e+00   8.89114490e+00   8.91124742e+00\n",
        "   8.93139540e+00   8.95158893e+00   8.97182811e+00   8.99211306e+00\n",
        "   9.01244387e+00   9.03282065e+00   9.05324349e+00   9.07371252e+00\n",
        "   9.09422782e+00   9.11478951e+00   9.13539768e+00   9.15605245e+00\n",
        "   9.17675392e+00   9.19750220e+00   9.21829738e+00   9.23913959e+00\n",
        "   9.26002891e+00   9.28096547e+00   9.30194937e+00   9.32298070e+00\n",
        "   9.34405959e+00   9.36518614e+00   9.38636045e+00   9.40758264e+00\n",
        "   9.42885281e+00   9.45017107e+00   9.47153753e+00   9.49295230e+00\n",
        "   9.51441549e+00   9.53592720e+00   9.55748755e+00   9.57909665e+00\n",
        "   9.60075461e+00   9.62246153e+00   9.64421753e+00   9.66602272e+00\n",
        "   9.68787722e+00   9.70978112e+00   9.73173455e+00   9.75373762e+00\n",
        "   9.77579043e+00   9.79789310e+00   9.82004575e+00   9.84224848e+00\n",
        "   9.86450141e+00   9.88680466e+00   9.90915833e+00   9.93156254e+00\n",
        "   9.95401741e+00   9.97652304e+00   9.99907957e+00   1.00216871e+01\n",
        "   1.00443457e+01   1.00670556e+01   1.00898168e+01   1.01126295e+01\n",
        "   1.01354937e+01   1.01584097e+01   1.01813774e+01   1.02043971e+01\n",
        "   1.02274689e+01   1.02505928e+01   1.02737689e+01   1.02969975e+01\n",
        "   1.03202786e+01   1.03436124e+01   1.03669989e+01   1.03904382e+01\n",
        "   1.04139306e+01   1.04374761e+01   1.04610748e+01   1.04847269e+01\n",
        "   1.05084324e+01   1.05321916e+01   1.05560044e+01   1.05798711e+01\n",
        "   1.06037918e+01   1.06277666e+01   1.06517955e+01   1.06758788e+01\n",
        "   1.07000165e+01   1.07242089e+01   1.07484559e+01   1.07727577e+01\n",
        "   1.07971145e+01   1.08215263e+01   1.08459934e+01   1.08705157e+01\n",
        "   1.08950935e+01   1.09197269e+01   1.09444160e+01   1.09691608e+01\n",
        "   1.09939617e+01   1.10188186e+01   1.10437317e+01   1.10687011e+01\n",
        "   1.10937270e+01   1.11188095e+01   1.11439487e+01   1.11691447e+01\n",
        "   1.11943977e+01   1.12197078e+01   1.12450751e+01   1.12704998e+01\n",
        "   1.12959819e+01   1.13215217e+01   1.13471192e+01   1.13727746e+01\n",
        "   1.13984880e+01   1.14242595e+01   1.14500893e+01   1.14759775e+01\n",
        "   1.15019242e+01   1.15279296e+01   1.15539938e+01   1.15801169e+01\n",
        "   1.16062991e+01   1.16325405e+01   1.16588412e+01   1.16852014e+01\n",
        "   1.17116212e+01   1.17381007e+01   1.17646400e+01   1.17912394e+01\n",
        "   1.18178989e+01   1.18446187e+01   1.18713990e+01   1.18982397e+01\n",
        "   1.19251412e+01   1.19521034e+01   1.19791267e+01   1.20062110e+01\n",
        "   1.20333566e+01   1.20605635e+01   1.20878320e+01   1.21151621e+01\n",
        "   1.21425540e+01   1.21700078e+01   1.21975237e+01   1.22251018e+01\n",
        "   1.22527423e+01   1.22804452e+01   1.23082108e+01   1.23360392e+01\n",
        "   1.23639305e+01   1.23918849e+01   1.24199024e+01   1.24479833e+01\n",
        "   1.24761277e+01   1.25043357e+01   1.25326076e+01   1.25609433e+01\n",
        "   1.25893431e+01   1.26178071e+01   1.26463354e+01   1.26749283e+01\n",
        "   1.27035858e+01   1.27323081e+01   1.27610953e+01   1.27899477e+01\n",
        "   1.28188652e+01   1.28478482e+01   1.28768967e+01   1.29060108e+01\n",
        "   1.29351908e+01   1.29644367e+01   1.29937488e+01   1.30231272e+01\n",
        "   1.30525719e+01   1.30820833e+01   1.31116613e+01   1.31413063e+01\n",
        "   1.31710183e+01   1.32007974e+01   1.32306439e+01   1.32605578e+01\n",
        "   1.32905394e+01   1.33205888e+01   1.33507061e+01   1.33808916e+01\n",
        "   1.34111452e+01   1.34414673e+01   1.34718579e+01   1.35023172e+01\n",
        "   1.35328454e+01   1.35634427e+01   1.35941091e+01   1.36248448e+01\n",
        "   1.36556500e+01   1.36865249e+01   1.37174696e+01   1.37484843e+01\n",
        "   1.37795690e+01   1.38107241e+01   1.38419496e+01   1.38732457e+01\n",
        "   1.39046125e+01   1.39360503e+01   1.39675592e+01   1.39991393e+01\n",
        "   1.40307908e+01   1.40625138e+01   1.40943086e+01   1.41261753e+01\n",
        "   1.41581140e+01   1.41901249e+01   1.42222082e+01   1.42543641e+01\n",
        "   1.42865926e+01   1.43188941e+01   1.43512685e+01   1.43837161e+01\n",
        "   1.44162372e+01   1.44488317e+01   1.44814999e+01   1.45142420e+01\n",
        "   1.45470581e+01   1.45799485e+01   1.46129132e+01   1.46459524e+01\n",
        "   1.46790663e+01   1.47122551e+01   1.47455189e+01   1.47788579e+01\n",
        "   1.48122723e+01   1.48457623e+01   1.48793280e+01   1.49129695e+01\n",
        "   1.49466872e+01   1.49804810e+01   1.50143513e+01   1.50482981e+01\n",
        "   1.50823218e+01   1.51164223e+01   1.51505999e+01   1.51848548e+01\n",
        "   1.52191872e+01   1.52535971e+01   1.52880849e+01   1.53226507e+01\n",
        "   1.53572946e+01   1.53920168e+01   1.54268175e+01   1.54616970e+01\n",
        "   1.54966552e+01   1.55316926e+01   1.55668091e+01   1.56020050e+01\n",
        "   1.56372806e+01   1.56726358e+01   1.57080710e+01   1.57435863e+01\n",
        "   1.57791820e+01   1.58148581e+01   1.58506148e+01   1.58864524e+01\n",
        "   1.59223711e+01   1.59583709e+01   1.59944522e+01   1.60306150e+01\n",
        "   1.60668596e+01   1.61031861e+01   1.61395948e+01   1.61760857e+01\n",
        "   1.62126592e+01   1.62493154e+01   1.62860545e+01   1.63228766e+01\n",
        "   1.63597820e+01   1.63967708e+01   1.64338432e+01   1.64709995e+01\n",
        "   1.65082398e+01   1.65455642e+01   1.65829731e+01   1.66204665e+01\n",
        "   1.66580448e+01   1.66957079e+01   1.67334563e+01   1.67712899e+01\n",
        "   1.68092092e+01   1.68472141e+01   1.68853050e+01   1.69234820e+01\n",
        "   1.69617453e+01   1.70000951e+01   1.70385317e+01   1.70770551e+01\n",
        "   1.71156657e+01   1.71543635e+01   1.71931488e+01   1.72320219e+01\n",
        "   1.72709828e+01   1.73100318e+01   1.73491691e+01   1.73883949e+01\n",
        "   1.74277093e+01   1.74671127e+01   1.75066051e+01   1.75461869e+01\n",
        "   1.75858581e+01   1.76256190e+01   1.76654698e+01   1.77054108e+01\n",
        "   1.77454420e+01   1.77855637e+01   1.78257762e+01   1.78660796e+01\n",
        "   1.79064740e+01   1.79469599e+01   1.79875372e+01   1.80282063e+01\n",
        "   1.80689674e+01   1.81098206e+01   1.81507662e+01   1.81918044e+01\n",
        "   1.82329353e+01   1.82741592e+01   1.83154764e+01   1.83568869e+01\n",
        "   1.83983911e+01   1.84399892e+01   1.84816813e+01   1.85234676e+01\n",
        "   1.85653484e+01   1.86073239e+01   1.86493944e+01   1.86915599e+01\n",
        "   1.87338208e+01   1.87761772e+01   1.88186294e+01   1.88611775e+01\n",
        "   1.89038219e+01   1.89465627e+01   1.89894001e+01   1.90323344e+01\n",
        "   1.90753658e+01   1.91184944e+01   1.91617206e+01   1.92050444e+01\n",
        "   1.92484663e+01   1.92919863e+01   1.93356047e+01   1.93793217e+01\n",
        "   1.94231376e+01   1.94670526e+01   1.95110668e+01   1.95551805e+01\n",
        "   1.95993940e+01   1.96437075e+01   1.96881211e+01   1.97326352e+01\n",
        "   1.97772499e+01   1.98219654e+01   1.98667821e+01   1.99117001e+01\n",
        "   1.99567197e+01   2.00018410e+01   2.00470644e+01   2.00923900e+01\n",
        "   2.01378181e+01   2.01833489e+01   2.02289827e+01   2.02747196e+01\n",
        "   2.03205599e+01   2.03665039e+01   2.04125518e+01   2.04587037e+01\n",
        "   2.05049600e+01   2.05513209e+01   2.05977867e+01   2.06443574e+01\n",
        "   2.06910335e+01   2.07378151e+01   2.07847025e+01   2.08316959e+01\n",
        "   2.08787955e+01   2.09260016e+01   2.09733145e+01   2.10207343e+01\n",
        "   2.10682614e+01   2.11158959e+01   2.11636381e+01   2.12114882e+01\n",
        "   2.12594465e+01   2.13075133e+01   2.13556887e+01   2.14039731e+01\n",
        "   2.14523666e+01   2.15008696e+01   2.15494822e+01   2.15982047e+01\n",
        "   2.16470374e+01   2.16959805e+01   2.17450342e+01   2.17941989e+01\n",
        "   2.18434747e+01   2.18928619e+01   2.19423608e+01   2.19919716e+01\n",
        "   2.20416946e+01   2.20915300e+01   2.21414780e+01   2.21915390e+01\n",
        "   2.22417132e+01   2.22920009e+01   2.23424022e+01   2.23929175e+01\n",
        "   2.24435470e+01   2.24942909e+01   2.25451496e+01   2.25961233e+01\n",
        "   2.26472122e+01   2.26984167e+01   2.27497369e+01   2.28011732e+01\n",
        "   2.28527257e+01   2.29043948e+01   2.29561807e+01   2.30080837e+01\n",
        "   2.30601041e+01   2.31122421e+01   2.31644979e+01   2.32168719e+01\n",
        "   2.32693644e+01   2.33219755e+01   2.33747055e+01   2.34275548e+01\n",
        "   2.34805236e+01   2.35336121e+01   2.35868207e+01   2.36401495e+01\n",
        "   2.36935990e+01   2.37471693e+01   2.38008607e+01   2.38546735e+01\n",
        "   2.39086079e+01   2.39626643e+01   2.40168430e+01   2.40711441e+01\n",
        "   2.41255680e+01   2.41801149e+01   2.42347852e+01   2.42895791e+01\n",
        "   2.43444969e+01   2.43995388e+01   2.44547052e+01   2.45099963e+01\n",
        "   2.45654124e+01   2.46209539e+01   2.46766209e+01   2.47324137e+01\n",
        "   2.47883327e+01   2.48443781e+01   2.49005503e+01   2.49568494e+01\n",
        "   2.50132759e+01   2.50698299e+01   2.51265118e+01   2.51833218e+01\n",
        "   2.52402603e+01   2.52973276e+01   2.53545238e+01   2.54118494e+01\n",
        "   2.54693046e+01   2.55268896e+01   2.55846049e+01   2.56424507e+01\n",
        "   2.57004273e+01   2.57585349e+01   2.58167739e+01   2.58751446e+01\n",
        "   2.59336473e+01   2.59922822e+01   2.60510497e+01   2.61099501e+01\n",
        "   2.61689837e+01   2.62281507e+01   2.62874515e+01   2.63468864e+01\n",
        "   2.64064557e+01   2.64661596e+01   2.65259985e+01   2.65859728e+01\n",
        "   2.66460826e+01   2.67063283e+01   2.67667103e+01   2.68272287e+01\n",
        "   2.68878840e+01   2.69486765e+01   2.70096064e+01   2.70706740e+01\n",
        "   2.71318797e+01   2.71932238e+01   2.72547066e+01   2.73163284e+01\n",
        "   2.73780896e+01   2.74399903e+01   2.75020310e+01   2.75642120e+01\n",
        "   2.76265336e+01   2.76889961e+01   2.77515998e+01   2.78143451e+01\n",
        "   2.78772322e+01   2.79402615e+01   2.80034334e+01   2.80667480e+01\n",
        "   2.81302058e+01   2.81938071e+01   2.82575522e+01   2.83214414e+01\n",
        "   2.83854750e+01   2.84496534e+01   2.85139770e+01   2.85784459e+01\n",
        "   2.86430607e+01   2.87078215e+01   2.87727287e+01   2.88377827e+01\n",
        "   2.89029838e+01   2.89683323e+01   2.90338285e+01   2.90994729e+01\n",
        "   2.91652656e+01   2.92312071e+01   2.92972977e+01   2.93635378e+01\n",
        "   2.94299275e+01   2.94964674e+01   2.95631578e+01   2.96299989e+01\n",
        "   2.96969911e+01   2.97641349e+01   2.98314304e+01   2.98988781e+01\n",
        "   2.99664782e+01   3.00342312e+01   3.01021374e+01   3.01701972e+01\n",
        "   3.02384108e+01   3.03067786e+01   3.03753011e+01   3.04439784e+01\n",
        "   3.05128110e+01   3.05817993e+01   3.06509435e+01   3.07202441e+01\n",
        "   3.07897013e+01   3.08593156e+01   3.09290873e+01   3.09990167e+01\n",
        "   3.10691043e+01   3.11393503e+01   3.12097551e+01   3.12803191e+01\n",
        "   3.13510427e+01   3.14219261e+01   3.14929699e+01   3.15641742e+01\n",
        "   3.16355396e+01   3.17070663e+01   3.17787547e+01   3.18506052e+01\n",
        "   3.19226181e+01   3.19947939e+01   3.20671328e+01   3.21396354e+01\n",
        "   3.22123018e+01   3.22851325e+01   3.23581279e+01   3.24312884e+01\n",
        "   3.25046142e+01   3.25781058e+01   3.26517637e+01   3.27255880e+01\n",
        "   3.27995792e+01   3.28737378e+01   3.29480640e+01   3.30225583e+01\n",
        "   3.30972209e+01   3.31720524e+01   3.32470531e+01   3.33222234e+01\n",
        "   3.33975636e+01   3.34730742e+01   3.35487555e+01   3.36246079e+01\n",
        "   3.37006318e+01   3.37768276e+01   3.38531956e+01   3.39297363e+01\n",
        "   3.40064501e+01   3.40833374e+01   3.41603984e+01   3.42376337e+01\n",
        "   3.43150437e+01   3.43926286e+01   3.44703890e+01   3.45483251e+01\n",
        "   3.46264375e+01   3.47047265e+01   3.47831925e+01   3.48618359e+01\n",
        "   3.49406572e+01   3.50196566e+01   3.50988347e+01   3.51781917e+01\n",
        "   3.52577282e+01   3.53374445e+01   3.54173411e+01   3.54974183e+01\n",
        "   3.55776765e+01   3.56581162e+01   3.57387378e+01   3.58195417e+01\n",
        "   3.59005282e+01   3.59816979e+01   3.60630511e+01   3.61445882e+01\n",
        "   3.62263097e+01   3.63082159e+01   3.63903074e+01   3.64725844e+01\n",
        "   3.65550475e+01   3.66376970e+01   3.67205334e+01   3.68035570e+01\n",
        "   3.68867684e+01   3.69701679e+01   3.70537560e+01   3.71375331e+01\n",
        "   3.72214995e+01   3.73056559e+01   3.73900025e+01   3.74745398e+01\n",
        "   3.75592682e+01   3.76441882e+01   3.77293002e+01   3.78146047e+01\n",
        "   3.79001020e+01   3.79857926e+01   3.80716770e+01   3.81577555e+01\n",
        "   3.82440287e+01   3.83304969e+01   3.84171607e+01   3.85040203e+01\n",
        "   3.85910764e+01   3.86783293e+01   3.87657794e+01   3.88534273e+01\n",
        "   3.89412734e+01   3.90293180e+01   3.91175618e+01   3.92060050e+01\n",
        "   3.92946482e+01   3.93834919e+01   3.94725364e+01   3.95617822e+01\n",
        "   3.96512298e+01   3.97408797e+01   3.98307322e+01   3.99207879e+01\n",
        "   4.00110472e+01   4.01015106e+01   4.01921785e+01   4.02830515e+01\n",
        "   4.03741298e+01   4.04654141e+01   4.05569048e+01   4.06486024e+01\n",
        "   4.07405072e+01   4.08326199e+01   4.09249408e+01   4.10174705e+01\n",
        "   4.11102094e+01   4.12031579e+01   4.12963166e+01   4.13896859e+01\n",
        "   4.14832664e+01   4.15770584e+01   4.16710625e+01   4.17652791e+01\n",
        "   4.18597087e+01   4.19543518e+01   4.20492090e+01   4.21442805e+01\n",
        "   4.22395671e+01   4.23350691e+01   4.24307870e+01   4.25267213e+01\n",
        "   4.26228725e+01   4.27192411e+01   4.28158276e+01   4.29126325e+01\n",
        "   4.30096563e+01   4.31068994e+01   4.32043624e+01   4.33020457e+01\n",
        "   4.33999499e+01   4.34980755e+01   4.35964229e+01   4.36949927e+01\n",
        "   4.37937853e+01   4.38928013e+01   4.39920412e+01   4.40915054e+01\n",
        "   4.41911946e+01   4.42911091e+01   4.43912496e+01   4.44916164e+01\n",
        "   4.45922102e+01   4.46930314e+01   4.47940806e+01   4.48953582e+01\n",
        "   4.49968648e+01   4.50986009e+01   4.52005671e+01   4.53027637e+01\n",
        "   4.54051915e+01   4.55078508e+01   4.56107423e+01   4.57138663e+01\n",
        "   4.58172236e+01   4.59208145e+01   4.60246396e+01   4.61286995e+01\n",
        "   4.62329946e+01   4.63375256e+01   4.64422929e+01   4.65472971e+01\n",
        "   4.66525387e+01   4.67580182e+01   4.68637362e+01   4.69696933e+01\n",
        "   4.70758899e+01   4.71823266e+01   4.72890039e+01   4.73959225e+01\n",
        "   4.75030828e+01   4.76104854e+01   4.77181308e+01   4.78260196e+01\n",
        "   4.79341523e+01   4.80425295e+01   4.81511518e+01   4.82600196e+01\n",
        "   4.83691336e+01   4.84784943e+01   4.85881022e+01   4.86979580e+01\n",
        "   4.88080621e+01   4.89184152e+01   4.90290178e+01   4.91398705e+01\n",
        "   4.92509737e+01   4.93623282e+01   4.94739345e+01   4.95857931e+01\n",
        "   4.96979046e+01   4.98102696e+01   4.99228886e+01   5.00357623e+01\n",
        "   5.01488911e+01   5.02622758e+01   5.03759168e+01   5.04898147e+01\n",
        "   5.06039702e+01   5.07183838e+01   5.08330560e+01   5.09479875e+01\n",
        "   5.10631789e+01   5.11786307e+01   5.12943436e+01   5.14103180e+01\n",
        "   5.15265547e+01   5.16430542e+01   5.17598171e+01   5.18768440e+01\n",
        "   5.19941354e+01   5.21116921e+01   5.22295146e+01   5.23476034e+01\n",
        "   5.24659593e+01   5.25845827e+01   5.27034744e+01   5.28226348e+01\n",
        "   5.29420647e+01   5.30617646e+01   5.31817351e+01   5.33019769e+01\n",
        "   5.34224906e+01   5.35432767e+01   5.36643359e+01   5.37856688e+01\n",
        "   5.39072761e+01   5.40291583e+01   5.41513161e+01   5.42737501e+01\n",
        "   5.43964608e+01   5.45194491e+01   5.46427154e+01   5.47662604e+01\n",
        "   5.48900847e+01   5.50141890e+01   5.51385739e+01   5.52632400e+01\n",
        "   5.53881880e+01   5.55134185e+01   5.56389321e+01   5.57647295e+01\n",
        "   5.58908114e+01   5.60171783e+01   5.61438309e+01   5.62707698e+01\n",
        "   5.63979958e+01   5.65255094e+01   5.66533114e+01   5.67814022e+01\n",
        "   5.69097827e+01   5.70384535e+01   5.71674152e+01   5.72966684e+01\n",
        "   5.74262139e+01   5.75560523e+01   5.76861842e+01   5.78166104e+01\n",
        "   5.79473314e+01   5.80783481e+01   5.82096609e+01   5.83412706e+01\n",
        "   5.84731779e+01   5.86053834e+01   5.87378879e+01   5.88706919e+01\n",
        "   5.90037962e+01   5.91372014e+01   5.92709083e+01   5.94049174e+01\n",
        "   5.95392296e+01   5.96738454e+01   5.98087656e+01   5.99439909e+01\n",
        "   6.00795218e+01   6.02153592e+01   6.03515038e+01   6.04879561e+01\n",
        "   6.06247170e+01   6.07617870e+01   6.08991670e+01   6.10368576e+01\n",
        "   6.11748595e+01   6.13131734e+01   6.14518001e+01   6.15907402e+01\n",
        "   6.17299944e+01   6.18695634e+01   6.20094481e+01   6.21496489e+01\n",
        "   6.22901668e+01   6.24310024e+01   6.25721564e+01   6.27136296e+01\n",
        "   6.28554226e+01   6.29975362e+01   6.31399711e+01   6.32827281e+01\n",
        "   6.34258078e+01   6.35692110e+01   6.37129385e+01   6.38569909e+01\n",
        "   6.40013690e+01   6.41460736e+01   6.42911053e+01   6.44364649e+01\n",
        "   6.45821532e+01   6.47281709e+01   6.48745187e+01   6.50211974e+01\n",
        "   6.51682077e+01   6.53155505e+01   6.54632263e+01   6.56112361e+01\n",
        "   6.57595805e+01   6.59082603e+01   6.60572762e+01   6.62066291e+01\n",
        "   6.63563196e+01   6.65063486e+01   6.66567168e+01   6.68074250e+01\n",
        "   6.69584740e+01   6.71098644e+01   6.72615971e+01   6.74136729e+01\n",
        "   6.75660926e+01   6.77188568e+01   6.78719664e+01   6.80254223e+01\n",
        "   6.81792250e+01   6.83333755e+01   6.84878746e+01   6.86427229e+01\n",
        "   6.87979214e+01   6.89534708e+01   6.91093718e+01   6.92656254e+01\n",
        "   6.94222322e+01   6.95791931e+01   6.97365089e+01   6.98941803e+01\n",
        "   7.00522083e+01   7.02105936e+01   7.03693369e+01   7.05284392e+01\n",
        "   7.06879012e+01   7.08477237e+01   7.10079076e+01   7.11684536e+01\n",
        "   7.13293627e+01   7.14906355e+01   7.16522730e+01   7.18142759e+01\n",
        "   7.19766452e+01   7.21393815e+01   7.23024858e+01   7.24659588e+01\n",
        "   7.26298014e+01   7.27940145e+01   7.29585989e+01   7.31235554e+01\n",
        "   7.32888848e+01   7.34545881e+01   7.36206660e+01   7.37871194e+01\n",
        "   7.39539491e+01   7.41211561e+01   7.42887410e+01   7.44567049e+01\n",
        "   7.46250486e+01   7.47937728e+01   7.49628786e+01   7.51323667e+01\n",
        "   7.53022380e+01   7.54724933e+01   7.56431336e+01   7.58141597e+01\n",
        "   7.59855725e+01   7.61573729e+01   7.63295617e+01   7.65021398e+01\n",
        "   7.66751081e+01   7.68484674e+01   7.70222188e+01   7.71963629e+01\n",
        "   7.73709008e+01   7.75458334e+01   7.77211614e+01   7.78968859e+01\n",
        "   7.80730076e+01   7.82495276e+01   7.84264466e+01   7.86037657e+01\n",
        "   7.87814857e+01   7.89596075e+01   7.91381320e+01   7.93170602e+01\n",
        "   7.94963929e+01   7.96761311e+01   7.98562757e+01   8.00368275e+01\n",
        "   8.02177876e+01   8.03991568e+01   8.05809361e+01   8.07631264e+01\n",
        "   8.09457286e+01   8.11287437e+01   8.13121725e+01   8.14960161e+01\n",
        "   8.16802754e+01   8.18649512e+01   8.20500446e+01   8.22355565e+01\n",
        "   8.24214878e+01   8.26078395e+01   8.27946126e+01   8.29818079e+01\n",
        "   8.31694265e+01   8.33574692e+01   8.35459371e+01   8.37348312e+01\n",
        "   8.39241523e+01   8.41139015e+01   8.43040796e+01   8.44946878e+01\n",
        "   8.46857269e+01   8.48771980e+01   8.50691020e+01   8.52614398e+01\n",
        "   8.54542125e+01   8.56474211e+01   8.58410665e+01   8.60351497e+01\n",
        "   8.62296718e+01   8.64246336e+01   8.66200363e+01   8.68158808e+01\n",
        "   8.70121680e+01   8.72088991e+01   8.74060749e+01   8.76036966e+01\n",
        "   8.78017650e+01   8.80002813e+01   8.81992465e+01   8.83986614e+01\n",
        "   8.85985273e+01   8.87988450e+01   8.89996157e+01   8.92008403e+01\n",
        "   8.94025198e+01   8.96046554e+01   8.98072479e+01   9.00102985e+01\n",
        "   9.02138082e+01   9.04177781e+01   9.06222091e+01   9.08271023e+01\n",
        "   9.10324587e+01   9.12382795e+01   9.14445656e+01   9.16513181e+01\n",
        "   9.18585381e+01   9.20662266e+01   9.22743847e+01   9.24830134e+01\n",
        "   9.26921138e+01   9.29016870e+01   9.31117340e+01   9.33222559e+01\n",
        "   9.35332538e+01   9.37447288e+01   9.39566819e+01   9.41691142e+01\n",
        "   9.43820268e+01   9.45954208e+01   9.48092973e+01   9.50236574e+01\n",
        "   9.52385021e+01   9.54538325e+01   9.56696499e+01   9.58859551e+01\n",
        "   9.61027495e+01   9.63200339e+01   9.65378097e+01   9.67560778e+01\n",
        "   9.69748395e+01   9.71940957e+01   9.74138477e+01   9.76340966e+01\n",
        "   9.78548434e+01   9.80760893e+01   9.82978354e+01   9.85200829e+01\n",
        "   9.87428329e+01   9.89660865e+01   9.91898449e+01   9.94141092e+01\n",
        "   9.96388805e+01   9.98641600e+01   1.00089949e+02   1.00316248e+02\n",
        "   1.00543059e+02   1.00770383e+02   1.00998221e+02   1.01226574e+02\n",
        "   1.01455443e+02   1.01684830e+02   1.01914735e+02   1.02145160e+02\n",
        "   1.02376107e+02   1.02607575e+02   1.02839567e+02   1.03072083e+02\n",
        "   1.03305125e+02   1.03538693e+02   1.03772790e+02   1.04007416e+02\n",
        "   1.04242573e+02   1.04478261e+02   1.04714483e+02   1.04951238e+02\n",
        "   1.05188528e+02   1.05426355e+02   1.05664720e+02   1.05903624e+02\n",
        "   1.06143068e+02   1.06383053e+02   1.06623581e+02   1.06864653e+02\n",
        "   1.07106269e+02   1.07348432e+02   1.07591143e+02   1.07834402e+02\n",
        "   1.08078211e+02   1.08322572e+02   1.08567485e+02   1.08812952e+02\n",
        "   1.09058974e+02   1.09305552e+02   1.09552687e+02   1.09800381e+02\n",
        "   1.10048636e+02   1.10297451e+02   1.10546829e+02   1.10796771e+02\n",
        "   1.11047278e+02   1.11298352e+02   1.11549993e+02   1.11802203e+02\n",
        "   1.12054983e+02   1.12308335e+02   1.12562260e+02   1.12816759e+02\n",
        "   1.13071833e+02   1.13327484e+02   1.13583713e+02   1.13840521e+02\n",
        "   1.14097910e+02   1.14355881e+02   1.14614435e+02   1.14873574e+02\n",
        "   1.15133298e+02   1.15393610e+02   1.15654510e+02   1.15916001e+02\n",
        "   1.16178082e+02   1.16440756e+02   1.16704024e+02   1.16967887e+02\n",
        "   1.17232347e+02   1.17497404e+02   1.17763061e+02   1.18029319e+02\n",
        "   1.18296179e+02   1.18563642e+02   1.18831709e+02   1.19100383e+02\n",
        "   1.19369664e+02   1.19639554e+02   1.19910055e+02   1.20181166e+02\n",
        "   1.20452891e+02   1.20725230e+02   1.20998185e+02   1.21271757e+02\n",
        "   1.21545948e+02   1.21820759e+02   1.22096190e+02   1.22372245e+02\n",
        "   1.22648924e+02   1.22926228e+02   1.23204160e+02   1.23482719e+02\n",
        "   1.23761909e+02   1.24041729e+02   1.24322183e+02   1.24603270e+02\n",
        "   1.24884993e+02   1.25167353e+02   1.25450352e+02   1.25733990e+02\n",
        "   1.26018270e+02   1.26303192e+02   1.26588758e+02   1.26874971e+02\n",
        "   1.27161830e+02   1.27449338e+02   1.27737496e+02   1.28026305e+02\n",
        "   1.28315767e+02   1.28605884e+02   1.28896657e+02   1.29188087e+02\n",
        "   1.29480176e+02   1.29772926e+02   1.30066337e+02   1.30360412e+02\n",
        "   1.30655152e+02   1.30950558e+02   1.31246632e+02   1.31543375e+02\n",
        "   1.31840790e+02   1.32138876e+02   1.32437637e+02   1.32737073e+02\n",
        "   1.33037187e+02   1.33337978e+02   1.33639450e+02   1.33941604e+02\n",
        "   1.34244440e+02   1.34547962e+02   1.34852169e+02   1.35157065e+02\n",
        "   1.35462649e+02   1.35768925e+02   1.36075893e+02   1.36383555e+02\n",
        "   1.36691913e+02   1.37000968e+02   1.37310722e+02   1.37621176e+02\n",
        "   1.37932332e+02   1.38244191e+02   1.38556756e+02   1.38870027e+02\n",
        "   1.39184007e+02   1.39498696e+02   1.39814097e+02   1.40130212e+02\n",
        "   1.40447040e+02   1.40764586e+02   1.41082849e+02   1.41401831e+02\n",
        "   1.41721535e+02   1.42041962e+02   1.42363113e+02   1.42684991e+02\n",
        "   1.43007596e+02   1.43330930e+02   1.43654996e+02   1.43979794e+02\n",
        "   1.44305326e+02   1.44631595e+02   1.44958601e+02   1.45286347e+02\n",
        "   1.45614834e+02   1.45944063e+02   1.46274037e+02   1.46604756e+02\n",
        "   1.46936224e+02   1.47268441e+02   1.47601409e+02   1.47935130e+02\n",
        "   1.48269605e+02   1.48604837e+02   1.48940827e+02   1.49277576e+02\n",
        "   1.49615087e+02   1.49953360e+02   1.50292399e+02   1.50632204e+02\n",
        "   1.50972777e+02   1.51314121e+02   1.51656236e+02   1.51999125e+02\n",
        "   1.52342789e+02   1.52687230e+02   1.53032449e+02   1.53378450e+02\n",
        "   1.53725232e+02   1.54072799e+02   1.54421151e+02   1.54770292e+02\n",
        "   1.55120221e+02   1.55470942e+02   1.55822455e+02   1.56174764e+02\n",
        "   1.56527869e+02   1.56881772e+02   1.57236475e+02   1.57591981e+02\n",
        "   1.57948290e+02   1.58305405e+02   1.58663327e+02   1.59022058e+02\n",
        "   1.59381601e+02   1.59741956e+02   1.60103127e+02   1.60465113e+02\n",
        "   1.60827919e+02   1.61191544e+02   1.61555992e+02   1.61921263e+02\n",
        "   1.62287361e+02   1.62654286e+02   1.63022041e+02   1.63390627e+02\n",
        "   1.63760047e+02   1.64130302e+02   1.64501394e+02   1.64873325e+02\n",
        "   1.65246097e+02   1.65619712e+02   1.65994172e+02   1.66369478e+02\n",
        "   1.66745633e+02   1.67122638e+02   1.67500496e+02   1.67879207e+02\n",
        "   1.68258776e+02   1.68639202e+02   1.69020489e+02   1.69402637e+02\n",
        "   1.69785650e+02   1.70169528e+02   1.70554275e+02   1.70939891e+02\n",
        "   1.71326380e+02   1.71713742e+02   1.72101980e+02   1.72491095e+02\n",
        "   1.72881091e+02   1.73271968e+02   1.73663729e+02   1.74056376e+02\n",
        "   1.74449911e+02   1.74844335e+02   1.75239651e+02   1.75635861e+02\n",
        "   1.76032966e+02   1.76430970e+02   1.76829873e+02   1.77229679e+02\n",
        "   1.77630388e+02   1.78032003e+02   1.78434526e+02   1.78837960e+02\n",
        "   1.79242305e+02   1.79647565e+02   1.80053741e+02   1.80460835e+02\n",
        "   1.80868850e+02   1.81277787e+02   1.81687649e+02   1.82098438e+02\n",
        "   1.82510155e+02   1.82922803e+02   1.83336385e+02   1.83750901e+02\n",
        "   1.84166354e+02   1.84582747e+02   1.85000081e+02   1.85418359e+02\n",
        "   1.85837583e+02   1.86257754e+02   1.86678875e+02   1.87100949e+02\n",
        "   1.87523977e+02   1.87947961e+02   1.88372904e+02   1.88798807e+02\n",
        "   1.89225674e+02   1.89653506e+02   1.90082305e+02   1.90512073e+02\n",
        "   1.90942813e+02   1.91374528e+02   1.91807218e+02   1.92240886e+02\n",
        "   1.92675535e+02   1.93111167e+02   1.93547784e+02   1.93985387e+02\n",
        "   1.94423981e+02   1.94863566e+02   1.95304144e+02   1.95745719e+02\n",
        "   1.96188293e+02   1.96631866e+02   1.97076443e+02   1.97522025e+02\n",
        "   1.97968615e+02   1.98416214e+02   1.98864825e+02   1.99314450e+02\n",
        "   1.99765092e+02   2.00216753e+02   2.00669436e+02   2.01123141e+02\n",
        "   2.01577873e+02   2.02033632e+02   2.02490422e+02   2.02948245e+02\n",
        "   2.03407103e+02   2.03866998e+02   2.04327933e+02   2.04789911e+02\n",
        "   2.05252932e+02   2.05717001e+02   2.06182119e+02   2.06648289e+02\n",
        "   2.07115512e+02   2.07583792e+02   2.08053131e+02   2.08523531e+02\n",
        "   2.08994994e+02   2.09467523e+02   2.09941121e+02   2.10415790e+02\n",
        "   2.10891531e+02   2.11368349e+02   2.11846244e+02   2.12325220e+02\n",
        "   2.12805279e+02   2.13286423e+02   2.13768655e+02   2.14251978e+02\n",
        "   2.14736393e+02   2.15221903e+02   2.15708512e+02   2.16196220e+02\n",
        "   2.16685031e+02   2.17174947e+02   2.17665971e+02   2.18158105e+02\n",
        "   2.18651352e+02   2.19145714e+02   2.19641194e+02   2.20137794e+02\n",
        "   2.20635517e+02   2.21134365e+02   2.21634341e+02   2.22135447e+02\n",
        "   2.22637686e+02   2.23141061e+02   2.23645574e+02   2.24151228e+02\n",
        "   2.24658025e+02   2.25165968e+02   2.25675059e+02   2.26185302e+02\n",
        "   2.26696698e+02   2.27209250e+02   2.27722961e+02   2.28237833e+02\n",
        "   2.28753870e+02   2.29271074e+02   2.29789446e+02   2.30308991e+02\n",
        "   2.30829711e+02   2.31351607e+02   2.31874684e+02   2.32398944e+02\n",
        "   2.32924388e+02   2.33451021e+02   2.33978845e+02   2.34507861e+02\n",
        "   2.35038074e+02   2.35569486e+02   2.36102099e+02   2.36635917e+02\n",
        "   2.37170941e+02   2.37707175e+02   2.38244622e+02   2.38783283e+02\n",
        "   2.39323163e+02   2.39864263e+02   2.40406586e+02   2.40950136e+02\n",
        "   2.41494915e+02   2.42040925e+02   2.42588170e+02   2.43136652e+02\n",
        "   2.43686375e+02   2.44237340e+02   2.44789551e+02   2.45343010e+02\n",
        "   2.45897721e+02   2.46453686e+02   2.47010908e+02   2.47569390e+02\n",
        "   2.48129134e+02   2.48690144e+02   2.49252423e+02   2.49815973e+02\n",
        "   2.50380797e+02   2.50946898e+02   2.51514278e+02   2.52082942e+02\n",
        "   2.52652892e+02   2.53224130e+02   2.53796660e+02   2.54370484e+02\n",
        "   2.54945605e+02   2.55522027e+02   2.56099752e+02   2.56678784e+02\n",
        "   2.57259124e+02   2.57840777e+02   2.58423744e+02   2.59008030e+02\n",
        "   2.59593637e+02   2.60180568e+02   2.60768826e+02   2.61358414e+02\n",
        "   2.61949335e+02   2.62541592e+02   2.63135188e+02   2.63730126e+02\n",
        "   2.64326409e+02   2.64924041e+02   2.65523024e+02   2.66123361e+02\n",
        "   2.66725055e+02   2.67328110e+02   2.67932528e+02   2.68538313e+02\n",
        "   2.69145467e+02   2.69753994e+02   2.70363897e+02   2.70975179e+02\n",
        "   2.71587843e+02   2.72201893e+02   2.72817330e+02   2.73434159e+02\n",
        "   2.74052383e+02   2.74672005e+02   2.75293027e+02   2.75915454e+02\n",
        "   2.76539288e+02   2.77164532e+02   2.77791190e+02   2.78419265e+02\n",
        "   2.79048760e+02   2.79679678e+02   2.80312022e+02   2.80945797e+02\n",
        "   2.81581004e+02   2.82217647e+02   2.82855730e+02   2.83495256e+02\n",
        "   2.84136227e+02   2.84778648e+02   2.85422521e+02   2.86067850e+02\n",
        "   2.86714638e+02   2.87362889e+02   2.88012605e+02   2.88663790e+02\n",
        "   2.89316447e+02   2.89970580e+02   2.90626192e+02   2.91283286e+02\n",
        "   2.91941866e+02   2.92601935e+02   2.93263496e+02   2.93926553e+02\n",
        "   2.94591110e+02   2.95257168e+02   2.95924733e+02   2.96593807e+02\n",
        "   2.97264394e+02   2.97936497e+02   2.98610119e+02   2.99285265e+02\n",
        "   2.99961937e+02   3.00640139e+02   3.01319874e+02   3.02001147e+02\n",
        "   3.02683959e+02   3.03368316e+02   3.04054219e+02   3.04741674e+02\n",
        "   3.05430683e+02   3.06121249e+02   3.06813377e+02   3.07507070e+02\n",
        "   3.08202331e+02   3.08899164e+02   3.09597573e+02   3.10297561e+02\n",
        "   3.10999131e+02   3.11702288e+02   3.12407035e+02   3.13113374e+02\n",
        "   3.13821311e+02   3.14530849e+02   3.15241991e+02   3.15954740e+02\n",
        "   3.16669101e+02   3.17385077e+02   3.18102672e+02   3.18821890e+02\n",
        "   3.19542734e+02   3.20265207e+02   3.20989314e+02   3.21715058e+02\n",
        "   3.22442443e+02   3.23171472e+02   3.23902150e+02   3.24634480e+02\n",
        "   3.25368466e+02   3.26104111e+02   3.26841419e+02   3.27580395e+02\n",
        "   3.28321041e+02   3.29063362e+02   3.29807361e+02   3.30553042e+02\n",
        "   3.31300409e+02   3.32049466e+02   3.32800217e+02   3.33552665e+02\n",
        "   3.34306814e+02   3.35062669e+02   3.35820232e+02   3.36579508e+02\n",
        "   3.37340501e+02   3.38103215e+02   3.38867653e+02   3.39633819e+02\n",
        "   3.40401717e+02   3.41171352e+02   3.41942727e+02   3.42715846e+02\n",
        "   3.43490713e+02   3.44267332e+02   3.45045706e+02   3.45825841e+02\n",
        "   3.46607739e+02   3.47391406e+02   3.48176844e+02   3.48964058e+02\n",
        "   3.49753052e+02   3.50543829e+02   3.51336395e+02   3.52130753e+02\n",
        "   3.52926906e+02   3.53724860e+02   3.54524618e+02   3.55326184e+02\n",
        "   3.56129562e+02   3.56934757e+02   3.57741772e+02   3.58550612e+02\n",
        "   3.59361281e+02   3.60173782e+02   3.60988121e+02   3.61804301e+02\n",
        "   3.62622326e+02   3.63442200e+02   3.64263929e+02   3.65087515e+02\n",
        "   3.65912963e+02   3.66740278e+02   3.67569463e+02   3.68400523e+02\n",
        "   3.69233462e+02   3.70068284e+02   3.70904994e+02   3.71743595e+02\n",
        "   3.72584093e+02   3.73426490e+02   3.74270793e+02   3.75117004e+02\n",
        "   3.75965129e+02   3.76815171e+02   3.77667135e+02   3.78521026e+02\n",
        "   3.79376846e+02   3.80234602e+02   3.81094298e+02   3.81955937e+02\n",
        "   3.82819524e+02   3.83685064e+02   3.84552560e+02   3.85422018e+02\n",
        "   3.86293442e+02   3.87166836e+02   3.88042205e+02   3.88919553e+02\n",
        "   3.89798885e+02   3.90680204e+02   3.91563517e+02   3.92448826e+02\n",
        "   3.93336138e+02   3.94225455e+02   3.95116783e+02   3.96010126e+02\n",
        "   3.96905489e+02   3.97802877e+02   3.98702293e+02   3.99603743e+02\n",
        "   4.00507232e+02   4.01412762e+02   4.02320341e+02   4.03229971e+02\n",
        "   4.04141658e+02   4.05055406e+02   4.05971220e+02   4.06889105e+02\n",
        "   4.07809065e+02   4.08731105e+02   4.09655230e+02   4.10581444e+02\n",
        "   4.11509752e+02   4.12440159e+02   4.13372670e+02   4.14307289e+02\n",
        "   4.15244022e+02   4.16182872e+02   4.17123845e+02   4.18066945e+02\n",
        "   4.19012178e+02   4.19959548e+02   4.20909060e+02   4.21860718e+02\n",
        "   4.22814529e+02   4.23770495e+02   4.24728624e+02   4.25688918e+02\n",
        "   4.26651384e+02   4.27616026e+02   4.28582848e+02   4.29551857e+02\n",
        "   4.30523057e+02   4.31496452e+02   4.32472049e+02   4.33449851e+02\n",
        "   4.34429864e+02   4.35412092e+02   4.36396542e+02   4.37383217e+02\n",
        "   4.38372123e+02   4.39363265e+02   4.40356648e+02   4.41352276e+02\n",
        "   4.42350156e+02   4.43350292e+02   4.44352690e+02   4.45357354e+02\n",
        "   4.46364289e+02   4.47373501e+02   4.48384994e+02   4.49398775e+02\n",
        "   4.50414848e+02   4.51433218e+02   4.52453890e+02   4.53476871e+02\n",
        "   4.54502164e+02   4.55529775e+02   4.56559710e+02   4.57591973e+02\n",
        "   4.58626570e+02   4.59663507e+02   4.60702788e+02   4.61744418e+02\n",
        "   4.62788404e+02   4.63834750e+02   4.64883462e+02   4.65934545e+02\n",
        "   4.66988004e+02   4.68043846e+02   4.69102074e+02   4.70162695e+02\n",
        "   4.71225714e+02   4.72291137e+02   4.73358969e+02   4.74429214e+02\n",
        "   4.75501880e+02   4.76576971e+02   4.77654492e+02   4.78734450e+02\n",
        "   4.79816850e+02   4.80901696e+02   4.81988996e+02   4.83078754e+02\n",
        "   4.84170976e+02   4.85265667e+02   4.86362833e+02   4.87462480e+02\n",
        "   4.88564614e+02   4.89669239e+02   4.90776361e+02   4.91885987e+02\n",
        "   4.92998122e+02   4.94112771e+02   4.95229940e+02   4.96349635e+02\n",
        "   4.97471862e+02   4.98596626e+02   4.99723933e+02   5.00853789e+02\n",
        "   5.01986200e+02   5.03121171e+02   5.04258708e+02   5.05398816e+02\n",
        "   5.06541503e+02   5.07686773e+02   5.08834633e+02   5.09985088e+02\n",
        "   5.11138144e+02   5.12293807e+02   5.13452083e+02   5.14612977e+02\n",
        "   5.15776497e+02   5.16942647e+02   5.18111434e+02   5.19282863e+02\n",
        "   5.20456941e+02   5.21633673e+02   5.22813066e+02   5.23995126e+02\n",
        "   5.25179858e+02   5.26367269e+02   5.27557364e+02   5.28750150e+02\n",
        "   5.29945633e+02   5.31143819e+02   5.32344714e+02   5.33548324e+02\n",
        "   5.34754656e+02   5.35963715e+02   5.37175508e+02   5.38390040e+02\n",
        "   5.39607318e+02   5.40827349e+02   5.42050138e+02   5.43275692e+02\n",
        "   5.44504017e+02   5.45735119e+02   5.46969004e+02   5.48205679e+02\n",
        "   5.49445150e+02   5.50687424e+02   5.51932506e+02   5.53180404e+02\n",
        "   5.54431123e+02   5.55684669e+02   5.56941050e+02   5.58200272e+02\n",
        "   5.59462340e+02   5.60727262e+02   5.61995044e+02   5.63265693e+02\n",
        "   5.64539214e+02   5.65815615e+02   5.67094901e+02   5.68377080e+02\n",
        "   5.69662158e+02   5.70950142e+02   5.72241037e+02   5.73534852e+02\n",
        "   5.74831591e+02   5.76131262e+02   5.77433872e+02   5.78739427e+02\n",
        "   5.80047934e+02   5.81359399e+02   5.82673830e+02   5.83991232e+02\n",
        "   5.85311613e+02   5.86634979e+02   5.87961338e+02   5.89290695e+02\n",
        "   5.90623058e+02   5.91958433e+02   5.93296827e+02   5.94638248e+02\n",
        "   5.95982701e+02   5.97330194e+02   5.98680734e+02   6.00034327e+02\n",
        "   6.01390981e+02   6.02750702e+02   6.04113498e+02   6.05479374e+02\n",
        "   6.06848339e+02   6.08220399e+02   6.09595561e+02   6.10973832e+02\n",
        "   6.12355220e+02   6.13739731e+02   6.15127372e+02   6.16518150e+02\n",
        "   6.17912073e+02   6.19309148e+02   6.20709381e+02   6.22112780e+02\n",
        "   6.23519353e+02   6.24929105e+02   6.26342045e+02   6.27758179e+02\n",
        "   6.29177515e+02   6.30600061e+02   6.32025822e+02   6.33454808e+02\n",
        "   6.34887024e+02   6.36322478e+02   6.37761178e+02   6.39203130e+02\n",
        "   6.40648343e+02   6.42096824e+02   6.43548579e+02   6.45003617e+02\n",
        "   6.46461944e+02   6.47923569e+02   6.49388498e+02   6.50856740e+02\n",
        "   6.52328301e+02   6.53803189e+02   6.55281412e+02   6.56762978e+02\n",
        "   6.58247892e+02   6.59736165e+02   6.61227802e+02   6.62722812e+02\n",
        "   6.64221202e+02   6.65722979e+02   6.67228152e+02   6.68736729e+02\n",
        "   6.70248716e+02   6.71764122e+02   6.73282953e+02   6.74805219e+02\n",
        "   6.76330927e+02   6.77860084e+02   6.79392699e+02   6.80928779e+02\n",
        "   6.82468332e+02   6.84011366e+02   6.85557888e+02   6.87107907e+02\n",
        "   6.88661431e+02   6.90218467e+02   6.91779023e+02   6.93343108e+02\n",
        "   6.94910729e+02   6.96481895e+02   6.98056613e+02   6.99634891e+02\n",
        "   7.01216737e+02   7.02802161e+02   7.04391168e+02   7.05983769e+02\n",
        "   7.07579970e+02   7.09179780e+02   7.10783207e+02   7.12390260e+02\n",
        "   7.14000946e+02   7.15615274e+02   7.17233251e+02   7.18854887e+02\n",
        "   7.20480189e+02   7.22109166e+02   7.23741826e+02   7.25378178e+02\n",
        "   7.27018229e+02   7.28661988e+02   7.30309464e+02   7.31960665e+02\n",
        "   7.33615599e+02   7.35274274e+02   7.36936700e+02   7.38602885e+02\n",
        "   7.40272836e+02   7.41946564e+02   7.43624075e+02   7.45305380e+02\n",
        "   7.46990486e+02   7.48679401e+02   7.50372136e+02   7.52068697e+02\n",
        "   7.53769095e+02   7.55473337e+02   7.57181432e+02   7.58893389e+02\n",
        "   7.60609216e+02   7.62328924e+02   7.64052519e+02   7.65780011e+02\n",
        "   7.67511409e+02   7.69246722e+02   7.70985958e+02   7.72729127e+02\n",
        "   7.74476237e+02   7.76227297e+02   7.77982316e+02   7.79741303e+02\n",
        "   7.81504267e+02   7.83271217e+02   7.85042162e+02   7.86817111e+02\n",
        "   7.88596073e+02   7.90379057e+02   7.92166073e+02   7.93957129e+02\n",
        "   7.95752234e+02   7.97551399e+02   7.99354630e+02   8.01161939e+02\n",
        "   8.02973335e+02   8.04788825e+02   8.06608421e+02   8.08432131e+02\n",
        "   8.10259963e+02   8.12091929e+02   8.13928036e+02   8.15768295e+02\n",
        "   8.17612715e+02   8.19461305e+02   8.21314074e+02   8.23171033e+02\n",
        "   8.25032189e+02   8.26897554e+02   8.28767137e+02   8.30640946e+02\n",
        "   8.32518992e+02   8.34401285e+02   8.36287833e+02   8.38178646e+02\n",
        "   8.40073735e+02   8.41973108e+02   8.43876776e+02   8.45784748e+02\n",
        "   8.47697033e+02   8.49613643e+02   8.51534585e+02   8.53459871e+02\n",
        "   8.55389510e+02   8.57323511e+02   8.59261886e+02   8.61204643e+02\n",
        "   8.63151792e+02   8.65103344e+02   8.67059308e+02   8.69019695e+02\n",
        "   8.70984514e+02   8.72953775e+02   8.74927489e+02   8.76905665e+02\n",
        "   8.78888314e+02   8.80875445e+02   8.82867069e+02   8.84863197e+02\n",
        "   8.86863837e+02   8.88869001e+02   8.90878698e+02   8.92892940e+02\n",
        "   8.94911735e+02   8.96935095e+02   8.98963029e+02   9.00995549e+02\n",
        "   9.03032664e+02   9.05074385e+02   9.07120722e+02   9.09171686e+02\n",
        "   9.11227287e+02   9.13287536e+02   9.15352442e+02   9.17422018e+02\n",
        "   9.19496273e+02   9.21575217e+02   9.23658862e+02   9.25747218e+02\n",
        "   9.27840295e+02   9.29938105e+02   9.32040658e+02   9.34147965e+02\n",
        "   9.36260037e+02   9.38376883e+02   9.40498516e+02   9.42624946e+02\n",
        "   9.44756183e+02   9.46892239e+02   9.49033125e+02   9.51178851e+02\n",
        "   9.53329429e+02   9.55484868e+02   9.57645182e+02   9.59810379e+02\n",
        "   9.61980472e+02   9.64155472e+02   9.66335389e+02   9.68520235e+02\n",
        "   9.70710021e+02   9.72904757e+02   9.75104456e+02   9.77309129e+02\n",
        "   9.79518786e+02   9.81733439e+02   9.83953099e+02   9.86177778e+02\n",
        "   9.88407486e+02   9.90642236e+02   9.92882039e+02   9.95126906e+02\n",
        "   9.97376848e+02   9.99631877e+02   1.00189201e+03   1.00415724e+03\n",
        "   1.00642760e+03   1.00870310e+03   1.01098373e+03   1.01326953e+03\n",
        "   1.01556049e+03   1.01785663e+03   1.02015796e+03   1.02246450e+03\n",
        "   1.02477625e+03   1.02709323e+03   1.02941545e+03   1.03174291e+03\n",
        "   1.03407564e+03   1.03641365e+03   1.03875694e+03   1.04110553e+03\n",
        "   1.04345942e+03   1.04581864e+03   1.04818320e+03   1.05055310e+03\n",
        "   1.05292836e+03   1.05530899e+03   1.05769500e+03   1.06008641e+03\n",
        "   1.06248322e+03   1.06488545e+03   1.06729311e+03   1.06970622e+03\n",
        "   1.07212478e+03   1.07454882e+03   1.07697833e+03   1.07941333e+03\n",
        "   1.08185384e+03   1.08429987e+03   1.08675143e+03   1.08920853e+03\n",
        "   1.09167119e+03   1.09413942e+03   1.09661322e+03   1.09909262e+03\n",
        "   1.10157762e+03   1.10406825e+03   1.10656450e+03   1.10906640e+03\n",
        "   1.11157396e+03   1.11408718e+03   1.11660609e+03   1.11913069e+03\n",
        "   1.12166100e+03   1.12419703e+03   1.12673879e+03   1.12928631e+03\n",
        "   1.13183958e+03   1.13439862e+03   1.13696345e+03   1.13953408e+03\n",
        "   1.14211052e+03   1.14469279e+03   1.14728089e+03   1.14987485e+03\n",
        "   1.15247467e+03   1.15508037e+03   1.15769196e+03   1.16030946e+03\n",
        "   1.16293287e+03   1.16556221e+03   1.16819750e+03   1.17083875e+03\n",
        "   1.17348597e+03   1.17613918e+03   1.17879838e+03   1.18146360e+03\n",
        "   1.18413484e+03   1.18681212e+03   1.18949546e+03   1.19218486e+03\n",
        "   1.19488034e+03   1.19758192e+03   1.20028960e+03   1.20300341e+03\n",
        "   1.20572335e+03   1.20844944e+03   1.21118170e+03   1.21392013e+03\n",
        "   1.21666476e+03   1.21941559e+03   1.22217264e+03   1.22493592e+03\n",
        "   1.22770546e+03   1.23048125e+03   1.23326332e+03   1.23605168e+03\n",
        "   1.23884634e+03   1.24164732e+03   1.24445464e+03   1.24726830e+03\n",
        "   1.25008832e+03   1.25291472e+03   1.25574751e+03   1.25858671e+03\n",
        "   1.26143232e+03   1.26428437e+03   1.26714287e+03   1.27000783e+03\n",
        "   1.27287927e+03   1.27575719e+03   1.27864163e+03   1.28153259e+03\n",
        "   1.28443008e+03   1.28733413e+03   1.29024474e+03   1.29316193e+03\n",
        "   1.29608572e+03   1.29901612e+03   1.30195314e+03   1.30489681e+03\n",
        "   1.30784712e+03   1.31080412e+03   1.31376779e+03   1.31673817e+03\n",
        "   1.31971526e+03   1.32269908e+03   1.32568965e+03   1.32868699e+03\n",
        "   1.33169109e+03   1.33470199e+03   1.33771970e+03   1.34074423e+03\n",
        "   1.34377560e+03   1.34681383e+03   1.34985892e+03   1.35291090e+03\n",
        "   1.35596977e+03   1.35903557e+03   1.36210829e+03   1.36518797e+03\n",
        "   1.36827460e+03   1.37136822e+03   1.37446882e+03   1.37757644e+03\n",
        "   1.38069109e+03   1.38381278e+03   1.38694152e+03   1.39007734e+03\n",
        "   1.39322025e+03   1.39637027e+03   1.39952740e+03   1.40269168e+03\n",
        "   1.40586311e+03   1.40904171e+03   1.41222750e+03   1.41542049e+03\n",
        "   1.41862070e+03   1.42182814e+03   1.42504284e+03   1.42826480e+03\n",
        "   1.43149405e+03   1.43473061e+03   1.43797447e+03   1.44122568e+03\n",
        "   1.44448423e+03   1.44775015e+03   1.45102346e+03   1.45430416e+03\n",
        "   1.45759229e+03   1.46088785e+03   1.46419086e+03   1.46750133e+03\n",
        "   1.47081929e+03   1.47414476e+03   1.47747774e+03   1.48081826e+03\n",
        "   1.48416633e+03   1.48752197e+03   1.49088520e+03   1.49425603e+03\n",
        "   1.49763448e+03   1.50102058e+03   1.50441432e+03   1.50781575e+03\n",
        "   1.51122486e+03   1.51464168e+03   1.51806622e+03   1.52149851e+03\n",
        "   1.52493856e+03   1.52838638e+03   1.53184200e+03   1.53530544e+03\n",
        "   1.53877670e+03   1.54225581e+03   1.54574279e+03   1.54923765e+03\n",
        "   1.55274042e+03   1.55625110e+03   1.55976973e+03   1.56329630e+03\n",
        "   1.56683085e+03   1.57037340e+03   1.57392395e+03   1.57748253e+03\n",
        "   1.58104915e+03   1.58462384e+03   1.58820661e+03   1.59179748e+03\n",
        "   1.59539647e+03   1.59900360e+03   1.60261889e+03   1.60624234e+03\n",
        "   1.60987399e+03   1.61351385e+03   1.61716195e+03   1.62081828e+03\n",
        "   1.62448289e+03   1.62815578e+03   1.63183698e+03   1.63552649e+03\n",
        "   1.63922436e+03   1.64293058e+03   1.64664518e+03   1.65036818e+03\n",
        "   1.65409959e+03   1.65783945e+03   1.66158775e+03   1.66534454e+03\n",
        "   1.66910982e+03   1.67288361e+03   1.67666593e+03   1.68045681e+03\n",
        "   1.68425625e+03   1.68806429e+03   1.69188093e+03   1.69570621e+03\n",
        "   1.69954013e+03   1.70338273e+03   1.70723401e+03   1.71109399e+03\n",
        "   1.71496271e+03   1.71884017e+03   1.72272640e+03   1.72662142e+03\n",
        "   1.73052524e+03   1.73443789e+03   1.73835938e+03   1.74228974e+03\n",
        "   1.74622899e+03   1.75017715e+03   1.75413423e+03   1.75810026e+03\n",
        "   1.76207525e+03   1.76605923e+03   1.77005222e+03   1.77405424e+03\n",
        "   1.77806531e+03   1.78208544e+03   1.78611466e+03   1.79015300e+03\n",
        "   1.79420046e+03   1.79825708e+03   1.80232287e+03   1.80639785e+03\n",
        "   1.81048204e+03   1.81457547e+03   1.81867815e+03   1.82279011e+03\n",
        "   1.82691137e+03   1.83104194e+03   1.83518185e+03   1.83933113e+03\n",
        "   1.84348978e+03   1.84765784e+03   1.85183532e+03   1.85602224e+03\n",
        "   1.86021864e+03   1.86442452e+03   1.86863991e+03   1.87286483e+03\n",
        "   1.87709930e+03   1.88134335e+03   1.88559699e+03   1.88986025e+03\n",
        "   1.89413315e+03   1.89841571e+03   1.90270795e+03   1.90700990e+03\n",
        "   1.91132157e+03   1.91564299e+03   1.91997418e+03   1.92431517e+03\n",
        "   1.92866597e+03   1.93302661e+03   1.93739710e+03   1.94177748e+03\n",
        "   1.94616776e+03   1.95056797e+03   1.95497813e+03   1.95939825e+03\n",
        "   1.96382838e+03   1.96826851e+03   1.97271869e+03   1.97717893e+03\n",
        "   1.98164925e+03   1.98612968e+03   1.99062024e+03   1.99512095e+03\n",
        "   1.99963184e+03   2.00415293e+03   2.00868424e+03   2.01322580e+03\n",
        "   2.01777762e+03   2.02233973e+03   2.02691216e+03   2.03149493e+03\n",
        "   2.03608806e+03   2.04069158e+03   2.04530550e+03   2.04992985e+03\n",
        "   2.05456466e+03   2.05920995e+03   2.06386574e+03   2.06853206e+03\n",
        "   2.07320893e+03   2.07789637e+03   2.08259441e+03   2.08730308e+03\n",
        "   2.09202239e+03   2.09675236e+03   2.10149304e+03   2.10624443e+03\n",
        "   2.11100657e+03   2.11577947e+03   2.12056316e+03   2.12535767e+03\n",
        "   2.13016302e+03   2.13497923e+03   2.13980634e+03   2.14464435e+03\n",
        "   2.14949331e+03   2.15435323e+03   2.15922413e+03   2.16410605e+03\n",
        "   2.16899901e+03   2.17390303e+03   2.17881814e+03   2.18374436e+03\n",
        "   2.18868172e+03   2.19363024e+03   2.19858995e+03   2.20356088e+03\n",
        "   2.20854304e+03   2.21353647e+03   2.21854119e+03   2.22355722e+03\n",
        "   2.22858459e+03   2.23362333e+03   2.23867347e+03   2.24373502e+03\n",
        "   2.24880801e+03   2.25389248e+03   2.25898844e+03   2.26409592e+03\n",
        "   2.26921496e+03   2.27434556e+03   2.27948776e+03   2.28464160e+03\n",
        "   2.28980708e+03   2.29498424e+03   2.30017311e+03   2.30537371e+03\n",
        "   2.31058607e+03   2.31581021e+03   2.32104617e+03   2.32629396e+03\n",
        "   2.33155362e+03   2.33682517e+03   2.34210864e+03   2.34740405e+03\n",
        "   2.35271144e+03   2.35803082e+03   2.36336224e+03   2.36870571e+03\n",
        "   2.37406125e+03   2.37942891e+03   2.38480871e+03   2.39020066e+03\n",
        "   2.39560481e+03   2.40102118e+03   2.40644979e+03   2.41189068e+03\n",
        "   2.41734387e+03   2.42280939e+03   2.42828726e+03   2.43377752e+03\n",
        "   2.43928020e+03   2.44479531e+03   2.45032290e+03   2.45586298e+03\n",
        "   2.46141559e+03   2.46698075e+03   2.47255850e+03   2.47814885e+03\n",
        "   2.48375185e+03   2.48936751e+03   2.49499587e+03   2.50063696e+03\n",
        "   2.50629080e+03   2.51195743e+03   2.51763686e+03   2.52332914e+03\n",
        "   2.52903428e+03   2.53475233e+03   2.54048330e+03   2.54622724e+03\n",
        "   2.55198415e+03   2.55775409e+03   2.56353707e+03   2.56933312e+03\n",
        "   2.57514228e+03   2.58096458e+03   2.58680004e+03   2.59264869e+03\n",
        "   2.59851056e+03   2.60438569e+03   2.61027411e+03   2.61617583e+03\n",
        "   2.62209090e+03   2.62801934e+03   2.63396119e+03   2.63991647e+03\n",
        "   2.64588522e+03   2.65186746e+03   2.65786323e+03   2.66387255e+03\n",
        "   2.66989546e+03   2.67593199e+03   2.68198216e+03   2.68804602e+03\n",
        "   2.69412358e+03   2.70021489e+03   2.70631997e+03   2.71243885e+03\n",
        "   2.71857156e+03   2.72471815e+03   2.73087863e+03   2.73705303e+03\n",
        "   2.74324140e+03   2.74944376e+03   2.75566014e+03   2.76189058e+03\n",
        "   2.76813511e+03   2.77439375e+03   2.78066654e+03   2.78695352e+03\n",
        "   2.79325471e+03   2.79957015e+03   2.80589987e+03   2.81224389e+03\n",
        "   2.81860226e+03   2.82497501e+03   2.83136217e+03   2.83776377e+03\n",
        "   2.84417984e+03   2.85061041e+03   2.85705553e+03   2.86351522e+03\n",
        "   2.86998951e+03   2.87647844e+03   2.88298205e+03   2.88950036e+03\n",
        "   2.89603340e+03   2.90258122e+03   2.90914384e+03   2.91572130e+03\n",
        "   2.92231363e+03   2.92892086e+03   2.93554303e+03   2.94218018e+03\n",
        "   2.94883233e+03   2.95549952e+03   2.96218179e+03   2.96887917e+03\n",
        "   2.97559168e+03   2.98231938e+03   2.98906228e+03   2.99582043e+03\n",
        "   3.00259387e+03   3.00938261e+03   3.01618671e+03   3.02300618e+03\n",
        "   3.02984108e+03   3.03669143e+03   3.04355727e+03   3.05043863e+03\n",
        "   3.05733555e+03   3.06424806e+03   3.07117621e+03   3.07812001e+03\n",
        "   3.08507952e+03   3.09205476e+03   3.09904578e+03   3.10605259e+03\n",
        "   3.11307526e+03   3.12011380e+03   3.12716825e+03   3.13423865e+03\n",
        "   3.14132504e+03   3.14842745e+03   3.15554592e+03   3.16268048e+03\n",
        "   3.16983118e+03   3.17699804e+03   3.18418111e+03   3.19138041e+03\n",
        "   3.19859600e+03   3.20582790e+03   3.21307614e+03   3.22034078e+03\n",
        "   3.22762184e+03   3.23491937e+03   3.24223339e+03   3.24956395e+03\n",
        "   3.25691109e+03   3.26427483e+03   3.27165523e+03   3.27905231e+03\n",
        "   3.28646612e+03   3.29389669e+03   3.30134406e+03   3.30880826e+03\n",
        "   3.31628935e+03   3.32378735e+03   3.33130230e+03   3.33883424e+03\n",
        "   3.34638321e+03   3.35394925e+03   3.36153240e+03   3.36913269e+03\n",
        "   3.37675016e+03   3.38438486e+03   3.39203682e+03   3.39970608e+03\n",
        "   3.40739268e+03   3.41509666e+03   3.42281806e+03   3.43055691e+03\n",
        "   3.43831326e+03   3.44608715e+03   3.45387862e+03   3.46168770e+03\n",
        "   3.46951444e+03   3.47735887e+03   3.48522104e+03   3.49310099e+03\n",
        "   3.50099875e+03   3.50891437e+03   3.51684789e+03   3.52479934e+03\n",
        "   3.53276877e+03   3.54075622e+03   3.54876173e+03   3.55678534e+03\n",
        "   3.56482709e+03   3.57288702e+03   3.58096517e+03   3.58906159e+03\n",
        "   3.59717632e+03   3.60530939e+03   3.61346085e+03   3.62163074e+03\n",
        "   3.62981911e+03   3.63802598e+03   3.64625142e+03   3.65449545e+03\n",
        "   3.66275811e+03   3.67103946e+03   3.67933954e+03   3.68765838e+03\n",
        "   3.69599603e+03   3.70435253e+03   3.71272792e+03   3.72112225e+03\n",
        "   3.72953556e+03   3.73796789e+03   3.74641929e+03   3.75488979e+03\n",
        "   3.76337945e+03   3.77188830e+03   3.78041639e+03   3.78896376e+03\n",
        "   3.79753046e+03   3.80611652e+03   3.81472200e+03   3.82334693e+03\n",
        "   3.83199137e+03   3.84065535e+03   3.84933892e+03   3.85804212e+03\n",
        "   3.86676500e+03   3.87550760e+03   3.88426997e+03   3.89305215e+03\n",
        "   3.90185419e+03   3.91067612e+03   3.91951801e+03   3.92837988e+03\n",
        "   3.93726179e+03   3.94616378e+03   3.95508590e+03   3.96402819e+03\n",
        "   3.97299070e+03   3.98197348e+03   3.99097656e+03   4.00000000e+03]\n"
       ]
      }
     ],
     "prompt_number": 4
    },
    {
     "cell_type": "code",
     "collapsed": false,
     "input": [
      "sigparray_new[:,-1]/sigarray_new[:,-1]"
     ],
     "language": "python",
     "metadata": {},
     "outputs": [
      {
       "metadata": {},
       "output_type": "pyout",
       "prompt_number": 8,
       "text": [
        "array([ 0.01137015,  0.01137016,  0.01137029,  0.01137053,  0.01137088,\n",
        "        0.01137135,  0.01137195,  0.0113727 ,  0.01137363,  0.01137477,\n",
        "        0.01137615,  0.01137782,  0.01137985,  0.01138229,  0.01138524,\n",
        "        0.01138878,  0.01139303,  0.01139812,  0.01140419,  0.01141143,\n",
        "        0.01142002,  0.01143018,  0.01144215,  0.01145616,  0.01147246,\n",
        "        0.01149125,  0.01151269,  0.0115368 ,  0.01156342,  0.01159208,\n",
        "        0.01162185,  0.01165121,  0.0116778 ,  0.01169827,  0.01170815,\n",
        "        0.01170163,  0.01167089,  0.0116037 ,  0.01147605,  0.01123369,\n",
        "        0.01075301,  0.00977946,  0.0079237 ,  0.00505202,  0.00216995,\n",
        "        0.00067537,  0.00026142,  0.00016546,  0.00014317,  0.00014714])"
       ]
      }
     ],
     "prompt_number": 8
    },
    {
     "cell_type": "code",
     "collapsed": false,
     "input": [
      "tdrift = []\n",
      "for i in range(len(r)):\n",
      "    tdrift = np.append(tdrift, tr(r[i], t[0], 1e5, alpha, 1e-3, Mdisk, rc, rhos = 1.6, mu = 2.3))"
     ],
     "language": "python",
     "metadata": {},
     "outputs": [],
     "prompt_number": 60
    },
    {
     "cell_type": "code",
     "collapsed": false,
     "input": [
      "plt.loglog(r, tdrift)"
     ],
     "language": "python",
     "metadata": {},
     "outputs": [
      {
       "metadata": {},
       "output_type": "pyout",
       "prompt_number": 61,
       "text": [
        "[<matplotlib.lines.Line2D at 0x10e48e5d0>]"
       ]
      },
      {
       "metadata": {},
       "output_type": "display_data",
       "png": "[encoded data removed]",
       "text": [
        "<matplotlib.figure.Figure at 0x10cd97690>"
       ]
      }
     ],
     "prompt_number": 61
    },
    {
     "cell_type": "code",
     "collapsed": false,
     "input": [
      "rf(10.0, 3e6*365*24*3600, 1, 18, 5800., 0.01, 1e-3, 0.1*Msun, returnall = True)"
     ],
     "language": "python",
     "metadata": {},
     "outputs": [
      {
       "metadata": {},
       "output_type": "pyout",
       "prompt_number": 2,
       "text": [
        "(array([  1.00000000e-10,   1.00005521e-10,   1.00011042e-10, ...,\n",
        "          2.42234695e+12,   2.42248068e+12,   2.42261806e+12]),\n",
        " array([ 10.        ,  10.        ,  10.        , ...,   0.48819945,\n",
        "          0.48801704,   0.4876577 ]),\n",
        " array([ 1.        ,  1.        ,  1.        , ...,  0.01900088,\n",
        "         0.01264551,  0.        ]))"
       ]
      }
     ],
     "prompt_number": 2
    },
    {
     "cell_type": "code",
     "collapsed": false,
     "input": [
      "s = np.logspace(np.log10(0.5), 3, 10)\n",
      "\n",
      "a = 1.0 #np.logspace(-1, 2, 50)\n",
      "t = np.logspace(2, np.log10(3e6), 100) * 365 * 24 * 3600\n",
      "\n",
      "desdist = np.ndarray(shape = (len(s), len(t)), dtype = float)\n",
      "\n",
      "for i in range(len(s)):\n",
      "    for j in range(len(t)):\n",
      "        desdist[i, j] = rf(a, t[j], s[i], 18, 5800., 0.01, 1e-3, 0.1*Msun, rhos = 2.0, mu=2.3, Sigma0=2e3, betaS=1)\n",
      "        print s[i], t[j]\n",
      "        \n"
     ],
     "language": "python",
     "metadata": {},
     "outputs": [
      {
       "output_type": "stream",
       "stream": "stdout",
       "text": [
        "0.5 3153600000.0\n",
        "0.5"
       ]
      },
      {
       "output_type": "stream",
       "stream": "stdout",
       "text": [
        " 3499693846.96\n",
        "0.5"
       ]
      },
      {
       "output_type": "stream",
       "stream": "stdout",
       "text": [
        " 3883769984.29\n",
        "0.5"
       ]
      },
      {
       "output_type": "stream",
       "stream": "stdout",
       "text": [
        " 4309996802.71\n",
        "0.5"
       ]
      },
      {
       "output_type": "stream",
       "stream": "stdout",
       "text": [
        " 4783000155.65\n",
        "0.5"
       ]
      },
      {
       "output_type": "stream",
       "stream": "stdout",
       "text": [
        " 5307913563.78\n",
        "0.5"
       ]
      },
      {
       "output_type": "stream",
       "stream": "stdout",
       "text": [
        " 5890433929.27\n",
        "0.5"
       ]
      },
      {
       "output_type": "stream",
       "stream": "stdout",
       "text": [
        " 6536883364.47\n",
        "0.5"
       ]
      },
      {
       "output_type": "stream",
       "stream": "stdout",
       "text": [
        " 7254277805.98\n",
        "0.5"
       ]
      },
      {
       "output_type": "stream",
       "stream": "stdout",
       "text": [
        " 8050403158.84\n",
        "0.5"
       ]
      },
      {
       "output_type": "stream",
       "stream": "stdout",
       "text": [
        " 8933899797.23\n",
        "0.5"
       ]
      },
      {
       "output_type": "stream",
       "stream": "stdout",
       "text": [
        " 9914356338.7\n",
        "0.5"
       ]
      },
      {
       "output_type": "stream",
       "stream": "stdout",
       "text": [
        " 11002413709.8\n",
        "0.5"
       ]
      },
      {
       "output_type": "stream",
       "stream": "stdout",
       "text": [
        " 12209880632.2\n",
        "0.5"
       ]
      },
      {
       "output_type": "stream",
       "stream": "stdout",
       "text": [
        " 13549861783.6\n",
        "0.5"
       ]
      },
      {
       "output_type": "stream",
       "stream": "stdout",
       "text": [
        " 15036900022.6\n",
        "0.5"
       ]
      },
      {
       "output_type": "stream",
       "stream": "stdout",
       "text": [
        " 16687134223.2\n",
        "0.5"
       ]
      },
      {
       "output_type": "stream",
       "stream": "stdout",
       "text": [
        " 18518474430.6\n",
        "0.5"
       ]
      },
      {
       "output_type": "stream",
       "stream": "stdout",
       "text": [
        " 20550796239.2\n",
        "0.5"
       ]
      },
      {
       "output_type": "stream",
       "stream": "stdout",
       "text": [
        " 22806156503.2\n",
        "0.5"
       ]
      },
      {
       "output_type": "stream",
       "stream": "stdout",
       "text": [
        " 25309032720.4\n",
        "0.5"
       ]
      },
      {
       "output_type": "stream",
       "stream": "stdout",
       "text": [
        " 28086588687.2\n",
        "0.5"
       ]
      },
      {
       "output_type": "stream",
       "stream": "stdout",
       "text": [
        " 31168969308.3\n",
        "0.5"
       ]
      },
      {
       "output_type": "stream",
       "stream": "stdout",
       "text": [
        " 34589627760.2\n",
        "0.5"
       ]
      },
      {
       "output_type": "stream",
       "stream": "stdout",
       "text": [
        " 38385688559.4\n",
        "0.5"
       ]
      },
      {
       "output_type": "stream",
       "stream": "stdout",
       "text": [
        " 42598350476.5\n",
        "0.5"
       ]
      },
      {
       "output_type": "stream",
       "stream": "stdout",
       "text": [
        " 47273333667.3\n",
        "0.5"
       ]
      },
      {
       "output_type": "stream",
       "stream": "stdout",
       "text": [
        " 52461375875.4\n",
        "0.5"
       ]
      },
      {
       "output_type": "stream",
       "stream": "stdout",
       "text": [
        " 58218783090.5\n",
        "0.5"
       ]
      },
      {
       "output_type": "stream",
       "stream": "stdout",
       "text": [
        " 64608040639.1\n",
        "0.5"
       ]
      },
      {
       "output_type": "stream",
       "stream": "stdout",
       "text": [
        " 71698491339.7\n",
        "0.5"
       ]
      },
      {
       "output_type": "stream",
       "stream": "stdout",
       "text": [
        " 79567088082.7\n",
        "0.5"
       ]
      },
      {
       "output_type": "stream",
       "stream": "stdout",
       "text": [
        " 88299229003.0\n",
        "0.5"
       ]
      },
      {
       "output_type": "stream",
       "stream": "stdout",
       "text": [
        " 97989684307.8\n",
        "0.5"
       ]
      },
      {
       "output_type": "stream",
       "stream": "stdout",
       "text": [
        " 108743624822.0\n",
        "0.5"
       ]
      },
      {
       "output_type": "stream",
       "stream": "stdout",
       "text": [
        " 120677763408.0\n",
        "0.5"
       ]
      },
      {
       "output_type": "stream",
       "stream": "stdout",
       "text": [
        " 133921621659.0\n",
        "0.5"
       ]
      },
      {
       "output_type": "stream",
       "stream": "stdout",
       "text": [
        " 148618935596.0\n",
        "0.5"
       ]
      },
      {
       "output_type": "stream",
       "stream": "stdout",
       "text": [
        " 164929215642.0\n",
        "0.5"
       ]
      },
      {
       "output_type": "stream",
       "stream": "stdout",
       "text": [
        " 183029477792.0\n",
        "0.5"
       ]
      },
      {
       "output_type": "stream",
       "stream": "stdout",
       "text": [
        " 203116164777.0\n",
        "0.5"
       ]
      },
      {
       "output_type": "stream",
       "stream": "stdout",
       "text": [
        " 225407278060.0\n",
        "0.5"
       ]
      },
      {
       "output_type": "stream",
       "stream": "stdout",
       "text": [
        " 250144743812.0\n",
        "0.5"
       ]
      },
      {
       "output_type": "stream",
       "stream": "stdout",
       "text": [
        " 277597038549.0\n",
        "0.5"
       ]
      },
      {
       "output_type": "stream",
       "stream": "stdout",
       "text": [
        " 308062102912.0\n",
        "0.5"
       ]
      },
      {
       "output_type": "stream",
       "stream": "stdout",
       "text": [
        " 341870575229.0\n",
        "0.5"
       ]
      },
      {
       "output_type": "stream",
       "stream": "stdout",
       "text": [
        " 379389379943.0\n",
        "0.5"
       ]
      },
      {
       "output_type": "stream",
       "stream": "stdout",
       "text": [
        " 421025709851.0\n",
        "0.5"
       ]
      },
      {
       "output_type": "stream",
       "stream": "stdout",
       "text": [
        " 467231445389.0\n",
        "0.5"
       ]
      },
      {
       "output_type": "stream",
       "stream": "stdout",
       "text": [
        " 518508058896.0\n",
        "0.5"
       ]
      },
      {
       "output_type": "stream",
       "stream": "stdout",
       "text": [
        " 575412057115.0\n",
        "0.5"
       ]
      },
      {
       "output_type": "stream",
       "stream": "stdout",
       "text": [
        " 638561020977.0\n",
        "0.5"
       ]
      },
      {
       "output_type": "stream",
       "stream": "stdout",
       "text": [
        " 708640308226.0\n",
        "0.5"
       ]
      },
      {
       "output_type": "stream",
       "stream": "stdout",
       "text": [
        " 786410491630.0\n",
        "0.5"
       ]
      },
      {
       "output_type": "stream",
       "stream": "stdout",
       "text": [
        " 872715613503.0\n",
        "0.5"
       ]
      },
      {
       "output_type": "stream",
       "stream": "stdout",
       "text": [
        " 968492346119.0\n",
        "0.5"
       ]
      },
      {
       "output_type": "stream",
       "stream": "stdout",
       "text": [
        " 1.07478015745e+12\n",
        "0.5"
       ]
      },
      {
       "output_type": "stream",
       "stream": "stdout",
       "text": [
        " 1.19273259255e+12\n",
        "0.5"
       ]
      },
      {
       "output_type": "stream",
       "stream": "stdout",
       "text": [
        " 1.32362979301e+12\n",
        "0.5"
       ]
      },
      {
       "output_type": "stream",
       "stream": "stdout",
       "text": [
        " 1.46889239036e+12\n",
        "0.5"
       ]
      },
      {
       "output_type": "stream",
       "stream": "stdout",
       "text": [
        " 1.63009692427e+12\n",
        "0.5"
       ]
      },
      {
       "output_type": "stream",
       "stream": "stdout",
       "text": [
        " 1.80899295276e+12\n",
        "0.5"
       ]
      },
      {
       "output_type": "stream",
       "stream": "stdout",
       "text": [
        " 2.0075220402e+12\n",
        "0.5"
       ]
      },
      {
       "output_type": "stream",
       "stream": "stdout",
       "text": [
        " 2.22783882918e+12\n",
        "0.5"
       ]
      },
      {
       "output_type": "stream",
       "stream": "stdout",
       "text": [
        " 2.47233442495e+12\n",
        "0.5"
       ]
      },
      {
       "output_type": "stream",
       "stream": "stdout",
       "text": [
        " 2.74366234609e+12\n",
        "0.5"
       ]
      },
      {
       "output_type": "stream",
       "stream": "stdout",
       "text": [
        " 3.04476732329e+12\n",
        "0.5"
       ]
      },
      {
       "output_type": "stream",
       "stream": "stdout",
       "text": [
        " 3.37891725861e+12\n",
        "0.5"
       ]
      },
      {
       "output_type": "stream",
       "stream": "stdout",
       "text": [
        " 3.74973869208e+12\n",
        "0.5"
       ]
      },
      {
       "output_type": "stream",
       "stream": "stdout",
       "text": [
        " 4.1612561607e+12\n",
        "0.5"
       ]
      },
      {
       "output_type": "stream",
       "stream": "stdout",
       "text": [
        " 4.61793587685e+12\n",
        "0.5"
       ]
      },
      {
       "output_type": "stream",
       "stream": "stdout",
       "text": [
        " 5.12473420023e+12\n",
        "0.5"
       ]
      },
      {
       "output_type": "stream",
       "stream": "stdout",
       "text": [
        " 5.68715142943e+12\n",
        "0.5"
       ]
      },
      {
       "output_type": "stream",
       "stream": "stdout",
       "text": [
        " 6.3112914968e+12\n",
        "0.5"
       ]
      },
      {
       "output_type": "stream",
       "stream": "stdout",
       "text": [
        " 7.00392821465e+12\n",
        "0.5"
       ]
      },
      {
       "output_type": "stream",
       "stream": "stdout",
       "text": [
        " 7.77257879166e+12\n",
        "0.5"
       ]
      },
      {
       "output_type": "stream",
       "stream": "stdout",
       "text": [
        " 8.62558541736e+12\n",
        "0.5"
       ]
      },
      {
       "output_type": "stream",
       "stream": "stdout",
       "text": [
        " 9.57220580022e+12\n",
        "0.5"
       ]
      },
      {
       "output_type": "stream",
       "stream": "stdout",
       "text": [
        " 1.06227136418e+13\n",
        "0.5"
       ]
      },
      {
       "output_type": "stream",
       "stream": "stdout",
       "text": [
        " 1.17885101377e+13\n",
        "0.5"
       ]
      },
      {
       "output_type": "stream",
       "stream": "stdout",
       "text": [
        " 1.30822477149e+13\n",
        "0.5"
       ]
      },
      {
       "output_type": "stream",
       "stream": "stdout",
       "text": [
        " 1.45179673492e+13\n",
        "0.5"
       ]
      },
      {
       "output_type": "stream",
       "stream": "stdout",
       "text": [
        " 1.6111250952e+13\n",
        "0.5"
       ]
      },
      {
       "output_type": "stream",
       "stream": "stdout",
       "text": [
        " 1.78793904819e+13\n",
        "0.5"
       ]
      },
      {
       "output_type": "stream",
       "stream": "stdout",
       "text": [
        " 1.98415756141e+13\n",
        "0.5"
       ]
      },
      {
       "output_type": "stream",
       "stream": "stdout",
       "text": [
        " 2.20191020075e+13\n",
        "0.5"
       ]
      },
      {
       "output_type": "stream",
       "stream": "stdout",
       "text": [
        " 2.44356024262e+13\n",
        "0.5"
       ]
      },
      {
       "output_type": "stream",
       "stream": "stdout",
       "text": [
        " 2.71173032273e+13\n",
        "0.5"
       ]
      },
      {
       "output_type": "stream",
       "stream": "stdout",
       "text": [
        " 3.00933089963e+13\n",
        "0.5"
       ]
      },
      {
       "output_type": "stream",
       "stream": "stdout",
       "text": [
        " 3.33959184199e+13\n",
        "0.5"
       ]
      },
      {
       "output_type": "stream",
       "stream": "stdout",
       "text": [
        " 3.70609748249e+13\n",
        "0.5"
       ]
      },
      {
       "output_type": "stream",
       "stream": "stdout",
       "text": [
        " 4.11282551868e+13\n",
        "0.5"
       ]
      },
      {
       "output_type": "stream",
       "stream": "stdout",
       "text": [
        " 4.56419018307e+13\n",
        "0.5"
       ]
      },
      {
       "output_type": "stream",
       "stream": "stdout",
       "text": [
        " 5.06509015095e+13\n",
        "0.5"
       ]
      },
      {
       "output_type": "stream",
       "stream": "stdout",
       "text": [
        " 5.62096170586e+13\n",
        "0.5"
       ]
      },
      {
       "output_type": "stream",
       "stream": "stdout",
       "text": [
        " 6.23783773972e+13\n",
        "0.5"
       ]
      },
      {
       "output_type": "stream",
       "stream": "stdout",
       "text": [
        " 6.92241322807e+13\n",
        "0.5"
       ]
      },
      {
       "output_type": "stream",
       "stream": "stdout",
       "text": [
        " 7.68211789079e+13\n",
        "0.5"
       ]
      },
      {
       "output_type": "stream",
       "stream": "stdout",
       "text": [
        " 8.52519682712e+13\n",
        "0.5"
       ]
      },
      {
       "output_type": "stream",
       "stream": "stdout",
       "text": [
        " 9.4608e+13\n",
        "1.16345908439"
       ]
      },
      {
       "output_type": "stream",
       "stream": "stdout",
       "text": [
        " 3153600000.0\n",
        "1.16345908439"
       ]
      },
      {
       "output_type": "stream",
       "stream": "stdout",
       "text": [
        " 3499693846.96\n",
        "1.16345908439"
       ]
      },
      {
       "output_type": "stream",
       "stream": "stdout",
       "text": [
        " 3883769984.29\n",
        "1.16345908439"
       ]
      },
      {
       "output_type": "stream",
       "stream": "stdout",
       "text": [
        " 4309996802.71\n",
        "1.16345908439"
       ]
      },
      {
       "output_type": "stream",
       "stream": "stdout",
       "text": [
        " 4783000155.65\n",
        "1.16345908439"
       ]
      },
      {
       "output_type": "stream",
       "stream": "stdout",
       "text": [
        " 5307913563.78\n",
        "1.16345908439"
       ]
      },
      {
       "output_type": "stream",
       "stream": "stdout",
       "text": [
        " 5890433929.27\n",
        "1.16345908439"
       ]
      },
      {
       "output_type": "stream",
       "stream": "stdout",
       "text": [
        " 6536883364.47\n",
        "1.16345908439"
       ]
      },
      {
       "output_type": "stream",
       "stream": "stdout",
       "text": [
        " 7254277805.98\n",
        "1.16345908439"
       ]
      },
      {
       "output_type": "stream",
       "stream": "stdout",
       "text": [
        " 8050403158.84\n",
        "1.16345908439"
       ]
      },
      {
       "output_type": "stream",
       "stream": "stdout",
       "text": [
        " 8933899797.23\n",
        "1.16345908439"
       ]
      },
      {
       "output_type": "stream",
       "stream": "stdout",
       "text": [
        " 9914356338.7\n",
        "1.16345908439"
       ]
      },
      {
       "output_type": "stream",
       "stream": "stdout",
       "text": [
        " 11002413709.8\n",
        "1.16345908439"
       ]
      },
      {
       "output_type": "stream",
       "stream": "stdout",
       "text": [
        " 12209880632.2\n",
        "1.16345908439"
       ]
      },
      {
       "output_type": "stream",
       "stream": "stdout",
       "text": [
        " 13549861783.6\n",
        "1.16345908439"
       ]
      },
      {
       "output_type": "stream",
       "stream": "stdout",
       "text": [
        " 15036900022.6\n",
        "1.16345908439"
       ]
      },
      {
       "output_type": "stream",
       "stream": "stdout",
       "text": [
        " 16687134223.2\n",
        "1.16345908439"
       ]
      },
      {
       "output_type": "stream",
       "stream": "stdout",
       "text": [
        " 18518474430.6\n",
        "1.16345908439"
       ]
      },
      {
       "output_type": "stream",
       "stream": "stdout",
       "text": [
        " 20550796239.2\n",
        "1.16345908439"
       ]
      },
      {
       "output_type": "stream",
       "stream": "stdout",
       "text": [
        " 22806156503.2\n",
        "1.16345908439"
       ]
      },
      {
       "output_type": "stream",
       "stream": "stdout",
       "text": [
        " 25309032720.4\n",
        "1.16345908439"
       ]
      },
      {
       "output_type": "stream",
       "stream": "stdout",
       "text": [
        " 28086588687.2\n",
        "1.16345908439"
       ]
      },
      {
       "output_type": "stream",
       "stream": "stdout",
       "text": [
        " 31168969308.3\n",
        "1.16345908439"
       ]
      },
      {
       "output_type": "stream",
       "stream": "stdout",
       "text": [
        " 34589627760.2\n",
        "1.16345908439"
       ]
      },
      {
       "output_type": "stream",
       "stream": "stdout",
       "text": [
        " 38385688559.4\n",
        "1.16345908439"
       ]
      },
      {
       "output_type": "stream",
       "stream": "stdout",
       "text": [
        " 42598350476.5\n",
        "1.16345908439"
       ]
      },
      {
       "output_type": "stream",
       "stream": "stdout",
       "text": [
        " 47273333667.3\n",
        "1.16345908439"
       ]
      },
      {
       "output_type": "stream",
       "stream": "stdout",
       "text": [
        " 52461375875.4\n",
        "1.16345908439"
       ]
      },
      {
       "output_type": "stream",
       "stream": "stdout",
       "text": [
        " 58218783090.5\n",
        "1.16345908439"
       ]
      },
      {
       "output_type": "stream",
       "stream": "stdout",
       "text": [
        " 64608040639.1\n",
        "1.16345908439"
       ]
      },
      {
       "output_type": "stream",
       "stream": "stdout",
       "text": [
        " 71698491339.7\n",
        "1.16345908439"
       ]
      },
      {
       "output_type": "stream",
       "stream": "stdout",
       "text": [
        " 79567088082.7\n",
        "1.16345908439"
       ]
      },
      {
       "output_type": "stream",
       "stream": "stdout",
       "text": [
        " 88299229003.0\n",
        "1.16345908439"
       ]
      },
      {
       "output_type": "stream",
       "stream": "stdout",
       "text": [
        " 97989684307.8\n",
        "1.16345908439"
       ]
      },
      {
       "output_type": "stream",
       "stream": "stdout",
       "text": [
        " 108743624822.0\n",
        "1.16345908439"
       ]
      },
      {
       "output_type": "stream",
       "stream": "stdout",
       "text": [
        " 120677763408.0\n",
        "1.16345908439"
       ]
      },
      {
       "output_type": "stream",
       "stream": "stdout",
       "text": [
        " 133921621659.0\n",
        "1.16345908439"
       ]
      },
      {
       "output_type": "stream",
       "stream": "stdout",
       "text": [
        " 148618935596.0\n",
        "1.16345908439"
       ]
      },
      {
       "output_type": "stream",
       "stream": "stdout",
       "text": [
        " 164929215642.0\n",
        "1.16345908439"
       ]
      },
      {
       "output_type": "stream",
       "stream": "stdout",
       "text": [
        " 183029477792.0\n",
        "1.16345908439"
       ]
      },
      {
       "output_type": "stream",
       "stream": "stdout",
       "text": [
        " 203116164777.0\n",
        "1.16345908439"
       ]
      },
      {
       "output_type": "stream",
       "stream": "stdout",
       "text": [
        " 225407278060.0\n",
        "1.16345908439"
       ]
      },
      {
       "output_type": "stream",
       "stream": "stdout",
       "text": [
        " 250144743812.0\n",
        "1.16345908439"
       ]
      },
      {
       "output_type": "stream",
       "stream": "stdout",
       "text": [
        " 277597038549.0\n",
        "1.16345908439"
       ]
      },
      {
       "output_type": "stream",
       "stream": "stdout",
       "text": [
        " 308062102912.0\n",
        "1.16345908439"
       ]
      },
      {
       "output_type": "stream",
       "stream": "stdout",
       "text": [
        " 341870575229.0\n",
        "1.16345908439"
       ]
      },
      {
       "output_type": "stream",
       "stream": "stdout",
       "text": [
        " 379389379943.0\n",
        "1.16345908439"
       ]
      },
      {
       "output_type": "stream",
       "stream": "stdout",
       "text": [
        " 421025709851.0\n",
        "1.16345908439"
       ]
      },
      {
       "output_type": "stream",
       "stream": "stdout",
       "text": [
        " 467231445389.0\n",
        "1.16345908439"
       ]
      },
      {
       "output_type": "stream",
       "stream": "stdout",
       "text": [
        " 518508058896.0\n",
        "1.16345908439"
       ]
      },
      {
       "output_type": "stream",
       "stream": "stdout",
       "text": [
        " 575412057115.0\n",
        "1.16345908439"
       ]
      },
      {
       "output_type": "stream",
       "stream": "stdout",
       "text": [
        " 638561020977.0\n",
        "1.16345908439"
       ]
      },
      {
       "output_type": "stream",
       "stream": "stdout",
       "text": [
        " 708640308226.0\n",
        "1.16345908439"
       ]
      },
      {
       "output_type": "stream",
       "stream": "stdout",
       "text": [
        " 786410491630.0\n",
        "1.16345908439"
       ]
      },
      {
       "output_type": "stream",
       "stream": "stdout",
       "text": [
        " 872715613503.0\n",
        "1.16345908439"
       ]
      },
      {
       "output_type": "stream",
       "stream": "stdout",
       "text": [
        " 968492346119.0\n",
        "1.16345908439"
       ]
      },
      {
       "output_type": "stream",
       "stream": "stdout",
       "text": [
        " 1.07478015745e+12\n",
        "1.16345908439"
       ]
      },
      {
       "output_type": "stream",
       "stream": "stdout",
       "text": [
        " 1.19273259255e+12\n",
        "1.16345908439"
       ]
      },
      {
       "output_type": "stream",
       "stream": "stdout",
       "text": [
        " 1.32362979301e+12\n",
        "1.16345908439"
       ]
      },
      {
       "output_type": "stream",
       "stream": "stdout",
       "text": [
        " 1.46889239036e+12\n",
        "1.16345908439"
       ]
      },
      {
       "output_type": "stream",
       "stream": "stdout",
       "text": [
        " 1.63009692427e+12\n",
        "1.16345908439"
       ]
      },
      {
       "output_type": "stream",
       "stream": "stdout",
       "text": [
        " 1.80899295276e+12\n",
        "1.16345908439"
       ]
      },
      {
       "output_type": "stream",
       "stream": "stdout",
       "text": [
        " 2.0075220402e+12\n",
        "1.16345908439"
       ]
      },
      {
       "output_type": "stream",
       "stream": "stdout",
       "text": [
        " 2.22783882918e+12\n",
        "1.16345908439"
       ]
      },
      {
       "output_type": "stream",
       "stream": "stdout",
       "text": [
        " 2.47233442495e+12\n",
        "1.16345908439"
       ]
      },
      {
       "output_type": "stream",
       "stream": "stdout",
       "text": [
        " 2.74366234609e+12\n",
        "1.16345908439"
       ]
      },
      {
       "output_type": "stream",
       "stream": "stdout",
       "text": [
        " 3.04476732329e+12\n",
        "1.16345908439"
       ]
      },
      {
       "output_type": "stream",
       "stream": "stdout",
       "text": [
        " 3.37891725861e+12\n",
        "1.16345908439"
       ]
      },
      {
       "output_type": "stream",
       "stream": "stdout",
       "text": [
        " 3.74973869208e+12\n",
        "1.16345908439"
       ]
      },
      {
       "output_type": "stream",
       "stream": "stdout",
       "text": [
        " 4.1612561607e+12\n",
        "1.16345908439"
       ]
      },
      {
       "output_type": "stream",
       "stream": "stdout",
       "text": [
        " 4.61793587685e+12\n",
        "1.16345908439"
       ]
      },
      {
       "output_type": "stream",
       "stream": "stdout",
       "text": [
        " 5.12473420023e+12\n",
        "1.16345908439"
       ]
      },
      {
       "output_type": "stream",
       "stream": "stdout",
       "text": [
        " 5.68715142943e+12\n",
        "1.16345908439"
       ]
      },
      {
       "output_type": "stream",
       "stream": "stdout",
       "text": [
        " 6.3112914968e+12\n",
        "1.16345908439"
       ]
      },
      {
       "output_type": "stream",
       "stream": "stdout",
       "text": [
        " 7.00392821465e+12\n",
        "1.16345908439"
       ]
      },
      {
       "output_type": "stream",
       "stream": "stdout",
       "text": [
        " 7.77257879166e+12\n",
        "1.16345908439"
       ]
      },
      {
       "output_type": "stream",
       "stream": "stdout",
       "text": [
        " 8.62558541736e+12\n",
        "1.16345908439"
       ]
      },
      {
       "output_type": "stream",
       "stream": "stdout",
       "text": [
        " 9.57220580022e+12\n",
        "1.16345908439"
       ]
      },
      {
       "output_type": "stream",
       "stream": "stdout",
       "text": [
        " 1.06227136418e+13\n",
        "1.16345908439"
       ]
      },
      {
       "output_type": "stream",
       "stream": "stdout",
       "text": [
        " 1.17885101377e+13\n",
        "1.16345908439"
       ]
      },
      {
       "output_type": "stream",
       "stream": "stdout",
       "text": [
        " 1.30822477149e+13\n",
        "1.16345908439"
       ]
      },
      {
       "output_type": "stream",
       "stream": "stdout",
       "text": [
        " 1.45179673492e+13\n",
        "1.16345908439"
       ]
      },
      {
       "output_type": "stream",
       "stream": "stdout",
       "text": [
        " 1.6111250952e+13\n",
        "1.16345908439"
       ]
      },
      {
       "output_type": "stream",
       "stream": "stdout",
       "text": [
        " 1.78793904819e+13\n",
        "1.16345908439"
       ]
      },
      {
       "output_type": "stream",
       "stream": "stdout",
       "text": [
        " 1.98415756141e+13\n",
        "1.16345908439"
       ]
      },
      {
       "output_type": "stream",
       "stream": "stdout",
       "text": [
        " 2.20191020075e+13\n",
        "1.16345908439"
       ]
      },
      {
       "output_type": "stream",
       "stream": "stdout",
       "text": [
        " 2.44356024262e+13\n",
        "1.16345908439"
       ]
      },
      {
       "output_type": "stream",
       "stream": "stdout",
       "text": [
        " 2.71173032273e+13\n",
        "1.16345908439"
       ]
      },
      {
       "output_type": "stream",
       "stream": "stdout",
       "text": [
        " 3.00933089963e+13\n",
        "1.16345908439"
       ]
      },
      {
       "output_type": "stream",
       "stream": "stdout",
       "text": [
        " 3.33959184199e+13\n",
        "1.16345908439"
       ]
      },
      {
       "output_type": "stream",
       "stream": "stdout",
       "text": [
        " 3.70609748249e+13\n",
        "1.16345908439"
       ]
      },
      {
       "output_type": "stream",
       "stream": "stdout",
       "text": [
        " 4.11282551868e+13\n",
        "1.16345908439"
       ]
      },
      {
       "output_type": "stream",
       "stream": "stdout",
       "text": [
        " 4.56419018307e+13\n",
        "1.16345908439"
       ]
      },
      {
       "output_type": "stream",
       "stream": "stdout",
       "text": [
        " 5.06509015095e+13\n",
        "1.16345908439"
       ]
      },
      {
       "output_type": "stream",
       "stream": "stdout",
       "text": [
        " 5.62096170586e+13\n",
        "1.16345908439"
       ]
      },
      {
       "output_type": "stream",
       "stream": "stdout",
       "text": [
        " 6.23783773972e+13\n",
        "1.16345908439"
       ]
      },
      {
       "output_type": "stream",
       "stream": "stdout",
       "text": [
        " 6.92241322807e+13\n",
        "1.16345908439"
       ]
      },
      {
       "output_type": "stream",
       "stream": "stdout",
       "text": [
        " 7.68211789079e+13\n",
        "1.16345908439"
       ]
      },
      {
       "output_type": "stream",
       "stream": "stdout",
       "text": [
        " 8.52519682712e+13\n",
        "1.16345908439"
       ]
      },
      {
       "output_type": "stream",
       "stream": "stdout",
       "text": [
        " 9.4608e+13\n",
        "2.70727408209"
       ]
      },
      {
       "output_type": "stream",
       "stream": "stdout",
       "text": [
        " 3153600000.0\n",
        "2.70727408209"
       ]
      },
      {
       "output_type": "stream",
       "stream": "stdout",
       "text": [
        " 3499693846.96\n",
        "2.70727408209"
       ]
      },
      {
       "output_type": "stream",
       "stream": "stdout",
       "text": [
        " 3883769984.29\n",
        "2.70727408209"
       ]
      },
      {
       "output_type": "stream",
       "stream": "stdout",
       "text": [
        " 4309996802.71\n",
        "2.70727408209"
       ]
      },
      {
       "output_type": "stream",
       "stream": "stdout",
       "text": [
        " 4783000155.65\n",
        "2.70727408209"
       ]
      },
      {
       "output_type": "stream",
       "stream": "stdout",
       "text": [
        " 5307913563.78\n",
        "2.70727408209"
       ]
      },
      {
       "output_type": "stream",
       "stream": "stdout",
       "text": [
        " 5890433929.27\n",
        "2.70727408209"
       ]
      },
      {
       "output_type": "stream",
       "stream": "stdout",
       "text": [
        " 6536883364.47\n",
        "2.70727408209"
       ]
      },
      {
       "output_type": "stream",
       "stream": "stdout",
       "text": [
        " 7254277805.98\n",
        "2.70727408209"
       ]
      },
      {
       "output_type": "stream",
       "stream": "stdout",
       "text": [
        " 8050403158.84\n",
        "2.70727408209"
       ]
      },
      {
       "output_type": "stream",
       "stream": "stdout",
       "text": [
        " 8933899797.23\n",
        "2.70727408209"
       ]
      },
      {
       "output_type": "stream",
       "stream": "stdout",
       "text": [
        " 9914356338.7\n",
        "2.70727408209"
       ]
      },
      {
       "output_type": "stream",
       "stream": "stdout",
       "text": [
        " 11002413709.8\n",
        "2.70727408209"
       ]
      },
      {
       "output_type": "stream",
       "stream": "stdout",
       "text": [
        " 12209880632.2\n",
        "2.70727408209"
       ]
      },
      {
       "output_type": "stream",
       "stream": "stdout",
       "text": [
        " 13549861783.6\n",
        "2.70727408209"
       ]
      },
      {
       "output_type": "stream",
       "stream": "stdout",
       "text": [
        " 15036900022.6\n",
        "2.70727408209"
       ]
      },
      {
       "output_type": "stream",
       "stream": "stdout",
       "text": [
        " 16687134223.2\n",
        "2.70727408209"
       ]
      },
      {
       "output_type": "stream",
       "stream": "stdout",
       "text": [
        " 18518474430.6\n",
        "2.70727408209"
       ]
      },
      {
       "output_type": "stream",
       "stream": "stdout",
       "text": [
        " 20550796239.2\n",
        "2.70727408209"
       ]
      },
      {
       "output_type": "stream",
       "stream": "stdout",
       "text": [
        " 22806156503.2\n",
        "2.70727408209"
       ]
      },
      {
       "output_type": "stream",
       "stream": "stdout",
       "text": [
        " 25309032720.4\n",
        "2.70727408209"
       ]
      },
      {
       "output_type": "stream",
       "stream": "stdout",
       "text": [
        " 28086588687.2\n",
        "2.70727408209"
       ]
      },
      {
       "output_type": "stream",
       "stream": "stdout",
       "text": [
        " 31168969308.3\n",
        "2.70727408209"
       ]
      },
      {
       "output_type": "stream",
       "stream": "stdout",
       "text": [
        " 34589627760.2\n",
        "2.70727408209"
       ]
      },
      {
       "output_type": "stream",
       "stream": "stdout",
       "text": [
        " 38385688559.4\n",
        "2.70727408209"
       ]
      },
      {
       "output_type": "stream",
       "stream": "stdout",
       "text": [
        " 42598350476.5\n",
        "2.70727408209"
       ]
      },
      {
       "output_type": "stream",
       "stream": "stdout",
       "text": [
        " 47273333667.3\n",
        "2.70727408209"
       ]
      },
      {
       "output_type": "stream",
       "stream": "stdout",
       "text": [
        " 52461375875.4\n",
        "2.70727408209"
       ]
      },
      {
       "output_type": "stream",
       "stream": "stdout",
       "text": [
        " 58218783090.5\n",
        "2.70727408209"
       ]
      },
      {
       "output_type": "stream",
       "stream": "stdout",
       "text": [
        " 64608040639.1\n",
        "2.70727408209"
       ]
      },
      {
       "output_type": "stream",
       "stream": "stdout",
       "text": [
        " 71698491339.7\n",
        "2.70727408209"
       ]
      },
      {
       "output_type": "stream",
       "stream": "stdout",
       "text": [
        " 79567088082.7\n",
        "2.70727408209"
       ]
      },
      {
       "output_type": "stream",
       "stream": "stdout",
       "text": [
        " 88299229003.0\n",
        "2.70727408209"
       ]
      },
      {
       "output_type": "stream",
       "stream": "stdout",
       "text": [
        " 97989684307.8\n",
        "2.70727408209"
       ]
      },
      {
       "output_type": "stream",
       "stream": "stdout",
       "text": [
        " 108743624822.0\n",
        "2.70727408209"
       ]
      },
      {
       "output_type": "stream",
       "stream": "stdout",
       "text": [
        " 120677763408.0\n",
        "2.70727408209"
       ]
      },
      {
       "output_type": "stream",
       "stream": "stdout",
       "text": [
        " 133921621659.0\n",
        "2.70727408209"
       ]
      },
      {
       "output_type": "stream",
       "stream": "stdout",
       "text": [
        " 148618935596.0\n",
        "2.70727408209"
       ]
      },
      {
       "output_type": "stream",
       "stream": "stdout",
       "text": [
        " 164929215642.0\n",
        "2.70727408209"
       ]
      },
      {
       "output_type": "stream",
       "stream": "stdout",
       "text": [
        " 183029477792.0\n",
        "2.70727408209"
       ]
      },
      {
       "output_type": "stream",
       "stream": "stdout",
       "text": [
        " 203116164777.0\n",
        "2.70727408209"
       ]
      },
      {
       "output_type": "stream",
       "stream": "stdout",
       "text": [
        " 225407278060.0\n",
        "2.70727408209"
       ]
      },
      {
       "output_type": "stream",
       "stream": "stdout",
       "text": [
        " 250144743812.0\n",
        "2.70727408209"
       ]
      },
      {
       "output_type": "stream",
       "stream": "stdout",
       "text": [
        " 277597038549.0\n",
        "2.70727408209"
       ]
      },
      {
       "output_type": "stream",
       "stream": "stdout",
       "text": [
        " 308062102912.0\n",
        "2.70727408209"
       ]
      },
      {
       "output_type": "stream",
       "stream": "stdout",
       "text": [
        " 341870575229.0\n",
        "2.70727408209"
       ]
      },
      {
       "output_type": "stream",
       "stream": "stdout",
       "text": [
        " 379389379943.0\n",
        "2.70727408209"
       ]
      },
      {
       "output_type": "stream",
       "stream": "stdout",
       "text": [
        " 421025709851.0\n",
        "2.70727408209"
       ]
      },
      {
       "output_type": "stream",
       "stream": "stdout",
       "text": [
        " 467231445389.0\n",
        "2.70727408209"
       ]
      },
      {
       "output_type": "stream",
       "stream": "stdout",
       "text": [
        " 518508058896.0\n",
        "2.70727408209"
       ]
      },
      {
       "output_type": "stream",
       "stream": "stdout",
       "text": [
        " 575412057115.0\n",
        "2.70727408209"
       ]
      },
      {
       "output_type": "stream",
       "stream": "stdout",
       "text": [
        " 638561020977.0\n",
        "2.70727408209"
       ]
      },
      {
       "output_type": "stream",
       "stream": "stdout",
       "text": [
        " 708640308226.0\n",
        "2.70727408209"
       ]
      },
      {
       "output_type": "stream",
       "stream": "stdout",
       "text": [
        " 786410491630.0\n",
        "2.70727408209"
       ]
      },
      {
       "output_type": "stream",
       "stream": "stdout",
       "text": [
        " 872715613503.0\n",
        "2.70727408209"
       ]
      },
      {
       "output_type": "stream",
       "stream": "stdout",
       "text": [
        " 968492346119.0\n",
        "2.70727408209"
       ]
      },
      {
       "output_type": "stream",
       "stream": "stdout",
       "text": [
        " 1.07478015745e+12\n",
        "2.70727408209"
       ]
      },
      {
       "output_type": "stream",
       "stream": "stdout",
       "text": [
        " 1.19273259255e+12\n",
        "2.70727408209"
       ]
      },
      {
       "output_type": "stream",
       "stream": "stdout",
       "text": [
        " 1.32362979301e+12\n",
        "2.70727408209"
       ]
      },
      {
       "output_type": "stream",
       "stream": "stdout",
       "text": [
        " 1.46889239036e+12\n",
        "2.70727408209"
       ]
      },
      {
       "output_type": "stream",
       "stream": "stdout",
       "text": [
        " 1.63009692427e+12\n",
        "2.70727408209"
       ]
      },
      {
       "output_type": "stream",
       "stream": "stdout",
       "text": [
        " 1.80899295276e+12\n",
        "2.70727408209"
       ]
      },
      {
       "output_type": "stream",
       "stream": "stdout",
       "text": [
        " 2.0075220402e+12\n",
        "2.70727408209"
       ]
      },
      {
       "output_type": "stream",
       "stream": "stdout",
       "text": [
        " 2.22783882918e+12\n",
        "2.70727408209"
       ]
      },
      {
       "output_type": "stream",
       "stream": "stdout",
       "text": [
        " 2.47233442495e+12\n",
        "2.70727408209"
       ]
      },
      {
       "output_type": "stream",
       "stream": "stdout",
       "text": [
        " 2.74366234609e+12\n",
        "2.70727408209"
       ]
      },
      {
       "output_type": "stream",
       "stream": "stdout",
       "text": [
        " 3.04476732329e+12\n",
        "2.70727408209"
       ]
      },
      {
       "output_type": "stream",
       "stream": "stdout",
       "text": [
        " 3.37891725861e+12\n",
        "2.70727408209"
       ]
      },
      {
       "output_type": "stream",
       "stream": "stdout",
       "text": [
        " 3.74973869208e+12\n",
        "2.70727408209"
       ]
      },
      {
       "output_type": "stream",
       "stream": "stdout",
       "text": [
        " 4.1612561607e+12\n",
        "2.70727408209"
       ]
      },
      {
       "output_type": "stream",
       "stream": "stdout",
       "text": [
        " 4.61793587685e+12\n",
        "2.70727408209"
       ]
      },
      {
       "output_type": "stream",
       "stream": "stdout",
       "text": [
        " 5.12473420023e+12\n",
        "2.70727408209"
       ]
      },
      {
       "output_type": "stream",
       "stream": "stdout",
       "text": [
        " 5.68715142943e+12\n",
        "2.70727408209"
       ]
      },
      {
       "output_type": "stream",
       "stream": "stdout",
       "text": [
        " 6.3112914968e+12\n",
        "2.70727408209"
       ]
      },
      {
       "output_type": "stream",
       "stream": "stdout",
       "text": [
        " 7.00392821465e+12\n",
        "2.70727408209"
       ]
      },
      {
       "output_type": "stream",
       "stream": "stdout",
       "text": [
        " 7.77257879166e+12\n",
        "2.70727408209"
       ]
      },
      {
       "output_type": "stream",
       "stream": "stdout",
       "text": [
        " 8.62558541736e+12\n",
        "2.70727408209"
       ]
      },
      {
       "output_type": "stream",
       "stream": "stdout",
       "text": [
        " 9.57220580022e+12\n",
        "2.70727408209"
       ]
      },
      {
       "output_type": "stream",
       "stream": "stdout",
       "text": [
        " 1.06227136418e+13\n",
        "2.70727408209"
       ]
      },
      {
       "output_type": "stream",
       "stream": "stdout",
       "text": [
        " 1.17885101377e+13\n",
        "2.70727408209"
       ]
      },
      {
       "output_type": "stream",
       "stream": "stdout",
       "text": [
        " 1.30822477149e+13\n",
        "2.70727408209"
       ]
      },
      {
       "output_type": "stream",
       "stream": "stdout",
       "text": [
        " 1.45179673492e+13\n",
        "2.70727408209"
       ]
      },
      {
       "output_type": "stream",
       "stream": "stdout",
       "text": [
        " 1.6111250952e+13\n",
        "2.70727408209"
       ]
      },
      {
       "output_type": "stream",
       "stream": "stdout",
       "text": [
        " 1.78793904819e+13\n",
        "2.70727408209"
       ]
      },
      {
       "output_type": "stream",
       "stream": "stdout",
       "text": [
        " 1.98415756141e+13\n",
        "2.70727408209"
       ]
      },
      {
       "output_type": "stream",
       "stream": "stdout",
       "text": [
        " 2.20191020075e+13\n",
        "2.70727408209"
       ]
      },
      {
       "output_type": "stream",
       "stream": "stdout",
       "text": [
        " 2.44356024262e+13\n",
        "2.70727408209"
       ]
      },
      {
       "output_type": "stream",
       "stream": "stdout",
       "text": [
        " 2.71173032273e+13\n",
        "2.70727408209"
       ]
      },
      {
       "output_type": "stream",
       "stream": "stdout",
       "text": [
        " 3.00933089963e+13\n",
        "2.70727408209"
       ]
      },
      {
       "output_type": "stream",
       "stream": "stdout",
       "text": [
        " 3.33959184199e+13\n",
        "2.70727408209"
       ]
      },
      {
       "output_type": "stream",
       "stream": "stdout",
       "text": [
        " 3.70609748249e+13\n",
        "2.70727408209"
       ]
      },
      {
       "output_type": "stream",
       "stream": "stdout",
       "text": [
        " 4.11282551868e+13\n",
        "2.70727408209"
       ]
      },
      {
       "output_type": "stream",
       "stream": "stdout",
       "text": [
        " 4.56419018307e+13\n",
        "2.70727408209"
       ]
      },
      {
       "output_type": "stream",
       "stream": "stdout",
       "text": [
        " 5.06509015095e+13\n",
        "2.70727408209"
       ]
      },
      {
       "output_type": "stream",
       "stream": "stdout",
       "text": [
        " 5.62096170586e+13\n",
        "2.70727408209"
       ]
      },
      {
       "output_type": "stream",
       "stream": "stdout",
       "text": [
        " 6.23783773972e+13\n",
        "2.70727408209"
       ]
      },
      {
       "output_type": "stream",
       "stream": "stdout",
       "text": [
        " 6.92241322807e+13\n",
        "2.70727408209"
       ]
      },
      {
       "output_type": "stream",
       "stream": "stdout",
       "text": [
        " 7.68211789079e+13\n",
        "2.70727408209"
       ]
      },
      {
       "output_type": "stream",
       "stream": "stdout",
       "text": [
        " 8.52519682712e+13\n",
        "2.70727408209"
       ]
      },
      {
       "output_type": "stream",
       "stream": "stdout",
       "text": [
        " 9.4608e+13\n",
        "6.29960524947"
       ]
      },
      {
       "output_type": "stream",
       "stream": "stdout",
       "text": [
        " 3153600000.0\n",
        "6.29960524947"
       ]
      },
      {
       "output_type": "stream",
       "stream": "stdout",
       "text": [
        " 3499693846.96\n",
        "6.29960524947"
       ]
      },
      {
       "output_type": "stream",
       "stream": "stdout",
       "text": [
        " 3883769984.29\n",
        "6.29960524947"
       ]
      },
      {
       "output_type": "stream",
       "stream": "stdout",
       "text": [
        " 4309996802.71\n",
        "6.29960524947"
       ]
      },
      {
       "output_type": "stream",
       "stream": "stdout",
       "text": [
        " 4783000155.65\n",
        "6.29960524947"
       ]
      },
      {
       "output_type": "stream",
       "stream": "stdout",
       "text": [
        " 5307913563.78\n",
        "6.29960524947"
       ]
      },
      {
       "output_type": "stream",
       "stream": "stdout",
       "text": [
        " 5890433929.27\n",
        "6.29960524947"
       ]
      },
      {
       "output_type": "stream",
       "stream": "stdout",
       "text": [
        " 6536883364.47\n",
        "6.29960524947"
       ]
      },
      {
       "output_type": "stream",
       "stream": "stdout",
       "text": [
        " 7254277805.98\n",
        "6.29960524947"
       ]
      },
      {
       "output_type": "stream",
       "stream": "stdout",
       "text": [
        " 8050403158.84\n",
        "6.29960524947"
       ]
      },
      {
       "output_type": "stream",
       "stream": "stdout",
       "text": [
        " 8933899797.23\n",
        "6.29960524947"
       ]
      },
      {
       "output_type": "stream",
       "stream": "stdout",
       "text": [
        " 9914356338.7\n",
        "6.29960524947"
       ]
      },
      {
       "output_type": "stream",
       "stream": "stdout",
       "text": [
        " 11002413709.8\n",
        "6.29960524947"
       ]
      },
      {
       "output_type": "stream",
       "stream": "stdout",
       "text": [
        " 12209880632.2\n",
        "6.29960524947"
       ]
      },
      {
       "output_type": "stream",
       "stream": "stdout",
       "text": [
        " 13549861783.6\n",
        "6.29960524947"
       ]
      },
      {
       "output_type": "stream",
       "stream": "stdout",
       "text": [
        " 15036900022.6\n",
        "6.29960524947"
       ]
      },
      {
       "output_type": "stream",
       "stream": "stdout",
       "text": [
        " 16687134223.2\n",
        "6.29960524947"
       ]
      },
      {
       "output_type": "stream",
       "stream": "stdout",
       "text": [
        " 18518474430.6\n",
        "6.29960524947"
       ]
      },
      {
       "output_type": "stream",
       "stream": "stdout",
       "text": [
        " 20550796239.2\n",
        "6.29960524947"
       ]
      },
      {
       "output_type": "stream",
       "stream": "stdout",
       "text": [
        " 22806156503.2\n",
        "6.29960524947"
       ]
      },
      {
       "output_type": "stream",
       "stream": "stdout",
       "text": [
        " 25309032720.4\n",
        "6.29960524947"
       ]
      },
      {
       "output_type": "stream",
       "stream": "stdout",
       "text": [
        " 28086588687.2\n",
        "6.29960524947"
       ]
      },
      {
       "output_type": "stream",
       "stream": "stdout",
       "text": [
        " 31168969308.3\n",
        "6.29960524947"
       ]
      },
      {
       "output_type": "stream",
       "stream": "stdout",
       "text": [
        " 34589627760.2\n",
        "6.29960524947"
       ]
      },
      {
       "output_type": "stream",
       "stream": "stdout",
       "text": [
        " 38385688559.4\n",
        "6.29960524947"
       ]
      },
      {
       "output_type": "stream",
       "stream": "stdout",
       "text": [
        " 42598350476.5\n",
        "6.29960524947"
       ]
      },
      {
       "output_type": "stream",
       "stream": "stdout",
       "text": [
        " 47273333667.3\n",
        "6.29960524947"
       ]
      },
      {
       "output_type": "stream",
       "stream": "stdout",
       "text": [
        " 52461375875.4\n",
        "6.29960524947"
       ]
      },
      {
       "output_type": "stream",
       "stream": "stdout",
       "text": [
        " 58218783090.5\n",
        "6.29960524947"
       ]
      },
      {
       "output_type": "stream",
       "stream": "stdout",
       "text": [
        " 64608040639.1\n",
        "6.29960524947"
       ]
      },
      {
       "output_type": "stream",
       "stream": "stdout",
       "text": [
        " 71698491339.7\n",
        "6.29960524947"
       ]
      },
      {
       "output_type": "stream",
       "stream": "stdout",
       "text": [
        " 79567088082.7\n",
        "6.29960524947"
       ]
      },
      {
       "output_type": "stream",
       "stream": "stdout",
       "text": [
        " 88299229003.0\n",
        "6.29960524947"
       ]
      },
      {
       "output_type": "stream",
       "stream": "stdout",
       "text": [
        " 97989684307.8\n",
        "6.29960524947"
       ]
      },
      {
       "output_type": "stream",
       "stream": "stdout",
       "text": [
        " 108743624822.0\n",
        "6.29960524947"
       ]
      },
      {
       "output_type": "stream",
       "stream": "stdout",
       "text": [
        " 120677763408.0\n",
        "6.29960524947"
       ]
      },
      {
       "output_type": "stream",
       "stream": "stdout",
       "text": [
        " 133921621659.0\n",
        "6.29960524947"
       ]
      },
      {
       "output_type": "stream",
       "stream": "stdout",
       "text": [
        " 148618935596.0\n",
        "6.29960524947"
       ]
      },
      {
       "output_type": "stream",
       "stream": "stdout",
       "text": [
        " 164929215642.0\n",
        "6.29960524947"
       ]
      },
      {
       "output_type": "stream",
       "stream": "stdout",
       "text": [
        " 183029477792.0\n",
        "6.29960524947"
       ]
      },
      {
       "output_type": "stream",
       "stream": "stdout",
       "text": [
        " 203116164777.0\n",
        "6.29960524947"
       ]
      },
      {
       "output_type": "stream",
       "stream": "stdout",
       "text": [
        " 225407278060.0\n",
        "6.29960524947"
       ]
      },
      {
       "output_type": "stream",
       "stream": "stdout",
       "text": [
        " 250144743812.0\n",
        "6.29960524947"
       ]
      },
      {
       "output_type": "stream",
       "stream": "stdout",
       "text": [
        " 277597038549.0\n",
        "6.29960524947"
       ]
      },
      {
       "output_type": "stream",
       "stream": "stdout",
       "text": [
        " 308062102912.0\n",
        "6.29960524947"
       ]
      },
      {
       "output_type": "stream",
       "stream": "stdout",
       "text": [
        " 341870575229.0\n",
        "6.29960524947"
       ]
      },
      {
       "output_type": "stream",
       "stream": "stdout",
       "text": [
        " 379389379943.0\n",
        "6.29960524947"
       ]
      },
      {
       "output_type": "stream",
       "stream": "stdout",
       "text": [
        " 421025709851.0\n",
        "6.29960524947"
       ]
      },
      {
       "output_type": "stream",
       "stream": "stdout",
       "text": [
        " 467231445389.0\n",
        "6.29960524947"
       ]
      },
      {
       "output_type": "stream",
       "stream": "stdout",
       "text": [
        " 518508058896.0\n",
        "6.29960524947"
       ]
      },
      {
       "output_type": "stream",
       "stream": "stdout",
       "text": [
        " 575412057115.0\n",
        "6.29960524947"
       ]
      },
      {
       "output_type": "stream",
       "stream": "stdout",
       "text": [
        " 638561020977.0\n",
        "6.29960524947"
       ]
      },
      {
       "output_type": "stream",
       "stream": "stdout",
       "text": [
        " 708640308226.0\n",
        "6.29960524947"
       ]
      },
      {
       "output_type": "stream",
       "stream": "stdout",
       "text": [
        " 786410491630.0\n",
        "6.29960524947"
       ]
      },
      {
       "output_type": "stream",
       "stream": "stdout",
       "text": [
        " 872715613503.0\n",
        "6.29960524947"
       ]
      },
      {
       "output_type": "stream",
       "stream": "stdout",
       "text": [
        " 968492346119.0\n",
        "6.29960524947"
       ]
      },
      {
       "output_type": "stream",
       "stream": "stdout",
       "text": [
        " 1.07478015745e+12\n",
        "6.29960524947"
       ]
      },
      {
       "output_type": "stream",
       "stream": "stdout",
       "text": [
        " 1.19273259255e+12\n",
        "6.29960524947"
       ]
      },
      {
       "output_type": "stream",
       "stream": "stdout",
       "text": [
        " 1.32362979301e+12\n",
        "6.29960524947"
       ]
      },
      {
       "output_type": "stream",
       "stream": "stdout",
       "text": [
        " 1.46889239036e+12\n",
        "6.29960524947"
       ]
      },
      {
       "output_type": "stream",
       "stream": "stdout",
       "text": [
        " 1.63009692427e+12\n",
        "6.29960524947"
       ]
      },
      {
       "output_type": "stream",
       "stream": "stdout",
       "text": [
        " 1.80899295276e+12\n",
        "6.29960524947"
       ]
      },
      {
       "output_type": "stream",
       "stream": "stdout",
       "text": [
        " 2.0075220402e+12\n",
        "6.29960524947"
       ]
      },
      {
       "output_type": "stream",
       "stream": "stdout",
       "text": [
        " 2.22783882918e+12\n",
        "6.29960524947"
       ]
      },
      {
       "output_type": "stream",
       "stream": "stdout",
       "text": [
        " 2.47233442495e+12\n",
        "6.29960524947"
       ]
      },
      {
       "output_type": "stream",
       "stream": "stdout",
       "text": [
        " 2.74366234609e+12\n",
        "6.29960524947"
       ]
      },
      {
       "output_type": "stream",
       "stream": "stdout",
       "text": [
        " 3.04476732329e+12\n",
        "6.29960524947"
       ]
      },
      {
       "output_type": "stream",
       "stream": "stdout",
       "text": [
        " 3.37891725861e+12\n",
        "6.29960524947"
       ]
      },
      {
       "output_type": "stream",
       "stream": "stdout",
       "text": [
        " 3.74973869208e+12\n",
        "6.29960524947"
       ]
      },
      {
       "output_type": "stream",
       "stream": "stdout",
       "text": [
        " 4.1612561607e+12\n",
        "6.29960524947"
       ]
      },
      {
       "output_type": "stream",
       "stream": "stdout",
       "text": [
        " 4.61793587685e+12\n",
        "6.29960524947"
       ]
      },
      {
       "output_type": "stream",
       "stream": "stdout",
       "text": [
        " 5.12473420023e+12\n",
        "6.29960524947"
       ]
      },
      {
       "output_type": "stream",
       "stream": "stdout",
       "text": [
        " 5.68715142943e+12\n",
        "6.29960524947"
       ]
      },
      {
       "output_type": "stream",
       "stream": "stdout",
       "text": [
        " 6.3112914968e+12\n",
        "6.29960524947"
       ]
      },
      {
       "output_type": "stream",
       "stream": "stdout",
       "text": [
        " 7.00392821465e+12\n",
        "6.29960524947"
       ]
      },
      {
       "output_type": "stream",
       "stream": "stdout",
       "text": [
        " 7.77257879166e+12\n",
        "6.29960524947"
       ]
      },
      {
       "output_type": "stream",
       "stream": "stdout",
       "text": [
        " 8.62558541736e+12\n",
        "6.29960524947"
       ]
      },
      {
       "output_type": "stream",
       "stream": "stdout",
       "text": [
        " 9.57220580022e+12\n",
        "6.29960524947"
       ]
      },
      {
       "output_type": "stream",
       "stream": "stdout",
       "text": [
        " 1.06227136418e+13\n",
        "6.29960524947"
       ]
      },
      {
       "output_type": "stream",
       "stream": "stdout",
       "text": [
        " 1.17885101377e+13\n",
        "6.29960524947"
       ]
      },
      {
       "output_type": "stream",
       "stream": "stdout",
       "text": [
        " 1.30822477149e+13\n",
        "6.29960524947"
       ]
      },
      {
       "output_type": "stream",
       "stream": "stdout",
       "text": [
        " 1.45179673492e+13\n",
        "6.29960524947"
       ]
      },
      {
       "output_type": "stream",
       "stream": "stdout",
       "text": [
        " 1.6111250952e+13\n",
        "6.29960524947"
       ]
      },
      {
       "output_type": "stream",
       "stream": "stdout",
       "text": [
        " 1.78793904819e+13\n",
        "6.29960524947"
       ]
      },
      {
       "output_type": "stream",
       "stream": "stdout",
       "text": [
        " 1.98415756141e+13\n",
        "6.29960524947"
       ]
      },
      {
       "output_type": "stream",
       "stream": "stdout",
       "text": [
        " 2.20191020075e+13\n",
        "6.29960524947"
       ]
      },
      {
       "output_type": "stream",
       "stream": "stdout",
       "text": [
        " 2.44356024262e+13\n",
        "6.29960524947"
       ]
      },
      {
       "output_type": "stream",
       "stream": "stdout",
       "text": [
        " 2.71173032273e+13\n",
        "6.29960524947"
       ]
      },
      {
       "output_type": "stream",
       "stream": "stdout",
       "text": [
        " 3.00933089963e+13\n",
        "6.29960524947"
       ]
      },
      {
       "output_type": "stream",
       "stream": "stdout",
       "text": [
        " 3.33959184199e+13\n",
        "6.29960524947"
       ]
      },
      {
       "output_type": "stream",
       "stream": "stdout",
       "text": [
        " 3.70609748249e+13\n",
        "6.29960524947"
       ]
      },
      {
       "output_type": "stream",
       "stream": "stdout",
       "text": [
        " 4.11282551868e+13\n",
        "6.29960524947"
       ]
      },
      {
       "output_type": "stream",
       "stream": "stdout",
       "text": [
        " 4.56419018307e+13\n",
        "6.29960524947"
       ]
      },
      {
       "output_type": "stream",
       "stream": "stdout",
       "text": [
        " 5.06509015095e+13\n",
        "6.29960524947"
       ]
      },
      {
       "output_type": "stream",
       "stream": "stdout",
       "text": [
        " 5.62096170586e+13\n",
        "6.29960524947"
       ]
      },
      {
       "output_type": "stream",
       "stream": "stdout",
       "text": [
        " 6.23783773972e+13\n",
        "6.29960524947"
       ]
      },
      {
       "output_type": "stream",
       "stream": "stdout",
       "text": [
        " 6.92241322807e+13\n",
        "6.29960524947"
       ]
      },
      {
       "output_type": "stream",
       "stream": "stdout",
       "text": [
        " 7.68211789079e+13\n",
        "6.29960524947"
       ]
      },
      {
       "output_type": "stream",
       "stream": "stdout",
       "text": [
        " 8.52519682712e+13\n",
        "6.29960524947"
       ]
      },
      {
       "output_type": "stream",
       "stream": "stdout",
       "text": [
        " 9.4608e+13\n",
        "14.6586659111"
       ]
      },
      {
       "output_type": "stream",
       "stream": "stdout",
       "text": [
        " 3153600000.0\n",
        "14.6586659111"
       ]
      },
      {
       "output_type": "stream",
       "stream": "stdout",
       "text": [
        " 3499693846.96\n",
        "14.6586659111"
       ]
      },
      {
       "output_type": "stream",
       "stream": "stdout",
       "text": [
        " 3883769984.29\n",
        "14.6586659111"
       ]
      },
      {
       "output_type": "stream",
       "stream": "stdout",
       "text": [
        " 4309996802.71\n",
        "14.6586659111"
       ]
      },
      {
       "output_type": "stream",
       "stream": "stdout",
       "text": [
        " 4783000155.65\n",
        "14.6586659111"
       ]
      },
      {
       "output_type": "stream",
       "stream": "stdout",
       "text": [
        " 5307913563.78\n",
        "14.6586659111"
       ]
      },
      {
       "output_type": "stream",
       "stream": "stdout",
       "text": [
        " 5890433929.27\n",
        "14.6586659111"
       ]
      },
      {
       "output_type": "stream",
       "stream": "stdout",
       "text": [
        " 6536883364.47\n",
        "14.6586659111"
       ]
      },
      {
       "output_type": "stream",
       "stream": "stdout",
       "text": [
        " 7254277805.98\n",
        "14.6586659111"
       ]
      },
      {
       "output_type": "stream",
       "stream": "stdout",
       "text": [
        " 8050403158.84\n",
        "14.6586659111"
       ]
      },
      {
       "output_type": "stream",
       "stream": "stdout",
       "text": [
        " 8933899797.23\n",
        "14.6586659111"
       ]
      },
      {
       "output_type": "stream",
       "stream": "stdout",
       "text": [
        " 9914356338.7\n",
        "14.6586659111"
       ]
      },
      {
       "output_type": "stream",
       "stream": "stdout",
       "text": [
        " 11002413709.8\n",
        "14.6586659111"
       ]
      },
      {
       "output_type": "stream",
       "stream": "stdout",
       "text": [
        " 12209880632.2\n",
        "14.6586659111"
       ]
      },
      {
       "output_type": "stream",
       "stream": "stdout",
       "text": [
        " 13549861783.6\n",
        "14.6586659111"
       ]
      },
      {
       "output_type": "stream",
       "stream": "stdout",
       "text": [
        " 15036900022.6\n",
        "14.6586659111"
       ]
      },
      {
       "output_type": "stream",
       "stream": "stdout",
       "text": [
        " 16687134223.2\n",
        "14.6586659111"
       ]
      },
      {
       "output_type": "stream",
       "stream": "stdout",
       "text": [
        " 18518474430.6\n",
        "14.6586659111"
       ]
      },
      {
       "output_type": "stream",
       "stream": "stdout",
       "text": [
        " 20550796239.2\n",
        "14.6586659111"
       ]
      },
      {
       "output_type": "stream",
       "stream": "stdout",
       "text": [
        " 22806156503.2\n",
        "14.6586659111"
       ]
      },
      {
       "output_type": "stream",
       "stream": "stdout",
       "text": [
        " 25309032720.4\n",
        "14.6586659111"
       ]
      },
      {
       "output_type": "stream",
       "stream": "stdout",
       "text": [
        " 28086588687.2\n",
        "14.6586659111"
       ]
      },
      {
       "output_type": "stream",
       "stream": "stdout",
       "text": [
        " 31168969308.3\n",
        "14.6586659111"
       ]
      },
      {
       "output_type": "stream",
       "stream": "stdout",
       "text": [
        " 34589627760.2\n",
        "14.6586659111"
       ]
      },
      {
       "output_type": "stream",
       "stream": "stdout",
       "text": [
        " 38385688559.4\n",
        "14.6586659111"
       ]
      },
      {
       "output_type": "stream",
       "stream": "stdout",
       "text": [
        " 42598350476.5\n",
        "14.6586659111"
       ]
      },
      {
       "output_type": "stream",
       "stream": "stdout",
       "text": [
        " 47273333667.3\n",
        "14.6586659111"
       ]
      },
      {
       "output_type": "stream",
       "stream": "stdout",
       "text": [
        " 52461375875.4\n",
        "14.6586659111"
       ]
      },
      {
       "output_type": "stream",
       "stream": "stdout",
       "text": [
        " 58218783090.5\n",
        "14.6586659111"
       ]
      },
      {
       "output_type": "stream",
       "stream": "stdout",
       "text": [
        " 64608040639.1\n",
        "14.6586659111"
       ]
      },
      {
       "output_type": "stream",
       "stream": "stdout",
       "text": [
        " 71698491339.7\n",
        "14.6586659111"
       ]
      },
      {
       "output_type": "stream",
       "stream": "stdout",
       "text": [
        " 79567088082.7\n",
        "14.6586659111"
       ]
      },
      {
       "output_type": "stream",
       "stream": "stdout",
       "text": [
        " 88299229003.0\n",
        "14.6586659111"
       ]
      },
      {
       "output_type": "stream",
       "stream": "stdout",
       "text": [
        " 97989684307.8\n",
        "14.6586659111"
       ]
      },
      {
       "output_type": "stream",
       "stream": "stdout",
       "text": [
        " 108743624822.0\n",
        "14.6586659111"
       ]
      },
      {
       "output_type": "stream",
       "stream": "stdout",
       "text": [
        " 120677763408.0\n",
        "14.6586659111"
       ]
      },
      {
       "output_type": "stream",
       "stream": "stdout",
       "text": [
        " 133921621659.0\n",
        "14.6586659111"
       ]
      },
      {
       "output_type": "stream",
       "stream": "stdout",
       "text": [
        " 148618935596.0\n",
        "14.6586659111"
       ]
      },
      {
       "output_type": "stream",
       "stream": "stdout",
       "text": [
        " 164929215642.0\n",
        "14.6586659111"
       ]
      },
      {
       "output_type": "stream",
       "stream": "stdout",
       "text": [
        " 183029477792.0\n",
        "14.6586659111"
       ]
      },
      {
       "output_type": "stream",
       "stream": "stdout",
       "text": [
        " 203116164777.0\n",
        "14.6586659111"
       ]
      },
      {
       "output_type": "stream",
       "stream": "stdout",
       "text": [
        " 225407278060.0\n",
        "14.6586659111"
       ]
      },
      {
       "output_type": "stream",
       "stream": "stdout",
       "text": [
        " 250144743812.0\n",
        "14.6586659111"
       ]
      },
      {
       "output_type": "stream",
       "stream": "stdout",
       "text": [
        " 277597038549.0\n",
        "14.6586659111"
       ]
      },
      {
       "output_type": "stream",
       "stream": "stdout",
       "text": [
        " 308062102912.0\n",
        "14.6586659111"
       ]
      },
      {
       "output_type": "stream",
       "stream": "stdout",
       "text": [
        " 341870575229.0\n",
        "14.6586659111"
       ]
      },
      {
       "output_type": "stream",
       "stream": "stdout",
       "text": [
        " 379389379943.0\n",
        "14.6586659111"
       ]
      },
      {
       "output_type": "stream",
       "stream": "stdout",
       "text": [
        " 421025709851.0\n",
        "14.6586659111"
       ]
      },
      {
       "output_type": "stream",
       "stream": "stdout",
       "text": [
        " 467231445389.0\n",
        "14.6586659111"
       ]
      },
      {
       "output_type": "stream",
       "stream": "stdout",
       "text": [
        " 518508058896.0\n",
        "14.6586659111"
       ]
      },
      {
       "output_type": "stream",
       "stream": "stdout",
       "text": [
        " 575412057115.0\n",
        "14.6586659111"
       ]
      },
      {
       "output_type": "stream",
       "stream": "stdout",
       "text": [
        " 638561020977.0\n",
        "14.6586659111"
       ]
      },
      {
       "output_type": "stream",
       "stream": "stdout",
       "text": [
        " 708640308226.0\n",
        "14.6586659111"
       ]
      },
      {
       "output_type": "stream",
       "stream": "stdout",
       "text": [
        " 786410491630.0\n",
        "14.6586659111"
       ]
      },
      {
       "output_type": "stream",
       "stream": "stdout",
       "text": [
        " 872715613503.0\n",
        "14.6586659111"
       ]
      },
      {
       "output_type": "stream",
       "stream": "stdout",
       "text": [
        " 968492346119.0\n",
        "14.6586659111"
       ]
      },
      {
       "output_type": "stream",
       "stream": "stdout",
       "text": [
        " 1.07478015745e+12\n",
        "14.6586659111"
       ]
      },
      {
       "output_type": "stream",
       "stream": "stdout",
       "text": [
        " 1.19273259255e+12\n",
        "14.6586659111"
       ]
      },
      {
       "output_type": "stream",
       "stream": "stdout",
       "text": [
        " 1.32362979301e+12\n",
        "14.6586659111"
       ]
      },
      {
       "output_type": "stream",
       "stream": "stdout",
       "text": [
        " 1.46889239036e+12\n",
        "14.6586659111"
       ]
      },
      {
       "output_type": "stream",
       "stream": "stdout",
       "text": [
        " 1.63009692427e+12\n",
        "14.6586659111"
       ]
      },
      {
       "output_type": "stream",
       "stream": "stdout",
       "text": [
        " 1.80899295276e+12\n",
        "14.6586659111"
       ]
      },
      {
       "output_type": "stream",
       "stream": "stdout",
       "text": [
        " 2.0075220402e+12\n",
        "14.6586659111"
       ]
      },
      {
       "output_type": "stream",
       "stream": "stdout",
       "text": [
        " 2.22783882918e+12\n",
        "14.6586659111"
       ]
      },
      {
       "output_type": "stream",
       "stream": "stdout",
       "text": [
        " 2.47233442495e+12\n",
        "14.6586659111"
       ]
      },
      {
       "output_type": "stream",
       "stream": "stdout",
       "text": [
        " 2.74366234609e+12\n",
        "14.6586659111"
       ]
      },
      {
       "output_type": "stream",
       "stream": "stdout",
       "text": [
        " 3.04476732329e+12\n",
        "14.6586659111"
       ]
      },
      {
       "output_type": "stream",
       "stream": "stdout",
       "text": [
        " 3.37891725861e+12\n",
        "14.6586659111"
       ]
      },
      {
       "output_type": "stream",
       "stream": "stdout",
       "text": [
        " 3.74973869208e+12\n",
        "14.6586659111"
       ]
      },
      {
       "output_type": "stream",
       "stream": "stdout",
       "text": [
        " 4.1612561607e+12\n",
        "14.6586659111"
       ]
      },
      {
       "output_type": "stream",
       "stream": "stdout",
       "text": [
        " 4.61793587685e+12\n",
        "14.6586659111"
       ]
      },
      {
       "output_type": "stream",
       "stream": "stdout",
       "text": [
        " 5.12473420023e+12\n",
        "14.6586659111"
       ]
      },
      {
       "output_type": "stream",
       "stream": "stdout",
       "text": [
        " 5.68715142943e+12\n",
        "14.6586659111"
       ]
      },
      {
       "output_type": "stream",
       "stream": "stdout",
       "text": [
        " 6.3112914968e+12\n",
        "14.6586659111"
       ]
      },
      {
       "output_type": "stream",
       "stream": "stdout",
       "text": [
        " 7.00392821465e+12\n",
        "14.6586659111"
       ]
      },
      {
       "output_type": "stream",
       "stream": "stdout",
       "text": [
        " 7.77257879166e+12\n",
        "14.6586659111"
       ]
      },
      {
       "output_type": "stream",
       "stream": "stdout",
       "text": [
        " 8.62558541736e+12\n",
        "14.6586659111"
       ]
      },
      {
       "output_type": "stream",
       "stream": "stdout",
       "text": [
        " 9.57220580022e+12\n",
        "14.6586659111"
       ]
      },
      {
       "output_type": "stream",
       "stream": "stdout",
       "text": [
        " 1.06227136418e+13\n",
        "14.6586659111"
       ]
      },
      {
       "output_type": "stream",
       "stream": "stdout",
       "text": [
        " 1.17885101377e+13\n",
        "14.6586659111"
       ]
      },
      {
       "output_type": "stream",
       "stream": "stdout",
       "text": [
        " 1.30822477149e+13\n",
        "14.6586659111"
       ]
      },
      {
       "output_type": "stream",
       "stream": "stdout",
       "text": [
        " 1.45179673492e+13\n",
        "14.6586659111"
       ]
      },
      {
       "output_type": "stream",
       "stream": "stdout",
       "text": [
        " 1.6111250952e+13\n",
        "14.6586659111"
       ]
      },
      {
       "output_type": "stream",
       "stream": "stdout",
       "text": [
        " 1.78793904819e+13\n",
        "14.6586659111"
       ]
      },
      {
       "output_type": "stream",
       "stream": "stdout",
       "text": [
        " 1.98415756141e+13\n",
        "14.6586659111"
       ]
      },
      {
       "output_type": "stream",
       "stream": "stdout",
       "text": [
        " 2.20191020075e+13\n",
        "14.6586659111"
       ]
      },
      {
       "output_type": "stream",
       "stream": "stdout",
       "text": [
        " 2.44356024262e+13\n",
        "14.6586659111"
       ]
      },
      {
       "output_type": "stream",
       "stream": "stdout",
       "text": [
        " 2.71173032273e+13\n",
        "14.6586659111"
       ]
      },
      {
       "output_type": "stream",
       "stream": "stdout",
       "text": [
        " 3.00933089963e+13\n",
        "14.6586659111"
       ]
      },
      {
       "output_type": "stream",
       "stream": "stdout",
       "text": [
        " 3.33959184199e+13\n",
        "14.6586659111"
       ]
      },
      {
       "output_type": "stream",
       "stream": "stdout",
       "text": [
        " 3.70609748249e+13\n",
        "14.6586659111"
       ]
      },
      {
       "output_type": "stream",
       "stream": "stdout",
       "text": [
        " 4.11282551868e+13\n",
        "14.6586659111"
       ]
      },
      {
       "output_type": "stream",
       "stream": "stdout",
       "text": [
        " 4.56419018307e+13\n",
        "14.6586659111"
       ]
      },
      {
       "output_type": "stream",
       "stream": "stdout",
       "text": [
        " 5.06509015095e+13\n",
        "14.6586659111"
       ]
      },
      {
       "output_type": "stream",
       "stream": "stdout",
       "text": [
        " 5.62096170586e+13\n",
        "14.6586659111"
       ]
      },
      {
       "output_type": "stream",
       "stream": "stdout",
       "text": [
        " 6.23783773972e+13\n",
        "14.6586659111"
       ]
      },
      {
       "output_type": "stream",
       "stream": "stdout",
       "text": [
        " 6.92241322807e+13\n",
        "14.6586659111"
       ]
      },
      {
       "output_type": "stream",
       "stream": "stdout",
       "text": [
        " 7.68211789079e+13\n",
        "14.6586659111"
       ]
      },
      {
       "output_type": "stream",
       "stream": "stdout",
       "text": [
        " 8.52519682712e+13\n",
        "14.6586659111"
       ]
      },
      {
       "output_type": "stream",
       "stream": "stdout",
       "text": [
        " 9.4608e+13\n",
        "34.1095160386"
       ]
      },
      {
       "output_type": "stream",
       "stream": "stdout",
       "text": [
        " 3153600000.0\n",
        "34.1095160386"
       ]
      },
      {
       "output_type": "stream",
       "stream": "stdout",
       "text": [
        " 3499693846.96\n",
        "34.1095160386"
       ]
      },
      {
       "output_type": "stream",
       "stream": "stdout",
       "text": [
        " 3883769984.29\n",
        "34.1095160386"
       ]
      },
      {
       "output_type": "stream",
       "stream": "stdout",
       "text": [
        " 4309996802.71\n",
        "34.1095160386"
       ]
      },
      {
       "output_type": "stream",
       "stream": "stdout",
       "text": [
        " 4783000155.65\n",
        "34.1095160386"
       ]
      },
      {
       "output_type": "stream",
       "stream": "stdout",
       "text": [
        " 5307913563.78\n",
        "34.1095160386"
       ]
      },
      {
       "output_type": "stream",
       "stream": "stdout",
       "text": [
        " 5890433929.27\n",
        "34.1095160386"
       ]
      },
      {
       "output_type": "stream",
       "stream": "stdout",
       "text": [
        " 6536883364.47\n",
        "34.1095160386"
       ]
      },
      {
       "output_type": "stream",
       "stream": "stdout",
       "text": [
        " 7254277805.98\n",
        "34.1095160386"
       ]
      },
      {
       "output_type": "stream",
       "stream": "stdout",
       "text": [
        " 8050403158.84\n",
        "34.1095160386"
       ]
      },
      {
       "output_type": "stream",
       "stream": "stdout",
       "text": [
        " 8933899797.23\n",
        "34.1095160386"
       ]
      },
      {
       "output_type": "stream",
       "stream": "stdout",
       "text": [
        " 9914356338.7\n",
        "34.1095160386"
       ]
      },
      {
       "output_type": "stream",
       "stream": "stdout",
       "text": [
        " 11002413709.8\n",
        "34.1095160386"
       ]
      },
      {
       "output_type": "stream",
       "stream": "stdout",
       "text": [
        " 12209880632.2\n",
        "34.1095160386"
       ]
      },
      {
       "output_type": "stream",
       "stream": "stdout",
       "text": [
        " 13549861783.6\n",
        "34.1095160386"
       ]
      },
      {
       "output_type": "stream",
       "stream": "stdout",
       "text": [
        " 15036900022.6\n",
        "34.1095160386"
       ]
      },
      {
       "output_type": "stream",
       "stream": "stdout",
       "text": [
        " 16687134223.2\n",
        "34.1095160386"
       ]
      },
      {
       "output_type": "stream",
       "stream": "stdout",
       "text": [
        " 18518474430.6\n",
        "34.1095160386"
       ]
      },
      {
       "output_type": "stream",
       "stream": "stdout",
       "text": [
        " 20550796239.2\n",
        "34.1095160386"
       ]
      },
      {
       "output_type": "stream",
       "stream": "stdout",
       "text": [
        " 22806156503.2\n",
        "34.1095160386"
       ]
      },
      {
       "output_type": "stream",
       "stream": "stdout",
       "text": [
        " 25309032720.4\n",
        "34.1095160386"
       ]
      },
      {
       "output_type": "stream",
       "stream": "stdout",
       "text": [
        " 28086588687.2\n",
        "34.1095160386"
       ]
      },
      {
       "output_type": "stream",
       "stream": "stdout",
       "text": [
        " 31168969308.3\n",
        "34.1095160386"
       ]
      },
      {
       "output_type": "stream",
       "stream": "stdout",
       "text": [
        " 34589627760.2\n",
        "34.1095160386"
       ]
      },
      {
       "output_type": "stream",
       "stream": "stdout",
       "text": [
        " 38385688559.4\n",
        "34.1095160386"
       ]
      },
      {
       "output_type": "stream",
       "stream": "stdout",
       "text": [
        " 42598350476.5\n",
        "34.1095160386"
       ]
      },
      {
       "output_type": "stream",
       "stream": "stdout",
       "text": [
        " 47273333667.3\n",
        "34.1095160386"
       ]
      },
      {
       "output_type": "stream",
       "stream": "stdout",
       "text": [
        " 52461375875.4\n",
        "34.1095160386"
       ]
      },
      {
       "output_type": "stream",
       "stream": "stdout",
       "text": [
        " 58218783090.5\n",
        "34.1095160386"
       ]
      },
      {
       "output_type": "stream",
       "stream": "stdout",
       "text": [
        " 64608040639.1\n",
        "34.1095160386"
       ]
      },
      {
       "output_type": "stream",
       "stream": "stdout",
       "text": [
        " 71698491339.7\n",
        "34.1095160386"
       ]
      },
      {
       "output_type": "stream",
       "stream": "stdout",
       "text": [
        " 79567088082.7\n",
        "34.1095160386"
       ]
      },
      {
       "output_type": "stream",
       "stream": "stdout",
       "text": [
        " 88299229003.0\n",
        "34.1095160386"
       ]
      },
      {
       "output_type": "stream",
       "stream": "stdout",
       "text": [
        " 97989684307.8\n",
        "34.1095160386"
       ]
      },
      {
       "output_type": "stream",
       "stream": "stdout",
       "text": [
        " 108743624822.0\n",
        "34.1095160386"
       ]
      },
      {
       "output_type": "stream",
       "stream": "stdout",
       "text": [
        " 120677763408.0\n",
        "34.1095160386"
       ]
      },
      {
       "output_type": "stream",
       "stream": "stdout",
       "text": [
        " 133921621659.0\n",
        "34.1095160386"
       ]
      },
      {
       "output_type": "stream",
       "stream": "stdout",
       "text": [
        " 148618935596.0\n",
        "34.1095160386"
       ]
      },
      {
       "output_type": "stream",
       "stream": "stdout",
       "text": [
        " 164929215642.0\n",
        "34.1095160386"
       ]
      },
      {
       "output_type": "stream",
       "stream": "stdout",
       "text": [
        " 183029477792.0\n",
        "34.1095160386"
       ]
      },
      {
       "output_type": "stream",
       "stream": "stdout",
       "text": [
        " 203116164777.0\n",
        "34.1095160386"
       ]
      },
      {
       "output_type": "stream",
       "stream": "stdout",
       "text": [
        " 225407278060.0\n",
        "34.1095160386"
       ]
      },
      {
       "output_type": "stream",
       "stream": "stdout",
       "text": [
        " 250144743812.0\n",
        "34.1095160386"
       ]
      },
      {
       "output_type": "stream",
       "stream": "stdout",
       "text": [
        " 277597038549.0\n",
        "34.1095160386"
       ]
      },
      {
       "output_type": "stream",
       "stream": "stdout",
       "text": [
        " 308062102912.0\n",
        "34.1095160386"
       ]
      },
      {
       "output_type": "stream",
       "stream": "stdout",
       "text": [
        " 341870575229.0\n",
        "34.1095160386"
       ]
      },
      {
       "output_type": "stream",
       "stream": "stdout",
       "text": [
        " 379389379943.0\n",
        "34.1095160386"
       ]
      },
      {
       "output_type": "stream",
       "stream": "stdout",
       "text": [
        " 421025709851.0\n",
        "34.1095160386"
       ]
      },
      {
       "output_type": "stream",
       "stream": "stdout",
       "text": [
        " 467231445389.0\n",
        "34.1095160386"
       ]
      },
      {
       "output_type": "stream",
       "stream": "stdout",
       "text": [
        " 518508058896.0\n",
        "34.1095160386"
       ]
      },
      {
       "output_type": "stream",
       "stream": "stdout",
       "text": [
        " 575412057115.0\n",
        "34.1095160386"
       ]
      },
      {
       "output_type": "stream",
       "stream": "stdout",
       "text": [
        " 638561020977.0\n",
        "34.1095160386"
       ]
      },
      {
       "output_type": "stream",
       "stream": "stdout",
       "text": [
        " 708640308226.0\n",
        "34.1095160386"
       ]
      },
      {
       "output_type": "stream",
       "stream": "stdout",
       "text": [
        " 786410491630.0\n",
        "34.1095160386"
       ]
      },
      {
       "output_type": "stream",
       "stream": "stdout",
       "text": [
        " 872715613503.0\n",
        "34.1095160386"
       ]
      },
      {
       "output_type": "stream",
       "stream": "stdout",
       "text": [
        " 968492346119.0\n",
        "34.1095160386"
       ]
      },
      {
       "output_type": "stream",
       "stream": "stdout",
       "text": [
        " 1.07478015745e+12\n",
        "34.1095160386"
       ]
      },
      {
       "output_type": "stream",
       "stream": "stdout",
       "text": [
        " 1.19273259255e+12\n",
        "34.1095160386"
       ]
      },
      {
       "output_type": "stream",
       "stream": "stdout",
       "text": [
        " 1.32362979301e+12\n",
        "34.1095160386"
       ]
      },
      {
       "output_type": "stream",
       "stream": "stdout",
       "text": [
        " 1.46889239036e+12\n",
        "34.1095160386"
       ]
      },
      {
       "output_type": "stream",
       "stream": "stdout",
       "text": [
        " 1.63009692427e+12\n",
        "34.1095160386"
       ]
      },
      {
       "output_type": "stream",
       "stream": "stdout",
       "text": [
        " 1.80899295276e+12\n",
        "34.1095160386"
       ]
      },
      {
       "output_type": "stream",
       "stream": "stdout",
       "text": [
        " 2.0075220402e+12\n",
        "34.1095160386"
       ]
      },
      {
       "output_type": "stream",
       "stream": "stdout",
       "text": [
        " 2.22783882918e+12\n",
        "34.1095160386"
       ]
      },
      {
       "output_type": "stream",
       "stream": "stdout",
       "text": [
        " 2.47233442495e+12\n",
        "34.1095160386"
       ]
      },
      {
       "output_type": "stream",
       "stream": "stdout",
       "text": [
        " 2.74366234609e+12\n",
        "34.1095160386"
       ]
      },
      {
       "output_type": "stream",
       "stream": "stdout",
       "text": [
        " 3.04476732329e+12\n",
        "34.1095160386"
       ]
      },
      {
       "output_type": "stream",
       "stream": "stdout",
       "text": [
        " 3.37891725861e+12\n",
        "34.1095160386"
       ]
      },
      {
       "output_type": "stream",
       "stream": "stdout",
       "text": [
        " 3.74973869208e+12\n",
        "34.1095160386"
       ]
      },
      {
       "output_type": "stream",
       "stream": "stdout",
       "text": [
        " 4.1612561607e+12\n",
        "34.1095160386"
       ]
      },
      {
       "output_type": "stream",
       "stream": "stdout",
       "text": [
        " 4.61793587685e+12\n",
        "34.1095160386"
       ]
      },
      {
       "output_type": "stream",
       "stream": "stdout",
       "text": [
        " 5.12473420023e+12\n",
        "34.1095160386"
       ]
      },
      {
       "output_type": "stream",
       "stream": "stdout",
       "text": [
        " 5.68715142943e+12\n",
        "34.1095160386"
       ]
      },
      {
       "output_type": "stream",
       "stream": "stdout",
       "text": [
        " 6.3112914968e+12\n",
        "34.1095160386"
       ]
      },
      {
       "output_type": "stream",
       "stream": "stdout",
       "text": [
        " 7.00392821465e+12\n",
        "34.1095160386"
       ]
      },
      {
       "output_type": "stream",
       "stream": "stdout",
       "text": [
        " 7.77257879166e+12\n",
        "34.1095160386"
       ]
      },
      {
       "output_type": "stream",
       "stream": "stdout",
       "text": [
        " 8.62558541736e+12\n",
        "34.1095160386"
       ]
      },
      {
       "output_type": "stream",
       "stream": "stdout",
       "text": [
        " 9.57220580022e+12\n",
        "34.1095160386"
       ]
      },
      {
       "output_type": "stream",
       "stream": "stdout",
       "text": [
        " 1.06227136418e+13\n",
        "34.1095160386"
       ]
      },
      {
       "output_type": "stream",
       "stream": "stdout",
       "text": [
        " 1.17885101377e+13\n",
        "34.1095160386"
       ]
      },
      {
       "output_type": "stream",
       "stream": "stdout",
       "text": [
        " 1.30822477149e+13\n",
        "34.1095160386"
       ]
      },
      {
       "output_type": "stream",
       "stream": "stdout",
       "text": [
        " 1.45179673492e+13\n",
        "34.1095160386"
       ]
      },
      {
       "output_type": "stream",
       "stream": "stdout",
       "text": [
        " 1.6111250952e+13\n",
        "34.1095160386"
       ]
      },
      {
       "output_type": "stream",
       "stream": "stdout",
       "text": [
        " 1.78793904819e+13\n",
        "34.1095160386"
       ]
      },
      {
       "output_type": "stream",
       "stream": "stdout",
       "text": [
        " 1.98415756141e+13\n",
        "34.1095160386"
       ]
      },
      {
       "output_type": "stream",
       "stream": "stdout",
       "text": [
        " 2.20191020075e+13\n",
        "34.1095160386"
       ]
      },
      {
       "output_type": "stream",
       "stream": "stdout",
       "text": [
        " 2.44356024262e+13\n",
        "34.1095160386"
       ]
      },
      {
       "output_type": "stream",
       "stream": "stdout",
       "text": [
        " 2.71173032273e+13\n",
        "34.1095160386"
       ]
      },
      {
       "output_type": "stream",
       "stream": "stdout",
       "text": [
        " 3.00933089963e+13\n",
        "34.1095160386"
       ]
      },
      {
       "output_type": "stream",
       "stream": "stdout",
       "text": [
        " 3.33959184199e+13\n",
        "34.1095160386"
       ]
      },
      {
       "output_type": "stream",
       "stream": "stdout",
       "text": [
        " 3.70609748249e+13\n",
        "34.1095160386"
       ]
      },
      {
       "output_type": "stream",
       "stream": "stdout",
       "text": [
        " 4.11282551868e+13\n",
        "34.1095160386"
       ]
      },
      {
       "output_type": "stream",
       "stream": "stdout",
       "text": [
        " 4.56419018307e+13\n",
        "34.1095160386"
       ]
      },
      {
       "output_type": "stream",
       "stream": "stdout",
       "text": [
        " 5.06509015095e+13\n",
        "34.1095160386"
       ]
      },
      {
       "output_type": "stream",
       "stream": "stdout",
       "text": [
        " 5.62096170586e+13\n",
        "34.1095160386"
       ]
      },
      {
       "output_type": "stream",
       "stream": "stdout",
       "text": [
        " 6.23783773972e+13\n",
        "34.1095160386"
       ]
      },
      {
       "output_type": "stream",
       "stream": "stdout",
       "text": [
        " 6.92241322807e+13\n",
        "34.1095160386"
       ]
      },
      {
       "output_type": "stream",
       "stream": "stdout",
       "text": [
        " 7.68211789079e+13\n",
        "34.1095160386"
       ]
      },
      {
       "output_type": "stream",
       "stream": "stdout",
       "text": [
        " 8.52519682712e+13\n",
        "34.1095160386"
       ]
      },
      {
       "output_type": "stream",
       "stream": "stdout",
       "text": [
        " 9.4608e+13\n",
        "79.3700525984"
       ]
      },
      {
       "output_type": "stream",
       "stream": "stdout",
       "text": [
        " 3153600000.0\n",
        "79.3700525984"
       ]
      },
      {
       "output_type": "stream",
       "stream": "stdout",
       "text": [
        " 3499693846.96\n",
        "79.3700525984"
       ]
      },
      {
       "output_type": "stream",
       "stream": "stdout",
       "text": [
        " 3883769984.29\n",
        "79.3700525984"
       ]
      },
      {
       "output_type": "stream",
       "stream": "stdout",
       "text": [
        " 4309996802.71\n",
        "79.3700525984"
       ]
      },
      {
       "output_type": "stream",
       "stream": "stdout",
       "text": [
        " 4783000155.65\n",
        "79.3700525984"
       ]
      },
      {
       "output_type": "stream",
       "stream": "stdout",
       "text": [
        " 5307913563.78\n",
        "79.3700525984"
       ]
      },
      {
       "output_type": "stream",
       "stream": "stdout",
       "text": [
        " 5890433929.27\n",
        "79.3700525984"
       ]
      },
      {
       "output_type": "stream",
       "stream": "stdout",
       "text": [
        " 6536883364.47\n",
        "79.3700525984"
       ]
      },
      {
       "output_type": "stream",
       "stream": "stdout",
       "text": [
        " 7254277805.98\n",
        "79.3700525984"
       ]
      },
      {
       "output_type": "stream",
       "stream": "stdout",
       "text": [
        " 8050403158.84\n",
        "79.3700525984"
       ]
      },
      {
       "output_type": "stream",
       "stream": "stdout",
       "text": [
        " 8933899797.23\n",
        "79.3700525984"
       ]
      },
      {
       "output_type": "stream",
       "stream": "stdout",
       "text": [
        " 9914356338.7\n",
        "79.3700525984"
       ]
      },
      {
       "output_type": "stream",
       "stream": "stdout",
       "text": [
        " 11002413709.8\n",
        "79.3700525984"
       ]
      },
      {
       "output_type": "stream",
       "stream": "stdout",
       "text": [
        " 12209880632.2\n",
        "79.3700525984"
       ]
      },
      {
       "output_type": "stream",
       "stream": "stdout",
       "text": [
        " 13549861783.6\n",
        "79.3700525984"
       ]
      },
      {
       "output_type": "stream",
       "stream": "stdout",
       "text": [
        " 15036900022.6\n",
        "79.3700525984"
       ]
      },
      {
       "output_type": "stream",
       "stream": "stdout",
       "text": [
        " 16687134223.2\n",
        "79.3700525984"
       ]
      },
      {
       "output_type": "stream",
       "stream": "stdout",
       "text": [
        " 18518474430.6\n",
        "79.3700525984"
       ]
      },
      {
       "output_type": "stream",
       "stream": "stdout",
       "text": [
        " 20550796239.2\n",
        "79.3700525984"
       ]
      },
      {
       "output_type": "stream",
       "stream": "stdout",
       "text": [
        " 22806156503.2\n",
        "79.3700525984"
       ]
      },
      {
       "output_type": "stream",
       "stream": "stdout",
       "text": [
        " 25309032720.4\n",
        "79.3700525984"
       ]
      },
      {
       "output_type": "stream",
       "stream": "stdout",
       "text": [
        " 28086588687.2\n",
        "79.3700525984"
       ]
      },
      {
       "output_type": "stream",
       "stream": "stdout",
       "text": [
        " 31168969308.3\n",
        "79.3700525984"
       ]
      },
      {
       "output_type": "stream",
       "stream": "stdout",
       "text": [
        " 34589627760.2\n",
        "79.3700525984"
       ]
      },
      {
       "output_type": "stream",
       "stream": "stdout",
       "text": [
        " 38385688559.4\n",
        "79.3700525984"
       ]
      },
      {
       "output_type": "stream",
       "stream": "stdout",
       "text": [
        " 42598350476.5\n",
        "79.3700525984"
       ]
      },
      {
       "output_type": "stream",
       "stream": "stdout",
       "text": [
        " 47273333667.3\n",
        "79.3700525984"
       ]
      },
      {
       "output_type": "stream",
       "stream": "stdout",
       "text": [
        " 52461375875.4\n",
        "79.3700525984"
       ]
      },
      {
       "output_type": "stream",
       "stream": "stdout",
       "text": [
        " 58218783090.5\n",
        "79.3700525984"
       ]
      },
      {
       "output_type": "stream",
       "stream": "stdout",
       "text": [
        " 64608040639.1\n",
        "79.3700525984"
       ]
      },
      {
       "output_type": "stream",
       "stream": "stdout",
       "text": [
        " 71698491339.7\n",
        "79.3700525984"
       ]
      },
      {
       "output_type": "stream",
       "stream": "stdout",
       "text": [
        " 79567088082.7\n",
        "79.3700525984"
       ]
      },
      {
       "output_type": "stream",
       "stream": "stdout",
       "text": [
        " 88299229003.0\n",
        "79.3700525984"
       ]
      },
      {
       "output_type": "stream",
       "stream": "stdout",
       "text": [
        " 97989684307.8\n",
        "79.3700525984"
       ]
      },
      {
       "output_type": "stream",
       "stream": "stdout",
       "text": [
        " 108743624822.0\n",
        "79.3700525984"
       ]
      },
      {
       "output_type": "stream",
       "stream": "stdout",
       "text": [
        " 120677763408.0\n",
        "79.3700525984"
       ]
      },
      {
       "output_type": "stream",
       "stream": "stdout",
       "text": [
        " 133921621659.0\n",
        "79.3700525984"
       ]
      },
      {
       "output_type": "stream",
       "stream": "stdout",
       "text": [
        " 148618935596.0\n",
        "79.3700525984"
       ]
      },
      {
       "output_type": "stream",
       "stream": "stdout",
       "text": [
        " 164929215642.0\n",
        "79.3700525984"
       ]
      },
      {
       "output_type": "stream",
       "stream": "stdout",
       "text": [
        " 183029477792.0\n",
        "79.3700525984"
       ]
      },
      {
       "output_type": "stream",
       "stream": "stdout",
       "text": [
        " 203116164777.0\n",
        "79.3700525984"
       ]
      },
      {
       "output_type": "stream",
       "stream": "stdout",
       "text": [
        " 225407278060.0\n",
        "79.3700525984"
       ]
      },
      {
       "output_type": "stream",
       "stream": "stdout",
       "text": [
        " 250144743812.0\n",
        "79.3700525984"
       ]
      },
      {
       "output_type": "stream",
       "stream": "stdout",
       "text": [
        " 277597038549.0\n",
        "79.3700525984"
       ]
      },
      {
       "output_type": "stream",
       "stream": "stdout",
       "text": [
        " 308062102912.0\n",
        "79.3700525984"
       ]
      },
      {
       "output_type": "stream",
       "stream": "stdout",
       "text": [
        " 341870575229.0\n",
        "79.3700525984"
       ]
      },
      {
       "output_type": "stream",
       "stream": "stdout",
       "text": [
        " 379389379943.0\n",
        "79.3700525984"
       ]
      },
      {
       "output_type": "stream",
       "stream": "stdout",
       "text": [
        " 421025709851.0\n",
        "79.3700525984"
       ]
      },
      {
       "output_type": "stream",
       "stream": "stdout",
       "text": [
        " 467231445389.0\n",
        "79.3700525984"
       ]
      },
      {
       "output_type": "stream",
       "stream": "stdout",
       "text": [
        " 518508058896.0\n",
        "79.3700525984"
       ]
      },
      {
       "output_type": "stream",
       "stream": "stdout",
       "text": [
        " 575412057115.0\n",
        "79.3700525984"
       ]
      },
      {
       "output_type": "stream",
       "stream": "stdout",
       "text": [
        " 638561020977.0\n",
        "79.3700525984"
       ]
      },
      {
       "output_type": "stream",
       "stream": "stdout",
       "text": [
        " 708640308226.0\n",
        "79.3700525984"
       ]
      },
      {
       "output_type": "stream",
       "stream": "stdout",
       "text": [
        " 786410491630.0\n",
        "79.3700525984"
       ]
      },
      {
       "output_type": "stream",
       "stream": "stdout",
       "text": [
        " 872715613503.0\n",
        "79.3700525984"
       ]
      },
      {
       "output_type": "stream",
       "stream": "stdout",
       "text": [
        " 968492346119.0\n",
        "79.3700525984"
       ]
      },
      {
       "output_type": "stream",
       "stream": "stdout",
       "text": [
        " 1.07478015745e+12\n",
        "79.3700525984"
       ]
      },
      {
       "output_type": "stream",
       "stream": "stdout",
       "text": [
        " 1.19273259255e+12\n",
        "79.3700525984"
       ]
      },
      {
       "output_type": "stream",
       "stream": "stdout",
       "text": [
        " 1.32362979301e+12\n",
        "79.3700525984"
       ]
      },
      {
       "output_type": "stream",
       "stream": "stdout",
       "text": [
        " 1.46889239036e+12\n",
        "79.3700525984"
       ]
      },
      {
       "output_type": "stream",
       "stream": "stdout",
       "text": [
        " 1.63009692427e+12\n",
        "79.3700525984"
       ]
      },
      {
       "output_type": "stream",
       "stream": "stdout",
       "text": [
        " 1.80899295276e+12\n",
        "79.3700525984"
       ]
      },
      {
       "output_type": "stream",
       "stream": "stdout",
       "text": [
        " 2.0075220402e+12\n",
        "79.3700525984"
       ]
      },
      {
       "output_type": "stream",
       "stream": "stdout",
       "text": [
        " 2.22783882918e+12\n",
        "79.3700525984"
       ]
      },
      {
       "output_type": "stream",
       "stream": "stdout",
       "text": [
        " 2.47233442495e+12\n",
        "79.3700525984"
       ]
      },
      {
       "output_type": "stream",
       "stream": "stdout",
       "text": [
        " 2.74366234609e+12\n",
        "79.3700525984"
       ]
      },
      {
       "output_type": "stream",
       "stream": "stdout",
       "text": [
        " 3.04476732329e+12\n",
        "79.3700525984"
       ]
      },
      {
       "output_type": "stream",
       "stream": "stdout",
       "text": [
        " 3.37891725861e+12\n",
        "79.3700525984"
       ]
      },
      {
       "output_type": "stream",
       "stream": "stdout",
       "text": [
        " 3.74973869208e+12\n",
        "79.3700525984"
       ]
      },
      {
       "output_type": "stream",
       "stream": "stdout",
       "text": [
        " 4.1612561607e+12\n",
        "79.3700525984"
       ]
      },
      {
       "output_type": "stream",
       "stream": "stdout",
       "text": [
        " 4.61793587685e+12\n",
        "79.3700525984"
       ]
      },
      {
       "output_type": "stream",
       "stream": "stdout",
       "text": [
        " 5.12473420023e+12\n",
        "79.3700525984"
       ]
      },
      {
       "output_type": "stream",
       "stream": "stdout",
       "text": [
        " 5.68715142943e+12\n",
        "79.3700525984"
       ]
      },
      {
       "output_type": "stream",
       "stream": "stdout",
       "text": [
        " 6.3112914968e+12\n",
        "79.3700525984"
       ]
      },
      {
       "output_type": "stream",
       "stream": "stdout",
       "text": [
        " 7.00392821465e+12\n",
        "79.3700525984"
       ]
      },
      {
       "output_type": "stream",
       "stream": "stdout",
       "text": [
        " 7.77257879166e+12\n",
        "79.3700525984"
       ]
      },
      {
       "output_type": "stream",
       "stream": "stdout",
       "text": [
        " 8.62558541736e+12\n",
        "79.3700525984"
       ]
      },
      {
       "output_type": "stream",
       "stream": "stdout",
       "text": [
        " 9.57220580022e+12\n",
        "79.3700525984"
       ]
      },
      {
       "output_type": "stream",
       "stream": "stdout",
       "text": [
        " 1.06227136418e+13\n",
        "79.3700525984"
       ]
      },
      {
       "output_type": "stream",
       "stream": "stdout",
       "text": [
        " 1.17885101377e+13\n",
        "79.3700525984"
       ]
      },
      {
       "output_type": "stream",
       "stream": "stdout",
       "text": [
        " 1.30822477149e+13\n",
        "79.3700525984"
       ]
      },
      {
       "output_type": "stream",
       "stream": "stdout",
       "text": [
        " 1.45179673492e+13\n",
        "79.3700525984"
       ]
      },
      {
       "output_type": "stream",
       "stream": "stdout",
       "text": [
        " 1.6111250952e+13\n",
        "79.3700525984"
       ]
      },
      {
       "output_type": "stream",
       "stream": "stdout",
       "text": [
        " 1.78793904819e+13\n",
        "79.3700525984"
       ]
      },
      {
       "output_type": "stream",
       "stream": "stdout",
       "text": [
        " 1.98415756141e+13\n",
        "79.3700525984"
       ]
      },
      {
       "output_type": "stream",
       "stream": "stdout",
       "text": [
        " 2.20191020075e+13\n",
        "79.3700525984"
       ]
      },
      {
       "output_type": "stream",
       "stream": "stdout",
       "text": [
        " 2.44356024262e+13\n",
        "79.3700525984"
       ]
      },
      {
       "output_type": "stream",
       "stream": "stdout",
       "text": [
        " 2.71173032273e+13\n",
        "79.3700525984"
       ]
      },
      {
       "output_type": "stream",
       "stream": "stdout",
       "text": [
        " 3.00933089963e+13\n",
        "79.3700525984"
       ]
      },
      {
       "output_type": "stream",
       "stream": "stdout",
       "text": [
        " 3.33959184199e+13\n",
        "79.3700525984"
       ]
      },
      {
       "output_type": "stream",
       "stream": "stdout",
       "text": [
        " 3.70609748249e+13\n",
        "79.3700525984"
       ]
      },
      {
       "output_type": "stream",
       "stream": "stdout",
       "text": [
        " 4.11282551868e+13\n",
        "79.3700525984"
       ]
      },
      {
       "output_type": "stream",
       "stream": "stdout",
       "text": [
        " 4.56419018307e+13\n",
        "79.3700525984"
       ]
      },
      {
       "output_type": "stream",
       "stream": "stdout",
       "text": [
        " 5.06509015095e+13\n",
        "79.3700525984"
       ]
      },
      {
       "output_type": "stream",
       "stream": "stdout",
       "text": [
        " 5.62096170586e+13\n",
        "79.3700525984"
       ]
      },
      {
       "output_type": "stream",
       "stream": "stdout",
       "text": [
        " 6.23783773972e+13\n",
        "79.3700525984"
       ]
      },
      {
       "output_type": "stream",
       "stream": "stdout",
       "text": [
        " 6.92241322807e+13\n",
        "79.3700525984"
       ]
      },
      {
       "output_type": "stream",
       "stream": "stdout",
       "text": [
        " 7.68211789079e+13\n",
        "79.3700525984"
       ]
      },
      {
       "output_type": "stream",
       "stream": "stdout",
       "text": [
        " 8.52519682712e+13\n",
        "79.3700525984"
       ]
      },
      {
       "output_type": "stream",
       "stream": "stdout",
       "text": [
        " 9.4608e+13\n",
        "184.687617448"
       ]
      },
      {
       "output_type": "stream",
       "stream": "stdout",
       "text": [
        " 3153600000.0\n",
        "184.687617448"
       ]
      },
      {
       "output_type": "stream",
       "stream": "stdout",
       "text": [
        " 3499693846.96\n",
        "184.687617448"
       ]
      },
      {
       "output_type": "stream",
       "stream": "stdout",
       "text": [
        " 3883769984.29\n",
        "184.687617448"
       ]
      },
      {
       "output_type": "stream",
       "stream": "stdout",
       "text": [
        " 4309996802.71\n",
        "184.687617448"
       ]
      },
      {
       "output_type": "stream",
       "stream": "stdout",
       "text": [
        " 4783000155.65\n",
        "184.687617448"
       ]
      },
      {
       "output_type": "stream",
       "stream": "stdout",
       "text": [
        " 5307913563.78\n",
        "184.687617448"
       ]
      },
      {
       "output_type": "stream",
       "stream": "stdout",
       "text": [
        " 5890433929.27\n",
        "184.687617448"
       ]
      },
      {
       "output_type": "stream",
       "stream": "stdout",
       "text": [
        " 6536883364.47\n",
        "184.687617448"
       ]
      },
      {
       "output_type": "stream",
       "stream": "stdout",
       "text": [
        " 7254277805.98\n",
        "184.687617448"
       ]
      },
      {
       "output_type": "stream",
       "stream": "stdout",
       "text": [
        " 8050403158.84\n",
        "184.687617448"
       ]
      },
      {
       "output_type": "stream",
       "stream": "stdout",
       "text": [
        " 8933899797.23\n",
        "184.687617448"
       ]
      },
      {
       "output_type": "stream",
       "stream": "stdout",
       "text": [
        " 9914356338.7\n",
        "184.687617448"
       ]
      },
      {
       "output_type": "stream",
       "stream": "stdout",
       "text": [
        " 11002413709.8\n",
        "184.687617448"
       ]
      },
      {
       "output_type": "stream",
       "stream": "stdout",
       "text": [
        " 12209880632.2\n",
        "184.687617448"
       ]
      },
      {
       "output_type": "stream",
       "stream": "stdout",
       "text": [
        " 13549861783.6\n",
        "184.687617448"
       ]
      },
      {
       "output_type": "stream",
       "stream": "stdout",
       "text": [
        " 15036900022.6\n",
        "184.687617448"
       ]
      },
      {
       "output_type": "stream",
       "stream": "stdout",
       "text": [
        " 16687134223.2\n",
        "184.687617448"
       ]
      },
      {
       "output_type": "stream",
       "stream": "stdout",
       "text": [
        " 18518474430.6\n",
        "184.687617448"
       ]
      },
      {
       "output_type": "stream",
       "stream": "stdout",
       "text": [
        " 20550796239.2\n",
        "184.687617448"
       ]
      },
      {
       "output_type": "stream",
       "stream": "stdout",
       "text": [
        " 22806156503.2\n",
        "184.687617448"
       ]
      },
      {
       "output_type": "stream",
       "stream": "stdout",
       "text": [
        " 25309032720.4\n",
        "184.687617448"
       ]
      },
      {
       "output_type": "stream",
       "stream": "stdout",
       "text": [
        " 28086588687.2\n",
        "184.687617448"
       ]
      },
      {
       "output_type": "stream",
       "stream": "stdout",
       "text": [
        " 31168969308.3\n",
        "184.687617448"
       ]
      },
      {
       "output_type": "stream",
       "stream": "stdout",
       "text": [
        " 34589627760.2\n",
        "184.687617448"
       ]
      },
      {
       "output_type": "stream",
       "stream": "stdout",
       "text": [
        " 38385688559.4\n",
        "184.687617448"
       ]
      },
      {
       "output_type": "stream",
       "stream": "stdout",
       "text": [
        " 42598350476.5\n",
        "184.687617448"
       ]
      },
      {
       "output_type": "stream",
       "stream": "stdout",
       "text": [
        " 47273333667.3\n",
        "184.687617448"
       ]
      },
      {
       "output_type": "stream",
       "stream": "stdout",
       "text": [
        " 52461375875.4\n",
        "184.687617448"
       ]
      },
      {
       "output_type": "stream",
       "stream": "stdout",
       "text": [
        " 58218783090.5\n",
        "184.687617448"
       ]
      },
      {
       "output_type": "stream",
       "stream": "stdout",
       "text": [
        " 64608040639.1\n",
        "184.687617448"
       ]
      },
      {
       "output_type": "stream",
       "stream": "stdout",
       "text": [
        " 71698491339.7\n",
        "184.687617448"
       ]
      },
      {
       "output_type": "stream",
       "stream": "stdout",
       "text": [
        " 79567088082.7\n",
        "184.687617448"
       ]
      },
      {
       "output_type": "stream",
       "stream": "stdout",
       "text": [
        " 88299229003.0\n",
        "184.687617448"
       ]
      },
      {
       "output_type": "stream",
       "stream": "stdout",
       "text": [
        " 97989684307.8\n",
        "184.687617448"
       ]
      },
      {
       "output_type": "stream",
       "stream": "stdout",
       "text": [
        " 108743624822.0\n",
        "184.687617448"
       ]
      },
      {
       "output_type": "stream",
       "stream": "stdout",
       "text": [
        " 120677763408.0\n",
        "184.687617448"
       ]
      },
      {
       "output_type": "stream",
       "stream": "stdout",
       "text": [
        " 133921621659.0\n",
        "184.687617448"
       ]
      },
      {
       "output_type": "stream",
       "stream": "stdout",
       "text": [
        " 148618935596.0\n",
        "184.687617448"
       ]
      },
      {
       "output_type": "stream",
       "stream": "stdout",
       "text": [
        " 164929215642.0\n",
        "184.687617448"
       ]
      },
      {
       "output_type": "stream",
       "stream": "stdout",
       "text": [
        " 183029477792.0\n",
        "184.687617448"
       ]
      },
      {
       "output_type": "stream",
       "stream": "stdout",
       "text": [
        " 203116164777.0\n",
        "184.687617448"
       ]
      },
      {
       "output_type": "stream",
       "stream": "stdout",
       "text": [
        " 225407278060.0\n",
        "184.687617448"
       ]
      },
      {
       "output_type": "stream",
       "stream": "stdout",
       "text": [
        " 250144743812.0\n",
        "184.687617448"
       ]
      },
      {
       "output_type": "stream",
       "stream": "stdout",
       "text": [
        " 277597038549.0\n",
        "184.687617448"
       ]
      },
      {
       "output_type": "stream",
       "stream": "stdout",
       "text": [
        " 308062102912.0\n",
        "184.687617448"
       ]
      },
      {
       "output_type": "stream",
       "stream": "stdout",
       "text": [
        " 341870575229.0\n",
        "184.687617448"
       ]
      },
      {
       "output_type": "stream",
       "stream": "stdout",
       "text": [
        " 379389379943.0\n",
        "184.687617448"
       ]
      },
      {
       "output_type": "stream",
       "stream": "stdout",
       "text": [
        " 421025709851.0\n",
        "184.687617448"
       ]
      },
      {
       "output_type": "stream",
       "stream": "stdout",
       "text": [
        " 467231445389.0\n",
        "184.687617448"
       ]
      },
      {
       "output_type": "stream",
       "stream": "stdout",
       "text": [
        " 518508058896.0\n",
        "184.687617448"
       ]
      },
      {
       "output_type": "stream",
       "stream": "stdout",
       "text": [
        " 575412057115.0\n",
        "184.687617448"
       ]
      },
      {
       "output_type": "stream",
       "stream": "stdout",
       "text": [
        " 638561020977.0\n",
        "184.687617448"
       ]
      },
      {
       "output_type": "stream",
       "stream": "stdout",
       "text": [
        " 708640308226.0\n",
        "184.687617448"
       ]
      },
      {
       "output_type": "stream",
       "stream": "stdout",
       "text": [
        " 786410491630.0\n",
        "184.687617448"
       ]
      },
      {
       "output_type": "stream",
       "stream": "stdout",
       "text": [
        " 872715613503.0\n",
        "184.687617448"
       ]
      },
      {
       "output_type": "stream",
       "stream": "stdout",
       "text": [
        " 968492346119.0\n",
        "184.687617448"
       ]
      },
      {
       "output_type": "stream",
       "stream": "stdout",
       "text": [
        " 1.07478015745e+12\n",
        "184.687617448"
       ]
      },
      {
       "output_type": "stream",
       "stream": "stdout",
       "text": [
        " 1.19273259255e+12\n",
        "184.687617448"
       ]
      },
      {
       "output_type": "stream",
       "stream": "stdout",
       "text": [
        " 1.32362979301e+12\n",
        "184.687617448"
       ]
      },
      {
       "output_type": "stream",
       "stream": "stdout",
       "text": [
        " 1.46889239036e+12\n",
        "184.687617448"
       ]
      },
      {
       "output_type": "stream",
       "stream": "stdout",
       "text": [
        " 1.63009692427e+12\n",
        "184.687617448"
       ]
      },
      {
       "output_type": "stream",
       "stream": "stdout",
       "text": [
        " 1.80899295276e+12\n",
        "184.687617448"
       ]
      },
      {
       "output_type": "stream",
       "stream": "stdout",
       "text": [
        " 2.0075220402e+12\n",
        "184.687617448"
       ]
      },
      {
       "output_type": "stream",
       "stream": "stdout",
       "text": [
        " 2.22783882918e+12\n",
        "184.687617448"
       ]
      },
      {
       "output_type": "stream",
       "stream": "stdout",
       "text": [
        " 2.47233442495e+12\n",
        "184.687617448"
       ]
      },
      {
       "output_type": "stream",
       "stream": "stdout",
       "text": [
        " 2.74366234609e+12\n",
        "184.687617448"
       ]
      },
      {
       "output_type": "stream",
       "stream": "stdout",
       "text": [
        " 3.04476732329e+12\n",
        "184.687617448"
       ]
      },
      {
       "output_type": "stream",
       "stream": "stdout",
       "text": [
        " 3.37891725861e+12\n",
        "184.687617448"
       ]
      },
      {
       "output_type": "stream",
       "stream": "stdout",
       "text": [
        " 3.74973869208e+12\n",
        "184.687617448"
       ]
      },
      {
       "output_type": "stream",
       "stream": "stdout",
       "text": [
        " 4.1612561607e+12\n",
        "184.687617448"
       ]
      },
      {
       "output_type": "stream",
       "stream": "stdout",
       "text": [
        " 4.61793587685e+12\n",
        "184.687617448"
       ]
      },
      {
       "output_type": "stream",
       "stream": "stdout",
       "text": [
        " 5.12473420023e+12\n",
        "184.687617448"
       ]
      },
      {
       "output_type": "stream",
       "stream": "stdout",
       "text": [
        " 5.68715142943e+12\n",
        "184.687617448"
       ]
      },
      {
       "output_type": "stream",
       "stream": "stdout",
       "text": [
        " 6.3112914968e+12\n",
        "184.687617448"
       ]
      },
      {
       "output_type": "stream",
       "stream": "stdout",
       "text": [
        " 7.00392821465e+12\n",
        "184.687617448"
       ]
      },
      {
       "output_type": "stream",
       "stream": "stdout",
       "text": [
        " 7.77257879166e+12\n",
        "184.687617448"
       ]
      },
      {
       "output_type": "stream",
       "stream": "stdout",
       "text": [
        " 8.62558541736e+12\n",
        "184.687617448"
       ]
      },
      {
       "output_type": "stream",
       "stream": "stdout",
       "text": [
        " 9.57220580022e+12\n",
        "184.687617448"
       ]
      },
      {
       "output_type": "stream",
       "stream": "stdout",
       "text": [
        " 1.06227136418e+13\n",
        "184.687617448"
       ]
      },
      {
       "output_type": "stream",
       "stream": "stdout",
       "text": [
        " 1.17885101377e+13\n",
        "184.687617448"
       ]
      },
      {
       "output_type": "stream",
       "stream": "stdout",
       "text": [
        " 1.30822477149e+13\n",
        "184.687617448"
       ]
      },
      {
       "output_type": "stream",
       "stream": "stdout",
       "text": [
        " 1.45179673492e+13\n",
        "184.687617448"
       ]
      },
      {
       "output_type": "stream",
       "stream": "stdout",
       "text": [
        " 1.6111250952e+13\n",
        "184.687617448"
       ]
      },
      {
       "output_type": "stream",
       "stream": "stdout",
       "text": [
        " 1.78793904819e+13\n",
        "184.687617448"
       ]
      },
      {
       "output_type": "stream",
       "stream": "stdout",
       "text": [
        " 1.98415756141e+13\n",
        "184.687617448"
       ]
      },
      {
       "output_type": "stream",
       "stream": "stdout",
       "text": [
        " 2.20191020075e+13\n",
        "184.687617448"
       ]
      },
      {
       "output_type": "stream",
       "stream": "stdout",
       "text": [
        " 2.44356024262e+13\n",
        "184.687617448"
       ]
      },
      {
       "output_type": "stream",
       "stream": "stdout",
       "text": [
        " 2.71173032273e+13\n",
        "184.687617448"
       ]
      },
      {
       "output_type": "stream",
       "stream": "stdout",
       "text": [
        " 3.00933089963e+13\n",
        "184.687617448"
       ]
      },
      {
       "output_type": "stream",
       "stream": "stdout",
       "text": [
        " 3.33959184199e+13\n",
        "184.687617448"
       ]
      },
      {
       "output_type": "stream",
       "stream": "stdout",
       "text": [
        " 3.70609748249e+13\n",
        "184.687617448"
       ]
      },
      {
       "output_type": "stream",
       "stream": "stdout",
       "text": [
        " 4.11282551868e+13\n",
        "184.687617448"
       ]
      },
      {
       "output_type": "stream",
       "stream": "stdout",
       "text": [
        " 4.56419018307e+13\n",
        "184.687617448"
       ]
      },
      {
       "output_type": "stream",
       "stream": "stdout",
       "text": [
        " 5.06509015095e+13\n",
        "184.687617448"
       ]
      },
      {
       "output_type": "stream",
       "stream": "stdout",
       "text": [
        " 5.62096170586e+13\n",
        "184.687617448"
       ]
      },
      {
       "output_type": "stream",
       "stream": "stdout",
       "text": [
        " 6.23783773972e+13\n",
        "184.687617448"
       ]
      },
      {
       "output_type": "stream",
       "stream": "stdout",
       "text": [
        " 6.92241322807e+13\n",
        "184.687617448"
       ]
      },
      {
       "output_type": "stream",
       "stream": "stdout",
       "text": [
        " 7.68211789079e+13\n",
        "184.687617448"
       ]
      },
      {
       "output_type": "stream",
       "stream": "stdout",
       "text": [
        " 8.52519682712e+13\n",
        "184.687617448"
       ]
      },
      {
       "output_type": "stream",
       "stream": "stdout",
       "text": [
        " 9.4608e+13\n",
        "429.752972588"
       ]
      },
      {
       "output_type": "stream",
       "stream": "stdout",
       "text": [
        " 3153600000.0\n",
        "429.752972588"
       ]
      },
      {
       "output_type": "stream",
       "stream": "stdout",
       "text": [
        " 3499693846.96\n",
        "429.752972588"
       ]
      },
      {
       "output_type": "stream",
       "stream": "stdout",
       "text": [
        " 3883769984.29\n",
        "429.752972588"
       ]
      },
      {
       "output_type": "stream",
       "stream": "stdout",
       "text": [
        " 4309996802.71\n",
        "429.752972588"
       ]
      },
      {
       "output_type": "stream",
       "stream": "stdout",
       "text": [
        " 4783000155.65\n",
        "429.752972588"
       ]
      },
      {
       "output_type": "stream",
       "stream": "stdout",
       "text": [
        " 5307913563.78\n",
        "429.752972588"
       ]
      },
      {
       "output_type": "stream",
       "stream": "stdout",
       "text": [
        " 5890433929.27\n",
        "429.752972588"
       ]
      },
      {
       "output_type": "stream",
       "stream": "stdout",
       "text": [
        " 6536883364.47\n",
        "429.752972588"
       ]
      },
      {
       "output_type": "stream",
       "stream": "stdout",
       "text": [
        " 7254277805.98\n",
        "429.752972588"
       ]
      },
      {
       "output_type": "stream",
       "stream": "stdout",
       "text": [
        " 8050403158.84\n",
        "429.752972588"
       ]
      },
      {
       "output_type": "stream",
       "stream": "stdout",
       "text": [
        " 8933899797.23\n",
        "429.752972588"
       ]
      },
      {
       "output_type": "stream",
       "stream": "stdout",
       "text": [
        " 9914356338.7\n",
        "429.752972588"
       ]
      },
      {
       "output_type": "stream",
       "stream": "stdout",
       "text": [
        " 11002413709.8\n",
        "429.752972588"
       ]
      },
      {
       "output_type": "stream",
       "stream": "stdout",
       "text": [
        " 12209880632.2\n",
        "429.752972588"
       ]
      },
      {
       "output_type": "stream",
       "stream": "stdout",
       "text": [
        " 13549861783.6\n",
        "429.752972588"
       ]
      },
      {
       "output_type": "stream",
       "stream": "stdout",
       "text": [
        " 15036900022.6\n",
        "429.752972588"
       ]
      },
      {
       "output_type": "stream",
       "stream": "stdout",
       "text": [
        " 16687134223.2\n",
        "429.752972588"
       ]
      },
      {
       "output_type": "stream",
       "stream": "stdout",
       "text": [
        " 18518474430.6\n",
        "429.752972588"
       ]
      },
      {
       "output_type": "stream",
       "stream": "stdout",
       "text": [
        " 20550796239.2\n",
        "429.752972588"
       ]
      },
      {
       "output_type": "stream",
       "stream": "stdout",
       "text": [
        " 22806156503.2\n",
        "429.752972588"
       ]
      },
      {
       "output_type": "stream",
       "stream": "stdout",
       "text": [
        " 25309032720.4\n",
        "429.752972588"
       ]
      },
      {
       "output_type": "stream",
       "stream": "stdout",
       "text": [
        " 28086588687.2\n",
        "429.752972588"
       ]
      },
      {
       "output_type": "stream",
       "stream": "stdout",
       "text": [
        " 31168969308.3\n",
        "429.752972588"
       ]
      },
      {
       "output_type": "stream",
       "stream": "stdout",
       "text": [
        " 34589627760.2\n",
        "429.752972588"
       ]
      },
      {
       "output_type": "stream",
       "stream": "stdout",
       "text": [
        " 38385688559.4\n",
        "429.752972588"
       ]
      },
      {
       "output_type": "stream",
       "stream": "stdout",
       "text": [
        " 42598350476.5\n",
        "429.752972588"
       ]
      },
      {
       "output_type": "stream",
       "stream": "stdout",
       "text": [
        " 47273333667.3\n",
        "429.752972588"
       ]
      },
      {
       "output_type": "stream",
       "stream": "stdout",
       "text": [
        " 52461375875.4\n",
        "429.752972588"
       ]
      },
      {
       "output_type": "stream",
       "stream": "stdout",
       "text": [
        " 58218783090.5\n",
        "429.752972588"
       ]
      },
      {
       "output_type": "stream",
       "stream": "stdout",
       "text": [
        " 64608040639.1\n",
        "429.752972588"
       ]
      },
      {
       "output_type": "stream",
       "stream": "stdout",
       "text": [
        " 71698491339.7\n",
        "429.752972588"
       ]
      },
      {
       "output_type": "stream",
       "stream": "stdout",
       "text": [
        " 79567088082.7\n",
        "429.752972588"
       ]
      },
      {
       "output_type": "stream",
       "stream": "stdout",
       "text": [
        " 88299229003.0\n",
        "429.752972588"
       ]
      },
      {
       "output_type": "stream",
       "stream": "stdout",
       "text": [
        " 97989684307.8\n",
        "429.752972588"
       ]
      },
      {
       "output_type": "stream",
       "stream": "stdout",
       "text": [
        " 108743624822.0\n",
        "429.752972588"
       ]
      },
      {
       "output_type": "stream",
       "stream": "stdout",
       "text": [
        " 120677763408.0\n",
        "429.752972588"
       ]
      },
      {
       "output_type": "stream",
       "stream": "stdout",
       "text": [
        " 133921621659.0\n",
        "429.752972588"
       ]
      },
      {
       "output_type": "stream",
       "stream": "stdout",
       "text": [
        " 148618935596.0\n",
        "429.752972588"
       ]
      },
      {
       "output_type": "stream",
       "stream": "stdout",
       "text": [
        " 164929215642.0\n",
        "429.752972588"
       ]
      },
      {
       "output_type": "stream",
       "stream": "stdout",
       "text": [
        " 183029477792.0\n",
        "429.752972588"
       ]
      },
      {
       "output_type": "stream",
       "stream": "stdout",
       "text": [
        " 203116164777.0\n",
        "429.752972588"
       ]
      },
      {
       "output_type": "stream",
       "stream": "stdout",
       "text": [
        " 225407278060.0\n",
        "429.752972588"
       ]
      },
      {
       "output_type": "stream",
       "stream": "stdout",
       "text": [
        " 250144743812.0\n",
        "429.752972588"
       ]
      },
      {
       "output_type": "stream",
       "stream": "stdout",
       "text": [
        " 277597038549.0\n",
        "429.752972588"
       ]
      },
      {
       "output_type": "stream",
       "stream": "stdout",
       "text": [
        " 308062102912.0\n",
        "429.752972588"
       ]
      },
      {
       "output_type": "stream",
       "stream": "stdout",
       "text": [
        " 341870575229.0\n",
        "429.752972588"
       ]
      },
      {
       "output_type": "stream",
       "stream": "stdout",
       "text": [
        " 379389379943.0\n",
        "429.752972588"
       ]
      },
      {
       "output_type": "stream",
       "stream": "stdout",
       "text": [
        " 421025709851.0\n",
        "429.752972588"
       ]
      },
      {
       "output_type": "stream",
       "stream": "stdout",
       "text": [
        " 467231445389.0\n",
        "429.752972588"
       ]
      },
      {
       "output_type": "stream",
       "stream": "stdout",
       "text": [
        " 518508058896.0\n",
        "429.752972588"
       ]
      },
      {
       "output_type": "stream",
       "stream": "stdout",
       "text": [
        " 575412057115.0\n",
        "429.752972588"
       ]
      },
      {
       "output_type": "stream",
       "stream": "stdout",
       "text": [
        " 638561020977.0\n",
        "429.752972588"
       ]
      },
      {
       "output_type": "stream",
       "stream": "stdout",
       "text": [
        " 708640308226.0\n",
        "429.752972588"
       ]
      },
      {
       "output_type": "stream",
       "stream": "stdout",
       "text": [
        " 786410491630.0\n",
        "429.752972588"
       ]
      },
      {
       "output_type": "stream",
       "stream": "stdout",
       "text": [
        " 872715613503.0\n",
        "429.752972588"
       ]
      },
      {
       "output_type": "stream",
       "stream": "stdout",
       "text": [
        " 968492346119.0\n",
        "429.752972588"
       ]
      },
      {
       "output_type": "stream",
       "stream": "stdout",
       "text": [
        " 1.07478015745e+12\n",
        "429.752972588"
       ]
      },
      {
       "output_type": "stream",
       "stream": "stdout",
       "text": [
        " 1.19273259255e+12\n",
        "429.752972588"
       ]
      },
      {
       "output_type": "stream",
       "stream": "stdout",
       "text": [
        " 1.32362979301e+12\n",
        "429.752972588"
       ]
      },
      {
       "output_type": "stream",
       "stream": "stdout",
       "text": [
        " 1.46889239036e+12\n",
        "429.752972588"
       ]
      },
      {
       "output_type": "stream",
       "stream": "stdout",
       "text": [
        " 1.63009692427e+12\n",
        "429.752972588"
       ]
      },
      {
       "output_type": "stream",
       "stream": "stdout",
       "text": [
        " 1.80899295276e+12\n",
        "429.752972588"
       ]
      },
      {
       "output_type": "stream",
       "stream": "stdout",
       "text": [
        " 2.0075220402e+12\n",
        "429.752972588"
       ]
      },
      {
       "output_type": "stream",
       "stream": "stdout",
       "text": [
        " 2.22783882918e+12\n",
        "429.752972588"
       ]
      },
      {
       "output_type": "stream",
       "stream": "stdout",
       "text": [
        " 2.47233442495e+12\n",
        "429.752972588"
       ]
      },
      {
       "output_type": "stream",
       "stream": "stdout",
       "text": [
        " 2.74366234609e+12\n",
        "429.752972588"
       ]
      },
      {
       "output_type": "stream",
       "stream": "stdout",
       "text": [
        " 3.04476732329e+12\n",
        "429.752972588"
       ]
      },
      {
       "output_type": "stream",
       "stream": "stdout",
       "text": [
        " 3.37891725861e+12\n",
        "429.752972588"
       ]
      },
      {
       "output_type": "stream",
       "stream": "stdout",
       "text": [
        " 3.74973869208e+12\n",
        "429.752972588"
       ]
      },
      {
       "output_type": "stream",
       "stream": "stdout",
       "text": [
        " 4.1612561607e+12\n",
        "429.752972588"
       ]
      },
      {
       "output_type": "stream",
       "stream": "stdout",
       "text": [
        " 4.61793587685e+12\n",
        "429.752972588"
       ]
      },
      {
       "output_type": "stream",
       "stream": "stdout",
       "text": [
        " 5.12473420023e+12\n",
        "429.752972588"
       ]
      },
      {
       "output_type": "stream",
       "stream": "stdout",
       "text": [
        " 5.68715142943e+12\n",
        "429.752972588"
       ]
      },
      {
       "output_type": "stream",
       "stream": "stdout",
       "text": [
        " 6.3112914968e+12\n",
        "429.752972588"
       ]
      },
      {
       "output_type": "stream",
       "stream": "stdout",
       "text": [
        " 7.00392821465e+12\n",
        "429.752972588"
       ]
      },
      {
       "output_type": "stream",
       "stream": "stdout",
       "text": [
        " 7.77257879166e+12\n",
        "429.752972588"
       ]
      },
      {
       "output_type": "stream",
       "stream": "stdout",
       "text": [
        " 8.62558541736e+12\n",
        "429.752972588"
       ]
      },
      {
       "output_type": "stream",
       "stream": "stdout",
       "text": [
        " 9.57220580022e+12\n",
        "429.752972588"
       ]
      },
      {
       "output_type": "stream",
       "stream": "stdout",
       "text": [
        " 1.06227136418e+13\n",
        "429.752972588"
       ]
      },
      {
       "output_type": "stream",
       "stream": "stdout",
       "text": [
        " 1.17885101377e+13\n",
        "429.752972588"
       ]
      },
      {
       "output_type": "stream",
       "stream": "stdout",
       "text": [
        " 1.30822477149e+13\n",
        "429.752972588"
       ]
      },
      {
       "output_type": "stream",
       "stream": "stdout",
       "text": [
        " 1.45179673492e+13\n",
        "429.752972588"
       ]
      },
      {
       "output_type": "stream",
       "stream": "stdout",
       "text": [
        " 1.6111250952e+13\n",
        "429.752972588"
       ]
      },
      {
       "output_type": "stream",
       "stream": "stdout",
       "text": [
        " 1.78793904819e+13\n",
        "429.752972588"
       ]
      },
      {
       "output_type": "stream",
       "stream": "stdout",
       "text": [
        " 1.98415756141e+13\n",
        "429.752972588"
       ]
      },
      {
       "output_type": "stream",
       "stream": "stdout",
       "text": [
        " 2.20191020075e+13\n",
        "429.752972588"
       ]
      },
      {
       "output_type": "stream",
       "stream": "stdout",
       "text": [
        " 2.44356024262e+13\n",
        "429.752972588"
       ]
      },
      {
       "output_type": "stream",
       "stream": "stdout",
       "text": [
        " 2.71173032273e+13\n",
        "429.752972588"
       ]
      },
      {
       "output_type": "stream",
       "stream": "stdout",
       "text": [
        " 3.00933089963e+13\n",
        "429.752972588"
       ]
      },
      {
       "output_type": "stream",
       "stream": "stdout",
       "text": [
        " 3.33959184199e+13\n",
        "429.752972588"
       ]
      },
      {
       "output_type": "stream",
       "stream": "stdout",
       "text": [
        " 3.70609748249e+13\n",
        "429.752972588"
       ]
      },
      {
       "output_type": "stream",
       "stream": "stdout",
       "text": [
        " 4.11282551868e+13\n",
        "429.752972588"
       ]
      },
      {
       "output_type": "stream",
       "stream": "stdout",
       "text": [
        " 4.56419018307e+13\n",
        "429.752972588"
       ]
      },
      {
       "output_type": "stream",
       "stream": "stdout",
       "text": [
        " 5.06509015095e+13\n",
        "429.752972588"
       ]
      },
      {
       "output_type": "stream",
       "stream": "stdout",
       "text": [
        " 5.62096170586e+13\n",
        "429.752972588"
       ]
      },
      {
       "output_type": "stream",
       "stream": "stdout",
       "text": [
        " 6.23783773972e+13\n",
        "429.752972588"
       ]
      },
      {
       "output_type": "stream",
       "stream": "stdout",
       "text": [
        " 6.92241322807e+13\n",
        "429.752972588"
       ]
      },
      {
       "output_type": "stream",
       "stream": "stdout",
       "text": [
        " 7.68211789079e+13\n",
        "429.752972588"
       ]
      },
      {
       "output_type": "stream",
       "stream": "stdout",
       "text": [
        " 8.52519682712e+13\n",
        "429.752972588"
       ]
      },
      {
       "output_type": "stream",
       "stream": "stdout",
       "text": [
        " 9.4608e+13\n",
        "1000.0"
       ]
      },
      {
       "output_type": "stream",
       "stream": "stdout",
       "text": [
        " 3153600000.0\n",
        "1000.0"
       ]
      },
      {
       "output_type": "stream",
       "stream": "stdout",
       "text": [
        " 3499693846.96\n",
        "1000.0"
       ]
      },
      {
       "output_type": "stream",
       "stream": "stdout",
       "text": [
        " 3883769984.29\n",
        "1000.0"
       ]
      },
      {
       "output_type": "stream",
       "stream": "stdout",
       "text": [
        " 4309996802.71\n",
        "1000.0"
       ]
      },
      {
       "output_type": "stream",
       "stream": "stdout",
       "text": [
        " 4783000155.65\n",
        "1000.0"
       ]
      },
      {
       "output_type": "stream",
       "stream": "stdout",
       "text": [
        " 5307913563.78\n",
        "1000.0"
       ]
      },
      {
       "output_type": "stream",
       "stream": "stdout",
       "text": [
        " 5890433929.27\n",
        "1000.0"
       ]
      },
      {
       "output_type": "stream",
       "stream": "stdout",
       "text": [
        " 6536883364.47\n",
        "1000.0"
       ]
      },
      {
       "output_type": "stream",
       "stream": "stdout",
       "text": [
        " 7254277805.98\n",
        "1000.0"
       ]
      },
      {
       "output_type": "stream",
       "stream": "stdout",
       "text": [
        " 8050403158.84\n",
        "1000.0"
       ]
      },
      {
       "output_type": "stream",
       "stream": "stdout",
       "text": [
        " 8933899797.23\n",
        "1000.0"
       ]
      },
      {
       "output_type": "stream",
       "stream": "stdout",
       "text": [
        " 9914356338.7\n",
        "1000.0"
       ]
      },
      {
       "output_type": "stream",
       "stream": "stdout",
       "text": [
        " 11002413709.8\n",
        "1000.0"
       ]
      },
      {
       "output_type": "stream",
       "stream": "stdout",
       "text": [
        " 12209880632.2\n",
        "1000.0"
       ]
      },
      {
       "output_type": "stream",
       "stream": "stdout",
       "text": [
        " 13549861783.6\n",
        "1000.0"
       ]
      },
      {
       "output_type": "stream",
       "stream": "stdout",
       "text": [
        " 15036900022.6\n",
        "1000.0"
       ]
      },
      {
       "output_type": "stream",
       "stream": "stdout",
       "text": [
        " 16687134223.2\n",
        "1000.0"
       ]
      },
      {
       "output_type": "stream",
       "stream": "stdout",
       "text": [
        " 18518474430.6\n",
        "1000.0"
       ]
      },
      {
       "output_type": "stream",
       "stream": "stdout",
       "text": [
        " 20550796239.2\n",
        "1000.0"
       ]
      },
      {
       "output_type": "stream",
       "stream": "stdout",
       "text": [
        " 22806156503.2\n",
        "1000.0"
       ]
      },
      {
       "output_type": "stream",
       "stream": "stdout",
       "text": [
        " 25309032720.4\n",
        "1000.0"
       ]
      },
      {
       "output_type": "stream",
       "stream": "stdout",
       "text": [
        " 28086588687.2\n",
        "1000.0"
       ]
      },
      {
       "output_type": "stream",
       "stream": "stdout",
       "text": [
        " 31168969308.3\n",
        "1000.0"
       ]
      },
      {
       "output_type": "stream",
       "stream": "stdout",
       "text": [
        " 34589627760.2\n",
        "1000.0"
       ]
      },
      {
       "output_type": "stream",
       "stream": "stdout",
       "text": [
        " 38385688559.4\n",
        "1000.0"
       ]
      },
      {
       "output_type": "stream",
       "stream": "stdout",
       "text": [
        " 42598350476.5\n",
        "1000.0"
       ]
      },
      {
       "output_type": "stream",
       "stream": "stdout",
       "text": [
        " 47273333667.3\n",
        "1000.0"
       ]
      },
      {
       "output_type": "stream",
       "stream": "stdout",
       "text": [
        " 52461375875.4\n",
        "1000.0"
       ]
      },
      {
       "output_type": "stream",
       "stream": "stdout",
       "text": [
        " 58218783090.5\n",
        "1000.0"
       ]
      },
      {
       "output_type": "stream",
       "stream": "stdout",
       "text": [
        " 64608040639.1\n",
        "1000.0"
       ]
      },
      {
       "output_type": "stream",
       "stream": "stdout",
       "text": [
        " 71698491339.7\n",
        "1000.0"
       ]
      },
      {
       "output_type": "stream",
       "stream": "stdout",
       "text": [
        " 79567088082.7\n",
        "1000.0"
       ]
      },
      {
       "output_type": "stream",
       "stream": "stdout",
       "text": [
        " 88299229003.0\n",
        "1000.0"
       ]
      },
      {
       "output_type": "stream",
       "stream": "stdout",
       "text": [
        " 97989684307.8\n",
        "1000.0"
       ]
      },
      {
       "output_type": "stream",
       "stream": "stdout",
       "text": [
        " 108743624822.0\n",
        "1000.0"
       ]
      },
      {
       "output_type": "stream",
       "stream": "stdout",
       "text": [
        " 120677763408.0\n",
        "1000.0"
       ]
      },
      {
       "output_type": "stream",
       "stream": "stdout",
       "text": [
        " 133921621659.0\n",
        "1000.0"
       ]
      },
      {
       "output_type": "stream",
       "stream": "stdout",
       "text": [
        " 148618935596.0\n",
        "1000.0"
       ]
      },
      {
       "output_type": "stream",
       "stream": "stdout",
       "text": [
        " 164929215642.0\n",
        "1000.0"
       ]
      },
      {
       "output_type": "stream",
       "stream": "stdout",
       "text": [
        " 183029477792.0\n",
        "1000.0"
       ]
      },
      {
       "output_type": "stream",
       "stream": "stdout",
       "text": [
        " 203116164777.0\n",
        "1000.0"
       ]
      },
      {
       "output_type": "stream",
       "stream": "stdout",
       "text": [
        " 225407278060.0\n",
        "1000.0"
       ]
      },
      {
       "output_type": "stream",
       "stream": "stdout",
       "text": [
        " 250144743812.0\n",
        "1000.0"
       ]
      },
      {
       "output_type": "stream",
       "stream": "stdout",
       "text": [
        " 277597038549.0\n",
        "1000.0"
       ]
      },
      {
       "output_type": "stream",
       "stream": "stdout",
       "text": [
        " 308062102912.0\n",
        "1000.0"
       ]
      },
      {
       "output_type": "stream",
       "stream": "stdout",
       "text": [
        " 341870575229.0\n",
        "1000.0"
       ]
      },
      {
       "output_type": "stream",
       "stream": "stdout",
       "text": [
        " 379389379943.0\n",
        "1000.0"
       ]
      },
      {
       "output_type": "stream",
       "stream": "stdout",
       "text": [
        " 421025709851.0\n",
        "1000.0"
       ]
      },
      {
       "output_type": "stream",
       "stream": "stdout",
       "text": [
        " 467231445389.0\n",
        "1000.0"
       ]
      },
      {
       "output_type": "stream",
       "stream": "stdout",
       "text": [
        " 518508058896.0\n",
        "1000.0"
       ]
      },
      {
       "output_type": "stream",
       "stream": "stdout",
       "text": [
        " 575412057115.0\n",
        "1000.0"
       ]
      },
      {
       "output_type": "stream",
       "stream": "stdout",
       "text": [
        " 638561020977.0\n",
        "1000.0"
       ]
      },
      {
       "output_type": "stream",
       "stream": "stdout",
       "text": [
        " 708640308226.0\n",
        "1000.0"
       ]
      },
      {
       "output_type": "stream",
       "stream": "stdout",
       "text": [
        " 786410491630.0\n",
        "1000.0"
       ]
      },
      {
       "output_type": "stream",
       "stream": "stdout",
       "text": [
        " 872715613503.0\n",
        "1000.0"
       ]
      },
      {
       "output_type": "stream",
       "stream": "stdout",
       "text": [
        " 968492346119.0\n",
        "1000.0"
       ]
      },
      {
       "output_type": "stream",
       "stream": "stdout",
       "text": [
        " 1.07478015745e+12\n",
        "1000.0"
       ]
      },
      {
       "output_type": "stream",
       "stream": "stdout",
       "text": [
        " 1.19273259255e+12\n",
        "1000.0"
       ]
      },
      {
       "output_type": "stream",
       "stream": "stdout",
       "text": [
        " 1.32362979301e+12\n",
        "1000.0"
       ]
      },
      {
       "output_type": "stream",
       "stream": "stdout",
       "text": [
        " 1.46889239036e+12\n",
        "1000.0"
       ]
      },
      {
       "output_type": "stream",
       "stream": "stdout",
       "text": [
        " 1.63009692427e+12\n",
        "1000.0"
       ]
      },
      {
       "output_type": "stream",
       "stream": "stdout",
       "text": [
        " 1.80899295276e+12\n",
        "1000.0"
       ]
      },
      {
       "output_type": "stream",
       "stream": "stdout",
       "text": [
        " 2.0075220402e+12\n",
        "1000.0"
       ]
      },
      {
       "output_type": "stream",
       "stream": "stdout",
       "text": [
        " 2.22783882918e+12\n",
        "1000.0"
       ]
      },
      {
       "output_type": "stream",
       "stream": "stdout",
       "text": [
        " 2.47233442495e+12\n",
        "1000.0"
       ]
      },
      {
       "output_type": "stream",
       "stream": "stdout",
       "text": [
        " 2.74366234609e+12\n",
        "1000.0"
       ]
      },
      {
       "output_type": "stream",
       "stream": "stdout",
       "text": [
        " 3.04476732329e+12\n",
        "1000.0"
       ]
      },
      {
       "output_type": "stream",
       "stream": "stdout",
       "text": [
        " 3.37891725861e+12\n",
        "1000.0"
       ]
      },
      {
       "output_type": "stream",
       "stream": "stdout",
       "text": [
        " 3.74973869208e+12\n",
        "1000.0"
       ]
      },
      {
       "output_type": "stream",
       "stream": "stdout",
       "text": [
        " 4.1612561607e+12\n",
        "1000.0"
       ]
      },
      {
       "output_type": "stream",
       "stream": "stdout",
       "text": [
        " 4.61793587685e+12\n",
        "1000.0"
       ]
      },
      {
       "output_type": "stream",
       "stream": "stdout",
       "text": [
        " 5.12473420023e+12\n",
        "1000.0"
       ]
      },
      {
       "output_type": "stream",
       "stream": "stdout",
       "text": [
        " 5.68715142943e+12\n",
        "1000.0"
       ]
      },
      {
       "output_type": "stream",
       "stream": "stdout",
       "text": [
        " 6.3112914968e+12\n",
        "1000.0"
       ]
      },
      {
       "output_type": "stream",
       "stream": "stdout",
       "text": [
        " 7.00392821465e+12\n",
        "1000.0"
       ]
      },
      {
       "output_type": "stream",
       "stream": "stdout",
       "text": [
        " 7.77257879166e+12\n",
        "1000.0"
       ]
      },
      {
       "output_type": "stream",
       "stream": "stdout",
       "text": [
        " 8.62558541736e+12\n",
        "1000.0"
       ]
      },
      {
       "output_type": "stream",
       "stream": "stdout",
       "text": [
        " 9.57220580022e+12\n",
        "1000.0"
       ]
      },
      {
       "output_type": "stream",
       "stream": "stdout",
       "text": [
        " 1.06227136418e+13\n",
        "1000.0"
       ]
      },
      {
       "output_type": "stream",
       "stream": "stdout",
       "text": [
        " 1.17885101377e+13\n",
        "1000.0"
       ]
      },
      {
       "output_type": "stream",
       "stream": "stdout",
       "text": [
        " 1.30822477149e+13\n",
        "1000.0"
       ]
      },
      {
       "output_type": "stream",
       "stream": "stdout",
       "text": [
        " 1.45179673492e+13\n",
        "1000.0"
       ]
      },
      {
       "output_type": "stream",
       "stream": "stdout",
       "text": [
        " 1.6111250952e+13\n",
        "1000.0"
       ]
      },
      {
       "output_type": "stream",
       "stream": "stdout",
       "text": [
        " 1.78793904819e+13\n",
        "1000.0"
       ]
      },
      {
       "output_type": "stream",
       "stream": "stdout",
       "text": [
        " 1.98415756141e+13\n",
        "1000.0"
       ]
      },
      {
       "output_type": "stream",
       "stream": "stdout",
       "text": [
        " 2.20191020075e+13\n",
        "1000.0"
       ]
      },
      {
       "output_type": "stream",
       "stream": "stdout",
       "text": [
        " 2.44356024262e+13\n",
        "1000.0"
       ]
      },
      {
       "output_type": "stream",
       "stream": "stdout",
       "text": [
        " 2.71173032273e+13\n",
        "1000.0"
       ]
      },
      {
       "output_type": "stream",
       "stream": "stdout",
       "text": [
        " 3.00933089963e+13\n",
        "1000.0"
       ]
      },
      {
       "output_type": "stream",
       "stream": "stdout",
       "text": [
        " 3.33959184199e+13\n",
        "1000.0"
       ]
      },
      {
       "output_type": "stream",
       "stream": "stdout",
       "text": [
        " 3.70609748249e+13\n",
        "1000.0"
       ]
      },
      {
       "output_type": "stream",
       "stream": "stdout",
       "text": [
        " 4.11282551868e+13\n",
        "1000.0"
       ]
      },
      {
       "output_type": "stream",
       "stream": "stdout",
       "text": [
        " 4.56419018307e+13\n",
        "1000.0"
       ]
      },
      {
       "output_type": "stream",
       "stream": "stdout",
       "text": [
        " 5.06509015095e+13\n",
        "1000.0"
       ]
      },
      {
       "output_type": "stream",
       "stream": "stdout",
       "text": [
        " 5.62096170586e+13\n",
        "1000.0"
       ]
      },
      {
       "output_type": "stream",
       "stream": "stdout",
       "text": [
        " 6.23783773972e+13\n",
        "1000.0"
       ]
      },
      {
       "output_type": "stream",
       "stream": "stdout",
       "text": [
        " 6.92241322807e+13\n",
        "1000.0"
       ]
      },
      {
       "output_type": "stream",
       "stream": "stdout",
       "text": [
        " 7.68211789079e+13\n",
        "1000.0"
       ]
      },
      {
       "output_type": "stream",
       "stream": "stdout",
       "text": [
        " 8.52519682712e+13\n",
        "1000.0"
       ]
      },
      {
       "output_type": "stream",
       "stream": "stdout",
       "text": [
        " 9.4608e+13\n"
       ]
      }
     ],
     "prompt_number": 49
    },
    {
     "cell_type": "code",
     "collapsed": false,
     "input": [
      "rnb = np.linspace(0, 256, len(s))\n",
      "\n",
      "for i in range(len(s)):\n",
      "    plt.semilogx(t / (365 * 24 * 3600), desdist[i], c = cm.rainbow(int(rnb[i])))\n",
      "plt.xlabel('t [yr]')\n",
      "plt.ylabel('Distance [AU]')\n",
      "\n"
     ],
     "language": "python",
     "metadata": {},
     "outputs": [
      {
       "metadata": {},
       "output_type": "pyout",
       "prompt_number": 59,
       "text": [
        "<matplotlib.text.Text at 0x1127ff510>"
       ]
      },
      {
       "metadata": {},
       "output_type": "display_data",
       "png": "[encoded data removed]",
       "text": [
        "<matplotlib.figure.Figure at 0x11271a7d0>"
       ]
      }
     ],
     "prompt_number": 59
    },
    {
     "cell_type": "code",
     "collapsed": false,
     "input": [
      "desdist[1, 8]/desdist[1, 9]-1"
     ],
     "language": "python",
     "metadata": {},
     "outputs": [
      {
       "metadata": {},
       "output_type": "pyout",
       "prompt_number": 32,
       "text": [
        "0.063707496867405178"
       ]
      }
     ],
     "prompt_number": 32
    },
    {
     "cell_type": "code",
     "collapsed": false,
     "input": [
      "f = open('../dat/H2O/stopping_dist_vs_time.txt', 'wb')\n",
      "for i in range(len(s)):\n",
      "    f.write('%s \\n' % str(s[i]))\n",
      "    for j in range(len(t)):\n",
      "        f.write(' %s ' % str(t[j]))\n",
      "        f.write(' %s \\n' % str(desdist[i, j]))\n",
      "f.close()"
     ],
     "language": "python",
     "metadata": {},
     "outputs": [],
     "prompt_number": 53
    },
    {
     "cell_type": "code",
     "collapsed": false,
     "input": [
      "destime = []\n",
      "\n",
      "for i in range(len(s)):\n",
      "    for j in range(len(t) - 1):\n",
      "        if abs(desdist[i, j] / desdist[i, j + 1] - 1) < 1e-5:\n",
      "            break\n",
      "            \n",
      "    destime = np.append(destime, t[j])"
     ],
     "language": "python",
     "metadata": {},
     "outputs": [],
     "prompt_number": 54
    },
    {
     "cell_type": "code",
     "collapsed": false,
     "input": [
      "destime/(365*24*3600)"
     ],
     "language": "python",
     "metadata": {},
     "outputs": [
      {
       "metadata": {},
       "output_type": "pyout",
       "prompt_number": 55,
       "text": [
        "array([  10840.6448259 ,    8802.5443477 ,    3826.66677474,\n",
        "           988.36153312,     255.27660955,     283.29210417,\n",
        "          1350.78483246,    6440.77133362,   34081.0552211 ,\n",
        "        162504.25546148])"
       ]
      }
     ],
     "prompt_number": 55
    },
    {
     "cell_type": "code",
     "collapsed": false,
     "input": [
      "desdist[2]"
     ],
     "language": "python",
     "metadata": {},
     "outputs": [
      {
       "metadata": {},
       "output_type": "pyout",
       "prompt_number": 61,
       "text": [
        "array([ 0.98773642,  0.98638356,  0.98488059,  0.98321064,  0.98135491,\n",
        "        0.97929241,  0.97699969,  0.97445058,  0.97161578,  0.96846248,\n",
        "        0.96495395,  0.96104895,  0.95670115,  0.95185841,  0.94646196,\n",
        "        0.94044543,  0.93373362,  0.92624124,  0.91787105,  0.908512  ,\n",
        "        0.89803655,  0.88629758,  0.87312435,  0.85831734,  0.8416413 ,\n",
        "        0.82281613,  0.80150403,  0.77729134,  0.74966169,  0.71795518,\n",
        "        0.68130342,  0.63852732,  0.58800504,  0.52790485,  0.46231277,\n",
        "        0.43159175,  0.43159175,  0.43159175,  0.43159175,  0.43159175,\n",
        "        0.43159175,  0.43159175,  0.43159175,  0.43159175,  0.43159175,\n",
        "        0.43159175,  0.43159175,  0.43159175,  0.43159175,  0.43159176,\n",
        "        0.43159175,  0.43159175,  0.43159175,  0.43159175,  0.43159175,\n",
        "        0.43159175,  0.43159175,  0.43159175,  0.43159176,  0.43159175,\n",
        "        0.43159175,  0.43159176,  0.43159176,  0.43159175,  0.43159175,\n",
        "        0.43159177,  0.43159176,  0.43159175,  0.43159175,  0.43159175,\n",
        "        0.43159175,  0.43159174,  0.43159174,  0.43159171,  0.43159171,\n",
        "        0.4315917 ,  0.4315917 ,  0.43159191,  0.43159189,  0.43159176,\n",
        "        0.43159176,  0.43159176,  0.43159176,  0.43159176,  0.43159176,\n",
        "        0.43159176,  0.43159176,  0.43159176,  0.43159176,  0.43159176,\n",
        "        0.43159176,  0.43159175,  0.43159175,  0.43159175,  0.43159175,\n",
        "        0.43159175,  0.43159175,  0.43159176,  0.43159177,  0.43159177])"
       ]
      }
     ],
     "prompt_number": 61
    },
    {
     "cell_type": "code",
     "collapsed": false,
     "input": [
      "plt.loglog(s, destime / (365*24*3600))\n",
      "plt.xlabel('s [cm]')\n",
      "plt.ylabel('Desorption time [yr]')"
     ],
     "language": "python",
     "metadata": {},
     "outputs": [
      {
       "metadata": {},
       "output_type": "pyout",
       "prompt_number": 60,
       "text": [
        "<matplotlib.text.Text at 0x11280d5d0>"
       ]
      },
      {
       "metadata": {},
       "output_type": "display_data",
       "png": "[encoded data removed]",
       "text": [
        "<matplotlib.figure.Figure at 0x11256b750>"
       ]
      }
     ],
     "prompt_number": 60
    },
    {
     "cell_type": "code",
     "collapsed": false,
     "input": [],
     "language": "python",
     "metadata": {},
     "outputs": []
    }
   ],
   "metadata": {}
  }
 ]
}