{
 "metadata": {
  "name": "",
  "signature": "sha256:841bda61dbc06cb91f7fe82d0a78756a2d21a92ccd770272521b618dc50c8979"
 },
 "nbformat": 3,
 "nbformat_minor": 0,
 "worksheets": [
  {
   "cells": [
    {
     "cell_type": "code",
     "collapsed": false,
     "input": [
      "import numpy as np\n",
      "from matplotlib import pyplot as plt\n",
      "import C_to_O as CO\n",
      "from T_freeze import T_freeze, Rdes, tevap\n",
      "\n",
      "from C_to_O import T_freeze_H20, T_freeze_CO2, T_freeze_CO\n",
      "\n",
      "\n",
      "import matplotlib.cm as cm\n",
      "\n",
      "#from drift_timescales import tr, Tdisk, ts, lambdamfp, cdisk, tdes, rf, r_freeze, \\\n",
      "#        read_drag_file, read_drag_file_many, r_stop, Mdot_solids, Mdot_gas, dMgas_dt, dMsol_dt#, rdot\n",
      "from drift_timescales_varying_sigma import dMdot, Mgas_dt, Msol_dt, Sigmadisk_act, vacc_act, rdot_gas\n",
      "from drift_timescales_varying_sigma_3 import dMdot as dMdott, Mdot_solids as Mdot_solids_t, dMgas_dt as dMgas_dt_t, \\\n",
      "        dMsol_dt as dMsol_dt_t, Sigmap_act, vacc_act as vacc_old\n",
      "from drift_timescales_Til_parameters_ring_check import vacc_act as vacc_Til, Sigmap_act as Sigmap_2\n",
      "from drift_timescales_updated_sigmap import Sigmadisk, Tdisk as Tdisk_new, vacc_act as vacc_new, Sigmap_act as Sigmap_new, \\\n",
      "        rdot_with_acc, rdot, tr, rf\n",
      "    \n",
      "from scipy.optimize import brentq\n",
      "from utils.constants import cmperau, AU, Rsun, Msun\n",
      "from matplotlib import animation\n",
      "from IPython.display import HTML\n",
      "from IPython import display\n",
      "import JSAnimation\n",
      "from JSAnimation.JSAnimation import IPython_display"
     ],
     "language": "python",
     "metadata": {},
     "outputs": [],
     "prompt_number": 1
    },
    {
     "cell_type": "code",
     "collapsed": false,
     "input": [
      "nt = 20\n",
      "nr = 5000 \n",
      "\n",
      "Tstar = 4300.\n",
      "Rstar = 2.5 * Rsun\n",
      "Mdisk = 0.1 * Msun\n",
      "alpha = 0.001\n",
      "\n",
      "r = np.logspace(-1, 4, nr)"
     ],
     "language": "python",
     "metadata": {},
     "outputs": [],
     "prompt_number": 2
    },
    {
     "cell_type": "code",
     "collapsed": false,
     "input": [
      "r = np.logspace(-1, 4, nr)\n",
      "t = np.linspace(0, 3e6 * 365 * 24 * 3600, nt)\n",
      "dt = t[1] - t[0]\n",
      "\n",
      "sigarray = np.ndarray(shape = (len(r), len(t)), dtype = float)\n",
      "sigarray_new = np.ndarray(shape = (len(r), len(t)), dtype = float)\n",
      "sigarray_new_1 = np.ndarray(shape = (len(r), len(t)), dtype = float)\n",
      "\n",
      "for i in range(len(r)):\n",
      "    for j in range(len(t)):\n",
      "        sigarray[i, j] = Sigmadisk_act(r[i], t[j], alpha, r1 = 100 * AU)\n",
      "        sigarray_new[i, j] = Sigmadisk(r[i], t[j], alpha, Mdisk, 100 * AU)\n",
      "        sigarray_new_1[i, j] = Sigmadisk(r[i], t[j], alpha, Mdisk, 100 * AU, gammadflag = 1)\n",
      "        \n",
      "        \n",
      "#for j in range(len(t)):\n",
      "#    temp = Sigmap_act(r[0], r[-1], nr, t[j], dt, 100., 0.01)\n",
      "#    for i in range(len(r)):\n",
      "#        sigparray[i, j] = temp[i]"
     ],
     "language": "python",
     "metadata": {},
     "outputs": [],
     "prompt_number": 3
    },
    {
     "cell_type": "code",
     "collapsed": false,
     "input": [
      "import time\n",
      "from IPython import display\n",
      "for i in range(nt):\n",
      "    plt.loglog(r, sigarray[:, i])\n",
      "    plt.loglog(r, sigarray_new[:, i])\n",
      "    plt.loglog(r, sigarray_new_1[:, i])\n",
      "    #plt.loglog(r[:-1], -array1[:, i, 2], '--b')\n",
      "    #plt.title('s=0.001 cm')\n",
      "    plt.xlabel('a [AU]')\n",
      "    plt.ylabel(r'$\\Sigma_{\\rm d}$ [g cm$^{-2}$]')\n",
      "    plt.ylim(ymin = 1, ymax = 5e4)\n",
      "    plt.xlim(xmax = 100)\n",
      "    display.clear_output(wait=True)\n",
      "    #plt.savefig('../figs/Sigma_disk_profiles/sigmad_vs_a_t_' + str(i) + '_.pdf')\n",
      "    plt.show()\n",
      "    display.display(plt.gcf())\n",
      "    time.sleep(0.00001)"
     ],
     "language": "python",
     "metadata": {},
     "outputs": [
      {
       "metadata": {},
       "output_type": "display_data",
       "png": "[encoded data removed]",
       "text": [
        "<matplotlib.figure.Figure at 0x10de1d8d0>"
       ]
      },
      {
       "metadata": {},
       "output_type": "display_data",
       "text": [
        "<matplotlib.figure.Figure at 0x10da18b90>"
       ]
      },
      {
       "metadata": {},
       "output_type": "display_data",
       "text": [
        "<matplotlib.figure.Figure at 0x10da18b90>"
       ]
      }
     ],
     "prompt_number": 68
    },
    {
     "cell_type": "code",
     "collapsed": false,
     "input": [
      "Td, Td_new, Td_new_noconst = [], [], []\n",
      "\n",
      "for i in range(len(r)):\n",
      "    Td = np.append(Td, Tdisk(r[i]))\n",
      "    Td_new = np.append(Td_new, Tdisk_new(r[i], Tstar, Rstar))\n",
      "    Td_new_noconst = np.append(Td_new_noconst, Tdisk_new(r[i], Tstar, Rstar, const = 0))"
     ],
     "language": "python",
     "metadata": {},
     "outputs": [],
     "prompt_number": 61
    },
    {
     "cell_type": "code",
     "collapsed": false,
     "input": [
      "plt.loglog(r, Td)\n",
      "plt.semilogx(r, Td_new)\n",
      "plt.semilogx(r, Td_new_noconst)\n",
      "#plt.xlim(xmax = 100)"
     ],
     "language": "python",
     "metadata": {},
     "outputs": [
      {
       "metadata": {},
       "output_type": "pyout",
       "prompt_number": 62,
       "text": [
        "[<matplotlib.lines.Line2D at 0x10d2229d0>]"
       ]
      },
      {
       "metadata": {},
       "output_type": "display_data",
       "png": "[encoded data removed]",
       "text": [
        "<matplotlib.figure.Figure at 0x10da12810>"
       ]
      }
     ],
     "prompt_number": 62
    },
    {
     "cell_type": "code",
     "collapsed": false,
     "input": [
      "v_Til = []\n",
      "\n",
      "for i in range(len(r)):\n",
      "    v_Til = np.append(v_Til, vacc_Til(r[i], alpha, Tstar, Rstar, Mstar = Msun, mu = 2.35))\n",
      "    \n",
      "v_old = np.ndarray(shape = (len(r), len(t)), dtype = float)\n",
      "v_new = np.ndarray(shape = (len(r), len(t)), dtype = float)\n",
      "\n",
      "for i in range(len(r)):\n",
      "    for j in range(len(t)):\n",
      "        v_old[i, j] = vacc_old(r[i], t[j], alpha)\n",
      "        v_new[i, j] = vacc_new(r[i], t[j], alpha, mu = 2.35, T0 = 120, betaT = 3./7, rc = 100 * AU, gammadflag = 0)"
     ],
     "language": "python",
     "metadata": {},
     "outputs": [],
     "prompt_number": 6
    },
    {
     "cell_type": "code",
     "collapsed": false,
     "input": [
      "import time\n",
      "from IPython import display\n",
      "for i in range(nt):\n",
      "    plt.semilogx(r, -v_Til)\n",
      "    plt.semilogx(r, -v_old[:, i])\n",
      "    plt.semilogx(r, v_old[:, i], '--g')\n",
      "    plt.semilogx(r, -v_new[:, i])\n",
      "    plt.semilogx(r, v_new[:, i], '--r')\n",
      "    #plt.loglog(r, sigarray_new_1[:, i])\n",
      "    #plt.loglog(r[:-1], -array1[:, i, 2], '--b')\n",
      "    #plt.title('s=0.001 cm')\n",
      "    plt.xlabel('a [AU]')\n",
      "    #plt.ylabel(r'$\\Sigma_{\\rm d}$ [g cm$^{-2}$]')\n",
      "    #plt.ylim(ymin = 1, ymax = 5e4)\n",
      "    plt.xlim(xmax = 100)\n",
      "    plt.ylim(0, 20)\n",
      "    display.clear_output(wait=True)\n",
      "    #plt.savefig('../figs/Sigma_disk_profiles/sigmad_vs_a_t_' + str(i) + '_.pdf')\n",
      "    plt.show()\n",
      "    display.display(plt.gcf())\n",
      "    time.sleep(0.00001)"
     ],
     "language": "python",
     "metadata": {},
     "outputs": [
      {
       "metadata": {},
       "output_type": "display_data",
       "png": "[encoded data removed]",
       "text": [
        "<matplotlib.figure.Figure at 0x10cba8290>"
       ]
      },
      {
       "metadata": {},
       "output_type": "display_data",
       "text": [
        "<matplotlib.figure.Figure at 0x10b4c9e50>"
       ]
      },
      {
       "metadata": {},
       "output_type": "display_data",
       "text": [
        "<matplotlib.figure.Figure at 0x10b4c9e50>"
       ]
      }
     ],
     "prompt_number": 7
    },
    {
     "cell_type": "code",
     "collapsed": false,
     "input": [
      "nt = 20\n",
      "nr = 50\n",
      "\n",
      "Tstar = 4300.\n",
      "Rstar = 2.5 * Rsun\n",
      "rc = 60 * AU\n",
      "Mdisk = 0.1 * Msun\n",
      "s = 1e-3\n",
      "alpha = 1e-2\n",
      "\n",
      "r = logspace(np.log10(0.05),np.log10(4e3),nr)\n",
      "t = np.linspace(1e4,3e6,nt)*365*24*3600\n",
      "dt = t[1] - t[0]\n",
      "\n",
      "sigarray_new = np.ndarray(shape = (len(r), len(t)), dtype = float)\n",
      "#rdotv = np.ndarray(shape = (len(r), len(t)), dtype = float)\n",
      "\n",
      "\n",
      "for i in range(len(r)):\n",
      "    for j in range(len(t)):\n",
      "        sigarray_new[i, j] = Sigmadisk(r[i], t[j], alpha, Mdisk, rc, gammadflag = 0)\n",
      "        #rdotv[i, j] = rdot_with_acc(r[i], t[j], s, alpha, 1e-3, Mdisk, rhos = 1.6, mu = 2.3)\n",
      "\n",
      "\n",
      "#sigparray = Sigmap_2(r[0], r[-1], nr, t[0], t[-1], nt, s, alpha, Mdisk, Rstar, Tstar, rc, rhos = 1.6, mu= 2.3,  Mstar = Msun, sigma = 2 * 10**(-15), dusttogas = 0.01)\n",
      "sigparray_new = Sigmap_new(r[0], r[-1], nr, t[0], t[-1], nt, s, alpha, Mdisk, rc, rhos = 1.6, mu = 2.3, gammadflag = 0)\n",
      "#sigparray_new_nodt = Sigmap_new(r[0], r[-1], nr, t[0], t[-1], nt, s, alpha, Mdisk, rc, rhos = 1.6, mu = 2.3, gammadflag = 0, sigmad_dt = 0)\n"
     ],
     "language": "python",
     "metadata": {},
     "outputs": [],
     "prompt_number": 24
    },
    {
     "cell_type": "code",
     "collapsed": false,
     "input": [
      "import time\n",
      "from IPython import display\n",
      "for i in range(nt):\n",
      "    #plt.loglog(r, sigarray[:, i])\n",
      "    plt.loglog(r, sigarray_new[:, i])\n",
      "    #plt.loglog(r, sigparray[:, i], label = 'Ana')\n",
      "    plt.loglog(r, sigparray_new[:,i], label = 'Ana new')\n",
      "    #plt.loglog(r, sigparray_new_nodt[:,i])\n",
      "    #plt.loglog(r, sigparray[:,i])\n",
      "    #plt.loglog(r[:-1], -array1[:, i, 2], '--b')\n",
      "    #plt.title('s=0.001 cm')\n",
      "    plt.xlabel('a [AU]')\n",
      "    plt.ylabel(r'$\\Sigma_{\\rm d}$ [g cm$^{-2}$]')\n",
      "    plt.title(str(t[i] / (365*24*3600)))\n",
      "    plt.ylim(2e-5, 2e5)\n",
      "    plt.xlim(0.5,100)\n",
      "    plt.legend()\n",
      "    display.clear_output(wait=True)\n",
      "    #plt.savefig('../figs/Sigma_disk_profiles_Ana_Til_parameters/' +str(s) +'/sigmad_vs_a_t_' + str(i) + '_.pdf')\n",
      "    plt.show()\n",
      "    display.display(plt.gcf())\n",
      "    time.sleep(0.00001)"
     ],
     "language": "python",
     "metadata": {},
     "outputs": [
      {
       "metadata": {},
       "output_type": "display_data",
       "png": "[encoded data removed]",
       "text": [
        "<matplotlib.figure.Figure at 0x10cb0af10>"
       ]
      },
      {
       "metadata": {},
       "output_type": "display_data",
       "text": [
        "<matplotlib.figure.Figure at 0x10cb982d0>"
       ]
      },
      {
       "metadata": {},
       "output_type": "display_data",
       "text": [
        "<matplotlib.figure.Figure at 0x10cb982d0>"
       ]
      }
     ],
     "prompt_number": 4
    },
    {
     "cell_type": "code",
     "collapsed": false,
     "input": [
      "s=1.0\n",
      "nt = 5000\n",
      "nr = 1000\n",
      "alpha=0.01\n",
      "\n",
      "r = logspace(np.log10(0.05),np.log10(4e3),nr)\n",
      "t = np.linspace(1e4,3e6,nt)*365*24*3600\n",
      "dt = t[1] - t[0]\n",
      "\n",
      "#f=open('advection_from_Til/data_' + str(s)+ '_gaussian/sigma_d.dat', 'r')\n",
      "\n",
      "sigparray_Til = np.ndarray(shape = (nt, nr), dtype = float)\n",
      "sigparray_Til_var_dt = np.ndarray(shape = (nt, nr), dtype = float)\n",
      "\n",
      "#for j in range(nt):\n",
      "#    line = f.readline().split()\n",
      "#    for i in range(nr):\n",
      "#        sigparray_Til[j ,i] = float(line[i])\n",
      "        \n",
      "#f.close()\n",
      "\n",
      "#f=open('advection_from_Til/data_' + str(s)+ '_gaussian_var_dt/sigma_d.dat', 'r')\n",
      "\n",
      "#for j in range(nt):\n",
      "#    line = f.readline().split()\n",
      "#    for i in range(nr):\n",
      "#        sigparray_Til_var_dt[j ,i] = float(line[i])\n",
      "        \n",
      "#f.close()\n",
      "\n",
      "sigparray = Sigmap_2(r[0], r[-1], nr, t[0], t[-1], nt, s, alpha, Mdisk, Rstar, Tstar, 100*AU, rhos = 1.6, mu= 2.3,  Mstar = Msun, sigma = 2 * 10**(-15), dusttogas = 0.01)"
     ],
     "language": "python",
     "metadata": {},
     "outputs": [],
     "prompt_number": 10
    },
    {
     "cell_type": "code",
     "collapsed": false,
     "input": [
      "import time\n",
      "from IPython import display\n",
      "for i in range(nt):\n",
      "    #plt.loglog(r, sigarray[:, i])\n",
      "    plt.loglog(r, sigparray[:, i], label = 'Ana')\n",
      "    #plt.loglog(r, sigparray_Til[i], label = 'Til')\n",
      "    #plt.loglog(r, sigparray_Til_var_dt[i], label = 'Til variable timestep')\n",
      "    #plt.loglog(r[:-1], -array1[:, i, 2], '--b')\n",
      "    #plt.title('s=0.001 cm')\n",
      "    plt.xlabel('a [AU]')\n",
      "    plt.ylabel(r'$\\Sigma_{\\rm d}$ [g cm$^{-2}$]')\n",
      "    plt.title(str(t[i] / (365*24*3600)))\n",
      "    plt.ylim(2e-8, 2e5)\n",
      "    plt.xlim(0.5,500)\n",
      "    plt.legend()\n",
      "    display.clear_output(wait=True)\n",
      "    plt.savefig('../figs/Sigma_disk_profiles_ring_check/' +str(s) +'/sigmad_vs_a_t_delta' + str(i) + '_.pdf')\n",
      "    plt.show()\n",
      "    display.display(plt.gcf())\n",
      "    time.sleep(0.00001)"
     ],
     "language": "python",
     "metadata": {},
     "outputs": [
      {
       "ename": "KeyboardInterrupt",
       "evalue": "",
       "output_type": "pyerr",
       "traceback": [
        "\u001b[0;31m---------------------------------------------------------------------------\u001b[0m\n\u001b[0;31mKeyboardInterrupt\u001b[0m                         Traceback (most recent call last)",
        "\u001b[0;32m<ipython-input-11-76ae8e2b35aa>\u001b[0m in \u001b[0;36m<module>\u001b[0;34m()\u001b[0m\n\u001b[1;32m     15\u001b[0m     \u001b[0mplt\u001b[0m\u001b[0;34m.\u001b[0m\u001b[0mlegend\u001b[0m\u001b[0;34m(\u001b[0m\u001b[0;34m)\u001b[0m\u001b[0;34m\u001b[0m\u001b[0m\n\u001b[1;32m     16\u001b[0m     \u001b[0mdisplay\u001b[0m\u001b[0;34m.\u001b[0m\u001b[0mclear_output\u001b[0m\u001b[0;34m(\u001b[0m\u001b[0mwait\u001b[0m\u001b[0;34m=\u001b[0m\u001b[0mTrue\u001b[0m\u001b[0;34m)\u001b[0m\u001b[0;34m\u001b[0m\u001b[0m\n\u001b[0;32m---> 17\u001b[0;31m     \u001b[0mplt\u001b[0m\u001b[0;34m.\u001b[0m\u001b[0msavefig\u001b[0m\u001b[0;34m(\u001b[0m\u001b[0;34m'../figs/Sigma_disk_profiles_ring_check/'\u001b[0m \u001b[0;34m+\u001b[0m\u001b[0mstr\u001b[0m\u001b[0;34m(\u001b[0m\u001b[0ms\u001b[0m\u001b[0;34m)\u001b[0m \u001b[0;34m+\u001b[0m\u001b[0;34m'/sigmad_vs_a_t_delta'\u001b[0m \u001b[0;34m+\u001b[0m \u001b[0mstr\u001b[0m\u001b[0;34m(\u001b[0m\u001b[0mi\u001b[0m\u001b[0;34m)\u001b[0m \u001b[0;34m+\u001b[0m \u001b[0;34m'_.pdf'\u001b[0m\u001b[0;34m)\u001b[0m\u001b[0;34m\u001b[0m\u001b[0m\n\u001b[0m\u001b[1;32m     18\u001b[0m     \u001b[0mplt\u001b[0m\u001b[0;34m.\u001b[0m\u001b[0mshow\u001b[0m\u001b[0;34m(\u001b[0m\u001b[0;34m)\u001b[0m\u001b[0;34m\u001b[0m\u001b[0m\n\u001b[1;32m     19\u001b[0m     \u001b[0mdisplay\u001b[0m\u001b[0;34m.\u001b[0m\u001b[0mdisplay\u001b[0m\u001b[0;34m(\u001b[0m\u001b[0mplt\u001b[0m\u001b[0;34m.\u001b[0m\u001b[0mgcf\u001b[0m\u001b[0;34m(\u001b[0m\u001b[0;34m)\u001b[0m\u001b[0;34m)\u001b[0m\u001b[0;34m\u001b[0m\u001b[0m\n",
        "\u001b[0;32m/Users/ana-mariapiso/Library/Enthought/Canopy_64bit/User/lib/python2.7/site-packages/matplotlib/pyplot.pyc\u001b[0m in \u001b[0;36msavefig\u001b[0;34m(*args, **kwargs)\u001b[0m\n\u001b[1;32m    559\u001b[0m \u001b[0;32mdef\u001b[0m \u001b[0msavefig\u001b[0m\u001b[0;34m(\u001b[0m\u001b[0;34m*\u001b[0m\u001b[0margs\u001b[0m\u001b[0;34m,\u001b[0m \u001b[0;34m**\u001b[0m\u001b[0mkwargs\u001b[0m\u001b[0;34m)\u001b[0m\u001b[0;34m:\u001b[0m\u001b[0;34m\u001b[0m\u001b[0m\n\u001b[1;32m    560\u001b[0m     \u001b[0mfig\u001b[0m \u001b[0;34m=\u001b[0m \u001b[0mgcf\u001b[0m\u001b[0;34m(\u001b[0m\u001b[0;34m)\u001b[0m\u001b[0;34m\u001b[0m\u001b[0m\n\u001b[0;32m--> 561\u001b[0;31m     \u001b[0;32mreturn\u001b[0m \u001b[0mfig\u001b[0m\u001b[0;34m.\u001b[0m\u001b[0msavefig\u001b[0m\u001b[0;34m(\u001b[0m\u001b[0;34m*\u001b[0m\u001b[0margs\u001b[0m\u001b[0;34m,\u001b[0m \u001b[0;34m**\u001b[0m\u001b[0mkwargs\u001b[0m\u001b[0;34m)\u001b[0m\u001b[0;34m\u001b[0m\u001b[0m\n\u001b[0m\u001b[1;32m    562\u001b[0m \u001b[0;34m\u001b[0m\u001b[0m\n\u001b[1;32m    563\u001b[0m \u001b[0;34m\u001b[0m\u001b[0m\n",
        "\u001b[0;32m/Users/ana-mariapiso/Library/Enthought/Canopy_64bit/User/lib/python2.7/site-packages/matplotlib/figure.pyc\u001b[0m in \u001b[0;36msavefig\u001b[0;34m(self, *args, **kwargs)\u001b[0m\n\u001b[1;32m   1419\u001b[0m             \u001b[0mself\u001b[0m\u001b[0;34m.\u001b[0m\u001b[0mset_frameon\u001b[0m\u001b[0;34m(\u001b[0m\u001b[0mframeon\u001b[0m\u001b[0;34m)\u001b[0m\u001b[0;34m\u001b[0m\u001b[0m\n\u001b[1;32m   1420\u001b[0m \u001b[0;34m\u001b[0m\u001b[0m\n\u001b[0;32m-> 1421\u001b[0;31m         \u001b[0mself\u001b[0m\u001b[0;34m.\u001b[0m\u001b[0mcanvas\u001b[0m\u001b[0;34m.\u001b[0m\u001b[0mprint_figure\u001b[0m\u001b[0;34m(\u001b[0m\u001b[0;34m*\u001b[0m\u001b[0margs\u001b[0m\u001b[0;34m,\u001b[0m \u001b[0;34m**\u001b[0m\u001b[0mkwargs\u001b[0m\u001b[0;34m)\u001b[0m\u001b[0;34m\u001b[0m\u001b[0m\n\u001b[0m\u001b[1;32m   1422\u001b[0m \u001b[0;34m\u001b[0m\u001b[0m\n\u001b[1;32m   1423\u001b[0m         \u001b[0;32mif\u001b[0m \u001b[0mframeon\u001b[0m\u001b[0;34m:\u001b[0m\u001b[0;34m\u001b[0m\u001b[0m\n",
        "\u001b[0;32m/Users/ana-mariapiso/Library/Enthought/Canopy_64bit/User/lib/python2.7/site-packages/matplotlib/backend_bases.pyc\u001b[0m in \u001b[0;36mprint_figure\u001b[0;34m(self, filename, dpi, facecolor, edgecolor, orientation, format, **kwargs)\u001b[0m\n\u001b[1;32m   2218\u001b[0m                 \u001b[0morientation\u001b[0m\u001b[0;34m=\u001b[0m\u001b[0morientation\u001b[0m\u001b[0;34m,\u001b[0m\u001b[0;34m\u001b[0m\u001b[0m\n\u001b[1;32m   2219\u001b[0m                 \u001b[0mbbox_inches_restore\u001b[0m\u001b[0;34m=\u001b[0m\u001b[0m_bbox_inches_restore\u001b[0m\u001b[0;34m,\u001b[0m\u001b[0;34m\u001b[0m\u001b[0m\n\u001b[0;32m-> 2220\u001b[0;31m                 **kwargs)\n\u001b[0m\u001b[1;32m   2221\u001b[0m         \u001b[0;32mfinally\u001b[0m\u001b[0;34m:\u001b[0m\u001b[0;34m\u001b[0m\u001b[0m\n\u001b[1;32m   2222\u001b[0m             \u001b[0;32mif\u001b[0m \u001b[0mbbox_inches\u001b[0m \u001b[0;32mand\u001b[0m \u001b[0mrestore_bbox\u001b[0m\u001b[0;34m:\u001b[0m\u001b[0;34m\u001b[0m\u001b[0m\n",
        "\u001b[0;32m/Users/ana-mariapiso/Library/Enthought/Canopy_64bit/User/lib/python2.7/site-packages/matplotlib/backend_bases.pyc\u001b[0m in \u001b[0;36mprint_pdf\u001b[0;34m(self, *args, **kwargs)\u001b[0m\n\u001b[1;32m   1950\u001b[0m         \u001b[0;32mfrom\u001b[0m \u001b[0mbackends\u001b[0m\u001b[0;34m.\u001b[0m\u001b[0mbackend_pdf\u001b[0m \u001b[0;32mimport\u001b[0m \u001b[0mFigureCanvasPdf\u001b[0m  \u001b[0;31m# lazy import\u001b[0m\u001b[0;34m\u001b[0m\u001b[0m\n\u001b[1;32m   1951\u001b[0m         \u001b[0mpdf\u001b[0m \u001b[0;34m=\u001b[0m \u001b[0mself\u001b[0m\u001b[0;34m.\u001b[0m\u001b[0mswitch_backends\u001b[0m\u001b[0;34m(\u001b[0m\u001b[0mFigureCanvasPdf\u001b[0m\u001b[0;34m)\u001b[0m\u001b[0;34m\u001b[0m\u001b[0m\n\u001b[0;32m-> 1952\u001b[0;31m         \u001b[0;32mreturn\u001b[0m \u001b[0mpdf\u001b[0m\u001b[0;34m.\u001b[0m\u001b[0mprint_pdf\u001b[0m\u001b[0;34m(\u001b[0m\u001b[0;34m*\u001b[0m\u001b[0margs\u001b[0m\u001b[0;34m,\u001b[0m \u001b[0;34m**\u001b[0m\u001b[0mkwargs\u001b[0m\u001b[0;34m)\u001b[0m\u001b[0;34m\u001b[0m\u001b[0m\n\u001b[0m\u001b[1;32m   1953\u001b[0m \u001b[0;34m\u001b[0m\u001b[0m\n\u001b[1;32m   1954\u001b[0m     \u001b[0;32mdef\u001b[0m \u001b[0mprint_pgf\u001b[0m\u001b[0;34m(\u001b[0m\u001b[0mself\u001b[0m\u001b[0;34m,\u001b[0m \u001b[0;34m*\u001b[0m\u001b[0margs\u001b[0m\u001b[0;34m,\u001b[0m \u001b[0;34m**\u001b[0m\u001b[0mkwargs\u001b[0m\u001b[0;34m)\u001b[0m\u001b[0;34m:\u001b[0m\u001b[0;34m\u001b[0m\u001b[0m\n",
        "\u001b[0;32m/Users/ana-mariapiso/Library/Enthought/Canopy_64bit/User/lib/python2.7/site-packages/matplotlib/backends/backend_pdf.pyc\u001b[0m in \u001b[0;36mprint_pdf\u001b[0;34m(self, filename, **kwargs)\u001b[0m\n\u001b[1;32m   2338\u001b[0m                                          \u001b[0mwidth\u001b[0m\u001b[0;34m,\u001b[0m \u001b[0mheight\u001b[0m\u001b[0;34m,\u001b[0m \u001b[0mimage_dpi\u001b[0m\u001b[0;34m,\u001b[0m \u001b[0mRendererPdf\u001b[0m\u001b[0;34m(\u001b[0m\u001b[0mfile\u001b[0m\u001b[0;34m,\u001b[0m \u001b[0mimage_dpi\u001b[0m\u001b[0;34m)\u001b[0m\u001b[0;34m,\u001b[0m\u001b[0;34m\u001b[0m\u001b[0m\n\u001b[1;32m   2339\u001b[0m                                          bbox_inches_restore=_bbox_inches_restore)\n\u001b[0;32m-> 2340\u001b[0;31m             \u001b[0mself\u001b[0m\u001b[0;34m.\u001b[0m\u001b[0mfigure\u001b[0m\u001b[0;34m.\u001b[0m\u001b[0mdraw\u001b[0m\u001b[0;34m(\u001b[0m\u001b[0mrenderer\u001b[0m\u001b[0;34m)\u001b[0m\u001b[0;34m\u001b[0m\u001b[0m\n\u001b[0m\u001b[1;32m   2341\u001b[0m             \u001b[0mrenderer\u001b[0m\u001b[0;34m.\u001b[0m\u001b[0mfinalize\u001b[0m\u001b[0;34m(\u001b[0m\u001b[0;34m)\u001b[0m\u001b[0;34m\u001b[0m\u001b[0m\n\u001b[1;32m   2342\u001b[0m         \u001b[0;32mfinally\u001b[0m\u001b[0;34m:\u001b[0m\u001b[0;34m\u001b[0m\u001b[0m\n",
        "\u001b[0;32m/Users/ana-mariapiso/Library/Enthought/Canopy_64bit/User/lib/python2.7/site-packages/matplotlib/artist.pyc\u001b[0m in \u001b[0;36mdraw_wrapper\u001b[0;34m(artist, renderer, *args, **kwargs)\u001b[0m\n\u001b[1;32m     52\u001b[0m     \u001b[0;32mdef\u001b[0m \u001b[0mdraw_wrapper\u001b[0m\u001b[0;34m(\u001b[0m\u001b[0martist\u001b[0m\u001b[0;34m,\u001b[0m \u001b[0mrenderer\u001b[0m\u001b[0;34m,\u001b[0m \u001b[0;34m*\u001b[0m\u001b[0margs\u001b[0m\u001b[0;34m,\u001b[0m \u001b[0;34m**\u001b[0m\u001b[0mkwargs\u001b[0m\u001b[0;34m)\u001b[0m\u001b[0;34m:\u001b[0m\u001b[0;34m\u001b[0m\u001b[0m\n\u001b[1;32m     53\u001b[0m         \u001b[0mbefore\u001b[0m\u001b[0;34m(\u001b[0m\u001b[0martist\u001b[0m\u001b[0;34m,\u001b[0m \u001b[0mrenderer\u001b[0m\u001b[0;34m)\u001b[0m\u001b[0;34m\u001b[0m\u001b[0m\n\u001b[0;32m---> 54\u001b[0;31m         \u001b[0mdraw\u001b[0m\u001b[0;34m(\u001b[0m\u001b[0martist\u001b[0m\u001b[0;34m,\u001b[0m \u001b[0mrenderer\u001b[0m\u001b[0;34m,\u001b[0m \u001b[0;34m*\u001b[0m\u001b[0margs\u001b[0m\u001b[0;34m,\u001b[0m \u001b[0;34m**\u001b[0m\u001b[0mkwargs\u001b[0m\u001b[0;34m)\u001b[0m\u001b[0;34m\u001b[0m\u001b[0m\n\u001b[0m\u001b[1;32m     55\u001b[0m         \u001b[0mafter\u001b[0m\u001b[0;34m(\u001b[0m\u001b[0martist\u001b[0m\u001b[0;34m,\u001b[0m \u001b[0mrenderer\u001b[0m\u001b[0;34m)\u001b[0m\u001b[0;34m\u001b[0m\u001b[0m\n\u001b[1;32m     56\u001b[0m \u001b[0;34m\u001b[0m\u001b[0m\n",
        "\u001b[0;32m/Users/ana-mariapiso/Library/Enthought/Canopy_64bit/User/lib/python2.7/site-packages/matplotlib/figure.pyc\u001b[0m in \u001b[0;36mdraw\u001b[0;34m(self, renderer)\u001b[0m\n\u001b[1;32m   1032\u001b[0m         \u001b[0mdsu\u001b[0m\u001b[0;34m.\u001b[0m\u001b[0msort\u001b[0m\u001b[0;34m(\u001b[0m\u001b[0mkey\u001b[0m\u001b[0;34m=\u001b[0m\u001b[0mitemgetter\u001b[0m\u001b[0;34m(\u001b[0m\u001b[0;36m0\u001b[0m\u001b[0;34m)\u001b[0m\u001b[0;34m)\u001b[0m\u001b[0;34m\u001b[0m\u001b[0m\n\u001b[1;32m   1033\u001b[0m         \u001b[0;32mfor\u001b[0m \u001b[0mzorder\u001b[0m\u001b[0;34m,\u001b[0m \u001b[0ma\u001b[0m\u001b[0;34m,\u001b[0m \u001b[0mfunc\u001b[0m\u001b[0;34m,\u001b[0m \u001b[0margs\u001b[0m \u001b[0;32min\u001b[0m \u001b[0mdsu\u001b[0m\u001b[0;34m:\u001b[0m\u001b[0;34m\u001b[0m\u001b[0m\n\u001b[0;32m-> 1034\u001b[0;31m             \u001b[0mfunc\u001b[0m\u001b[0;34m(\u001b[0m\u001b[0;34m*\u001b[0m\u001b[0margs\u001b[0m\u001b[0;34m)\u001b[0m\u001b[0;34m\u001b[0m\u001b[0m\n\u001b[0m\u001b[1;32m   1035\u001b[0m \u001b[0;34m\u001b[0m\u001b[0m\n\u001b[1;32m   1036\u001b[0m         \u001b[0mrenderer\u001b[0m\u001b[0;34m.\u001b[0m\u001b[0mclose_group\u001b[0m\u001b[0;34m(\u001b[0m\u001b[0;34m'figure'\u001b[0m\u001b[0;34m)\u001b[0m\u001b[0;34m\u001b[0m\u001b[0m\n",
        "\u001b[0;32m/Users/ana-mariapiso/Library/Enthought/Canopy_64bit/User/lib/python2.7/site-packages/matplotlib/artist.pyc\u001b[0m in \u001b[0;36mdraw_wrapper\u001b[0;34m(artist, renderer, *args, **kwargs)\u001b[0m\n\u001b[1;32m     52\u001b[0m     \u001b[0;32mdef\u001b[0m \u001b[0mdraw_wrapper\u001b[0m\u001b[0;34m(\u001b[0m\u001b[0martist\u001b[0m\u001b[0;34m,\u001b[0m \u001b[0mrenderer\u001b[0m\u001b[0;34m,\u001b[0m \u001b[0;34m*\u001b[0m\u001b[0margs\u001b[0m\u001b[0;34m,\u001b[0m \u001b[0;34m**\u001b[0m\u001b[0mkwargs\u001b[0m\u001b[0;34m)\u001b[0m\u001b[0;34m:\u001b[0m\u001b[0;34m\u001b[0m\u001b[0m\n\u001b[1;32m     53\u001b[0m         \u001b[0mbefore\u001b[0m\u001b[0;34m(\u001b[0m\u001b[0martist\u001b[0m\u001b[0;34m,\u001b[0m \u001b[0mrenderer\u001b[0m\u001b[0;34m)\u001b[0m\u001b[0;34m\u001b[0m\u001b[0m\n\u001b[0;32m---> 54\u001b[0;31m         \u001b[0mdraw\u001b[0m\u001b[0;34m(\u001b[0m\u001b[0martist\u001b[0m\u001b[0;34m,\u001b[0m \u001b[0mrenderer\u001b[0m\u001b[0;34m,\u001b[0m \u001b[0;34m*\u001b[0m\u001b[0margs\u001b[0m\u001b[0;34m,\u001b[0m \u001b[0;34m**\u001b[0m\u001b[0mkwargs\u001b[0m\u001b[0;34m)\u001b[0m\u001b[0;34m\u001b[0m\u001b[0m\n\u001b[0m\u001b[1;32m     55\u001b[0m         \u001b[0mafter\u001b[0m\u001b[0;34m(\u001b[0m\u001b[0martist\u001b[0m\u001b[0;34m,\u001b[0m \u001b[0mrenderer\u001b[0m\u001b[0;34m)\u001b[0m\u001b[0;34m\u001b[0m\u001b[0m\n\u001b[1;32m     56\u001b[0m \u001b[0;34m\u001b[0m\u001b[0m\n",
        "\u001b[0;32m/Users/ana-mariapiso/Library/Enthought/Canopy_64bit/User/lib/python2.7/site-packages/matplotlib/axes.pyc\u001b[0m in \u001b[0;36mdraw\u001b[0;34m(self, renderer, inframe)\u001b[0m\n\u001b[1;32m   2084\u001b[0m \u001b[0;34m\u001b[0m\u001b[0m\n\u001b[1;32m   2085\u001b[0m         \u001b[0;32mfor\u001b[0m \u001b[0mzorder\u001b[0m\u001b[0;34m,\u001b[0m \u001b[0ma\u001b[0m \u001b[0;32min\u001b[0m \u001b[0mdsu\u001b[0m\u001b[0;34m:\u001b[0m\u001b[0;34m\u001b[0m\u001b[0m\n\u001b[0;32m-> 2086\u001b[0;31m             \u001b[0ma\u001b[0m\u001b[0;34m.\u001b[0m\u001b[0mdraw\u001b[0m\u001b[0;34m(\u001b[0m\u001b[0mrenderer\u001b[0m\u001b[0;34m)\u001b[0m\u001b[0;34m\u001b[0m\u001b[0m\n\u001b[0m\u001b[1;32m   2087\u001b[0m \u001b[0;34m\u001b[0m\u001b[0m\n\u001b[1;32m   2088\u001b[0m         \u001b[0mrenderer\u001b[0m\u001b[0;34m.\u001b[0m\u001b[0mclose_group\u001b[0m\u001b[0;34m(\u001b[0m\u001b[0;34m'axes'\u001b[0m\u001b[0;34m)\u001b[0m\u001b[0;34m\u001b[0m\u001b[0m\n",
        "\u001b[0;32m/Users/ana-mariapiso/Library/Enthought/Canopy_64bit/User/lib/python2.7/site-packages/matplotlib/artist.pyc\u001b[0m in \u001b[0;36mdraw_wrapper\u001b[0;34m(artist, renderer, *args, **kwargs)\u001b[0m\n\u001b[1;32m     52\u001b[0m     \u001b[0;32mdef\u001b[0m \u001b[0mdraw_wrapper\u001b[0m\u001b[0;34m(\u001b[0m\u001b[0martist\u001b[0m\u001b[0;34m,\u001b[0m \u001b[0mrenderer\u001b[0m\u001b[0;34m,\u001b[0m \u001b[0;34m*\u001b[0m\u001b[0margs\u001b[0m\u001b[0;34m,\u001b[0m \u001b[0;34m**\u001b[0m\u001b[0mkwargs\u001b[0m\u001b[0;34m)\u001b[0m\u001b[0;34m:\u001b[0m\u001b[0;34m\u001b[0m\u001b[0m\n\u001b[1;32m     53\u001b[0m         \u001b[0mbefore\u001b[0m\u001b[0;34m(\u001b[0m\u001b[0martist\u001b[0m\u001b[0;34m,\u001b[0m \u001b[0mrenderer\u001b[0m\u001b[0;34m)\u001b[0m\u001b[0;34m\u001b[0m\u001b[0m\n\u001b[0;32m---> 54\u001b[0;31m         \u001b[0mdraw\u001b[0m\u001b[0;34m(\u001b[0m\u001b[0martist\u001b[0m\u001b[0;34m,\u001b[0m \u001b[0mrenderer\u001b[0m\u001b[0;34m,\u001b[0m \u001b[0;34m*\u001b[0m\u001b[0margs\u001b[0m\u001b[0;34m,\u001b[0m \u001b[0;34m**\u001b[0m\u001b[0mkwargs\u001b[0m\u001b[0;34m)\u001b[0m\u001b[0;34m\u001b[0m\u001b[0m\n\u001b[0m\u001b[1;32m     55\u001b[0m         \u001b[0mafter\u001b[0m\u001b[0;34m(\u001b[0m\u001b[0martist\u001b[0m\u001b[0;34m,\u001b[0m \u001b[0mrenderer\u001b[0m\u001b[0;34m)\u001b[0m\u001b[0;34m\u001b[0m\u001b[0m\n\u001b[1;32m     56\u001b[0m \u001b[0;34m\u001b[0m\u001b[0m\n",
        "\u001b[0;32m/Users/ana-mariapiso/Library/Enthought/Canopy_64bit/User/lib/python2.7/site-packages/matplotlib/axis.pyc\u001b[0m in \u001b[0;36mdraw\u001b[0;34m(self, renderer, *args, **kwargs)\u001b[0m\n\u001b[1;32m   1090\u001b[0m \u001b[0;34m\u001b[0m\u001b[0m\n\u001b[1;32m   1091\u001b[0m         \u001b[0;32mfor\u001b[0m \u001b[0mtick\u001b[0m \u001b[0;32min\u001b[0m \u001b[0mticks_to_draw\u001b[0m\u001b[0;34m:\u001b[0m\u001b[0;34m\u001b[0m\u001b[0m\n\u001b[0;32m-> 1092\u001b[0;31m             \u001b[0mtick\u001b[0m\u001b[0;34m.\u001b[0m\u001b[0mdraw\u001b[0m\u001b[0;34m(\u001b[0m\u001b[0mrenderer\u001b[0m\u001b[0;34m)\u001b[0m\u001b[0;34m\u001b[0m\u001b[0m\n\u001b[0m\u001b[1;32m   1093\u001b[0m \u001b[0;34m\u001b[0m\u001b[0m\n\u001b[1;32m   1094\u001b[0m         \u001b[0;31m# scale up the axis label box to also find the neighbors, not\u001b[0m\u001b[0;34m\u001b[0m\u001b[0;34m\u001b[0m\u001b[0m\n",
        "\u001b[0;32m/Users/ana-mariapiso/Library/Enthought/Canopy_64bit/User/lib/python2.7/site-packages/matplotlib/artist.pyc\u001b[0m in \u001b[0;36mdraw_wrapper\u001b[0;34m(artist, renderer, *args, **kwargs)\u001b[0m\n\u001b[1;32m     52\u001b[0m     \u001b[0;32mdef\u001b[0m \u001b[0mdraw_wrapper\u001b[0m\u001b[0;34m(\u001b[0m\u001b[0martist\u001b[0m\u001b[0;34m,\u001b[0m \u001b[0mrenderer\u001b[0m\u001b[0;34m,\u001b[0m \u001b[0;34m*\u001b[0m\u001b[0margs\u001b[0m\u001b[0;34m,\u001b[0m \u001b[0;34m**\u001b[0m\u001b[0mkwargs\u001b[0m\u001b[0;34m)\u001b[0m\u001b[0;34m:\u001b[0m\u001b[0;34m\u001b[0m\u001b[0m\n\u001b[1;32m     53\u001b[0m         \u001b[0mbefore\u001b[0m\u001b[0;34m(\u001b[0m\u001b[0martist\u001b[0m\u001b[0;34m,\u001b[0m \u001b[0mrenderer\u001b[0m\u001b[0;34m)\u001b[0m\u001b[0;34m\u001b[0m\u001b[0m\n\u001b[0;32m---> 54\u001b[0;31m         \u001b[0mdraw\u001b[0m\u001b[0;34m(\u001b[0m\u001b[0martist\u001b[0m\u001b[0;34m,\u001b[0m \u001b[0mrenderer\u001b[0m\u001b[0;34m,\u001b[0m \u001b[0;34m*\u001b[0m\u001b[0margs\u001b[0m\u001b[0;34m,\u001b[0m \u001b[0;34m**\u001b[0m\u001b[0mkwargs\u001b[0m\u001b[0;34m)\u001b[0m\u001b[0;34m\u001b[0m\u001b[0m\n\u001b[0m\u001b[1;32m     55\u001b[0m         \u001b[0mafter\u001b[0m\u001b[0;34m(\u001b[0m\u001b[0martist\u001b[0m\u001b[0;34m,\u001b[0m \u001b[0mrenderer\u001b[0m\u001b[0;34m)\u001b[0m\u001b[0;34m\u001b[0m\u001b[0m\n\u001b[1;32m     56\u001b[0m \u001b[0;34m\u001b[0m\u001b[0m\n",
        "\u001b[0;32m/Users/ana-mariapiso/Library/Enthought/Canopy_64bit/User/lib/python2.7/site-packages/matplotlib/axis.pyc\u001b[0m in \u001b[0;36mdraw\u001b[0;34m(self, renderer)\u001b[0m\n\u001b[1;32m    239\u001b[0m \u001b[0;34m\u001b[0m\u001b[0m\n\u001b[1;32m    240\u001b[0m         \u001b[0;32mif\u001b[0m \u001b[0mself\u001b[0m\u001b[0;34m.\u001b[0m\u001b[0mlabel1On\u001b[0m\u001b[0;34m:\u001b[0m\u001b[0;34m\u001b[0m\u001b[0m\n\u001b[0;32m--> 241\u001b[0;31m             \u001b[0mself\u001b[0m\u001b[0;34m.\u001b[0m\u001b[0mlabel1\u001b[0m\u001b[0;34m.\u001b[0m\u001b[0mdraw\u001b[0m\u001b[0;34m(\u001b[0m\u001b[0mrenderer\u001b[0m\u001b[0;34m)\u001b[0m\u001b[0;34m\u001b[0m\u001b[0m\n\u001b[0m\u001b[1;32m    242\u001b[0m         \u001b[0;32mif\u001b[0m \u001b[0mself\u001b[0m\u001b[0;34m.\u001b[0m\u001b[0mlabel2On\u001b[0m\u001b[0;34m:\u001b[0m\u001b[0;34m\u001b[0m\u001b[0m\n\u001b[1;32m    243\u001b[0m             \u001b[0mself\u001b[0m\u001b[0;34m.\u001b[0m\u001b[0mlabel2\u001b[0m\u001b[0;34m.\u001b[0m\u001b[0mdraw\u001b[0m\u001b[0;34m(\u001b[0m\u001b[0mrenderer\u001b[0m\u001b[0;34m)\u001b[0m\u001b[0;34m\u001b[0m\u001b[0m\n",
        "\u001b[0;32m/Users/ana-mariapiso/Library/Enthought/Canopy_64bit/User/lib/python2.7/site-packages/matplotlib/artist.pyc\u001b[0m in \u001b[0;36mdraw_wrapper\u001b[0;34m(artist, renderer, *args, **kwargs)\u001b[0m\n\u001b[1;32m     52\u001b[0m     \u001b[0;32mdef\u001b[0m \u001b[0mdraw_wrapper\u001b[0m\u001b[0;34m(\u001b[0m\u001b[0martist\u001b[0m\u001b[0;34m,\u001b[0m \u001b[0mrenderer\u001b[0m\u001b[0;34m,\u001b[0m \u001b[0;34m*\u001b[0m\u001b[0margs\u001b[0m\u001b[0;34m,\u001b[0m \u001b[0;34m**\u001b[0m\u001b[0mkwargs\u001b[0m\u001b[0;34m)\u001b[0m\u001b[0;34m:\u001b[0m\u001b[0;34m\u001b[0m\u001b[0m\n\u001b[1;32m     53\u001b[0m         \u001b[0mbefore\u001b[0m\u001b[0;34m(\u001b[0m\u001b[0martist\u001b[0m\u001b[0;34m,\u001b[0m \u001b[0mrenderer\u001b[0m\u001b[0;34m)\u001b[0m\u001b[0;34m\u001b[0m\u001b[0m\n\u001b[0;32m---> 54\u001b[0;31m         \u001b[0mdraw\u001b[0m\u001b[0;34m(\u001b[0m\u001b[0martist\u001b[0m\u001b[0;34m,\u001b[0m \u001b[0mrenderer\u001b[0m\u001b[0;34m,\u001b[0m \u001b[0;34m*\u001b[0m\u001b[0margs\u001b[0m\u001b[0;34m,\u001b[0m \u001b[0;34m**\u001b[0m\u001b[0mkwargs\u001b[0m\u001b[0;34m)\u001b[0m\u001b[0;34m\u001b[0m\u001b[0m\n\u001b[0m\u001b[1;32m     55\u001b[0m         \u001b[0mafter\u001b[0m\u001b[0;34m(\u001b[0m\u001b[0martist\u001b[0m\u001b[0;34m,\u001b[0m \u001b[0mrenderer\u001b[0m\u001b[0;34m)\u001b[0m\u001b[0;34m\u001b[0m\u001b[0m\n\u001b[1;32m     56\u001b[0m \u001b[0;34m\u001b[0m\u001b[0m\n",
        "\u001b[0;32m/Users/ana-mariapiso/Library/Enthought/Canopy_64bit/User/lib/python2.7/site-packages/matplotlib/text.pyc\u001b[0m in \u001b[0;36mdraw\u001b[0;34m(self, renderer)\u001b[0m\n\u001b[1;32m    553\u001b[0m         \u001b[0mposy\u001b[0m \u001b[0;34m=\u001b[0m \u001b[0mfloat\u001b[0m\u001b[0;34m(\u001b[0m\u001b[0mself\u001b[0m\u001b[0;34m.\u001b[0m\u001b[0mconvert_yunits\u001b[0m\u001b[0;34m(\u001b[0m\u001b[0mself\u001b[0m\u001b[0;34m.\u001b[0m\u001b[0m_y\u001b[0m\u001b[0;34m)\u001b[0m\u001b[0;34m)\u001b[0m\u001b[0;34m\u001b[0m\u001b[0m\n\u001b[1;32m    554\u001b[0m \u001b[0;34m\u001b[0m\u001b[0m\n\u001b[0;32m--> 555\u001b[0;31m         \u001b[0mposx\u001b[0m\u001b[0;34m,\u001b[0m \u001b[0mposy\u001b[0m \u001b[0;34m=\u001b[0m \u001b[0mtrans\u001b[0m\u001b[0;34m.\u001b[0m\u001b[0mtransform_point\u001b[0m\u001b[0;34m(\u001b[0m\u001b[0;34m(\u001b[0m\u001b[0mposx\u001b[0m\u001b[0;34m,\u001b[0m \u001b[0mposy\u001b[0m\u001b[0;34m)\u001b[0m\u001b[0;34m)\u001b[0m\u001b[0;34m\u001b[0m\u001b[0m\n\u001b[0m\u001b[1;32m    556\u001b[0m         \u001b[0mcanvasw\u001b[0m\u001b[0;34m,\u001b[0m \u001b[0mcanvash\u001b[0m \u001b[0;34m=\u001b[0m \u001b[0mrenderer\u001b[0m\u001b[0;34m.\u001b[0m\u001b[0mget_canvas_width_height\u001b[0m\u001b[0;34m(\u001b[0m\u001b[0;34m)\u001b[0m\u001b[0;34m\u001b[0m\u001b[0m\n\u001b[1;32m    557\u001b[0m \u001b[0;34m\u001b[0m\u001b[0m\n",
        "\u001b[0;32m/Users/ana-mariapiso/Library/Enthought/Canopy_64bit/User/lib/python2.7/site-packages/matplotlib/transforms.pyc\u001b[0m in \u001b[0;36mtransform_point\u001b[0;34m(self, point)\u001b[0m\n\u001b[1;32m   1330\u001b[0m         \"\"\"\n\u001b[1;32m   1331\u001b[0m         \u001b[0;32massert\u001b[0m \u001b[0mlen\u001b[0m\u001b[0;34m(\u001b[0m\u001b[0mpoint\u001b[0m\u001b[0;34m)\u001b[0m \u001b[0;34m==\u001b[0m \u001b[0mself\u001b[0m\u001b[0;34m.\u001b[0m\u001b[0minput_dims\u001b[0m\u001b[0;34m\u001b[0m\u001b[0m\n\u001b[0;32m-> 1332\u001b[0;31m         \u001b[0;32mreturn\u001b[0m \u001b[0mself\u001b[0m\u001b[0;34m.\u001b[0m\u001b[0mtransform\u001b[0m\u001b[0;34m(\u001b[0m\u001b[0mnp\u001b[0m\u001b[0;34m.\u001b[0m\u001b[0masarray\u001b[0m\u001b[0;34m(\u001b[0m\u001b[0;34m[\u001b[0m\u001b[0mpoint\u001b[0m\u001b[0;34m]\u001b[0m\u001b[0;34m)\u001b[0m\u001b[0;34m)\u001b[0m\u001b[0;34m[\u001b[0m\u001b[0;36m0\u001b[0m\u001b[0;34m]\u001b[0m\u001b[0;34m\u001b[0m\u001b[0m\n\u001b[0m\u001b[1;32m   1333\u001b[0m \u001b[0;34m\u001b[0m\u001b[0m\n\u001b[1;32m   1334\u001b[0m     \u001b[0;32mdef\u001b[0m \u001b[0mtransform_path\u001b[0m\u001b[0;34m(\u001b[0m\u001b[0mself\u001b[0m\u001b[0;34m,\u001b[0m \u001b[0mpath\u001b[0m\u001b[0;34m)\u001b[0m\u001b[0;34m:\u001b[0m\u001b[0;34m\u001b[0m\u001b[0m\n",
        "\u001b[0;32m/Users/ana-mariapiso/Library/Enthought/Canopy_64bit/User/lib/python2.7/site-packages/matplotlib/transforms.pyc\u001b[0m in \u001b[0;36mtransform\u001b[0;34m(self, values)\u001b[0m\n\u001b[1;32m   1271\u001b[0m         \u001b[0mreturns\u001b[0m \u001b[0ma\u001b[0m \u001b[0mnumpy\u001b[0m \u001b[0marray\u001b[0m \u001b[0mof\u001b[0m \u001b[0mshape\u001b[0m \u001b[0;34m(\u001b[0m\u001b[0mN\u001b[0m \u001b[0mx\u001b[0m \u001b[0;34m:\u001b[0m\u001b[0mattr\u001b[0m\u001b[0;34m:\u001b[0m\u001b[0;34m`\u001b[0m\u001b[0moutput_dims\u001b[0m\u001b[0;34m`\u001b[0m\u001b[0;34m)\u001b[0m\u001b[0;34m.\u001b[0m\u001b[0;34m\u001b[0m\u001b[0m\n\u001b[1;32m   1272\u001b[0m         \"\"\"\n\u001b[0;32m-> 1273\u001b[0;31m         \u001b[0;32mreturn\u001b[0m \u001b[0mself\u001b[0m\u001b[0;34m.\u001b[0m\u001b[0mtransform_affine\u001b[0m\u001b[0;34m(\u001b[0m\u001b[0mself\u001b[0m\u001b[0;34m.\u001b[0m\u001b[0mtransform_non_affine\u001b[0m\u001b[0;34m(\u001b[0m\u001b[0mvalues\u001b[0m\u001b[0;34m)\u001b[0m\u001b[0;34m)\u001b[0m\u001b[0;34m\u001b[0m\u001b[0m\n\u001b[0m\u001b[1;32m   1274\u001b[0m \u001b[0;34m\u001b[0m\u001b[0m\n\u001b[1;32m   1275\u001b[0m     \u001b[0;32mdef\u001b[0m \u001b[0mtransform_affine\u001b[0m\u001b[0;34m(\u001b[0m\u001b[0mself\u001b[0m\u001b[0;34m,\u001b[0m \u001b[0mvalues\u001b[0m\u001b[0;34m)\u001b[0m\u001b[0;34m:\u001b[0m\u001b[0;34m\u001b[0m\u001b[0m\n",
        "\u001b[0;32m/Users/ana-mariapiso/Library/Enthought/Canopy_64bit/User/lib/python2.7/site-packages/matplotlib/transforms.pyc\u001b[0m in \u001b[0;36mtransform_non_affine\u001b[0;34m(self, points)\u001b[0m\n\u001b[1;32m   2215\u001b[0m             \u001b[0;32mreturn\u001b[0m \u001b[0mpoints\u001b[0m\u001b[0;34m\u001b[0m\u001b[0m\n\u001b[1;32m   2216\u001b[0m         \u001b[0;32melif\u001b[0m \u001b[0;32mnot\u001b[0m \u001b[0mself\u001b[0m\u001b[0;34m.\u001b[0m\u001b[0m_a\u001b[0m\u001b[0;34m.\u001b[0m\u001b[0mis_affine\u001b[0m \u001b[0;32mand\u001b[0m \u001b[0mself\u001b[0m\u001b[0;34m.\u001b[0m\u001b[0m_b\u001b[0m\u001b[0;34m.\u001b[0m\u001b[0mis_affine\u001b[0m\u001b[0;34m:\u001b[0m\u001b[0;34m\u001b[0m\u001b[0m\n\u001b[0;32m-> 2217\u001b[0;31m             \u001b[0;32mreturn\u001b[0m \u001b[0mself\u001b[0m\u001b[0;34m.\u001b[0m\u001b[0m_a\u001b[0m\u001b[0;34m.\u001b[0m\u001b[0mtransform_non_affine\u001b[0m\u001b[0;34m(\u001b[0m\u001b[0mpoints\u001b[0m\u001b[0;34m)\u001b[0m\u001b[0;34m\u001b[0m\u001b[0m\n\u001b[0m\u001b[1;32m   2218\u001b[0m         \u001b[0;32melse\u001b[0m\u001b[0;34m:\u001b[0m\u001b[0;34m\u001b[0m\u001b[0m\n\u001b[1;32m   2219\u001b[0m             return self._b.transform_non_affine(\n",
        "\u001b[0;32m/Users/ana-mariapiso/Library/Enthought/Canopy_64bit/User/lib/python2.7/site-packages/matplotlib/transforms.pyc\u001b[0m in \u001b[0;36mtransform_non_affine\u001b[0;34m(self, points)\u001b[0m\n\u001b[1;32m   2006\u001b[0m \u001b[0;34m\u001b[0m\u001b[0m\n\u001b[1;32m   2007\u001b[0m         \u001b[0;32mif\u001b[0m \u001b[0my\u001b[0m\u001b[0;34m.\u001b[0m\u001b[0minput_dims\u001b[0m \u001b[0;34m==\u001b[0m \u001b[0;36m2\u001b[0m\u001b[0;34m:\u001b[0m\u001b[0;34m\u001b[0m\u001b[0m\n\u001b[0;32m-> 2008\u001b[0;31m             \u001b[0my_points\u001b[0m \u001b[0;34m=\u001b[0m \u001b[0my\u001b[0m\u001b[0;34m.\u001b[0m\u001b[0mtransform_non_affine\u001b[0m\u001b[0;34m(\u001b[0m\u001b[0mpoints\u001b[0m\u001b[0;34m)\u001b[0m\u001b[0;34m[\u001b[0m\u001b[0;34m:\u001b[0m\u001b[0;34m,\u001b[0m \u001b[0;36m1\u001b[0m\u001b[0;34m:\u001b[0m\u001b[0;34m]\u001b[0m\u001b[0;34m\u001b[0m\u001b[0m\n\u001b[0m\u001b[1;32m   2009\u001b[0m         \u001b[0;32melse\u001b[0m\u001b[0;34m:\u001b[0m\u001b[0;34m\u001b[0m\u001b[0m\n\u001b[1;32m   2010\u001b[0m             \u001b[0my_points\u001b[0m \u001b[0;34m=\u001b[0m \u001b[0my\u001b[0m\u001b[0;34m.\u001b[0m\u001b[0mtransform_non_affine\u001b[0m\u001b[0;34m(\u001b[0m\u001b[0mpoints\u001b[0m\u001b[0;34m[\u001b[0m\u001b[0;34m:\u001b[0m\u001b[0;34m,\u001b[0m \u001b[0;36m1\u001b[0m\u001b[0;34m]\u001b[0m\u001b[0;34m)\u001b[0m\u001b[0;34m\u001b[0m\u001b[0m\n",
        "\u001b[0;32m/Users/ana-mariapiso/Library/Enthought/Canopy_64bit/User/lib/python2.7/site-packages/matplotlib/transforms.pyc\u001b[0m in \u001b[0;36mtransform_non_affine\u001b[0;34m(self, points)\u001b[0m\n\u001b[1;32m   2215\u001b[0m             \u001b[0;32mreturn\u001b[0m \u001b[0mpoints\u001b[0m\u001b[0;34m\u001b[0m\u001b[0m\n\u001b[1;32m   2216\u001b[0m         \u001b[0;32melif\u001b[0m \u001b[0;32mnot\u001b[0m \u001b[0mself\u001b[0m\u001b[0;34m.\u001b[0m\u001b[0m_a\u001b[0m\u001b[0;34m.\u001b[0m\u001b[0mis_affine\u001b[0m \u001b[0;32mand\u001b[0m \u001b[0mself\u001b[0m\u001b[0;34m.\u001b[0m\u001b[0m_b\u001b[0m\u001b[0;34m.\u001b[0m\u001b[0mis_affine\u001b[0m\u001b[0;34m:\u001b[0m\u001b[0;34m\u001b[0m\u001b[0m\n\u001b[0;32m-> 2217\u001b[0;31m             \u001b[0;32mreturn\u001b[0m \u001b[0mself\u001b[0m\u001b[0;34m.\u001b[0m\u001b[0m_a\u001b[0m\u001b[0;34m.\u001b[0m\u001b[0mtransform_non_affine\u001b[0m\u001b[0;34m(\u001b[0m\u001b[0mpoints\u001b[0m\u001b[0;34m)\u001b[0m\u001b[0;34m\u001b[0m\u001b[0m\n\u001b[0m\u001b[1;32m   2218\u001b[0m         \u001b[0;32melse\u001b[0m\u001b[0;34m:\u001b[0m\u001b[0;34m\u001b[0m\u001b[0m\n\u001b[1;32m   2219\u001b[0m             return self._b.transform_non_affine(\n",
        "\u001b[0;32m/Users/ana-mariapiso/Library/Enthought/Canopy_64bit/User/lib/python2.7/site-packages/matplotlib/transforms.pyc\u001b[0m in \u001b[0;36mtransform_non_affine\u001b[0;34m(self, points)\u001b[0m\n\u001b[1;32m   2002\u001b[0m             \u001b[0mx_points\u001b[0m \u001b[0;34m=\u001b[0m \u001b[0mx\u001b[0m\u001b[0;34m.\u001b[0m\u001b[0mtransform_non_affine\u001b[0m\u001b[0;34m(\u001b[0m\u001b[0mpoints\u001b[0m\u001b[0;34m)\u001b[0m\u001b[0;34m[\u001b[0m\u001b[0;34m:\u001b[0m\u001b[0;34m,\u001b[0m \u001b[0;36m0\u001b[0m\u001b[0;34m:\u001b[0m\u001b[0;36m1\u001b[0m\u001b[0;34m]\u001b[0m\u001b[0;34m\u001b[0m\u001b[0m\n\u001b[1;32m   2003\u001b[0m         \u001b[0;32melse\u001b[0m\u001b[0;34m:\u001b[0m\u001b[0;34m\u001b[0m\u001b[0m\n\u001b[0;32m-> 2004\u001b[0;31m             \u001b[0mx_points\u001b[0m \u001b[0;34m=\u001b[0m \u001b[0mx\u001b[0m\u001b[0;34m.\u001b[0m\u001b[0mtransform_non_affine\u001b[0m\u001b[0;34m(\u001b[0m\u001b[0mpoints\u001b[0m\u001b[0;34m[\u001b[0m\u001b[0;34m:\u001b[0m\u001b[0;34m,\u001b[0m \u001b[0;36m0\u001b[0m\u001b[0;34m]\u001b[0m\u001b[0;34m)\u001b[0m\u001b[0;34m\u001b[0m\u001b[0m\n\u001b[0m\u001b[1;32m   2005\u001b[0m             \u001b[0mx_points\u001b[0m \u001b[0;34m=\u001b[0m \u001b[0mx_points\u001b[0m\u001b[0;34m.\u001b[0m\u001b[0mreshape\u001b[0m\u001b[0;34m(\u001b[0m\u001b[0;34m(\u001b[0m\u001b[0mlen\u001b[0m\u001b[0;34m(\u001b[0m\u001b[0mx_points\u001b[0m\u001b[0;34m)\u001b[0m\u001b[0;34m,\u001b[0m \u001b[0;36m1\u001b[0m\u001b[0;34m)\u001b[0m\u001b[0;34m)\u001b[0m\u001b[0;34m\u001b[0m\u001b[0m\n\u001b[1;32m   2006\u001b[0m \u001b[0;34m\u001b[0m\u001b[0m\n",
        "\u001b[0;32m/Users/ana-mariapiso/Library/Enthought/Canopy_64bit/User/lib/python2.7/site-packages/matplotlib/scale.pyc\u001b[0m in \u001b[0;36mtransform_non_affine\u001b[0;34m(self, a)\u001b[0m\n\u001b[1;32m    119\u001b[0m         \u001b[0ma\u001b[0m \u001b[0;34m=\u001b[0m \u001b[0mself\u001b[0m\u001b[0;34m.\u001b[0m\u001b[0m_handle_nonpos\u001b[0m\u001b[0;34m(\u001b[0m\u001b[0ma\u001b[0m \u001b[0;34m*\u001b[0m \u001b[0;36m10.0\u001b[0m\u001b[0;34m)\u001b[0m\u001b[0;34m\u001b[0m\u001b[0m\n\u001b[1;32m    120\u001b[0m         \u001b[0;32mif\u001b[0m \u001b[0misinstance\u001b[0m\u001b[0;34m(\u001b[0m\u001b[0ma\u001b[0m\u001b[0;34m,\u001b[0m \u001b[0mma\u001b[0m\u001b[0;34m.\u001b[0m\u001b[0mMaskedArray\u001b[0m\u001b[0;34m)\u001b[0m\u001b[0;34m:\u001b[0m\u001b[0;34m\u001b[0m\u001b[0m\n\u001b[0;32m--> 121\u001b[0;31m             \u001b[0;32mreturn\u001b[0m \u001b[0mma\u001b[0m\u001b[0;34m.\u001b[0m\u001b[0mlog10\u001b[0m\u001b[0;34m(\u001b[0m\u001b[0ma\u001b[0m\u001b[0;34m)\u001b[0m\u001b[0;34m\u001b[0m\u001b[0m\n\u001b[0m\u001b[1;32m    122\u001b[0m         \u001b[0;32mreturn\u001b[0m \u001b[0mnp\u001b[0m\u001b[0;34m.\u001b[0m\u001b[0mlog10\u001b[0m\u001b[0;34m(\u001b[0m\u001b[0ma\u001b[0m\u001b[0;34m)\u001b[0m\u001b[0;34m\u001b[0m\u001b[0m\n\u001b[1;32m    123\u001b[0m \u001b[0;34m\u001b[0m\u001b[0m\n",
        "\u001b[0;32m/Users/ana-mariapiso/Library/Enthought/Canopy_64bit/User/lib/python2.7/site-packages/numpy/ma/core.pyc\u001b[0m in \u001b[0;36m__call__\u001b[0;34m(self, a, *args, **kwargs)\u001b[0m\n\u001b[1;32m    844\u001b[0m                 \u001b[0mresult\u001b[0m \u001b[0;34m=\u001b[0m \u001b[0mself\u001b[0m\u001b[0;34m.\u001b[0m\u001b[0mf\u001b[0m\u001b[0;34m(\u001b[0m\u001b[0md\u001b[0m\u001b[0;34m,\u001b[0m \u001b[0;34m*\u001b[0m\u001b[0margs\u001b[0m\u001b[0;34m,\u001b[0m \u001b[0;34m**\u001b[0m\u001b[0mkwargs\u001b[0m\u001b[0;34m)\u001b[0m\u001b[0;34m\u001b[0m\u001b[0m\n\u001b[1;32m    845\u001b[0m             \u001b[0;32mfinally\u001b[0m\u001b[0;34m:\u001b[0m\u001b[0;34m\u001b[0m\u001b[0m\n\u001b[0;32m--> 846\u001b[0;31m                 \u001b[0mnp\u001b[0m\u001b[0;34m.\u001b[0m\u001b[0mseterr\u001b[0m\u001b[0;34m(\u001b[0m\u001b[0;34m**\u001b[0m\u001b[0merr_status_ini\u001b[0m\u001b[0;34m)\u001b[0m\u001b[0;34m\u001b[0m\u001b[0m\n\u001b[0m\u001b[1;32m    847\u001b[0m             \u001b[0;31m# Make a mask\u001b[0m\u001b[0;34m\u001b[0m\u001b[0;34m\u001b[0m\u001b[0m\n\u001b[1;32m    848\u001b[0m             \u001b[0mm\u001b[0m \u001b[0;34m=\u001b[0m \u001b[0;34m~\u001b[0m\u001b[0mumath\u001b[0m\u001b[0;34m.\u001b[0m\u001b[0misfinite\u001b[0m\u001b[0;34m(\u001b[0m\u001b[0mresult\u001b[0m\u001b[0;34m)\u001b[0m\u001b[0;34m\u001b[0m\u001b[0m\n",
        "\u001b[0;32m/Users/ana-mariapiso/Library/Enthought/Canopy_64bit/User/lib/python2.7/site-packages/numpy/core/numeric.pyc\u001b[0m in \u001b[0;36mseterr\u001b[0;34m(all, divide, over, under, invalid)\u001b[0m\n\u001b[1;32m   2255\u001b[0m \u001b[0;34m\u001b[0m\u001b[0m\n\u001b[1;32m   2256\u001b[0m     \u001b[0mpyvals\u001b[0m \u001b[0;34m=\u001b[0m \u001b[0mumath\u001b[0m\u001b[0;34m.\u001b[0m\u001b[0mgeterrobj\u001b[0m\u001b[0;34m(\u001b[0m\u001b[0;34m)\u001b[0m\u001b[0;34m\u001b[0m\u001b[0m\n\u001b[0;32m-> 2257\u001b[0;31m     \u001b[0mold\u001b[0m \u001b[0;34m=\u001b[0m \u001b[0mgeterr\u001b[0m\u001b[0;34m(\u001b[0m\u001b[0;34m)\u001b[0m\u001b[0;34m\u001b[0m\u001b[0m\n\u001b[0m\u001b[1;32m   2258\u001b[0m \u001b[0;34m\u001b[0m\u001b[0m\n\u001b[1;32m   2259\u001b[0m     \u001b[0;32mif\u001b[0m \u001b[0mdivide\u001b[0m \u001b[0;32mis\u001b[0m \u001b[0mNone\u001b[0m\u001b[0;34m:\u001b[0m \u001b[0mdivide\u001b[0m \u001b[0;34m=\u001b[0m \u001b[0mall\u001b[0m \u001b[0;32mor\u001b[0m \u001b[0mold\u001b[0m\u001b[0;34m[\u001b[0m\u001b[0;34m'divide'\u001b[0m\u001b[0;34m]\u001b[0m\u001b[0;34m\u001b[0m\u001b[0m\n",
        "\u001b[0;32m/Users/ana-mariapiso/Library/Enthought/Canopy_64bit/User/lib/python2.7/site-packages/numpy/core/numeric.pyc\u001b[0m in \u001b[0;36mgeterr\u001b[0;34m()\u001b[0m\n\u001b[1;32m   2309\u001b[0m \u001b[0;34m\u001b[0m\u001b[0m\n\u001b[1;32m   2310\u001b[0m     \"\"\"\n\u001b[0;32m-> 2311\u001b[0;31m     \u001b[0mmaskvalue\u001b[0m \u001b[0;34m=\u001b[0m \u001b[0mumath\u001b[0m\u001b[0;34m.\u001b[0m\u001b[0mgeterrobj\u001b[0m\u001b[0;34m(\u001b[0m\u001b[0;34m)\u001b[0m\u001b[0;34m[\u001b[0m\u001b[0;36m1\u001b[0m\u001b[0;34m]\u001b[0m\u001b[0;34m\u001b[0m\u001b[0m\n\u001b[0m\u001b[1;32m   2312\u001b[0m     \u001b[0mmask\u001b[0m \u001b[0;34m=\u001b[0m \u001b[0;36m7\u001b[0m\u001b[0;34m\u001b[0m\u001b[0m\n\u001b[1;32m   2313\u001b[0m     \u001b[0mres\u001b[0m \u001b[0;34m=\u001b[0m \u001b[0;34m{\u001b[0m\u001b[0;34m}\u001b[0m\u001b[0;34m\u001b[0m\u001b[0m\n",
        "\u001b[0;31mKeyboardInterrupt\u001b[0m: "
       ]
      },
      {
       "metadata": {},
       "output_type": "display_data",
       "png": "[encoded data removed]",
       "text": [
        "<matplotlib.figure.Figure at 0x10ce02590>"
       ]
      }
     ],
     "prompt_number": 11
    },
    {
     "cell_type": "code",
     "collapsed": false,
     "input": [
      "r"
     ],
     "language": "python",
     "metadata": {},
     "outputs": [
      {
       "metadata": {},
       "output_type": "pyout",
       "prompt_number": 9,
       "text": [
        "array([  5.00000000e-02,   5.05682591e-02,   5.11429765e-02,\n",
        "         5.17242257e-02,   5.23120809e-02,   5.29066172e-02,\n",
        "         5.35079105e-02,   5.41160376e-02,   5.47310762e-02,\n",
        "         5.53531048e-02,   5.59822029e-02,   5.66184508e-02,\n",
        "         5.72619298e-02,   5.79127220e-02,   5.85709106e-02,\n",
        "         5.92365796e-02,   5.99098141e-02,   6.05907000e-02,\n",
        "         6.12793243e-02,   6.19757750e-02,   6.26801409e-02,\n",
        "         6.33925121e-02,   6.41129795e-02,   6.48416351e-02,\n",
        "         6.55785721e-02,   6.63238844e-02,   6.70776674e-02,\n",
        "         6.78400173e-02,   6.86110314e-02,   6.93908082e-02,\n",
        "         7.01794473e-02,   7.09770495e-02,   7.17837165e-02,\n",
        "         7.25995515e-02,   7.34246586e-02,   7.42591432e-02,\n",
        "         7.51031118e-02,   7.59566723e-02,   7.68199337e-02,\n",
        "         7.76930061e-02,   7.85760013e-02,   7.94690318e-02,\n",
        "         8.03722117e-02,   8.12856565e-02,   8.22094827e-02,\n",
        "         8.31438084e-02,   8.40887529e-02,   8.50444368e-02,\n",
        "         8.60109823e-02,   8.69885127e-02,   8.79771530e-02,\n",
        "         8.89770293e-02,   8.99882693e-02,   9.10110024e-02,\n",
        "         9.20453589e-02,   9.30914711e-02,   9.41494726e-02,\n",
        "         9.52194984e-02,   9.63016853e-02,   9.73961714e-02,\n",
        "         9.85030966e-02,   9.96226022e-02,   1.00754831e-01,\n",
        "         1.01899928e-01,   1.03058039e-01,   1.04229313e-01,\n",
        "         1.05413898e-01,   1.06611946e-01,   1.07823610e-01,\n",
        "         1.09049045e-01,   1.10288407e-01,   1.11541855e-01,\n",
        "         1.12809548e-01,   1.14091649e-01,   1.15388321e-01,\n",
        "         1.16699731e-01,   1.18026044e-01,   1.19367432e-01,\n",
        "         1.20724064e-01,   1.22096115e-01,   1.23483759e-01,\n",
        "         1.24887175e-01,   1.26306540e-01,   1.27742037e-01,\n",
        "         1.29193848e-01,   1.30662160e-01,   1.32147159e-01,\n",
        "         1.33649036e-01,   1.35167981e-01,   1.36704190e-01,\n",
        "         1.38257858e-01,   1.39829183e-01,   1.41418367e-01,\n",
        "         1.43025613e-01,   1.44651125e-01,   1.46295111e-01,\n",
        "         1.47957782e-01,   1.49639349e-01,   1.51340027e-01,\n",
        "         1.53060034e-01,   1.54799589e-01,   1.56558914e-01,\n",
        "         1.58338235e-01,   1.60137778e-01,   1.61957772e-01,\n",
        "         1.63798452e-01,   1.65660051e-01,   1.67542808e-01,\n",
        "         1.69446962e-01,   1.71372757e-01,   1.73320440e-01,\n",
        "         1.75290258e-01,   1.77282464e-01,   1.79297311e-01,\n",
        "         1.81335058e-01,   1.83395963e-01,   1.85480292e-01,\n",
        "         1.87588309e-01,   1.89720284e-01,   1.91876490e-01,\n",
        "         1.94057201e-01,   1.96262696e-01,   1.98493257e-01,\n",
        "         2.00749169e-01,   2.03030720e-01,   2.05338201e-01,\n",
        "         2.07671907e-01,   2.10032136e-01,   2.12419189e-01,\n",
        "         2.14833372e-01,   2.17274992e-01,   2.19744362e-01,\n",
        "         2.22241796e-01,   2.24767614e-01,   2.27322139e-01,\n",
        "         2.29905697e-01,   2.32518617e-01,   2.35161233e-01,\n",
        "         2.37833883e-01,   2.40536908e-01,   2.43270654e-01,\n",
        "         2.46035469e-01,   2.48831707e-01,   2.51659724e-01,\n",
        "         2.54519883e-01,   2.57412547e-01,   2.60338088e-01,\n",
        "         2.63296877e-01,   2.66289294e-01,   2.69315720e-01,\n",
        "         2.72376542e-01,   2.75472151e-01,   2.78602942e-01,\n",
        "         2.81769315e-01,   2.84971674e-01,   2.88210429e-01,\n",
        "         2.91485993e-01,   2.94798784e-01,   2.98149226e-01,\n",
        "         3.01537746e-01,   3.04964777e-01,   3.08430757e-01,\n",
        "         3.11936129e-01,   3.15481339e-01,   3.19066842e-01,\n",
        "         3.22693095e-01,   3.26360560e-01,   3.30069707e-01,\n",
        "         3.33821009e-01,   3.37614946e-01,   3.41452001e-01,\n",
        "         3.45332665e-01,   3.49257433e-01,   3.53226807e-01,\n",
        "         3.57241294e-01,   3.61301406e-01,   3.65407662e-01,\n",
        "         3.69560587e-01,   3.73760710e-01,   3.78008568e-01,\n",
        "         3.82304704e-01,   3.86649666e-01,   3.91044010e-01,\n",
        "         3.95488296e-01,   3.99983092e-01,   4.04528973e-01,\n",
        "         4.09126518e-01,   4.13776315e-01,   4.18478958e-01,\n",
        "         4.23235047e-01,   4.28045190e-01,   4.32910002e-01,\n",
        "         4.37830102e-01,   4.42806121e-01,   4.47838693e-01,\n",
        "         4.52928461e-01,   4.58076075e-01,   4.63282193e-01,\n",
        "         4.68547479e-01,   4.73872606e-01,   4.79258254e-01,\n",
        "         4.84705111e-01,   4.90213873e-01,   4.95785242e-01,\n",
        "         5.01419932e-01,   5.07118660e-01,   5.12882156e-01,\n",
        "         5.18711154e-01,   5.24606401e-01,   5.30568648e-01,\n",
        "         5.36598657e-01,   5.42697198e-01,   5.48865050e-01,\n",
        "         5.55103001e-01,   5.61411847e-01,   5.67792395e-01,\n",
        "         5.74245458e-01,   5.80771862e-01,   5.87372440e-01,\n",
        "         5.94048034e-01,   6.00799498e-01,   6.07627693e-01,\n",
        "         6.14533492e-01,   6.21517777e-01,   6.28581439e-01,\n",
        "         6.35725381e-01,   6.42950516e-01,   6.50257765e-01,\n",
        "         6.57648062e-01,   6.65122352e-01,   6.72681588e-01,\n",
        "         6.80326737e-01,   6.88058773e-01,   6.95878686e-01,\n",
        "         7.03787474e-01,   7.11786146e-01,   7.19875725e-01,\n",
        "         7.28057243e-01,   7.36331746e-01,   7.44700290e-01,\n",
        "         7.53163944e-01,   7.61723788e-01,   7.70380918e-01,\n",
        "         7.79136436e-01,   7.87991463e-01,   7.96947129e-01,\n",
        "         8.06004578e-01,   8.15164966e-01,   8.24429464e-01,\n",
        "         8.33799255e-01,   8.43275535e-01,   8.52859514e-01,\n",
        "         8.62552417e-01,   8.72355482e-01,   8.82269960e-01,\n",
        "         8.92297118e-01,   9.02438237e-01,   9.12694611e-01,\n",
        "         9.23067551e-01,   9.33558382e-01,   9.44168442e-01,\n",
        "         9.54899088e-01,   9.65751689e-01,   9.76727632e-01,\n",
        "         9.87828319e-01,   9.99055167e-01,   1.01040961e+00,\n",
        "         1.02189310e+00,   1.03350710e+00,   1.04525310e+00,\n",
        "         1.05713259e+00,   1.06914709e+00,   1.08129814e+00,\n",
        "         1.09358729e+00,   1.10601611e+00,   1.11858618e+00,\n",
        "         1.13129912e+00,   1.14415654e+00,   1.15716008e+00,\n",
        "         1.17031142e+00,   1.18361222e+00,   1.19706419e+00,\n",
        "         1.21066904e+00,   1.22442851e+00,   1.23834436e+00,\n",
        "         1.25241837e+00,   1.26665233e+00,   1.28104807e+00,\n",
        "         1.29560741e+00,   1.31033223e+00,   1.32522439e+00,\n",
        "         1.34028580e+00,   1.35551840e+00,   1.37092411e+00,\n",
        "         1.38650491e+00,   1.40226279e+00,   1.41819976e+00,\n",
        "         1.43431786e+00,   1.45061914e+00,   1.46710569e+00,\n",
        "         1.48377961e+00,   1.50064304e+00,   1.51769812e+00,\n",
        "         1.53494703e+00,   1.55239198e+00,   1.57003520e+00,\n",
        "         1.58787894e+00,   1.60592547e+00,   1.62417710e+00,\n",
        "         1.64263617e+00,   1.66130503e+00,   1.68018606e+00,\n",
        "         1.69928168e+00,   1.71859433e+00,   1.73812646e+00,\n",
        "         1.75788059e+00,   1.77785922e+00,   1.79806491e+00,\n",
        "         1.81850024e+00,   1.83916783e+00,   1.86007030e+00,\n",
        "         1.88121034e+00,   1.90259064e+00,   1.92421393e+00,\n",
        "         1.94608297e+00,   1.96820055e+00,   1.99056951e+00,\n",
        "         2.01319269e+00,   2.03607299e+00,   2.05921333e+00,\n",
        "         2.08261667e+00,   2.10628598e+00,   2.13022430e+00,\n",
        "         2.15443469e+00,   2.17892023e+00,   2.20368406e+00,\n",
        "         2.22872932e+00,   2.25405924e+00,   2.27967703e+00,\n",
        "         2.30558597e+00,   2.33178938e+00,   2.35829059e+00,\n",
        "         2.38509299e+00,   2.41220000e+00,   2.43961509e+00,\n",
        "         2.46734176e+00,   2.49538355e+00,   2.52374403e+00,\n",
        "         2.55242684e+00,   2.58143564e+00,   2.61077412e+00,\n",
        "         2.64044604e+00,   2.67045519e+00,   2.70080540e+00,\n",
        "         2.73150054e+00,   2.76254454e+00,   2.79394136e+00,\n",
        "         2.82569501e+00,   2.85780955e+00,   2.89028907e+00,\n",
        "         2.92313773e+00,   2.95635972e+00,   2.98995929e+00,\n",
        "         3.02394072e+00,   3.05830835e+00,   3.09306658e+00,\n",
        "         3.12821985e+00,   3.16377263e+00,   3.19972948e+00,\n",
        "         3.23609499e+00,   3.27287379e+00,   3.31007060e+00,\n",
        "         3.34769015e+00,   3.38573726e+00,   3.42421678e+00,\n",
        "         3.46313362e+00,   3.50249276e+00,   3.54229923e+00,\n",
        "         3.58255810e+00,   3.62327453e+00,   3.66445370e+00,\n",
        "         3.70610088e+00,   3.74822139e+00,   3.79082061e+00,\n",
        "         3.83390397e+00,   3.87747698e+00,   3.92154521e+00,\n",
        "         3.96611429e+00,   4.01118989e+00,   4.05677780e+00,\n",
        "         4.10288381e+00,   4.14951383e+00,   4.19667381e+00,\n",
        "         4.24436977e+00,   4.29260780e+00,   4.34139407e+00,\n",
        "         4.39073480e+00,   4.44063630e+00,   4.49110493e+00,\n",
        "         4.54214716e+00,   4.59376948e+00,   4.64597851e+00,\n",
        "         4.69878090e+00,   4.75218339e+00,   4.80619282e+00,\n",
        "         4.86081607e+00,   4.91606013e+00,   4.97193205e+00,\n",
        "         5.02843896e+00,   5.08558808e+00,   5.14338671e+00,\n",
        "         5.20184223e+00,   5.26096211e+00,   5.32075390e+00,\n",
        "         5.38122523e+00,   5.44238384e+00,   5.50423752e+00,\n",
        "         5.56679417e+00,   5.63006180e+00,   5.69404847e+00,\n",
        "         5.75876237e+00,   5.82421175e+00,   5.89040497e+00,\n",
        "         5.95735049e+00,   6.02505686e+00,   6.09353273e+00,\n",
        "         6.16278683e+00,   6.23282802e+00,   6.30366524e+00,\n",
        "         6.37530754e+00,   6.44776407e+00,   6.52104408e+00,\n",
        "         6.59515693e+00,   6.67011208e+00,   6.74591912e+00,\n",
        "         6.82258771e+00,   6.90012766e+00,   6.97854886e+00,\n",
        "         7.05786134e+00,   7.13807521e+00,   7.21920073e+00,\n",
        "         7.30124826e+00,   7.38422827e+00,   7.46815137e+00,\n",
        "         7.55302826e+00,   7.63886980e+00,   7.72568694e+00,\n",
        "         7.81349077e+00,   7.90229251e+00,   7.99210350e+00,\n",
        "         8.08293521e+00,   8.17479923e+00,   8.26770731e+00,\n",
        "         8.36167130e+00,   8.45670322e+00,   8.55281518e+00,\n",
        "         8.65001948e+00,   8.74832852e+00,   8.84775486e+00,\n",
        "         8.94831120e+00,   9.05001038e+00,   9.15286539e+00,\n",
        "         9.25688937e+00,   9.36209560e+00,   9.46849751e+00,\n",
        "         9.57610870e+00,   9.68494292e+00,   9.79501405e+00,\n",
        "         9.90633616e+00,   1.00189235e+01,   1.01327904e+01,\n",
        "         1.02479514e+01,   1.03644212e+01,   1.04822147e+01,\n",
        "         1.06013470e+01,   1.07218332e+01,   1.08436888e+01,\n",
        "         1.09669293e+01,   1.10915704e+01,   1.12176281e+01,\n",
        "         1.13451185e+01,   1.14740578e+01,   1.16044626e+01,\n",
        "         1.17363494e+01,   1.18697352e+01,   1.20046369e+01,\n",
        "         1.21410717e+01,   1.22790572e+01,   1.24186109e+01,\n",
        "         1.25597507e+01,   1.27024945e+01,   1.28468607e+01,\n",
        "         1.29928676e+01,   1.31405339e+01,   1.32898785e+01,\n",
        "         1.34409203e+01,   1.35936788e+01,   1.37481735e+01,\n",
        "         1.39044239e+01,   1.40624502e+01,   1.42222725e+01,\n",
        "         1.43839113e+01,   1.45473870e+01,   1.47127207e+01,\n",
        "         1.48799334e+01,   1.50490466e+01,   1.52200817e+01,\n",
        "         1.53930607e+01,   1.55680057e+01,   1.57449389e+01,\n",
        "         1.59238830e+01,   1.61048608e+01,   1.62878954e+01,\n",
        "         1.64730103e+01,   1.66602291e+01,   1.68495756e+01,\n",
        "         1.70410741e+01,   1.72347490e+01,   1.74306250e+01,\n",
        "         1.76287273e+01,   1.78290809e+01,   1.80317117e+01,\n",
        "         1.82366454e+01,   1.84439081e+01,   1.86535265e+01,\n",
        "         1.88655272e+01,   1.90799374e+01,   1.92967843e+01,\n",
        "         1.95160958e+01,   1.97378997e+01,   1.99622245e+01,\n",
        "         2.01890988e+01,   2.04185516e+01,   2.06506122e+01,\n",
        "         2.08853101e+01,   2.11226755e+01,   2.13627385e+01,\n",
        "         2.16055299e+01,   2.18510807e+01,   2.20994222e+01,\n",
        "         2.23505861e+01,   2.26046046e+01,   2.28615100e+01,\n",
        "         2.31213352e+01,   2.33841134e+01,   2.36498781e+01,\n",
        "         2.39186632e+01,   2.41905032e+01,   2.44654326e+01,\n",
        "         2.47434867e+01,   2.50247009e+01,   2.53091112e+01,\n",
        "         2.55967538e+01,   2.58876656e+01,   2.61818836e+01,\n",
        "         2.64794455e+01,   2.67803892e+01,   2.70847532e+01,\n",
        "         2.73925763e+01,   2.77038979e+01,   2.80187577e+01,\n",
        "         2.83371960e+01,   2.86592534e+01,   2.89849710e+01,\n",
        "         2.93143904e+01,   2.96475538e+01,   2.99845036e+01,\n",
        "         3.03252830e+01,   3.06699353e+01,   3.10185047e+01,\n",
        "         3.13710356e+01,   3.17275731e+01,   3.20881628e+01,\n",
        "         3.24528505e+01,   3.28216831e+01,   3.31947075e+01,\n",
        "         3.35719713e+01,   3.39535229e+01,   3.43394108e+01,\n",
        "         3.47296845e+01,   3.51243936e+01,   3.55235887e+01,\n",
        "         3.59273208e+01,   3.63356413e+01,   3.67486025e+01,\n",
        "         3.71662570e+01,   3.75886582e+01,   3.80158602e+01,\n",
        "         3.84479173e+01,   3.88848849e+01,   3.93268186e+01,\n",
        "         3.97737751e+01,   4.02258112e+01,   4.06829849e+01,\n",
        "         4.11453544e+01,   4.16129788e+01,   4.20859179e+01,\n",
        "         4.25642320e+01,   4.30479822e+01,   4.35372303e+01,\n",
        "         4.40320388e+01,   4.45324710e+01,   4.50385906e+01,\n",
        "         4.55504623e+01,   4.60681516e+01,   4.65917245e+01,\n",
        "         4.71212479e+01,   4.76567894e+01,   4.81984175e+01,\n",
        "         4.87462013e+01,   4.93002107e+01,   4.98605165e+01,\n",
        "         5.04271903e+01,   5.10003045e+01,   5.15799322e+01,\n",
        "         5.21661475e+01,   5.27590252e+01,   5.33586411e+01,\n",
        "         5.39650718e+01,   5.45783946e+01,   5.51986880e+01,\n",
        "         5.58260311e+01,   5.64605041e+01,   5.71021879e+01,\n",
        "         5.77511647e+01,   5.84075171e+01,   5.90713292e+01,\n",
        "         5.97426855e+01,   6.04216720e+01,   6.11083753e+01,\n",
        "         6.18028830e+01,   6.25052840e+01,   6.32156679e+01,\n",
        "         6.39341254e+01,   6.46607484e+01,   6.53956295e+01,\n",
        "         6.61388627e+01,   6.68905429e+01,   6.76507661e+01,\n",
        "         6.84196293e+01,   6.91972308e+01,   6.99836699e+01,\n",
        "         7.07790470e+01,   7.15834637e+01,   7.23970227e+01,\n",
        "         7.32198280e+01,   7.40519847e+01,   7.48935989e+01,\n",
        "         7.57447783e+01,   7.66056314e+01,   7.74762683e+01,\n",
        "         7.83568002e+01,   7.92473394e+01,   8.01479998e+01,\n",
        "         8.10588964e+01,   8.19801454e+01,   8.29118647e+01,\n",
        "         8.38541731e+01,   8.48071910e+01,   8.57710401e+01,\n",
        "         8.67458435e+01,   8.77317258e+01,   8.87288127e+01,\n",
        "         8.97372318e+01,   9.07571117e+01,   9.17885828e+01,\n",
        "         9.28317767e+01,   9.38868267e+01,   9.49538675e+01,\n",
        "         9.60330354e+01,   9.71244683e+01,   9.82283055e+01,\n",
        "         9.93446880e+01,   1.00473758e+02,   1.01615661e+02,\n",
        "         1.02770541e+02,   1.03938547e+02,   1.05119828e+02,\n",
        "         1.06314534e+02,   1.07522818e+02,   1.08744834e+02,\n",
        "         1.09980739e+02,   1.11230690e+02,   1.12494847e+02,\n",
        "         1.13773371e+02,   1.15066426e+02,   1.16374177e+02,\n",
        "         1.17696790e+02,   1.19034436e+02,   1.20387284e+02,\n",
        "         1.21755507e+02,   1.23139281e+02,   1.24538781e+02,\n",
        "         1.25954187e+02,   1.27385679e+02,   1.28833440e+02,\n",
        "         1.30297656e+02,   1.31778512e+02,   1.33276199e+02,\n",
        "         1.34790907e+02,   1.36322830e+02,   1.37872164e+02,\n",
        "         1.39439106e+02,   1.41023857e+02,   1.42626619e+02,\n",
        "         1.44247596e+02,   1.45886996e+02,   1.47545028e+02,\n",
        "         1.49221904e+02,   1.50917838e+02,   1.52633047e+02,\n",
        "         1.54367749e+02,   1.56122167e+02,   1.57896523e+02,\n",
        "         1.59691046e+02,   1.61505964e+02,   1.63341508e+02,\n",
        "         1.65197914e+02,   1.67075418e+02,   1.68974261e+02,\n",
        "         1.70894684e+02,   1.72836933e+02,   1.74801256e+02,\n",
        "         1.76787904e+02,   1.78797131e+02,   1.80829193e+02,\n",
        "         1.82884349e+02,   1.84962863e+02,   1.87065000e+02,\n",
        "         1.89191027e+02,   1.91341218e+02,   1.93515845e+02,\n",
        "         1.95715188e+02,   1.97939527e+02,   2.00189145e+02,\n",
        "         2.02464331e+02,   2.04765375e+02,   2.07092571e+02,\n",
        "         2.09446215e+02,   2.11826610e+02,   2.14234057e+02,\n",
        "         2.16668866e+02,   2.19131347e+02,   2.21621815e+02,\n",
        "         2.24140587e+02,   2.26687986e+02,   2.29264336e+02,\n",
        "         2.31869966e+02,   2.34505211e+02,   2.37170405e+02,\n",
        "         2.39865890e+02,   2.42592009e+02,   2.45349111e+02,\n",
        "         2.48137548e+02,   2.50957677e+02,   2.53809856e+02,\n",
        "         2.56694451e+02,   2.59611830e+02,   2.62562366e+02,\n",
        "         2.65546435e+02,   2.68564418e+02,   2.71616702e+02,\n",
        "         2.74703675e+02,   2.77825732e+02,   2.80983272e+02,\n",
        "         2.84176697e+02,   2.87406417e+02,   2.90672843e+02,\n",
        "         2.93976393e+02,   2.97317488e+02,   3.00696555e+02,\n",
        "         3.04114026e+02,   3.07570337e+02,   3.11065930e+02,\n",
        "         3.14601251e+02,   3.18176751e+02,   3.21792887e+02,\n",
        "         3.25450122e+02,   3.29148922e+02,   3.32889759e+02,\n",
        "         3.36673111e+02,   3.40499462e+02,   3.44369301e+02,\n",
        "         3.48283120e+02,   3.52241421e+02,   3.56244709e+02,\n",
        "         3.60293495e+02,   3.64388295e+02,   3.68529635e+02,\n",
        "         3.72718041e+02,   3.76954049e+02,   3.81238200e+02,\n",
        "         3.85571041e+02,   3.89953126e+02,   3.94385014e+02,\n",
        "         3.98867272e+02,   4.03400470e+02,   4.07985190e+02,\n",
        "         4.12622016e+02,   4.17311540e+02,   4.22054361e+02,\n",
        "         4.26851086e+02,   4.31702326e+02,   4.36608701e+02,\n",
        "         4.41570838e+02,   4.46589371e+02,   4.51664940e+02,\n",
        "         4.56798194e+02,   4.61989788e+02,   4.67240386e+02,\n",
        "         4.72550658e+02,   4.77921282e+02,   4.83352944e+02,\n",
        "         4.88846338e+02,   4.94402165e+02,   5.00021136e+02,\n",
        "         5.05703967e+02,   5.11451384e+02,   5.17264122e+02,\n",
        "         5.23142922e+02,   5.29088537e+02,   5.35101724e+02,\n",
        "         5.41183252e+02,   5.47333898e+02,   5.53554447e+02,\n",
        "         5.59845694e+02,   5.66208442e+02,   5.72643503e+02,\n",
        "         5.79151701e+02,   5.85733865e+02,   5.92390836e+02,\n",
        "         5.99123466e+02,   6.05932613e+02,   6.12819147e+02,\n",
        "         6.19783948e+02,   6.26827905e+02,   6.33951917e+02,\n",
        "         6.41156896e+02,   6.48443761e+02,   6.55813442e+02,\n",
        "         6.63266880e+02,   6.70805029e+02,   6.78428850e+02,\n",
        "         6.86139317e+02,   6.93937415e+02,   7.01824139e+02,\n",
        "         7.09800498e+02,   7.17867509e+02,   7.26026204e+02,\n",
        "         7.34277623e+02,   7.42622822e+02,   7.51062865e+02,\n",
        "         7.59598831e+02,   7.68231809e+02,   7.76962903e+02,\n",
        "         7.85793228e+02,   7.94723910e+02,   8.03756092e+02,\n",
        "         8.12890926e+02,   8.22129578e+02,   8.31473230e+02,\n",
        "         8.40923074e+02,   8.50480318e+02,   8.60146181e+02,\n",
        "         8.69921898e+02,   8.79808719e+02,   8.89807904e+02,\n",
        "         8.99920733e+02,   9.10148495e+02,   9.20492498e+02,\n",
        "         9.30954062e+02,   9.41534524e+02,   9.52235235e+02,\n",
        "         9.63057561e+02,   9.74002885e+02,   9.85072604e+02,\n",
        "         9.96268133e+02,   1.00759090e+03,   1.01904235e+03,\n",
        "         1.03062396e+03,   1.04233718e+03,   1.05418354e+03,\n",
        "         1.06616452e+03,   1.07828168e+03,   1.09053654e+03,\n",
        "         1.10293069e+03,   1.11546570e+03,   1.12814317e+03,\n",
        "         1.14096472e+03,   1.15393199e+03,   1.16704664e+03,\n",
        "         1.18031033e+03,   1.19372477e+03,   1.20729167e+03,\n",
        "         1.22101276e+03,   1.23488979e+03,   1.24892454e+03,\n",
        "         1.26311879e+03,   1.27747437e+03,   1.29199310e+03,\n",
        "         1.30667683e+03,   1.32152745e+03,   1.33654685e+03,\n",
        "         1.35173695e+03,   1.36709968e+03,   1.38263702e+03,\n",
        "         1.39835094e+03,   1.41424345e+03,   1.43031659e+03,\n",
        "         1.44657239e+03,   1.46301295e+03,   1.47964036e+03,\n",
        "         1.49645674e+03,   1.51346424e+03,   1.53066504e+03,\n",
        "         1.54806132e+03,   1.56565532e+03,   1.58344928e+03,\n",
        "         1.60144547e+03,   1.61964619e+03,   1.63805376e+03,\n",
        "         1.65667054e+03,   1.67549890e+03,   1.69454125e+03,\n",
        "         1.71380002e+03,   1.73327766e+03,   1.75297668e+03,\n",
        "         1.77289958e+03,   1.79304890e+03,   1.81342723e+03,\n",
        "         1.83403716e+03,   1.85488132e+03,   1.87596239e+03,\n",
        "         1.89728304e+03,   1.91884601e+03,   1.94065404e+03,\n",
        "         1.96270992e+03,   1.98501648e+03,   2.00757655e+03,\n",
        "         2.03039302e+03,   2.05346881e+03,   2.07680685e+03,\n",
        "         2.10041014e+03,   2.12428168e+03,   2.14842453e+03,\n",
        "         2.17284176e+03,   2.19753650e+03,   2.22251191e+03,\n",
        "         2.24777116e+03,   2.27331748e+03,   2.29915415e+03,\n",
        "         2.32528445e+03,   2.35171173e+03,   2.37843936e+03,\n",
        "         2.40547076e+03,   2.43280937e+03,   2.46045869e+03,\n",
        "         2.48842225e+03,   2.51670362e+03,   2.54530641e+03,\n",
        "         2.57423428e+03,   2.60349092e+03,   2.63308007e+03,\n",
        "         2.66300550e+03,   2.69327104e+03,   2.72388056e+03,\n",
        "         2.75483795e+03,   2.78614719e+03,   2.81781226e+03,\n",
        "         2.84983720e+03,   2.88222612e+03,   2.91498314e+03,\n",
        "         2.94811246e+03,   2.98161829e+03,   3.01550492e+03,\n",
        "         3.04977668e+03,   3.08443795e+03,   3.11949315e+03,\n",
        "         3.15494675e+03,   3.19080329e+03,   3.22706735e+03,\n",
        "         3.26374356e+03,   3.30083660e+03,   3.33835120e+03,\n",
        "         3.37629217e+03,   3.41466434e+03,   3.45347262e+03,\n",
        "         3.49272197e+03,   3.53241738e+03,   3.57256395e+03,\n",
        "         3.61316679e+03,   3.65423108e+03,   3.69576208e+03,\n",
        "         3.73776509e+03,   3.78024547e+03,   3.82320864e+03,\n",
        "         3.86666010e+03,   3.91060540e+03,   3.95505014e+03,\n",
        "         4.00000000e+03])"
       ]
      }
     ],
     "prompt_number": 9
    },
    {
     "cell_type": "code",
     "collapsed": false,
     "input": [
      "nt = 20\n",
      "nr = 50\n",
      "\n",
      "#Tstar = 4300.\n",
      "#Rstar = 2.5 * Rsun\n",
      "rc = 60 * AU\n",
      "Mdisk = 0.1 * Msun\n",
      "s = 1e-3\n",
      "alpha = 1e-2\n",
      "\n",
      "r = logspace(np.log10(0.05),np.log10(4e3),nr)\n",
      "t = np.linspace(1e4,3e6,nt)*365*24*3600\n",
      "dt = t[1] - t[0]\n",
      "\n",
      "#sigarray_new = np.ndarray(shape = (len(r), len(t)), dtype = float)\n",
      "rdotv = np.ndarray(shape = (len(r), len(t)), dtype = float)\n",
      "rdot_w = np.ndarray(shape = (len(r), len(t)), dtype = float)\n",
      "rdot_noacc = np.ndarray(shape = (len(r), len(t)), dtype = float)\n",
      "\n",
      "\n",
      "for i in range(len(r)):\n",
      "    for j in range(len(t)):\n",
      "        #sigarray_new[i, j] = Sigmadisk(r[i], t[j], alpha, Mdisk, rc, gammadflag = 0)\n",
      "        rdotv[i, j] = rdot_with_acc(r[i], t[j], s, alpha, 1e-3, Mdisk, rhos = 1.6, mu = 2.3)\n",
      "        rdot_noacc[i, j] = rdot(r[i], t[j], s, alpha, 1e-3, Mdisk, rhos = 1.6, mu = 2.3)\n",
      "        rdot_w[i, j] = vacc_new(r[i], t[j], alpha, mu = 2.3, T0 = 120, betaT = 3./7, rc = rc, gammadflag = 0)"
     ],
     "language": "python",
     "metadata": {},
     "outputs": [],
     "prompt_number": 25
    },
    {
     "cell_type": "code",
     "collapsed": false,
     "input": [
      "import time\n",
      "from IPython import display\n",
      "for i in range(nt):\n",
      "    #plt.loglog(r, sigarray[:, i])\n",
      "    plt.loglog(r, -rdotv[:, i])\n",
      "    plt.loglog(r, rdotv[:, i], '--')\n",
      "    plt.loglog(r, -rdot_noacc[:, i], 'r')\n",
      "    plt.loglog(r, rdot_noacc[:, i], '--r')\n",
      "    plt.loglog(r, -rdot_w[:, i], 'g')\n",
      "    plt.loglog(r, rdot_w[:, i], '--g')\n",
      "    #plt.loglog(r, sigparray[:, i], label = 'Ana')\n",
      "    #plt.loglog(r, sigparray_new[:,i], label = 'Ana new')\n",
      "    #plt.loglog(r[:-1], -array1[:, i, 2], '--b')\n",
      "    #plt.title('s=0.001 cm')\n",
      "    plt.xlabel('a [AU]')\n",
      "    #plt.ylabel(r'$\\Sigma_{\\rm d}$ [g cm$^{-2}$]')\n",
      "    #plt.title(str(t[i] / (365*24*3600)))\n",
      "    #plt.ylim(2e-5, 2e5)\n",
      "    #plt.xlim(0.5,100)\n",
      "    #plt.legend()\n",
      "    display.clear_output(wait=True)\n",
      "    #plt.savefig('../figs/Sigma_disk_profiles_Ana_Til_parameters/' +str(s) +'/sigmad_vs_a_t_' + str(i) + '_.pdf')\n",
      "    plt.show()\n",
      "    display.display(plt.gcf())\n",
      "    time.sleep(0.00001)"
     ],
     "language": "python",
     "metadata": {},
     "outputs": [
      {
       "metadata": {},
       "output_type": "display_data",
       "png": "[encoded data removed]",
       "text": [
        "<matplotlib.figure.Figure at 0x10cb677d0>"
       ]
      },
      {
       "metadata": {},
       "output_type": "display_data",
       "text": [
        "<matplotlib.figure.Figure at 0x103390550>"
       ]
      },
      {
       "metadata": {},
       "output_type": "display_data",
       "text": [
        "<matplotlib.figure.Figure at 0x103390550>"
       ]
      }
     ],
     "prompt_number": 3
    },
    {
     "cell_type": "code",
     "collapsed": false,
     "input": [
      "import time\n",
      "from IPython import display\n",
      "for i in range(nt):\n",
      "    #plt.loglog(r, sigarray[:, i])\n",
      "    plt.loglog(r, -2 * pi * r* AU *rdotv[:, i] * sigparray_new[:,i])\n",
      "    plt.loglog(r, 2 * pi * r*AU*rdotv[:, i] * sigparray_new[:,i], '--')\n",
      "    plt.loglog(r, -2 * pi * r*AU*rdot_w[:, i] * sigarray_new[:,i], 'g')\n",
      "    plt.loglog(r, 2 * pi * r*AU*rdot_w[:, i] * sigarray_new[:,i], '--g')\n",
      "    #plt.loglog(r, -rdot_w[:, i], 'g')\n",
      "    #plt.loglog(r, rdot_w[:, i], '--g')\n",
      "    #plt.loglog(r, sigparray[:, i], label = 'Ana')\n",
      "    #plt.loglog(r, sigparray_new[:,i], label = 'Ana new')\n",
      "    #plt.loglog(r[:-1], -array1[:, i, 2], '--b')\n",
      "    #plt.title('s=0.001 cm')\n",
      "    plt.xlabel('a [AU]')\n",
      "    #plt.ylabel(r'$\\Sigma_{\\rm d}$ [g cm$^{-2}$]')\n",
      "    #plt.title(str(t[i] / (365*24*3600)))\n",
      "    #plt.ylim(1e-6, 1)\n",
      "    #plt.xlim(0.5,100)\n",
      "    #plt.legend()\n",
      "    display.clear_output(wait=True)\n",
      "    #plt.savefig('../figs/Sigma_disk_profiles_Ana_Til_parameters/' +str(s) +'/sigmad_vs_a_t_' + str(i) + '_.pdf')\n",
      "    plt.show()\n",
      "    display.display(plt.gcf())\n",
      "    time.sleep(0.00001)"
     ],
     "language": "python",
     "metadata": {},
     "outputs": [
      {
       "metadata": {},
       "output_type": "display_data",
       "png": "[encoded data removed]",
       "text": [
        "<matplotlib.figure.Figure at 0x10cb55d50>"
       ]
      },
      {
       "metadata": {},
       "output_type": "display_data",
       "text": [
        "<matplotlib.figure.Figure at 0x10cb69d90>"
       ]
      },
      {
       "metadata": {},
       "output_type": "display_data",
       "text": [
        "<matplotlib.figure.Figure at 0x10cb69d90>"
       ]
      }
     ],
     "prompt_number": 26
    },
    {
     "cell_type": "code",
     "collapsed": false,
     "input": [
      "sigarray_new[10]"
     ],
     "language": "python",
     "metadata": {},
     "outputs": [
      {
       "metadata": {},
       "output_type": "pyout",
       "prompt_number": 80,
       "text": [
        "array([ 6379.17317558,  4427.17234237,  3296.24428988,  2573.75503325,\n",
        "        2079.81719941,  1724.86518182,  1459.84582555,  1255.89008327,\n",
        "        1095.02312139,   965.53369806,   859.50108482,   771.39782743,\n",
        "         697.26250265,   634.19016394,   580.00763504,   533.0604126 ,\n",
        "         492.06916165,   456.03084957,   424.14923805,   395.78511945])"
       ]
      }
     ],
     "prompt_number": 80
    },
    {
     "cell_type": "code",
     "collapsed": false,
     "input": [
      "sigparray_new[:,-1]/sigarray_new[:,-1]"
     ],
     "language": "python",
     "metadata": {},
     "outputs": [
      {
       "metadata": {},
       "output_type": "pyout",
       "prompt_number": 8,
       "text": [
        "array([ 0.01137015,  0.01137016,  0.01137029,  0.01137053,  0.01137088,\n",
        "        0.01137135,  0.01137195,  0.0113727 ,  0.01137363,  0.01137477,\n",
        "        0.01137615,  0.01137782,  0.01137985,  0.01138229,  0.01138524,\n",
        "        0.01138878,  0.01139303,  0.01139812,  0.01140419,  0.01141143,\n",
        "        0.01142002,  0.01143018,  0.01144215,  0.01145616,  0.01147246,\n",
        "        0.01149125,  0.01151269,  0.0115368 ,  0.01156342,  0.01159208,\n",
        "        0.01162185,  0.01165121,  0.0116778 ,  0.01169827,  0.01170815,\n",
        "        0.01170163,  0.01167089,  0.0116037 ,  0.01147605,  0.01123369,\n",
        "        0.01075301,  0.00977946,  0.0079237 ,  0.00505202,  0.00216995,\n",
        "        0.00067537,  0.00026142,  0.00016546,  0.00014317,  0.00014714])"
       ]
      }
     ],
     "prompt_number": 8
    },
    {
     "cell_type": "code",
     "collapsed": false,
     "input": [
      "tdrift = []\n",
      "for i in range(len(r)):\n",
      "    tdrift = np.append(tdrift, tr(r[i], t[0], 1e5, alpha, 1e-3, Mdisk, rc, rhos = 1.6, mu = 2.3))"
     ],
     "language": "python",
     "metadata": {},
     "outputs": [],
     "prompt_number": 60
    },
    {
     "cell_type": "code",
     "collapsed": false,
     "input": [
      "plt.loglog(r, tdrift)"
     ],
     "language": "python",
     "metadata": {},
     "outputs": [
      {
       "metadata": {},
       "output_type": "pyout",
       "prompt_number": 61,
       "text": [
        "[<matplotlib.lines.Line2D at 0x10e48e5d0>]"
       ]
      },
      {
       "metadata": {},
       "output_type": "display_data",
       "png": "[encoded data removed]",
       "text": [
        "<matplotlib.figure.Figure at 0x10cd97690>"
       ]
      }
     ],
     "prompt_number": 61
    },
    {
     "cell_type": "code",
     "collapsed": false,
     "input": [
      "rf(10.0, 3e6*365*24*3600, 1, 18, 5800., 0.01, 1e-3, 0.1*Msun, returnall = True)"
     ],
     "language": "python",
     "metadata": {},
     "outputs": [
      {
       "metadata": {},
       "output_type": "pyout",
       "prompt_number": 2,
       "text": [
        "(array([  1.00000000e-10,   1.00005521e-10,   1.00011042e-10, ...,\n",
        "          2.42234695e+12,   2.42248068e+12,   2.42261806e+12]),\n",
        " array([ 10.        ,  10.        ,  10.        , ...,   0.48819945,\n",
        "          0.48801704,   0.4876577 ]),\n",
        " array([ 1.        ,  1.        ,  1.        , ...,  0.01900088,\n",
        "         0.01264551,  0.        ]))"
       ]
      }
     ],
     "prompt_number": 2
    },
    {
     "cell_type": "code",
     "collapsed": false,
     "input": [
      "s = np.logspace(np.log10(0.5), 3, 10)\n",
      "\n",
      "a = 1.0 #np.logspace(-1, 2, 50)\n",
      "t = np.logspace(2, np.log10(3e6), 100) * 365 * 24 * 3600\n",
      "\n",
      "desdist = np.ndarray(shape = (len(s), len(t)), dtype = float)\n",
      "\n",
      "for i in range(len(s)):\n",
      "    for j in range(len(t)):\n",
      "        desdist[i, j] = rf(a, t[j], s[i], 18, 5800., 0.01, 1e-3, 0.1*Msun, rhos = 2.0, mu=2.3, Sigma0=2e3, betaS=1)\n",
      "        print s[i], t[j]\n",
      "        \n"
     ],
     "language": "python",
     "metadata": {},
     "outputs": [
      {
       "output_type": "stream",
       "stream": "stdout",
       "text": [
        "0.5 3153600000.0\n",
        "0.5"
       ]
      },
      {
       "output_type": "stream",
       "stream": "stdout",
       "text": [
        " 3499693846.96\n",
        "0.5"
       ]
      },
      {
       "output_type": "stream",
       "stream": "stdout",
       "text": [
        " 3883769984.29\n",
        "0.5"
       ]
      },
      {
       "output_type": "stream",
       "stream": "stdout",
       "text": [
        " 4309996802.71\n",
        "0.5"
       ]
      },
      {
       "output_type": "stream",
       "stream": "stdout",
       "text": [
        " 4783000155.65\n",
        "0.5"
       ]
      },
      {
       "output_type": "stream",
       "stream": "stdout",
       "text": [
        " 5307913563.78\n",
        "0.5"
       ]
      },
      {
       "output_type": "stream",
       "stream": "stdout",
       "text": [
        " 5890433929.27\n",
        "0.5"
       ]
      },
      {
       "output_type": "stream",
       "stream": "stdout",
       "text": [
        " 6536883364.47\n",
        "0.5"
       ]
      },
      {
       "output_type": "stream",
       "stream": "stdout",
       "text": [
        " 7254277805.98\n",
        "0.5"
       ]
      },
      {
       "output_type": "stream",
       "stream": "stdout",
       "text": [
        " 8050403158.84\n",
        "0.5"
       ]
      },
      {
       "output_type": "stream",
       "stream": "stdout",
       "text": [
        " 8933899797.23\n",
        "0.5"
       ]
      },
      {
       "output_type": "stream",
       "stream": "stdout",
       "text": [
        " 9914356338.7\n",
        "0.5"
       ]
      },
      {
       "output_type": "stream",
       "stream": "stdout",
       "text": [
        " 11002413709.8\n",
        "0.5"
       ]
      },
      {
       "output_type": "stream",
       "stream": "stdout",
       "text": [
        " 12209880632.2\n",
        "0.5"
       ]
      },
      {
       "output_type": "stream",
       "stream": "stdout",
       "text": [
        " 13549861783.6\n",
        "0.5"
       ]
      },
      {
       "output_type": "stream",
       "stream": "stdout",
       "text": [
        " 15036900022.6\n",
        "0.5"
       ]
      },
      {
       "output_type": "stream",
       "stream": "stdout",
       "text": [
        " 16687134223.2\n",
        "0.5"
       ]
      },
      {
       "output_type": "stream",
       "stream": "stdout",
       "text": [
        " 18518474430.6\n",
        "0.5"
       ]
      },
      {
       "output_type": "stream",
       "stream": "stdout",
       "text": [
        " 20550796239.2\n",
        "0.5"
       ]
      },
      {
       "output_type": "stream",
       "stream": "stdout",
       "text": [
        " 22806156503.2\n",
        "0.5"
       ]
      },
      {
       "output_type": "stream",
       "stream": "stdout",
       "text": [
        " 25309032720.4\n",
        "0.5"
       ]
      },
      {
       "output_type": "stream",
       "stream": "stdout",
       "text": [
        " 28086588687.2\n",
        "0.5"
       ]
      },
      {
       "output_type": "stream",
       "stream": "stdout",
       "text": [
        " 31168969308.3\n",
        "0.5"
       ]
      },
      {
       "output_type": "stream",
       "stream": "stdout",
       "text": [
        " 34589627760.2\n",
        "0.5"
       ]
      },
      {
       "output_type": "stream",
       "stream": "stdout",
       "text": [
        " 38385688559.4\n",
        "0.5"
       ]
      },
      {
       "output_type": "stream",
       "stream": "stdout",
       "text": [
        " 42598350476.5\n",
        "0.5"
       ]
      },
      {
       "output_type": "stream",
       "stream": "stdout",
       "text": [
        " 47273333667.3\n",
        "0.5"
       ]
      },
      {
       "output_type": "stream",
       "stream": "stdout",
       "text": [
        " 52461375875.4\n",
        "0.5"
       ]
      },
      {
       "output_type": "stream",
       "stream": "stdout",
       "text": [
        " 58218783090.5\n",
        "0.5"
       ]
      },
      {
       "output_type": "stream",
       "stream": "stdout",
       "text": [
        " 64608040639.1\n",
        "0.5"
       ]
      },
      {
       "output_type": "stream",
       "stream": "stdout",
       "text": [
        " 71698491339.7\n",
        "0.5"
       ]
      },
      {
       "output_type": "stream",
       "stream": "stdout",
       "text": [
        " 79567088082.7\n",
        "0.5"
       ]
      },
      {
       "output_type": "stream",
       "stream": "stdout",
       "text": [
        " 88299229003.0\n",
        "0.5"
       ]
      },
      {
       "output_type": "stream",
       "stream": "stdout",
       "text": [
        " 97989684307.8\n",
        "0.5"
       ]
      },
      {
       "output_type": "stream",
       "stream": "stdout",
       "text": [
        " 108743624822.0\n",
        "0.5"
       ]
      },
      {
       "output_type": "stream",
       "stream": "stdout",
       "text": [
        " 120677763408.0\n",
        "0.5"
       ]
      },
      {
       "output_type": "stream",
       "stream": "stdout",
       "text": [
        " 133921621659.0\n",
        "0.5"
       ]
      },
      {
       "output_type": "stream",
       "stream": "stdout",
       "text": [
        " 148618935596.0\n",
        "0.5"
       ]
      },
      {
       "output_type": "stream",
       "stream": "stdout",
       "text": [
        " 164929215642.0\n",
        "0.5"
       ]
      },
      {
       "output_type": "stream",
       "stream": "stdout",
       "text": [
        " 183029477792.0\n",
        "0.5"
       ]
      },
      {
       "output_type": "stream",
       "stream": "stdout",
       "text": [
        " 203116164777.0\n",
        "0.5"
       ]
      },
      {
       "output_type": "stream",
       "stream": "stdout",
       "text": [
        " 225407278060.0\n",
        "0.5"
       ]
      },
      {
       "output_type": "stream",
       "stream": "stdout",
       "text": [
        " 250144743812.0\n",
        "0.5"
       ]
      },
      {
       "output_type": "stream",
       "stream": "stdout",
       "text": [
        " 277597038549.0\n",
        "0.5"
       ]
      },
      {
       "output_type": "stream",
       "stream": "stdout",
       "text": [
        " 308062102912.0\n",
        "0.5"
       ]
      },
      {
       "output_type": "stream",
       "stream": "stdout",
       "text": [
        " 341870575229.0\n",
        "0.5"
       ]
      },
      {
       "output_type": "stream",
       "stream": "stdout",
       "text": [
        " 379389379943.0\n",
        "0.5"
       ]
      },
      {
       "output_type": "stream",
       "stream": "stdout",
       "text": [
        " 421025709851.0\n",
        "0.5"
       ]
      },
      {
       "output_type": "stream",
       "stream": "stdout",
       "text": [
        " 467231445389.0\n",
        "0.5"
       ]
      },
      {
       "output_type": "stream",
       "stream": "stdout",
       "text": [
        " 518508058896.0\n",
        "0.5"
       ]
      },
      {
       "output_type": "stream",
       "stream": "stdout",
       "text": [
        " 575412057115.0\n",
        "0.5"
       ]
      },
      {
       "output_type": "stream",
       "stream": "stdout",
       "text": [
        " 638561020977.0\n",
        "0.5"
       ]
      },
      {
       "output_type": "stream",
       "stream": "stdout",
       "text": [
        " 708640308226.0\n",
        "0.5"
       ]
      },
      {
       "output_type": "stream",
       "stream": "stdout",
       "text": [
        " 786410491630.0\n",
        "0.5"
       ]
      },
      {
       "output_type": "stream",
       "stream": "stdout",
       "text": [
        " 872715613503.0\n",
        "0.5"
       ]
      },
      {
       "output_type": "stream",
       "stream": "stdout",
       "text": [
        " 968492346119.0\n",
        "0.5"
       ]
      },
      {
       "output_type": "stream",
       "stream": "stdout",
       "text": [
        " 1.07478015745e+12\n",
        "0.5"
       ]
      },
      {
       "output_type": "stream",
       "stream": "stdout",
       "text": [
        " 1.19273259255e+12\n",
        "0.5"
       ]
      },
      {
       "output_type": "stream",
       "stream": "stdout",
       "text": [
        " 1.32362979301e+12\n",
        "0.5"
       ]
      },
      {
       "output_type": "stream",
       "stream": "stdout",
       "text": [
        " 1.46889239036e+12\n",
        "0.5"
       ]
      },
      {
       "output_type": "stream",
       "stream": "stdout",
       "text": [
        " 1.63009692427e+12\n",
        "0.5"
       ]
      },
      {
       "output_type": "stream",
       "stream": "stdout",
       "text": [
        " 1.80899295276e+12\n",
        "0.5"
       ]
      },
      {
       "output_type": "stream",
       "stream": "stdout",
       "text": [
        " 2.0075220402e+12\n",
        "0.5"
       ]
      },
      {
       "output_type": "stream",
       "stream": "stdout",
       "text": [
        " 2.22783882918e+12\n",
        "0.5"
       ]
      },
      {
       "output_type": "stream",
       "stream": "stdout",
       "text": [
        " 2.47233442495e+12\n",
        "0.5"
       ]
      },
      {
       "output_type": "stream",
       "stream": "stdout",
       "text": [
        " 2.74366234609e+12\n",
        "0.5"
       ]
      },
      {
       "output_type": "stream",
       "stream": "stdout",
       "text": [
        " 3.04476732329e+12\n",
        "0.5"
       ]
      },
      {
       "output_type": "stream",
       "stream": "stdout",
       "text": [
        " 3.37891725861e+12\n",
        "0.5"
       ]
      },
      {
       "output_type": "stream",
       "stream": "stdout",
       "text": [
        " 3.74973869208e+12\n",
        "0.5"
       ]
      },
      {
       "output_type": "stream",
       "stream": "stdout",
       "text": [
        " 4.1612561607e+12\n",
        "0.5"
       ]
      },
      {
       "output_type": "stream",
       "stream": "stdout",
       "text": [
        " 4.61793587685e+12\n",
        "0.5"
       ]
      },
      {
       "output_type": "stream",
       "stream": "stdout",
       "text": [
        " 5.12473420023e+12\n",
        "0.5"
       ]
      },
      {
       "output_type": "stream",
       "stream": "stdout",
       "text": [
        " 5.68715142943e+12\n",
        "0.5"
       ]
      },
      {
       "output_type": "stream",
       "stream": "stdout",
       "text": [
        " 6.3112914968e+12\n",
        "0.5"
       ]
      },
      {
       "output_type": "stream",
       "stream": "stdout",
       "text": [
        " 7.00392821465e+12\n",
        "0.5"
       ]
      },
      {
       "output_type": "stream",
       "stream": "stdout",
       "text": [
        " 7.77257879166e+12\n",
        "0.5"
       ]
      },
      {
       "output_type": "stream",
       "stream": "stdout",
       "text": [
        " 8.62558541736e+12\n",
        "0.5"
       ]
      },
      {
       "output_type": "stream",
       "stream": "stdout",
       "text": [
        " 9.57220580022e+12\n",
        "0.5"
       ]
      },
      {
       "output_type": "stream",
       "stream": "stdout",
       "text": [
        " 1.06227136418e+13\n",
        "0.5"
       ]
      },
      {
       "output_type": "stream",
       "stream": "stdout",
       "text": [
        " 1.17885101377e+13\n",
        "0.5"
       ]
      },
      {
       "output_type": "stream",
       "stream": "stdout",
       "text": [
        " 1.30822477149e+13\n",
        "0.5"
       ]
      },
      {
       "output_type": "stream",
       "stream": "stdout",
       "text": [
        " 1.45179673492e+13\n",
        "0.5"
       ]
      },
      {
       "output_type": "stream",
       "stream": "stdout",
       "text": [
        " 1.6111250952e+13\n",
        "0.5"
       ]
      },
      {
       "output_type": "stream",
       "stream": "stdout",
       "text": [
        " 1.78793904819e+13\n",
        "0.5"
       ]
      },
      {
       "output_type": "stream",
       "stream": "stdout",
       "text": [
        " 1.98415756141e+13\n",
        "0.5"
       ]
      },
      {
       "output_type": "stream",
       "stream": "stdout",
       "text": [
        " 2.20191020075e+13\n",
        "0.5"
       ]
      },
      {
       "output_type": "stream",
       "stream": "stdout",
       "text": [
        " 2.44356024262e+13\n",
        "0.5"
       ]
      },
      {
       "output_type": "stream",
       "stream": "stdout",
       "text": [
        " 2.71173032273e+13\n",
        "0.5"
       ]
      },
      {
       "output_type": "stream",
       "stream": "stdout",
       "text": [
        " 3.00933089963e+13\n",
        "0.5"
       ]
      },
      {
       "output_type": "stream",
       "stream": "stdout",
       "text": [
        " 3.33959184199e+13\n",
        "0.5"
       ]
      },
      {
       "output_type": "stream",
       "stream": "stdout",
       "text": [
        " 3.70609748249e+13\n",
        "0.5"
       ]
      },
      {
       "output_type": "stream",
       "stream": "stdout",
       "text": [
        " 4.11282551868e+13\n",
        "0.5"
       ]
      },
      {
       "output_type": "stream",
       "stream": "stdout",
       "text": [
        " 4.56419018307e+13\n",
        "0.5"
       ]
      },
      {
       "output_type": "stream",
       "stream": "stdout",
       "text": [
        " 5.06509015095e+13\n",
        "0.5"
       ]
      },
      {
       "output_type": "stream",
       "stream": "stdout",
       "text": [
        " 5.62096170586e+13\n",
        "0.5"
       ]
      },
      {
       "output_type": "stream",
       "stream": "stdout",
       "text": [
        " 6.23783773972e+13\n",
        "0.5"
       ]
      },
      {
       "output_type": "stream",
       "stream": "stdout",
       "text": [
        " 6.92241322807e+13\n",
        "0.5"
       ]
      },
      {
       "output_type": "stream",
       "stream": "stdout",
       "text": [
        " 7.68211789079e+13\n",
        "0.5"
       ]
      },
      {
       "output_type": "stream",
       "stream": "stdout",
       "text": [
        " 8.52519682712e+13\n",
        "0.5"
       ]
      },
      {
       "output_type": "stream",
       "stream": "stdout",
       "text": [
        " 9.4608e+13\n",
        "1.16345908439"
       ]
      },
      {
       "output_type": "stream",
       "stream": "stdout",
       "text": [
        " 3153600000.0\n",
        "1.16345908439"
       ]
      },
      {
       "output_type": "stream",
       "stream": "stdout",
       "text": [
        " 3499693846.96\n",
        "1.16345908439"
       ]
      },
      {
       "output_type": "stream",
       "stream": "stdout",
       "text": [
        " 3883769984.29\n",
        "1.16345908439"
       ]
      },
      {
       "output_type": "stream",
       "stream": "stdout",
       "text": [
        " 4309996802.71\n",
        "1.16345908439"
       ]
      },
      {
       "output_type": "stream",
       "stream": "stdout",
       "text": [
        " 4783000155.65\n",
        "1.16345908439"
       ]
      },
      {
       "output_type": "stream",
       "stream": "stdout",
       "text": [
        " 5307913563.78\n",
        "1.16345908439"
       ]
      },
      {
       "output_type": "stream",
       "stream": "stdout",
       "text": [
        " 5890433929.27\n",
        "1.16345908439"
       ]
      },
      {
       "output_type": "stream",
       "stream": "stdout",
       "text": [
        " 6536883364.47\n",
        "1.16345908439"
       ]
      },
      {
       "output_type": "stream",
       "stream": "stdout",
       "text": [
        " 7254277805.98\n",
        "1.16345908439"
       ]
      },
      {
       "output_type": "stream",
       "stream": "stdout",
       "text": [
        " 8050403158.84\n",
        "1.16345908439"
       ]
      },
      {
       "output_type": "stream",
       "stream": "stdout",
       "text": [
        " 8933899797.23\n",
        "1.16345908439"
       ]
      },
      {
       "output_type": "stream",
       "stream": "stdout",
       "text": [
        " 9914356338.7\n",
        "1.16345908439"
       ]
      },
      {
       "output_type": "stream",
       "stream": "stdout",
       "text": [
        " 11002413709.8\n",
        "1.16345908439"
       ]
      },
      {
       "output_type": "stream",
       "stream": "stdout",
       "text": [
        " 12209880632.2\n",
        "1.16345908439"
       ]
      },
      {
       "output_type": "stream",
       "stream": "stdout",
       "text": [
        " 13549861783.6\n",
        "1.16345908439"
       ]
      },
      {
       "output_type": "stream",
       "stream": "stdout",
       "text": [
        " 15036900022.6\n",
        "1.16345908439"
       ]
      },
      {
       "output_type": "stream",
       "stream": "stdout",
       "text": [
        " 16687134223.2\n",
        "1.16345908439"
       ]
      },
      {
       "output_type": "stream",
       "stream": "stdout",
       "text": [
        " 18518474430.6\n",
        "1.16345908439"
       ]
      },
      {
       "output_type": "stream",
       "stream": "stdout",
       "text": [
        " 20550796239.2\n",
        "1.16345908439"
       ]
      },
      {
       "output_type": "stream",
       "stream": "stdout",
       "text": [
        " 22806156503.2\n",
        "1.16345908439"
       ]
      },
      {
       "output_type": "stream",
       "stream": "stdout",
       "text": [
        " 25309032720.4\n",
        "1.16345908439"
       ]
      },
      {
       "output_type": "stream",
       "stream": "stdout",
       "text": [
        " 28086588687.2\n",
        "1.16345908439"
       ]
      },
      {
       "output_type": "stream",
       "stream": "stdout",
       "text": [
        " 31168969308.3\n",
        "1.16345908439"
       ]
      },
      {
       "output_type": "stream",
       "stream": "stdout",
       "text": [
        " 34589627760.2\n",
        "1.16345908439"
       ]
      },
      {
       "output_type": "stream",
       "stream": "stdout",
       "text": [
        " 38385688559.4\n",
        "1.16345908439"
       ]
      },
      {
       "output_type": "stream",
       "stream": "stdout",
       "text": [
        " 42598350476.5\n",
        "1.16345908439"
       ]
      },
      {
       "output_type": "stream",
       "stream": "stdout",
       "text": [
        " 47273333667.3\n",
        "1.16345908439"
       ]
      },
      {
       "output_type": "stream",
       "stream": "stdout",
       "text": [
        " 52461375875.4\n",
        "1.16345908439"
       ]
      },
      {
       "output_type": "stream",
       "stream": "stdout",
       "text": [
        " 58218783090.5\n",
        "1.16345908439"
       ]
      },
      {
       "output_type": "stream",
       "stream": "stdout",
       "text": [
        " 64608040639.1\n",
        "1.16345908439"
       ]
      },
      {
       "output_type": "stream",
       "stream": "stdout",
       "text": [
        " 71698491339.7\n",
        "1.16345908439"
       ]
      },
      {
       "output_type": "stream",
       "stream": "stdout",
       "text": [
        " 79567088082.7\n",
        "1.16345908439"
       ]
      },
      {
       "output_type": "stream",
       "stream": "stdout",
       "text": [
        " 88299229003.0\n",
        "1.16345908439"
       ]
      },
      {
       "output_type": "stream",
       "stream": "stdout",
       "text": [
        " 97989684307.8\n",
        "1.16345908439"
       ]
      },
      {
       "output_type": "stream",
       "stream": "stdout",
       "text": [
        " 108743624822.0\n",
        "1.16345908439"
       ]
      },
      {
       "output_type": "stream",
       "stream": "stdout",
       "text": [
        " 120677763408.0\n",
        "1.16345908439"
       ]
      },
      {
       "output_type": "stream",
       "stream": "stdout",
       "text": [
        " 133921621659.0\n",
        "1.16345908439"
       ]
      },
      {
       "output_type": "stream",
       "stream": "stdout",
       "text": [
        " 148618935596.0\n",
        "1.16345908439"
       ]
      },
      {
       "output_type": "stream",
       "stream": "stdout",
       "text": [
        " 164929215642.0\n",
        "1.16345908439"
       ]
      },
      {
       "output_type": "stream",
       "stream": "stdout",
       "text": [
        " 183029477792.0\n",
        "1.16345908439"
       ]
      },
      {
       "output_type": "stream",
       "stream": "stdout",
       "text": [
        " 203116164777.0\n",
        "1.16345908439"
       ]
      },
      {
       "output_type": "stream",
       "stream": "stdout",
       "text": [
        " 225407278060.0\n",
        "1.16345908439"
       ]
      },
      {
       "output_type": "stream",
       "stream": "stdout",
       "text": [
        " 250144743812.0\n",
        "1.16345908439"
       ]
      },
      {
       "output_type": "stream",
       "stream": "stdout",
       "text": [
        " 277597038549.0\n",
        "1.16345908439"
       ]
      },
      {
       "output_type": "stream",
       "stream": "stdout",
       "text": [
        " 308062102912.0\n",
        "1.16345908439"
       ]
      },
      {
       "output_type": "stream",
       "stream": "stdout",
       "text": [
        " 341870575229.0\n",
        "1.16345908439"
       ]
      },
      {
       "output_type": "stream",
       "stream": "stdout",
       "text": [
        " 379389379943.0\n",
        "1.16345908439"
       ]
      },
      {
       "output_type": "stream",
       "stream": "stdout",
       "text": [
        " 421025709851.0\n",
        "1.16345908439"
       ]
      },
      {
       "output_type": "stream",
       "stream": "stdout",
       "text": [
        " 467231445389.0\n",
        "1.16345908439"
       ]
      },
      {
       "output_type": "stream",
       "stream": "stdout",
       "text": [
        " 518508058896.0\n",
        "1.16345908439"
       ]
      },
      {
       "output_type": "stream",
       "stream": "stdout",
       "text": [
        " 575412057115.0\n",
        "1.16345908439"
       ]
      },
      {
       "output_type": "stream",
       "stream": "stdout",
       "text": [
        " 638561020977.0\n",
        "1.16345908439"
       ]
      },
      {
       "output_type": "stream",
       "stream": "stdout",
       "text": [
        " 708640308226.0\n",
        "1.16345908439"
       ]
      },
      {
       "output_type": "stream",
       "stream": "stdout",
       "text": [
        " 786410491630.0\n",
        "1.16345908439"
       ]
      },
      {
       "output_type": "stream",
       "stream": "stdout",
       "text": [
        " 872715613503.0\n",
        "1.16345908439"
       ]
      },
      {
       "output_type": "stream",
       "stream": "stdout",
       "text": [
        " 968492346119.0\n",
        "1.16345908439"
       ]
      },
      {
       "output_type": "stream",
       "stream": "stdout",
       "text": [
        " 1.07478015745e+12\n",
        "1.16345908439"
       ]
      },
      {
       "output_type": "stream",
       "stream": "stdout",
       "text": [
        " 1.19273259255e+12\n",
        "1.16345908439"
       ]
      },
      {
       "output_type": "stream",
       "stream": "stdout",
       "text": [
        " 1.32362979301e+12\n",
        "1.16345908439"
       ]
      },
      {
       "output_type": "stream",
       "stream": "stdout",
       "text": [
        " 1.46889239036e+12\n",
        "1.16345908439"
       ]
      },
      {
       "output_type": "stream",
       "stream": "stdout",
       "text": [
        " 1.63009692427e+12\n",
        "1.16345908439"
       ]
      },
      {
       "output_type": "stream",
       "stream": "stdout",
       "text": [
        " 1.80899295276e+12\n",
        "1.16345908439"
       ]
      },
      {
       "output_type": "stream",
       "stream": "stdout",
       "text": [
        " 2.0075220402e+12\n",
        "1.16345908439"
       ]
      },
      {
       "output_type": "stream",
       "stream": "stdout",
       "text": [
        " 2.22783882918e+12\n",
        "1.16345908439"
       ]
      },
      {
       "output_type": "stream",
       "stream": "stdout",
       "text": [
        " 2.47233442495e+12\n",
        "1.16345908439"
       ]
      },
      {
       "output_type": "stream",
       "stream": "stdout",
       "text": [
        " 2.74366234609e+12\n",
        "1.16345908439"
       ]
      },
      {
       "output_type": "stream",
       "stream": "stdout",
       "text": [
        " 3.04476732329e+12\n",
        "1.16345908439"
       ]
      },
      {
       "output_type": "stream",
       "stream": "stdout",
       "text": [
        " 3.37891725861e+12\n",
        "1.16345908439"
       ]
      },
      {
       "output_type": "stream",
       "stream": "stdout",
       "text": [
        " 3.74973869208e+12\n",
        "1.16345908439"
       ]
      },
      {
       "output_type": "stream",
       "stream": "stdout",
       "text": [
        " 4.1612561607e+12\n",
        "1.16345908439"
       ]
      },
      {
       "output_type": "stream",
       "stream": "stdout",
       "text": [
        " 4.61793587685e+12\n",
        "1.16345908439"
       ]
      },
      {
       "output_type": "stream",
       "stream": "stdout",
       "text": [
        " 5.12473420023e+12\n",
        "1.16345908439"
       ]
      },
      {
       "output_type": "stream",
       "stream": "stdout",
       "text": [
        " 5.68715142943e+12\n",
        "1.16345908439"
       ]
      },
      {
       "output_type": "stream",
       "stream": "stdout",
       "text": [
        " 6.3112914968e+12\n",
        "1.16345908439"
       ]
      },
      {
       "output_type": "stream",
       "stream": "stdout",
       "text": [
        " 7.00392821465e+12\n",
        "1.16345908439"
       ]
      },
      {
       "output_type": "stream",
       "stream": "stdout",
       "text": [
        " 7.77257879166e+12\n",
        "1.16345908439"
       ]
      },
      {
       "output_type": "stream",
       "stream": "stdout",
       "text": [
        " 8.62558541736e+12\n",
        "1.16345908439"
       ]
      },
      {
       "output_type": "stream",
       "stream": "stdout",
       "text": [
        " 9.57220580022e+12\n",
        "1.16345908439"
       ]
      },
      {
       "output_type": "stream",
       "stream": "stdout",
       "text": [
        " 1.06227136418e+13\n",
        "1.16345908439"
       ]
      },
      {
       "output_type": "stream",
       "stream": "stdout",
       "text": [
        " 1.17885101377e+13\n",
        "1.16345908439"
       ]
      },
      {
       "output_type": "stream",
       "stream": "stdout",
       "text": [
        " 1.30822477149e+13\n",
        "1.16345908439"
       ]
      },
      {
       "output_type": "stream",
       "stream": "stdout",
       "text": [
        " 1.45179673492e+13\n",
        "1.16345908439"
       ]
      },
      {
       "output_type": "stream",
       "stream": "stdout",
       "text": [
        " 1.6111250952e+13\n",
        "1.16345908439"
       ]
      },
      {
       "output_type": "stream",
       "stream": "stdout",
       "text": [
        " 1.78793904819e+13\n",
        "1.16345908439"
       ]
      },
      {
       "output_type": "stream",
       "stream": "stdout",
       "text": [
        " 1.98415756141e+13\n",
        "1.16345908439"
       ]
      },
      {
       "output_type": "stream",
       "stream": "stdout",
       "text": [
        " 2.20191020075e+13\n",
        "1.16345908439"
       ]
      },
      {
       "output_type": "stream",
       "stream": "stdout",
       "text": [
        " 2.44356024262e+13\n",
        "1.16345908439"
       ]
      },
      {
       "output_type": "stream",
       "stream": "stdout",
       "text": [
        " 2.71173032273e+13\n",
        "1.16345908439"
       ]
      },
      {
       "output_type": "stream",
       "stream": "stdout",
       "text": [
        " 3.00933089963e+13\n",
        "1.16345908439"
       ]
      },
      {
       "output_type": "stream",
       "stream": "stdout",
       "text": [
        " 3.33959184199e+13\n",
        "1.16345908439"
       ]
      },
      {
       "output_type": "stream",
       "stream": "stdout",
       "text": [
        " 3.70609748249e+13\n",
        "1.16345908439"
       ]
      },
      {
       "output_type": "stream",
       "stream": "stdout",
       "text": [
        " 4.11282551868e+13\n",
        "1.16345908439"
       ]
      },
      {
       "output_type": "stream",
       "stream": "stdout",
       "text": [
        " 4.56419018307e+13\n",
        "1.16345908439"
       ]
      },
      {
       "output_type": "stream",
       "stream": "stdout",
       "text": [
        " 5.06509015095e+13\n",
        "1.16345908439"
       ]
      },
      {
       "output_type": "stream",
       "stream": "stdout",
       "text": [
        " 5.62096170586e+13\n",
        "1.16345908439"
       ]
      },
      {
       "output_type": "stream",
       "stream": "stdout",
       "text": [
        " 6.23783773972e+13\n",
        "1.16345908439"
       ]
      },
      {
       "output_type": "stream",
       "stream": "stdout",
       "text": [
        " 6.92241322807e+13\n",
        "1.16345908439"
       ]
      },
      {
       "output_type": "stream",
       "stream": "stdout",
       "text": [
        " 7.68211789079e+13\n",
        "1.16345908439"
       ]
      },
      {
       "output_type": "stream",
       "stream": "stdout",
       "text": [
        " 8.52519682712e+13\n",
        "1.16345908439"
       ]
      },
      {
       "output_type": "stream",
       "stream": "stdout",
       "text": [
        " 9.4608e+13\n",
        "2.70727408209"
       ]
      },
      {
       "output_type": "stream",
       "stream": "stdout",
       "text": [
        " 3153600000.0\n",
        "2.70727408209"
       ]
      },
      {
       "output_type": "stream",
       "stream": "stdout",
       "text": [
        " 3499693846.96\n",
        "2.70727408209"
       ]
      },
      {
       "output_type": "stream",
       "stream": "stdout",
       "text": [
        " 3883769984.29\n",
        "2.70727408209"
       ]
      },
      {
       "output_type": "stream",
       "stream": "stdout",
       "text": [
        " 4309996802.71\n",
        "2.70727408209"
       ]
      },
      {
       "output_type": "stream",
       "stream": "stdout",
       "text": [
        " 4783000155.65\n",
        "2.70727408209"
       ]
      },
      {
       "output_type": "stream",
       "stream": "stdout",
       "text": [
        " 5307913563.78\n",
        "2.70727408209"
       ]
      },
      {
       "output_type": "stream",
       "stream": "stdout",
       "text": [
        " 5890433929.27\n",
        "2.70727408209"
       ]
      },
      {
       "output_type": "stream",
       "stream": "stdout",
       "text": [
        " 6536883364.47\n",
        "2.70727408209"
       ]
      },
      {
       "output_type": "stream",
       "stream": "stdout",
       "text": [
        " 7254277805.98\n",
        "2.70727408209"
       ]
      },
      {
       "output_type": "stream",
       "stream": "stdout",
       "text": [
        " 8050403158.84\n",
        "2.70727408209"
       ]
      },
      {
       "output_type": "stream",
       "stream": "stdout",
       "text": [
        " 8933899797.23\n",
        "2.70727408209"
       ]
      },
      {
       "output_type": "stream",
       "stream": "stdout",
       "text": [
        " 9914356338.7\n",
        "2.70727408209"
       ]
      },
      {
       "output_type": "stream",
       "stream": "stdout",
       "text": [
        " 11002413709.8\n",
        "2.70727408209"
       ]
      },
      {
       "output_type": "stream",
       "stream": "stdout",
       "text": [
        " 12209880632.2\n",
        "2.70727408209"
       ]
      },
      {
       "output_type": "stream",
       "stream": "stdout",
       "text": [
        " 13549861783.6\n",
        "2.70727408209"
       ]
      },
      {
       "output_type": "stream",
       "stream": "stdout",
       "text": [
        " 15036900022.6\n",
        "2.70727408209"
       ]
      },
      {
       "output_type": "stream",
       "stream": "stdout",
       "text": [
        " 16687134223.2\n",
        "2.70727408209"
       ]
      },
      {
       "output_type": "stream",
       "stream": "stdout",
       "text": [
        " 18518474430.6\n",
        "2.70727408209"
       ]
      },
      {
       "output_type": "stream",
       "stream": "stdout",
       "text": [
        " 20550796239.2\n",
        "2.70727408209"
       ]
      },
      {
       "output_type": "stream",
       "stream": "stdout",
       "text": [
        " 22806156503.2\n",
        "2.70727408209"
       ]
      },
      {
       "output_type": "stream",
       "stream": "stdout",
       "text": [
        " 25309032720.4\n",
        "2.70727408209"
       ]
      },
      {
       "output_type": "stream",
       "stream": "stdout",
       "text": [
        " 28086588687.2\n",
        "2.70727408209"
       ]
      },
      {
       "output_type": "stream",
       "stream": "stdout",
       "text": [
        " 31168969308.3\n",
        "2.70727408209"
       ]
      },
      {
       "output_type": "stream",
       "stream": "stdout",
       "text": [
        " 34589627760.2\n",
        "2.70727408209"
       ]
      },
      {
       "output_type": "stream",
       "stream": "stdout",
       "text": [
        " 38385688559.4\n",
        "2.70727408209"
       ]
      },
      {
       "output_type": "stream",
       "stream": "stdout",
       "text": [
        " 42598350476.5\n",
        "2.70727408209"
       ]
      },
      {
       "output_type": "stream",
       "stream": "stdout",
       "text": [
        " 47273333667.3\n",
        "2.70727408209"
       ]
      },
      {
       "output_type": "stream",
       "stream": "stdout",
       "text": [
        " 52461375875.4\n",
        "2.70727408209"
       ]
      },
      {
       "output_type": "stream",
       "stream": "stdout",
       "text": [
        " 58218783090.5\n",
        "2.70727408209"
       ]
      },
      {
       "output_type": "stream",
       "stream": "stdout",
       "text": [
        " 64608040639.1\n",
        "2.70727408209"
       ]
      },
      {
       "output_type": "stream",
       "stream": "stdout",
       "text": [
        " 71698491339.7\n",
        "2.70727408209"
       ]
      },
      {
       "output_type": "stream",
       "stream": "stdout",
       "text": [
        " 79567088082.7\n",
        "2.70727408209"
       ]
      },
      {
       "output_type": "stream",
       "stream": "stdout",
       "text": [
        " 88299229003.0\n",
        "2.70727408209"
       ]
      },
      {
       "output_type": "stream",
       "stream": "stdout",
       "text": [
        " 97989684307.8\n",
        "2.70727408209"
       ]
      },
      {
       "output_type": "stream",
       "stream": "stdout",
       "text": [
        " 108743624822.0\n",
        "2.70727408209"
       ]
      },
      {
       "output_type": "stream",
       "stream": "stdout",
       "text": [
        " 120677763408.0\n",
        "2.70727408209"
       ]
      },
      {
       "output_type": "stream",
       "stream": "stdout",
       "text": [
        " 133921621659.0\n",
        "2.70727408209"
       ]
      },
      {
       "output_type": "stream",
       "stream": "stdout",
       "text": [
        " 148618935596.0\n",
        "2.70727408209"
       ]
      },
      {
       "output_type": "stream",
       "stream": "stdout",
       "text": [
        " 164929215642.0\n",
        "2.70727408209"
       ]
      },
      {
       "output_type": "stream",
       "stream": "stdout",
       "text": [
        " 183029477792.0\n",
        "2.70727408209"
       ]
      },
      {
       "output_type": "stream",
       "stream": "stdout",
       "text": [
        " 203116164777.0\n",
        "2.70727408209"
       ]
      },
      {
       "output_type": "stream",
       "stream": "stdout",
       "text": [
        " 225407278060.0\n",
        "2.70727408209"
       ]
      },
      {
       "output_type": "stream",
       "stream": "stdout",
       "text": [
        " 250144743812.0\n",
        "2.70727408209"
       ]
      },
      {
       "output_type": "stream",
       "stream": "stdout",
       "text": [
        " 277597038549.0\n",
        "2.70727408209"
       ]
      },
      {
       "output_type": "stream",
       "stream": "stdout",
       "text": [
        " 308062102912.0\n",
        "2.70727408209"
       ]
      },
      {
       "output_type": "stream",
       "stream": "stdout",
       "text": [
        " 341870575229.0\n",
        "2.70727408209"
       ]
      },
      {
       "output_type": "stream",
       "stream": "stdout",
       "text": [
        " 379389379943.0\n",
        "2.70727408209"
       ]
      },
      {
       "output_type": "stream",
       "stream": "stdout",
       "text": [
        " 421025709851.0\n",
        "2.70727408209"
       ]
      },
      {
       "output_type": "stream",
       "stream": "stdout",
       "text": [
        " 467231445389.0\n",
        "2.70727408209"
       ]
      },
      {
       "output_type": "stream",
       "stream": "stdout",
       "text": [
        " 518508058896.0\n",
        "2.70727408209"
       ]
      },
      {
       "output_type": "stream",
       "stream": "stdout",
       "text": [
        " 575412057115.0\n",
        "2.70727408209"
       ]
      },
      {
       "output_type": "stream",
       "stream": "stdout",
       "text": [
        " 638561020977.0\n",
        "2.70727408209"
       ]
      },
      {
       "output_type": "stream",
       "stream": "stdout",
       "text": [
        " 708640308226.0\n",
        "2.70727408209"
       ]
      },
      {
       "output_type": "stream",
       "stream": "stdout",
       "text": [
        " 786410491630.0\n",
        "2.70727408209"
       ]
      },
      {
       "output_type": "stream",
       "stream": "stdout",
       "text": [
        " 872715613503.0\n",
        "2.70727408209"
       ]
      },
      {
       "output_type": "stream",
       "stream": "stdout",
       "text": [
        " 968492346119.0\n",
        "2.70727408209"
       ]
      },
      {
       "output_type": "stream",
       "stream": "stdout",
       "text": [
        " 1.07478015745e+12\n",
        "2.70727408209"
       ]
      },
      {
       "output_type": "stream",
       "stream": "stdout",
       "text": [
        " 1.19273259255e+12\n",
        "2.70727408209"
       ]
      },
      {
       "output_type": "stream",
       "stream": "stdout",
       "text": [
        " 1.32362979301e+12\n",
        "2.70727408209"
       ]
      },
      {
       "output_type": "stream",
       "stream": "stdout",
       "text": [
        " 1.46889239036e+12\n",
        "2.70727408209"
       ]
      },
      {
       "output_type": "stream",
       "stream": "stdout",
       "text": [
        " 1.63009692427e+12\n",
        "2.70727408209"
       ]
      },
      {
       "output_type": "stream",
       "stream": "stdout",
       "text": [
        " 1.80899295276e+12\n",
        "2.70727408209"
       ]
      },
      {
       "output_type": "stream",
       "stream": "stdout",
       "text": [
        " 2.0075220402e+12\n",
        "2.70727408209"
       ]
      },
      {
       "output_type": "stream",
       "stream": "stdout",
       "text": [
        " 2.22783882918e+12\n",
        "2.70727408209"
       ]
      },
      {
       "output_type": "stream",
       "stream": "stdout",
       "text": [
        " 2.47233442495e+12\n",
        "2.70727408209"
       ]
      },
      {
       "output_type": "stream",
       "stream": "stdout",
       "text": [
        " 2.74366234609e+12\n",
        "2.70727408209"
       ]
      },
      {
       "output_type": "stream",
       "stream": "stdout",
       "text": [
        " 3.04476732329e+12\n",
        "2.70727408209"
       ]
      },
      {
       "output_type": "stream",
       "stream": "stdout",
       "text": [
        " 3.37891725861e+12\n",
        "2.70727408209"
       ]
      },
      {
       "output_type": "stream",
       "stream": "stdout",
       "text": [
        " 3.74973869208e+12\n",
        "2.70727408209"
       ]
      },
      {
       "output_type": "stream",
       "stream": "stdout",
       "text": [
        " 4.1612561607e+12\n",
        "2.70727408209"
       ]
      },
      {
       "output_type": "stream",
       "stream": "stdout",
       "text": [
        " 4.61793587685e+12\n",
        "2.70727408209"
       ]
      },
      {
       "output_type": "stream",
       "stream": "stdout",
       "text": [
        " 5.12473420023e+12\n",
        "2.70727408209"
       ]
      },
      {
       "output_type": "stream",
       "stream": "stdout",
       "text": [
        " 5.68715142943e+12\n",
        "2.70727408209"
       ]
      },
      {
       "output_type": "stream",
       "stream": "stdout",
       "text": [
        " 6.3112914968e+12\n",
        "2.70727408209"
       ]
      },
      {
       "output_type": "stream",
       "stream": "stdout",
       "text": [
        " 7.00392821465e+12\n",
        "2.70727408209"
       ]
      },
      {
       "output_type": "stream",
       "stream": "stdout",
       "text": [
        " 7.77257879166e+12\n",
        "2.70727408209"
       ]
      },
      {
       "output_type": "stream",
       "stream": "stdout",
       "text": [
        " 8.62558541736e+12\n",
        "2.70727408209"
       ]
      },
      {
       "output_type": "stream",
       "stream": "stdout",
       "text": [
        " 9.57220580022e+12\n",
        "2.70727408209"
       ]
      },
      {
       "output_type": "stream",
       "stream": "stdout",
       "text": [
        " 1.06227136418e+13\n",
        "2.70727408209"
       ]
      },
      {
       "output_type": "stream",
       "stream": "stdout",
       "text": [
        " 1.17885101377e+13\n",
        "2.70727408209"
       ]
      },
      {
       "output_type": "stream",
       "stream": "stdout",
       "text": [
        " 1.30822477149e+13\n",
        "2.70727408209"
       ]
      },
      {
       "output_type": "stream",
       "stream": "stdout",
       "text": [
        " 1.45179673492e+13\n",
        "2.70727408209"
       ]
      },
      {
       "output_type": "stream",
       "stream": "stdout",
       "text": [
        " 1.6111250952e+13\n",
        "2.70727408209"
       ]
      },
      {
       "output_type": "stream",
       "stream": "stdout",
       "text": [
        " 1.78793904819e+13\n",
        "2.70727408209"
       ]
      },
      {
       "output_type": "stream",
       "stream": "stdout",
       "text": [
        " 1.98415756141e+13\n",
        "2.70727408209"
       ]
      },
      {
       "output_type": "stream",
       "stream": "stdout",
       "text": [
        " 2.20191020075e+13\n",
        "2.70727408209"
       ]
      },
      {
       "output_type": "stream",
       "stream": "stdout",
       "text": [
        " 2.44356024262e+13\n",
        "2.70727408209"
       ]
      },
      {
       "output_type": "stream",
       "stream": "stdout",
       "text": [
        " 2.71173032273e+13\n",
        "2.70727408209"
       ]
      },
      {
       "output_type": "stream",
       "stream": "stdout",
       "text": [
        " 3.00933089963e+13\n",
        "2.70727408209"
       ]
      },
      {
       "output_type": "stream",
       "stream": "stdout",
       "text": [
        " 3.33959184199e+13\n",
        "2.70727408209"
       ]
      },
      {
       "output_type": "stream",
       "stream": "stdout",
       "text": [
        " 3.70609748249e+13\n",
        "2.70727408209"
       ]
      },
      {
       "output_type": "stream",
       "stream": "stdout",
       "text": [
        " 4.11282551868e+13\n",
        "2.70727408209"
       ]
      },
      {
       "output_type": "stream",
       "stream": "stdout",
       "text": [
        " 4.56419018307e+13\n",
        "2.70727408209"
       ]
      },
      {
       "output_type": "stream",
       "stream": "stdout",
       "text": [
        " 5.06509015095e+13\n",
        "2.70727408209"
       ]
      },
      {
       "output_type": "stream",
       "stream": "stdout",
       "text": [
        " 5.62096170586e+13\n",
        "2.70727408209"
       ]
      },
      {
       "output_type": "stream",
       "stream": "stdout",
       "text": [
        " 6.23783773972e+13\n",
        "2.70727408209"
       ]
      },
      {
       "output_type": "stream",
       "stream": "stdout",
       "text": [
        " 6.92241322807e+13\n",
        "2.70727408209"
       ]
      },
      {
       "output_type": "stream",
       "stream": "stdout",
       "text": [
        " 7.68211789079e+13\n",
        "2.70727408209"
       ]
      },
      {
       "output_type": "stream",
       "stream": "stdout",
       "text": [
        " 8.52519682712e+13\n",
        "2.70727408209"
       ]
      },
      {
       "output_type": "stream",
       "stream": "stdout",
       "text": [
        " 9.4608e+13\n",
        "6.29960524947"
       ]
      },
      {
       "output_type": "stream",
       "stream": "stdout",
       "text": [
        " 3153600000.0\n",
        "6.29960524947"
       ]
      },
      {
       "output_type": "stream",
       "stream": "stdout",
       "text": [
        " 3499693846.96\n",
        "6.29960524947"
       ]
      },
      {
       "output_type": "stream",
       "stream": "stdout",
       "text": [
        " 3883769984.29\n",
        "6.29960524947"
       ]
      },
      {
       "output_type": "stream",
       "stream": "stdout",
       "text": [
        " 4309996802.71\n",
        "6.29960524947"
       ]
      },
      {
       "output_type": "stream",
       "stream": "stdout",
       "text": [
        " 4783000155.65\n",
        "6.29960524947"
       ]
      },
      {
       "output_type": "stream",
       "stream": "stdout",
       "text": [
        " 5307913563.78\n",
        "6.29960524947"
       ]
      },
      {
       "output_type": "stream",
       "stream": "stdout",
       "text": [
        " 5890433929.27\n",
        "6.29960524947"
       ]
      },
      {
       "output_type": "stream",
       "stream": "stdout",
       "text": [
        " 6536883364.47\n",
        "6.29960524947"
       ]
      },
      {
       "output_type": "stream",
       "stream": "stdout",
       "text": [
        " 7254277805.98\n",
        "6.29960524947"
       ]
      },
      {
       "output_type": "stream",
       "stream": "stdout",
       "text": [
        " 8050403158.84\n",
        "6.29960524947"
       ]
      },
      {
       "output_type": "stream",
       "stream": "stdout",
       "text": [
        " 8933899797.23\n",
        "6.29960524947"
       ]
      },
      {
       "output_type": "stream",
       "stream": "stdout",
       "text": [
        " 9914356338.7\n",
        "6.29960524947"
       ]
      },
      {
       "output_type": "stream",
       "stream": "stdout",
       "text": [
        " 11002413709.8\n",
        "6.29960524947"
       ]
      },
      {
       "output_type": "stream",
       "stream": "stdout",
       "text": [
        " 12209880632.2\n",
        "6.29960524947"
       ]
      },
      {
       "output_type": "stream",
       "stream": "stdout",
       "text": [
        " 13549861783.6\n",
        "6.29960524947"
       ]
      },
      {
       "output_type": "stream",
       "stream": "stdout",
       "text": [
        " 15036900022.6\n",
        "6.29960524947"
       ]
      },
      {
       "output_type": "stream",
       "stream": "stdout",
       "text": [
        " 16687134223.2\n",
        "6.29960524947"
       ]
      },
      {
       "output_type": "stream",
       "stream": "stdout",
       "text": [
        " 18518474430.6\n",
        "6.29960524947"
       ]
      },
      {
       "output_type": "stream",
       "stream": "stdout",
       "text": [
        " 20550796239.2\n",
        "6.29960524947"
       ]
      },
      {
       "output_type": "stream",
       "stream": "stdout",
       "text": [
        " 22806156503.2\n",
        "6.29960524947"
       ]
      },
      {
       "output_type": "stream",
       "stream": "stdout",
       "text": [
        " 25309032720.4\n",
        "6.29960524947"
       ]
      },
      {
       "output_type": "stream",
       "stream": "stdout",
       "text": [
        " 28086588687.2\n",
        "6.29960524947"
       ]
      },
      {
       "output_type": "stream",
       "stream": "stdout",
       "text": [
        " 31168969308.3\n",
        "6.29960524947"
       ]
      },
      {
       "output_type": "stream",
       "stream": "stdout",
       "text": [
        " 34589627760.2\n",
        "6.29960524947"
       ]
      },
      {
       "output_type": "stream",
       "stream": "stdout",
       "text": [
        " 38385688559.4\n",
        "6.29960524947"
       ]
      },
      {
       "output_type": "stream",
       "stream": "stdout",
       "text": [
        " 42598350476.5\n",
        "6.29960524947"
       ]
      },
      {
       "output_type": "stream",
       "stream": "stdout",
       "text": [
        " 47273333667.3\n",
        "6.29960524947"
       ]
      },
      {
       "output_type": "stream",
       "stream": "stdout",
       "text": [
        " 52461375875.4\n",
        "6.29960524947"
       ]
      },
      {
       "output_type": "stream",
       "stream": "stdout",
       "text": [
        " 58218783090.5\n",
        "6.29960524947"
       ]
      },
      {
       "output_type": "stream",
       "stream": "stdout",
       "text": [
        " 64608040639.1\n",
        "6.29960524947"
       ]
      },
      {
       "output_type": "stream",
       "stream": "stdout",
       "text": [
        " 71698491339.7\n",
        "6.29960524947"
       ]
      },
      {
       "output_type": "stream",
       "stream": "stdout",
       "text": [
        " 79567088082.7\n",
        "6.29960524947"
       ]
      },
      {
       "output_type": "stream",
       "stream": "stdout",
       "text": [
        " 88299229003.0\n",
        "6.29960524947"
       ]
      },
      {
       "output_type": "stream",
       "stream": "stdout",
       "text": [
        " 97989684307.8\n",
        "6.29960524947"
       ]
      },
      {
       "output_type": "stream",
       "stream": "stdout",
       "text": [
        " 108743624822.0\n",
        "6.29960524947"
       ]
      },
      {
       "output_type": "stream",
       "stream": "stdout",
       "text": [
        " 120677763408.0\n",
        "6.29960524947"
       ]
      },
      {
       "output_type": "stream",
       "stream": "stdout",
       "text": [
        " 133921621659.0\n",
        "6.29960524947"
       ]
      },
      {
       "output_type": "stream",
       "stream": "stdout",
       "text": [
        " 148618935596.0\n",
        "6.29960524947"
       ]
      },
      {
       "output_type": "stream",
       "stream": "stdout",
       "text": [
        " 164929215642.0\n",
        "6.29960524947"
       ]
      },
      {
       "output_type": "stream",
       "stream": "stdout",
       "text": [
        " 183029477792.0\n",
        "6.29960524947"
       ]
      },
      {
       "output_type": "stream",
       "stream": "stdout",
       "text": [
        " 203116164777.0\n",
        "6.29960524947"
       ]
      },
      {
       "output_type": "stream",
       "stream": "stdout",
       "text": [
        " 225407278060.0\n",
        "6.29960524947"
       ]
      },
      {
       "output_type": "stream",
       "stream": "stdout",
       "text": [
        " 250144743812.0\n",
        "6.29960524947"
       ]
      },
      {
       "output_type": "stream",
       "stream": "stdout",
       "text": [
        " 277597038549.0\n",
        "6.29960524947"
       ]
      },
      {
       "output_type": "stream",
       "stream": "stdout",
       "text": [
        " 308062102912.0\n",
        "6.29960524947"
       ]
      },
      {
       "output_type": "stream",
       "stream": "stdout",
       "text": [
        " 341870575229.0\n",
        "6.29960524947"
       ]
      },
      {
       "output_type": "stream",
       "stream": "stdout",
       "text": [
        " 379389379943.0\n",
        "6.29960524947"
       ]
      },
      {
       "output_type": "stream",
       "stream": "stdout",
       "text": [
        " 421025709851.0\n",
        "6.29960524947"
       ]
      },
      {
       "output_type": "stream",
       "stream": "stdout",
       "text": [
        " 467231445389.0\n",
        "6.29960524947"
       ]
      },
      {
       "output_type": "stream",
       "stream": "stdout",
       "text": [
        " 518508058896.0\n",
        "6.29960524947"
       ]
      },
      {
       "output_type": "stream",
       "stream": "stdout",
       "text": [
        " 575412057115.0\n",
        "6.29960524947"
       ]
      },
      {
       "output_type": "stream",
       "stream": "stdout",
       "text": [
        " 638561020977.0\n",
        "6.29960524947"
       ]
      },
      {
       "output_type": "stream",
       "stream": "stdout",
       "text": [
        " 708640308226.0\n",
        "6.29960524947"
       ]
      },
      {
       "output_type": "stream",
       "stream": "stdout",
       "text": [
        " 786410491630.0\n",
        "6.29960524947"
       ]
      },
      {
       "output_type": "stream",
       "stream": "stdout",
       "text": [
        " 872715613503.0\n",
        "6.29960524947"
       ]
      },
      {
       "output_type": "stream",
       "stream": "stdout",
       "text": [
        " 968492346119.0\n",
        "6.29960524947"
       ]
      },
      {
       "output_type": "stream",
       "stream": "stdout",
       "text": [
        " 1.07478015745e+12\n",
        "6.29960524947"
       ]
      },
      {
       "output_type": "stream",
       "stream": "stdout",
       "text": [
        " 1.19273259255e+12\n",
        "6.29960524947"
       ]
      },
      {
       "output_type": "stream",
       "stream": "stdout",
       "text": [
        " 1.32362979301e+12\n",
        "6.29960524947"
       ]
      },
      {
       "output_type": "stream",
       "stream": "stdout",
       "text": [
        " 1.46889239036e+12\n",
        "6.29960524947"
       ]
      },
      {
       "output_type": "stream",
       "stream": "stdout",
       "text": [
        " 1.63009692427e+12\n",
        "6.29960524947"
       ]
      },
      {
       "output_type": "stream",
       "stream": "stdout",
       "text": [
        " 1.80899295276e+12\n",
        "6.29960524947"
       ]
      },
      {
       "output_type": "stream",
       "stream": "stdout",
       "text": [
        " 2.0075220402e+12\n",
        "6.29960524947"
       ]
      },
      {
       "output_type": "stream",
       "stream": "stdout",
       "text": [
        " 2.22783882918e+12\n",
        "6.29960524947"
       ]
      },
      {
       "output_type": "stream",
       "stream": "stdout",
       "text": [
        " 2.47233442495e+12\n",
        "6.29960524947"
       ]
      },
      {
       "output_type": "stream",
       "stream": "stdout",
       "text": [
        " 2.74366234609e+12\n",
        "6.29960524947"
       ]
      },
      {
       "output_type": "stream",
       "stream": "stdout",
       "text": [
        " 3.04476732329e+12\n",
        "6.29960524947"
       ]
      },
      {
       "output_type": "stream",
       "stream": "stdout",
       "text": [
        " 3.37891725861e+12\n",
        "6.29960524947"
       ]
      },
      {
       "output_type": "stream",
       "stream": "stdout",
       "text": [
        " 3.74973869208e+12\n",
        "6.29960524947"
       ]
      },
      {
       "output_type": "stream",
       "stream": "stdout",
       "text": [
        " 4.1612561607e+12\n",
        "6.29960524947"
       ]
      },
      {
       "output_type": "stream",
       "stream": "stdout",
       "text": [
        " 4.61793587685e+12\n",
        "6.29960524947"
       ]
      },
      {
       "output_type": "stream",
       "stream": "stdout",
       "text": [
        " 5.12473420023e+12\n",
        "6.29960524947"
       ]
      },
      {
       "output_type": "stream",
       "stream": "stdout",
       "text": [
        " 5.68715142943e+12\n",
        "6.29960524947"
       ]
      },
      {
       "output_type": "stream",
       "stream": "stdout",
       "text": [
        " 6.3112914968e+12\n",
        "6.29960524947"
       ]
      },
      {
       "output_type": "stream",
       "stream": "stdout",
       "text": [
        " 7.00392821465e+12\n",
        "6.29960524947"
       ]
      },
      {
       "output_type": "stream",
       "stream": "stdout",
       "text": [
        " 7.77257879166e+12\n",
        "6.29960524947"
       ]
      },
      {
       "output_type": "stream",
       "stream": "stdout",
       "text": [
        " 8.62558541736e+12\n",
        "6.29960524947"
       ]
      },
      {
       "output_type": "stream",
       "stream": "stdout",
       "text": [
        " 9.57220580022e+12\n",
        "6.29960524947"
       ]
      },
      {
       "output_type": "stream",
       "stream": "stdout",
       "text": [
        " 1.06227136418e+13\n",
        "6.29960524947"
       ]
      },
      {
       "output_type": "stream",
       "stream": "stdout",
       "text": [
        " 1.17885101377e+13\n",
        "6.29960524947"
       ]
      },
      {
       "output_type": "stream",
       "stream": "stdout",
       "text": [
        " 1.30822477149e+13\n",
        "6.29960524947"
       ]
      },
      {
       "output_type": "stream",
       "stream": "stdout",
       "text": [
        " 1.45179673492e+13\n",
        "6.29960524947"
       ]
      },
      {
       "output_type": "stream",
       "stream": "stdout",
       "text": [
        " 1.6111250952e+13\n",
        "6.29960524947"
       ]
      },
      {
       "output_type": "stream",
       "stream": "stdout",
       "text": [
        " 1.78793904819e+13\n",
        "6.29960524947"
       ]
      },
      {
       "output_type": "stream",
       "stream": "stdout",
       "text": [
        " 1.98415756141e+13\n",
        "6.29960524947"
       ]
      },
      {
       "output_type": "stream",
       "stream": "stdout",
       "text": [
        " 2.20191020075e+13\n",
        "6.29960524947"
       ]
      },
      {
       "output_type": "stream",
       "stream": "stdout",
       "text": [
        " 2.44356024262e+13\n",
        "6.29960524947"
       ]
      },
      {
       "output_type": "stream",
       "stream": "stdout",
       "text": [
        " 2.71173032273e+13\n",
        "6.29960524947"
       ]
      },
      {
       "output_type": "stream",
       "stream": "stdout",
       "text": [
        " 3.00933089963e+13\n",
        "6.29960524947"
       ]
      },
      {
       "output_type": "stream",
       "stream": "stdout",
       "text": [
        " 3.33959184199e+13\n",
        "6.29960524947"
       ]
      },
      {
       "output_type": "stream",
       "stream": "stdout",
       "text": [
        " 3.70609748249e+13\n",
        "6.29960524947"
       ]
      },
      {
       "output_type": "stream",
       "stream": "stdout",
       "text": [
        " 4.11282551868e+13\n",
        "6.29960524947"
       ]
      },
      {
       "output_type": "stream",
       "stream": "stdout",
       "text": [
        " 4.56419018307e+13\n",
        "6.29960524947"
       ]
      },
      {
       "output_type": "stream",
       "stream": "stdout",
       "text": [
        " 5.06509015095e+13\n",
        "6.29960524947"
       ]
      },
      {
       "output_type": "stream",
       "stream": "stdout",
       "text": [
        " 5.62096170586e+13\n",
        "6.29960524947"
       ]
      },
      {
       "output_type": "stream",
       "stream": "stdout",
       "text": [
        " 6.23783773972e+13\n",
        "6.29960524947"
       ]
      },
      {
       "output_type": "stream",
       "stream": "stdout",
       "text": [
        " 6.92241322807e+13\n",
        "6.29960524947"
       ]
      },
      {
       "output_type": "stream",
       "stream": "stdout",
       "text": [
        " 7.68211789079e+13\n",
        "6.29960524947"
       ]
      },
      {
       "output_type": "stream",
       "stream": "stdout",
       "text": [
        " 8.52519682712e+13\n",
        "6.29960524947"
       ]
      },
      {
       "output_type": "stream",
       "stream": "stdout",
       "text": [
        " 9.4608e+13\n",
        "14.6586659111"
       ]
      },
      {
       "output_type": "stream",
       "stream": "stdout",
       "text": [
        " 3153600000.0\n",
        "14.6586659111"
       ]
      },
      {
       "output_type": "stream",
       "stream": "stdout",
       "text": [
        " 3499693846.96\n",
        "14.6586659111"
       ]
      },
      {
       "output_type": "stream",
       "stream": "stdout",
       "text": [
        " 3883769984.29\n",
        "14.6586659111"
       ]
      },
      {
       "output_type": "stream",
       "stream": "stdout",
       "text": [
        " 4309996802.71\n",
        "14.6586659111"
       ]
      },
      {
       "output_type": "stream",
       "stream": "stdout",
       "text": [
        " 4783000155.65\n",
        "14.6586659111"
       ]
      },
      {
       "output_type": "stream",
       "stream": "stdout",
       "text": [
        " 5307913563.78\n",
        "14.6586659111"
       ]
      },
      {
       "output_type": "stream",
       "stream": "stdout",
       "text": [
        " 5890433929.27\n",
        "14.6586659111"
       ]
      },
      {
       "output_type": "stream",
       "stream": "stdout",
       "text": [
        " 6536883364.47\n",
        "14.6586659111"
       ]
      },
      {
       "output_type": "stream",
       "stream": "stdout",
       "text": [
        " 7254277805.98\n",
        "14.6586659111"
       ]
      },
      {
       "output_type": "stream",
       "stream": "stdout",
       "text": [
        " 8050403158.84\n",
        "14.6586659111"
       ]
      },
      {
       "output_type": "stream",
       "stream": "stdout",
       "text": [
        " 8933899797.23\n",
        "14.6586659111"
       ]
      },
      {
       "output_type": "stream",
       "stream": "stdout",
       "text": [
        " 9914356338.7\n",
        "14.6586659111"
       ]
      },
      {
       "output_type": "stream",
       "stream": "stdout",
       "text": [
        " 11002413709.8\n",
        "14.6586659111"
       ]
      },
      {
       "output_type": "stream",
       "stream": "stdout",
       "text": [
        " 12209880632.2\n",
        "14.6586659111"
       ]
      },
      {
       "output_type": "stream",
       "stream": "stdout",
       "text": [
        " 13549861783.6\n",
        "14.6586659111"
       ]
      },
      {
       "output_type": "stream",
       "stream": "stdout",
       "text": [
        " 15036900022.6\n",
        "14.6586659111"
       ]
      },
      {
       "output_type": "stream",
       "stream": "stdout",
       "text": [
        " 16687134223.2\n",
        "14.6586659111"
       ]
      },
      {
       "output_type": "stream",
       "stream": "stdout",
       "text": [
        " 18518474430.6\n",
        "14.6586659111"
       ]
      },
      {
       "output_type": "stream",
       "stream": "stdout",
       "text": [
        " 20550796239.2\n",
        "14.6586659111"
       ]
      },
      {
       "output_type": "stream",
       "stream": "stdout",
       "text": [
        " 22806156503.2\n",
        "14.6586659111"
       ]
      },
      {
       "output_type": "stream",
       "stream": "stdout",
       "text": [
        " 25309032720.4\n",
        "14.6586659111"
       ]
      },
      {
       "output_type": "stream",
       "stream": "stdout",
       "text": [
        " 28086588687.2\n",
        "14.6586659111"
       ]
      },
      {
       "output_type": "stream",
       "stream": "stdout",
       "text": [
        " 31168969308.3\n",
        "14.6586659111"
       ]
      },
      {
       "output_type": "stream",
       "stream": "stdout",
       "text": [
        " 34589627760.2\n",
        "14.6586659111"
       ]
      },
      {
       "output_type": "stream",
       "stream": "stdout",
       "text": [
        " 38385688559.4\n",
        "14.6586659111"
       ]
      },
      {
       "output_type": "stream",
       "stream": "stdout",
       "text": [
        " 42598350476.5\n",
        "14.6586659111"
       ]
      },
      {
       "output_type": "stream",
       "stream": "stdout",
       "text": [
        " 47273333667.3\n",
        "14.6586659111"
       ]
      },
      {
       "output_type": "stream",
       "stream": "stdout",
       "text": [
        " 52461375875.4\n",
        "14.6586659111"
       ]
      },
      {
       "output_type": "stream",
       "stream": "stdout",
       "text": [
        " 58218783090.5\n",
        "14.6586659111"
       ]
      },
      {
       "output_type": "stream",
       "stream": "stdout",
       "text": [
        " 64608040639.1\n",
        "14.6586659111"
       ]
      },
      {
       "output_type": "stream",
       "stream": "stdout",
       "text": [
        " 71698491339.7\n",
        "14.6586659111"
       ]
      },
      {
       "output_type": "stream",
       "stream": "stdout",
       "text": [
        " 79567088082.7\n",
        "14.6586659111"
       ]
      },
      {
       "output_type": "stream",
       "stream": "stdout",
       "text": [
        " 88299229003.0\n",
        "14.6586659111"
       ]
      },
      {
       "output_type": "stream",
       "stream": "stdout",
       "text": [
        " 97989684307.8\n",
        "14.6586659111"
       ]
      },
      {
       "output_type": "stream",
       "stream": "stdout",
       "text": [
        " 108743624822.0\n",
        "14.6586659111"
       ]
      },
      {
       "output_type": "stream",
       "stream": "stdout",
       "text": [
        " 120677763408.0\n",
        "14.6586659111"
       ]
      },
      {
       "output_type": "stream",
       "stream": "stdout",
       "text": [
        " 133921621659.0\n",
        "14.6586659111"
       ]
      },
      {
       "output_type": "stream",
       "stream": "stdout",
       "text": [
        " 148618935596.0\n",
        "14.6586659111"
       ]
      },
      {
       "output_type": "stream",
       "stream": "stdout",
       "text": [
        " 164929215642.0\n",
        "14.6586659111"
       ]
      },
      {
       "output_type": "stream",
       "stream": "stdout",
       "text": [
        " 183029477792.0\n",
        "14.6586659111"
       ]
      },
      {
       "output_type": "stream",
       "stream": "stdout",
       "text": [
        " 203116164777.0\n",
        "14.6586659111"
       ]
      },
      {
       "output_type": "stream",
       "stream": "stdout",
       "text": [
        " 225407278060.0\n",
        "14.6586659111"
       ]
      },
      {
       "output_type": "stream",
       "stream": "stdout",
       "text": [
        " 250144743812.0\n",
        "14.6586659111"
       ]
      },
      {
       "output_type": "stream",
       "stream": "stdout",
       "text": [
        " 277597038549.0\n",
        "14.6586659111"
       ]
      },
      {
       "output_type": "stream",
       "stream": "stdout",
       "text": [
        " 308062102912.0\n",
        "14.6586659111"
       ]
      },
      {
       "output_type": "stream",
       "stream": "stdout",
       "text": [
        " 341870575229.0\n",
        "14.6586659111"
       ]
      },
      {
       "output_type": "stream",
       "stream": "stdout",
       "text": [
        " 379389379943.0\n",
        "14.6586659111"
       ]
      },
      {
       "output_type": "stream",
       "stream": "stdout",
       "text": [
        " 421025709851.0\n",
        "14.6586659111"
       ]
      },
      {
       "output_type": "stream",
       "stream": "stdout",
       "text": [
        " 467231445389.0\n",
        "14.6586659111"
       ]
      },
      {
       "output_type": "stream",
       "stream": "stdout",
       "text": [
        " 518508058896.0\n",
        "14.6586659111"
       ]
      },
      {
       "output_type": "stream",
       "stream": "stdout",
       "text": [
        " 575412057115.0\n",
        "14.6586659111"
       ]
      },
      {
       "output_type": "stream",
       "stream": "stdout",
       "text": [
        " 638561020977.0\n",
        "14.6586659111"
       ]
      },
      {
       "output_type": "stream",
       "stream": "stdout",
       "text": [
        " 708640308226.0\n",
        "14.6586659111"
       ]
      },
      {
       "output_type": "stream",
       "stream": "stdout",
       "text": [
        " 786410491630.0\n",
        "14.6586659111"
       ]
      },
      {
       "output_type": "stream",
       "stream": "stdout",
       "text": [
        " 872715613503.0\n",
        "14.6586659111"
       ]
      },
      {
       "output_type": "stream",
       "stream": "stdout",
       "text": [
        " 968492346119.0\n",
        "14.6586659111"
       ]
      },
      {
       "output_type": "stream",
       "stream": "stdout",
       "text": [
        " 1.07478015745e+12\n",
        "14.6586659111"
       ]
      },
      {
       "output_type": "stream",
       "stream": "stdout",
       "text": [
        " 1.19273259255e+12\n",
        "14.6586659111"
       ]
      },
      {
       "output_type": "stream",
       "stream": "stdout",
       "text": [
        " 1.32362979301e+12\n",
        "14.6586659111"
       ]
      },
      {
       "output_type": "stream",
       "stream": "stdout",
       "text": [
        " 1.46889239036e+12\n",
        "14.6586659111"
       ]
      },
      {
       "output_type": "stream",
       "stream": "stdout",
       "text": [
        " 1.63009692427e+12\n",
        "14.6586659111"
       ]
      },
      {
       "output_type": "stream",
       "stream": "stdout",
       "text": [
        " 1.80899295276e+12\n",
        "14.6586659111"
       ]
      },
      {
       "output_type": "stream",
       "stream": "stdout",
       "text": [
        " 2.0075220402e+12\n",
        "14.6586659111"
       ]
      },
      {
       "output_type": "stream",
       "stream": "stdout",
       "text": [
        " 2.22783882918e+12\n",
        "14.6586659111"
       ]
      },
      {
       "output_type": "stream",
       "stream": "stdout",
       "text": [
        " 2.47233442495e+12\n",
        "14.6586659111"
       ]
      },
      {
       "output_type": "stream",
       "stream": "stdout",
       "text": [
        " 2.74366234609e+12\n",
        "14.6586659111"
       ]
      },
      {
       "output_type": "stream",
       "stream": "stdout",
       "text": [
        " 3.04476732329e+12\n",
        "14.6586659111"
       ]
      },
      {
       "output_type": "stream",
       "stream": "stdout",
       "text": [
        " 3.37891725861e+12\n",
        "14.6586659111"
       ]
      },
      {
       "output_type": "stream",
       "stream": "stdout",
       "text": [
        " 3.74973869208e+12\n",
        "14.6586659111"
       ]
      },
      {
       "output_type": "stream",
       "stream": "stdout",
       "text": [
        " 4.1612561607e+12\n",
        "14.6586659111"
       ]
      },
      {
       "output_type": "stream",
       "stream": "stdout",
       "text": [
        " 4.61793587685e+12\n",
        "14.6586659111"
       ]
      },
      {
       "output_type": "stream",
       "stream": "stdout",
       "text": [
        " 5.12473420023e+12\n",
        "14.6586659111"
       ]
      },
      {
       "output_type": "stream",
       "stream": "stdout",
       "text": [
        " 5.68715142943e+12\n",
        "14.6586659111"
       ]
      },
      {
       "output_type": "stream",
       "stream": "stdout",
       "text": [
        " 6.3112914968e+12\n",
        "14.6586659111"
       ]
      },
      {
       "output_type": "stream",
       "stream": "stdout",
       "text": [
        " 7.00392821465e+12\n",
        "14.6586659111"
       ]
      },
      {
       "output_type": "stream",
       "stream": "stdout",
       "text": [
        " 7.77257879166e+12\n",
        "14.6586659111"
       ]
      },
      {
       "output_type": "stream",
       "stream": "stdout",
       "text": [
        " 8.62558541736e+12\n",
        "14.6586659111"
       ]
      },
      {
       "output_type": "stream",
       "stream": "stdout",
       "text": [
        " 9.57220580022e+12\n",
        "14.6586659111"
       ]
      },
      {
       "output_type": "stream",
       "stream": "stdout",
       "text": [
        " 1.06227136418e+13\n",
        "14.6586659111"
       ]
      },
      {
       "output_type": "stream",
       "stream": "stdout",
       "text": [
        " 1.17885101377e+13\n",
        "14.6586659111"
       ]
      },
      {
       "output_type": "stream",
       "stream": "stdout",
       "text": [
        " 1.30822477149e+13\n",
        "14.6586659111"
       ]
      },
      {
       "output_type": "stream",
       "stream": "stdout",
       "text": [
        " 1.45179673492e+13\n",
        "14.6586659111"
       ]
      },
      {
       "output_type": "stream",
       "stream": "stdout",
       "text": [
        " 1.6111250952e+13\n",
        "14.6586659111"
       ]
      },
      {
       "output_type": "stream",
       "stream": "stdout",
       "text": [
        " 1.78793904819e+13\n",
        "14.6586659111"
       ]
      },
      {
       "output_type": "stream",
       "stream": "stdout",
       "text": [
        " 1.98415756141e+13\n",
        "14.6586659111"
       ]
      },
      {
       "output_type": "stream",
       "stream": "stdout",
       "text": [
        " 2.20191020075e+13\n",
        "14.6586659111"
       ]
      },
      {
       "output_type": "stream",
       "stream": "stdout",
       "text": [
        " 2.44356024262e+13\n",
        "14.6586659111"
       ]
      },
      {
       "output_type": "stream",
       "stream": "stdout",
       "text": [
        " 2.71173032273e+13\n",
        "14.6586659111"
       ]
      },
      {
       "output_type": "stream",
       "stream": "stdout",
       "text": [
        " 3.00933089963e+13\n",
        "14.6586659111"
       ]
      },
      {
       "output_type": "stream",
       "stream": "stdout",
       "text": [
        " 3.33959184199e+13\n",
        "14.6586659111"
       ]
      },
      {
       "output_type": "stream",
       "stream": "stdout",
       "text": [
        " 3.70609748249e+13\n",
        "14.6586659111"
       ]
      },
      {
       "output_type": "stream",
       "stream": "stdout",
       "text": [
        " 4.11282551868e+13\n",
        "14.6586659111"
       ]
      },
      {
       "output_type": "stream",
       "stream": "stdout",
       "text": [
        " 4.56419018307e+13\n",
        "14.6586659111"
       ]
      },
      {
       "output_type": "stream",
       "stream": "stdout",
       "text": [
        " 5.06509015095e+13\n",
        "14.6586659111"
       ]
      },
      {
       "output_type": "stream",
       "stream": "stdout",
       "text": [
        " 5.62096170586e+13\n",
        "14.6586659111"
       ]
      },
      {
       "output_type": "stream",
       "stream": "stdout",
       "text": [
        " 6.23783773972e+13\n",
        "14.6586659111"
       ]
      },
      {
       "output_type": "stream",
       "stream": "stdout",
       "text": [
        " 6.92241322807e+13\n",
        "14.6586659111"
       ]
      },
      {
       "output_type": "stream",
       "stream": "stdout",
       "text": [
        " 7.68211789079e+13\n",
        "14.6586659111"
       ]
      },
      {
       "output_type": "stream",
       "stream": "stdout",
       "text": [
        " 8.52519682712e+13\n",
        "14.6586659111"
       ]
      },
      {
       "output_type": "stream",
       "stream": "stdout",
       "text": [
        " 9.4608e+13\n",
        "34.1095160386"
       ]
      },
      {
       "output_type": "stream",
       "stream": "stdout",
       "text": [
        " 3153600000.0\n",
        "34.1095160386"
       ]
      },
      {
       "output_type": "stream",
       "stream": "stdout",
       "text": [
        " 3499693846.96\n",
        "34.1095160386"
       ]
      },
      {
       "output_type": "stream",
       "stream": "stdout",
       "text": [
        " 3883769984.29\n",
        "34.1095160386"
       ]
      },
      {
       "output_type": "stream",
       "stream": "stdout",
       "text": [
        " 4309996802.71\n",
        "34.1095160386"
       ]
      },
      {
       "output_type": "stream",
       "stream": "stdout",
       "text": [
        " 4783000155.65\n",
        "34.1095160386"
       ]
      },
      {
       "output_type": "stream",
       "stream": "stdout",
       "text": [
        " 5307913563.78\n",
        "34.1095160386"
       ]
      },
      {
       "output_type": "stream",
       "stream": "stdout",
       "text": [
        " 5890433929.27\n",
        "34.1095160386"
       ]
      },
      {
       "output_type": "stream",
       "stream": "stdout",
       "text": [
        " 6536883364.47\n",
        "34.1095160386"
       ]
      },
      {
       "output_type": "stream",
       "stream": "stdout",
       "text": [
        " 7254277805.98\n",
        "34.1095160386"
       ]
      },
      {
       "output_type": "stream",
       "stream": "stdout",
       "text": [
        " 8050403158.84\n",
        "34.1095160386"
       ]
      },
      {
       "output_type": "stream",
       "stream": "stdout",
       "text": [
        " 8933899797.23\n",
        "34.1095160386"
       ]
      },
      {
       "output_type": "stream",
       "stream": "stdout",
       "text": [
        " 9914356338.7\n",
        "34.1095160386"
       ]
      },
      {
       "output_type": "stream",
       "stream": "stdout",
       "text": [
        " 11002413709.8\n",
        "34.1095160386"
       ]
      },
      {
       "output_type": "stream",
       "stream": "stdout",
       "text": [
        " 12209880632.2\n",
        "34.1095160386"
       ]
      },
      {
       "output_type": "stream",
       "stream": "stdout",
       "text": [
        " 13549861783.6\n",
        "34.1095160386"
       ]
      },
      {
       "output_type": "stream",
       "stream": "stdout",
       "text": [
        " 15036900022.6\n",
        "34.1095160386"
       ]
      },
      {
       "output_type": "stream",
       "stream": "stdout",
       "text": [
        " 16687134223.2\n",
        "34.1095160386"
       ]
      },
      {
       "output_type": "stream",
       "stream": "stdout",
       "text": [
        " 18518474430.6\n",
        "34.1095160386"
       ]
      },
      {
       "output_type": "stream",
       "stream": "stdout",
       "text": [
        " 20550796239.2\n",
        "34.1095160386"
       ]
      },
      {
       "output_type": "stream",
       "stream": "stdout",
       "text": [
        " 22806156503.2\n",
        "34.1095160386"
       ]
      },
      {
       "output_type": "stream",
       "stream": "stdout",
       "text": [
        " 25309032720.4\n",
        "34.1095160386"
       ]
      },
      {
       "output_type": "stream",
       "stream": "stdout",
       "text": [
        " 28086588687.2\n",
        "34.1095160386"
       ]
      },
      {
       "output_type": "stream",
       "stream": "stdout",
       "text": [
        " 31168969308.3\n",
        "34.1095160386"
       ]
      },
      {
       "output_type": "stream",
       "stream": "stdout",
       "text": [
        " 34589627760.2\n",
        "34.1095160386"
       ]
      },
      {
       "output_type": "stream",
       "stream": "stdout",
       "text": [
        " 38385688559.4\n",
        "34.1095160386"
       ]
      },
      {
       "output_type": "stream",
       "stream": "stdout",
       "text": [
        " 42598350476.5\n",
        "34.1095160386"
       ]
      },
      {
       "output_type": "stream",
       "stream": "stdout",
       "text": [
        " 47273333667.3\n",
        "34.1095160386"
       ]
      },
      {
       "output_type": "stream",
       "stream": "stdout",
       "text": [
        " 52461375875.4\n",
        "34.1095160386"
       ]
      },
      {
       "output_type": "stream",
       "stream": "stdout",
       "text": [
        " 58218783090.5\n",
        "34.1095160386"
       ]
      },
      {
       "output_type": "stream",
       "stream": "stdout",
       "text": [
        " 64608040639.1\n",
        "34.1095160386"
       ]
      },
      {
       "output_type": "stream",
       "stream": "stdout",
       "text": [
        " 71698491339.7\n",
        "34.1095160386"
       ]
      },
      {
       "output_type": "stream",
       "stream": "stdout",
       "text": [
        " 79567088082.7\n",
        "34.1095160386"
       ]
      },
      {
       "output_type": "stream",
       "stream": "stdout",
       "text": [
        " 88299229003.0\n",
        "34.1095160386"
       ]
      },
      {
       "output_type": "stream",
       "stream": "stdout",
       "text": [
        " 97989684307.8\n",
        "34.1095160386"
       ]
      },
      {
       "output_type": "stream",
       "stream": "stdout",
       "text": [
        " 108743624822.0\n",
        "34.1095160386"
       ]
      },
      {
       "output_type": "stream",
       "stream": "stdout",
       "text": [
        " 120677763408.0\n",
        "34.1095160386"
       ]
      },
      {
       "output_type": "stream",
       "stream": "stdout",
       "text": [
        " 133921621659.0\n",
        "34.1095160386"
       ]
      },
      {
       "output_type": "stream",
       "stream": "stdout",
       "text": [
        " 148618935596.0\n",
        "34.1095160386"
       ]
      },
      {
       "output_type": "stream",
       "stream": "stdout",
       "text": [
        " 164929215642.0\n",
        "34.1095160386"
       ]
      },
      {
       "output_type": "stream",
       "stream": "stdout",
       "text": [
        " 183029477792.0\n",
        "34.1095160386"
       ]
      },
      {
       "output_type": "stream",
       "stream": "stdout",
       "text": [
        " 203116164777.0\n",
        "34.1095160386"
       ]
      },
      {
       "output_type": "stream",
       "stream": "stdout",
       "text": [
        " 225407278060.0\n",
        "34.1095160386"
       ]
      },
      {
       "output_type": "stream",
       "stream": "stdout",
       "text": [
        " 250144743812.0\n",
        "34.1095160386"
       ]
      },
      {
       "output_type": "stream",
       "stream": "stdout",
       "text": [
        " 277597038549.0\n",
        "34.1095160386"
       ]
      },
      {
       "output_type": "stream",
       "stream": "stdout",
       "text": [
        " 308062102912.0\n",
        "34.1095160386"
       ]
      },
      {
       "output_type": "stream",
       "stream": "stdout",
       "text": [
        " 341870575229.0\n",
        "34.1095160386"
       ]
      },
      {
       "output_type": "stream",
       "stream": "stdout",
       "text": [
        " 379389379943.0\n",
        "34.1095160386"
       ]
      },
      {
       "output_type": "stream",
       "stream": "stdout",
       "text": [
        " 421025709851.0\n",
        "34.1095160386"
       ]
      },
      {
       "output_type": "stream",
       "stream": "stdout",
       "text": [
        " 467231445389.0\n",
        "34.1095160386"
       ]
      },
      {
       "output_type": "stream",
       "stream": "stdout",
       "text": [
        " 518508058896.0\n",
        "34.1095160386"
       ]
      },
      {
       "output_type": "stream",
       "stream": "stdout",
       "text": [
        " 575412057115.0\n",
        "34.1095160386"
       ]
      },
      {
       "output_type": "stream",
       "stream": "stdout",
       "text": [
        " 638561020977.0\n",
        "34.1095160386"
       ]
      },
      {
       "output_type": "stream",
       "stream": "stdout",
       "text": [
        " 708640308226.0\n",
        "34.1095160386"
       ]
      },
      {
       "output_type": "stream",
       "stream": "stdout",
       "text": [
        " 786410491630.0\n",
        "34.1095160386"
       ]
      },
      {
       "output_type": "stream",
       "stream": "stdout",
       "text": [
        " 872715613503.0\n",
        "34.1095160386"
       ]
      },
      {
       "output_type": "stream",
       "stream": "stdout",
       "text": [
        " 968492346119.0\n",
        "34.1095160386"
       ]
      },
      {
       "output_type": "stream",
       "stream": "stdout",
       "text": [
        " 1.07478015745e+12\n",
        "34.1095160386"
       ]
      },
      {
       "output_type": "stream",
       "stream": "stdout",
       "text": [
        " 1.19273259255e+12\n",
        "34.1095160386"
       ]
      },
      {
       "output_type": "stream",
       "stream": "stdout",
       "text": [
        " 1.32362979301e+12\n",
        "34.1095160386"
       ]
      },
      {
       "output_type": "stream",
       "stream": "stdout",
       "text": [
        " 1.46889239036e+12\n",
        "34.1095160386"
       ]
      },
      {
       "output_type": "stream",
       "stream": "stdout",
       "text": [
        " 1.63009692427e+12\n",
        "34.1095160386"
       ]
      },
      {
       "output_type": "stream",
       "stream": "stdout",
       "text": [
        " 1.80899295276e+12\n",
        "34.1095160386"
       ]
      },
      {
       "output_type": "stream",
       "stream": "stdout",
       "text": [
        " 2.0075220402e+12\n",
        "34.1095160386"
       ]
      },
      {
       "output_type": "stream",
       "stream": "stdout",
       "text": [
        " 2.22783882918e+12\n",
        "34.1095160386"
       ]
      },
      {
       "output_type": "stream",
       "stream": "stdout",
       "text": [
        " 2.47233442495e+12\n",
        "34.1095160386"
       ]
      },
      {
       "output_type": "stream",
       "stream": "stdout",
       "text": [
        " 2.74366234609e+12\n",
        "34.1095160386"
       ]
      },
      {
       "output_type": "stream",
       "stream": "stdout",
       "text": [
        " 3.04476732329e+12\n",
        "34.1095160386"
       ]
      },
      {
       "output_type": "stream",
       "stream": "stdout",
       "text": [
        " 3.37891725861e+12\n",
        "34.1095160386"
       ]
      },
      {
       "output_type": "stream",
       "stream": "stdout",
       "text": [
        " 3.74973869208e+12\n",
        "34.1095160386"
       ]
      },
      {
       "output_type": "stream",
       "stream": "stdout",
       "text": [
        " 4.1612561607e+12\n",
        "34.1095160386"
       ]
      },
      {
       "output_type": "stream",
       "stream": "stdout",
       "text": [
        " 4.61793587685e+12\n",
        "34.1095160386"
       ]
      },
      {
       "output_type": "stream",
       "stream": "stdout",
       "text": [
        " 5.12473420023e+12\n",
        "34.1095160386"
       ]
      },
      {
       "output_type": "stream",
       "stream": "stdout",
       "text": [
        " 5.68715142943e+12\n",
        "34.1095160386"
       ]
      },
      {
       "output_type": "stream",
       "stream": "stdout",
       "text": [
        " 6.3112914968e+12\n",
        "34.1095160386"
       ]
      },
      {
       "output_type": "stream",
       "stream": "stdout",
       "text": [
        " 7.00392821465e+12\n",
        "34.1095160386"
       ]
      },
      {
       "output_type": "stream",
       "stream": "stdout",
       "text": [
        " 7.77257879166e+12\n",
        "34.1095160386"
       ]
      },
      {
       "output_type": "stream",
       "stream": "stdout",
       "text": [
        " 8.62558541736e+12\n",
        "34.1095160386"
       ]
      },
      {
       "output_type": "stream",
       "stream": "stdout",
       "text": [
        " 9.57220580022e+12\n",
        "34.1095160386"
       ]
      },
      {
       "output_type": "stream",
       "stream": "stdout",
       "text": [
        " 1.06227136418e+13\n",
        "34.1095160386"
       ]
      },
      {
       "output_type": "stream",
       "stream": "stdout",
       "text": [
        " 1.17885101377e+13\n",
        "34.1095160386"
       ]
      },
      {
       "output_type": "stream",
       "stream": "stdout",
       "text": [
        " 1.30822477149e+13\n",
        "34.1095160386"
       ]
      },
      {
       "output_type": "stream",
       "stream": "stdout",
       "text": [
        " 1.45179673492e+13\n",
        "34.1095160386"
       ]
      },
      {
       "output_type": "stream",
       "stream": "stdout",
       "text": [
        " 1.6111250952e+13\n",
        "34.1095160386"
       ]
      },
      {
       "output_type": "stream",
       "stream": "stdout",
       "text": [
        " 1.78793904819e+13\n",
        "34.1095160386"
       ]
      },
      {
       "output_type": "stream",
       "stream": "stdout",
       "text": [
        " 1.98415756141e+13\n",
        "34.1095160386"
       ]
      },
      {
       "output_type": "stream",
       "stream": "stdout",
       "text": [
        " 2.20191020075e+13\n",
        "34.1095160386"
       ]
      },
      {
       "output_type": "stream",
       "stream": "stdout",
       "text": [
        " 2.44356024262e+13\n",
        "34.1095160386"
       ]
      },
      {
       "output_type": "stream",
       "stream": "stdout",
       "text": [
        " 2.71173032273e+13\n",
        "34.1095160386"
       ]
      },
      {
       "output_type": "stream",
       "stream": "stdout",
       "text": [
        " 3.00933089963e+13\n",
        "34.1095160386"
       ]
      },
      {
       "output_type": "stream",
       "stream": "stdout",
       "text": [
        " 3.33959184199e+13\n",
        "34.1095160386"
       ]
      },
      {
       "output_type": "stream",
       "stream": "stdout",
       "text": [
        " 3.70609748249e+13\n",
        "34.1095160386"
       ]
      },
      {
       "output_type": "stream",
       "stream": "stdout",
       "text": [
        " 4.11282551868e+13\n",
        "34.1095160386"
       ]
      },
      {
       "output_type": "stream",
       "stream": "stdout",
       "text": [
        " 4.56419018307e+13\n",
        "34.1095160386"
       ]
      },
      {
       "output_type": "stream",
       "stream": "stdout",
       "text": [
        " 5.06509015095e+13\n",
        "34.1095160386"
       ]
      },
      {
       "output_type": "stream",
       "stream": "stdout",
       "text": [
        " 5.62096170586e+13\n",
        "34.1095160386"
       ]
      },
      {
       "output_type": "stream",
       "stream": "stdout",
       "text": [
        " 6.23783773972e+13\n",
        "34.1095160386"
       ]
      },
      {
       "output_type": "stream",
       "stream": "stdout",
       "text": [
        " 6.92241322807e+13\n",
        "34.1095160386"
       ]
      },
      {
       "output_type": "stream",
       "stream": "stdout",
       "text": [
        " 7.68211789079e+13\n",
        "34.1095160386"
       ]
      },
      {
       "output_type": "stream",
       "stream": "stdout",
       "text": [
        " 8.52519682712e+13\n",
        "34.1095160386"
       ]
      },
      {
       "output_type": "stream",
       "stream": "stdout",
       "text": [
        " 9.4608e+13\n",
        "79.3700525984"
       ]
      },
      {
       "output_type": "stream",
       "stream": "stdout",
       "text": [
        " 3153600000.0\n",
        "79.3700525984"
       ]
      },
      {
       "output_type": "stream",
       "stream": "stdout",
       "text": [
        " 3499693846.96\n",
        "79.3700525984"
       ]
      },
      {
       "output_type": "stream",
       "stream": "stdout",
       "text": [
        " 3883769984.29\n",
        "79.3700525984"
       ]
      },
      {
       "output_type": "stream",
       "stream": "stdout",
       "text": [
        " 4309996802.71\n",
        "79.3700525984"
       ]
      },
      {
       "output_type": "stream",
       "stream": "stdout",
       "text": [
        " 4783000155.65\n",
        "79.3700525984"
       ]
      },
      {
       "output_type": "stream",
       "stream": "stdout",
       "text": [
        " 5307913563.78\n",
        "79.3700525984"
       ]
      },
      {
       "output_type": "stream",
       "stream": "stdout",
       "text": [
        " 5890433929.27\n",
        "79.3700525984"
       ]
      },
      {
       "output_type": "stream",
       "stream": "stdout",
       "text": [
        " 6536883364.47\n",
        "79.3700525984"
       ]
      },
      {
       "output_type": "stream",
       "stream": "stdout",
       "text": [
        " 7254277805.98\n",
        "79.3700525984"
       ]
      },
      {
       "output_type": "stream",
       "stream": "stdout",
       "text": [
        " 8050403158.84\n",
        "79.3700525984"
       ]
      },
      {
       "output_type": "stream",
       "stream": "stdout",
       "text": [
        " 8933899797.23\n",
        "79.3700525984"
       ]
      },
      {
       "output_type": "stream",
       "stream": "stdout",
       "text": [
        " 9914356338.7\n",
        "79.3700525984"
       ]
      },
      {
       "output_type": "stream",
       "stream": "stdout",
       "text": [
        " 11002413709.8\n",
        "79.3700525984"
       ]
      },
      {
       "output_type": "stream",
       "stream": "stdout",
       "text": [
        " 12209880632.2\n",
        "79.3700525984"
       ]
      },
      {
       "output_type": "stream",
       "stream": "stdout",
       "text": [
        " 13549861783.6\n",
        "79.3700525984"
       ]
      },
      {
       "output_type": "stream",
       "stream": "stdout",
       "text": [
        " 15036900022.6\n",
        "79.3700525984"
       ]
      },
      {
       "output_type": "stream",
       "stream": "stdout",
       "text": [
        " 16687134223.2\n",
        "79.3700525984"
       ]
      },
      {
       "output_type": "stream",
       "stream": "stdout",
       "text": [
        " 18518474430.6\n",
        "79.3700525984"
       ]
      },
      {
       "output_type": "stream",
       "stream": "stdout",
       "text": [
        " 20550796239.2\n",
        "79.3700525984"
       ]
      },
      {
       "output_type": "stream",
       "stream": "stdout",
       "text": [
        " 22806156503.2\n",
        "79.3700525984"
       ]
      },
      {
       "output_type": "stream",
       "stream": "stdout",
       "text": [
        " 25309032720.4\n",
        "79.3700525984"
       ]
      },
      {
       "output_type": "stream",
       "stream": "stdout",
       "text": [
        " 28086588687.2\n",
        "79.3700525984"
       ]
      },
      {
       "output_type": "stream",
       "stream": "stdout",
       "text": [
        " 31168969308.3\n",
        "79.3700525984"
       ]
      },
      {
       "output_type": "stream",
       "stream": "stdout",
       "text": [
        " 34589627760.2\n",
        "79.3700525984"
       ]
      },
      {
       "output_type": "stream",
       "stream": "stdout",
       "text": [
        " 38385688559.4\n",
        "79.3700525984"
       ]
      },
      {
       "output_type": "stream",
       "stream": "stdout",
       "text": [
        " 42598350476.5\n",
        "79.3700525984"
       ]
      },
      {
       "output_type": "stream",
       "stream": "stdout",
       "text": [
        " 47273333667.3\n",
        "79.3700525984"
       ]
      },
      {
       "output_type": "stream",
       "stream": "stdout",
       "text": [
        " 52461375875.4\n",
        "79.3700525984"
       ]
      },
      {
       "output_type": "stream",
       "stream": "stdout",
       "text": [
        " 58218783090.5\n",
        "79.3700525984"
       ]
      },
      {
       "output_type": "stream",
       "stream": "stdout",
       "text": [
        " 64608040639.1\n",
        "79.3700525984"
       ]
      },
      {
       "output_type": "stream",
       "stream": "stdout",
       "text": [
        " 71698491339.7\n",
        "79.3700525984"
       ]
      },
      {
       "output_type": "stream",
       "stream": "stdout",
       "text": [
        " 79567088082.7\n",
        "79.3700525984"
       ]
      },
      {
       "output_type": "stream",
       "stream": "stdout",
       "text": [
        " 88299229003.0\n",
        "79.3700525984"
       ]
      },
      {
       "output_type": "stream",
       "stream": "stdout",
       "text": [
        " 97989684307.8\n",
        "79.3700525984"
       ]
      },
      {
       "output_type": "stream",
       "stream": "stdout",
       "text": [
        " 108743624822.0\n",
        "79.3700525984"
       ]
      },
      {
       "output_type": "stream",
       "stream": "stdout",
       "text": [
        " 120677763408.0\n",
        "79.3700525984"
       ]
      },
      {
       "output_type": "stream",
       "stream": "stdout",
       "text": [
        " 133921621659.0\n",
        "79.3700525984"
       ]
      },
      {
       "output_type": "stream",
       "stream": "stdout",
       "text": [
        " 148618935596.0\n",
        "79.3700525984"
       ]
      },
      {
       "output_type": "stream",
       "stream": "stdout",
       "text": [
        " 164929215642.0\n",
        "79.3700525984"
       ]
      },
      {
       "output_type": "stream",
       "stream": "stdout",
       "text": [
        " 183029477792.0\n",
        "79.3700525984"
       ]
      },
      {
       "output_type": "stream",
       "stream": "stdout",
       "text": [
        " 203116164777.0\n",
        "79.3700525984"
       ]
      },
      {
       "output_type": "stream",
       "stream": "stdout",
       "text": [
        " 225407278060.0\n",
        "79.3700525984"
       ]
      },
      {
       "output_type": "stream",
       "stream": "stdout",
       "text": [
        " 250144743812.0\n",
        "79.3700525984"
       ]
      },
      {
       "output_type": "stream",
       "stream": "stdout",
       "text": [
        " 277597038549.0\n",
        "79.3700525984"
       ]
      },
      {
       "output_type": "stream",
       "stream": "stdout",
       "text": [
        " 308062102912.0\n",
        "79.3700525984"
       ]
      },
      {
       "output_type": "stream",
       "stream": "stdout",
       "text": [
        " 341870575229.0\n",
        "79.3700525984"
       ]
      },
      {
       "output_type": "stream",
       "stream": "stdout",
       "text": [
        " 379389379943.0\n",
        "79.3700525984"
       ]
      },
      {
       "output_type": "stream",
       "stream": "stdout",
       "text": [
        " 421025709851.0\n",
        "79.3700525984"
       ]
      },
      {
       "output_type": "stream",
       "stream": "stdout",
       "text": [
        " 467231445389.0\n",
        "79.3700525984"
       ]
      },
      {
       "output_type": "stream",
       "stream": "stdout",
       "text": [
        " 518508058896.0\n",
        "79.3700525984"
       ]
      },
      {
       "output_type": "stream",
       "stream": "stdout",
       "text": [
        " 575412057115.0\n",
        "79.3700525984"
       ]
      },
      {
       "output_type": "stream",
       "stream": "stdout",
       "text": [
        " 638561020977.0\n",
        "79.3700525984"
       ]
      },
      {
       "output_type": "stream",
       "stream": "stdout",
       "text": [
        " 708640308226.0\n",
        "79.3700525984"
       ]
      },
      {
       "output_type": "stream",
       "stream": "stdout",
       "text": [
        " 786410491630.0\n",
        "79.3700525984"
       ]
      },
      {
       "output_type": "stream",
       "stream": "stdout",
       "text": [
        " 872715613503.0\n",
        "79.3700525984"
       ]
      },
      {
       "output_type": "stream",
       "stream": "stdout",
       "text": [
        " 968492346119.0\n",
        "79.3700525984"
       ]
      },
      {
       "output_type": "stream",
       "stream": "stdout",
       "text": [
        " 1.07478015745e+12\n",
        "79.3700525984"
       ]
      },
      {
       "output_type": "stream",
       "stream": "stdout",
       "text": [
        " 1.19273259255e+12\n",
        "79.3700525984"
       ]
      },
      {
       "output_type": "stream",
       "stream": "stdout",
       "text": [
        " 1.32362979301e+12\n",
        "79.3700525984"
       ]
      },
      {
       "output_type": "stream",
       "stream": "stdout",
       "text": [
        " 1.46889239036e+12\n",
        "79.3700525984"
       ]
      },
      {
       "output_type": "stream",
       "stream": "stdout",
       "text": [
        " 1.63009692427e+12\n",
        "79.3700525984"
       ]
      },
      {
       "output_type": "stream",
       "stream": "stdout",
       "text": [
        " 1.80899295276e+12\n",
        "79.3700525984"
       ]
      },
      {
       "output_type": "stream",
       "stream": "stdout",
       "text": [
        " 2.0075220402e+12\n",
        "79.3700525984"
       ]
      },
      {
       "output_type": "stream",
       "stream": "stdout",
       "text": [
        " 2.22783882918e+12\n",
        "79.3700525984"
       ]
      },
      {
       "output_type": "stream",
       "stream": "stdout",
       "text": [
        " 2.47233442495e+12\n",
        "79.3700525984"
       ]
      },
      {
       "output_type": "stream",
       "stream": "stdout",
       "text": [
        " 2.74366234609e+12\n",
        "79.3700525984"
       ]
      },
      {
       "output_type": "stream",
       "stream": "stdout",
       "text": [
        " 3.04476732329e+12\n",
        "79.3700525984"
       ]
      },
      {
       "output_type": "stream",
       "stream": "stdout",
       "text": [
        " 3.37891725861e+12\n",
        "79.3700525984"
       ]
      },
      {
       "output_type": "stream",
       "stream": "stdout",
       "text": [
        " 3.74973869208e+12\n",
        "79.3700525984"
       ]
      },
      {
       "output_type": "stream",
       "stream": "stdout",
       "text": [
        " 4.1612561607e+12\n",
        "79.3700525984"
       ]
      },
      {
       "output_type": "stream",
       "stream": "stdout",
       "text": [
        " 4.61793587685e+12\n",
        "79.3700525984"
       ]
      },
      {
       "output_type": "stream",
       "stream": "stdout",
       "text": [
        " 5.12473420023e+12\n",
        "79.3700525984"
       ]
      },
      {
       "output_type": "stream",
       "stream": "stdout",
       "text": [
        " 5.68715142943e+12\n",
        "79.3700525984"
       ]
      },
      {
       "output_type": "stream",
       "stream": "stdout",
       "text": [
        " 6.3112914968e+12\n",
        "79.3700525984"
       ]
      },
      {
       "output_type": "stream",
       "stream": "stdout",
       "text": [
        " 7.00392821465e+12\n",
        "79.3700525984"
       ]
      },
      {
       "output_type": "stream",
       "stream": "stdout",
       "text": [
        " 7.77257879166e+12\n",
        "79.3700525984"
       ]
      },
      {
       "output_type": "stream",
       "stream": "stdout",
       "text": [
        " 8.62558541736e+12\n",
        "79.3700525984"
       ]
      },
      {
       "output_type": "stream",
       "stream": "stdout",
       "text": [
        " 9.57220580022e+12\n",
        "79.3700525984"
       ]
      },
      {
       "output_type": "stream",
       "stream": "stdout",
       "text": [
        " 1.06227136418e+13\n",
        "79.3700525984"
       ]
      },
      {
       "output_type": "stream",
       "stream": "stdout",
       "text": [
        " 1.17885101377e+13\n",
        "79.3700525984"
       ]
      },
      {
       "output_type": "stream",
       "stream": "stdout",
       "text": [
        " 1.30822477149e+13\n",
        "79.3700525984"
       ]
      },
      {
       "output_type": "stream",
       "stream": "stdout",
       "text": [
        " 1.45179673492e+13\n",
        "79.3700525984"
       ]
      },
      {
       "output_type": "stream",
       "stream": "stdout",
       "text": [
        " 1.6111250952e+13\n",
        "79.3700525984"
       ]
      },
      {
       "output_type": "stream",
       "stream": "stdout",
       "text": [
        " 1.78793904819e+13\n",
        "79.3700525984"
       ]
      },
      {
       "output_type": "stream",
       "stream": "stdout",
       "text": [
        " 1.98415756141e+13\n",
        "79.3700525984"
       ]
      },
      {
       "output_type": "stream",
       "stream": "stdout",
       "text": [
        " 2.20191020075e+13\n",
        "79.3700525984"
       ]
      },
      {
       "output_type": "stream",
       "stream": "stdout",
       "text": [
        " 2.44356024262e+13\n",
        "79.3700525984"
       ]
      },
      {
       "output_type": "stream",
       "stream": "stdout",
       "text": [
        " 2.71173032273e+13\n",
        "79.3700525984"
       ]
      },
      {
       "output_type": "stream",
       "stream": "stdout",
       "text": [
        " 3.00933089963e+13\n",
        "79.3700525984"
       ]
      },
      {
       "output_type": "stream",
       "stream": "stdout",
       "text": [
        " 3.33959184199e+13\n",
        "79.3700525984"
       ]
      },
      {
       "output_type": "stream",
       "stream": "stdout",
       "text": [
        " 3.70609748249e+13\n",
        "79.3700525984"
       ]
      },
      {
       "output_type": "stream",
       "stream": "stdout",
       "text": [
        " 4.11282551868e+13\n",
        "79.3700525984"
       ]
      },
      {
       "output_type": "stream",
       "stream": "stdout",
       "text": [
        " 4.56419018307e+13\n",
        "79.3700525984"
       ]
      },
      {
       "output_type": "stream",
       "stream": "stdout",
       "text": [
        " 5.06509015095e+13\n",
        "79.3700525984"
       ]
      },
      {
       "output_type": "stream",
       "stream": "stdout",
       "text": [
        " 5.62096170586e+13\n",
        "79.3700525984"
       ]
      },
      {
       "output_type": "stream",
       "stream": "stdout",
       "text": [
        " 6.23783773972e+13\n",
        "79.3700525984"
       ]
      },
      {
       "output_type": "stream",
       "stream": "stdout",
       "text": [
        " 6.92241322807e+13\n",
        "79.3700525984"
       ]
      },
      {
       "output_type": "stream",
       "stream": "stdout",
       "text": [
        " 7.68211789079e+13\n",
        "79.3700525984"
       ]
      },
      {
       "output_type": "stream",
       "stream": "stdout",
       "text": [
        " 8.52519682712e+13\n",
        "79.3700525984"
       ]
      },
      {
       "output_type": "stream",
       "stream": "stdout",
       "text": [
        " 9.4608e+13\n",
        "184.687617448"
       ]
      },
      {
       "output_type": "stream",
       "stream": "stdout",
       "text": [
        " 3153600000.0\n",
        "184.687617448"
       ]
      },
      {
       "output_type": "stream",
       "stream": "stdout",
       "text": [
        " 3499693846.96\n",
        "184.687617448"
       ]
      },
      {
       "output_type": "stream",
       "stream": "stdout",
       "text": [
        " 3883769984.29\n",
        "184.687617448"
       ]
      },
      {
       "output_type": "stream",
       "stream": "stdout",
       "text": [
        " 4309996802.71\n",
        "184.687617448"
       ]
      },
      {
       "output_type": "stream",
       "stream": "stdout",
       "text": [
        " 4783000155.65\n",
        "184.687617448"
       ]
      },
      {
       "output_type": "stream",
       "stream": "stdout",
       "text": [
        " 5307913563.78\n",
        "184.687617448"
       ]
      },
      {
       "output_type": "stream",
       "stream": "stdout",
       "text": [
        " 5890433929.27\n",
        "184.687617448"
       ]
      },
      {
       "output_type": "stream",
       "stream": "stdout",
       "text": [
        " 6536883364.47\n",
        "184.687617448"
       ]
      },
      {
       "output_type": "stream",
       "stream": "stdout",
       "text": [
        " 7254277805.98\n",
        "184.687617448"
       ]
      },
      {
       "output_type": "stream",
       "stream": "stdout",
       "text": [
        " 8050403158.84\n",
        "184.687617448"
       ]
      },
      {
       "output_type": "stream",
       "stream": "stdout",
       "text": [
        " 8933899797.23\n",
        "184.687617448"
       ]
      },
      {
       "output_type": "stream",
       "stream": "stdout",
       "text": [
        " 9914356338.7\n",
        "184.687617448"
       ]
      },
      {
       "output_type": "stream",
       "stream": "stdout",
       "text": [
        " 11002413709.8\n",
        "184.687617448"
       ]
      },
      {
       "output_type": "stream",
       "stream": "stdout",
       "text": [
        " 12209880632.2\n",
        "184.687617448"
       ]
      },
      {
       "output_type": "stream",
       "stream": "stdout",
       "text": [
        " 13549861783.6\n",
        "184.687617448"
       ]
      },
      {
       "output_type": "stream",
       "stream": "stdout",
       "text": [
        " 15036900022.6\n",
        "184.687617448"
       ]
      },
      {
       "output_type": "stream",
       "stream": "stdout",
       "text": [
        " 16687134223.2\n",
        "184.687617448"
       ]
      },
      {
       "output_type": "stream",
       "stream": "stdout",
       "text": [
        " 18518474430.6\n",
        "184.687617448"
       ]
      },
      {
       "output_type": "stream",
       "stream": "stdout",
       "text": [
        " 20550796239.2\n",
        "184.687617448"
       ]
      },
      {
       "output_type": "stream",
       "stream": "stdout",
       "text": [
        " 22806156503.2\n",
        "184.687617448"
       ]
      },
      {
       "output_type": "stream",
       "stream": "stdout",
       "text": [
        " 25309032720.4\n",
        "184.687617448"
       ]
      },
      {
       "output_type": "stream",
       "stream": "stdout",
       "text": [
        " 28086588687.2\n",
        "184.687617448"
       ]
      },
      {
       "output_type": "stream",
       "stream": "stdout",
       "text": [
        " 31168969308.3\n",
        "184.687617448"
       ]
      },
      {
       "output_type": "stream",
       "stream": "stdout",
       "text": [
        " 34589627760.2\n",
        "184.687617448"
       ]
      },
      {
       "output_type": "stream",
       "stream": "stdout",
       "text": [
        " 38385688559.4\n",
        "184.687617448"
       ]
      },
      {
       "output_type": "stream",
       "stream": "stdout",
       "text": [
        " 42598350476.5\n",
        "184.687617448"
       ]
      },
      {
       "output_type": "stream",
       "stream": "stdout",
       "text": [
        " 47273333667.3\n",
        "184.687617448"
       ]
      },
      {
       "output_type": "stream",
       "stream": "stdout",
       "text": [
        " 52461375875.4\n",
        "184.687617448"
       ]
      },
      {
       "output_type": "stream",
       "stream": "stdout",
       "text": [
        " 58218783090.5\n",
        "184.687617448"
       ]
      },
      {
       "output_type": "stream",
       "stream": "stdout",
       "text": [
        " 64608040639.1\n",
        "184.687617448"
       ]
      },
      {
       "output_type": "stream",
       "stream": "stdout",
       "text": [
        " 71698491339.7\n",
        "184.687617448"
       ]
      },
      {
       "output_type": "stream",
       "stream": "stdout",
       "text": [
        " 79567088082.7\n",
        "184.687617448"
       ]
      },
      {
       "output_type": "stream",
       "stream": "stdout",
       "text": [
        " 88299229003.0\n",
        "184.687617448"
       ]
      },
      {
       "output_type": "stream",
       "stream": "stdout",
       "text": [
        " 97989684307.8\n",
        "184.687617448"
       ]
      },
      {
       "output_type": "stream",
       "stream": "stdout",
       "text": [
        " 108743624822.0\n",
        "184.687617448"
       ]
      },
      {
       "output_type": "stream",
       "stream": "stdout",
       "text": [
        " 120677763408.0\n",
        "184.687617448"
       ]
      },
      {
       "output_type": "stream",
       "stream": "stdout",
       "text": [
        " 133921621659.0\n",
        "184.687617448"
       ]
      },
      {
       "output_type": "stream",
       "stream": "stdout",
       "text": [
        " 148618935596.0\n",
        "184.687617448"
       ]
      },
      {
       "output_type": "stream",
       "stream": "stdout",
       "text": [
        " 164929215642.0\n",
        "184.687617448"
       ]
      },
      {
       "output_type": "stream",
       "stream": "stdout",
       "text": [
        " 183029477792.0\n",
        "184.687617448"
       ]
      },
      {
       "output_type": "stream",
       "stream": "stdout",
       "text": [
        " 203116164777.0\n",
        "184.687617448"
       ]
      },
      {
       "output_type": "stream",
       "stream": "stdout",
       "text": [
        " 225407278060.0\n",
        "184.687617448"
       ]
      },
      {
       "output_type": "stream",
       "stream": "stdout",
       "text": [
        " 250144743812.0\n",
        "184.687617448"
       ]
      },
      {
       "output_type": "stream",
       "stream": "stdout",
       "text": [
        " 277597038549.0\n",
        "184.687617448"
       ]
      },
      {
       "output_type": "stream",
       "stream": "stdout",
       "text": [
        " 308062102912.0\n",
        "184.687617448"
       ]
      },
      {
       "output_type": "stream",
       "stream": "stdout",
       "text": [
        " 341870575229.0\n",
        "184.687617448"
       ]
      },
      {
       "output_type": "stream",
       "stream": "stdout",
       "text": [
        " 379389379943.0\n",
        "184.687617448"
       ]
      },
      {
       "output_type": "stream",
       "stream": "stdout",
       "text": [
        " 421025709851.0\n",
        "184.687617448"
       ]
      },
      {
       "output_type": "stream",
       "stream": "stdout",
       "text": [
        " 467231445389.0\n",
        "184.687617448"
       ]
      },
      {
       "output_type": "stream",
       "stream": "stdout",
       "text": [
        " 518508058896.0\n",
        "184.687617448"
       ]
      },
      {
       "output_type": "stream",
       "stream": "stdout",
       "text": [
        " 575412057115.0\n",
        "184.687617448"
       ]
      },
      {
       "output_type": "stream",
       "stream": "stdout",
       "text": [
        " 638561020977.0\n",
        "184.687617448"
       ]
      },
      {
       "output_type": "stream",
       "stream": "stdout",
       "text": [
        " 708640308226.0\n",
        "184.687617448"
       ]
      },
      {
       "output_type": "stream",
       "stream": "stdout",
       "text": [
        " 786410491630.0\n",
        "184.687617448"
       ]
      },
      {
       "output_type": "stream",
       "stream": "stdout",
       "text": [
        " 872715613503.0\n",
        "184.687617448"
       ]
      },
      {
       "output_type": "stream",
       "stream": "stdout",
       "text": [
        " 968492346119.0\n",
        "184.687617448"
       ]
      },
      {
       "output_type": "stream",
       "stream": "stdout",
       "text": [
        " 1.07478015745e+12\n",
        "184.687617448"
       ]
      },
      {
       "output_type": "stream",
       "stream": "stdout",
       "text": [
        " 1.19273259255e+12\n",
        "184.687617448"
       ]
      },
      {
       "output_type": "stream",
       "stream": "stdout",
       "text": [
        " 1.32362979301e+12\n",
        "184.687617448"
       ]
      },
      {
       "output_type": "stream",
       "stream": "stdout",
       "text": [
        " 1.46889239036e+12\n",
        "184.687617448"
       ]
      },
      {
       "output_type": "stream",
       "stream": "stdout",
       "text": [
        " 1.63009692427e+12\n",
        "184.687617448"
       ]
      },
      {
       "output_type": "stream",
       "stream": "stdout",
       "text": [
        " 1.80899295276e+12\n",
        "184.687617448"
       ]
      },
      {
       "output_type": "stream",
       "stream": "stdout",
       "text": [
        " 2.0075220402e+12\n",
        "184.687617448"
       ]
      },
      {
       "output_type": "stream",
       "stream": "stdout",
       "text": [
        " 2.22783882918e+12\n",
        "184.687617448"
       ]
      },
      {
       "output_type": "stream",
       "stream": "stdout",
       "text": [
        " 2.47233442495e+12\n",
        "184.687617448"
       ]
      },
      {
       "output_type": "stream",
       "stream": "stdout",
       "text": [
        " 2.74366234609e+12\n",
        "184.687617448"
       ]
      },
      {
       "output_type": "stream",
       "stream": "stdout",
       "text": [
        " 3.04476732329e+12\n",
        "184.687617448"
       ]
      },
      {
       "output_type": "stream",
       "stream": "stdout",
       "text": [
        " 3.37891725861e+12\n",
        "184.687617448"
       ]
      },
      {
       "output_type": "stream",
       "stream": "stdout",
       "text": [
        " 3.74973869208e+12\n",
        "184.687617448"
       ]
      },
      {
       "output_type": "stream",
       "stream": "stdout",
       "text": [
        " 4.1612561607e+12\n",
        "184.687617448"
       ]
      },
      {
       "output_type": "stream",
       "stream": "stdout",
       "text": [
        " 4.61793587685e+12\n",
        "184.687617448"
       ]
      },
      {
       "output_type": "stream",
       "stream": "stdout",
       "text": [
        " 5.12473420023e+12\n",
        "184.687617448"
       ]
      },
      {
       "output_type": "stream",
       "stream": "stdout",
       "text": [
        " 5.68715142943e+12\n",
        "184.687617448"
       ]
      },
      {
       "output_type": "stream",
       "stream": "stdout",
       "text": [
        " 6.3112914968e+12\n",
        "184.687617448"
       ]
      },
      {
       "output_type": "stream",
       "stream": "stdout",
       "text": [
        " 7.00392821465e+12\n",
        "184.687617448"
       ]
      },
      {
       "output_type": "stream",
       "stream": "stdout",
       "text": [
        " 7.77257879166e+12\n",
        "184.687617448"
       ]
      },
      {
       "output_type": "stream",
       "stream": "stdout",
       "text": [
        " 8.62558541736e+12\n",
        "184.687617448"
       ]
      },
      {
       "output_type": "stream",
       "stream": "stdout",
       "text": [
        " 9.57220580022e+12\n",
        "184.687617448"
       ]
      },
      {
       "output_type": "stream",
       "stream": "stdout",
       "text": [
        " 1.06227136418e+13\n",
        "184.687617448"
       ]
      },
      {
       "output_type": "stream",
       "stream": "stdout",
       "text": [
        " 1.17885101377e+13\n",
        "184.687617448"
       ]
      },
      {
       "output_type": "stream",
       "stream": "stdout",
       "text": [
        " 1.30822477149e+13\n",
        "184.687617448"
       ]
      },
      {
       "output_type": "stream",
       "stream": "stdout",
       "text": [
        " 1.45179673492e+13\n",
        "184.687617448"
       ]
      },
      {
       "output_type": "stream",
       "stream": "stdout",
       "text": [
        " 1.6111250952e+13\n",
        "184.687617448"
       ]
      },
      {
       "output_type": "stream",
       "stream": "stdout",
       "text": [
        " 1.78793904819e+13\n",
        "184.687617448"
       ]
      },
      {
       "output_type": "stream",
       "stream": "stdout",
       "text": [
        " 1.98415756141e+13\n",
        "184.687617448"
       ]
      },
      {
       "output_type": "stream",
       "stream": "stdout",
       "text": [
        " 2.20191020075e+13\n",
        "184.687617448"
       ]
      },
      {
       "output_type": "stream",
       "stream": "stdout",
       "text": [
        " 2.44356024262e+13\n",
        "184.687617448"
       ]
      },
      {
       "output_type": "stream",
       "stream": "stdout",
       "text": [
        " 2.71173032273e+13\n",
        "184.687617448"
       ]
      },
      {
       "output_type": "stream",
       "stream": "stdout",
       "text": [
        " 3.00933089963e+13\n",
        "184.687617448"
       ]
      },
      {
       "output_type": "stream",
       "stream": "stdout",
       "text": [
        " 3.33959184199e+13\n",
        "184.687617448"
       ]
      },
      {
       "output_type": "stream",
       "stream": "stdout",
       "text": [
        " 3.70609748249e+13\n",
        "184.687617448"
       ]
      },
      {
       "output_type": "stream",
       "stream": "stdout",
       "text": [
        " 4.11282551868e+13\n",
        "184.687617448"
       ]
      },
      {
       "output_type": "stream",
       "stream": "stdout",
       "text": [
        " 4.56419018307e+13\n",
        "184.687617448"
       ]
      },
      {
       "output_type": "stream",
       "stream": "stdout",
       "text": [
        " 5.06509015095e+13\n",
        "184.687617448"
       ]
      },
      {
       "output_type": "stream",
       "stream": "stdout",
       "text": [
        " 5.62096170586e+13\n",
        "184.687617448"
       ]
      },
      {
       "output_type": "stream",
       "stream": "stdout",
       "text": [
        " 6.23783773972e+13\n",
        "184.687617448"
       ]
      },
      {
       "output_type": "stream",
       "stream": "stdout",
       "text": [
        " 6.92241322807e+13\n",
        "184.687617448"
       ]
      },
      {
       "output_type": "stream",
       "stream": "stdout",
       "text": [
        " 7.68211789079e+13\n",
        "184.687617448"
       ]
      },
      {
       "output_type": "stream",
       "stream": "stdout",
       "text": [
        " 8.52519682712e+13\n",
        "184.687617448"
       ]
      },
      {
       "output_type": "stream",
       "stream": "stdout",
       "text": [
        " 9.4608e+13\n",
        "429.752972588"
       ]
      },
      {
       "output_type": "stream",
       "stream": "stdout",
       "text": [
        " 3153600000.0\n",
        "429.752972588"
       ]
      },
      {
       "output_type": "stream",
       "stream": "stdout",
       "text": [
        " 3499693846.96\n",
        "429.752972588"
       ]
      },
      {
       "output_type": "stream",
       "stream": "stdout",
       "text": [
        " 3883769984.29\n",
        "429.752972588"
       ]
      },
      {
       "output_type": "stream",
       "stream": "stdout",
       "text": [
        " 4309996802.71\n",
        "429.752972588"
       ]
      },
      {
       "output_type": "stream",
       "stream": "stdout",
       "text": [
        " 4783000155.65\n",
        "429.752972588"
       ]
      },
      {
       "output_type": "stream",
       "stream": "stdout",
       "text": [
        " 5307913563.78\n",
        "429.752972588"
       ]
      },
      {
       "output_type": "stream",
       "stream": "stdout",
       "text": [
        " 5890433929.27\n",
        "429.752972588"
       ]
      },
      {
       "output_type": "stream",
       "stream": "stdout",
       "text": [
        " 6536883364.47\n",
        "429.752972588"
       ]
      },
      {
       "output_type": "stream",
       "stream": "stdout",
       "text": [
        " 7254277805.98\n",
        "429.752972588"
       ]
      },
      {
       "output_type": "stream",
       "stream": "stdout",
       "text": [
        " 8050403158.84\n",
        "429.752972588"
       ]
      },
      {
       "output_type": "stream",
       "stream": "stdout",
       "text": [
        " 8933899797.23\n",
        "429.752972588"
       ]
      },
      {
       "output_type": "stream",
       "stream": "stdout",
       "text": [
        " 9914356338.7\n",
        "429.752972588"
       ]
      },
      {
       "output_type": "stream",
       "stream": "stdout",
       "text": [
        " 11002413709.8\n",
        "429.752972588"
       ]
      },
      {
       "output_type": "stream",
       "stream": "stdout",
       "text": [
        " 12209880632.2\n",
        "429.752972588"
       ]
      },
      {
       "output_type": "stream",
       "stream": "stdout",
       "text": [
        " 13549861783.6\n",
        "429.752972588"
       ]
      },
      {
       "output_type": "stream",
       "stream": "stdout",
       "text": [
        " 15036900022.6\n",
        "429.752972588"
       ]
      },
      {
       "output_type": "stream",
       "stream": "stdout",
       "text": [
        " 16687134223.2\n",
        "429.752972588"
       ]
      },
      {
       "output_type": "stream",
       "stream": "stdout",
       "text": [
        " 18518474430.6\n",
        "429.752972588"
       ]
      },
      {
       "output_type": "stream",
       "stream": "stdout",
       "text": [
        " 20550796239.2\n",
        "429.752972588"
       ]
      },
      {
       "output_type": "stream",
       "stream": "stdout",
       "text": [
        " 22806156503.2\n",
        "429.752972588"
       ]
      },
      {
       "output_type": "stream",
       "stream": "stdout",
       "text": [
        " 25309032720.4\n",
        "429.752972588"
       ]
      },
      {
       "output_type": "stream",
       "stream": "stdout",
       "text": [
        " 28086588687.2\n",
        "429.752972588"
       ]
      },
      {
       "output_type": "stream",
       "stream": "stdout",
       "text": [
        " 31168969308.3\n",
        "429.752972588"
       ]
      },
      {
       "output_type": "stream",
       "stream": "stdout",
       "text": [
        " 34589627760.2\n",
        "429.752972588"
       ]
      },
      {
       "output_type": "stream",
       "stream": "stdout",
       "text": [
        " 38385688559.4\n",
        "429.752972588"
       ]
      },
      {
       "output_type": "stream",
       "stream": "stdout",
       "text": [
        " 42598350476.5\n",
        "429.752972588"
       ]
      },
      {
       "output_type": "stream",
       "stream": "stdout",
       "text": [
        " 47273333667.3\n",
        "429.752972588"
       ]
      },
      {
       "output_type": "stream",
       "stream": "stdout",
       "text": [
        " 52461375875.4\n",
        "429.752972588"
       ]
      },
      {
       "output_type": "stream",
       "stream": "stdout",
       "text": [
        " 58218783090.5\n",
        "429.752972588"
       ]
      },
      {
       "output_type": "stream",
       "stream": "stdout",
       "text": [
        " 64608040639.1\n",
        "429.752972588"
       ]
      },
      {
       "output_type": "stream",
       "stream": "stdout",
       "text": [
        " 71698491339.7\n",
        "429.752972588"
       ]
      },
      {
       "output_type": "stream",
       "stream": "stdout",
       "text": [
        " 79567088082.7\n",
        "429.752972588"
       ]
      },
      {
       "output_type": "stream",
       "stream": "stdout",
       "text": [
        " 88299229003.0\n",
        "429.752972588"
       ]
      },
      {
       "output_type": "stream",
       "stream": "stdout",
       "text": [
        " 97989684307.8\n",
        "429.752972588"
       ]
      },
      {
       "output_type": "stream",
       "stream": "stdout",
       "text": [
        " 108743624822.0\n",
        "429.752972588"
       ]
      },
      {
       "output_type": "stream",
       "stream": "stdout",
       "text": [
        " 120677763408.0\n",
        "429.752972588"
       ]
      },
      {
       "output_type": "stream",
       "stream": "stdout",
       "text": [
        " 133921621659.0\n",
        "429.752972588"
       ]
      },
      {
       "output_type": "stream",
       "stream": "stdout",
       "text": [
        " 148618935596.0\n",
        "429.752972588"
       ]
      },
      {
       "output_type": "stream",
       "stream": "stdout",
       "text": [
        " 164929215642.0\n",
        "429.752972588"
       ]
      },
      {
       "output_type": "stream",
       "stream": "stdout",
       "text": [
        " 183029477792.0\n",
        "429.752972588"
       ]
      },
      {
       "output_type": "stream",
       "stream": "stdout",
       "text": [
        " 203116164777.0\n",
        "429.752972588"
       ]
      },
      {
       "output_type": "stream",
       "stream": "stdout",
       "text": [
        " 225407278060.0\n",
        "429.752972588"
       ]
      },
      {
       "output_type": "stream",
       "stream": "stdout",
       "text": [
        " 250144743812.0\n",
        "429.752972588"
       ]
      },
      {
       "output_type": "stream",
       "stream": "stdout",
       "text": [
        " 277597038549.0\n",
        "429.752972588"
       ]
      },
      {
       "output_type": "stream",
       "stream": "stdout",
       "text": [
        " 308062102912.0\n",
        "429.752972588"
       ]
      },
      {
       "output_type": "stream",
       "stream": "stdout",
       "text": [
        " 341870575229.0\n",
        "429.752972588"
       ]
      },
      {
       "output_type": "stream",
       "stream": "stdout",
       "text": [
        " 379389379943.0\n",
        "429.752972588"
       ]
      },
      {
       "output_type": "stream",
       "stream": "stdout",
       "text": [
        " 421025709851.0\n",
        "429.752972588"
       ]
      },
      {
       "output_type": "stream",
       "stream": "stdout",
       "text": [
        " 467231445389.0\n",
        "429.752972588"
       ]
      },
      {
       "output_type": "stream",
       "stream": "stdout",
       "text": [
        " 518508058896.0\n",
        "429.752972588"
       ]
      },
      {
       "output_type": "stream",
       "stream": "stdout",
       "text": [
        " 575412057115.0\n",
        "429.752972588"
       ]
      },
      {
       "output_type": "stream",
       "stream": "stdout",
       "text": [
        " 638561020977.0\n",
        "429.752972588"
       ]
      },
      {
       "output_type": "stream",
       "stream": "stdout",
       "text": [
        " 708640308226.0\n",
        "429.752972588"
       ]
      },
      {
       "output_type": "stream",
       "stream": "stdout",
       "text": [
        " 786410491630.0\n",
        "429.752972588"
       ]
      },
      {
       "output_type": "stream",
       "stream": "stdout",
       "text": [
        " 872715613503.0\n",
        "429.752972588"
       ]
      },
      {
       "output_type": "stream",
       "stream": "stdout",
       "text": [
        " 968492346119.0\n",
        "429.752972588"
       ]
      },
      {
       "output_type": "stream",
       "stream": "stdout",
       "text": [
        " 1.07478015745e+12\n",
        "429.752972588"
       ]
      },
      {
       "output_type": "stream",
       "stream": "stdout",
       "text": [
        " 1.19273259255e+12\n",
        "429.752972588"
       ]
      },
      {
       "output_type": "stream",
       "stream": "stdout",
       "text": [
        " 1.32362979301e+12\n",
        "429.752972588"
       ]
      },
      {
       "output_type": "stream",
       "stream": "stdout",
       "text": [
        " 1.46889239036e+12\n",
        "429.752972588"
       ]
      },
      {
       "output_type": "stream",
       "stream": "stdout",
       "text": [
        " 1.63009692427e+12\n",
        "429.752972588"
       ]
      },
      {
       "output_type": "stream",
       "stream": "stdout",
       "text": [
        " 1.80899295276e+12\n",
        "429.752972588"
       ]
      },
      {
       "output_type": "stream",
       "stream": "stdout",
       "text": [
        " 2.0075220402e+12\n",
        "429.752972588"
       ]
      },
      {
       "output_type": "stream",
       "stream": "stdout",
       "text": [
        " 2.22783882918e+12\n",
        "429.752972588"
       ]
      },
      {
       "output_type": "stream",
       "stream": "stdout",
       "text": [
        " 2.47233442495e+12\n",
        "429.752972588"
       ]
      },
      {
       "output_type": "stream",
       "stream": "stdout",
       "text": [
        " 2.74366234609e+12\n",
        "429.752972588"
       ]
      },
      {
       "output_type": "stream",
       "stream": "stdout",
       "text": [
        " 3.04476732329e+12\n",
        "429.752972588"
       ]
      },
      {
       "output_type": "stream",
       "stream": "stdout",
       "text": [
        " 3.37891725861e+12\n",
        "429.752972588"
       ]
      },
      {
       "output_type": "stream",
       "stream": "stdout",
       "text": [
        " 3.74973869208e+12\n",
        "429.752972588"
       ]
      },
      {
       "output_type": "stream",
       "stream": "stdout",
       "text": [
        " 4.1612561607e+12\n",
        "429.752972588"
       ]
      },
      {
       "output_type": "stream",
       "stream": "stdout",
       "text": [
        " 4.61793587685e+12\n",
        "429.752972588"
       ]
      },
      {
       "output_type": "stream",
       "stream": "stdout",
       "text": [
        " 5.12473420023e+12\n",
        "429.752972588"
       ]
      },
      {
       "output_type": "stream",
       "stream": "stdout",
       "text": [
        " 5.68715142943e+12\n",
        "429.752972588"
       ]
      },
      {
       "output_type": "stream",
       "stream": "stdout",
       "text": [
        " 6.3112914968e+12\n",
        "429.752972588"
       ]
      },
      {
       "output_type": "stream",
       "stream": "stdout",
       "text": [
        " 7.00392821465e+12\n",
        "429.752972588"
       ]
      },
      {
       "output_type": "stream",
       "stream": "stdout",
       "text": [
        " 7.77257879166e+12\n",
        "429.752972588"
       ]
      },
      {
       "output_type": "stream",
       "stream": "stdout",
       "text": [
        " 8.62558541736e+12\n",
        "429.752972588"
       ]
      },
      {
       "output_type": "stream",
       "stream": "stdout",
       "text": [
        " 9.57220580022e+12\n",
        "429.752972588"
       ]
      },
      {
       "output_type": "stream",
       "stream": "stdout",
       "text": [
        " 1.06227136418e+13\n",
        "429.752972588"
       ]
      },
      {
       "output_type": "stream",
       "stream": "stdout",
       "text": [
        " 1.17885101377e+13\n",
        "429.752972588"
       ]
      },
      {
       "output_type": "stream",
       "stream": "stdout",
       "text": [
        " 1.30822477149e+13\n",
        "429.752972588"
       ]
      },
      {
       "output_type": "stream",
       "stream": "stdout",
       "text": [
        " 1.45179673492e+13\n",
        "429.752972588"
       ]
      },
      {
       "output_type": "stream",
       "stream": "stdout",
       "text": [
        " 1.6111250952e+13\n",
        "429.752972588"
       ]
      },
      {
       "output_type": "stream",
       "stream": "stdout",
       "text": [
        " 1.78793904819e+13\n",
        "429.752972588"
       ]
      },
      {
       "output_type": "stream",
       "stream": "stdout",
       "text": [
        " 1.98415756141e+13\n",
        "429.752972588"
       ]
      },
      {
       "output_type": "stream",
       "stream": "stdout",
       "text": [
        " 2.20191020075e+13\n",
        "429.752972588"
       ]
      },
      {
       "output_type": "stream",
       "stream": "stdout",
       "text": [
        " 2.44356024262e+13\n",
        "429.752972588"
       ]
      },
      {
       "output_type": "stream",
       "stream": "stdout",
       "text": [
        " 2.71173032273e+13\n",
        "429.752972588"
       ]
      },
      {
       "output_type": "stream",
       "stream": "stdout",
       "text": [
        " 3.00933089963e+13\n",
        "429.752972588"
       ]
      },
      {
       "output_type": "stream",
       "stream": "stdout",
       "text": [
        " 3.33959184199e+13\n",
        "429.752972588"
       ]
      },
      {
       "output_type": "stream",
       "stream": "stdout",
       "text": [
        " 3.70609748249e+13\n",
        "429.752972588"
       ]
      },
      {
       "output_type": "stream",
       "stream": "stdout",
       "text": [
        " 4.11282551868e+13\n",
        "429.752972588"
       ]
      },
      {
       "output_type": "stream",
       "stream": "stdout",
       "text": [
        " 4.56419018307e+13\n",
        "429.752972588"
       ]
      },
      {
       "output_type": "stream",
       "stream": "stdout",
       "text": [
        " 5.06509015095e+13\n",
        "429.752972588"
       ]
      },
      {
       "output_type": "stream",
       "stream": "stdout",
       "text": [
        " 5.62096170586e+13\n",
        "429.752972588"
       ]
      },
      {
       "output_type": "stream",
       "stream": "stdout",
       "text": [
        " 6.23783773972e+13\n",
        "429.752972588"
       ]
      },
      {
       "output_type": "stream",
       "stream": "stdout",
       "text": [
        " 6.92241322807e+13\n",
        "429.752972588"
       ]
      },
      {
       "output_type": "stream",
       "stream": "stdout",
       "text": [
        " 7.68211789079e+13\n",
        "429.752972588"
       ]
      },
      {
       "output_type": "stream",
       "stream": "stdout",
       "text": [
        " 8.52519682712e+13\n",
        "429.752972588"
       ]
      },
      {
       "output_type": "stream",
       "stream": "stdout",
       "text": [
        " 9.4608e+13\n",
        "1000.0"
       ]
      },
      {
       "output_type": "stream",
       "stream": "stdout",
       "text": [
        " 3153600000.0\n",
        "1000.0"
       ]
      },
      {
       "output_type": "stream",
       "stream": "stdout",
       "text": [
        " 3499693846.96\n",
        "1000.0"
       ]
      },
      {
       "output_type": "stream",
       "stream": "stdout",
       "text": [
        " 3883769984.29\n",
        "1000.0"
       ]
      },
      {
       "output_type": "stream",
       "stream": "stdout",
       "text": [
        " 4309996802.71\n",
        "1000.0"
       ]
      },
      {
       "output_type": "stream",
       "stream": "stdout",
       "text": [
        " 4783000155.65\n",
        "1000.0"
       ]
      },
      {
       "output_type": "stream",
       "stream": "stdout",
       "text": [
        " 5307913563.78\n",
        "1000.0"
       ]
      },
      {
       "output_type": "stream",
       "stream": "stdout",
       "text": [
        " 5890433929.27\n",
        "1000.0"
       ]
      },
      {
       "output_type": "stream",
       "stream": "stdout",
       "text": [
        " 6536883364.47\n",
        "1000.0"
       ]
      },
      {
       "output_type": "stream",
       "stream": "stdout",
       "text": [
        " 7254277805.98\n",
        "1000.0"
       ]
      },
      {
       "output_type": "stream",
       "stream": "stdout",
       "text": [
        " 8050403158.84\n",
        "1000.0"
       ]
      },
      {
       "output_type": "stream",
       "stream": "stdout",
       "text": [
        " 8933899797.23\n",
        "1000.0"
       ]
      },
      {
       "output_type": "stream",
       "stream": "stdout",
       "text": [
        " 9914356338.7\n",
        "1000.0"
       ]
      },
      {
       "output_type": "stream",
       "stream": "stdout",
       "text": [
        " 11002413709.8\n",
        "1000.0"
       ]
      },
      {
       "output_type": "stream",
       "stream": "stdout",
       "text": [
        " 12209880632.2\n",
        "1000.0"
       ]
      },
      {
       "output_type": "stream",
       "stream": "stdout",
       "text": [
        " 13549861783.6\n",
        "1000.0"
       ]
      },
      {
       "output_type": "stream",
       "stream": "stdout",
       "text": [
        " 15036900022.6\n",
        "1000.0"
       ]
      },
      {
       "output_type": "stream",
       "stream": "stdout",
       "text": [
        " 16687134223.2\n",
        "1000.0"
       ]
      },
      {
       "output_type": "stream",
       "stream": "stdout",
       "text": [
        " 18518474430.6\n",
        "1000.0"
       ]
      },
      {
       "output_type": "stream",
       "stream": "stdout",
       "text": [
        " 20550796239.2\n",
        "1000.0"
       ]
      },
      {
       "output_type": "stream",
       "stream": "stdout",
       "text": [
        " 22806156503.2\n",
        "1000.0"
       ]
      },
      {
       "output_type": "stream",
       "stream": "stdout",
       "text": [
        " 25309032720.4\n",
        "1000.0"
       ]
      },
      {
       "output_type": "stream",
       "stream": "stdout",
       "text": [
        " 28086588687.2\n",
        "1000.0"
       ]
      },
      {
       "output_type": "stream",
       "stream": "stdout",
       "text": [
        " 31168969308.3\n",
        "1000.0"
       ]
      },
      {
       "output_type": "stream",
       "stream": "stdout",
       "text": [
        " 34589627760.2\n",
        "1000.0"
       ]
      },
      {
       "output_type": "stream",
       "stream": "stdout",
       "text": [
        " 38385688559.4\n",
        "1000.0"
       ]
      },
      {
       "output_type": "stream",
       "stream": "stdout",
       "text": [
        " 42598350476.5\n",
        "1000.0"
       ]
      },
      {
       "output_type": "stream",
       "stream": "stdout",
       "text": [
        " 47273333667.3\n",
        "1000.0"
       ]
      },
      {
       "output_type": "stream",
       "stream": "stdout",
       "text": [
        " 52461375875.4\n",
        "1000.0"
       ]
      },
      {
       "output_type": "stream",
       "stream": "stdout",
       "text": [
        " 58218783090.5\n",
        "1000.0"
       ]
      },
      {
       "output_type": "stream",
       "stream": "stdout",
       "text": [
        " 64608040639.1\n",
        "1000.0"
       ]
      },
      {
       "output_type": "stream",
       "stream": "stdout",
       "text": [
        " 71698491339.7\n",
        "1000.0"
       ]
      },
      {
       "output_type": "stream",
       "stream": "stdout",
       "text": [
        " 79567088082.7\n",
        "1000.0"
       ]
      },
      {
       "output_type": "stream",
       "stream": "stdout",
       "text": [
        " 88299229003.0\n",
        "1000.0"
       ]
      },
      {
       "output_type": "stream",
       "stream": "stdout",
       "text": [
        " 97989684307.8\n",
        "1000.0"
       ]
      },
      {
       "output_type": "stream",
       "stream": "stdout",
       "text": [
        " 108743624822.0\n",
        "1000.0"
       ]
      },
      {
       "output_type": "stream",
       "stream": "stdout",
       "text": [
        " 120677763408.0\n",
        "1000.0"
       ]
      },
      {
       "output_type": "stream",
       "stream": "stdout",
       "text": [
        " 133921621659.0\n",
        "1000.0"
       ]
      },
      {
       "output_type": "stream",
       "stream": "stdout",
       "text": [
        " 148618935596.0\n",
        "1000.0"
       ]
      },
      {
       "output_type": "stream",
       "stream": "stdout",
       "text": [
        " 164929215642.0\n",
        "1000.0"
       ]
      },
      {
       "output_type": "stream",
       "stream": "stdout",
       "text": [
        " 183029477792.0\n",
        "1000.0"
       ]
      },
      {
       "output_type": "stream",
       "stream": "stdout",
       "text": [
        " 203116164777.0\n",
        "1000.0"
       ]
      },
      {
       "output_type": "stream",
       "stream": "stdout",
       "text": [
        " 225407278060.0\n",
        "1000.0"
       ]
      },
      {
       "output_type": "stream",
       "stream": "stdout",
       "text": [
        " 250144743812.0\n",
        "1000.0"
       ]
      },
      {
       "output_type": "stream",
       "stream": "stdout",
       "text": [
        " 277597038549.0\n",
        "1000.0"
       ]
      },
      {
       "output_type": "stream",
       "stream": "stdout",
       "text": [
        " 308062102912.0\n",
        "1000.0"
       ]
      },
      {
       "output_type": "stream",
       "stream": "stdout",
       "text": [
        " 341870575229.0\n",
        "1000.0"
       ]
      },
      {
       "output_type": "stream",
       "stream": "stdout",
       "text": [
        " 379389379943.0\n",
        "1000.0"
       ]
      },
      {
       "output_type": "stream",
       "stream": "stdout",
       "text": [
        " 421025709851.0\n",
        "1000.0"
       ]
      },
      {
       "output_type": "stream",
       "stream": "stdout",
       "text": [
        " 467231445389.0\n",
        "1000.0"
       ]
      },
      {
       "output_type": "stream",
       "stream": "stdout",
       "text": [
        " 518508058896.0\n",
        "1000.0"
       ]
      },
      {
       "output_type": "stream",
       "stream": "stdout",
       "text": [
        " 575412057115.0\n",
        "1000.0"
       ]
      },
      {
       "output_type": "stream",
       "stream": "stdout",
       "text": [
        " 638561020977.0\n",
        "1000.0"
       ]
      },
      {
       "output_type": "stream",
       "stream": "stdout",
       "text": [
        " 708640308226.0\n",
        "1000.0"
       ]
      },
      {
       "output_type": "stream",
       "stream": "stdout",
       "text": [
        " 786410491630.0\n",
        "1000.0"
       ]
      },
      {
       "output_type": "stream",
       "stream": "stdout",
       "text": [
        " 872715613503.0\n",
        "1000.0"
       ]
      },
      {
       "output_type": "stream",
       "stream": "stdout",
       "text": [
        " 968492346119.0\n",
        "1000.0"
       ]
      },
      {
       "output_type": "stream",
       "stream": "stdout",
       "text": [
        " 1.07478015745e+12\n",
        "1000.0"
       ]
      },
      {
       "output_type": "stream",
       "stream": "stdout",
       "text": [
        " 1.19273259255e+12\n",
        "1000.0"
       ]
      },
      {
       "output_type": "stream",
       "stream": "stdout",
       "text": [
        " 1.32362979301e+12\n",
        "1000.0"
       ]
      },
      {
       "output_type": "stream",
       "stream": "stdout",
       "text": [
        " 1.46889239036e+12\n",
        "1000.0"
       ]
      },
      {
       "output_type": "stream",
       "stream": "stdout",
       "text": [
        " 1.63009692427e+12\n",
        "1000.0"
       ]
      },
      {
       "output_type": "stream",
       "stream": "stdout",
       "text": [
        " 1.80899295276e+12\n",
        "1000.0"
       ]
      },
      {
       "output_type": "stream",
       "stream": "stdout",
       "text": [
        " 2.0075220402e+12\n",
        "1000.0"
       ]
      },
      {
       "output_type": "stream",
       "stream": "stdout",
       "text": [
        " 2.22783882918e+12\n",
        "1000.0"
       ]
      },
      {
       "output_type": "stream",
       "stream": "stdout",
       "text": [
        " 2.47233442495e+12\n",
        "1000.0"
       ]
      },
      {
       "output_type": "stream",
       "stream": "stdout",
       "text": [
        " 2.74366234609e+12\n",
        "1000.0"
       ]
      },
      {
       "output_type": "stream",
       "stream": "stdout",
       "text": [
        " 3.04476732329e+12\n",
        "1000.0"
       ]
      },
      {
       "output_type": "stream",
       "stream": "stdout",
       "text": [
        " 3.37891725861e+12\n",
        "1000.0"
       ]
      },
      {
       "output_type": "stream",
       "stream": "stdout",
       "text": [
        " 3.74973869208e+12\n",
        "1000.0"
       ]
      },
      {
       "output_type": "stream",
       "stream": "stdout",
       "text": [
        " 4.1612561607e+12\n",
        "1000.0"
       ]
      },
      {
       "output_type": "stream",
       "stream": "stdout",
       "text": [
        " 4.61793587685e+12\n",
        "1000.0"
       ]
      },
      {
       "output_type": "stream",
       "stream": "stdout",
       "text": [
        " 5.12473420023e+12\n",
        "1000.0"
       ]
      },
      {
       "output_type": "stream",
       "stream": "stdout",
       "text": [
        " 5.68715142943e+12\n",
        "1000.0"
       ]
      },
      {
       "output_type": "stream",
       "stream": "stdout",
       "text": [
        " 6.3112914968e+12\n",
        "1000.0"
       ]
      },
      {
       "output_type": "stream",
       "stream": "stdout",
       "text": [
        " 7.00392821465e+12\n",
        "1000.0"
       ]
      },
      {
       "output_type": "stream",
       "stream": "stdout",
       "text": [
        " 7.77257879166e+12\n",
        "1000.0"
       ]
      },
      {
       "output_type": "stream",
       "stream": "stdout",
       "text": [
        " 8.62558541736e+12\n",
        "1000.0"
       ]
      },
      {
       "output_type": "stream",
       "stream": "stdout",
       "text": [
        " 9.57220580022e+12\n",
        "1000.0"
       ]
      },
      {
       "output_type": "stream",
       "stream": "stdout",
       "text": [
        " 1.06227136418e+13\n",
        "1000.0"
       ]
      },
      {
       "output_type": "stream",
       "stream": "stdout",
       "text": [
        " 1.17885101377e+13\n",
        "1000.0"
       ]
      },
      {
       "output_type": "stream",
       "stream": "stdout",
       "text": [
        " 1.30822477149e+13\n",
        "1000.0"
       ]
      },
      {
       "output_type": "stream",
       "stream": "stdout",
       "text": [
        " 1.45179673492e+13\n",
        "1000.0"
       ]
      },
      {
       "output_type": "stream",
       "stream": "stdout",
       "text": [
        " 1.6111250952e+13\n",
        "1000.0"
       ]
      },
      {
       "output_type": "stream",
       "stream": "stdout",
       "text": [
        " 1.78793904819e+13\n",
        "1000.0"
       ]
      },
      {
       "output_type": "stream",
       "stream": "stdout",
       "text": [
        " 1.98415756141e+13\n",
        "1000.0"
       ]
      },
      {
       "output_type": "stream",
       "stream": "stdout",
       "text": [
        " 2.20191020075e+13\n",
        "1000.0"
       ]
      },
      {
       "output_type": "stream",
       "stream": "stdout",
       "text": [
        " 2.44356024262e+13\n",
        "1000.0"
       ]
      },
      {
       "output_type": "stream",
       "stream": "stdout",
       "text": [
        " 2.71173032273e+13\n",
        "1000.0"
       ]
      },
      {
       "output_type": "stream",
       "stream": "stdout",
       "text": [
        " 3.00933089963e+13\n",
        "1000.0"
       ]
      },
      {
       "output_type": "stream",
       "stream": "stdout",
       "text": [
        " 3.33959184199e+13\n",
        "1000.0"
       ]
      },
      {
       "output_type": "stream",
       "stream": "stdout",
       "text": [
        " 3.70609748249e+13\n",
        "1000.0"
       ]
      },
      {
       "output_type": "stream",
       "stream": "stdout",
       "text": [
        " 4.11282551868e+13\n",
        "1000.0"
       ]
      },
      {
       "output_type": "stream",
       "stream": "stdout",
       "text": [
        " 4.56419018307e+13\n",
        "1000.0"
       ]
      },
      {
       "output_type": "stream",
       "stream": "stdout",
       "text": [
        " 5.06509015095e+13\n",
        "1000.0"
       ]
      },
      {
       "output_type": "stream",
       "stream": "stdout",
       "text": [
        " 5.62096170586e+13\n",
        "1000.0"
       ]
      },
      {
       "output_type": "stream",
       "stream": "stdout",
       "text": [
        " 6.23783773972e+13\n",
        "1000.0"
       ]
      },
      {
       "output_type": "stream",
       "stream": "stdout",
       "text": [
        " 6.92241322807e+13\n",
        "1000.0"
       ]
      },
      {
       "output_type": "stream",
       "stream": "stdout",
       "text": [
        " 7.68211789079e+13\n",
        "1000.0"
       ]
      },
      {
       "output_type": "stream",
       "stream": "stdout",
       "text": [
        " 8.52519682712e+13\n",
        "1000.0"
       ]
      },
      {
       "output_type": "stream",
       "stream": "stdout",
       "text": [
        " 9.4608e+13\n"
       ]
      }
     ],
     "prompt_number": 49
    },
    {
     "cell_type": "code",
     "collapsed": false,
     "input": [
      "rnb = np.linspace(0, 256, len(s))\n",
      "\n",
      "for i in range(len(s)):\n",
      "    plt.semilogx(t / (365 * 24 * 3600), desdist[i], c = cm.rainbow(int(rnb[i])))\n",
      "plt.xlabel('t [yr]')\n",
      "plt.ylabel('Distance [AU]')\n",
      "\n"
     ],
     "language": "python",
     "metadata": {},
     "outputs": [
      {
       "metadata": {},
       "output_type": "pyout",
       "prompt_number": 59,
       "text": [
        "<matplotlib.text.Text at 0x1127ff510>"
       ]
      },
      {
       "metadata": {},
       "output_type": "display_data",
       "png": "[encoded data removed]",
       "text": [
        "<matplotlib.figure.Figure at 0x11271a7d0>"
       ]
      }
     ],
     "prompt_number": 59
    },
    {
     "cell_type": "code",
     "collapsed": false,
     "input": [
      "desdist[1, 8]/desdist[1, 9]-1"
     ],
     "language": "python",
     "metadata": {},
     "outputs": [
      {
       "metadata": {},
       "output_type": "pyout",
       "prompt_number": 32,
       "text": [
        "0.063707496867405178"
       ]
      }
     ],
     "prompt_number": 32
    },
    {
     "cell_type": "code",
     "collapsed": false,
     "input": [
      "f = open('../dat/H2O/stopping_dist_vs_time.txt', 'wb')\n",
      "for i in range(len(s)):\n",
      "    f.write('%s \\n' % str(s[i]))\n",
      "    for j in range(len(t)):\n",
      "        f.write(' %s ' % str(t[j]))\n",
      "        f.write(' %s \\n' % str(desdist[i, j]))\n",
      "f.close()"
     ],
     "language": "python",
     "metadata": {},
     "outputs": [],
     "prompt_number": 53
    },
    {
     "cell_type": "code",
     "collapsed": false,
     "input": [
      "destime = []\n",
      "\n",
      "for i in range(len(s)):\n",
      "    for j in range(len(t) - 1):\n",
      "        if abs(desdist[i, j] / desdist[i, j + 1] - 1) < 1e-5:\n",
      "            break\n",
      "            \n",
      "    destime = np.append(destime, t[j])"
     ],
     "language": "python",
     "metadata": {},
     "outputs": [],
     "prompt_number": 54
    },
    {
     "cell_type": "code",
     "collapsed": false,
     "input": [
      "destime/(365*24*3600)"
     ],
     "language": "python",
     "metadata": {},
     "outputs": [
      {
       "metadata": {},
       "output_type": "pyout",
       "prompt_number": 55,
       "text": [
        "array([  10840.6448259 ,    8802.5443477 ,    3826.66677474,\n",
        "           988.36153312,     255.27660955,     283.29210417,\n",
        "          1350.78483246,    6440.77133362,   34081.0552211 ,\n",
        "        162504.25546148])"
       ]
      }
     ],
     "prompt_number": 55
    },
    {
     "cell_type": "code",
     "collapsed": false,
     "input": [
      "desdist[2]"
     ],
     "language": "python",
     "metadata": {},
     "outputs": [
      {
       "metadata": {},
       "output_type": "pyout",
       "prompt_number": 61,
       "text": [
        "array([ 0.98773642,  0.98638356,  0.98488059,  0.98321064,  0.98135491,\n",
        "        0.97929241,  0.97699969,  0.97445058,  0.97161578,  0.96846248,\n",
        "        0.96495395,  0.96104895,  0.95670115,  0.95185841,  0.94646196,\n",
        "        0.94044543,  0.93373362,  0.92624124,  0.91787105,  0.908512  ,\n",
        "        0.89803655,  0.88629758,  0.87312435,  0.85831734,  0.8416413 ,\n",
        "        0.82281613,  0.80150403,  0.77729134,  0.74966169,  0.71795518,\n",
        "        0.68130342,  0.63852732,  0.58800504,  0.52790485,  0.46231277,\n",
        "        0.43159175,  0.43159175,  0.43159175,  0.43159175,  0.43159175,\n",
        "        0.43159175,  0.43159175,  0.43159175,  0.43159175,  0.43159175,\n",
        "        0.43159175,  0.43159175,  0.43159175,  0.43159175,  0.43159176,\n",
        "        0.43159175,  0.43159175,  0.43159175,  0.43159175,  0.43159175,\n",
        "        0.43159175,  0.43159175,  0.43159175,  0.43159176,  0.43159175,\n",
        "        0.43159175,  0.43159176,  0.43159176,  0.43159175,  0.43159175,\n",
        "        0.43159177,  0.43159176,  0.43159175,  0.43159175,  0.43159175,\n",
        "        0.43159175,  0.43159174,  0.43159174,  0.43159171,  0.43159171,\n",
        "        0.4315917 ,  0.4315917 ,  0.43159191,  0.43159189,  0.43159176,\n",
        "        0.43159176,  0.43159176,  0.43159176,  0.43159176,  0.43159176,\n",
        "        0.43159176,  0.43159176,  0.43159176,  0.43159176,  0.43159176,\n",
        "        0.43159176,  0.43159175,  0.43159175,  0.43159175,  0.43159175,\n",
        "        0.43159175,  0.43159175,  0.43159176,  0.43159177,  0.43159177])"
       ]
      }
     ],
     "prompt_number": 61
    },
    {
     "cell_type": "code",
     "collapsed": false,
     "input": [
      "plt.loglog(s, destime / (365*24*3600))\n",
      "plt.xlabel('s [cm]')\n",
      "plt.ylabel('Desorption time [yr]')"
     ],
     "language": "python",
     "metadata": {},
     "outputs": [
      {
       "metadata": {},
       "output_type": "pyout",
       "prompt_number": 60,
       "text": [
        "<matplotlib.text.Text at 0x11280d5d0>"
       ]
      },
      {
       "metadata": {},
       "output_type": "display_data",
       "png": "[encoded data removed]",
       "text": [
        "<matplotlib.figure.Figure at 0x11256b750>"
       ]
      }
     ],
     "prompt_number": 60
    },
    {
     "cell_type": "code",
     "collapsed": false,
     "input": [],
     "language": "python",
     "metadata": {},
     "outputs": []
    }
   ],
   "metadata": {}
  }
 ]
}