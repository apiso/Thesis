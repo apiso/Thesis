{
 "metadata": {
  "name": "",
  "signature": "sha256:52158291d1c023ef445af4cbc7225e3fb41e8eb8b39aed9c53f7e200ed81befc"
 },
 "nbformat": 3,
 "nbformat_minor": 0,
 "worksheets": [
  {
   "cells": [
    {
     "cell_type": "code",
     "collapsed": false,
     "input": [
      "import numpy as np\n",
      "from matplotlib import pyplot as plt\n",
      "import C_to_O as CO\n",
      "from T_freeze import T_freeze, Rdes, tevap\n",
      "from C_to_O import T_freeze_H20, T_freeze_CO2, T_freeze_CO\n",
      "\n",
      "\n",
      "import matplotlib.cm as cm\n",
      "\n",
      "from drift_timescales import tr, Tdisk, ts, lambdamfp, cdisk, tdes, rf, r_freeze, \\\n",
      "        read_drag_file, read_drag_file_many, r_stop, Mdot_solids, Mdot_gas, dMgas_dt, dMsol_dt, rdot\n",
      "from drift_timescales_varying_sigma import dMdot, Mgas_dt, Msol_dt, Sigmadisk_act, vacc_act, rdot_gas\n",
      "from drift_timescales_varying_sigma_3 import dMdot as dMdott, Mdot_solids as Mdot_solids_t, dMgas_dt as dMgas_dt_t, \\\n",
      "        dMsol_dt as dMsol_dt_t, Sigmap_act, vacc_act as vacc_old\n",
      "from drift_timescales_Til_parameters import vacc_act as vacc_Til, Sigmap_act as Sigmap_2\n",
      "from drift_timescales_updated_sigmap import Sigmadisk, Tdisk as Tdisk_new, vacc_act as vacc_new\n",
      "    \n",
      "from scipy.optimize import brentq\n",
      "from utils.constants import cmperau, AU, Rsun, Msun\n",
      "from matplotlib import animation\n",
      "from IPython.display import HTML\n",
      "from IPython import display\n",
      "import JSAnimation\n",
      "from JSAnimation.JSAnimation import IPython_display"
     ],
     "language": "python",
     "metadata": {},
     "outputs": [],
     "prompt_number": 1
    },
    {
     "cell_type": "code",
     "collapsed": false,
     "input": [
      "nt = 20\n",
      "nr = 100 \n",
      "\n",
      "Tstar = 4300.\n",
      "Rstar = 2.5 * Rsun\n",
      "Mdisk = 0.1 * Msun\n",
      "alpha = 0.01\n",
      "\n",
      "r = np.logspace(-1, 4, nr)"
     ],
     "language": "python",
     "metadata": {},
     "outputs": [],
     "prompt_number": 58
    },
    {
     "cell_type": "code",
     "collapsed": false,
     "input": [
      "r = np.logspace(-1, 4, nr)\n",
      "t = np.linspace(0, 3e6 * 365 * 24 * 3600, nt)\n",
      "dt = t[1] - t[0]\n",
      "\n",
      "sigarray = np.ndarray(shape = (len(r), len(t)), dtype = float)\n",
      "sigarray_new = np.ndarray(shape = (len(r), len(t)), dtype = float)\n",
      "sigarray_new_1 = np.ndarray(shape = (len(r), len(t)), dtype = float)\n",
      "\n",
      "for i in range(len(r)):\n",
      "    for j in range(len(t)):\n",
      "        sigarray[i, j] = Sigmadisk_act(r[i], t[j], alpha, r1 = 100 * AU)\n",
      "        sigarray_new[i, j] = Sigmadisk(r[i], t[j], alpha, Mdisk, 100 * AU)\n",
      "        sigarray_new_1[i, j] = Sigmadisk(r[i], t[j], alpha, Mdisk, 100 * AU, gammadflag = 1)\n",
      "        \n",
      "        \n",
      "#for j in range(len(t)):\n",
      "#    temp = Sigmap_act(r[0], r[-1], nr, t[j], dt, 100., 0.01)\n",
      "#    for i in range(len(r)):\n",
      "#        sigparray[i, j] = temp[i]"
     ],
     "language": "python",
     "metadata": {},
     "outputs": [],
     "prompt_number": 59
    },
    {
     "cell_type": "code",
     "collapsed": false,
     "input": [
      "import time\n",
      "from IPython import display\n",
      "for i in range(nt):\n",
      "    plt.loglog(r, sigarray[:, i])\n",
      "    plt.loglog(r, sigarray_new[:, i])\n",
      "    plt.loglog(r, sigarray_new_1[:, i])\n",
      "    #plt.loglog(r[:-1], -array1[:, i, 2], '--b')\n",
      "    #plt.title('s=0.001 cm')\n",
      "    plt.xlabel('a [AU]')\n",
      "    plt.ylabel(r'$\\Sigma_{\\rm d}$ [g cm$^{-2}$]')\n",
      "    plt.ylim(ymin = 1, ymax = 5e4)\n",
      "    plt.xlim(xmax = 100)\n",
      "    display.clear_output(wait=True)\n",
      "    #plt.savefig('../figs/Sigma_disk_profiles/sigmad_vs_a_t_' + str(i) + '_.pdf')\n",
      "    plt.show()\n",
      "    display.display(plt.gcf())\n",
      "    time.sleep(0.00001)"
     ],
     "language": "python",
     "metadata": {},
     "outputs": [
      {
       "metadata": {},
       "output_type": "display_data",
       "png": "[encoded data removed]",
       "text": [
        "<matplotlib.figure.Figure at 0x10d2960d0>"
       ]
      },
      {
       "metadata": {},
       "output_type": "display_data",
       "text": [
        "<matplotlib.figure.Figure at 0x10cb07490>"
       ]
      },
      {
       "metadata": {},
       "output_type": "display_data",
       "text": [
        "<matplotlib.figure.Figure at 0x10cb07490>"
       ]
      }
     ],
     "prompt_number": 60
    },
    {
     "cell_type": "code",
     "collapsed": false,
     "input": [
      "Td, Td_new, Td_new_noconst = [], [], []\n",
      "\n",
      "for i in range(len(r)):\n",
      "    Td = np.append(Td, Tdisk(r[i]))\n",
      "    Td_new = np.append(Td_new, Tdisk_new(r[i], Tstar, Rstar))\n",
      "    Td_new_noconst = np.append(Td_new_noconst, Tdisk_new(r[i], Tstar, Rstar, const = 0))"
     ],
     "language": "python",
     "metadata": {},
     "outputs": [],
     "prompt_number": 61
    },
    {
     "cell_type": "code",
     "collapsed": false,
     "input": [
      "plt.loglog(r, Td)\n",
      "plt.semilogx(r, Td_new)\n",
      "plt.semilogx(r, Td_new_noconst)\n",
      "#plt.xlim(xmax = 100)"
     ],
     "language": "python",
     "metadata": {},
     "outputs": [
      {
       "metadata": {},
       "output_type": "pyout",
       "prompt_number": 62,
       "text": [
        "[<matplotlib.lines.Line2D at 0x10d2229d0>]"
       ]
      },
      {
       "metadata": {},
       "output_type": "display_data",
       "png": "[encoded data removed]",
       "text": [
        "<matplotlib.figure.Figure at 0x10da12810>"
       ]
      }
     ],
     "prompt_number": 62
    },
    {
     "cell_type": "code",
     "collapsed": false,
     "input": [
      "v_Til = []\n",
      "\n",
      "for i in range(len(r)):\n",
      "    v_Til = np.append(v_Til, vacc_Til(r[i], alpha, Tstar, Rstar, Mstar = Msun, mu = 2.35))\n",
      "    \n",
      "v_old = np.ndarray(shape = (len(r), len(t)), dtype = float)\n",
      "v_new = np.ndarray(shape = (len(r), len(t)), dtype = float)\n",
      "\n",
      "for i in range(len(r)):\n",
      "    for j in range(len(t)):\n",
      "        v_old[i, j] = vacc_old(r[i], t[j], alpha)\n",
      "        v_new[i, j] = vacc_new(r[i], t[j], alpha, Tstar, Rstar, Mstar = Msun, mu = 2.35, T0 = 120, betaT = 3./7, rc = 100 * AU, gammadflag = 1)"
     ],
     "language": "python",
     "metadata": {},
     "outputs": [],
     "prompt_number": 63
    },
    {
     "cell_type": "code",
     "collapsed": false,
     "input": [
      "import time\n",
      "from IPython import display\n",
      "for i in range(nt):\n",
      "    plt.semilogx(r, -v_Til)\n",
      "    plt.semilogx(r, -v_old[:, i])\n",
      "    plt.semilogx(r, v_old[:, i], '--g')\n",
      "    plt.semilogx(r, -v_new[:, i])\n",
      "    plt.semilogx(r, v_new[:, i], '--r')\n",
      "    #plt.loglog(r, sigarray_new_1[:, i])\n",
      "    #plt.loglog(r[:-1], -array1[:, i, 2], '--b')\n",
      "    #plt.title('s=0.001 cm')\n",
      "    plt.xlabel('a [AU]')\n",
      "    #plt.ylabel(r'$\\Sigma_{\\rm d}$ [g cm$^{-2}$]')\n",
      "    #plt.ylim(ymin = 1, ymax = 5e4)\n",
      "    plt.xlim(xmax = 100)\n",
      "    plt.ylim(0, 120)\n",
      "    display.clear_output(wait=True)\n",
      "    #plt.savefig('../figs/Sigma_disk_profiles/sigmad_vs_a_t_' + str(i) + '_.pdf')\n",
      "    plt.show()\n",
      "    display.display(plt.gcf())\n",
      "    time.sleep(0.00001)"
     ],
     "language": "python",
     "metadata": {},
     "outputs": [
      {
       "metadata": {},
       "output_type": "display_data",
       "png": "[encoded data removed]",
       "text": [
        "<matplotlib.figure.Figure at 0x10b56bb10>"
       ]
      },
      {
       "metadata": {},
       "output_type": "display_data",
       "text": [
        "<matplotlib.figure.Figure at 0x10cb76290>"
       ]
      },
      {
       "metadata": {},
       "output_type": "display_data",
       "text": [
        "<matplotlib.figure.Figure at 0x10cb76290>"
       ]
      }
     ],
     "prompt_number": 64
    },
    {
     "cell_type": "code",
     "collapsed": false,
     "input": [
      "nt = 20\n",
      "nr = 50\n",
      "\n",
      "Tstar = 4300.\n",
      "Rstar = 2.5 * Rsun\n",
      "rc = 60 * AU\n",
      "Mdisk = 0.1 * Msun\n",
      "s = 1e5\n",
      "alpha = 1e-3\n",
      "\n",
      "r = logspace(np.log10(0.05),np.log10(4e3),nr)\n",
      "t = np.linspace(1e4,3e6,nt)*365*24*3600\n",
      "dt = t[1] - t[0]\n",
      "\n",
      "\n",
      "sigparray = Sigmap_2(r[0], r[-1], nr, t[0], t[-1], nt, s, alpha, Mdisk, Rstar, Tstar, rc, rhos = 1.6, mu= 2.3,  Mstar = Msun, sigma = 2 * 10**(-15), dusttogas = 0.01)\n",
      "\n"
     ],
     "language": "python",
     "metadata": {},
     "outputs": [],
     "prompt_number": 65
    },
    {
     "cell_type": "code",
     "collapsed": false,
     "input": [
      "f=open('advection_from_Til/data_' + str(s)+ '/sigma_d.dat', 'r')\n",
      "\n",
      "sigparray_Til = np.ndarray(shape = (nt, nr), dtype = float)\n",
      "\n",
      "for j in range(nt):\n",
      "    line = f.readline().split()\n",
      "    for i in range(nr):\n",
      "        sigparray_Til[j ,i] = float(line[i])\n",
      "        \n",
      "f.close()"
     ],
     "language": "python",
     "metadata": {},
     "outputs": [],
     "prompt_number": 51
    },
    {
     "cell_type": "code",
     "collapsed": false,
     "input": [
      "import time\n",
      "from IPython import display\n",
      "for i in range(nt):\n",
      "    #plt.loglog(r, sigarray[:, i])\n",
      "    plt.loglog(r, sigparray[:, i], label = 'Ana')\n",
      "    plt.loglog(r, sigparray_Til[i], label = 'Til')\n",
      "    #plt.loglog(r[:-1], -array1[:, i, 2], '--b')\n",
      "    #plt.title('s=0.001 cm')\n",
      "    plt.xlabel('a [AU]')\n",
      "    plt.ylabel(r'$\\Sigma_{\\rm d}$ [g cm$^{-2}$]')\n",
      "    plt.title(str(t[i] / (365*24*3600)))\n",
      "    plt.ylim(2e-8, 2e5)\n",
      "    plt.xlim(0.5,500)\n",
      "    plt.legend()\n",
      "    display.clear_output(wait=True)\n",
      "    plt.savefig('../figs/Sigma_disk_profiles_Ana_Til_parameters/' +str(s) +'/sigmad_vs_a_t_' + str(i) + '_.pdf')\n",
      "    plt.show()\n",
      "    display.display(plt.gcf())\n",
      "    time.sleep(0.00001)"
     ],
     "language": "python",
     "metadata": {},
     "outputs": [
      {
       "metadata": {},
       "output_type": "display_data",
       "png": "[encoded data removed]",
       "text": [
        "<matplotlib.figure.Figure at 0x10cbadd50>"
       ]
      },
      {
       "metadata": {},
       "output_type": "display_data",
       "text": [
        "<matplotlib.figure.Figure at 0x10cba68d0>"
       ]
      },
      {
       "metadata": {},
       "output_type": "display_data",
       "text": [
        "<matplotlib.figure.Figure at 0x10cba68d0>"
       ]
      }
     ],
     "prompt_number": 52
    },
    {
     "cell_type": "code",
     "collapsed": false,
     "input": [
      "sigparray_Til[0]"
     ],
     "language": "python",
     "metadata": {},
     "outputs": [
      {
       "metadata": {},
       "output_type": "pyout",
       "prompt_number": 10,
       "text": [
        "array([  4.71132168e+02,   3.74098462e+02,   2.97033060e+02,\n",
        "         2.35826749e+02,   1.87215937e+02,   1.48608643e+02,\n",
        "         1.17946281e+02,   9.35938995e+01,   7.42530022e+01,\n",
        "         5.88923104e+01,   4.66927746e+01,   3.70039013e+01,\n",
        "         2.93090685e+01,   2.31979784e+01,   1.83447796e+01,\n",
        "         1.44906924e+01,   1.14302098e+01,   9.00013935e+00,\n",
        "         7.07090014e+00,   5.53961260e+00,   4.32461042e+00,\n",
        "         3.36108285e+00,   2.59761394e+00,   1.99343350e+00,\n",
        "         1.51623197e+00,   1.14042124e+00,   8.45746727e-01,\n",
        "         6.16174612e-01,   4.38992996e-01,   3.04078589e-01,\n",
        "         2.03292244e-01,   1.29979234e-01,   7.85639568e-02,\n",
        "         4.42431161e-02,   2.27918423e-02,   1.04954237e-02,\n",
        "         4.19648191e-03,   1.40456915e-03,   3.75805364e-04,\n",
        "         7.58489827e-05,   1.07344567e-05,   9.71651855e-07,\n",
        "         5.01012758e-08,   1.27195064e-09,   1.32325394e-11,\n",
        "         4.47689075e-14,   3.68185681e-17,   5.10221792e-21,\n",
        "         7.51032904e-26,   6.56824317e-32])"
       ]
      }
     ],
     "prompt_number": 10
    },
    {
     "cell_type": "code",
     "collapsed": false,
     "input": [
      "t"
     ],
     "language": "python",
     "metadata": {},
     "outputs": [
      {
       "metadata": {},
       "output_type": "pyout",
       "prompt_number": 60,
       "text": [
        "array([  3.15360000e+11,   7.89192362e+11,   1.26302472e+12,\n",
        "         1.73685709e+12,   2.21068945e+12,   2.68452181e+12,\n",
        "         3.15835417e+12,   3.63218653e+12,   4.10601889e+12,\n",
        "         4.57985126e+12,   5.05368362e+12,   5.52751598e+12,\n",
        "         6.00134834e+12,   6.47518070e+12,   6.94901307e+12,\n",
        "         7.42284543e+12,   7.89667779e+12,   8.37051015e+12,\n",
        "         8.84434251e+12,   9.31817487e+12,   9.79200724e+12,\n",
        "         1.02658396e+13,   1.07396720e+13,   1.12135043e+13,\n",
        "         1.16873367e+13,   1.21611690e+13,   1.26350014e+13,\n",
        "         1.31088338e+13,   1.35826661e+13,   1.40564985e+13,\n",
        "         1.45303309e+13,   1.50041632e+13,   1.54779956e+13,\n",
        "         1.59518279e+13,   1.64256603e+13,   1.68994927e+13,\n",
        "         1.73733250e+13,   1.78471574e+13,   1.83209897e+13,\n",
        "         1.87948221e+13,   1.92686545e+13,   1.97424868e+13,\n",
        "         2.02163192e+13,   2.06901516e+13,   2.11639839e+13,\n",
        "         2.16378163e+13,   2.21116486e+13,   2.25854810e+13,\n",
        "         2.30593134e+13,   2.35331457e+13,   2.40069781e+13,\n",
        "         2.44808105e+13,   2.49546428e+13,   2.54284752e+13,\n",
        "         2.59023075e+13,   2.63761399e+13,   2.68499723e+13,\n",
        "         2.73238046e+13,   2.77976370e+13,   2.82714693e+13,\n",
        "         2.87453017e+13,   2.92191341e+13,   2.96929664e+13,\n",
        "         3.01667988e+13,   3.06406312e+13,   3.11144635e+13,\n",
        "         3.15882959e+13,   3.20621282e+13,   3.25359606e+13,\n",
        "         3.30097930e+13,   3.34836253e+13,   3.39574577e+13,\n",
        "         3.44312901e+13,   3.49051224e+13,   3.53789548e+13,\n",
        "         3.58527871e+13,   3.63266195e+13,   3.68004519e+13,\n",
        "         3.72742842e+13,   3.77481166e+13,   3.82219489e+13,\n",
        "         3.86957813e+13,   3.91696137e+13,   3.96434460e+13,\n",
        "         4.01172784e+13,   4.05911108e+13,   4.10649431e+13,\n",
        "         4.15387755e+13,   4.20126078e+13,   4.24864402e+13,\n",
        "         4.29602726e+13,   4.34341049e+13,   4.39079373e+13,\n",
        "         4.43817696e+13,   4.48556020e+13,   4.53294344e+13,\n",
        "         4.58032667e+13,   4.62770991e+13,   4.67509315e+13,\n",
        "         4.72247638e+13,   4.76985962e+13,   4.81724285e+13,\n",
        "         4.86462609e+13,   4.91200933e+13,   4.95939256e+13,\n",
        "         5.00677580e+13,   5.05415904e+13,   5.10154227e+13,\n",
        "         5.14892551e+13,   5.19630874e+13,   5.24369198e+13,\n",
        "         5.29107522e+13,   5.33845845e+13,   5.38584169e+13,\n",
        "         5.43322492e+13,   5.48060816e+13,   5.52799140e+13,\n",
        "         5.57537463e+13,   5.62275787e+13,   5.67014111e+13,\n",
        "         5.71752434e+13,   5.76490758e+13,   5.81229081e+13,\n",
        "         5.85967405e+13,   5.90705729e+13,   5.95444052e+13,\n",
        "         6.00182376e+13,   6.04920699e+13,   6.09659023e+13,\n",
        "         6.14397347e+13,   6.19135670e+13,   6.23873994e+13,\n",
        "         6.28612318e+13,   6.33350641e+13,   6.38088965e+13,\n",
        "         6.42827288e+13,   6.47565612e+13,   6.52303936e+13,\n",
        "         6.57042259e+13,   6.61780583e+13,   6.66518907e+13,\n",
        "         6.71257230e+13,   6.75995554e+13,   6.80733877e+13,\n",
        "         6.85472201e+13,   6.90210525e+13,   6.94948848e+13,\n",
        "         6.99687172e+13,   7.04425495e+13,   7.09163819e+13,\n",
        "         7.13902143e+13,   7.18640466e+13,   7.23378790e+13,\n",
        "         7.28117114e+13,   7.32855437e+13,   7.37593761e+13,\n",
        "         7.42332084e+13,   7.47070408e+13,   7.51808732e+13,\n",
        "         7.56547055e+13,   7.61285379e+13,   7.66023703e+13,\n",
        "         7.70762026e+13,   7.75500350e+13,   7.80238673e+13,\n",
        "         7.84976997e+13,   7.89715321e+13,   7.94453644e+13,\n",
        "         7.99191968e+13,   8.03930291e+13,   8.08668615e+13,\n",
        "         8.13406939e+13,   8.18145262e+13,   8.22883586e+13,\n",
        "         8.27621910e+13,   8.32360233e+13,   8.37098557e+13,\n",
        "         8.41836880e+13,   8.46575204e+13,   8.51313528e+13,\n",
        "         8.56051851e+13,   8.60790175e+13,   8.65528498e+13,\n",
        "         8.70266822e+13,   8.75005146e+13,   8.79743469e+13,\n",
        "         8.84481793e+13,   8.89220117e+13,   8.93958440e+13,\n",
        "         8.98696764e+13,   9.03435087e+13,   9.08173411e+13,\n",
        "         9.12911735e+13,   9.17650058e+13,   9.22388382e+13,\n",
        "         9.27126706e+13,   9.31865029e+13,   9.36603353e+13,\n",
        "         9.41341676e+13,   9.46080000e+13])"
       ]
      }
     ],
     "prompt_number": 60
    },
    {
     "cell_type": "code",
     "collapsed": false,
     "input": [],
     "language": "python",
     "metadata": {},
     "outputs": []
    }
   ],
   "metadata": {}
  }
 ]
}