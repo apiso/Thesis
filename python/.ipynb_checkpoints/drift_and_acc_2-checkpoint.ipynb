{
 "metadata": {
  "name": "",
  "signature": "sha256:f88d65b72d9a33a881726d74a56c4d1c3ae95a23171d537cf19ac9d62382eb88"
 },
 "nbformat": 3,
 "nbformat_minor": 0,
 "worksheets": [
  {
   "cells": [
    {
     "cell_type": "code",
     "collapsed": false,
     "input": [
      "import numpy as np\n",
      "from matplotlib import pyplot as plt\n",
      "import C_to_O as CO\n",
      "from T_freeze import T_freeze, Rdes, tevap\n",
      "from C_to_O import T_freeze_H20, T_freeze_CO2, T_freeze_CO\n",
      "\n",
      "\n",
      "import matplotlib.cm as cm\n",
      "from drift_timescales import Sigmadisk as Sigmadiskp\n",
      "\n",
      "#from drift_timescales import tr, Tdisk, ts, lambdamfp, cdisk, tdes, rf, r_freeze, \\\n",
      "#        read_drag_file, read_drag_file_many, r_stop, Mdot_solids, Mdot_gas, dMgas_dt, dMsol_dt#, rdot\n",
      "from drift_timescales_varying_sigma import dMdot, Mgas_dt, Msol_dt, Sigmadisk_act, vacc_act, rdot_gas\n",
      "#from drift_timescales_varying_sigma_3 import dMdot as dMdott, Mdot_solids as Mdot_solids_t, dMgas_dt as dMgas_dt_t, \\\n",
      "#        dMsol_dt as dMsol_dt_t, Sigmap_act, vacc_act as vacc_old\n",
      "#from drift_timescales_Til_parameters import vacc_act as vacc_Til, Sigmap_act, rdot_with_acc\n",
      "from drift_timescales_updated_sigmap import Sigmadisk, Tdisk as Tdisk_new, vacc_act as vacc_new, Sigmap_act, \\\n",
      "        rdot_with_acc, rdot, tr, rf\n",
      "from drift_timescales_updated_sigmap_0402 import dMdot, Sigmadisk, Sigmap_act, Sigmadisk_test\n",
      "    \n",
      "    \n",
      "from scipy.optimize import brentq\n",
      "from utils.constants import cmperau, AU, Rsun, Msun, yr\n",
      "from matplotlib import animation\n",
      "from IPython.display import HTML\n",
      "from IPython import display\n",
      "import JSAnimation\n",
      "from JSAnimation.JSAnimation import IPython_display"
     ],
     "language": "python",
     "metadata": {},
     "outputs": [],
     "prompt_number": 1
    },
    {
     "cell_type": "code",
     "collapsed": false,
     "input": [
      "nt = 200\n",
      "nr = 100 \n",
      "\n",
      "Tstar = 4300.\n",
      "Rstar = 2.5 * Rsun\n",
      "Mdisk = 0.1 * Msun\n",
      "alpha = 0.01\n",
      "\n",
      "r = np.logspace(-1, 4, nr)"
     ],
     "language": "python",
     "metadata": {},
     "outputs": [],
     "prompt_number": 8
    },
    {
     "cell_type": "code",
     "collapsed": false,
     "input": [
      "r = np.logspace(-1, 4, nr)\n",
      "#t = np.linspace(0, 3e6 * 365 * 24 * 3600, nt)\n",
      "t  = np.linspace(0, 3e5 * 365 * 24 * 3600, nt)\n",
      "dt = t[1] - t[0]\n",
      "\n",
      "#sigarray = np.ndarray(shape = (len(r), len(t)), dtype = float)\n",
      "sigarray_new = np.ndarray(shape = (len(r), len(t)), dtype = float)\n",
      "#sigarray_new_1 = np.ndarray(shape = (len(r), len(t)), dtype = float)\n",
      "\n",
      "for i in range(len(r)):\n",
      "    for j in range(len(t)):\n",
      "        #sigarray[i, j] = Sigmadisk_act(r[i], t[j], alpha, r1 = 100 * AU)\n",
      "        sigarray_new[i, j] = Sigmadisk(r[i], t[j], alpha, Mdisk, 100 * AU)\n",
      "        #sigarray_new_1[i, j] = Sigmadisk(r[i], t[j], alpha, Mdisk, 100 * AU, gammadflag = 1)\n",
      "        \n",
      "sigp = Sigmadiskp(r, Sigma0 = 2e3, betaS = 1.)\n",
      "        \n",
      "#for j in range(len(t)):\n",
      "#    temp = Sigmap_act(r[0], r[-1], nr, t[j], dt, 100., 0.01)\n",
      "#    for i in range(len(r)):\n",
      "#        sigparray[i, j] = temp[i]"
     ],
     "language": "python",
     "metadata": {},
     "outputs": [],
     "prompt_number": 15
    },
    {
     "cell_type": "code",
     "collapsed": false,
     "input": [
      "import time\n",
      "from IPython import display\n",
      "for i in range(nt):\n",
      "    plt.loglog(r, sigarray_new[:, i])\n",
      "    plt.loglog(r, sigp)\n",
      "    #plt.loglog(r, sigarray_new[:, i])\n",
      "    #plt.loglog(r, sigarray_new_1[:, i])\n",
      "    #plt.loglog(r[:-1], -array1[:, i, 2], '--b')\n",
      "    #plt.title('s=0.001 cm')\n",
      "    plt.xlabel('a [AU]')\n",
      "    plt.ylabel(r'$\\Sigma_{\\rm d}$ [g cm$^{-2}$]')\n",
      "    plt.title(str(t[i] / (365*24*3600)))\n",
      "    plt.ylim(ymin = 1, ymax = 5e4)\n",
      "    plt.xlim(xmax = 100)\n",
      "    display.clear_output(wait=True)\n",
      "    #plt.savefig('../figs/Sigma_disk_profiles/sigmad_vs_a_t_' + str(i) + '_.pdf')\n",
      "    plt.show()\n",
      "    display.display(plt.gcf())\n",
      "    time.sleep(0.00001)"
     ],
     "language": "python",
     "metadata": {},
     "outputs": [
      {
       "metadata": {},
       "output_type": "display_data",
       "png": "[encoded data removed]",
       "text": [
        "<matplotlib.figure.Figure at 0x10cab5f90>"
       ]
      },
      {
       "metadata": {},
       "output_type": "display_data",
       "text": [
        "<matplotlib.figure.Figure at 0x1033369d0>"
       ]
      },
      {
       "ename": "KeyboardInterrupt",
       "evalue": "",
       "output_type": "pyerr",
       "traceback": [
        "\u001b[0;31m---------------------------------------------------------------------------\u001b[0m\n\u001b[0;31mKeyboardInterrupt\u001b[0m                         Traceback (most recent call last)",
        "\u001b[0;32m<ipython-input-16-42ca11d4c11d>\u001b[0m in \u001b[0;36m<module>\u001b[0;34m()\u001b[0m\n\u001b[1;32m      2\u001b[0m \u001b[0;32mfrom\u001b[0m \u001b[0mIPython\u001b[0m \u001b[0;32mimport\u001b[0m \u001b[0mdisplay\u001b[0m\u001b[0;34m\u001b[0m\u001b[0m\n\u001b[1;32m      3\u001b[0m \u001b[0;32mfor\u001b[0m \u001b[0mi\u001b[0m \u001b[0;32min\u001b[0m \u001b[0mrange\u001b[0m\u001b[0;34m(\u001b[0m\u001b[0mnt\u001b[0m\u001b[0;34m)\u001b[0m\u001b[0;34m:\u001b[0m\u001b[0;34m\u001b[0m\u001b[0m\n\u001b[0;32m----> 4\u001b[0;31m     \u001b[0mplt\u001b[0m\u001b[0;34m.\u001b[0m\u001b[0mloglog\u001b[0m\u001b[0;34m(\u001b[0m\u001b[0mr\u001b[0m\u001b[0;34m,\u001b[0m \u001b[0msigarray_new\u001b[0m\u001b[0;34m[\u001b[0m\u001b[0;34m:\u001b[0m\u001b[0;34m,\u001b[0m \u001b[0mi\u001b[0m\u001b[0;34m]\u001b[0m\u001b[0;34m)\u001b[0m\u001b[0;34m\u001b[0m\u001b[0m\n\u001b[0m\u001b[1;32m      5\u001b[0m     \u001b[0mplt\u001b[0m\u001b[0;34m.\u001b[0m\u001b[0mloglog\u001b[0m\u001b[0;34m(\u001b[0m\u001b[0mr\u001b[0m\u001b[0;34m,\u001b[0m \u001b[0msigp\u001b[0m\u001b[0;34m)\u001b[0m\u001b[0;34m\u001b[0m\u001b[0m\n\u001b[1;32m      6\u001b[0m     \u001b[0;31m#plt.loglog(r, sigarray_new[:, i])\u001b[0m\u001b[0;34m\u001b[0m\u001b[0;34m\u001b[0m\u001b[0m\n",
        "\u001b[0;32m/Users/ana-mariapiso/Library/Enthought/Canopy_64bit/User/lib/python2.7/site-packages/matplotlib/pyplot.pyc\u001b[0m in \u001b[0;36mloglog\u001b[0;34m(*args, **kwargs)\u001b[0m\n\u001b[1;32m   2901\u001b[0m \u001b[0;34m@\u001b[0m\u001b[0m_autogen_docstring\u001b[0m\u001b[0;34m(\u001b[0m\u001b[0mAxes\u001b[0m\u001b[0;34m.\u001b[0m\u001b[0mloglog\u001b[0m\u001b[0;34m)\u001b[0m\u001b[0;34m\u001b[0m\u001b[0m\n\u001b[1;32m   2902\u001b[0m \u001b[0;32mdef\u001b[0m \u001b[0mloglog\u001b[0m\u001b[0;34m(\u001b[0m\u001b[0;34m*\u001b[0m\u001b[0margs\u001b[0m\u001b[0;34m,\u001b[0m \u001b[0;34m**\u001b[0m\u001b[0mkwargs\u001b[0m\u001b[0;34m)\u001b[0m\u001b[0;34m:\u001b[0m\u001b[0;34m\u001b[0m\u001b[0m\n\u001b[0;32m-> 2903\u001b[0;31m     \u001b[0max\u001b[0m \u001b[0;34m=\u001b[0m \u001b[0mgca\u001b[0m\u001b[0;34m(\u001b[0m\u001b[0;34m)\u001b[0m\u001b[0;34m\u001b[0m\u001b[0m\n\u001b[0m\u001b[1;32m   2904\u001b[0m     \u001b[0;31m# allow callers to override the hold state by passing hold=True|False\u001b[0m\u001b[0;34m\u001b[0m\u001b[0;34m\u001b[0m\u001b[0m\n\u001b[1;32m   2905\u001b[0m     \u001b[0mwashold\u001b[0m \u001b[0;34m=\u001b[0m \u001b[0max\u001b[0m\u001b[0;34m.\u001b[0m\u001b[0mishold\u001b[0m\u001b[0;34m(\u001b[0m\u001b[0;34m)\u001b[0m\u001b[0;34m\u001b[0m\u001b[0m\n",
        "\u001b[0;32m/Users/ana-mariapiso/Library/Enthought/Canopy_64bit/User/lib/python2.7/site-packages/matplotlib/pyplot.pyc\u001b[0m in \u001b[0;36mgca\u001b[0;34m(**kwargs)\u001b[0m\n\u001b[1;32m    801\u001b[0m     \"\"\"\n\u001b[1;32m    802\u001b[0m \u001b[0;34m\u001b[0m\u001b[0m\n\u001b[0;32m--> 803\u001b[0;31m     \u001b[0max\u001b[0m \u001b[0;34m=\u001b[0m  \u001b[0mgcf\u001b[0m\u001b[0;34m(\u001b[0m\u001b[0;34m)\u001b[0m\u001b[0;34m.\u001b[0m\u001b[0mgca\u001b[0m\u001b[0;34m(\u001b[0m\u001b[0;34m**\u001b[0m\u001b[0mkwargs\u001b[0m\u001b[0;34m)\u001b[0m\u001b[0;34m\u001b[0m\u001b[0m\n\u001b[0m\u001b[1;32m    804\u001b[0m     \u001b[0;32mreturn\u001b[0m \u001b[0max\u001b[0m\u001b[0;34m\u001b[0m\u001b[0m\n\u001b[1;32m    805\u001b[0m \u001b[0;34m\u001b[0m\u001b[0m\n",
        "\u001b[0;32m/Users/ana-mariapiso/Library/Enthought/Canopy_64bit/User/lib/python2.7/site-packages/matplotlib/figure.pyc\u001b[0m in \u001b[0;36mgca\u001b[0;34m(self, **kwargs)\u001b[0m\n\u001b[1;32m   1219\u001b[0m \u001b[0;34m\u001b[0m\u001b[0m\n\u001b[1;32m   1220\u001b[0m         \u001b[0;31m# no axes found, so create one which spans the figure\u001b[0m\u001b[0;34m\u001b[0m\u001b[0;34m\u001b[0m\u001b[0m\n\u001b[0;32m-> 1221\u001b[0;31m         \u001b[0;32mreturn\u001b[0m \u001b[0mself\u001b[0m\u001b[0;34m.\u001b[0m\u001b[0madd_subplot\u001b[0m\u001b[0;34m(\u001b[0m\u001b[0;36m1\u001b[0m\u001b[0;34m,\u001b[0m \u001b[0;36m1\u001b[0m\u001b[0;34m,\u001b[0m \u001b[0;36m1\u001b[0m\u001b[0;34m,\u001b[0m \u001b[0;34m**\u001b[0m\u001b[0mkwargs\u001b[0m\u001b[0;34m)\u001b[0m\u001b[0;34m\u001b[0m\u001b[0m\n\u001b[0m\u001b[1;32m   1222\u001b[0m \u001b[0;34m\u001b[0m\u001b[0m\n\u001b[1;32m   1223\u001b[0m     \u001b[0;32mdef\u001b[0m \u001b[0msca\u001b[0m\u001b[0;34m(\u001b[0m\u001b[0mself\u001b[0m\u001b[0;34m,\u001b[0m \u001b[0ma\u001b[0m\u001b[0;34m)\u001b[0m\u001b[0;34m:\u001b[0m\u001b[0;34m\u001b[0m\u001b[0m\n",
        "\u001b[0;32m/Users/ana-mariapiso/Library/Enthought/Canopy_64bit/User/lib/python2.7/site-packages/matplotlib/figure.pyc\u001b[0m in \u001b[0;36madd_subplot\u001b[0;34m(self, *args, **kwargs)\u001b[0m\n\u001b[1;32m    912\u001b[0m                     \u001b[0mself\u001b[0m\u001b[0;34m.\u001b[0m\u001b[0m_axstack\u001b[0m\u001b[0;34m.\u001b[0m\u001b[0mremove\u001b[0m\u001b[0;34m(\u001b[0m\u001b[0max\u001b[0m\u001b[0;34m)\u001b[0m\u001b[0;34m\u001b[0m\u001b[0m\n\u001b[1;32m    913\u001b[0m \u001b[0;34m\u001b[0m\u001b[0m\n\u001b[0;32m--> 914\u001b[0;31m             \u001b[0ma\u001b[0m \u001b[0;34m=\u001b[0m \u001b[0msubplot_class_factory\u001b[0m\u001b[0;34m(\u001b[0m\u001b[0mprojection_class\u001b[0m\u001b[0;34m)\u001b[0m\u001b[0;34m(\u001b[0m\u001b[0mself\u001b[0m\u001b[0;34m,\u001b[0m \u001b[0;34m*\u001b[0m\u001b[0margs\u001b[0m\u001b[0;34m,\u001b[0m \u001b[0;34m**\u001b[0m\u001b[0mkwargs\u001b[0m\u001b[0;34m)\u001b[0m\u001b[0;34m\u001b[0m\u001b[0m\n\u001b[0m\u001b[1;32m    915\u001b[0m \u001b[0;34m\u001b[0m\u001b[0m\n\u001b[1;32m    916\u001b[0m         \u001b[0mself\u001b[0m\u001b[0;34m.\u001b[0m\u001b[0m_axstack\u001b[0m\u001b[0;34m.\u001b[0m\u001b[0madd\u001b[0m\u001b[0;34m(\u001b[0m\u001b[0mkey\u001b[0m\u001b[0;34m,\u001b[0m \u001b[0ma\u001b[0m\u001b[0;34m)\u001b[0m\u001b[0;34m\u001b[0m\u001b[0m\n",
        "\u001b[0;32m/Users/ana-mariapiso/Library/Enthought/Canopy_64bit/User/lib/python2.7/site-packages/matplotlib/axes.pyc\u001b[0m in \u001b[0;36m__init__\u001b[0;34m(self, fig, *args, **kwargs)\u001b[0m\n\u001b[1;32m   9255\u001b[0m \u001b[0;34m\u001b[0m\u001b[0m\n\u001b[1;32m   9256\u001b[0m         \u001b[0;31m# _axes_class is set in the subplot_class_factory\u001b[0m\u001b[0;34m\u001b[0m\u001b[0;34m\u001b[0m\u001b[0m\n\u001b[0;32m-> 9257\u001b[0;31m         \u001b[0mself\u001b[0m\u001b[0;34m.\u001b[0m\u001b[0m_axes_class\u001b[0m\u001b[0;34m.\u001b[0m\u001b[0m__init__\u001b[0m\u001b[0;34m(\u001b[0m\u001b[0mself\u001b[0m\u001b[0;34m,\u001b[0m \u001b[0mfig\u001b[0m\u001b[0;34m,\u001b[0m \u001b[0mself\u001b[0m\u001b[0;34m.\u001b[0m\u001b[0mfigbox\u001b[0m\u001b[0;34m,\u001b[0m \u001b[0;34m**\u001b[0m\u001b[0mkwargs\u001b[0m\u001b[0;34m)\u001b[0m\u001b[0;34m\u001b[0m\u001b[0m\n\u001b[0m\u001b[1;32m   9258\u001b[0m \u001b[0;34m\u001b[0m\u001b[0m\n\u001b[1;32m   9259\u001b[0m     \u001b[0;32mdef\u001b[0m \u001b[0m__reduce__\u001b[0m\u001b[0;34m(\u001b[0m\u001b[0mself\u001b[0m\u001b[0;34m)\u001b[0m\u001b[0;34m:\u001b[0m\u001b[0;34m\u001b[0m\u001b[0m\n",
        "\u001b[0;32m/Users/ana-mariapiso/Library/Enthought/Canopy_64bit/User/lib/python2.7/site-packages/matplotlib/axes.pyc\u001b[0m in \u001b[0;36m__init__\u001b[0;34m(self, fig, rect, axisbg, frameon, sharex, sharey, label, xscale, yscale, **kwargs)\u001b[0m\n\u001b[1;32m    459\u001b[0m         \u001b[0mself\u001b[0m\u001b[0;34m.\u001b[0m\u001b[0m_hold\u001b[0m \u001b[0;34m=\u001b[0m \u001b[0mrcParams\u001b[0m\u001b[0;34m[\u001b[0m\u001b[0;34m'axes.hold'\u001b[0m\u001b[0;34m]\u001b[0m\u001b[0;34m\u001b[0m\u001b[0m\n\u001b[1;32m    460\u001b[0m         \u001b[0mself\u001b[0m\u001b[0;34m.\u001b[0m\u001b[0m_connected\u001b[0m \u001b[0;34m=\u001b[0m \u001b[0;34m{\u001b[0m\u001b[0;34m}\u001b[0m  \u001b[0;31m# a dict from events to (id, func)\u001b[0m\u001b[0;34m\u001b[0m\u001b[0m\n\u001b[0;32m--> 461\u001b[0;31m         \u001b[0mself\u001b[0m\u001b[0;34m.\u001b[0m\u001b[0mcla\u001b[0m\u001b[0;34m(\u001b[0m\u001b[0;34m)\u001b[0m\u001b[0;34m\u001b[0m\u001b[0m\n\u001b[0m\u001b[1;32m    462\u001b[0m         \u001b[0;31m# funcs used to format x and y - fall back on major formatters\u001b[0m\u001b[0;34m\u001b[0m\u001b[0;34m\u001b[0m\u001b[0m\n\u001b[1;32m    463\u001b[0m         \u001b[0mself\u001b[0m\u001b[0;34m.\u001b[0m\u001b[0mfmt_xdata\u001b[0m \u001b[0;34m=\u001b[0m \u001b[0mNone\u001b[0m\u001b[0;34m\u001b[0m\u001b[0m\n",
        "\u001b[0;32m/Users/ana-mariapiso/Library/Enthought/Canopy_64bit/User/lib/python2.7/site-packages/matplotlib/axes.pyc\u001b[0m in \u001b[0;36mcla\u001b[0;34m(self)\u001b[0m\n\u001b[1;32m    845\u001b[0m         \u001b[0mself\u001b[0m\u001b[0;34m.\u001b[0m\u001b[0myaxis\u001b[0m\u001b[0;34m.\u001b[0m\u001b[0mcla\u001b[0m\u001b[0;34m(\u001b[0m\u001b[0;34m)\u001b[0m\u001b[0;34m\u001b[0m\u001b[0m\n\u001b[1;32m    846\u001b[0m         \u001b[0;32mfor\u001b[0m \u001b[0mname\u001b[0m\u001b[0;34m,\u001b[0m \u001b[0mspine\u001b[0m \u001b[0;32min\u001b[0m \u001b[0mself\u001b[0m\u001b[0;34m.\u001b[0m\u001b[0mspines\u001b[0m\u001b[0;34m.\u001b[0m\u001b[0miteritems\u001b[0m\u001b[0;34m(\u001b[0m\u001b[0;34m)\u001b[0m\u001b[0;34m:\u001b[0m\u001b[0;34m\u001b[0m\u001b[0m\n\u001b[0;32m--> 847\u001b[0;31m             \u001b[0mspine\u001b[0m\u001b[0;34m.\u001b[0m\u001b[0mcla\u001b[0m\u001b[0;34m(\u001b[0m\u001b[0;34m)\u001b[0m\u001b[0;34m\u001b[0m\u001b[0m\n\u001b[0m\u001b[1;32m    848\u001b[0m \u001b[0;34m\u001b[0m\u001b[0m\n\u001b[1;32m    849\u001b[0m         \u001b[0mself\u001b[0m\u001b[0;34m.\u001b[0m\u001b[0mignore_existing_data_limits\u001b[0m \u001b[0;34m=\u001b[0m \u001b[0mTrue\u001b[0m\u001b[0;34m\u001b[0m\u001b[0m\n",
        "\u001b[0;32m/Users/ana-mariapiso/Library/Enthought/Canopy_64bit/User/lib/python2.7/site-packages/matplotlib/spines.pyc\u001b[0m in \u001b[0;36mcla\u001b[0;34m(self)\u001b[0m\n\u001b[1;32m    157\u001b[0m         \u001b[0mself\u001b[0m\u001b[0;34m.\u001b[0m\u001b[0m_position\u001b[0m \u001b[0;34m=\u001b[0m \u001b[0mNone\u001b[0m  \u001b[0;31m# clear position\u001b[0m\u001b[0;34m\u001b[0m\u001b[0m\n\u001b[1;32m    158\u001b[0m         \u001b[0;32mif\u001b[0m \u001b[0mself\u001b[0m\u001b[0;34m.\u001b[0m\u001b[0maxis\u001b[0m \u001b[0;32mis\u001b[0m \u001b[0;32mnot\u001b[0m \u001b[0mNone\u001b[0m\u001b[0;34m:\u001b[0m\u001b[0;34m\u001b[0m\u001b[0m\n\u001b[0;32m--> 159\u001b[0;31m             \u001b[0mself\u001b[0m\u001b[0;34m.\u001b[0m\u001b[0maxis\u001b[0m\u001b[0;34m.\u001b[0m\u001b[0mcla\u001b[0m\u001b[0;34m(\u001b[0m\u001b[0;34m)\u001b[0m\u001b[0;34m\u001b[0m\u001b[0m\n\u001b[0m\u001b[1;32m    160\u001b[0m \u001b[0;34m\u001b[0m\u001b[0m\n\u001b[1;32m    161\u001b[0m     \u001b[0;32mdef\u001b[0m \u001b[0mis_frame_like\u001b[0m\u001b[0;34m(\u001b[0m\u001b[0mself\u001b[0m\u001b[0;34m)\u001b[0m\u001b[0;34m:\u001b[0m\u001b[0;34m\u001b[0m\u001b[0m\n",
        "\u001b[0;32m/Users/ana-mariapiso/Library/Enthought/Canopy_64bit/User/lib/python2.7/site-packages/matplotlib/axis.pyc\u001b[0m in \u001b[0;36mcla\u001b[0;34m(self)\u001b[0m\n\u001b[1;32m    740\u001b[0m         \u001b[0mself\u001b[0m\u001b[0;34m.\u001b[0m\u001b[0m_set_artist_props\u001b[0m\u001b[0;34m(\u001b[0m\u001b[0mself\u001b[0m\u001b[0;34m.\u001b[0m\u001b[0mlabel\u001b[0m\u001b[0;34m)\u001b[0m\u001b[0;34m\u001b[0m\u001b[0m\n\u001b[1;32m    741\u001b[0m \u001b[0;34m\u001b[0m\u001b[0m\n\u001b[0;32m--> 742\u001b[0;31m         \u001b[0mself\u001b[0m\u001b[0;34m.\u001b[0m\u001b[0mreset_ticks\u001b[0m\u001b[0;34m(\u001b[0m\u001b[0;34m)\u001b[0m\u001b[0;34m\u001b[0m\u001b[0m\n\u001b[0m\u001b[1;32m    743\u001b[0m \u001b[0;34m\u001b[0m\u001b[0m\n\u001b[1;32m    744\u001b[0m         \u001b[0mself\u001b[0m\u001b[0;34m.\u001b[0m\u001b[0mconverter\u001b[0m \u001b[0;34m=\u001b[0m \u001b[0mNone\u001b[0m\u001b[0;34m\u001b[0m\u001b[0m\n",
        "\u001b[0;32m/Users/ana-mariapiso/Library/Enthought/Canopy_64bit/User/lib/python2.7/site-packages/matplotlib/axis.pyc\u001b[0m in \u001b[0;36mreset_ticks\u001b[0;34m(self)\u001b[0m\n\u001b[1;32m    753\u001b[0m         \u001b[0mcbook\u001b[0m\u001b[0;34m.\u001b[0m\u001b[0mpopall\u001b[0m\u001b[0;34m(\u001b[0m\u001b[0mself\u001b[0m\u001b[0;34m.\u001b[0m\u001b[0mminorTicks\u001b[0m\u001b[0;34m)\u001b[0m\u001b[0;34m\u001b[0m\u001b[0m\n\u001b[1;32m    754\u001b[0m \u001b[0;34m\u001b[0m\u001b[0m\n\u001b[0;32m--> 755\u001b[0;31m         \u001b[0mself\u001b[0m\u001b[0;34m.\u001b[0m\u001b[0mmajorTicks\u001b[0m\u001b[0;34m.\u001b[0m\u001b[0mextend\u001b[0m\u001b[0;34m(\u001b[0m\u001b[0;34m[\u001b[0m\u001b[0mself\u001b[0m\u001b[0;34m.\u001b[0m\u001b[0m_get_tick\u001b[0m\u001b[0;34m(\u001b[0m\u001b[0mmajor\u001b[0m\u001b[0;34m=\u001b[0m\u001b[0mTrue\u001b[0m\u001b[0;34m)\u001b[0m\u001b[0;34m]\u001b[0m\u001b[0;34m)\u001b[0m\u001b[0;34m\u001b[0m\u001b[0m\n\u001b[0m\u001b[1;32m    756\u001b[0m         \u001b[0mself\u001b[0m\u001b[0;34m.\u001b[0m\u001b[0mminorTicks\u001b[0m\u001b[0;34m.\u001b[0m\u001b[0mextend\u001b[0m\u001b[0;34m(\u001b[0m\u001b[0;34m[\u001b[0m\u001b[0mself\u001b[0m\u001b[0;34m.\u001b[0m\u001b[0m_get_tick\u001b[0m\u001b[0;34m(\u001b[0m\u001b[0mmajor\u001b[0m\u001b[0;34m=\u001b[0m\u001b[0mFalse\u001b[0m\u001b[0;34m)\u001b[0m\u001b[0;34m]\u001b[0m\u001b[0;34m)\u001b[0m\u001b[0;34m\u001b[0m\u001b[0m\n\u001b[1;32m    757\u001b[0m         \u001b[0mself\u001b[0m\u001b[0;34m.\u001b[0m\u001b[0m_lastNumMajorTicks\u001b[0m \u001b[0;34m=\u001b[0m \u001b[0;36m1\u001b[0m\u001b[0;34m\u001b[0m\u001b[0m\n",
        "\u001b[0;32m/Users/ana-mariapiso/Library/Enthought/Canopy_64bit/User/lib/python2.7/site-packages/matplotlib/axis.pyc\u001b[0m in \u001b[0;36m_get_tick\u001b[0;34m(self, major)\u001b[0m\n\u001b[1;32m   1603\u001b[0m         \u001b[0;32melse\u001b[0m\u001b[0;34m:\u001b[0m\u001b[0;34m\u001b[0m\u001b[0m\n\u001b[1;32m   1604\u001b[0m             \u001b[0mtick_kw\u001b[0m \u001b[0;34m=\u001b[0m \u001b[0mself\u001b[0m\u001b[0;34m.\u001b[0m\u001b[0m_minor_tick_kw\u001b[0m\u001b[0;34m\u001b[0m\u001b[0m\n\u001b[0;32m-> 1605\u001b[0;31m         \u001b[0;32mreturn\u001b[0m \u001b[0mXTick\u001b[0m\u001b[0;34m(\u001b[0m\u001b[0mself\u001b[0m\u001b[0;34m.\u001b[0m\u001b[0maxes\u001b[0m\u001b[0;34m,\u001b[0m \u001b[0;36m0\u001b[0m\u001b[0;34m,\u001b[0m \u001b[0;34m''\u001b[0m\u001b[0;34m,\u001b[0m \u001b[0mmajor\u001b[0m\u001b[0;34m=\u001b[0m\u001b[0mmajor\u001b[0m\u001b[0;34m,\u001b[0m \u001b[0;34m**\u001b[0m\u001b[0mtick_kw\u001b[0m\u001b[0;34m)\u001b[0m\u001b[0;34m\u001b[0m\u001b[0m\n\u001b[0m\u001b[1;32m   1606\u001b[0m \u001b[0;34m\u001b[0m\u001b[0m\n\u001b[1;32m   1607\u001b[0m     \u001b[0;32mdef\u001b[0m \u001b[0m_get_label\u001b[0m\u001b[0;34m(\u001b[0m\u001b[0mself\u001b[0m\u001b[0;34m)\u001b[0m\u001b[0;34m:\u001b[0m\u001b[0;34m\u001b[0m\u001b[0m\n",
        "\u001b[0;32m/Users/ana-mariapiso/Library/Enthought/Canopy_64bit/User/lib/python2.7/site-packages/matplotlib/axis.pyc\u001b[0m in \u001b[0;36m__init__\u001b[0;34m(self, axes, loc, label, size, width, color, tickdir, pad, labelsize, labelcolor, zorder, gridOn, tick1On, tick2On, label1On, label2On, major)\u001b[0m\n\u001b[1;32m    139\u001b[0m \u001b[0;34m\u001b[0m\u001b[0m\n\u001b[1;32m    140\u001b[0m         \u001b[0mself\u001b[0m\u001b[0;34m.\u001b[0m\u001b[0mtick1line\u001b[0m \u001b[0;34m=\u001b[0m \u001b[0mself\u001b[0m\u001b[0;34m.\u001b[0m\u001b[0m_get_tick1line\u001b[0m\u001b[0;34m(\u001b[0m\u001b[0;34m)\u001b[0m\u001b[0;34m\u001b[0m\u001b[0m\n\u001b[0;32m--> 141\u001b[0;31m         \u001b[0mself\u001b[0m\u001b[0;34m.\u001b[0m\u001b[0mtick2line\u001b[0m \u001b[0;34m=\u001b[0m \u001b[0mself\u001b[0m\u001b[0;34m.\u001b[0m\u001b[0m_get_tick2line\u001b[0m\u001b[0;34m(\u001b[0m\u001b[0;34m)\u001b[0m\u001b[0;34m\u001b[0m\u001b[0m\n\u001b[0m\u001b[1;32m    142\u001b[0m         \u001b[0mself\u001b[0m\u001b[0;34m.\u001b[0m\u001b[0mgridline\u001b[0m \u001b[0;34m=\u001b[0m \u001b[0mself\u001b[0m\u001b[0;34m.\u001b[0m\u001b[0m_get_gridline\u001b[0m\u001b[0;34m(\u001b[0m\u001b[0;34m)\u001b[0m\u001b[0;34m\u001b[0m\u001b[0m\n\u001b[1;32m    143\u001b[0m \u001b[0;34m\u001b[0m\u001b[0m\n",
        "\u001b[0;32m/Users/ana-mariapiso/Library/Enthought/Canopy_64bit/User/lib/python2.7/site-packages/matplotlib/axis.pyc\u001b[0m in \u001b[0;36m_get_tick2line\u001b[0;34m(self)\u001b[0m\n\u001b[1;32m    402\u001b[0m                        )\n\u001b[1;32m    403\u001b[0m \u001b[0;34m\u001b[0m\u001b[0m\n\u001b[0;32m--> 404\u001b[0;31m         \u001b[0ml\u001b[0m\u001b[0;34m.\u001b[0m\u001b[0mset_transform\u001b[0m\u001b[0;34m(\u001b[0m\u001b[0mself\u001b[0m\u001b[0;34m.\u001b[0m\u001b[0maxes\u001b[0m\u001b[0;34m.\u001b[0m\u001b[0mget_xaxis_transform\u001b[0m\u001b[0;34m(\u001b[0m\u001b[0mwhich\u001b[0m\u001b[0;34m=\u001b[0m\u001b[0;34m'tick2'\u001b[0m\u001b[0;34m)\u001b[0m\u001b[0;34m)\u001b[0m\u001b[0;34m\u001b[0m\u001b[0m\n\u001b[0m\u001b[1;32m    405\u001b[0m         \u001b[0mself\u001b[0m\u001b[0;34m.\u001b[0m\u001b[0m_set_artist_props\u001b[0m\u001b[0;34m(\u001b[0m\u001b[0ml\u001b[0m\u001b[0;34m)\u001b[0m\u001b[0;34m\u001b[0m\u001b[0m\n\u001b[1;32m    406\u001b[0m         \u001b[0;32mreturn\u001b[0m \u001b[0ml\u001b[0m\u001b[0;34m\u001b[0m\u001b[0m\n",
        "\u001b[0;32m/Users/ana-mariapiso/Library/Enthought/Canopy_64bit/User/lib/python2.7/site-packages/matplotlib/axes.pyc\u001b[0m in \u001b[0;36mget_xaxis_transform\u001b[0;34m(self, which)\u001b[0m\n\u001b[1;32m    591\u001b[0m         \u001b[0;32melif\u001b[0m \u001b[0mwhich\u001b[0m \u001b[0;34m==\u001b[0m \u001b[0;34m'tick2'\u001b[0m\u001b[0;34m:\u001b[0m\u001b[0;34m\u001b[0m\u001b[0m\n\u001b[1;32m    592\u001b[0m             \u001b[0;31m# for cartesian projection, this is top spine\u001b[0m\u001b[0;34m\u001b[0m\u001b[0;34m\u001b[0m\u001b[0m\n\u001b[0;32m--> 593\u001b[0;31m             \u001b[0;32mreturn\u001b[0m \u001b[0mself\u001b[0m\u001b[0;34m.\u001b[0m\u001b[0mspines\u001b[0m\u001b[0;34m[\u001b[0m\u001b[0;34m'top'\u001b[0m\u001b[0;34m]\u001b[0m\u001b[0;34m.\u001b[0m\u001b[0mget_spine_transform\u001b[0m\u001b[0;34m(\u001b[0m\u001b[0;34m)\u001b[0m\u001b[0;34m\u001b[0m\u001b[0m\n\u001b[0m\u001b[1;32m    594\u001b[0m         \u001b[0;32melse\u001b[0m\u001b[0;34m:\u001b[0m\u001b[0;34m\u001b[0m\u001b[0m\n\u001b[1;32m    595\u001b[0m             \u001b[0;32mraise\u001b[0m \u001b[0mValueError\u001b[0m\u001b[0;34m(\u001b[0m\u001b[0;34m'unknown value for which'\u001b[0m\u001b[0;34m)\u001b[0m\u001b[0;34m\u001b[0m\u001b[0m\n",
        "\u001b[0;32m/Users/ana-mariapiso/Library/Enthought/Canopy_64bit/User/lib/python2.7/site-packages/matplotlib/spines.pyc\u001b[0m in \u001b[0;36mget_spine_transform\u001b[0;34m(self)\u001b[0m\n\u001b[1;32m    392\u001b[0m     \u001b[0;32mdef\u001b[0m \u001b[0mget_spine_transform\u001b[0m\u001b[0;34m(\u001b[0m\u001b[0mself\u001b[0m\u001b[0;34m)\u001b[0m\u001b[0;34m:\u001b[0m\u001b[0;34m\u001b[0m\u001b[0m\n\u001b[1;32m    393\u001b[0m         \u001b[0;34m\"\"\"get the spine transform\"\"\"\u001b[0m\u001b[0;34m\u001b[0m\u001b[0m\n\u001b[0;32m--> 394\u001b[0;31m         \u001b[0mself\u001b[0m\u001b[0;34m.\u001b[0m\u001b[0m_ensure_position_is_set\u001b[0m\u001b[0;34m(\u001b[0m\u001b[0;34m)\u001b[0m\u001b[0;34m\u001b[0m\u001b[0m\n\u001b[0m\u001b[1;32m    395\u001b[0m         \u001b[0mwhat\u001b[0m\u001b[0;34m,\u001b[0m \u001b[0mhow\u001b[0m \u001b[0;34m=\u001b[0m \u001b[0mself\u001b[0m\u001b[0;34m.\u001b[0m\u001b[0m_spine_transform\u001b[0m\u001b[0;34m\u001b[0m\u001b[0m\n\u001b[1;32m    396\u001b[0m \u001b[0;34m\u001b[0m\u001b[0m\n",
        "\u001b[0;32m/Users/ana-mariapiso/Library/Enthought/Canopy_64bit/User/lib/python2.7/site-packages/matplotlib/spines.pyc\u001b[0m in \u001b[0;36m_ensure_position_is_set\u001b[0;34m(self)\u001b[0m\n\u001b[1;32m    140\u001b[0m             \u001b[0;31m# default position\u001b[0m\u001b[0;34m\u001b[0m\u001b[0;34m\u001b[0m\u001b[0m\n\u001b[1;32m    141\u001b[0m             \u001b[0mself\u001b[0m\u001b[0;34m.\u001b[0m\u001b[0m_position\u001b[0m \u001b[0;34m=\u001b[0m \u001b[0;34m(\u001b[0m\u001b[0;34m'outward'\u001b[0m\u001b[0;34m,\u001b[0m \u001b[0;36m0.0\u001b[0m\u001b[0;34m)\u001b[0m  \u001b[0;31m# in points\u001b[0m\u001b[0;34m\u001b[0m\u001b[0m\n\u001b[0;32m--> 142\u001b[0;31m             \u001b[0mself\u001b[0m\u001b[0;34m.\u001b[0m\u001b[0mset_position\u001b[0m\u001b[0;34m(\u001b[0m\u001b[0mself\u001b[0m\u001b[0;34m.\u001b[0m\u001b[0m_position\u001b[0m\u001b[0;34m)\u001b[0m\u001b[0;34m\u001b[0m\u001b[0m\n\u001b[0m\u001b[1;32m    143\u001b[0m \u001b[0;34m\u001b[0m\u001b[0m\n\u001b[1;32m    144\u001b[0m     \u001b[0;32mdef\u001b[0m \u001b[0mregister_axis\u001b[0m\u001b[0;34m(\u001b[0m\u001b[0mself\u001b[0m\u001b[0;34m,\u001b[0m \u001b[0maxis\u001b[0m\u001b[0;34m)\u001b[0m\u001b[0;34m:\u001b[0m\u001b[0;34m\u001b[0m\u001b[0m\n",
        "\u001b[0;32m/Users/ana-mariapiso/Library/Enthought/Canopy_64bit/User/lib/python2.7/site-packages/matplotlib/spines.pyc\u001b[0m in \u001b[0;36mset_position\u001b[0;34m(self, position)\u001b[0m\n\u001b[1;32m    383\u001b[0m \u001b[0;34m\u001b[0m\u001b[0m\n\u001b[1;32m    384\u001b[0m         \u001b[0;32mif\u001b[0m \u001b[0mself\u001b[0m\u001b[0;34m.\u001b[0m\u001b[0maxis\u001b[0m \u001b[0;32mis\u001b[0m \u001b[0;32mnot\u001b[0m \u001b[0mNone\u001b[0m\u001b[0;34m:\u001b[0m\u001b[0;34m\u001b[0m\u001b[0m\n\u001b[0;32m--> 385\u001b[0;31m             \u001b[0mself\u001b[0m\u001b[0;34m.\u001b[0m\u001b[0maxis\u001b[0m\u001b[0;34m.\u001b[0m\u001b[0mcla\u001b[0m\u001b[0;34m(\u001b[0m\u001b[0;34m)\u001b[0m\u001b[0;34m\u001b[0m\u001b[0m\n\u001b[0m\u001b[1;32m    386\u001b[0m \u001b[0;34m\u001b[0m\u001b[0m\n\u001b[1;32m    387\u001b[0m     \u001b[0;32mdef\u001b[0m \u001b[0mget_position\u001b[0m\u001b[0;34m(\u001b[0m\u001b[0mself\u001b[0m\u001b[0;34m)\u001b[0m\u001b[0;34m:\u001b[0m\u001b[0;34m\u001b[0m\u001b[0m\n",
        "\u001b[0;32m/Users/ana-mariapiso/Library/Enthought/Canopy_64bit/User/lib/python2.7/site-packages/matplotlib/axis.pyc\u001b[0m in \u001b[0;36mcla\u001b[0;34m(self)\u001b[0m\n\u001b[1;32m    740\u001b[0m         \u001b[0mself\u001b[0m\u001b[0;34m.\u001b[0m\u001b[0m_set_artist_props\u001b[0m\u001b[0;34m(\u001b[0m\u001b[0mself\u001b[0m\u001b[0;34m.\u001b[0m\u001b[0mlabel\u001b[0m\u001b[0;34m)\u001b[0m\u001b[0;34m\u001b[0m\u001b[0m\n\u001b[1;32m    741\u001b[0m \u001b[0;34m\u001b[0m\u001b[0m\n\u001b[0;32m--> 742\u001b[0;31m         \u001b[0mself\u001b[0m\u001b[0;34m.\u001b[0m\u001b[0mreset_ticks\u001b[0m\u001b[0;34m(\u001b[0m\u001b[0;34m)\u001b[0m\u001b[0;34m\u001b[0m\u001b[0m\n\u001b[0m\u001b[1;32m    743\u001b[0m \u001b[0;34m\u001b[0m\u001b[0m\n\u001b[1;32m    744\u001b[0m         \u001b[0mself\u001b[0m\u001b[0;34m.\u001b[0m\u001b[0mconverter\u001b[0m \u001b[0;34m=\u001b[0m \u001b[0mNone\u001b[0m\u001b[0;34m\u001b[0m\u001b[0m\n",
        "\u001b[0;32m/Users/ana-mariapiso/Library/Enthought/Canopy_64bit/User/lib/python2.7/site-packages/matplotlib/axis.pyc\u001b[0m in \u001b[0;36mreset_ticks\u001b[0;34m(self)\u001b[0m\n\u001b[1;32m    754\u001b[0m \u001b[0;34m\u001b[0m\u001b[0m\n\u001b[1;32m    755\u001b[0m         \u001b[0mself\u001b[0m\u001b[0;34m.\u001b[0m\u001b[0mmajorTicks\u001b[0m\u001b[0;34m.\u001b[0m\u001b[0mextend\u001b[0m\u001b[0;34m(\u001b[0m\u001b[0;34m[\u001b[0m\u001b[0mself\u001b[0m\u001b[0;34m.\u001b[0m\u001b[0m_get_tick\u001b[0m\u001b[0;34m(\u001b[0m\u001b[0mmajor\u001b[0m\u001b[0;34m=\u001b[0m\u001b[0mTrue\u001b[0m\u001b[0;34m)\u001b[0m\u001b[0;34m]\u001b[0m\u001b[0;34m)\u001b[0m\u001b[0;34m\u001b[0m\u001b[0m\n\u001b[0;32m--> 756\u001b[0;31m         \u001b[0mself\u001b[0m\u001b[0;34m.\u001b[0m\u001b[0mminorTicks\u001b[0m\u001b[0;34m.\u001b[0m\u001b[0mextend\u001b[0m\u001b[0;34m(\u001b[0m\u001b[0;34m[\u001b[0m\u001b[0mself\u001b[0m\u001b[0;34m.\u001b[0m\u001b[0m_get_tick\u001b[0m\u001b[0;34m(\u001b[0m\u001b[0mmajor\u001b[0m\u001b[0;34m=\u001b[0m\u001b[0mFalse\u001b[0m\u001b[0;34m)\u001b[0m\u001b[0;34m]\u001b[0m\u001b[0;34m)\u001b[0m\u001b[0;34m\u001b[0m\u001b[0m\n\u001b[0m\u001b[1;32m    757\u001b[0m         \u001b[0mself\u001b[0m\u001b[0;34m.\u001b[0m\u001b[0m_lastNumMajorTicks\u001b[0m \u001b[0;34m=\u001b[0m \u001b[0;36m1\u001b[0m\u001b[0;34m\u001b[0m\u001b[0m\n\u001b[1;32m    758\u001b[0m         \u001b[0mself\u001b[0m\u001b[0;34m.\u001b[0m\u001b[0m_lastNumMinorTicks\u001b[0m \u001b[0;34m=\u001b[0m \u001b[0;36m1\u001b[0m\u001b[0;34m\u001b[0m\u001b[0m\n",
        "\u001b[0;32m/Users/ana-mariapiso/Library/Enthought/Canopy_64bit/User/lib/python2.7/site-packages/matplotlib/axis.pyc\u001b[0m in \u001b[0;36m_get_tick\u001b[0;34m(self, major)\u001b[0m\n\u001b[1;32m   1603\u001b[0m         \u001b[0;32melse\u001b[0m\u001b[0;34m:\u001b[0m\u001b[0;34m\u001b[0m\u001b[0m\n\u001b[1;32m   1604\u001b[0m             \u001b[0mtick_kw\u001b[0m \u001b[0;34m=\u001b[0m \u001b[0mself\u001b[0m\u001b[0;34m.\u001b[0m\u001b[0m_minor_tick_kw\u001b[0m\u001b[0;34m\u001b[0m\u001b[0m\n\u001b[0;32m-> 1605\u001b[0;31m         \u001b[0;32mreturn\u001b[0m \u001b[0mXTick\u001b[0m\u001b[0;34m(\u001b[0m\u001b[0mself\u001b[0m\u001b[0;34m.\u001b[0m\u001b[0maxes\u001b[0m\u001b[0;34m,\u001b[0m \u001b[0;36m0\u001b[0m\u001b[0;34m,\u001b[0m \u001b[0;34m''\u001b[0m\u001b[0;34m,\u001b[0m \u001b[0mmajor\u001b[0m\u001b[0;34m=\u001b[0m\u001b[0mmajor\u001b[0m\u001b[0;34m,\u001b[0m \u001b[0;34m**\u001b[0m\u001b[0mtick_kw\u001b[0m\u001b[0;34m)\u001b[0m\u001b[0;34m\u001b[0m\u001b[0m\n\u001b[0m\u001b[1;32m   1606\u001b[0m \u001b[0;34m\u001b[0m\u001b[0m\n\u001b[1;32m   1607\u001b[0m     \u001b[0;32mdef\u001b[0m \u001b[0m_get_label\u001b[0m\u001b[0;34m(\u001b[0m\u001b[0mself\u001b[0m\u001b[0;34m)\u001b[0m\u001b[0;34m:\u001b[0m\u001b[0;34m\u001b[0m\u001b[0m\n",
        "\u001b[0;32m/Users/ana-mariapiso/Library/Enthought/Canopy_64bit/User/lib/python2.7/site-packages/matplotlib/axis.pyc\u001b[0m in \u001b[0;36m__init__\u001b[0;34m(self, axes, loc, label, size, width, color, tickdir, pad, labelsize, labelcolor, zorder, gridOn, tick1On, tick2On, label1On, label2On, major)\u001b[0m\n\u001b[1;32m    140\u001b[0m         \u001b[0mself\u001b[0m\u001b[0;34m.\u001b[0m\u001b[0mtick1line\u001b[0m \u001b[0;34m=\u001b[0m \u001b[0mself\u001b[0m\u001b[0;34m.\u001b[0m\u001b[0m_get_tick1line\u001b[0m\u001b[0;34m(\u001b[0m\u001b[0;34m)\u001b[0m\u001b[0;34m\u001b[0m\u001b[0m\n\u001b[1;32m    141\u001b[0m         \u001b[0mself\u001b[0m\u001b[0;34m.\u001b[0m\u001b[0mtick2line\u001b[0m \u001b[0;34m=\u001b[0m \u001b[0mself\u001b[0m\u001b[0;34m.\u001b[0m\u001b[0m_get_tick2line\u001b[0m\u001b[0;34m(\u001b[0m\u001b[0;34m)\u001b[0m\u001b[0;34m\u001b[0m\u001b[0m\n\u001b[0;32m--> 142\u001b[0;31m         \u001b[0mself\u001b[0m\u001b[0;34m.\u001b[0m\u001b[0mgridline\u001b[0m \u001b[0;34m=\u001b[0m \u001b[0mself\u001b[0m\u001b[0;34m.\u001b[0m\u001b[0m_get_gridline\u001b[0m\u001b[0;34m(\u001b[0m\u001b[0;34m)\u001b[0m\u001b[0;34m\u001b[0m\u001b[0m\n\u001b[0m\u001b[1;32m    143\u001b[0m \u001b[0;34m\u001b[0m\u001b[0m\n\u001b[1;32m    144\u001b[0m         \u001b[0mself\u001b[0m\u001b[0;34m.\u001b[0m\u001b[0mlabel1\u001b[0m \u001b[0;34m=\u001b[0m \u001b[0mself\u001b[0m\u001b[0;34m.\u001b[0m\u001b[0m_get_text1\u001b[0m\u001b[0;34m(\u001b[0m\u001b[0;34m)\u001b[0m\u001b[0;34m\u001b[0m\u001b[0m\n",
        "\u001b[0;32m/Users/ana-mariapiso/Library/Enthought/Canopy_64bit/User/lib/python2.7/site-packages/matplotlib/axis.pyc\u001b[0m in \u001b[0;36m_get_gridline\u001b[0;34m(self)\u001b[0m\n\u001b[1;32m    414\u001b[0m                    \u001b[0mlinewidth\u001b[0m\u001b[0;34m=\u001b[0m\u001b[0mrcParams\u001b[0m\u001b[0;34m[\u001b[0m\u001b[0;34m'grid.linewidth'\u001b[0m\u001b[0;34m]\u001b[0m\u001b[0;34m,\u001b[0m\u001b[0;34m\u001b[0m\u001b[0m\n\u001b[1;32m    415\u001b[0m                    \u001b[0malpha\u001b[0m\u001b[0;34m=\u001b[0m\u001b[0mrcParams\u001b[0m\u001b[0;34m[\u001b[0m\u001b[0;34m'grid.alpha'\u001b[0m\u001b[0;34m]\u001b[0m\u001b[0;34m,\u001b[0m\u001b[0;34m\u001b[0m\u001b[0m\n\u001b[0;32m--> 416\u001b[0;31m                    \u001b[0mmarkersize\u001b[0m\u001b[0;34m=\u001b[0m\u001b[0;36m0\u001b[0m\u001b[0;34m\u001b[0m\u001b[0m\n\u001b[0m\u001b[1;32m    417\u001b[0m                    )\n\u001b[1;32m    418\u001b[0m         \u001b[0ml\u001b[0m\u001b[0;34m.\u001b[0m\u001b[0mset_transform\u001b[0m\u001b[0;34m(\u001b[0m\u001b[0mself\u001b[0m\u001b[0;34m.\u001b[0m\u001b[0maxes\u001b[0m\u001b[0;34m.\u001b[0m\u001b[0mget_xaxis_transform\u001b[0m\u001b[0;34m(\u001b[0m\u001b[0mwhich\u001b[0m\u001b[0;34m=\u001b[0m\u001b[0;34m'grid'\u001b[0m\u001b[0;34m)\u001b[0m\u001b[0;34m)\u001b[0m\u001b[0;34m\u001b[0m\u001b[0m\n",
        "\u001b[0;32m/Users/ana-mariapiso/Library/Enthought/Canopy_64bit/User/lib/python2.7/site-packages/matplotlib/lines.pyc\u001b[0m in \u001b[0;36m__init__\u001b[0;34m(self, xdata, ydata, linewidth, linestyle, color, marker, markersize, markeredgewidth, markeredgecolor, markerfacecolor, markerfacecoloralt, fillstyle, antialiased, dash_capstyle, solid_capstyle, dash_joinstyle, solid_joinstyle, pickradius, drawstyle, markevery, **kwargs)\u001b[0m\n\u001b[1;32m    170\u001b[0m         \u001b[0;32mif\u001b[0m \u001b[0;32mnot\u001b[0m \u001b[0miterable\u001b[0m\u001b[0;34m(\u001b[0m\u001b[0mxdata\u001b[0m\u001b[0;34m)\u001b[0m\u001b[0;34m:\u001b[0m\u001b[0;34m\u001b[0m\u001b[0m\n\u001b[1;32m    171\u001b[0m             \u001b[0;32mraise\u001b[0m \u001b[0mRuntimeError\u001b[0m\u001b[0;34m(\u001b[0m\u001b[0;34m'xdata must be a sequence'\u001b[0m\u001b[0;34m)\u001b[0m\u001b[0;34m\u001b[0m\u001b[0m\n\u001b[0;32m--> 172\u001b[0;31m         \u001b[0;32mif\u001b[0m \u001b[0;32mnot\u001b[0m \u001b[0miterable\u001b[0m\u001b[0;34m(\u001b[0m\u001b[0mydata\u001b[0m\u001b[0;34m)\u001b[0m\u001b[0;34m:\u001b[0m\u001b[0;34m\u001b[0m\u001b[0m\n\u001b[0m\u001b[1;32m    173\u001b[0m             \u001b[0;32mraise\u001b[0m \u001b[0mRuntimeError\u001b[0m\u001b[0;34m(\u001b[0m\u001b[0;34m'ydata must be a sequence'\u001b[0m\u001b[0;34m)\u001b[0m\u001b[0;34m\u001b[0m\u001b[0m\n\u001b[1;32m    174\u001b[0m \u001b[0;34m\u001b[0m\u001b[0m\n",
        "\u001b[0;31mKeyboardInterrupt\u001b[0m: "
       ]
      },
      {
       "metadata": {},
       "output_type": "display_data",
       "text": [
        "<matplotlib.figure.Figure at 0x1033369d0>"
       ]
      }
     ],
     "prompt_number": 16
    },
    {
     "cell_type": "code",
     "collapsed": false,
     "input": [
      "Td, Td_new, Td_new_noconst = [], [], []\n",
      "\n",
      "for i in range(len(r)):\n",
      "    Td = np.append(Td, Tdisk(r[i]))\n",
      "    Td_new = np.append(Td_new, Tdisk_new(r[i], Tstar, Rstar))\n",
      "    Td_new_noconst = np.append(Td_new_noconst, Tdisk_new(r[i], Tstar, Rstar, const = 0))"
     ],
     "language": "python",
     "metadata": {},
     "outputs": [],
     "prompt_number": 61
    },
    {
     "cell_type": "code",
     "collapsed": false,
     "input": [
      "plt.loglog(r, Td)\n",
      "plt.semilogx(r, Td_new)\n",
      "plt.semilogx(r, Td_new_noconst)\n",
      "#plt.xlim(xmax = 100)"
     ],
     "language": "python",
     "metadata": {},
     "outputs": [
      {
       "metadata": {},
       "output_type": "pyout",
       "prompt_number": 62,
       "text": [
        "[<matplotlib.lines.Line2D at 0x10d2229d0>]"
       ]
      },
      {
       "metadata": {},
       "output_type": "display_data",
       "png": "[encoded data removed]",
       "text": [
        "<matplotlib.figure.Figure at 0x10da12810>"
       ]
      }
     ],
     "prompt_number": 62
    },
    {
     "cell_type": "code",
     "collapsed": false,
     "input": [
      "v_Til = []\n",
      "\n",
      "for i in range(len(r)):\n",
      "    v_Til = np.append(v_Til, vacc_Til(r[i], alpha, Tstar, Rstar, Mstar = Msun, mu = 2.35))\n",
      "    \n",
      "v_old = np.ndarray(shape = (len(r), len(t)), dtype = float)\n",
      "v_new = np.ndarray(shape = (len(r), len(t)), dtype = float)\n",
      "\n",
      "for i in range(len(r)):\n",
      "    for j in range(len(t)):\n",
      "        v_old[i, j] = vacc_old(r[i], t[j], alpha)\n",
      "        v_new[i, j] = vacc_new(r[i], t[j], alpha, mu = 2.35, T0 = 120, betaT = 3./7, rc = 100 * AU, gammadflag = 0)"
     ],
     "language": "python",
     "metadata": {},
     "outputs": [],
     "prompt_number": 14
    },
    {
     "cell_type": "code",
     "collapsed": false,
     "input": [
      "import time\n",
      "from IPython import display\n",
      "for i in range(nt):\n",
      "    plt.semilogx(r, -v_Til)\n",
      "    plt.semilogx(r, -v_old[:, i])\n",
      "    plt.semilogx(r, v_old[:, i], '--g')\n",
      "    plt.semilogx(r, -v_new[:, i])\n",
      "    plt.semilogx(r, v_new[:, i], '--r')\n",
      "    #plt.loglog(r, sigarray_new_1[:, i])\n",
      "    #plt.loglog(r[:-1], -array1[:, i, 2], '--b')\n",
      "    #plt.title('s=0.001 cm')\n",
      "    plt.xlabel('a [AU]')\n",
      "    #plt.ylabel(r'$\\Sigma_{\\rm d}$ [g cm$^{-2}$]')\n",
      "    #plt.ylim(ymin = 1, ymax = 5e4)\n",
      "    plt.xlim(xmax = 100)\n",
      "    plt.ylim(0, 20)\n",
      "    display.clear_output(wait=True)\n",
      "    #plt.savefig('../figs/Sigma_disk_profiles/sigmad_vs_a_t_' + str(i) + '_.pdf')\n",
      "    plt.show()\n",
      "    display.display(plt.gcf())\n",
      "    time.sleep(0.00001)"
     ],
     "language": "python",
     "metadata": {},
     "outputs": [
      {
       "metadata": {},
       "output_type": "display_data",
       "png": "[encoded data removed]",
       "text": [
        "<matplotlib.figure.Figure at 0x10cba8290>"
       ]
      },
      {
       "metadata": {},
       "output_type": "display_data",
       "text": [
        "<matplotlib.figure.Figure at 0x10b4c9e50>"
       ]
      },
      {
       "metadata": {},
       "output_type": "display_data",
       "text": [
        "<matplotlib.figure.Figure at 0x10b4c9e50>"
       ]
      }
     ],
     "prompt_number": 7
    },
    {
     "cell_type": "code",
     "collapsed": false,
     "input": [
      "nt = 20\n",
      "nr = 50\n",
      "\n",
      "Tstar = 4300.\n",
      "Rstar = 2.5 * Rsun\n",
      "rc = 100 * AU\n",
      "Mdisk = 0.1 * Msun\n",
      "s = 1e2\n",
      "alpha = 1e-2\n",
      "\n",
      "r = logspace(np.log10(0.05),np.log10(4e3),nr)\n",
      "t = np.linspace(1e4,3e6,nt)*365*24*3600\n",
      "tlog = np.logspace(4,np.log10(3e6),nt)*365*24*3600\n",
      "#dt = t[1] - t[0]\n",
      "\n",
      "sigarray_new = np.ndarray(shape = (len(r), len(t)), dtype = float)\n",
      "sigarray_new_log = np.ndarray(shape = (len(r), len(t)), dtype = float)\n",
      "#rdotv = np.ndarray(shape = (len(r), len(t)), dtype = float)\n",
      "\n",
      "\n",
      "for i in range(len(r)):\n",
      "    for j in range(len(t)):\n",
      "        sigarray_new[i, j] = Sigmadisk(r[i], t[j], alpha, Mdisk, rc, gammadflag = 0)\n",
      "        #sigarray_new_log[i, j] = Sigmadisk(r[i], tlog[j], alpha, Mdisk, rc, gammadflag = 0)\n",
      "        #rdotv[i, j] = rdot_with_acc(r[i], t[j], s, alpha, 1e-3, Mdisk, rhos = 1.6, mu = 2.3)\n",
      "\n",
      "\n",
      "#sigparray = Sigmap_2(r[0], r[-1], nr, t[0], t[-1], nt, s, alpha, Mdisk, Rstar, Tstar, rc, rhos = 1.6, mu= 2.3,  Mstar = Msun, sigma = 2 * 10**(-15), dusttogas = 0.01)\n",
      "sigparray_new = Sigmap_act(r[0], r[-1], nr, t[0], t[-1], nt, s, alpha, Mdisk, rc, rhos = 1.6, mu = 2.3, gammadflag = 0)\n",
      "sigarray_new_test = Sigmadisk_test(r[0], r[-1], nr, t[0], t[-1], nt, s, alpha, Mdisk, rc, rhos = 1.6, mu = 2.3, gammadflag = 0)\n",
      "\n",
      "\n",
      "#sigparray_new_log = Sigmap_act(r[0], r[-1], nr, t[0], t[-1], nt, s, alpha, Mdisk, rc, rhos = 1.6, mu = 2.3, gammadflag = 0, lin = 0)\n",
      "sigparray_new_no_dif = Sigmap_act(r[0], r[-1], nr, t[0], t[-1], nt, s, alpha, Mdisk, rc, rhos = 1.6, mu = 2.3, gammadflag = 0, dif = 0)\n",
      "#sigparray_new_nodt = Sigmap_new(r[0], r[-1], nr, t[0], t[-1], nt, s, alpha, Mdisk, rc, rhos = 1.6, mu = 2.3, gammadflag = 0, sigmad_dt = 0)\n"
     ],
     "language": "python",
     "metadata": {},
     "outputs": [],
     "prompt_number": 8
    },
    {
     "cell_type": "code",
     "collapsed": false,
     "input": [
      "import time\n",
      "from IPython import display\n",
      "for i in range(nt):\n",
      "    #plt.loglog(r, sigarray[:, i])\n",
      "    plt.loglog(r, sigarray_new[:, i], label = 'Gas density')\n",
      "    #plt.loglog(r, sigarray_new_test[:, i])\n",
      "    #plt.loglog(r, sigarray_new_log[:, i], '--b', label = 'Gas density log timescale')\n",
      "    #plt.loglog(r, sigparray[:, i], label = 'Ana')\n",
      "    plt.loglog(r, sigparray_new[:,i], c = 'g', label = 'Dust density')\n",
      "    #plt.loglog(r, sigparray_new_log[:,i], '--g', label = 'Dust density log timescale')\n",
      "    plt.loglog(r, sigparray_new_no_dif[:,i], label = 'Dust density no diffusion')\n",
      "    #plt.loglog(r, sigparray_new_nodt[:,i])\n",
      "    #plt.loglog(r, sigparray[:,i])\n",
      "    #plt.loglog(r[:-1], -array1[:, i, 2], '--b')\n",
      "    #plt.title('s=0.001 cm')\n",
      "    plt.xlabel('a [AU]')\n",
      "    plt.ylabel(r'$\\Sigma_{\\rm d}$ [g cm$^{-2}$]')\n",
      "    plt.title(str(t[i] / (365*24*3600)) + ', ' + str(tlog[i] / (365*24*3600)) )\n",
      "    plt.ylim(2e-5, 2e5)\n",
      "    plt.xlim(0.5,100)\n",
      "    plt.legend()\n",
      "    display.clear_output(wait=True)\n",
      "    #plt.savefig('../figs/Sigma_disk_profiles_gas_dust/' +str(s) +'/sigmad_vs_a_t_' + str(i) + '_.jpeg')\n",
      "    plt.show()\n",
      "    display.display(plt.gcf())\n",
      "    time.sleep(0.00001)"
     ],
     "language": "python",
     "metadata": {},
     "outputs": [
      {
       "metadata": {},
       "output_type": "display_data",
       "png": "[encoded data removed]",
       "text": [
        "<matplotlib.figure.Figure at 0x10d283490>"
       ]
      },
      {
       "metadata": {},
       "output_type": "display_data",
       "text": [
        "<matplotlib.figure.Figure at 0x10d0d7090>"
       ]
      },
      {
       "metadata": {},
       "output_type": "display_data",
       "text": [
        "<matplotlib.figure.Figure at 0x10d0d7090>"
       ]
      }
     ],
     "prompt_number": 9
    },
    {
     "cell_type": "code",
     "collapsed": false,
     "input": [
      "nt = 50\n",
      "nr = 20\n",
      "\n",
      "rc = 100 * AU\n",
      "Mdisk = 0.1 * Msun\n",
      "s = 1e-3\n",
      "alpha = 1e-2\n",
      "rstart = 100\n",
      "\n",
      "r = logspace(-1, 2,nr)\n",
      "ti, tf = 1e1*yr, 3e6*yr\n",
      "t = np.logspace(np.log10(ti),np.log10(tf),nt)\n",
      "\n",
      "arr_Mg = 0 * np.ndarray(shape = (nr-1, nt + 1), dtype = float)\n",
      "arr_Ms = 0 * np.ndarray(shape = (nr-1, nt + 1), dtype = float)\n",
      "arr_t = 0 * np.ndarray(shape = (nr-1, nt + 1), dtype = float)\n",
      "#arr_Mg_tot = 0 * np.ndarray(shape = (nr-1, nt + 1), dtype = float)\n",
      "\n",
      "for i in range(nr-1):\n",
      "    #for i in range(nt+1):\n",
      "    temp = dMdot(r[i], r[i+1], ti, tf, nt, rstart, s, alpha, 18, 5800, lin = 0)\n",
      "    for j in range(len(temp[0])):\n",
      "        arr_Mg[i, j], arr_Ms[i, j], arr_t[i, j] = temp[0][j], temp[1][j], temp[2][j]\n",
      "    print i\n"
     ],
     "language": "python",
     "metadata": {},
     "outputs": [
      {
       "output_type": "stream",
       "stream": "stdout",
       "text": [
        "It is desorbing.\n",
        "48\n",
        "0"
       ]
      },
      {
       "output_type": "stream",
       "stream": "stdout",
       "text": [
        "\n",
        "It is desorbing."
       ]
      },
      {
       "output_type": "stream",
       "stream": "stdout",
       "text": [
        "\n",
        "48\n",
        "1"
       ]
      },
      {
       "output_type": "stream",
       "stream": "stdout",
       "text": [
        "\n",
        "It is desorbing."
       ]
      },
      {
       "output_type": "stream",
       "stream": "stdout",
       "text": [
        "\n",
        "48\n",
        "2"
       ]
      },
      {
       "output_type": "stream",
       "stream": "stdout",
       "text": [
        "\n",
        "It is desorbing."
       ]
      },
      {
       "output_type": "stream",
       "stream": "stdout",
       "text": [
        "\n",
        "48\n",
        "3"
       ]
      },
      {
       "output_type": "stream",
       "stream": "stdout",
       "text": [
        "\n",
        "It is desorbing."
       ]
      },
      {
       "output_type": "stream",
       "stream": "stdout",
       "text": [
        "\n",
        "48\n",
        "4"
       ]
      },
      {
       "output_type": "stream",
       "stream": "stdout",
       "text": [
        "\n",
        "It is desorbing."
       ]
      },
      {
       "output_type": "stream",
       "stream": "stdout",
       "text": [
        "\n",
        "48\n",
        "5"
       ]
      },
      {
       "output_type": "stream",
       "stream": "stdout",
       "text": [
        "\n",
        "6"
       ]
      },
      {
       "output_type": "stream",
       "stream": "stdout",
       "text": [
        "\n",
        "7"
       ]
      },
      {
       "output_type": "stream",
       "stream": "stdout",
       "text": [
        "\n",
        "8"
       ]
      },
      {
       "output_type": "stream",
       "stream": "stdout",
       "text": [
        "\n",
        "9"
       ]
      },
      {
       "output_type": "stream",
       "stream": "stdout",
       "text": [
        "\n",
        "10"
       ]
      },
      {
       "output_type": "stream",
       "stream": "stdout",
       "text": [
        "\n",
        "11"
       ]
      },
      {
       "output_type": "stream",
       "stream": "stdout",
       "text": [
        "\n",
        "12"
       ]
      },
      {
       "output_type": "stream",
       "stream": "stdout",
       "text": [
        "\n",
        "13"
       ]
      },
      {
       "output_type": "stream",
       "stream": "stdout",
       "text": [
        "\n",
        "14"
       ]
      },
      {
       "output_type": "stream",
       "stream": "stdout",
       "text": [
        "\n",
        "15"
       ]
      },
      {
       "output_type": "stream",
       "stream": "stdout",
       "text": [
        "\n",
        "16"
       ]
      },
      {
       "output_type": "stream",
       "stream": "stdout",
       "text": [
        "\n",
        "17"
       ]
      },
      {
       "output_type": "stream",
       "stream": "stdout",
       "text": [
        "\n",
        "18"
       ]
      },
      {
       "output_type": "stream",
       "stream": "stdout",
       "text": [
        "\n"
       ]
      }
     ],
     "prompt_number": 4
    },
    {
     "cell_type": "code",
     "collapsed": false,
     "input": [
      "r"
     ],
     "language": "python",
     "metadata": {},
     "outputs": [
      {
       "metadata": {},
       "output_type": "pyout",
       "prompt_number": 12,
       "text": [
        "array([   0.1       ,    0.14384499,    0.20691381,    0.29763514,\n",
        "          0.42813324,    0.61584821,    0.88586679,    1.27427499,\n",
        "          1.83298071,    2.6366509 ,    3.79269019,    5.45559478,\n",
        "          7.8475997 ,   11.28837892,   16.23776739,   23.35721469,\n",
        "         33.59818286,   48.32930239,   69.51927962,  100.        ])"
       ]
      }
     ],
     "prompt_number": 12
    },
    {
     "cell_type": "code",
     "collapsed": false,
     "input": [
      "f = open('../dat/H2O/mass_tracking_' + str(s) +'.txt', 'wb')\n",
      "for i in range(nt + 1):\n",
      "    f.write('%s \\n' % str(arr_t[0][i]))\n",
      "    for j in range(len(r) - 1):\n",
      "        f.write(' %s ' % str(r[j]))\n",
      "        f.write(' %s ' % str(arr_Mg[j, i]))\n",
      "        f.write(' %s ' % str(arr_Ms[j, i]))\n",
      "        f.write(' %s \\n' % str(arr_Mg_tot[j, i]))\n",
      "        \n",
      "f.close()"
     ],
     "language": "python",
     "metadata": {},
     "outputs": [],
     "prompt_number": 39
    },
    {
     "cell_type": "code",
     "collapsed": false,
     "input": [
      "import time\n",
      "from IPython import display\n",
      "for i in range(nt+1):\n",
      "    #plt.loglog(r, sigarray[:, i])\n",
      "    plt.loglog(r[:-1], arr_Ms[:,i], label = 'Ms')\n",
      "    plt.loglog(r[:-1], arr_Mg[:,i], label = 'Mg')\n",
      "    #plt.loglog(r[:-1], -array1[:, i, 2], '--b')\n",
      "    #plt.title('s=0.001 cm')\n",
      "    plt.xlabel('a [AU]')\n",
      "    plt.ylabel(r'$\\Sigma_{\\rm d}$ [g cm$^{-2}$]')\n",
      "    #plt.title(str(t[i] / (365*24*3600)))\n",
      "    #plt.ylim(2e-8, 2e5)\n",
      "    plt.xlim(0.1,100)\n",
      "    plt.legend()\n",
      "    display.clear_output(wait=True)\n",
      "    #plt.savefig('../figs/Sigma_disk_profiles_Ana_Til_parameters/' +str(s) +'/sigmad_vs_a_t_' + str(i) + '_.pdf')\n",
      "    plt.show()\n",
      "    display.display(plt.gcf())\n",
      "    time.sleep(0.00001)"
     ],
     "language": "python",
     "metadata": {},
     "outputs": [
      {
       "metadata": {},
       "output_type": "display_data",
       "png": "[encoded data removed]",
       "text": [
        "<matplotlib.figure.Figure at 0x10b4625d0>"
       ]
      },
      {
       "metadata": {},
       "output_type": "display_data",
       "text": [
        "<matplotlib.figure.Figure at 0x10c9ae750>"
       ]
      },
      {
       "ename": "ValueError",
       "evalue": "Data has no positive values, and therefore can not be log-scaled.",
       "output_type": "pyerr",
       "traceback": [
        "\u001b[0;31m---------------------------------------------------------------------------\u001b[0m\n\u001b[0;31mValueError\u001b[0m                                Traceback (most recent call last)",
        "\u001b[0;32m<ipython-input-5-1f54c7cf5968>\u001b[0m in \u001b[0;36m<module>\u001b[0;34m()\u001b[0m\n\u001b[1;32m      3\u001b[0m \u001b[0;32mfor\u001b[0m \u001b[0mi\u001b[0m \u001b[0;32min\u001b[0m \u001b[0mrange\u001b[0m\u001b[0;34m(\u001b[0m\u001b[0mnt\u001b[0m\u001b[0;34m+\u001b[0m\u001b[0;36m1\u001b[0m\u001b[0;34m)\u001b[0m\u001b[0;34m:\u001b[0m\u001b[0;34m\u001b[0m\u001b[0m\n\u001b[1;32m      4\u001b[0m     \u001b[0;31m#plt.loglog(r, sigarray[:, i])\u001b[0m\u001b[0;34m\u001b[0m\u001b[0;34m\u001b[0m\u001b[0m\n\u001b[0;32m----> 5\u001b[0;31m     \u001b[0mplt\u001b[0m\u001b[0;34m.\u001b[0m\u001b[0mloglog\u001b[0m\u001b[0;34m(\u001b[0m\u001b[0mr\u001b[0m\u001b[0;34m[\u001b[0m\u001b[0;34m:\u001b[0m\u001b[0;34m-\u001b[0m\u001b[0;36m1\u001b[0m\u001b[0;34m]\u001b[0m\u001b[0;34m,\u001b[0m \u001b[0marr_Ms\u001b[0m\u001b[0;34m[\u001b[0m\u001b[0;34m:\u001b[0m\u001b[0;34m,\u001b[0m\u001b[0mi\u001b[0m\u001b[0;34m]\u001b[0m\u001b[0;34m,\u001b[0m \u001b[0mlabel\u001b[0m \u001b[0;34m=\u001b[0m \u001b[0;34m'Ms'\u001b[0m\u001b[0;34m)\u001b[0m\u001b[0;34m\u001b[0m\u001b[0m\n\u001b[0m\u001b[1;32m      6\u001b[0m     \u001b[0mplt\u001b[0m\u001b[0;34m.\u001b[0m\u001b[0mloglog\u001b[0m\u001b[0;34m(\u001b[0m\u001b[0mr\u001b[0m\u001b[0;34m[\u001b[0m\u001b[0;34m:\u001b[0m\u001b[0;34m-\u001b[0m\u001b[0;36m1\u001b[0m\u001b[0;34m]\u001b[0m\u001b[0;34m,\u001b[0m \u001b[0marr_Mg\u001b[0m\u001b[0;34m[\u001b[0m\u001b[0;34m:\u001b[0m\u001b[0;34m,\u001b[0m\u001b[0mi\u001b[0m\u001b[0;34m]\u001b[0m\u001b[0;34m,\u001b[0m \u001b[0mlabel\u001b[0m \u001b[0;34m=\u001b[0m \u001b[0;34m'Mg'\u001b[0m\u001b[0;34m)\u001b[0m\u001b[0;34m\u001b[0m\u001b[0m\n\u001b[1;32m      7\u001b[0m     \u001b[0;31m#plt.loglog(r[:-1], -array1[:, i, 2], '--b')\u001b[0m\u001b[0;34m\u001b[0m\u001b[0;34m\u001b[0m\u001b[0m\n",
        "\u001b[0;32m/Users/ana-mariapiso/Library/Enthought/Canopy_64bit/User/lib/python2.7/site-packages/matplotlib/pyplot.pyc\u001b[0m in \u001b[0;36mloglog\u001b[0;34m(*args, **kwargs)\u001b[0m\n\u001b[1;32m   2908\u001b[0m         \u001b[0max\u001b[0m\u001b[0;34m.\u001b[0m\u001b[0mhold\u001b[0m\u001b[0;34m(\u001b[0m\u001b[0mhold\u001b[0m\u001b[0;34m)\u001b[0m\u001b[0;34m\u001b[0m\u001b[0m\n\u001b[1;32m   2909\u001b[0m     \u001b[0;32mtry\u001b[0m\u001b[0;34m:\u001b[0m\u001b[0;34m\u001b[0m\u001b[0m\n\u001b[0;32m-> 2910\u001b[0;31m         \u001b[0mret\u001b[0m \u001b[0;34m=\u001b[0m \u001b[0max\u001b[0m\u001b[0;34m.\u001b[0m\u001b[0mloglog\u001b[0m\u001b[0;34m(\u001b[0m\u001b[0;34m*\u001b[0m\u001b[0margs\u001b[0m\u001b[0;34m,\u001b[0m \u001b[0;34m**\u001b[0m\u001b[0mkwargs\u001b[0m\u001b[0;34m)\u001b[0m\u001b[0;34m\u001b[0m\u001b[0m\n\u001b[0m\u001b[1;32m   2911\u001b[0m         \u001b[0mdraw_if_interactive\u001b[0m\u001b[0;34m(\u001b[0m\u001b[0;34m)\u001b[0m\u001b[0;34m\u001b[0m\u001b[0m\n\u001b[1;32m   2912\u001b[0m     \u001b[0;32mfinally\u001b[0m\u001b[0;34m:\u001b[0m\u001b[0;34m\u001b[0m\u001b[0m\n",
        "\u001b[0;32m/Users/ana-mariapiso/Library/Enthought/Canopy_64bit/User/lib/python2.7/site-packages/matplotlib/axes.pyc\u001b[0m in \u001b[0;36mloglog\u001b[0;34m(self, *args, **kwargs)\u001b[0m\n\u001b[1;32m   4271\u001b[0m         \u001b[0mb\u001b[0m \u001b[0;34m=\u001b[0m \u001b[0mself\u001b[0m\u001b[0;34m.\u001b[0m\u001b[0m_hold\u001b[0m\u001b[0;34m\u001b[0m\u001b[0m\n\u001b[1;32m   4272\u001b[0m         \u001b[0mself\u001b[0m\u001b[0;34m.\u001b[0m\u001b[0m_hold\u001b[0m \u001b[0;34m=\u001b[0m \u001b[0mTrue\u001b[0m  \u001b[0;31m# we've already processed the hold\u001b[0m\u001b[0;34m\u001b[0m\u001b[0m\n\u001b[0;32m-> 4273\u001b[0;31m         \u001b[0ml\u001b[0m \u001b[0;34m=\u001b[0m \u001b[0mself\u001b[0m\u001b[0;34m.\u001b[0m\u001b[0mplot\u001b[0m\u001b[0;34m(\u001b[0m\u001b[0;34m*\u001b[0m\u001b[0margs\u001b[0m\u001b[0;34m,\u001b[0m \u001b[0;34m**\u001b[0m\u001b[0mkwargs\u001b[0m\u001b[0;34m)\u001b[0m\u001b[0;34m\u001b[0m\u001b[0m\n\u001b[0m\u001b[1;32m   4274\u001b[0m         \u001b[0mself\u001b[0m\u001b[0;34m.\u001b[0m\u001b[0m_hold\u001b[0m \u001b[0;34m=\u001b[0m \u001b[0mb\u001b[0m  \u001b[0;31m# restore the hold\u001b[0m\u001b[0;34m\u001b[0m\u001b[0m\n\u001b[1;32m   4275\u001b[0m \u001b[0;34m\u001b[0m\u001b[0m\n",
        "\u001b[0;32m/Users/ana-mariapiso/Library/Enthought/Canopy_64bit/User/lib/python2.7/site-packages/matplotlib/axes.pyc\u001b[0m in \u001b[0;36mplot\u001b[0;34m(self, *args, **kwargs)\u001b[0m\n\u001b[1;32m   4139\u001b[0m             \u001b[0mlines\u001b[0m\u001b[0;34m.\u001b[0m\u001b[0mappend\u001b[0m\u001b[0;34m(\u001b[0m\u001b[0mline\u001b[0m\u001b[0;34m)\u001b[0m\u001b[0;34m\u001b[0m\u001b[0m\n\u001b[1;32m   4140\u001b[0m \u001b[0;34m\u001b[0m\u001b[0m\n\u001b[0;32m-> 4141\u001b[0;31m         \u001b[0mself\u001b[0m\u001b[0;34m.\u001b[0m\u001b[0mautoscale_view\u001b[0m\u001b[0;34m(\u001b[0m\u001b[0mscalex\u001b[0m\u001b[0;34m=\u001b[0m\u001b[0mscalex\u001b[0m\u001b[0;34m,\u001b[0m \u001b[0mscaley\u001b[0m\u001b[0;34m=\u001b[0m\u001b[0mscaley\u001b[0m\u001b[0;34m)\u001b[0m\u001b[0;34m\u001b[0m\u001b[0m\n\u001b[0m\u001b[1;32m   4142\u001b[0m         \u001b[0;32mreturn\u001b[0m \u001b[0mlines\u001b[0m\u001b[0;34m\u001b[0m\u001b[0m\n\u001b[1;32m   4143\u001b[0m \u001b[0;34m\u001b[0m\u001b[0m\n",
        "\u001b[0;32m/Users/ana-mariapiso/Library/Enthought/Canopy_64bit/User/lib/python2.7/site-packages/matplotlib/axes.pyc\u001b[0m in \u001b[0;36mautoscale_view\u001b[0;34m(self, tight, scalex, scaley)\u001b[0m\n\u001b[1;32m   1961\u001b[0m                 \u001b[0my1\u001b[0m \u001b[0;34m+=\u001b[0m \u001b[0mdelta\u001b[0m\u001b[0;34m\u001b[0m\u001b[0m\n\u001b[1;32m   1962\u001b[0m             \u001b[0;32mif\u001b[0m \u001b[0;32mnot\u001b[0m \u001b[0m_tight\u001b[0m\u001b[0;34m:\u001b[0m\u001b[0;34m\u001b[0m\u001b[0m\n\u001b[0;32m-> 1963\u001b[0;31m                 \u001b[0my0\u001b[0m\u001b[0;34m,\u001b[0m \u001b[0my1\u001b[0m \u001b[0;34m=\u001b[0m \u001b[0mylocator\u001b[0m\u001b[0;34m.\u001b[0m\u001b[0mview_limits\u001b[0m\u001b[0;34m(\u001b[0m\u001b[0my0\u001b[0m\u001b[0;34m,\u001b[0m \u001b[0my1\u001b[0m\u001b[0;34m)\u001b[0m\u001b[0;34m\u001b[0m\u001b[0m\n\u001b[0m\u001b[1;32m   1964\u001b[0m             \u001b[0mself\u001b[0m\u001b[0;34m.\u001b[0m\u001b[0mset_ybound\u001b[0m\u001b[0;34m(\u001b[0m\u001b[0my0\u001b[0m\u001b[0;34m,\u001b[0m \u001b[0my1\u001b[0m\u001b[0;34m)\u001b[0m\u001b[0;34m\u001b[0m\u001b[0m\n\u001b[1;32m   1965\u001b[0m \u001b[0;34m\u001b[0m\u001b[0m\n",
        "\u001b[0;32m/Users/ana-mariapiso/Library/Enthought/Canopy_64bit/User/lib/python2.7/site-packages/matplotlib/ticker.pyc\u001b[0m in \u001b[0;36mview_limits\u001b[0;34m(self, vmin, vmax)\u001b[0m\n\u001b[1;32m   1483\u001b[0m         \u001b[0;32mif\u001b[0m \u001b[0mminpos\u001b[0m \u001b[0;34m<=\u001b[0m \u001b[0;36m0\u001b[0m \u001b[0;32mor\u001b[0m \u001b[0;32mnot\u001b[0m \u001b[0mnp\u001b[0m\u001b[0;34m.\u001b[0m\u001b[0misfinite\u001b[0m\u001b[0;34m(\u001b[0m\u001b[0mminpos\u001b[0m\u001b[0;34m)\u001b[0m\u001b[0;34m:\u001b[0m\u001b[0;34m\u001b[0m\u001b[0m\n\u001b[1;32m   1484\u001b[0m             raise ValueError(\n\u001b[0;32m-> 1485\u001b[0;31m                 \u001b[0;34m\"Data has no positive values, and therefore can not be \"\u001b[0m\u001b[0;34m\u001b[0m\u001b[0m\n\u001b[0m\u001b[1;32m   1486\u001b[0m                 \"log-scaled.\")\n\u001b[1;32m   1487\u001b[0m \u001b[0;34m\u001b[0m\u001b[0m\n",
        "\u001b[0;31mValueError\u001b[0m: Data has no positive values, and therefore can not be log-scaled."
       ]
      },
      {
       "metadata": {},
       "output_type": "display_data",
       "png": "[encoded data removed]",
       "text": [
        "<matplotlib.figure.Figure at 0x10c9ae750>"
       ]
      }
     ],
     "prompt_number": 5
    },
    {
     "cell_type": "code",
     "collapsed": false,
     "input": [
      "f=open('advection_from_Til/data_' + str(s)+ '/sigma_d.dat', 'r')\n",
      "\n",
      "sigparray_Til = np.ndarray(shape = (nt, nr), dtype = float)\n",
      "\n",
      "for j in range(nt):\n",
      "    line = f.readline().split()\n",
      "    for i in range(nr):\n",
      "        sigparray_Til[j ,i] = float(line[i])\n",
      "        \n",
      "f.close()\n",
      "\n",
      "sigparray = Sigmap_2(r[0], r[-1], nr, t[0], t[-1], nt, s, alpha, Mdisk, Rstar, Tstar, rc, rhos = 1.6, mu= 2.3,  Mstar = Msun, sigma = 2 * 10**(-15), dusttogas = 0.01)"
     ],
     "language": "python",
     "metadata": {},
     "outputs": [],
     "prompt_number": 14
    },
    {
     "cell_type": "code",
     "collapsed": false,
     "input": [
      "nt = 20\n",
      "nr = 50\n",
      "\n",
      "r = logspace(np.log10(0.05),np.log10(4e3),nr)\n",
      "t = np.linspace(1e4,3e6,nt)*365*24*3600\n",
      "\n",
      "alpha = 0.01\n",
      "s = 1e-1\n",
      "Tstar = 4300.\n",
      "Rstar = 2.5 * Rsun\n",
      "rc = 60 * AU\n",
      "Mdisk = 0.1 * Msun\n",
      "#s = 1e-1\n",
      "\n",
      "\n",
      "f=open('advection_from_Til/data_' + str(s)+ '/v_0.dat', 'r')\n",
      "\n",
      "v0_Til = np.ndarray(shape = (nt, nr), dtype = float)\n",
      "\n",
      "for j in range(nt):\n",
      "    line = f.readline().split()\n",
      "    for i in range(nr):\n",
      "        v0_Til[j ,i] = float(line[i])\n",
      "        \n",
      "f.close()\n",
      "\n",
      "\n",
      "v_ana = []\n",
      "\n",
      "for i in range(nr-1):\n",
      "    v_ana = np.append(v_ana, rdot_with_acc(r[i], s, alpha, Mdisk, Rstar, Tstar, rc, 0.0006, rhos = 1.6, mu = 2.3, \\\n",
      "    Mstar = Msun, sigma = 2 * 10**(-15)))\n",
      "\n",
      "#sigparray = Sigmap_2(r[0], r[-1], nr, t[0], t[-1], nt, s, alpha, Mdisk, Rstar, Tstar, rc, rhos = 1.6, mu= 2.3,  Mstar = Msun, sigma = 2 * 10**(-15), dusttogas = 0.01)"
     ],
     "language": "python",
     "metadata": {},
     "outputs": [],
     "prompt_number": 10
    },
    {
     "cell_type": "code",
     "collapsed": false,
     "input": [
      "v_ana"
     ],
     "language": "python",
     "metadata": {},
     "outputs": [
      {
       "metadata": {},
       "output_type": "pyout",
       "prompt_number": 11,
       "text": [
        "array([ -1.09341055e+01,  -1.09441560e+01,  -1.09568167e+01,\n",
        "        -1.09727678e+01,  -1.09928674e+01,  -1.10181997e+01,\n",
        "        -1.10501350e+01,  -1.10904069e+01,  -1.11412122e+01,\n",
        "        -1.12053381e+01,  -1.12863281e+01,  -1.13886984e+01,\n",
        "        -1.15182222e+01,  -1.16823073e+01,  -1.18905029e+01,\n",
        "        -1.21551887e+01,  -1.24925251e+01,  -1.29237859e+01,\n",
        "        -1.34772596e+01,  -1.41910186e+01,  -1.51170347e+01,\n",
        "        -1.63274429e+01,  -1.79243053e+01,  -2.00552432e+01,\n",
        "        -2.29391835e+01,  -2.69101090e+01,  -3.24939905e+01,\n",
        "        -4.05493316e+01,  -5.25351561e+01,  -7.10473155e+01,\n",
        "        -1.00952278e+02,  -1.51937602e+02,  -2.44660179e+02,\n",
        "        -4.26666789e+02,  -8.15590902e+02,  -1.69884907e+03,\n",
        "        -3.34066721e+03,  -3.28959519e+03,  -1.16315677e+03,\n",
        "        -2.49752657e+02,  -3.73244240e+01,  -3.61171204e+00,\n",
        "        -2.01532353e-01,  -5.59438681e-03,  -6.41525189e-05,\n",
        "        -2.40654556e-07,  -2.20350330e-10,  -3.40906350e-14,\n",
        "        -5.61247120e-19])"
       ]
      }
     ],
     "prompt_number": 11
    },
    {
     "cell_type": "code",
     "collapsed": false,
     "input": [
      "plt.loglog(r[:-1], -v0_Til[0][:-1])\n",
      "plt.loglog(r[:-1], -v_ana)\n",
      "#plt.semilogx(r[:-1], v0_Til[0][:-1]/v_ana-1)\n",
      "#plt.ylim(0,1)"
     ],
     "language": "python",
     "metadata": {},
     "outputs": [
      {
       "metadata": {},
       "output_type": "pyout",
       "prompt_number": 13,
       "text": [
        "[<matplotlib.lines.Line2D at 0x10cbe9b10>]"
       ]
      },
      {
       "metadata": {},
       "output_type": "display_data",
       "png": "[encoded data removed]",
       "text": [
        "<matplotlib.figure.Figure at 0x10d10c1d0>"
       ]
      }
     ],
     "prompt_number": 13
    },
    {
     "cell_type": "code",
     "collapsed": false,
     "input": [
      "nt = 20\n",
      "nr = 50\n",
      "\n",
      "r = logspace(np.log10(0.05),np.log10(4e3),nr)\n",
      "t = np.linspace(1e4,3e6,nt)*365*24*3600\n",
      "\n",
      "alpha = 0.001\n",
      "s = 1e5\n",
      "Tstar = 4300.\n",
      "Rstar = 2.5 * Rsun\n",
      "rc = 60 * AU\n",
      "Mdisk = 0.1 * Msun\n",
      "\n",
      "f=open('advection_from_Til/data_' + str(s)+ '/sigma_d.dat', 'r')\n",
      "\n",
      "sigparray_Til = np.ndarray(shape = (nt, nr), dtype = float)\n",
      "\n",
      "for j in range(nt):\n",
      "    line = f.readline().split()\n",
      "    for i in range(nr):\n",
      "        sigparray_Til[j ,i] = float(line[i])\n",
      "        \n",
      "f.close()\n",
      "\n",
      "sigparray = Sigmap_2(r[0], r[-1], nr, t[0], t[-1], nt, s, alpha, Mdisk, Rstar, Tstar, rc, rhos = 1.6, mu= 2.3,  Mstar = Msun, sigma = 2 * 10**(-15), dusttogas = 0.01)"
     ],
     "language": "python",
     "metadata": {},
     "outputs": [],
     "prompt_number": 33
    },
    {
     "cell_type": "code",
     "collapsed": false,
     "input": [
      "import time\n",
      "from IPython import display\n",
      "for i in range(nt):\n",
      "    #plt.loglog(r, sigarray[:, i])\n",
      "    plt.loglog(r, sigparray[:, i], label = 'Ana')\n",
      "    plt.loglog(r, sigparray_Til[i], label = 'Til')\n",
      "    #plt.loglog(r[:-1], -array1[:, i, 2], '--b')\n",
      "    #plt.title('s=0.001 cm')\n",
      "    plt.xlabel('a [AU]')\n",
      "    plt.ylabel(r'$\\Sigma_{\\rm d}$ [g cm$^{-2}$]')\n",
      "    plt.title(str(t[i] / (365*24*3600)))\n",
      "    plt.ylim(2e-8, 2e5)\n",
      "    plt.xlim(0.5,500)\n",
      "    plt.legend()\n",
      "    display.clear_output(wait=True)\n",
      "    plt.savefig('../figs/Sigma_disk_profiles_Ana_Til_parameters/' +str(s) +'/sigmad_vs_a_t_' + str(i) + '_.pdf')\n",
      "    plt.show()\n",
      "    display.display(plt.gcf())\n",
      "    time.sleep(0.00001)"
     ],
     "language": "python",
     "metadata": {},
     "outputs": [
      {
       "metadata": {},
       "output_type": "display_data",
       "png": "[encoded data removed]",
       "text": [
        "<matplotlib.figure.Figure at 0x10cb04610>"
       ]
      },
      {
       "metadata": {},
       "output_type": "display_data",
       "text": [
        "<matplotlib.figure.Figure at 0x10ca95b10>"
       ]
      },
      {
       "metadata": {},
       "output_type": "display_data",
       "text": [
        "<matplotlib.figure.Figure at 0x10ca95b10>"
       ]
      }
     ],
     "prompt_number": 34
    },
    {
     "cell_type": "code",
     "collapsed": false,
     "input": [
      "nt = 20\n",
      "nr = 50\n",
      "\n",
      "#Tstar = 4300.\n",
      "#Rstar = 2.5 * Rsun\n",
      "rc = 60 * AU\n",
      "Mdisk = 0.1 * Msun\n",
      "s = 1e5\n",
      "alpha = 1e-2\n",
      "\n",
      "r = logspace(np.log10(0.05),np.log10(4e3),nr)\n",
      "t = np.linspace(1e4,3e6,nt)*365*24*3600\n",
      "dt = t[1] - t[0]\n",
      "\n",
      "#sigarray_new = np.ndarray(shape = (len(r), len(t)), dtype = float)\n",
      "rdotv = np.ndarray(shape = (len(r), len(t)), dtype = float)\n",
      "rdot_w = np.ndarray(shape = (len(r), len(t)), dtype = float)\n",
      "rdot_noacc = np.ndarray(shape = (len(r), len(t)), dtype = float)\n",
      "\n",
      "\n",
      "for i in range(len(r)):\n",
      "    for j in range(len(t)):\n",
      "        #sigarray_new[i, j] = Sigmadisk(r[i], t[j], alpha, Mdisk, rc, gammadflag = 0)\n",
      "        #rdotv[i, j] = rdot_with_acc(r[i], t[j], s, alpha, 1e-3, Mdisk, rhos = 1.6, mu = 2.3)\n",
      "        #rdot_noacc[i, j] = rdot(r[i], t[j], s, alpha, 1e-3, Mdisk, rhos = 1.6, mu = 2.3)\n",
      "        rdot_w[i, j] = vacc_new(r[i], t[j], alpha, mu = 2.3, T0 = 120, betaT = 3./7, rc = rc, gammadflag = 0)"
     ],
     "language": "python",
     "metadata": {},
     "outputs": [],
     "prompt_number": 15
    },
    {
     "cell_type": "code",
     "collapsed": false,
     "input": [
      "import time\n",
      "from IPython import display\n",
      "for i in range(nt):\n",
      "    #plt.loglog(r, sigarray[:, i])\n",
      "    plt.loglog(r, -rdotv[:, i])\n",
      "    plt.loglog(r, rdotv[:, i], '--')\n",
      "    plt.loglog(r, -rdot_noacc[:, i], 'r')\n",
      "    plt.loglog(r, rdot_noacc[:, i], '--r')\n",
      "    plt.loglog(r, -rdot_w[:, i], 'g')\n",
      "    plt.loglog(r, rdot_w[:, i], '--g')\n",
      "    #plt.loglog(r, sigparray[:, i], label = 'Ana')\n",
      "    #plt.loglog(r, sigparray_new[:,i], label = 'Ana new')\n",
      "    #plt.loglog(r[:-1], -array1[:, i, 2], '--b')\n",
      "    #plt.title('s=0.001 cm')\n",
      "    plt.xlabel('a [AU]')\n",
      "    #plt.ylabel(r'$\\Sigma_{\\rm d}$ [g cm$^{-2}$]')\n",
      "    #plt.title(str(t[i] / (365*24*3600)))\n",
      "    #plt.ylim(2e-5, 2e5)\n",
      "    #plt.xlim(0.5,100)\n",
      "    #plt.legend()\n",
      "    display.clear_output(wait=True)\n",
      "    #plt.savefig('../figs/Sigma_disk_profiles_Ana_Til_parameters/' +str(s) +'/sigmad_vs_a_t_' + str(i) + '_.pdf')\n",
      "    plt.show()\n",
      "    display.display(plt.gcf())\n",
      "    time.sleep(0.00001)"
     ],
     "language": "python",
     "metadata": {},
     "outputs": [
      {
       "metadata": {},
       "output_type": "display_data",
       "png": "[encoded data removed]",
       "text": [
        "<matplotlib.figure.Figure at 0x10db1c090>"
       ]
      },
      {
       "metadata": {},
       "output_type": "display_data",
       "text": [
        "<matplotlib.figure.Figure at 0x10b55e150>"
       ]
      },
      {
       "metadata": {},
       "output_type": "display_data",
       "text": [
        "<matplotlib.figure.Figure at 0x10b55e150>"
       ]
      }
     ],
     "prompt_number": 3
    },
    {
     "cell_type": "code",
     "collapsed": false,
     "input": [
      "import time\n",
      "from IPython import display\n",
      "for i in range(nt):\n",
      "    #plt.loglog(r, sigarray[:, i])\n",
      "    #plt.loglog(r, -2 * pi * r * AU *rdotv[:, i] * sigparray_new[:,i])\n",
      "    #plt.loglog(r, 2 * pi * r * AU * rdotv[:, i] * sigparray_new[:,i], '--')\n",
      "    plt.loglog(r, -2 * pi * r * AU * rdot_w[:, i] * sigarray_new[:,i] * yr / Msun, 'g')\n",
      "    plt.loglog(r, 2 * pi * r * AU * rdot_w[:, i] * sigarray_new[:,i] * yr / Msun, '--g')\n",
      "    #plt.loglog(r, -rdot_w[:, i], 'g')\n",
      "    #plt.loglog(r, rdot_w[:, i], '--g')\n",
      "    #plt.loglog(r, sigparray[:, i], label = 'Ana')\n",
      "    #plt.loglog(r, sigparray_new[:,i], label = 'Ana new')\n",
      "    #plt.loglog(r[:-1], -array1[:, i, 2], '--b')\n",
      "    #plt.title('s=0.001 cm')\n",
      "    plt.xlabel('a [AU]')\n",
      "    #plt.ylabel(r'$\\Sigma_{\\rm d}$ [g cm$^{-2}$]')\n",
      "    #plt.title(str(t[i] / (365*24*3600)))\n",
      "    #plt.ylim(1e-6, 1)\n",
      "    #plt.xlim(0.5,100)\n",
      "    #plt.legend()\n",
      "    display.clear_output(wait=True)\n",
      "    #plt.savefig('../figs/Sigma_disk_profiles_Ana_Til_parameters/' +str(s) +'/sigmad_vs_a_t_' + str(i) + '_.pdf')\n",
      "    plt.show()\n",
      "    display.display(plt.gcf())\n",
      "    time.sleep(0.00001)"
     ],
     "language": "python",
     "metadata": {},
     "outputs": [
      {
       "metadata": {},
       "output_type": "display_data",
       "png": "[encoded data removed]",
       "text": [
        "<matplotlib.figure.Figure at 0x10362db50>"
       ]
      },
      {
       "metadata": {},
       "output_type": "display_data",
       "text": [
        "<matplotlib.figure.Figure at 0x10d47a090>"
       ]
      },
      {
       "metadata": {},
       "output_type": "display_data",
       "text": [
        "<matplotlib.figure.Figure at 0x10d47a090>"
       ]
      }
     ],
     "prompt_number": 17
    },
    {
     "cell_type": "code",
     "collapsed": false,
     "input": [
      "sigarray_new[10]"
     ],
     "language": "python",
     "metadata": {},
     "outputs": [
      {
       "metadata": {},
       "output_type": "pyout",
       "prompt_number": 80,
       "text": [
        "array([ 6379.17317558,  4427.17234237,  3296.24428988,  2573.75503325,\n",
        "        2079.81719941,  1724.86518182,  1459.84582555,  1255.89008327,\n",
        "        1095.02312139,   965.53369806,   859.50108482,   771.39782743,\n",
        "         697.26250265,   634.19016394,   580.00763504,   533.0604126 ,\n",
        "         492.06916165,   456.03084957,   424.14923805,   395.78511945])"
       ]
      }
     ],
     "prompt_number": 80
    },
    {
     "cell_type": "code",
     "collapsed": false,
     "input": [
      "sigparray_new[:,-1]/sigarray_new[:,-1]"
     ],
     "language": "python",
     "metadata": {},
     "outputs": [
      {
       "metadata": {},
       "output_type": "pyout",
       "prompt_number": 8,
       "text": [
        "array([ 0.01137015,  0.01137016,  0.01137029,  0.01137053,  0.01137088,\n",
        "        0.01137135,  0.01137195,  0.0113727 ,  0.01137363,  0.01137477,\n",
        "        0.01137615,  0.01137782,  0.01137985,  0.01138229,  0.01138524,\n",
        "        0.01138878,  0.01139303,  0.01139812,  0.01140419,  0.01141143,\n",
        "        0.01142002,  0.01143018,  0.01144215,  0.01145616,  0.01147246,\n",
        "        0.01149125,  0.01151269,  0.0115368 ,  0.01156342,  0.01159208,\n",
        "        0.01162185,  0.01165121,  0.0116778 ,  0.01169827,  0.01170815,\n",
        "        0.01170163,  0.01167089,  0.0116037 ,  0.01147605,  0.01123369,\n",
        "        0.01075301,  0.00977946,  0.0079237 ,  0.00505202,  0.00216995,\n",
        "        0.00067537,  0.00026142,  0.00016546,  0.00014317,  0.00014714])"
       ]
      }
     ],
     "prompt_number": 8
    },
    {
     "cell_type": "code",
     "collapsed": false,
     "input": [
      "tdrift = []\n",
      "for i in range(len(r)):\n",
      "    tdrift = np.append(tdrift, tr(r[i], t[0], 1e5, alpha, 1e-3, Mdisk, rc, rhos = 1.6, mu = 2.3))"
     ],
     "language": "python",
     "metadata": {},
     "outputs": [],
     "prompt_number": 60
    },
    {
     "cell_type": "code",
     "collapsed": false,
     "input": [
      "plt.loglog(r, tdrift)"
     ],
     "language": "python",
     "metadata": {},
     "outputs": [
      {
       "metadata": {},
       "output_type": "pyout",
       "prompt_number": 61,
       "text": [
        "[<matplotlib.lines.Line2D at 0x10e48e5d0>]"
       ]
      },
      {
       "metadata": {},
       "output_type": "display_data",
       "png": "[encoded data removed]",
       "text": [
        "<matplotlib.figure.Figure at 0x10cd97690>"
       ]
      }
     ],
     "prompt_number": 61
    },
    {
     "cell_type": "code",
     "collapsed": false,
     "input": [
      "rf(10.0, 3e6*365*24*3600, 1, 18, 5800., 0.01, 1e-3, 0.1*Msun, returnall = True)"
     ],
     "language": "python",
     "metadata": {},
     "outputs": [
      {
       "metadata": {},
       "output_type": "pyout",
       "prompt_number": 2,
       "text": [
        "(array([  1.00000000e-10,   1.00005521e-10,   1.00011042e-10, ...,\n",
        "          2.42234695e+12,   2.42248068e+12,   2.42261806e+12]),\n",
        " array([ 10.        ,  10.        ,  10.        , ...,   0.48819945,\n",
        "          0.48801704,   0.4876577 ]),\n",
        " array([ 1.        ,  1.        ,  1.        , ...,  0.01900088,\n",
        "         0.01264551,  0.        ]))"
       ]
      }
     ],
     "prompt_number": 2
    },
    {
     "cell_type": "code",
     "collapsed": false,
     "input": [
      "s = np.logspace(np.log10(0.5), 3, 10)\n",
      "\n",
      "a = 1.0 #np.logspace(-1, 2, 50)\n",
      "t = np.logspace(2, np.log10(3e6), 100) * 365 * 24 * 3600\n",
      "\n",
      "desdist = np.ndarray(shape = (len(s), len(t)), dtype = float)\n",
      "\n",
      "for i in range(len(s)):\n",
      "    for j in range(len(t)):\n",
      "        desdist[i, j] = rf(a, t[j], s[i], 18, 5800., 0.01, 1e-3, 0.1*Msun, rhos = 2.0, mu=2.3, Sigma0=2e3, betaS=1)\n",
      "        print s[i], t[j]\n",
      "        \n"
     ],
     "language": "python",
     "metadata": {},
     "outputs": [
      {
       "output_type": "stream",
       "stream": "stdout",
       "text": [
        "0.5 3153600000.0\n",
        "0.5"
       ]
      },
      {
       "output_type": "stream",
       "stream": "stdout",
       "text": [
        " 3499693846.96\n",
        "0.5"
       ]
      },
      {
       "output_type": "stream",
       "stream": "stdout",
       "text": [
        " 3883769984.29\n",
        "0.5"
       ]
      },
      {
       "output_type": "stream",
       "stream": "stdout",
       "text": [
        " 4309996802.71\n",
        "0.5"
       ]
      },
      {
       "output_type": "stream",
       "stream": "stdout",
       "text": [
        " 4783000155.65\n",
        "0.5"
       ]
      },
      {
       "output_type": "stream",
       "stream": "stdout",
       "text": [
        " 5307913563.78\n",
        "0.5"
       ]
      },
      {
       "output_type": "stream",
       "stream": "stdout",
       "text": [
        " 5890433929.27\n",
        "0.5"
       ]
      },
      {
       "output_type": "stream",
       "stream": "stdout",
       "text": [
        " 6536883364.47\n",
        "0.5"
       ]
      },
      {
       "output_type": "stream",
       "stream": "stdout",
       "text": [
        " 7254277805.98\n",
        "0.5"
       ]
      },
      {
       "output_type": "stream",
       "stream": "stdout",
       "text": [
        " 8050403158.84\n",
        "0.5"
       ]
      },
      {
       "output_type": "stream",
       "stream": "stdout",
       "text": [
        " 8933899797.23\n",
        "0.5"
       ]
      },
      {
       "output_type": "stream",
       "stream": "stdout",
       "text": [
        " 9914356338.7\n",
        "0.5"
       ]
      },
      {
       "output_type": "stream",
       "stream": "stdout",
       "text": [
        " 11002413709.8\n",
        "0.5"
       ]
      },
      {
       "output_type": "stream",
       "stream": "stdout",
       "text": [
        " 12209880632.2\n",
        "0.5"
       ]
      },
      {
       "output_type": "stream",
       "stream": "stdout",
       "text": [
        " 13549861783.6\n",
        "0.5"
       ]
      },
      {
       "output_type": "stream",
       "stream": "stdout",
       "text": [
        " 15036900022.6\n",
        "0.5"
       ]
      },
      {
       "output_type": "stream",
       "stream": "stdout",
       "text": [
        " 16687134223.2\n",
        "0.5"
       ]
      },
      {
       "output_type": "stream",
       "stream": "stdout",
       "text": [
        " 18518474430.6\n",
        "0.5"
       ]
      },
      {
       "output_type": "stream",
       "stream": "stdout",
       "text": [
        " 20550796239.2\n",
        "0.5"
       ]
      },
      {
       "output_type": "stream",
       "stream": "stdout",
       "text": [
        " 22806156503.2\n",
        "0.5"
       ]
      },
      {
       "output_type": "stream",
       "stream": "stdout",
       "text": [
        " 25309032720.4\n",
        "0.5"
       ]
      },
      {
       "output_type": "stream",
       "stream": "stdout",
       "text": [
        " 28086588687.2\n",
        "0.5"
       ]
      },
      {
       "output_type": "stream",
       "stream": "stdout",
       "text": [
        " 31168969308.3\n",
        "0.5"
       ]
      },
      {
       "output_type": "stream",
       "stream": "stdout",
       "text": [
        " 34589627760.2\n",
        "0.5"
       ]
      },
      {
       "output_type": "stream",
       "stream": "stdout",
       "text": [
        " 38385688559.4\n",
        "0.5"
       ]
      },
      {
       "output_type": "stream",
       "stream": "stdout",
       "text": [
        " 42598350476.5\n",
        "0.5"
       ]
      },
      {
       "output_type": "stream",
       "stream": "stdout",
       "text": [
        " 47273333667.3\n",
        "0.5"
       ]
      },
      {
       "output_type": "stream",
       "stream": "stdout",
       "text": [
        " 52461375875.4\n",
        "0.5"
       ]
      },
      {
       "output_type": "stream",
       "stream": "stdout",
       "text": [
        " 58218783090.5\n",
        "0.5"
       ]
      },
      {
       "output_type": "stream",
       "stream": "stdout",
       "text": [
        " 64608040639.1\n",
        "0.5"
       ]
      },
      {
       "output_type": "stream",
       "stream": "stdout",
       "text": [
        " 71698491339.7\n",
        "0.5"
       ]
      },
      {
       "output_type": "stream",
       "stream": "stdout",
       "text": [
        " 79567088082.7\n",
        "0.5"
       ]
      },
      {
       "output_type": "stream",
       "stream": "stdout",
       "text": [
        " 88299229003.0\n",
        "0.5"
       ]
      },
      {
       "output_type": "stream",
       "stream": "stdout",
       "text": [
        " 97989684307.8\n",
        "0.5"
       ]
      },
      {
       "output_type": "stream",
       "stream": "stdout",
       "text": [
        " 108743624822.0\n",
        "0.5"
       ]
      },
      {
       "output_type": "stream",
       "stream": "stdout",
       "text": [
        " 120677763408.0\n",
        "0.5"
       ]
      },
      {
       "output_type": "stream",
       "stream": "stdout",
       "text": [
        " 133921621659.0\n",
        "0.5"
       ]
      },
      {
       "output_type": "stream",
       "stream": "stdout",
       "text": [
        " 148618935596.0\n",
        "0.5"
       ]
      },
      {
       "output_type": "stream",
       "stream": "stdout",
       "text": [
        " 164929215642.0\n",
        "0.5"
       ]
      },
      {
       "output_type": "stream",
       "stream": "stdout",
       "text": [
        " 183029477792.0\n",
        "0.5"
       ]
      },
      {
       "output_type": "stream",
       "stream": "stdout",
       "text": [
        " 203116164777.0\n",
        "0.5"
       ]
      },
      {
       "output_type": "stream",
       "stream": "stdout",
       "text": [
        " 225407278060.0\n",
        "0.5"
       ]
      },
      {
       "output_type": "stream",
       "stream": "stdout",
       "text": [
        " 250144743812.0\n",
        "0.5"
       ]
      },
      {
       "output_type": "stream",
       "stream": "stdout",
       "text": [
        " 277597038549.0\n",
        "0.5"
       ]
      },
      {
       "output_type": "stream",
       "stream": "stdout",
       "text": [
        " 308062102912.0\n",
        "0.5"
       ]
      },
      {
       "output_type": "stream",
       "stream": "stdout",
       "text": [
        " 341870575229.0\n",
        "0.5"
       ]
      },
      {
       "output_type": "stream",
       "stream": "stdout",
       "text": [
        " 379389379943.0\n",
        "0.5"
       ]
      },
      {
       "output_type": "stream",
       "stream": "stdout",
       "text": [
        " 421025709851.0\n",
        "0.5"
       ]
      },
      {
       "output_type": "stream",
       "stream": "stdout",
       "text": [
        " 467231445389.0\n",
        "0.5"
       ]
      },
      {
       "output_type": "stream",
       "stream": "stdout",
       "text": [
        " 518508058896.0\n",
        "0.5"
       ]
      },
      {
       "output_type": "stream",
       "stream": "stdout",
       "text": [
        " 575412057115.0\n",
        "0.5"
       ]
      },
      {
       "output_type": "stream",
       "stream": "stdout",
       "text": [
        " 638561020977.0\n",
        "0.5"
       ]
      },
      {
       "output_type": "stream",
       "stream": "stdout",
       "text": [
        " 708640308226.0\n",
        "0.5"
       ]
      },
      {
       "output_type": "stream",
       "stream": "stdout",
       "text": [
        " 786410491630.0\n",
        "0.5"
       ]
      },
      {
       "output_type": "stream",
       "stream": "stdout",
       "text": [
        " 872715613503.0\n",
        "0.5"
       ]
      },
      {
       "output_type": "stream",
       "stream": "stdout",
       "text": [
        " 968492346119.0\n",
        "0.5"
       ]
      },
      {
       "output_type": "stream",
       "stream": "stdout",
       "text": [
        " 1.07478015745e+12\n",
        "0.5"
       ]
      },
      {
       "output_type": "stream",
       "stream": "stdout",
       "text": [
        " 1.19273259255e+12\n",
        "0.5"
       ]
      },
      {
       "output_type": "stream",
       "stream": "stdout",
       "text": [
        " 1.32362979301e+12\n",
        "0.5"
       ]
      },
      {
       "output_type": "stream",
       "stream": "stdout",
       "text": [
        " 1.46889239036e+12\n",
        "0.5"
       ]
      },
      {
       "output_type": "stream",
       "stream": "stdout",
       "text": [
        " 1.63009692427e+12\n",
        "0.5"
       ]
      },
      {
       "output_type": "stream",
       "stream": "stdout",
       "text": [
        " 1.80899295276e+12\n",
        "0.5"
       ]
      },
      {
       "output_type": "stream",
       "stream": "stdout",
       "text": [
        " 2.0075220402e+12\n",
        "0.5"
       ]
      },
      {
       "output_type": "stream",
       "stream": "stdout",
       "text": [
        " 2.22783882918e+12\n",
        "0.5"
       ]
      },
      {
       "output_type": "stream",
       "stream": "stdout",
       "text": [
        " 2.47233442495e+12\n",
        "0.5"
       ]
      },
      {
       "output_type": "stream",
       "stream": "stdout",
       "text": [
        " 2.74366234609e+12\n",
        "0.5"
       ]
      },
      {
       "output_type": "stream",
       "stream": "stdout",
       "text": [
        " 3.04476732329e+12\n",
        "0.5"
       ]
      },
      {
       "output_type": "stream",
       "stream": "stdout",
       "text": [
        " 3.37891725861e+12\n",
        "0.5"
       ]
      },
      {
       "output_type": "stream",
       "stream": "stdout",
       "text": [
        " 3.74973869208e+12\n",
        "0.5"
       ]
      },
      {
       "output_type": "stream",
       "stream": "stdout",
       "text": [
        " 4.1612561607e+12\n",
        "0.5"
       ]
      },
      {
       "output_type": "stream",
       "stream": "stdout",
       "text": [
        " 4.61793587685e+12\n",
        "0.5"
       ]
      },
      {
       "output_type": "stream",
       "stream": "stdout",
       "text": [
        " 5.12473420023e+12\n",
        "0.5"
       ]
      },
      {
       "output_type": "stream",
       "stream": "stdout",
       "text": [
        " 5.68715142943e+12\n",
        "0.5"
       ]
      },
      {
       "output_type": "stream",
       "stream": "stdout",
       "text": [
        " 6.3112914968e+12\n",
        "0.5"
       ]
      },
      {
       "output_type": "stream",
       "stream": "stdout",
       "text": [
        " 7.00392821465e+12\n",
        "0.5"
       ]
      },
      {
       "output_type": "stream",
       "stream": "stdout",
       "text": [
        " 7.77257879166e+12\n",
        "0.5"
       ]
      },
      {
       "output_type": "stream",
       "stream": "stdout",
       "text": [
        " 8.62558541736e+12\n",
        "0.5"
       ]
      },
      {
       "output_type": "stream",
       "stream": "stdout",
       "text": [
        " 9.57220580022e+12\n",
        "0.5"
       ]
      },
      {
       "output_type": "stream",
       "stream": "stdout",
       "text": [
        " 1.06227136418e+13\n",
        "0.5"
       ]
      },
      {
       "output_type": "stream",
       "stream": "stdout",
       "text": [
        " 1.17885101377e+13\n",
        "0.5"
       ]
      },
      {
       "output_type": "stream",
       "stream": "stdout",
       "text": [
        " 1.30822477149e+13\n",
        "0.5"
       ]
      },
      {
       "output_type": "stream",
       "stream": "stdout",
       "text": [
        " 1.45179673492e+13\n",
        "0.5"
       ]
      },
      {
       "output_type": "stream",
       "stream": "stdout",
       "text": [
        " 1.6111250952e+13\n",
        "0.5"
       ]
      },
      {
       "output_type": "stream",
       "stream": "stdout",
       "text": [
        " 1.78793904819e+13\n",
        "0.5"
       ]
      },
      {
       "output_type": "stream",
       "stream": "stdout",
       "text": [
        " 1.98415756141e+13\n",
        "0.5"
       ]
      },
      {
       "output_type": "stream",
       "stream": "stdout",
       "text": [
        " 2.20191020075e+13\n",
        "0.5"
       ]
      },
      {
       "output_type": "stream",
       "stream": "stdout",
       "text": [
        " 2.44356024262e+13\n",
        "0.5"
       ]
      },
      {
       "output_type": "stream",
       "stream": "stdout",
       "text": [
        " 2.71173032273e+13\n",
        "0.5"
       ]
      },
      {
       "output_type": "stream",
       "stream": "stdout",
       "text": [
        " 3.00933089963e+13\n",
        "0.5"
       ]
      },
      {
       "output_type": "stream",
       "stream": "stdout",
       "text": [
        " 3.33959184199e+13\n",
        "0.5"
       ]
      },
      {
       "output_type": "stream",
       "stream": "stdout",
       "text": [
        " 3.70609748249e+13\n",
        "0.5"
       ]
      },
      {
       "output_type": "stream",
       "stream": "stdout",
       "text": [
        " 4.11282551868e+13\n",
        "0.5"
       ]
      },
      {
       "output_type": "stream",
       "stream": "stdout",
       "text": [
        " 4.56419018307e+13\n",
        "0.5"
       ]
      },
      {
       "output_type": "stream",
       "stream": "stdout",
       "text": [
        " 5.06509015095e+13\n",
        "0.5"
       ]
      },
      {
       "output_type": "stream",
       "stream": "stdout",
       "text": [
        " 5.62096170586e+13\n",
        "0.5"
       ]
      },
      {
       "output_type": "stream",
       "stream": "stdout",
       "text": [
        " 6.23783773972e+13\n",
        "0.5"
       ]
      },
      {
       "output_type": "stream",
       "stream": "stdout",
       "text": [
        " 6.92241322807e+13\n",
        "0.5"
       ]
      },
      {
       "output_type": "stream",
       "stream": "stdout",
       "text": [
        " 7.68211789079e+13\n",
        "0.5"
       ]
      },
      {
       "output_type": "stream",
       "stream": "stdout",
       "text": [
        " 8.52519682712e+13\n",
        "0.5"
       ]
      },
      {
       "output_type": "stream",
       "stream": "stdout",
       "text": [
        " 9.4608e+13\n",
        "1.16345908439"
       ]
      },
      {
       "output_type": "stream",
       "stream": "stdout",
       "text": [
        " 3153600000.0\n",
        "1.16345908439"
       ]
      },
      {
       "output_type": "stream",
       "stream": "stdout",
       "text": [
        " 3499693846.96\n",
        "1.16345908439"
       ]
      },
      {
       "output_type": "stream",
       "stream": "stdout",
       "text": [
        " 3883769984.29\n",
        "1.16345908439"
       ]
      },
      {
       "output_type": "stream",
       "stream": "stdout",
       "text": [
        " 4309996802.71\n",
        "1.16345908439"
       ]
      },
      {
       "output_type": "stream",
       "stream": "stdout",
       "text": [
        " 4783000155.65\n",
        "1.16345908439"
       ]
      },
      {
       "output_type": "stream",
       "stream": "stdout",
       "text": [
        " 5307913563.78\n",
        "1.16345908439"
       ]
      },
      {
       "output_type": "stream",
       "stream": "stdout",
       "text": [
        " 5890433929.27\n",
        "1.16345908439"
       ]
      },
      {
       "output_type": "stream",
       "stream": "stdout",
       "text": [
        " 6536883364.47\n",
        "1.16345908439"
       ]
      },
      {
       "output_type": "stream",
       "stream": "stdout",
       "text": [
        " 7254277805.98\n",
        "1.16345908439"
       ]
      },
      {
       "output_type": "stream",
       "stream": "stdout",
       "text": [
        " 8050403158.84\n",
        "1.16345908439"
       ]
      },
      {
       "output_type": "stream",
       "stream": "stdout",
       "text": [
        " 8933899797.23\n",
        "1.16345908439"
       ]
      },
      {
       "output_type": "stream",
       "stream": "stdout",
       "text": [
        " 9914356338.7\n",
        "1.16345908439"
       ]
      },
      {
       "output_type": "stream",
       "stream": "stdout",
       "text": [
        " 11002413709.8\n",
        "1.16345908439"
       ]
      },
      {
       "output_type": "stream",
       "stream": "stdout",
       "text": [
        " 12209880632.2\n",
        "1.16345908439"
       ]
      },
      {
       "output_type": "stream",
       "stream": "stdout",
       "text": [
        " 13549861783.6\n",
        "1.16345908439"
       ]
      },
      {
       "output_type": "stream",
       "stream": "stdout",
       "text": [
        " 15036900022.6\n",
        "1.16345908439"
       ]
      },
      {
       "output_type": "stream",
       "stream": "stdout",
       "text": [
        " 16687134223.2\n",
        "1.16345908439"
       ]
      },
      {
       "output_type": "stream",
       "stream": "stdout",
       "text": [
        " 18518474430.6\n",
        "1.16345908439"
       ]
      },
      {
       "output_type": "stream",
       "stream": "stdout",
       "text": [
        " 20550796239.2\n",
        "1.16345908439"
       ]
      },
      {
       "output_type": "stream",
       "stream": "stdout",
       "text": [
        " 22806156503.2\n",
        "1.16345908439"
       ]
      },
      {
       "output_type": "stream",
       "stream": "stdout",
       "text": [
        " 25309032720.4\n",
        "1.16345908439"
       ]
      },
      {
       "output_type": "stream",
       "stream": "stdout",
       "text": [
        " 28086588687.2\n",
        "1.16345908439"
       ]
      },
      {
       "output_type": "stream",
       "stream": "stdout",
       "text": [
        " 31168969308.3\n",
        "1.16345908439"
       ]
      },
      {
       "output_type": "stream",
       "stream": "stdout",
       "text": [
        " 34589627760.2\n",
        "1.16345908439"
       ]
      },
      {
       "output_type": "stream",
       "stream": "stdout",
       "text": [
        " 38385688559.4\n",
        "1.16345908439"
       ]
      },
      {
       "output_type": "stream",
       "stream": "stdout",
       "text": [
        " 42598350476.5\n",
        "1.16345908439"
       ]
      },
      {
       "output_type": "stream",
       "stream": "stdout",
       "text": [
        " 47273333667.3\n",
        "1.16345908439"
       ]
      },
      {
       "output_type": "stream",
       "stream": "stdout",
       "text": [
        " 52461375875.4\n",
        "1.16345908439"
       ]
      },
      {
       "output_type": "stream",
       "stream": "stdout",
       "text": [
        " 58218783090.5\n",
        "1.16345908439"
       ]
      },
      {
       "output_type": "stream",
       "stream": "stdout",
       "text": [
        " 64608040639.1\n",
        "1.16345908439"
       ]
      },
      {
       "output_type": "stream",
       "stream": "stdout",
       "text": [
        " 71698491339.7\n",
        "1.16345908439"
       ]
      },
      {
       "output_type": "stream",
       "stream": "stdout",
       "text": [
        " 79567088082.7\n",
        "1.16345908439"
       ]
      },
      {
       "output_type": "stream",
       "stream": "stdout",
       "text": [
        " 88299229003.0\n",
        "1.16345908439"
       ]
      },
      {
       "output_type": "stream",
       "stream": "stdout",
       "text": [
        " 97989684307.8\n",
        "1.16345908439"
       ]
      },
      {
       "output_type": "stream",
       "stream": "stdout",
       "text": [
        " 108743624822.0\n",
        "1.16345908439"
       ]
      },
      {
       "output_type": "stream",
       "stream": "stdout",
       "text": [
        " 120677763408.0\n",
        "1.16345908439"
       ]
      },
      {
       "output_type": "stream",
       "stream": "stdout",
       "text": [
        " 133921621659.0\n",
        "1.16345908439"
       ]
      },
      {
       "output_type": "stream",
       "stream": "stdout",
       "text": [
        " 148618935596.0\n",
        "1.16345908439"
       ]
      },
      {
       "output_type": "stream",
       "stream": "stdout",
       "text": [
        " 164929215642.0\n",
        "1.16345908439"
       ]
      },
      {
       "output_type": "stream",
       "stream": "stdout",
       "text": [
        " 183029477792.0\n",
        "1.16345908439"
       ]
      },
      {
       "output_type": "stream",
       "stream": "stdout",
       "text": [
        " 203116164777.0\n",
        "1.16345908439"
       ]
      },
      {
       "output_type": "stream",
       "stream": "stdout",
       "text": [
        " 225407278060.0\n",
        "1.16345908439"
       ]
      },
      {
       "output_type": "stream",
       "stream": "stdout",
       "text": [
        " 250144743812.0\n",
        "1.16345908439"
       ]
      },
      {
       "output_type": "stream",
       "stream": "stdout",
       "text": [
        " 277597038549.0\n",
        "1.16345908439"
       ]
      },
      {
       "output_type": "stream",
       "stream": "stdout",
       "text": [
        " 308062102912.0\n",
        "1.16345908439"
       ]
      },
      {
       "output_type": "stream",
       "stream": "stdout",
       "text": [
        " 341870575229.0\n",
        "1.16345908439"
       ]
      },
      {
       "output_type": "stream",
       "stream": "stdout",
       "text": [
        " 379389379943.0\n",
        "1.16345908439"
       ]
      },
      {
       "output_type": "stream",
       "stream": "stdout",
       "text": [
        " 421025709851.0\n",
        "1.16345908439"
       ]
      },
      {
       "output_type": "stream",
       "stream": "stdout",
       "text": [
        " 467231445389.0\n",
        "1.16345908439"
       ]
      },
      {
       "output_type": "stream",
       "stream": "stdout",
       "text": [
        " 518508058896.0\n",
        "1.16345908439"
       ]
      },
      {
       "output_type": "stream",
       "stream": "stdout",
       "text": [
        " 575412057115.0\n",
        "1.16345908439"
       ]
      },
      {
       "output_type": "stream",
       "stream": "stdout",
       "text": [
        " 638561020977.0\n",
        "1.16345908439"
       ]
      },
      {
       "output_type": "stream",
       "stream": "stdout",
       "text": [
        " 708640308226.0\n",
        "1.16345908439"
       ]
      },
      {
       "output_type": "stream",
       "stream": "stdout",
       "text": [
        " 786410491630.0\n",
        "1.16345908439"
       ]
      },
      {
       "output_type": "stream",
       "stream": "stdout",
       "text": [
        " 872715613503.0\n",
        "1.16345908439"
       ]
      },
      {
       "output_type": "stream",
       "stream": "stdout",
       "text": [
        " 968492346119.0\n",
        "1.16345908439"
       ]
      },
      {
       "output_type": "stream",
       "stream": "stdout",
       "text": [
        " 1.07478015745e+12\n",
        "1.16345908439"
       ]
      },
      {
       "output_type": "stream",
       "stream": "stdout",
       "text": [
        " 1.19273259255e+12\n",
        "1.16345908439"
       ]
      },
      {
       "output_type": "stream",
       "stream": "stdout",
       "text": [
        " 1.32362979301e+12\n",
        "1.16345908439"
       ]
      },
      {
       "output_type": "stream",
       "stream": "stdout",
       "text": [
        " 1.46889239036e+12\n",
        "1.16345908439"
       ]
      },
      {
       "output_type": "stream",
       "stream": "stdout",
       "text": [
        " 1.63009692427e+12\n",
        "1.16345908439"
       ]
      },
      {
       "output_type": "stream",
       "stream": "stdout",
       "text": [
        " 1.80899295276e+12\n",
        "1.16345908439"
       ]
      },
      {
       "output_type": "stream",
       "stream": "stdout",
       "text": [
        " 2.0075220402e+12\n",
        "1.16345908439"
       ]
      },
      {
       "output_type": "stream",
       "stream": "stdout",
       "text": [
        " 2.22783882918e+12\n",
        "1.16345908439"
       ]
      },
      {
       "output_type": "stream",
       "stream": "stdout",
       "text": [
        " 2.47233442495e+12\n",
        "1.16345908439"
       ]
      },
      {
       "output_type": "stream",
       "stream": "stdout",
       "text": [
        " 2.74366234609e+12\n",
        "1.16345908439"
       ]
      },
      {
       "output_type": "stream",
       "stream": "stdout",
       "text": [
        " 3.04476732329e+12\n",
        "1.16345908439"
       ]
      },
      {
       "output_type": "stream",
       "stream": "stdout",
       "text": [
        " 3.37891725861e+12\n",
        "1.16345908439"
       ]
      },
      {
       "output_type": "stream",
       "stream": "stdout",
       "text": [
        " 3.74973869208e+12\n",
        "1.16345908439"
       ]
      },
      {
       "output_type": "stream",
       "stream": "stdout",
       "text": [
        " 4.1612561607e+12\n",
        "1.16345908439"
       ]
      },
      {
       "output_type": "stream",
       "stream": "stdout",
       "text": [
        " 4.61793587685e+12\n",
        "1.16345908439"
       ]
      },
      {
       "output_type": "stream",
       "stream": "stdout",
       "text": [
        " 5.12473420023e+12\n",
        "1.16345908439"
       ]
      },
      {
       "output_type": "stream",
       "stream": "stdout",
       "text": [
        " 5.68715142943e+12\n",
        "1.16345908439"
       ]
      },
      {
       "output_type": "stream",
       "stream": "stdout",
       "text": [
        " 6.3112914968e+12\n",
        "1.16345908439"
       ]
      },
      {
       "output_type": "stream",
       "stream": "stdout",
       "text": [
        " 7.00392821465e+12\n",
        "1.16345908439"
       ]
      },
      {
       "output_type": "stream",
       "stream": "stdout",
       "text": [
        " 7.77257879166e+12\n",
        "1.16345908439"
       ]
      },
      {
       "output_type": "stream",
       "stream": "stdout",
       "text": [
        " 8.62558541736e+12\n",
        "1.16345908439"
       ]
      },
      {
       "output_type": "stream",
       "stream": "stdout",
       "text": [
        " 9.57220580022e+12\n",
        "1.16345908439"
       ]
      },
      {
       "output_type": "stream",
       "stream": "stdout",
       "text": [
        " 1.06227136418e+13\n",
        "1.16345908439"
       ]
      },
      {
       "output_type": "stream",
       "stream": "stdout",
       "text": [
        " 1.17885101377e+13\n",
        "1.16345908439"
       ]
      },
      {
       "output_type": "stream",
       "stream": "stdout",
       "text": [
        " 1.30822477149e+13\n",
        "1.16345908439"
       ]
      },
      {
       "output_type": "stream",
       "stream": "stdout",
       "text": [
        " 1.45179673492e+13\n",
        "1.16345908439"
       ]
      },
      {
       "output_type": "stream",
       "stream": "stdout",
       "text": [
        " 1.6111250952e+13\n",
        "1.16345908439"
       ]
      },
      {
       "output_type": "stream",
       "stream": "stdout",
       "text": [
        " 1.78793904819e+13\n",
        "1.16345908439"
       ]
      },
      {
       "output_type": "stream",
       "stream": "stdout",
       "text": [
        " 1.98415756141e+13\n",
        "1.16345908439"
       ]
      },
      {
       "output_type": "stream",
       "stream": "stdout",
       "text": [
        " 2.20191020075e+13\n",
        "1.16345908439"
       ]
      },
      {
       "output_type": "stream",
       "stream": "stdout",
       "text": [
        " 2.44356024262e+13\n",
        "1.16345908439"
       ]
      },
      {
       "output_type": "stream",
       "stream": "stdout",
       "text": [
        " 2.71173032273e+13\n",
        "1.16345908439"
       ]
      },
      {
       "output_type": "stream",
       "stream": "stdout",
       "text": [
        " 3.00933089963e+13\n",
        "1.16345908439"
       ]
      },
      {
       "output_type": "stream",
       "stream": "stdout",
       "text": [
        " 3.33959184199e+13\n",
        "1.16345908439"
       ]
      },
      {
       "output_type": "stream",
       "stream": "stdout",
       "text": [
        " 3.70609748249e+13\n",
        "1.16345908439"
       ]
      },
      {
       "output_type": "stream",
       "stream": "stdout",
       "text": [
        " 4.11282551868e+13\n",
        "1.16345908439"
       ]
      },
      {
       "output_type": "stream",
       "stream": "stdout",
       "text": [
        " 4.56419018307e+13\n",
        "1.16345908439"
       ]
      },
      {
       "output_type": "stream",
       "stream": "stdout",
       "text": [
        " 5.06509015095e+13\n",
        "1.16345908439"
       ]
      },
      {
       "output_type": "stream",
       "stream": "stdout",
       "text": [
        " 5.62096170586e+13\n",
        "1.16345908439"
       ]
      },
      {
       "output_type": "stream",
       "stream": "stdout",
       "text": [
        " 6.23783773972e+13\n",
        "1.16345908439"
       ]
      },
      {
       "output_type": "stream",
       "stream": "stdout",
       "text": [
        " 6.92241322807e+13\n",
        "1.16345908439"
       ]
      },
      {
       "output_type": "stream",
       "stream": "stdout",
       "text": [
        " 7.68211789079e+13\n",
        "1.16345908439"
       ]
      },
      {
       "output_type": "stream",
       "stream": "stdout",
       "text": [
        " 8.52519682712e+13\n",
        "1.16345908439"
       ]
      },
      {
       "output_type": "stream",
       "stream": "stdout",
       "text": [
        " 9.4608e+13\n",
        "2.70727408209"
       ]
      },
      {
       "output_type": "stream",
       "stream": "stdout",
       "text": [
        " 3153600000.0\n",
        "2.70727408209"
       ]
      },
      {
       "output_type": "stream",
       "stream": "stdout",
       "text": [
        " 3499693846.96\n",
        "2.70727408209"
       ]
      },
      {
       "output_type": "stream",
       "stream": "stdout",
       "text": [
        " 3883769984.29\n",
        "2.70727408209"
       ]
      },
      {
       "output_type": "stream",
       "stream": "stdout",
       "text": [
        " 4309996802.71\n",
        "2.70727408209"
       ]
      },
      {
       "output_type": "stream",
       "stream": "stdout",
       "text": [
        " 4783000155.65\n",
        "2.70727408209"
       ]
      },
      {
       "output_type": "stream",
       "stream": "stdout",
       "text": [
        " 5307913563.78\n",
        "2.70727408209"
       ]
      },
      {
       "output_type": "stream",
       "stream": "stdout",
       "text": [
        " 5890433929.27\n",
        "2.70727408209"
       ]
      },
      {
       "output_type": "stream",
       "stream": "stdout",
       "text": [
        " 6536883364.47\n",
        "2.70727408209"
       ]
      },
      {
       "output_type": "stream",
       "stream": "stdout",
       "text": [
        " 7254277805.98\n",
        "2.70727408209"
       ]
      },
      {
       "output_type": "stream",
       "stream": "stdout",
       "text": [
        " 8050403158.84\n",
        "2.70727408209"
       ]
      },
      {
       "output_type": "stream",
       "stream": "stdout",
       "text": [
        " 8933899797.23\n",
        "2.70727408209"
       ]
      },
      {
       "output_type": "stream",
       "stream": "stdout",
       "text": [
        " 9914356338.7\n",
        "2.70727408209"
       ]
      },
      {
       "output_type": "stream",
       "stream": "stdout",
       "text": [
        " 11002413709.8\n",
        "2.70727408209"
       ]
      },
      {
       "output_type": "stream",
       "stream": "stdout",
       "text": [
        " 12209880632.2\n",
        "2.70727408209"
       ]
      },
      {
       "output_type": "stream",
       "stream": "stdout",
       "text": [
        " 13549861783.6\n",
        "2.70727408209"
       ]
      },
      {
       "output_type": "stream",
       "stream": "stdout",
       "text": [
        " 15036900022.6\n",
        "2.70727408209"
       ]
      },
      {
       "output_type": "stream",
       "stream": "stdout",
       "text": [
        " 16687134223.2\n",
        "2.70727408209"
       ]
      },
      {
       "output_type": "stream",
       "stream": "stdout",
       "text": [
        " 18518474430.6\n",
        "2.70727408209"
       ]
      },
      {
       "output_type": "stream",
       "stream": "stdout",
       "text": [
        " 20550796239.2\n",
        "2.70727408209"
       ]
      },
      {
       "output_type": "stream",
       "stream": "stdout",
       "text": [
        " 22806156503.2\n",
        "2.70727408209"
       ]
      },
      {
       "output_type": "stream",
       "stream": "stdout",
       "text": [
        " 25309032720.4\n",
        "2.70727408209"
       ]
      },
      {
       "output_type": "stream",
       "stream": "stdout",
       "text": [
        " 28086588687.2\n",
        "2.70727408209"
       ]
      },
      {
       "output_type": "stream",
       "stream": "stdout",
       "text": [
        " 31168969308.3\n",
        "2.70727408209"
       ]
      },
      {
       "output_type": "stream",
       "stream": "stdout",
       "text": [
        " 34589627760.2\n",
        "2.70727408209"
       ]
      },
      {
       "output_type": "stream",
       "stream": "stdout",
       "text": [
        " 38385688559.4\n",
        "2.70727408209"
       ]
      },
      {
       "output_type": "stream",
       "stream": "stdout",
       "text": [
        " 42598350476.5\n",
        "2.70727408209"
       ]
      },
      {
       "output_type": "stream",
       "stream": "stdout",
       "text": [
        " 47273333667.3\n",
        "2.70727408209"
       ]
      },
      {
       "output_type": "stream",
       "stream": "stdout",
       "text": [
        " 52461375875.4\n",
        "2.70727408209"
       ]
      },
      {
       "output_type": "stream",
       "stream": "stdout",
       "text": [
        " 58218783090.5\n",
        "2.70727408209"
       ]
      },
      {
       "output_type": "stream",
       "stream": "stdout",
       "text": [
        " 64608040639.1\n",
        "2.70727408209"
       ]
      },
      {
       "output_type": "stream",
       "stream": "stdout",
       "text": [
        " 71698491339.7\n",
        "2.70727408209"
       ]
      },
      {
       "output_type": "stream",
       "stream": "stdout",
       "text": [
        " 79567088082.7\n",
        "2.70727408209"
       ]
      },
      {
       "output_type": "stream",
       "stream": "stdout",
       "text": [
        " 88299229003.0\n",
        "2.70727408209"
       ]
      },
      {
       "output_type": "stream",
       "stream": "stdout",
       "text": [
        " 97989684307.8\n",
        "2.70727408209"
       ]
      },
      {
       "output_type": "stream",
       "stream": "stdout",
       "text": [
        " 108743624822.0\n",
        "2.70727408209"
       ]
      },
      {
       "output_type": "stream",
       "stream": "stdout",
       "text": [
        " 120677763408.0\n",
        "2.70727408209"
       ]
      },
      {
       "output_type": "stream",
       "stream": "stdout",
       "text": [
        " 133921621659.0\n",
        "2.70727408209"
       ]
      },
      {
       "output_type": "stream",
       "stream": "stdout",
       "text": [
        " 148618935596.0\n",
        "2.70727408209"
       ]
      },
      {
       "output_type": "stream",
       "stream": "stdout",
       "text": [
        " 164929215642.0\n",
        "2.70727408209"
       ]
      },
      {
       "output_type": "stream",
       "stream": "stdout",
       "text": [
        " 183029477792.0\n",
        "2.70727408209"
       ]
      },
      {
       "output_type": "stream",
       "stream": "stdout",
       "text": [
        " 203116164777.0\n",
        "2.70727408209"
       ]
      },
      {
       "output_type": "stream",
       "stream": "stdout",
       "text": [
        " 225407278060.0\n",
        "2.70727408209"
       ]
      },
      {
       "output_type": "stream",
       "stream": "stdout",
       "text": [
        " 250144743812.0\n",
        "2.70727408209"
       ]
      },
      {
       "output_type": "stream",
       "stream": "stdout",
       "text": [
        " 277597038549.0\n",
        "2.70727408209"
       ]
      },
      {
       "output_type": "stream",
       "stream": "stdout",
       "text": [
        " 308062102912.0\n",
        "2.70727408209"
       ]
      },
      {
       "output_type": "stream",
       "stream": "stdout",
       "text": [
        " 341870575229.0\n",
        "2.70727408209"
       ]
      },
      {
       "output_type": "stream",
       "stream": "stdout",
       "text": [
        " 379389379943.0\n",
        "2.70727408209"
       ]
      },
      {
       "output_type": "stream",
       "stream": "stdout",
       "text": [
        " 421025709851.0\n",
        "2.70727408209"
       ]
      },
      {
       "output_type": "stream",
       "stream": "stdout",
       "text": [
        " 467231445389.0\n",
        "2.70727408209"
       ]
      },
      {
       "output_type": "stream",
       "stream": "stdout",
       "text": [
        " 518508058896.0\n",
        "2.70727408209"
       ]
      },
      {
       "output_type": "stream",
       "stream": "stdout",
       "text": [
        " 575412057115.0\n",
        "2.70727408209"
       ]
      },
      {
       "output_type": "stream",
       "stream": "stdout",
       "text": [
        " 638561020977.0\n",
        "2.70727408209"
       ]
      },
      {
       "output_type": "stream",
       "stream": "stdout",
       "text": [
        " 708640308226.0\n",
        "2.70727408209"
       ]
      },
      {
       "output_type": "stream",
       "stream": "stdout",
       "text": [
        " 786410491630.0\n",
        "2.70727408209"
       ]
      },
      {
       "output_type": "stream",
       "stream": "stdout",
       "text": [
        " 872715613503.0\n",
        "2.70727408209"
       ]
      },
      {
       "output_type": "stream",
       "stream": "stdout",
       "text": [
        " 968492346119.0\n",
        "2.70727408209"
       ]
      },
      {
       "output_type": "stream",
       "stream": "stdout",
       "text": [
        " 1.07478015745e+12\n",
        "2.70727408209"
       ]
      },
      {
       "output_type": "stream",
       "stream": "stdout",
       "text": [
        " 1.19273259255e+12\n",
        "2.70727408209"
       ]
      },
      {
       "output_type": "stream",
       "stream": "stdout",
       "text": [
        " 1.32362979301e+12\n",
        "2.70727408209"
       ]
      },
      {
       "output_type": "stream",
       "stream": "stdout",
       "text": [
        " 1.46889239036e+12\n",
        "2.70727408209"
       ]
      },
      {
       "output_type": "stream",
       "stream": "stdout",
       "text": [
        " 1.63009692427e+12\n",
        "2.70727408209"
       ]
      },
      {
       "output_type": "stream",
       "stream": "stdout",
       "text": [
        " 1.80899295276e+12\n",
        "2.70727408209"
       ]
      },
      {
       "output_type": "stream",
       "stream": "stdout",
       "text": [
        " 2.0075220402e+12\n",
        "2.70727408209"
       ]
      },
      {
       "output_type": "stream",
       "stream": "stdout",
       "text": [
        " 2.22783882918e+12\n",
        "2.70727408209"
       ]
      },
      {
       "output_type": "stream",
       "stream": "stdout",
       "text": [
        " 2.47233442495e+12\n",
        "2.70727408209"
       ]
      },
      {
       "output_type": "stream",
       "stream": "stdout",
       "text": [
        " 2.74366234609e+12\n",
        "2.70727408209"
       ]
      },
      {
       "output_type": "stream",
       "stream": "stdout",
       "text": [
        " 3.04476732329e+12\n",
        "2.70727408209"
       ]
      },
      {
       "output_type": "stream",
       "stream": "stdout",
       "text": [
        " 3.37891725861e+12\n",
        "2.70727408209"
       ]
      },
      {
       "output_type": "stream",
       "stream": "stdout",
       "text": [
        " 3.74973869208e+12\n",
        "2.70727408209"
       ]
      },
      {
       "output_type": "stream",
       "stream": "stdout",
       "text": [
        " 4.1612561607e+12\n",
        "2.70727408209"
       ]
      },
      {
       "output_type": "stream",
       "stream": "stdout",
       "text": [
        " 4.61793587685e+12\n",
        "2.70727408209"
       ]
      },
      {
       "output_type": "stream",
       "stream": "stdout",
       "text": [
        " 5.12473420023e+12\n",
        "2.70727408209"
       ]
      },
      {
       "output_type": "stream",
       "stream": "stdout",
       "text": [
        " 5.68715142943e+12\n",
        "2.70727408209"
       ]
      },
      {
       "output_type": "stream",
       "stream": "stdout",
       "text": [
        " 6.3112914968e+12\n",
        "2.70727408209"
       ]
      },
      {
       "output_type": "stream",
       "stream": "stdout",
       "text": [
        " 7.00392821465e+12\n",
        "2.70727408209"
       ]
      },
      {
       "output_type": "stream",
       "stream": "stdout",
       "text": [
        " 7.77257879166e+12\n",
        "2.70727408209"
       ]
      },
      {
       "output_type": "stream",
       "stream": "stdout",
       "text": [
        " 8.62558541736e+12\n",
        "2.70727408209"
       ]
      },
      {
       "output_type": "stream",
       "stream": "stdout",
       "text": [
        " 9.57220580022e+12\n",
        "2.70727408209"
       ]
      },
      {
       "output_type": "stream",
       "stream": "stdout",
       "text": [
        " 1.06227136418e+13\n",
        "2.70727408209"
       ]
      },
      {
       "output_type": "stream",
       "stream": "stdout",
       "text": [
        " 1.17885101377e+13\n",
        "2.70727408209"
       ]
      },
      {
       "output_type": "stream",
       "stream": "stdout",
       "text": [
        " 1.30822477149e+13\n",
        "2.70727408209"
       ]
      },
      {
       "output_type": "stream",
       "stream": "stdout",
       "text": [
        " 1.45179673492e+13\n",
        "2.70727408209"
       ]
      },
      {
       "output_type": "stream",
       "stream": "stdout",
       "text": [
        " 1.6111250952e+13\n",
        "2.70727408209"
       ]
      },
      {
       "output_type": "stream",
       "stream": "stdout",
       "text": [
        " 1.78793904819e+13\n",
        "2.70727408209"
       ]
      },
      {
       "output_type": "stream",
       "stream": "stdout",
       "text": [
        " 1.98415756141e+13\n",
        "2.70727408209"
       ]
      },
      {
       "output_type": "stream",
       "stream": "stdout",
       "text": [
        " 2.20191020075e+13\n",
        "2.70727408209"
       ]
      },
      {
       "output_type": "stream",
       "stream": "stdout",
       "text": [
        " 2.44356024262e+13\n",
        "2.70727408209"
       ]
      },
      {
       "output_type": "stream",
       "stream": "stdout",
       "text": [
        " 2.71173032273e+13\n",
        "2.70727408209"
       ]
      },
      {
       "output_type": "stream",
       "stream": "stdout",
       "text": [
        " 3.00933089963e+13\n",
        "2.70727408209"
       ]
      },
      {
       "output_type": "stream",
       "stream": "stdout",
       "text": [
        " 3.33959184199e+13\n",
        "2.70727408209"
       ]
      },
      {
       "output_type": "stream",
       "stream": "stdout",
       "text": [
        " 3.70609748249e+13\n",
        "2.70727408209"
       ]
      },
      {
       "output_type": "stream",
       "stream": "stdout",
       "text": [
        " 4.11282551868e+13\n",
        "2.70727408209"
       ]
      },
      {
       "output_type": "stream",
       "stream": "stdout",
       "text": [
        " 4.56419018307e+13\n",
        "2.70727408209"
       ]
      },
      {
       "output_type": "stream",
       "stream": "stdout",
       "text": [
        " 5.06509015095e+13\n",
        "2.70727408209"
       ]
      },
      {
       "output_type": "stream",
       "stream": "stdout",
       "text": [
        " 5.62096170586e+13\n",
        "2.70727408209"
       ]
      },
      {
       "output_type": "stream",
       "stream": "stdout",
       "text": [
        " 6.23783773972e+13\n",
        "2.70727408209"
       ]
      },
      {
       "output_type": "stream",
       "stream": "stdout",
       "text": [
        " 6.92241322807e+13\n",
        "2.70727408209"
       ]
      },
      {
       "output_type": "stream",
       "stream": "stdout",
       "text": [
        " 7.68211789079e+13\n",
        "2.70727408209"
       ]
      },
      {
       "output_type": "stream",
       "stream": "stdout",
       "text": [
        " 8.52519682712e+13\n",
        "2.70727408209"
       ]
      },
      {
       "output_type": "stream",
       "stream": "stdout",
       "text": [
        " 9.4608e+13\n",
        "6.29960524947"
       ]
      },
      {
       "output_type": "stream",
       "stream": "stdout",
       "text": [
        " 3153600000.0\n",
        "6.29960524947"
       ]
      },
      {
       "output_type": "stream",
       "stream": "stdout",
       "text": [
        " 3499693846.96\n",
        "6.29960524947"
       ]
      },
      {
       "output_type": "stream",
       "stream": "stdout",
       "text": [
        " 3883769984.29\n",
        "6.29960524947"
       ]
      },
      {
       "output_type": "stream",
       "stream": "stdout",
       "text": [
        " 4309996802.71\n",
        "6.29960524947"
       ]
      },
      {
       "output_type": "stream",
       "stream": "stdout",
       "text": [
        " 4783000155.65\n",
        "6.29960524947"
       ]
      },
      {
       "output_type": "stream",
       "stream": "stdout",
       "text": [
        " 5307913563.78\n",
        "6.29960524947"
       ]
      },
      {
       "output_type": "stream",
       "stream": "stdout",
       "text": [
        " 5890433929.27\n",
        "6.29960524947"
       ]
      },
      {
       "output_type": "stream",
       "stream": "stdout",
       "text": [
        " 6536883364.47\n",
        "6.29960524947"
       ]
      },
      {
       "output_type": "stream",
       "stream": "stdout",
       "text": [
        " 7254277805.98\n",
        "6.29960524947"
       ]
      },
      {
       "output_type": "stream",
       "stream": "stdout",
       "text": [
        " 8050403158.84\n",
        "6.29960524947"
       ]
      },
      {
       "output_type": "stream",
       "stream": "stdout",
       "text": [
        " 8933899797.23\n",
        "6.29960524947"
       ]
      },
      {
       "output_type": "stream",
       "stream": "stdout",
       "text": [
        " 9914356338.7\n",
        "6.29960524947"
       ]
      },
      {
       "output_type": "stream",
       "stream": "stdout",
       "text": [
        " 11002413709.8\n",
        "6.29960524947"
       ]
      },
      {
       "output_type": "stream",
       "stream": "stdout",
       "text": [
        " 12209880632.2\n",
        "6.29960524947"
       ]
      },
      {
       "output_type": "stream",
       "stream": "stdout",
       "text": [
        " 13549861783.6\n",
        "6.29960524947"
       ]
      },
      {
       "output_type": "stream",
       "stream": "stdout",
       "text": [
        " 15036900022.6\n",
        "6.29960524947"
       ]
      },
      {
       "output_type": "stream",
       "stream": "stdout",
       "text": [
        " 16687134223.2\n",
        "6.29960524947"
       ]
      },
      {
       "output_type": "stream",
       "stream": "stdout",
       "text": [
        " 18518474430.6\n",
        "6.29960524947"
       ]
      },
      {
       "output_type": "stream",
       "stream": "stdout",
       "text": [
        " 20550796239.2\n",
        "6.29960524947"
       ]
      },
      {
       "output_type": "stream",
       "stream": "stdout",
       "text": [
        " 22806156503.2\n",
        "6.29960524947"
       ]
      },
      {
       "output_type": "stream",
       "stream": "stdout",
       "text": [
        " 25309032720.4\n",
        "6.29960524947"
       ]
      },
      {
       "output_type": "stream",
       "stream": "stdout",
       "text": [
        " 28086588687.2\n",
        "6.29960524947"
       ]
      },
      {
       "output_type": "stream",
       "stream": "stdout",
       "text": [
        " 31168969308.3\n",
        "6.29960524947"
       ]
      },
      {
       "output_type": "stream",
       "stream": "stdout",
       "text": [
        " 34589627760.2\n",
        "6.29960524947"
       ]
      },
      {
       "output_type": "stream",
       "stream": "stdout",
       "text": [
        " 38385688559.4\n",
        "6.29960524947"
       ]
      },
      {
       "output_type": "stream",
       "stream": "stdout",
       "text": [
        " 42598350476.5\n",
        "6.29960524947"
       ]
      },
      {
       "output_type": "stream",
       "stream": "stdout",
       "text": [
        " 47273333667.3\n",
        "6.29960524947"
       ]
      },
      {
       "output_type": "stream",
       "stream": "stdout",
       "text": [
        " 52461375875.4\n",
        "6.29960524947"
       ]
      },
      {
       "output_type": "stream",
       "stream": "stdout",
       "text": [
        " 58218783090.5\n",
        "6.29960524947"
       ]
      },
      {
       "output_type": "stream",
       "stream": "stdout",
       "text": [
        " 64608040639.1\n",
        "6.29960524947"
       ]
      },
      {
       "output_type": "stream",
       "stream": "stdout",
       "text": [
        " 71698491339.7\n",
        "6.29960524947"
       ]
      },
      {
       "output_type": "stream",
       "stream": "stdout",
       "text": [
        " 79567088082.7\n",
        "6.29960524947"
       ]
      },
      {
       "output_type": "stream",
       "stream": "stdout",
       "text": [
        " 88299229003.0\n",
        "6.29960524947"
       ]
      },
      {
       "output_type": "stream",
       "stream": "stdout",
       "text": [
        " 97989684307.8\n",
        "6.29960524947"
       ]
      },
      {
       "output_type": "stream",
       "stream": "stdout",
       "text": [
        " 108743624822.0\n",
        "6.29960524947"
       ]
      },
      {
       "output_type": "stream",
       "stream": "stdout",
       "text": [
        " 120677763408.0\n",
        "6.29960524947"
       ]
      },
      {
       "output_type": "stream",
       "stream": "stdout",
       "text": [
        " 133921621659.0\n",
        "6.29960524947"
       ]
      },
      {
       "output_type": "stream",
       "stream": "stdout",
       "text": [
        " 148618935596.0\n",
        "6.29960524947"
       ]
      },
      {
       "output_type": "stream",
       "stream": "stdout",
       "text": [
        " 164929215642.0\n",
        "6.29960524947"
       ]
      },
      {
       "output_type": "stream",
       "stream": "stdout",
       "text": [
        " 183029477792.0\n",
        "6.29960524947"
       ]
      },
      {
       "output_type": "stream",
       "stream": "stdout",
       "text": [
        " 203116164777.0\n",
        "6.29960524947"
       ]
      },
      {
       "output_type": "stream",
       "stream": "stdout",
       "text": [
        " 225407278060.0\n",
        "6.29960524947"
       ]
      },
      {
       "output_type": "stream",
       "stream": "stdout",
       "text": [
        " 250144743812.0\n",
        "6.29960524947"
       ]
      },
      {
       "output_type": "stream",
       "stream": "stdout",
       "text": [
        " 277597038549.0\n",
        "6.29960524947"
       ]
      },
      {
       "output_type": "stream",
       "stream": "stdout",
       "text": [
        " 308062102912.0\n",
        "6.29960524947"
       ]
      },
      {
       "output_type": "stream",
       "stream": "stdout",
       "text": [
        " 341870575229.0\n",
        "6.29960524947"
       ]
      },
      {
       "output_type": "stream",
       "stream": "stdout",
       "text": [
        " 379389379943.0\n",
        "6.29960524947"
       ]
      },
      {
       "output_type": "stream",
       "stream": "stdout",
       "text": [
        " 421025709851.0\n",
        "6.29960524947"
       ]
      },
      {
       "output_type": "stream",
       "stream": "stdout",
       "text": [
        " 467231445389.0\n",
        "6.29960524947"
       ]
      },
      {
       "output_type": "stream",
       "stream": "stdout",
       "text": [
        " 518508058896.0\n",
        "6.29960524947"
       ]
      },
      {
       "output_type": "stream",
       "stream": "stdout",
       "text": [
        " 575412057115.0\n",
        "6.29960524947"
       ]
      },
      {
       "output_type": "stream",
       "stream": "stdout",
       "text": [
        " 638561020977.0\n",
        "6.29960524947"
       ]
      },
      {
       "output_type": "stream",
       "stream": "stdout",
       "text": [
        " 708640308226.0\n",
        "6.29960524947"
       ]
      },
      {
       "output_type": "stream",
       "stream": "stdout",
       "text": [
        " 786410491630.0\n",
        "6.29960524947"
       ]
      },
      {
       "output_type": "stream",
       "stream": "stdout",
       "text": [
        " 872715613503.0\n",
        "6.29960524947"
       ]
      },
      {
       "output_type": "stream",
       "stream": "stdout",
       "text": [
        " 968492346119.0\n",
        "6.29960524947"
       ]
      },
      {
       "output_type": "stream",
       "stream": "stdout",
       "text": [
        " 1.07478015745e+12\n",
        "6.29960524947"
       ]
      },
      {
       "output_type": "stream",
       "stream": "stdout",
       "text": [
        " 1.19273259255e+12\n",
        "6.29960524947"
       ]
      },
      {
       "output_type": "stream",
       "stream": "stdout",
       "text": [
        " 1.32362979301e+12\n",
        "6.29960524947"
       ]
      },
      {
       "output_type": "stream",
       "stream": "stdout",
       "text": [
        " 1.46889239036e+12\n",
        "6.29960524947"
       ]
      },
      {
       "output_type": "stream",
       "stream": "stdout",
       "text": [
        " 1.63009692427e+12\n",
        "6.29960524947"
       ]
      },
      {
       "output_type": "stream",
       "stream": "stdout",
       "text": [
        " 1.80899295276e+12\n",
        "6.29960524947"
       ]
      },
      {
       "output_type": "stream",
       "stream": "stdout",
       "text": [
        " 2.0075220402e+12\n",
        "6.29960524947"
       ]
      },
      {
       "output_type": "stream",
       "stream": "stdout",
       "text": [
        " 2.22783882918e+12\n",
        "6.29960524947"
       ]
      },
      {
       "output_type": "stream",
       "stream": "stdout",
       "text": [
        " 2.47233442495e+12\n",
        "6.29960524947"
       ]
      },
      {
       "output_type": "stream",
       "stream": "stdout",
       "text": [
        " 2.74366234609e+12\n",
        "6.29960524947"
       ]
      },
      {
       "output_type": "stream",
       "stream": "stdout",
       "text": [
        " 3.04476732329e+12\n",
        "6.29960524947"
       ]
      },
      {
       "output_type": "stream",
       "stream": "stdout",
       "text": [
        " 3.37891725861e+12\n",
        "6.29960524947"
       ]
      },
      {
       "output_type": "stream",
       "stream": "stdout",
       "text": [
        " 3.74973869208e+12\n",
        "6.29960524947"
       ]
      },
      {
       "output_type": "stream",
       "stream": "stdout",
       "text": [
        " 4.1612561607e+12\n",
        "6.29960524947"
       ]
      },
      {
       "output_type": "stream",
       "stream": "stdout",
       "text": [
        " 4.61793587685e+12\n",
        "6.29960524947"
       ]
      },
      {
       "output_type": "stream",
       "stream": "stdout",
       "text": [
        " 5.12473420023e+12\n",
        "6.29960524947"
       ]
      },
      {
       "output_type": "stream",
       "stream": "stdout",
       "text": [
        " 5.68715142943e+12\n",
        "6.29960524947"
       ]
      },
      {
       "output_type": "stream",
       "stream": "stdout",
       "text": [
        " 6.3112914968e+12\n",
        "6.29960524947"
       ]
      },
      {
       "output_type": "stream",
       "stream": "stdout",
       "text": [
        " 7.00392821465e+12\n",
        "6.29960524947"
       ]
      },
      {
       "output_type": "stream",
       "stream": "stdout",
       "text": [
        " 7.77257879166e+12\n",
        "6.29960524947"
       ]
      },
      {
       "output_type": "stream",
       "stream": "stdout",
       "text": [
        " 8.62558541736e+12\n",
        "6.29960524947"
       ]
      },
      {
       "output_type": "stream",
       "stream": "stdout",
       "text": [
        " 9.57220580022e+12\n",
        "6.29960524947"
       ]
      },
      {
       "output_type": "stream",
       "stream": "stdout",
       "text": [
        " 1.06227136418e+13\n",
        "6.29960524947"
       ]
      },
      {
       "output_type": "stream",
       "stream": "stdout",
       "text": [
        " 1.17885101377e+13\n",
        "6.29960524947"
       ]
      },
      {
       "output_type": "stream",
       "stream": "stdout",
       "text": [
        " 1.30822477149e+13\n",
        "6.29960524947"
       ]
      },
      {
       "output_type": "stream",
       "stream": "stdout",
       "text": [
        " 1.45179673492e+13\n",
        "6.29960524947"
       ]
      },
      {
       "output_type": "stream",
       "stream": "stdout",
       "text": [
        " 1.6111250952e+13\n",
        "6.29960524947"
       ]
      },
      {
       "output_type": "stream",
       "stream": "stdout",
       "text": [
        " 1.78793904819e+13\n",
        "6.29960524947"
       ]
      },
      {
       "output_type": "stream",
       "stream": "stdout",
       "text": [
        " 1.98415756141e+13\n",
        "6.29960524947"
       ]
      },
      {
       "output_type": "stream",
       "stream": "stdout",
       "text": [
        " 2.20191020075e+13\n",
        "6.29960524947"
       ]
      },
      {
       "output_type": "stream",
       "stream": "stdout",
       "text": [
        " 2.44356024262e+13\n",
        "6.29960524947"
       ]
      },
      {
       "output_type": "stream",
       "stream": "stdout",
       "text": [
        " 2.71173032273e+13\n",
        "6.29960524947"
       ]
      },
      {
       "output_type": "stream",
       "stream": "stdout",
       "text": [
        " 3.00933089963e+13\n",
        "6.29960524947"
       ]
      },
      {
       "output_type": "stream",
       "stream": "stdout",
       "text": [
        " 3.33959184199e+13\n",
        "6.29960524947"
       ]
      },
      {
       "output_type": "stream",
       "stream": "stdout",
       "text": [
        " 3.70609748249e+13\n",
        "6.29960524947"
       ]
      },
      {
       "output_type": "stream",
       "stream": "stdout",
       "text": [
        " 4.11282551868e+13\n",
        "6.29960524947"
       ]
      },
      {
       "output_type": "stream",
       "stream": "stdout",
       "text": [
        " 4.56419018307e+13\n",
        "6.29960524947"
       ]
      },
      {
       "output_type": "stream",
       "stream": "stdout",
       "text": [
        " 5.06509015095e+13\n",
        "6.29960524947"
       ]
      },
      {
       "output_type": "stream",
       "stream": "stdout",
       "text": [
        " 5.62096170586e+13\n",
        "6.29960524947"
       ]
      },
      {
       "output_type": "stream",
       "stream": "stdout",
       "text": [
        " 6.23783773972e+13\n",
        "6.29960524947"
       ]
      },
      {
       "output_type": "stream",
       "stream": "stdout",
       "text": [
        " 6.92241322807e+13\n",
        "6.29960524947"
       ]
      },
      {
       "output_type": "stream",
       "stream": "stdout",
       "text": [
        " 7.68211789079e+13\n",
        "6.29960524947"
       ]
      },
      {
       "output_type": "stream",
       "stream": "stdout",
       "text": [
        " 8.52519682712e+13\n",
        "6.29960524947"
       ]
      },
      {
       "output_type": "stream",
       "stream": "stdout",
       "text": [
        " 9.4608e+13\n",
        "14.6586659111"
       ]
      },
      {
       "output_type": "stream",
       "stream": "stdout",
       "text": [
        " 3153600000.0\n",
        "14.6586659111"
       ]
      },
      {
       "output_type": "stream",
       "stream": "stdout",
       "text": [
        " 3499693846.96\n",
        "14.6586659111"
       ]
      },
      {
       "output_type": "stream",
       "stream": "stdout",
       "text": [
        " 3883769984.29\n",
        "14.6586659111"
       ]
      },
      {
       "output_type": "stream",
       "stream": "stdout",
       "text": [
        " 4309996802.71\n",
        "14.6586659111"
       ]
      },
      {
       "output_type": "stream",
       "stream": "stdout",
       "text": [
        " 4783000155.65\n",
        "14.6586659111"
       ]
      },
      {
       "output_type": "stream",
       "stream": "stdout",
       "text": [
        " 5307913563.78\n",
        "14.6586659111"
       ]
      },
      {
       "output_type": "stream",
       "stream": "stdout",
       "text": [
        " 5890433929.27\n",
        "14.6586659111"
       ]
      },
      {
       "output_type": "stream",
       "stream": "stdout",
       "text": [
        " 6536883364.47\n",
        "14.6586659111"
       ]
      },
      {
       "output_type": "stream",
       "stream": "stdout",
       "text": [
        " 7254277805.98\n",
        "14.6586659111"
       ]
      },
      {
       "output_type": "stream",
       "stream": "stdout",
       "text": [
        " 8050403158.84\n",
        "14.6586659111"
       ]
      },
      {
       "output_type": "stream",
       "stream": "stdout",
       "text": [
        " 8933899797.23\n",
        "14.6586659111"
       ]
      },
      {
       "output_type": "stream",
       "stream": "stdout",
       "text": [
        " 9914356338.7\n",
        "14.6586659111"
       ]
      },
      {
       "output_type": "stream",
       "stream": "stdout",
       "text": [
        " 11002413709.8\n",
        "14.6586659111"
       ]
      },
      {
       "output_type": "stream",
       "stream": "stdout",
       "text": [
        " 12209880632.2\n",
        "14.6586659111"
       ]
      },
      {
       "output_type": "stream",
       "stream": "stdout",
       "text": [
        " 13549861783.6\n",
        "14.6586659111"
       ]
      },
      {
       "output_type": "stream",
       "stream": "stdout",
       "text": [
        " 15036900022.6\n",
        "14.6586659111"
       ]
      },
      {
       "output_type": "stream",
       "stream": "stdout",
       "text": [
        " 16687134223.2\n",
        "14.6586659111"
       ]
      },
      {
       "output_type": "stream",
       "stream": "stdout",
       "text": [
        " 18518474430.6\n",
        "14.6586659111"
       ]
      },
      {
       "output_type": "stream",
       "stream": "stdout",
       "text": [
        " 20550796239.2\n",
        "14.6586659111"
       ]
      },
      {
       "output_type": "stream",
       "stream": "stdout",
       "text": [
        " 22806156503.2\n",
        "14.6586659111"
       ]
      },
      {
       "output_type": "stream",
       "stream": "stdout",
       "text": [
        " 25309032720.4\n",
        "14.6586659111"
       ]
      },
      {
       "output_type": "stream",
       "stream": "stdout",
       "text": [
        " 28086588687.2\n",
        "14.6586659111"
       ]
      },
      {
       "output_type": "stream",
       "stream": "stdout",
       "text": [
        " 31168969308.3\n",
        "14.6586659111"
       ]
      },
      {
       "output_type": "stream",
       "stream": "stdout",
       "text": [
        " 34589627760.2\n",
        "14.6586659111"
       ]
      },
      {
       "output_type": "stream",
       "stream": "stdout",
       "text": [
        " 38385688559.4\n",
        "14.6586659111"
       ]
      },
      {
       "output_type": "stream",
       "stream": "stdout",
       "text": [
        " 42598350476.5\n",
        "14.6586659111"
       ]
      },
      {
       "output_type": "stream",
       "stream": "stdout",
       "text": [
        " 47273333667.3\n",
        "14.6586659111"
       ]
      },
      {
       "output_type": "stream",
       "stream": "stdout",
       "text": [
        " 52461375875.4\n",
        "14.6586659111"
       ]
      },
      {
       "output_type": "stream",
       "stream": "stdout",
       "text": [
        " 58218783090.5\n",
        "14.6586659111"
       ]
      },
      {
       "output_type": "stream",
       "stream": "stdout",
       "text": [
        " 64608040639.1\n",
        "14.6586659111"
       ]
      },
      {
       "output_type": "stream",
       "stream": "stdout",
       "text": [
        " 71698491339.7\n",
        "14.6586659111"
       ]
      },
      {
       "output_type": "stream",
       "stream": "stdout",
       "text": [
        " 79567088082.7\n",
        "14.6586659111"
       ]
      },
      {
       "output_type": "stream",
       "stream": "stdout",
       "text": [
        " 88299229003.0\n",
        "14.6586659111"
       ]
      },
      {
       "output_type": "stream",
       "stream": "stdout",
       "text": [
        " 97989684307.8\n",
        "14.6586659111"
       ]
      },
      {
       "output_type": "stream",
       "stream": "stdout",
       "text": [
        " 108743624822.0\n",
        "14.6586659111"
       ]
      },
      {
       "output_type": "stream",
       "stream": "stdout",
       "text": [
        " 120677763408.0\n",
        "14.6586659111"
       ]
      },
      {
       "output_type": "stream",
       "stream": "stdout",
       "text": [
        " 133921621659.0\n",
        "14.6586659111"
       ]
      },
      {
       "output_type": "stream",
       "stream": "stdout",
       "text": [
        " 148618935596.0\n",
        "14.6586659111"
       ]
      },
      {
       "output_type": "stream",
       "stream": "stdout",
       "text": [
        " 164929215642.0\n",
        "14.6586659111"
       ]
      },
      {
       "output_type": "stream",
       "stream": "stdout",
       "text": [
        " 183029477792.0\n",
        "14.6586659111"
       ]
      },
      {
       "output_type": "stream",
       "stream": "stdout",
       "text": [
        " 203116164777.0\n",
        "14.6586659111"
       ]
      },
      {
       "output_type": "stream",
       "stream": "stdout",
       "text": [
        " 225407278060.0\n",
        "14.6586659111"
       ]
      },
      {
       "output_type": "stream",
       "stream": "stdout",
       "text": [
        " 250144743812.0\n",
        "14.6586659111"
       ]
      },
      {
       "output_type": "stream",
       "stream": "stdout",
       "text": [
        " 277597038549.0\n",
        "14.6586659111"
       ]
      },
      {
       "output_type": "stream",
       "stream": "stdout",
       "text": [
        " 308062102912.0\n",
        "14.6586659111"
       ]
      },
      {
       "output_type": "stream",
       "stream": "stdout",
       "text": [
        " 341870575229.0\n",
        "14.6586659111"
       ]
      },
      {
       "output_type": "stream",
       "stream": "stdout",
       "text": [
        " 379389379943.0\n",
        "14.6586659111"
       ]
      },
      {
       "output_type": "stream",
       "stream": "stdout",
       "text": [
        " 421025709851.0\n",
        "14.6586659111"
       ]
      },
      {
       "output_type": "stream",
       "stream": "stdout",
       "text": [
        " 467231445389.0\n",
        "14.6586659111"
       ]
      },
      {
       "output_type": "stream",
       "stream": "stdout",
       "text": [
        " 518508058896.0\n",
        "14.6586659111"
       ]
      },
      {
       "output_type": "stream",
       "stream": "stdout",
       "text": [
        " 575412057115.0\n",
        "14.6586659111"
       ]
      },
      {
       "output_type": "stream",
       "stream": "stdout",
       "text": [
        " 638561020977.0\n",
        "14.6586659111"
       ]
      },
      {
       "output_type": "stream",
       "stream": "stdout",
       "text": [
        " 708640308226.0\n",
        "14.6586659111"
       ]
      },
      {
       "output_type": "stream",
       "stream": "stdout",
       "text": [
        " 786410491630.0\n",
        "14.6586659111"
       ]
      },
      {
       "output_type": "stream",
       "stream": "stdout",
       "text": [
        " 872715613503.0\n",
        "14.6586659111"
       ]
      },
      {
       "output_type": "stream",
       "stream": "stdout",
       "text": [
        " 968492346119.0\n",
        "14.6586659111"
       ]
      },
      {
       "output_type": "stream",
       "stream": "stdout",
       "text": [
        " 1.07478015745e+12\n",
        "14.6586659111"
       ]
      },
      {
       "output_type": "stream",
       "stream": "stdout",
       "text": [
        " 1.19273259255e+12\n",
        "14.6586659111"
       ]
      },
      {
       "output_type": "stream",
       "stream": "stdout",
       "text": [
        " 1.32362979301e+12\n",
        "14.6586659111"
       ]
      },
      {
       "output_type": "stream",
       "stream": "stdout",
       "text": [
        " 1.46889239036e+12\n",
        "14.6586659111"
       ]
      },
      {
       "output_type": "stream",
       "stream": "stdout",
       "text": [
        " 1.63009692427e+12\n",
        "14.6586659111"
       ]
      },
      {
       "output_type": "stream",
       "stream": "stdout",
       "text": [
        " 1.80899295276e+12\n",
        "14.6586659111"
       ]
      },
      {
       "output_type": "stream",
       "stream": "stdout",
       "text": [
        " 2.0075220402e+12\n",
        "14.6586659111"
       ]
      },
      {
       "output_type": "stream",
       "stream": "stdout",
       "text": [
        " 2.22783882918e+12\n",
        "14.6586659111"
       ]
      },
      {
       "output_type": "stream",
       "stream": "stdout",
       "text": [
        " 2.47233442495e+12\n",
        "14.6586659111"
       ]
      },
      {
       "output_type": "stream",
       "stream": "stdout",
       "text": [
        " 2.74366234609e+12\n",
        "14.6586659111"
       ]
      },
      {
       "output_type": "stream",
       "stream": "stdout",
       "text": [
        " 3.04476732329e+12\n",
        "14.6586659111"
       ]
      },
      {
       "output_type": "stream",
       "stream": "stdout",
       "text": [
        " 3.37891725861e+12\n",
        "14.6586659111"
       ]
      },
      {
       "output_type": "stream",
       "stream": "stdout",
       "text": [
        " 3.74973869208e+12\n",
        "14.6586659111"
       ]
      },
      {
       "output_type": "stream",
       "stream": "stdout",
       "text": [
        " 4.1612561607e+12\n",
        "14.6586659111"
       ]
      },
      {
       "output_type": "stream",
       "stream": "stdout",
       "text": [
        " 4.61793587685e+12\n",
        "14.6586659111"
       ]
      },
      {
       "output_type": "stream",
       "stream": "stdout",
       "text": [
        " 5.12473420023e+12\n",
        "14.6586659111"
       ]
      },
      {
       "output_type": "stream",
       "stream": "stdout",
       "text": [
        " 5.68715142943e+12\n",
        "14.6586659111"
       ]
      },
      {
       "output_type": "stream",
       "stream": "stdout",
       "text": [
        " 6.3112914968e+12\n",
        "14.6586659111"
       ]
      },
      {
       "output_type": "stream",
       "stream": "stdout",
       "text": [
        " 7.00392821465e+12\n",
        "14.6586659111"
       ]
      },
      {
       "output_type": "stream",
       "stream": "stdout",
       "text": [
        " 7.77257879166e+12\n",
        "14.6586659111"
       ]
      },
      {
       "output_type": "stream",
       "stream": "stdout",
       "text": [
        " 8.62558541736e+12\n",
        "14.6586659111"
       ]
      },
      {
       "output_type": "stream",
       "stream": "stdout",
       "text": [
        " 9.57220580022e+12\n",
        "14.6586659111"
       ]
      },
      {
       "output_type": "stream",
       "stream": "stdout",
       "text": [
        " 1.06227136418e+13\n",
        "14.6586659111"
       ]
      },
      {
       "output_type": "stream",
       "stream": "stdout",
       "text": [
        " 1.17885101377e+13\n",
        "14.6586659111"
       ]
      },
      {
       "output_type": "stream",
       "stream": "stdout",
       "text": [
        " 1.30822477149e+13\n",
        "14.6586659111"
       ]
      },
      {
       "output_type": "stream",
       "stream": "stdout",
       "text": [
        " 1.45179673492e+13\n",
        "14.6586659111"
       ]
      },
      {
       "output_type": "stream",
       "stream": "stdout",
       "text": [
        " 1.6111250952e+13\n",
        "14.6586659111"
       ]
      },
      {
       "output_type": "stream",
       "stream": "stdout",
       "text": [
        " 1.78793904819e+13\n",
        "14.6586659111"
       ]
      },
      {
       "output_type": "stream",
       "stream": "stdout",
       "text": [
        " 1.98415756141e+13\n",
        "14.6586659111"
       ]
      },
      {
       "output_type": "stream",
       "stream": "stdout",
       "text": [
        " 2.20191020075e+13\n",
        "14.6586659111"
       ]
      },
      {
       "output_type": "stream",
       "stream": "stdout",
       "text": [
        " 2.44356024262e+13\n",
        "14.6586659111"
       ]
      },
      {
       "output_type": "stream",
       "stream": "stdout",
       "text": [
        " 2.71173032273e+13\n",
        "14.6586659111"
       ]
      },
      {
       "output_type": "stream",
       "stream": "stdout",
       "text": [
        " 3.00933089963e+13\n",
        "14.6586659111"
       ]
      },
      {
       "output_type": "stream",
       "stream": "stdout",
       "text": [
        " 3.33959184199e+13\n",
        "14.6586659111"
       ]
      },
      {
       "output_type": "stream",
       "stream": "stdout",
       "text": [
        " 3.70609748249e+13\n",
        "14.6586659111"
       ]
      },
      {
       "output_type": "stream",
       "stream": "stdout",
       "text": [
        " 4.11282551868e+13\n",
        "14.6586659111"
       ]
      },
      {
       "output_type": "stream",
       "stream": "stdout",
       "text": [
        " 4.56419018307e+13\n",
        "14.6586659111"
       ]
      },
      {
       "output_type": "stream",
       "stream": "stdout",
       "text": [
        " 5.06509015095e+13\n",
        "14.6586659111"
       ]
      },
      {
       "output_type": "stream",
       "stream": "stdout",
       "text": [
        " 5.62096170586e+13\n",
        "14.6586659111"
       ]
      },
      {
       "output_type": "stream",
       "stream": "stdout",
       "text": [
        " 6.23783773972e+13\n",
        "14.6586659111"
       ]
      },
      {
       "output_type": "stream",
       "stream": "stdout",
       "text": [
        " 6.92241322807e+13\n",
        "14.6586659111"
       ]
      },
      {
       "output_type": "stream",
       "stream": "stdout",
       "text": [
        " 7.68211789079e+13\n",
        "14.6586659111"
       ]
      },
      {
       "output_type": "stream",
       "stream": "stdout",
       "text": [
        " 8.52519682712e+13\n",
        "14.6586659111"
       ]
      },
      {
       "output_type": "stream",
       "stream": "stdout",
       "text": [
        " 9.4608e+13\n",
        "34.1095160386"
       ]
      },
      {
       "output_type": "stream",
       "stream": "stdout",
       "text": [
        " 3153600000.0\n",
        "34.1095160386"
       ]
      },
      {
       "output_type": "stream",
       "stream": "stdout",
       "text": [
        " 3499693846.96\n",
        "34.1095160386"
       ]
      },
      {
       "output_type": "stream",
       "stream": "stdout",
       "text": [
        " 3883769984.29\n",
        "34.1095160386"
       ]
      },
      {
       "output_type": "stream",
       "stream": "stdout",
       "text": [
        " 4309996802.71\n",
        "34.1095160386"
       ]
      },
      {
       "output_type": "stream",
       "stream": "stdout",
       "text": [
        " 4783000155.65\n",
        "34.1095160386"
       ]
      },
      {
       "output_type": "stream",
       "stream": "stdout",
       "text": [
        " 5307913563.78\n",
        "34.1095160386"
       ]
      },
      {
       "output_type": "stream",
       "stream": "stdout",
       "text": [
        " 5890433929.27\n",
        "34.1095160386"
       ]
      },
      {
       "output_type": "stream",
       "stream": "stdout",
       "text": [
        " 6536883364.47\n",
        "34.1095160386"
       ]
      },
      {
       "output_type": "stream",
       "stream": "stdout",
       "text": [
        " 7254277805.98\n",
        "34.1095160386"
       ]
      },
      {
       "output_type": "stream",
       "stream": "stdout",
       "text": [
        " 8050403158.84\n",
        "34.1095160386"
       ]
      },
      {
       "output_type": "stream",
       "stream": "stdout",
       "text": [
        " 8933899797.23\n",
        "34.1095160386"
       ]
      },
      {
       "output_type": "stream",
       "stream": "stdout",
       "text": [
        " 9914356338.7\n",
        "34.1095160386"
       ]
      },
      {
       "output_type": "stream",
       "stream": "stdout",
       "text": [
        " 11002413709.8\n",
        "34.1095160386"
       ]
      },
      {
       "output_type": "stream",
       "stream": "stdout",
       "text": [
        " 12209880632.2\n",
        "34.1095160386"
       ]
      },
      {
       "output_type": "stream",
       "stream": "stdout",
       "text": [
        " 13549861783.6\n",
        "34.1095160386"
       ]
      },
      {
       "output_type": "stream",
       "stream": "stdout",
       "text": [
        " 15036900022.6\n",
        "34.1095160386"
       ]
      },
      {
       "output_type": "stream",
       "stream": "stdout",
       "text": [
        " 16687134223.2\n",
        "34.1095160386"
       ]
      },
      {
       "output_type": "stream",
       "stream": "stdout",
       "text": [
        " 18518474430.6\n",
        "34.1095160386"
       ]
      },
      {
       "output_type": "stream",
       "stream": "stdout",
       "text": [
        " 20550796239.2\n",
        "34.1095160386"
       ]
      },
      {
       "output_type": "stream",
       "stream": "stdout",
       "text": [
        " 22806156503.2\n",
        "34.1095160386"
       ]
      },
      {
       "output_type": "stream",
       "stream": "stdout",
       "text": [
        " 25309032720.4\n",
        "34.1095160386"
       ]
      },
      {
       "output_type": "stream",
       "stream": "stdout",
       "text": [
        " 28086588687.2\n",
        "34.1095160386"
       ]
      },
      {
       "output_type": "stream",
       "stream": "stdout",
       "text": [
        " 31168969308.3\n",
        "34.1095160386"
       ]
      },
      {
       "output_type": "stream",
       "stream": "stdout",
       "text": [
        " 34589627760.2\n",
        "34.1095160386"
       ]
      },
      {
       "output_type": "stream",
       "stream": "stdout",
       "text": [
        " 38385688559.4\n",
        "34.1095160386"
       ]
      },
      {
       "output_type": "stream",
       "stream": "stdout",
       "text": [
        " 42598350476.5\n",
        "34.1095160386"
       ]
      },
      {
       "output_type": "stream",
       "stream": "stdout",
       "text": [
        " 47273333667.3\n",
        "34.1095160386"
       ]
      },
      {
       "output_type": "stream",
       "stream": "stdout",
       "text": [
        " 52461375875.4\n",
        "34.1095160386"
       ]
      },
      {
       "output_type": "stream",
       "stream": "stdout",
       "text": [
        " 58218783090.5\n",
        "34.1095160386"
       ]
      },
      {
       "output_type": "stream",
       "stream": "stdout",
       "text": [
        " 64608040639.1\n",
        "34.1095160386"
       ]
      },
      {
       "output_type": "stream",
       "stream": "stdout",
       "text": [
        " 71698491339.7\n",
        "34.1095160386"
       ]
      },
      {
       "output_type": "stream",
       "stream": "stdout",
       "text": [
        " 79567088082.7\n",
        "34.1095160386"
       ]
      },
      {
       "output_type": "stream",
       "stream": "stdout",
       "text": [
        " 88299229003.0\n",
        "34.1095160386"
       ]
      },
      {
       "output_type": "stream",
       "stream": "stdout",
       "text": [
        " 97989684307.8\n",
        "34.1095160386"
       ]
      },
      {
       "output_type": "stream",
       "stream": "stdout",
       "text": [
        " 108743624822.0\n",
        "34.1095160386"
       ]
      },
      {
       "output_type": "stream",
       "stream": "stdout",
       "text": [
        " 120677763408.0\n",
        "34.1095160386"
       ]
      },
      {
       "output_type": "stream",
       "stream": "stdout",
       "text": [
        " 133921621659.0\n",
        "34.1095160386"
       ]
      },
      {
       "output_type": "stream",
       "stream": "stdout",
       "text": [
        " 148618935596.0\n",
        "34.1095160386"
       ]
      },
      {
       "output_type": "stream",
       "stream": "stdout",
       "text": [
        " 164929215642.0\n",
        "34.1095160386"
       ]
      },
      {
       "output_type": "stream",
       "stream": "stdout",
       "text": [
        " 183029477792.0\n",
        "34.1095160386"
       ]
      },
      {
       "output_type": "stream",
       "stream": "stdout",
       "text": [
        " 203116164777.0\n",
        "34.1095160386"
       ]
      },
      {
       "output_type": "stream",
       "stream": "stdout",
       "text": [
        " 225407278060.0\n",
        "34.1095160386"
       ]
      },
      {
       "output_type": "stream",
       "stream": "stdout",
       "text": [
        " 250144743812.0\n",
        "34.1095160386"
       ]
      },
      {
       "output_type": "stream",
       "stream": "stdout",
       "text": [
        " 277597038549.0\n",
        "34.1095160386"
       ]
      },
      {
       "output_type": "stream",
       "stream": "stdout",
       "text": [
        " 308062102912.0\n",
        "34.1095160386"
       ]
      },
      {
       "output_type": "stream",
       "stream": "stdout",
       "text": [
        " 341870575229.0\n",
        "34.1095160386"
       ]
      },
      {
       "output_type": "stream",
       "stream": "stdout",
       "text": [
        " 379389379943.0\n",
        "34.1095160386"
       ]
      },
      {
       "output_type": "stream",
       "stream": "stdout",
       "text": [
        " 421025709851.0\n",
        "34.1095160386"
       ]
      },
      {
       "output_type": "stream",
       "stream": "stdout",
       "text": [
        " 467231445389.0\n",
        "34.1095160386"
       ]
      },
      {
       "output_type": "stream",
       "stream": "stdout",
       "text": [
        " 518508058896.0\n",
        "34.1095160386"
       ]
      },
      {
       "output_type": "stream",
       "stream": "stdout",
       "text": [
        " 575412057115.0\n",
        "34.1095160386"
       ]
      },
      {
       "output_type": "stream",
       "stream": "stdout",
       "text": [
        " 638561020977.0\n",
        "34.1095160386"
       ]
      },
      {
       "output_type": "stream",
       "stream": "stdout",
       "text": [
        " 708640308226.0\n",
        "34.1095160386"
       ]
      },
      {
       "output_type": "stream",
       "stream": "stdout",
       "text": [
        " 786410491630.0\n",
        "34.1095160386"
       ]
      },
      {
       "output_type": "stream",
       "stream": "stdout",
       "text": [
        " 872715613503.0\n",
        "34.1095160386"
       ]
      },
      {
       "output_type": "stream",
       "stream": "stdout",
       "text": [
        " 968492346119.0\n",
        "34.1095160386"
       ]
      },
      {
       "output_type": "stream",
       "stream": "stdout",
       "text": [
        " 1.07478015745e+12\n",
        "34.1095160386"
       ]
      },
      {
       "output_type": "stream",
       "stream": "stdout",
       "text": [
        " 1.19273259255e+12\n",
        "34.1095160386"
       ]
      },
      {
       "output_type": "stream",
       "stream": "stdout",
       "text": [
        " 1.32362979301e+12\n",
        "34.1095160386"
       ]
      },
      {
       "output_type": "stream",
       "stream": "stdout",
       "text": [
        " 1.46889239036e+12\n",
        "34.1095160386"
       ]
      },
      {
       "output_type": "stream",
       "stream": "stdout",
       "text": [
        " 1.63009692427e+12\n",
        "34.1095160386"
       ]
      },
      {
       "output_type": "stream",
       "stream": "stdout",
       "text": [
        " 1.80899295276e+12\n",
        "34.1095160386"
       ]
      },
      {
       "output_type": "stream",
       "stream": "stdout",
       "text": [
        " 2.0075220402e+12\n",
        "34.1095160386"
       ]
      },
      {
       "output_type": "stream",
       "stream": "stdout",
       "text": [
        " 2.22783882918e+12\n",
        "34.1095160386"
       ]
      },
      {
       "output_type": "stream",
       "stream": "stdout",
       "text": [
        " 2.47233442495e+12\n",
        "34.1095160386"
       ]
      },
      {
       "output_type": "stream",
       "stream": "stdout",
       "text": [
        " 2.74366234609e+12\n",
        "34.1095160386"
       ]
      },
      {
       "output_type": "stream",
       "stream": "stdout",
       "text": [
        " 3.04476732329e+12\n",
        "34.1095160386"
       ]
      },
      {
       "output_type": "stream",
       "stream": "stdout",
       "text": [
        " 3.37891725861e+12\n",
        "34.1095160386"
       ]
      },
      {
       "output_type": "stream",
       "stream": "stdout",
       "text": [
        " 3.74973869208e+12\n",
        "34.1095160386"
       ]
      },
      {
       "output_type": "stream",
       "stream": "stdout",
       "text": [
        " 4.1612561607e+12\n",
        "34.1095160386"
       ]
      },
      {
       "output_type": "stream",
       "stream": "stdout",
       "text": [
        " 4.61793587685e+12\n",
        "34.1095160386"
       ]
      },
      {
       "output_type": "stream",
       "stream": "stdout",
       "text": [
        " 5.12473420023e+12\n",
        "34.1095160386"
       ]
      },
      {
       "output_type": "stream",
       "stream": "stdout",
       "text": [
        " 5.68715142943e+12\n",
        "34.1095160386"
       ]
      },
      {
       "output_type": "stream",
       "stream": "stdout",
       "text": [
        " 6.3112914968e+12\n",
        "34.1095160386"
       ]
      },
      {
       "output_type": "stream",
       "stream": "stdout",
       "text": [
        " 7.00392821465e+12\n",
        "34.1095160386"
       ]
      },
      {
       "output_type": "stream",
       "stream": "stdout",
       "text": [
        " 7.77257879166e+12\n",
        "34.1095160386"
       ]
      },
      {
       "output_type": "stream",
       "stream": "stdout",
       "text": [
        " 8.62558541736e+12\n",
        "34.1095160386"
       ]
      },
      {
       "output_type": "stream",
       "stream": "stdout",
       "text": [
        " 9.57220580022e+12\n",
        "34.1095160386"
       ]
      },
      {
       "output_type": "stream",
       "stream": "stdout",
       "text": [
        " 1.06227136418e+13\n",
        "34.1095160386"
       ]
      },
      {
       "output_type": "stream",
       "stream": "stdout",
       "text": [
        " 1.17885101377e+13\n",
        "34.1095160386"
       ]
      },
      {
       "output_type": "stream",
       "stream": "stdout",
       "text": [
        " 1.30822477149e+13\n",
        "34.1095160386"
       ]
      },
      {
       "output_type": "stream",
       "stream": "stdout",
       "text": [
        " 1.45179673492e+13\n",
        "34.1095160386"
       ]
      },
      {
       "output_type": "stream",
       "stream": "stdout",
       "text": [
        " 1.6111250952e+13\n",
        "34.1095160386"
       ]
      },
      {
       "output_type": "stream",
       "stream": "stdout",
       "text": [
        " 1.78793904819e+13\n",
        "34.1095160386"
       ]
      },
      {
       "output_type": "stream",
       "stream": "stdout",
       "text": [
        " 1.98415756141e+13\n",
        "34.1095160386"
       ]
      },
      {
       "output_type": "stream",
       "stream": "stdout",
       "text": [
        " 2.20191020075e+13\n",
        "34.1095160386"
       ]
      },
      {
       "output_type": "stream",
       "stream": "stdout",
       "text": [
        " 2.44356024262e+13\n",
        "34.1095160386"
       ]
      },
      {
       "output_type": "stream",
       "stream": "stdout",
       "text": [
        " 2.71173032273e+13\n",
        "34.1095160386"
       ]
      },
      {
       "output_type": "stream",
       "stream": "stdout",
       "text": [
        " 3.00933089963e+13\n",
        "34.1095160386"
       ]
      },
      {
       "output_type": "stream",
       "stream": "stdout",
       "text": [
        " 3.33959184199e+13\n",
        "34.1095160386"
       ]
      },
      {
       "output_type": "stream",
       "stream": "stdout",
       "text": [
        " 3.70609748249e+13\n",
        "34.1095160386"
       ]
      },
      {
       "output_type": "stream",
       "stream": "stdout",
       "text": [
        " 4.11282551868e+13\n",
        "34.1095160386"
       ]
      },
      {
       "output_type": "stream",
       "stream": "stdout",
       "text": [
        " 4.56419018307e+13\n",
        "34.1095160386"
       ]
      },
      {
       "output_type": "stream",
       "stream": "stdout",
       "text": [
        " 5.06509015095e+13\n",
        "34.1095160386"
       ]
      },
      {
       "output_type": "stream",
       "stream": "stdout",
       "text": [
        " 5.62096170586e+13\n",
        "34.1095160386"
       ]
      },
      {
       "output_type": "stream",
       "stream": "stdout",
       "text": [
        " 6.23783773972e+13\n",
        "34.1095160386"
       ]
      },
      {
       "output_type": "stream",
       "stream": "stdout",
       "text": [
        " 6.92241322807e+13\n",
        "34.1095160386"
       ]
      },
      {
       "output_type": "stream",
       "stream": "stdout",
       "text": [
        " 7.68211789079e+13\n",
        "34.1095160386"
       ]
      },
      {
       "output_type": "stream",
       "stream": "stdout",
       "text": [
        " 8.52519682712e+13\n",
        "34.1095160386"
       ]
      },
      {
       "output_type": "stream",
       "stream": "stdout",
       "text": [
        " 9.4608e+13\n",
        "79.3700525984"
       ]
      },
      {
       "output_type": "stream",
       "stream": "stdout",
       "text": [
        " 3153600000.0\n",
        "79.3700525984"
       ]
      },
      {
       "output_type": "stream",
       "stream": "stdout",
       "text": [
        " 3499693846.96\n",
        "79.3700525984"
       ]
      },
      {
       "output_type": "stream",
       "stream": "stdout",
       "text": [
        " 3883769984.29\n",
        "79.3700525984"
       ]
      },
      {
       "output_type": "stream",
       "stream": "stdout",
       "text": [
        " 4309996802.71\n",
        "79.3700525984"
       ]
      },
      {
       "output_type": "stream",
       "stream": "stdout",
       "text": [
        " 4783000155.65\n",
        "79.3700525984"
       ]
      },
      {
       "output_type": "stream",
       "stream": "stdout",
       "text": [
        " 5307913563.78\n",
        "79.3700525984"
       ]
      },
      {
       "output_type": "stream",
       "stream": "stdout",
       "text": [
        " 5890433929.27\n",
        "79.3700525984"
       ]
      },
      {
       "output_type": "stream",
       "stream": "stdout",
       "text": [
        " 6536883364.47\n",
        "79.3700525984"
       ]
      },
      {
       "output_type": "stream",
       "stream": "stdout",
       "text": [
        " 7254277805.98\n",
        "79.3700525984"
       ]
      },
      {
       "output_type": "stream",
       "stream": "stdout",
       "text": [
        " 8050403158.84\n",
        "79.3700525984"
       ]
      },
      {
       "output_type": "stream",
       "stream": "stdout",
       "text": [
        " 8933899797.23\n",
        "79.3700525984"
       ]
      },
      {
       "output_type": "stream",
       "stream": "stdout",
       "text": [
        " 9914356338.7\n",
        "79.3700525984"
       ]
      },
      {
       "output_type": "stream",
       "stream": "stdout",
       "text": [
        " 11002413709.8\n",
        "79.3700525984"
       ]
      },
      {
       "output_type": "stream",
       "stream": "stdout",
       "text": [
        " 12209880632.2\n",
        "79.3700525984"
       ]
      },
      {
       "output_type": "stream",
       "stream": "stdout",
       "text": [
        " 13549861783.6\n",
        "79.3700525984"
       ]
      },
      {
       "output_type": "stream",
       "stream": "stdout",
       "text": [
        " 15036900022.6\n",
        "79.3700525984"
       ]
      },
      {
       "output_type": "stream",
       "stream": "stdout",
       "text": [
        " 16687134223.2\n",
        "79.3700525984"
       ]
      },
      {
       "output_type": "stream",
       "stream": "stdout",
       "text": [
        " 18518474430.6\n",
        "79.3700525984"
       ]
      },
      {
       "output_type": "stream",
       "stream": "stdout",
       "text": [
        " 20550796239.2\n",
        "79.3700525984"
       ]
      },
      {
       "output_type": "stream",
       "stream": "stdout",
       "text": [
        " 22806156503.2\n",
        "79.3700525984"
       ]
      },
      {
       "output_type": "stream",
       "stream": "stdout",
       "text": [
        " 25309032720.4\n",
        "79.3700525984"
       ]
      },
      {
       "output_type": "stream",
       "stream": "stdout",
       "text": [
        " 28086588687.2\n",
        "79.3700525984"
       ]
      },
      {
       "output_type": "stream",
       "stream": "stdout",
       "text": [
        " 31168969308.3\n",
        "79.3700525984"
       ]
      },
      {
       "output_type": "stream",
       "stream": "stdout",
       "text": [
        " 34589627760.2\n",
        "79.3700525984"
       ]
      },
      {
       "output_type": "stream",
       "stream": "stdout",
       "text": [
        " 38385688559.4\n",
        "79.3700525984"
       ]
      },
      {
       "output_type": "stream",
       "stream": "stdout",
       "text": [
        " 42598350476.5\n",
        "79.3700525984"
       ]
      },
      {
       "output_type": "stream",
       "stream": "stdout",
       "text": [
        " 47273333667.3\n",
        "79.3700525984"
       ]
      },
      {
       "output_type": "stream",
       "stream": "stdout",
       "text": [
        " 52461375875.4\n",
        "79.3700525984"
       ]
      },
      {
       "output_type": "stream",
       "stream": "stdout",
       "text": [
        " 58218783090.5\n",
        "79.3700525984"
       ]
      },
      {
       "output_type": "stream",
       "stream": "stdout",
       "text": [
        " 64608040639.1\n",
        "79.3700525984"
       ]
      },
      {
       "output_type": "stream",
       "stream": "stdout",
       "text": [
        " 71698491339.7\n",
        "79.3700525984"
       ]
      },
      {
       "output_type": "stream",
       "stream": "stdout",
       "text": [
        " 79567088082.7\n",
        "79.3700525984"
       ]
      },
      {
       "output_type": "stream",
       "stream": "stdout",
       "text": [
        " 88299229003.0\n",
        "79.3700525984"
       ]
      },
      {
       "output_type": "stream",
       "stream": "stdout",
       "text": [
        " 97989684307.8\n",
        "79.3700525984"
       ]
      },
      {
       "output_type": "stream",
       "stream": "stdout",
       "text": [
        " 108743624822.0\n",
        "79.3700525984"
       ]
      },
      {
       "output_type": "stream",
       "stream": "stdout",
       "text": [
        " 120677763408.0\n",
        "79.3700525984"
       ]
      },
      {
       "output_type": "stream",
       "stream": "stdout",
       "text": [
        " 133921621659.0\n",
        "79.3700525984"
       ]
      },
      {
       "output_type": "stream",
       "stream": "stdout",
       "text": [
        " 148618935596.0\n",
        "79.3700525984"
       ]
      },
      {
       "output_type": "stream",
       "stream": "stdout",
       "text": [
        " 164929215642.0\n",
        "79.3700525984"
       ]
      },
      {
       "output_type": "stream",
       "stream": "stdout",
       "text": [
        " 183029477792.0\n",
        "79.3700525984"
       ]
      },
      {
       "output_type": "stream",
       "stream": "stdout",
       "text": [
        " 203116164777.0\n",
        "79.3700525984"
       ]
      },
      {
       "output_type": "stream",
       "stream": "stdout",
       "text": [
        " 225407278060.0\n",
        "79.3700525984"
       ]
      },
      {
       "output_type": "stream",
       "stream": "stdout",
       "text": [
        " 250144743812.0\n",
        "79.3700525984"
       ]
      },
      {
       "output_type": "stream",
       "stream": "stdout",
       "text": [
        " 277597038549.0\n",
        "79.3700525984"
       ]
      },
      {
       "output_type": "stream",
       "stream": "stdout",
       "text": [
        " 308062102912.0\n",
        "79.3700525984"
       ]
      },
      {
       "output_type": "stream",
       "stream": "stdout",
       "text": [
        " 341870575229.0\n",
        "79.3700525984"
       ]
      },
      {
       "output_type": "stream",
       "stream": "stdout",
       "text": [
        " 379389379943.0\n",
        "79.3700525984"
       ]
      },
      {
       "output_type": "stream",
       "stream": "stdout",
       "text": [
        " 421025709851.0\n",
        "79.3700525984"
       ]
      },
      {
       "output_type": "stream",
       "stream": "stdout",
       "text": [
        " 467231445389.0\n",
        "79.3700525984"
       ]
      },
      {
       "output_type": "stream",
       "stream": "stdout",
       "text": [
        " 518508058896.0\n",
        "79.3700525984"
       ]
      },
      {
       "output_type": "stream",
       "stream": "stdout",
       "text": [
        " 575412057115.0\n",
        "79.3700525984"
       ]
      },
      {
       "output_type": "stream",
       "stream": "stdout",
       "text": [
        " 638561020977.0\n",
        "79.3700525984"
       ]
      },
      {
       "output_type": "stream",
       "stream": "stdout",
       "text": [
        " 708640308226.0\n",
        "79.3700525984"
       ]
      },
      {
       "output_type": "stream",
       "stream": "stdout",
       "text": [
        " 786410491630.0\n",
        "79.3700525984"
       ]
      },
      {
       "output_type": "stream",
       "stream": "stdout",
       "text": [
        " 872715613503.0\n",
        "79.3700525984"
       ]
      },
      {
       "output_type": "stream",
       "stream": "stdout",
       "text": [
        " 968492346119.0\n",
        "79.3700525984"
       ]
      },
      {
       "output_type": "stream",
       "stream": "stdout",
       "text": [
        " 1.07478015745e+12\n",
        "79.3700525984"
       ]
      },
      {
       "output_type": "stream",
       "stream": "stdout",
       "text": [
        " 1.19273259255e+12\n",
        "79.3700525984"
       ]
      },
      {
       "output_type": "stream",
       "stream": "stdout",
       "text": [
        " 1.32362979301e+12\n",
        "79.3700525984"
       ]
      },
      {
       "output_type": "stream",
       "stream": "stdout",
       "text": [
        " 1.46889239036e+12\n",
        "79.3700525984"
       ]
      },
      {
       "output_type": "stream",
       "stream": "stdout",
       "text": [
        " 1.63009692427e+12\n",
        "79.3700525984"
       ]
      },
      {
       "output_type": "stream",
       "stream": "stdout",
       "text": [
        " 1.80899295276e+12\n",
        "79.3700525984"
       ]
      },
      {
       "output_type": "stream",
       "stream": "stdout",
       "text": [
        " 2.0075220402e+12\n",
        "79.3700525984"
       ]
      },
      {
       "output_type": "stream",
       "stream": "stdout",
       "text": [
        " 2.22783882918e+12\n",
        "79.3700525984"
       ]
      },
      {
       "output_type": "stream",
       "stream": "stdout",
       "text": [
        " 2.47233442495e+12\n",
        "79.3700525984"
       ]
      },
      {
       "output_type": "stream",
       "stream": "stdout",
       "text": [
        " 2.74366234609e+12\n",
        "79.3700525984"
       ]
      },
      {
       "output_type": "stream",
       "stream": "stdout",
       "text": [
        " 3.04476732329e+12\n",
        "79.3700525984"
       ]
      },
      {
       "output_type": "stream",
       "stream": "stdout",
       "text": [
        " 3.37891725861e+12\n",
        "79.3700525984"
       ]
      },
      {
       "output_type": "stream",
       "stream": "stdout",
       "text": [
        " 3.74973869208e+12\n",
        "79.3700525984"
       ]
      },
      {
       "output_type": "stream",
       "stream": "stdout",
       "text": [
        " 4.1612561607e+12\n",
        "79.3700525984"
       ]
      },
      {
       "output_type": "stream",
       "stream": "stdout",
       "text": [
        " 4.61793587685e+12\n",
        "79.3700525984"
       ]
      },
      {
       "output_type": "stream",
       "stream": "stdout",
       "text": [
        " 5.12473420023e+12\n",
        "79.3700525984"
       ]
      },
      {
       "output_type": "stream",
       "stream": "stdout",
       "text": [
        " 5.68715142943e+12\n",
        "79.3700525984"
       ]
      },
      {
       "output_type": "stream",
       "stream": "stdout",
       "text": [
        " 6.3112914968e+12\n",
        "79.3700525984"
       ]
      },
      {
       "output_type": "stream",
       "stream": "stdout",
       "text": [
        " 7.00392821465e+12\n",
        "79.3700525984"
       ]
      },
      {
       "output_type": "stream",
       "stream": "stdout",
       "text": [
        " 7.77257879166e+12\n",
        "79.3700525984"
       ]
      },
      {
       "output_type": "stream",
       "stream": "stdout",
       "text": [
        " 8.62558541736e+12\n",
        "79.3700525984"
       ]
      },
      {
       "output_type": "stream",
       "stream": "stdout",
       "text": [
        " 9.57220580022e+12\n",
        "79.3700525984"
       ]
      },
      {
       "output_type": "stream",
       "stream": "stdout",
       "text": [
        " 1.06227136418e+13\n",
        "79.3700525984"
       ]
      },
      {
       "output_type": "stream",
       "stream": "stdout",
       "text": [
        " 1.17885101377e+13\n",
        "79.3700525984"
       ]
      },
      {
       "output_type": "stream",
       "stream": "stdout",
       "text": [
        " 1.30822477149e+13\n",
        "79.3700525984"
       ]
      },
      {
       "output_type": "stream",
       "stream": "stdout",
       "text": [
        " 1.45179673492e+13\n",
        "79.3700525984"
       ]
      },
      {
       "output_type": "stream",
       "stream": "stdout",
       "text": [
        " 1.6111250952e+13\n",
        "79.3700525984"
       ]
      },
      {
       "output_type": "stream",
       "stream": "stdout",
       "text": [
        " 1.78793904819e+13\n",
        "79.3700525984"
       ]
      },
      {
       "output_type": "stream",
       "stream": "stdout",
       "text": [
        " 1.98415756141e+13\n",
        "79.3700525984"
       ]
      },
      {
       "output_type": "stream",
       "stream": "stdout",
       "text": [
        " 2.20191020075e+13\n",
        "79.3700525984"
       ]
      },
      {
       "output_type": "stream",
       "stream": "stdout",
       "text": [
        " 2.44356024262e+13\n",
        "79.3700525984"
       ]
      },
      {
       "output_type": "stream",
       "stream": "stdout",
       "text": [
        " 2.71173032273e+13\n",
        "79.3700525984"
       ]
      },
      {
       "output_type": "stream",
       "stream": "stdout",
       "text": [
        " 3.00933089963e+13\n",
        "79.3700525984"
       ]
      },
      {
       "output_type": "stream",
       "stream": "stdout",
       "text": [
        " 3.33959184199e+13\n",
        "79.3700525984"
       ]
      },
      {
       "output_type": "stream",
       "stream": "stdout",
       "text": [
        " 3.70609748249e+13\n",
        "79.3700525984"
       ]
      },
      {
       "output_type": "stream",
       "stream": "stdout",
       "text": [
        " 4.11282551868e+13\n",
        "79.3700525984"
       ]
      },
      {
       "output_type": "stream",
       "stream": "stdout",
       "text": [
        " 4.56419018307e+13\n",
        "79.3700525984"
       ]
      },
      {
       "output_type": "stream",
       "stream": "stdout",
       "text": [
        " 5.06509015095e+13\n",
        "79.3700525984"
       ]
      },
      {
       "output_type": "stream",
       "stream": "stdout",
       "text": [
        " 5.62096170586e+13\n",
        "79.3700525984"
       ]
      },
      {
       "output_type": "stream",
       "stream": "stdout",
       "text": [
        " 6.23783773972e+13\n",
        "79.3700525984"
       ]
      },
      {
       "output_type": "stream",
       "stream": "stdout",
       "text": [
        " 6.92241322807e+13\n",
        "79.3700525984"
       ]
      },
      {
       "output_type": "stream",
       "stream": "stdout",
       "text": [
        " 7.68211789079e+13\n",
        "79.3700525984"
       ]
      },
      {
       "output_type": "stream",
       "stream": "stdout",
       "text": [
        " 8.52519682712e+13\n",
        "79.3700525984"
       ]
      },
      {
       "output_type": "stream",
       "stream": "stdout",
       "text": [
        " 9.4608e+13\n",
        "184.687617448"
       ]
      },
      {
       "output_type": "stream",
       "stream": "stdout",
       "text": [
        " 3153600000.0\n",
        "184.687617448"
       ]
      },
      {
       "output_type": "stream",
       "stream": "stdout",
       "text": [
        " 3499693846.96\n",
        "184.687617448"
       ]
      },
      {
       "output_type": "stream",
       "stream": "stdout",
       "text": [
        " 3883769984.29\n",
        "184.687617448"
       ]
      },
      {
       "output_type": "stream",
       "stream": "stdout",
       "text": [
        " 4309996802.71\n",
        "184.687617448"
       ]
      },
      {
       "output_type": "stream",
       "stream": "stdout",
       "text": [
        " 4783000155.65\n",
        "184.687617448"
       ]
      },
      {
       "output_type": "stream",
       "stream": "stdout",
       "text": [
        " 5307913563.78\n",
        "184.687617448"
       ]
      },
      {
       "output_type": "stream",
       "stream": "stdout",
       "text": [
        " 5890433929.27\n",
        "184.687617448"
       ]
      },
      {
       "output_type": "stream",
       "stream": "stdout",
       "text": [
        " 6536883364.47\n",
        "184.687617448"
       ]
      },
      {
       "output_type": "stream",
       "stream": "stdout",
       "text": [
        " 7254277805.98\n",
        "184.687617448"
       ]
      },
      {
       "output_type": "stream",
       "stream": "stdout",
       "text": [
        " 8050403158.84\n",
        "184.687617448"
       ]
      },
      {
       "output_type": "stream",
       "stream": "stdout",
       "text": [
        " 8933899797.23\n",
        "184.687617448"
       ]
      },
      {
       "output_type": "stream",
       "stream": "stdout",
       "text": [
        " 9914356338.7\n",
        "184.687617448"
       ]
      },
      {
       "output_type": "stream",
       "stream": "stdout",
       "text": [
        " 11002413709.8\n",
        "184.687617448"
       ]
      },
      {
       "output_type": "stream",
       "stream": "stdout",
       "text": [
        " 12209880632.2\n",
        "184.687617448"
       ]
      },
      {
       "output_type": "stream",
       "stream": "stdout",
       "text": [
        " 13549861783.6\n",
        "184.687617448"
       ]
      },
      {
       "output_type": "stream",
       "stream": "stdout",
       "text": [
        " 15036900022.6\n",
        "184.687617448"
       ]
      },
      {
       "output_type": "stream",
       "stream": "stdout",
       "text": [
        " 16687134223.2\n",
        "184.687617448"
       ]
      },
      {
       "output_type": "stream",
       "stream": "stdout",
       "text": [
        " 18518474430.6\n",
        "184.687617448"
       ]
      },
      {
       "output_type": "stream",
       "stream": "stdout",
       "text": [
        " 20550796239.2\n",
        "184.687617448"
       ]
      },
      {
       "output_type": "stream",
       "stream": "stdout",
       "text": [
        " 22806156503.2\n",
        "184.687617448"
       ]
      },
      {
       "output_type": "stream",
       "stream": "stdout",
       "text": [
        " 25309032720.4\n",
        "184.687617448"
       ]
      },
      {
       "output_type": "stream",
       "stream": "stdout",
       "text": [
        " 28086588687.2\n",
        "184.687617448"
       ]
      },
      {
       "output_type": "stream",
       "stream": "stdout",
       "text": [
        " 31168969308.3\n",
        "184.687617448"
       ]
      },
      {
       "output_type": "stream",
       "stream": "stdout",
       "text": [
        " 34589627760.2\n",
        "184.687617448"
       ]
      },
      {
       "output_type": "stream",
       "stream": "stdout",
       "text": [
        " 38385688559.4\n",
        "184.687617448"
       ]
      },
      {
       "output_type": "stream",
       "stream": "stdout",
       "text": [
        " 42598350476.5\n",
        "184.687617448"
       ]
      },
      {
       "output_type": "stream",
       "stream": "stdout",
       "text": [
        " 47273333667.3\n",
        "184.687617448"
       ]
      },
      {
       "output_type": "stream",
       "stream": "stdout",
       "text": [
        " 52461375875.4\n",
        "184.687617448"
       ]
      },
      {
       "output_type": "stream",
       "stream": "stdout",
       "text": [
        " 58218783090.5\n",
        "184.687617448"
       ]
      },
      {
       "output_type": "stream",
       "stream": "stdout",
       "text": [
        " 64608040639.1\n",
        "184.687617448"
       ]
      },
      {
       "output_type": "stream",
       "stream": "stdout",
       "text": [
        " 71698491339.7\n",
        "184.687617448"
       ]
      },
      {
       "output_type": "stream",
       "stream": "stdout",
       "text": [
        " 79567088082.7\n",
        "184.687617448"
       ]
      },
      {
       "output_type": "stream",
       "stream": "stdout",
       "text": [
        " 88299229003.0\n",
        "184.687617448"
       ]
      },
      {
       "output_type": "stream",
       "stream": "stdout",
       "text": [
        " 97989684307.8\n",
        "184.687617448"
       ]
      },
      {
       "output_type": "stream",
       "stream": "stdout",
       "text": [
        " 108743624822.0\n",
        "184.687617448"
       ]
      },
      {
       "output_type": "stream",
       "stream": "stdout",
       "text": [
        " 120677763408.0\n",
        "184.687617448"
       ]
      },
      {
       "output_type": "stream",
       "stream": "stdout",
       "text": [
        " 133921621659.0\n",
        "184.687617448"
       ]
      },
      {
       "output_type": "stream",
       "stream": "stdout",
       "text": [
        " 148618935596.0\n",
        "184.687617448"
       ]
      },
      {
       "output_type": "stream",
       "stream": "stdout",
       "text": [
        " 164929215642.0\n",
        "184.687617448"
       ]
      },
      {
       "output_type": "stream",
       "stream": "stdout",
       "text": [
        " 183029477792.0\n",
        "184.687617448"
       ]
      },
      {
       "output_type": "stream",
       "stream": "stdout",
       "text": [
        " 203116164777.0\n",
        "184.687617448"
       ]
      },
      {
       "output_type": "stream",
       "stream": "stdout",
       "text": [
        " 225407278060.0\n",
        "184.687617448"
       ]
      },
      {
       "output_type": "stream",
       "stream": "stdout",
       "text": [
        " 250144743812.0\n",
        "184.687617448"
       ]
      },
      {
       "output_type": "stream",
       "stream": "stdout",
       "text": [
        " 277597038549.0\n",
        "184.687617448"
       ]
      },
      {
       "output_type": "stream",
       "stream": "stdout",
       "text": [
        " 308062102912.0\n",
        "184.687617448"
       ]
      },
      {
       "output_type": "stream",
       "stream": "stdout",
       "text": [
        " 341870575229.0\n",
        "184.687617448"
       ]
      },
      {
       "output_type": "stream",
       "stream": "stdout",
       "text": [
        " 379389379943.0\n",
        "184.687617448"
       ]
      },
      {
       "output_type": "stream",
       "stream": "stdout",
       "text": [
        " 421025709851.0\n",
        "184.687617448"
       ]
      },
      {
       "output_type": "stream",
       "stream": "stdout",
       "text": [
        " 467231445389.0\n",
        "184.687617448"
       ]
      },
      {
       "output_type": "stream",
       "stream": "stdout",
       "text": [
        " 518508058896.0\n",
        "184.687617448"
       ]
      },
      {
       "output_type": "stream",
       "stream": "stdout",
       "text": [
        " 575412057115.0\n",
        "184.687617448"
       ]
      },
      {
       "output_type": "stream",
       "stream": "stdout",
       "text": [
        " 638561020977.0\n",
        "184.687617448"
       ]
      },
      {
       "output_type": "stream",
       "stream": "stdout",
       "text": [
        " 708640308226.0\n",
        "184.687617448"
       ]
      },
      {
       "output_type": "stream",
       "stream": "stdout",
       "text": [
        " 786410491630.0\n",
        "184.687617448"
       ]
      },
      {
       "output_type": "stream",
       "stream": "stdout",
       "text": [
        " 872715613503.0\n",
        "184.687617448"
       ]
      },
      {
       "output_type": "stream",
       "stream": "stdout",
       "text": [
        " 968492346119.0\n",
        "184.687617448"
       ]
      },
      {
       "output_type": "stream",
       "stream": "stdout",
       "text": [
        " 1.07478015745e+12\n",
        "184.687617448"
       ]
      },
      {
       "output_type": "stream",
       "stream": "stdout",
       "text": [
        " 1.19273259255e+12\n",
        "184.687617448"
       ]
      },
      {
       "output_type": "stream",
       "stream": "stdout",
       "text": [
        " 1.32362979301e+12\n",
        "184.687617448"
       ]
      },
      {
       "output_type": "stream",
       "stream": "stdout",
       "text": [
        " 1.46889239036e+12\n",
        "184.687617448"
       ]
      },
      {
       "output_type": "stream",
       "stream": "stdout",
       "text": [
        " 1.63009692427e+12\n",
        "184.687617448"
       ]
      },
      {
       "output_type": "stream",
       "stream": "stdout",
       "text": [
        " 1.80899295276e+12\n",
        "184.687617448"
       ]
      },
      {
       "output_type": "stream",
       "stream": "stdout",
       "text": [
        " 2.0075220402e+12\n",
        "184.687617448"
       ]
      },
      {
       "output_type": "stream",
       "stream": "stdout",
       "text": [
        " 2.22783882918e+12\n",
        "184.687617448"
       ]
      },
      {
       "output_type": "stream",
       "stream": "stdout",
       "text": [
        " 2.47233442495e+12\n",
        "184.687617448"
       ]
      },
      {
       "output_type": "stream",
       "stream": "stdout",
       "text": [
        " 2.74366234609e+12\n",
        "184.687617448"
       ]
      },
      {
       "output_type": "stream",
       "stream": "stdout",
       "text": [
        " 3.04476732329e+12\n",
        "184.687617448"
       ]
      },
      {
       "output_type": "stream",
       "stream": "stdout",
       "text": [
        " 3.37891725861e+12\n",
        "184.687617448"
       ]
      },
      {
       "output_type": "stream",
       "stream": "stdout",
       "text": [
        " 3.74973869208e+12\n",
        "184.687617448"
       ]
      },
      {
       "output_type": "stream",
       "stream": "stdout",
       "text": [
        " 4.1612561607e+12\n",
        "184.687617448"
       ]
      },
      {
       "output_type": "stream",
       "stream": "stdout",
       "text": [
        " 4.61793587685e+12\n",
        "184.687617448"
       ]
      },
      {
       "output_type": "stream",
       "stream": "stdout",
       "text": [
        " 5.12473420023e+12\n",
        "184.687617448"
       ]
      },
      {
       "output_type": "stream",
       "stream": "stdout",
       "text": [
        " 5.68715142943e+12\n",
        "184.687617448"
       ]
      },
      {
       "output_type": "stream",
       "stream": "stdout",
       "text": [
        " 6.3112914968e+12\n",
        "184.687617448"
       ]
      },
      {
       "output_type": "stream",
       "stream": "stdout",
       "text": [
        " 7.00392821465e+12\n",
        "184.687617448"
       ]
      },
      {
       "output_type": "stream",
       "stream": "stdout",
       "text": [
        " 7.77257879166e+12\n",
        "184.687617448"
       ]
      },
      {
       "output_type": "stream",
       "stream": "stdout",
       "text": [
        " 8.62558541736e+12\n",
        "184.687617448"
       ]
      },
      {
       "output_type": "stream",
       "stream": "stdout",
       "text": [
        " 9.57220580022e+12\n",
        "184.687617448"
       ]
      },
      {
       "output_type": "stream",
       "stream": "stdout",
       "text": [
        " 1.06227136418e+13\n",
        "184.687617448"
       ]
      },
      {
       "output_type": "stream",
       "stream": "stdout",
       "text": [
        " 1.17885101377e+13\n",
        "184.687617448"
       ]
      },
      {
       "output_type": "stream",
       "stream": "stdout",
       "text": [
        " 1.30822477149e+13\n",
        "184.687617448"
       ]
      },
      {
       "output_type": "stream",
       "stream": "stdout",
       "text": [
        " 1.45179673492e+13\n",
        "184.687617448"
       ]
      },
      {
       "output_type": "stream",
       "stream": "stdout",
       "text": [
        " 1.6111250952e+13\n",
        "184.687617448"
       ]
      },
      {
       "output_type": "stream",
       "stream": "stdout",
       "text": [
        " 1.78793904819e+13\n",
        "184.687617448"
       ]
      },
      {
       "output_type": "stream",
       "stream": "stdout",
       "text": [
        " 1.98415756141e+13\n",
        "184.687617448"
       ]
      },
      {
       "output_type": "stream",
       "stream": "stdout",
       "text": [
        " 2.20191020075e+13\n",
        "184.687617448"
       ]
      },
      {
       "output_type": "stream",
       "stream": "stdout",
       "text": [
        " 2.44356024262e+13\n",
        "184.687617448"
       ]
      },
      {
       "output_type": "stream",
       "stream": "stdout",
       "text": [
        " 2.71173032273e+13\n",
        "184.687617448"
       ]
      },
      {
       "output_type": "stream",
       "stream": "stdout",
       "text": [
        " 3.00933089963e+13\n",
        "184.687617448"
       ]
      },
      {
       "output_type": "stream",
       "stream": "stdout",
       "text": [
        " 3.33959184199e+13\n",
        "184.687617448"
       ]
      },
      {
       "output_type": "stream",
       "stream": "stdout",
       "text": [
        " 3.70609748249e+13\n",
        "184.687617448"
       ]
      },
      {
       "output_type": "stream",
       "stream": "stdout",
       "text": [
        " 4.11282551868e+13\n",
        "184.687617448"
       ]
      },
      {
       "output_type": "stream",
       "stream": "stdout",
       "text": [
        " 4.56419018307e+13\n",
        "184.687617448"
       ]
      },
      {
       "output_type": "stream",
       "stream": "stdout",
       "text": [
        " 5.06509015095e+13\n",
        "184.687617448"
       ]
      },
      {
       "output_type": "stream",
       "stream": "stdout",
       "text": [
        " 5.62096170586e+13\n",
        "184.687617448"
       ]
      },
      {
       "output_type": "stream",
       "stream": "stdout",
       "text": [
        " 6.23783773972e+13\n",
        "184.687617448"
       ]
      },
      {
       "output_type": "stream",
       "stream": "stdout",
       "text": [
        " 6.92241322807e+13\n",
        "184.687617448"
       ]
      },
      {
       "output_type": "stream",
       "stream": "stdout",
       "text": [
        " 7.68211789079e+13\n",
        "184.687617448"
       ]
      },
      {
       "output_type": "stream",
       "stream": "stdout",
       "text": [
        " 8.52519682712e+13\n",
        "184.687617448"
       ]
      },
      {
       "output_type": "stream",
       "stream": "stdout",
       "text": [
        " 9.4608e+13\n",
        "429.752972588"
       ]
      },
      {
       "output_type": "stream",
       "stream": "stdout",
       "text": [
        " 3153600000.0\n",
        "429.752972588"
       ]
      },
      {
       "output_type": "stream",
       "stream": "stdout",
       "text": [
        " 3499693846.96\n",
        "429.752972588"
       ]
      },
      {
       "output_type": "stream",
       "stream": "stdout",
       "text": [
        " 3883769984.29\n",
        "429.752972588"
       ]
      },
      {
       "output_type": "stream",
       "stream": "stdout",
       "text": [
        " 4309996802.71\n",
        "429.752972588"
       ]
      },
      {
       "output_type": "stream",
       "stream": "stdout",
       "text": [
        " 4783000155.65\n",
        "429.752972588"
       ]
      },
      {
       "output_type": "stream",
       "stream": "stdout",
       "text": [
        " 5307913563.78\n",
        "429.752972588"
       ]
      },
      {
       "output_type": "stream",
       "stream": "stdout",
       "text": [
        " 5890433929.27\n",
        "429.752972588"
       ]
      },
      {
       "output_type": "stream",
       "stream": "stdout",
       "text": [
        " 6536883364.47\n",
        "429.752972588"
       ]
      },
      {
       "output_type": "stream",
       "stream": "stdout",
       "text": [
        " 7254277805.98\n",
        "429.752972588"
       ]
      },
      {
       "output_type": "stream",
       "stream": "stdout",
       "text": [
        " 8050403158.84\n",
        "429.752972588"
       ]
      },
      {
       "output_type": "stream",
       "stream": "stdout",
       "text": [
        " 8933899797.23\n",
        "429.752972588"
       ]
      },
      {
       "output_type": "stream",
       "stream": "stdout",
       "text": [
        " 9914356338.7\n",
        "429.752972588"
       ]
      },
      {
       "output_type": "stream",
       "stream": "stdout",
       "text": [
        " 11002413709.8\n",
        "429.752972588"
       ]
      },
      {
       "output_type": "stream",
       "stream": "stdout",
       "text": [
        " 12209880632.2\n",
        "429.752972588"
       ]
      },
      {
       "output_type": "stream",
       "stream": "stdout",
       "text": [
        " 13549861783.6\n",
        "429.752972588"
       ]
      },
      {
       "output_type": "stream",
       "stream": "stdout",
       "text": [
        " 15036900022.6\n",
        "429.752972588"
       ]
      },
      {
       "output_type": "stream",
       "stream": "stdout",
       "text": [
        " 16687134223.2\n",
        "429.752972588"
       ]
      },
      {
       "output_type": "stream",
       "stream": "stdout",
       "text": [
        " 18518474430.6\n",
        "429.752972588"
       ]
      },
      {
       "output_type": "stream",
       "stream": "stdout",
       "text": [
        " 20550796239.2\n",
        "429.752972588"
       ]
      },
      {
       "output_type": "stream",
       "stream": "stdout",
       "text": [
        " 22806156503.2\n",
        "429.752972588"
       ]
      },
      {
       "output_type": "stream",
       "stream": "stdout",
       "text": [
        " 25309032720.4\n",
        "429.752972588"
       ]
      },
      {
       "output_type": "stream",
       "stream": "stdout",
       "text": [
        " 28086588687.2\n",
        "429.752972588"
       ]
      },
      {
       "output_type": "stream",
       "stream": "stdout",
       "text": [
        " 31168969308.3\n",
        "429.752972588"
       ]
      },
      {
       "output_type": "stream",
       "stream": "stdout",
       "text": [
        " 34589627760.2\n",
        "429.752972588"
       ]
      },
      {
       "output_type": "stream",
       "stream": "stdout",
       "text": [
        " 38385688559.4\n",
        "429.752972588"
       ]
      },
      {
       "output_type": "stream",
       "stream": "stdout",
       "text": [
        " 42598350476.5\n",
        "429.752972588"
       ]
      },
      {
       "output_type": "stream",
       "stream": "stdout",
       "text": [
        " 47273333667.3\n",
        "429.752972588"
       ]
      },
      {
       "output_type": "stream",
       "stream": "stdout",
       "text": [
        " 52461375875.4\n",
        "429.752972588"
       ]
      },
      {
       "output_type": "stream",
       "stream": "stdout",
       "text": [
        " 58218783090.5\n",
        "429.752972588"
       ]
      },
      {
       "output_type": "stream",
       "stream": "stdout",
       "text": [
        " 64608040639.1\n",
        "429.752972588"
       ]
      },
      {
       "output_type": "stream",
       "stream": "stdout",
       "text": [
        " 71698491339.7\n",
        "429.752972588"
       ]
      },
      {
       "output_type": "stream",
       "stream": "stdout",
       "text": [
        " 79567088082.7\n",
        "429.752972588"
       ]
      },
      {
       "output_type": "stream",
       "stream": "stdout",
       "text": [
        " 88299229003.0\n",
        "429.752972588"
       ]
      },
      {
       "output_type": "stream",
       "stream": "stdout",
       "text": [
        " 97989684307.8\n",
        "429.752972588"
       ]
      },
      {
       "output_type": "stream",
       "stream": "stdout",
       "text": [
        " 108743624822.0\n",
        "429.752972588"
       ]
      },
      {
       "output_type": "stream",
       "stream": "stdout",
       "text": [
        " 120677763408.0\n",
        "429.752972588"
       ]
      },
      {
       "output_type": "stream",
       "stream": "stdout",
       "text": [
        " 133921621659.0\n",
        "429.752972588"
       ]
      },
      {
       "output_type": "stream",
       "stream": "stdout",
       "text": [
        " 148618935596.0\n",
        "429.752972588"
       ]
      },
      {
       "output_type": "stream",
       "stream": "stdout",
       "text": [
        " 164929215642.0\n",
        "429.752972588"
       ]
      },
      {
       "output_type": "stream",
       "stream": "stdout",
       "text": [
        " 183029477792.0\n",
        "429.752972588"
       ]
      },
      {
       "output_type": "stream",
       "stream": "stdout",
       "text": [
        " 203116164777.0\n",
        "429.752972588"
       ]
      },
      {
       "output_type": "stream",
       "stream": "stdout",
       "text": [
        " 225407278060.0\n",
        "429.752972588"
       ]
      },
      {
       "output_type": "stream",
       "stream": "stdout",
       "text": [
        " 250144743812.0\n",
        "429.752972588"
       ]
      },
      {
       "output_type": "stream",
       "stream": "stdout",
       "text": [
        " 277597038549.0\n",
        "429.752972588"
       ]
      },
      {
       "output_type": "stream",
       "stream": "stdout",
       "text": [
        " 308062102912.0\n",
        "429.752972588"
       ]
      },
      {
       "output_type": "stream",
       "stream": "stdout",
       "text": [
        " 341870575229.0\n",
        "429.752972588"
       ]
      },
      {
       "output_type": "stream",
       "stream": "stdout",
       "text": [
        " 379389379943.0\n",
        "429.752972588"
       ]
      },
      {
       "output_type": "stream",
       "stream": "stdout",
       "text": [
        " 421025709851.0\n",
        "429.752972588"
       ]
      },
      {
       "output_type": "stream",
       "stream": "stdout",
       "text": [
        " 467231445389.0\n",
        "429.752972588"
       ]
      },
      {
       "output_type": "stream",
       "stream": "stdout",
       "text": [
        " 518508058896.0\n",
        "429.752972588"
       ]
      },
      {
       "output_type": "stream",
       "stream": "stdout",
       "text": [
        " 575412057115.0\n",
        "429.752972588"
       ]
      },
      {
       "output_type": "stream",
       "stream": "stdout",
       "text": [
        " 638561020977.0\n",
        "429.752972588"
       ]
      },
      {
       "output_type": "stream",
       "stream": "stdout",
       "text": [
        " 708640308226.0\n",
        "429.752972588"
       ]
      },
      {
       "output_type": "stream",
       "stream": "stdout",
       "text": [
        " 786410491630.0\n",
        "429.752972588"
       ]
      },
      {
       "output_type": "stream",
       "stream": "stdout",
       "text": [
        " 872715613503.0\n",
        "429.752972588"
       ]
      },
      {
       "output_type": "stream",
       "stream": "stdout",
       "text": [
        " 968492346119.0\n",
        "429.752972588"
       ]
      },
      {
       "output_type": "stream",
       "stream": "stdout",
       "text": [
        " 1.07478015745e+12\n",
        "429.752972588"
       ]
      },
      {
       "output_type": "stream",
       "stream": "stdout",
       "text": [
        " 1.19273259255e+12\n",
        "429.752972588"
       ]
      },
      {
       "output_type": "stream",
       "stream": "stdout",
       "text": [
        " 1.32362979301e+12\n",
        "429.752972588"
       ]
      },
      {
       "output_type": "stream",
       "stream": "stdout",
       "text": [
        " 1.46889239036e+12\n",
        "429.752972588"
       ]
      },
      {
       "output_type": "stream",
       "stream": "stdout",
       "text": [
        " 1.63009692427e+12\n",
        "429.752972588"
       ]
      },
      {
       "output_type": "stream",
       "stream": "stdout",
       "text": [
        " 1.80899295276e+12\n",
        "429.752972588"
       ]
      },
      {
       "output_type": "stream",
       "stream": "stdout",
       "text": [
        " 2.0075220402e+12\n",
        "429.752972588"
       ]
      },
      {
       "output_type": "stream",
       "stream": "stdout",
       "text": [
        " 2.22783882918e+12\n",
        "429.752972588"
       ]
      },
      {
       "output_type": "stream",
       "stream": "stdout",
       "text": [
        " 2.47233442495e+12\n",
        "429.752972588"
       ]
      },
      {
       "output_type": "stream",
       "stream": "stdout",
       "text": [
        " 2.74366234609e+12\n",
        "429.752972588"
       ]
      },
      {
       "output_type": "stream",
       "stream": "stdout",
       "text": [
        " 3.04476732329e+12\n",
        "429.752972588"
       ]
      },
      {
       "output_type": "stream",
       "stream": "stdout",
       "text": [
        " 3.37891725861e+12\n",
        "429.752972588"
       ]
      },
      {
       "output_type": "stream",
       "stream": "stdout",
       "text": [
        " 3.74973869208e+12\n",
        "429.752972588"
       ]
      },
      {
       "output_type": "stream",
       "stream": "stdout",
       "text": [
        " 4.1612561607e+12\n",
        "429.752972588"
       ]
      },
      {
       "output_type": "stream",
       "stream": "stdout",
       "text": [
        " 4.61793587685e+12\n",
        "429.752972588"
       ]
      },
      {
       "output_type": "stream",
       "stream": "stdout",
       "text": [
        " 5.12473420023e+12\n",
        "429.752972588"
       ]
      },
      {
       "output_type": "stream",
       "stream": "stdout",
       "text": [
        " 5.68715142943e+12\n",
        "429.752972588"
       ]
      },
      {
       "output_type": "stream",
       "stream": "stdout",
       "text": [
        " 6.3112914968e+12\n",
        "429.752972588"
       ]
      },
      {
       "output_type": "stream",
       "stream": "stdout",
       "text": [
        " 7.00392821465e+12\n",
        "429.752972588"
       ]
      },
      {
       "output_type": "stream",
       "stream": "stdout",
       "text": [
        " 7.77257879166e+12\n",
        "429.752972588"
       ]
      },
      {
       "output_type": "stream",
       "stream": "stdout",
       "text": [
        " 8.62558541736e+12\n",
        "429.752972588"
       ]
      },
      {
       "output_type": "stream",
       "stream": "stdout",
       "text": [
        " 9.57220580022e+12\n",
        "429.752972588"
       ]
      },
      {
       "output_type": "stream",
       "stream": "stdout",
       "text": [
        " 1.06227136418e+13\n",
        "429.752972588"
       ]
      },
      {
       "output_type": "stream",
       "stream": "stdout",
       "text": [
        " 1.17885101377e+13\n",
        "429.752972588"
       ]
      },
      {
       "output_type": "stream",
       "stream": "stdout",
       "text": [
        " 1.30822477149e+13\n",
        "429.752972588"
       ]
      },
      {
       "output_type": "stream",
       "stream": "stdout",
       "text": [
        " 1.45179673492e+13\n",
        "429.752972588"
       ]
      },
      {
       "output_type": "stream",
       "stream": "stdout",
       "text": [
        " 1.6111250952e+13\n",
        "429.752972588"
       ]
      },
      {
       "output_type": "stream",
       "stream": "stdout",
       "text": [
        " 1.78793904819e+13\n",
        "429.752972588"
       ]
      },
      {
       "output_type": "stream",
       "stream": "stdout",
       "text": [
        " 1.98415756141e+13\n",
        "429.752972588"
       ]
      },
      {
       "output_type": "stream",
       "stream": "stdout",
       "text": [
        " 2.20191020075e+13\n",
        "429.752972588"
       ]
      },
      {
       "output_type": "stream",
       "stream": "stdout",
       "text": [
        " 2.44356024262e+13\n",
        "429.752972588"
       ]
      },
      {
       "output_type": "stream",
       "stream": "stdout",
       "text": [
        " 2.71173032273e+13\n",
        "429.752972588"
       ]
      },
      {
       "output_type": "stream",
       "stream": "stdout",
       "text": [
        " 3.00933089963e+13\n",
        "429.752972588"
       ]
      },
      {
       "output_type": "stream",
       "stream": "stdout",
       "text": [
        " 3.33959184199e+13\n",
        "429.752972588"
       ]
      },
      {
       "output_type": "stream",
       "stream": "stdout",
       "text": [
        " 3.70609748249e+13\n",
        "429.752972588"
       ]
      },
      {
       "output_type": "stream",
       "stream": "stdout",
       "text": [
        " 4.11282551868e+13\n",
        "429.752972588"
       ]
      },
      {
       "output_type": "stream",
       "stream": "stdout",
       "text": [
        " 4.56419018307e+13\n",
        "429.752972588"
       ]
      },
      {
       "output_type": "stream",
       "stream": "stdout",
       "text": [
        " 5.06509015095e+13\n",
        "429.752972588"
       ]
      },
      {
       "output_type": "stream",
       "stream": "stdout",
       "text": [
        " 5.62096170586e+13\n",
        "429.752972588"
       ]
      },
      {
       "output_type": "stream",
       "stream": "stdout",
       "text": [
        " 6.23783773972e+13\n",
        "429.752972588"
       ]
      },
      {
       "output_type": "stream",
       "stream": "stdout",
       "text": [
        " 6.92241322807e+13\n",
        "429.752972588"
       ]
      },
      {
       "output_type": "stream",
       "stream": "stdout",
       "text": [
        " 7.68211789079e+13\n",
        "429.752972588"
       ]
      },
      {
       "output_type": "stream",
       "stream": "stdout",
       "text": [
        " 8.52519682712e+13\n",
        "429.752972588"
       ]
      },
      {
       "output_type": "stream",
       "stream": "stdout",
       "text": [
        " 9.4608e+13\n",
        "1000.0"
       ]
      },
      {
       "output_type": "stream",
       "stream": "stdout",
       "text": [
        " 3153600000.0\n",
        "1000.0"
       ]
      },
      {
       "output_type": "stream",
       "stream": "stdout",
       "text": [
        " 3499693846.96\n",
        "1000.0"
       ]
      },
      {
       "output_type": "stream",
       "stream": "stdout",
       "text": [
        " 3883769984.29\n",
        "1000.0"
       ]
      },
      {
       "output_type": "stream",
       "stream": "stdout",
       "text": [
        " 4309996802.71\n",
        "1000.0"
       ]
      },
      {
       "output_type": "stream",
       "stream": "stdout",
       "text": [
        " 4783000155.65\n",
        "1000.0"
       ]
      },
      {
       "output_type": "stream",
       "stream": "stdout",
       "text": [
        " 5307913563.78\n",
        "1000.0"
       ]
      },
      {
       "output_type": "stream",
       "stream": "stdout",
       "text": [
        " 5890433929.27\n",
        "1000.0"
       ]
      },
      {
       "output_type": "stream",
       "stream": "stdout",
       "text": [
        " 6536883364.47\n",
        "1000.0"
       ]
      },
      {
       "output_type": "stream",
       "stream": "stdout",
       "text": [
        " 7254277805.98\n",
        "1000.0"
       ]
      },
      {
       "output_type": "stream",
       "stream": "stdout",
       "text": [
        " 8050403158.84\n",
        "1000.0"
       ]
      },
      {
       "output_type": "stream",
       "stream": "stdout",
       "text": [
        " 8933899797.23\n",
        "1000.0"
       ]
      },
      {
       "output_type": "stream",
       "stream": "stdout",
       "text": [
        " 9914356338.7\n",
        "1000.0"
       ]
      },
      {
       "output_type": "stream",
       "stream": "stdout",
       "text": [
        " 11002413709.8\n",
        "1000.0"
       ]
      },
      {
       "output_type": "stream",
       "stream": "stdout",
       "text": [
        " 12209880632.2\n",
        "1000.0"
       ]
      },
      {
       "output_type": "stream",
       "stream": "stdout",
       "text": [
        " 13549861783.6\n",
        "1000.0"
       ]
      },
      {
       "output_type": "stream",
       "stream": "stdout",
       "text": [
        " 15036900022.6\n",
        "1000.0"
       ]
      },
      {
       "output_type": "stream",
       "stream": "stdout",
       "text": [
        " 16687134223.2\n",
        "1000.0"
       ]
      },
      {
       "output_type": "stream",
       "stream": "stdout",
       "text": [
        " 18518474430.6\n",
        "1000.0"
       ]
      },
      {
       "output_type": "stream",
       "stream": "stdout",
       "text": [
        " 20550796239.2\n",
        "1000.0"
       ]
      },
      {
       "output_type": "stream",
       "stream": "stdout",
       "text": [
        " 22806156503.2\n",
        "1000.0"
       ]
      },
      {
       "output_type": "stream",
       "stream": "stdout",
       "text": [
        " 25309032720.4\n",
        "1000.0"
       ]
      },
      {
       "output_type": "stream",
       "stream": "stdout",
       "text": [
        " 28086588687.2\n",
        "1000.0"
       ]
      },
      {
       "output_type": "stream",
       "stream": "stdout",
       "text": [
        " 31168969308.3\n",
        "1000.0"
       ]
      },
      {
       "output_type": "stream",
       "stream": "stdout",
       "text": [
        " 34589627760.2\n",
        "1000.0"
       ]
      },
      {
       "output_type": "stream",
       "stream": "stdout",
       "text": [
        " 38385688559.4\n",
        "1000.0"
       ]
      },
      {
       "output_type": "stream",
       "stream": "stdout",
       "text": [
        " 42598350476.5\n",
        "1000.0"
       ]
      },
      {
       "output_type": "stream",
       "stream": "stdout",
       "text": [
        " 47273333667.3\n",
        "1000.0"
       ]
      },
      {
       "output_type": "stream",
       "stream": "stdout",
       "text": [
        " 52461375875.4\n",
        "1000.0"
       ]
      },
      {
       "output_type": "stream",
       "stream": "stdout",
       "text": [
        " 58218783090.5\n",
        "1000.0"
       ]
      },
      {
       "output_type": "stream",
       "stream": "stdout",
       "text": [
        " 64608040639.1\n",
        "1000.0"
       ]
      },
      {
       "output_type": "stream",
       "stream": "stdout",
       "text": [
        " 71698491339.7\n",
        "1000.0"
       ]
      },
      {
       "output_type": "stream",
       "stream": "stdout",
       "text": [
        " 79567088082.7\n",
        "1000.0"
       ]
      },
      {
       "output_type": "stream",
       "stream": "stdout",
       "text": [
        " 88299229003.0\n",
        "1000.0"
       ]
      },
      {
       "output_type": "stream",
       "stream": "stdout",
       "text": [
        " 97989684307.8\n",
        "1000.0"
       ]
      },
      {
       "output_type": "stream",
       "stream": "stdout",
       "text": [
        " 108743624822.0\n",
        "1000.0"
       ]
      },
      {
       "output_type": "stream",
       "stream": "stdout",
       "text": [
        " 120677763408.0\n",
        "1000.0"
       ]
      },
      {
       "output_type": "stream",
       "stream": "stdout",
       "text": [
        " 133921621659.0\n",
        "1000.0"
       ]
      },
      {
       "output_type": "stream",
       "stream": "stdout",
       "text": [
        " 148618935596.0\n",
        "1000.0"
       ]
      },
      {
       "output_type": "stream",
       "stream": "stdout",
       "text": [
        " 164929215642.0\n",
        "1000.0"
       ]
      },
      {
       "output_type": "stream",
       "stream": "stdout",
       "text": [
        " 183029477792.0\n",
        "1000.0"
       ]
      },
      {
       "output_type": "stream",
       "stream": "stdout",
       "text": [
        " 203116164777.0\n",
        "1000.0"
       ]
      },
      {
       "output_type": "stream",
       "stream": "stdout",
       "text": [
        " 225407278060.0\n",
        "1000.0"
       ]
      },
      {
       "output_type": "stream",
       "stream": "stdout",
       "text": [
        " 250144743812.0\n",
        "1000.0"
       ]
      },
      {
       "output_type": "stream",
       "stream": "stdout",
       "text": [
        " 277597038549.0\n",
        "1000.0"
       ]
      },
      {
       "output_type": "stream",
       "stream": "stdout",
       "text": [
        " 308062102912.0\n",
        "1000.0"
       ]
      },
      {
       "output_type": "stream",
       "stream": "stdout",
       "text": [
        " 341870575229.0\n",
        "1000.0"
       ]
      },
      {
       "output_type": "stream",
       "stream": "stdout",
       "text": [
        " 379389379943.0\n",
        "1000.0"
       ]
      },
      {
       "output_type": "stream",
       "stream": "stdout",
       "text": [
        " 421025709851.0\n",
        "1000.0"
       ]
      },
      {
       "output_type": "stream",
       "stream": "stdout",
       "text": [
        " 467231445389.0\n",
        "1000.0"
       ]
      },
      {
       "output_type": "stream",
       "stream": "stdout",
       "text": [
        " 518508058896.0\n",
        "1000.0"
       ]
      },
      {
       "output_type": "stream",
       "stream": "stdout",
       "text": [
        " 575412057115.0\n",
        "1000.0"
       ]
      },
      {
       "output_type": "stream",
       "stream": "stdout",
       "text": [
        " 638561020977.0\n",
        "1000.0"
       ]
      },
      {
       "output_type": "stream",
       "stream": "stdout",
       "text": [
        " 708640308226.0\n",
        "1000.0"
       ]
      },
      {
       "output_type": "stream",
       "stream": "stdout",
       "text": [
        " 786410491630.0\n",
        "1000.0"
       ]
      },
      {
       "output_type": "stream",
       "stream": "stdout",
       "text": [
        " 872715613503.0\n",
        "1000.0"
       ]
      },
      {
       "output_type": "stream",
       "stream": "stdout",
       "text": [
        " 968492346119.0\n",
        "1000.0"
       ]
      },
      {
       "output_type": "stream",
       "stream": "stdout",
       "text": [
        " 1.07478015745e+12\n",
        "1000.0"
       ]
      },
      {
       "output_type": "stream",
       "stream": "stdout",
       "text": [
        " 1.19273259255e+12\n",
        "1000.0"
       ]
      },
      {
       "output_type": "stream",
       "stream": "stdout",
       "text": [
        " 1.32362979301e+12\n",
        "1000.0"
       ]
      },
      {
       "output_type": "stream",
       "stream": "stdout",
       "text": [
        " 1.46889239036e+12\n",
        "1000.0"
       ]
      },
      {
       "output_type": "stream",
       "stream": "stdout",
       "text": [
        " 1.63009692427e+12\n",
        "1000.0"
       ]
      },
      {
       "output_type": "stream",
       "stream": "stdout",
       "text": [
        " 1.80899295276e+12\n",
        "1000.0"
       ]
      },
      {
       "output_type": "stream",
       "stream": "stdout",
       "text": [
        " 2.0075220402e+12\n",
        "1000.0"
       ]
      },
      {
       "output_type": "stream",
       "stream": "stdout",
       "text": [
        " 2.22783882918e+12\n",
        "1000.0"
       ]
      },
      {
       "output_type": "stream",
       "stream": "stdout",
       "text": [
        " 2.47233442495e+12\n",
        "1000.0"
       ]
      },
      {
       "output_type": "stream",
       "stream": "stdout",
       "text": [
        " 2.74366234609e+12\n",
        "1000.0"
       ]
      },
      {
       "output_type": "stream",
       "stream": "stdout",
       "text": [
        " 3.04476732329e+12\n",
        "1000.0"
       ]
      },
      {
       "output_type": "stream",
       "stream": "stdout",
       "text": [
        " 3.37891725861e+12\n",
        "1000.0"
       ]
      },
      {
       "output_type": "stream",
       "stream": "stdout",
       "text": [
        " 3.74973869208e+12\n",
        "1000.0"
       ]
      },
      {
       "output_type": "stream",
       "stream": "stdout",
       "text": [
        " 4.1612561607e+12\n",
        "1000.0"
       ]
      },
      {
       "output_type": "stream",
       "stream": "stdout",
       "text": [
        " 4.61793587685e+12\n",
        "1000.0"
       ]
      },
      {
       "output_type": "stream",
       "stream": "stdout",
       "text": [
        " 5.12473420023e+12\n",
        "1000.0"
       ]
      },
      {
       "output_type": "stream",
       "stream": "stdout",
       "text": [
        " 5.68715142943e+12\n",
        "1000.0"
       ]
      },
      {
       "output_type": "stream",
       "stream": "stdout",
       "text": [
        " 6.3112914968e+12\n",
        "1000.0"
       ]
      },
      {
       "output_type": "stream",
       "stream": "stdout",
       "text": [
        " 7.00392821465e+12\n",
        "1000.0"
       ]
      },
      {
       "output_type": "stream",
       "stream": "stdout",
       "text": [
        " 7.77257879166e+12\n",
        "1000.0"
       ]
      },
      {
       "output_type": "stream",
       "stream": "stdout",
       "text": [
        " 8.62558541736e+12\n",
        "1000.0"
       ]
      },
      {
       "output_type": "stream",
       "stream": "stdout",
       "text": [
        " 9.57220580022e+12\n",
        "1000.0"
       ]
      },
      {
       "output_type": "stream",
       "stream": "stdout",
       "text": [
        " 1.06227136418e+13\n",
        "1000.0"
       ]
      },
      {
       "output_type": "stream",
       "stream": "stdout",
       "text": [
        " 1.17885101377e+13\n",
        "1000.0"
       ]
      },
      {
       "output_type": "stream",
       "stream": "stdout",
       "text": [
        " 1.30822477149e+13\n",
        "1000.0"
       ]
      },
      {
       "output_type": "stream",
       "stream": "stdout",
       "text": [
        " 1.45179673492e+13\n",
        "1000.0"
       ]
      },
      {
       "output_type": "stream",
       "stream": "stdout",
       "text": [
        " 1.6111250952e+13\n",
        "1000.0"
       ]
      },
      {
       "output_type": "stream",
       "stream": "stdout",
       "text": [
        " 1.78793904819e+13\n",
        "1000.0"
       ]
      },
      {
       "output_type": "stream",
       "stream": "stdout",
       "text": [
        " 1.98415756141e+13\n",
        "1000.0"
       ]
      },
      {
       "output_type": "stream",
       "stream": "stdout",
       "text": [
        " 2.20191020075e+13\n",
        "1000.0"
       ]
      },
      {
       "output_type": "stream",
       "stream": "stdout",
       "text": [
        " 2.44356024262e+13\n",
        "1000.0"
       ]
      },
      {
       "output_type": "stream",
       "stream": "stdout",
       "text": [
        " 2.71173032273e+13\n",
        "1000.0"
       ]
      },
      {
       "output_type": "stream",
       "stream": "stdout",
       "text": [
        " 3.00933089963e+13\n",
        "1000.0"
       ]
      },
      {
       "output_type": "stream",
       "stream": "stdout",
       "text": [
        " 3.33959184199e+13\n",
        "1000.0"
       ]
      },
      {
       "output_type": "stream",
       "stream": "stdout",
       "text": [
        " 3.70609748249e+13\n",
        "1000.0"
       ]
      },
      {
       "output_type": "stream",
       "stream": "stdout",
       "text": [
        " 4.11282551868e+13\n",
        "1000.0"
       ]
      },
      {
       "output_type": "stream",
       "stream": "stdout",
       "text": [
        " 4.56419018307e+13\n",
        "1000.0"
       ]
      },
      {
       "output_type": "stream",
       "stream": "stdout",
       "text": [
        " 5.06509015095e+13\n",
        "1000.0"
       ]
      },
      {
       "output_type": "stream",
       "stream": "stdout",
       "text": [
        " 5.62096170586e+13\n",
        "1000.0"
       ]
      },
      {
       "output_type": "stream",
       "stream": "stdout",
       "text": [
        " 6.23783773972e+13\n",
        "1000.0"
       ]
      },
      {
       "output_type": "stream",
       "stream": "stdout",
       "text": [
        " 6.92241322807e+13\n",
        "1000.0"
       ]
      },
      {
       "output_type": "stream",
       "stream": "stdout",
       "text": [
        " 7.68211789079e+13\n",
        "1000.0"
       ]
      },
      {
       "output_type": "stream",
       "stream": "stdout",
       "text": [
        " 8.52519682712e+13\n",
        "1000.0"
       ]
      },
      {
       "output_type": "stream",
       "stream": "stdout",
       "text": [
        " 9.4608e+13\n"
       ]
      }
     ],
     "prompt_number": 49
    },
    {
     "cell_type": "code",
     "collapsed": false,
     "input": [
      "rnb = np.linspace(0, 256, len(s))\n",
      "\n",
      "for i in range(len(s)):\n",
      "    plt.semilogx(t / (365 * 24 * 3600), desdist[i], c = cm.rainbow(int(rnb[i])))\n",
      "plt.xlabel('t [yr]')\n",
      "plt.ylabel('Distance [AU]')\n",
      "\n"
     ],
     "language": "python",
     "metadata": {},
     "outputs": [
      {
       "ename": "TypeError",
       "evalue": "object of type 'float' has no len()",
       "output_type": "pyerr",
       "traceback": [
        "\u001b[0;31m---------------------------------------------------------------------------\u001b[0m\n\u001b[0;31mTypeError\u001b[0m                                 Traceback (most recent call last)",
        "\u001b[0;32m<ipython-input-5-b1e56bb063b1>\u001b[0m in \u001b[0;36m<module>\u001b[0;34m()\u001b[0m\n\u001b[0;32m----> 1\u001b[0;31m \u001b[0mrnb\u001b[0m \u001b[0;34m=\u001b[0m \u001b[0mnp\u001b[0m\u001b[0;34m.\u001b[0m\u001b[0mlinspace\u001b[0m\u001b[0;34m(\u001b[0m\u001b[0;36m0\u001b[0m\u001b[0;34m,\u001b[0m \u001b[0;36m256\u001b[0m\u001b[0;34m,\u001b[0m \u001b[0mlen\u001b[0m\u001b[0;34m(\u001b[0m\u001b[0ms\u001b[0m\u001b[0;34m)\u001b[0m\u001b[0;34m)\u001b[0m\u001b[0;34m\u001b[0m\u001b[0m\n\u001b[0m\u001b[1;32m      2\u001b[0m \u001b[0;34m\u001b[0m\u001b[0m\n\u001b[1;32m      3\u001b[0m \u001b[0;32mfor\u001b[0m \u001b[0mi\u001b[0m \u001b[0;32min\u001b[0m \u001b[0mrange\u001b[0m\u001b[0;34m(\u001b[0m\u001b[0mlen\u001b[0m\u001b[0;34m(\u001b[0m\u001b[0ms\u001b[0m\u001b[0;34m)\u001b[0m\u001b[0;34m)\u001b[0m\u001b[0;34m:\u001b[0m\u001b[0;34m\u001b[0m\u001b[0m\n\u001b[1;32m      4\u001b[0m     \u001b[0mplt\u001b[0m\u001b[0;34m.\u001b[0m\u001b[0msemilogx\u001b[0m\u001b[0;34m(\u001b[0m\u001b[0mt\u001b[0m \u001b[0;34m/\u001b[0m \u001b[0;34m(\u001b[0m\u001b[0;36m365\u001b[0m \u001b[0;34m*\u001b[0m \u001b[0;36m24\u001b[0m \u001b[0;34m*\u001b[0m \u001b[0;36m3600\u001b[0m\u001b[0;34m)\u001b[0m\u001b[0;34m,\u001b[0m \u001b[0mdesdist\u001b[0m\u001b[0;34m[\u001b[0m\u001b[0mi\u001b[0m\u001b[0;34m]\u001b[0m\u001b[0;34m,\u001b[0m \u001b[0mc\u001b[0m \u001b[0;34m=\u001b[0m \u001b[0mcm\u001b[0m\u001b[0;34m.\u001b[0m\u001b[0mrainbow\u001b[0m\u001b[0;34m(\u001b[0m\u001b[0mint\u001b[0m\u001b[0;34m(\u001b[0m\u001b[0mrnb\u001b[0m\u001b[0;34m[\u001b[0m\u001b[0mi\u001b[0m\u001b[0;34m]\u001b[0m\u001b[0;34m)\u001b[0m\u001b[0;34m)\u001b[0m\u001b[0;34m)\u001b[0m\u001b[0;34m\u001b[0m\u001b[0m\n\u001b[1;32m      5\u001b[0m \u001b[0mplt\u001b[0m\u001b[0;34m.\u001b[0m\u001b[0mxlabel\u001b[0m\u001b[0;34m(\u001b[0m\u001b[0;34m't [yr]'\u001b[0m\u001b[0;34m)\u001b[0m\u001b[0;34m\u001b[0m\u001b[0m\n",
        "\u001b[0;31mTypeError\u001b[0m: object of type 'float' has no len()"
       ]
      }
     ],
     "prompt_number": 5
    },
    {
     "cell_type": "code",
     "collapsed": false,
     "input": [
      "desdist[1, 8]/desdist[1, 9]-1"
     ],
     "language": "python",
     "metadata": {},
     "outputs": [
      {
       "metadata": {},
       "output_type": "pyout",
       "prompt_number": 32,
       "text": [
        "0.063707496867405178"
       ]
      }
     ],
     "prompt_number": 32
    },
    {
     "cell_type": "code",
     "collapsed": false,
     "input": [
      "f = open('../dat/H2O/stopping_dist_vs_time.txt', 'wb')\n",
      "for i in range(len(s)):\n",
      "    f.write('%s \\n' % str(s[i]))\n",
      "    for j in range(len(t)):\n",
      "        f.write(' %s ' % str(t[j]))\n",
      "        f.write(' %s \\n' % str(desdist[i, j]))\n",
      "f.close()"
     ],
     "language": "python",
     "metadata": {},
     "outputs": [],
     "prompt_number": 53
    },
    {
     "cell_type": "code",
     "collapsed": false,
     "input": [
      "destime = []\n",
      "\n",
      "for i in range(len(s)):\n",
      "    for j in range(len(t) - 1):\n",
      "        if abs(desdist[i, j] / desdist[i, j + 1] - 1) < 1e-5:\n",
      "            break\n",
      "            \n",
      "    destime = np.append(destime, t[j])"
     ],
     "language": "python",
     "metadata": {},
     "outputs": [],
     "prompt_number": 54
    },
    {
     "cell_type": "code",
     "collapsed": false,
     "input": [
      "destime/(365*24*3600)"
     ],
     "language": "python",
     "metadata": {},
     "outputs": [
      {
       "metadata": {},
       "output_type": "pyout",
       "prompt_number": 55,
       "text": [
        "array([  10840.6448259 ,    8802.5443477 ,    3826.66677474,\n",
        "           988.36153312,     255.27660955,     283.29210417,\n",
        "          1350.78483246,    6440.77133362,   34081.0552211 ,\n",
        "        162504.25546148])"
       ]
      }
     ],
     "prompt_number": 55
    },
    {
     "cell_type": "code",
     "collapsed": false,
     "input": [
      "desdist[2]"
     ],
     "language": "python",
     "metadata": {},
     "outputs": [
      {
       "metadata": {},
       "output_type": "pyout",
       "prompt_number": 61,
       "text": [
        "array([ 0.98773642,  0.98638356,  0.98488059,  0.98321064,  0.98135491,\n",
        "        0.97929241,  0.97699969,  0.97445058,  0.97161578,  0.96846248,\n",
        "        0.96495395,  0.96104895,  0.95670115,  0.95185841,  0.94646196,\n",
        "        0.94044543,  0.93373362,  0.92624124,  0.91787105,  0.908512  ,\n",
        "        0.89803655,  0.88629758,  0.87312435,  0.85831734,  0.8416413 ,\n",
        "        0.82281613,  0.80150403,  0.77729134,  0.74966169,  0.71795518,\n",
        "        0.68130342,  0.63852732,  0.58800504,  0.52790485,  0.46231277,\n",
        "        0.43159175,  0.43159175,  0.43159175,  0.43159175,  0.43159175,\n",
        "        0.43159175,  0.43159175,  0.43159175,  0.43159175,  0.43159175,\n",
        "        0.43159175,  0.43159175,  0.43159175,  0.43159175,  0.43159176,\n",
        "        0.43159175,  0.43159175,  0.43159175,  0.43159175,  0.43159175,\n",
        "        0.43159175,  0.43159175,  0.43159175,  0.43159176,  0.43159175,\n",
        "        0.43159175,  0.43159176,  0.43159176,  0.43159175,  0.43159175,\n",
        "        0.43159177,  0.43159176,  0.43159175,  0.43159175,  0.43159175,\n",
        "        0.43159175,  0.43159174,  0.43159174,  0.43159171,  0.43159171,\n",
        "        0.4315917 ,  0.4315917 ,  0.43159191,  0.43159189,  0.43159176,\n",
        "        0.43159176,  0.43159176,  0.43159176,  0.43159176,  0.43159176,\n",
        "        0.43159176,  0.43159176,  0.43159176,  0.43159176,  0.43159176,\n",
        "        0.43159176,  0.43159175,  0.43159175,  0.43159175,  0.43159175,\n",
        "        0.43159175,  0.43159175,  0.43159176,  0.43159177,  0.43159177])"
       ]
      }
     ],
     "prompt_number": 61
    },
    {
     "cell_type": "code",
     "collapsed": false,
     "input": [
      "plt.loglog(s, destime / (365*24*3600))\n",
      "plt.xlabel('s [cm]')\n",
      "plt.ylabel('Desorption time [yr]')"
     ],
     "language": "python",
     "metadata": {},
     "outputs": [
      {
       "metadata": {},
       "output_type": "pyout",
       "prompt_number": 60,
       "text": [
        "<matplotlib.text.Text at 0x11280d5d0>"
       ]
      },
      {
       "metadata": {},
       "output_type": "display_data",
       "png": "[encoded data removed]",
       "text": [
        "<matplotlib.figure.Figure at 0x11256b750>"
       ]
      }
     ],
     "prompt_number": 60
    },
    {
     "cell_type": "code",
     "collapsed": false,
     "input": [],
     "language": "python",
     "metadata": {},
     "outputs": []
    }
   ],
   "metadata": {}
  }
 ]
}