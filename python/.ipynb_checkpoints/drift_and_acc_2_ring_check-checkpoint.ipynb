{
 "metadata": {
  "name": "",
  "signature": "sha256:b9297b3cd168e3130718a88694743d949de959b2a1c33d580d894a111e5821a3"
 },
 "nbformat": 3,
 "nbformat_minor": 0,
 "worksheets": [
  {
   "cells": [
    {
     "cell_type": "code",
     "collapsed": false,
     "input": [
      "import numpy as np\n",
      "from matplotlib import pyplot as plt\n",
      "import C_to_O as CO\n",
      "from T_freeze import T_freeze, Rdes, tevap\n",
      "\n",
      "from C_to_O import T_freeze_H20, T_freeze_CO2, T_freeze_CO\n",
      "\n",
      "\n",
      "import matplotlib.cm as cm\n",
      "\n",
      "#from drift_timescales import tr, Tdisk, ts, lambdamfp, cdisk, tdes, rf, r_freeze, \\\n",
      "#        read_drag_file, read_drag_file_many, r_stop, Mdot_solids, Mdot_gas, dMgas_dt, dMsol_dt#, rdot\n",
      "from drift_timescales_varying_sigma import dMdot, Mgas_dt, Msol_dt, Sigmadisk_act, vacc_act, rdot_gas\n",
      "from drift_timescales_varying_sigma_3 import dMdot as dMdott, Mdot_solids as Mdot_solids_t, dMgas_dt as dMgas_dt_t, \\\n",
      "        dMsol_dt as dMsol_dt_t, Sigmap_act, vacc_act as vacc_old\n",
      "from drift_timescales_Til_parameters_ring_check import vacc_act as vacc_Til, Sigmap_act as Sigmap_2\n",
      "from drift_timescales_updated_sigmap import Sigmadisk, Tdisk as Tdisk_new, vacc_act as vacc_new, Sigmap_act as Sigmap_new, \\\n",
      "        rdot_with_acc, rdot, tr, rf\n",
      "    \n",
      "from scipy.optimize import brentq\n",
      "from utils.constants import cmperau, AU, Rsun, Msun\n",
      "from matplotlib import animation\n",
      "from IPython.display import HTML\n",
      "from IPython import display\n",
      "import JSAnimation\n",
      "from JSAnimation.JSAnimation import IPython_display"
     ],
     "language": "python",
     "metadata": {},
     "outputs": [],
     "prompt_number": 1
    },
    {
     "cell_type": "code",
     "collapsed": false,
     "input": [
      "nt = 20\n",
      "nr = 5000 \n",
      "\n",
      "Tstar = 4300.\n",
      "Rstar = 2.5 * Rsun\n",
      "Mdisk = 0.1 * Msun\n",
      "alpha = 0.001\n",
      "\n",
      "r = np.logspace(-1, 4, nr)"
     ],
     "language": "python",
     "metadata": {},
     "outputs": [],
     "prompt_number": 2
    },
    {
     "cell_type": "code",
     "collapsed": false,
     "input": [
      "r = np.logspace(-1, 4, nr)\n",
      "t = np.linspace(0, 3e6 * 365 * 24 * 3600, nt)\n",
      "dt = t[1] - t[0]\n",
      "\n",
      "sigarray = np.ndarray(shape = (len(r), len(t)), dtype = float)\n",
      "sigarray_new = np.ndarray(shape = (len(r), len(t)), dtype = float)\n",
      "sigarray_new_1 = np.ndarray(shape = (len(r), len(t)), dtype = float)\n",
      "\n",
      "for i in range(len(r)):\n",
      "    for j in range(len(t)):\n",
      "        sigarray[i, j] = Sigmadisk_act(r[i], t[j], alpha, r1 = 100 * AU)\n",
      "        sigarray_new[i, j] = Sigmadisk(r[i], t[j], alpha, Mdisk, 100 * AU)\n",
      "        sigarray_new_1[i, j] = Sigmadisk(r[i], t[j], alpha, Mdisk, 100 * AU, gammadflag = 1)\n",
      "        \n",
      "        \n",
      "#for j in range(len(t)):\n",
      "#    temp = Sigmap_act(r[0], r[-1], nr, t[j], dt, 100., 0.01)\n",
      "#    for i in range(len(r)):\n",
      "#        sigparray[i, j] = temp[i]"
     ],
     "language": "python",
     "metadata": {},
     "outputs": [],
     "prompt_number": 3
    },
    {
     "cell_type": "code",
     "collapsed": false,
     "input": [
      "import time\n",
      "from IPython import display\n",
      "for i in range(nt):\n",
      "    plt.loglog(r, sigarray[:, i])\n",
      "    plt.loglog(r, sigarray_new[:, i])\n",
      "    plt.loglog(r, sigarray_new_1[:, i])\n",
      "    #plt.loglog(r[:-1], -array1[:, i, 2], '--b')\n",
      "    #plt.title('s=0.001 cm')\n",
      "    plt.xlabel('a [AU]')\n",
      "    plt.ylabel(r'$\\Sigma_{\\rm d}$ [g cm$^{-2}$]')\n",
      "    plt.ylim(ymin = 1, ymax = 5e4)\n",
      "    plt.xlim(xmax = 100)\n",
      "    display.clear_output(wait=True)\n",
      "    #plt.savefig('../figs/Sigma_disk_profiles/sigmad_vs_a_t_' + str(i) + '_.pdf')\n",
      "    plt.show()\n",
      "    display.display(plt.gcf())\n",
      "    time.sleep(0.00001)"
     ],
     "language": "python",
     "metadata": {},
     "outputs": [
      {
       "metadata": {},
       "output_type": "display_data",
       "png": "[encoded data removed]",
       "text": [
        "<matplotlib.figure.Figure at 0x10de1d8d0>"
       ]
      },
      {
       "metadata": {},
       "output_type": "display_data",
       "text": [
        "<matplotlib.figure.Figure at 0x10da18b90>"
       ]
      },
      {
       "metadata": {},
       "output_type": "display_data",
       "text": [
        "<matplotlib.figure.Figure at 0x10da18b90>"
       ]
      }
     ],
     "prompt_number": 68
    },
    {
     "cell_type": "code",
     "collapsed": false,
     "input": [
      "Td, Td_new, Td_new_noconst = [], [], []\n",
      "\n",
      "for i in range(len(r)):\n",
      "    Td = np.append(Td, Tdisk(r[i]))\n",
      "    Td_new = np.append(Td_new, Tdisk_new(r[i], Tstar, Rstar))\n",
      "    Td_new_noconst = np.append(Td_new_noconst, Tdisk_new(r[i], Tstar, Rstar, const = 0))"
     ],
     "language": "python",
     "metadata": {},
     "outputs": [],
     "prompt_number": 61
    },
    {
     "cell_type": "code",
     "collapsed": false,
     "input": [
      "plt.loglog(r, Td)\n",
      "plt.semilogx(r, Td_new)\n",
      "plt.semilogx(r, Td_new_noconst)\n",
      "#plt.xlim(xmax = 100)"
     ],
     "language": "python",
     "metadata": {},
     "outputs": [
      {
       "metadata": {},
       "output_type": "pyout",
       "prompt_number": 62,
       "text": [
        "[<matplotlib.lines.Line2D at 0x10d2229d0>]"
       ]
      },
      {
       "metadata": {},
       "output_type": "display_data",
       "png": "[encoded data removed]",
       "text": [
        "<matplotlib.figure.Figure at 0x10da12810>"
       ]
      }
     ],
     "prompt_number": 62
    },
    {
     "cell_type": "code",
     "collapsed": false,
     "input": [
      "v_Til = []\n",
      "\n",
      "for i in range(len(r)):\n",
      "    v_Til = np.append(v_Til, vacc_Til(r[i], alpha, Tstar, Rstar, Mstar = Msun, mu = 2.35))\n",
      "    \n",
      "v_old = np.ndarray(shape = (len(r), len(t)), dtype = float)\n",
      "v_new = np.ndarray(shape = (len(r), len(t)), dtype = float)\n",
      "\n",
      "for i in range(len(r)):\n",
      "    for j in range(len(t)):\n",
      "        v_old[i, j] = vacc_old(r[i], t[j], alpha)\n",
      "        v_new[i, j] = vacc_new(r[i], t[j], alpha, mu = 2.35, T0 = 120, betaT = 3./7, rc = 100 * AU, gammadflag = 0)"
     ],
     "language": "python",
     "metadata": {},
     "outputs": [],
     "prompt_number": 6
    },
    {
     "cell_type": "code",
     "collapsed": false,
     "input": [
      "import time\n",
      "from IPython import display\n",
      "for i in range(nt):\n",
      "    plt.semilogx(r, -v_Til)\n",
      "    plt.semilogx(r, -v_old[:, i])\n",
      "    plt.semilogx(r, v_old[:, i], '--g')\n",
      "    plt.semilogx(r, -v_new[:, i])\n",
      "    plt.semilogx(r, v_new[:, i], '--r')\n",
      "    #plt.loglog(r, sigarray_new_1[:, i])\n",
      "    #plt.loglog(r[:-1], -array1[:, i, 2], '--b')\n",
      "    #plt.title('s=0.001 cm')\n",
      "    plt.xlabel('a [AU]')\n",
      "    #plt.ylabel(r'$\\Sigma_{\\rm d}$ [g cm$^{-2}$]')\n",
      "    #plt.ylim(ymin = 1, ymax = 5e4)\n",
      "    plt.xlim(xmax = 100)\n",
      "    plt.ylim(0, 20)\n",
      "    display.clear_output(wait=True)\n",
      "    #plt.savefig('../figs/Sigma_disk_profiles/sigmad_vs_a_t_' + str(i) + '_.pdf')\n",
      "    plt.show()\n",
      "    display.display(plt.gcf())\n",
      "    time.sleep(0.00001)"
     ],
     "language": "python",
     "metadata": {},
     "outputs": [
      {
       "metadata": {},
       "output_type": "display_data",
       "png": "[encoded data removed]",
       "text": [
        "<matplotlib.figure.Figure at 0x10cba8290>"
       ]
      },
      {
       "metadata": {},
       "output_type": "display_data",
       "text": [
        "<matplotlib.figure.Figure at 0x10b4c9e50>"
       ]
      },
      {
       "metadata": {},
       "output_type": "display_data",
       "text": [
        "<matplotlib.figure.Figure at 0x10b4c9e50>"
       ]
      }
     ],
     "prompt_number": 7
    },
    {
     "cell_type": "code",
     "collapsed": false,
     "input": [
      "nt = 20\n",
      "nr = 50\n",
      "\n",
      "Tstar = 4300.\n",
      "Rstar = 2.5 * Rsun\n",
      "rc = 60 * AU\n",
      "Mdisk = 0.1 * Msun\n",
      "s = 1e-3\n",
      "alpha = 1e-2\n",
      "\n",
      "r = logspace(np.log10(0.05),np.log10(4e3),nr)\n",
      "t = np.linspace(1e4,3e6,nt)*365*24*3600\n",
      "dt = t[1] - t[0]\n",
      "\n",
      "sigarray_new = np.ndarray(shape = (len(r), len(t)), dtype = float)\n",
      "#rdotv = np.ndarray(shape = (len(r), len(t)), dtype = float)\n",
      "\n",
      "\n",
      "for i in range(len(r)):\n",
      "    for j in range(len(t)):\n",
      "        sigarray_new[i, j] = Sigmadisk(r[i], t[j], alpha, Mdisk, rc, gammadflag = 0)\n",
      "        #rdotv[i, j] = rdot_with_acc(r[i], t[j], s, alpha, 1e-3, Mdisk, rhos = 1.6, mu = 2.3)\n",
      "\n",
      "\n",
      "#sigparray = Sigmap_2(r[0], r[-1], nr, t[0], t[-1], nt, s, alpha, Mdisk, Rstar, Tstar, rc, rhos = 1.6, mu= 2.3,  Mstar = Msun, sigma = 2 * 10**(-15), dusttogas = 0.01)\n",
      "sigparray_new = Sigmap_new(r[0], r[-1], nr, t[0], t[-1], nt, s, alpha, Mdisk, rc, rhos = 1.6, mu = 2.3, gammadflag = 0)\n",
      "#sigparray_new_nodt = Sigmap_new(r[0], r[-1], nr, t[0], t[-1], nt, s, alpha, Mdisk, rc, rhos = 1.6, mu = 2.3, gammadflag = 0, sigmad_dt = 0)\n"
     ],
     "language": "python",
     "metadata": {},
     "outputs": [],
     "prompt_number": 3
    },
    {
     "cell_type": "code",
     "collapsed": false,
     "input": [
      "import time\n",
      "from IPython import display\n",
      "for i in range(nt):\n",
      "    #plt.loglog(r, sigarray[:, i])\n",
      "    plt.loglog(r, sigarray_new[:, i])\n",
      "    #plt.loglog(r, sigparray[:, i], label = 'Ana')\n",
      "    plt.loglog(r, sigparray_new[:,i], label = 'Ana new')\n",
      "    #plt.loglog(r, sigparray_new_nodt[:,i])\n",
      "    #plt.loglog(r, sigparray[:,i])\n",
      "    #plt.loglog(r[:-1], -array1[:, i, 2], '--b')\n",
      "    #plt.title('s=0.001 cm')\n",
      "    plt.xlabel('a [AU]')\n",
      "    plt.ylabel(r'$\\Sigma_{\\rm d}$ [g cm$^{-2}$]')\n",
      "    plt.title(str(t[i] / (365*24*3600)))\n",
      "    plt.ylim(2e-5, 2e5)\n",
      "    plt.xlim(0.5,100)\n",
      "    plt.legend()\n",
      "    display.clear_output(wait=True)\n",
      "    #plt.savefig('../figs/Sigma_disk_profiles_Ana_Til_parameters/' +str(s) +'/sigmad_vs_a_t_' + str(i) + '_.pdf')\n",
      "    plt.show()\n",
      "    display.display(plt.gcf())\n",
      "    time.sleep(0.00001)"
     ],
     "language": "python",
     "metadata": {},
     "outputs": [
      {
       "metadata": {},
       "output_type": "display_data",
       "png": "[encoded data removed]",
       "text": [
        "<matplotlib.figure.Figure at 0x10cb0af10>"
       ]
      },
      {
       "metadata": {},
       "output_type": "display_data",
       "text": [
        "<matplotlib.figure.Figure at 0x10cb982d0>"
       ]
      },
      {
       "metadata": {},
       "output_type": "display_data",
       "text": [
        "<matplotlib.figure.Figure at 0x10cb982d0>"
       ]
      }
     ],
     "prompt_number": 4
    },
    {
     "cell_type": "code",
     "collapsed": false,
     "input": [
      "s=1e-3\n",
      "nt = 50\n",
      "nr = 200\n",
      "alpha=0.01\n",
      "\n",
      "r = logspace(np.log10(0.05),np.log10(4e3),nr)\n",
      "t = np.linspace(1e4,3e6,nt)*365*24*3600\n",
      "dt = t[1] - t[0]\n",
      "\n",
      "f=open('advection_from_Til/data_' + str(s)+ '_gaussian/sigma_d.dat', 'r')\n",
      "\n",
      "sigparray_Til = np.ndarray(shape = (nt, nr), dtype = float)\n",
      "sigparray_Til_var_dt = np.ndarray(shape = (nt, nr), dtype = float)\n",
      "\n",
      "for j in range(nt):\n",
      "    line = f.readline().split()\n",
      "    for i in range(nr):\n",
      "        sigparray_Til[j ,i] = float(line[i])\n",
      "        \n",
      "f.close()\n",
      "\n",
      "f=open('advection_from_Til/data_' + str(s)+ '_gaussian_var_dt/sigma_d.dat', 'r')\n",
      "\n",
      "for j in range(nt):\n",
      "    line = f.readline().split()\n",
      "    for i in range(nr):\n",
      "        sigparray_Til_var_dt[j ,i] = float(line[i])\n",
      "        \n",
      "f.close()\n",
      "\n",
      "sigparray = Sigmap_2(r[0], r[-1], nr, t[0], t[-1], nt, s, alpha, Mdisk, Rstar, Tstar, 60*AU, rhos = 1.6, mu= 2.3,  Mstar = Msun, sigma = 2 * 10**(-15), dusttogas = 0.01)"
     ],
     "language": "python",
     "metadata": {},
     "outputs": [],
     "prompt_number": 20
    },
    {
     "cell_type": "code",
     "collapsed": false,
     "input": [
      "import time\n",
      "from IPython import display\n",
      "for i in range(nt):\n",
      "    #plt.loglog(r, sigarray[:, i])\n",
      "    plt.loglog(r, sigparray[:, i], label = 'Ana')\n",
      "    plt.loglog(r, sigparray_Til[i], label = 'Til')\n",
      "    plt.loglog(r, sigparray_Til_var_dt[i], label = 'Til variable timestep')\n",
      "    #plt.loglog(r[:-1], -array1[:, i, 2], '--b')\n",
      "    #plt.title('s=0.001 cm')\n",
      "    plt.xlabel('a [AU]')\n",
      "    plt.ylabel(r'$\\Sigma_{\\rm d}$ [g cm$^{-2}$]')\n",
      "    plt.title(str(t[i] / (365*24*3600)))\n",
      "    plt.ylim(2e-8, 2e5)\n",
      "    plt.xlim(0.5,500)\n",
      "    plt.legend()\n",
      "    display.clear_output(wait=True)\n",
      "    plt.savefig('../figs/Sigma_disk_profiles_ring_check/' +str(s) +'/sigmad_vs_a_t_' + str(i) + '_.pdf')\n",
      "    plt.show()\n",
      "    display.display(plt.gcf())\n",
      "    time.sleep(0.00001)"
     ],
     "language": "python",
     "metadata": {},
     "outputs": [
      {
       "metadata": {},
       "output_type": "display_data",
       "png": "[encoded data removed]",
       "text": [
        "<matplotlib.figure.Figure at 0x1037523d0>"
       ]
      },
      {
       "metadata": {},
       "output_type": "display_data",
       "text": [
        "<matplotlib.figure.Figure at 0x10379fe50>"
       ]
      },
      {
       "metadata": {},
       "output_type": "display_data",
       "text": [
        "<matplotlib.figure.Figure at 0x10379fe50>"
       ]
      }
     ],
     "prompt_number": 21
    },
    {
     "cell_type": "code",
     "collapsed": false,
     "input": [
      "rc"
     ],
     "language": "python",
     "metadata": {},
     "outputs": [
      {
       "metadata": {},
       "output_type": "pyout",
       "prompt_number": 4,
       "text": [
        "<function matplotlib.pyplot.rc>"
       ]
      }
     ],
     "prompt_number": 4
    },
    {
     "cell_type": "code",
     "collapsed": false,
     "input": [
      "nt = 20\n",
      "nr = 50\n",
      "\n",
      "#Tstar = 4300.\n",
      "#Rstar = 2.5 * Rsun\n",
      "rc = 60 * AU\n",
      "Mdisk = 0.1 * Msun\n",
      "s = 1e5\n",
      "alpha = 1e-2\n",
      "\n",
      "r = logspace(np.log10(0.05),np.log10(4e3),nr)\n",
      "t = np.linspace(1e4,3e6,nt)*365*24*3600\n",
      "dt = t[1] - t[0]\n",
      "\n",
      "#sigarray_new = np.ndarray(shape = (len(r), len(t)), dtype = float)\n",
      "rdotv = np.ndarray(shape = (len(r), len(t)), dtype = float)\n",
      "rdot_w = np.ndarray(shape = (len(r), len(t)), dtype = float)\n",
      "rdot_noacc = np.ndarray(shape = (len(r), len(t)), dtype = float)\n",
      "\n",
      "\n",
      "for i in range(len(r)):\n",
      "    for j in range(len(t)):\n",
      "        #sigarray_new[i, j] = Sigmadisk(r[i], t[j], alpha, Mdisk, rc, gammadflag = 0)\n",
      "        rdotv[i, j] = rdot_with_acc(r[i], t[j], s, alpha, 1e-3, Mdisk, rhos = 1.6, mu = 2.3)\n",
      "        rdot_noacc[i, j] = rdot(r[i], t[j], s, alpha, 1e-3, Mdisk, rhos = 1.6, mu = 2.3)\n",
      "        rdot_w[i, j] = vacc_new(r[i], t[j], alpha, mu = 2.3, T0 = 120, betaT = 3./7, rc = rc, gammadflag = 0)"
     ],
     "language": "python",
     "metadata": {},
     "outputs": [],
     "prompt_number": 2
    },
    {
     "cell_type": "code",
     "collapsed": false,
     "input": [
      "import time\n",
      "from IPython import display\n",
      "for i in range(nt):\n",
      "    #plt.loglog(r, sigarray[:, i])\n",
      "    plt.loglog(r, -rdotv[:, i])\n",
      "    plt.loglog(r, rdotv[:, i], '--')\n",
      "    plt.loglog(r, -rdot_noacc[:, i], 'r')\n",
      "    plt.loglog(r, rdot_noacc[:, i], '--r')\n",
      "    plt.loglog(r, -rdot_w[:, i], 'g')\n",
      "    plt.loglog(r, rdot_w[:, i], '--g')\n",
      "    #plt.loglog(r, sigparray[:, i], label = 'Ana')\n",
      "    #plt.loglog(r, sigparray_new[:,i], label = 'Ana new')\n",
      "    #plt.loglog(r[:-1], -array1[:, i, 2], '--b')\n",
      "    #plt.title('s=0.001 cm')\n",
      "    plt.xlabel('a [AU]')\n",
      "    #plt.ylabel(r'$\\Sigma_{\\rm d}$ [g cm$^{-2}$]')\n",
      "    #plt.title(str(t[i] / (365*24*3600)))\n",
      "    #plt.ylim(2e-5, 2e5)\n",
      "    #plt.xlim(0.5,100)\n",
      "    #plt.legend()\n",
      "    display.clear_output(wait=True)\n",
      "    #plt.savefig('../figs/Sigma_disk_profiles_Ana_Til_parameters/' +str(s) +'/sigmad_vs_a_t_' + str(i) + '_.pdf')\n",
      "    plt.show()\n",
      "    display.display(plt.gcf())\n",
      "    time.sleep(0.00001)"
     ],
     "language": "python",
     "metadata": {},
     "outputs": [
      {
       "metadata": {},
       "output_type": "display_data",
       "png": "[encoded data removed]",
       "text": [
        "<matplotlib.figure.Figure at 0x10cb677d0>"
       ]
      },
      {
       "metadata": {},
       "output_type": "display_data",
       "text": [
        "<matplotlib.figure.Figure at 0x103390550>"
       ]
      },
      {
       "metadata": {},
       "output_type": "display_data",
       "text": [
        "<matplotlib.figure.Figure at 0x103390550>"
       ]
      }
     ],
     "prompt_number": 3
    },
    {
     "cell_type": "code",
     "collapsed": false,
     "input": [
      "import time\n",
      "from IPython import display\n",
      "for i in range(nt):\n",
      "    #plt.loglog(r, sigarray[:, i])\n",
      "    plt.loglog(r, -2 * pi * rdotv[:, i] * sigparray_new[:,i])\n",
      "    plt.loglog(r, 2 * pi * rdotv[:, i] * sigparray_new[:,i], '--')\n",
      "    plt.loglog(r, -2 * pi * rdot_w[:, i] * sigarray_new[:,i], 'g')\n",
      "    plt.loglog(r, 2 * pi * rdot_w[:, i] * sigarray_new[:,i], '--g')\n",
      "    #plt.loglog(r, -rdot_w[:, i], 'g')\n",
      "    #plt.loglog(r, rdot_w[:, i], '--g')\n",
      "    #plt.loglog(r, sigparray[:, i], label = 'Ana')\n",
      "    #plt.loglog(r, sigparray_new[:,i], label = 'Ana new')\n",
      "    #plt.loglog(r[:-1], -array1[:, i, 2], '--b')\n",
      "    #plt.title('s=0.001 cm')\n",
      "    plt.xlabel('a [AU]')\n",
      "    #plt.ylabel(r'$\\Sigma_{\\rm d}$ [g cm$^{-2}$]')\n",
      "    #plt.title(str(t[i] / (365*24*3600)))\n",
      "    #plt.ylim(1e-6, 1)\n",
      "    #plt.xlim(0.5,100)\n",
      "    #plt.legend()\n",
      "    display.clear_output(wait=True)\n",
      "    #plt.savefig('../figs/Sigma_disk_profiles_Ana_Til_parameters/' +str(s) +'/sigmad_vs_a_t_' + str(i) + '_.pdf')\n",
      "    plt.show()\n",
      "    display.display(plt.gcf())\n",
      "    time.sleep(0.00001)"
     ],
     "language": "python",
     "metadata": {},
     "outputs": [
      {
       "metadata": {},
       "output_type": "display_data",
       "png": "[encoded data removed]",
       "text": [
        "<matplotlib.figure.Figure at 0x10a5786d0>"
       ]
      },
      {
       "metadata": {},
       "output_type": "display_data",
       "text": [
        "<matplotlib.figure.Figure at 0x10de62d10>"
       ]
      },
      {
       "metadata": {},
       "output_type": "display_data",
       "text": [
        "<matplotlib.figure.Figure at 0x10de62d10>"
       ]
      }
     ],
     "prompt_number": 91
    },
    {
     "cell_type": "code",
     "collapsed": false,
     "input": [
      "sigarray_new[10]"
     ],
     "language": "python",
     "metadata": {},
     "outputs": [
      {
       "metadata": {},
       "output_type": "pyout",
       "prompt_number": 80,
       "text": [
        "array([ 6379.17317558,  4427.17234237,  3296.24428988,  2573.75503325,\n",
        "        2079.81719941,  1724.86518182,  1459.84582555,  1255.89008327,\n",
        "        1095.02312139,   965.53369806,   859.50108482,   771.39782743,\n",
        "         697.26250265,   634.19016394,   580.00763504,   533.0604126 ,\n",
        "         492.06916165,   456.03084957,   424.14923805,   395.78511945])"
       ]
      }
     ],
     "prompt_number": 80
    },
    {
     "cell_type": "code",
     "collapsed": false,
     "input": [
      "sigparray_new[:,-1]/sigarray_new[:,-1]"
     ],
     "language": "python",
     "metadata": {},
     "outputs": [
      {
       "metadata": {},
       "output_type": "pyout",
       "prompt_number": 8,
       "text": [
        "array([ 0.01137015,  0.01137016,  0.01137029,  0.01137053,  0.01137088,\n",
        "        0.01137135,  0.01137195,  0.0113727 ,  0.01137363,  0.01137477,\n",
        "        0.01137615,  0.01137782,  0.01137985,  0.01138229,  0.01138524,\n",
        "        0.01138878,  0.01139303,  0.01139812,  0.01140419,  0.01141143,\n",
        "        0.01142002,  0.01143018,  0.01144215,  0.01145616,  0.01147246,\n",
        "        0.01149125,  0.01151269,  0.0115368 ,  0.01156342,  0.01159208,\n",
        "        0.01162185,  0.01165121,  0.0116778 ,  0.01169827,  0.01170815,\n",
        "        0.01170163,  0.01167089,  0.0116037 ,  0.01147605,  0.01123369,\n",
        "        0.01075301,  0.00977946,  0.0079237 ,  0.00505202,  0.00216995,\n",
        "        0.00067537,  0.00026142,  0.00016546,  0.00014317,  0.00014714])"
       ]
      }
     ],
     "prompt_number": 8
    },
    {
     "cell_type": "code",
     "collapsed": false,
     "input": [
      "tdrift = []\n",
      "for i in range(len(r)):\n",
      "    tdrift = np.append(tdrift, tr(r[i], t[0], 1e5, alpha, 1e-3, Mdisk, rc, rhos = 1.6, mu = 2.3))"
     ],
     "language": "python",
     "metadata": {},
     "outputs": [],
     "prompt_number": 60
    },
    {
     "cell_type": "code",
     "collapsed": false,
     "input": [
      "plt.loglog(r, tdrift)"
     ],
     "language": "python",
     "metadata": {},
     "outputs": [
      {
       "metadata": {},
       "output_type": "pyout",
       "prompt_number": 61,
       "text": [
        "[<matplotlib.lines.Line2D at 0x10e48e5d0>]"
       ]
      },
      {
       "metadata": {},
       "output_type": "display_data",
       "png": "[encoded data removed]",
       "text": [
        "<matplotlib.figure.Figure at 0x10cd97690>"
       ]
      }
     ],
     "prompt_number": 61
    },
    {
     "cell_type": "code",
     "collapsed": false,
     "input": [
      "rf(10.0, 3e6*365*24*3600, 1, 18, 5800., 0.01, 1e-3, 0.1*Msun, returnall = True)"
     ],
     "language": "python",
     "metadata": {},
     "outputs": [
      {
       "metadata": {},
       "output_type": "pyout",
       "prompt_number": 2,
       "text": [
        "(array([  1.00000000e-10,   1.00005521e-10,   1.00011042e-10, ...,\n",
        "          2.42234695e+12,   2.42248068e+12,   2.42261806e+12]),\n",
        " array([ 10.        ,  10.        ,  10.        , ...,   0.48819945,\n",
        "          0.48801704,   0.4876577 ]),\n",
        " array([ 1.        ,  1.        ,  1.        , ...,  0.01900088,\n",
        "         0.01264551,  0.        ]))"
       ]
      }
     ],
     "prompt_number": 2
    },
    {
     "cell_type": "code",
     "collapsed": false,
     "input": [
      "s = np.logspace(np.log10(0.5), 3, 10)\n",
      "\n",
      "a = 1.0 #np.logspace(-1, 2, 50)\n",
      "t = np.logspace(2, np.log10(3e6), 100) * 365 * 24 * 3600\n",
      "\n",
      "desdist = np.ndarray(shape = (len(s), len(t)), dtype = float)\n",
      "\n",
      "for i in range(len(s)):\n",
      "    for j in range(len(t)):\n",
      "        desdist[i, j] = rf(a, t[j], s[i], 18, 5800., 0.01, 1e-3, 0.1*Msun, rhos = 2.0, mu=2.3, Sigma0=2e3, betaS=1)\n",
      "        print s[i], t[j]\n",
      "        \n"
     ],
     "language": "python",
     "metadata": {},
     "outputs": [
      {
       "output_type": "stream",
       "stream": "stdout",
       "text": [
        "0.5 3153600000.0\n",
        "0.5"
       ]
      },
      {
       "output_type": "stream",
       "stream": "stdout",
       "text": [
        " 3499693846.96\n",
        "0.5"
       ]
      },
      {
       "output_type": "stream",
       "stream": "stdout",
       "text": [
        " 3883769984.29\n",
        "0.5"
       ]
      },
      {
       "output_type": "stream",
       "stream": "stdout",
       "text": [
        " 4309996802.71\n",
        "0.5"
       ]
      },
      {
       "output_type": "stream",
       "stream": "stdout",
       "text": [
        " 4783000155.65\n",
        "0.5"
       ]
      },
      {
       "output_type": "stream",
       "stream": "stdout",
       "text": [
        " 5307913563.78\n",
        "0.5"
       ]
      },
      {
       "output_type": "stream",
       "stream": "stdout",
       "text": [
        " 5890433929.27\n",
        "0.5"
       ]
      },
      {
       "output_type": "stream",
       "stream": "stdout",
       "text": [
        " 6536883364.47\n",
        "0.5"
       ]
      },
      {
       "output_type": "stream",
       "stream": "stdout",
       "text": [
        " 7254277805.98\n",
        "0.5"
       ]
      },
      {
       "output_type": "stream",
       "stream": "stdout",
       "text": [
        " 8050403158.84\n",
        "0.5"
       ]
      },
      {
       "output_type": "stream",
       "stream": "stdout",
       "text": [
        " 8933899797.23\n",
        "0.5"
       ]
      },
      {
       "output_type": "stream",
       "stream": "stdout",
       "text": [
        " 9914356338.7\n",
        "0.5"
       ]
      },
      {
       "output_type": "stream",
       "stream": "stdout",
       "text": [
        " 11002413709.8\n",
        "0.5"
       ]
      },
      {
       "output_type": "stream",
       "stream": "stdout",
       "text": [
        " 12209880632.2\n",
        "0.5"
       ]
      },
      {
       "output_type": "stream",
       "stream": "stdout",
       "text": [
        " 13549861783.6\n",
        "0.5"
       ]
      },
      {
       "output_type": "stream",
       "stream": "stdout",
       "text": [
        " 15036900022.6\n",
        "0.5"
       ]
      },
      {
       "output_type": "stream",
       "stream": "stdout",
       "text": [
        " 16687134223.2\n",
        "0.5"
       ]
      },
      {
       "output_type": "stream",
       "stream": "stdout",
       "text": [
        " 18518474430.6\n",
        "0.5"
       ]
      },
      {
       "output_type": "stream",
       "stream": "stdout",
       "text": [
        " 20550796239.2\n",
        "0.5"
       ]
      },
      {
       "output_type": "stream",
       "stream": "stdout",
       "text": [
        " 22806156503.2\n",
        "0.5"
       ]
      },
      {
       "output_type": "stream",
       "stream": "stdout",
       "text": [
        " 25309032720.4\n",
        "0.5"
       ]
      },
      {
       "output_type": "stream",
       "stream": "stdout",
       "text": [
        " 28086588687.2\n",
        "0.5"
       ]
      },
      {
       "output_type": "stream",
       "stream": "stdout",
       "text": [
        " 31168969308.3\n",
        "0.5"
       ]
      },
      {
       "output_type": "stream",
       "stream": "stdout",
       "text": [
        " 34589627760.2\n",
        "0.5"
       ]
      },
      {
       "output_type": "stream",
       "stream": "stdout",
       "text": [
        " 38385688559.4\n",
        "0.5"
       ]
      },
      {
       "output_type": "stream",
       "stream": "stdout",
       "text": [
        " 42598350476.5\n",
        "0.5"
       ]
      },
      {
       "output_type": "stream",
       "stream": "stdout",
       "text": [
        " 47273333667.3\n",
        "0.5"
       ]
      },
      {
       "output_type": "stream",
       "stream": "stdout",
       "text": [
        " 52461375875.4\n",
        "0.5"
       ]
      },
      {
       "output_type": "stream",
       "stream": "stdout",
       "text": [
        " 58218783090.5\n",
        "0.5"
       ]
      },
      {
       "output_type": "stream",
       "stream": "stdout",
       "text": [
        " 64608040639.1\n",
        "0.5"
       ]
      },
      {
       "output_type": "stream",
       "stream": "stdout",
       "text": [
        " 71698491339.7\n",
        "0.5"
       ]
      },
      {
       "output_type": "stream",
       "stream": "stdout",
       "text": [
        " 79567088082.7\n",
        "0.5"
       ]
      },
      {
       "output_type": "stream",
       "stream": "stdout",
       "text": [
        " 88299229003.0\n",
        "0.5"
       ]
      },
      {
       "output_type": "stream",
       "stream": "stdout",
       "text": [
        " 97989684307.8\n",
        "0.5"
       ]
      },
      {
       "output_type": "stream",
       "stream": "stdout",
       "text": [
        " 108743624822.0\n",
        "0.5"
       ]
      },
      {
       "output_type": "stream",
       "stream": "stdout",
       "text": [
        " 120677763408.0\n",
        "0.5"
       ]
      },
      {
       "output_type": "stream",
       "stream": "stdout",
       "text": [
        " 133921621659.0\n",
        "0.5"
       ]
      },
      {
       "output_type": "stream",
       "stream": "stdout",
       "text": [
        " 148618935596.0\n",
        "0.5"
       ]
      },
      {
       "output_type": "stream",
       "stream": "stdout",
       "text": [
        " 164929215642.0\n",
        "0.5"
       ]
      },
      {
       "output_type": "stream",
       "stream": "stdout",
       "text": [
        " 183029477792.0\n",
        "0.5"
       ]
      },
      {
       "output_type": "stream",
       "stream": "stdout",
       "text": [
        " 203116164777.0\n",
        "0.5"
       ]
      },
      {
       "output_type": "stream",
       "stream": "stdout",
       "text": [
        " 225407278060.0\n",
        "0.5"
       ]
      },
      {
       "output_type": "stream",
       "stream": "stdout",
       "text": [
        " 250144743812.0\n",
        "0.5"
       ]
      },
      {
       "output_type": "stream",
       "stream": "stdout",
       "text": [
        " 277597038549.0\n",
        "0.5"
       ]
      },
      {
       "output_type": "stream",
       "stream": "stdout",
       "text": [
        " 308062102912.0\n",
        "0.5"
       ]
      },
      {
       "output_type": "stream",
       "stream": "stdout",
       "text": [
        " 341870575229.0\n",
        "0.5"
       ]
      },
      {
       "output_type": "stream",
       "stream": "stdout",
       "text": [
        " 379389379943.0\n",
        "0.5"
       ]
      },
      {
       "output_type": "stream",
       "stream": "stdout",
       "text": [
        " 421025709851.0\n",
        "0.5"
       ]
      },
      {
       "output_type": "stream",
       "stream": "stdout",
       "text": [
        " 467231445389.0\n",
        "0.5"
       ]
      },
      {
       "output_type": "stream",
       "stream": "stdout",
       "text": [
        " 518508058896.0\n",
        "0.5"
       ]
      },
      {
       "output_type": "stream",
       "stream": "stdout",
       "text": [
        " 575412057115.0\n",
        "0.5"
       ]
      },
      {
       "output_type": "stream",
       "stream": "stdout",
       "text": [
        " 638561020977.0\n",
        "0.5"
       ]
      },
      {
       "output_type": "stream",
       "stream": "stdout",
       "text": [
        " 708640308226.0\n",
        "0.5"
       ]
      },
      {
       "output_type": "stream",
       "stream": "stdout",
       "text": [
        " 786410491630.0\n",
        "0.5"
       ]
      },
      {
       "output_type": "stream",
       "stream": "stdout",
       "text": [
        " 872715613503.0\n",
        "0.5"
       ]
      },
      {
       "output_type": "stream",
       "stream": "stdout",
       "text": [
        " 968492346119.0\n",
        "0.5"
       ]
      },
      {
       "output_type": "stream",
       "stream": "stdout",
       "text": [
        " 1.07478015745e+12\n",
        "0.5"
       ]
      },
      {
       "output_type": "stream",
       "stream": "stdout",
       "text": [
        " 1.19273259255e+12\n",
        "0.5"
       ]
      },
      {
       "output_type": "stream",
       "stream": "stdout",
       "text": [
        " 1.32362979301e+12\n",
        "0.5"
       ]
      },
      {
       "output_type": "stream",
       "stream": "stdout",
       "text": [
        " 1.46889239036e+12\n",
        "0.5"
       ]
      },
      {
       "output_type": "stream",
       "stream": "stdout",
       "text": [
        " 1.63009692427e+12\n",
        "0.5"
       ]
      },
      {
       "output_type": "stream",
       "stream": "stdout",
       "text": [
        " 1.80899295276e+12\n",
        "0.5"
       ]
      },
      {
       "output_type": "stream",
       "stream": "stdout",
       "text": [
        " 2.0075220402e+12\n",
        "0.5"
       ]
      },
      {
       "output_type": "stream",
       "stream": "stdout",
       "text": [
        " 2.22783882918e+12\n",
        "0.5"
       ]
      },
      {
       "output_type": "stream",
       "stream": "stdout",
       "text": [
        " 2.47233442495e+12\n",
        "0.5"
       ]
      },
      {
       "output_type": "stream",
       "stream": "stdout",
       "text": [
        " 2.74366234609e+12\n",
        "0.5"
       ]
      },
      {
       "output_type": "stream",
       "stream": "stdout",
       "text": [
        " 3.04476732329e+12\n",
        "0.5"
       ]
      },
      {
       "output_type": "stream",
       "stream": "stdout",
       "text": [
        " 3.37891725861e+12\n",
        "0.5"
       ]
      },
      {
       "output_type": "stream",
       "stream": "stdout",
       "text": [
        " 3.74973869208e+12\n",
        "0.5"
       ]
      },
      {
       "output_type": "stream",
       "stream": "stdout",
       "text": [
        " 4.1612561607e+12\n",
        "0.5"
       ]
      },
      {
       "output_type": "stream",
       "stream": "stdout",
       "text": [
        " 4.61793587685e+12\n",
        "0.5"
       ]
      },
      {
       "output_type": "stream",
       "stream": "stdout",
       "text": [
        " 5.12473420023e+12\n",
        "0.5"
       ]
      },
      {
       "output_type": "stream",
       "stream": "stdout",
       "text": [
        " 5.68715142943e+12\n",
        "0.5"
       ]
      },
      {
       "output_type": "stream",
       "stream": "stdout",
       "text": [
        " 6.3112914968e+12\n",
        "0.5"
       ]
      },
      {
       "output_type": "stream",
       "stream": "stdout",
       "text": [
        " 7.00392821465e+12\n",
        "0.5"
       ]
      },
      {
       "output_type": "stream",
       "stream": "stdout",
       "text": [
        " 7.77257879166e+12\n",
        "0.5"
       ]
      },
      {
       "output_type": "stream",
       "stream": "stdout",
       "text": [
        " 8.62558541736e+12\n",
        "0.5"
       ]
      },
      {
       "output_type": "stream",
       "stream": "stdout",
       "text": [
        " 9.57220580022e+12\n",
        "0.5"
       ]
      },
      {
       "output_type": "stream",
       "stream": "stdout",
       "text": [
        " 1.06227136418e+13\n",
        "0.5"
       ]
      },
      {
       "output_type": "stream",
       "stream": "stdout",
       "text": [
        " 1.17885101377e+13\n",
        "0.5"
       ]
      },
      {
       "output_type": "stream",
       "stream": "stdout",
       "text": [
        " 1.30822477149e+13\n",
        "0.5"
       ]
      },
      {
       "output_type": "stream",
       "stream": "stdout",
       "text": [
        " 1.45179673492e+13\n",
        "0.5"
       ]
      },
      {
       "output_type": "stream",
       "stream": "stdout",
       "text": [
        " 1.6111250952e+13\n",
        "0.5"
       ]
      },
      {
       "output_type": "stream",
       "stream": "stdout",
       "text": [
        " 1.78793904819e+13\n",
        "0.5"
       ]
      },
      {
       "output_type": "stream",
       "stream": "stdout",
       "text": [
        " 1.98415756141e+13\n",
        "0.5"
       ]
      },
      {
       "output_type": "stream",
       "stream": "stdout",
       "text": [
        " 2.20191020075e+13\n",
        "0.5"
       ]
      },
      {
       "output_type": "stream",
       "stream": "stdout",
       "text": [
        " 2.44356024262e+13\n",
        "0.5"
       ]
      },
      {
       "output_type": "stream",
       "stream": "stdout",
       "text": [
        " 2.71173032273e+13\n",
        "0.5"
       ]
      },
      {
       "output_type": "stream",
       "stream": "stdout",
       "text": [
        " 3.00933089963e+13\n",
        "0.5"
       ]
      },
      {
       "output_type": "stream",
       "stream": "stdout",
       "text": [
        " 3.33959184199e+13\n",
        "0.5"
       ]
      },
      {
       "output_type": "stream",
       "stream": "stdout",
       "text": [
        " 3.70609748249e+13\n",
        "0.5"
       ]
      },
      {
       "output_type": "stream",
       "stream": "stdout",
       "text": [
        " 4.11282551868e+13\n",
        "0.5"
       ]
      },
      {
       "output_type": "stream",
       "stream": "stdout",
       "text": [
        " 4.56419018307e+13\n",
        "0.5"
       ]
      },
      {
       "output_type": "stream",
       "stream": "stdout",
       "text": [
        " 5.06509015095e+13\n",
        "0.5"
       ]
      },
      {
       "output_type": "stream",
       "stream": "stdout",
       "text": [
        " 5.62096170586e+13\n",
        "0.5"
       ]
      },
      {
       "output_type": "stream",
       "stream": "stdout",
       "text": [
        " 6.23783773972e+13\n",
        "0.5"
       ]
      },
      {
       "output_type": "stream",
       "stream": "stdout",
       "text": [
        " 6.92241322807e+13\n",
        "0.5"
       ]
      },
      {
       "output_type": "stream",
       "stream": "stdout",
       "text": [
        " 7.68211789079e+13\n",
        "0.5"
       ]
      },
      {
       "output_type": "stream",
       "stream": "stdout",
       "text": [
        " 8.52519682712e+13\n",
        "0.5"
       ]
      },
      {
       "output_type": "stream",
       "stream": "stdout",
       "text": [
        " 9.4608e+13\n",
        "1.16345908439"
       ]
      },
      {
       "output_type": "stream",
       "stream": "stdout",
       "text": [
        " 3153600000.0\n",
        "1.16345908439"
       ]
      },
      {
       "output_type": "stream",
       "stream": "stdout",
       "text": [
        " 3499693846.96\n",
        "1.16345908439"
       ]
      },
      {
       "output_type": "stream",
       "stream": "stdout",
       "text": [
        " 3883769984.29\n",
        "1.16345908439"
       ]
      },
      {
       "output_type": "stream",
       "stream": "stdout",
       "text": [
        " 4309996802.71\n",
        "1.16345908439"
       ]
      },
      {
       "output_type": "stream",
       "stream": "stdout",
       "text": [
        " 4783000155.65\n",
        "1.16345908439"
       ]
      },
      {
       "output_type": "stream",
       "stream": "stdout",
       "text": [
        " 5307913563.78\n",
        "1.16345908439"
       ]
      },
      {
       "output_type": "stream",
       "stream": "stdout",
       "text": [
        " 5890433929.27\n",
        "1.16345908439"
       ]
      },
      {
       "output_type": "stream",
       "stream": "stdout",
       "text": [
        " 6536883364.47\n",
        "1.16345908439"
       ]
      },
      {
       "output_type": "stream",
       "stream": "stdout",
       "text": [
        " 7254277805.98\n",
        "1.16345908439"
       ]
      },
      {
       "output_type": "stream",
       "stream": "stdout",
       "text": [
        " 8050403158.84\n",
        "1.16345908439"
       ]
      },
      {
       "output_type": "stream",
       "stream": "stdout",
       "text": [
        " 8933899797.23\n",
        "1.16345908439"
       ]
      },
      {
       "output_type": "stream",
       "stream": "stdout",
       "text": [
        " 9914356338.7\n",
        "1.16345908439"
       ]
      },
      {
       "output_type": "stream",
       "stream": "stdout",
       "text": [
        " 11002413709.8\n",
        "1.16345908439"
       ]
      },
      {
       "output_type": "stream",
       "stream": "stdout",
       "text": [
        " 12209880632.2\n",
        "1.16345908439"
       ]
      },
      {
       "output_type": "stream",
       "stream": "stdout",
       "text": [
        " 13549861783.6\n",
        "1.16345908439"
       ]
      },
      {
       "output_type": "stream",
       "stream": "stdout",
       "text": [
        " 15036900022.6\n",
        "1.16345908439"
       ]
      },
      {
       "output_type": "stream",
       "stream": "stdout",
       "text": [
        " 16687134223.2\n",
        "1.16345908439"
       ]
      },
      {
       "output_type": "stream",
       "stream": "stdout",
       "text": [
        " 18518474430.6\n",
        "1.16345908439"
       ]
      },
      {
       "output_type": "stream",
       "stream": "stdout",
       "text": [
        " 20550796239.2\n",
        "1.16345908439"
       ]
      },
      {
       "output_type": "stream",
       "stream": "stdout",
       "text": [
        " 22806156503.2\n",
        "1.16345908439"
       ]
      },
      {
       "output_type": "stream",
       "stream": "stdout",
       "text": [
        " 25309032720.4\n",
        "1.16345908439"
       ]
      },
      {
       "output_type": "stream",
       "stream": "stdout",
       "text": [
        " 28086588687.2\n",
        "1.16345908439"
       ]
      },
      {
       "output_type": "stream",
       "stream": "stdout",
       "text": [
        " 31168969308.3\n",
        "1.16345908439"
       ]
      },
      {
       "output_type": "stream",
       "stream": "stdout",
       "text": [
        " 34589627760.2\n",
        "1.16345908439"
       ]
      },
      {
       "output_type": "stream",
       "stream": "stdout",
       "text": [
        " 38385688559.4\n",
        "1.16345908439"
       ]
      },
      {
       "output_type": "stream",
       "stream": "stdout",
       "text": [
        " 42598350476.5\n",
        "1.16345908439"
       ]
      },
      {
       "output_type": "stream",
       "stream": "stdout",
       "text": [
        " 47273333667.3\n",
        "1.16345908439"
       ]
      },
      {
       "output_type": "stream",
       "stream": "stdout",
       "text": [
        " 52461375875.4\n",
        "1.16345908439"
       ]
      },
      {
       "output_type": "stream",
       "stream": "stdout",
       "text": [
        " 58218783090.5\n",
        "1.16345908439"
       ]
      },
      {
       "output_type": "stream",
       "stream": "stdout",
       "text": [
        " 64608040639.1\n",
        "1.16345908439"
       ]
      },
      {
       "output_type": "stream",
       "stream": "stdout",
       "text": [
        " 71698491339.7\n",
        "1.16345908439"
       ]
      },
      {
       "output_type": "stream",
       "stream": "stdout",
       "text": [
        " 79567088082.7\n",
        "1.16345908439"
       ]
      },
      {
       "output_type": "stream",
       "stream": "stdout",
       "text": [
        " 88299229003.0\n",
        "1.16345908439"
       ]
      },
      {
       "output_type": "stream",
       "stream": "stdout",
       "text": [
        " 97989684307.8\n",
        "1.16345908439"
       ]
      },
      {
       "output_type": "stream",
       "stream": "stdout",
       "text": [
        " 108743624822.0\n",
        "1.16345908439"
       ]
      },
      {
       "output_type": "stream",
       "stream": "stdout",
       "text": [
        " 120677763408.0\n",
        "1.16345908439"
       ]
      },
      {
       "output_type": "stream",
       "stream": "stdout",
       "text": [
        " 133921621659.0\n",
        "1.16345908439"
       ]
      },
      {
       "output_type": "stream",
       "stream": "stdout",
       "text": [
        " 148618935596.0\n",
        "1.16345908439"
       ]
      },
      {
       "output_type": "stream",
       "stream": "stdout",
       "text": [
        " 164929215642.0\n",
        "1.16345908439"
       ]
      },
      {
       "output_type": "stream",
       "stream": "stdout",
       "text": [
        " 183029477792.0\n",
        "1.16345908439"
       ]
      },
      {
       "output_type": "stream",
       "stream": "stdout",
       "text": [
        " 203116164777.0\n",
        "1.16345908439"
       ]
      },
      {
       "output_type": "stream",
       "stream": "stdout",
       "text": [
        " 225407278060.0\n",
        "1.16345908439"
       ]
      },
      {
       "output_type": "stream",
       "stream": "stdout",
       "text": [
        " 250144743812.0\n",
        "1.16345908439"
       ]
      },
      {
       "output_type": "stream",
       "stream": "stdout",
       "text": [
        " 277597038549.0\n",
        "1.16345908439"
       ]
      },
      {
       "output_type": "stream",
       "stream": "stdout",
       "text": [
        " 308062102912.0\n",
        "1.16345908439"
       ]
      },
      {
       "output_type": "stream",
       "stream": "stdout",
       "text": [
        " 341870575229.0\n",
        "1.16345908439"
       ]
      },
      {
       "output_type": "stream",
       "stream": "stdout",
       "text": [
        " 379389379943.0\n",
        "1.16345908439"
       ]
      },
      {
       "output_type": "stream",
       "stream": "stdout",
       "text": [
        " 421025709851.0\n",
        "1.16345908439"
       ]
      },
      {
       "output_type": "stream",
       "stream": "stdout",
       "text": [
        " 467231445389.0\n",
        "1.16345908439"
       ]
      },
      {
       "output_type": "stream",
       "stream": "stdout",
       "text": [
        " 518508058896.0\n",
        "1.16345908439"
       ]
      },
      {
       "output_type": "stream",
       "stream": "stdout",
       "text": [
        " 575412057115.0\n",
        "1.16345908439"
       ]
      },
      {
       "output_type": "stream",
       "stream": "stdout",
       "text": [
        " 638561020977.0\n",
        "1.16345908439"
       ]
      },
      {
       "output_type": "stream",
       "stream": "stdout",
       "text": [
        " 708640308226.0\n",
        "1.16345908439"
       ]
      },
      {
       "output_type": "stream",
       "stream": "stdout",
       "text": [
        " 786410491630.0\n",
        "1.16345908439"
       ]
      },
      {
       "output_type": "stream",
       "stream": "stdout",
       "text": [
        " 872715613503.0\n",
        "1.16345908439"
       ]
      },
      {
       "output_type": "stream",
       "stream": "stdout",
       "text": [
        " 968492346119.0\n",
        "1.16345908439"
       ]
      },
      {
       "output_type": "stream",
       "stream": "stdout",
       "text": [
        " 1.07478015745e+12\n",
        "1.16345908439"
       ]
      },
      {
       "output_type": "stream",
       "stream": "stdout",
       "text": [
        " 1.19273259255e+12\n",
        "1.16345908439"
       ]
      },
      {
       "output_type": "stream",
       "stream": "stdout",
       "text": [
        " 1.32362979301e+12\n",
        "1.16345908439"
       ]
      },
      {
       "output_type": "stream",
       "stream": "stdout",
       "text": [
        " 1.46889239036e+12\n",
        "1.16345908439"
       ]
      },
      {
       "output_type": "stream",
       "stream": "stdout",
       "text": [
        " 1.63009692427e+12\n",
        "1.16345908439"
       ]
      },
      {
       "output_type": "stream",
       "stream": "stdout",
       "text": [
        " 1.80899295276e+12\n",
        "1.16345908439"
       ]
      },
      {
       "output_type": "stream",
       "stream": "stdout",
       "text": [
        " 2.0075220402e+12\n",
        "1.16345908439"
       ]
      },
      {
       "output_type": "stream",
       "stream": "stdout",
       "text": [
        " 2.22783882918e+12\n",
        "1.16345908439"
       ]
      },
      {
       "output_type": "stream",
       "stream": "stdout",
       "text": [
        " 2.47233442495e+12\n",
        "1.16345908439"
       ]
      },
      {
       "output_type": "stream",
       "stream": "stdout",
       "text": [
        " 2.74366234609e+12\n",
        "1.16345908439"
       ]
      },
      {
       "output_type": "stream",
       "stream": "stdout",
       "text": [
        " 3.04476732329e+12\n",
        "1.16345908439"
       ]
      },
      {
       "output_type": "stream",
       "stream": "stdout",
       "text": [
        " 3.37891725861e+12\n",
        "1.16345908439"
       ]
      },
      {
       "output_type": "stream",
       "stream": "stdout",
       "text": [
        " 3.74973869208e+12\n",
        "1.16345908439"
       ]
      },
      {
       "output_type": "stream",
       "stream": "stdout",
       "text": [
        " 4.1612561607e+12\n",
        "1.16345908439"
       ]
      },
      {
       "output_type": "stream",
       "stream": "stdout",
       "text": [
        " 4.61793587685e+12\n",
        "1.16345908439"
       ]
      },
      {
       "output_type": "stream",
       "stream": "stdout",
       "text": [
        " 5.12473420023e+12\n",
        "1.16345908439"
       ]
      },
      {
       "output_type": "stream",
       "stream": "stdout",
       "text": [
        " 5.68715142943e+12\n",
        "1.16345908439"
       ]
      },
      {
       "output_type": "stream",
       "stream": "stdout",
       "text": [
        " 6.3112914968e+12\n",
        "1.16345908439"
       ]
      },
      {
       "output_type": "stream",
       "stream": "stdout",
       "text": [
        " 7.00392821465e+12\n",
        "1.16345908439"
       ]
      },
      {
       "output_type": "stream",
       "stream": "stdout",
       "text": [
        " 7.77257879166e+12\n",
        "1.16345908439"
       ]
      },
      {
       "output_type": "stream",
       "stream": "stdout",
       "text": [
        " 8.62558541736e+12\n",
        "1.16345908439"
       ]
      },
      {
       "output_type": "stream",
       "stream": "stdout",
       "text": [
        " 9.57220580022e+12\n",
        "1.16345908439"
       ]
      },
      {
       "output_type": "stream",
       "stream": "stdout",
       "text": [
        " 1.06227136418e+13\n",
        "1.16345908439"
       ]
      },
      {
       "output_type": "stream",
       "stream": "stdout",
       "text": [
        " 1.17885101377e+13\n",
        "1.16345908439"
       ]
      },
      {
       "output_type": "stream",
       "stream": "stdout",
       "text": [
        " 1.30822477149e+13\n",
        "1.16345908439"
       ]
      },
      {
       "output_type": "stream",
       "stream": "stdout",
       "text": [
        " 1.45179673492e+13\n",
        "1.16345908439"
       ]
      },
      {
       "output_type": "stream",
       "stream": "stdout",
       "text": [
        " 1.6111250952e+13\n",
        "1.16345908439"
       ]
      },
      {
       "output_type": "stream",
       "stream": "stdout",
       "text": [
        " 1.78793904819e+13\n",
        "1.16345908439"
       ]
      },
      {
       "output_type": "stream",
       "stream": "stdout",
       "text": [
        " 1.98415756141e+13\n",
        "1.16345908439"
       ]
      },
      {
       "output_type": "stream",
       "stream": "stdout",
       "text": [
        " 2.20191020075e+13\n",
        "1.16345908439"
       ]
      },
      {
       "output_type": "stream",
       "stream": "stdout",
       "text": [
        " 2.44356024262e+13\n",
        "1.16345908439"
       ]
      },
      {
       "output_type": "stream",
       "stream": "stdout",
       "text": [
        " 2.71173032273e+13\n",
        "1.16345908439"
       ]
      },
      {
       "output_type": "stream",
       "stream": "stdout",
       "text": [
        " 3.00933089963e+13\n",
        "1.16345908439"
       ]
      },
      {
       "output_type": "stream",
       "stream": "stdout",
       "text": [
        " 3.33959184199e+13\n",
        "1.16345908439"
       ]
      },
      {
       "output_type": "stream",
       "stream": "stdout",
       "text": [
        " 3.70609748249e+13\n",
        "1.16345908439"
       ]
      },
      {
       "output_type": "stream",
       "stream": "stdout",
       "text": [
        " 4.11282551868e+13\n",
        "1.16345908439"
       ]
      },
      {
       "output_type": "stream",
       "stream": "stdout",
       "text": [
        " 4.56419018307e+13\n",
        "1.16345908439"
       ]
      },
      {
       "output_type": "stream",
       "stream": "stdout",
       "text": [
        " 5.06509015095e+13\n",
        "1.16345908439"
       ]
      },
      {
       "output_type": "stream",
       "stream": "stdout",
       "text": [
        " 5.62096170586e+13\n",
        "1.16345908439"
       ]
      },
      {
       "output_type": "stream",
       "stream": "stdout",
       "text": [
        " 6.23783773972e+13\n",
        "1.16345908439"
       ]
      },
      {
       "output_type": "stream",
       "stream": "stdout",
       "text": [
        " 6.92241322807e+13\n",
        "1.16345908439"
       ]
      },
      {
       "output_type": "stream",
       "stream": "stdout",
       "text": [
        " 7.68211789079e+13\n",
        "1.16345908439"
       ]
      },
      {
       "output_type": "stream",
       "stream": "stdout",
       "text": [
        " 8.52519682712e+13\n",
        "1.16345908439"
       ]
      },
      {
       "output_type": "stream",
       "stream": "stdout",
       "text": [
        " 9.4608e+13\n",
        "2.70727408209"
       ]
      },
      {
       "output_type": "stream",
       "stream": "stdout",
       "text": [
        " 3153600000.0\n",
        "2.70727408209"
       ]
      },
      {
       "output_type": "stream",
       "stream": "stdout",
       "text": [
        " 3499693846.96\n",
        "2.70727408209"
       ]
      },
      {
       "output_type": "stream",
       "stream": "stdout",
       "text": [
        " 3883769984.29\n",
        "2.70727408209"
       ]
      },
      {
       "output_type": "stream",
       "stream": "stdout",
       "text": [
        " 4309996802.71\n",
        "2.70727408209"
       ]
      },
      {
       "output_type": "stream",
       "stream": "stdout",
       "text": [
        " 4783000155.65\n",
        "2.70727408209"
       ]
      },
      {
       "output_type": "stream",
       "stream": "stdout",
       "text": [
        " 5307913563.78\n",
        "2.70727408209"
       ]
      },
      {
       "output_type": "stream",
       "stream": "stdout",
       "text": [
        " 5890433929.27\n",
        "2.70727408209"
       ]
      },
      {
       "output_type": "stream",
       "stream": "stdout",
       "text": [
        " 6536883364.47\n",
        "2.70727408209"
       ]
      },
      {
       "output_type": "stream",
       "stream": "stdout",
       "text": [
        " 7254277805.98\n",
        "2.70727408209"
       ]
      },
      {
       "output_type": "stream",
       "stream": "stdout",
       "text": [
        " 8050403158.84\n",
        "2.70727408209"
       ]
      },
      {
       "output_type": "stream",
       "stream": "stdout",
       "text": [
        " 8933899797.23\n",
        "2.70727408209"
       ]
      },
      {
       "output_type": "stream",
       "stream": "stdout",
       "text": [
        " 9914356338.7\n",
        "2.70727408209"
       ]
      },
      {
       "output_type": "stream",
       "stream": "stdout",
       "text": [
        " 11002413709.8\n",
        "2.70727408209"
       ]
      },
      {
       "output_type": "stream",
       "stream": "stdout",
       "text": [
        " 12209880632.2\n",
        "2.70727408209"
       ]
      },
      {
       "output_type": "stream",
       "stream": "stdout",
       "text": [
        " 13549861783.6\n",
        "2.70727408209"
       ]
      },
      {
       "output_type": "stream",
       "stream": "stdout",
       "text": [
        " 15036900022.6\n",
        "2.70727408209"
       ]
      },
      {
       "output_type": "stream",
       "stream": "stdout",
       "text": [
        " 16687134223.2\n",
        "2.70727408209"
       ]
      },
      {
       "output_type": "stream",
       "stream": "stdout",
       "text": [
        " 18518474430.6\n",
        "2.70727408209"
       ]
      },
      {
       "output_type": "stream",
       "stream": "stdout",
       "text": [
        " 20550796239.2\n",
        "2.70727408209"
       ]
      },
      {
       "output_type": "stream",
       "stream": "stdout",
       "text": [
        " 22806156503.2\n",
        "2.70727408209"
       ]
      },
      {
       "output_type": "stream",
       "stream": "stdout",
       "text": [
        " 25309032720.4\n",
        "2.70727408209"
       ]
      },
      {
       "output_type": "stream",
       "stream": "stdout",
       "text": [
        " 28086588687.2\n",
        "2.70727408209"
       ]
      },
      {
       "output_type": "stream",
       "stream": "stdout",
       "text": [
        " 31168969308.3\n",
        "2.70727408209"
       ]
      },
      {
       "output_type": "stream",
       "stream": "stdout",
       "text": [
        " 34589627760.2\n",
        "2.70727408209"
       ]
      },
      {
       "output_type": "stream",
       "stream": "stdout",
       "text": [
        " 38385688559.4\n",
        "2.70727408209"
       ]
      },
      {
       "output_type": "stream",
       "stream": "stdout",
       "text": [
        " 42598350476.5\n",
        "2.70727408209"
       ]
      },
      {
       "output_type": "stream",
       "stream": "stdout",
       "text": [
        " 47273333667.3\n",
        "2.70727408209"
       ]
      },
      {
       "output_type": "stream",
       "stream": "stdout",
       "text": [
        " 52461375875.4\n",
        "2.70727408209"
       ]
      },
      {
       "output_type": "stream",
       "stream": "stdout",
       "text": [
        " 58218783090.5\n",
        "2.70727408209"
       ]
      },
      {
       "output_type": "stream",
       "stream": "stdout",
       "text": [
        " 64608040639.1\n",
        "2.70727408209"
       ]
      },
      {
       "output_type": "stream",
       "stream": "stdout",
       "text": [
        " 71698491339.7\n",
        "2.70727408209"
       ]
      },
      {
       "output_type": "stream",
       "stream": "stdout",
       "text": [
        " 79567088082.7\n",
        "2.70727408209"
       ]
      },
      {
       "output_type": "stream",
       "stream": "stdout",
       "text": [
        " 88299229003.0\n",
        "2.70727408209"
       ]
      },
      {
       "output_type": "stream",
       "stream": "stdout",
       "text": [
        " 97989684307.8\n",
        "2.70727408209"
       ]
      },
      {
       "output_type": "stream",
       "stream": "stdout",
       "text": [
        " 108743624822.0\n",
        "2.70727408209"
       ]
      },
      {
       "output_type": "stream",
       "stream": "stdout",
       "text": [
        " 120677763408.0\n",
        "2.70727408209"
       ]
      },
      {
       "output_type": "stream",
       "stream": "stdout",
       "text": [
        " 133921621659.0\n",
        "2.70727408209"
       ]
      },
      {
       "output_type": "stream",
       "stream": "stdout",
       "text": [
        " 148618935596.0\n",
        "2.70727408209"
       ]
      },
      {
       "output_type": "stream",
       "stream": "stdout",
       "text": [
        " 164929215642.0\n",
        "2.70727408209"
       ]
      },
      {
       "output_type": "stream",
       "stream": "stdout",
       "text": [
        " 183029477792.0\n",
        "2.70727408209"
       ]
      },
      {
       "output_type": "stream",
       "stream": "stdout",
       "text": [
        " 203116164777.0\n",
        "2.70727408209"
       ]
      },
      {
       "output_type": "stream",
       "stream": "stdout",
       "text": [
        " 225407278060.0\n",
        "2.70727408209"
       ]
      },
      {
       "output_type": "stream",
       "stream": "stdout",
       "text": [
        " 250144743812.0\n",
        "2.70727408209"
       ]
      },
      {
       "output_type": "stream",
       "stream": "stdout",
       "text": [
        " 277597038549.0\n",
        "2.70727408209"
       ]
      },
      {
       "output_type": "stream",
       "stream": "stdout",
       "text": [
        " 308062102912.0\n",
        "2.70727408209"
       ]
      },
      {
       "output_type": "stream",
       "stream": "stdout",
       "text": [
        " 341870575229.0\n",
        "2.70727408209"
       ]
      },
      {
       "output_type": "stream",
       "stream": "stdout",
       "text": [
        " 379389379943.0\n",
        "2.70727408209"
       ]
      },
      {
       "output_type": "stream",
       "stream": "stdout",
       "text": [
        " 421025709851.0\n",
        "2.70727408209"
       ]
      },
      {
       "output_type": "stream",
       "stream": "stdout",
       "text": [
        " 467231445389.0\n",
        "2.70727408209"
       ]
      },
      {
       "output_type": "stream",
       "stream": "stdout",
       "text": [
        " 518508058896.0\n",
        "2.70727408209"
       ]
      },
      {
       "output_type": "stream",
       "stream": "stdout",
       "text": [
        " 575412057115.0\n",
        "2.70727408209"
       ]
      },
      {
       "output_type": "stream",
       "stream": "stdout",
       "text": [
        " 638561020977.0\n",
        "2.70727408209"
       ]
      },
      {
       "output_type": "stream",
       "stream": "stdout",
       "text": [
        " 708640308226.0\n",
        "2.70727408209"
       ]
      },
      {
       "output_type": "stream",
       "stream": "stdout",
       "text": [
        " 786410491630.0\n",
        "2.70727408209"
       ]
      },
      {
       "output_type": "stream",
       "stream": "stdout",
       "text": [
        " 872715613503.0\n",
        "2.70727408209"
       ]
      },
      {
       "output_type": "stream",
       "stream": "stdout",
       "text": [
        " 968492346119.0\n",
        "2.70727408209"
       ]
      },
      {
       "output_type": "stream",
       "stream": "stdout",
       "text": [
        " 1.07478015745e+12\n",
        "2.70727408209"
       ]
      },
      {
       "output_type": "stream",
       "stream": "stdout",
       "text": [
        " 1.19273259255e+12\n",
        "2.70727408209"
       ]
      },
      {
       "output_type": "stream",
       "stream": "stdout",
       "text": [
        " 1.32362979301e+12\n",
        "2.70727408209"
       ]
      },
      {
       "output_type": "stream",
       "stream": "stdout",
       "text": [
        " 1.46889239036e+12\n",
        "2.70727408209"
       ]
      },
      {
       "output_type": "stream",
       "stream": "stdout",
       "text": [
        " 1.63009692427e+12\n",
        "2.70727408209"
       ]
      },
      {
       "output_type": "stream",
       "stream": "stdout",
       "text": [
        " 1.80899295276e+12\n",
        "2.70727408209"
       ]
      },
      {
       "output_type": "stream",
       "stream": "stdout",
       "text": [
        " 2.0075220402e+12\n",
        "2.70727408209"
       ]
      },
      {
       "output_type": "stream",
       "stream": "stdout",
       "text": [
        " 2.22783882918e+12\n",
        "2.70727408209"
       ]
      },
      {
       "output_type": "stream",
       "stream": "stdout",
       "text": [
        " 2.47233442495e+12\n",
        "2.70727408209"
       ]
      },
      {
       "output_type": "stream",
       "stream": "stdout",
       "text": [
        " 2.74366234609e+12\n",
        "2.70727408209"
       ]
      },
      {
       "output_type": "stream",
       "stream": "stdout",
       "text": [
        " 3.04476732329e+12\n",
        "2.70727408209"
       ]
      },
      {
       "output_type": "stream",
       "stream": "stdout",
       "text": [
        " 3.37891725861e+12\n",
        "2.70727408209"
       ]
      },
      {
       "output_type": "stream",
       "stream": "stdout",
       "text": [
        " 3.74973869208e+12\n",
        "2.70727408209"
       ]
      },
      {
       "output_type": "stream",
       "stream": "stdout",
       "text": [
        " 4.1612561607e+12\n",
        "2.70727408209"
       ]
      },
      {
       "output_type": "stream",
       "stream": "stdout",
       "text": [
        " 4.61793587685e+12\n",
        "2.70727408209"
       ]
      },
      {
       "output_type": "stream",
       "stream": "stdout",
       "text": [
        " 5.12473420023e+12\n",
        "2.70727408209"
       ]
      },
      {
       "output_type": "stream",
       "stream": "stdout",
       "text": [
        " 5.68715142943e+12\n",
        "2.70727408209"
       ]
      },
      {
       "output_type": "stream",
       "stream": "stdout",
       "text": [
        " 6.3112914968e+12\n",
        "2.70727408209"
       ]
      },
      {
       "output_type": "stream",
       "stream": "stdout",
       "text": [
        " 7.00392821465e+12\n",
        "2.70727408209"
       ]
      },
      {
       "output_type": "stream",
       "stream": "stdout",
       "text": [
        " 7.77257879166e+12\n",
        "2.70727408209"
       ]
      },
      {
       "output_type": "stream",
       "stream": "stdout",
       "text": [
        " 8.62558541736e+12\n",
        "2.70727408209"
       ]
      },
      {
       "output_type": "stream",
       "stream": "stdout",
       "text": [
        " 9.57220580022e+12\n",
        "2.70727408209"
       ]
      },
      {
       "output_type": "stream",
       "stream": "stdout",
       "text": [
        " 1.06227136418e+13\n",
        "2.70727408209"
       ]
      },
      {
       "output_type": "stream",
       "stream": "stdout",
       "text": [
        " 1.17885101377e+13\n",
        "2.70727408209"
       ]
      },
      {
       "output_type": "stream",
       "stream": "stdout",
       "text": [
        " 1.30822477149e+13\n",
        "2.70727408209"
       ]
      },
      {
       "output_type": "stream",
       "stream": "stdout",
       "text": [
        " 1.45179673492e+13\n",
        "2.70727408209"
       ]
      },
      {
       "output_type": "stream",
       "stream": "stdout",
       "text": [
        " 1.6111250952e+13\n",
        "2.70727408209"
       ]
      },
      {
       "output_type": "stream",
       "stream": "stdout",
       "text": [
        " 1.78793904819e+13\n",
        "2.70727408209"
       ]
      },
      {
       "output_type": "stream",
       "stream": "stdout",
       "text": [
        " 1.98415756141e+13\n",
        "2.70727408209"
       ]
      },
      {
       "output_type": "stream",
       "stream": "stdout",
       "text": [
        " 2.20191020075e+13\n",
        "2.70727408209"
       ]
      },
      {
       "output_type": "stream",
       "stream": "stdout",
       "text": [
        " 2.44356024262e+13\n",
        "2.70727408209"
       ]
      },
      {
       "output_type": "stream",
       "stream": "stdout",
       "text": [
        " 2.71173032273e+13\n",
        "2.70727408209"
       ]
      },
      {
       "output_type": "stream",
       "stream": "stdout",
       "text": [
        " 3.00933089963e+13\n",
        "2.70727408209"
       ]
      },
      {
       "output_type": "stream",
       "stream": "stdout",
       "text": [
        " 3.33959184199e+13\n",
        "2.70727408209"
       ]
      },
      {
       "output_type": "stream",
       "stream": "stdout",
       "text": [
        " 3.70609748249e+13\n",
        "2.70727408209"
       ]
      },
      {
       "output_type": "stream",
       "stream": "stdout",
       "text": [
        " 4.11282551868e+13\n",
        "2.70727408209"
       ]
      },
      {
       "output_type": "stream",
       "stream": "stdout",
       "text": [
        " 4.56419018307e+13\n",
        "2.70727408209"
       ]
      },
      {
       "output_type": "stream",
       "stream": "stdout",
       "text": [
        " 5.06509015095e+13\n",
        "2.70727408209"
       ]
      },
      {
       "output_type": "stream",
       "stream": "stdout",
       "text": [
        " 5.62096170586e+13\n",
        "2.70727408209"
       ]
      },
      {
       "output_type": "stream",
       "stream": "stdout",
       "text": [
        " 6.23783773972e+13\n",
        "2.70727408209"
       ]
      },
      {
       "output_type": "stream",
       "stream": "stdout",
       "text": [
        " 6.92241322807e+13\n",
        "2.70727408209"
       ]
      },
      {
       "output_type": "stream",
       "stream": "stdout",
       "text": [
        " 7.68211789079e+13\n",
        "2.70727408209"
       ]
      },
      {
       "output_type": "stream",
       "stream": "stdout",
       "text": [
        " 8.52519682712e+13\n",
        "2.70727408209"
       ]
      },
      {
       "output_type": "stream",
       "stream": "stdout",
       "text": [
        " 9.4608e+13\n",
        "6.29960524947"
       ]
      },
      {
       "output_type": "stream",
       "stream": "stdout",
       "text": [
        " 3153600000.0\n",
        "6.29960524947"
       ]
      },
      {
       "output_type": "stream",
       "stream": "stdout",
       "text": [
        " 3499693846.96\n",
        "6.29960524947"
       ]
      },
      {
       "output_type": "stream",
       "stream": "stdout",
       "text": [
        " 3883769984.29\n",
        "6.29960524947"
       ]
      },
      {
       "output_type": "stream",
       "stream": "stdout",
       "text": [
        " 4309996802.71\n",
        "6.29960524947"
       ]
      },
      {
       "output_type": "stream",
       "stream": "stdout",
       "text": [
        " 4783000155.65\n",
        "6.29960524947"
       ]
      },
      {
       "output_type": "stream",
       "stream": "stdout",
       "text": [
        " 5307913563.78\n",
        "6.29960524947"
       ]
      },
      {
       "output_type": "stream",
       "stream": "stdout",
       "text": [
        " 5890433929.27\n",
        "6.29960524947"
       ]
      },
      {
       "output_type": "stream",
       "stream": "stdout",
       "text": [
        " 6536883364.47\n",
        "6.29960524947"
       ]
      },
      {
       "output_type": "stream",
       "stream": "stdout",
       "text": [
        " 7254277805.98\n",
        "6.29960524947"
       ]
      },
      {
       "output_type": "stream",
       "stream": "stdout",
       "text": [
        " 8050403158.84\n",
        "6.29960524947"
       ]
      },
      {
       "output_type": "stream",
       "stream": "stdout",
       "text": [
        " 8933899797.23\n",
        "6.29960524947"
       ]
      },
      {
       "output_type": "stream",
       "stream": "stdout",
       "text": [
        " 9914356338.7\n",
        "6.29960524947"
       ]
      },
      {
       "output_type": "stream",
       "stream": "stdout",
       "text": [
        " 11002413709.8\n",
        "6.29960524947"
       ]
      },
      {
       "output_type": "stream",
       "stream": "stdout",
       "text": [
        " 12209880632.2\n",
        "6.29960524947"
       ]
      },
      {
       "output_type": "stream",
       "stream": "stdout",
       "text": [
        " 13549861783.6\n",
        "6.29960524947"
       ]
      },
      {
       "output_type": "stream",
       "stream": "stdout",
       "text": [
        " 15036900022.6\n",
        "6.29960524947"
       ]
      },
      {
       "output_type": "stream",
       "stream": "stdout",
       "text": [
        " 16687134223.2\n",
        "6.29960524947"
       ]
      },
      {
       "output_type": "stream",
       "stream": "stdout",
       "text": [
        " 18518474430.6\n",
        "6.29960524947"
       ]
      },
      {
       "output_type": "stream",
       "stream": "stdout",
       "text": [
        " 20550796239.2\n",
        "6.29960524947"
       ]
      },
      {
       "output_type": "stream",
       "stream": "stdout",
       "text": [
        " 22806156503.2\n",
        "6.29960524947"
       ]
      },
      {
       "output_type": "stream",
       "stream": "stdout",
       "text": [
        " 25309032720.4\n",
        "6.29960524947"
       ]
      },
      {
       "output_type": "stream",
       "stream": "stdout",
       "text": [
        " 28086588687.2\n",
        "6.29960524947"
       ]
      },
      {
       "output_type": "stream",
       "stream": "stdout",
       "text": [
        " 31168969308.3\n",
        "6.29960524947"
       ]
      },
      {
       "output_type": "stream",
       "stream": "stdout",
       "text": [
        " 34589627760.2\n",
        "6.29960524947"
       ]
      },
      {
       "output_type": "stream",
       "stream": "stdout",
       "text": [
        " 38385688559.4\n",
        "6.29960524947"
       ]
      },
      {
       "output_type": "stream",
       "stream": "stdout",
       "text": [
        " 42598350476.5\n",
        "6.29960524947"
       ]
      },
      {
       "output_type": "stream",
       "stream": "stdout",
       "text": [
        " 47273333667.3\n",
        "6.29960524947"
       ]
      },
      {
       "output_type": "stream",
       "stream": "stdout",
       "text": [
        " 52461375875.4\n",
        "6.29960524947"
       ]
      },
      {
       "output_type": "stream",
       "stream": "stdout",
       "text": [
        " 58218783090.5\n",
        "6.29960524947"
       ]
      },
      {
       "output_type": "stream",
       "stream": "stdout",
       "text": [
        " 64608040639.1\n",
        "6.29960524947"
       ]
      },
      {
       "output_type": "stream",
       "stream": "stdout",
       "text": [
        " 71698491339.7\n",
        "6.29960524947"
       ]
      },
      {
       "output_type": "stream",
       "stream": "stdout",
       "text": [
        " 79567088082.7\n",
        "6.29960524947"
       ]
      },
      {
       "output_type": "stream",
       "stream": "stdout",
       "text": [
        " 88299229003.0\n",
        "6.29960524947"
       ]
      },
      {
       "output_type": "stream",
       "stream": "stdout",
       "text": [
        " 97989684307.8\n",
        "6.29960524947"
       ]
      },
      {
       "output_type": "stream",
       "stream": "stdout",
       "text": [
        " 108743624822.0\n",
        "6.29960524947"
       ]
      },
      {
       "output_type": "stream",
       "stream": "stdout",
       "text": [
        " 120677763408.0\n",
        "6.29960524947"
       ]
      },
      {
       "output_type": "stream",
       "stream": "stdout",
       "text": [
        " 133921621659.0\n",
        "6.29960524947"
       ]
      },
      {
       "output_type": "stream",
       "stream": "stdout",
       "text": [
        " 148618935596.0\n",
        "6.29960524947"
       ]
      },
      {
       "output_type": "stream",
       "stream": "stdout",
       "text": [
        " 164929215642.0\n",
        "6.29960524947"
       ]
      },
      {
       "output_type": "stream",
       "stream": "stdout",
       "text": [
        " 183029477792.0\n",
        "6.29960524947"
       ]
      },
      {
       "output_type": "stream",
       "stream": "stdout",
       "text": [
        " 203116164777.0\n",
        "6.29960524947"
       ]
      },
      {
       "output_type": "stream",
       "stream": "stdout",
       "text": [
        " 225407278060.0\n",
        "6.29960524947"
       ]
      },
      {
       "output_type": "stream",
       "stream": "stdout",
       "text": [
        " 250144743812.0\n",
        "6.29960524947"
       ]
      },
      {
       "output_type": "stream",
       "stream": "stdout",
       "text": [
        " 277597038549.0\n",
        "6.29960524947"
       ]
      },
      {
       "output_type": "stream",
       "stream": "stdout",
       "text": [
        " 308062102912.0\n",
        "6.29960524947"
       ]
      },
      {
       "output_type": "stream",
       "stream": "stdout",
       "text": [
        " 341870575229.0\n",
        "6.29960524947"
       ]
      },
      {
       "output_type": "stream",
       "stream": "stdout",
       "text": [
        " 379389379943.0\n",
        "6.29960524947"
       ]
      },
      {
       "output_type": "stream",
       "stream": "stdout",
       "text": [
        " 421025709851.0\n",
        "6.29960524947"
       ]
      },
      {
       "output_type": "stream",
       "stream": "stdout",
       "text": [
        " 467231445389.0\n",
        "6.29960524947"
       ]
      },
      {
       "output_type": "stream",
       "stream": "stdout",
       "text": [
        " 518508058896.0\n",
        "6.29960524947"
       ]
      },
      {
       "output_type": "stream",
       "stream": "stdout",
       "text": [
        " 575412057115.0\n",
        "6.29960524947"
       ]
      },
      {
       "output_type": "stream",
       "stream": "stdout",
       "text": [
        " 638561020977.0\n",
        "6.29960524947"
       ]
      },
      {
       "output_type": "stream",
       "stream": "stdout",
       "text": [
        " 708640308226.0\n",
        "6.29960524947"
       ]
      },
      {
       "output_type": "stream",
       "stream": "stdout",
       "text": [
        " 786410491630.0\n",
        "6.29960524947"
       ]
      },
      {
       "output_type": "stream",
       "stream": "stdout",
       "text": [
        " 872715613503.0\n",
        "6.29960524947"
       ]
      },
      {
       "output_type": "stream",
       "stream": "stdout",
       "text": [
        " 968492346119.0\n",
        "6.29960524947"
       ]
      },
      {
       "output_type": "stream",
       "stream": "stdout",
       "text": [
        " 1.07478015745e+12\n",
        "6.29960524947"
       ]
      },
      {
       "output_type": "stream",
       "stream": "stdout",
       "text": [
        " 1.19273259255e+12\n",
        "6.29960524947"
       ]
      },
      {
       "output_type": "stream",
       "stream": "stdout",
       "text": [
        " 1.32362979301e+12\n",
        "6.29960524947"
       ]
      },
      {
       "output_type": "stream",
       "stream": "stdout",
       "text": [
        " 1.46889239036e+12\n",
        "6.29960524947"
       ]
      },
      {
       "output_type": "stream",
       "stream": "stdout",
       "text": [
        " 1.63009692427e+12\n",
        "6.29960524947"
       ]
      },
      {
       "output_type": "stream",
       "stream": "stdout",
       "text": [
        " 1.80899295276e+12\n",
        "6.29960524947"
       ]
      },
      {
       "output_type": "stream",
       "stream": "stdout",
       "text": [
        " 2.0075220402e+12\n",
        "6.29960524947"
       ]
      },
      {
       "output_type": "stream",
       "stream": "stdout",
       "text": [
        " 2.22783882918e+12\n",
        "6.29960524947"
       ]
      },
      {
       "output_type": "stream",
       "stream": "stdout",
       "text": [
        " 2.47233442495e+12\n",
        "6.29960524947"
       ]
      },
      {
       "output_type": "stream",
       "stream": "stdout",
       "text": [
        " 2.74366234609e+12\n",
        "6.29960524947"
       ]
      },
      {
       "output_type": "stream",
       "stream": "stdout",
       "text": [
        " 3.04476732329e+12\n",
        "6.29960524947"
       ]
      },
      {
       "output_type": "stream",
       "stream": "stdout",
       "text": [
        " 3.37891725861e+12\n",
        "6.29960524947"
       ]
      },
      {
       "output_type": "stream",
       "stream": "stdout",
       "text": [
        " 3.74973869208e+12\n",
        "6.29960524947"
       ]
      },
      {
       "output_type": "stream",
       "stream": "stdout",
       "text": [
        " 4.1612561607e+12\n",
        "6.29960524947"
       ]
      },
      {
       "output_type": "stream",
       "stream": "stdout",
       "text": [
        " 4.61793587685e+12\n",
        "6.29960524947"
       ]
      },
      {
       "output_type": "stream",
       "stream": "stdout",
       "text": [
        " 5.12473420023e+12\n",
        "6.29960524947"
       ]
      },
      {
       "output_type": "stream",
       "stream": "stdout",
       "text": [
        " 5.68715142943e+12\n",
        "6.29960524947"
       ]
      },
      {
       "output_type": "stream",
       "stream": "stdout",
       "text": [
        " 6.3112914968e+12\n",
        "6.29960524947"
       ]
      },
      {
       "output_type": "stream",
       "stream": "stdout",
       "text": [
        " 7.00392821465e+12\n",
        "6.29960524947"
       ]
      },
      {
       "output_type": "stream",
       "stream": "stdout",
       "text": [
        " 7.77257879166e+12\n",
        "6.29960524947"
       ]
      },
      {
       "output_type": "stream",
       "stream": "stdout",
       "text": [
        " 8.62558541736e+12\n",
        "6.29960524947"
       ]
      },
      {
       "output_type": "stream",
       "stream": "stdout",
       "text": [
        " 9.57220580022e+12\n",
        "6.29960524947"
       ]
      },
      {
       "output_type": "stream",
       "stream": "stdout",
       "text": [
        " 1.06227136418e+13\n",
        "6.29960524947"
       ]
      },
      {
       "output_type": "stream",
       "stream": "stdout",
       "text": [
        " 1.17885101377e+13\n",
        "6.29960524947"
       ]
      },
      {
       "output_type": "stream",
       "stream": "stdout",
       "text": [
        " 1.30822477149e+13\n",
        "6.29960524947"
       ]
      },
      {
       "output_type": "stream",
       "stream": "stdout",
       "text": [
        " 1.45179673492e+13\n",
        "6.29960524947"
       ]
      },
      {
       "output_type": "stream",
       "stream": "stdout",
       "text": [
        " 1.6111250952e+13\n",
        "6.29960524947"
       ]
      },
      {
       "output_type": "stream",
       "stream": "stdout",
       "text": [
        " 1.78793904819e+13\n",
        "6.29960524947"
       ]
      },
      {
       "output_type": "stream",
       "stream": "stdout",
       "text": [
        " 1.98415756141e+13\n",
        "6.29960524947"
       ]
      },
      {
       "output_type": "stream",
       "stream": "stdout",
       "text": [
        " 2.20191020075e+13\n",
        "6.29960524947"
       ]
      },
      {
       "output_type": "stream",
       "stream": "stdout",
       "text": [
        " 2.44356024262e+13\n",
        "6.29960524947"
       ]
      },
      {
       "output_type": "stream",
       "stream": "stdout",
       "text": [
        " 2.71173032273e+13\n",
        "6.29960524947"
       ]
      },
      {
       "output_type": "stream",
       "stream": "stdout",
       "text": [
        " 3.00933089963e+13\n",
        "6.29960524947"
       ]
      },
      {
       "output_type": "stream",
       "stream": "stdout",
       "text": [
        " 3.33959184199e+13\n",
        "6.29960524947"
       ]
      },
      {
       "output_type": "stream",
       "stream": "stdout",
       "text": [
        " 3.70609748249e+13\n",
        "6.29960524947"
       ]
      },
      {
       "output_type": "stream",
       "stream": "stdout",
       "text": [
        " 4.11282551868e+13\n",
        "6.29960524947"
       ]
      },
      {
       "output_type": "stream",
       "stream": "stdout",
       "text": [
        " 4.56419018307e+13\n",
        "6.29960524947"
       ]
      },
      {
       "output_type": "stream",
       "stream": "stdout",
       "text": [
        " 5.06509015095e+13\n",
        "6.29960524947"
       ]
      },
      {
       "output_type": "stream",
       "stream": "stdout",
       "text": [
        " 5.62096170586e+13\n",
        "6.29960524947"
       ]
      },
      {
       "output_type": "stream",
       "stream": "stdout",
       "text": [
        " 6.23783773972e+13\n",
        "6.29960524947"
       ]
      },
      {
       "output_type": "stream",
       "stream": "stdout",
       "text": [
        " 6.92241322807e+13\n",
        "6.29960524947"
       ]
      },
      {
       "output_type": "stream",
       "stream": "stdout",
       "text": [
        " 7.68211789079e+13\n",
        "6.29960524947"
       ]
      },
      {
       "output_type": "stream",
       "stream": "stdout",
       "text": [
        " 8.52519682712e+13\n",
        "6.29960524947"
       ]
      },
      {
       "output_type": "stream",
       "stream": "stdout",
       "text": [
        " 9.4608e+13\n",
        "14.6586659111"
       ]
      },
      {
       "output_type": "stream",
       "stream": "stdout",
       "text": [
        " 3153600000.0\n",
        "14.6586659111"
       ]
      },
      {
       "output_type": "stream",
       "stream": "stdout",
       "text": [
        " 3499693846.96\n",
        "14.6586659111"
       ]
      },
      {
       "output_type": "stream",
       "stream": "stdout",
       "text": [
        " 3883769984.29\n",
        "14.6586659111"
       ]
      },
      {
       "output_type": "stream",
       "stream": "stdout",
       "text": [
        " 4309996802.71\n",
        "14.6586659111"
       ]
      },
      {
       "output_type": "stream",
       "stream": "stdout",
       "text": [
        " 4783000155.65\n",
        "14.6586659111"
       ]
      },
      {
       "output_type": "stream",
       "stream": "stdout",
       "text": [
        " 5307913563.78\n",
        "14.6586659111"
       ]
      },
      {
       "output_type": "stream",
       "stream": "stdout",
       "text": [
        " 5890433929.27\n",
        "14.6586659111"
       ]
      },
      {
       "output_type": "stream",
       "stream": "stdout",
       "text": [
        " 6536883364.47\n",
        "14.6586659111"
       ]
      },
      {
       "output_type": "stream",
       "stream": "stdout",
       "text": [
        " 7254277805.98\n",
        "14.6586659111"
       ]
      },
      {
       "output_type": "stream",
       "stream": "stdout",
       "text": [
        " 8050403158.84\n",
        "14.6586659111"
       ]
      },
      {
       "output_type": "stream",
       "stream": "stdout",
       "text": [
        " 8933899797.23\n",
        "14.6586659111"
       ]
      },
      {
       "output_type": "stream",
       "stream": "stdout",
       "text": [
        " 9914356338.7\n",
        "14.6586659111"
       ]
      },
      {
       "output_type": "stream",
       "stream": "stdout",
       "text": [
        " 11002413709.8\n",
        "14.6586659111"
       ]
      },
      {
       "output_type": "stream",
       "stream": "stdout",
       "text": [
        " 12209880632.2\n",
        "14.6586659111"
       ]
      },
      {
       "output_type": "stream",
       "stream": "stdout",
       "text": [
        " 13549861783.6\n",
        "14.6586659111"
       ]
      },
      {
       "output_type": "stream",
       "stream": "stdout",
       "text": [
        " 15036900022.6\n",
        "14.6586659111"
       ]
      },
      {
       "output_type": "stream",
       "stream": "stdout",
       "text": [
        " 16687134223.2\n",
        "14.6586659111"
       ]
      },
      {
       "output_type": "stream",
       "stream": "stdout",
       "text": [
        " 18518474430.6\n",
        "14.6586659111"
       ]
      },
      {
       "output_type": "stream",
       "stream": "stdout",
       "text": [
        " 20550796239.2\n",
        "14.6586659111"
       ]
      },
      {
       "output_type": "stream",
       "stream": "stdout",
       "text": [
        " 22806156503.2\n",
        "14.6586659111"
       ]
      },
      {
       "output_type": "stream",
       "stream": "stdout",
       "text": [
        " 25309032720.4\n",
        "14.6586659111"
       ]
      },
      {
       "output_type": "stream",
       "stream": "stdout",
       "text": [
        " 28086588687.2\n",
        "14.6586659111"
       ]
      },
      {
       "output_type": "stream",
       "stream": "stdout",
       "text": [
        " 31168969308.3\n",
        "14.6586659111"
       ]
      },
      {
       "output_type": "stream",
       "stream": "stdout",
       "text": [
        " 34589627760.2\n",
        "14.6586659111"
       ]
      },
      {
       "output_type": "stream",
       "stream": "stdout",
       "text": [
        " 38385688559.4\n",
        "14.6586659111"
       ]
      },
      {
       "output_type": "stream",
       "stream": "stdout",
       "text": [
        " 42598350476.5\n",
        "14.6586659111"
       ]
      },
      {
       "output_type": "stream",
       "stream": "stdout",
       "text": [
        " 47273333667.3\n",
        "14.6586659111"
       ]
      },
      {
       "output_type": "stream",
       "stream": "stdout",
       "text": [
        " 52461375875.4\n",
        "14.6586659111"
       ]
      },
      {
       "output_type": "stream",
       "stream": "stdout",
       "text": [
        " 58218783090.5\n",
        "14.6586659111"
       ]
      },
      {
       "output_type": "stream",
       "stream": "stdout",
       "text": [
        " 64608040639.1\n",
        "14.6586659111"
       ]
      },
      {
       "output_type": "stream",
       "stream": "stdout",
       "text": [
        " 71698491339.7\n",
        "14.6586659111"
       ]
      },
      {
       "output_type": "stream",
       "stream": "stdout",
       "text": [
        " 79567088082.7\n",
        "14.6586659111"
       ]
      },
      {
       "output_type": "stream",
       "stream": "stdout",
       "text": [
        " 88299229003.0\n",
        "14.6586659111"
       ]
      },
      {
       "output_type": "stream",
       "stream": "stdout",
       "text": [
        " 97989684307.8\n",
        "14.6586659111"
       ]
      },
      {
       "output_type": "stream",
       "stream": "stdout",
       "text": [
        " 108743624822.0\n",
        "14.6586659111"
       ]
      },
      {
       "output_type": "stream",
       "stream": "stdout",
       "text": [
        " 120677763408.0\n",
        "14.6586659111"
       ]
      },
      {
       "output_type": "stream",
       "stream": "stdout",
       "text": [
        " 133921621659.0\n",
        "14.6586659111"
       ]
      },
      {
       "output_type": "stream",
       "stream": "stdout",
       "text": [
        " 148618935596.0\n",
        "14.6586659111"
       ]
      },
      {
       "output_type": "stream",
       "stream": "stdout",
       "text": [
        " 164929215642.0\n",
        "14.6586659111"
       ]
      },
      {
       "output_type": "stream",
       "stream": "stdout",
       "text": [
        " 183029477792.0\n",
        "14.6586659111"
       ]
      },
      {
       "output_type": "stream",
       "stream": "stdout",
       "text": [
        " 203116164777.0\n",
        "14.6586659111"
       ]
      },
      {
       "output_type": "stream",
       "stream": "stdout",
       "text": [
        " 225407278060.0\n",
        "14.6586659111"
       ]
      },
      {
       "output_type": "stream",
       "stream": "stdout",
       "text": [
        " 250144743812.0\n",
        "14.6586659111"
       ]
      },
      {
       "output_type": "stream",
       "stream": "stdout",
       "text": [
        " 277597038549.0\n",
        "14.6586659111"
       ]
      },
      {
       "output_type": "stream",
       "stream": "stdout",
       "text": [
        " 308062102912.0\n",
        "14.6586659111"
       ]
      },
      {
       "output_type": "stream",
       "stream": "stdout",
       "text": [
        " 341870575229.0\n",
        "14.6586659111"
       ]
      },
      {
       "output_type": "stream",
       "stream": "stdout",
       "text": [
        " 379389379943.0\n",
        "14.6586659111"
       ]
      },
      {
       "output_type": "stream",
       "stream": "stdout",
       "text": [
        " 421025709851.0\n",
        "14.6586659111"
       ]
      },
      {
       "output_type": "stream",
       "stream": "stdout",
       "text": [
        " 467231445389.0\n",
        "14.6586659111"
       ]
      },
      {
       "output_type": "stream",
       "stream": "stdout",
       "text": [
        " 518508058896.0\n",
        "14.6586659111"
       ]
      },
      {
       "output_type": "stream",
       "stream": "stdout",
       "text": [
        " 575412057115.0\n",
        "14.6586659111"
       ]
      },
      {
       "output_type": "stream",
       "stream": "stdout",
       "text": [
        " 638561020977.0\n",
        "14.6586659111"
       ]
      },
      {
       "output_type": "stream",
       "stream": "stdout",
       "text": [
        " 708640308226.0\n",
        "14.6586659111"
       ]
      },
      {
       "output_type": "stream",
       "stream": "stdout",
       "text": [
        " 786410491630.0\n",
        "14.6586659111"
       ]
      },
      {
       "output_type": "stream",
       "stream": "stdout",
       "text": [
        " 872715613503.0\n",
        "14.6586659111"
       ]
      },
      {
       "output_type": "stream",
       "stream": "stdout",
       "text": [
        " 968492346119.0\n",
        "14.6586659111"
       ]
      },
      {
       "output_type": "stream",
       "stream": "stdout",
       "text": [
        " 1.07478015745e+12\n",
        "14.6586659111"
       ]
      },
      {
       "output_type": "stream",
       "stream": "stdout",
       "text": [
        " 1.19273259255e+12\n",
        "14.6586659111"
       ]
      },
      {
       "output_type": "stream",
       "stream": "stdout",
       "text": [
        " 1.32362979301e+12\n",
        "14.6586659111"
       ]
      },
      {
       "output_type": "stream",
       "stream": "stdout",
       "text": [
        " 1.46889239036e+12\n",
        "14.6586659111"
       ]
      },
      {
       "output_type": "stream",
       "stream": "stdout",
       "text": [
        " 1.63009692427e+12\n",
        "14.6586659111"
       ]
      },
      {
       "output_type": "stream",
       "stream": "stdout",
       "text": [
        " 1.80899295276e+12\n",
        "14.6586659111"
       ]
      },
      {
       "output_type": "stream",
       "stream": "stdout",
       "text": [
        " 2.0075220402e+12\n",
        "14.6586659111"
       ]
      },
      {
       "output_type": "stream",
       "stream": "stdout",
       "text": [
        " 2.22783882918e+12\n",
        "14.6586659111"
       ]
      },
      {
       "output_type": "stream",
       "stream": "stdout",
       "text": [
        " 2.47233442495e+12\n",
        "14.6586659111"
       ]
      },
      {
       "output_type": "stream",
       "stream": "stdout",
       "text": [
        " 2.74366234609e+12\n",
        "14.6586659111"
       ]
      },
      {
       "output_type": "stream",
       "stream": "stdout",
       "text": [
        " 3.04476732329e+12\n",
        "14.6586659111"
       ]
      },
      {
       "output_type": "stream",
       "stream": "stdout",
       "text": [
        " 3.37891725861e+12\n",
        "14.6586659111"
       ]
      },
      {
       "output_type": "stream",
       "stream": "stdout",
       "text": [
        " 3.74973869208e+12\n",
        "14.6586659111"
       ]
      },
      {
       "output_type": "stream",
       "stream": "stdout",
       "text": [
        " 4.1612561607e+12\n",
        "14.6586659111"
       ]
      },
      {
       "output_type": "stream",
       "stream": "stdout",
       "text": [
        " 4.61793587685e+12\n",
        "14.6586659111"
       ]
      },
      {
       "output_type": "stream",
       "stream": "stdout",
       "text": [
        " 5.12473420023e+12\n",
        "14.6586659111"
       ]
      },
      {
       "output_type": "stream",
       "stream": "stdout",
       "text": [
        " 5.68715142943e+12\n",
        "14.6586659111"
       ]
      },
      {
       "output_type": "stream",
       "stream": "stdout",
       "text": [
        " 6.3112914968e+12\n",
        "14.6586659111"
       ]
      },
      {
       "output_type": "stream",
       "stream": "stdout",
       "text": [
        " 7.00392821465e+12\n",
        "14.6586659111"
       ]
      },
      {
       "output_type": "stream",
       "stream": "stdout",
       "text": [
        " 7.77257879166e+12\n",
        "14.6586659111"
       ]
      },
      {
       "output_type": "stream",
       "stream": "stdout",
       "text": [
        " 8.62558541736e+12\n",
        "14.6586659111"
       ]
      },
      {
       "output_type": "stream",
       "stream": "stdout",
       "text": [
        " 9.57220580022e+12\n",
        "14.6586659111"
       ]
      },
      {
       "output_type": "stream",
       "stream": "stdout",
       "text": [
        " 1.06227136418e+13\n",
        "14.6586659111"
       ]
      },
      {
       "output_type": "stream",
       "stream": "stdout",
       "text": [
        " 1.17885101377e+13\n",
        "14.6586659111"
       ]
      },
      {
       "output_type": "stream",
       "stream": "stdout",
       "text": [
        " 1.30822477149e+13\n",
        "14.6586659111"
       ]
      },
      {
       "output_type": "stream",
       "stream": "stdout",
       "text": [
        " 1.45179673492e+13\n",
        "14.6586659111"
       ]
      },
      {
       "output_type": "stream",
       "stream": "stdout",
       "text": [
        " 1.6111250952e+13\n",
        "14.6586659111"
       ]
      },
      {
       "output_type": "stream",
       "stream": "stdout",
       "text": [
        " 1.78793904819e+13\n",
        "14.6586659111"
       ]
      },
      {
       "output_type": "stream",
       "stream": "stdout",
       "text": [
        " 1.98415756141e+13\n",
        "14.6586659111"
       ]
      },
      {
       "output_type": "stream",
       "stream": "stdout",
       "text": [
        " 2.20191020075e+13\n",
        "14.6586659111"
       ]
      },
      {
       "output_type": "stream",
       "stream": "stdout",
       "text": [
        " 2.44356024262e+13\n",
        "14.6586659111"
       ]
      },
      {
       "output_type": "stream",
       "stream": "stdout",
       "text": [
        " 2.71173032273e+13\n",
        "14.6586659111"
       ]
      },
      {
       "output_type": "stream",
       "stream": "stdout",
       "text": [
        " 3.00933089963e+13\n",
        "14.6586659111"
       ]
      },
      {
       "output_type": "stream",
       "stream": "stdout",
       "text": [
        " 3.33959184199e+13\n",
        "14.6586659111"
       ]
      },
      {
       "output_type": "stream",
       "stream": "stdout",
       "text": [
        " 3.70609748249e+13\n",
        "14.6586659111"
       ]
      },
      {
       "output_type": "stream",
       "stream": "stdout",
       "text": [
        " 4.11282551868e+13\n",
        "14.6586659111"
       ]
      },
      {
       "output_type": "stream",
       "stream": "stdout",
       "text": [
        " 4.56419018307e+13\n",
        "14.6586659111"
       ]
      },
      {
       "output_type": "stream",
       "stream": "stdout",
       "text": [
        " 5.06509015095e+13\n",
        "14.6586659111"
       ]
      },
      {
       "output_type": "stream",
       "stream": "stdout",
       "text": [
        " 5.62096170586e+13\n",
        "14.6586659111"
       ]
      },
      {
       "output_type": "stream",
       "stream": "stdout",
       "text": [
        " 6.23783773972e+13\n",
        "14.6586659111"
       ]
      },
      {
       "output_type": "stream",
       "stream": "stdout",
       "text": [
        " 6.92241322807e+13\n",
        "14.6586659111"
       ]
      },
      {
       "output_type": "stream",
       "stream": "stdout",
       "text": [
        " 7.68211789079e+13\n",
        "14.6586659111"
       ]
      },
      {
       "output_type": "stream",
       "stream": "stdout",
       "text": [
        " 8.52519682712e+13\n",
        "14.6586659111"
       ]
      },
      {
       "output_type": "stream",
       "stream": "stdout",
       "text": [
        " 9.4608e+13\n",
        "34.1095160386"
       ]
      },
      {
       "output_type": "stream",
       "stream": "stdout",
       "text": [
        " 3153600000.0\n",
        "34.1095160386"
       ]
      },
      {
       "output_type": "stream",
       "stream": "stdout",
       "text": [
        " 3499693846.96\n",
        "34.1095160386"
       ]
      },
      {
       "output_type": "stream",
       "stream": "stdout",
       "text": [
        " 3883769984.29\n",
        "34.1095160386"
       ]
      },
      {
       "output_type": "stream",
       "stream": "stdout",
       "text": [
        " 4309996802.71\n",
        "34.1095160386"
       ]
      },
      {
       "output_type": "stream",
       "stream": "stdout",
       "text": [
        " 4783000155.65\n",
        "34.1095160386"
       ]
      },
      {
       "output_type": "stream",
       "stream": "stdout",
       "text": [
        " 5307913563.78\n",
        "34.1095160386"
       ]
      },
      {
       "output_type": "stream",
       "stream": "stdout",
       "text": [
        " 5890433929.27\n",
        "34.1095160386"
       ]
      },
      {
       "output_type": "stream",
       "stream": "stdout",
       "text": [
        " 6536883364.47\n",
        "34.1095160386"
       ]
      },
      {
       "output_type": "stream",
       "stream": "stdout",
       "text": [
        " 7254277805.98\n",
        "34.1095160386"
       ]
      },
      {
       "output_type": "stream",
       "stream": "stdout",
       "text": [
        " 8050403158.84\n",
        "34.1095160386"
       ]
      },
      {
       "output_type": "stream",
       "stream": "stdout",
       "text": [
        " 8933899797.23\n",
        "34.1095160386"
       ]
      },
      {
       "output_type": "stream",
       "stream": "stdout",
       "text": [
        " 9914356338.7\n",
        "34.1095160386"
       ]
      },
      {
       "output_type": "stream",
       "stream": "stdout",
       "text": [
        " 11002413709.8\n",
        "34.1095160386"
       ]
      },
      {
       "output_type": "stream",
       "stream": "stdout",
       "text": [
        " 12209880632.2\n",
        "34.1095160386"
       ]
      },
      {
       "output_type": "stream",
       "stream": "stdout",
       "text": [
        " 13549861783.6\n",
        "34.1095160386"
       ]
      },
      {
       "output_type": "stream",
       "stream": "stdout",
       "text": [
        " 15036900022.6\n",
        "34.1095160386"
       ]
      },
      {
       "output_type": "stream",
       "stream": "stdout",
       "text": [
        " 16687134223.2\n",
        "34.1095160386"
       ]
      },
      {
       "output_type": "stream",
       "stream": "stdout",
       "text": [
        " 18518474430.6\n",
        "34.1095160386"
       ]
      },
      {
       "output_type": "stream",
       "stream": "stdout",
       "text": [
        " 20550796239.2\n",
        "34.1095160386"
       ]
      },
      {
       "output_type": "stream",
       "stream": "stdout",
       "text": [
        " 22806156503.2\n",
        "34.1095160386"
       ]
      },
      {
       "output_type": "stream",
       "stream": "stdout",
       "text": [
        " 25309032720.4\n",
        "34.1095160386"
       ]
      },
      {
       "output_type": "stream",
       "stream": "stdout",
       "text": [
        " 28086588687.2\n",
        "34.1095160386"
       ]
      },
      {
       "output_type": "stream",
       "stream": "stdout",
       "text": [
        " 31168969308.3\n",
        "34.1095160386"
       ]
      },
      {
       "output_type": "stream",
       "stream": "stdout",
       "text": [
        " 34589627760.2\n",
        "34.1095160386"
       ]
      },
      {
       "output_type": "stream",
       "stream": "stdout",
       "text": [
        " 38385688559.4\n",
        "34.1095160386"
       ]
      },
      {
       "output_type": "stream",
       "stream": "stdout",
       "text": [
        " 42598350476.5\n",
        "34.1095160386"
       ]
      },
      {
       "output_type": "stream",
       "stream": "stdout",
       "text": [
        " 47273333667.3\n",
        "34.1095160386"
       ]
      },
      {
       "output_type": "stream",
       "stream": "stdout",
       "text": [
        " 52461375875.4\n",
        "34.1095160386"
       ]
      },
      {
       "output_type": "stream",
       "stream": "stdout",
       "text": [
        " 58218783090.5\n",
        "34.1095160386"
       ]
      },
      {
       "output_type": "stream",
       "stream": "stdout",
       "text": [
        " 64608040639.1\n",
        "34.1095160386"
       ]
      },
      {
       "output_type": "stream",
       "stream": "stdout",
       "text": [
        " 71698491339.7\n",
        "34.1095160386"
       ]
      },
      {
       "output_type": "stream",
       "stream": "stdout",
       "text": [
        " 79567088082.7\n",
        "34.1095160386"
       ]
      },
      {
       "output_type": "stream",
       "stream": "stdout",
       "text": [
        " 88299229003.0\n",
        "34.1095160386"
       ]
      },
      {
       "output_type": "stream",
       "stream": "stdout",
       "text": [
        " 97989684307.8\n",
        "34.1095160386"
       ]
      },
      {
       "output_type": "stream",
       "stream": "stdout",
       "text": [
        " 108743624822.0\n",
        "34.1095160386"
       ]
      },
      {
       "output_type": "stream",
       "stream": "stdout",
       "text": [
        " 120677763408.0\n",
        "34.1095160386"
       ]
      },
      {
       "output_type": "stream",
       "stream": "stdout",
       "text": [
        " 133921621659.0\n",
        "34.1095160386"
       ]
      },
      {
       "output_type": "stream",
       "stream": "stdout",
       "text": [
        " 148618935596.0\n",
        "34.1095160386"
       ]
      },
      {
       "output_type": "stream",
       "stream": "stdout",
       "text": [
        " 164929215642.0\n",
        "34.1095160386"
       ]
      },
      {
       "output_type": "stream",
       "stream": "stdout",
       "text": [
        " 183029477792.0\n",
        "34.1095160386"
       ]
      },
      {
       "output_type": "stream",
       "stream": "stdout",
       "text": [
        " 203116164777.0\n",
        "34.1095160386"
       ]
      },
      {
       "output_type": "stream",
       "stream": "stdout",
       "text": [
        " 225407278060.0\n",
        "34.1095160386"
       ]
      },
      {
       "output_type": "stream",
       "stream": "stdout",
       "text": [
        " 250144743812.0\n",
        "34.1095160386"
       ]
      },
      {
       "output_type": "stream",
       "stream": "stdout",
       "text": [
        " 277597038549.0\n",
        "34.1095160386"
       ]
      },
      {
       "output_type": "stream",
       "stream": "stdout",
       "text": [
        " 308062102912.0\n",
        "34.1095160386"
       ]
      },
      {
       "output_type": "stream",
       "stream": "stdout",
       "text": [
        " 341870575229.0\n",
        "34.1095160386"
       ]
      },
      {
       "output_type": "stream",
       "stream": "stdout",
       "text": [
        " 379389379943.0\n",
        "34.1095160386"
       ]
      },
      {
       "output_type": "stream",
       "stream": "stdout",
       "text": [
        " 421025709851.0\n",
        "34.1095160386"
       ]
      },
      {
       "output_type": "stream",
       "stream": "stdout",
       "text": [
        " 467231445389.0\n",
        "34.1095160386"
       ]
      },
      {
       "output_type": "stream",
       "stream": "stdout",
       "text": [
        " 518508058896.0\n",
        "34.1095160386"
       ]
      },
      {
       "output_type": "stream",
       "stream": "stdout",
       "text": [
        " 575412057115.0\n",
        "34.1095160386"
       ]
      },
      {
       "output_type": "stream",
       "stream": "stdout",
       "text": [
        " 638561020977.0\n",
        "34.1095160386"
       ]
      },
      {
       "output_type": "stream",
       "stream": "stdout",
       "text": [
        " 708640308226.0\n",
        "34.1095160386"
       ]
      },
      {
       "output_type": "stream",
       "stream": "stdout",
       "text": [
        " 786410491630.0\n",
        "34.1095160386"
       ]
      },
      {
       "output_type": "stream",
       "stream": "stdout",
       "text": [
        " 872715613503.0\n",
        "34.1095160386"
       ]
      },
      {
       "output_type": "stream",
       "stream": "stdout",
       "text": [
        " 968492346119.0\n",
        "34.1095160386"
       ]
      },
      {
       "output_type": "stream",
       "stream": "stdout",
       "text": [
        " 1.07478015745e+12\n",
        "34.1095160386"
       ]
      },
      {
       "output_type": "stream",
       "stream": "stdout",
       "text": [
        " 1.19273259255e+12\n",
        "34.1095160386"
       ]
      },
      {
       "output_type": "stream",
       "stream": "stdout",
       "text": [
        " 1.32362979301e+12\n",
        "34.1095160386"
       ]
      },
      {
       "output_type": "stream",
       "stream": "stdout",
       "text": [
        " 1.46889239036e+12\n",
        "34.1095160386"
       ]
      },
      {
       "output_type": "stream",
       "stream": "stdout",
       "text": [
        " 1.63009692427e+12\n",
        "34.1095160386"
       ]
      },
      {
       "output_type": "stream",
       "stream": "stdout",
       "text": [
        " 1.80899295276e+12\n",
        "34.1095160386"
       ]
      },
      {
       "output_type": "stream",
       "stream": "stdout",
       "text": [
        " 2.0075220402e+12\n",
        "34.1095160386"
       ]
      },
      {
       "output_type": "stream",
       "stream": "stdout",
       "text": [
        " 2.22783882918e+12\n",
        "34.1095160386"
       ]
      },
      {
       "output_type": "stream",
       "stream": "stdout",
       "text": [
        " 2.47233442495e+12\n",
        "34.1095160386"
       ]
      },
      {
       "output_type": "stream",
       "stream": "stdout",
       "text": [
        " 2.74366234609e+12\n",
        "34.1095160386"
       ]
      },
      {
       "output_type": "stream",
       "stream": "stdout",
       "text": [
        " 3.04476732329e+12\n",
        "34.1095160386"
       ]
      },
      {
       "output_type": "stream",
       "stream": "stdout",
       "text": [
        " 3.37891725861e+12\n",
        "34.1095160386"
       ]
      },
      {
       "output_type": "stream",
       "stream": "stdout",
       "text": [
        " 3.74973869208e+12\n",
        "34.1095160386"
       ]
      },
      {
       "output_type": "stream",
       "stream": "stdout",
       "text": [
        " 4.1612561607e+12\n",
        "34.1095160386"
       ]
      },
      {
       "output_type": "stream",
       "stream": "stdout",
       "text": [
        " 4.61793587685e+12\n",
        "34.1095160386"
       ]
      },
      {
       "output_type": "stream",
       "stream": "stdout",
       "text": [
        " 5.12473420023e+12\n",
        "34.1095160386"
       ]
      },
      {
       "output_type": "stream",
       "stream": "stdout",
       "text": [
        " 5.68715142943e+12\n",
        "34.1095160386"
       ]
      },
      {
       "output_type": "stream",
       "stream": "stdout",
       "text": [
        " 6.3112914968e+12\n",
        "34.1095160386"
       ]
      },
      {
       "output_type": "stream",
       "stream": "stdout",
       "text": [
        " 7.00392821465e+12\n",
        "34.1095160386"
       ]
      },
      {
       "output_type": "stream",
       "stream": "stdout",
       "text": [
        " 7.77257879166e+12\n",
        "34.1095160386"
       ]
      },
      {
       "output_type": "stream",
       "stream": "stdout",
       "text": [
        " 8.62558541736e+12\n",
        "34.1095160386"
       ]
      },
      {
       "output_type": "stream",
       "stream": "stdout",
       "text": [
        " 9.57220580022e+12\n",
        "34.1095160386"
       ]
      },
      {
       "output_type": "stream",
       "stream": "stdout",
       "text": [
        " 1.06227136418e+13\n",
        "34.1095160386"
       ]
      },
      {
       "output_type": "stream",
       "stream": "stdout",
       "text": [
        " 1.17885101377e+13\n",
        "34.1095160386"
       ]
      },
      {
       "output_type": "stream",
       "stream": "stdout",
       "text": [
        " 1.30822477149e+13\n",
        "34.1095160386"
       ]
      },
      {
       "output_type": "stream",
       "stream": "stdout",
       "text": [
        " 1.45179673492e+13\n",
        "34.1095160386"
       ]
      },
      {
       "output_type": "stream",
       "stream": "stdout",
       "text": [
        " 1.6111250952e+13\n",
        "34.1095160386"
       ]
      },
      {
       "output_type": "stream",
       "stream": "stdout",
       "text": [
        " 1.78793904819e+13\n",
        "34.1095160386"
       ]
      },
      {
       "output_type": "stream",
       "stream": "stdout",
       "text": [
        " 1.98415756141e+13\n",
        "34.1095160386"
       ]
      },
      {
       "output_type": "stream",
       "stream": "stdout",
       "text": [
        " 2.20191020075e+13\n",
        "34.1095160386"
       ]
      },
      {
       "output_type": "stream",
       "stream": "stdout",
       "text": [
        " 2.44356024262e+13\n",
        "34.1095160386"
       ]
      },
      {
       "output_type": "stream",
       "stream": "stdout",
       "text": [
        " 2.71173032273e+13\n",
        "34.1095160386"
       ]
      },
      {
       "output_type": "stream",
       "stream": "stdout",
       "text": [
        " 3.00933089963e+13\n",
        "34.1095160386"
       ]
      },
      {
       "output_type": "stream",
       "stream": "stdout",
       "text": [
        " 3.33959184199e+13\n",
        "34.1095160386"
       ]
      },
      {
       "output_type": "stream",
       "stream": "stdout",
       "text": [
        " 3.70609748249e+13\n",
        "34.1095160386"
       ]
      },
      {
       "output_type": "stream",
       "stream": "stdout",
       "text": [
        " 4.11282551868e+13\n",
        "34.1095160386"
       ]
      },
      {
       "output_type": "stream",
       "stream": "stdout",
       "text": [
        " 4.56419018307e+13\n",
        "34.1095160386"
       ]
      },
      {
       "output_type": "stream",
       "stream": "stdout",
       "text": [
        " 5.06509015095e+13\n",
        "34.1095160386"
       ]
      },
      {
       "output_type": "stream",
       "stream": "stdout",
       "text": [
        " 5.62096170586e+13\n",
        "34.1095160386"
       ]
      },
      {
       "output_type": "stream",
       "stream": "stdout",
       "text": [
        " 6.23783773972e+13\n",
        "34.1095160386"
       ]
      },
      {
       "output_type": "stream",
       "stream": "stdout",
       "text": [
        " 6.92241322807e+13\n",
        "34.1095160386"
       ]
      },
      {
       "output_type": "stream",
       "stream": "stdout",
       "text": [
        " 7.68211789079e+13\n",
        "34.1095160386"
       ]
      },
      {
       "output_type": "stream",
       "stream": "stdout",
       "text": [
        " 8.52519682712e+13\n",
        "34.1095160386"
       ]
      },
      {
       "output_type": "stream",
       "stream": "stdout",
       "text": [
        " 9.4608e+13\n",
        "79.3700525984"
       ]
      },
      {
       "output_type": "stream",
       "stream": "stdout",
       "text": [
        " 3153600000.0\n",
        "79.3700525984"
       ]
      },
      {
       "output_type": "stream",
       "stream": "stdout",
       "text": [
        " 3499693846.96\n",
        "79.3700525984"
       ]
      },
      {
       "output_type": "stream",
       "stream": "stdout",
       "text": [
        " 3883769984.29\n",
        "79.3700525984"
       ]
      },
      {
       "output_type": "stream",
       "stream": "stdout",
       "text": [
        " 4309996802.71\n",
        "79.3700525984"
       ]
      },
      {
       "output_type": "stream",
       "stream": "stdout",
       "text": [
        " 4783000155.65\n",
        "79.3700525984"
       ]
      },
      {
       "output_type": "stream",
       "stream": "stdout",
       "text": [
        " 5307913563.78\n",
        "79.3700525984"
       ]
      },
      {
       "output_type": "stream",
       "stream": "stdout",
       "text": [
        " 5890433929.27\n",
        "79.3700525984"
       ]
      },
      {
       "output_type": "stream",
       "stream": "stdout",
       "text": [
        " 6536883364.47\n",
        "79.3700525984"
       ]
      },
      {
       "output_type": "stream",
       "stream": "stdout",
       "text": [
        " 7254277805.98\n",
        "79.3700525984"
       ]
      },
      {
       "output_type": "stream",
       "stream": "stdout",
       "text": [
        " 8050403158.84\n",
        "79.3700525984"
       ]
      },
      {
       "output_type": "stream",
       "stream": "stdout",
       "text": [
        " 8933899797.23\n",
        "79.3700525984"
       ]
      },
      {
       "output_type": "stream",
       "stream": "stdout",
       "text": [
        " 9914356338.7\n",
        "79.3700525984"
       ]
      },
      {
       "output_type": "stream",
       "stream": "stdout",
       "text": [
        " 11002413709.8\n",
        "79.3700525984"
       ]
      },
      {
       "output_type": "stream",
       "stream": "stdout",
       "text": [
        " 12209880632.2\n",
        "79.3700525984"
       ]
      },
      {
       "output_type": "stream",
       "stream": "stdout",
       "text": [
        " 13549861783.6\n",
        "79.3700525984"
       ]
      },
      {
       "output_type": "stream",
       "stream": "stdout",
       "text": [
        " 15036900022.6\n",
        "79.3700525984"
       ]
      },
      {
       "output_type": "stream",
       "stream": "stdout",
       "text": [
        " 16687134223.2\n",
        "79.3700525984"
       ]
      },
      {
       "output_type": "stream",
       "stream": "stdout",
       "text": [
        " 18518474430.6\n",
        "79.3700525984"
       ]
      },
      {
       "output_type": "stream",
       "stream": "stdout",
       "text": [
        " 20550796239.2\n",
        "79.3700525984"
       ]
      },
      {
       "output_type": "stream",
       "stream": "stdout",
       "text": [
        " 22806156503.2\n",
        "79.3700525984"
       ]
      },
      {
       "output_type": "stream",
       "stream": "stdout",
       "text": [
        " 25309032720.4\n",
        "79.3700525984"
       ]
      },
      {
       "output_type": "stream",
       "stream": "stdout",
       "text": [
        " 28086588687.2\n",
        "79.3700525984"
       ]
      },
      {
       "output_type": "stream",
       "stream": "stdout",
       "text": [
        " 31168969308.3\n",
        "79.3700525984"
       ]
      },
      {
       "output_type": "stream",
       "stream": "stdout",
       "text": [
        " 34589627760.2\n",
        "79.3700525984"
       ]
      },
      {
       "output_type": "stream",
       "stream": "stdout",
       "text": [
        " 38385688559.4\n",
        "79.3700525984"
       ]
      },
      {
       "output_type": "stream",
       "stream": "stdout",
       "text": [
        " 42598350476.5\n",
        "79.3700525984"
       ]
      },
      {
       "output_type": "stream",
       "stream": "stdout",
       "text": [
        " 47273333667.3\n",
        "79.3700525984"
       ]
      },
      {
       "output_type": "stream",
       "stream": "stdout",
       "text": [
        " 52461375875.4\n",
        "79.3700525984"
       ]
      },
      {
       "output_type": "stream",
       "stream": "stdout",
       "text": [
        " 58218783090.5\n",
        "79.3700525984"
       ]
      },
      {
       "output_type": "stream",
       "stream": "stdout",
       "text": [
        " 64608040639.1\n",
        "79.3700525984"
       ]
      },
      {
       "output_type": "stream",
       "stream": "stdout",
       "text": [
        " 71698491339.7\n",
        "79.3700525984"
       ]
      },
      {
       "output_type": "stream",
       "stream": "stdout",
       "text": [
        " 79567088082.7\n",
        "79.3700525984"
       ]
      },
      {
       "output_type": "stream",
       "stream": "stdout",
       "text": [
        " 88299229003.0\n",
        "79.3700525984"
       ]
      },
      {
       "output_type": "stream",
       "stream": "stdout",
       "text": [
        " 97989684307.8\n",
        "79.3700525984"
       ]
      },
      {
       "output_type": "stream",
       "stream": "stdout",
       "text": [
        " 108743624822.0\n",
        "79.3700525984"
       ]
      },
      {
       "output_type": "stream",
       "stream": "stdout",
       "text": [
        " 120677763408.0\n",
        "79.3700525984"
       ]
      },
      {
       "output_type": "stream",
       "stream": "stdout",
       "text": [
        " 133921621659.0\n",
        "79.3700525984"
       ]
      },
      {
       "output_type": "stream",
       "stream": "stdout",
       "text": [
        " 148618935596.0\n",
        "79.3700525984"
       ]
      },
      {
       "output_type": "stream",
       "stream": "stdout",
       "text": [
        " 164929215642.0\n",
        "79.3700525984"
       ]
      },
      {
       "output_type": "stream",
       "stream": "stdout",
       "text": [
        " 183029477792.0\n",
        "79.3700525984"
       ]
      },
      {
       "output_type": "stream",
       "stream": "stdout",
       "text": [
        " 203116164777.0\n",
        "79.3700525984"
       ]
      },
      {
       "output_type": "stream",
       "stream": "stdout",
       "text": [
        " 225407278060.0\n",
        "79.3700525984"
       ]
      },
      {
       "output_type": "stream",
       "stream": "stdout",
       "text": [
        " 250144743812.0\n",
        "79.3700525984"
       ]
      },
      {
       "output_type": "stream",
       "stream": "stdout",
       "text": [
        " 277597038549.0\n",
        "79.3700525984"
       ]
      },
      {
       "output_type": "stream",
       "stream": "stdout",
       "text": [
        " 308062102912.0\n",
        "79.3700525984"
       ]
      },
      {
       "output_type": "stream",
       "stream": "stdout",
       "text": [
        " 341870575229.0\n",
        "79.3700525984"
       ]
      },
      {
       "output_type": "stream",
       "stream": "stdout",
       "text": [
        " 379389379943.0\n",
        "79.3700525984"
       ]
      },
      {
       "output_type": "stream",
       "stream": "stdout",
       "text": [
        " 421025709851.0\n",
        "79.3700525984"
       ]
      },
      {
       "output_type": "stream",
       "stream": "stdout",
       "text": [
        " 467231445389.0\n",
        "79.3700525984"
       ]
      },
      {
       "output_type": "stream",
       "stream": "stdout",
       "text": [
        " 518508058896.0\n",
        "79.3700525984"
       ]
      },
      {
       "output_type": "stream",
       "stream": "stdout",
       "text": [
        " 575412057115.0\n",
        "79.3700525984"
       ]
      },
      {
       "output_type": "stream",
       "stream": "stdout",
       "text": [
        " 638561020977.0\n",
        "79.3700525984"
       ]
      },
      {
       "output_type": "stream",
       "stream": "stdout",
       "text": [
        " 708640308226.0\n",
        "79.3700525984"
       ]
      },
      {
       "output_type": "stream",
       "stream": "stdout",
       "text": [
        " 786410491630.0\n",
        "79.3700525984"
       ]
      },
      {
       "output_type": "stream",
       "stream": "stdout",
       "text": [
        " 872715613503.0\n",
        "79.3700525984"
       ]
      },
      {
       "output_type": "stream",
       "stream": "stdout",
       "text": [
        " 968492346119.0\n",
        "79.3700525984"
       ]
      },
      {
       "output_type": "stream",
       "stream": "stdout",
       "text": [
        " 1.07478015745e+12\n",
        "79.3700525984"
       ]
      },
      {
       "output_type": "stream",
       "stream": "stdout",
       "text": [
        " 1.19273259255e+12\n",
        "79.3700525984"
       ]
      },
      {
       "output_type": "stream",
       "stream": "stdout",
       "text": [
        " 1.32362979301e+12\n",
        "79.3700525984"
       ]
      },
      {
       "output_type": "stream",
       "stream": "stdout",
       "text": [
        " 1.46889239036e+12\n",
        "79.3700525984"
       ]
      },
      {
       "output_type": "stream",
       "stream": "stdout",
       "text": [
        " 1.63009692427e+12\n",
        "79.3700525984"
       ]
      },
      {
       "output_type": "stream",
       "stream": "stdout",
       "text": [
        " 1.80899295276e+12\n",
        "79.3700525984"
       ]
      },
      {
       "output_type": "stream",
       "stream": "stdout",
       "text": [
        " 2.0075220402e+12\n",
        "79.3700525984"
       ]
      },
      {
       "output_type": "stream",
       "stream": "stdout",
       "text": [
        " 2.22783882918e+12\n",
        "79.3700525984"
       ]
      },
      {
       "output_type": "stream",
       "stream": "stdout",
       "text": [
        " 2.47233442495e+12\n",
        "79.3700525984"
       ]
      },
      {
       "output_type": "stream",
       "stream": "stdout",
       "text": [
        " 2.74366234609e+12\n",
        "79.3700525984"
       ]
      },
      {
       "output_type": "stream",
       "stream": "stdout",
       "text": [
        " 3.04476732329e+12\n",
        "79.3700525984"
       ]
      },
      {
       "output_type": "stream",
       "stream": "stdout",
       "text": [
        " 3.37891725861e+12\n",
        "79.3700525984"
       ]
      },
      {
       "output_type": "stream",
       "stream": "stdout",
       "text": [
        " 3.74973869208e+12\n",
        "79.3700525984"
       ]
      },
      {
       "output_type": "stream",
       "stream": "stdout",
       "text": [
        " 4.1612561607e+12\n",
        "79.3700525984"
       ]
      },
      {
       "output_type": "stream",
       "stream": "stdout",
       "text": [
        " 4.61793587685e+12\n",
        "79.3700525984"
       ]
      },
      {
       "output_type": "stream",
       "stream": "stdout",
       "text": [
        " 5.12473420023e+12\n",
        "79.3700525984"
       ]
      },
      {
       "output_type": "stream",
       "stream": "stdout",
       "text": [
        " 5.68715142943e+12\n",
        "79.3700525984"
       ]
      },
      {
       "output_type": "stream",
       "stream": "stdout",
       "text": [
        " 6.3112914968e+12\n",
        "79.3700525984"
       ]
      },
      {
       "output_type": "stream",
       "stream": "stdout",
       "text": [
        " 7.00392821465e+12\n",
        "79.3700525984"
       ]
      },
      {
       "output_type": "stream",
       "stream": "stdout",
       "text": [
        " 7.77257879166e+12\n",
        "79.3700525984"
       ]
      },
      {
       "output_type": "stream",
       "stream": "stdout",
       "text": [
        " 8.62558541736e+12\n",
        "79.3700525984"
       ]
      },
      {
       "output_type": "stream",
       "stream": "stdout",
       "text": [
        " 9.57220580022e+12\n",
        "79.3700525984"
       ]
      },
      {
       "output_type": "stream",
       "stream": "stdout",
       "text": [
        " 1.06227136418e+13\n",
        "79.3700525984"
       ]
      },
      {
       "output_type": "stream",
       "stream": "stdout",
       "text": [
        " 1.17885101377e+13\n",
        "79.3700525984"
       ]
      },
      {
       "output_type": "stream",
       "stream": "stdout",
       "text": [
        " 1.30822477149e+13\n",
        "79.3700525984"
       ]
      },
      {
       "output_type": "stream",
       "stream": "stdout",
       "text": [
        " 1.45179673492e+13\n",
        "79.3700525984"
       ]
      },
      {
       "output_type": "stream",
       "stream": "stdout",
       "text": [
        " 1.6111250952e+13\n",
        "79.3700525984"
       ]
      },
      {
       "output_type": "stream",
       "stream": "stdout",
       "text": [
        " 1.78793904819e+13\n",
        "79.3700525984"
       ]
      },
      {
       "output_type": "stream",
       "stream": "stdout",
       "text": [
        " 1.98415756141e+13\n",
        "79.3700525984"
       ]
      },
      {
       "output_type": "stream",
       "stream": "stdout",
       "text": [
        " 2.20191020075e+13\n",
        "79.3700525984"
       ]
      },
      {
       "output_type": "stream",
       "stream": "stdout",
       "text": [
        " 2.44356024262e+13\n",
        "79.3700525984"
       ]
      },
      {
       "output_type": "stream",
       "stream": "stdout",
       "text": [
        " 2.71173032273e+13\n",
        "79.3700525984"
       ]
      },
      {
       "output_type": "stream",
       "stream": "stdout",
       "text": [
        " 3.00933089963e+13\n",
        "79.3700525984"
       ]
      },
      {
       "output_type": "stream",
       "stream": "stdout",
       "text": [
        " 3.33959184199e+13\n",
        "79.3700525984"
       ]
      },
      {
       "output_type": "stream",
       "stream": "stdout",
       "text": [
        " 3.70609748249e+13\n",
        "79.3700525984"
       ]
      },
      {
       "output_type": "stream",
       "stream": "stdout",
       "text": [
        " 4.11282551868e+13\n",
        "79.3700525984"
       ]
      },
      {
       "output_type": "stream",
       "stream": "stdout",
       "text": [
        " 4.56419018307e+13\n",
        "79.3700525984"
       ]
      },
      {
       "output_type": "stream",
       "stream": "stdout",
       "text": [
        " 5.06509015095e+13\n",
        "79.3700525984"
       ]
      },
      {
       "output_type": "stream",
       "stream": "stdout",
       "text": [
        " 5.62096170586e+13\n",
        "79.3700525984"
       ]
      },
      {
       "output_type": "stream",
       "stream": "stdout",
       "text": [
        " 6.23783773972e+13\n",
        "79.3700525984"
       ]
      },
      {
       "output_type": "stream",
       "stream": "stdout",
       "text": [
        " 6.92241322807e+13\n",
        "79.3700525984"
       ]
      },
      {
       "output_type": "stream",
       "stream": "stdout",
       "text": [
        " 7.68211789079e+13\n",
        "79.3700525984"
       ]
      },
      {
       "output_type": "stream",
       "stream": "stdout",
       "text": [
        " 8.52519682712e+13\n",
        "79.3700525984"
       ]
      },
      {
       "output_type": "stream",
       "stream": "stdout",
       "text": [
        " 9.4608e+13\n",
        "184.687617448"
       ]
      },
      {
       "output_type": "stream",
       "stream": "stdout",
       "text": [
        " 3153600000.0\n",
        "184.687617448"
       ]
      },
      {
       "output_type": "stream",
       "stream": "stdout",
       "text": [
        " 3499693846.96\n",
        "184.687617448"
       ]
      },
      {
       "output_type": "stream",
       "stream": "stdout",
       "text": [
        " 3883769984.29\n",
        "184.687617448"
       ]
      },
      {
       "output_type": "stream",
       "stream": "stdout",
       "text": [
        " 4309996802.71\n",
        "184.687617448"
       ]
      },
      {
       "output_type": "stream",
       "stream": "stdout",
       "text": [
        " 4783000155.65\n",
        "184.687617448"
       ]
      },
      {
       "output_type": "stream",
       "stream": "stdout",
       "text": [
        " 5307913563.78\n",
        "184.687617448"
       ]
      },
      {
       "output_type": "stream",
       "stream": "stdout",
       "text": [
        " 5890433929.27\n",
        "184.687617448"
       ]
      },
      {
       "output_type": "stream",
       "stream": "stdout",
       "text": [
        " 6536883364.47\n",
        "184.687617448"
       ]
      },
      {
       "output_type": "stream",
       "stream": "stdout",
       "text": [
        " 7254277805.98\n",
        "184.687617448"
       ]
      },
      {
       "output_type": "stream",
       "stream": "stdout",
       "text": [
        " 8050403158.84\n",
        "184.687617448"
       ]
      },
      {
       "output_type": "stream",
       "stream": "stdout",
       "text": [
        " 8933899797.23\n",
        "184.687617448"
       ]
      },
      {
       "output_type": "stream",
       "stream": "stdout",
       "text": [
        " 9914356338.7\n",
        "184.687617448"
       ]
      },
      {
       "output_type": "stream",
       "stream": "stdout",
       "text": [
        " 11002413709.8\n",
        "184.687617448"
       ]
      },
      {
       "output_type": "stream",
       "stream": "stdout",
       "text": [
        " 12209880632.2\n",
        "184.687617448"
       ]
      },
      {
       "output_type": "stream",
       "stream": "stdout",
       "text": [
        " 13549861783.6\n",
        "184.687617448"
       ]
      },
      {
       "output_type": "stream",
       "stream": "stdout",
       "text": [
        " 15036900022.6\n",
        "184.687617448"
       ]
      },
      {
       "output_type": "stream",
       "stream": "stdout",
       "text": [
        " 16687134223.2\n",
        "184.687617448"
       ]
      },
      {
       "output_type": "stream",
       "stream": "stdout",
       "text": [
        " 18518474430.6\n",
        "184.687617448"
       ]
      },
      {
       "output_type": "stream",
       "stream": "stdout",
       "text": [
        " 20550796239.2\n",
        "184.687617448"
       ]
      },
      {
       "output_type": "stream",
       "stream": "stdout",
       "text": [
        " 22806156503.2\n",
        "184.687617448"
       ]
      },
      {
       "output_type": "stream",
       "stream": "stdout",
       "text": [
        " 25309032720.4\n",
        "184.687617448"
       ]
      },
      {
       "output_type": "stream",
       "stream": "stdout",
       "text": [
        " 28086588687.2\n",
        "184.687617448"
       ]
      },
      {
       "output_type": "stream",
       "stream": "stdout",
       "text": [
        " 31168969308.3\n",
        "184.687617448"
       ]
      },
      {
       "output_type": "stream",
       "stream": "stdout",
       "text": [
        " 34589627760.2\n",
        "184.687617448"
       ]
      },
      {
       "output_type": "stream",
       "stream": "stdout",
       "text": [
        " 38385688559.4\n",
        "184.687617448"
       ]
      },
      {
       "output_type": "stream",
       "stream": "stdout",
       "text": [
        " 42598350476.5\n",
        "184.687617448"
       ]
      },
      {
       "output_type": "stream",
       "stream": "stdout",
       "text": [
        " 47273333667.3\n",
        "184.687617448"
       ]
      },
      {
       "output_type": "stream",
       "stream": "stdout",
       "text": [
        " 52461375875.4\n",
        "184.687617448"
       ]
      },
      {
       "output_type": "stream",
       "stream": "stdout",
       "text": [
        " 58218783090.5\n",
        "184.687617448"
       ]
      },
      {
       "output_type": "stream",
       "stream": "stdout",
       "text": [
        " 64608040639.1\n",
        "184.687617448"
       ]
      },
      {
       "output_type": "stream",
       "stream": "stdout",
       "text": [
        " 71698491339.7\n",
        "184.687617448"
       ]
      },
      {
       "output_type": "stream",
       "stream": "stdout",
       "text": [
        " 79567088082.7\n",
        "184.687617448"
       ]
      },
      {
       "output_type": "stream",
       "stream": "stdout",
       "text": [
        " 88299229003.0\n",
        "184.687617448"
       ]
      },
      {
       "output_type": "stream",
       "stream": "stdout",
       "text": [
        " 97989684307.8\n",
        "184.687617448"
       ]
      },
      {
       "output_type": "stream",
       "stream": "stdout",
       "text": [
        " 108743624822.0\n",
        "184.687617448"
       ]
      },
      {
       "output_type": "stream",
       "stream": "stdout",
       "text": [
        " 120677763408.0\n",
        "184.687617448"
       ]
      },
      {
       "output_type": "stream",
       "stream": "stdout",
       "text": [
        " 133921621659.0\n",
        "184.687617448"
       ]
      },
      {
       "output_type": "stream",
       "stream": "stdout",
       "text": [
        " 148618935596.0\n",
        "184.687617448"
       ]
      },
      {
       "output_type": "stream",
       "stream": "stdout",
       "text": [
        " 164929215642.0\n",
        "184.687617448"
       ]
      },
      {
       "output_type": "stream",
       "stream": "stdout",
       "text": [
        " 183029477792.0\n",
        "184.687617448"
       ]
      },
      {
       "output_type": "stream",
       "stream": "stdout",
       "text": [
        " 203116164777.0\n",
        "184.687617448"
       ]
      },
      {
       "output_type": "stream",
       "stream": "stdout",
       "text": [
        " 225407278060.0\n",
        "184.687617448"
       ]
      },
      {
       "output_type": "stream",
       "stream": "stdout",
       "text": [
        " 250144743812.0\n",
        "184.687617448"
       ]
      },
      {
       "output_type": "stream",
       "stream": "stdout",
       "text": [
        " 277597038549.0\n",
        "184.687617448"
       ]
      },
      {
       "output_type": "stream",
       "stream": "stdout",
       "text": [
        " 308062102912.0\n",
        "184.687617448"
       ]
      },
      {
       "output_type": "stream",
       "stream": "stdout",
       "text": [
        " 341870575229.0\n",
        "184.687617448"
       ]
      },
      {
       "output_type": "stream",
       "stream": "stdout",
       "text": [
        " 379389379943.0\n",
        "184.687617448"
       ]
      },
      {
       "output_type": "stream",
       "stream": "stdout",
       "text": [
        " 421025709851.0\n",
        "184.687617448"
       ]
      },
      {
       "output_type": "stream",
       "stream": "stdout",
       "text": [
        " 467231445389.0\n",
        "184.687617448"
       ]
      },
      {
       "output_type": "stream",
       "stream": "stdout",
       "text": [
        " 518508058896.0\n",
        "184.687617448"
       ]
      },
      {
       "output_type": "stream",
       "stream": "stdout",
       "text": [
        " 575412057115.0\n",
        "184.687617448"
       ]
      },
      {
       "output_type": "stream",
       "stream": "stdout",
       "text": [
        " 638561020977.0\n",
        "184.687617448"
       ]
      },
      {
       "output_type": "stream",
       "stream": "stdout",
       "text": [
        " 708640308226.0\n",
        "184.687617448"
       ]
      },
      {
       "output_type": "stream",
       "stream": "stdout",
       "text": [
        " 786410491630.0\n",
        "184.687617448"
       ]
      },
      {
       "output_type": "stream",
       "stream": "stdout",
       "text": [
        " 872715613503.0\n",
        "184.687617448"
       ]
      },
      {
       "output_type": "stream",
       "stream": "stdout",
       "text": [
        " 968492346119.0\n",
        "184.687617448"
       ]
      },
      {
       "output_type": "stream",
       "stream": "stdout",
       "text": [
        " 1.07478015745e+12\n",
        "184.687617448"
       ]
      },
      {
       "output_type": "stream",
       "stream": "stdout",
       "text": [
        " 1.19273259255e+12\n",
        "184.687617448"
       ]
      },
      {
       "output_type": "stream",
       "stream": "stdout",
       "text": [
        " 1.32362979301e+12\n",
        "184.687617448"
       ]
      },
      {
       "output_type": "stream",
       "stream": "stdout",
       "text": [
        " 1.46889239036e+12\n",
        "184.687617448"
       ]
      },
      {
       "output_type": "stream",
       "stream": "stdout",
       "text": [
        " 1.63009692427e+12\n",
        "184.687617448"
       ]
      },
      {
       "output_type": "stream",
       "stream": "stdout",
       "text": [
        " 1.80899295276e+12\n",
        "184.687617448"
       ]
      },
      {
       "output_type": "stream",
       "stream": "stdout",
       "text": [
        " 2.0075220402e+12\n",
        "184.687617448"
       ]
      },
      {
       "output_type": "stream",
       "stream": "stdout",
       "text": [
        " 2.22783882918e+12\n",
        "184.687617448"
       ]
      },
      {
       "output_type": "stream",
       "stream": "stdout",
       "text": [
        " 2.47233442495e+12\n",
        "184.687617448"
       ]
      },
      {
       "output_type": "stream",
       "stream": "stdout",
       "text": [
        " 2.74366234609e+12\n",
        "184.687617448"
       ]
      },
      {
       "output_type": "stream",
       "stream": "stdout",
       "text": [
        " 3.04476732329e+12\n",
        "184.687617448"
       ]
      },
      {
       "output_type": "stream",
       "stream": "stdout",
       "text": [
        " 3.37891725861e+12\n",
        "184.687617448"
       ]
      },
      {
       "output_type": "stream",
       "stream": "stdout",
       "text": [
        " 3.74973869208e+12\n",
        "184.687617448"
       ]
      },
      {
       "output_type": "stream",
       "stream": "stdout",
       "text": [
        " 4.1612561607e+12\n",
        "184.687617448"
       ]
      },
      {
       "output_type": "stream",
       "stream": "stdout",
       "text": [
        " 4.61793587685e+12\n",
        "184.687617448"
       ]
      },
      {
       "output_type": "stream",
       "stream": "stdout",
       "text": [
        " 5.12473420023e+12\n",
        "184.687617448"
       ]
      },
      {
       "output_type": "stream",
       "stream": "stdout",
       "text": [
        " 5.68715142943e+12\n",
        "184.687617448"
       ]
      },
      {
       "output_type": "stream",
       "stream": "stdout",
       "text": [
        " 6.3112914968e+12\n",
        "184.687617448"
       ]
      },
      {
       "output_type": "stream",
       "stream": "stdout",
       "text": [
        " 7.00392821465e+12\n",
        "184.687617448"
       ]
      },
      {
       "output_type": "stream",
       "stream": "stdout",
       "text": [
        " 7.77257879166e+12\n",
        "184.687617448"
       ]
      },
      {
       "output_type": "stream",
       "stream": "stdout",
       "text": [
        " 8.62558541736e+12\n",
        "184.687617448"
       ]
      },
      {
       "output_type": "stream",
       "stream": "stdout",
       "text": [
        " 9.57220580022e+12\n",
        "184.687617448"
       ]
      },
      {
       "output_type": "stream",
       "stream": "stdout",
       "text": [
        " 1.06227136418e+13\n",
        "184.687617448"
       ]
      },
      {
       "output_type": "stream",
       "stream": "stdout",
       "text": [
        " 1.17885101377e+13\n",
        "184.687617448"
       ]
      },
      {
       "output_type": "stream",
       "stream": "stdout",
       "text": [
        " 1.30822477149e+13\n",
        "184.687617448"
       ]
      },
      {
       "output_type": "stream",
       "stream": "stdout",
       "text": [
        " 1.45179673492e+13\n",
        "184.687617448"
       ]
      },
      {
       "output_type": "stream",
       "stream": "stdout",
       "text": [
        " 1.6111250952e+13\n",
        "184.687617448"
       ]
      },
      {
       "output_type": "stream",
       "stream": "stdout",
       "text": [
        " 1.78793904819e+13\n",
        "184.687617448"
       ]
      },
      {
       "output_type": "stream",
       "stream": "stdout",
       "text": [
        " 1.98415756141e+13\n",
        "184.687617448"
       ]
      },
      {
       "output_type": "stream",
       "stream": "stdout",
       "text": [
        " 2.20191020075e+13\n",
        "184.687617448"
       ]
      },
      {
       "output_type": "stream",
       "stream": "stdout",
       "text": [
        " 2.44356024262e+13\n",
        "184.687617448"
       ]
      },
      {
       "output_type": "stream",
       "stream": "stdout",
       "text": [
        " 2.71173032273e+13\n",
        "184.687617448"
       ]
      },
      {
       "output_type": "stream",
       "stream": "stdout",
       "text": [
        " 3.00933089963e+13\n",
        "184.687617448"
       ]
      },
      {
       "output_type": "stream",
       "stream": "stdout",
       "text": [
        " 3.33959184199e+13\n",
        "184.687617448"
       ]
      },
      {
       "output_type": "stream",
       "stream": "stdout",
       "text": [
        " 3.70609748249e+13\n",
        "184.687617448"
       ]
      },
      {
       "output_type": "stream",
       "stream": "stdout",
       "text": [
        " 4.11282551868e+13\n",
        "184.687617448"
       ]
      },
      {
       "output_type": "stream",
       "stream": "stdout",
       "text": [
        " 4.56419018307e+13\n",
        "184.687617448"
       ]
      },
      {
       "output_type": "stream",
       "stream": "stdout",
       "text": [
        " 5.06509015095e+13\n",
        "184.687617448"
       ]
      },
      {
       "output_type": "stream",
       "stream": "stdout",
       "text": [
        " 5.62096170586e+13\n",
        "184.687617448"
       ]
      },
      {
       "output_type": "stream",
       "stream": "stdout",
       "text": [
        " 6.23783773972e+13\n",
        "184.687617448"
       ]
      },
      {
       "output_type": "stream",
       "stream": "stdout",
       "text": [
        " 6.92241322807e+13\n",
        "184.687617448"
       ]
      },
      {
       "output_type": "stream",
       "stream": "stdout",
       "text": [
        " 7.68211789079e+13\n",
        "184.687617448"
       ]
      },
      {
       "output_type": "stream",
       "stream": "stdout",
       "text": [
        " 8.52519682712e+13\n",
        "184.687617448"
       ]
      },
      {
       "output_type": "stream",
       "stream": "stdout",
       "text": [
        " 9.4608e+13\n",
        "429.752972588"
       ]
      },
      {
       "output_type": "stream",
       "stream": "stdout",
       "text": [
        " 3153600000.0\n",
        "429.752972588"
       ]
      },
      {
       "output_type": "stream",
       "stream": "stdout",
       "text": [
        " 3499693846.96\n",
        "429.752972588"
       ]
      },
      {
       "output_type": "stream",
       "stream": "stdout",
       "text": [
        " 3883769984.29\n",
        "429.752972588"
       ]
      },
      {
       "output_type": "stream",
       "stream": "stdout",
       "text": [
        " 4309996802.71\n",
        "429.752972588"
       ]
      },
      {
       "output_type": "stream",
       "stream": "stdout",
       "text": [
        " 4783000155.65\n",
        "429.752972588"
       ]
      },
      {
       "output_type": "stream",
       "stream": "stdout",
       "text": [
        " 5307913563.78\n",
        "429.752972588"
       ]
      },
      {
       "output_type": "stream",
       "stream": "stdout",
       "text": [
        " 5890433929.27\n",
        "429.752972588"
       ]
      },
      {
       "output_type": "stream",
       "stream": "stdout",
       "text": [
        " 6536883364.47\n",
        "429.752972588"
       ]
      },
      {
       "output_type": "stream",
       "stream": "stdout",
       "text": [
        " 7254277805.98\n",
        "429.752972588"
       ]
      },
      {
       "output_type": "stream",
       "stream": "stdout",
       "text": [
        " 8050403158.84\n",
        "429.752972588"
       ]
      },
      {
       "output_type": "stream",
       "stream": "stdout",
       "text": [
        " 8933899797.23\n",
        "429.752972588"
       ]
      },
      {
       "output_type": "stream",
       "stream": "stdout",
       "text": [
        " 9914356338.7\n",
        "429.752972588"
       ]
      },
      {
       "output_type": "stream",
       "stream": "stdout",
       "text": [
        " 11002413709.8\n",
        "429.752972588"
       ]
      },
      {
       "output_type": "stream",
       "stream": "stdout",
       "text": [
        " 12209880632.2\n",
        "429.752972588"
       ]
      },
      {
       "output_type": "stream",
       "stream": "stdout",
       "text": [
        " 13549861783.6\n",
        "429.752972588"
       ]
      },
      {
       "output_type": "stream",
       "stream": "stdout",
       "text": [
        " 15036900022.6\n",
        "429.752972588"
       ]
      },
      {
       "output_type": "stream",
       "stream": "stdout",
       "text": [
        " 16687134223.2\n",
        "429.752972588"
       ]
      },
      {
       "output_type": "stream",
       "stream": "stdout",
       "text": [
        " 18518474430.6\n",
        "429.752972588"
       ]
      },
      {
       "output_type": "stream",
       "stream": "stdout",
       "text": [
        " 20550796239.2\n",
        "429.752972588"
       ]
      },
      {
       "output_type": "stream",
       "stream": "stdout",
       "text": [
        " 22806156503.2\n",
        "429.752972588"
       ]
      },
      {
       "output_type": "stream",
       "stream": "stdout",
       "text": [
        " 25309032720.4\n",
        "429.752972588"
       ]
      },
      {
       "output_type": "stream",
       "stream": "stdout",
       "text": [
        " 28086588687.2\n",
        "429.752972588"
       ]
      },
      {
       "output_type": "stream",
       "stream": "stdout",
       "text": [
        " 31168969308.3\n",
        "429.752972588"
       ]
      },
      {
       "output_type": "stream",
       "stream": "stdout",
       "text": [
        " 34589627760.2\n",
        "429.752972588"
       ]
      },
      {
       "output_type": "stream",
       "stream": "stdout",
       "text": [
        " 38385688559.4\n",
        "429.752972588"
       ]
      },
      {
       "output_type": "stream",
       "stream": "stdout",
       "text": [
        " 42598350476.5\n",
        "429.752972588"
       ]
      },
      {
       "output_type": "stream",
       "stream": "stdout",
       "text": [
        " 47273333667.3\n",
        "429.752972588"
       ]
      },
      {
       "output_type": "stream",
       "stream": "stdout",
       "text": [
        " 52461375875.4\n",
        "429.752972588"
       ]
      },
      {
       "output_type": "stream",
       "stream": "stdout",
       "text": [
        " 58218783090.5\n",
        "429.752972588"
       ]
      },
      {
       "output_type": "stream",
       "stream": "stdout",
       "text": [
        " 64608040639.1\n",
        "429.752972588"
       ]
      },
      {
       "output_type": "stream",
       "stream": "stdout",
       "text": [
        " 71698491339.7\n",
        "429.752972588"
       ]
      },
      {
       "output_type": "stream",
       "stream": "stdout",
       "text": [
        " 79567088082.7\n",
        "429.752972588"
       ]
      },
      {
       "output_type": "stream",
       "stream": "stdout",
       "text": [
        " 88299229003.0\n",
        "429.752972588"
       ]
      },
      {
       "output_type": "stream",
       "stream": "stdout",
       "text": [
        " 97989684307.8\n",
        "429.752972588"
       ]
      },
      {
       "output_type": "stream",
       "stream": "stdout",
       "text": [
        " 108743624822.0\n",
        "429.752972588"
       ]
      },
      {
       "output_type": "stream",
       "stream": "stdout",
       "text": [
        " 120677763408.0\n",
        "429.752972588"
       ]
      },
      {
       "output_type": "stream",
       "stream": "stdout",
       "text": [
        " 133921621659.0\n",
        "429.752972588"
       ]
      },
      {
       "output_type": "stream",
       "stream": "stdout",
       "text": [
        " 148618935596.0\n",
        "429.752972588"
       ]
      },
      {
       "output_type": "stream",
       "stream": "stdout",
       "text": [
        " 164929215642.0\n",
        "429.752972588"
       ]
      },
      {
       "output_type": "stream",
       "stream": "stdout",
       "text": [
        " 183029477792.0\n",
        "429.752972588"
       ]
      },
      {
       "output_type": "stream",
       "stream": "stdout",
       "text": [
        " 203116164777.0\n",
        "429.752972588"
       ]
      },
      {
       "output_type": "stream",
       "stream": "stdout",
       "text": [
        " 225407278060.0\n",
        "429.752972588"
       ]
      },
      {
       "output_type": "stream",
       "stream": "stdout",
       "text": [
        " 250144743812.0\n",
        "429.752972588"
       ]
      },
      {
       "output_type": "stream",
       "stream": "stdout",
       "text": [
        " 277597038549.0\n",
        "429.752972588"
       ]
      },
      {
       "output_type": "stream",
       "stream": "stdout",
       "text": [
        " 308062102912.0\n",
        "429.752972588"
       ]
      },
      {
       "output_type": "stream",
       "stream": "stdout",
       "text": [
        " 341870575229.0\n",
        "429.752972588"
       ]
      },
      {
       "output_type": "stream",
       "stream": "stdout",
       "text": [
        " 379389379943.0\n",
        "429.752972588"
       ]
      },
      {
       "output_type": "stream",
       "stream": "stdout",
       "text": [
        " 421025709851.0\n",
        "429.752972588"
       ]
      },
      {
       "output_type": "stream",
       "stream": "stdout",
       "text": [
        " 467231445389.0\n",
        "429.752972588"
       ]
      },
      {
       "output_type": "stream",
       "stream": "stdout",
       "text": [
        " 518508058896.0\n",
        "429.752972588"
       ]
      },
      {
       "output_type": "stream",
       "stream": "stdout",
       "text": [
        " 575412057115.0\n",
        "429.752972588"
       ]
      },
      {
       "output_type": "stream",
       "stream": "stdout",
       "text": [
        " 638561020977.0\n",
        "429.752972588"
       ]
      },
      {
       "output_type": "stream",
       "stream": "stdout",
       "text": [
        " 708640308226.0\n",
        "429.752972588"
       ]
      },
      {
       "output_type": "stream",
       "stream": "stdout",
       "text": [
        " 786410491630.0\n",
        "429.752972588"
       ]
      },
      {
       "output_type": "stream",
       "stream": "stdout",
       "text": [
        " 872715613503.0\n",
        "429.752972588"
       ]
      },
      {
       "output_type": "stream",
       "stream": "stdout",
       "text": [
        " 968492346119.0\n",
        "429.752972588"
       ]
      },
      {
       "output_type": "stream",
       "stream": "stdout",
       "text": [
        " 1.07478015745e+12\n",
        "429.752972588"
       ]
      },
      {
       "output_type": "stream",
       "stream": "stdout",
       "text": [
        " 1.19273259255e+12\n",
        "429.752972588"
       ]
      },
      {
       "output_type": "stream",
       "stream": "stdout",
       "text": [
        " 1.32362979301e+12\n",
        "429.752972588"
       ]
      },
      {
       "output_type": "stream",
       "stream": "stdout",
       "text": [
        " 1.46889239036e+12\n",
        "429.752972588"
       ]
      },
      {
       "output_type": "stream",
       "stream": "stdout",
       "text": [
        " 1.63009692427e+12\n",
        "429.752972588"
       ]
      },
      {
       "output_type": "stream",
       "stream": "stdout",
       "text": [
        " 1.80899295276e+12\n",
        "429.752972588"
       ]
      },
      {
       "output_type": "stream",
       "stream": "stdout",
       "text": [
        " 2.0075220402e+12\n",
        "429.752972588"
       ]
      },
      {
       "output_type": "stream",
       "stream": "stdout",
       "text": [
        " 2.22783882918e+12\n",
        "429.752972588"
       ]
      },
      {
       "output_type": "stream",
       "stream": "stdout",
       "text": [
        " 2.47233442495e+12\n",
        "429.752972588"
       ]
      },
      {
       "output_type": "stream",
       "stream": "stdout",
       "text": [
        " 2.74366234609e+12\n",
        "429.752972588"
       ]
      },
      {
       "output_type": "stream",
       "stream": "stdout",
       "text": [
        " 3.04476732329e+12\n",
        "429.752972588"
       ]
      },
      {
       "output_type": "stream",
       "stream": "stdout",
       "text": [
        " 3.37891725861e+12\n",
        "429.752972588"
       ]
      },
      {
       "output_type": "stream",
       "stream": "stdout",
       "text": [
        " 3.74973869208e+12\n",
        "429.752972588"
       ]
      },
      {
       "output_type": "stream",
       "stream": "stdout",
       "text": [
        " 4.1612561607e+12\n",
        "429.752972588"
       ]
      },
      {
       "output_type": "stream",
       "stream": "stdout",
       "text": [
        " 4.61793587685e+12\n",
        "429.752972588"
       ]
      },
      {
       "output_type": "stream",
       "stream": "stdout",
       "text": [
        " 5.12473420023e+12\n",
        "429.752972588"
       ]
      },
      {
       "output_type": "stream",
       "stream": "stdout",
       "text": [
        " 5.68715142943e+12\n",
        "429.752972588"
       ]
      },
      {
       "output_type": "stream",
       "stream": "stdout",
       "text": [
        " 6.3112914968e+12\n",
        "429.752972588"
       ]
      },
      {
       "output_type": "stream",
       "stream": "stdout",
       "text": [
        " 7.00392821465e+12\n",
        "429.752972588"
       ]
      },
      {
       "output_type": "stream",
       "stream": "stdout",
       "text": [
        " 7.77257879166e+12\n",
        "429.752972588"
       ]
      },
      {
       "output_type": "stream",
       "stream": "stdout",
       "text": [
        " 8.62558541736e+12\n",
        "429.752972588"
       ]
      },
      {
       "output_type": "stream",
       "stream": "stdout",
       "text": [
        " 9.57220580022e+12\n",
        "429.752972588"
       ]
      },
      {
       "output_type": "stream",
       "stream": "stdout",
       "text": [
        " 1.06227136418e+13\n",
        "429.752972588"
       ]
      },
      {
       "output_type": "stream",
       "stream": "stdout",
       "text": [
        " 1.17885101377e+13\n",
        "429.752972588"
       ]
      },
      {
       "output_type": "stream",
       "stream": "stdout",
       "text": [
        " 1.30822477149e+13\n",
        "429.752972588"
       ]
      },
      {
       "output_type": "stream",
       "stream": "stdout",
       "text": [
        " 1.45179673492e+13\n",
        "429.752972588"
       ]
      },
      {
       "output_type": "stream",
       "stream": "stdout",
       "text": [
        " 1.6111250952e+13\n",
        "429.752972588"
       ]
      },
      {
       "output_type": "stream",
       "stream": "stdout",
       "text": [
        " 1.78793904819e+13\n",
        "429.752972588"
       ]
      },
      {
       "output_type": "stream",
       "stream": "stdout",
       "text": [
        " 1.98415756141e+13\n",
        "429.752972588"
       ]
      },
      {
       "output_type": "stream",
       "stream": "stdout",
       "text": [
        " 2.20191020075e+13\n",
        "429.752972588"
       ]
      },
      {
       "output_type": "stream",
       "stream": "stdout",
       "text": [
        " 2.44356024262e+13\n",
        "429.752972588"
       ]
      },
      {
       "output_type": "stream",
       "stream": "stdout",
       "text": [
        " 2.71173032273e+13\n",
        "429.752972588"
       ]
      },
      {
       "output_type": "stream",
       "stream": "stdout",
       "text": [
        " 3.00933089963e+13\n",
        "429.752972588"
       ]
      },
      {
       "output_type": "stream",
       "stream": "stdout",
       "text": [
        " 3.33959184199e+13\n",
        "429.752972588"
       ]
      },
      {
       "output_type": "stream",
       "stream": "stdout",
       "text": [
        " 3.70609748249e+13\n",
        "429.752972588"
       ]
      },
      {
       "output_type": "stream",
       "stream": "stdout",
       "text": [
        " 4.11282551868e+13\n",
        "429.752972588"
       ]
      },
      {
       "output_type": "stream",
       "stream": "stdout",
       "text": [
        " 4.56419018307e+13\n",
        "429.752972588"
       ]
      },
      {
       "output_type": "stream",
       "stream": "stdout",
       "text": [
        " 5.06509015095e+13\n",
        "429.752972588"
       ]
      },
      {
       "output_type": "stream",
       "stream": "stdout",
       "text": [
        " 5.62096170586e+13\n",
        "429.752972588"
       ]
      },
      {
       "output_type": "stream",
       "stream": "stdout",
       "text": [
        " 6.23783773972e+13\n",
        "429.752972588"
       ]
      },
      {
       "output_type": "stream",
       "stream": "stdout",
       "text": [
        " 6.92241322807e+13\n",
        "429.752972588"
       ]
      },
      {
       "output_type": "stream",
       "stream": "stdout",
       "text": [
        " 7.68211789079e+13\n",
        "429.752972588"
       ]
      },
      {
       "output_type": "stream",
       "stream": "stdout",
       "text": [
        " 8.52519682712e+13\n",
        "429.752972588"
       ]
      },
      {
       "output_type": "stream",
       "stream": "stdout",
       "text": [
        " 9.4608e+13\n",
        "1000.0"
       ]
      },
      {
       "output_type": "stream",
       "stream": "stdout",
       "text": [
        " 3153600000.0\n",
        "1000.0"
       ]
      },
      {
       "output_type": "stream",
       "stream": "stdout",
       "text": [
        " 3499693846.96\n",
        "1000.0"
       ]
      },
      {
       "output_type": "stream",
       "stream": "stdout",
       "text": [
        " 3883769984.29\n",
        "1000.0"
       ]
      },
      {
       "output_type": "stream",
       "stream": "stdout",
       "text": [
        " 4309996802.71\n",
        "1000.0"
       ]
      },
      {
       "output_type": "stream",
       "stream": "stdout",
       "text": [
        " 4783000155.65\n",
        "1000.0"
       ]
      },
      {
       "output_type": "stream",
       "stream": "stdout",
       "text": [
        " 5307913563.78\n",
        "1000.0"
       ]
      },
      {
       "output_type": "stream",
       "stream": "stdout",
       "text": [
        " 5890433929.27\n",
        "1000.0"
       ]
      },
      {
       "output_type": "stream",
       "stream": "stdout",
       "text": [
        " 6536883364.47\n",
        "1000.0"
       ]
      },
      {
       "output_type": "stream",
       "stream": "stdout",
       "text": [
        " 7254277805.98\n",
        "1000.0"
       ]
      },
      {
       "output_type": "stream",
       "stream": "stdout",
       "text": [
        " 8050403158.84\n",
        "1000.0"
       ]
      },
      {
       "output_type": "stream",
       "stream": "stdout",
       "text": [
        " 8933899797.23\n",
        "1000.0"
       ]
      },
      {
       "output_type": "stream",
       "stream": "stdout",
       "text": [
        " 9914356338.7\n",
        "1000.0"
       ]
      },
      {
       "output_type": "stream",
       "stream": "stdout",
       "text": [
        " 11002413709.8\n",
        "1000.0"
       ]
      },
      {
       "output_type": "stream",
       "stream": "stdout",
       "text": [
        " 12209880632.2\n",
        "1000.0"
       ]
      },
      {
       "output_type": "stream",
       "stream": "stdout",
       "text": [
        " 13549861783.6\n",
        "1000.0"
       ]
      },
      {
       "output_type": "stream",
       "stream": "stdout",
       "text": [
        " 15036900022.6\n",
        "1000.0"
       ]
      },
      {
       "output_type": "stream",
       "stream": "stdout",
       "text": [
        " 16687134223.2\n",
        "1000.0"
       ]
      },
      {
       "output_type": "stream",
       "stream": "stdout",
       "text": [
        " 18518474430.6\n",
        "1000.0"
       ]
      },
      {
       "output_type": "stream",
       "stream": "stdout",
       "text": [
        " 20550796239.2\n",
        "1000.0"
       ]
      },
      {
       "output_type": "stream",
       "stream": "stdout",
       "text": [
        " 22806156503.2\n",
        "1000.0"
       ]
      },
      {
       "output_type": "stream",
       "stream": "stdout",
       "text": [
        " 25309032720.4\n",
        "1000.0"
       ]
      },
      {
       "output_type": "stream",
       "stream": "stdout",
       "text": [
        " 28086588687.2\n",
        "1000.0"
       ]
      },
      {
       "output_type": "stream",
       "stream": "stdout",
       "text": [
        " 31168969308.3\n",
        "1000.0"
       ]
      },
      {
       "output_type": "stream",
       "stream": "stdout",
       "text": [
        " 34589627760.2\n",
        "1000.0"
       ]
      },
      {
       "output_type": "stream",
       "stream": "stdout",
       "text": [
        " 38385688559.4\n",
        "1000.0"
       ]
      },
      {
       "output_type": "stream",
       "stream": "stdout",
       "text": [
        " 42598350476.5\n",
        "1000.0"
       ]
      },
      {
       "output_type": "stream",
       "stream": "stdout",
       "text": [
        " 47273333667.3\n",
        "1000.0"
       ]
      },
      {
       "output_type": "stream",
       "stream": "stdout",
       "text": [
        " 52461375875.4\n",
        "1000.0"
       ]
      },
      {
       "output_type": "stream",
       "stream": "stdout",
       "text": [
        " 58218783090.5\n",
        "1000.0"
       ]
      },
      {
       "output_type": "stream",
       "stream": "stdout",
       "text": [
        " 64608040639.1\n",
        "1000.0"
       ]
      },
      {
       "output_type": "stream",
       "stream": "stdout",
       "text": [
        " 71698491339.7\n",
        "1000.0"
       ]
      },
      {
       "output_type": "stream",
       "stream": "stdout",
       "text": [
        " 79567088082.7\n",
        "1000.0"
       ]
      },
      {
       "output_type": "stream",
       "stream": "stdout",
       "text": [
        " 88299229003.0\n",
        "1000.0"
       ]
      },
      {
       "output_type": "stream",
       "stream": "stdout",
       "text": [
        " 97989684307.8\n",
        "1000.0"
       ]
      },
      {
       "output_type": "stream",
       "stream": "stdout",
       "text": [
        " 108743624822.0\n",
        "1000.0"
       ]
      },
      {
       "output_type": "stream",
       "stream": "stdout",
       "text": [
        " 120677763408.0\n",
        "1000.0"
       ]
      },
      {
       "output_type": "stream",
       "stream": "stdout",
       "text": [
        " 133921621659.0\n",
        "1000.0"
       ]
      },
      {
       "output_type": "stream",
       "stream": "stdout",
       "text": [
        " 148618935596.0\n",
        "1000.0"
       ]
      },
      {
       "output_type": "stream",
       "stream": "stdout",
       "text": [
        " 164929215642.0\n",
        "1000.0"
       ]
      },
      {
       "output_type": "stream",
       "stream": "stdout",
       "text": [
        " 183029477792.0\n",
        "1000.0"
       ]
      },
      {
       "output_type": "stream",
       "stream": "stdout",
       "text": [
        " 203116164777.0\n",
        "1000.0"
       ]
      },
      {
       "output_type": "stream",
       "stream": "stdout",
       "text": [
        " 225407278060.0\n",
        "1000.0"
       ]
      },
      {
       "output_type": "stream",
       "stream": "stdout",
       "text": [
        " 250144743812.0\n",
        "1000.0"
       ]
      },
      {
       "output_type": "stream",
       "stream": "stdout",
       "text": [
        " 277597038549.0\n",
        "1000.0"
       ]
      },
      {
       "output_type": "stream",
       "stream": "stdout",
       "text": [
        " 308062102912.0\n",
        "1000.0"
       ]
      },
      {
       "output_type": "stream",
       "stream": "stdout",
       "text": [
        " 341870575229.0\n",
        "1000.0"
       ]
      },
      {
       "output_type": "stream",
       "stream": "stdout",
       "text": [
        " 379389379943.0\n",
        "1000.0"
       ]
      },
      {
       "output_type": "stream",
       "stream": "stdout",
       "text": [
        " 421025709851.0\n",
        "1000.0"
       ]
      },
      {
       "output_type": "stream",
       "stream": "stdout",
       "text": [
        " 467231445389.0\n",
        "1000.0"
       ]
      },
      {
       "output_type": "stream",
       "stream": "stdout",
       "text": [
        " 518508058896.0\n",
        "1000.0"
       ]
      },
      {
       "output_type": "stream",
       "stream": "stdout",
       "text": [
        " 575412057115.0\n",
        "1000.0"
       ]
      },
      {
       "output_type": "stream",
       "stream": "stdout",
       "text": [
        " 638561020977.0\n",
        "1000.0"
       ]
      },
      {
       "output_type": "stream",
       "stream": "stdout",
       "text": [
        " 708640308226.0\n",
        "1000.0"
       ]
      },
      {
       "output_type": "stream",
       "stream": "stdout",
       "text": [
        " 786410491630.0\n",
        "1000.0"
       ]
      },
      {
       "output_type": "stream",
       "stream": "stdout",
       "text": [
        " 872715613503.0\n",
        "1000.0"
       ]
      },
      {
       "output_type": "stream",
       "stream": "stdout",
       "text": [
        " 968492346119.0\n",
        "1000.0"
       ]
      },
      {
       "output_type": "stream",
       "stream": "stdout",
       "text": [
        " 1.07478015745e+12\n",
        "1000.0"
       ]
      },
      {
       "output_type": "stream",
       "stream": "stdout",
       "text": [
        " 1.19273259255e+12\n",
        "1000.0"
       ]
      },
      {
       "output_type": "stream",
       "stream": "stdout",
       "text": [
        " 1.32362979301e+12\n",
        "1000.0"
       ]
      },
      {
       "output_type": "stream",
       "stream": "stdout",
       "text": [
        " 1.46889239036e+12\n",
        "1000.0"
       ]
      },
      {
       "output_type": "stream",
       "stream": "stdout",
       "text": [
        " 1.63009692427e+12\n",
        "1000.0"
       ]
      },
      {
       "output_type": "stream",
       "stream": "stdout",
       "text": [
        " 1.80899295276e+12\n",
        "1000.0"
       ]
      },
      {
       "output_type": "stream",
       "stream": "stdout",
       "text": [
        " 2.0075220402e+12\n",
        "1000.0"
       ]
      },
      {
       "output_type": "stream",
       "stream": "stdout",
       "text": [
        " 2.22783882918e+12\n",
        "1000.0"
       ]
      },
      {
       "output_type": "stream",
       "stream": "stdout",
       "text": [
        " 2.47233442495e+12\n",
        "1000.0"
       ]
      },
      {
       "output_type": "stream",
       "stream": "stdout",
       "text": [
        " 2.74366234609e+12\n",
        "1000.0"
       ]
      },
      {
       "output_type": "stream",
       "stream": "stdout",
       "text": [
        " 3.04476732329e+12\n",
        "1000.0"
       ]
      },
      {
       "output_type": "stream",
       "stream": "stdout",
       "text": [
        " 3.37891725861e+12\n",
        "1000.0"
       ]
      },
      {
       "output_type": "stream",
       "stream": "stdout",
       "text": [
        " 3.74973869208e+12\n",
        "1000.0"
       ]
      },
      {
       "output_type": "stream",
       "stream": "stdout",
       "text": [
        " 4.1612561607e+12\n",
        "1000.0"
       ]
      },
      {
       "output_type": "stream",
       "stream": "stdout",
       "text": [
        " 4.61793587685e+12\n",
        "1000.0"
       ]
      },
      {
       "output_type": "stream",
       "stream": "stdout",
       "text": [
        " 5.12473420023e+12\n",
        "1000.0"
       ]
      },
      {
       "output_type": "stream",
       "stream": "stdout",
       "text": [
        " 5.68715142943e+12\n",
        "1000.0"
       ]
      },
      {
       "output_type": "stream",
       "stream": "stdout",
       "text": [
        " 6.3112914968e+12\n",
        "1000.0"
       ]
      },
      {
       "output_type": "stream",
       "stream": "stdout",
       "text": [
        " 7.00392821465e+12\n",
        "1000.0"
       ]
      },
      {
       "output_type": "stream",
       "stream": "stdout",
       "text": [
        " 7.77257879166e+12\n",
        "1000.0"
       ]
      },
      {
       "output_type": "stream",
       "stream": "stdout",
       "text": [
        " 8.62558541736e+12\n",
        "1000.0"
       ]
      },
      {
       "output_type": "stream",
       "stream": "stdout",
       "text": [
        " 9.57220580022e+12\n",
        "1000.0"
       ]
      },
      {
       "output_type": "stream",
       "stream": "stdout",
       "text": [
        " 1.06227136418e+13\n",
        "1000.0"
       ]
      },
      {
       "output_type": "stream",
       "stream": "stdout",
       "text": [
        " 1.17885101377e+13\n",
        "1000.0"
       ]
      },
      {
       "output_type": "stream",
       "stream": "stdout",
       "text": [
        " 1.30822477149e+13\n",
        "1000.0"
       ]
      },
      {
       "output_type": "stream",
       "stream": "stdout",
       "text": [
        " 1.45179673492e+13\n",
        "1000.0"
       ]
      },
      {
       "output_type": "stream",
       "stream": "stdout",
       "text": [
        " 1.6111250952e+13\n",
        "1000.0"
       ]
      },
      {
       "output_type": "stream",
       "stream": "stdout",
       "text": [
        " 1.78793904819e+13\n",
        "1000.0"
       ]
      },
      {
       "output_type": "stream",
       "stream": "stdout",
       "text": [
        " 1.98415756141e+13\n",
        "1000.0"
       ]
      },
      {
       "output_type": "stream",
       "stream": "stdout",
       "text": [
        " 2.20191020075e+13\n",
        "1000.0"
       ]
      },
      {
       "output_type": "stream",
       "stream": "stdout",
       "text": [
        " 2.44356024262e+13\n",
        "1000.0"
       ]
      },
      {
       "output_type": "stream",
       "stream": "stdout",
       "text": [
        " 2.71173032273e+13\n",
        "1000.0"
       ]
      },
      {
       "output_type": "stream",
       "stream": "stdout",
       "text": [
        " 3.00933089963e+13\n",
        "1000.0"
       ]
      },
      {
       "output_type": "stream",
       "stream": "stdout",
       "text": [
        " 3.33959184199e+13\n",
        "1000.0"
       ]
      },
      {
       "output_type": "stream",
       "stream": "stdout",
       "text": [
        " 3.70609748249e+13\n",
        "1000.0"
       ]
      },
      {
       "output_type": "stream",
       "stream": "stdout",
       "text": [
        " 4.11282551868e+13\n",
        "1000.0"
       ]
      },
      {
       "output_type": "stream",
       "stream": "stdout",
       "text": [
        " 4.56419018307e+13\n",
        "1000.0"
       ]
      },
      {
       "output_type": "stream",
       "stream": "stdout",
       "text": [
        " 5.06509015095e+13\n",
        "1000.0"
       ]
      },
      {
       "output_type": "stream",
       "stream": "stdout",
       "text": [
        " 5.62096170586e+13\n",
        "1000.0"
       ]
      },
      {
       "output_type": "stream",
       "stream": "stdout",
       "text": [
        " 6.23783773972e+13\n",
        "1000.0"
       ]
      },
      {
       "output_type": "stream",
       "stream": "stdout",
       "text": [
        " 6.92241322807e+13\n",
        "1000.0"
       ]
      },
      {
       "output_type": "stream",
       "stream": "stdout",
       "text": [
        " 7.68211789079e+13\n",
        "1000.0"
       ]
      },
      {
       "output_type": "stream",
       "stream": "stdout",
       "text": [
        " 8.52519682712e+13\n",
        "1000.0"
       ]
      },
      {
       "output_type": "stream",
       "stream": "stdout",
       "text": [
        " 9.4608e+13\n"
       ]
      }
     ],
     "prompt_number": 49
    },
    {
     "cell_type": "code",
     "collapsed": false,
     "input": [
      "rnb = np.linspace(0, 256, len(s))\n",
      "\n",
      "for i in range(len(s)):\n",
      "    plt.semilogx(t / (365 * 24 * 3600), desdist[i], c = cm.rainbow(int(rnb[i])))\n",
      "plt.xlabel('t [yr]')\n",
      "plt.ylabel('Distance [AU]')\n",
      "\n"
     ],
     "language": "python",
     "metadata": {},
     "outputs": [
      {
       "metadata": {},
       "output_type": "pyout",
       "prompt_number": 59,
       "text": [
        "<matplotlib.text.Text at 0x1127ff510>"
       ]
      },
      {
       "metadata": {},
       "output_type": "display_data",
       "png": "[encoded data removed]",
       "text": [
        "<matplotlib.figure.Figure at 0x11271a7d0>"
       ]
      }
     ],
     "prompt_number": 59
    },
    {
     "cell_type": "code",
     "collapsed": false,
     "input": [
      "desdist[1, 8]/desdist[1, 9]-1"
     ],
     "language": "python",
     "metadata": {},
     "outputs": [
      {
       "metadata": {},
       "output_type": "pyout",
       "prompt_number": 32,
       "text": [
        "0.063707496867405178"
       ]
      }
     ],
     "prompt_number": 32
    },
    {
     "cell_type": "code",
     "collapsed": false,
     "input": [
      "f = open('../dat/H2O/stopping_dist_vs_time.txt', 'wb')\n",
      "for i in range(len(s)):\n",
      "    f.write('%s \\n' % str(s[i]))\n",
      "    for j in range(len(t)):\n",
      "        f.write(' %s ' % str(t[j]))\n",
      "        f.write(' %s \\n' % str(desdist[i, j]))\n",
      "f.close()"
     ],
     "language": "python",
     "metadata": {},
     "outputs": [],
     "prompt_number": 53
    },
    {
     "cell_type": "code",
     "collapsed": false,
     "input": [
      "destime = []\n",
      "\n",
      "for i in range(len(s)):\n",
      "    for j in range(len(t) - 1):\n",
      "        if abs(desdist[i, j] / desdist[i, j + 1] - 1) < 1e-5:\n",
      "            break\n",
      "            \n",
      "    destime = np.append(destime, t[j])"
     ],
     "language": "python",
     "metadata": {},
     "outputs": [],
     "prompt_number": 54
    },
    {
     "cell_type": "code",
     "collapsed": false,
     "input": [
      "destime/(365*24*3600)"
     ],
     "language": "python",
     "metadata": {},
     "outputs": [
      {
       "metadata": {},
       "output_type": "pyout",
       "prompt_number": 55,
       "text": [
        "array([  10840.6448259 ,    8802.5443477 ,    3826.66677474,\n",
        "           988.36153312,     255.27660955,     283.29210417,\n",
        "          1350.78483246,    6440.77133362,   34081.0552211 ,\n",
        "        162504.25546148])"
       ]
      }
     ],
     "prompt_number": 55
    },
    {
     "cell_type": "code",
     "collapsed": false,
     "input": [
      "desdist[2]"
     ],
     "language": "python",
     "metadata": {},
     "outputs": [
      {
       "metadata": {},
       "output_type": "pyout",
       "prompt_number": 61,
       "text": [
        "array([ 0.98773642,  0.98638356,  0.98488059,  0.98321064,  0.98135491,\n",
        "        0.97929241,  0.97699969,  0.97445058,  0.97161578,  0.96846248,\n",
        "        0.96495395,  0.96104895,  0.95670115,  0.95185841,  0.94646196,\n",
        "        0.94044543,  0.93373362,  0.92624124,  0.91787105,  0.908512  ,\n",
        "        0.89803655,  0.88629758,  0.87312435,  0.85831734,  0.8416413 ,\n",
        "        0.82281613,  0.80150403,  0.77729134,  0.74966169,  0.71795518,\n",
        "        0.68130342,  0.63852732,  0.58800504,  0.52790485,  0.46231277,\n",
        "        0.43159175,  0.43159175,  0.43159175,  0.43159175,  0.43159175,\n",
        "        0.43159175,  0.43159175,  0.43159175,  0.43159175,  0.43159175,\n",
        "        0.43159175,  0.43159175,  0.43159175,  0.43159175,  0.43159176,\n",
        "        0.43159175,  0.43159175,  0.43159175,  0.43159175,  0.43159175,\n",
        "        0.43159175,  0.43159175,  0.43159175,  0.43159176,  0.43159175,\n",
        "        0.43159175,  0.43159176,  0.43159176,  0.43159175,  0.43159175,\n",
        "        0.43159177,  0.43159176,  0.43159175,  0.43159175,  0.43159175,\n",
        "        0.43159175,  0.43159174,  0.43159174,  0.43159171,  0.43159171,\n",
        "        0.4315917 ,  0.4315917 ,  0.43159191,  0.43159189,  0.43159176,\n",
        "        0.43159176,  0.43159176,  0.43159176,  0.43159176,  0.43159176,\n",
        "        0.43159176,  0.43159176,  0.43159176,  0.43159176,  0.43159176,\n",
        "        0.43159176,  0.43159175,  0.43159175,  0.43159175,  0.43159175,\n",
        "        0.43159175,  0.43159175,  0.43159176,  0.43159177,  0.43159177])"
       ]
      }
     ],
     "prompt_number": 61
    },
    {
     "cell_type": "code",
     "collapsed": false,
     "input": [
      "plt.loglog(s, destime / (365*24*3600))\n",
      "plt.xlabel('s [cm]')\n",
      "plt.ylabel('Desorption time [yr]')"
     ],
     "language": "python",
     "metadata": {},
     "outputs": [
      {
       "metadata": {},
       "output_type": "pyout",
       "prompt_number": 60,
       "text": [
        "<matplotlib.text.Text at 0x11280d5d0>"
       ]
      },
      {
       "metadata": {},
       "output_type": "display_data",
       "png": "[encoded data removed]",
       "text": [
        "<matplotlib.figure.Figure at 0x11256b750>"
       ]
      }
     ],
     "prompt_number": 60
    },
    {
     "cell_type": "code",
     "collapsed": false,
     "input": [],
     "language": "python",
     "metadata": {},
     "outputs": []
    }
   ],
   "metadata": {}
  }
 ]
}