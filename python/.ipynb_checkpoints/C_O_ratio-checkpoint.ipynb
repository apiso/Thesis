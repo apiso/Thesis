{
 "metadata": {
  "name": "",
  "signature": "sha256:098b33c4e4b40ad28024d488f9b3d67e9d68aa960208c7234930d09b7f550df1"
 },
 "nbformat": 3,
 "nbformat_minor": 0,
 "worksheets": [
  {
   "cells": [
    {
     "cell_type": "code",
     "collapsed": false,
     "input": [
      "import numpy as np\n",
      "from matplotlib import pyplot as plt\n",
      "import C_to_O as CO\n",
      "from T_freeze import T_freeze, Rdes, tevap\n",
      "from C_to_O_new import C_O_ratio\n",
      "import matplotlib.cm as cm"
     ],
     "language": "python",
     "metadata": {},
     "outputs": [],
     "prompt_number": 1
    },
    {
     "cell_type": "code",
     "collapsed": false,
     "input": [
      "a = np.logspace(-1, 2, 500)\n",
      "print 5, 27\n",
      "\n",
      "arraygas = np.ndarray(shape = (len(a), 22), dtype = float)\n",
      "arraysolid = np.ndarray(shape = (len(a), 22), dtype = float)\n",
      "\n",
      "for i in range(len(a)):\n",
      "    for j in range(22):\n",
      "        arraygas[i, j] = C_O_ratio(a[i], j)[0]\n",
      "        arraysolid[i, j] = C_O_ratio(a[i], j)[1]\n",
      "        \n",
      "\n",
      "#arraygas1, arraysolid1, arraygas2, arraysolid2  = [], [], [], []\n",
      "#for i in range(len(a)):\n",
      "#    arraygas1 = np.append(arraygas1, C_O_ratio(a[i], 26)[0])\n",
      "#    arraysolid1 = np.append(arraysolid1, C_O_ratio(a[i], 26)[1])\n",
      "#    arraygas2 = np.append(arraygas2, C_O_ratio(a[i], 6)[0])\n",
      "#    arraysolid2 = np.append(arraysolid2, C_O_ratio(a[i], 6)[1])"
     ],
     "language": "python",
     "metadata": {},
     "outputs": [
      {
       "output_type": "stream",
       "stream": "stdout",
       "text": [
        "5 27\n"
       ]
      }
     ],
     "prompt_number": 5
    },
    {
     "cell_type": "code",
     "collapsed": false,
     "input": [
      "#plt.semilogx(a, arraygas1)\n",
      "#plt.semilogx(a, arraysolid1, '--b')\n",
      "#plt.semilogx(a, arraygas2, 'g')\n",
      "#plt.semilogx(a, arraysolid2, '--g')\n",
      "\n",
      "\n",
      "\n",
      "rnb = linspace(0, 256, 22)\n",
      "\n",
      "for i in range(0, 22):\n",
      "    plt.semilogx(a, arraygas[:,i], c = cm.rainbow(int(rnb[i])))\n",
      "    plt.semilogx(a, arraysolid[:,i], c = cm.rainbow(int(rnb[i])), ls = '--')\n",
      "\n",
      "plt.semilogx(a, ones(len(a))*0.54, ls = ':', lw = 2, color = 'black')\n",
      "plt.ylim(0, 1.2)\n",
      "plt.xlabel('a [AU]')\n",
      "plt.ylabel('C/O ratio')\n",
      "plt.savefig('../figs/C_O_ratio_active_disk_many.pdf')"
     ],
     "language": "python",
     "metadata": {},
     "outputs": [
      {
       "metadata": {},
       "output_type": "display_data",
       "png": "[encoded data removed]",
       "text": [
        "<matplotlib.figure.Figure at 0x10deedc50>"
       ]
      }
     ],
     "prompt_number": 15
    },
    {
     "cell_type": "code",
     "collapsed": false,
     "input": [
      "arraygas[:,21]"
     ],
     "language": "python",
     "metadata": {},
     "outputs": [
      {
       "metadata": {},
       "output_type": "pyout",
       "prompt_number": 11,
       "text": [
        "array([ 0.6       ,  0.6       ,  0.6       ,  0.6       ,  0.6       ,\n",
        "        0.6       ,  0.6       ,  0.6       ,  0.6       ,  0.6       ,\n",
        "        0.6       ,  0.6       ,  0.6       ,  0.6       ,  0.6       ,\n",
        "        0.6       ,  0.6       ,  0.6       ,  0.6       ,  0.6       ,\n",
        "        0.6       ,  0.6       ,  0.6       ,  0.6       ,  0.6       ,\n",
        "        0.6       ,  0.6       ,  0.6       ,  0.6       ,  0.6       ,\n",
        "        0.6       ,  0.6       ,  0.6       ,  0.6       ,  0.6       ,\n",
        "        0.6       ,  0.6       ,  0.6       ,  0.6       ,  0.6       ,\n",
        "        0.6       ,  0.6       ,  0.6       ,  0.6       ,  0.6       ,\n",
        "        0.6       ,  0.6       ,  0.6       ,  0.6       ,  0.6       ,\n",
        "        0.6       ,  0.6       ,  0.6       ,  0.6       ,  0.6       ,\n",
        "        0.6       ,  0.6       ,  0.6       ,  0.6       ,  0.6       ,\n",
        "        0.6       ,  0.6       ,  0.6       ,  0.6       ,  0.6       ,\n",
        "        0.6       ,  0.6       ,  0.6       ,  0.6       ,  0.6       ,\n",
        "        0.6       ,  0.6       ,  0.6       ,  0.85714286,  0.85714286,\n",
        "        0.85714286,  0.85714286,  0.85714286,  0.85714286,  0.85714286,\n",
        "        0.85714286,  0.85714286,  0.85714286,  0.85714286,  0.85714286,\n",
        "        0.85714286,  0.85714286,  0.85714286,  0.85714286,  0.85714286,\n",
        "        0.85714286,  0.85714286,  0.85714286,  0.85714286,  0.85714286,\n",
        "        0.85714286,  0.85714286,  0.85714286,  0.85714286,  0.85714286,\n",
        "        0.85714286,  0.85714286,  0.85714286,  0.85714286,  0.85714286,\n",
        "        0.85714286,  0.85714286,  0.85714286,  0.85714286,  0.85714286,\n",
        "        0.85714286,  0.85714286,  0.85714286,  0.85714286,  0.85714286,\n",
        "        0.85714286,  0.85714286,  0.85714286,  0.85714286,  0.85714286,\n",
        "        0.85714286,  0.85714286,  0.85714286,  0.85714286,  0.85714286,\n",
        "        0.85714286,  0.85714286,  0.85714286,  0.85714286,  0.85714286,\n",
        "        0.85714286,  0.85714286,  0.85714286,  0.85714286,  0.85714286,\n",
        "        0.85714286,  0.85714286,  0.85714286,  0.85714286,  0.85714286,\n",
        "        0.85714286,  0.85714286,  0.85714286,  0.85714286,  0.85714286,\n",
        "        0.85714286,  0.85714286,  0.85714286,  0.85714286,  0.85714286,\n",
        "        0.85714286,  0.85714286,  0.85714286,  0.85714286,  0.85714286,\n",
        "        0.85714286,  0.85714286,  0.85714286,  0.85714286,  0.85714286,\n",
        "        0.85714286,  0.85714286,  0.85714286,  0.85714286,  0.85714286,\n",
        "        0.85714286,  0.85714286,  0.85714286,  0.85714286,  0.85714286,\n",
        "        0.85714286,  0.85714286,  0.85714286,  0.85714286,  0.85714286,\n",
        "        0.85714286,  0.85714286,  0.85714286,  0.85714286,  0.85714286,\n",
        "        0.85714286,  0.85714286,  0.85714286,  0.85714286,  0.85714286,\n",
        "        0.85714286,  0.85714286,  0.85714286,  0.85714286,  0.85714286,\n",
        "        0.85714286,  0.85714286,  0.85714286,  0.85714286,  0.85714286,\n",
        "        0.85714286,  0.85714286,  0.85714286,  0.85714286,  0.85714286,\n",
        "        0.85714286,  0.85714286,  0.85714286,  0.85714286,  0.85714286,\n",
        "        0.85714286,  0.85714286,  0.85714286,  0.85714286,  0.85714286,\n",
        "        0.85714286,  0.85714286,  0.85714286,  0.85714286,  0.85714286,\n",
        "        0.85714286,  0.85714286,  0.85714286,  0.85714286,  0.85714286,\n",
        "        0.85714286,  0.85714286,  0.85714286,  0.85714286,  0.85714286,\n",
        "        0.85714286,  0.85714286,  0.85714286,  0.85714286,  0.85714286,\n",
        "        0.85714286,  0.85714286,  0.85714286,  0.85714286,  0.85714286,\n",
        "        0.85714286,  0.85714286,  0.85714286,  0.85714286,  0.85714286,\n",
        "        0.85714286,  0.85714286,  0.85714286,  0.85714286,  0.85714286,\n",
        "        0.85714286,  0.85714286,  0.85714286,  0.85714286,  0.85714286,\n",
        "        0.85714286,  0.85714286,  0.85714286,  0.85714286,  0.85714286,\n",
        "        0.85714286,  0.85714286,  0.85714286,  0.85714286,  0.85714286,\n",
        "        0.85714286,  0.85714286,  0.85714286,  0.85714286,  0.85714286,\n",
        "        0.85714286,  1.        ,  1.        ,  1.        ,  1.        ,\n",
        "        1.        ,  1.        ,  1.        ,  1.        ,  1.        ,\n",
        "        1.        ,  1.        ,  1.        ,  1.        ,  1.        ,\n",
        "        1.        ,  1.        ,  1.        ,  1.        ,  1.        ,\n",
        "        1.        ,  1.        ,  1.        ,  1.        ,  1.        ,\n",
        "        1.        ,  1.        ,  1.        ,  1.        ,  1.        ,\n",
        "        1.        ,  1.        ,  1.        ,  1.        ,  1.        ,\n",
        "        1.        ,  1.        ,  1.        ,  1.        ,  1.        ,\n",
        "        1.        ,  1.        ,  1.        ,  1.        ,  1.        ,\n",
        "        1.        ,  1.        ,  1.        ,  1.        ,  1.        ,\n",
        "        1.        ,  1.        ,  1.        ,  1.        ,  1.        ,\n",
        "        1.        ,  1.        ,  1.        ,  1.        ,  1.        ,\n",
        "        1.        ,  1.        ,  1.        ,  1.        ,  1.        ,\n",
        "        1.        ,  1.        ,  1.        ,  1.        ,  1.        ,\n",
        "        1.        ,  1.        ,  1.        ,  1.        ,  1.        ,\n",
        "        1.        ,  1.        ,  1.        ,  1.        ,  1.        ,\n",
        "        1.        ,  1.        ,  1.        ,  1.        ,  1.        ,\n",
        "        1.        ,  1.        ,  1.        ,  1.        ,  1.        ,\n",
        "        1.        ,  1.        ,  1.        ,  1.        ,  1.        ,\n",
        "        1.        ,  1.        ,  1.        ,  1.        ,  1.        ,\n",
        "        1.        ,  1.        ,  1.        ,  1.        ,  1.        ,\n",
        "        1.        ,  1.        ,  1.        ,  1.        ,  1.        ,\n",
        "        1.        ,  1.        ,  1.        ,  1.        ,  1.        ,\n",
        "        1.        ,  1.        ,  1.        ,  1.        ,  1.        ,\n",
        "        1.        ,  1.        ,  1.        ,  1.        ,  1.        ,\n",
        "        1.        ,  1.        ,  1.        ,  1.        ,  1.        ,\n",
        "        1.        ,  1.        ,  1.        ,  1.        ,  1.        ,\n",
        "        1.        ,  1.        ,  1.        ,  1.        ,  1.        ,\n",
        "        1.        ,  1.        ,  1.        ,  1.        ,  1.        ,\n",
        "        1.        ,  1.        ,  1.        ,  1.        ,  1.        ,\n",
        "        1.        ,         nan,         nan,         nan,         nan,\n",
        "               nan,         nan,         nan,         nan,         nan,\n",
        "               nan,         nan,         nan,         nan,         nan,\n",
        "               nan,         nan,         nan,         nan,         nan,\n",
        "               nan,         nan,         nan,         nan,         nan,\n",
        "               nan,         nan,         nan,         nan,         nan,\n",
        "               nan,         nan,         nan,         nan,         nan,\n",
        "               nan,         nan,         nan,         nan,         nan,\n",
        "               nan,         nan,         nan,         nan,         nan,\n",
        "               nan,         nan,         nan,         nan,         nan,\n",
        "               nan,         nan,         nan,         nan,         nan,\n",
        "               nan,         nan,         nan,         nan,         nan,\n",
        "               nan,         nan,         nan,         nan,         nan,\n",
        "               nan,         nan,         nan,         nan,         nan,\n",
        "               nan,         nan,         nan,         nan,         nan,\n",
        "               nan,         nan,         nan,         nan,         nan,\n",
        "               nan,         nan,         nan,         nan,         nan])"
       ]
      }
     ],
     "prompt_number": 11
    },
    {
     "cell_type": "code",
     "collapsed": false,
     "input": [],
     "language": "python",
     "metadata": {},
     "outputs": []
    }
   ],
   "metadata": {}
  }
 ]
}