{
 "metadata": {
  "name": "",
  "signature": "sha256:dd360e098294504f811604672d4f78654617b9d29f29650ef11aabc61d1d4dbb"
 },
 "nbformat": 3,
 "nbformat_minor": 0,
 "worksheets": [
  {
   "cells": [
    {
     "cell_type": "code",
     "collapsed": false,
     "input": [
      "import numpy as np\n",
      "from matplotlib import pyplot as plt\n",
      "import C_to_O as CO\n",
      "from T_freeze import T_freeze, Rdes, tevap\n",
      "from C_to_O_new import C_O_ratio\n",
      "import matplotlib.cm as cm"
     ],
     "language": "python",
     "metadata": {},
     "outputs": [],
     "prompt_number": 1
    },
    {
     "cell_type": "code",
     "collapsed": false,
     "input": [
      "a = np.logspace(-1, 2, 500)\n",
      "print 5, 27\n",
      "\n",
      "arraygas = 0 * np.ndarray(shape = (len(a), 27), dtype = float)\n",
      "arraysolid = 0 * np.ndarray(shape = (len(a), 27), dtype = float)\n",
      "\n",
      "for i in range(len(a)):\n",
      "    for j in range(27):\n",
      "        arraygas[i, j] = C_O_ratio(a[i], j)[0][0]\n",
      "        arraysolid[i, j] = C_O_ratio(a[i], j)[0][1]\n",
      "\n",
      "s = []\n",
      "for j in range(27):\n",
      "    s = np.append(s, C_O_ratio(a[0], j)[1])\n",
      "    \n",
      "        \n",
      "\n",
      "#arraygas1, arraysolid1, arraygas2, arraysolid2  = [], [], [], []\n",
      "#for i in range(len(a)):\n",
      "#    arraygas1 = np.append(arraygas1, C_O_ratio(a[i], 26)[0])\n",
      "#    arraysolid1 = np.append(arraysolid1, C_O_ratio(a[i], 26)[1])\n",
      "#    arraygas2 = np.append(arraygas2, C_O_ratio(a[i], 6)[0])\n",
      "#    arraysolid2 = np.append(arraysolid2, C_O_ratio(a[i], 6)[1])"
     ],
     "language": "python",
     "metadata": {},
     "outputs": [
      {
       "output_type": "stream",
       "stream": "stdout",
       "text": [
        "5 27\n"
       ]
      }
     ],
     "prompt_number": 19
    },
    {
     "cell_type": "code",
     "collapsed": false,
     "input": [
      "#plt.semilogx(a, arraygas1)\n",
      "#plt.semilogx(a, arraysolid1, '--b')\n",
      "#plt.semilogx(a, arraygas2, 'g')\n",
      "#plt.semilogx(a, arraysolid2, '--g')\n",
      "plt.figure(figsize = (4, 0.8 * 4))\n",
      "\n",
      "\n",
      "rnb = linspace(0, 256, 27)\n",
      "\n",
      "for i in range(27):\n",
      "    plt.semilogx(a, arraygas[:,i], c = cm.rainbow(int(rnb[i])))\n",
      "    plt.semilogx(a, arraysolid[:,i], c = cm.rainbow(int(rnb[i])), ls = '--')\n",
      "\n",
      "    \n",
      "plt.semilogx(a, arraygas[:,0], c = cm.rainbow(int(rnb[0])), label = r'$0.001$ cm')\n",
      "plt.semilogx(a, arraygas[:,-1], c = cm.rainbow(int(rnb[-1])), label = r'$700$ cm')\n",
      "p1, = plt.semilogx(a, arraygas[:,0], c = cm.rainbow(int(rnb[0])))\n",
      "p2, = plt.semilogx(a, arraysolid[:,0], ls = '--', c = cm.rainbow(int(rnb[0])))\n",
      "\n",
      "l1 = legend([p1, p2], ['gas', 'dust'], frameon = False, loc = 4, borderaxespad = 0)\n",
      "plt.legend(frameon = False, loc = 2, prop = {'size':10})\n",
      "gca().add_artist(l1)\n",
      "    \n",
      "plt.semilogx(a, ones(len(a))*0.54, ls = ':', lw = 2, color = 'black')\n",
      "plt.ylim(0, 1.2)\n",
      "plt.xlabel('a [AU]')\n",
      "plt.ylabel('C/O ratio')\n",
      "plt.tight_layout()\n",
      "plt.savefig('../figs/C_O_ratio_active_disk_many.pdf')"
     ],
     "language": "python",
     "metadata": {},
     "outputs": [
      {
       "metadata": {},
       "output_type": "display_data",
       "png": "[encoded data removed]",
       "text": [
        "<matplotlib.figure.Figure at 0x10d1c0590>"
       ]
      }
     ],
     "prompt_number": 31
    },
    {
     "cell_type": "code",
     "collapsed": false,
     "input": [
      "C_O_ratio(10, 10)[0][0]"
     ],
     "language": "python",
     "metadata": {},
     "outputs": [
      {
       "metadata": {},
       "output_type": "pyout",
       "prompt_number": 3,
       "text": [
        "1.0"
       ]
      }
     ],
     "prompt_number": 3
    },
    {
     "cell_type": "code",
     "collapsed": false,
     "input": [
      "s"
     ],
     "language": "python",
     "metadata": {},
     "outputs": [
      {
       "metadata": {},
       "output_type": "pyout",
       "prompt_number": 21,
       "text": [
        "array([  1.00000000e-03,   1.67683294e-03,   2.81176870e-03,\n",
        "         4.71486636e-03,   7.90604321e-03,   1.32571137e-02,\n",
        "         2.22299648e-02,   3.72759372e-02,   6.25055193e-02,\n",
        "         1.04811313e-01,   1.75751062e-01,   2.94705170e-01,\n",
        "         4.94171336e-01,   8.28642773e-01,   1.38949549e+00,\n",
        "         2.32995181e+00,   3.90693994e+00,   6.55128557e+00,\n",
        "         1.09854114e+01,   1.84206997e+01,   3.08884360e+01,\n",
        "         5.17947468e+01,   8.68511374e+01,   1.45634848e+02,\n",
        "         2.44205309e+02,   4.09491506e+02,   6.86648845e+02])"
       ]
      }
     ],
     "prompt_number": 21
    },
    {
     "cell_type": "code",
     "collapsed": false,
     "input": [
      "arraygas[:,0]"
     ],
     "language": "python",
     "metadata": {},
     "outputs": [
      {
       "metadata": {},
       "output_type": "pyout",
       "prompt_number": 12,
       "text": [
        "array([-0.,  0.,  0.,  0.,  0.,  0.,  0.,  0.,  0., -0.,  0.,  0.,  0.,\n",
        "        0.,  0.,  0.,  0.,  0.,  0.,  0.,  0., -0.,  0.,  0.,  0.,  0.,\n",
        "        0.,  0.,  0.,  0.,  0.,  0.,  0.,  0.,  0.,  0.,  0.,  0.,  0.,\n",
        "        0.,  0.,  0.,  0.,  0.,  0., -0.,  0.,  0.,  0.,  0.,  0.,  0.,\n",
        "        0.,  0.,  0.,  0.,  0.,  0.,  0.,  0.,  0.,  0.,  0.,  0.,  0.,\n",
        "        0.,  0.,  0.,  0.,  0.,  0.,  0.,  0.,  0.,  0.,  0.,  0.,  0.,\n",
        "        0.,  0.,  0.,  0.,  0.,  0., -0.,  0.,  0.,  0.,  0.,  0.,  0.,\n",
        "        0.,  0.,  0.,  0.,  0.,  0.,  0.,  0.,  0.,  0.,  0.,  0.,  0.,\n",
        "        0.,  0.,  0.,  0., -0.,  0.,  0., -0.,  0.,  0.,  0.,  0.,  0.,\n",
        "        0.,  0.,  0.,  0.,  0.,  0., -0.,  0.,  0.,  0.,  0.,  0.,  0.,\n",
        "        0.,  0.,  0.,  0.,  0.,  0.,  0.,  0.,  0.,  0.,  0.,  0.,  0.,\n",
        "        0.,  0.,  0.,  0.,  0.,  0.,  0.,  0.,  0.,  0.,  0.,  0.,  0.,\n",
        "        0.,  0.,  0.,  0.,  0.,  0.,  0.,  0.,  0.,  0.,  0.,  0.,  0.,\n",
        "        0.,  0.,  0.,  0.,  0.,  0.,  0.,  0.,  0.,  0.,  0.,  0.,  0.,\n",
        "        0.,  0.,  0.,  0.,  0.,  0.,  0.,  0.,  0.,  0., -0.,  0.,  0.,\n",
        "        0.,  0.,  0.,  0.,  0.,  0.,  0.,  0.,  0.,  0.,  0.,  0.,  0.,\n",
        "        0.,  0.,  0.,  0.,  0.,  0.,  0.,  0.,  0.,  0.,  0.,  0.,  0.,\n",
        "        0.,  0.,  0.,  0.,  0.,  0.,  0.,  0.,  0.,  0.,  0.,  0.,  0.,\n",
        "        0.,  0.,  0., -0.,  0.,  0.,  0.,  0.,  0.,  0.,  0.,  0.,  0.,\n",
        "        0.,  0.,  0.,  0.,  0.,  0.,  0.,  0.,  0.,  0.,  0.,  0.,  0.,\n",
        "        0., -0.,  0.,  0.,  0.,  0.,  0.,  0.,  0.,  0.,  0.,  0.,  0.,\n",
        "        0.,  0.,  0.,  0.,  0.,  0.,  0.,  0.,  0.,  0.,  0.,  0.,  0.,\n",
        "        0.,  0.,  0.,  0.,  0.,  0.,  0.,  0.,  0.,  0.,  0.,  0.,  0.,\n",
        "        0., -0.,  0.,  0., -0.,  0.,  0.,  0.,  0.,  0.,  0.,  0.,  0.,\n",
        "        0.,  0.,  0., -0.,  0.,  0.,  0.,  0.,  0.,  0.,  0.,  0.,  0.,\n",
        "        0.,  0., -0.,  0.,  0.,  0.,  0.,  0.,  0.,  0.,  0.,  0.,  0.,\n",
        "        0.,  0.,  0.,  0.,  0.,  0.,  0.,  0.,  0.,  0.,  0.,  0.,  0.,\n",
        "        0.,  0.,  0.,  0.,  0.,  0.,  0.,  0.,  0.,  0.,  0.,  0.,  0.,\n",
        "        0.,  0.,  0.,  0.,  0.,  0.,  0.,  0.,  0.,  0.,  0.,  0.,  0.,\n",
        "        0.,  0.,  0.,  0.,  0.,  0.,  0., -0.,  0.,  0.,  0.,  0.,  0.,\n",
        "        0.,  0.,  0.,  0.,  0.,  0.,  0.,  0.,  0., -0.,  0.,  0.,  0.,\n",
        "        0.,  0.,  0.,  0.,  0.,  0.,  0.,  0.,  0.,  0.,  0.,  0.,  0.,\n",
        "        0.,  0.,  0.,  0.,  0.,  0.,  0.,  0.,  0.,  0.,  0.,  0.,  0.,\n",
        "       -0.,  0.,  0.,  0.,  0.,  0.,  0.,  0.,  0.,  0.,  0.,  0.,  0.,\n",
        "        0.,  0.,  0.,  0.,  0.,  0.,  0.,  0.,  0.,  0.,  0., -0.,  0.,\n",
        "        0.,  0.,  0.,  0.,  0.,  0.,  0.,  0.,  0.,  0.,  0.,  0.,  0.,\n",
        "        0.,  0.,  0.,  0.,  0.,  0.,  0.,  0.,  0.,  0.,  0.,  0.,  0.,\n",
        "        0.,  0.,  0.,  0.,  0.,  0.,  0.,  0.,  0.,  0.,  0.,  0.,  0.,\n",
        "        0.,  0.,  0.,  0.,  0.,  0.])"
       ]
      }
     ],
     "prompt_number": 12
    },
    {
     "cell_type": "code",
     "collapsed": false,
     "input": [],
     "language": "python",
     "metadata": {},
     "outputs": []
    }
   ],
   "metadata": {}
  }
 ]
}