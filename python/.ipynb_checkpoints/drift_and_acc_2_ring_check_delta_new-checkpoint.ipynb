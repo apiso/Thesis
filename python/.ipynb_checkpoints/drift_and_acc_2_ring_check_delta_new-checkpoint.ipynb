{
 "metadata": {
  "name": "",
  "signature": "sha256:165a906a87d7e017ad92ef5e44ddfe09aed615e3526db317164dc2742260fc22"
 },
 "nbformat": 3,
 "nbformat_minor": 0,
 "worksheets": []
}