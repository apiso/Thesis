{
 "metadata": {
  "name": "",
  "signature": "sha256:2bf7e7c32577709c7b5f44e09cc6b588d42d0458a43c1c0f92f2c635f0c7fb55"
 },
 "nbformat": 3,
 "nbformat_minor": 0,
 "worksheets": [
  {
   "cells": [
    {
     "cell_type": "code",
     "collapsed": false,
     "input": [
      "import numpy as np\n",
      "import math\n",
      "from matplotlib import pyplot as plt\n",
      "import C_to_O as CO\n",
      "from T_freeze import T_freeze, Rdes, tevap\n",
      "import C_to_O as CO\n",
      "from C_to_O_active import C_O_ratio as COact\n",
      "from C_to_O_passive import C_O_ratio as COpas\n",
      "import matplotlib.cm as cm\n",
      "from matplotlib.colors import LogNorm"
     ],
     "language": "python",
     "metadata": {},
     "outputs": [],
     "prompt_number": 11
    },
    {
     "cell_type": "code",
     "collapsed": false,
     "input": [
      "a = np.logspace(-1, 2, 500)\n",
      "print 5, 27\n",
      "\n",
      "arraygas = np.ndarray(shape = (len(a), 27), dtype = float)\n",
      "arraysolid = np.ndarray(shape = (len(a), 27), dtype = float)\n",
      "\n",
      "arraygasp = np.ndarray(shape = (len(a), 15), dtype = float)\n",
      "arraysolidp = np.ndarray(shape = (len(a), 15), dtype = float)\n",
      "\n",
      "for i in range(len(a)):\n",
      "    for j in range(27):\n",
      "        arraygas[i, j] = COact(a[i], j)[0][0]\n",
      "        arraysolid[i, j] = COact(a[i], j)[0][1]\n",
      "        \n",
      "for i in range(len(a)):\n",
      "    for j in range(12, 27):\n",
      "        arraygasp[i, j-12] = COpas(a[i], j)[0][0]\n",
      "        arraysolidp[i, j-12] = COpas(a[i], j)[0][1]\n",
      "\n",
      "\n",
      "s = []\n",
      "for j in range(27):\n",
      "    s = np.append(s, COact(a[0], j)[1])\n",
      "    \n",
      "sp = []\n",
      "for j in range(12, 27):\n",
      "    sp = np.append(sp, COact(a[0], j)[1])\n",
      "    \n",
      "\n",
      "arraygass, arraysolids  = [], []\n",
      "for i in range(len(a)):\n",
      "    arraygass = np.append(arraygass, CO.C_O_ratio(a[i], T0 = 120, q = 3./7)[0])\n",
      "    arraysolids = np.append(arraysolids, CO.C_O_ratio(a[i], T0 = 120, q = 3./7)[1])"
     ],
     "language": "python",
     "metadata": {},
     "outputs": [
      {
       "output_type": "stream",
       "stream": "stdout",
       "text": [
        "5 27\n"
       ]
      },
      {
       "output_type": "stream",
       "stream": "stderr",
       "text": [
        "C_to_O.py:123: RuntimeWarning: invalid value encountered in divide\n",
        "  return n(T, 'C') / n(T, 'O')\n"
       ]
      }
     ],
     "prompt_number": 76
    },
    {
     "cell_type": "code",
     "collapsed": false,
     "input": [
      "fig, (ax1, ax2) = plt.subplots(2, sharex = True, figsize = (4./1.2, 4./1.2))\n",
      "\n",
      "Z = [[0,0],[0,0]]\n",
      "levels = s\n",
      "CS2 = ax2.contourf(Z, levels, cmap=get_cmap(cm.rainbow), norm = LogNorm())\n",
      "#ax.clf()\n",
      "\n",
      "rnb = linspace(0, 256, 27)\n",
      "\n",
      "for i in range(27):\n",
      "    ax2.semilogx(a, arraygas[:,i], c = cm.rainbow(int(rnb[i])))\n",
      "    ax2.semilogx(a, arraysolid[:,i], c = cm.rainbow(int(rnb[i])), ls = '--')\n",
      "    \n",
      "for i in range(12,27):\n",
      "    ax1.semilogx(a, arraygasp[:,i-12], c = cm.rainbow(int(rnb[i])))\n",
      "    ax1.semilogx(a, arraysolidp[:,i-12], c = cm.rainbow(int(rnb[i])), ls = '--')\n",
      "    \n",
      "ax1.semilogx(a, arraygass, c = 'black')\n",
      "ax1.semilogx(a, arraysolids, c = 'black', ls = '--')\n",
      "ax2.semilogx(a, arraygass, c = 'black')\n",
      "ax2.semilogx(a, arraysolids, c = 'black', ls = '--')\n",
      "    \n",
      "ax1.semilogx(a, ones(len(a))*0.54, ls = ':', lw = 2, color = 'black')\n",
      "ax1.set_ylim(0, 1.2)\n",
      "#ax1.set_ylabel('C/O ratio')\n",
      "    \n",
      "#ax.semilogx(a, arraygas[:,0], c = cm.rainbow(int(rnb[0])), label = r'$0.001$ cm')\n",
      "#ax.semilogx(a, arraygas[:,-1], c = cm.rainbow(int(rnb[-1])), label = r'$700$ cm')\n",
      "p1, = ax2.semilogx(a, arraygass, c = 'black')\n",
      "p2, = ax2.semilogx(a, arraysolids, ls = '--', c = 'black')\n",
      "\n",
      "l1 = legend([p1, p2], ['gas', 'dust'], prop = {'size':8.5}, frameon = False, loc = 2, borderaxespad = 0, \\\n",
      "            handlelength = 2.8)\n",
      "#ax.legend(frameon = False, loc = 2, prop = {'size':10})\n",
      "gca().add_artist(l1)\n",
      "\n",
      "cbar_ax = fig.add_axes([0.75, 0.18, 0.05, 0.76])\n",
      "cbar2 = fig.colorbar(CS2, cax = cbar_ax)\n",
      "    \n",
      "ax2.semilogx(a, ones(len(a))*0.54, ls = ':', lw = 2, color = 'black')\n",
      "ax2.set_ylim(0, 1.2)\n",
      "ax2.set_yticks([0, 0.2, 0.4, 0.6, 0.8, 1])\n",
      "ax2.set_xlabel(r'$r$ [AU]')\n",
      "#ax2.set_ylabel('C/O ratio')\n",
      "cbar2.set_ticks([1e-3, 1e-2, 1e-1, 1e0, 1e1, 1e2])\n",
      "cbar2.set_label(r'$s$ [cm]')\n",
      "\n",
      "ax1.text(12, 0.07, 'passive')\n",
      "ax2.text(17, 0.07, 'active')\n",
      "\n",
      "ax1.text( \n",
      "    .025, 0.003, \"C/O ratio\", rotation='vertical',\n",
      "    horizontalalignment='center', verticalalignment='center')\n",
      "\n",
      "plt.tight_layout()\n",
      "fig.subplots_adjust(left = 0.15, right = 0.71, hspace = 0)\n",
      "#plt.show()\n",
      "plt.savefig('../figs/C_O_ratio_passive_active_disk_many_colorbar_test.pdf')"
     ],
     "language": "python",
     "metadata": {},
     "outputs": [
      {
       "metadata": {},
       "output_type": "display_data",
       "png": "[encoded data removed]",
       "text": [
        "<matplotlib.figure.Figure at 0x10dcbf9d0>"
       ]
      }
     ],
     "prompt_number": 115
    },
    {
     "cell_type": "code",
     "collapsed": false,
     "input": [
      "#plt.figure(figsize = (4, 0.8 * 4))\n",
      "fig, ax = plt.subplots(figsize = (4, 0.7 * 4))\n",
      "\n",
      "Z = [[0,0],[0,0]]\n",
      "levels = s\n",
      "CS3 = ax.contourf(Z, levels, cmap=get_cmap(cm.rainbow), norm = LogNorm())\n",
      "#ax.clf()\n",
      "\n",
      "rnb = linspace(0, 256, 27)\n",
      "\n",
      "for i in range(12,27):\n",
      "    ax.semilogx(a, arraygasp[:,i-12], c = cm.rainbow(int(rnb[i])))\n",
      "    ax.semilogx(a, arraysolidp[:,i-12], c = cm.rainbow(int(rnb[i])), ls = '--')\n",
      "\n",
      "    \n",
      "#ax.semilogx(a, arraygasp[:,], c = cm.rainbow(int(rnb[0])), label = r'$0.001$ cm')\n",
      "#ax.semilogx(a, arraygasp[:,-1], c = cm.rainbow(int(rnb[-1])), label = r'$700$ cm')\n",
      "p1, = ax.semilogx(a, arraygasp[:,-1], c = cm.rainbow(int(rnb[-1])))\n",
      "p2, = ax.semilogx(a, arraysolidp[:,-1], ls = '--', c = cm.rainbow(int(rnb[-1])))\n",
      "\n",
      "l1 = legend([p1, p2], ['gas', 'dust'], frameon = False, loc = 2, borderaxespad = 0)\n",
      "#ax.legend(frameon = False, loc = 2, prop = {'size':10})\n",
      "gca().add_artist(l1)\n",
      "cbar = fig.colorbar(CS3)\n",
      "    \n",
      "ax.semilogx(a, ones(len(a))*0.54, ls = ':', lw = 2, color = 'black')\n",
      "ax.set_ylim(0, 1.2)\n",
      "ax.set_xlabel(r'$r$ [AU]')\n",
      "ax.set_ylabel('C/O ratio')\n",
      "cbar.set_ticks([1e-3, 1e-2, 1e-1, 1e0, 1e1, 1e2])\n",
      "cbar.set_label(r'$s$ [cm]')\n",
      "#cbar.ax.set_yticklabels([r'$10^{-3}$', r'$10^{-2}$', r'$10^{-1}$', r'$10^0$', r'$10^{1}$', r'$10^{2}$', r'$10^{3}$'])\n",
      "plt.tight_layout()\n",
      "#plt.show()\n",
      "#plt.savefig('../figs/C_O_ratio_active_disk_many_colorbar.pdf')"
     ],
     "language": "python",
     "metadata": {},
     "outputs": [
      {
       "metadata": {},
       "output_type": "display_data",
       "png": "[encoded data removed]",
       "text": [
        "<matplotlib.figure.Figure at 0x10d3cd4d0>"
       ]
      }
     ],
     "prompt_number": 20
    },
    {
     "cell_type": "code",
     "collapsed": false,
     "input": [
      "s"
     ],
     "language": "python",
     "metadata": {},
     "outputs": [
      {
       "metadata": {},
       "output_type": "pyout",
       "prompt_number": 16,
       "text": [
        "array([  1.00000000e-03,   1.67683294e-03,   2.81176870e-03,\n",
        "         4.71486636e-03,   7.90604321e-03,   1.32571137e-02,\n",
        "         2.22299648e-02,   3.72759372e-02,   6.25055193e-02,\n",
        "         1.04811313e-01,   1.75751062e-01,   2.94705170e-01,\n",
        "         4.94171336e-01,   8.28642773e-01,   1.38949549e+00,\n",
        "         2.32995181e+00,   3.90693994e+00,   6.55128557e+00,\n",
        "         1.09854114e+01,   1.84206997e+01,   3.08884360e+01,\n",
        "         5.17947468e+01,   8.68511374e+01,   1.45634848e+02,\n",
        "         2.44205309e+02,   4.09491506e+02,   6.86648845e+02])"
       ]
      }
     ],
     "prompt_number": 16
    },
    {
     "cell_type": "code",
     "collapsed": false,
     "input": [
      "sp"
     ],
     "language": "python",
     "metadata": {},
     "outputs": [
      {
       "metadata": {},
       "output_type": "pyout",
       "prompt_number": 17,
       "text": [
        "array([  4.94171336e-01,   8.28642773e-01,   1.38949549e+00,\n",
        "         2.32995181e+00,   3.90693994e+00,   6.55128557e+00,\n",
        "         1.09854114e+01,   1.84206997e+01,   3.08884360e+01,\n",
        "         5.17947468e+01,   8.68511374e+01,   1.45634848e+02,\n",
        "         2.44205309e+02,   4.09491506e+02,   6.86648845e+02])"
       ]
      }
     ],
     "prompt_number": 17
    },
    {
     "cell_type": "code",
     "collapsed": false,
     "input": [],
     "language": "python",
     "metadata": {},
     "outputs": []
    }
   ],
   "metadata": {}
  }
 ]
}