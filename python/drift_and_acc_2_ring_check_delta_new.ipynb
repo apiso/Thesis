{
 "metadata": {
  "name": "",
  "signature": "sha256:aa723cd7dfc14298e0c132a0f84d9c239547044e8ac2e0acad10253d442402e3"
 },
 "nbformat": 3,
 "nbformat_minor": 0,
 "worksheets": [
  {
   "cells": [
    {
     "cell_type": "code",
     "collapsed": false,
     "input": [
      "import numpy as np\n",
      "from matplotlib import pyplot as plt\n",
      "import C_to_O as CO\n",
      "from T_freeze import T_freeze, Rdes, tevap\n",
      "\n",
      "from C_to_O import T_freeze_H20, T_freeze_CO2, T_freeze_CO\n",
      "\n",
      "\n",
      "import matplotlib.cm as cm\n",
      "\n",
      "#from drift_timescales import tr, Tdisk, ts, lambdamfp, cdisk, tdes, rf, r_freeze, \\\n",
      "#        read_drag_file, read_drag_file_many, r_stop, Mdot_solids, Mdot_gas, dMgas_dt, dMsol_dt#, rdot\n",
      "#from drift_timescales_varying_sigma import dMdot, Mgas_dt, Msol_dt, Sigmadisk_act, vacc_act, rdot_gas\n",
      "#from drift_timescales_varying_sigma_3 import dMdot as dMdott, Mdot_solids as Mdot_solids_t, dMgas_dt as dMgas_dt_t, \\\n",
      "#        dMsol_dt as dMsol_dt_t, Sigmap_act, vacc_act as vacc_old\n",
      "#from drift_timescales_Til_parameters_ring_check import vacc_act as vacc_Til, Sigmap_act as Sigmap_2\n",
      "from drift_timescales_updated_sigmap import Sigmadisk, Tdisk as Tdisk_new, vacc_act as vacc_new, Sigmap_act, \\\n",
      "        rdot_with_acc, rdot, tr, rf, rdrift\n",
      "from drift_timescales_updated_sigmap_ring_check import Sigmap_act as Sigmap_act_fixed\n",
      "    \n",
      "from scipy.optimize import brentq\n",
      "from utils.constants import cmperau, AU, Rsun, Msun\n",
      "from matplotlib import animation\n",
      "from IPython.display import HTML\n",
      "from IPython import display\n",
      "import JSAnimation\n",
      "from JSAnimation.JSAnimation import IPython_display"
     ],
     "language": "python",
     "metadata": {},
     "outputs": [],
     "prompt_number": 1
    },
    {
     "cell_type": "code",
     "collapsed": false,
     "input": [
      "s=1e-3\n",
      "nt = 20\n",
      "nr = 500\n",
      "alpha=0.01\n",
      "Mdisk=0.1*Msun\n",
      "\n",
      "\n",
      "r = logspace(np.log10(0.05),np.log10(4e3),nr)\n",
      "t = np.linspace(1,2e3,nt)*365*24*3600\n",
      "dt = t[1] - t[0]"
     ],
     "language": "python",
     "metadata": {},
     "outputs": [],
     "prompt_number": 2
    },
    {
     "cell_type": "code",
     "collapsed": false,
     "input": [
      "sigparray = Sigmap_act(r[0], r[-1], nr, t[0], t[-1], nt, s, alpha, Mdisk, 100*AU, rhos = 2.0, mu = 2.3, gammadflag = 0)"
     ],
     "language": "python",
     "metadata": {},
     "outputs": [],
     "prompt_number": 3
    },
    {
     "cell_type": "code",
     "collapsed": false,
     "input": [
      "rv = []\n",
      "for i in range(nt):\n",
      "    rv = np.append(rv, rdrift(10., t[0], t[i], s, 0.01, 1e-3, Mdisk, rhos = 2.0, mu = 2.3))"
     ],
     "language": "python",
     "metadata": {},
     "outputs": []
    },
    {
     "cell_type": "code",
     "collapsed": false,
     "input": [],
     "language": "python",
     "metadata": {},
     "outputs": []
    }
   ],
   "metadata": {}
  }
 ]
}