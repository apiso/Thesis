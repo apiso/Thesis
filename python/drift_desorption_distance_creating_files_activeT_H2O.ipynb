{
 "metadata": {
  "name": "drift_desorption_distance_creating_files_activeT_H2O",
  "signature": "sha256:e3d4acf095b591b89952a3ba73ce694de563da3ad954fcbdcb0ba96ea8f86912"
 },
 "nbformat": 3,
 "nbformat_minor": 0,
 "worksheets": [
  {
   "cells": [
    {
     "cell_type": "code",
     "collapsed": false,
     "input": [
      "from drift_timescales_active_Tdisk import rf, read_drag_file_many\n",
      "from utils.constants import Msun"
     ],
     "language": "python",
     "metadata": {},
     "outputs": [],
     "prompt_number": 1
    },
    {
     "cell_type": "code",
     "collapsed": false,
     "input": [
      "a = logspace(-1, 2, 50)\n",
      "s = logspace(-3, 8, 50)\n",
      "\n",
      "darray = np.ndarray(shape = (len(s), len(a)), dtype = float)\n",
      "\n",
      "for i in range(len(s)):\n",
      "    for j in range(len(a)):\n",
      "        darray[i, j] = rf(a[j], 3e6*365*24*3600, s[i], 1e-8, 18, 5800., 0.01, 1e-3, rhos = 2.0, mu = 2.3)\n",
      "        print s[i], a[j]"
     ],
     "language": "python",
     "metadata": {},
     "outputs": [
      {
       "output_type": "stream",
       "stream": "stdout",
       "text": [
        "0.001 0.1\n",
        "0.001"
       ]
      },
      {
       "output_type": "stream",
       "stream": "stdout",
       "text": [
        " 0.115139539933\n",
        "0.001"
       ]
      },
      {
       "output_type": "stream",
       "stream": "stdout",
       "text": [
        " 0.132571136559\n",
        "0.001"
       ]
      },
      {
       "output_type": "stream",
       "stream": "stdout",
       "text": [
        " 0.152641796718\n",
        "0.001"
       ]
      },
      {
       "output_type": "stream",
       "stream": "stdout",
       "text": [
        " 0.175751062485\n",
        "0.001"
       ]
      },
      {
       "output_type": "stream",
       "stream": "stdout",
       "text": [
        " 0.202358964773\n",
        "0.001"
       ]
      },
      {
       "output_type": "stream",
       "stream": "stdout",
       "text": [
        " 0.232995181052\n",
        "0.001"
       ]
      },
      {
       "output_type": "stream",
       "stream": "stdout",
       "text": [
        " 0.268269579528\n",
        "0.001"
       ]
      },
      {
       "output_type": "stream",
       "stream": "stdout",
       "text": [
        " 0.308884359648\n",
        "0.001"
       ]
      },
      {
       "output_type": "stream",
       "stream": "stdout",
       "text": [
        " 0.355648030622\n",
        "0.001"
       ]
      },
      {
       "output_type": "stream",
       "stream": "stdout",
       "text": [
        " 0.409491506238\n",
        "0.001"
       ]
      },
      {
       "output_type": "stream",
       "stream": "stdout",
       "text": [
        " 0.471486636346\n",
        "0.001"
       ]
      },
      {
       "output_type": "stream",
       "stream": "stdout",
       "text": [
        " 0.542867543932\n",
        "0.001"
       ]
      },
      {
       "output_type": "stream",
       "stream": "stdout",
       "text": [
        " 0.625055192527\n",
        "0.001"
       ]
      },
      {
       "output_type": "stream",
       "stream": "stdout",
       "text": [
        " 0.719685673001\n",
        "0.001"
       ]
      },
      {
       "output_type": "stream",
       "stream": "stdout",
       "text": [
        " 0.828642772855\n",
        "0.001"
       ]
      },
      {
       "output_type": "stream",
       "stream": "stdout",
       "text": [
        " 0.95409547635\n",
        "0.001"
       ]
      },
      {
       "output_type": "stream",
       "stream": "stdout",
       "text": [
        " 1.09854114199\n",
        "0.001"
       ]
      },
      {
       "output_type": "stream",
       "stream": "stdout",
       "text": [
        " 1.26485521686\n",
        "0.001"
       ]
      },
      {
       "output_type": "stream",
       "stream": "stdout",
       "text": [
        " 1.4563484775\n",
        "0.001"
       ]
      },
      {
       "output_type": "stream",
       "stream": "stdout",
       "text": [
        " 1.67683293681\n",
        "0.001"
       ]
      },
      {
       "output_type": "stream",
       "stream": "stdout",
       "text": [
        " 1.93069772888\n",
        "0.001"
       ]
      },
      {
       "output_type": "stream",
       "stream": "stdout",
       "text": [
        " 2.22299648253\n",
        "0.001"
       ]
      },
      {
       "output_type": "stream",
       "stream": "stdout",
       "text": [
        " 2.5595479227\n",
        "0.001"
       ]
      },
      {
       "output_type": "stream",
       "stream": "stdout",
       "text": [
        " 2.94705170255\n",
        "0.001"
       ]
      },
      {
       "output_type": "stream",
       "stream": "stdout",
       "text": [
        " 3.3932217719\n",
        "0.001"
       ]
      },
      {
       "output_type": "stream",
       "stream": "stdout",
       "text": [
        " 3.90693993705\n",
        "0.001"
       ]
      },
      {
       "output_type": "stream",
       "stream": "stdout",
       "text": [
        " 4.49843266897\n",
        "0.001"
       ]
      },
      {
       "output_type": "stream",
       "stream": "stdout",
       "text": [
        " 5.17947467923\n",
        "0.001"
       ]
      },
      {
       "output_type": "stream",
       "stream": "stdout",
       "text": [
        " 5.96362331659\n",
        "0.001"
       ]
      },
      {
       "output_type": "stream",
       "stream": "stdout",
       "text": [
        " 6.86648845004\n",
        "0.001"
       ]
      },
      {
       "output_type": "stream",
       "stream": "stdout",
       "text": [
        " 7.90604321091\n",
        "0.001"
       ]
      },
      {
       "output_type": "stream",
       "stream": "stdout",
       "text": [
        " 9.10298177992\n",
        "0.001"
       ]
      },
      {
       "output_type": "stream",
       "stream": "stdout",
       "text": [
        " 10.4811313415\n",
        "0.001"
       ]
      },
      {
       "output_type": "stream",
       "stream": "stdout",
       "text": [
        " 12.0679264064\n",
        "0.001"
       ]
      },
      {
       "output_type": "stream",
       "stream": "stdout",
       "text": [
        " 13.8949549437\n",
        "0.001"
       ]
      },
      {
       "output_type": "stream",
       "stream": "stdout",
       "text": [
        " 15.9985871961\n",
        "0.001"
       ]
      },
      {
       "output_type": "stream",
       "stream": "stdout",
       "text": [
        " 18.4206996933\n",
        "0.001"
       ]
      },
      {
       "output_type": "stream",
       "stream": "stdout",
       "text": [
        " 21.2095088792\n",
        "0.001"
       ]
      },
      {
       "output_type": "stream",
       "stream": "stdout",
       "text": [
        " 24.4205309455\n",
        "0.001"
       ]
      },
      {
       "output_type": "stream",
       "stream": "stdout",
       "text": [
        " 28.1176869797\n",
        "0.001"
       ]
      },
      {
       "output_type": "stream",
       "stream": "stdout",
       "text": [
        " 32.3745754282\n",
        "0.001"
       ]
      },
      {
       "output_type": "stream",
       "stream": "stdout",
       "text": [
        " 37.2759372031\n",
        "0.001"
       ]
      },
      {
       "output_type": "stream",
       "stream": "stdout",
       "text": [
        " 42.9193426013\n",
        "0.001"
       ]
      },
      {
       "output_type": "stream",
       "stream": "stdout",
       "text": [
        " 49.4171336132\n",
        "0.001"
       ]
      },
      {
       "output_type": "stream",
       "stream": "stdout",
       "text": [
        " 56.8986602902\n",
        "0.001"
       ]
      },
      {
       "output_type": "stream",
       "stream": "stdout",
       "text": [
        " 65.512855686\n",
        "0.001"
       ]
      },
      {
       "output_type": "stream",
       "stream": "stdout",
       "text": [
        " 75.4312006335\n",
        "0.001"
       ]
      },
      {
       "output_type": "stream",
       "stream": "stdout",
       "text": [
        " 86.8511373751\n",
        "0.001"
       ]
      },
      {
       "output_type": "stream",
       "stream": "stdout",
       "text": [
        " 100.0\n",
        "0.00167683293681"
       ]
      },
      {
       "output_type": "stream",
       "stream": "stdout",
       "text": [
        " 0.1\n",
        "0.00167683293681"
       ]
      },
      {
       "output_type": "stream",
       "stream": "stdout",
       "text": [
        " 0.115139539933\n",
        "0.00167683293681"
       ]
      },
      {
       "output_type": "stream",
       "stream": "stdout",
       "text": [
        " 0.132571136559\n",
        "0.00167683293681"
       ]
      },
      {
       "output_type": "stream",
       "stream": "stdout",
       "text": [
        " 0.152641796718\n",
        "0.00167683293681"
       ]
      },
      {
       "output_type": "stream",
       "stream": "stdout",
       "text": [
        " 0.175751062485\n",
        "0.00167683293681"
       ]
      },
      {
       "output_type": "stream",
       "stream": "stdout",
       "text": [
        " 0.202358964773\n",
        "0.00167683293681"
       ]
      },
      {
       "output_type": "stream",
       "stream": "stdout",
       "text": [
        " 0.232995181052\n",
        "0.00167683293681"
       ]
      },
      {
       "output_type": "stream",
       "stream": "stdout",
       "text": [
        " 0.268269579528\n",
        "0.00167683293681"
       ]
      },
      {
       "output_type": "stream",
       "stream": "stdout",
       "text": [
        " 0.308884359648\n",
        "0.00167683293681"
       ]
      },
      {
       "output_type": "stream",
       "stream": "stdout",
       "text": [
        " 0.355648030622\n",
        "0.00167683293681"
       ]
      },
      {
       "output_type": "stream",
       "stream": "stdout",
       "text": [
        " 0.409491506238\n",
        "0.00167683293681"
       ]
      },
      {
       "output_type": "stream",
       "stream": "stdout",
       "text": [
        " 0.471486636346\n",
        "0.00167683293681"
       ]
      },
      {
       "output_type": "stream",
       "stream": "stdout",
       "text": [
        " 0.542867543932\n",
        "0.00167683293681"
       ]
      },
      {
       "output_type": "stream",
       "stream": "stdout",
       "text": [
        " 0.625055192527\n",
        "0.00167683293681"
       ]
      },
      {
       "output_type": "stream",
       "stream": "stdout",
       "text": [
        " 0.719685673001\n",
        "0.00167683293681"
       ]
      },
      {
       "output_type": "stream",
       "stream": "stdout",
       "text": [
        " 0.828642772855\n",
        "0.00167683293681"
       ]
      },
      {
       "output_type": "stream",
       "stream": "stdout",
       "text": [
        " 0.95409547635\n",
        "0.00167683293681"
       ]
      },
      {
       "output_type": "stream",
       "stream": "stdout",
       "text": [
        " 1.09854114199\n",
        "0.00167683293681"
       ]
      },
      {
       "output_type": "stream",
       "stream": "stdout",
       "text": [
        " 1.26485521686\n",
        "0.00167683293681"
       ]
      },
      {
       "output_type": "stream",
       "stream": "stdout",
       "text": [
        " 1.4563484775\n",
        "0.00167683293681"
       ]
      },
      {
       "output_type": "stream",
       "stream": "stdout",
       "text": [
        " 1.67683293681\n",
        "0.00167683293681"
       ]
      },
      {
       "output_type": "stream",
       "stream": "stdout",
       "text": [
        " 1.93069772888\n",
        "0.00167683293681"
       ]
      },
      {
       "output_type": "stream",
       "stream": "stdout",
       "text": [
        " 2.22299648253\n",
        "0.00167683293681"
       ]
      },
      {
       "output_type": "stream",
       "stream": "stdout",
       "text": [
        " 2.5595479227\n",
        "0.00167683293681"
       ]
      },
      {
       "output_type": "stream",
       "stream": "stdout",
       "text": [
        " 2.94705170255\n",
        "0.00167683293681"
       ]
      },
      {
       "output_type": "stream",
       "stream": "stdout",
       "text": [
        " 3.3932217719\n",
        "0.00167683293681"
       ]
      },
      {
       "output_type": "stream",
       "stream": "stdout",
       "text": [
        " 3.90693993705\n",
        "0.00167683293681"
       ]
      },
      {
       "output_type": "stream",
       "stream": "stdout",
       "text": [
        " 4.49843266897\n",
        "0.00167683293681"
       ]
      },
      {
       "output_type": "stream",
       "stream": "stdout",
       "text": [
        " 5.17947467923\n",
        "0.00167683293681"
       ]
      },
      {
       "output_type": "stream",
       "stream": "stdout",
       "text": [
        " 5.96362331659\n",
        "0.00167683293681"
       ]
      },
      {
       "output_type": "stream",
       "stream": "stdout",
       "text": [
        " 6.86648845004\n",
        "0.00167683293681"
       ]
      },
      {
       "output_type": "stream",
       "stream": "stdout",
       "text": [
        " 7.90604321091\n",
        "0.00167683293681"
       ]
      },
      {
       "output_type": "stream",
       "stream": "stdout",
       "text": [
        " 9.10298177992\n",
        "0.00167683293681"
       ]
      },
      {
       "output_type": "stream",
       "stream": "stdout",
       "text": [
        " 10.4811313415\n",
        "0.00167683293681"
       ]
      },
      {
       "output_type": "stream",
       "stream": "stdout",
       "text": [
        " 12.0679264064\n",
        "0.00167683293681"
       ]
      },
      {
       "output_type": "stream",
       "stream": "stdout",
       "text": [
        " 13.8949549437\n",
        "0.00167683293681"
       ]
      },
      {
       "output_type": "stream",
       "stream": "stdout",
       "text": [
        " 15.9985871961\n",
        "0.00167683293681"
       ]
      },
      {
       "output_type": "stream",
       "stream": "stdout",
       "text": [
        " 18.4206996933\n",
        "0.00167683293681"
       ]
      },
      {
       "output_type": "stream",
       "stream": "stdout",
       "text": [
        " 21.2095088792\n",
        "0.00167683293681"
       ]
      },
      {
       "output_type": "stream",
       "stream": "stdout",
       "text": [
        " 24.4205309455\n",
        "0.00167683293681"
       ]
      },
      {
       "output_type": "stream",
       "stream": "stdout",
       "text": [
        " 28.1176869797\n",
        "0.00167683293681"
       ]
      },
      {
       "output_type": "stream",
       "stream": "stdout",
       "text": [
        " 32.3745754282\n",
        "0.00167683293681"
       ]
      },
      {
       "output_type": "stream",
       "stream": "stdout",
       "text": [
        " 37.2759372031\n",
        "0.00167683293681"
       ]
      },
      {
       "output_type": "stream",
       "stream": "stdout",
       "text": [
        " 42.9193426013\n",
        "0.00167683293681"
       ]
      },
      {
       "output_type": "stream",
       "stream": "stdout",
       "text": [
        " 49.4171336132\n",
        "0.00167683293681"
       ]
      },
      {
       "output_type": "stream",
       "stream": "stdout",
       "text": [
        " 56.8986602902\n",
        "0.00167683293681"
       ]
      },
      {
       "output_type": "stream",
       "stream": "stdout",
       "text": [
        " 65.512855686\n",
        "0.00167683293681"
       ]
      },
      {
       "output_type": "stream",
       "stream": "stdout",
       "text": [
        " 75.4312006335\n",
        "0.00167683293681"
       ]
      },
      {
       "output_type": "stream",
       "stream": "stdout",
       "text": [
        " 86.8511373751\n",
        "0.00167683293681"
       ]
      },
      {
       "output_type": "stream",
       "stream": "stdout",
       "text": [
        " 100.0\n",
        "0.00281176869797"
       ]
      },
      {
       "output_type": "stream",
       "stream": "stdout",
       "text": [
        " 0.1\n",
        "0.00281176869797"
       ]
      },
      {
       "output_type": "stream",
       "stream": "stdout",
       "text": [
        " 0.115139539933\n",
        "0.00281176869797"
       ]
      },
      {
       "output_type": "stream",
       "stream": "stdout",
       "text": [
        " 0.132571136559\n",
        "0.00281176869797"
       ]
      },
      {
       "output_type": "stream",
       "stream": "stdout",
       "text": [
        " 0.152641796718\n",
        "0.00281176869797"
       ]
      },
      {
       "output_type": "stream",
       "stream": "stdout",
       "text": [
        " 0.175751062485\n",
        "0.00281176869797"
       ]
      },
      {
       "output_type": "stream",
       "stream": "stdout",
       "text": [
        " 0.202358964773\n",
        "0.00281176869797"
       ]
      },
      {
       "output_type": "stream",
       "stream": "stdout",
       "text": [
        " 0.232995181052\n",
        "0.00281176869797"
       ]
      },
      {
       "output_type": "stream",
       "stream": "stdout",
       "text": [
        " 0.268269579528\n",
        "0.00281176869797"
       ]
      },
      {
       "output_type": "stream",
       "stream": "stdout",
       "text": [
        " 0.308884359648\n",
        "0.00281176869797"
       ]
      },
      {
       "output_type": "stream",
       "stream": "stdout",
       "text": [
        " 0.355648030622\n",
        "0.00281176869797"
       ]
      },
      {
       "output_type": "stream",
       "stream": "stdout",
       "text": [
        " 0.409491506238\n",
        "0.00281176869797"
       ]
      },
      {
       "output_type": "stream",
       "stream": "stdout",
       "text": [
        " 0.471486636346\n",
        "0.00281176869797"
       ]
      },
      {
       "output_type": "stream",
       "stream": "stdout",
       "text": [
        " 0.542867543932\n",
        "0.00281176869797"
       ]
      },
      {
       "output_type": "stream",
       "stream": "stdout",
       "text": [
        " 0.625055192527\n",
        "0.00281176869797"
       ]
      },
      {
       "output_type": "stream",
       "stream": "stdout",
       "text": [
        " 0.719685673001\n",
        "0.00281176869797"
       ]
      },
      {
       "output_type": "stream",
       "stream": "stdout",
       "text": [
        " 0.828642772855\n",
        "0.00281176869797"
       ]
      },
      {
       "output_type": "stream",
       "stream": "stdout",
       "text": [
        " 0.95409547635\n",
        "0.00281176869797"
       ]
      },
      {
       "output_type": "stream",
       "stream": "stdout",
       "text": [
        " 1.09854114199\n",
        "0.00281176869797"
       ]
      },
      {
       "output_type": "stream",
       "stream": "stdout",
       "text": [
        " 1.26485521686\n",
        "0.00281176869797"
       ]
      },
      {
       "output_type": "stream",
       "stream": "stdout",
       "text": [
        " 1.4563484775\n",
        "0.00281176869797"
       ]
      },
      {
       "output_type": "stream",
       "stream": "stdout",
       "text": [
        " 1.67683293681\n",
        "0.00281176869797"
       ]
      },
      {
       "output_type": "stream",
       "stream": "stdout",
       "text": [
        " 1.93069772888\n",
        "0.00281176869797"
       ]
      },
      {
       "output_type": "stream",
       "stream": "stdout",
       "text": [
        " 2.22299648253\n",
        "0.00281176869797"
       ]
      },
      {
       "output_type": "stream",
       "stream": "stdout",
       "text": [
        " 2.5595479227\n",
        "0.00281176869797"
       ]
      },
      {
       "output_type": "stream",
       "stream": "stdout",
       "text": [
        " 2.94705170255\n",
        "0.00281176869797"
       ]
      },
      {
       "output_type": "stream",
       "stream": "stdout",
       "text": [
        " 3.3932217719\n",
        "0.00281176869797"
       ]
      },
      {
       "output_type": "stream",
       "stream": "stdout",
       "text": [
        " 3.90693993705\n",
        "0.00281176869797"
       ]
      },
      {
       "output_type": "stream",
       "stream": "stdout",
       "text": [
        " 4.49843266897\n",
        "0.00281176869797"
       ]
      },
      {
       "output_type": "stream",
       "stream": "stdout",
       "text": [
        " 5.17947467923\n",
        "0.00281176869797"
       ]
      },
      {
       "output_type": "stream",
       "stream": "stdout",
       "text": [
        " 5.96362331659\n",
        "0.00281176869797"
       ]
      },
      {
       "output_type": "stream",
       "stream": "stdout",
       "text": [
        " 6.86648845004\n",
        "0.00281176869797"
       ]
      },
      {
       "output_type": "stream",
       "stream": "stdout",
       "text": [
        " 7.90604321091\n",
        "0.00281176869797"
       ]
      },
      {
       "output_type": "stream",
       "stream": "stdout",
       "text": [
        " 9.10298177992\n",
        "0.00281176869797"
       ]
      },
      {
       "output_type": "stream",
       "stream": "stdout",
       "text": [
        " 10.4811313415\n",
        "0.00281176869797"
       ]
      },
      {
       "output_type": "stream",
       "stream": "stdout",
       "text": [
        " 12.0679264064\n",
        "0.00281176869797"
       ]
      },
      {
       "output_type": "stream",
       "stream": "stdout",
       "text": [
        " 13.8949549437\n",
        "0.00281176869797"
       ]
      },
      {
       "output_type": "stream",
       "stream": "stdout",
       "text": [
        " 15.9985871961\n",
        "0.00281176869797"
       ]
      },
      {
       "output_type": "stream",
       "stream": "stdout",
       "text": [
        " 18.4206996933\n",
        "0.00281176869797"
       ]
      },
      {
       "output_type": "stream",
       "stream": "stdout",
       "text": [
        " 21.2095088792\n",
        "0.00281176869797"
       ]
      },
      {
       "output_type": "stream",
       "stream": "stdout",
       "text": [
        " 24.4205309455\n",
        "0.00281176869797"
       ]
      },
      {
       "output_type": "stream",
       "stream": "stdout",
       "text": [
        " 28.1176869797\n",
        "0.00281176869797"
       ]
      },
      {
       "output_type": "stream",
       "stream": "stdout",
       "text": [
        " 32.3745754282\n",
        "0.00281176869797"
       ]
      },
      {
       "output_type": "stream",
       "stream": "stdout",
       "text": [
        " 37.2759372031\n",
        "0.00281176869797"
       ]
      },
      {
       "output_type": "stream",
       "stream": "stdout",
       "text": [
        " 42.9193426013\n",
        "0.00281176869797"
       ]
      },
      {
       "output_type": "stream",
       "stream": "stdout",
       "text": [
        " 49.4171336132\n",
        "0.00281176869797"
       ]
      },
      {
       "output_type": "stream",
       "stream": "stdout",
       "text": [
        " 56.8986602902\n",
        "0.00281176869797"
       ]
      },
      {
       "output_type": "stream",
       "stream": "stdout",
       "text": [
        " 65.512855686\n",
        "0.00281176869797"
       ]
      },
      {
       "output_type": "stream",
       "stream": "stdout",
       "text": [
        " 75.4312006335\n",
        "0.00281176869797"
       ]
      },
      {
       "output_type": "stream",
       "stream": "stdout",
       "text": [
        " 86.8511373751\n",
        "0.00281176869797"
       ]
      },
      {
       "output_type": "stream",
       "stream": "stdout",
       "text": [
        " 100.0\n",
        "0.00471486636346"
       ]
      },
      {
       "output_type": "stream",
       "stream": "stdout",
       "text": [
        " 0.1\n",
        "0.00471486636346"
       ]
      },
      {
       "output_type": "stream",
       "stream": "stdout",
       "text": [
        " 0.115139539933\n",
        "0.00471486636346"
       ]
      },
      {
       "output_type": "stream",
       "stream": "stdout",
       "text": [
        " 0.132571136559\n",
        "0.00471486636346"
       ]
      },
      {
       "output_type": "stream",
       "stream": "stdout",
       "text": [
        " 0.152641796718\n",
        "0.00471486636346"
       ]
      },
      {
       "output_type": "stream",
       "stream": "stdout",
       "text": [
        " 0.175751062485\n",
        "0.00471486636346"
       ]
      },
      {
       "output_type": "stream",
       "stream": "stdout",
       "text": [
        " 0.202358964773\n",
        "0.00471486636346"
       ]
      },
      {
       "output_type": "stream",
       "stream": "stdout",
       "text": [
        " 0.232995181052\n",
        "0.00471486636346"
       ]
      },
      {
       "output_type": "stream",
       "stream": "stdout",
       "text": [
        " 0.268269579528\n",
        "0.00471486636346"
       ]
      },
      {
       "output_type": "stream",
       "stream": "stdout",
       "text": [
        " 0.308884359648\n",
        "0.00471486636346"
       ]
      },
      {
       "output_type": "stream",
       "stream": "stdout",
       "text": [
        " 0.355648030622\n",
        "0.00471486636346"
       ]
      },
      {
       "output_type": "stream",
       "stream": "stdout",
       "text": [
        " 0.409491506238\n",
        "0.00471486636346"
       ]
      },
      {
       "output_type": "stream",
       "stream": "stdout",
       "text": [
        " 0.471486636346\n",
        "0.00471486636346"
       ]
      },
      {
       "output_type": "stream",
       "stream": "stdout",
       "text": [
        " 0.542867543932\n",
        "0.00471486636346"
       ]
      },
      {
       "output_type": "stream",
       "stream": "stdout",
       "text": [
        " 0.625055192527\n",
        "0.00471486636346"
       ]
      },
      {
       "output_type": "stream",
       "stream": "stdout",
       "text": [
        " 0.719685673001\n",
        "0.00471486636346"
       ]
      },
      {
       "output_type": "stream",
       "stream": "stdout",
       "text": [
        " 0.828642772855\n",
        "0.00471486636346"
       ]
      },
      {
       "output_type": "stream",
       "stream": "stdout",
       "text": [
        " 0.95409547635\n",
        "0.00471486636346"
       ]
      },
      {
       "output_type": "stream",
       "stream": "stdout",
       "text": [
        " 1.09854114199\n",
        "0.00471486636346"
       ]
      },
      {
       "output_type": "stream",
       "stream": "stdout",
       "text": [
        " 1.26485521686\n",
        "0.00471486636346"
       ]
      },
      {
       "output_type": "stream",
       "stream": "stdout",
       "text": [
        " 1.4563484775\n",
        "0.00471486636346"
       ]
      },
      {
       "output_type": "stream",
       "stream": "stdout",
       "text": [
        " 1.67683293681\n",
        "0.00471486636346"
       ]
      },
      {
       "output_type": "stream",
       "stream": "stdout",
       "text": [
        " 1.93069772888\n",
        "0.00471486636346"
       ]
      },
      {
       "output_type": "stream",
       "stream": "stdout",
       "text": [
        " 2.22299648253\n",
        "0.00471486636346"
       ]
      },
      {
       "output_type": "stream",
       "stream": "stdout",
       "text": [
        " 2.5595479227\n",
        "0.00471486636346"
       ]
      },
      {
       "output_type": "stream",
       "stream": "stdout",
       "text": [
        " 2.94705170255\n",
        "0.00471486636346"
       ]
      },
      {
       "output_type": "stream",
       "stream": "stdout",
       "text": [
        " 3.3932217719\n",
        "0.00471486636346"
       ]
      },
      {
       "output_type": "stream",
       "stream": "stdout",
       "text": [
        " 3.90693993705\n",
        "0.00471486636346"
       ]
      },
      {
       "output_type": "stream",
       "stream": "stdout",
       "text": [
        " 4.49843266897\n",
        "0.00471486636346"
       ]
      },
      {
       "output_type": "stream",
       "stream": "stdout",
       "text": [
        " 5.17947467923\n",
        "0.00471486636346"
       ]
      },
      {
       "output_type": "stream",
       "stream": "stdout",
       "text": [
        " 5.96362331659\n",
        "0.00471486636346"
       ]
      },
      {
       "output_type": "stream",
       "stream": "stdout",
       "text": [
        " 6.86648845004\n",
        "0.00471486636346"
       ]
      },
      {
       "output_type": "stream",
       "stream": "stdout",
       "text": [
        " 7.90604321091\n",
        "0.00471486636346"
       ]
      },
      {
       "output_type": "stream",
       "stream": "stdout",
       "text": [
        " 9.10298177992\n",
        "0.00471486636346"
       ]
      },
      {
       "output_type": "stream",
       "stream": "stdout",
       "text": [
        " 10.4811313415\n",
        "0.00471486636346"
       ]
      },
      {
       "output_type": "stream",
       "stream": "stdout",
       "text": [
        " 12.0679264064\n",
        "0.00471486636346"
       ]
      },
      {
       "output_type": "stream",
       "stream": "stdout",
       "text": [
        " 13.8949549437\n",
        "0.00471486636346"
       ]
      },
      {
       "output_type": "stream",
       "stream": "stdout",
       "text": [
        " 15.9985871961\n",
        "0.00471486636346"
       ]
      },
      {
       "output_type": "stream",
       "stream": "stdout",
       "text": [
        " 18.4206996933\n",
        "0.00471486636346"
       ]
      },
      {
       "output_type": "stream",
       "stream": "stdout",
       "text": [
        " 21.2095088792\n",
        "0.00471486636346"
       ]
      },
      {
       "output_type": "stream",
       "stream": "stdout",
       "text": [
        " 24.4205309455\n",
        "0.00471486636346"
       ]
      },
      {
       "output_type": "stream",
       "stream": "stdout",
       "text": [
        " 28.1176869797\n",
        "0.00471486636346"
       ]
      },
      {
       "output_type": "stream",
       "stream": "stdout",
       "text": [
        " 32.3745754282\n",
        "0.00471486636346"
       ]
      },
      {
       "output_type": "stream",
       "stream": "stdout",
       "text": [
        " 37.2759372031\n",
        "0.00471486636346"
       ]
      },
      {
       "output_type": "stream",
       "stream": "stdout",
       "text": [
        " 42.9193426013\n",
        "0.00471486636346"
       ]
      },
      {
       "output_type": "stream",
       "stream": "stdout",
       "text": [
        " 49.4171336132\n",
        "0.00471486636346"
       ]
      },
      {
       "output_type": "stream",
       "stream": "stdout",
       "text": [
        " 56.8986602902\n",
        "0.00471486636346"
       ]
      },
      {
       "output_type": "stream",
       "stream": "stdout",
       "text": [
        " 65.512855686\n",
        "0.00471486636346"
       ]
      },
      {
       "output_type": "stream",
       "stream": "stdout",
       "text": [
        " 75.4312006335\n",
        "0.00471486636346"
       ]
      },
      {
       "output_type": "stream",
       "stream": "stdout",
       "text": [
        " 86.8511373751\n",
        "0.00471486636346"
       ]
      },
      {
       "output_type": "stream",
       "stream": "stdout",
       "text": [
        " 100.0\n",
        "0.00790604321091"
       ]
      },
      {
       "output_type": "stream",
       "stream": "stdout",
       "text": [
        " 0.1\n",
        "0.00790604321091"
       ]
      },
      {
       "output_type": "stream",
       "stream": "stdout",
       "text": [
        " 0.115139539933\n",
        "0.00790604321091"
       ]
      },
      {
       "output_type": "stream",
       "stream": "stdout",
       "text": [
        " 0.132571136559\n",
        "0.00790604321091"
       ]
      },
      {
       "output_type": "stream",
       "stream": "stdout",
       "text": [
        " 0.152641796718\n",
        "0.00790604321091"
       ]
      },
      {
       "output_type": "stream",
       "stream": "stdout",
       "text": [
        " 0.175751062485\n",
        "0.00790604321091"
       ]
      },
      {
       "output_type": "stream",
       "stream": "stdout",
       "text": [
        " 0.202358964773\n",
        "0.00790604321091"
       ]
      },
      {
       "output_type": "stream",
       "stream": "stdout",
       "text": [
        " 0.232995181052\n",
        "0.00790604321091"
       ]
      },
      {
       "output_type": "stream",
       "stream": "stdout",
       "text": [
        " 0.268269579528\n",
        "0.00790604321091"
       ]
      },
      {
       "output_type": "stream",
       "stream": "stdout",
       "text": [
        " 0.308884359648\n",
        "0.00790604321091"
       ]
      },
      {
       "output_type": "stream",
       "stream": "stdout",
       "text": [
        " 0.355648030622\n",
        "0.00790604321091"
       ]
      },
      {
       "output_type": "stream",
       "stream": "stdout",
       "text": [
        " 0.409491506238\n",
        "0.00790604321091"
       ]
      },
      {
       "output_type": "stream",
       "stream": "stdout",
       "text": [
        " 0.471486636346\n",
        "0.00790604321091"
       ]
      },
      {
       "output_type": "stream",
       "stream": "stdout",
       "text": [
        " 0.542867543932\n",
        "0.00790604321091"
       ]
      },
      {
       "output_type": "stream",
       "stream": "stdout",
       "text": [
        " 0.625055192527\n",
        "0.00790604321091"
       ]
      },
      {
       "output_type": "stream",
       "stream": "stdout",
       "text": [
        " 0.719685673001\n",
        "0.00790604321091"
       ]
      },
      {
       "output_type": "stream",
       "stream": "stdout",
       "text": [
        " 0.828642772855\n",
        "0.00790604321091"
       ]
      },
      {
       "output_type": "stream",
       "stream": "stdout",
       "text": [
        " 0.95409547635\n",
        "0.00790604321091"
       ]
      },
      {
       "output_type": "stream",
       "stream": "stdout",
       "text": [
        " 1.09854114199\n",
        "0.00790604321091"
       ]
      },
      {
       "output_type": "stream",
       "stream": "stdout",
       "text": [
        " 1.26485521686\n",
        "0.00790604321091"
       ]
      },
      {
       "output_type": "stream",
       "stream": "stdout",
       "text": [
        " 1.4563484775\n",
        "0.00790604321091"
       ]
      },
      {
       "output_type": "stream",
       "stream": "stdout",
       "text": [
        " 1.67683293681\n",
        "0.00790604321091"
       ]
      },
      {
       "output_type": "stream",
       "stream": "stdout",
       "text": [
        " 1.93069772888\n",
        "0.00790604321091"
       ]
      },
      {
       "output_type": "stream",
       "stream": "stdout",
       "text": [
        " 2.22299648253\n",
        "0.00790604321091"
       ]
      },
      {
       "output_type": "stream",
       "stream": "stdout",
       "text": [
        " 2.5595479227\n",
        "0.00790604321091"
       ]
      },
      {
       "output_type": "stream",
       "stream": "stdout",
       "text": [
        " 2.94705170255\n",
        "0.00790604321091"
       ]
      },
      {
       "output_type": "stream",
       "stream": "stdout",
       "text": [
        " 3.3932217719\n",
        "0.00790604321091"
       ]
      },
      {
       "output_type": "stream",
       "stream": "stdout",
       "text": [
        " 3.90693993705\n",
        "0.00790604321091"
       ]
      },
      {
       "output_type": "stream",
       "stream": "stdout",
       "text": [
        " 4.49843266897\n",
        "0.00790604321091"
       ]
      },
      {
       "output_type": "stream",
       "stream": "stdout",
       "text": [
        " 5.17947467923\n",
        "0.00790604321091"
       ]
      },
      {
       "output_type": "stream",
       "stream": "stdout",
       "text": [
        " 5.96362331659\n",
        "0.00790604321091"
       ]
      },
      {
       "output_type": "stream",
       "stream": "stdout",
       "text": [
        " 6.86648845004\n",
        "0.00790604321091"
       ]
      },
      {
       "output_type": "stream",
       "stream": "stdout",
       "text": [
        " 7.90604321091\n",
        "0.00790604321091"
       ]
      },
      {
       "output_type": "stream",
       "stream": "stdout",
       "text": [
        " 9.10298177992\n",
        "0.00790604321091"
       ]
      },
      {
       "output_type": "stream",
       "stream": "stdout",
       "text": [
        " 10.4811313415\n",
        "0.00790604321091"
       ]
      },
      {
       "output_type": "stream",
       "stream": "stdout",
       "text": [
        " 12.0679264064\n",
        "0.00790604321091"
       ]
      },
      {
       "output_type": "stream",
       "stream": "stdout",
       "text": [
        " 13.8949549437\n",
        "0.00790604321091"
       ]
      },
      {
       "output_type": "stream",
       "stream": "stdout",
       "text": [
        " 15.9985871961\n",
        "0.00790604321091"
       ]
      },
      {
       "output_type": "stream",
       "stream": "stdout",
       "text": [
        " 18.4206996933\n",
        "0.00790604321091"
       ]
      },
      {
       "output_type": "stream",
       "stream": "stdout",
       "text": [
        " 21.2095088792\n",
        "0.00790604321091"
       ]
      },
      {
       "output_type": "stream",
       "stream": "stdout",
       "text": [
        " 24.4205309455\n",
        "0.00790604321091"
       ]
      },
      {
       "output_type": "stream",
       "stream": "stdout",
       "text": [
        " 28.1176869797\n",
        "0.00790604321091"
       ]
      },
      {
       "output_type": "stream",
       "stream": "stdout",
       "text": [
        " 32.3745754282\n",
        "0.00790604321091"
       ]
      },
      {
       "output_type": "stream",
       "stream": "stdout",
       "text": [
        " 37.2759372031\n",
        "0.00790604321091"
       ]
      },
      {
       "output_type": "stream",
       "stream": "stdout",
       "text": [
        " 42.9193426013\n",
        "0.00790604321091"
       ]
      },
      {
       "output_type": "stream",
       "stream": "stdout",
       "text": [
        " 49.4171336132\n",
        "0.00790604321091"
       ]
      },
      {
       "output_type": "stream",
       "stream": "stdout",
       "text": [
        " 56.8986602902\n",
        "0.00790604321091"
       ]
      },
      {
       "output_type": "stream",
       "stream": "stdout",
       "text": [
        " 65.512855686\n",
        "0.00790604321091"
       ]
      },
      {
       "output_type": "stream",
       "stream": "stdout",
       "text": [
        " 75.4312006335\n",
        "0.00790604321091"
       ]
      },
      {
       "output_type": "stream",
       "stream": "stdout",
       "text": [
        " 86.8511373751\n",
        "0.00790604321091"
       ]
      },
      {
       "output_type": "stream",
       "stream": "stdout",
       "text": [
        " 100.0\n",
        "0.0132571136559"
       ]
      },
      {
       "output_type": "stream",
       "stream": "stdout",
       "text": [
        " 0.1\n",
        "0.0132571136559"
       ]
      },
      {
       "output_type": "stream",
       "stream": "stdout",
       "text": [
        " 0.115139539933\n",
        "0.0132571136559"
       ]
      },
      {
       "output_type": "stream",
       "stream": "stdout",
       "text": [
        " 0.132571136559\n",
        "0.0132571136559"
       ]
      },
      {
       "output_type": "stream",
       "stream": "stdout",
       "text": [
        " 0.152641796718\n",
        "0.0132571136559"
       ]
      },
      {
       "output_type": "stream",
       "stream": "stdout",
       "text": [
        " 0.175751062485\n",
        "0.0132571136559"
       ]
      },
      {
       "output_type": "stream",
       "stream": "stdout",
       "text": [
        " 0.202358964773\n",
        "0.0132571136559"
       ]
      },
      {
       "output_type": "stream",
       "stream": "stdout",
       "text": [
        " 0.232995181052\n",
        "0.0132571136559"
       ]
      },
      {
       "output_type": "stream",
       "stream": "stdout",
       "text": [
        " 0.268269579528\n",
        "0.0132571136559"
       ]
      },
      {
       "output_type": "stream",
       "stream": "stdout",
       "text": [
        " 0.308884359648\n",
        "0.0132571136559"
       ]
      },
      {
       "output_type": "stream",
       "stream": "stdout",
       "text": [
        " 0.355648030622\n",
        "0.0132571136559"
       ]
      },
      {
       "output_type": "stream",
       "stream": "stdout",
       "text": [
        " 0.409491506238\n",
        "0.0132571136559"
       ]
      },
      {
       "output_type": "stream",
       "stream": "stdout",
       "text": [
        " 0.471486636346\n",
        "0.0132571136559"
       ]
      },
      {
       "output_type": "stream",
       "stream": "stdout",
       "text": [
        " 0.542867543932\n",
        "0.0132571136559"
       ]
      },
      {
       "output_type": "stream",
       "stream": "stdout",
       "text": [
        " 0.625055192527\n",
        "0.0132571136559"
       ]
      },
      {
       "output_type": "stream",
       "stream": "stdout",
       "text": [
        " 0.719685673001\n",
        "0.0132571136559"
       ]
      },
      {
       "output_type": "stream",
       "stream": "stdout",
       "text": [
        " 0.828642772855\n",
        "0.0132571136559"
       ]
      },
      {
       "output_type": "stream",
       "stream": "stdout",
       "text": [
        " 0.95409547635\n",
        "0.0132571136559"
       ]
      },
      {
       "output_type": "stream",
       "stream": "stdout",
       "text": [
        " 1.09854114199\n",
        "0.0132571136559"
       ]
      },
      {
       "output_type": "stream",
       "stream": "stdout",
       "text": [
        " 1.26485521686\n",
        "0.0132571136559"
       ]
      },
      {
       "output_type": "stream",
       "stream": "stdout",
       "text": [
        " 1.4563484775\n",
        "0.0132571136559"
       ]
      },
      {
       "output_type": "stream",
       "stream": "stdout",
       "text": [
        " 1.67683293681\n",
        "0.0132571136559"
       ]
      },
      {
       "output_type": "stream",
       "stream": "stdout",
       "text": [
        " 1.93069772888\n",
        "0.0132571136559"
       ]
      },
      {
       "output_type": "stream",
       "stream": "stdout",
       "text": [
        " 2.22299648253\n",
        "0.0132571136559"
       ]
      },
      {
       "output_type": "stream",
       "stream": "stdout",
       "text": [
        " 2.5595479227\n",
        "0.0132571136559"
       ]
      },
      {
       "output_type": "stream",
       "stream": "stdout",
       "text": [
        " 2.94705170255\n",
        "0.0132571136559"
       ]
      },
      {
       "output_type": "stream",
       "stream": "stdout",
       "text": [
        " 3.3932217719\n",
        "0.0132571136559"
       ]
      },
      {
       "output_type": "stream",
       "stream": "stdout",
       "text": [
        " 3.90693993705\n",
        "0.0132571136559"
       ]
      },
      {
       "output_type": "stream",
       "stream": "stdout",
       "text": [
        " 4.49843266897\n",
        "0.0132571136559"
       ]
      },
      {
       "output_type": "stream",
       "stream": "stdout",
       "text": [
        " 5.17947467923\n",
        "0.0132571136559"
       ]
      },
      {
       "output_type": "stream",
       "stream": "stdout",
       "text": [
        " 5.96362331659\n",
        "0.0132571136559"
       ]
      },
      {
       "output_type": "stream",
       "stream": "stdout",
       "text": [
        " 6.86648845004\n",
        "0.0132571136559"
       ]
      },
      {
       "output_type": "stream",
       "stream": "stdout",
       "text": [
        " 7.90604321091\n",
        "0.0132571136559"
       ]
      },
      {
       "output_type": "stream",
       "stream": "stdout",
       "text": [
        " 9.10298177992\n",
        "0.0132571136559"
       ]
      },
      {
       "output_type": "stream",
       "stream": "stdout",
       "text": [
        " 10.4811313415\n",
        "0.0132571136559"
       ]
      },
      {
       "output_type": "stream",
       "stream": "stdout",
       "text": [
        " 12.0679264064\n",
        "0.0132571136559"
       ]
      },
      {
       "output_type": "stream",
       "stream": "stdout",
       "text": [
        " 13.8949549437\n",
        "0.0132571136559"
       ]
      },
      {
       "output_type": "stream",
       "stream": "stdout",
       "text": [
        " 15.9985871961\n",
        "0.0132571136559"
       ]
      },
      {
       "output_type": "stream",
       "stream": "stdout",
       "text": [
        " 18.4206996933\n",
        "0.0132571136559"
       ]
      },
      {
       "output_type": "stream",
       "stream": "stdout",
       "text": [
        " 21.2095088792\n",
        "0.0132571136559"
       ]
      },
      {
       "output_type": "stream",
       "stream": "stdout",
       "text": [
        " 24.4205309455\n",
        "0.0132571136559"
       ]
      },
      {
       "output_type": "stream",
       "stream": "stdout",
       "text": [
        " 28.1176869797\n",
        "0.0132571136559"
       ]
      },
      {
       "output_type": "stream",
       "stream": "stdout",
       "text": [
        " 32.3745754282\n",
        "0.0132571136559"
       ]
      },
      {
       "output_type": "stream",
       "stream": "stdout",
       "text": [
        " 37.2759372031\n",
        "0.0132571136559"
       ]
      },
      {
       "output_type": "stream",
       "stream": "stdout",
       "text": [
        " 42.9193426013\n",
        "0.0132571136559"
       ]
      },
      {
       "output_type": "stream",
       "stream": "stdout",
       "text": [
        " 49.4171336132\n",
        "0.0132571136559"
       ]
      },
      {
       "output_type": "stream",
       "stream": "stdout",
       "text": [
        " 56.8986602902\n",
        "0.0132571136559"
       ]
      },
      {
       "output_type": "stream",
       "stream": "stdout",
       "text": [
        " 65.512855686\n",
        "0.0132571136559"
       ]
      },
      {
       "output_type": "stream",
       "stream": "stdout",
       "text": [
        " 75.4312006335\n",
        "0.0132571136559"
       ]
      },
      {
       "output_type": "stream",
       "stream": "stdout",
       "text": [
        " 86.8511373751\n",
        "0.0132571136559"
       ]
      },
      {
       "output_type": "stream",
       "stream": "stdout",
       "text": [
        " 100.0\n",
        "0.0222299648253"
       ]
      },
      {
       "output_type": "stream",
       "stream": "stdout",
       "text": [
        " 0.1\n",
        "0.0222299648253"
       ]
      },
      {
       "output_type": "stream",
       "stream": "stdout",
       "text": [
        " 0.115139539933\n",
        "0.0222299648253"
       ]
      },
      {
       "output_type": "stream",
       "stream": "stdout",
       "text": [
        " 0.132571136559\n",
        "0.0222299648253"
       ]
      },
      {
       "output_type": "stream",
       "stream": "stdout",
       "text": [
        " 0.152641796718\n",
        "0.0222299648253"
       ]
      },
      {
       "output_type": "stream",
       "stream": "stdout",
       "text": [
        " 0.175751062485\n",
        "0.0222299648253"
       ]
      },
      {
       "output_type": "stream",
       "stream": "stdout",
       "text": [
        " 0.202358964773\n",
        "0.0222299648253"
       ]
      },
      {
       "output_type": "stream",
       "stream": "stdout",
       "text": [
        " 0.232995181052\n",
        "0.0222299648253"
       ]
      },
      {
       "output_type": "stream",
       "stream": "stdout",
       "text": [
        " 0.268269579528\n",
        "0.0222299648253"
       ]
      },
      {
       "output_type": "stream",
       "stream": "stdout",
       "text": [
        " 0.308884359648\n",
        "0.0222299648253"
       ]
      },
      {
       "output_type": "stream",
       "stream": "stdout",
       "text": [
        " 0.355648030622\n",
        "0.0222299648253"
       ]
      },
      {
       "output_type": "stream",
       "stream": "stdout",
       "text": [
        " 0.409491506238\n",
        "0.0222299648253"
       ]
      },
      {
       "output_type": "stream",
       "stream": "stdout",
       "text": [
        " 0.471486636346\n",
        "0.0222299648253"
       ]
      },
      {
       "output_type": "stream",
       "stream": "stdout",
       "text": [
        " 0.542867543932\n",
        "0.0222299648253"
       ]
      },
      {
       "output_type": "stream",
       "stream": "stdout",
       "text": [
        " 0.625055192527\n",
        "0.0222299648253"
       ]
      },
      {
       "output_type": "stream",
       "stream": "stdout",
       "text": [
        " 0.719685673001\n",
        "0.0222299648253"
       ]
      },
      {
       "output_type": "stream",
       "stream": "stdout",
       "text": [
        " 0.828642772855\n",
        "0.0222299648253"
       ]
      },
      {
       "output_type": "stream",
       "stream": "stdout",
       "text": [
        " 0.95409547635\n",
        "0.0222299648253"
       ]
      },
      {
       "output_type": "stream",
       "stream": "stdout",
       "text": [
        " 1.09854114199\n",
        "0.0222299648253"
       ]
      },
      {
       "output_type": "stream",
       "stream": "stdout",
       "text": [
        " 1.26485521686\n",
        "0.0222299648253"
       ]
      },
      {
       "output_type": "stream",
       "stream": "stdout",
       "text": [
        " 1.4563484775\n",
        "0.0222299648253"
       ]
      },
      {
       "output_type": "stream",
       "stream": "stdout",
       "text": [
        " 1.67683293681\n",
        "0.0222299648253"
       ]
      },
      {
       "output_type": "stream",
       "stream": "stdout",
       "text": [
        " 1.93069772888\n",
        "0.0222299648253"
       ]
      },
      {
       "output_type": "stream",
       "stream": "stdout",
       "text": [
        " 2.22299648253\n",
        "0.0222299648253"
       ]
      },
      {
       "output_type": "stream",
       "stream": "stdout",
       "text": [
        " 2.5595479227\n",
        "0.0222299648253"
       ]
      },
      {
       "output_type": "stream",
       "stream": "stdout",
       "text": [
        " 2.94705170255\n",
        "0.0222299648253"
       ]
      },
      {
       "output_type": "stream",
       "stream": "stdout",
       "text": [
        " 3.3932217719\n",
        "0.0222299648253"
       ]
      },
      {
       "output_type": "stream",
       "stream": "stdout",
       "text": [
        " 3.90693993705\n",
        "0.0222299648253"
       ]
      },
      {
       "output_type": "stream",
       "stream": "stdout",
       "text": [
        " 4.49843266897\n",
        "0.0222299648253"
       ]
      },
      {
       "output_type": "stream",
       "stream": "stdout",
       "text": [
        " 5.17947467923\n",
        "0.0222299648253"
       ]
      },
      {
       "output_type": "stream",
       "stream": "stdout",
       "text": [
        " 5.96362331659\n",
        "0.0222299648253"
       ]
      },
      {
       "output_type": "stream",
       "stream": "stdout",
       "text": [
        " 6.86648845004\n",
        "0.0222299648253"
       ]
      },
      {
       "output_type": "stream",
       "stream": "stdout",
       "text": [
        " 7.90604321091\n",
        "0.0222299648253"
       ]
      },
      {
       "output_type": "stream",
       "stream": "stdout",
       "text": [
        " 9.10298177992\n",
        "0.0222299648253"
       ]
      },
      {
       "output_type": "stream",
       "stream": "stdout",
       "text": [
        " 10.4811313415\n",
        "0.0222299648253"
       ]
      },
      {
       "output_type": "stream",
       "stream": "stdout",
       "text": [
        " 12.0679264064\n",
        "0.0222299648253"
       ]
      },
      {
       "output_type": "stream",
       "stream": "stdout",
       "text": [
        " 13.8949549437\n",
        "0.0222299648253"
       ]
      },
      {
       "output_type": "stream",
       "stream": "stdout",
       "text": [
        " 15.9985871961\n",
        "0.0222299648253"
       ]
      },
      {
       "output_type": "stream",
       "stream": "stdout",
       "text": [
        " 18.4206996933\n",
        "0.0222299648253"
       ]
      },
      {
       "output_type": "stream",
       "stream": "stdout",
       "text": [
        " 21.2095088792\n",
        "0.0222299648253"
       ]
      },
      {
       "output_type": "stream",
       "stream": "stdout",
       "text": [
        " 24.4205309455\n",
        "0.0222299648253"
       ]
      },
      {
       "output_type": "stream",
       "stream": "stdout",
       "text": [
        " 28.1176869797\n",
        "0.0222299648253"
       ]
      },
      {
       "output_type": "stream",
       "stream": "stdout",
       "text": [
        " 32.3745754282\n",
        "0.0222299648253"
       ]
      },
      {
       "output_type": "stream",
       "stream": "stdout",
       "text": [
        " 37.2759372031\n",
        "0.0222299648253"
       ]
      },
      {
       "output_type": "stream",
       "stream": "stdout",
       "text": [
        " 42.9193426013\n",
        "0.0222299648253"
       ]
      },
      {
       "output_type": "stream",
       "stream": "stdout",
       "text": [
        " 49.4171336132\n",
        "0.0222299648253"
       ]
      },
      {
       "output_type": "stream",
       "stream": "stdout",
       "text": [
        " 56.8986602902\n",
        "0.0222299648253"
       ]
      },
      {
       "output_type": "stream",
       "stream": "stdout",
       "text": [
        " 65.512855686\n",
        "0.0222299648253"
       ]
      },
      {
       "output_type": "stream",
       "stream": "stdout",
       "text": [
        " 75.4312006335\n",
        "0.0222299648253"
       ]
      },
      {
       "output_type": "stream",
       "stream": "stdout",
       "text": [
        " 86.8511373751\n",
        "0.0222299648253"
       ]
      },
      {
       "output_type": "stream",
       "stream": "stdout",
       "text": [
        " 100.0\n",
        "0.0372759372031"
       ]
      },
      {
       "output_type": "stream",
       "stream": "stdout",
       "text": [
        " 0.1\n",
        "0.0372759372031"
       ]
      },
      {
       "output_type": "stream",
       "stream": "stdout",
       "text": [
        " 0.115139539933\n",
        "0.0372759372031"
       ]
      },
      {
       "output_type": "stream",
       "stream": "stdout",
       "text": [
        " 0.132571136559\n",
        "0.0372759372031"
       ]
      },
      {
       "output_type": "stream",
       "stream": "stdout",
       "text": [
        " 0.152641796718\n",
        "0.0372759372031"
       ]
      },
      {
       "output_type": "stream",
       "stream": "stdout",
       "text": [
        " 0.175751062485\n",
        "0.0372759372031"
       ]
      },
      {
       "output_type": "stream",
       "stream": "stdout",
       "text": [
        " 0.202358964773\n",
        "0.0372759372031"
       ]
      },
      {
       "output_type": "stream",
       "stream": "stdout",
       "text": [
        " 0.232995181052\n",
        "0.0372759372031"
       ]
      },
      {
       "output_type": "stream",
       "stream": "stdout",
       "text": [
        " 0.268269579528\n",
        "0.0372759372031"
       ]
      },
      {
       "output_type": "stream",
       "stream": "stdout",
       "text": [
        " 0.308884359648\n",
        "0.0372759372031"
       ]
      },
      {
       "output_type": "stream",
       "stream": "stdout",
       "text": [
        " 0.355648030622\n",
        "0.0372759372031"
       ]
      },
      {
       "output_type": "stream",
       "stream": "stdout",
       "text": [
        " 0.409491506238\n",
        "0.0372759372031"
       ]
      },
      {
       "output_type": "stream",
       "stream": "stdout",
       "text": [
        " 0.471486636346\n",
        "0.0372759372031"
       ]
      },
      {
       "output_type": "stream",
       "stream": "stdout",
       "text": [
        " 0.542867543932\n",
        "0.0372759372031"
       ]
      },
      {
       "output_type": "stream",
       "stream": "stdout",
       "text": [
        " 0.625055192527\n",
        "0.0372759372031"
       ]
      },
      {
       "output_type": "stream",
       "stream": "stdout",
       "text": [
        " 0.719685673001\n",
        "0.0372759372031"
       ]
      },
      {
       "output_type": "stream",
       "stream": "stdout",
       "text": [
        " 0.828642772855\n",
        "0.0372759372031"
       ]
      },
      {
       "output_type": "stream",
       "stream": "stdout",
       "text": [
        " 0.95409547635\n",
        "0.0372759372031"
       ]
      },
      {
       "output_type": "stream",
       "stream": "stdout",
       "text": [
        " 1.09854114199\n",
        "0.0372759372031"
       ]
      },
      {
       "output_type": "stream",
       "stream": "stdout",
       "text": [
        " 1.26485521686\n",
        "0.0372759372031"
       ]
      },
      {
       "output_type": "stream",
       "stream": "stdout",
       "text": [
        " 1.4563484775\n",
        "0.0372759372031"
       ]
      },
      {
       "output_type": "stream",
       "stream": "stdout",
       "text": [
        " 1.67683293681\n",
        "0.0372759372031"
       ]
      },
      {
       "output_type": "stream",
       "stream": "stdout",
       "text": [
        " 1.93069772888\n",
        "0.0372759372031"
       ]
      },
      {
       "output_type": "stream",
       "stream": "stdout",
       "text": [
        " 2.22299648253\n",
        "0.0372759372031"
       ]
      },
      {
       "output_type": "stream",
       "stream": "stdout",
       "text": [
        " 2.5595479227\n",
        "0.0372759372031"
       ]
      },
      {
       "output_type": "stream",
       "stream": "stdout",
       "text": [
        " 2.94705170255\n",
        "0.0372759372031"
       ]
      },
      {
       "output_type": "stream",
       "stream": "stdout",
       "text": [
        " 3.3932217719\n",
        "0.0372759372031"
       ]
      },
      {
       "output_type": "stream",
       "stream": "stdout",
       "text": [
        " 3.90693993705\n",
        "0.0372759372031"
       ]
      },
      {
       "output_type": "stream",
       "stream": "stdout",
       "text": [
        " 4.49843266897\n",
        "0.0372759372031"
       ]
      },
      {
       "output_type": "stream",
       "stream": "stdout",
       "text": [
        " 5.17947467923\n",
        "0.0372759372031"
       ]
      },
      {
       "output_type": "stream",
       "stream": "stdout",
       "text": [
        " 5.96362331659\n",
        "0.0372759372031"
       ]
      },
      {
       "output_type": "stream",
       "stream": "stdout",
       "text": [
        " 6.86648845004\n",
        "0.0372759372031"
       ]
      },
      {
       "output_type": "stream",
       "stream": "stdout",
       "text": [
        " 7.90604321091\n",
        "0.0372759372031"
       ]
      },
      {
       "output_type": "stream",
       "stream": "stdout",
       "text": [
        " 9.10298177992\n",
        "0.0372759372031"
       ]
      },
      {
       "output_type": "stream",
       "stream": "stdout",
       "text": [
        " 10.4811313415\n",
        "0.0372759372031"
       ]
      },
      {
       "output_type": "stream",
       "stream": "stdout",
       "text": [
        " 12.0679264064\n",
        "0.0372759372031"
       ]
      },
      {
       "output_type": "stream",
       "stream": "stdout",
       "text": [
        " 13.8949549437\n",
        "0.0372759372031"
       ]
      },
      {
       "output_type": "stream",
       "stream": "stdout",
       "text": [
        " 15.9985871961\n",
        "0.0372759372031"
       ]
      },
      {
       "output_type": "stream",
       "stream": "stdout",
       "text": [
        " 18.4206996933\n",
        "0.0372759372031"
       ]
      },
      {
       "output_type": "stream",
       "stream": "stdout",
       "text": [
        " 21.2095088792\n",
        "0.0372759372031"
       ]
      },
      {
       "output_type": "stream",
       "stream": "stdout",
       "text": [
        " 24.4205309455\n",
        "0.0372759372031"
       ]
      },
      {
       "output_type": "stream",
       "stream": "stdout",
       "text": [
        " 28.1176869797\n",
        "0.0372759372031"
       ]
      },
      {
       "output_type": "stream",
       "stream": "stdout",
       "text": [
        " 32.3745754282\n",
        "0.0372759372031"
       ]
      },
      {
       "output_type": "stream",
       "stream": "stdout",
       "text": [
        " 37.2759372031\n",
        "0.0372759372031"
       ]
      },
      {
       "output_type": "stream",
       "stream": "stdout",
       "text": [
        " 42.9193426013\n",
        "0.0372759372031"
       ]
      },
      {
       "output_type": "stream",
       "stream": "stdout",
       "text": [
        " 49.4171336132\n",
        "0.0372759372031"
       ]
      },
      {
       "output_type": "stream",
       "stream": "stdout",
       "text": [
        " 56.8986602902\n",
        "0.0372759372031"
       ]
      },
      {
       "output_type": "stream",
       "stream": "stdout",
       "text": [
        " 65.512855686\n",
        "0.0372759372031"
       ]
      },
      {
       "output_type": "stream",
       "stream": "stdout",
       "text": [
        " 75.4312006335\n",
        "0.0372759372031"
       ]
      },
      {
       "output_type": "stream",
       "stream": "stdout",
       "text": [
        " 86.8511373751\n",
        "0.0372759372031"
       ]
      },
      {
       "output_type": "stream",
       "stream": "stdout",
       "text": [
        " 100.0\n",
        "0.0625055192527"
       ]
      },
      {
       "output_type": "stream",
       "stream": "stdout",
       "text": [
        " 0.1\n",
        "0.0625055192527"
       ]
      },
      {
       "output_type": "stream",
       "stream": "stdout",
       "text": [
        " 0.115139539933\n",
        "0.0625055192527"
       ]
      },
      {
       "output_type": "stream",
       "stream": "stdout",
       "text": [
        " 0.132571136559\n",
        "0.0625055192527"
       ]
      },
      {
       "output_type": "stream",
       "stream": "stdout",
       "text": [
        " 0.152641796718\n",
        "0.0625055192527"
       ]
      },
      {
       "output_type": "stream",
       "stream": "stdout",
       "text": [
        " 0.175751062485\n",
        "0.0625055192527"
       ]
      },
      {
       "output_type": "stream",
       "stream": "stdout",
       "text": [
        " 0.202358964773\n",
        "0.0625055192527"
       ]
      },
      {
       "output_type": "stream",
       "stream": "stdout",
       "text": [
        " 0.232995181052\n",
        "0.0625055192527"
       ]
      },
      {
       "output_type": "stream",
       "stream": "stdout",
       "text": [
        " 0.268269579528\n",
        "0.0625055192527"
       ]
      },
      {
       "output_type": "stream",
       "stream": "stdout",
       "text": [
        " 0.308884359648\n",
        "0.0625055192527"
       ]
      },
      {
       "output_type": "stream",
       "stream": "stdout",
       "text": [
        " 0.355648030622\n",
        "0.0625055192527"
       ]
      },
      {
       "output_type": "stream",
       "stream": "stdout",
       "text": [
        " 0.409491506238\n",
        "0.0625055192527"
       ]
      },
      {
       "output_type": "stream",
       "stream": "stdout",
       "text": [
        " 0.471486636346\n",
        "0.0625055192527"
       ]
      },
      {
       "output_type": "stream",
       "stream": "stdout",
       "text": [
        " 0.542867543932\n",
        "0.0625055192527"
       ]
      },
      {
       "output_type": "stream",
       "stream": "stdout",
       "text": [
        " 0.625055192527\n",
        "0.0625055192527"
       ]
      },
      {
       "output_type": "stream",
       "stream": "stdout",
       "text": [
        " 0.719685673001\n",
        "0.0625055192527"
       ]
      },
      {
       "output_type": "stream",
       "stream": "stdout",
       "text": [
        " 0.828642772855\n",
        "0.0625055192527"
       ]
      },
      {
       "output_type": "stream",
       "stream": "stdout",
       "text": [
        " 0.95409547635\n",
        "0.0625055192527"
       ]
      },
      {
       "output_type": "stream",
       "stream": "stdout",
       "text": [
        " 1.09854114199\n",
        "0.0625055192527"
       ]
      },
      {
       "output_type": "stream",
       "stream": "stdout",
       "text": [
        " 1.26485521686\n",
        "0.0625055192527"
       ]
      },
      {
       "output_type": "stream",
       "stream": "stdout",
       "text": [
        " 1.4563484775\n",
        "0.0625055192527"
       ]
      },
      {
       "output_type": "stream",
       "stream": "stdout",
       "text": [
        " 1.67683293681\n",
        "0.0625055192527"
       ]
      },
      {
       "output_type": "stream",
       "stream": "stdout",
       "text": [
        " 1.93069772888\n",
        "0.0625055192527"
       ]
      },
      {
       "output_type": "stream",
       "stream": "stdout",
       "text": [
        " 2.22299648253\n",
        "0.0625055192527"
       ]
      },
      {
       "output_type": "stream",
       "stream": "stdout",
       "text": [
        " 2.5595479227\n",
        "0.0625055192527"
       ]
      },
      {
       "output_type": "stream",
       "stream": "stdout",
       "text": [
        " 2.94705170255\n",
        "0.0625055192527"
       ]
      },
      {
       "output_type": "stream",
       "stream": "stdout",
       "text": [
        " 3.3932217719\n",
        "0.0625055192527"
       ]
      },
      {
       "output_type": "stream",
       "stream": "stdout",
       "text": [
        " 3.90693993705\n",
        "0.0625055192527"
       ]
      },
      {
       "output_type": "stream",
       "stream": "stdout",
       "text": [
        " 4.49843266897\n",
        "0.0625055192527"
       ]
      },
      {
       "output_type": "stream",
       "stream": "stdout",
       "text": [
        " 5.17947467923\n",
        "0.0625055192527"
       ]
      },
      {
       "output_type": "stream",
       "stream": "stdout",
       "text": [
        " 5.96362331659\n",
        "0.0625055192527"
       ]
      },
      {
       "output_type": "stream",
       "stream": "stdout",
       "text": [
        " 6.86648845004\n",
        "0.0625055192527"
       ]
      },
      {
       "output_type": "stream",
       "stream": "stdout",
       "text": [
        " 7.90604321091\n",
        "0.0625055192527"
       ]
      },
      {
       "output_type": "stream",
       "stream": "stdout",
       "text": [
        " 9.10298177992\n",
        "0.0625055192527"
       ]
      },
      {
       "output_type": "stream",
       "stream": "stdout",
       "text": [
        " 10.4811313415\n",
        "0.0625055192527"
       ]
      },
      {
       "output_type": "stream",
       "stream": "stdout",
       "text": [
        " 12.0679264064\n",
        "0.0625055192527"
       ]
      },
      {
       "output_type": "stream",
       "stream": "stdout",
       "text": [
        " 13.8949549437\n",
        "0.0625055192527"
       ]
      },
      {
       "output_type": "stream",
       "stream": "stdout",
       "text": [
        " 15.9985871961\n",
        "0.0625055192527"
       ]
      },
      {
       "output_type": "stream",
       "stream": "stdout",
       "text": [
        " 18.4206996933\n",
        "0.0625055192527"
       ]
      },
      {
       "output_type": "stream",
       "stream": "stdout",
       "text": [
        " 21.2095088792\n",
        "0.0625055192527"
       ]
      },
      {
       "output_type": "stream",
       "stream": "stdout",
       "text": [
        " 24.4205309455\n",
        "0.0625055192527"
       ]
      },
      {
       "output_type": "stream",
       "stream": "stdout",
       "text": [
        " 28.1176869797\n",
        "0.0625055192527"
       ]
      },
      {
       "output_type": "stream",
       "stream": "stdout",
       "text": [
        " 32.3745754282\n",
        "0.0625055192527"
       ]
      },
      {
       "output_type": "stream",
       "stream": "stdout",
       "text": [
        " 37.2759372031\n",
        "0.0625055192527"
       ]
      },
      {
       "output_type": "stream",
       "stream": "stdout",
       "text": [
        " 42.9193426013\n",
        "0.0625055192527"
       ]
      },
      {
       "output_type": "stream",
       "stream": "stdout",
       "text": [
        " 49.4171336132\n",
        "0.0625055192527"
       ]
      },
      {
       "output_type": "stream",
       "stream": "stdout",
       "text": [
        " 56.8986602902\n",
        "0.0625055192527"
       ]
      },
      {
       "output_type": "stream",
       "stream": "stdout",
       "text": [
        " 65.512855686\n",
        "0.0625055192527"
       ]
      },
      {
       "output_type": "stream",
       "stream": "stdout",
       "text": [
        " 75.4312006335\n",
        "0.0625055192527"
       ]
      },
      {
       "output_type": "stream",
       "stream": "stdout",
       "text": [
        " 86.8511373751\n",
        "0.0625055192527"
       ]
      },
      {
       "output_type": "stream",
       "stream": "stdout",
       "text": [
        " 100.0\n",
        "0.104811313415"
       ]
      },
      {
       "output_type": "stream",
       "stream": "stdout",
       "text": [
        " 0.1\n",
        "0.104811313415"
       ]
      },
      {
       "output_type": "stream",
       "stream": "stdout",
       "text": [
        " 0.115139539933\n",
        "0.104811313415"
       ]
      },
      {
       "output_type": "stream",
       "stream": "stdout",
       "text": [
        " 0.132571136559\n",
        "0.104811313415"
       ]
      },
      {
       "output_type": "stream",
       "stream": "stdout",
       "text": [
        " 0.152641796718\n",
        "0.104811313415"
       ]
      },
      {
       "output_type": "stream",
       "stream": "stdout",
       "text": [
        " 0.175751062485\n",
        "0.104811313415"
       ]
      },
      {
       "output_type": "stream",
       "stream": "stdout",
       "text": [
        " 0.202358964773\n",
        "0.104811313415"
       ]
      },
      {
       "output_type": "stream",
       "stream": "stdout",
       "text": [
        " 0.232995181052\n",
        "0.104811313415"
       ]
      },
      {
       "output_type": "stream",
       "stream": "stdout",
       "text": [
        " 0.268269579528\n",
        "0.104811313415"
       ]
      },
      {
       "output_type": "stream",
       "stream": "stdout",
       "text": [
        " 0.308884359648\n",
        "0.104811313415"
       ]
      },
      {
       "output_type": "stream",
       "stream": "stdout",
       "text": [
        " 0.355648030622\n",
        "0.104811313415"
       ]
      },
      {
       "output_type": "stream",
       "stream": "stdout",
       "text": [
        " 0.409491506238\n",
        "0.104811313415"
       ]
      },
      {
       "output_type": "stream",
       "stream": "stdout",
       "text": [
        " 0.471486636346\n",
        "0.104811313415"
       ]
      },
      {
       "output_type": "stream",
       "stream": "stdout",
       "text": [
        " 0.542867543932\n",
        "0.104811313415"
       ]
      },
      {
       "output_type": "stream",
       "stream": "stdout",
       "text": [
        " 0.625055192527\n",
        "0.104811313415"
       ]
      },
      {
       "output_type": "stream",
       "stream": "stdout",
       "text": [
        " 0.719685673001\n",
        "0.104811313415"
       ]
      },
      {
       "output_type": "stream",
       "stream": "stdout",
       "text": [
        " 0.828642772855\n",
        "0.104811313415"
       ]
      },
      {
       "output_type": "stream",
       "stream": "stdout",
       "text": [
        " 0.95409547635\n",
        "0.104811313415"
       ]
      },
      {
       "output_type": "stream",
       "stream": "stdout",
       "text": [
        " 1.09854114199\n",
        "0.104811313415"
       ]
      },
      {
       "output_type": "stream",
       "stream": "stdout",
       "text": [
        " 1.26485521686\n",
        "0.104811313415"
       ]
      },
      {
       "output_type": "stream",
       "stream": "stdout",
       "text": [
        " 1.4563484775\n",
        "0.104811313415"
       ]
      },
      {
       "output_type": "stream",
       "stream": "stdout",
       "text": [
        " 1.67683293681\n",
        "0.104811313415"
       ]
      },
      {
       "output_type": "stream",
       "stream": "stdout",
       "text": [
        " 1.93069772888\n",
        "0.104811313415"
       ]
      },
      {
       "output_type": "stream",
       "stream": "stdout",
       "text": [
        " 2.22299648253\n",
        "0.104811313415"
       ]
      },
      {
       "output_type": "stream",
       "stream": "stdout",
       "text": [
        " 2.5595479227\n",
        "0.104811313415"
       ]
      },
      {
       "output_type": "stream",
       "stream": "stdout",
       "text": [
        " 2.94705170255\n",
        "0.104811313415"
       ]
      },
      {
       "output_type": "stream",
       "stream": "stdout",
       "text": [
        " 3.3932217719\n",
        "0.104811313415"
       ]
      },
      {
       "output_type": "stream",
       "stream": "stdout",
       "text": [
        " 3.90693993705\n",
        "0.104811313415"
       ]
      },
      {
       "output_type": "stream",
       "stream": "stdout",
       "text": [
        " 4.49843266897\n",
        "0.104811313415"
       ]
      },
      {
       "output_type": "stream",
       "stream": "stdout",
       "text": [
        " 5.17947467923\n",
        "0.104811313415"
       ]
      },
      {
       "output_type": "stream",
       "stream": "stdout",
       "text": [
        " 5.96362331659\n",
        "0.104811313415"
       ]
      },
      {
       "output_type": "stream",
       "stream": "stdout",
       "text": [
        " 6.86648845004\n",
        "0.104811313415"
       ]
      },
      {
       "output_type": "stream",
       "stream": "stdout",
       "text": [
        " 7.90604321091\n",
        "0.104811313415"
       ]
      },
      {
       "output_type": "stream",
       "stream": "stdout",
       "text": [
        " 9.10298177992\n",
        "0.104811313415"
       ]
      },
      {
       "output_type": "stream",
       "stream": "stdout",
       "text": [
        " 10.4811313415\n",
        "0.104811313415"
       ]
      },
      {
       "output_type": "stream",
       "stream": "stdout",
       "text": [
        " 12.0679264064\n",
        "0.104811313415"
       ]
      },
      {
       "output_type": "stream",
       "stream": "stdout",
       "text": [
        " 13.8949549437\n",
        "0.104811313415"
       ]
      },
      {
       "output_type": "stream",
       "stream": "stdout",
       "text": [
        " 15.9985871961\n",
        "0.104811313415"
       ]
      },
      {
       "output_type": "stream",
       "stream": "stdout",
       "text": [
        " 18.4206996933\n",
        "0.104811313415"
       ]
      },
      {
       "output_type": "stream",
       "stream": "stdout",
       "text": [
        " 21.2095088792\n",
        "0.104811313415"
       ]
      },
      {
       "output_type": "stream",
       "stream": "stdout",
       "text": [
        " 24.4205309455\n",
        "0.104811313415"
       ]
      },
      {
       "output_type": "stream",
       "stream": "stdout",
       "text": [
        " 28.1176869797\n",
        "0.104811313415"
       ]
      },
      {
       "output_type": "stream",
       "stream": "stdout",
       "text": [
        " 32.3745754282\n",
        "0.104811313415"
       ]
      },
      {
       "output_type": "stream",
       "stream": "stdout",
       "text": [
        " 37.2759372031\n",
        "0.104811313415"
       ]
      },
      {
       "output_type": "stream",
       "stream": "stdout",
       "text": [
        " 42.9193426013\n",
        "0.104811313415"
       ]
      },
      {
       "output_type": "stream",
       "stream": "stdout",
       "text": [
        " 49.4171336132\n",
        "0.104811313415"
       ]
      },
      {
       "output_type": "stream",
       "stream": "stdout",
       "text": [
        " 56.8986602902\n",
        "0.104811313415"
       ]
      },
      {
       "output_type": "stream",
       "stream": "stdout",
       "text": [
        " 65.512855686\n",
        "0.104811313415"
       ]
      },
      {
       "output_type": "stream",
       "stream": "stdout",
       "text": [
        " 75.4312006335\n",
        "0.104811313415"
       ]
      },
      {
       "output_type": "stream",
       "stream": "stdout",
       "text": [
        " 86.8511373751\n",
        "0.104811313415"
       ]
      },
      {
       "output_type": "stream",
       "stream": "stdout",
       "text": [
        " 100.0\n",
        "0.175751062485"
       ]
      },
      {
       "output_type": "stream",
       "stream": "stdout",
       "text": [
        " 0.1\n",
        "0.175751062485"
       ]
      },
      {
       "output_type": "stream",
       "stream": "stdout",
       "text": [
        " 0.115139539933\n",
        "0.175751062485"
       ]
      },
      {
       "output_type": "stream",
       "stream": "stdout",
       "text": [
        " 0.132571136559\n",
        "0.175751062485"
       ]
      },
      {
       "output_type": "stream",
       "stream": "stdout",
       "text": [
        " 0.152641796718\n",
        "0.175751062485"
       ]
      },
      {
       "output_type": "stream",
       "stream": "stdout",
       "text": [
        " 0.175751062485\n",
        "0.175751062485"
       ]
      },
      {
       "output_type": "stream",
       "stream": "stdout",
       "text": [
        " 0.202358964773\n",
        "0.175751062485"
       ]
      },
      {
       "output_type": "stream",
       "stream": "stdout",
       "text": [
        " 0.232995181052\n",
        "0.175751062485"
       ]
      },
      {
       "output_type": "stream",
       "stream": "stdout",
       "text": [
        " 0.268269579528\n",
        "0.175751062485"
       ]
      },
      {
       "output_type": "stream",
       "stream": "stdout",
       "text": [
        " 0.308884359648\n",
        "0.175751062485"
       ]
      },
      {
       "output_type": "stream",
       "stream": "stdout",
       "text": [
        " 0.355648030622\n",
        "0.175751062485"
       ]
      },
      {
       "output_type": "stream",
       "stream": "stdout",
       "text": [
        " 0.409491506238\n",
        "0.175751062485"
       ]
      },
      {
       "output_type": "stream",
       "stream": "stdout",
       "text": [
        " 0.471486636346\n",
        "0.175751062485"
       ]
      },
      {
       "output_type": "stream",
       "stream": "stdout",
       "text": [
        " 0.542867543932\n",
        "0.175751062485"
       ]
      },
      {
       "output_type": "stream",
       "stream": "stdout",
       "text": [
        " 0.625055192527\n",
        "0.175751062485"
       ]
      },
      {
       "output_type": "stream",
       "stream": "stdout",
       "text": [
        " 0.719685673001\n",
        "0.175751062485"
       ]
      },
      {
       "output_type": "stream",
       "stream": "stdout",
       "text": [
        " 0.828642772855\n",
        "0.175751062485"
       ]
      },
      {
       "output_type": "stream",
       "stream": "stdout",
       "text": [
        " 0.95409547635\n",
        "0.175751062485"
       ]
      },
      {
       "output_type": "stream",
       "stream": "stdout",
       "text": [
        " 1.09854114199\n",
        "0.175751062485"
       ]
      },
      {
       "output_type": "stream",
       "stream": "stdout",
       "text": [
        " 1.26485521686\n",
        "0.175751062485"
       ]
      },
      {
       "output_type": "stream",
       "stream": "stdout",
       "text": [
        " 1.4563484775\n",
        "0.175751062485"
       ]
      },
      {
       "output_type": "stream",
       "stream": "stdout",
       "text": [
        " 1.67683293681\n",
        "0.175751062485"
       ]
      },
      {
       "output_type": "stream",
       "stream": "stdout",
       "text": [
        " 1.93069772888\n",
        "0.175751062485"
       ]
      },
      {
       "output_type": "stream",
       "stream": "stdout",
       "text": [
        " 2.22299648253\n",
        "0.175751062485"
       ]
      },
      {
       "output_type": "stream",
       "stream": "stdout",
       "text": [
        " 2.5595479227\n",
        "0.175751062485"
       ]
      },
      {
       "output_type": "stream",
       "stream": "stdout",
       "text": [
        " 2.94705170255\n",
        "0.175751062485"
       ]
      },
      {
       "output_type": "stream",
       "stream": "stdout",
       "text": [
        " 3.3932217719\n",
        "0.175751062485"
       ]
      },
      {
       "output_type": "stream",
       "stream": "stdout",
       "text": [
        " 3.90693993705\n",
        "0.175751062485"
       ]
      },
      {
       "output_type": "stream",
       "stream": "stdout",
       "text": [
        " 4.49843266897\n",
        "0.175751062485"
       ]
      },
      {
       "output_type": "stream",
       "stream": "stdout",
       "text": [
        " 5.17947467923\n",
        "0.175751062485"
       ]
      },
      {
       "output_type": "stream",
       "stream": "stdout",
       "text": [
        " 5.96362331659\n",
        "0.175751062485"
       ]
      },
      {
       "output_type": "stream",
       "stream": "stdout",
       "text": [
        " 6.86648845004\n",
        "0.175751062485"
       ]
      },
      {
       "output_type": "stream",
       "stream": "stdout",
       "text": [
        " 7.90604321091\n",
        "0.175751062485"
       ]
      },
      {
       "output_type": "stream",
       "stream": "stdout",
       "text": [
        " 9.10298177992\n",
        "0.175751062485"
       ]
      },
      {
       "output_type": "stream",
       "stream": "stdout",
       "text": [
        " 10.4811313415\n",
        "0.175751062485"
       ]
      },
      {
       "output_type": "stream",
       "stream": "stdout",
       "text": [
        " 12.0679264064\n",
        "0.175751062485"
       ]
      },
      {
       "output_type": "stream",
       "stream": "stdout",
       "text": [
        " 13.8949549437\n",
        "0.175751062485"
       ]
      },
      {
       "output_type": "stream",
       "stream": "stdout",
       "text": [
        " 15.9985871961\n",
        "0.175751062485"
       ]
      },
      {
       "output_type": "stream",
       "stream": "stdout",
       "text": [
        " 18.4206996933\n",
        "0.175751062485"
       ]
      },
      {
       "output_type": "stream",
       "stream": "stdout",
       "text": [
        " 21.2095088792\n",
        "0.175751062485"
       ]
      },
      {
       "output_type": "stream",
       "stream": "stdout",
       "text": [
        " 24.4205309455\n",
        "0.175751062485"
       ]
      },
      {
       "output_type": "stream",
       "stream": "stdout",
       "text": [
        " 28.1176869797\n",
        "0.175751062485"
       ]
      },
      {
       "output_type": "stream",
       "stream": "stdout",
       "text": [
        " 32.3745754282\n",
        "0.175751062485"
       ]
      },
      {
       "output_type": "stream",
       "stream": "stdout",
       "text": [
        " 37.2759372031\n",
        "0.175751062485"
       ]
      },
      {
       "output_type": "stream",
       "stream": "stdout",
       "text": [
        " 42.9193426013\n",
        "0.175751062485"
       ]
      },
      {
       "output_type": "stream",
       "stream": "stdout",
       "text": [
        " 49.4171336132\n",
        "0.175751062485"
       ]
      },
      {
       "output_type": "stream",
       "stream": "stdout",
       "text": [
        " 56.8986602902\n",
        "0.175751062485"
       ]
      },
      {
       "output_type": "stream",
       "stream": "stdout",
       "text": [
        " 65.512855686\n",
        "0.175751062485"
       ]
      },
      {
       "output_type": "stream",
       "stream": "stdout",
       "text": [
        " 75.4312006335\n",
        "0.175751062485"
       ]
      },
      {
       "output_type": "stream",
       "stream": "stdout",
       "text": [
        " 86.8511373751\n",
        "0.175751062485"
       ]
      },
      {
       "output_type": "stream",
       "stream": "stdout",
       "text": [
        " 100.0\n",
        "0.294705170255"
       ]
      },
      {
       "output_type": "stream",
       "stream": "stdout",
       "text": [
        " 0.1\n",
        "0.294705170255"
       ]
      },
      {
       "output_type": "stream",
       "stream": "stdout",
       "text": [
        " 0.115139539933\n",
        "0.294705170255"
       ]
      },
      {
       "output_type": "stream",
       "stream": "stdout",
       "text": [
        " 0.132571136559\n",
        "0.294705170255"
       ]
      },
      {
       "output_type": "stream",
       "stream": "stdout",
       "text": [
        " 0.152641796718\n",
        "0.294705170255"
       ]
      },
      {
       "output_type": "stream",
       "stream": "stdout",
       "text": [
        " 0.175751062485\n",
        "0.294705170255"
       ]
      },
      {
       "output_type": "stream",
       "stream": "stdout",
       "text": [
        " 0.202358964773\n",
        "0.294705170255"
       ]
      },
      {
       "output_type": "stream",
       "stream": "stdout",
       "text": [
        " 0.232995181052\n",
        "0.294705170255"
       ]
      },
      {
       "output_type": "stream",
       "stream": "stdout",
       "text": [
        " 0.268269579528\n",
        "0.294705170255"
       ]
      },
      {
       "output_type": "stream",
       "stream": "stdout",
       "text": [
        " 0.308884359648\n",
        "0.294705170255"
       ]
      },
      {
       "output_type": "stream",
       "stream": "stdout",
       "text": [
        " 0.355648030622\n",
        "0.294705170255"
       ]
      },
      {
       "output_type": "stream",
       "stream": "stdout",
       "text": [
        " 0.409491506238\n",
        "0.294705170255"
       ]
      },
      {
       "output_type": "stream",
       "stream": "stdout",
       "text": [
        " 0.471486636346\n",
        "0.294705170255"
       ]
      },
      {
       "output_type": "stream",
       "stream": "stdout",
       "text": [
        " 0.542867543932\n",
        "0.294705170255"
       ]
      },
      {
       "output_type": "stream",
       "stream": "stdout",
       "text": [
        " 0.625055192527\n",
        "0.294705170255"
       ]
      },
      {
       "output_type": "stream",
       "stream": "stdout",
       "text": [
        " 0.719685673001\n",
        "0.294705170255"
       ]
      },
      {
       "output_type": "stream",
       "stream": "stdout",
       "text": [
        " 0.828642772855\n",
        "0.294705170255"
       ]
      },
      {
       "output_type": "stream",
       "stream": "stdout",
       "text": [
        " 0.95409547635\n",
        "0.294705170255"
       ]
      },
      {
       "output_type": "stream",
       "stream": "stdout",
       "text": [
        " 1.09854114199\n",
        "0.294705170255"
       ]
      },
      {
       "output_type": "stream",
       "stream": "stdout",
       "text": [
        " 1.26485521686\n",
        "0.294705170255"
       ]
      },
      {
       "output_type": "stream",
       "stream": "stdout",
       "text": [
        " 1.4563484775\n",
        "0.294705170255"
       ]
      },
      {
       "output_type": "stream",
       "stream": "stdout",
       "text": [
        " 1.67683293681\n",
        "0.294705170255"
       ]
      },
      {
       "output_type": "stream",
       "stream": "stdout",
       "text": [
        " 1.93069772888\n",
        "0.294705170255"
       ]
      },
      {
       "output_type": "stream",
       "stream": "stdout",
       "text": [
        " 2.22299648253\n",
        "0.294705170255"
       ]
      },
      {
       "output_type": "stream",
       "stream": "stdout",
       "text": [
        " 2.5595479227\n",
        "0.294705170255"
       ]
      },
      {
       "output_type": "stream",
       "stream": "stdout",
       "text": [
        " 2.94705170255\n",
        "0.294705170255"
       ]
      },
      {
       "output_type": "stream",
       "stream": "stdout",
       "text": [
        " 3.3932217719\n",
        "0.294705170255"
       ]
      },
      {
       "output_type": "stream",
       "stream": "stdout",
       "text": [
        " 3.90693993705\n",
        "0.294705170255"
       ]
      },
      {
       "output_type": "stream",
       "stream": "stdout",
       "text": [
        " 4.49843266897\n",
        "0.294705170255"
       ]
      },
      {
       "output_type": "stream",
       "stream": "stdout",
       "text": [
        " 5.17947467923\n",
        "0.294705170255"
       ]
      },
      {
       "output_type": "stream",
       "stream": "stdout",
       "text": [
        " 5.96362331659\n",
        "0.294705170255"
       ]
      },
      {
       "output_type": "stream",
       "stream": "stdout",
       "text": [
        " 6.86648845004\n",
        "0.294705170255"
       ]
      },
      {
       "output_type": "stream",
       "stream": "stdout",
       "text": [
        " 7.90604321091\n",
        "0.294705170255"
       ]
      },
      {
       "output_type": "stream",
       "stream": "stdout",
       "text": [
        " 9.10298177992\n",
        "0.294705170255"
       ]
      },
      {
       "output_type": "stream",
       "stream": "stdout",
       "text": [
        " 10.4811313415\n",
        "0.294705170255"
       ]
      },
      {
       "output_type": "stream",
       "stream": "stdout",
       "text": [
        " 12.0679264064\n",
        "0.294705170255"
       ]
      },
      {
       "output_type": "stream",
       "stream": "stdout",
       "text": [
        " 13.8949549437\n",
        "0.294705170255"
       ]
      },
      {
       "output_type": "stream",
       "stream": "stdout",
       "text": [
        " 15.9985871961\n",
        "0.294705170255"
       ]
      },
      {
       "output_type": "stream",
       "stream": "stdout",
       "text": [
        " 18.4206996933\n",
        "0.294705170255"
       ]
      },
      {
       "output_type": "stream",
       "stream": "stdout",
       "text": [
        " 21.2095088792\n",
        "0.294705170255"
       ]
      },
      {
       "output_type": "stream",
       "stream": "stdout",
       "text": [
        " 24.4205309455\n",
        "0.294705170255"
       ]
      },
      {
       "output_type": "stream",
       "stream": "stdout",
       "text": [
        " 28.1176869797\n",
        "0.294705170255"
       ]
      },
      {
       "output_type": "stream",
       "stream": "stdout",
       "text": [
        " 32.3745754282\n",
        "0.294705170255"
       ]
      },
      {
       "output_type": "stream",
       "stream": "stdout",
       "text": [
        " 37.2759372031\n",
        "0.294705170255"
       ]
      },
      {
       "output_type": "stream",
       "stream": "stdout",
       "text": [
        " 42.9193426013\n",
        "0.294705170255"
       ]
      },
      {
       "output_type": "stream",
       "stream": "stdout",
       "text": [
        " 49.4171336132\n",
        "0.294705170255"
       ]
      },
      {
       "output_type": "stream",
       "stream": "stdout",
       "text": [
        " 56.8986602902\n",
        "0.294705170255"
       ]
      },
      {
       "output_type": "stream",
       "stream": "stdout",
       "text": [
        " 65.512855686\n",
        "0.294705170255"
       ]
      },
      {
       "output_type": "stream",
       "stream": "stdout",
       "text": [
        " 75.4312006335\n",
        "0.294705170255"
       ]
      },
      {
       "output_type": "stream",
       "stream": "stdout",
       "text": [
        " 86.8511373751\n",
        "0.294705170255"
       ]
      },
      {
       "output_type": "stream",
       "stream": "stdout",
       "text": [
        " 100.0\n",
        "0.494171336132"
       ]
      },
      {
       "output_type": "stream",
       "stream": "stdout",
       "text": [
        " 0.1\n",
        "0.494171336132"
       ]
      },
      {
       "output_type": "stream",
       "stream": "stdout",
       "text": [
        " 0.115139539933\n",
        "0.494171336132"
       ]
      },
      {
       "output_type": "stream",
       "stream": "stdout",
       "text": [
        " 0.132571136559\n",
        "0.494171336132"
       ]
      },
      {
       "output_type": "stream",
       "stream": "stdout",
       "text": [
        " 0.152641796718\n",
        "0.494171336132"
       ]
      },
      {
       "output_type": "stream",
       "stream": "stdout",
       "text": [
        " 0.175751062485\n",
        "0.494171336132"
       ]
      },
      {
       "output_type": "stream",
       "stream": "stdout",
       "text": [
        " 0.202358964773\n",
        "0.494171336132"
       ]
      },
      {
       "output_type": "stream",
       "stream": "stdout",
       "text": [
        " 0.232995181052\n",
        "0.494171336132"
       ]
      },
      {
       "output_type": "stream",
       "stream": "stdout",
       "text": [
        " 0.268269579528\n",
        "0.494171336132"
       ]
      },
      {
       "output_type": "stream",
       "stream": "stdout",
       "text": [
        " 0.308884359648\n",
        "0.494171336132"
       ]
      },
      {
       "output_type": "stream",
       "stream": "stdout",
       "text": [
        " 0.355648030622\n",
        "0.494171336132"
       ]
      },
      {
       "output_type": "stream",
       "stream": "stdout",
       "text": [
        " 0.409491506238\n",
        "0.494171336132"
       ]
      },
      {
       "output_type": "stream",
       "stream": "stdout",
       "text": [
        " 0.471486636346\n",
        "0.494171336132"
       ]
      },
      {
       "output_type": "stream",
       "stream": "stdout",
       "text": [
        " 0.542867543932\n",
        "0.494171336132"
       ]
      },
      {
       "output_type": "stream",
       "stream": "stdout",
       "text": [
        " 0.625055192527\n",
        "0.494171336132"
       ]
      },
      {
       "output_type": "stream",
       "stream": "stdout",
       "text": [
        " 0.719685673001\n",
        "0.494171336132"
       ]
      },
      {
       "output_type": "stream",
       "stream": "stdout",
       "text": [
        " 0.828642772855\n",
        "0.494171336132"
       ]
      },
      {
       "output_type": "stream",
       "stream": "stdout",
       "text": [
        " 0.95409547635\n",
        "0.494171336132"
       ]
      },
      {
       "output_type": "stream",
       "stream": "stdout",
       "text": [
        " 1.09854114199\n",
        "0.494171336132"
       ]
      },
      {
       "output_type": "stream",
       "stream": "stdout",
       "text": [
        " 1.26485521686\n",
        "0.494171336132"
       ]
      },
      {
       "output_type": "stream",
       "stream": "stdout",
       "text": [
        " 1.4563484775\n",
        "0.494171336132"
       ]
      },
      {
       "output_type": "stream",
       "stream": "stdout",
       "text": [
        " 1.67683293681\n",
        "0.494171336132"
       ]
      },
      {
       "output_type": "stream",
       "stream": "stdout",
       "text": [
        " 1.93069772888\n",
        "0.494171336132"
       ]
      },
      {
       "output_type": "stream",
       "stream": "stdout",
       "text": [
        " 2.22299648253\n",
        "0.494171336132"
       ]
      },
      {
       "output_type": "stream",
       "stream": "stdout",
       "text": [
        " 2.5595479227\n",
        "0.494171336132"
       ]
      },
      {
       "output_type": "stream",
       "stream": "stdout",
       "text": [
        " 2.94705170255\n",
        "0.494171336132"
       ]
      },
      {
       "output_type": "stream",
       "stream": "stdout",
       "text": [
        " 3.3932217719\n",
        "0.494171336132"
       ]
      },
      {
       "output_type": "stream",
       "stream": "stdout",
       "text": [
        " 3.90693993705\n",
        "0.494171336132"
       ]
      },
      {
       "output_type": "stream",
       "stream": "stdout",
       "text": [
        " 4.49843266897\n",
        "0.494171336132"
       ]
      },
      {
       "output_type": "stream",
       "stream": "stdout",
       "text": [
        " 5.17947467923\n",
        "0.494171336132"
       ]
      },
      {
       "output_type": "stream",
       "stream": "stdout",
       "text": [
        " 5.96362331659\n",
        "0.494171336132"
       ]
      },
      {
       "output_type": "stream",
       "stream": "stdout",
       "text": [
        " 6.86648845004\n",
        "0.494171336132"
       ]
      },
      {
       "output_type": "stream",
       "stream": "stdout",
       "text": [
        " 7.90604321091\n",
        "0.494171336132"
       ]
      },
      {
       "output_type": "stream",
       "stream": "stdout",
       "text": [
        " 9.10298177992\n",
        "0.494171336132"
       ]
      },
      {
       "output_type": "stream",
       "stream": "stdout",
       "text": [
        " 10.4811313415\n",
        "0.494171336132"
       ]
      },
      {
       "output_type": "stream",
       "stream": "stdout",
       "text": [
        " 12.0679264064\n",
        "0.494171336132"
       ]
      },
      {
       "output_type": "stream",
       "stream": "stdout",
       "text": [
        " 13.8949549437\n",
        "0.494171336132"
       ]
      },
      {
       "output_type": "stream",
       "stream": "stdout",
       "text": [
        " 15.9985871961\n",
        "0.494171336132"
       ]
      },
      {
       "output_type": "stream",
       "stream": "stdout",
       "text": [
        " 18.4206996933\n",
        "0.494171336132"
       ]
      },
      {
       "output_type": "stream",
       "stream": "stdout",
       "text": [
        " 21.2095088792\n",
        "0.494171336132"
       ]
      },
      {
       "output_type": "stream",
       "stream": "stdout",
       "text": [
        " 24.4205309455\n",
        "0.494171336132"
       ]
      },
      {
       "output_type": "stream",
       "stream": "stdout",
       "text": [
        " 28.1176869797\n",
        "0.494171336132"
       ]
      },
      {
       "output_type": "stream",
       "stream": "stdout",
       "text": [
        " 32.3745754282\n",
        "0.494171336132"
       ]
      },
      {
       "output_type": "stream",
       "stream": "stdout",
       "text": [
        " 37.2759372031\n",
        "0.494171336132"
       ]
      },
      {
       "output_type": "stream",
       "stream": "stdout",
       "text": [
        " 42.9193426013\n",
        "0.494171336132"
       ]
      },
      {
       "output_type": "stream",
       "stream": "stdout",
       "text": [
        " 49.4171336132\n",
        "0.494171336132"
       ]
      },
      {
       "output_type": "stream",
       "stream": "stdout",
       "text": [
        " 56.8986602902\n",
        "0.494171336132"
       ]
      },
      {
       "output_type": "stream",
       "stream": "stdout",
       "text": [
        " 65.512855686\n",
        "0.494171336132"
       ]
      },
      {
       "output_type": "stream",
       "stream": "stdout",
       "text": [
        " 75.4312006335\n",
        "0.494171336132"
       ]
      },
      {
       "output_type": "stream",
       "stream": "stdout",
       "text": [
        " 86.8511373751\n",
        "0.494171336132"
       ]
      },
      {
       "output_type": "stream",
       "stream": "stdout",
       "text": [
        " 100.0\n",
        "0.828642772855"
       ]
      },
      {
       "output_type": "stream",
       "stream": "stdout",
       "text": [
        " 0.1\n",
        "0.828642772855"
       ]
      },
      {
       "output_type": "stream",
       "stream": "stdout",
       "text": [
        " 0.115139539933\n",
        "0.828642772855"
       ]
      },
      {
       "output_type": "stream",
       "stream": "stdout",
       "text": [
        " 0.132571136559\n",
        "0.828642772855"
       ]
      },
      {
       "output_type": "stream",
       "stream": "stdout",
       "text": [
        " 0.152641796718\n",
        "0.828642772855"
       ]
      },
      {
       "output_type": "stream",
       "stream": "stdout",
       "text": [
        " 0.175751062485\n",
        "0.828642772855"
       ]
      },
      {
       "output_type": "stream",
       "stream": "stdout",
       "text": [
        " 0.202358964773\n",
        "0.828642772855"
       ]
      },
      {
       "output_type": "stream",
       "stream": "stdout",
       "text": [
        " 0.232995181052\n",
        "0.828642772855"
       ]
      },
      {
       "output_type": "stream",
       "stream": "stdout",
       "text": [
        " 0.268269579528\n",
        "0.828642772855"
       ]
      },
      {
       "output_type": "stream",
       "stream": "stdout",
       "text": [
        " 0.308884359648\n",
        "0.828642772855"
       ]
      },
      {
       "output_type": "stream",
       "stream": "stdout",
       "text": [
        " 0.355648030622\n",
        "0.828642772855"
       ]
      },
      {
       "output_type": "stream",
       "stream": "stdout",
       "text": [
        " 0.409491506238\n",
        "0.828642772855"
       ]
      },
      {
       "output_type": "stream",
       "stream": "stdout",
       "text": [
        " 0.471486636346\n",
        "0.828642772855"
       ]
      },
      {
       "output_type": "stream",
       "stream": "stdout",
       "text": [
        " 0.542867543932\n",
        "0.828642772855"
       ]
      },
      {
       "output_type": "stream",
       "stream": "stdout",
       "text": [
        " 0.625055192527\n",
        "0.828642772855"
       ]
      },
      {
       "output_type": "stream",
       "stream": "stdout",
       "text": [
        " 0.719685673001\n",
        "0.828642772855"
       ]
      },
      {
       "output_type": "stream",
       "stream": "stdout",
       "text": [
        " 0.828642772855\n",
        "0.828642772855"
       ]
      },
      {
       "output_type": "stream",
       "stream": "stdout",
       "text": [
        " 0.95409547635\n",
        "0.828642772855"
       ]
      },
      {
       "output_type": "stream",
       "stream": "stdout",
       "text": [
        " 1.09854114199\n",
        "0.828642772855"
       ]
      },
      {
       "output_type": "stream",
       "stream": "stdout",
       "text": [
        " 1.26485521686\n",
        "0.828642772855"
       ]
      },
      {
       "output_type": "stream",
       "stream": "stdout",
       "text": [
        " 1.4563484775\n",
        "0.828642772855"
       ]
      },
      {
       "output_type": "stream",
       "stream": "stdout",
       "text": [
        " 1.67683293681\n",
        "0.828642772855"
       ]
      },
      {
       "output_type": "stream",
       "stream": "stdout",
       "text": [
        " 1.93069772888\n",
        "0.828642772855"
       ]
      },
      {
       "output_type": "stream",
       "stream": "stdout",
       "text": [
        " 2.22299648253\n",
        "0.828642772855"
       ]
      },
      {
       "output_type": "stream",
       "stream": "stdout",
       "text": [
        " 2.5595479227\n",
        "0.828642772855"
       ]
      },
      {
       "output_type": "stream",
       "stream": "stdout",
       "text": [
        " 2.94705170255\n",
        "0.828642772855"
       ]
      },
      {
       "output_type": "stream",
       "stream": "stdout",
       "text": [
        " 3.3932217719\n",
        "0.828642772855"
       ]
      },
      {
       "output_type": "stream",
       "stream": "stdout",
       "text": [
        " 3.90693993705\n",
        "0.828642772855"
       ]
      },
      {
       "output_type": "stream",
       "stream": "stdout",
       "text": [
        " 4.49843266897\n",
        "0.828642772855"
       ]
      },
      {
       "output_type": "stream",
       "stream": "stdout",
       "text": [
        " 5.17947467923\n",
        "0.828642772855"
       ]
      },
      {
       "output_type": "stream",
       "stream": "stdout",
       "text": [
        " 5.96362331659\n",
        "0.828642772855"
       ]
      },
      {
       "output_type": "stream",
       "stream": "stdout",
       "text": [
        " 6.86648845004\n",
        "0.828642772855"
       ]
      },
      {
       "output_type": "stream",
       "stream": "stdout",
       "text": [
        " 7.90604321091\n",
        "0.828642772855"
       ]
      },
      {
       "output_type": "stream",
       "stream": "stdout",
       "text": [
        " 9.10298177992\n",
        "0.828642772855"
       ]
      },
      {
       "output_type": "stream",
       "stream": "stdout",
       "text": [
        " 10.4811313415\n",
        "0.828642772855"
       ]
      },
      {
       "output_type": "stream",
       "stream": "stdout",
       "text": [
        " 12.0679264064\n",
        "0.828642772855"
       ]
      },
      {
       "output_type": "stream",
       "stream": "stdout",
       "text": [
        " 13.8949549437\n",
        "0.828642772855"
       ]
      },
      {
       "output_type": "stream",
       "stream": "stdout",
       "text": [
        " 15.9985871961\n",
        "0.828642772855"
       ]
      },
      {
       "output_type": "stream",
       "stream": "stdout",
       "text": [
        " 18.4206996933\n",
        "0.828642772855"
       ]
      },
      {
       "output_type": "stream",
       "stream": "stdout",
       "text": [
        " 21.2095088792\n",
        "0.828642772855"
       ]
      },
      {
       "output_type": "stream",
       "stream": "stdout",
       "text": [
        " 24.4205309455\n",
        "0.828642772855"
       ]
      },
      {
       "output_type": "stream",
       "stream": "stdout",
       "text": [
        " 28.1176869797\n",
        "0.828642772855"
       ]
      },
      {
       "output_type": "stream",
       "stream": "stdout",
       "text": [
        " 32.3745754282\n",
        "0.828642772855"
       ]
      },
      {
       "output_type": "stream",
       "stream": "stdout",
       "text": [
        " 37.2759372031\n",
        "0.828642772855"
       ]
      },
      {
       "output_type": "stream",
       "stream": "stdout",
       "text": [
        " 42.9193426013\n",
        "0.828642772855"
       ]
      },
      {
       "output_type": "stream",
       "stream": "stdout",
       "text": [
        " 49.4171336132\n",
        "0.828642772855"
       ]
      },
      {
       "output_type": "stream",
       "stream": "stdout",
       "text": [
        " 56.8986602902\n",
        "0.828642772855"
       ]
      },
      {
       "output_type": "stream",
       "stream": "stdout",
       "text": [
        " 65.512855686\n",
        "0.828642772855"
       ]
      },
      {
       "output_type": "stream",
       "stream": "stdout",
       "text": [
        " 75.4312006335\n",
        "0.828642772855"
       ]
      },
      {
       "output_type": "stream",
       "stream": "stdout",
       "text": [
        " 86.8511373751\n",
        "0.828642772855"
       ]
      },
      {
       "output_type": "stream",
       "stream": "stdout",
       "text": [
        " 100.0\n",
        "1.38949549437"
       ]
      },
      {
       "output_type": "stream",
       "stream": "stdout",
       "text": [
        " 0.1\n",
        "1.38949549437"
       ]
      },
      {
       "output_type": "stream",
       "stream": "stdout",
       "text": [
        " 0.115139539933\n",
        "1.38949549437"
       ]
      },
      {
       "output_type": "stream",
       "stream": "stdout",
       "text": [
        " 0.132571136559\n",
        "1.38949549437"
       ]
      },
      {
       "output_type": "stream",
       "stream": "stdout",
       "text": [
        " 0.152641796718\n",
        "1.38949549437"
       ]
      },
      {
       "output_type": "stream",
       "stream": "stdout",
       "text": [
        " 0.175751062485\n",
        "1.38949549437"
       ]
      },
      {
       "output_type": "stream",
       "stream": "stdout",
       "text": [
        " 0.202358964773\n",
        "1.38949549437"
       ]
      },
      {
       "output_type": "stream",
       "stream": "stdout",
       "text": [
        " 0.232995181052\n",
        "1.38949549437"
       ]
      },
      {
       "output_type": "stream",
       "stream": "stdout",
       "text": [
        " 0.268269579528\n",
        "1.38949549437"
       ]
      },
      {
       "output_type": "stream",
       "stream": "stdout",
       "text": [
        " 0.308884359648\n",
        "1.38949549437"
       ]
      },
      {
       "output_type": "stream",
       "stream": "stdout",
       "text": [
        " 0.355648030622\n",
        "1.38949549437"
       ]
      },
      {
       "output_type": "stream",
       "stream": "stdout",
       "text": [
        " 0.409491506238\n",
        "1.38949549437"
       ]
      },
      {
       "output_type": "stream",
       "stream": "stdout",
       "text": [
        " 0.471486636346\n",
        "1.38949549437"
       ]
      },
      {
       "output_type": "stream",
       "stream": "stdout",
       "text": [
        " 0.542867543932\n",
        "1.38949549437"
       ]
      },
      {
       "output_type": "stream",
       "stream": "stdout",
       "text": [
        " 0.625055192527\n",
        "1.38949549437"
       ]
      },
      {
       "output_type": "stream",
       "stream": "stdout",
       "text": [
        " 0.719685673001\n",
        "1.38949549437"
       ]
      },
      {
       "output_type": "stream",
       "stream": "stdout",
       "text": [
        " 0.828642772855\n",
        "1.38949549437"
       ]
      },
      {
       "output_type": "stream",
       "stream": "stdout",
       "text": [
        " 0.95409547635\n",
        "1.38949549437"
       ]
      },
      {
       "output_type": "stream",
       "stream": "stdout",
       "text": [
        " 1.09854114199\n",
        "1.38949549437"
       ]
      },
      {
       "output_type": "stream",
       "stream": "stdout",
       "text": [
        " 1.26485521686\n",
        "1.38949549437"
       ]
      },
      {
       "output_type": "stream",
       "stream": "stdout",
       "text": [
        " 1.4563484775\n",
        "1.38949549437"
       ]
      },
      {
       "output_type": "stream",
       "stream": "stdout",
       "text": [
        " 1.67683293681\n",
        "1.38949549437"
       ]
      },
      {
       "output_type": "stream",
       "stream": "stdout",
       "text": [
        " 1.93069772888\n",
        "1.38949549437"
       ]
      },
      {
       "output_type": "stream",
       "stream": "stdout",
       "text": [
        " 2.22299648253\n",
        "1.38949549437"
       ]
      },
      {
       "output_type": "stream",
       "stream": "stdout",
       "text": [
        " 2.5595479227\n",
        "1.38949549437"
       ]
      },
      {
       "output_type": "stream",
       "stream": "stdout",
       "text": [
        " 2.94705170255\n",
        "1.38949549437"
       ]
      },
      {
       "output_type": "stream",
       "stream": "stdout",
       "text": [
        " 3.3932217719\n",
        "1.38949549437"
       ]
      },
      {
       "output_type": "stream",
       "stream": "stdout",
       "text": [
        " 3.90693993705\n",
        "1.38949549437"
       ]
      },
      {
       "output_type": "stream",
       "stream": "stdout",
       "text": [
        " 4.49843266897\n",
        "1.38949549437"
       ]
      },
      {
       "output_type": "stream",
       "stream": "stdout",
       "text": [
        " 5.17947467923\n",
        "1.38949549437"
       ]
      },
      {
       "output_type": "stream",
       "stream": "stdout",
       "text": [
        " 5.96362331659\n",
        "1.38949549437"
       ]
      },
      {
       "output_type": "stream",
       "stream": "stdout",
       "text": [
        " 6.86648845004\n",
        "1.38949549437"
       ]
      },
      {
       "output_type": "stream",
       "stream": "stdout",
       "text": [
        " 7.90604321091\n",
        "1.38949549437"
       ]
      },
      {
       "output_type": "stream",
       "stream": "stdout",
       "text": [
        " 9.10298177992\n",
        "1.38949549437"
       ]
      },
      {
       "output_type": "stream",
       "stream": "stdout",
       "text": [
        " 10.4811313415\n",
        "1.38949549437"
       ]
      },
      {
       "output_type": "stream",
       "stream": "stdout",
       "text": [
        " 12.0679264064\n",
        "1.38949549437"
       ]
      },
      {
       "output_type": "stream",
       "stream": "stdout",
       "text": [
        " 13.8949549437\n",
        "1.38949549437"
       ]
      },
      {
       "output_type": "stream",
       "stream": "stdout",
       "text": [
        " 15.9985871961\n",
        "1.38949549437"
       ]
      },
      {
       "output_type": "stream",
       "stream": "stdout",
       "text": [
        " 18.4206996933\n",
        "1.38949549437"
       ]
      },
      {
       "output_type": "stream",
       "stream": "stdout",
       "text": [
        " 21.2095088792\n",
        "1.38949549437"
       ]
      },
      {
       "output_type": "stream",
       "stream": "stdout",
       "text": [
        " 24.4205309455\n",
        "1.38949549437"
       ]
      },
      {
       "output_type": "stream",
       "stream": "stdout",
       "text": [
        " 28.1176869797\n",
        "1.38949549437"
       ]
      },
      {
       "output_type": "stream",
       "stream": "stdout",
       "text": [
        " 32.3745754282\n",
        "1.38949549437"
       ]
      },
      {
       "output_type": "stream",
       "stream": "stdout",
       "text": [
        " 37.2759372031\n",
        "1.38949549437"
       ]
      },
      {
       "output_type": "stream",
       "stream": "stdout",
       "text": [
        " 42.9193426013\n",
        "1.38949549437"
       ]
      },
      {
       "output_type": "stream",
       "stream": "stdout",
       "text": [
        " 49.4171336132\n",
        "1.38949549437"
       ]
      },
      {
       "output_type": "stream",
       "stream": "stdout",
       "text": [
        " 56.8986602902\n",
        "1.38949549437"
       ]
      },
      {
       "output_type": "stream",
       "stream": "stdout",
       "text": [
        " 65.512855686\n",
        "1.38949549437"
       ]
      },
      {
       "output_type": "stream",
       "stream": "stdout",
       "text": [
        " 75.4312006335\n",
        "1.38949549437"
       ]
      },
      {
       "output_type": "stream",
       "stream": "stdout",
       "text": [
        " 86.8511373751\n",
        "1.38949549437"
       ]
      },
      {
       "output_type": "stream",
       "stream": "stdout",
       "text": [
        " 100.0\n",
        "2.32995181052"
       ]
      },
      {
       "output_type": "stream",
       "stream": "stdout",
       "text": [
        " 0.1\n",
        "2.32995181052"
       ]
      },
      {
       "output_type": "stream",
       "stream": "stdout",
       "text": [
        " 0.115139539933\n",
        "2.32995181052"
       ]
      },
      {
       "output_type": "stream",
       "stream": "stdout",
       "text": [
        " 0.132571136559\n",
        "2.32995181052"
       ]
      },
      {
       "output_type": "stream",
       "stream": "stdout",
       "text": [
        " 0.152641796718\n",
        "2.32995181052"
       ]
      },
      {
       "output_type": "stream",
       "stream": "stdout",
       "text": [
        " 0.175751062485\n",
        "2.32995181052"
       ]
      },
      {
       "output_type": "stream",
       "stream": "stdout",
       "text": [
        " 0.202358964773\n",
        "2.32995181052"
       ]
      },
      {
       "output_type": "stream",
       "stream": "stdout",
       "text": [
        " 0.232995181052\n",
        "2.32995181052"
       ]
      },
      {
       "output_type": "stream",
       "stream": "stdout",
       "text": [
        " 0.268269579528\n",
        "2.32995181052"
       ]
      },
      {
       "output_type": "stream",
       "stream": "stdout",
       "text": [
        " 0.308884359648\n",
        "2.32995181052"
       ]
      },
      {
       "output_type": "stream",
       "stream": "stdout",
       "text": [
        " 0.355648030622\n",
        "2.32995181052"
       ]
      },
      {
       "output_type": "stream",
       "stream": "stdout",
       "text": [
        " 0.409491506238\n",
        "2.32995181052"
       ]
      },
      {
       "output_type": "stream",
       "stream": "stdout",
       "text": [
        " 0.471486636346\n",
        "2.32995181052"
       ]
      },
      {
       "output_type": "stream",
       "stream": "stdout",
       "text": [
        " 0.542867543932\n",
        "2.32995181052"
       ]
      },
      {
       "output_type": "stream",
       "stream": "stdout",
       "text": [
        " 0.625055192527\n",
        "2.32995181052"
       ]
      },
      {
       "output_type": "stream",
       "stream": "stdout",
       "text": [
        " 0.719685673001\n",
        "2.32995181052"
       ]
      },
      {
       "output_type": "stream",
       "stream": "stdout",
       "text": [
        " 0.828642772855\n",
        "2.32995181052"
       ]
      },
      {
       "output_type": "stream",
       "stream": "stdout",
       "text": [
        " 0.95409547635\n",
        "2.32995181052"
       ]
      },
      {
       "output_type": "stream",
       "stream": "stdout",
       "text": [
        " 1.09854114199\n",
        "2.32995181052"
       ]
      },
      {
       "output_type": "stream",
       "stream": "stdout",
       "text": [
        " 1.26485521686\n",
        "2.32995181052"
       ]
      },
      {
       "output_type": "stream",
       "stream": "stdout",
       "text": [
        " 1.4563484775\n",
        "2.32995181052"
       ]
      },
      {
       "output_type": "stream",
       "stream": "stdout",
       "text": [
        " 1.67683293681\n",
        "2.32995181052"
       ]
      },
      {
       "output_type": "stream",
       "stream": "stdout",
       "text": [
        " 1.93069772888\n",
        "2.32995181052"
       ]
      },
      {
       "output_type": "stream",
       "stream": "stdout",
       "text": [
        " 2.22299648253\n",
        "2.32995181052"
       ]
      },
      {
       "output_type": "stream",
       "stream": "stdout",
       "text": [
        " 2.5595479227\n",
        "2.32995181052"
       ]
      },
      {
       "output_type": "stream",
       "stream": "stdout",
       "text": [
        " 2.94705170255\n",
        "2.32995181052"
       ]
      },
      {
       "output_type": "stream",
       "stream": "stdout",
       "text": [
        " 3.3932217719\n",
        "2.32995181052"
       ]
      },
      {
       "output_type": "stream",
       "stream": "stdout",
       "text": [
        " 3.90693993705\n",
        "2.32995181052"
       ]
      },
      {
       "output_type": "stream",
       "stream": "stdout",
       "text": [
        " 4.49843266897\n",
        "2.32995181052"
       ]
      },
      {
       "output_type": "stream",
       "stream": "stdout",
       "text": [
        " 5.17947467923\n",
        "2.32995181052"
       ]
      },
      {
       "output_type": "stream",
       "stream": "stdout",
       "text": [
        " 5.96362331659\n",
        "2.32995181052"
       ]
      },
      {
       "output_type": "stream",
       "stream": "stdout",
       "text": [
        " 6.86648845004\n",
        "2.32995181052"
       ]
      },
      {
       "output_type": "stream",
       "stream": "stdout",
       "text": [
        " 7.90604321091\n",
        "2.32995181052"
       ]
      },
      {
       "output_type": "stream",
       "stream": "stdout",
       "text": [
        " 9.10298177992\n",
        "2.32995181052"
       ]
      },
      {
       "output_type": "stream",
       "stream": "stdout",
       "text": [
        " 10.4811313415\n",
        "2.32995181052"
       ]
      },
      {
       "output_type": "stream",
       "stream": "stdout",
       "text": [
        " 12.0679264064\n",
        "2.32995181052"
       ]
      },
      {
       "output_type": "stream",
       "stream": "stdout",
       "text": [
        " 13.8949549437\n",
        "2.32995181052"
       ]
      },
      {
       "output_type": "stream",
       "stream": "stdout",
       "text": [
        " 15.9985871961\n",
        "2.32995181052"
       ]
      },
      {
       "output_type": "stream",
       "stream": "stdout",
       "text": [
        " 18.4206996933\n",
        "2.32995181052"
       ]
      },
      {
       "output_type": "stream",
       "stream": "stdout",
       "text": [
        " 21.2095088792\n",
        "2.32995181052"
       ]
      },
      {
       "output_type": "stream",
       "stream": "stdout",
       "text": [
        " 24.4205309455\n",
        "2.32995181052"
       ]
      },
      {
       "output_type": "stream",
       "stream": "stdout",
       "text": [
        " 28.1176869797\n",
        "2.32995181052"
       ]
      },
      {
       "output_type": "stream",
       "stream": "stdout",
       "text": [
        " 32.3745754282\n",
        "2.32995181052"
       ]
      },
      {
       "output_type": "stream",
       "stream": "stdout",
       "text": [
        " 37.2759372031\n",
        "2.32995181052"
       ]
      },
      {
       "output_type": "stream",
       "stream": "stdout",
       "text": [
        " 42.9193426013\n",
        "2.32995181052"
       ]
      },
      {
       "output_type": "stream",
       "stream": "stdout",
       "text": [
        " 49.4171336132\n",
        "2.32995181052"
       ]
      },
      {
       "output_type": "stream",
       "stream": "stdout",
       "text": [
        " 56.8986602902\n",
        "2.32995181052"
       ]
      },
      {
       "output_type": "stream",
       "stream": "stdout",
       "text": [
        " 65.512855686\n",
        "2.32995181052"
       ]
      },
      {
       "output_type": "stream",
       "stream": "stdout",
       "text": [
        " 75.4312006335\n",
        "2.32995181052"
       ]
      },
      {
       "output_type": "stream",
       "stream": "stdout",
       "text": [
        " 86.8511373751\n",
        "2.32995181052"
       ]
      },
      {
       "output_type": "stream",
       "stream": "stdout",
       "text": [
        " 100.0\n",
        "3.90693993705"
       ]
      },
      {
       "output_type": "stream",
       "stream": "stdout",
       "text": [
        " 0.1\n",
        "3.90693993705"
       ]
      },
      {
       "output_type": "stream",
       "stream": "stdout",
       "text": [
        " 0.115139539933\n",
        "3.90693993705"
       ]
      },
      {
       "output_type": "stream",
       "stream": "stdout",
       "text": [
        " 0.132571136559\n",
        "3.90693993705"
       ]
      },
      {
       "output_type": "stream",
       "stream": "stdout",
       "text": [
        " 0.152641796718\n",
        "3.90693993705"
       ]
      },
      {
       "output_type": "stream",
       "stream": "stdout",
       "text": [
        " 0.175751062485\n",
        "3.90693993705"
       ]
      },
      {
       "output_type": "stream",
       "stream": "stdout",
       "text": [
        " 0.202358964773\n",
        "3.90693993705"
       ]
      },
      {
       "output_type": "stream",
       "stream": "stdout",
       "text": [
        " 0.232995181052\n",
        "3.90693993705"
       ]
      },
      {
       "output_type": "stream",
       "stream": "stdout",
       "text": [
        " 0.268269579528\n",
        "3.90693993705"
       ]
      },
      {
       "output_type": "stream",
       "stream": "stdout",
       "text": [
        " 0.308884359648\n",
        "3.90693993705"
       ]
      },
      {
       "output_type": "stream",
       "stream": "stdout",
       "text": [
        " 0.355648030622\n",
        "3.90693993705"
       ]
      },
      {
       "output_type": "stream",
       "stream": "stdout",
       "text": [
        " 0.409491506238\n",
        "3.90693993705"
       ]
      },
      {
       "output_type": "stream",
       "stream": "stdout",
       "text": [
        " 0.471486636346\n",
        "3.90693993705"
       ]
      },
      {
       "output_type": "stream",
       "stream": "stdout",
       "text": [
        " 0.542867543932\n",
        "3.90693993705"
       ]
      },
      {
       "output_type": "stream",
       "stream": "stdout",
       "text": [
        " 0.625055192527\n",
        "3.90693993705"
       ]
      },
      {
       "output_type": "stream",
       "stream": "stdout",
       "text": [
        " 0.719685673001\n",
        "3.90693993705"
       ]
      },
      {
       "output_type": "stream",
       "stream": "stdout",
       "text": [
        " 0.828642772855\n",
        "3.90693993705"
       ]
      },
      {
       "output_type": "stream",
       "stream": "stdout",
       "text": [
        " 0.95409547635\n",
        "3.90693993705"
       ]
      },
      {
       "output_type": "stream",
       "stream": "stdout",
       "text": [
        " 1.09854114199\n",
        "3.90693993705"
       ]
      },
      {
       "output_type": "stream",
       "stream": "stdout",
       "text": [
        " 1.26485521686\n",
        "3.90693993705"
       ]
      },
      {
       "output_type": "stream",
       "stream": "stdout",
       "text": [
        " 1.4563484775\n",
        "3.90693993705"
       ]
      },
      {
       "output_type": "stream",
       "stream": "stdout",
       "text": [
        " 1.67683293681\n",
        "3.90693993705"
       ]
      },
      {
       "output_type": "stream",
       "stream": "stdout",
       "text": [
        " 1.93069772888\n",
        "3.90693993705"
       ]
      },
      {
       "output_type": "stream",
       "stream": "stdout",
       "text": [
        " 2.22299648253\n",
        "3.90693993705"
       ]
      },
      {
       "output_type": "stream",
       "stream": "stdout",
       "text": [
        " 2.5595479227\n",
        "3.90693993705"
       ]
      },
      {
       "output_type": "stream",
       "stream": "stdout",
       "text": [
        " 2.94705170255\n",
        "3.90693993705"
       ]
      },
      {
       "output_type": "stream",
       "stream": "stdout",
       "text": [
        " 3.3932217719\n",
        "3.90693993705"
       ]
      },
      {
       "output_type": "stream",
       "stream": "stdout",
       "text": [
        " 3.90693993705\n",
        "3.90693993705"
       ]
      },
      {
       "output_type": "stream",
       "stream": "stdout",
       "text": [
        " 4.49843266897\n",
        "3.90693993705"
       ]
      },
      {
       "output_type": "stream",
       "stream": "stdout",
       "text": [
        " 5.17947467923\n",
        "3.90693993705"
       ]
      },
      {
       "output_type": "stream",
       "stream": "stdout",
       "text": [
        " 5.96362331659\n",
        "3.90693993705"
       ]
      },
      {
       "output_type": "stream",
       "stream": "stdout",
       "text": [
        " 6.86648845004\n",
        "3.90693993705"
       ]
      },
      {
       "output_type": "stream",
       "stream": "stdout",
       "text": [
        " 7.90604321091\n",
        "3.90693993705"
       ]
      },
      {
       "output_type": "stream",
       "stream": "stdout",
       "text": [
        " 9.10298177992\n",
        "3.90693993705"
       ]
      },
      {
       "output_type": "stream",
       "stream": "stdout",
       "text": [
        " 10.4811313415\n",
        "3.90693993705"
       ]
      },
      {
       "output_type": "stream",
       "stream": "stdout",
       "text": [
        " 12.0679264064\n",
        "3.90693993705"
       ]
      },
      {
       "output_type": "stream",
       "stream": "stdout",
       "text": [
        " 13.8949549437\n",
        "3.90693993705"
       ]
      },
      {
       "output_type": "stream",
       "stream": "stdout",
       "text": [
        " 15.9985871961\n",
        "3.90693993705"
       ]
      },
      {
       "output_type": "stream",
       "stream": "stdout",
       "text": [
        " 18.4206996933\n",
        "3.90693993705"
       ]
      },
      {
       "output_type": "stream",
       "stream": "stdout",
       "text": [
        " 21.2095088792\n",
        "3.90693993705"
       ]
      },
      {
       "output_type": "stream",
       "stream": "stdout",
       "text": [
        " 24.4205309455\n",
        "3.90693993705"
       ]
      },
      {
       "output_type": "stream",
       "stream": "stdout",
       "text": [
        " 28.1176869797\n",
        "3.90693993705"
       ]
      },
      {
       "output_type": "stream",
       "stream": "stdout",
       "text": [
        " 32.3745754282\n",
        "3.90693993705"
       ]
      },
      {
       "output_type": "stream",
       "stream": "stdout",
       "text": [
        " 37.2759372031\n",
        "3.90693993705"
       ]
      },
      {
       "output_type": "stream",
       "stream": "stdout",
       "text": [
        " 42.9193426013\n",
        "3.90693993705"
       ]
      },
      {
       "output_type": "stream",
       "stream": "stdout",
       "text": [
        " 49.4171336132\n",
        "3.90693993705"
       ]
      },
      {
       "output_type": "stream",
       "stream": "stdout",
       "text": [
        " 56.8986602902\n",
        "3.90693993705"
       ]
      },
      {
       "output_type": "stream",
       "stream": "stdout",
       "text": [
        " 65.512855686\n",
        "3.90693993705"
       ]
      },
      {
       "output_type": "stream",
       "stream": "stdout",
       "text": [
        " 75.4312006335\n",
        "3.90693993705"
       ]
      },
      {
       "output_type": "stream",
       "stream": "stdout",
       "text": [
        " 86.8511373751\n",
        "3.90693993705"
       ]
      },
      {
       "output_type": "stream",
       "stream": "stdout",
       "text": [
        " 100.0\n",
        "6.5512855686"
       ]
      },
      {
       "output_type": "stream",
       "stream": "stdout",
       "text": [
        " 0.1\n",
        "6.5512855686"
       ]
      },
      {
       "output_type": "stream",
       "stream": "stdout",
       "text": [
        " 0.115139539933\n",
        "6.5512855686"
       ]
      },
      {
       "output_type": "stream",
       "stream": "stdout",
       "text": [
        " 0.132571136559\n",
        "6.5512855686"
       ]
      },
      {
       "output_type": "stream",
       "stream": "stdout",
       "text": [
        " 0.152641796718\n",
        "6.5512855686"
       ]
      },
      {
       "output_type": "stream",
       "stream": "stdout",
       "text": [
        " 0.175751062485\n",
        "6.5512855686"
       ]
      },
      {
       "output_type": "stream",
       "stream": "stdout",
       "text": [
        " 0.202358964773\n",
        "6.5512855686"
       ]
      },
      {
       "output_type": "stream",
       "stream": "stdout",
       "text": [
        " 0.232995181052\n",
        "6.5512855686"
       ]
      },
      {
       "output_type": "stream",
       "stream": "stdout",
       "text": [
        " 0.268269579528\n",
        "6.5512855686"
       ]
      },
      {
       "output_type": "stream",
       "stream": "stdout",
       "text": [
        " 0.308884359648\n",
        "6.5512855686"
       ]
      },
      {
       "output_type": "stream",
       "stream": "stdout",
       "text": [
        " 0.355648030622\n",
        "6.5512855686"
       ]
      },
      {
       "output_type": "stream",
       "stream": "stdout",
       "text": [
        " 0.409491506238\n",
        "6.5512855686"
       ]
      },
      {
       "output_type": "stream",
       "stream": "stdout",
       "text": [
        " 0.471486636346\n",
        "6.5512855686"
       ]
      },
      {
       "output_type": "stream",
       "stream": "stdout",
       "text": [
        " 0.542867543932\n",
        "6.5512855686"
       ]
      },
      {
       "output_type": "stream",
       "stream": "stdout",
       "text": [
        " 0.625055192527\n",
        "6.5512855686"
       ]
      },
      {
       "output_type": "stream",
       "stream": "stdout",
       "text": [
        " 0.719685673001\n",
        "6.5512855686"
       ]
      },
      {
       "output_type": "stream",
       "stream": "stdout",
       "text": [
        " 0.828642772855\n",
        "6.5512855686"
       ]
      },
      {
       "output_type": "stream",
       "stream": "stdout",
       "text": [
        " 0.95409547635\n",
        "6.5512855686"
       ]
      },
      {
       "output_type": "stream",
       "stream": "stdout",
       "text": [
        " 1.09854114199\n",
        "6.5512855686"
       ]
      },
      {
       "output_type": "stream",
       "stream": "stdout",
       "text": [
        " 1.26485521686\n",
        "6.5512855686"
       ]
      },
      {
       "output_type": "stream",
       "stream": "stdout",
       "text": [
        " 1.4563484775\n",
        "6.5512855686"
       ]
      },
      {
       "output_type": "stream",
       "stream": "stdout",
       "text": [
        " 1.67683293681\n",
        "6.5512855686"
       ]
      },
      {
       "output_type": "stream",
       "stream": "stdout",
       "text": [
        " 1.93069772888\n",
        "6.5512855686"
       ]
      },
      {
       "output_type": "stream",
       "stream": "stdout",
       "text": [
        " 2.22299648253\n",
        "6.5512855686"
       ]
      },
      {
       "output_type": "stream",
       "stream": "stdout",
       "text": [
        " 2.5595479227\n",
        "6.5512855686"
       ]
      },
      {
       "output_type": "stream",
       "stream": "stdout",
       "text": [
        " 2.94705170255\n",
        "6.5512855686"
       ]
      },
      {
       "output_type": "stream",
       "stream": "stdout",
       "text": [
        " 3.3932217719\n",
        "6.5512855686"
       ]
      },
      {
       "output_type": "stream",
       "stream": "stdout",
       "text": [
        " 3.90693993705\n",
        "6.5512855686"
       ]
      },
      {
       "output_type": "stream",
       "stream": "stdout",
       "text": [
        " 4.49843266897\n",
        "6.5512855686"
       ]
      },
      {
       "output_type": "stream",
       "stream": "stdout",
       "text": [
        " 5.17947467923\n",
        "6.5512855686"
       ]
      },
      {
       "output_type": "stream",
       "stream": "stdout",
       "text": [
        " 5.96362331659\n",
        "6.5512855686"
       ]
      },
      {
       "output_type": "stream",
       "stream": "stdout",
       "text": [
        " 6.86648845004\n",
        "6.5512855686"
       ]
      },
      {
       "output_type": "stream",
       "stream": "stdout",
       "text": [
        " 7.90604321091\n",
        "6.5512855686"
       ]
      },
      {
       "output_type": "stream",
       "stream": "stdout",
       "text": [
        " 9.10298177992\n",
        "6.5512855686"
       ]
      },
      {
       "output_type": "stream",
       "stream": "stdout",
       "text": [
        " 10.4811313415\n",
        "6.5512855686"
       ]
      },
      {
       "output_type": "stream",
       "stream": "stdout",
       "text": [
        " 12.0679264064\n",
        "6.5512855686"
       ]
      },
      {
       "output_type": "stream",
       "stream": "stdout",
       "text": [
        " 13.8949549437\n",
        "6.5512855686"
       ]
      },
      {
       "output_type": "stream",
       "stream": "stdout",
       "text": [
        " 15.9985871961\n",
        "6.5512855686"
       ]
      },
      {
       "output_type": "stream",
       "stream": "stdout",
       "text": [
        " 18.4206996933\n",
        "6.5512855686"
       ]
      },
      {
       "output_type": "stream",
       "stream": "stdout",
       "text": [
        " 21.2095088792\n",
        "6.5512855686"
       ]
      },
      {
       "output_type": "stream",
       "stream": "stdout",
       "text": [
        " 24.4205309455\n",
        "6.5512855686"
       ]
      },
      {
       "output_type": "stream",
       "stream": "stdout",
       "text": [
        " 28.1176869797\n",
        "6.5512855686"
       ]
      },
      {
       "output_type": "stream",
       "stream": "stdout",
       "text": [
        " 32.3745754282\n",
        "6.5512855686"
       ]
      },
      {
       "output_type": "stream",
       "stream": "stdout",
       "text": [
        " 37.2759372031\n",
        "6.5512855686"
       ]
      },
      {
       "output_type": "stream",
       "stream": "stdout",
       "text": [
        " 42.9193426013\n",
        "6.5512855686"
       ]
      },
      {
       "output_type": "stream",
       "stream": "stdout",
       "text": [
        " 49.4171336132\n",
        "6.5512855686"
       ]
      },
      {
       "output_type": "stream",
       "stream": "stdout",
       "text": [
        " 56.8986602902\n",
        "6.5512855686"
       ]
      },
      {
       "output_type": "stream",
       "stream": "stdout",
       "text": [
        " 65.512855686\n",
        "6.5512855686"
       ]
      },
      {
       "output_type": "stream",
       "stream": "stdout",
       "text": [
        " 75.4312006335\n",
        "6.5512855686"
       ]
      },
      {
       "output_type": "stream",
       "stream": "stdout",
       "text": [
        " 86.8511373751\n",
        "6.5512855686"
       ]
      },
      {
       "output_type": "stream",
       "stream": "stdout",
       "text": [
        " 100.0\n",
        "10.9854114199"
       ]
      },
      {
       "output_type": "stream",
       "stream": "stdout",
       "text": [
        " 0.1\n",
        "10.9854114199"
       ]
      },
      {
       "output_type": "stream",
       "stream": "stdout",
       "text": [
        " 0.115139539933\n",
        "10.9854114199"
       ]
      },
      {
       "output_type": "stream",
       "stream": "stdout",
       "text": [
        " 0.132571136559\n",
        "10.9854114199"
       ]
      },
      {
       "output_type": "stream",
       "stream": "stdout",
       "text": [
        " 0.152641796718\n",
        "10.9854114199"
       ]
      },
      {
       "output_type": "stream",
       "stream": "stdout",
       "text": [
        " 0.175751062485\n",
        "10.9854114199"
       ]
      },
      {
       "output_type": "stream",
       "stream": "stdout",
       "text": [
        " 0.202358964773\n",
        "10.9854114199"
       ]
      },
      {
       "output_type": "stream",
       "stream": "stdout",
       "text": [
        " 0.232995181052\n",
        "10.9854114199"
       ]
      },
      {
       "output_type": "stream",
       "stream": "stdout",
       "text": [
        " 0.268269579528\n",
        "10.9854114199"
       ]
      },
      {
       "output_type": "stream",
       "stream": "stdout",
       "text": [
        " 0.308884359648\n",
        "10.9854114199"
       ]
      },
      {
       "output_type": "stream",
       "stream": "stdout",
       "text": [
        " 0.355648030622\n",
        "10.9854114199"
       ]
      },
      {
       "output_type": "stream",
       "stream": "stdout",
       "text": [
        " 0.409491506238\n",
        "10.9854114199"
       ]
      },
      {
       "output_type": "stream",
       "stream": "stdout",
       "text": [
        " 0.471486636346\n",
        "10.9854114199"
       ]
      },
      {
       "output_type": "stream",
       "stream": "stdout",
       "text": [
        " 0.542867543932\n",
        "10.9854114199"
       ]
      },
      {
       "output_type": "stream",
       "stream": "stdout",
       "text": [
        " 0.625055192527\n",
        "10.9854114199"
       ]
      },
      {
       "output_type": "stream",
       "stream": "stdout",
       "text": [
        " 0.719685673001\n",
        "10.9854114199"
       ]
      },
      {
       "output_type": "stream",
       "stream": "stdout",
       "text": [
        " 0.828642772855\n",
        "10.9854114199"
       ]
      },
      {
       "output_type": "stream",
       "stream": "stdout",
       "text": [
        " 0.95409547635\n",
        "10.9854114199"
       ]
      },
      {
       "output_type": "stream",
       "stream": "stdout",
       "text": [
        " 1.09854114199\n",
        "10.9854114199"
       ]
      },
      {
       "output_type": "stream",
       "stream": "stdout",
       "text": [
        " 1.26485521686\n",
        "10.9854114199"
       ]
      },
      {
       "output_type": "stream",
       "stream": "stdout",
       "text": [
        " 1.4563484775\n",
        "10.9854114199"
       ]
      },
      {
       "output_type": "stream",
       "stream": "stdout",
       "text": [
        " 1.67683293681\n",
        "10.9854114199"
       ]
      },
      {
       "output_type": "stream",
       "stream": "stdout",
       "text": [
        " 1.93069772888\n",
        "10.9854114199"
       ]
      },
      {
       "output_type": "stream",
       "stream": "stdout",
       "text": [
        " 2.22299648253\n",
        "10.9854114199"
       ]
      },
      {
       "output_type": "stream",
       "stream": "stdout",
       "text": [
        " 2.5595479227\n",
        "10.9854114199"
       ]
      },
      {
       "output_type": "stream",
       "stream": "stdout",
       "text": [
        " 2.94705170255\n",
        "10.9854114199"
       ]
      },
      {
       "output_type": "stream",
       "stream": "stdout",
       "text": [
        " 3.3932217719\n",
        "10.9854114199"
       ]
      },
      {
       "output_type": "stream",
       "stream": "stdout",
       "text": [
        " 3.90693993705\n",
        "10.9854114199"
       ]
      },
      {
       "output_type": "stream",
       "stream": "stdout",
       "text": [
        " 4.49843266897\n",
        "10.9854114199"
       ]
      },
      {
       "output_type": "stream",
       "stream": "stdout",
       "text": [
        " 5.17947467923\n",
        "10.9854114199"
       ]
      },
      {
       "output_type": "stream",
       "stream": "stdout",
       "text": [
        " 5.96362331659\n",
        "10.9854114199"
       ]
      },
      {
       "output_type": "stream",
       "stream": "stdout",
       "text": [
        " 6.86648845004\n",
        "10.9854114199"
       ]
      },
      {
       "output_type": "stream",
       "stream": "stdout",
       "text": [
        " 7.90604321091\n",
        "10.9854114199"
       ]
      },
      {
       "output_type": "stream",
       "stream": "stdout",
       "text": [
        " 9.10298177992\n",
        "10.9854114199"
       ]
      },
      {
       "output_type": "stream",
       "stream": "stdout",
       "text": [
        " 10.4811313415\n",
        "10.9854114199"
       ]
      },
      {
       "output_type": "stream",
       "stream": "stdout",
       "text": [
        " 12.0679264064\n",
        "10.9854114199"
       ]
      },
      {
       "output_type": "stream",
       "stream": "stdout",
       "text": [
        " 13.8949549437\n",
        "10.9854114199"
       ]
      },
      {
       "output_type": "stream",
       "stream": "stdout",
       "text": [
        " 15.9985871961\n",
        "10.9854114199"
       ]
      },
      {
       "output_type": "stream",
       "stream": "stdout",
       "text": [
        " 18.4206996933\n",
        "10.9854114199"
       ]
      },
      {
       "output_type": "stream",
       "stream": "stdout",
       "text": [
        " 21.2095088792\n",
        "10.9854114199"
       ]
      },
      {
       "output_type": "stream",
       "stream": "stdout",
       "text": [
        " 24.4205309455\n",
        "10.9854114199"
       ]
      },
      {
       "output_type": "stream",
       "stream": "stdout",
       "text": [
        " 28.1176869797\n",
        "10.9854114199"
       ]
      },
      {
       "output_type": "stream",
       "stream": "stdout",
       "text": [
        " 32.3745754282\n",
        "10.9854114199"
       ]
      },
      {
       "output_type": "stream",
       "stream": "stdout",
       "text": [
        " 37.2759372031\n",
        "10.9854114199"
       ]
      },
      {
       "output_type": "stream",
       "stream": "stdout",
       "text": [
        " 42.9193426013\n",
        "10.9854114199"
       ]
      },
      {
       "output_type": "stream",
       "stream": "stdout",
       "text": [
        " 49.4171336132\n",
        "10.9854114199"
       ]
      },
      {
       "output_type": "stream",
       "stream": "stdout",
       "text": [
        " 56.8986602902\n",
        "10.9854114199"
       ]
      },
      {
       "output_type": "stream",
       "stream": "stdout",
       "text": [
        " 65.512855686\n",
        "10.9854114199"
       ]
      },
      {
       "output_type": "stream",
       "stream": "stdout",
       "text": [
        " 75.4312006335\n",
        "10.9854114199"
       ]
      },
      {
       "output_type": "stream",
       "stream": "stdout",
       "text": [
        " 86.8511373751\n",
        "10.9854114199"
       ]
      },
      {
       "output_type": "stream",
       "stream": "stdout",
       "text": [
        " 100.0\n",
        "18.4206996933"
       ]
      },
      {
       "output_type": "stream",
       "stream": "stdout",
       "text": [
        " 0.1\n",
        "18.4206996933"
       ]
      },
      {
       "output_type": "stream",
       "stream": "stdout",
       "text": [
        " 0.115139539933\n",
        "18.4206996933"
       ]
      },
      {
       "output_type": "stream",
       "stream": "stdout",
       "text": [
        " 0.132571136559\n",
        "18.4206996933"
       ]
      },
      {
       "output_type": "stream",
       "stream": "stdout",
       "text": [
        " 0.152641796718\n",
        "18.4206996933"
       ]
      },
      {
       "output_type": "stream",
       "stream": "stdout",
       "text": [
        " 0.175751062485\n",
        "18.4206996933"
       ]
      },
      {
       "output_type": "stream",
       "stream": "stdout",
       "text": [
        " 0.202358964773\n",
        "18.4206996933"
       ]
      },
      {
       "output_type": "stream",
       "stream": "stdout",
       "text": [
        " 0.232995181052\n",
        "18.4206996933"
       ]
      },
      {
       "output_type": "stream",
       "stream": "stdout",
       "text": [
        " 0.268269579528\n",
        "18.4206996933"
       ]
      },
      {
       "output_type": "stream",
       "stream": "stdout",
       "text": [
        " 0.308884359648\n",
        "18.4206996933"
       ]
      },
      {
       "output_type": "stream",
       "stream": "stdout",
       "text": [
        " 0.355648030622\n",
        "18.4206996933"
       ]
      },
      {
       "output_type": "stream",
       "stream": "stdout",
       "text": [
        " 0.409491506238\n",
        "18.4206996933"
       ]
      },
      {
       "output_type": "stream",
       "stream": "stdout",
       "text": [
        " 0.471486636346\n",
        "18.4206996933"
       ]
      },
      {
       "output_type": "stream",
       "stream": "stdout",
       "text": [
        " 0.542867543932\n",
        "18.4206996933"
       ]
      },
      {
       "output_type": "stream",
       "stream": "stdout",
       "text": [
        " 0.625055192527\n",
        "18.4206996933"
       ]
      },
      {
       "output_type": "stream",
       "stream": "stdout",
       "text": [
        " 0.719685673001\n",
        "18.4206996933"
       ]
      },
      {
       "output_type": "stream",
       "stream": "stdout",
       "text": [
        " 0.828642772855\n",
        "18.4206996933"
       ]
      },
      {
       "output_type": "stream",
       "stream": "stdout",
       "text": [
        " 0.95409547635\n",
        "18.4206996933"
       ]
      },
      {
       "output_type": "stream",
       "stream": "stdout",
       "text": [
        " 1.09854114199\n",
        "18.4206996933"
       ]
      },
      {
       "output_type": "stream",
       "stream": "stdout",
       "text": [
        " 1.26485521686\n",
        "18.4206996933"
       ]
      },
      {
       "output_type": "stream",
       "stream": "stdout",
       "text": [
        " 1.4563484775\n",
        "18.4206996933"
       ]
      },
      {
       "output_type": "stream",
       "stream": "stdout",
       "text": [
        " 1.67683293681\n",
        "18.4206996933"
       ]
      },
      {
       "output_type": "stream",
       "stream": "stdout",
       "text": [
        " 1.93069772888\n",
        "18.4206996933"
       ]
      },
      {
       "output_type": "stream",
       "stream": "stdout",
       "text": [
        " 2.22299648253\n",
        "18.4206996933"
       ]
      },
      {
       "output_type": "stream",
       "stream": "stdout",
       "text": [
        " 2.5595479227\n",
        "18.4206996933"
       ]
      },
      {
       "output_type": "stream",
       "stream": "stdout",
       "text": [
        " 2.94705170255\n",
        "18.4206996933"
       ]
      },
      {
       "output_type": "stream",
       "stream": "stdout",
       "text": [
        " 3.3932217719\n",
        "18.4206996933"
       ]
      },
      {
       "output_type": "stream",
       "stream": "stdout",
       "text": [
        " 3.90693993705\n",
        "18.4206996933"
       ]
      },
      {
       "output_type": "stream",
       "stream": "stdout",
       "text": [
        " 4.49843266897\n",
        "18.4206996933"
       ]
      },
      {
       "output_type": "stream",
       "stream": "stdout",
       "text": [
        " 5.17947467923\n",
        "18.4206996933"
       ]
      },
      {
       "output_type": "stream",
       "stream": "stdout",
       "text": [
        " 5.96362331659\n",
        "18.4206996933"
       ]
      },
      {
       "output_type": "stream",
       "stream": "stdout",
       "text": [
        " 6.86648845004\n",
        "18.4206996933"
       ]
      },
      {
       "output_type": "stream",
       "stream": "stdout",
       "text": [
        " 7.90604321091\n",
        "18.4206996933"
       ]
      },
      {
       "output_type": "stream",
       "stream": "stdout",
       "text": [
        " 9.10298177992\n",
        "18.4206996933"
       ]
      },
      {
       "output_type": "stream",
       "stream": "stdout",
       "text": [
        " 10.4811313415\n",
        "18.4206996933"
       ]
      },
      {
       "output_type": "stream",
       "stream": "stdout",
       "text": [
        " 12.0679264064\n",
        "18.4206996933"
       ]
      },
      {
       "output_type": "stream",
       "stream": "stdout",
       "text": [
        " 13.8949549437\n",
        "18.4206996933"
       ]
      },
      {
       "output_type": "stream",
       "stream": "stdout",
       "text": [
        " 15.9985871961\n",
        "18.4206996933"
       ]
      },
      {
       "output_type": "stream",
       "stream": "stdout",
       "text": [
        " 18.4206996933\n",
        "18.4206996933"
       ]
      },
      {
       "output_type": "stream",
       "stream": "stdout",
       "text": [
        " 21.2095088792\n",
        "18.4206996933"
       ]
      },
      {
       "output_type": "stream",
       "stream": "stdout",
       "text": [
        " 24.4205309455\n",
        "18.4206996933"
       ]
      },
      {
       "output_type": "stream",
       "stream": "stdout",
       "text": [
        " 28.1176869797\n",
        "18.4206996933"
       ]
      },
      {
       "output_type": "stream",
       "stream": "stdout",
       "text": [
        " 32.3745754282\n",
        "18.4206996933"
       ]
      },
      {
       "output_type": "stream",
       "stream": "stdout",
       "text": [
        " 37.2759372031\n",
        "18.4206996933"
       ]
      },
      {
       "output_type": "stream",
       "stream": "stdout",
       "text": [
        " 42.9193426013\n",
        "18.4206996933"
       ]
      },
      {
       "output_type": "stream",
       "stream": "stdout",
       "text": [
        " 49.4171336132\n",
        "18.4206996933"
       ]
      },
      {
       "output_type": "stream",
       "stream": "stdout",
       "text": [
        " 56.8986602902\n",
        "18.4206996933"
       ]
      },
      {
       "output_type": "stream",
       "stream": "stdout",
       "text": [
        " 65.512855686\n",
        "18.4206996933"
       ]
      },
      {
       "output_type": "stream",
       "stream": "stdout",
       "text": [
        " 75.4312006335\n",
        "18.4206996933"
       ]
      },
      {
       "output_type": "stream",
       "stream": "stdout",
       "text": [
        " 86.8511373751\n",
        "18.4206996933"
       ]
      },
      {
       "output_type": "stream",
       "stream": "stdout",
       "text": [
        " 100.0\n",
        "30.8884359648"
       ]
      },
      {
       "output_type": "stream",
       "stream": "stdout",
       "text": [
        " 0.1\n",
        "30.8884359648"
       ]
      },
      {
       "output_type": "stream",
       "stream": "stdout",
       "text": [
        " 0.115139539933\n",
        "30.8884359648"
       ]
      },
      {
       "output_type": "stream",
       "stream": "stdout",
       "text": [
        " 0.132571136559\n",
        "30.8884359648"
       ]
      },
      {
       "output_type": "stream",
       "stream": "stdout",
       "text": [
        " 0.152641796718\n",
        "30.8884359648"
       ]
      },
      {
       "output_type": "stream",
       "stream": "stdout",
       "text": [
        " 0.175751062485\n",
        "30.8884359648"
       ]
      },
      {
       "output_type": "stream",
       "stream": "stdout",
       "text": [
        " 0.202358964773\n",
        "30.8884359648"
       ]
      },
      {
       "output_type": "stream",
       "stream": "stdout",
       "text": [
        " 0.232995181052\n",
        "30.8884359648"
       ]
      },
      {
       "output_type": "stream",
       "stream": "stdout",
       "text": [
        " 0.268269579528\n",
        "30.8884359648"
       ]
      },
      {
       "output_type": "stream",
       "stream": "stdout",
       "text": [
        " 0.308884359648\n",
        "30.8884359648"
       ]
      },
      {
       "output_type": "stream",
       "stream": "stdout",
       "text": [
        " 0.355648030622\n",
        "30.8884359648"
       ]
      },
      {
       "output_type": "stream",
       "stream": "stdout",
       "text": [
        " 0.409491506238\n",
        "30.8884359648"
       ]
      },
      {
       "output_type": "stream",
       "stream": "stdout",
       "text": [
        " 0.471486636346\n",
        "30.8884359648"
       ]
      },
      {
       "output_type": "stream",
       "stream": "stdout",
       "text": [
        " 0.542867543932\n",
        "30.8884359648"
       ]
      },
      {
       "output_type": "stream",
       "stream": "stdout",
       "text": [
        " 0.625055192527\n",
        "30.8884359648"
       ]
      },
      {
       "output_type": "stream",
       "stream": "stdout",
       "text": [
        " 0.719685673001\n",
        "30.8884359648"
       ]
      },
      {
       "output_type": "stream",
       "stream": "stdout",
       "text": [
        " 0.828642772855\n",
        "30.8884359648"
       ]
      },
      {
       "output_type": "stream",
       "stream": "stdout",
       "text": [
        " 0.95409547635\n",
        "30.8884359648"
       ]
      },
      {
       "output_type": "stream",
       "stream": "stdout",
       "text": [
        " 1.09854114199\n",
        "30.8884359648"
       ]
      },
      {
       "output_type": "stream",
       "stream": "stdout",
       "text": [
        " 1.26485521686\n",
        "30.8884359648"
       ]
      },
      {
       "output_type": "stream",
       "stream": "stdout",
       "text": [
        " 1.4563484775\n",
        "30.8884359648"
       ]
      },
      {
       "output_type": "stream",
       "stream": "stdout",
       "text": [
        " 1.67683293681\n",
        "30.8884359648"
       ]
      },
      {
       "output_type": "stream",
       "stream": "stdout",
       "text": [
        " 1.93069772888\n",
        "30.8884359648"
       ]
      },
      {
       "output_type": "stream",
       "stream": "stdout",
       "text": [
        " 2.22299648253\n",
        "30.8884359648"
       ]
      },
      {
       "output_type": "stream",
       "stream": "stdout",
       "text": [
        " 2.5595479227\n",
        "30.8884359648"
       ]
      },
      {
       "output_type": "stream",
       "stream": "stdout",
       "text": [
        " 2.94705170255\n",
        "30.8884359648"
       ]
      },
      {
       "output_type": "stream",
       "stream": "stdout",
       "text": [
        " 3.3932217719\n",
        "30.8884359648"
       ]
      },
      {
       "output_type": "stream",
       "stream": "stdout",
       "text": [
        " 3.90693993705\n",
        "30.8884359648"
       ]
      },
      {
       "output_type": "stream",
       "stream": "stdout",
       "text": [
        " 4.49843266897\n",
        "30.8884359648"
       ]
      },
      {
       "output_type": "stream",
       "stream": "stdout",
       "text": [
        " 5.17947467923\n",
        "30.8884359648"
       ]
      },
      {
       "output_type": "stream",
       "stream": "stdout",
       "text": [
        " 5.96362331659\n",
        "30.8884359648"
       ]
      },
      {
       "output_type": "stream",
       "stream": "stdout",
       "text": [
        " 6.86648845004\n",
        "30.8884359648"
       ]
      },
      {
       "output_type": "stream",
       "stream": "stdout",
       "text": [
        " 7.90604321091\n",
        "30.8884359648"
       ]
      },
      {
       "output_type": "stream",
       "stream": "stdout",
       "text": [
        " 9.10298177992\n",
        "30.8884359648"
       ]
      },
      {
       "output_type": "stream",
       "stream": "stdout",
       "text": [
        " 10.4811313415\n",
        "30.8884359648"
       ]
      },
      {
       "output_type": "stream",
       "stream": "stdout",
       "text": [
        " 12.0679264064\n",
        "30.8884359648"
       ]
      },
      {
       "output_type": "stream",
       "stream": "stdout",
       "text": [
        " 13.8949549437\n",
        "30.8884359648"
       ]
      },
      {
       "output_type": "stream",
       "stream": "stdout",
       "text": [
        " 15.9985871961\n",
        "30.8884359648"
       ]
      },
      {
       "output_type": "stream",
       "stream": "stdout",
       "text": [
        " 18.4206996933\n",
        "30.8884359648"
       ]
      },
      {
       "output_type": "stream",
       "stream": "stdout",
       "text": [
        " 21.2095088792\n",
        "30.8884359648"
       ]
      },
      {
       "output_type": "stream",
       "stream": "stdout",
       "text": [
        " 24.4205309455\n",
        "30.8884359648"
       ]
      },
      {
       "output_type": "stream",
       "stream": "stdout",
       "text": [
        " 28.1176869797\n",
        "30.8884359648"
       ]
      },
      {
       "output_type": "stream",
       "stream": "stdout",
       "text": [
        " 32.3745754282\n",
        "30.8884359648"
       ]
      },
      {
       "output_type": "stream",
       "stream": "stdout",
       "text": [
        " 37.2759372031\n",
        "30.8884359648"
       ]
      },
      {
       "output_type": "stream",
       "stream": "stdout",
       "text": [
        " 42.9193426013\n",
        "30.8884359648"
       ]
      },
      {
       "output_type": "stream",
       "stream": "stdout",
       "text": [
        " 49.4171336132\n",
        "30.8884359648"
       ]
      },
      {
       "output_type": "stream",
       "stream": "stdout",
       "text": [
        " 56.8986602902\n",
        "30.8884359648"
       ]
      },
      {
       "output_type": "stream",
       "stream": "stdout",
       "text": [
        " 65.512855686\n",
        "30.8884359648"
       ]
      },
      {
       "output_type": "stream",
       "stream": "stdout",
       "text": [
        " 75.4312006335\n",
        "30.8884359648"
       ]
      },
      {
       "output_type": "stream",
       "stream": "stdout",
       "text": [
        " 86.8511373751\n",
        "30.8884359648"
       ]
      },
      {
       "output_type": "stream",
       "stream": "stdout",
       "text": [
        " 100.0\n",
        "51.7947467923"
       ]
      },
      {
       "output_type": "stream",
       "stream": "stdout",
       "text": [
        " 0.1\n",
        "51.7947467923"
       ]
      },
      {
       "output_type": "stream",
       "stream": "stdout",
       "text": [
        " 0.115139539933\n",
        "51.7947467923"
       ]
      },
      {
       "output_type": "stream",
       "stream": "stdout",
       "text": [
        " 0.132571136559\n",
        "51.7947467923"
       ]
      },
      {
       "output_type": "stream",
       "stream": "stdout",
       "text": [
        " 0.152641796718\n",
        "51.7947467923"
       ]
      },
      {
       "output_type": "stream",
       "stream": "stdout",
       "text": [
        " 0.175751062485\n",
        "51.7947467923"
       ]
      },
      {
       "output_type": "stream",
       "stream": "stdout",
       "text": [
        " 0.202358964773\n",
        "51.7947467923"
       ]
      },
      {
       "output_type": "stream",
       "stream": "stdout",
       "text": [
        " 0.232995181052\n",
        "51.7947467923"
       ]
      },
      {
       "output_type": "stream",
       "stream": "stdout",
       "text": [
        " 0.268269579528\n",
        "51.7947467923"
       ]
      },
      {
       "output_type": "stream",
       "stream": "stdout",
       "text": [
        " 0.308884359648\n",
        "51.7947467923"
       ]
      },
      {
       "output_type": "stream",
       "stream": "stdout",
       "text": [
        " 0.355648030622\n",
        "51.7947467923"
       ]
      },
      {
       "output_type": "stream",
       "stream": "stdout",
       "text": [
        " 0.409491506238\n",
        "51.7947467923"
       ]
      },
      {
       "output_type": "stream",
       "stream": "stdout",
       "text": [
        " 0.471486636346\n",
        "51.7947467923"
       ]
      },
      {
       "output_type": "stream",
       "stream": "stdout",
       "text": [
        " 0.542867543932\n",
        "51.7947467923"
       ]
      },
      {
       "output_type": "stream",
       "stream": "stdout",
       "text": [
        " 0.625055192527\n",
        "51.7947467923"
       ]
      },
      {
       "output_type": "stream",
       "stream": "stdout",
       "text": [
        " 0.719685673001\n",
        "51.7947467923"
       ]
      },
      {
       "output_type": "stream",
       "stream": "stdout",
       "text": [
        " 0.828642772855\n",
        "51.7947467923"
       ]
      },
      {
       "output_type": "stream",
       "stream": "stdout",
       "text": [
        " 0.95409547635\n",
        "51.7947467923"
       ]
      },
      {
       "output_type": "stream",
       "stream": "stdout",
       "text": [
        " 1.09854114199\n",
        "51.7947467923"
       ]
      },
      {
       "output_type": "stream",
       "stream": "stdout",
       "text": [
        " 1.26485521686\n",
        "51.7947467923"
       ]
      },
      {
       "output_type": "stream",
       "stream": "stdout",
       "text": [
        " 1.4563484775\n",
        "51.7947467923"
       ]
      },
      {
       "output_type": "stream",
       "stream": "stdout",
       "text": [
        " 1.67683293681\n",
        "51.7947467923"
       ]
      },
      {
       "output_type": "stream",
       "stream": "stdout",
       "text": [
        " 1.93069772888\n",
        "51.7947467923"
       ]
      },
      {
       "output_type": "stream",
       "stream": "stdout",
       "text": [
        " 2.22299648253\n",
        "51.7947467923"
       ]
      },
      {
       "output_type": "stream",
       "stream": "stdout",
       "text": [
        " 2.5595479227\n",
        "51.7947467923"
       ]
      },
      {
       "output_type": "stream",
       "stream": "stdout",
       "text": [
        " 2.94705170255\n",
        "51.7947467923"
       ]
      },
      {
       "output_type": "stream",
       "stream": "stdout",
       "text": [
        " 3.3932217719\n",
        "51.7947467923"
       ]
      },
      {
       "output_type": "stream",
       "stream": "stdout",
       "text": [
        " 3.90693993705\n",
        "51.7947467923"
       ]
      },
      {
       "output_type": "stream",
       "stream": "stdout",
       "text": [
        " 4.49843266897\n",
        "51.7947467923"
       ]
      },
      {
       "output_type": "stream",
       "stream": "stdout",
       "text": [
        " 5.17947467923\n",
        "51.7947467923"
       ]
      },
      {
       "output_type": "stream",
       "stream": "stdout",
       "text": [
        " 5.96362331659\n",
        "51.7947467923"
       ]
      },
      {
       "output_type": "stream",
       "stream": "stdout",
       "text": [
        " 6.86648845004\n",
        "51.7947467923"
       ]
      },
      {
       "output_type": "stream",
       "stream": "stdout",
       "text": [
        " 7.90604321091\n",
        "51.7947467923"
       ]
      },
      {
       "output_type": "stream",
       "stream": "stdout",
       "text": [
        " 9.10298177992\n",
        "51.7947467923"
       ]
      },
      {
       "output_type": "stream",
       "stream": "stdout",
       "text": [
        " 10.4811313415\n",
        "51.7947467923"
       ]
      },
      {
       "output_type": "stream",
       "stream": "stdout",
       "text": [
        " 12.0679264064\n",
        "51.7947467923"
       ]
      },
      {
       "output_type": "stream",
       "stream": "stdout",
       "text": [
        " 13.8949549437\n",
        "51.7947467923"
       ]
      },
      {
       "output_type": "stream",
       "stream": "stdout",
       "text": [
        " 15.9985871961\n",
        "51.7947467923"
       ]
      },
      {
       "output_type": "stream",
       "stream": "stdout",
       "text": [
        " 18.4206996933\n",
        "51.7947467923"
       ]
      },
      {
       "output_type": "stream",
       "stream": "stdout",
       "text": [
        " 21.2095088792\n",
        "51.7947467923"
       ]
      },
      {
       "output_type": "stream",
       "stream": "stdout",
       "text": [
        " 24.4205309455\n",
        "51.7947467923"
       ]
      },
      {
       "output_type": "stream",
       "stream": "stdout",
       "text": [
        " 28.1176869797\n",
        "51.7947467923"
       ]
      },
      {
       "output_type": "stream",
       "stream": "stdout",
       "text": [
        " 32.3745754282\n",
        "51.7947467923"
       ]
      },
      {
       "output_type": "stream",
       "stream": "stdout",
       "text": [
        " 37.2759372031\n",
        "51.7947467923"
       ]
      },
      {
       "output_type": "stream",
       "stream": "stdout",
       "text": [
        " 42.9193426013\n",
        "51.7947467923"
       ]
      },
      {
       "output_type": "stream",
       "stream": "stdout",
       "text": [
        " 49.4171336132\n",
        "51.7947467923"
       ]
      },
      {
       "output_type": "stream",
       "stream": "stdout",
       "text": [
        " 56.8986602902\n",
        "51.7947467923"
       ]
      },
      {
       "output_type": "stream",
       "stream": "stdout",
       "text": [
        " 65.512855686\n",
        "51.7947467923"
       ]
      },
      {
       "output_type": "stream",
       "stream": "stdout",
       "text": [
        " 75.4312006335\n",
        "51.7947467923"
       ]
      },
      {
       "output_type": "stream",
       "stream": "stdout",
       "text": [
        " 86.8511373751\n",
        "51.7947467923"
       ]
      },
      {
       "output_type": "stream",
       "stream": "stdout",
       "text": [
        " 100.0\n",
        "86.8511373751"
       ]
      },
      {
       "output_type": "stream",
       "stream": "stdout",
       "text": [
        " 0.1\n",
        "86.8511373751"
       ]
      },
      {
       "output_type": "stream",
       "stream": "stdout",
       "text": [
        " 0.115139539933\n",
        "86.8511373751"
       ]
      },
      {
       "output_type": "stream",
       "stream": "stdout",
       "text": [
        " 0.132571136559\n",
        "86.8511373751"
       ]
      },
      {
       "output_type": "stream",
       "stream": "stdout",
       "text": [
        " 0.152641796718\n",
        "86.8511373751"
       ]
      },
      {
       "output_type": "stream",
       "stream": "stdout",
       "text": [
        " 0.175751062485\n",
        "86.8511373751"
       ]
      },
      {
       "output_type": "stream",
       "stream": "stdout",
       "text": [
        " 0.202358964773\n",
        "86.8511373751"
       ]
      },
      {
       "output_type": "stream",
       "stream": "stdout",
       "text": [
        " 0.232995181052\n",
        "86.8511373751"
       ]
      },
      {
       "output_type": "stream",
       "stream": "stdout",
       "text": [
        " 0.268269579528\n",
        "86.8511373751"
       ]
      },
      {
       "output_type": "stream",
       "stream": "stdout",
       "text": [
        " 0.308884359648\n",
        "86.8511373751"
       ]
      },
      {
       "output_type": "stream",
       "stream": "stdout",
       "text": [
        " 0.355648030622\n",
        "86.8511373751"
       ]
      },
      {
       "output_type": "stream",
       "stream": "stdout",
       "text": [
        " 0.409491506238\n",
        "86.8511373751"
       ]
      },
      {
       "output_type": "stream",
       "stream": "stdout",
       "text": [
        " 0.471486636346\n",
        "86.8511373751"
       ]
      },
      {
       "output_type": "stream",
       "stream": "stdout",
       "text": [
        " 0.542867543932\n",
        "86.8511373751"
       ]
      },
      {
       "output_type": "stream",
       "stream": "stdout",
       "text": [
        " 0.625055192527\n",
        "86.8511373751"
       ]
      },
      {
       "output_type": "stream",
       "stream": "stdout",
       "text": [
        " 0.719685673001\n",
        "86.8511373751"
       ]
      },
      {
       "output_type": "stream",
       "stream": "stdout",
       "text": [
        " 0.828642772855\n",
        "86.8511373751"
       ]
      },
      {
       "output_type": "stream",
       "stream": "stdout",
       "text": [
        " 0.95409547635\n",
        "86.8511373751"
       ]
      },
      {
       "output_type": "stream",
       "stream": "stdout",
       "text": [
        " 1.09854114199\n",
        "86.8511373751"
       ]
      },
      {
       "output_type": "stream",
       "stream": "stdout",
       "text": [
        " 1.26485521686\n",
        "86.8511373751"
       ]
      },
      {
       "output_type": "stream",
       "stream": "stdout",
       "text": [
        " 1.4563484775\n",
        "86.8511373751"
       ]
      },
      {
       "output_type": "stream",
       "stream": "stdout",
       "text": [
        " 1.67683293681\n",
        "86.8511373751"
       ]
      },
      {
       "output_type": "stream",
       "stream": "stdout",
       "text": [
        " 1.93069772888\n",
        "86.8511373751"
       ]
      },
      {
       "output_type": "stream",
       "stream": "stdout",
       "text": [
        " 2.22299648253\n",
        "86.8511373751"
       ]
      },
      {
       "output_type": "stream",
       "stream": "stdout",
       "text": [
        " 2.5595479227\n",
        "86.8511373751"
       ]
      },
      {
       "output_type": "stream",
       "stream": "stdout",
       "text": [
        " 2.94705170255\n",
        "86.8511373751"
       ]
      },
      {
       "output_type": "stream",
       "stream": "stdout",
       "text": [
        " 3.3932217719\n",
        "86.8511373751"
       ]
      },
      {
       "output_type": "stream",
       "stream": "stdout",
       "text": [
        " 3.90693993705\n",
        "86.8511373751"
       ]
      },
      {
       "output_type": "stream",
       "stream": "stdout",
       "text": [
        " 4.49843266897\n",
        "86.8511373751"
       ]
      },
      {
       "output_type": "stream",
       "stream": "stdout",
       "text": [
        " 5.17947467923\n",
        "86.8511373751"
       ]
      },
      {
       "output_type": "stream",
       "stream": "stdout",
       "text": [
        " 5.96362331659\n",
        "86.8511373751"
       ]
      },
      {
       "output_type": "stream",
       "stream": "stdout",
       "text": [
        " 6.86648845004\n",
        "86.8511373751"
       ]
      },
      {
       "output_type": "stream",
       "stream": "stdout",
       "text": [
        " 7.90604321091\n",
        "86.8511373751"
       ]
      },
      {
       "output_type": "stream",
       "stream": "stdout",
       "text": [
        " 9.10298177992\n",
        "86.8511373751"
       ]
      },
      {
       "output_type": "stream",
       "stream": "stdout",
       "text": [
        " 10.4811313415\n",
        "86.8511373751"
       ]
      },
      {
       "output_type": "stream",
       "stream": "stdout",
       "text": [
        " 12.0679264064\n",
        "86.8511373751"
       ]
      },
      {
       "output_type": "stream",
       "stream": "stdout",
       "text": [
        " 13.8949549437\n",
        "86.8511373751"
       ]
      },
      {
       "output_type": "stream",
       "stream": "stdout",
       "text": [
        " 15.9985871961\n",
        "86.8511373751"
       ]
      },
      {
       "output_type": "stream",
       "stream": "stdout",
       "text": [
        " 18.4206996933\n",
        "86.8511373751"
       ]
      },
      {
       "output_type": "stream",
       "stream": "stdout",
       "text": [
        " 21.2095088792\n",
        "86.8511373751"
       ]
      },
      {
       "output_type": "stream",
       "stream": "stdout",
       "text": [
        " 24.4205309455\n",
        "86.8511373751"
       ]
      },
      {
       "output_type": "stream",
       "stream": "stdout",
       "text": [
        " 28.1176869797\n",
        "86.8511373751"
       ]
      },
      {
       "output_type": "stream",
       "stream": "stdout",
       "text": [
        " 32.3745754282\n",
        "86.8511373751"
       ]
      },
      {
       "output_type": "stream",
       "stream": "stdout",
       "text": [
        " 37.2759372031\n",
        "86.8511373751"
       ]
      },
      {
       "output_type": "stream",
       "stream": "stdout",
       "text": [
        " 42.9193426013\n",
        "86.8511373751"
       ]
      },
      {
       "output_type": "stream",
       "stream": "stdout",
       "text": [
        " 49.4171336132\n",
        "86.8511373751"
       ]
      },
      {
       "output_type": "stream",
       "stream": "stdout",
       "text": [
        " 56.8986602902\n",
        "86.8511373751"
       ]
      },
      {
       "output_type": "stream",
       "stream": "stdout",
       "text": [
        " 65.512855686\n",
        "86.8511373751"
       ]
      },
      {
       "output_type": "stream",
       "stream": "stdout",
       "text": [
        " 75.4312006335\n",
        "86.8511373751"
       ]
      },
      {
       "output_type": "stream",
       "stream": "stdout",
       "text": [
        " 86.8511373751\n",
        "86.8511373751"
       ]
      },
      {
       "output_type": "stream",
       "stream": "stdout",
       "text": [
        " 100.0\n",
        "145.63484775"
       ]
      },
      {
       "output_type": "stream",
       "stream": "stdout",
       "text": [
        " 0.1\n",
        "145.63484775"
       ]
      },
      {
       "output_type": "stream",
       "stream": "stdout",
       "text": [
        " 0.115139539933\n",
        "145.63484775"
       ]
      },
      {
       "output_type": "stream",
       "stream": "stdout",
       "text": [
        " 0.132571136559\n",
        "145.63484775"
       ]
      },
      {
       "output_type": "stream",
       "stream": "stdout",
       "text": [
        " 0.152641796718\n",
        "145.63484775"
       ]
      },
      {
       "output_type": "stream",
       "stream": "stdout",
       "text": [
        " 0.175751062485\n",
        "145.63484775"
       ]
      },
      {
       "output_type": "stream",
       "stream": "stdout",
       "text": [
        " 0.202358964773\n",
        "145.63484775"
       ]
      },
      {
       "output_type": "stream",
       "stream": "stdout",
       "text": [
        " 0.232995181052\n",
        "145.63484775"
       ]
      },
      {
       "output_type": "stream",
       "stream": "stdout",
       "text": [
        " 0.268269579528\n",
        "145.63484775"
       ]
      },
      {
       "output_type": "stream",
       "stream": "stdout",
       "text": [
        " 0.308884359648\n",
        "145.63484775"
       ]
      },
      {
       "output_type": "stream",
       "stream": "stdout",
       "text": [
        " 0.355648030622\n",
        "145.63484775"
       ]
      },
      {
       "output_type": "stream",
       "stream": "stdout",
       "text": [
        " 0.409491506238\n",
        "145.63484775"
       ]
      },
      {
       "output_type": "stream",
       "stream": "stdout",
       "text": [
        " 0.471486636346\n",
        "145.63484775"
       ]
      },
      {
       "output_type": "stream",
       "stream": "stdout",
       "text": [
        " 0.542867543932\n",
        "145.63484775"
       ]
      },
      {
       "output_type": "stream",
       "stream": "stdout",
       "text": [
        " 0.625055192527\n",
        "145.63484775"
       ]
      },
      {
       "output_type": "stream",
       "stream": "stdout",
       "text": [
        " 0.719685673001\n",
        "145.63484775"
       ]
      },
      {
       "output_type": "stream",
       "stream": "stdout",
       "text": [
        " 0.828642772855\n",
        "145.63484775"
       ]
      },
      {
       "output_type": "stream",
       "stream": "stdout",
       "text": [
        " 0.95409547635\n",
        "145.63484775"
       ]
      },
      {
       "output_type": "stream",
       "stream": "stdout",
       "text": [
        " 1.09854114199\n",
        "145.63484775"
       ]
      },
      {
       "output_type": "stream",
       "stream": "stdout",
       "text": [
        " 1.26485521686\n",
        "145.63484775"
       ]
      },
      {
       "output_type": "stream",
       "stream": "stdout",
       "text": [
        " 1.4563484775\n",
        "145.63484775"
       ]
      },
      {
       "output_type": "stream",
       "stream": "stdout",
       "text": [
        " 1.67683293681\n",
        "145.63484775"
       ]
      },
      {
       "output_type": "stream",
       "stream": "stdout",
       "text": [
        " 1.93069772888\n",
        "145.63484775"
       ]
      },
      {
       "output_type": "stream",
       "stream": "stdout",
       "text": [
        " 2.22299648253\n",
        "145.63484775"
       ]
      },
      {
       "output_type": "stream",
       "stream": "stdout",
       "text": [
        " 2.5595479227\n",
        "145.63484775"
       ]
      },
      {
       "output_type": "stream",
       "stream": "stdout",
       "text": [
        " 2.94705170255\n",
        "145.63484775"
       ]
      },
      {
       "output_type": "stream",
       "stream": "stdout",
       "text": [
        " 3.3932217719\n",
        "145.63484775"
       ]
      },
      {
       "output_type": "stream",
       "stream": "stdout",
       "text": [
        " 3.90693993705\n",
        "145.63484775"
       ]
      },
      {
       "output_type": "stream",
       "stream": "stdout",
       "text": [
        " 4.49843266897\n",
        "145.63484775"
       ]
      },
      {
       "output_type": "stream",
       "stream": "stdout",
       "text": [
        " 5.17947467923\n",
        "145.63484775"
       ]
      },
      {
       "output_type": "stream",
       "stream": "stdout",
       "text": [
        " 5.96362331659\n",
        "145.63484775"
       ]
      },
      {
       "output_type": "stream",
       "stream": "stdout",
       "text": [
        " 6.86648845004\n",
        "145.63484775"
       ]
      },
      {
       "output_type": "stream",
       "stream": "stdout",
       "text": [
        " 7.90604321091\n",
        "145.63484775"
       ]
      },
      {
       "output_type": "stream",
       "stream": "stdout",
       "text": [
        " 9.10298177992\n",
        "145.63484775"
       ]
      },
      {
       "output_type": "stream",
       "stream": "stdout",
       "text": [
        " 10.4811313415\n",
        "145.63484775"
       ]
      },
      {
       "output_type": "stream",
       "stream": "stdout",
       "text": [
        " 12.0679264064\n",
        "145.63484775"
       ]
      },
      {
       "output_type": "stream",
       "stream": "stdout",
       "text": [
        " 13.8949549437\n",
        "145.63484775"
       ]
      },
      {
       "output_type": "stream",
       "stream": "stdout",
       "text": [
        " 15.9985871961\n",
        "145.63484775"
       ]
      },
      {
       "output_type": "stream",
       "stream": "stdout",
       "text": [
        " 18.4206996933\n",
        "145.63484775"
       ]
      },
      {
       "output_type": "stream",
       "stream": "stdout",
       "text": [
        " 21.2095088792\n",
        "145.63484775"
       ]
      },
      {
       "output_type": "stream",
       "stream": "stdout",
       "text": [
        " 24.4205309455\n",
        "145.63484775"
       ]
      },
      {
       "output_type": "stream",
       "stream": "stdout",
       "text": [
        " 28.1176869797\n",
        "145.63484775"
       ]
      },
      {
       "output_type": "stream",
       "stream": "stdout",
       "text": [
        " 32.3745754282\n",
        "145.63484775"
       ]
      },
      {
       "output_type": "stream",
       "stream": "stdout",
       "text": [
        " 37.2759372031\n",
        "145.63484775"
       ]
      },
      {
       "output_type": "stream",
       "stream": "stdout",
       "text": [
        " 42.9193426013\n",
        "145.63484775"
       ]
      },
      {
       "output_type": "stream",
       "stream": "stdout",
       "text": [
        " 49.4171336132\n",
        "145.63484775"
       ]
      },
      {
       "output_type": "stream",
       "stream": "stdout",
       "text": [
        " 56.8986602902\n",
        "145.63484775"
       ]
      },
      {
       "output_type": "stream",
       "stream": "stdout",
       "text": [
        " 65.512855686\n",
        "145.63484775"
       ]
      },
      {
       "output_type": "stream",
       "stream": "stdout",
       "text": [
        " 75.4312006335\n",
        "145.63484775"
       ]
      },
      {
       "output_type": "stream",
       "stream": "stdout",
       "text": [
        " 86.8511373751\n",
        "145.63484775"
       ]
      },
      {
       "output_type": "stream",
       "stream": "stdout",
       "text": [
        " 100.0\n",
        "244.205309455"
       ]
      },
      {
       "output_type": "stream",
       "stream": "stdout",
       "text": [
        " 0.1\n",
        "244.205309455"
       ]
      },
      {
       "output_type": "stream",
       "stream": "stdout",
       "text": [
        " 0.115139539933\n",
        "244.205309455"
       ]
      },
      {
       "output_type": "stream",
       "stream": "stdout",
       "text": [
        " 0.132571136559\n",
        "244.205309455"
       ]
      },
      {
       "output_type": "stream",
       "stream": "stdout",
       "text": [
        " 0.152641796718\n",
        "244.205309455"
       ]
      },
      {
       "output_type": "stream",
       "stream": "stdout",
       "text": [
        " 0.175751062485\n",
        "244.205309455"
       ]
      },
      {
       "output_type": "stream",
       "stream": "stdout",
       "text": [
        " 0.202358964773\n",
        "244.205309455"
       ]
      },
      {
       "output_type": "stream",
       "stream": "stdout",
       "text": [
        " 0.232995181052\n",
        "244.205309455"
       ]
      },
      {
       "output_type": "stream",
       "stream": "stdout",
       "text": [
        " 0.268269579528\n",
        "244.205309455"
       ]
      },
      {
       "output_type": "stream",
       "stream": "stdout",
       "text": [
        " 0.308884359648\n",
        "244.205309455"
       ]
      },
      {
       "output_type": "stream",
       "stream": "stdout",
       "text": [
        " 0.355648030622\n",
        "244.205309455"
       ]
      },
      {
       "output_type": "stream",
       "stream": "stdout",
       "text": [
        " 0.409491506238\n",
        "244.205309455"
       ]
      },
      {
       "output_type": "stream",
       "stream": "stdout",
       "text": [
        " 0.471486636346\n",
        "244.205309455"
       ]
      },
      {
       "output_type": "stream",
       "stream": "stdout",
       "text": [
        " 0.542867543932\n",
        "244.205309455"
       ]
      },
      {
       "output_type": "stream",
       "stream": "stdout",
       "text": [
        " 0.625055192527\n",
        "244.205309455"
       ]
      },
      {
       "output_type": "stream",
       "stream": "stdout",
       "text": [
        " 0.719685673001\n",
        "244.205309455"
       ]
      },
      {
       "output_type": "stream",
       "stream": "stdout",
       "text": [
        " 0.828642772855\n",
        "244.205309455"
       ]
      },
      {
       "output_type": "stream",
       "stream": "stdout",
       "text": [
        " 0.95409547635\n",
        "244.205309455"
       ]
      },
      {
       "output_type": "stream",
       "stream": "stdout",
       "text": [
        " 1.09854114199\n",
        "244.205309455"
       ]
      },
      {
       "output_type": "stream",
       "stream": "stdout",
       "text": [
        " 1.26485521686\n",
        "244.205309455"
       ]
      },
      {
       "output_type": "stream",
       "stream": "stdout",
       "text": [
        " 1.4563484775\n",
        "244.205309455"
       ]
      },
      {
       "output_type": "stream",
       "stream": "stdout",
       "text": [
        " 1.67683293681\n",
        "244.205309455"
       ]
      },
      {
       "output_type": "stream",
       "stream": "stdout",
       "text": [
        " 1.93069772888\n",
        "244.205309455"
       ]
      },
      {
       "output_type": "stream",
       "stream": "stdout",
       "text": [
        " 2.22299648253\n",
        "244.205309455"
       ]
      },
      {
       "output_type": "stream",
       "stream": "stdout",
       "text": [
        " 2.5595479227\n",
        "244.205309455"
       ]
      },
      {
       "output_type": "stream",
       "stream": "stdout",
       "text": [
        " 2.94705170255\n",
        "244.205309455"
       ]
      },
      {
       "output_type": "stream",
       "stream": "stdout",
       "text": [
        " 3.3932217719\n",
        "244.205309455"
       ]
      },
      {
       "output_type": "stream",
       "stream": "stdout",
       "text": [
        " 3.90693993705\n",
        "244.205309455"
       ]
      },
      {
       "output_type": "stream",
       "stream": "stdout",
       "text": [
        " 4.49843266897\n",
        "244.205309455"
       ]
      },
      {
       "output_type": "stream",
       "stream": "stdout",
       "text": [
        " 5.17947467923\n",
        "244.205309455"
       ]
      },
      {
       "output_type": "stream",
       "stream": "stdout",
       "text": [
        " 5.96362331659\n",
        "244.205309455"
       ]
      },
      {
       "output_type": "stream",
       "stream": "stdout",
       "text": [
        " 6.86648845004\n",
        "244.205309455"
       ]
      },
      {
       "output_type": "stream",
       "stream": "stdout",
       "text": [
        " 7.90604321091\n",
        "244.205309455"
       ]
      },
      {
       "output_type": "stream",
       "stream": "stdout",
       "text": [
        " 9.10298177992\n",
        "244.205309455"
       ]
      },
      {
       "output_type": "stream",
       "stream": "stdout",
       "text": [
        " 10.4811313415\n",
        "244.205309455"
       ]
      },
      {
       "output_type": "stream",
       "stream": "stdout",
       "text": [
        " 12.0679264064\n",
        "244.205309455"
       ]
      },
      {
       "output_type": "stream",
       "stream": "stdout",
       "text": [
        " 13.8949549437\n",
        "244.205309455"
       ]
      },
      {
       "output_type": "stream",
       "stream": "stdout",
       "text": [
        " 15.9985871961\n",
        "244.205309455"
       ]
      },
      {
       "output_type": "stream",
       "stream": "stdout",
       "text": [
        " 18.4206996933\n",
        "244.205309455"
       ]
      },
      {
       "output_type": "stream",
       "stream": "stdout",
       "text": [
        " 21.2095088792\n",
        "244.205309455"
       ]
      },
      {
       "output_type": "stream",
       "stream": "stdout",
       "text": [
        " 24.4205309455\n",
        "244.205309455"
       ]
      },
      {
       "output_type": "stream",
       "stream": "stdout",
       "text": [
        " 28.1176869797\n",
        "244.205309455"
       ]
      },
      {
       "output_type": "stream",
       "stream": "stdout",
       "text": [
        " 32.3745754282\n",
        "244.205309455"
       ]
      },
      {
       "output_type": "stream",
       "stream": "stdout",
       "text": [
        " 37.2759372031\n",
        "244.205309455"
       ]
      },
      {
       "output_type": "stream",
       "stream": "stdout",
       "text": [
        " 42.9193426013\n",
        "244.205309455"
       ]
      },
      {
       "output_type": "stream",
       "stream": "stdout",
       "text": [
        " 49.4171336132\n",
        "244.205309455"
       ]
      },
      {
       "output_type": "stream",
       "stream": "stdout",
       "text": [
        " 56.8986602902\n",
        "244.205309455"
       ]
      },
      {
       "output_type": "stream",
       "stream": "stdout",
       "text": [
        " 65.512855686\n",
        "244.205309455"
       ]
      },
      {
       "output_type": "stream",
       "stream": "stdout",
       "text": [
        " 75.4312006335\n",
        "244.205309455"
       ]
      },
      {
       "output_type": "stream",
       "stream": "stdout",
       "text": [
        " 86.8511373751\n",
        "244.205309455"
       ]
      },
      {
       "output_type": "stream",
       "stream": "stdout",
       "text": [
        " 100.0\n",
        "409.491506238"
       ]
      },
      {
       "output_type": "stream",
       "stream": "stdout",
       "text": [
        " 0.1\n",
        "409.491506238"
       ]
      },
      {
       "output_type": "stream",
       "stream": "stdout",
       "text": [
        " 0.115139539933\n",
        "409.491506238"
       ]
      },
      {
       "output_type": "stream",
       "stream": "stdout",
       "text": [
        " 0.132571136559\n",
        "409.491506238"
       ]
      },
      {
       "output_type": "stream",
       "stream": "stdout",
       "text": [
        " 0.152641796718\n",
        "409.491506238"
       ]
      },
      {
       "output_type": "stream",
       "stream": "stdout",
       "text": [
        " 0.175751062485\n",
        "409.491506238"
       ]
      },
      {
       "output_type": "stream",
       "stream": "stdout",
       "text": [
        " 0.202358964773\n",
        "409.491506238"
       ]
      },
      {
       "output_type": "stream",
       "stream": "stdout",
       "text": [
        " 0.232995181052\n",
        "409.491506238"
       ]
      },
      {
       "output_type": "stream",
       "stream": "stdout",
       "text": [
        " 0.268269579528\n",
        "409.491506238"
       ]
      },
      {
       "output_type": "stream",
       "stream": "stdout",
       "text": [
        " 0.308884359648\n",
        "409.491506238"
       ]
      },
      {
       "output_type": "stream",
       "stream": "stdout",
       "text": [
        " 0.355648030622\n",
        "409.491506238"
       ]
      },
      {
       "output_type": "stream",
       "stream": "stdout",
       "text": [
        " 0.409491506238\n",
        "409.491506238"
       ]
      },
      {
       "output_type": "stream",
       "stream": "stdout",
       "text": [
        " 0.471486636346\n",
        "409.491506238"
       ]
      },
      {
       "output_type": "stream",
       "stream": "stdout",
       "text": [
        " 0.542867543932\n",
        "409.491506238"
       ]
      },
      {
       "output_type": "stream",
       "stream": "stdout",
       "text": [
        " 0.625055192527\n",
        "409.491506238"
       ]
      },
      {
       "output_type": "stream",
       "stream": "stdout",
       "text": [
        " 0.719685673001\n",
        "409.491506238"
       ]
      },
      {
       "output_type": "stream",
       "stream": "stdout",
       "text": [
        " 0.828642772855\n",
        "409.491506238"
       ]
      },
      {
       "output_type": "stream",
       "stream": "stdout",
       "text": [
        " 0.95409547635\n",
        "409.491506238"
       ]
      },
      {
       "output_type": "stream",
       "stream": "stdout",
       "text": [
        " 1.09854114199\n",
        "409.491506238"
       ]
      },
      {
       "output_type": "stream",
       "stream": "stdout",
       "text": [
        " 1.26485521686\n",
        "409.491506238"
       ]
      },
      {
       "output_type": "stream",
       "stream": "stdout",
       "text": [
        " 1.4563484775\n",
        "409.491506238"
       ]
      },
      {
       "output_type": "stream",
       "stream": "stdout",
       "text": [
        " 1.67683293681\n",
        "409.491506238"
       ]
      },
      {
       "output_type": "stream",
       "stream": "stdout",
       "text": [
        " 1.93069772888\n",
        "409.491506238"
       ]
      },
      {
       "output_type": "stream",
       "stream": "stdout",
       "text": [
        " 2.22299648253\n",
        "409.491506238"
       ]
      },
      {
       "output_type": "stream",
       "stream": "stdout",
       "text": [
        " 2.5595479227\n",
        "409.491506238"
       ]
      },
      {
       "output_type": "stream",
       "stream": "stdout",
       "text": [
        " 2.94705170255\n",
        "409.491506238"
       ]
      },
      {
       "output_type": "stream",
       "stream": "stdout",
       "text": [
        " 3.3932217719\n",
        "409.491506238"
       ]
      },
      {
       "output_type": "stream",
       "stream": "stdout",
       "text": [
        " 3.90693993705\n",
        "409.491506238"
       ]
      },
      {
       "output_type": "stream",
       "stream": "stdout",
       "text": [
        " 4.49843266897\n",
        "409.491506238"
       ]
      },
      {
       "output_type": "stream",
       "stream": "stdout",
       "text": [
        " 5.17947467923\n",
        "409.491506238"
       ]
      },
      {
       "output_type": "stream",
       "stream": "stdout",
       "text": [
        " 5.96362331659\n",
        "409.491506238"
       ]
      },
      {
       "output_type": "stream",
       "stream": "stdout",
       "text": [
        " 6.86648845004\n",
        "409.491506238"
       ]
      },
      {
       "output_type": "stream",
       "stream": "stdout",
       "text": [
        " 7.90604321091\n",
        "409.491506238"
       ]
      },
      {
       "output_type": "stream",
       "stream": "stdout",
       "text": [
        " 9.10298177992\n",
        "409.491506238"
       ]
      },
      {
       "output_type": "stream",
       "stream": "stdout",
       "text": [
        " 10.4811313415\n",
        "409.491506238"
       ]
      },
      {
       "output_type": "stream",
       "stream": "stdout",
       "text": [
        " 12.0679264064\n",
        "409.491506238"
       ]
      },
      {
       "output_type": "stream",
       "stream": "stdout",
       "text": [
        " 13.8949549437\n",
        "409.491506238"
       ]
      },
      {
       "output_type": "stream",
       "stream": "stdout",
       "text": [
        " 15.9985871961\n",
        "409.491506238"
       ]
      },
      {
       "output_type": "stream",
       "stream": "stdout",
       "text": [
        " 18.4206996933\n",
        "409.491506238"
       ]
      },
      {
       "output_type": "stream",
       "stream": "stdout",
       "text": [
        " 21.2095088792\n",
        "409.491506238"
       ]
      },
      {
       "output_type": "stream",
       "stream": "stdout",
       "text": [
        " 24.4205309455\n",
        "409.491506238"
       ]
      },
      {
       "output_type": "stream",
       "stream": "stdout",
       "text": [
        " 28.1176869797\n",
        "409.491506238"
       ]
      },
      {
       "output_type": "stream",
       "stream": "stdout",
       "text": [
        " 32.3745754282\n",
        "409.491506238"
       ]
      },
      {
       "output_type": "stream",
       "stream": "stdout",
       "text": [
        " 37.2759372031\n",
        "409.491506238"
       ]
      },
      {
       "output_type": "stream",
       "stream": "stdout",
       "text": [
        " 42.9193426013\n",
        "409.491506238"
       ]
      },
      {
       "output_type": "stream",
       "stream": "stdout",
       "text": [
        " 49.4171336132\n",
        "409.491506238"
       ]
      },
      {
       "output_type": "stream",
       "stream": "stdout",
       "text": [
        " 56.8986602902\n",
        "409.491506238"
       ]
      },
      {
       "output_type": "stream",
       "stream": "stdout",
       "text": [
        " 65.512855686\n",
        "409.491506238"
       ]
      },
      {
       "output_type": "stream",
       "stream": "stdout",
       "text": [
        " 75.4312006335\n",
        "409.491506238"
       ]
      },
      {
       "output_type": "stream",
       "stream": "stdout",
       "text": [
        " 86.8511373751\n",
        "409.491506238"
       ]
      },
      {
       "output_type": "stream",
       "stream": "stdout",
       "text": [
        " 100.0\n",
        "686.648845004"
       ]
      },
      {
       "output_type": "stream",
       "stream": "stdout",
       "text": [
        " 0.1\n",
        "686.648845004"
       ]
      },
      {
       "output_type": "stream",
       "stream": "stdout",
       "text": [
        " 0.115139539933\n",
        "686.648845004"
       ]
      },
      {
       "output_type": "stream",
       "stream": "stdout",
       "text": [
        " 0.132571136559\n",
        "686.648845004"
       ]
      },
      {
       "output_type": "stream",
       "stream": "stdout",
       "text": [
        " 0.152641796718\n",
        "686.648845004"
       ]
      },
      {
       "output_type": "stream",
       "stream": "stdout",
       "text": [
        " 0.175751062485\n",
        "686.648845004"
       ]
      },
      {
       "output_type": "stream",
       "stream": "stdout",
       "text": [
        " 0.202358964773\n",
        "686.648845004"
       ]
      },
      {
       "output_type": "stream",
       "stream": "stdout",
       "text": [
        " 0.232995181052\n",
        "686.648845004"
       ]
      },
      {
       "output_type": "stream",
       "stream": "stdout",
       "text": [
        " 0.268269579528\n",
        "686.648845004"
       ]
      },
      {
       "output_type": "stream",
       "stream": "stdout",
       "text": [
        " 0.308884359648\n",
        "686.648845004"
       ]
      },
      {
       "output_type": "stream",
       "stream": "stdout",
       "text": [
        " 0.355648030622\n",
        "686.648845004"
       ]
      },
      {
       "output_type": "stream",
       "stream": "stdout",
       "text": [
        " 0.409491506238\n",
        "686.648845004"
       ]
      },
      {
       "output_type": "stream",
       "stream": "stdout",
       "text": [
        " 0.471486636346\n",
        "686.648845004"
       ]
      },
      {
       "output_type": "stream",
       "stream": "stdout",
       "text": [
        " 0.542867543932\n",
        "686.648845004"
       ]
      },
      {
       "output_type": "stream",
       "stream": "stdout",
       "text": [
        " 0.625055192527\n",
        "686.648845004"
       ]
      },
      {
       "output_type": "stream",
       "stream": "stdout",
       "text": [
        " 0.719685673001\n",
        "686.648845004"
       ]
      },
      {
       "output_type": "stream",
       "stream": "stdout",
       "text": [
        " 0.828642772855\n",
        "686.648845004"
       ]
      },
      {
       "output_type": "stream",
       "stream": "stdout",
       "text": [
        " 0.95409547635\n",
        "686.648845004"
       ]
      },
      {
       "output_type": "stream",
       "stream": "stdout",
       "text": [
        " 1.09854114199\n",
        "686.648845004"
       ]
      },
      {
       "output_type": "stream",
       "stream": "stdout",
       "text": [
        " 1.26485521686\n",
        "686.648845004"
       ]
      },
      {
       "output_type": "stream",
       "stream": "stdout",
       "text": [
        " 1.4563484775\n",
        "686.648845004"
       ]
      },
      {
       "output_type": "stream",
       "stream": "stdout",
       "text": [
        " 1.67683293681\n",
        "686.648845004"
       ]
      },
      {
       "output_type": "stream",
       "stream": "stdout",
       "text": [
        " 1.93069772888\n",
        "686.648845004"
       ]
      },
      {
       "output_type": "stream",
       "stream": "stdout",
       "text": [
        " 2.22299648253\n",
        "686.648845004"
       ]
      },
      {
       "output_type": "stream",
       "stream": "stdout",
       "text": [
        " 2.5595479227\n",
        "686.648845004"
       ]
      },
      {
       "output_type": "stream",
       "stream": "stdout",
       "text": [
        " 2.94705170255\n",
        "686.648845004"
       ]
      },
      {
       "output_type": "stream",
       "stream": "stdout",
       "text": [
        " 3.3932217719\n",
        "686.648845004"
       ]
      },
      {
       "output_type": "stream",
       "stream": "stdout",
       "text": [
        " 3.90693993705\n",
        "686.648845004"
       ]
      },
      {
       "output_type": "stream",
       "stream": "stdout",
       "text": [
        " 4.49843266897\n",
        "686.648845004"
       ]
      },
      {
       "output_type": "stream",
       "stream": "stdout",
       "text": [
        " 5.17947467923\n",
        "686.648845004"
       ]
      },
      {
       "output_type": "stream",
       "stream": "stdout",
       "text": [
        " 5.96362331659\n",
        "686.648845004"
       ]
      },
      {
       "output_type": "stream",
       "stream": "stdout",
       "text": [
        " 6.86648845004\n",
        "686.648845004"
       ]
      },
      {
       "output_type": "stream",
       "stream": "stdout",
       "text": [
        " 7.90604321091\n",
        "686.648845004"
       ]
      },
      {
       "output_type": "stream",
       "stream": "stdout",
       "text": [
        " 9.10298177992\n",
        "686.648845004"
       ]
      },
      {
       "output_type": "stream",
       "stream": "stdout",
       "text": [
        " 10.4811313415\n",
        "686.648845004"
       ]
      },
      {
       "output_type": "stream",
       "stream": "stdout",
       "text": [
        " 12.0679264064\n",
        "686.648845004"
       ]
      },
      {
       "output_type": "stream",
       "stream": "stdout",
       "text": [
        " 13.8949549437\n",
        "686.648845004"
       ]
      },
      {
       "output_type": "stream",
       "stream": "stdout",
       "text": [
        " 15.9985871961\n",
        "686.648845004"
       ]
      },
      {
       "output_type": "stream",
       "stream": "stdout",
       "text": [
        " 18.4206996933\n",
        "686.648845004"
       ]
      },
      {
       "output_type": "stream",
       "stream": "stdout",
       "text": [
        " 21.2095088792\n",
        "686.648845004"
       ]
      },
      {
       "output_type": "stream",
       "stream": "stdout",
       "text": [
        " 24.4205309455\n",
        "686.648845004"
       ]
      },
      {
       "output_type": "stream",
       "stream": "stdout",
       "text": [
        " 28.1176869797\n",
        "686.648845004"
       ]
      },
      {
       "output_type": "stream",
       "stream": "stdout",
       "text": [
        " 32.3745754282\n",
        "686.648845004"
       ]
      },
      {
       "output_type": "stream",
       "stream": "stdout",
       "text": [
        " 37.2759372031\n",
        "686.648845004"
       ]
      },
      {
       "output_type": "stream",
       "stream": "stdout",
       "text": [
        " 42.9193426013\n",
        "686.648845004"
       ]
      },
      {
       "output_type": "stream",
       "stream": "stdout",
       "text": [
        " 49.4171336132\n",
        "686.648845004"
       ]
      },
      {
       "output_type": "stream",
       "stream": "stdout",
       "text": [
        " 56.8986602902\n",
        "686.648845004"
       ]
      },
      {
       "output_type": "stream",
       "stream": "stdout",
       "text": [
        " 65.512855686\n",
        "686.648845004"
       ]
      },
      {
       "output_type": "stream",
       "stream": "stdout",
       "text": [
        " 75.4312006335\n",
        "686.648845004"
       ]
      },
      {
       "output_type": "stream",
       "stream": "stdout",
       "text": [
        " 86.8511373751\n",
        "686.648845004"
       ]
      },
      {
       "output_type": "stream",
       "stream": "stdout",
       "text": [
        " 100.0\n",
        "1151.39539933"
       ]
      },
      {
       "output_type": "stream",
       "stream": "stdout",
       "text": [
        " 0.1\n",
        "1151.39539933"
       ]
      },
      {
       "output_type": "stream",
       "stream": "stdout",
       "text": [
        " 0.115139539933\n",
        "1151.39539933"
       ]
      },
      {
       "output_type": "stream",
       "stream": "stdout",
       "text": [
        " 0.132571136559\n",
        "1151.39539933"
       ]
      },
      {
       "output_type": "stream",
       "stream": "stdout",
       "text": [
        " 0.152641796718\n",
        "1151.39539933"
       ]
      },
      {
       "output_type": "stream",
       "stream": "stdout",
       "text": [
        " 0.175751062485\n",
        "1151.39539933"
       ]
      },
      {
       "output_type": "stream",
       "stream": "stdout",
       "text": [
        " 0.202358964773\n",
        "1151.39539933"
       ]
      },
      {
       "output_type": "stream",
       "stream": "stdout",
       "text": [
        " 0.232995181052\n",
        "1151.39539933"
       ]
      },
      {
       "output_type": "stream",
       "stream": "stdout",
       "text": [
        " 0.268269579528\n",
        "1151.39539933"
       ]
      },
      {
       "output_type": "stream",
       "stream": "stdout",
       "text": [
        " 0.308884359648\n",
        "1151.39539933"
       ]
      },
      {
       "output_type": "stream",
       "stream": "stdout",
       "text": [
        " 0.355648030622\n",
        "1151.39539933"
       ]
      },
      {
       "output_type": "stream",
       "stream": "stdout",
       "text": [
        " 0.409491506238\n",
        "1151.39539933"
       ]
      },
      {
       "output_type": "stream",
       "stream": "stdout",
       "text": [
        " 0.471486636346\n",
        "1151.39539933"
       ]
      },
      {
       "output_type": "stream",
       "stream": "stdout",
       "text": [
        " 0.542867543932\n",
        "1151.39539933"
       ]
      },
      {
       "output_type": "stream",
       "stream": "stdout",
       "text": [
        " 0.625055192527\n",
        "1151.39539933"
       ]
      },
      {
       "output_type": "stream",
       "stream": "stdout",
       "text": [
        " 0.719685673001\n",
        "1151.39539933"
       ]
      },
      {
       "output_type": "stream",
       "stream": "stdout",
       "text": [
        " 0.828642772855\n",
        "1151.39539933"
       ]
      },
      {
       "output_type": "stream",
       "stream": "stdout",
       "text": [
        " 0.95409547635\n",
        "1151.39539933"
       ]
      },
      {
       "output_type": "stream",
       "stream": "stdout",
       "text": [
        " 1.09854114199\n",
        "1151.39539933"
       ]
      },
      {
       "output_type": "stream",
       "stream": "stdout",
       "text": [
        " 1.26485521686\n",
        "1151.39539933"
       ]
      },
      {
       "output_type": "stream",
       "stream": "stdout",
       "text": [
        " 1.4563484775\n",
        "1151.39539933"
       ]
      },
      {
       "output_type": "stream",
       "stream": "stdout",
       "text": [
        " 1.67683293681\n",
        "1151.39539933"
       ]
      },
      {
       "output_type": "stream",
       "stream": "stdout",
       "text": [
        " 1.93069772888\n",
        "1151.39539933"
       ]
      },
      {
       "output_type": "stream",
       "stream": "stdout",
       "text": [
        " 2.22299648253\n",
        "1151.39539933"
       ]
      },
      {
       "output_type": "stream",
       "stream": "stdout",
       "text": [
        " 2.5595479227\n",
        "1151.39539933"
       ]
      },
      {
       "output_type": "stream",
       "stream": "stdout",
       "text": [
        " 2.94705170255\n",
        "1151.39539933"
       ]
      },
      {
       "output_type": "stream",
       "stream": "stdout",
       "text": [
        " 3.3932217719\n",
        "1151.39539933"
       ]
      },
      {
       "output_type": "stream",
       "stream": "stdout",
       "text": [
        " 3.90693993705\n",
        "1151.39539933"
       ]
      },
      {
       "output_type": "stream",
       "stream": "stdout",
       "text": [
        " 4.49843266897\n",
        "1151.39539933"
       ]
      },
      {
       "output_type": "stream",
       "stream": "stdout",
       "text": [
        " 5.17947467923\n",
        "1151.39539933"
       ]
      },
      {
       "output_type": "stream",
       "stream": "stdout",
       "text": [
        " 5.96362331659\n",
        "1151.39539933"
       ]
      },
      {
       "output_type": "stream",
       "stream": "stdout",
       "text": [
        " 6.86648845004\n",
        "1151.39539933"
       ]
      },
      {
       "output_type": "stream",
       "stream": "stdout",
       "text": [
        " 7.90604321091\n",
        "1151.39539933"
       ]
      },
      {
       "output_type": "stream",
       "stream": "stdout",
       "text": [
        " 9.10298177992\n",
        "1151.39539933"
       ]
      },
      {
       "output_type": "stream",
       "stream": "stdout",
       "text": [
        " 10.4811313415\n",
        "1151.39539933"
       ]
      },
      {
       "output_type": "stream",
       "stream": "stdout",
       "text": [
        " 12.0679264064\n",
        "1151.39539933"
       ]
      },
      {
       "output_type": "stream",
       "stream": "stdout",
       "text": [
        " 13.8949549437\n",
        "1151.39539933"
       ]
      },
      {
       "output_type": "stream",
       "stream": "stdout",
       "text": [
        " 15.9985871961\n",
        "1151.39539933"
       ]
      },
      {
       "output_type": "stream",
       "stream": "stdout",
       "text": [
        " 18.4206996933\n",
        "1151.39539933"
       ]
      },
      {
       "output_type": "stream",
       "stream": "stdout",
       "text": [
        " 21.2095088792\n",
        "1151.39539933"
       ]
      },
      {
       "output_type": "stream",
       "stream": "stdout",
       "text": [
        " 24.4205309455\n",
        "1151.39539933"
       ]
      },
      {
       "output_type": "stream",
       "stream": "stdout",
       "text": [
        " 28.1176869797\n",
        "1151.39539933"
       ]
      },
      {
       "output_type": "stream",
       "stream": "stdout",
       "text": [
        " 32.3745754282\n",
        "1151.39539933"
       ]
      },
      {
       "output_type": "stream",
       "stream": "stdout",
       "text": [
        " 37.2759372031\n",
        "1151.39539933"
       ]
      },
      {
       "output_type": "stream",
       "stream": "stdout",
       "text": [
        " 42.9193426013\n",
        "1151.39539933"
       ]
      },
      {
       "output_type": "stream",
       "stream": "stdout",
       "text": [
        " 49.4171336132\n",
        "1151.39539933"
       ]
      },
      {
       "output_type": "stream",
       "stream": "stdout",
       "text": [
        " 56.8986602902\n",
        "1151.39539933"
       ]
      },
      {
       "output_type": "stream",
       "stream": "stdout",
       "text": [
        " 65.512855686\n",
        "1151.39539933"
       ]
      },
      {
       "output_type": "stream",
       "stream": "stdout",
       "text": [
        " 75.4312006335\n",
        "1151.39539933"
       ]
      },
      {
       "output_type": "stream",
       "stream": "stdout",
       "text": [
        " 86.8511373751\n",
        "1151.39539933"
       ]
      },
      {
       "output_type": "stream",
       "stream": "stdout",
       "text": [
        " 100.0\n",
        "1930.69772888"
       ]
      },
      {
       "output_type": "stream",
       "stream": "stdout",
       "text": [
        " 0.1\n",
        "1930.69772888"
       ]
      },
      {
       "output_type": "stream",
       "stream": "stdout",
       "text": [
        " 0.115139539933\n",
        "1930.69772888"
       ]
      },
      {
       "output_type": "stream",
       "stream": "stdout",
       "text": [
        " 0.132571136559\n",
        "1930.69772888"
       ]
      },
      {
       "output_type": "stream",
       "stream": "stdout",
       "text": [
        " 0.152641796718\n",
        "1930.69772888"
       ]
      },
      {
       "output_type": "stream",
       "stream": "stdout",
       "text": [
        " 0.175751062485\n",
        "1930.69772888"
       ]
      },
      {
       "output_type": "stream",
       "stream": "stdout",
       "text": [
        " 0.202358964773\n",
        "1930.69772888"
       ]
      },
      {
       "output_type": "stream",
       "stream": "stdout",
       "text": [
        " 0.232995181052\n",
        "1930.69772888"
       ]
      },
      {
       "output_type": "stream",
       "stream": "stdout",
       "text": [
        " 0.268269579528\n",
        "1930.69772888"
       ]
      },
      {
       "output_type": "stream",
       "stream": "stdout",
       "text": [
        " 0.308884359648\n",
        "1930.69772888"
       ]
      },
      {
       "output_type": "stream",
       "stream": "stdout",
       "text": [
        " 0.355648030622\n",
        "1930.69772888"
       ]
      },
      {
       "output_type": "stream",
       "stream": "stdout",
       "text": [
        " 0.409491506238\n",
        "1930.69772888"
       ]
      },
      {
       "output_type": "stream",
       "stream": "stdout",
       "text": [
        " 0.471486636346\n",
        "1930.69772888"
       ]
      },
      {
       "output_type": "stream",
       "stream": "stdout",
       "text": [
        " 0.542867543932\n",
        "1930.69772888"
       ]
      },
      {
       "output_type": "stream",
       "stream": "stdout",
       "text": [
        " 0.625055192527\n",
        "1930.69772888"
       ]
      },
      {
       "output_type": "stream",
       "stream": "stdout",
       "text": [
        " 0.719685673001\n",
        "1930.69772888"
       ]
      },
      {
       "output_type": "stream",
       "stream": "stdout",
       "text": [
        " 0.828642772855\n",
        "1930.69772888"
       ]
      },
      {
       "output_type": "stream",
       "stream": "stdout",
       "text": [
        " 0.95409547635\n",
        "1930.69772888"
       ]
      },
      {
       "output_type": "stream",
       "stream": "stdout",
       "text": [
        " 1.09854114199\n",
        "1930.69772888"
       ]
      },
      {
       "output_type": "stream",
       "stream": "stdout",
       "text": [
        " 1.26485521686\n",
        "1930.69772888"
       ]
      },
      {
       "output_type": "stream",
       "stream": "stdout",
       "text": [
        " 1.4563484775\n",
        "1930.69772888"
       ]
      },
      {
       "output_type": "stream",
       "stream": "stdout",
       "text": [
        " 1.67683293681\n",
        "1930.69772888"
       ]
      },
      {
       "output_type": "stream",
       "stream": "stdout",
       "text": [
        " 1.93069772888\n",
        "1930.69772888"
       ]
      },
      {
       "output_type": "stream",
       "stream": "stdout",
       "text": [
        " 2.22299648253\n",
        "1930.69772888"
       ]
      },
      {
       "output_type": "stream",
       "stream": "stdout",
       "text": [
        " 2.5595479227\n",
        "1930.69772888"
       ]
      },
      {
       "output_type": "stream",
       "stream": "stdout",
       "text": [
        " 2.94705170255\n",
        "1930.69772888"
       ]
      },
      {
       "output_type": "stream",
       "stream": "stdout",
       "text": [
        " 3.3932217719\n",
        "1930.69772888"
       ]
      },
      {
       "output_type": "stream",
       "stream": "stdout",
       "text": [
        " 3.90693993705\n",
        "1930.69772888"
       ]
      },
      {
       "output_type": "stream",
       "stream": "stdout",
       "text": [
        " 4.49843266897\n",
        "1930.69772888"
       ]
      },
      {
       "output_type": "stream",
       "stream": "stdout",
       "text": [
        " 5.17947467923\n",
        "1930.69772888"
       ]
      },
      {
       "output_type": "stream",
       "stream": "stdout",
       "text": [
        " 5.96362331659\n",
        "1930.69772888"
       ]
      },
      {
       "output_type": "stream",
       "stream": "stdout",
       "text": [
        " 6.86648845004\n",
        "1930.69772888"
       ]
      },
      {
       "output_type": "stream",
       "stream": "stdout",
       "text": [
        " 7.90604321091\n",
        "1930.69772888"
       ]
      },
      {
       "output_type": "stream",
       "stream": "stdout",
       "text": [
        " 9.10298177992\n",
        "1930.69772888"
       ]
      },
      {
       "output_type": "stream",
       "stream": "stdout",
       "text": [
        " 10.4811313415\n",
        "1930.69772888"
       ]
      },
      {
       "output_type": "stream",
       "stream": "stdout",
       "text": [
        " 12.0679264064\n",
        "1930.69772888"
       ]
      },
      {
       "output_type": "stream",
       "stream": "stdout",
       "text": [
        " 13.8949549437\n",
        "1930.69772888"
       ]
      },
      {
       "output_type": "stream",
       "stream": "stdout",
       "text": [
        " 15.9985871961\n",
        "1930.69772888"
       ]
      },
      {
       "output_type": "stream",
       "stream": "stdout",
       "text": [
        " 18.4206996933\n",
        "1930.69772888"
       ]
      },
      {
       "output_type": "stream",
       "stream": "stdout",
       "text": [
        " 21.2095088792\n",
        "1930.69772888"
       ]
      },
      {
       "output_type": "stream",
       "stream": "stdout",
       "text": [
        " 24.4205309455\n",
        "1930.69772888"
       ]
      },
      {
       "output_type": "stream",
       "stream": "stdout",
       "text": [
        " 28.1176869797\n",
        "1930.69772888"
       ]
      },
      {
       "output_type": "stream",
       "stream": "stdout",
       "text": [
        " 32.3745754282\n",
        "1930.69772888"
       ]
      },
      {
       "output_type": "stream",
       "stream": "stdout",
       "text": [
        " 37.2759372031\n",
        "1930.69772888"
       ]
      },
      {
       "output_type": "stream",
       "stream": "stdout",
       "text": [
        " 42.9193426013\n",
        "1930.69772888"
       ]
      },
      {
       "output_type": "stream",
       "stream": "stdout",
       "text": [
        " 49.4171336132\n",
        "1930.69772888"
       ]
      },
      {
       "output_type": "stream",
       "stream": "stdout",
       "text": [
        " 56.8986602902\n",
        "1930.69772888"
       ]
      },
      {
       "output_type": "stream",
       "stream": "stdout",
       "text": [
        " 65.512855686\n",
        "1930.69772888"
       ]
      },
      {
       "output_type": "stream",
       "stream": "stdout",
       "text": [
        " 75.4312006335\n",
        "1930.69772888"
       ]
      },
      {
       "output_type": "stream",
       "stream": "stdout",
       "text": [
        " 86.8511373751\n",
        "1930.69772888"
       ]
      },
      {
       "output_type": "stream",
       "stream": "stdout",
       "text": [
        " 100.0\n",
        "3237.45754282"
       ]
      },
      {
       "output_type": "stream",
       "stream": "stdout",
       "text": [
        " 0.1\n",
        "3237.45754282"
       ]
      },
      {
       "output_type": "stream",
       "stream": "stdout",
       "text": [
        " 0.115139539933\n",
        "3237.45754282"
       ]
      },
      {
       "output_type": "stream",
       "stream": "stdout",
       "text": [
        " 0.132571136559\n",
        "3237.45754282"
       ]
      },
      {
       "output_type": "stream",
       "stream": "stdout",
       "text": [
        " 0.152641796718\n",
        "3237.45754282"
       ]
      },
      {
       "output_type": "stream",
       "stream": "stdout",
       "text": [
        " 0.175751062485\n",
        "3237.45754282"
       ]
      },
      {
       "output_type": "stream",
       "stream": "stdout",
       "text": [
        " 0.202358964773\n",
        "3237.45754282"
       ]
      },
      {
       "output_type": "stream",
       "stream": "stdout",
       "text": [
        " 0.232995181052\n",
        "3237.45754282"
       ]
      },
      {
       "output_type": "stream",
       "stream": "stdout",
       "text": [
        " 0.268269579528\n",
        "3237.45754282"
       ]
      },
      {
       "output_type": "stream",
       "stream": "stdout",
       "text": [
        " 0.308884359648\n",
        "3237.45754282"
       ]
      },
      {
       "output_type": "stream",
       "stream": "stdout",
       "text": [
        " 0.355648030622\n",
        "3237.45754282"
       ]
      },
      {
       "output_type": "stream",
       "stream": "stdout",
       "text": [
        " 0.409491506238\n",
        "3237.45754282"
       ]
      },
      {
       "output_type": "stream",
       "stream": "stdout",
       "text": [
        " 0.471486636346\n",
        "3237.45754282"
       ]
      },
      {
       "output_type": "stream",
       "stream": "stdout",
       "text": [
        " 0.542867543932\n",
        "3237.45754282"
       ]
      },
      {
       "output_type": "stream",
       "stream": "stdout",
       "text": [
        " 0.625055192527\n",
        "3237.45754282"
       ]
      },
      {
       "output_type": "stream",
       "stream": "stdout",
       "text": [
        " 0.719685673001\n",
        "3237.45754282"
       ]
      },
      {
       "output_type": "stream",
       "stream": "stdout",
       "text": [
        " 0.828642772855\n",
        "3237.45754282"
       ]
      },
      {
       "output_type": "stream",
       "stream": "stdout",
       "text": [
        " 0.95409547635\n",
        "3237.45754282"
       ]
      },
      {
       "output_type": "stream",
       "stream": "stdout",
       "text": [
        " 1.09854114199\n",
        "3237.45754282"
       ]
      },
      {
       "output_type": "stream",
       "stream": "stdout",
       "text": [
        " 1.26485521686\n",
        "3237.45754282"
       ]
      },
      {
       "output_type": "stream",
       "stream": "stdout",
       "text": [
        " 1.4563484775\n",
        "3237.45754282"
       ]
      },
      {
       "output_type": "stream",
       "stream": "stdout",
       "text": [
        " 1.67683293681\n",
        "3237.45754282"
       ]
      },
      {
       "output_type": "stream",
       "stream": "stdout",
       "text": [
        " 1.93069772888\n",
        "3237.45754282"
       ]
      },
      {
       "output_type": "stream",
       "stream": "stdout",
       "text": [
        " 2.22299648253\n",
        "3237.45754282"
       ]
      },
      {
       "output_type": "stream",
       "stream": "stdout",
       "text": [
        " 2.5595479227\n",
        "3237.45754282"
       ]
      },
      {
       "output_type": "stream",
       "stream": "stdout",
       "text": [
        " 2.94705170255\n",
        "3237.45754282"
       ]
      },
      {
       "output_type": "stream",
       "stream": "stdout",
       "text": [
        " 3.3932217719\n",
        "3237.45754282"
       ]
      },
      {
       "output_type": "stream",
       "stream": "stdout",
       "text": [
        " 3.90693993705\n",
        "3237.45754282"
       ]
      },
      {
       "output_type": "stream",
       "stream": "stdout",
       "text": [
        " 4.49843266897\n",
        "3237.45754282"
       ]
      },
      {
       "output_type": "stream",
       "stream": "stdout",
       "text": [
        " 5.17947467923\n",
        "3237.45754282"
       ]
      },
      {
       "output_type": "stream",
       "stream": "stdout",
       "text": [
        " 5.96362331659\n",
        "3237.45754282"
       ]
      },
      {
       "output_type": "stream",
       "stream": "stdout",
       "text": [
        " 6.86648845004\n",
        "3237.45754282"
       ]
      },
      {
       "output_type": "stream",
       "stream": "stdout",
       "text": [
        " 7.90604321091\n",
        "3237.45754282"
       ]
      },
      {
       "output_type": "stream",
       "stream": "stdout",
       "text": [
        " 9.10298177992\n",
        "3237.45754282"
       ]
      },
      {
       "output_type": "stream",
       "stream": "stdout",
       "text": [
        " 10.4811313415\n",
        "3237.45754282"
       ]
      },
      {
       "output_type": "stream",
       "stream": "stdout",
       "text": [
        " 12.0679264064\n",
        "3237.45754282"
       ]
      },
      {
       "output_type": "stream",
       "stream": "stdout",
       "text": [
        " 13.8949549437\n",
        "3237.45754282"
       ]
      },
      {
       "output_type": "stream",
       "stream": "stdout",
       "text": [
        " 15.9985871961\n",
        "3237.45754282"
       ]
      },
      {
       "output_type": "stream",
       "stream": "stdout",
       "text": [
        " 18.4206996933\n",
        "3237.45754282"
       ]
      },
      {
       "output_type": "stream",
       "stream": "stdout",
       "text": [
        " 21.2095088792\n",
        "3237.45754282"
       ]
      },
      {
       "output_type": "stream",
       "stream": "stdout",
       "text": [
        " 24.4205309455\n",
        "3237.45754282"
       ]
      },
      {
       "output_type": "stream",
       "stream": "stdout",
       "text": [
        " 28.1176869797\n",
        "3237.45754282"
       ]
      },
      {
       "output_type": "stream",
       "stream": "stdout",
       "text": [
        " 32.3745754282\n",
        "3237.45754282"
       ]
      },
      {
       "output_type": "stream",
       "stream": "stdout",
       "text": [
        " 37.2759372031\n",
        "3237.45754282"
       ]
      },
      {
       "output_type": "stream",
       "stream": "stdout",
       "text": [
        " 42.9193426013\n",
        "3237.45754282"
       ]
      },
      {
       "output_type": "stream",
       "stream": "stdout",
       "text": [
        " 49.4171336132\n",
        "3237.45754282"
       ]
      },
      {
       "output_type": "stream",
       "stream": "stdout",
       "text": [
        " 56.8986602902\n",
        "3237.45754282"
       ]
      },
      {
       "output_type": "stream",
       "stream": "stdout",
       "text": [
        " 65.512855686\n",
        "3237.45754282"
       ]
      },
      {
       "output_type": "stream",
       "stream": "stdout",
       "text": [
        " 75.4312006335\n",
        "3237.45754282"
       ]
      },
      {
       "output_type": "stream",
       "stream": "stdout",
       "text": [
        " 86.8511373751\n",
        "3237.45754282"
       ]
      },
      {
       "output_type": "stream",
       "stream": "stdout",
       "text": [
        " 100.0\n",
        "5428.67543932"
       ]
      },
      {
       "output_type": "stream",
       "stream": "stdout",
       "text": [
        " 0.1\n",
        "5428.67543932"
       ]
      },
      {
       "output_type": "stream",
       "stream": "stdout",
       "text": [
        " 0.115139539933\n",
        "5428.67543932"
       ]
      },
      {
       "output_type": "stream",
       "stream": "stdout",
       "text": [
        " 0.132571136559\n",
        "5428.67543932"
       ]
      },
      {
       "output_type": "stream",
       "stream": "stdout",
       "text": [
        " 0.152641796718\n",
        "5428.67543932"
       ]
      },
      {
       "output_type": "stream",
       "stream": "stdout",
       "text": [
        " 0.175751062485\n",
        "5428.67543932"
       ]
      },
      {
       "output_type": "stream",
       "stream": "stdout",
       "text": [
        " 0.202358964773\n",
        "5428.67543932"
       ]
      },
      {
       "output_type": "stream",
       "stream": "stdout",
       "text": [
        " 0.232995181052\n",
        "5428.67543932"
       ]
      },
      {
       "output_type": "stream",
       "stream": "stdout",
       "text": [
        " 0.268269579528\n",
        "5428.67543932"
       ]
      },
      {
       "output_type": "stream",
       "stream": "stdout",
       "text": [
        " 0.308884359648\n",
        "5428.67543932"
       ]
      },
      {
       "output_type": "stream",
       "stream": "stdout",
       "text": [
        " 0.355648030622\n",
        "5428.67543932"
       ]
      },
      {
       "output_type": "stream",
       "stream": "stdout",
       "text": [
        " 0.409491506238\n",
        "5428.67543932"
       ]
      },
      {
       "output_type": "stream",
       "stream": "stdout",
       "text": [
        " 0.471486636346\n",
        "5428.67543932"
       ]
      },
      {
       "output_type": "stream",
       "stream": "stdout",
       "text": [
        " 0.542867543932\n",
        "5428.67543932"
       ]
      },
      {
       "output_type": "stream",
       "stream": "stdout",
       "text": [
        " 0.625055192527\n",
        "5428.67543932"
       ]
      },
      {
       "output_type": "stream",
       "stream": "stdout",
       "text": [
        " 0.719685673001\n",
        "5428.67543932"
       ]
      },
      {
       "output_type": "stream",
       "stream": "stdout",
       "text": [
        " 0.828642772855\n",
        "5428.67543932"
       ]
      },
      {
       "output_type": "stream",
       "stream": "stdout",
       "text": [
        " 0.95409547635\n",
        "5428.67543932"
       ]
      },
      {
       "output_type": "stream",
       "stream": "stdout",
       "text": [
        " 1.09854114199\n",
        "5428.67543932"
       ]
      },
      {
       "output_type": "stream",
       "stream": "stdout",
       "text": [
        " 1.26485521686\n",
        "5428.67543932"
       ]
      },
      {
       "output_type": "stream",
       "stream": "stdout",
       "text": [
        " 1.4563484775\n",
        "5428.67543932"
       ]
      },
      {
       "output_type": "stream",
       "stream": "stdout",
       "text": [
        " 1.67683293681\n",
        "5428.67543932"
       ]
      },
      {
       "output_type": "stream",
       "stream": "stdout",
       "text": [
        " 1.93069772888\n",
        "5428.67543932"
       ]
      },
      {
       "output_type": "stream",
       "stream": "stdout",
       "text": [
        " 2.22299648253\n",
        "5428.67543932"
       ]
      },
      {
       "output_type": "stream",
       "stream": "stdout",
       "text": [
        " 2.5595479227\n",
        "5428.67543932"
       ]
      },
      {
       "output_type": "stream",
       "stream": "stdout",
       "text": [
        " 2.94705170255\n",
        "5428.67543932"
       ]
      },
      {
       "output_type": "stream",
       "stream": "stdout",
       "text": [
        " 3.3932217719\n",
        "5428.67543932"
       ]
      },
      {
       "output_type": "stream",
       "stream": "stdout",
       "text": [
        " 3.90693993705\n",
        "5428.67543932"
       ]
      },
      {
       "output_type": "stream",
       "stream": "stdout",
       "text": [
        " 4.49843266897\n",
        "5428.67543932"
       ]
      },
      {
       "output_type": "stream",
       "stream": "stdout",
       "text": [
        " 5.17947467923\n",
        "5428.67543932"
       ]
      },
      {
       "output_type": "stream",
       "stream": "stdout",
       "text": [
        " 5.96362331659\n",
        "5428.67543932"
       ]
      },
      {
       "output_type": "stream",
       "stream": "stdout",
       "text": [
        " 6.86648845004\n",
        "5428.67543932"
       ]
      },
      {
       "output_type": "stream",
       "stream": "stdout",
       "text": [
        " 7.90604321091\n",
        "5428.67543932"
       ]
      },
      {
       "output_type": "stream",
       "stream": "stdout",
       "text": [
        " 9.10298177992\n",
        "5428.67543932"
       ]
      },
      {
       "output_type": "stream",
       "stream": "stdout",
       "text": [
        " 10.4811313415\n",
        "5428.67543932"
       ]
      },
      {
       "output_type": "stream",
       "stream": "stdout",
       "text": [
        " 12.0679264064\n",
        "5428.67543932"
       ]
      },
      {
       "output_type": "stream",
       "stream": "stdout",
       "text": [
        " 13.8949549437\n",
        "5428.67543932"
       ]
      },
      {
       "output_type": "stream",
       "stream": "stdout",
       "text": [
        " 15.9985871961\n",
        "5428.67543932"
       ]
      },
      {
       "output_type": "stream",
       "stream": "stdout",
       "text": [
        " 18.4206996933\n",
        "5428.67543932"
       ]
      },
      {
       "output_type": "stream",
       "stream": "stdout",
       "text": [
        " 21.2095088792\n",
        "5428.67543932"
       ]
      },
      {
       "output_type": "stream",
       "stream": "stdout",
       "text": [
        " 24.4205309455\n",
        "5428.67543932"
       ]
      },
      {
       "output_type": "stream",
       "stream": "stdout",
       "text": [
        " 28.1176869797\n",
        "5428.67543932"
       ]
      },
      {
       "output_type": "stream",
       "stream": "stdout",
       "text": [
        " 32.3745754282\n",
        "5428.67543932"
       ]
      },
      {
       "output_type": "stream",
       "stream": "stdout",
       "text": [
        " 37.2759372031\n",
        "5428.67543932"
       ]
      },
      {
       "output_type": "stream",
       "stream": "stdout",
       "text": [
        " 42.9193426013\n",
        "5428.67543932"
       ]
      },
      {
       "output_type": "stream",
       "stream": "stdout",
       "text": [
        " 49.4171336132\n",
        "5428.67543932"
       ]
      },
      {
       "output_type": "stream",
       "stream": "stdout",
       "text": [
        " 56.8986602902\n",
        "5428.67543932"
       ]
      },
      {
       "output_type": "stream",
       "stream": "stdout",
       "text": [
        " 65.512855686\n",
        "5428.67543932"
       ]
      },
      {
       "output_type": "stream",
       "stream": "stdout",
       "text": [
        " 75.4312006335\n",
        "5428.67543932"
       ]
      },
      {
       "output_type": "stream",
       "stream": "stdout",
       "text": [
        " 86.8511373751\n",
        "5428.67543932"
       ]
      },
      {
       "output_type": "stream",
       "stream": "stdout",
       "text": [
        " 100.0\n",
        "9102.98177992"
       ]
      },
      {
       "output_type": "stream",
       "stream": "stdout",
       "text": [
        " 0.1\n",
        "9102.98177992"
       ]
      },
      {
       "output_type": "stream",
       "stream": "stdout",
       "text": [
        " 0.115139539933\n",
        "9102.98177992"
       ]
      },
      {
       "output_type": "stream",
       "stream": "stdout",
       "text": [
        " 0.132571136559\n",
        "9102.98177992"
       ]
      },
      {
       "output_type": "stream",
       "stream": "stdout",
       "text": [
        " 0.152641796718\n",
        "9102.98177992"
       ]
      },
      {
       "output_type": "stream",
       "stream": "stdout",
       "text": [
        " 0.175751062485\n",
        "9102.98177992"
       ]
      },
      {
       "output_type": "stream",
       "stream": "stdout",
       "text": [
        " 0.202358964773\n",
        "9102.98177992"
       ]
      },
      {
       "output_type": "stream",
       "stream": "stdout",
       "text": [
        " 0.232995181052\n",
        "9102.98177992"
       ]
      },
      {
       "output_type": "stream",
       "stream": "stdout",
       "text": [
        " 0.268269579528\n",
        "9102.98177992"
       ]
      },
      {
       "output_type": "stream",
       "stream": "stdout",
       "text": [
        " 0.308884359648\n",
        "9102.98177992"
       ]
      },
      {
       "output_type": "stream",
       "stream": "stdout",
       "text": [
        " 0.355648030622\n",
        "9102.98177992"
       ]
      },
      {
       "output_type": "stream",
       "stream": "stdout",
       "text": [
        " 0.409491506238\n",
        "9102.98177992"
       ]
      },
      {
       "output_type": "stream",
       "stream": "stdout",
       "text": [
        " 0.471486636346\n",
        "9102.98177992"
       ]
      },
      {
       "output_type": "stream",
       "stream": "stdout",
       "text": [
        " 0.542867543932\n",
        "9102.98177992"
       ]
      },
      {
       "output_type": "stream",
       "stream": "stdout",
       "text": [
        " 0.625055192527\n",
        "9102.98177992"
       ]
      },
      {
       "output_type": "stream",
       "stream": "stdout",
       "text": [
        " 0.719685673001\n",
        "9102.98177992"
       ]
      },
      {
       "output_type": "stream",
       "stream": "stdout",
       "text": [
        " 0.828642772855\n",
        "9102.98177992"
       ]
      },
      {
       "output_type": "stream",
       "stream": "stdout",
       "text": [
        " 0.95409547635\n",
        "9102.98177992"
       ]
      },
      {
       "output_type": "stream",
       "stream": "stdout",
       "text": [
        " 1.09854114199\n",
        "9102.98177992"
       ]
      },
      {
       "output_type": "stream",
       "stream": "stdout",
       "text": [
        " 1.26485521686\n",
        "9102.98177992"
       ]
      },
      {
       "output_type": "stream",
       "stream": "stdout",
       "text": [
        " 1.4563484775\n",
        "9102.98177992"
       ]
      },
      {
       "output_type": "stream",
       "stream": "stdout",
       "text": [
        " 1.67683293681\n",
        "9102.98177992"
       ]
      },
      {
       "output_type": "stream",
       "stream": "stdout",
       "text": [
        " 1.93069772888\n",
        "9102.98177992"
       ]
      },
      {
       "output_type": "stream",
       "stream": "stdout",
       "text": [
        " 2.22299648253\n",
        "9102.98177992"
       ]
      },
      {
       "output_type": "stream",
       "stream": "stdout",
       "text": [
        " 2.5595479227\n",
        "9102.98177992"
       ]
      },
      {
       "output_type": "stream",
       "stream": "stdout",
       "text": [
        " 2.94705170255\n",
        "9102.98177992"
       ]
      },
      {
       "output_type": "stream",
       "stream": "stdout",
       "text": [
        " 3.3932217719\n",
        "9102.98177992"
       ]
      },
      {
       "output_type": "stream",
       "stream": "stdout",
       "text": [
        " 3.90693993705\n",
        "9102.98177992"
       ]
      },
      {
       "output_type": "stream",
       "stream": "stdout",
       "text": [
        " 4.49843266897\n",
        "9102.98177992"
       ]
      },
      {
       "output_type": "stream",
       "stream": "stdout",
       "text": [
        " 5.17947467923\n",
        "9102.98177992"
       ]
      },
      {
       "output_type": "stream",
       "stream": "stdout",
       "text": [
        " 5.96362331659\n",
        "9102.98177992"
       ]
      },
      {
       "output_type": "stream",
       "stream": "stdout",
       "text": [
        " 6.86648845004\n",
        "9102.98177992"
       ]
      },
      {
       "output_type": "stream",
       "stream": "stdout",
       "text": [
        " 7.90604321091\n",
        "9102.98177992"
       ]
      },
      {
       "output_type": "stream",
       "stream": "stdout",
       "text": [
        " 9.10298177992\n",
        "9102.98177992"
       ]
      },
      {
       "output_type": "stream",
       "stream": "stdout",
       "text": [
        " 10.4811313415\n",
        "9102.98177992"
       ]
      },
      {
       "output_type": "stream",
       "stream": "stdout",
       "text": [
        " 12.0679264064\n",
        "9102.98177992"
       ]
      },
      {
       "output_type": "stream",
       "stream": "stdout",
       "text": [
        " 13.8949549437\n",
        "9102.98177992"
       ]
      },
      {
       "output_type": "stream",
       "stream": "stdout",
       "text": [
        " 15.9985871961\n",
        "9102.98177992"
       ]
      },
      {
       "output_type": "stream",
       "stream": "stdout",
       "text": [
        " 18.4206996933\n",
        "9102.98177992"
       ]
      },
      {
       "output_type": "stream",
       "stream": "stdout",
       "text": [
        " 21.2095088792\n",
        "9102.98177992"
       ]
      },
      {
       "output_type": "stream",
       "stream": "stdout",
       "text": [
        " 24.4205309455\n",
        "9102.98177992"
       ]
      },
      {
       "output_type": "stream",
       "stream": "stdout",
       "text": [
        " 28.1176869797\n",
        "9102.98177992"
       ]
      },
      {
       "output_type": "stream",
       "stream": "stdout",
       "text": [
        " 32.3745754282\n",
        "9102.98177992"
       ]
      },
      {
       "output_type": "stream",
       "stream": "stdout",
       "text": [
        " 37.2759372031\n",
        "9102.98177992"
       ]
      },
      {
       "output_type": "stream",
       "stream": "stdout",
       "text": [
        " 42.9193426013\n",
        "9102.98177992"
       ]
      },
      {
       "output_type": "stream",
       "stream": "stdout",
       "text": [
        " 49.4171336132\n",
        "9102.98177992"
       ]
      },
      {
       "output_type": "stream",
       "stream": "stdout",
       "text": [
        " 56.8986602902\n",
        "9102.98177992"
       ]
      },
      {
       "output_type": "stream",
       "stream": "stdout",
       "text": [
        " 65.512855686\n",
        "9102.98177992"
       ]
      },
      {
       "output_type": "stream",
       "stream": "stdout",
       "text": [
        " 75.4312006335\n",
        "9102.98177992"
       ]
      },
      {
       "output_type": "stream",
       "stream": "stdout",
       "text": [
        " 86.8511373751\n",
        "9102.98177992"
       ]
      },
      {
       "output_type": "stream",
       "stream": "stdout",
       "text": [
        " 100.0\n",
        "15264.1796718"
       ]
      },
      {
       "output_type": "stream",
       "stream": "stdout",
       "text": [
        " 0.1\n",
        "15264.1796718"
       ]
      },
      {
       "output_type": "stream",
       "stream": "stdout",
       "text": [
        " 0.115139539933\n",
        "15264.1796718"
       ]
      },
      {
       "output_type": "stream",
       "stream": "stdout",
       "text": [
        " 0.132571136559\n",
        "15264.1796718"
       ]
      },
      {
       "output_type": "stream",
       "stream": "stdout",
       "text": [
        " 0.152641796718\n",
        "15264.1796718"
       ]
      },
      {
       "output_type": "stream",
       "stream": "stdout",
       "text": [
        " 0.175751062485\n",
        "15264.1796718"
       ]
      },
      {
       "output_type": "stream",
       "stream": "stdout",
       "text": [
        " 0.202358964773\n",
        "15264.1796718"
       ]
      },
      {
       "output_type": "stream",
       "stream": "stdout",
       "text": [
        " 0.232995181052\n",
        "15264.1796718"
       ]
      },
      {
       "output_type": "stream",
       "stream": "stdout",
       "text": [
        " 0.268269579528\n",
        "15264.1796718"
       ]
      },
      {
       "output_type": "stream",
       "stream": "stdout",
       "text": [
        " 0.308884359648\n",
        "15264.1796718"
       ]
      },
      {
       "output_type": "stream",
       "stream": "stdout",
       "text": [
        " 0.355648030622\n",
        "15264.1796718"
       ]
      },
      {
       "output_type": "stream",
       "stream": "stdout",
       "text": [
        " 0.409491506238\n",
        "15264.1796718"
       ]
      },
      {
       "output_type": "stream",
       "stream": "stdout",
       "text": [
        " 0.471486636346\n",
        "15264.1796718"
       ]
      },
      {
       "output_type": "stream",
       "stream": "stdout",
       "text": [
        " 0.542867543932\n",
        "15264.1796718"
       ]
      },
      {
       "output_type": "stream",
       "stream": "stdout",
       "text": [
        " 0.625055192527\n",
        "15264.1796718"
       ]
      },
      {
       "output_type": "stream",
       "stream": "stdout",
       "text": [
        " 0.719685673001\n",
        "15264.1796718"
       ]
      },
      {
       "output_type": "stream",
       "stream": "stdout",
       "text": [
        " 0.828642772855\n",
        "15264.1796718"
       ]
      },
      {
       "output_type": "stream",
       "stream": "stdout",
       "text": [
        " 0.95409547635\n",
        "15264.1796718"
       ]
      },
      {
       "output_type": "stream",
       "stream": "stdout",
       "text": [
        " 1.09854114199\n",
        "15264.1796718"
       ]
      },
      {
       "output_type": "stream",
       "stream": "stdout",
       "text": [
        " 1.26485521686\n",
        "15264.1796718"
       ]
      },
      {
       "output_type": "stream",
       "stream": "stdout",
       "text": [
        " 1.4563484775\n",
        "15264.1796718"
       ]
      },
      {
       "output_type": "stream",
       "stream": "stdout",
       "text": [
        " 1.67683293681\n",
        "15264.1796718"
       ]
      },
      {
       "output_type": "stream",
       "stream": "stdout",
       "text": [
        " 1.93069772888\n",
        "15264.1796718"
       ]
      },
      {
       "output_type": "stream",
       "stream": "stdout",
       "text": [
        " 2.22299648253\n",
        "15264.1796718"
       ]
      },
      {
       "output_type": "stream",
       "stream": "stdout",
       "text": [
        " 2.5595479227\n",
        "15264.1796718"
       ]
      },
      {
       "output_type": "stream",
       "stream": "stdout",
       "text": [
        " 2.94705170255\n",
        "15264.1796718"
       ]
      },
      {
       "output_type": "stream",
       "stream": "stdout",
       "text": [
        " 3.3932217719\n",
        "15264.1796718"
       ]
      },
      {
       "output_type": "stream",
       "stream": "stdout",
       "text": [
        " 3.90693993705\n",
        "15264.1796718"
       ]
      },
      {
       "output_type": "stream",
       "stream": "stdout",
       "text": [
        " 4.49843266897\n",
        "15264.1796718"
       ]
      },
      {
       "output_type": "stream",
       "stream": "stdout",
       "text": [
        " 5.17947467923\n",
        "15264.1796718"
       ]
      },
      {
       "output_type": "stream",
       "stream": "stdout",
       "text": [
        " 5.96362331659\n",
        "15264.1796718"
       ]
      },
      {
       "output_type": "stream",
       "stream": "stdout",
       "text": [
        " 6.86648845004\n",
        "15264.1796718"
       ]
      },
      {
       "output_type": "stream",
       "stream": "stdout",
       "text": [
        " 7.90604321091\n",
        "15264.1796718"
       ]
      },
      {
       "output_type": "stream",
       "stream": "stdout",
       "text": [
        " 9.10298177992\n",
        "15264.1796718"
       ]
      },
      {
       "output_type": "stream",
       "stream": "stdout",
       "text": [
        " 10.4811313415\n",
        "15264.1796718"
       ]
      },
      {
       "output_type": "stream",
       "stream": "stdout",
       "text": [
        " 12.0679264064\n",
        "15264.1796718"
       ]
      },
      {
       "output_type": "stream",
       "stream": "stdout",
       "text": [
        " 13.8949549437\n",
        "15264.1796718"
       ]
      },
      {
       "output_type": "stream",
       "stream": "stdout",
       "text": [
        " 15.9985871961\n",
        "15264.1796718"
       ]
      },
      {
       "output_type": "stream",
       "stream": "stdout",
       "text": [
        " 18.4206996933\n",
        "15264.1796718"
       ]
      },
      {
       "output_type": "stream",
       "stream": "stdout",
       "text": [
        " 21.2095088792\n",
        "15264.1796718"
       ]
      },
      {
       "output_type": "stream",
       "stream": "stdout",
       "text": [
        " 24.4205309455\n",
        "15264.1796718"
       ]
      },
      {
       "output_type": "stream",
       "stream": "stdout",
       "text": [
        " 28.1176869797\n",
        "15264.1796718"
       ]
      },
      {
       "output_type": "stream",
       "stream": "stdout",
       "text": [
        " 32.3745754282\n",
        "15264.1796718"
       ]
      },
      {
       "output_type": "stream",
       "stream": "stdout",
       "text": [
        " 37.2759372031\n",
        "15264.1796718"
       ]
      },
      {
       "output_type": "stream",
       "stream": "stdout",
       "text": [
        " 42.9193426013\n",
        "15264.1796718"
       ]
      },
      {
       "output_type": "stream",
       "stream": "stdout",
       "text": [
        " 49.4171336132\n",
        "15264.1796718"
       ]
      },
      {
       "output_type": "stream",
       "stream": "stdout",
       "text": [
        " 56.8986602902\n",
        "15264.1796718"
       ]
      },
      {
       "output_type": "stream",
       "stream": "stdout",
       "text": [
        " 65.512855686\n",
        "15264.1796718"
       ]
      },
      {
       "output_type": "stream",
       "stream": "stdout",
       "text": [
        " 75.4312006335\n",
        "15264.1796718"
       ]
      },
      {
       "output_type": "stream",
       "stream": "stdout",
       "text": [
        " 86.8511373751\n",
        "15264.1796718"
       ]
      },
      {
       "output_type": "stream",
       "stream": "stdout",
       "text": [
        " 100.0\n",
        "25595.479227"
       ]
      },
      {
       "output_type": "stream",
       "stream": "stdout",
       "text": [
        " 0.1\n",
        "25595.479227"
       ]
      },
      {
       "output_type": "stream",
       "stream": "stdout",
       "text": [
        " 0.115139539933\n",
        "25595.479227"
       ]
      },
      {
       "output_type": "stream",
       "stream": "stdout",
       "text": [
        " 0.132571136559\n",
        "25595.479227"
       ]
      },
      {
       "output_type": "stream",
       "stream": "stdout",
       "text": [
        " 0.152641796718\n",
        "25595.479227"
       ]
      },
      {
       "output_type": "stream",
       "stream": "stdout",
       "text": [
        " 0.175751062485\n",
        "25595.479227"
       ]
      },
      {
       "output_type": "stream",
       "stream": "stdout",
       "text": [
        " 0.202358964773\n",
        "25595.479227"
       ]
      },
      {
       "output_type": "stream",
       "stream": "stdout",
       "text": [
        " 0.232995181052\n",
        "25595.479227"
       ]
      },
      {
       "output_type": "stream",
       "stream": "stdout",
       "text": [
        " 0.268269579528\n",
        "25595.479227"
       ]
      },
      {
       "output_type": "stream",
       "stream": "stdout",
       "text": [
        " 0.308884359648\n",
        "25595.479227"
       ]
      },
      {
       "output_type": "stream",
       "stream": "stdout",
       "text": [
        " 0.355648030622\n",
        "25595.479227"
       ]
      },
      {
       "output_type": "stream",
       "stream": "stdout",
       "text": [
        " 0.409491506238\n",
        "25595.479227"
       ]
      },
      {
       "output_type": "stream",
       "stream": "stdout",
       "text": [
        " 0.471486636346\n",
        "25595.479227"
       ]
      },
      {
       "output_type": "stream",
       "stream": "stdout",
       "text": [
        " 0.542867543932\n",
        "25595.479227"
       ]
      },
      {
       "output_type": "stream",
       "stream": "stdout",
       "text": [
        " 0.625055192527\n",
        "25595.479227"
       ]
      },
      {
       "output_type": "stream",
       "stream": "stdout",
       "text": [
        " 0.719685673001\n",
        "25595.479227"
       ]
      },
      {
       "output_type": "stream",
       "stream": "stdout",
       "text": [
        " 0.828642772855\n",
        "25595.479227"
       ]
      },
      {
       "output_type": "stream",
       "stream": "stdout",
       "text": [
        " 0.95409547635\n",
        "25595.479227"
       ]
      },
      {
       "output_type": "stream",
       "stream": "stdout",
       "text": [
        " 1.09854114199\n",
        "25595.479227"
       ]
      },
      {
       "output_type": "stream",
       "stream": "stdout",
       "text": [
        " 1.26485521686\n",
        "25595.479227"
       ]
      },
      {
       "output_type": "stream",
       "stream": "stdout",
       "text": [
        " 1.4563484775\n",
        "25595.479227"
       ]
      },
      {
       "output_type": "stream",
       "stream": "stdout",
       "text": [
        " 1.67683293681\n",
        "25595.479227"
       ]
      },
      {
       "output_type": "stream",
       "stream": "stdout",
       "text": [
        " 1.93069772888\n",
        "25595.479227"
       ]
      },
      {
       "output_type": "stream",
       "stream": "stdout",
       "text": [
        " 2.22299648253\n",
        "25595.479227"
       ]
      },
      {
       "output_type": "stream",
       "stream": "stdout",
       "text": [
        " 2.5595479227\n",
        "25595.479227"
       ]
      },
      {
       "output_type": "stream",
       "stream": "stdout",
       "text": [
        " 2.94705170255\n",
        "25595.479227"
       ]
      },
      {
       "output_type": "stream",
       "stream": "stdout",
       "text": [
        " 3.3932217719\n",
        "25595.479227"
       ]
      },
      {
       "output_type": "stream",
       "stream": "stdout",
       "text": [
        " 3.90693993705\n",
        "25595.479227"
       ]
      },
      {
       "output_type": "stream",
       "stream": "stdout",
       "text": [
        " 4.49843266897\n",
        "25595.479227"
       ]
      },
      {
       "output_type": "stream",
       "stream": "stdout",
       "text": [
        " 5.17947467923\n",
        "25595.479227"
       ]
      },
      {
       "output_type": "stream",
       "stream": "stdout",
       "text": [
        " 5.96362331659\n",
        "25595.479227"
       ]
      },
      {
       "output_type": "stream",
       "stream": "stdout",
       "text": [
        " 6.86648845004\n",
        "25595.479227"
       ]
      },
      {
       "output_type": "stream",
       "stream": "stdout",
       "text": [
        " 7.90604321091\n",
        "25595.479227"
       ]
      },
      {
       "output_type": "stream",
       "stream": "stdout",
       "text": [
        " 9.10298177992\n",
        "25595.479227"
       ]
      },
      {
       "output_type": "stream",
       "stream": "stdout",
       "text": [
        " 10.4811313415\n",
        "25595.479227"
       ]
      },
      {
       "output_type": "stream",
       "stream": "stdout",
       "text": [
        " 12.0679264064\n",
        "25595.479227"
       ]
      },
      {
       "output_type": "stream",
       "stream": "stdout",
       "text": [
        " 13.8949549437\n",
        "25595.479227"
       ]
      },
      {
       "output_type": "stream",
       "stream": "stdout",
       "text": [
        " 15.9985871961\n",
        "25595.479227"
       ]
      },
      {
       "output_type": "stream",
       "stream": "stdout",
       "text": [
        " 18.4206996933\n",
        "25595.479227"
       ]
      },
      {
       "output_type": "stream",
       "stream": "stdout",
       "text": [
        " 21.2095088792\n",
        "25595.479227"
       ]
      },
      {
       "output_type": "stream",
       "stream": "stdout",
       "text": [
        " 24.4205309455\n",
        "25595.479227"
       ]
      },
      {
       "output_type": "stream",
       "stream": "stdout",
       "text": [
        " 28.1176869797\n",
        "25595.479227"
       ]
      },
      {
       "output_type": "stream",
       "stream": "stdout",
       "text": [
        " 32.3745754282\n",
        "25595.479227"
       ]
      },
      {
       "output_type": "stream",
       "stream": "stdout",
       "text": [
        " 37.2759372031\n",
        "25595.479227"
       ]
      },
      {
       "output_type": "stream",
       "stream": "stdout",
       "text": [
        " 42.9193426013\n",
        "25595.479227"
       ]
      },
      {
       "output_type": "stream",
       "stream": "stdout",
       "text": [
        " 49.4171336132\n",
        "25595.479227"
       ]
      },
      {
       "output_type": "stream",
       "stream": "stdout",
       "text": [
        " 56.8986602902\n",
        "25595.479227"
       ]
      },
      {
       "output_type": "stream",
       "stream": "stdout",
       "text": [
        " 65.512855686\n",
        "25595.479227"
       ]
      },
      {
       "output_type": "stream",
       "stream": "stdout",
       "text": [
        " 75.4312006335\n",
        "25595.479227"
       ]
      },
      {
       "output_type": "stream",
       "stream": "stdout",
       "text": [
        " 86.8511373751\n",
        "25595.479227"
       ]
      },
      {
       "output_type": "stream",
       "stream": "stdout",
       "text": [
        " 100.0\n",
        "42919.3426013"
       ]
      },
      {
       "output_type": "stream",
       "stream": "stdout",
       "text": [
        " 0.1\n",
        "42919.3426013"
       ]
      },
      {
       "output_type": "stream",
       "stream": "stdout",
       "text": [
        " 0.115139539933\n",
        "42919.3426013"
       ]
      },
      {
       "output_type": "stream",
       "stream": "stdout",
       "text": [
        " 0.132571136559\n",
        "42919.3426013"
       ]
      },
      {
       "output_type": "stream",
       "stream": "stdout",
       "text": [
        " 0.152641796718\n",
        "42919.3426013"
       ]
      },
      {
       "output_type": "stream",
       "stream": "stdout",
       "text": [
        " 0.175751062485\n",
        "42919.3426013"
       ]
      },
      {
       "output_type": "stream",
       "stream": "stdout",
       "text": [
        " 0.202358964773\n",
        "42919.3426013"
       ]
      },
      {
       "output_type": "stream",
       "stream": "stdout",
       "text": [
        " 0.232995181052\n",
        "42919.3426013"
       ]
      },
      {
       "output_type": "stream",
       "stream": "stdout",
       "text": [
        " 0.268269579528\n",
        "42919.3426013"
       ]
      },
      {
       "output_type": "stream",
       "stream": "stdout",
       "text": [
        " 0.308884359648\n",
        "42919.3426013"
       ]
      },
      {
       "output_type": "stream",
       "stream": "stdout",
       "text": [
        " 0.355648030622\n",
        "42919.3426013"
       ]
      },
      {
       "output_type": "stream",
       "stream": "stdout",
       "text": [
        " 0.409491506238\n",
        "42919.3426013"
       ]
      },
      {
       "output_type": "stream",
       "stream": "stdout",
       "text": [
        " 0.471486636346\n",
        "42919.3426013"
       ]
      },
      {
       "output_type": "stream",
       "stream": "stdout",
       "text": [
        " 0.542867543932\n",
        "42919.3426013"
       ]
      },
      {
       "output_type": "stream",
       "stream": "stdout",
       "text": [
        " 0.625055192527\n",
        "42919.3426013"
       ]
      },
      {
       "output_type": "stream",
       "stream": "stdout",
       "text": [
        " 0.719685673001\n",
        "42919.3426013"
       ]
      },
      {
       "output_type": "stream",
       "stream": "stdout",
       "text": [
        " 0.828642772855\n",
        "42919.3426013"
       ]
      },
      {
       "output_type": "stream",
       "stream": "stdout",
       "text": [
        " 0.95409547635\n",
        "42919.3426013"
       ]
      },
      {
       "output_type": "stream",
       "stream": "stdout",
       "text": [
        " 1.09854114199\n",
        "42919.3426013"
       ]
      },
      {
       "output_type": "stream",
       "stream": "stdout",
       "text": [
        " 1.26485521686\n",
        "42919.3426013"
       ]
      },
      {
       "output_type": "stream",
       "stream": "stdout",
       "text": [
        " 1.4563484775\n",
        "42919.3426013"
       ]
      },
      {
       "output_type": "stream",
       "stream": "stdout",
       "text": [
        " 1.67683293681\n",
        "42919.3426013"
       ]
      },
      {
       "output_type": "stream",
       "stream": "stdout",
       "text": [
        " 1.93069772888\n",
        "42919.3426013"
       ]
      },
      {
       "output_type": "stream",
       "stream": "stdout",
       "text": [
        " 2.22299648253\n",
        "42919.3426013"
       ]
      },
      {
       "output_type": "stream",
       "stream": "stdout",
       "text": [
        " 2.5595479227\n",
        "42919.3426013"
       ]
      },
      {
       "output_type": "stream",
       "stream": "stdout",
       "text": [
        " 2.94705170255\n",
        "42919.3426013"
       ]
      },
      {
       "output_type": "stream",
       "stream": "stdout",
       "text": [
        " 3.3932217719\n",
        "42919.3426013"
       ]
      },
      {
       "output_type": "stream",
       "stream": "stdout",
       "text": [
        " 3.90693993705\n",
        "42919.3426013"
       ]
      },
      {
       "output_type": "stream",
       "stream": "stdout",
       "text": [
        " 4.49843266897\n",
        "42919.3426013"
       ]
      },
      {
       "output_type": "stream",
       "stream": "stdout",
       "text": [
        " 5.17947467923\n",
        "42919.3426013"
       ]
      },
      {
       "output_type": "stream",
       "stream": "stdout",
       "text": [
        " 5.96362331659\n",
        "42919.3426013"
       ]
      },
      {
       "output_type": "stream",
       "stream": "stdout",
       "text": [
        " 6.86648845004\n",
        "42919.3426013"
       ]
      },
      {
       "output_type": "stream",
       "stream": "stdout",
       "text": [
        " 7.90604321091\n",
        "42919.3426013"
       ]
      },
      {
       "output_type": "stream",
       "stream": "stdout",
       "text": [
        " 9.10298177992\n",
        "42919.3426013"
       ]
      },
      {
       "output_type": "stream",
       "stream": "stdout",
       "text": [
        " 10.4811313415\n",
        "42919.3426013"
       ]
      },
      {
       "output_type": "stream",
       "stream": "stdout",
       "text": [
        " 12.0679264064\n",
        "42919.3426013"
       ]
      },
      {
       "output_type": "stream",
       "stream": "stdout",
       "text": [
        " 13.8949549437\n",
        "42919.3426013"
       ]
      },
      {
       "output_type": "stream",
       "stream": "stdout",
       "text": [
        " 15.9985871961\n",
        "42919.3426013"
       ]
      },
      {
       "output_type": "stream",
       "stream": "stdout",
       "text": [
        " 18.4206996933\n",
        "42919.3426013"
       ]
      },
      {
       "output_type": "stream",
       "stream": "stdout",
       "text": [
        " 21.2095088792\n",
        "42919.3426013"
       ]
      },
      {
       "output_type": "stream",
       "stream": "stdout",
       "text": [
        " 24.4205309455\n",
        "42919.3426013"
       ]
      },
      {
       "output_type": "stream",
       "stream": "stdout",
       "text": [
        " 28.1176869797\n",
        "42919.3426013"
       ]
      },
      {
       "output_type": "stream",
       "stream": "stdout",
       "text": [
        " 32.3745754282\n",
        "42919.3426013"
       ]
      },
      {
       "output_type": "stream",
       "stream": "stdout",
       "text": [
        " 37.2759372031\n",
        "42919.3426013"
       ]
      },
      {
       "output_type": "stream",
       "stream": "stdout",
       "text": [
        " 42.9193426013\n",
        "42919.3426013"
       ]
      },
      {
       "output_type": "stream",
       "stream": "stdout",
       "text": [
        " 49.4171336132\n",
        "42919.3426013"
       ]
      },
      {
       "output_type": "stream",
       "stream": "stdout",
       "text": [
        " 56.8986602902\n",
        "42919.3426013"
       ]
      },
      {
       "output_type": "stream",
       "stream": "stdout",
       "text": [
        " 65.512855686\n",
        "42919.3426013"
       ]
      },
      {
       "output_type": "stream",
       "stream": "stdout",
       "text": [
        " 75.4312006335\n",
        "42919.3426013"
       ]
      },
      {
       "output_type": "stream",
       "stream": "stdout",
       "text": [
        " 86.8511373751\n",
        "42919.3426013"
       ]
      },
      {
       "output_type": "stream",
       "stream": "stdout",
       "text": [
        " 100.0\n",
        "71968.5673001"
       ]
      },
      {
       "output_type": "stream",
       "stream": "stdout",
       "text": [
        " 0.1\n",
        "71968.5673001"
       ]
      },
      {
       "output_type": "stream",
       "stream": "stdout",
       "text": [
        " 0.115139539933\n",
        "71968.5673001"
       ]
      },
      {
       "output_type": "stream",
       "stream": "stdout",
       "text": [
        " 0.132571136559\n",
        "71968.5673001"
       ]
      },
      {
       "output_type": "stream",
       "stream": "stdout",
       "text": [
        " 0.152641796718\n",
        "71968.5673001"
       ]
      },
      {
       "output_type": "stream",
       "stream": "stdout",
       "text": [
        " 0.175751062485\n",
        "71968.5673001"
       ]
      },
      {
       "output_type": "stream",
       "stream": "stdout",
       "text": [
        " 0.202358964773\n",
        "71968.5673001"
       ]
      },
      {
       "output_type": "stream",
       "stream": "stdout",
       "text": [
        " 0.232995181052\n",
        "71968.5673001"
       ]
      },
      {
       "output_type": "stream",
       "stream": "stdout",
       "text": [
        " 0.268269579528\n",
        "71968.5673001"
       ]
      },
      {
       "output_type": "stream",
       "stream": "stdout",
       "text": [
        " 0.308884359648\n",
        "71968.5673001"
       ]
      },
      {
       "output_type": "stream",
       "stream": "stdout",
       "text": [
        " 0.355648030622\n",
        "71968.5673001"
       ]
      },
      {
       "output_type": "stream",
       "stream": "stdout",
       "text": [
        " 0.409491506238\n",
        "71968.5673001"
       ]
      },
      {
       "output_type": "stream",
       "stream": "stdout",
       "text": [
        " 0.471486636346\n",
        "71968.5673001"
       ]
      },
      {
       "output_type": "stream",
       "stream": "stdout",
       "text": [
        " 0.542867543932\n",
        "71968.5673001"
       ]
      },
      {
       "output_type": "stream",
       "stream": "stdout",
       "text": [
        " 0.625055192527\n",
        "71968.5673001"
       ]
      },
      {
       "output_type": "stream",
       "stream": "stdout",
       "text": [
        " 0.719685673001\n",
        "71968.5673001"
       ]
      },
      {
       "output_type": "stream",
       "stream": "stdout",
       "text": [
        " 0.828642772855\n",
        "71968.5673001"
       ]
      },
      {
       "output_type": "stream",
       "stream": "stdout",
       "text": [
        " 0.95409547635\n",
        "71968.5673001"
       ]
      },
      {
       "output_type": "stream",
       "stream": "stdout",
       "text": [
        " 1.09854114199\n",
        "71968.5673001"
       ]
      },
      {
       "output_type": "stream",
       "stream": "stdout",
       "text": [
        " 1.26485521686\n",
        "71968.5673001"
       ]
      },
      {
       "output_type": "stream",
       "stream": "stdout",
       "text": [
        " 1.4563484775\n",
        "71968.5673001"
       ]
      },
      {
       "output_type": "stream",
       "stream": "stdout",
       "text": [
        " 1.67683293681\n",
        "71968.5673001"
       ]
      },
      {
       "output_type": "stream",
       "stream": "stdout",
       "text": [
        " 1.93069772888\n",
        "71968.5673001"
       ]
      },
      {
       "output_type": "stream",
       "stream": "stdout",
       "text": [
        " 2.22299648253\n",
        "71968.5673001"
       ]
      },
      {
       "output_type": "stream",
       "stream": "stdout",
       "text": [
        " 2.5595479227\n",
        "71968.5673001"
       ]
      },
      {
       "output_type": "stream",
       "stream": "stdout",
       "text": [
        " 2.94705170255\n",
        "71968.5673001"
       ]
      },
      {
       "output_type": "stream",
       "stream": "stdout",
       "text": [
        " 3.3932217719\n",
        "71968.5673001"
       ]
      },
      {
       "output_type": "stream",
       "stream": "stdout",
       "text": [
        " 3.90693993705\n",
        "71968.5673001"
       ]
      },
      {
       "output_type": "stream",
       "stream": "stdout",
       "text": [
        " 4.49843266897\n",
        "71968.5673001"
       ]
      },
      {
       "output_type": "stream",
       "stream": "stdout",
       "text": [
        " 5.17947467923\n",
        "71968.5673001"
       ]
      },
      {
       "output_type": "stream",
       "stream": "stdout",
       "text": [
        " 5.96362331659\n",
        "71968.5673001"
       ]
      },
      {
       "output_type": "stream",
       "stream": "stdout",
       "text": [
        " 6.86648845004\n",
        "71968.5673001"
       ]
      },
      {
       "output_type": "stream",
       "stream": "stdout",
       "text": [
        " 7.90604321091\n",
        "71968.5673001"
       ]
      },
      {
       "output_type": "stream",
       "stream": "stdout",
       "text": [
        " 9.10298177992\n",
        "71968.5673001"
       ]
      },
      {
       "output_type": "stream",
       "stream": "stdout",
       "text": [
        " 10.4811313415\n",
        "71968.5673001"
       ]
      },
      {
       "output_type": "stream",
       "stream": "stdout",
       "text": [
        " 12.0679264064\n",
        "71968.5673001"
       ]
      },
      {
       "output_type": "stream",
       "stream": "stdout",
       "text": [
        " 13.8949549437\n",
        "71968.5673001"
       ]
      },
      {
       "output_type": "stream",
       "stream": "stdout",
       "text": [
        " 15.9985871961\n",
        "71968.5673001"
       ]
      },
      {
       "output_type": "stream",
       "stream": "stdout",
       "text": [
        " 18.4206996933\n",
        "71968.5673001"
       ]
      },
      {
       "output_type": "stream",
       "stream": "stdout",
       "text": [
        " 21.2095088792\n",
        "71968.5673001"
       ]
      },
      {
       "output_type": "stream",
       "stream": "stdout",
       "text": [
        " 24.4205309455\n",
        "71968.5673001"
       ]
      },
      {
       "output_type": "stream",
       "stream": "stdout",
       "text": [
        " 28.1176869797\n",
        "71968.5673001"
       ]
      },
      {
       "output_type": "stream",
       "stream": "stdout",
       "text": [
        " 32.3745754282\n",
        "71968.5673001"
       ]
      },
      {
       "output_type": "stream",
       "stream": "stdout",
       "text": [
        " 37.2759372031\n",
        "71968.5673001"
       ]
      },
      {
       "output_type": "stream",
       "stream": "stdout",
       "text": [
        " 42.9193426013\n",
        "71968.5673001"
       ]
      },
      {
       "output_type": "stream",
       "stream": "stdout",
       "text": [
        " 49.4171336132\n",
        "71968.5673001"
       ]
      },
      {
       "output_type": "stream",
       "stream": "stdout",
       "text": [
        " 56.8986602902\n",
        "71968.5673001"
       ]
      },
      {
       "output_type": "stream",
       "stream": "stdout",
       "text": [
        " 65.512855686\n",
        "71968.5673001"
       ]
      },
      {
       "output_type": "stream",
       "stream": "stdout",
       "text": [
        " 75.4312006335\n",
        "71968.5673001"
       ]
      },
      {
       "output_type": "stream",
       "stream": "stdout",
       "text": [
        " 86.8511373751\n",
        "71968.5673001"
       ]
      },
      {
       "output_type": "stream",
       "stream": "stdout",
       "text": [
        " 100.0\n",
        "120679.264064"
       ]
      },
      {
       "output_type": "stream",
       "stream": "stdout",
       "text": [
        " 0.1\n",
        "120679.264064"
       ]
      },
      {
       "output_type": "stream",
       "stream": "stdout",
       "text": [
        " 0.115139539933\n",
        "120679.264064"
       ]
      },
      {
       "output_type": "stream",
       "stream": "stdout",
       "text": [
        " 0.132571136559\n",
        "120679.264064"
       ]
      },
      {
       "output_type": "stream",
       "stream": "stdout",
       "text": [
        " 0.152641796718\n",
        "120679.264064"
       ]
      },
      {
       "output_type": "stream",
       "stream": "stdout",
       "text": [
        " 0.175751062485\n",
        "120679.264064"
       ]
      },
      {
       "output_type": "stream",
       "stream": "stdout",
       "text": [
        " 0.202358964773\n",
        "120679.264064"
       ]
      },
      {
       "output_type": "stream",
       "stream": "stdout",
       "text": [
        " 0.232995181052\n",
        "120679.264064"
       ]
      },
      {
       "output_type": "stream",
       "stream": "stdout",
       "text": [
        " 0.268269579528\n",
        "120679.264064"
       ]
      },
      {
       "output_type": "stream",
       "stream": "stdout",
       "text": [
        " 0.308884359648\n",
        "120679.264064"
       ]
      },
      {
       "output_type": "stream",
       "stream": "stdout",
       "text": [
        " 0.355648030622\n",
        "120679.264064"
       ]
      },
      {
       "output_type": "stream",
       "stream": "stdout",
       "text": [
        " 0.409491506238\n",
        "120679.264064"
       ]
      },
      {
       "output_type": "stream",
       "stream": "stdout",
       "text": [
        " 0.471486636346\n",
        "120679.264064"
       ]
      },
      {
       "output_type": "stream",
       "stream": "stdout",
       "text": [
        " 0.542867543932\n",
        "120679.264064"
       ]
      },
      {
       "output_type": "stream",
       "stream": "stdout",
       "text": [
        " 0.625055192527\n",
        "120679.264064"
       ]
      },
      {
       "output_type": "stream",
       "stream": "stdout",
       "text": [
        " 0.719685673001\n",
        "120679.264064"
       ]
      },
      {
       "output_type": "stream",
       "stream": "stdout",
       "text": [
        " 0.828642772855\n",
        "120679.264064"
       ]
      },
      {
       "output_type": "stream",
       "stream": "stdout",
       "text": [
        " 0.95409547635\n",
        "120679.264064"
       ]
      },
      {
       "output_type": "stream",
       "stream": "stdout",
       "text": [
        " 1.09854114199\n",
        "120679.264064"
       ]
      },
      {
       "output_type": "stream",
       "stream": "stdout",
       "text": [
        " 1.26485521686\n",
        "120679.264064"
       ]
      },
      {
       "output_type": "stream",
       "stream": "stdout",
       "text": [
        " 1.4563484775\n",
        "120679.264064"
       ]
      },
      {
       "output_type": "stream",
       "stream": "stdout",
       "text": [
        " 1.67683293681\n",
        "120679.264064"
       ]
      },
      {
       "output_type": "stream",
       "stream": "stdout",
       "text": [
        " 1.93069772888\n",
        "120679.264064"
       ]
      },
      {
       "output_type": "stream",
       "stream": "stdout",
       "text": [
        " 2.22299648253\n",
        "120679.264064"
       ]
      },
      {
       "output_type": "stream",
       "stream": "stdout",
       "text": [
        " 2.5595479227\n",
        "120679.264064"
       ]
      },
      {
       "output_type": "stream",
       "stream": "stdout",
       "text": [
        " 2.94705170255\n",
        "120679.264064"
       ]
      },
      {
       "output_type": "stream",
       "stream": "stdout",
       "text": [
        " 3.3932217719\n",
        "120679.264064"
       ]
      },
      {
       "output_type": "stream",
       "stream": "stdout",
       "text": [
        " 3.90693993705\n",
        "120679.264064"
       ]
      },
      {
       "output_type": "stream",
       "stream": "stdout",
       "text": [
        " 4.49843266897\n",
        "120679.264064"
       ]
      },
      {
       "output_type": "stream",
       "stream": "stdout",
       "text": [
        " 5.17947467923\n",
        "120679.264064"
       ]
      },
      {
       "output_type": "stream",
       "stream": "stdout",
       "text": [
        " 5.96362331659\n",
        "120679.264064"
       ]
      },
      {
       "output_type": "stream",
       "stream": "stdout",
       "text": [
        " 6.86648845004\n",
        "120679.264064"
       ]
      },
      {
       "output_type": "stream",
       "stream": "stdout",
       "text": [
        " 7.90604321091\n",
        "120679.264064"
       ]
      },
      {
       "output_type": "stream",
       "stream": "stdout",
       "text": [
        " 9.10298177992\n",
        "120679.264064"
       ]
      },
      {
       "output_type": "stream",
       "stream": "stdout",
       "text": [
        " 10.4811313415\n",
        "120679.264064"
       ]
      },
      {
       "output_type": "stream",
       "stream": "stdout",
       "text": [
        " 12.0679264064\n",
        "120679.264064"
       ]
      },
      {
       "output_type": "stream",
       "stream": "stdout",
       "text": [
        " 13.8949549437\n",
        "120679.264064"
       ]
      },
      {
       "output_type": "stream",
       "stream": "stdout",
       "text": [
        " 15.9985871961\n",
        "120679.264064"
       ]
      },
      {
       "output_type": "stream",
       "stream": "stdout",
       "text": [
        " 18.4206996933\n",
        "120679.264064"
       ]
      },
      {
       "output_type": "stream",
       "stream": "stdout",
       "text": [
        " 21.2095088792\n",
        "120679.264064"
       ]
      },
      {
       "output_type": "stream",
       "stream": "stdout",
       "text": [
        " 24.4205309455\n",
        "120679.264064"
       ]
      },
      {
       "output_type": "stream",
       "stream": "stdout",
       "text": [
        " 28.1176869797\n",
        "120679.264064"
       ]
      },
      {
       "output_type": "stream",
       "stream": "stdout",
       "text": [
        " 32.3745754282\n",
        "120679.264064"
       ]
      },
      {
       "output_type": "stream",
       "stream": "stdout",
       "text": [
        " 37.2759372031\n",
        "120679.264064"
       ]
      },
      {
       "output_type": "stream",
       "stream": "stdout",
       "text": [
        " 42.9193426013\n",
        "120679.264064"
       ]
      },
      {
       "output_type": "stream",
       "stream": "stdout",
       "text": [
        " 49.4171336132\n",
        "120679.264064"
       ]
      },
      {
       "output_type": "stream",
       "stream": "stdout",
       "text": [
        " 56.8986602902\n",
        "120679.264064"
       ]
      },
      {
       "output_type": "stream",
       "stream": "stdout",
       "text": [
        " 65.512855686\n",
        "120679.264064"
       ]
      },
      {
       "output_type": "stream",
       "stream": "stdout",
       "text": [
        " 75.4312006335\n",
        "120679.264064"
       ]
      },
      {
       "output_type": "stream",
       "stream": "stdout",
       "text": [
        " 86.8511373751\n",
        "120679.264064"
       ]
      },
      {
       "output_type": "stream",
       "stream": "stdout",
       "text": [
        " 100.0\n",
        "202358.964773"
       ]
      },
      {
       "output_type": "stream",
       "stream": "stdout",
       "text": [
        " 0.1\n",
        "202358.964773"
       ]
      },
      {
       "output_type": "stream",
       "stream": "stdout",
       "text": [
        " 0.115139539933\n",
        "202358.964773"
       ]
      },
      {
       "output_type": "stream",
       "stream": "stdout",
       "text": [
        " 0.132571136559\n",
        "202358.964773"
       ]
      },
      {
       "output_type": "stream",
       "stream": "stdout",
       "text": [
        " 0.152641796718\n",
        "202358.964773"
       ]
      },
      {
       "output_type": "stream",
       "stream": "stdout",
       "text": [
        " 0.175751062485\n",
        "202358.964773"
       ]
      },
      {
       "output_type": "stream",
       "stream": "stdout",
       "text": [
        " 0.202358964773\n",
        "202358.964773"
       ]
      },
      {
       "output_type": "stream",
       "stream": "stdout",
       "text": [
        " 0.232995181052\n",
        "202358.964773"
       ]
      },
      {
       "output_type": "stream",
       "stream": "stdout",
       "text": [
        " 0.268269579528\n",
        "202358.964773"
       ]
      },
      {
       "output_type": "stream",
       "stream": "stdout",
       "text": [
        " 0.308884359648\n",
        "202358.964773"
       ]
      },
      {
       "output_type": "stream",
       "stream": "stdout",
       "text": [
        " 0.355648030622\n",
        "202358.964773"
       ]
      },
      {
       "output_type": "stream",
       "stream": "stdout",
       "text": [
        " 0.409491506238\n",
        "202358.964773"
       ]
      },
      {
       "output_type": "stream",
       "stream": "stdout",
       "text": [
        " 0.471486636346\n",
        "202358.964773"
       ]
      },
      {
       "output_type": "stream",
       "stream": "stdout",
       "text": [
        " 0.542867543932\n",
        "202358.964773"
       ]
      },
      {
       "output_type": "stream",
       "stream": "stdout",
       "text": [
        " 0.625055192527\n",
        "202358.964773"
       ]
      },
      {
       "output_type": "stream",
       "stream": "stdout",
       "text": [
        " 0.719685673001\n",
        "202358.964773"
       ]
      },
      {
       "output_type": "stream",
       "stream": "stdout",
       "text": [
        " 0.828642772855\n",
        "202358.964773"
       ]
      },
      {
       "output_type": "stream",
       "stream": "stdout",
       "text": [
        " 0.95409547635\n",
        "202358.964773"
       ]
      },
      {
       "output_type": "stream",
       "stream": "stdout",
       "text": [
        " 1.09854114199\n",
        "202358.964773"
       ]
      },
      {
       "output_type": "stream",
       "stream": "stdout",
       "text": [
        " 1.26485521686\n",
        "202358.964773"
       ]
      },
      {
       "output_type": "stream",
       "stream": "stdout",
       "text": [
        " 1.4563484775\n",
        "202358.964773"
       ]
      },
      {
       "output_type": "stream",
       "stream": "stdout",
       "text": [
        " 1.67683293681\n",
        "202358.964773"
       ]
      },
      {
       "output_type": "stream",
       "stream": "stdout",
       "text": [
        " 1.93069772888\n",
        "202358.964773"
       ]
      },
      {
       "output_type": "stream",
       "stream": "stdout",
       "text": [
        " 2.22299648253\n",
        "202358.964773"
       ]
      },
      {
       "output_type": "stream",
       "stream": "stdout",
       "text": [
        " 2.5595479227\n",
        "202358.964773"
       ]
      },
      {
       "output_type": "stream",
       "stream": "stdout",
       "text": [
        " 2.94705170255\n",
        "202358.964773"
       ]
      },
      {
       "output_type": "stream",
       "stream": "stdout",
       "text": [
        " 3.3932217719\n",
        "202358.964773"
       ]
      },
      {
       "output_type": "stream",
       "stream": "stdout",
       "text": [
        " 3.90693993705\n",
        "202358.964773"
       ]
      },
      {
       "output_type": "stream",
       "stream": "stdout",
       "text": [
        " 4.49843266897\n",
        "202358.964773"
       ]
      },
      {
       "output_type": "stream",
       "stream": "stdout",
       "text": [
        " 5.17947467923\n",
        "202358.964773"
       ]
      },
      {
       "output_type": "stream",
       "stream": "stdout",
       "text": [
        " 5.96362331659\n",
        "202358.964773"
       ]
      },
      {
       "output_type": "stream",
       "stream": "stdout",
       "text": [
        " 6.86648845004\n",
        "202358.964773"
       ]
      },
      {
       "output_type": "stream",
       "stream": "stdout",
       "text": [
        " 7.90604321091\n",
        "202358.964773"
       ]
      },
      {
       "output_type": "stream",
       "stream": "stdout",
       "text": [
        " 9.10298177992\n",
        "202358.964773"
       ]
      },
      {
       "output_type": "stream",
       "stream": "stdout",
       "text": [
        " 10.4811313415\n",
        "202358.964773"
       ]
      },
      {
       "output_type": "stream",
       "stream": "stdout",
       "text": [
        " 12.0679264064\n",
        "202358.964773"
       ]
      },
      {
       "output_type": "stream",
       "stream": "stdout",
       "text": [
        " 13.8949549437\n",
        "202358.964773"
       ]
      },
      {
       "output_type": "stream",
       "stream": "stdout",
       "text": [
        " 15.9985871961\n",
        "202358.964773"
       ]
      },
      {
       "output_type": "stream",
       "stream": "stdout",
       "text": [
        " 18.4206996933\n",
        "202358.964773"
       ]
      },
      {
       "output_type": "stream",
       "stream": "stdout",
       "text": [
        " 21.2095088792\n",
        "202358.964773"
       ]
      },
      {
       "output_type": "stream",
       "stream": "stdout",
       "text": [
        " 24.4205309455\n",
        "202358.964773"
       ]
      },
      {
       "output_type": "stream",
       "stream": "stdout",
       "text": [
        " 28.1176869797\n",
        "202358.964773"
       ]
      },
      {
       "output_type": "stream",
       "stream": "stdout",
       "text": [
        " 32.3745754282\n",
        "202358.964773"
       ]
      },
      {
       "output_type": "stream",
       "stream": "stdout",
       "text": [
        " 37.2759372031\n",
        "202358.964773"
       ]
      },
      {
       "output_type": "stream",
       "stream": "stdout",
       "text": [
        " 42.9193426013\n",
        "202358.964773"
       ]
      },
      {
       "output_type": "stream",
       "stream": "stdout",
       "text": [
        " 49.4171336132\n",
        "202358.964773"
       ]
      },
      {
       "output_type": "stream",
       "stream": "stdout",
       "text": [
        " 56.8986602902\n",
        "202358.964773"
       ]
      },
      {
       "output_type": "stream",
       "stream": "stdout",
       "text": [
        " 65.512855686\n",
        "202358.964773"
       ]
      },
      {
       "output_type": "stream",
       "stream": "stdout",
       "text": [
        " 75.4312006335\n",
        "202358.964773"
       ]
      },
      {
       "output_type": "stream",
       "stream": "stdout",
       "text": [
        " 86.8511373751\n",
        "202358.964773"
       ]
      },
      {
       "output_type": "stream",
       "stream": "stdout",
       "text": [
        " 100.0\n",
        "339322.17719"
       ]
      },
      {
       "output_type": "stream",
       "stream": "stdout",
       "text": [
        " 0.1\n",
        "339322.17719"
       ]
      },
      {
       "output_type": "stream",
       "stream": "stdout",
       "text": [
        " 0.115139539933\n",
        "339322.17719"
       ]
      },
      {
       "output_type": "stream",
       "stream": "stdout",
       "text": [
        " 0.132571136559\n",
        "339322.17719"
       ]
      },
      {
       "output_type": "stream",
       "stream": "stdout",
       "text": [
        " 0.152641796718\n",
        "339322.17719"
       ]
      },
      {
       "output_type": "stream",
       "stream": "stdout",
       "text": [
        " 0.175751062485\n",
        "339322.17719"
       ]
      },
      {
       "output_type": "stream",
       "stream": "stdout",
       "text": [
        " 0.202358964773\n",
        "339322.17719"
       ]
      },
      {
       "output_type": "stream",
       "stream": "stdout",
       "text": [
        " 0.232995181052\n",
        "339322.17719"
       ]
      },
      {
       "output_type": "stream",
       "stream": "stdout",
       "text": [
        " 0.268269579528\n",
        "339322.17719"
       ]
      },
      {
       "output_type": "stream",
       "stream": "stdout",
       "text": [
        " 0.308884359648\n",
        "339322.17719"
       ]
      },
      {
       "output_type": "stream",
       "stream": "stdout",
       "text": [
        " 0.355648030622\n",
        "339322.17719"
       ]
      },
      {
       "output_type": "stream",
       "stream": "stdout",
       "text": [
        " 0.409491506238\n",
        "339322.17719"
       ]
      },
      {
       "output_type": "stream",
       "stream": "stdout",
       "text": [
        " 0.471486636346\n",
        "339322.17719"
       ]
      },
      {
       "output_type": "stream",
       "stream": "stdout",
       "text": [
        " 0.542867543932\n",
        "339322.17719"
       ]
      },
      {
       "output_type": "stream",
       "stream": "stdout",
       "text": [
        " 0.625055192527\n",
        "339322.17719"
       ]
      },
      {
       "output_type": "stream",
       "stream": "stdout",
       "text": [
        " 0.719685673001\n",
        "339322.17719"
       ]
      },
      {
       "output_type": "stream",
       "stream": "stdout",
       "text": [
        " 0.828642772855\n",
        "339322.17719"
       ]
      },
      {
       "output_type": "stream",
       "stream": "stdout",
       "text": [
        " 0.95409547635\n",
        "339322.17719"
       ]
      },
      {
       "output_type": "stream",
       "stream": "stdout",
       "text": [
        " 1.09854114199\n",
        "339322.17719"
       ]
      },
      {
       "output_type": "stream",
       "stream": "stdout",
       "text": [
        " 1.26485521686\n",
        "339322.17719"
       ]
      },
      {
       "output_type": "stream",
       "stream": "stdout",
       "text": [
        " 1.4563484775\n",
        "339322.17719"
       ]
      },
      {
       "output_type": "stream",
       "stream": "stdout",
       "text": [
        " 1.67683293681\n",
        "339322.17719"
       ]
      },
      {
       "output_type": "stream",
       "stream": "stdout",
       "text": [
        " 1.93069772888\n",
        "339322.17719"
       ]
      },
      {
       "output_type": "stream",
       "stream": "stdout",
       "text": [
        " 2.22299648253\n",
        "339322.17719"
       ]
      },
      {
       "output_type": "stream",
       "stream": "stdout",
       "text": [
        " 2.5595479227\n",
        "339322.17719"
       ]
      },
      {
       "output_type": "stream",
       "stream": "stdout",
       "text": [
        " 2.94705170255\n",
        "339322.17719"
       ]
      },
      {
       "output_type": "stream",
       "stream": "stdout",
       "text": [
        " 3.3932217719\n",
        "339322.17719"
       ]
      },
      {
       "output_type": "stream",
       "stream": "stdout",
       "text": [
        " 3.90693993705\n",
        "339322.17719"
       ]
      },
      {
       "output_type": "stream",
       "stream": "stdout",
       "text": [
        " 4.49843266897\n",
        "339322.17719"
       ]
      },
      {
       "output_type": "stream",
       "stream": "stdout",
       "text": [
        " 5.17947467923\n",
        "339322.17719"
       ]
      },
      {
       "output_type": "stream",
       "stream": "stdout",
       "text": [
        " 5.96362331659\n",
        "339322.17719"
       ]
      },
      {
       "output_type": "stream",
       "stream": "stdout",
       "text": [
        " 6.86648845004\n",
        "339322.17719"
       ]
      },
      {
       "output_type": "stream",
       "stream": "stdout",
       "text": [
        " 7.90604321091\n",
        "339322.17719"
       ]
      },
      {
       "output_type": "stream",
       "stream": "stdout",
       "text": [
        " 9.10298177992\n",
        "339322.17719"
       ]
      },
      {
       "output_type": "stream",
       "stream": "stdout",
       "text": [
        " 10.4811313415\n",
        "339322.17719"
       ]
      },
      {
       "output_type": "stream",
       "stream": "stdout",
       "text": [
        " 12.0679264064\n",
        "339322.17719"
       ]
      },
      {
       "output_type": "stream",
       "stream": "stdout",
       "text": [
        " 13.8949549437\n",
        "339322.17719"
       ]
      },
      {
       "output_type": "stream",
       "stream": "stdout",
       "text": [
        " 15.9985871961\n",
        "339322.17719"
       ]
      },
      {
       "output_type": "stream",
       "stream": "stdout",
       "text": [
        " 18.4206996933\n",
        "339322.17719"
       ]
      },
      {
       "output_type": "stream",
       "stream": "stdout",
       "text": [
        " 21.2095088792\n",
        "339322.17719"
       ]
      },
      {
       "output_type": "stream",
       "stream": "stdout",
       "text": [
        " 24.4205309455\n",
        "339322.17719"
       ]
      },
      {
       "output_type": "stream",
       "stream": "stdout",
       "text": [
        " 28.1176869797\n",
        "339322.17719"
       ]
      },
      {
       "output_type": "stream",
       "stream": "stdout",
       "text": [
        " 32.3745754282\n",
        "339322.17719"
       ]
      },
      {
       "output_type": "stream",
       "stream": "stdout",
       "text": [
        " 37.2759372031\n",
        "339322.17719"
       ]
      },
      {
       "output_type": "stream",
       "stream": "stdout",
       "text": [
        " 42.9193426013\n",
        "339322.17719"
       ]
      },
      {
       "output_type": "stream",
       "stream": "stdout",
       "text": [
        " 49.4171336132\n",
        "339322.17719"
       ]
      },
      {
       "output_type": "stream",
       "stream": "stdout",
       "text": [
        " 56.8986602902\n",
        "339322.17719"
       ]
      },
      {
       "output_type": "stream",
       "stream": "stdout",
       "text": [
        " 65.512855686\n",
        "339322.17719"
       ]
      },
      {
       "output_type": "stream",
       "stream": "stdout",
       "text": [
        " 75.4312006335\n",
        "339322.17719"
       ]
      },
      {
       "output_type": "stream",
       "stream": "stdout",
       "text": [
        " 86.8511373751\n",
        "339322.17719"
       ]
      },
      {
       "output_type": "stream",
       "stream": "stdout",
       "text": [
        " 100.0\n",
        "568986.602902"
       ]
      },
      {
       "output_type": "stream",
       "stream": "stdout",
       "text": [
        " 0.1\n",
        "568986.602902"
       ]
      },
      {
       "output_type": "stream",
       "stream": "stdout",
       "text": [
        " 0.115139539933\n",
        "568986.602902"
       ]
      },
      {
       "output_type": "stream",
       "stream": "stdout",
       "text": [
        " 0.132571136559\n",
        "568986.602902"
       ]
      },
      {
       "output_type": "stream",
       "stream": "stdout",
       "text": [
        " 0.152641796718\n",
        "568986.602902"
       ]
      },
      {
       "output_type": "stream",
       "stream": "stdout",
       "text": [
        " 0.175751062485\n",
        "568986.602902"
       ]
      },
      {
       "output_type": "stream",
       "stream": "stdout",
       "text": [
        " 0.202358964773\n",
        "568986.602902"
       ]
      },
      {
       "output_type": "stream",
       "stream": "stdout",
       "text": [
        " 0.232995181052\n",
        "568986.602902"
       ]
      },
      {
       "output_type": "stream",
       "stream": "stdout",
       "text": [
        " 0.268269579528\n",
        "568986.602902"
       ]
      },
      {
       "output_type": "stream",
       "stream": "stdout",
       "text": [
        " 0.308884359648\n",
        "568986.602902"
       ]
      },
      {
       "output_type": "stream",
       "stream": "stdout",
       "text": [
        " 0.355648030622\n",
        "568986.602902"
       ]
      },
      {
       "output_type": "stream",
       "stream": "stdout",
       "text": [
        " 0.409491506238\n",
        "568986.602902"
       ]
      },
      {
       "output_type": "stream",
       "stream": "stdout",
       "text": [
        " 0.471486636346\n",
        "568986.602902"
       ]
      },
      {
       "output_type": "stream",
       "stream": "stdout",
       "text": [
        " 0.542867543932\n",
        "568986.602902"
       ]
      },
      {
       "output_type": "stream",
       "stream": "stdout",
       "text": [
        " 0.625055192527\n",
        "568986.602902"
       ]
      },
      {
       "output_type": "stream",
       "stream": "stdout",
       "text": [
        " 0.719685673001\n",
        "568986.602902"
       ]
      },
      {
       "output_type": "stream",
       "stream": "stdout",
       "text": [
        " 0.828642772855\n",
        "568986.602902"
       ]
      },
      {
       "output_type": "stream",
       "stream": "stdout",
       "text": [
        " 0.95409547635\n",
        "568986.602902"
       ]
      },
      {
       "output_type": "stream",
       "stream": "stdout",
       "text": [
        " 1.09854114199\n",
        "568986.602902"
       ]
      },
      {
       "output_type": "stream",
       "stream": "stdout",
       "text": [
        " 1.26485521686\n",
        "568986.602902"
       ]
      },
      {
       "output_type": "stream",
       "stream": "stdout",
       "text": [
        " 1.4563484775\n",
        "568986.602902"
       ]
      },
      {
       "output_type": "stream",
       "stream": "stdout",
       "text": [
        " 1.67683293681\n",
        "568986.602902"
       ]
      },
      {
       "output_type": "stream",
       "stream": "stdout",
       "text": [
        " 1.93069772888\n",
        "568986.602902"
       ]
      },
      {
       "output_type": "stream",
       "stream": "stdout",
       "text": [
        " 2.22299648253\n",
        "568986.602902"
       ]
      },
      {
       "output_type": "stream",
       "stream": "stdout",
       "text": [
        " 2.5595479227\n",
        "568986.602902"
       ]
      },
      {
       "output_type": "stream",
       "stream": "stdout",
       "text": [
        " 2.94705170255\n",
        "568986.602902"
       ]
      },
      {
       "output_type": "stream",
       "stream": "stdout",
       "text": [
        " 3.3932217719\n",
        "568986.602902"
       ]
      },
      {
       "output_type": "stream",
       "stream": "stdout",
       "text": [
        " 3.90693993705\n",
        "568986.602902"
       ]
      },
      {
       "output_type": "stream",
       "stream": "stdout",
       "text": [
        " 4.49843266897\n",
        "568986.602902"
       ]
      },
      {
       "output_type": "stream",
       "stream": "stdout",
       "text": [
        " 5.17947467923\n",
        "568986.602902"
       ]
      },
      {
       "output_type": "stream",
       "stream": "stdout",
       "text": [
        " 5.96362331659\n",
        "568986.602902"
       ]
      },
      {
       "output_type": "stream",
       "stream": "stdout",
       "text": [
        " 6.86648845004\n",
        "568986.602902"
       ]
      },
      {
       "output_type": "stream",
       "stream": "stdout",
       "text": [
        " 7.90604321091\n",
        "568986.602902"
       ]
      },
      {
       "output_type": "stream",
       "stream": "stdout",
       "text": [
        " 9.10298177992\n",
        "568986.602902"
       ]
      },
      {
       "output_type": "stream",
       "stream": "stdout",
       "text": [
        " 10.4811313415\n",
        "568986.602902"
       ]
      },
      {
       "output_type": "stream",
       "stream": "stdout",
       "text": [
        " 12.0679264064\n",
        "568986.602902"
       ]
      },
      {
       "output_type": "stream",
       "stream": "stdout",
       "text": [
        " 13.8949549437\n",
        "568986.602902"
       ]
      },
      {
       "output_type": "stream",
       "stream": "stdout",
       "text": [
        " 15.9985871961\n",
        "568986.602902"
       ]
      },
      {
       "output_type": "stream",
       "stream": "stdout",
       "text": [
        " 18.4206996933\n",
        "568986.602902"
       ]
      },
      {
       "output_type": "stream",
       "stream": "stdout",
       "text": [
        " 21.2095088792\n",
        "568986.602902"
       ]
      },
      {
       "output_type": "stream",
       "stream": "stdout",
       "text": [
        " 24.4205309455\n",
        "568986.602902"
       ]
      },
      {
       "output_type": "stream",
       "stream": "stdout",
       "text": [
        " 28.1176869797\n",
        "568986.602902"
       ]
      },
      {
       "output_type": "stream",
       "stream": "stdout",
       "text": [
        " 32.3745754282\n",
        "568986.602902"
       ]
      },
      {
       "output_type": "stream",
       "stream": "stdout",
       "text": [
        " 37.2759372031\n",
        "568986.602902"
       ]
      },
      {
       "output_type": "stream",
       "stream": "stdout",
       "text": [
        " 42.9193426013\n",
        "568986.602902"
       ]
      },
      {
       "output_type": "stream",
       "stream": "stdout",
       "text": [
        " 49.4171336132\n",
        "568986.602902"
       ]
      },
      {
       "output_type": "stream",
       "stream": "stdout",
       "text": [
        " 56.8986602902\n",
        "568986.602902"
       ]
      },
      {
       "output_type": "stream",
       "stream": "stdout",
       "text": [
        " 65.512855686\n",
        "568986.602902"
       ]
      },
      {
       "output_type": "stream",
       "stream": "stdout",
       "text": [
        " 75.4312006335\n",
        "568986.602902"
       ]
      },
      {
       "output_type": "stream",
       "stream": "stdout",
       "text": [
        " 86.8511373751\n",
        "568986.602902"
       ]
      },
      {
       "output_type": "stream",
       "stream": "stdout",
       "text": [
        " 100.0\n",
        "954095.47635"
       ]
      },
      {
       "output_type": "stream",
       "stream": "stdout",
       "text": [
        " 0.1\n",
        "954095.47635"
       ]
      },
      {
       "output_type": "stream",
       "stream": "stdout",
       "text": [
        " 0.115139539933\n",
        "954095.47635"
       ]
      },
      {
       "output_type": "stream",
       "stream": "stdout",
       "text": [
        " 0.132571136559\n",
        "954095.47635"
       ]
      },
      {
       "output_type": "stream",
       "stream": "stdout",
       "text": [
        " 0.152641796718\n",
        "954095.47635"
       ]
      },
      {
       "output_type": "stream",
       "stream": "stdout",
       "text": [
        " 0.175751062485\n",
        "954095.47635"
       ]
      },
      {
       "output_type": "stream",
       "stream": "stdout",
       "text": [
        " 0.202358964773\n",
        "954095.47635"
       ]
      },
      {
       "output_type": "stream",
       "stream": "stdout",
       "text": [
        " 0.232995181052\n",
        "954095.47635"
       ]
      },
      {
       "output_type": "stream",
       "stream": "stdout",
       "text": [
        " 0.268269579528\n",
        "954095.47635"
       ]
      },
      {
       "output_type": "stream",
       "stream": "stdout",
       "text": [
        " 0.308884359648\n",
        "954095.47635"
       ]
      },
      {
       "output_type": "stream",
       "stream": "stdout",
       "text": [
        " 0.355648030622\n",
        "954095.47635"
       ]
      },
      {
       "output_type": "stream",
       "stream": "stdout",
       "text": [
        " 0.409491506238\n",
        "954095.47635"
       ]
      },
      {
       "output_type": "stream",
       "stream": "stdout",
       "text": [
        " 0.471486636346\n",
        "954095.47635"
       ]
      },
      {
       "output_type": "stream",
       "stream": "stdout",
       "text": [
        " 0.542867543932\n",
        "954095.47635"
       ]
      },
      {
       "output_type": "stream",
       "stream": "stdout",
       "text": [
        " 0.625055192527\n",
        "954095.47635"
       ]
      },
      {
       "output_type": "stream",
       "stream": "stdout",
       "text": [
        " 0.719685673001\n",
        "954095.47635"
       ]
      },
      {
       "output_type": "stream",
       "stream": "stdout",
       "text": [
        " 0.828642772855\n",
        "954095.47635"
       ]
      },
      {
       "output_type": "stream",
       "stream": "stdout",
       "text": [
        " 0.95409547635\n",
        "954095.47635"
       ]
      },
      {
       "output_type": "stream",
       "stream": "stdout",
       "text": [
        " 1.09854114199\n",
        "954095.47635"
       ]
      },
      {
       "output_type": "stream",
       "stream": "stdout",
       "text": [
        " 1.26485521686\n",
        "954095.47635"
       ]
      },
      {
       "output_type": "stream",
       "stream": "stdout",
       "text": [
        " 1.4563484775\n",
        "954095.47635"
       ]
      },
      {
       "output_type": "stream",
       "stream": "stdout",
       "text": [
        " 1.67683293681\n",
        "954095.47635"
       ]
      },
      {
       "output_type": "stream",
       "stream": "stdout",
       "text": [
        " 1.93069772888\n",
        "954095.47635"
       ]
      },
      {
       "output_type": "stream",
       "stream": "stdout",
       "text": [
        " 2.22299648253\n",
        "954095.47635"
       ]
      },
      {
       "output_type": "stream",
       "stream": "stdout",
       "text": [
        " 2.5595479227\n",
        "954095.47635"
       ]
      },
      {
       "output_type": "stream",
       "stream": "stdout",
       "text": [
        " 2.94705170255\n",
        "954095.47635"
       ]
      },
      {
       "output_type": "stream",
       "stream": "stdout",
       "text": [
        " 3.3932217719\n",
        "954095.47635"
       ]
      },
      {
       "output_type": "stream",
       "stream": "stdout",
       "text": [
        " 3.90693993705\n",
        "954095.47635"
       ]
      },
      {
       "output_type": "stream",
       "stream": "stdout",
       "text": [
        " 4.49843266897\n",
        "954095.47635"
       ]
      },
      {
       "output_type": "stream",
       "stream": "stdout",
       "text": [
        " 5.17947467923\n",
        "954095.47635"
       ]
      },
      {
       "output_type": "stream",
       "stream": "stdout",
       "text": [
        " 5.96362331659\n",
        "954095.47635"
       ]
      },
      {
       "output_type": "stream",
       "stream": "stdout",
       "text": [
        " 6.86648845004\n",
        "954095.47635"
       ]
      },
      {
       "output_type": "stream",
       "stream": "stdout",
       "text": [
        " 7.90604321091\n",
        "954095.47635"
       ]
      },
      {
       "output_type": "stream",
       "stream": "stdout",
       "text": [
        " 9.10298177992\n",
        "954095.47635"
       ]
      },
      {
       "output_type": "stream",
       "stream": "stdout",
       "text": [
        " 10.4811313415\n",
        "954095.47635"
       ]
      },
      {
       "output_type": "stream",
       "stream": "stdout",
       "text": [
        " 12.0679264064\n",
        "954095.47635"
       ]
      },
      {
       "output_type": "stream",
       "stream": "stdout",
       "text": [
        " 13.8949549437\n",
        "954095.47635"
       ]
      },
      {
       "output_type": "stream",
       "stream": "stdout",
       "text": [
        " 15.9985871961\n",
        "954095.47635"
       ]
      },
      {
       "output_type": "stream",
       "stream": "stdout",
       "text": [
        " 18.4206996933\n",
        "954095.47635"
       ]
      },
      {
       "output_type": "stream",
       "stream": "stdout",
       "text": [
        " 21.2095088792\n",
        "954095.47635"
       ]
      },
      {
       "output_type": "stream",
       "stream": "stdout",
       "text": [
        " 24.4205309455\n",
        "954095.47635"
       ]
      },
      {
       "output_type": "stream",
       "stream": "stdout",
       "text": [
        " 28.1176869797\n",
        "954095.47635"
       ]
      },
      {
       "output_type": "stream",
       "stream": "stdout",
       "text": [
        " 32.3745754282\n",
        "954095.47635"
       ]
      },
      {
       "output_type": "stream",
       "stream": "stdout",
       "text": [
        " 37.2759372031\n",
        "954095.47635"
       ]
      },
      {
       "output_type": "stream",
       "stream": "stdout",
       "text": [
        " 42.9193426013\n",
        "954095.47635"
       ]
      },
      {
       "output_type": "stream",
       "stream": "stdout",
       "text": [
        " 49.4171336132\n",
        "954095.47635"
       ]
      },
      {
       "output_type": "stream",
       "stream": "stdout",
       "text": [
        " 56.8986602902\n",
        "954095.47635"
       ]
      },
      {
       "output_type": "stream",
       "stream": "stdout",
       "text": [
        " 65.512855686\n",
        "954095.47635"
       ]
      },
      {
       "output_type": "stream",
       "stream": "stdout",
       "text": [
        " 75.4312006335\n",
        "954095.47635"
       ]
      },
      {
       "output_type": "stream",
       "stream": "stdout",
       "text": [
        " 86.8511373751\n",
        "954095.47635"
       ]
      },
      {
       "output_type": "stream",
       "stream": "stdout",
       "text": [
        " 100.0\n",
        "1599858.71961"
       ]
      },
      {
       "output_type": "stream",
       "stream": "stdout",
       "text": [
        " 0.1\n",
        "1599858.71961"
       ]
      },
      {
       "output_type": "stream",
       "stream": "stdout",
       "text": [
        " 0.115139539933\n",
        "1599858.71961"
       ]
      },
      {
       "output_type": "stream",
       "stream": "stdout",
       "text": [
        " 0.132571136559\n",
        "1599858.71961"
       ]
      },
      {
       "output_type": "stream",
       "stream": "stdout",
       "text": [
        " 0.152641796718\n",
        "1599858.71961"
       ]
      },
      {
       "output_type": "stream",
       "stream": "stdout",
       "text": [
        " 0.175751062485\n",
        "1599858.71961"
       ]
      },
      {
       "output_type": "stream",
       "stream": "stdout",
       "text": [
        " 0.202358964773\n",
        "1599858.71961"
       ]
      },
      {
       "output_type": "stream",
       "stream": "stdout",
       "text": [
        " 0.232995181052\n",
        "1599858.71961"
       ]
      },
      {
       "output_type": "stream",
       "stream": "stdout",
       "text": [
        " 0.268269579528\n",
        "1599858.71961"
       ]
      },
      {
       "output_type": "stream",
       "stream": "stdout",
       "text": [
        " 0.308884359648\n",
        "1599858.71961"
       ]
      },
      {
       "output_type": "stream",
       "stream": "stdout",
       "text": [
        " 0.355648030622\n",
        "1599858.71961"
       ]
      },
      {
       "output_type": "stream",
       "stream": "stdout",
       "text": [
        " 0.409491506238\n",
        "1599858.71961"
       ]
      },
      {
       "output_type": "stream",
       "stream": "stdout",
       "text": [
        " 0.471486636346\n",
        "1599858.71961"
       ]
      },
      {
       "output_type": "stream",
       "stream": "stdout",
       "text": [
        " 0.542867543932\n",
        "1599858.71961"
       ]
      },
      {
       "output_type": "stream",
       "stream": "stdout",
       "text": [
        " 0.625055192527\n",
        "1599858.71961"
       ]
      },
      {
       "output_type": "stream",
       "stream": "stdout",
       "text": [
        " 0.719685673001\n",
        "1599858.71961"
       ]
      },
      {
       "output_type": "stream",
       "stream": "stdout",
       "text": [
        " 0.828642772855\n",
        "1599858.71961"
       ]
      },
      {
       "output_type": "stream",
       "stream": "stdout",
       "text": [
        " 0.95409547635\n",
        "1599858.71961"
       ]
      },
      {
       "output_type": "stream",
       "stream": "stdout",
       "text": [
        " 1.09854114199\n",
        "1599858.71961"
       ]
      },
      {
       "output_type": "stream",
       "stream": "stdout",
       "text": [
        " 1.26485521686\n",
        "1599858.71961"
       ]
      },
      {
       "output_type": "stream",
       "stream": "stdout",
       "text": [
        " 1.4563484775\n",
        "1599858.71961"
       ]
      },
      {
       "output_type": "stream",
       "stream": "stdout",
       "text": [
        " 1.67683293681\n",
        "1599858.71961"
       ]
      },
      {
       "output_type": "stream",
       "stream": "stdout",
       "text": [
        " 1.93069772888\n",
        "1599858.71961"
       ]
      },
      {
       "output_type": "stream",
       "stream": "stdout",
       "text": [
        " 2.22299648253\n",
        "1599858.71961"
       ]
      },
      {
       "output_type": "stream",
       "stream": "stdout",
       "text": [
        " 2.5595479227\n",
        "1599858.71961"
       ]
      },
      {
       "output_type": "stream",
       "stream": "stdout",
       "text": [
        " 2.94705170255\n",
        "1599858.71961"
       ]
      },
      {
       "output_type": "stream",
       "stream": "stdout",
       "text": [
        " 3.3932217719\n",
        "1599858.71961"
       ]
      },
      {
       "output_type": "stream",
       "stream": "stdout",
       "text": [
        " 3.90693993705\n",
        "1599858.71961"
       ]
      },
      {
       "output_type": "stream",
       "stream": "stdout",
       "text": [
        " 4.49843266897\n",
        "1599858.71961"
       ]
      },
      {
       "output_type": "stream",
       "stream": "stdout",
       "text": [
        " 5.17947467923\n",
        "1599858.71961"
       ]
      },
      {
       "output_type": "stream",
       "stream": "stdout",
       "text": [
        " 5.96362331659\n",
        "1599858.71961"
       ]
      },
      {
       "output_type": "stream",
       "stream": "stdout",
       "text": [
        " 6.86648845004\n",
        "1599858.71961"
       ]
      },
      {
       "output_type": "stream",
       "stream": "stdout",
       "text": [
        " 7.90604321091\n",
        "1599858.71961"
       ]
      },
      {
       "output_type": "stream",
       "stream": "stdout",
       "text": [
        " 9.10298177992\n",
        "1599858.71961"
       ]
      },
      {
       "output_type": "stream",
       "stream": "stdout",
       "text": [
        " 10.4811313415\n",
        "1599858.71961"
       ]
      },
      {
       "output_type": "stream",
       "stream": "stdout",
       "text": [
        " 12.0679264064\n",
        "1599858.71961"
       ]
      },
      {
       "output_type": "stream",
       "stream": "stdout",
       "text": [
        " 13.8949549437\n",
        "1599858.71961"
       ]
      },
      {
       "output_type": "stream",
       "stream": "stdout",
       "text": [
        " 15.9985871961\n",
        "1599858.71961"
       ]
      },
      {
       "output_type": "stream",
       "stream": "stdout",
       "text": [
        " 18.4206996933\n",
        "1599858.71961"
       ]
      },
      {
       "output_type": "stream",
       "stream": "stdout",
       "text": [
        " 21.2095088792\n",
        "1599858.71961"
       ]
      },
      {
       "output_type": "stream",
       "stream": "stdout",
       "text": [
        " 24.4205309455\n",
        "1599858.71961"
       ]
      },
      {
       "output_type": "stream",
       "stream": "stdout",
       "text": [
        " 28.1176869797\n",
        "1599858.71961"
       ]
      },
      {
       "output_type": "stream",
       "stream": "stdout",
       "text": [
        " 32.3745754282\n",
        "1599858.71961"
       ]
      },
      {
       "output_type": "stream",
       "stream": "stdout",
       "text": [
        " 37.2759372031\n",
        "1599858.71961"
       ]
      },
      {
       "output_type": "stream",
       "stream": "stdout",
       "text": [
        " 42.9193426013\n",
        "1599858.71961"
       ]
      },
      {
       "output_type": "stream",
       "stream": "stdout",
       "text": [
        " 49.4171336132\n",
        "1599858.71961"
       ]
      },
      {
       "output_type": "stream",
       "stream": "stdout",
       "text": [
        " 56.8986602902\n",
        "1599858.71961"
       ]
      },
      {
       "output_type": "stream",
       "stream": "stdout",
       "text": [
        " 65.512855686\n",
        "1599858.71961"
       ]
      },
      {
       "output_type": "stream",
       "stream": "stdout",
       "text": [
        " 75.4312006335\n",
        "1599858.71961"
       ]
      },
      {
       "output_type": "stream",
       "stream": "stdout",
       "text": [
        " 86.8511373751\n",
        "1599858.71961"
       ]
      },
      {
       "output_type": "stream",
       "stream": "stdout",
       "text": [
        " 100.0\n",
        "2682695.79528"
       ]
      },
      {
       "output_type": "stream",
       "stream": "stdout",
       "text": [
        " 0.1\n",
        "2682695.79528"
       ]
      },
      {
       "output_type": "stream",
       "stream": "stdout",
       "text": [
        " 0.115139539933\n",
        "2682695.79528"
       ]
      },
      {
       "output_type": "stream",
       "stream": "stdout",
       "text": [
        " 0.132571136559\n",
        "2682695.79528"
       ]
      },
      {
       "output_type": "stream",
       "stream": "stdout",
       "text": [
        " 0.152641796718\n",
        "2682695.79528"
       ]
      },
      {
       "output_type": "stream",
       "stream": "stdout",
       "text": [
        " 0.175751062485\n",
        "2682695.79528"
       ]
      },
      {
       "output_type": "stream",
       "stream": "stdout",
       "text": [
        " 0.202358964773\n",
        "2682695.79528"
       ]
      },
      {
       "output_type": "stream",
       "stream": "stdout",
       "text": [
        " 0.232995181052\n",
        "2682695.79528"
       ]
      },
      {
       "output_type": "stream",
       "stream": "stdout",
       "text": [
        " 0.268269579528\n",
        "2682695.79528"
       ]
      },
      {
       "output_type": "stream",
       "stream": "stdout",
       "text": [
        " 0.308884359648\n",
        "2682695.79528"
       ]
      },
      {
       "output_type": "stream",
       "stream": "stdout",
       "text": [
        " 0.355648030622\n",
        "2682695.79528"
       ]
      },
      {
       "output_type": "stream",
       "stream": "stdout",
       "text": [
        " 0.409491506238\n",
        "2682695.79528"
       ]
      },
      {
       "output_type": "stream",
       "stream": "stdout",
       "text": [
        " 0.471486636346\n",
        "2682695.79528"
       ]
      },
      {
       "output_type": "stream",
       "stream": "stdout",
       "text": [
        " 0.542867543932\n",
        "2682695.79528"
       ]
      },
      {
       "output_type": "stream",
       "stream": "stdout",
       "text": [
        " 0.625055192527\n",
        "2682695.79528"
       ]
      },
      {
       "output_type": "stream",
       "stream": "stdout",
       "text": [
        " 0.719685673001\n",
        "2682695.79528"
       ]
      },
      {
       "output_type": "stream",
       "stream": "stdout",
       "text": [
        " 0.828642772855\n",
        "2682695.79528"
       ]
      },
      {
       "output_type": "stream",
       "stream": "stdout",
       "text": [
        " 0.95409547635\n",
        "2682695.79528"
       ]
      },
      {
       "output_type": "stream",
       "stream": "stdout",
       "text": [
        " 1.09854114199\n",
        "2682695.79528"
       ]
      },
      {
       "output_type": "stream",
       "stream": "stdout",
       "text": [
        " 1.26485521686\n",
        "2682695.79528"
       ]
      },
      {
       "output_type": "stream",
       "stream": "stdout",
       "text": [
        " 1.4563484775\n",
        "2682695.79528"
       ]
      },
      {
       "output_type": "stream",
       "stream": "stdout",
       "text": [
        " 1.67683293681\n",
        "2682695.79528"
       ]
      },
      {
       "output_type": "stream",
       "stream": "stdout",
       "text": [
        " 1.93069772888\n",
        "2682695.79528"
       ]
      },
      {
       "output_type": "stream",
       "stream": "stdout",
       "text": [
        " 2.22299648253\n",
        "2682695.79528"
       ]
      },
      {
       "output_type": "stream",
       "stream": "stdout",
       "text": [
        " 2.5595479227\n",
        "2682695.79528"
       ]
      },
      {
       "output_type": "stream",
       "stream": "stdout",
       "text": [
        " 2.94705170255\n",
        "2682695.79528"
       ]
      },
      {
       "output_type": "stream",
       "stream": "stdout",
       "text": [
        " 3.3932217719\n",
        "2682695.79528"
       ]
      },
      {
       "output_type": "stream",
       "stream": "stdout",
       "text": [
        " 3.90693993705\n",
        "2682695.79528"
       ]
      },
      {
       "output_type": "stream",
       "stream": "stdout",
       "text": [
        " 4.49843266897\n",
        "2682695.79528"
       ]
      },
      {
       "output_type": "stream",
       "stream": "stdout",
       "text": [
        " 5.17947467923\n",
        "2682695.79528"
       ]
      },
      {
       "output_type": "stream",
       "stream": "stdout",
       "text": [
        " 5.96362331659\n",
        "2682695.79528"
       ]
      },
      {
       "output_type": "stream",
       "stream": "stdout",
       "text": [
        " 6.86648845004\n",
        "2682695.79528"
       ]
      },
      {
       "output_type": "stream",
       "stream": "stdout",
       "text": [
        " 7.90604321091\n",
        "2682695.79528"
       ]
      },
      {
       "output_type": "stream",
       "stream": "stdout",
       "text": [
        " 9.10298177992\n",
        "2682695.79528"
       ]
      },
      {
       "output_type": "stream",
       "stream": "stdout",
       "text": [
        " 10.4811313415\n",
        "2682695.79528"
       ]
      },
      {
       "output_type": "stream",
       "stream": "stdout",
       "text": [
        " 12.0679264064\n",
        "2682695.79528"
       ]
      },
      {
       "output_type": "stream",
       "stream": "stdout",
       "text": [
        " 13.8949549437\n",
        "2682695.79528"
       ]
      },
      {
       "output_type": "stream",
       "stream": "stdout",
       "text": [
        " 15.9985871961\n",
        "2682695.79528"
       ]
      },
      {
       "output_type": "stream",
       "stream": "stdout",
       "text": [
        " 18.4206996933\n",
        "2682695.79528"
       ]
      },
      {
       "output_type": "stream",
       "stream": "stdout",
       "text": [
        " 21.2095088792\n",
        "2682695.79528"
       ]
      },
      {
       "output_type": "stream",
       "stream": "stdout",
       "text": [
        " 24.4205309455\n",
        "2682695.79528"
       ]
      },
      {
       "output_type": "stream",
       "stream": "stdout",
       "text": [
        " 28.1176869797\n",
        "2682695.79528"
       ]
      },
      {
       "output_type": "stream",
       "stream": "stdout",
       "text": [
        " 32.3745754282\n",
        "2682695.79528"
       ]
      },
      {
       "output_type": "stream",
       "stream": "stdout",
       "text": [
        " 37.2759372031\n",
        "2682695.79528"
       ]
      },
      {
       "output_type": "stream",
       "stream": "stdout",
       "text": [
        " 42.9193426013\n",
        "2682695.79528"
       ]
      },
      {
       "output_type": "stream",
       "stream": "stdout",
       "text": [
        " 49.4171336132\n",
        "2682695.79528"
       ]
      },
      {
       "output_type": "stream",
       "stream": "stdout",
       "text": [
        " 56.8986602902\n",
        "2682695.79528"
       ]
      },
      {
       "output_type": "stream",
       "stream": "stdout",
       "text": [
        " 65.512855686\n",
        "2682695.79528"
       ]
      },
      {
       "output_type": "stream",
       "stream": "stdout",
       "text": [
        " 75.4312006335\n",
        "2682695.79528"
       ]
      },
      {
       "output_type": "stream",
       "stream": "stdout",
       "text": [
        " 86.8511373751\n",
        "2682695.79528"
       ]
      },
      {
       "output_type": "stream",
       "stream": "stdout",
       "text": [
        " 100.0\n",
        "4498432.66897"
       ]
      },
      {
       "output_type": "stream",
       "stream": "stdout",
       "text": [
        " 0.1\n",
        "4498432.66897"
       ]
      },
      {
       "output_type": "stream",
       "stream": "stdout",
       "text": [
        " 0.115139539933\n",
        "4498432.66897"
       ]
      },
      {
       "output_type": "stream",
       "stream": "stdout",
       "text": [
        " 0.132571136559\n",
        "4498432.66897"
       ]
      },
      {
       "output_type": "stream",
       "stream": "stdout",
       "text": [
        " 0.152641796718\n",
        "4498432.66897"
       ]
      },
      {
       "output_type": "stream",
       "stream": "stdout",
       "text": [
        " 0.175751062485\n",
        "4498432.66897"
       ]
      },
      {
       "output_type": "stream",
       "stream": "stdout",
       "text": [
        " 0.202358964773\n",
        "4498432.66897"
       ]
      },
      {
       "output_type": "stream",
       "stream": "stdout",
       "text": [
        " 0.232995181052\n",
        "4498432.66897"
       ]
      },
      {
       "output_type": "stream",
       "stream": "stdout",
       "text": [
        " 0.268269579528\n",
        "4498432.66897"
       ]
      },
      {
       "output_type": "stream",
       "stream": "stdout",
       "text": [
        " 0.308884359648\n",
        "4498432.66897"
       ]
      },
      {
       "output_type": "stream",
       "stream": "stdout",
       "text": [
        " 0.355648030622\n",
        "4498432.66897"
       ]
      },
      {
       "output_type": "stream",
       "stream": "stdout",
       "text": [
        " 0.409491506238\n",
        "4498432.66897"
       ]
      },
      {
       "output_type": "stream",
       "stream": "stdout",
       "text": [
        " 0.471486636346\n",
        "4498432.66897"
       ]
      },
      {
       "output_type": "stream",
       "stream": "stdout",
       "text": [
        " 0.542867543932\n",
        "4498432.66897"
       ]
      },
      {
       "output_type": "stream",
       "stream": "stdout",
       "text": [
        " 0.625055192527\n",
        "4498432.66897"
       ]
      },
      {
       "output_type": "stream",
       "stream": "stdout",
       "text": [
        " 0.719685673001\n",
        "4498432.66897"
       ]
      },
      {
       "output_type": "stream",
       "stream": "stdout",
       "text": [
        " 0.828642772855\n",
        "4498432.66897"
       ]
      },
      {
       "output_type": "stream",
       "stream": "stdout",
       "text": [
        " 0.95409547635\n",
        "4498432.66897"
       ]
      },
      {
       "output_type": "stream",
       "stream": "stdout",
       "text": [
        " 1.09854114199\n",
        "4498432.66897"
       ]
      },
      {
       "output_type": "stream",
       "stream": "stdout",
       "text": [
        " 1.26485521686\n",
        "4498432.66897"
       ]
      },
      {
       "output_type": "stream",
       "stream": "stdout",
       "text": [
        " 1.4563484775\n",
        "4498432.66897"
       ]
      },
      {
       "output_type": "stream",
       "stream": "stdout",
       "text": [
        " 1.67683293681\n",
        "4498432.66897"
       ]
      },
      {
       "output_type": "stream",
       "stream": "stdout",
       "text": [
        " 1.93069772888\n",
        "4498432.66897"
       ]
      },
      {
       "output_type": "stream",
       "stream": "stdout",
       "text": [
        " 2.22299648253\n",
        "4498432.66897"
       ]
      },
      {
       "output_type": "stream",
       "stream": "stdout",
       "text": [
        " 2.5595479227\n",
        "4498432.66897"
       ]
      },
      {
       "output_type": "stream",
       "stream": "stdout",
       "text": [
        " 2.94705170255\n",
        "4498432.66897"
       ]
      },
      {
       "output_type": "stream",
       "stream": "stdout",
       "text": [
        " 3.3932217719\n",
        "4498432.66897"
       ]
      },
      {
       "output_type": "stream",
       "stream": "stdout",
       "text": [
        " 3.90693993705\n",
        "4498432.66897"
       ]
      },
      {
       "output_type": "stream",
       "stream": "stdout",
       "text": [
        " 4.49843266897\n",
        "4498432.66897"
       ]
      },
      {
       "output_type": "stream",
       "stream": "stdout",
       "text": [
        " 5.17947467923\n",
        "4498432.66897"
       ]
      },
      {
       "output_type": "stream",
       "stream": "stdout",
       "text": [
        " 5.96362331659\n",
        "4498432.66897"
       ]
      },
      {
       "output_type": "stream",
       "stream": "stdout",
       "text": [
        " 6.86648845004\n",
        "4498432.66897"
       ]
      },
      {
       "output_type": "stream",
       "stream": "stdout",
       "text": [
        " 7.90604321091\n",
        "4498432.66897"
       ]
      },
      {
       "output_type": "stream",
       "stream": "stdout",
       "text": [
        " 9.10298177992\n",
        "4498432.66897"
       ]
      },
      {
       "output_type": "stream",
       "stream": "stdout",
       "text": [
        " 10.4811313415\n",
        "4498432.66897"
       ]
      },
      {
       "output_type": "stream",
       "stream": "stdout",
       "text": [
        " 12.0679264064\n",
        "4498432.66897"
       ]
      },
      {
       "output_type": "stream",
       "stream": "stdout",
       "text": [
        " 13.8949549437\n",
        "4498432.66897"
       ]
      },
      {
       "output_type": "stream",
       "stream": "stdout",
       "text": [
        " 15.9985871961\n",
        "4498432.66897"
       ]
      },
      {
       "output_type": "stream",
       "stream": "stdout",
       "text": [
        " 18.4206996933\n",
        "4498432.66897"
       ]
      },
      {
       "output_type": "stream",
       "stream": "stdout",
       "text": [
        " 21.2095088792\n",
        "4498432.66897"
       ]
      },
      {
       "output_type": "stream",
       "stream": "stdout",
       "text": [
        " 24.4205309455\n",
        "4498432.66897"
       ]
      },
      {
       "output_type": "stream",
       "stream": "stdout",
       "text": [
        " 28.1176869797\n",
        "4498432.66897"
       ]
      },
      {
       "output_type": "stream",
       "stream": "stdout",
       "text": [
        " 32.3745754282\n",
        "4498432.66897"
       ]
      },
      {
       "output_type": "stream",
       "stream": "stdout",
       "text": [
        " 37.2759372031\n",
        "4498432.66897"
       ]
      },
      {
       "output_type": "stream",
       "stream": "stdout",
       "text": [
        " 42.9193426013\n",
        "4498432.66897"
       ]
      },
      {
       "output_type": "stream",
       "stream": "stdout",
       "text": [
        " 49.4171336132\n",
        "4498432.66897"
       ]
      },
      {
       "output_type": "stream",
       "stream": "stdout",
       "text": [
        " 56.8986602902\n",
        "4498432.66897"
       ]
      },
      {
       "output_type": "stream",
       "stream": "stdout",
       "text": [
        " 65.512855686\n",
        "4498432.66897"
       ]
      },
      {
       "output_type": "stream",
       "stream": "stdout",
       "text": [
        " 75.4312006335\n",
        "4498432.66897"
       ]
      },
      {
       "output_type": "stream",
       "stream": "stdout",
       "text": [
        " 86.8511373751\n",
        "4498432.66897"
       ]
      },
      {
       "output_type": "stream",
       "stream": "stdout",
       "text": [
        " 100.0\n",
        "7543120.06335"
       ]
      },
      {
       "output_type": "stream",
       "stream": "stdout",
       "text": [
        " 0.1\n",
        "7543120.06335"
       ]
      },
      {
       "output_type": "stream",
       "stream": "stdout",
       "text": [
        " 0.115139539933\n",
        "7543120.06335"
       ]
      },
      {
       "output_type": "stream",
       "stream": "stdout",
       "text": [
        " 0.132571136559\n",
        "7543120.06335"
       ]
      },
      {
       "output_type": "stream",
       "stream": "stdout",
       "text": [
        " 0.152641796718\n",
        "7543120.06335"
       ]
      },
      {
       "output_type": "stream",
       "stream": "stdout",
       "text": [
        " 0.175751062485\n",
        "7543120.06335"
       ]
      },
      {
       "output_type": "stream",
       "stream": "stdout",
       "text": [
        " 0.202358964773\n",
        "7543120.06335"
       ]
      },
      {
       "output_type": "stream",
       "stream": "stdout",
       "text": [
        " 0.232995181052\n",
        "7543120.06335"
       ]
      },
      {
       "output_type": "stream",
       "stream": "stdout",
       "text": [
        " 0.268269579528\n",
        "7543120.06335"
       ]
      },
      {
       "output_type": "stream",
       "stream": "stdout",
       "text": [
        " 0.308884359648\n",
        "7543120.06335"
       ]
      },
      {
       "output_type": "stream",
       "stream": "stdout",
       "text": [
        " 0.355648030622\n",
        "7543120.06335"
       ]
      },
      {
       "output_type": "stream",
       "stream": "stdout",
       "text": [
        " 0.409491506238\n",
        "7543120.06335"
       ]
      },
      {
       "output_type": "stream",
       "stream": "stdout",
       "text": [
        " 0.471486636346\n",
        "7543120.06335"
       ]
      },
      {
       "output_type": "stream",
       "stream": "stdout",
       "text": [
        " 0.542867543932\n",
        "7543120.06335"
       ]
      },
      {
       "output_type": "stream",
       "stream": "stdout",
       "text": [
        " 0.625055192527\n",
        "7543120.06335"
       ]
      },
      {
       "output_type": "stream",
       "stream": "stdout",
       "text": [
        " 0.719685673001\n",
        "7543120.06335"
       ]
      },
      {
       "output_type": "stream",
       "stream": "stdout",
       "text": [
        " 0.828642772855\n",
        "7543120.06335"
       ]
      },
      {
       "output_type": "stream",
       "stream": "stdout",
       "text": [
        " 0.95409547635\n",
        "7543120.06335"
       ]
      },
      {
       "output_type": "stream",
       "stream": "stdout",
       "text": [
        " 1.09854114199\n",
        "7543120.06335"
       ]
      },
      {
       "output_type": "stream",
       "stream": "stdout",
       "text": [
        " 1.26485521686\n",
        "7543120.06335"
       ]
      },
      {
       "output_type": "stream",
       "stream": "stdout",
       "text": [
        " 1.4563484775\n",
        "7543120.06335"
       ]
      },
      {
       "output_type": "stream",
       "stream": "stdout",
       "text": [
        " 1.67683293681\n",
        "7543120.06335"
       ]
      },
      {
       "output_type": "stream",
       "stream": "stdout",
       "text": [
        " 1.93069772888\n",
        "7543120.06335"
       ]
      },
      {
       "output_type": "stream",
       "stream": "stdout",
       "text": [
        " 2.22299648253\n",
        "7543120.06335"
       ]
      },
      {
       "output_type": "stream",
       "stream": "stdout",
       "text": [
        " 2.5595479227\n",
        "7543120.06335"
       ]
      },
      {
       "output_type": "stream",
       "stream": "stdout",
       "text": [
        " 2.94705170255\n",
        "7543120.06335"
       ]
      },
      {
       "output_type": "stream",
       "stream": "stdout",
       "text": [
        " 3.3932217719\n",
        "7543120.06335"
       ]
      },
      {
       "output_type": "stream",
       "stream": "stdout",
       "text": [
        " 3.90693993705\n",
        "7543120.06335"
       ]
      },
      {
       "output_type": "stream",
       "stream": "stdout",
       "text": [
        " 4.49843266897\n",
        "7543120.06335"
       ]
      },
      {
       "output_type": "stream",
       "stream": "stdout",
       "text": [
        " 5.17947467923\n",
        "7543120.06335"
       ]
      },
      {
       "output_type": "stream",
       "stream": "stdout",
       "text": [
        " 5.96362331659\n",
        "7543120.06335"
       ]
      },
      {
       "output_type": "stream",
       "stream": "stdout",
       "text": [
        " 6.86648845004\n",
        "7543120.06335"
       ]
      },
      {
       "output_type": "stream",
       "stream": "stdout",
       "text": [
        " 7.90604321091\n",
        "7543120.06335"
       ]
      },
      {
       "output_type": "stream",
       "stream": "stdout",
       "text": [
        " 9.10298177992\n",
        "7543120.06335"
       ]
      },
      {
       "output_type": "stream",
       "stream": "stdout",
       "text": [
        " 10.4811313415\n",
        "7543120.06335"
       ]
      },
      {
       "output_type": "stream",
       "stream": "stdout",
       "text": [
        " 12.0679264064\n",
        "7543120.06335"
       ]
      },
      {
       "output_type": "stream",
       "stream": "stdout",
       "text": [
        " 13.8949549437\n",
        "7543120.06335"
       ]
      },
      {
       "output_type": "stream",
       "stream": "stdout",
       "text": [
        " 15.9985871961\n",
        "7543120.06335"
       ]
      },
      {
       "output_type": "stream",
       "stream": "stdout",
       "text": [
        " 18.4206996933\n",
        "7543120.06335"
       ]
      },
      {
       "output_type": "stream",
       "stream": "stdout",
       "text": [
        " 21.2095088792\n",
        "7543120.06335"
       ]
      },
      {
       "output_type": "stream",
       "stream": "stdout",
       "text": [
        " 24.4205309455\n",
        "7543120.06335"
       ]
      },
      {
       "output_type": "stream",
       "stream": "stdout",
       "text": [
        " 28.1176869797\n",
        "7543120.06335"
       ]
      },
      {
       "output_type": "stream",
       "stream": "stdout",
       "text": [
        " 32.3745754282\n",
        "7543120.06335"
       ]
      },
      {
       "output_type": "stream",
       "stream": "stdout",
       "text": [
        " 37.2759372031\n",
        "7543120.06335"
       ]
      },
      {
       "output_type": "stream",
       "stream": "stdout",
       "text": [
        " 42.9193426013\n",
        "7543120.06335"
       ]
      },
      {
       "output_type": "stream",
       "stream": "stdout",
       "text": [
        " 49.4171336132\n",
        "7543120.06335"
       ]
      },
      {
       "output_type": "stream",
       "stream": "stdout",
       "text": [
        " 56.8986602902\n",
        "7543120.06335"
       ]
      },
      {
       "output_type": "stream",
       "stream": "stdout",
       "text": [
        " 65.512855686\n",
        "7543120.06335"
       ]
      },
      {
       "output_type": "stream",
       "stream": "stdout",
       "text": [
        " 75.4312006335\n",
        "7543120.06335"
       ]
      },
      {
       "output_type": "stream",
       "stream": "stdout",
       "text": [
        " 86.8511373751\n",
        "7543120.06335"
       ]
      },
      {
       "output_type": "stream",
       "stream": "stdout",
       "text": [
        " 100.0\n",
        "12648552.1686"
       ]
      },
      {
       "output_type": "stream",
       "stream": "stdout",
       "text": [
        " 0.1\n",
        "12648552.1686"
       ]
      },
      {
       "output_type": "stream",
       "stream": "stdout",
       "text": [
        " 0.115139539933\n",
        "12648552.1686"
       ]
      },
      {
       "output_type": "stream",
       "stream": "stdout",
       "text": [
        " 0.132571136559\n",
        "12648552.1686"
       ]
      },
      {
       "output_type": "stream",
       "stream": "stdout",
       "text": [
        " 0.152641796718\n",
        "12648552.1686"
       ]
      },
      {
       "output_type": "stream",
       "stream": "stdout",
       "text": [
        " 0.175751062485\n",
        "12648552.1686"
       ]
      },
      {
       "output_type": "stream",
       "stream": "stdout",
       "text": [
        " 0.202358964773\n",
        "12648552.1686"
       ]
      },
      {
       "output_type": "stream",
       "stream": "stdout",
       "text": [
        " 0.232995181052\n",
        "12648552.1686"
       ]
      },
      {
       "output_type": "stream",
       "stream": "stdout",
       "text": [
        " 0.268269579528\n",
        "12648552.1686"
       ]
      },
      {
       "output_type": "stream",
       "stream": "stdout",
       "text": [
        " 0.308884359648\n",
        "12648552.1686"
       ]
      },
      {
       "output_type": "stream",
       "stream": "stdout",
       "text": [
        " 0.355648030622\n",
        "12648552.1686"
       ]
      },
      {
       "output_type": "stream",
       "stream": "stdout",
       "text": [
        " 0.409491506238\n",
        "12648552.1686"
       ]
      },
      {
       "output_type": "stream",
       "stream": "stdout",
       "text": [
        " 0.471486636346\n",
        "12648552.1686"
       ]
      },
      {
       "output_type": "stream",
       "stream": "stdout",
       "text": [
        " 0.542867543932\n",
        "12648552.1686"
       ]
      },
      {
       "output_type": "stream",
       "stream": "stdout",
       "text": [
        " 0.625055192527\n",
        "12648552.1686"
       ]
      },
      {
       "output_type": "stream",
       "stream": "stdout",
       "text": [
        " 0.719685673001\n",
        "12648552.1686"
       ]
      },
      {
       "output_type": "stream",
       "stream": "stdout",
       "text": [
        " 0.828642772855\n",
        "12648552.1686"
       ]
      },
      {
       "output_type": "stream",
       "stream": "stdout",
       "text": [
        " 0.95409547635\n",
        "12648552.1686"
       ]
      },
      {
       "output_type": "stream",
       "stream": "stdout",
       "text": [
        " 1.09854114199\n",
        "12648552.1686"
       ]
      },
      {
       "output_type": "stream",
       "stream": "stdout",
       "text": [
        " 1.26485521686\n",
        "12648552.1686"
       ]
      },
      {
       "output_type": "stream",
       "stream": "stdout",
       "text": [
        " 1.4563484775\n",
        "12648552.1686"
       ]
      },
      {
       "output_type": "stream",
       "stream": "stdout",
       "text": [
        " 1.67683293681\n",
        "12648552.1686"
       ]
      },
      {
       "output_type": "stream",
       "stream": "stdout",
       "text": [
        " 1.93069772888\n",
        "12648552.1686"
       ]
      },
      {
       "output_type": "stream",
       "stream": "stdout",
       "text": [
        " 2.22299648253\n",
        "12648552.1686"
       ]
      },
      {
       "output_type": "stream",
       "stream": "stdout",
       "text": [
        " 2.5595479227\n",
        "12648552.1686"
       ]
      },
      {
       "output_type": "stream",
       "stream": "stdout",
       "text": [
        " 2.94705170255\n",
        "12648552.1686"
       ]
      },
      {
       "output_type": "stream",
       "stream": "stdout",
       "text": [
        " 3.3932217719\n",
        "12648552.1686"
       ]
      },
      {
       "output_type": "stream",
       "stream": "stdout",
       "text": [
        " 3.90693993705\n",
        "12648552.1686"
       ]
      },
      {
       "output_type": "stream",
       "stream": "stdout",
       "text": [
        " 4.49843266897\n",
        "12648552.1686"
       ]
      },
      {
       "output_type": "stream",
       "stream": "stdout",
       "text": [
        " 5.17947467923\n",
        "12648552.1686"
       ]
      },
      {
       "output_type": "stream",
       "stream": "stdout",
       "text": [
        " 5.96362331659\n",
        "12648552.1686"
       ]
      },
      {
       "output_type": "stream",
       "stream": "stdout",
       "text": [
        " 6.86648845004\n",
        "12648552.1686"
       ]
      },
      {
       "output_type": "stream",
       "stream": "stdout",
       "text": [
        " 7.90604321091\n",
        "12648552.1686"
       ]
      },
      {
       "output_type": "stream",
       "stream": "stdout",
       "text": [
        " 9.10298177992\n",
        "12648552.1686"
       ]
      },
      {
       "output_type": "stream",
       "stream": "stdout",
       "text": [
        " 10.4811313415\n",
        "12648552.1686"
       ]
      },
      {
       "output_type": "stream",
       "stream": "stdout",
       "text": [
        " 12.0679264064\n",
        "12648552.1686"
       ]
      },
      {
       "output_type": "stream",
       "stream": "stdout",
       "text": [
        " 13.8949549437\n",
        "12648552.1686"
       ]
      },
      {
       "output_type": "stream",
       "stream": "stdout",
       "text": [
        " 15.9985871961\n",
        "12648552.1686"
       ]
      },
      {
       "output_type": "stream",
       "stream": "stdout",
       "text": [
        " 18.4206996933\n",
        "12648552.1686"
       ]
      },
      {
       "output_type": "stream",
       "stream": "stdout",
       "text": [
        " 21.2095088792\n",
        "12648552.1686"
       ]
      },
      {
       "output_type": "stream",
       "stream": "stdout",
       "text": [
        " 24.4205309455\n",
        "12648552.1686"
       ]
      },
      {
       "output_type": "stream",
       "stream": "stdout",
       "text": [
        " 28.1176869797\n",
        "12648552.1686"
       ]
      },
      {
       "output_type": "stream",
       "stream": "stdout",
       "text": [
        " 32.3745754282\n",
        "12648552.1686"
       ]
      },
      {
       "output_type": "stream",
       "stream": "stdout",
       "text": [
        " 37.2759372031\n",
        "12648552.1686"
       ]
      },
      {
       "output_type": "stream",
       "stream": "stdout",
       "text": [
        " 42.9193426013\n",
        "12648552.1686"
       ]
      },
      {
       "output_type": "stream",
       "stream": "stdout",
       "text": [
        " 49.4171336132\n",
        "12648552.1686"
       ]
      },
      {
       "output_type": "stream",
       "stream": "stdout",
       "text": [
        " 56.8986602902\n",
        "12648552.1686"
       ]
      },
      {
       "output_type": "stream",
       "stream": "stdout",
       "text": [
        " 65.512855686\n",
        "12648552.1686"
       ]
      },
      {
       "output_type": "stream",
       "stream": "stdout",
       "text": [
        " 75.4312006335\n",
        "12648552.1686"
       ]
      },
      {
       "output_type": "stream",
       "stream": "stdout",
       "text": [
        " 86.8511373751\n",
        "12648552.1686"
       ]
      },
      {
       "output_type": "stream",
       "stream": "stdout",
       "text": [
        " 100.0\n",
        "21209508.8792"
       ]
      },
      {
       "output_type": "stream",
       "stream": "stdout",
       "text": [
        " 0.1\n",
        "21209508.8792"
       ]
      },
      {
       "output_type": "stream",
       "stream": "stdout",
       "text": [
        " 0.115139539933\n",
        "21209508.8792"
       ]
      },
      {
       "output_type": "stream",
       "stream": "stdout",
       "text": [
        " 0.132571136559\n",
        "21209508.8792"
       ]
      },
      {
       "output_type": "stream",
       "stream": "stdout",
       "text": [
        " 0.152641796718\n",
        "21209508.8792"
       ]
      },
      {
       "output_type": "stream",
       "stream": "stdout",
       "text": [
        " 0.175751062485\n",
        "21209508.8792"
       ]
      },
      {
       "output_type": "stream",
       "stream": "stdout",
       "text": [
        " 0.202358964773\n",
        "21209508.8792"
       ]
      },
      {
       "output_type": "stream",
       "stream": "stdout",
       "text": [
        " 0.232995181052\n",
        "21209508.8792"
       ]
      },
      {
       "output_type": "stream",
       "stream": "stdout",
       "text": [
        " 0.268269579528\n",
        "21209508.8792"
       ]
      },
      {
       "output_type": "stream",
       "stream": "stdout",
       "text": [
        " 0.308884359648\n",
        "21209508.8792"
       ]
      },
      {
       "output_type": "stream",
       "stream": "stdout",
       "text": [
        " 0.355648030622\n",
        "21209508.8792"
       ]
      },
      {
       "output_type": "stream",
       "stream": "stdout",
       "text": [
        " 0.409491506238\n",
        "21209508.8792"
       ]
      },
      {
       "output_type": "stream",
       "stream": "stdout",
       "text": [
        " 0.471486636346\n",
        "21209508.8792"
       ]
      },
      {
       "output_type": "stream",
       "stream": "stdout",
       "text": [
        " 0.542867543932\n",
        "21209508.8792"
       ]
      },
      {
       "output_type": "stream",
       "stream": "stdout",
       "text": [
        " 0.625055192527\n",
        "21209508.8792"
       ]
      },
      {
       "output_type": "stream",
       "stream": "stdout",
       "text": [
        " 0.719685673001\n",
        "21209508.8792"
       ]
      },
      {
       "output_type": "stream",
       "stream": "stdout",
       "text": [
        " 0.828642772855\n",
        "21209508.8792"
       ]
      },
      {
       "output_type": "stream",
       "stream": "stdout",
       "text": [
        " 0.95409547635\n",
        "21209508.8792"
       ]
      },
      {
       "output_type": "stream",
       "stream": "stdout",
       "text": [
        " 1.09854114199\n",
        "21209508.8792"
       ]
      },
      {
       "output_type": "stream",
       "stream": "stdout",
       "text": [
        " 1.26485521686\n",
        "21209508.8792"
       ]
      },
      {
       "output_type": "stream",
       "stream": "stdout",
       "text": [
        " 1.4563484775\n",
        "21209508.8792"
       ]
      },
      {
       "output_type": "stream",
       "stream": "stdout",
       "text": [
        " 1.67683293681\n",
        "21209508.8792"
       ]
      },
      {
       "output_type": "stream",
       "stream": "stdout",
       "text": [
        " 1.93069772888\n",
        "21209508.8792"
       ]
      },
      {
       "output_type": "stream",
       "stream": "stdout",
       "text": [
        " 2.22299648253\n",
        "21209508.8792"
       ]
      },
      {
       "output_type": "stream",
       "stream": "stdout",
       "text": [
        " 2.5595479227\n",
        "21209508.8792"
       ]
      },
      {
       "output_type": "stream",
       "stream": "stdout",
       "text": [
        " 2.94705170255\n",
        "21209508.8792"
       ]
      },
      {
       "output_type": "stream",
       "stream": "stdout",
       "text": [
        " 3.3932217719\n",
        "21209508.8792"
       ]
      },
      {
       "output_type": "stream",
       "stream": "stdout",
       "text": [
        " 3.90693993705\n",
        "21209508.8792"
       ]
      },
      {
       "output_type": "stream",
       "stream": "stdout",
       "text": [
        " 4.49843266897\n",
        "21209508.8792"
       ]
      },
      {
       "output_type": "stream",
       "stream": "stdout",
       "text": [
        " 5.17947467923\n",
        "21209508.8792"
       ]
      },
      {
       "output_type": "stream",
       "stream": "stdout",
       "text": [
        " 5.96362331659\n",
        "21209508.8792"
       ]
      },
      {
       "output_type": "stream",
       "stream": "stdout",
       "text": [
        " 6.86648845004\n",
        "21209508.8792"
       ]
      },
      {
       "output_type": "stream",
       "stream": "stdout",
       "text": [
        " 7.90604321091\n",
        "21209508.8792"
       ]
      },
      {
       "output_type": "stream",
       "stream": "stdout",
       "text": [
        " 9.10298177992\n",
        "21209508.8792"
       ]
      },
      {
       "output_type": "stream",
       "stream": "stdout",
       "text": [
        " 10.4811313415\n",
        "21209508.8792"
       ]
      },
      {
       "output_type": "stream",
       "stream": "stdout",
       "text": [
        " 12.0679264064\n",
        "21209508.8792"
       ]
      },
      {
       "output_type": "stream",
       "stream": "stdout",
       "text": [
        " 13.8949549437\n",
        "21209508.8792"
       ]
      },
      {
       "output_type": "stream",
       "stream": "stdout",
       "text": [
        " 15.9985871961\n",
        "21209508.8792"
       ]
      },
      {
       "output_type": "stream",
       "stream": "stdout",
       "text": [
        " 18.4206996933\n",
        "21209508.8792"
       ]
      },
      {
       "output_type": "stream",
       "stream": "stdout",
       "text": [
        " 21.2095088792\n",
        "21209508.8792"
       ]
      },
      {
       "output_type": "stream",
       "stream": "stdout",
       "text": [
        " 24.4205309455\n",
        "21209508.8792"
       ]
      },
      {
       "output_type": "stream",
       "stream": "stdout",
       "text": [
        " 28.1176869797\n",
        "21209508.8792"
       ]
      },
      {
       "output_type": "stream",
       "stream": "stdout",
       "text": [
        " 32.3745754282\n",
        "21209508.8792"
       ]
      },
      {
       "output_type": "stream",
       "stream": "stdout",
       "text": [
        " 37.2759372031\n",
        "21209508.8792"
       ]
      },
      {
       "output_type": "stream",
       "stream": "stdout",
       "text": [
        " 42.9193426013\n",
        "21209508.8792"
       ]
      },
      {
       "output_type": "stream",
       "stream": "stdout",
       "text": [
        " 49.4171336132\n",
        "21209508.8792"
       ]
      },
      {
       "output_type": "stream",
       "stream": "stdout",
       "text": [
        " 56.8986602902\n",
        "21209508.8792"
       ]
      },
      {
       "output_type": "stream",
       "stream": "stdout",
       "text": [
        " 65.512855686\n",
        "21209508.8792"
       ]
      },
      {
       "output_type": "stream",
       "stream": "stdout",
       "text": [
        " 75.4312006335\n",
        "21209508.8792"
       ]
      },
      {
       "output_type": "stream",
       "stream": "stdout",
       "text": [
        " 86.8511373751\n",
        "21209508.8792"
       ]
      },
      {
       "output_type": "stream",
       "stream": "stdout",
       "text": [
        " 100.0\n",
        "35564803.0622"
       ]
      },
      {
       "output_type": "stream",
       "stream": "stdout",
       "text": [
        " 0.1\n",
        "35564803.0622"
       ]
      },
      {
       "output_type": "stream",
       "stream": "stdout",
       "text": [
        " 0.115139539933\n",
        "35564803.0622"
       ]
      },
      {
       "output_type": "stream",
       "stream": "stdout",
       "text": [
        " 0.132571136559\n",
        "35564803.0622"
       ]
      },
      {
       "output_type": "stream",
       "stream": "stdout",
       "text": [
        " 0.152641796718\n",
        "35564803.0622"
       ]
      },
      {
       "output_type": "stream",
       "stream": "stdout",
       "text": [
        " 0.175751062485\n",
        "35564803.0622"
       ]
      },
      {
       "output_type": "stream",
       "stream": "stdout",
       "text": [
        " 0.202358964773\n",
        "35564803.0622"
       ]
      },
      {
       "output_type": "stream",
       "stream": "stdout",
       "text": [
        " 0.232995181052\n",
        "35564803.0622"
       ]
      },
      {
       "output_type": "stream",
       "stream": "stdout",
       "text": [
        " 0.268269579528\n",
        "35564803.0622"
       ]
      },
      {
       "output_type": "stream",
       "stream": "stdout",
       "text": [
        " 0.308884359648\n",
        "35564803.0622"
       ]
      },
      {
       "output_type": "stream",
       "stream": "stdout",
       "text": [
        " 0.355648030622\n",
        "35564803.0622"
       ]
      },
      {
       "output_type": "stream",
       "stream": "stdout",
       "text": [
        " 0.409491506238\n",
        "35564803.0622"
       ]
      },
      {
       "output_type": "stream",
       "stream": "stdout",
       "text": [
        " 0.471486636346\n",
        "35564803.0622"
       ]
      },
      {
       "output_type": "stream",
       "stream": "stdout",
       "text": [
        " 0.542867543932\n",
        "35564803.0622"
       ]
      },
      {
       "output_type": "stream",
       "stream": "stdout",
       "text": [
        " 0.625055192527\n",
        "35564803.0622"
       ]
      },
      {
       "output_type": "stream",
       "stream": "stdout",
       "text": [
        " 0.719685673001\n",
        "35564803.0622"
       ]
      },
      {
       "output_type": "stream",
       "stream": "stdout",
       "text": [
        " 0.828642772855\n",
        "35564803.0622"
       ]
      },
      {
       "output_type": "stream",
       "stream": "stdout",
       "text": [
        " 0.95409547635\n",
        "35564803.0622"
       ]
      },
      {
       "output_type": "stream",
       "stream": "stdout",
       "text": [
        " 1.09854114199\n",
        "35564803.0622"
       ]
      },
      {
       "output_type": "stream",
       "stream": "stdout",
       "text": [
        " 1.26485521686\n",
        "35564803.0622"
       ]
      },
      {
       "output_type": "stream",
       "stream": "stdout",
       "text": [
        " 1.4563484775\n",
        "35564803.0622"
       ]
      },
      {
       "output_type": "stream",
       "stream": "stdout",
       "text": [
        " 1.67683293681\n",
        "35564803.0622"
       ]
      },
      {
       "output_type": "stream",
       "stream": "stdout",
       "text": [
        " 1.93069772888\n",
        "35564803.0622"
       ]
      },
      {
       "output_type": "stream",
       "stream": "stdout",
       "text": [
        " 2.22299648253\n",
        "35564803.0622"
       ]
      },
      {
       "output_type": "stream",
       "stream": "stdout",
       "text": [
        " 2.5595479227\n",
        "35564803.0622"
       ]
      },
      {
       "output_type": "stream",
       "stream": "stdout",
       "text": [
        " 2.94705170255\n",
        "35564803.0622"
       ]
      },
      {
       "output_type": "stream",
       "stream": "stdout",
       "text": [
        " 3.3932217719\n",
        "35564803.0622"
       ]
      },
      {
       "output_type": "stream",
       "stream": "stdout",
       "text": [
        " 3.90693993705\n",
        "35564803.0622"
       ]
      },
      {
       "output_type": "stream",
       "stream": "stdout",
       "text": [
        " 4.49843266897\n",
        "35564803.0622"
       ]
      },
      {
       "output_type": "stream",
       "stream": "stdout",
       "text": [
        " 5.17947467923\n",
        "35564803.0622"
       ]
      },
      {
       "output_type": "stream",
       "stream": "stdout",
       "text": [
        " 5.96362331659\n",
        "35564803.0622"
       ]
      },
      {
       "output_type": "stream",
       "stream": "stdout",
       "text": [
        " 6.86648845004\n",
        "35564803.0622"
       ]
      },
      {
       "output_type": "stream",
       "stream": "stdout",
       "text": [
        " 7.90604321091\n",
        "35564803.0622"
       ]
      },
      {
       "output_type": "stream",
       "stream": "stdout",
       "text": [
        " 9.10298177992\n",
        "35564803.0622"
       ]
      },
      {
       "output_type": "stream",
       "stream": "stdout",
       "text": [
        " 10.4811313415\n",
        "35564803.0622"
       ]
      },
      {
       "output_type": "stream",
       "stream": "stdout",
       "text": [
        " 12.0679264064\n",
        "35564803.0622"
       ]
      },
      {
       "output_type": "stream",
       "stream": "stdout",
       "text": [
        " 13.8949549437\n",
        "35564803.0622"
       ]
      },
      {
       "output_type": "stream",
       "stream": "stdout",
       "text": [
        " 15.9985871961\n",
        "35564803.0622"
       ]
      },
      {
       "output_type": "stream",
       "stream": "stdout",
       "text": [
        " 18.4206996933\n",
        "35564803.0622"
       ]
      },
      {
       "output_type": "stream",
       "stream": "stdout",
       "text": [
        " 21.2095088792\n",
        "35564803.0622"
       ]
      },
      {
       "output_type": "stream",
       "stream": "stdout",
       "text": [
        " 24.4205309455\n",
        "35564803.0622"
       ]
      },
      {
       "output_type": "stream",
       "stream": "stdout",
       "text": [
        " 28.1176869797\n",
        "35564803.0622"
       ]
      },
      {
       "output_type": "stream",
       "stream": "stdout",
       "text": [
        " 32.3745754282\n",
        "35564803.0622"
       ]
      },
      {
       "output_type": "stream",
       "stream": "stdout",
       "text": [
        " 37.2759372031\n",
        "35564803.0622"
       ]
      },
      {
       "output_type": "stream",
       "stream": "stdout",
       "text": [
        " 42.9193426013\n",
        "35564803.0622"
       ]
      },
      {
       "output_type": "stream",
       "stream": "stdout",
       "text": [
        " 49.4171336132\n",
        "35564803.0622"
       ]
      },
      {
       "output_type": "stream",
       "stream": "stdout",
       "text": [
        " 56.8986602902\n",
        "35564803.0622"
       ]
      },
      {
       "output_type": "stream",
       "stream": "stdout",
       "text": [
        " 65.512855686\n",
        "35564803.0622"
       ]
      },
      {
       "output_type": "stream",
       "stream": "stdout",
       "text": [
        " 75.4312006335\n",
        "35564803.0622"
       ]
      },
      {
       "output_type": "stream",
       "stream": "stdout",
       "text": [
        " 86.8511373751\n",
        "35564803.0622"
       ]
      },
      {
       "output_type": "stream",
       "stream": "stdout",
       "text": [
        " 100.0\n",
        "59636233.1659"
       ]
      },
      {
       "output_type": "stream",
       "stream": "stdout",
       "text": [
        " 0.1\n",
        "59636233.1659"
       ]
      },
      {
       "output_type": "stream",
       "stream": "stdout",
       "text": [
        " 0.115139539933\n",
        "59636233.1659"
       ]
      },
      {
       "output_type": "stream",
       "stream": "stdout",
       "text": [
        " 0.132571136559\n",
        "59636233.1659"
       ]
      },
      {
       "output_type": "stream",
       "stream": "stdout",
       "text": [
        " 0.152641796718\n",
        "59636233.1659"
       ]
      },
      {
       "output_type": "stream",
       "stream": "stdout",
       "text": [
        " 0.175751062485\n",
        "59636233.1659"
       ]
      },
      {
       "output_type": "stream",
       "stream": "stdout",
       "text": [
        " 0.202358964773\n",
        "59636233.1659"
       ]
      },
      {
       "output_type": "stream",
       "stream": "stdout",
       "text": [
        " 0.232995181052\n",
        "59636233.1659"
       ]
      },
      {
       "output_type": "stream",
       "stream": "stdout",
       "text": [
        " 0.268269579528\n",
        "59636233.1659"
       ]
      },
      {
       "output_type": "stream",
       "stream": "stdout",
       "text": [
        " 0.308884359648\n",
        "59636233.1659"
       ]
      },
      {
       "output_type": "stream",
       "stream": "stdout",
       "text": [
        " 0.355648030622\n",
        "59636233.1659"
       ]
      },
      {
       "output_type": "stream",
       "stream": "stdout",
       "text": [
        " 0.409491506238\n",
        "59636233.1659"
       ]
      },
      {
       "output_type": "stream",
       "stream": "stdout",
       "text": [
        " 0.471486636346\n",
        "59636233.1659"
       ]
      },
      {
       "output_type": "stream",
       "stream": "stdout",
       "text": [
        " 0.542867543932\n",
        "59636233.1659"
       ]
      },
      {
       "output_type": "stream",
       "stream": "stdout",
       "text": [
        " 0.625055192527\n",
        "59636233.1659"
       ]
      },
      {
       "output_type": "stream",
       "stream": "stdout",
       "text": [
        " 0.719685673001\n",
        "59636233.1659"
       ]
      },
      {
       "output_type": "stream",
       "stream": "stdout",
       "text": [
        " 0.828642772855\n",
        "59636233.1659"
       ]
      },
      {
       "output_type": "stream",
       "stream": "stdout",
       "text": [
        " 0.95409547635\n",
        "59636233.1659"
       ]
      },
      {
       "output_type": "stream",
       "stream": "stdout",
       "text": [
        " 1.09854114199\n",
        "59636233.1659"
       ]
      },
      {
       "output_type": "stream",
       "stream": "stdout",
       "text": [
        " 1.26485521686\n",
        "59636233.1659"
       ]
      },
      {
       "output_type": "stream",
       "stream": "stdout",
       "text": [
        " 1.4563484775\n",
        "59636233.1659"
       ]
      },
      {
       "output_type": "stream",
       "stream": "stdout",
       "text": [
        " 1.67683293681\n",
        "59636233.1659"
       ]
      },
      {
       "output_type": "stream",
       "stream": "stdout",
       "text": [
        " 1.93069772888\n",
        "59636233.1659"
       ]
      },
      {
       "output_type": "stream",
       "stream": "stdout",
       "text": [
        " 2.22299648253\n",
        "59636233.1659"
       ]
      },
      {
       "output_type": "stream",
       "stream": "stdout",
       "text": [
        " 2.5595479227\n",
        "59636233.1659"
       ]
      },
      {
       "output_type": "stream",
       "stream": "stdout",
       "text": [
        " 2.94705170255\n",
        "59636233.1659"
       ]
      },
      {
       "output_type": "stream",
       "stream": "stdout",
       "text": [
        " 3.3932217719\n",
        "59636233.1659"
       ]
      },
      {
       "output_type": "stream",
       "stream": "stdout",
       "text": [
        " 3.90693993705\n",
        "59636233.1659"
       ]
      },
      {
       "output_type": "stream",
       "stream": "stdout",
       "text": [
        " 4.49843266897\n",
        "59636233.1659"
       ]
      },
      {
       "output_type": "stream",
       "stream": "stdout",
       "text": [
        " 5.17947467923\n",
        "59636233.1659"
       ]
      },
      {
       "output_type": "stream",
       "stream": "stdout",
       "text": [
        " 5.96362331659\n",
        "59636233.1659"
       ]
      },
      {
       "output_type": "stream",
       "stream": "stdout",
       "text": [
        " 6.86648845004\n",
        "59636233.1659"
       ]
      },
      {
       "output_type": "stream",
       "stream": "stdout",
       "text": [
        " 7.90604321091\n",
        "59636233.1659"
       ]
      },
      {
       "output_type": "stream",
       "stream": "stdout",
       "text": [
        " 9.10298177992\n",
        "59636233.1659"
       ]
      },
      {
       "output_type": "stream",
       "stream": "stdout",
       "text": [
        " 10.4811313415\n",
        "59636233.1659"
       ]
      },
      {
       "output_type": "stream",
       "stream": "stdout",
       "text": [
        " 12.0679264064\n",
        "59636233.1659"
       ]
      },
      {
       "output_type": "stream",
       "stream": "stdout",
       "text": [
        " 13.8949549437\n",
        "59636233.1659"
       ]
      },
      {
       "output_type": "stream",
       "stream": "stdout",
       "text": [
        " 15.9985871961\n",
        "59636233.1659"
       ]
      },
      {
       "output_type": "stream",
       "stream": "stdout",
       "text": [
        " 18.4206996933\n",
        "59636233.1659"
       ]
      },
      {
       "output_type": "stream",
       "stream": "stdout",
       "text": [
        " 21.2095088792\n",
        "59636233.1659"
       ]
      },
      {
       "output_type": "stream",
       "stream": "stdout",
       "text": [
        " 24.4205309455\n",
        "59636233.1659"
       ]
      },
      {
       "output_type": "stream",
       "stream": "stdout",
       "text": [
        " 28.1176869797\n",
        "59636233.1659"
       ]
      },
      {
       "output_type": "stream",
       "stream": "stdout",
       "text": [
        " 32.3745754282\n",
        "59636233.1659"
       ]
      },
      {
       "output_type": "stream",
       "stream": "stdout",
       "text": [
        " 37.2759372031\n",
        "59636233.1659"
       ]
      },
      {
       "output_type": "stream",
       "stream": "stdout",
       "text": [
        " 42.9193426013\n",
        "59636233.1659"
       ]
      },
      {
       "output_type": "stream",
       "stream": "stdout",
       "text": [
        " 49.4171336132\n",
        "59636233.1659"
       ]
      },
      {
       "output_type": "stream",
       "stream": "stdout",
       "text": [
        " 56.8986602902\n",
        "59636233.1659"
       ]
      },
      {
       "output_type": "stream",
       "stream": "stdout",
       "text": [
        " 65.512855686\n",
        "59636233.1659"
       ]
      },
      {
       "output_type": "stream",
       "stream": "stdout",
       "text": [
        " 75.4312006335\n",
        "59636233.1659"
       ]
      },
      {
       "output_type": "stream",
       "stream": "stdout",
       "text": [
        " 86.8511373751\n",
        "59636233.1659"
       ]
      },
      {
       "output_type": "stream",
       "stream": "stdout",
       "text": [
        " 100.0\n",
        "100000000.0"
       ]
      },
      {
       "output_type": "stream",
       "stream": "stdout",
       "text": [
        " 0.1\n",
        "100000000.0"
       ]
      },
      {
       "output_type": "stream",
       "stream": "stdout",
       "text": [
        " 0.115139539933\n",
        "100000000.0"
       ]
      },
      {
       "output_type": "stream",
       "stream": "stdout",
       "text": [
        " 0.132571136559\n",
        "100000000.0"
       ]
      },
      {
       "output_type": "stream",
       "stream": "stdout",
       "text": [
        " 0.152641796718\n",
        "100000000.0"
       ]
      },
      {
       "output_type": "stream",
       "stream": "stdout",
       "text": [
        " 0.175751062485\n",
        "100000000.0"
       ]
      },
      {
       "output_type": "stream",
       "stream": "stdout",
       "text": [
        " 0.202358964773\n",
        "100000000.0"
       ]
      },
      {
       "output_type": "stream",
       "stream": "stdout",
       "text": [
        " 0.232995181052\n",
        "100000000.0"
       ]
      },
      {
       "output_type": "stream",
       "stream": "stdout",
       "text": [
        " 0.268269579528\n",
        "100000000.0"
       ]
      },
      {
       "output_type": "stream",
       "stream": "stdout",
       "text": [
        " 0.308884359648\n",
        "100000000.0"
       ]
      },
      {
       "output_type": "stream",
       "stream": "stdout",
       "text": [
        " 0.355648030622\n",
        "100000000.0"
       ]
      },
      {
       "output_type": "stream",
       "stream": "stdout",
       "text": [
        " 0.409491506238\n",
        "100000000.0"
       ]
      },
      {
       "output_type": "stream",
       "stream": "stdout",
       "text": [
        " 0.471486636346\n",
        "100000000.0"
       ]
      },
      {
       "output_type": "stream",
       "stream": "stdout",
       "text": [
        " 0.542867543932\n",
        "100000000.0"
       ]
      },
      {
       "output_type": "stream",
       "stream": "stdout",
       "text": [
        " 0.625055192527\n",
        "100000000.0"
       ]
      },
      {
       "output_type": "stream",
       "stream": "stdout",
       "text": [
        " 0.719685673001\n",
        "100000000.0"
       ]
      },
      {
       "output_type": "stream",
       "stream": "stdout",
       "text": [
        " 0.828642772855\n",
        "100000000.0"
       ]
      },
      {
       "output_type": "stream",
       "stream": "stdout",
       "text": [
        " 0.95409547635\n",
        "100000000.0"
       ]
      },
      {
       "output_type": "stream",
       "stream": "stdout",
       "text": [
        " 1.09854114199\n",
        "100000000.0"
       ]
      },
      {
       "output_type": "stream",
       "stream": "stdout",
       "text": [
        " 1.26485521686\n",
        "100000000.0"
       ]
      },
      {
       "output_type": "stream",
       "stream": "stdout",
       "text": [
        " 1.4563484775\n",
        "100000000.0"
       ]
      },
      {
       "output_type": "stream",
       "stream": "stdout",
       "text": [
        " 1.67683293681\n",
        "100000000.0"
       ]
      },
      {
       "output_type": "stream",
       "stream": "stdout",
       "text": [
        " 1.93069772888\n",
        "100000000.0"
       ]
      },
      {
       "output_type": "stream",
       "stream": "stdout",
       "text": [
        " 2.22299648253\n",
        "100000000.0"
       ]
      },
      {
       "output_type": "stream",
       "stream": "stdout",
       "text": [
        " 2.5595479227\n",
        "100000000.0"
       ]
      },
      {
       "output_type": "stream",
       "stream": "stdout",
       "text": [
        " 2.94705170255\n",
        "100000000.0"
       ]
      },
      {
       "output_type": "stream",
       "stream": "stdout",
       "text": [
        " 3.3932217719\n",
        "100000000.0"
       ]
      },
      {
       "output_type": "stream",
       "stream": "stdout",
       "text": [
        " 3.90693993705\n",
        "100000000.0"
       ]
      },
      {
       "output_type": "stream",
       "stream": "stdout",
       "text": [
        " 4.49843266897\n",
        "100000000.0"
       ]
      },
      {
       "output_type": "stream",
       "stream": "stdout",
       "text": [
        " 5.17947467923\n",
        "100000000.0"
       ]
      },
      {
       "output_type": "stream",
       "stream": "stdout",
       "text": [
        " 5.96362331659\n",
        "100000000.0"
       ]
      },
      {
       "output_type": "stream",
       "stream": "stdout",
       "text": [
        " 6.86648845004\n",
        "100000000.0"
       ]
      },
      {
       "output_type": "stream",
       "stream": "stdout",
       "text": [
        " 7.90604321091\n",
        "100000000.0"
       ]
      },
      {
       "output_type": "stream",
       "stream": "stdout",
       "text": [
        " 9.10298177992\n",
        "100000000.0"
       ]
      },
      {
       "output_type": "stream",
       "stream": "stdout",
       "text": [
        " 10.4811313415\n",
        "100000000.0"
       ]
      },
      {
       "output_type": "stream",
       "stream": "stdout",
       "text": [
        " 12.0679264064\n",
        "100000000.0"
       ]
      },
      {
       "output_type": "stream",
       "stream": "stdout",
       "text": [
        " 13.8949549437\n",
        "100000000.0"
       ]
      },
      {
       "output_type": "stream",
       "stream": "stdout",
       "text": [
        " 15.9985871961\n",
        "100000000.0"
       ]
      },
      {
       "output_type": "stream",
       "stream": "stdout",
       "text": [
        " 18.4206996933\n",
        "100000000.0"
       ]
      },
      {
       "output_type": "stream",
       "stream": "stdout",
       "text": [
        " 21.2095088792\n",
        "100000000.0"
       ]
      },
      {
       "output_type": "stream",
       "stream": "stdout",
       "text": [
        " 24.4205309455\n",
        "100000000.0"
       ]
      },
      {
       "output_type": "stream",
       "stream": "stdout",
       "text": [
        " 28.1176869797\n",
        "100000000.0"
       ]
      },
      {
       "output_type": "stream",
       "stream": "stdout",
       "text": [
        " 32.3745754282\n",
        "100000000.0"
       ]
      },
      {
       "output_type": "stream",
       "stream": "stdout",
       "text": [
        " 37.2759372031\n",
        "100000000.0"
       ]
      },
      {
       "output_type": "stream",
       "stream": "stdout",
       "text": [
        " 42.9193426013\n",
        "100000000.0"
       ]
      },
      {
       "output_type": "stream",
       "stream": "stdout",
       "text": [
        " 49.4171336132\n",
        "100000000.0"
       ]
      },
      {
       "output_type": "stream",
       "stream": "stdout",
       "text": [
        " 56.8986602902\n",
        "100000000.0"
       ]
      },
      {
       "output_type": "stream",
       "stream": "stdout",
       "text": [
        " 65.512855686\n",
        "100000000.0"
       ]
      },
      {
       "output_type": "stream",
       "stream": "stdout",
       "text": [
        " 75.4312006335\n",
        "100000000.0"
       ]
      },
      {
       "output_type": "stream",
       "stream": "stdout",
       "text": [
        " 86.8511373751\n",
        "100000000.0"
       ]
      },
      {
       "output_type": "stream",
       "stream": "stdout",
       "text": [
        " 100.0\n"
       ]
      }
     ],
     "prompt_number": 6
    },
    {
     "cell_type": "code",
     "collapsed": false,
     "input": [
      "f = open('../dat/H2O/s_neg3_8_steady.txt', 'wb')\n",
      "for i in range(len(s)):\n",
      "    f.write('%s ' % str(s[i]))\n",
      "    f.write('%s \\n' % str(len(a)))\n",
      "    for j in range(len(a)):\n",
      "        f.write(' %s ' % str(a[j]))\n",
      "        f.write(' %s \\n' % str(darray[i, j]))\n",
      "f.close()"
     ],
     "language": "python",
     "metadata": {},
     "outputs": [],
     "prompt_number": 7
    },
    {
     "cell_type": "code",
     "collapsed": false,
     "input": [
      "s, a, arrayH2O = read_drag_file_many('s_neg3_8_steady.txt', 'H2O', 50, 50)"
     ],
     "language": "python",
     "metadata": {},
     "outputs": [],
     "prompt_number": 8
    },
    {
     "cell_type": "code",
     "collapsed": false,
     "input": [
      "#f, (ax1, ax2, ax3) = plt.subplots(3, sharex = True, figsize = (3.5, 8))\n",
      "\n",
      "rnb = linspace(0, 256, len(s))\n",
      "\n",
      "for i in range(0, len(s)):\n",
      "    plt.loglog(a, arrayH2O[i], c = cm.rainbow(int(rnb[i])))\n",
      "plt.ylim(ymin = 0.1, ymax = 1e2)\n",
      "plt.xlim(xmin = 0.1, xmax = 1e2)\n",
      "plt.ylabel('Desorption distance [AU]')\n",
      "plt.xlabel('Initial distance [AU]')\n",
      "#plt.savefig('../figs/desorption_dist_H2O_with_acc_1e5yr.pdf')"
     ],
     "language": "python",
     "metadata": {},
     "outputs": [
      {
       "output_type": "pyout",
       "prompt_number": 9,
       "text": [
        "<matplotlib.text.Text at 0x5336f10>"
       ]
      },
      {
       "output_type": "display_data",
       "png": "[encoded data removed]"
      }
     ],
     "prompt_number": 9
    },
    {
     "cell_type": "code",
     "collapsed": false,
     "input": [
      "s, a, arrayH2O = read_drag_file_many('s_neg3_8_varying_sigmap.txt', 'CO2', 50, 50)"
     ],
     "language": "python",
     "metadata": {},
     "outputs": [],
     "prompt_number": 30
    },
    {
     "cell_type": "code",
     "collapsed": false,
     "input": [
      "f = open('../dat/H2O/act_s_100cm_1e4_0.01Msun.txt', 'wb')\n",
      "for i in range(len(a)):\n",
      "    f.write(' %s ' % str(a[i]))\n",
      "    f.write(' %s \\n' % str(darray1e4[i]))\n",
      "f.close()"
     ],
     "language": "python",
     "metadata": {},
     "outputs": [],
     "prompt_number": 47
    },
    {
     "cell_type": "code",
     "collapsed": false,
     "input": [],
     "language": "python",
     "metadata": {},
     "outputs": []
    }
   ],
   "metadata": {}
  }
 ]
}