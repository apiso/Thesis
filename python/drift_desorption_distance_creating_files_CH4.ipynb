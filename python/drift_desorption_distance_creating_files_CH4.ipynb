{
 "metadata": {
  "name": "drift_desorption_distance_creating_files_CH4",
  "signature": "sha256:e3d4acf095b591b89952a3ba73ce694de563da3ad954fcbdcb0ba96ea8f86912"
 },
 "nbformat": 3,
 "nbformat_minor": 0,
 "worksheets": [
  {
   "cells": [
    {
     "cell_type": "code",
     "collapsed": false,
     "input": [
      "from drift_timescales import rf, read_drag_file_many\n",
      "#from drift_timescales_updated_sigmap import rf, read_drag_file_many\n",
      "#from drift_timescales_active_Tdisk import rf, read_drag_file_many\n",
      "from utils.constants import Msun"
     ],
     "language": "python",
     "metadata": {},
     "outputs": [],
     "prompt_number": 1
    },
    {
     "cell_type": "code",
     "collapsed": false,
     "input": [
      "a = logspace(-1, 2, 50)\n",
      "s = logspace(-3, 8, 50)\n",
      "\n",
      "darray = np.ndarray(shape = (len(s), len(a)), dtype = float)\n",
      "\n",
      "for i in range(len(s)):\n",
      "    for j in range(len(a)):\n",
      "        darray[i, j] = rf(a[j], s[i], 16., 1300., rhos = 2.0, mu = 2.3, Sigma0 = 2e3, betaS = 1., npts = 1e6, nptsin = 1e5, vphi = 0)[1][-1]\n",
      "        #darray[i, j] = rf(a[j], 3e6*365*24*3600, s[i], 1e-8, 2e-6, 18, 5800., 0.01, 1e-3, rhos = 2.0, mu = 2.3)\n",
      "        print s[i], a[j]"
     ],
     "language": "python",
     "metadata": {},
     "outputs": [
      {
       "output_type": "stream",
       "stream": "stdout",
       "text": [
        "0.001 0.1\n",
        "0.001"
       ]
      },
      {
       "output_type": "stream",
       "stream": "stdout",
       "text": [
        " 0.115139539933\n",
        "0.001"
       ]
      },
      {
       "output_type": "stream",
       "stream": "stdout",
       "text": [
        " 0.132571136559\n",
        "0.001"
       ]
      },
      {
       "output_type": "stream",
       "stream": "stdout",
       "text": [
        " 0.152641796718\n",
        "0.001"
       ]
      },
      {
       "output_type": "stream",
       "stream": "stdout",
       "text": [
        " 0.175751062485\n",
        "0.001"
       ]
      },
      {
       "output_type": "stream",
       "stream": "stdout",
       "text": [
        " 0.202358964773\n",
        "0.001"
       ]
      },
      {
       "output_type": "stream",
       "stream": "stdout",
       "text": [
        " 0.232995181052\n",
        "0.001"
       ]
      },
      {
       "output_type": "stream",
       "stream": "stdout",
       "text": [
        " 0.268269579528\n",
        "0.001"
       ]
      },
      {
       "output_type": "stream",
       "stream": "stdout",
       "text": [
        " 0.308884359648\n",
        "0.001"
       ]
      },
      {
       "output_type": "stream",
       "stream": "stdout",
       "text": [
        " 0.355648030622\n",
        "0.001"
       ]
      },
      {
       "output_type": "stream",
       "stream": "stdout",
       "text": [
        " 0.409491506238\n",
        "0.001"
       ]
      },
      {
       "output_type": "stream",
       "stream": "stdout",
       "text": [
        " 0.471486636346\n",
        "0.001"
       ]
      },
      {
       "output_type": "stream",
       "stream": "stdout",
       "text": [
        " 0.542867543932\n",
        "0.001"
       ]
      },
      {
       "output_type": "stream",
       "stream": "stdout",
       "text": [
        " 0.625055192527\n",
        "0.001"
       ]
      },
      {
       "output_type": "stream",
       "stream": "stdout",
       "text": [
        " 0.719685673001\n",
        "0.001"
       ]
      },
      {
       "output_type": "stream",
       "stream": "stdout",
       "text": [
        " 0.828642772855\n",
        "0.001"
       ]
      },
      {
       "output_type": "stream",
       "stream": "stdout",
       "text": [
        " 0.95409547635\n",
        "0.001"
       ]
      },
      {
       "output_type": "stream",
       "stream": "stdout",
       "text": [
        " 1.09854114199\n",
        "0.001"
       ]
      },
      {
       "output_type": "stream",
       "stream": "stdout",
       "text": [
        " 1.26485521686\n",
        "0.001"
       ]
      },
      {
       "output_type": "stream",
       "stream": "stdout",
       "text": [
        " 1.4563484775\n",
        "0.001"
       ]
      },
      {
       "output_type": "stream",
       "stream": "stdout",
       "text": [
        " 1.67683293681\n",
        "0.001"
       ]
      },
      {
       "output_type": "stream",
       "stream": "stdout",
       "text": [
        " 1.93069772888\n",
        "0.001"
       ]
      },
      {
       "output_type": "stream",
       "stream": "stdout",
       "text": [
        " 2.22299648253\n",
        "0.001"
       ]
      },
      {
       "output_type": "stream",
       "stream": "stdout",
       "text": [
        " 2.5595479227\n",
        "0.001"
       ]
      },
      {
       "output_type": "stream",
       "stream": "stdout",
       "text": [
        " 2.94705170255\n",
        "0.001"
       ]
      },
      {
       "output_type": "stream",
       "stream": "stdout",
       "text": [
        " 3.3932217719\n",
        "0.001"
       ]
      },
      {
       "output_type": "stream",
       "stream": "stdout",
       "text": [
        " 3.90693993705\n",
        "0.001"
       ]
      },
      {
       "output_type": "stream",
       "stream": "stdout",
       "text": [
        " 4.49843266897\n",
        "0.001"
       ]
      },
      {
       "output_type": "stream",
       "stream": "stdout",
       "text": [
        " 5.17947467923\n",
        "0.001"
       ]
      },
      {
       "output_type": "stream",
       "stream": "stdout",
       "text": [
        " 5.96362331659\n",
        "0.001"
       ]
      },
      {
       "output_type": "stream",
       "stream": "stdout",
       "text": [
        " 6.86648845004\n",
        "0.001"
       ]
      },
      {
       "output_type": "stream",
       "stream": "stdout",
       "text": [
        " 7.90604321091\n",
        "0.001"
       ]
      },
      {
       "output_type": "stream",
       "stream": "stdout",
       "text": [
        " 9.10298177992\n",
        "0.001"
       ]
      },
      {
       "output_type": "stream",
       "stream": "stdout",
       "text": [
        " 10.4811313415\n",
        "0.001"
       ]
      },
      {
       "output_type": "stream",
       "stream": "stdout",
       "text": [
        " 12.0679264064\n",
        "0.001"
       ]
      },
      {
       "output_type": "stream",
       "stream": "stdout",
       "text": [
        " 13.8949549437\n",
        "0.001"
       ]
      },
      {
       "output_type": "stream",
       "stream": "stdout",
       "text": [
        " 15.9985871961\n",
        "0.001"
       ]
      },
      {
       "output_type": "stream",
       "stream": "stdout",
       "text": [
        " 18.4206996933\n",
        "0.001"
       ]
      },
      {
       "output_type": "stream",
       "stream": "stdout",
       "text": [
        " 21.2095088792\n",
        "0.001"
       ]
      },
      {
       "output_type": "stream",
       "stream": "stdout",
       "text": [
        " 24.4205309455\n",
        "0.001"
       ]
      },
      {
       "output_type": "stream",
       "stream": "stdout",
       "text": [
        " 28.1176869797\n",
        "0.001"
       ]
      },
      {
       "output_type": "stream",
       "stream": "stdout",
       "text": [
        " 32.3745754282\n",
        "0.001"
       ]
      },
      {
       "output_type": "stream",
       "stream": "stdout",
       "text": [
        " 37.2759372031\n",
        "0.001"
       ]
      },
      {
       "output_type": "stream",
       "stream": "stdout",
       "text": [
        " 42.9193426013\n",
        "0.001"
       ]
      },
      {
       "output_type": "stream",
       "stream": "stdout",
       "text": [
        " 49.4171336132\n",
        "0.001"
       ]
      },
      {
       "output_type": "stream",
       "stream": "stdout",
       "text": [
        " 56.8986602902\n",
        "0.001"
       ]
      },
      {
       "output_type": "stream",
       "stream": "stdout",
       "text": [
        " 65.512855686\n",
        "0.001"
       ]
      },
      {
       "output_type": "stream",
       "stream": "stdout",
       "text": [
        " 75.4312006335\n",
        "0.001"
       ]
      },
      {
       "output_type": "stream",
       "stream": "stdout",
       "text": [
        " 86.8511373751\n",
        "0.001"
       ]
      },
      {
       "output_type": "stream",
       "stream": "stdout",
       "text": [
        " 100.0\n",
        "0.00167683293681"
       ]
      },
      {
       "output_type": "stream",
       "stream": "stdout",
       "text": [
        " 0.1\n",
        "0.00167683293681"
       ]
      },
      {
       "output_type": "stream",
       "stream": "stdout",
       "text": [
        " 0.115139539933\n",
        "0.00167683293681"
       ]
      },
      {
       "output_type": "stream",
       "stream": "stdout",
       "text": [
        " 0.132571136559\n",
        "0.00167683293681"
       ]
      },
      {
       "output_type": "stream",
       "stream": "stdout",
       "text": [
        " 0.152641796718\n",
        "0.00167683293681"
       ]
      },
      {
       "output_type": "stream",
       "stream": "stdout",
       "text": [
        " 0.175751062485\n",
        "0.00167683293681"
       ]
      },
      {
       "output_type": "stream",
       "stream": "stdout",
       "text": [
        " 0.202358964773\n",
        "0.00167683293681"
       ]
      },
      {
       "output_type": "stream",
       "stream": "stdout",
       "text": [
        " 0.232995181052\n",
        "0.00167683293681"
       ]
      },
      {
       "output_type": "stream",
       "stream": "stdout",
       "text": [
        " 0.268269579528\n",
        "0.00167683293681"
       ]
      },
      {
       "output_type": "stream",
       "stream": "stdout",
       "text": [
        " 0.308884359648\n",
        "0.00167683293681"
       ]
      },
      {
       "output_type": "stream",
       "stream": "stdout",
       "text": [
        " 0.355648030622\n",
        "0.00167683293681"
       ]
      },
      {
       "output_type": "stream",
       "stream": "stdout",
       "text": [
        " 0.409491506238\n",
        "0.00167683293681"
       ]
      },
      {
       "output_type": "stream",
       "stream": "stdout",
       "text": [
        " 0.471486636346\n",
        "0.00167683293681"
       ]
      },
      {
       "output_type": "stream",
       "stream": "stdout",
       "text": [
        " 0.542867543932\n",
        "0.00167683293681"
       ]
      },
      {
       "output_type": "stream",
       "stream": "stdout",
       "text": [
        " 0.625055192527\n",
        "0.00167683293681"
       ]
      },
      {
       "output_type": "stream",
       "stream": "stdout",
       "text": [
        " 0.719685673001\n",
        "0.00167683293681"
       ]
      },
      {
       "output_type": "stream",
       "stream": "stdout",
       "text": [
        " 0.828642772855\n",
        "0.00167683293681"
       ]
      },
      {
       "output_type": "stream",
       "stream": "stdout",
       "text": [
        " 0.95409547635\n",
        "0.00167683293681"
       ]
      },
      {
       "output_type": "stream",
       "stream": "stdout",
       "text": [
        " 1.09854114199\n",
        "0.00167683293681"
       ]
      },
      {
       "output_type": "stream",
       "stream": "stdout",
       "text": [
        " 1.26485521686\n",
        "0.00167683293681"
       ]
      },
      {
       "output_type": "stream",
       "stream": "stdout",
       "text": [
        " 1.4563484775\n",
        "0.00167683293681"
       ]
      },
      {
       "output_type": "stream",
       "stream": "stdout",
       "text": [
        " 1.67683293681\n",
        "0.00167683293681"
       ]
      },
      {
       "output_type": "stream",
       "stream": "stdout",
       "text": [
        " 1.93069772888\n",
        "0.00167683293681"
       ]
      },
      {
       "output_type": "stream",
       "stream": "stdout",
       "text": [
        " 2.22299648253\n",
        "0.00167683293681"
       ]
      },
      {
       "output_type": "stream",
       "stream": "stdout",
       "text": [
        " 2.5595479227\n",
        "0.00167683293681"
       ]
      },
      {
       "output_type": "stream",
       "stream": "stdout",
       "text": [
        " 2.94705170255\n",
        "0.00167683293681"
       ]
      },
      {
       "output_type": "stream",
       "stream": "stdout",
       "text": [
        " 3.3932217719\n",
        "0.00167683293681"
       ]
      },
      {
       "output_type": "stream",
       "stream": "stdout",
       "text": [
        " 3.90693993705\n",
        "0.00167683293681"
       ]
      },
      {
       "output_type": "stream",
       "stream": "stdout",
       "text": [
        " 4.49843266897\n",
        "0.00167683293681"
       ]
      },
      {
       "output_type": "stream",
       "stream": "stdout",
       "text": [
        " 5.17947467923\n",
        "0.00167683293681"
       ]
      },
      {
       "output_type": "stream",
       "stream": "stdout",
       "text": [
        " 5.96362331659\n",
        "0.00167683293681"
       ]
      },
      {
       "output_type": "stream",
       "stream": "stdout",
       "text": [
        " 6.86648845004\n",
        "0.00167683293681"
       ]
      },
      {
       "output_type": "stream",
       "stream": "stdout",
       "text": [
        " 7.90604321091\n",
        "0.00167683293681"
       ]
      },
      {
       "output_type": "stream",
       "stream": "stdout",
       "text": [
        " 9.10298177992\n",
        "0.00167683293681"
       ]
      },
      {
       "output_type": "stream",
       "stream": "stdout",
       "text": [
        " 10.4811313415\n",
        "0.00167683293681"
       ]
      },
      {
       "output_type": "stream",
       "stream": "stdout",
       "text": [
        " 12.0679264064\n",
        "0.00167683293681"
       ]
      },
      {
       "output_type": "stream",
       "stream": "stdout",
       "text": [
        " 13.8949549437\n",
        "0.00167683293681"
       ]
      },
      {
       "output_type": "stream",
       "stream": "stdout",
       "text": [
        " 15.9985871961\n",
        "0.00167683293681"
       ]
      },
      {
       "output_type": "stream",
       "stream": "stdout",
       "text": [
        " 18.4206996933\n",
        "0.00167683293681"
       ]
      },
      {
       "output_type": "stream",
       "stream": "stdout",
       "text": [
        " 21.2095088792\n",
        "0.00167683293681"
       ]
      },
      {
       "output_type": "stream",
       "stream": "stdout",
       "text": [
        " 24.4205309455\n",
        "0.00167683293681"
       ]
      },
      {
       "output_type": "stream",
       "stream": "stdout",
       "text": [
        " 28.1176869797\n",
        "0.00167683293681"
       ]
      },
      {
       "output_type": "stream",
       "stream": "stdout",
       "text": [
        " 32.3745754282\n",
        "0.00167683293681"
       ]
      },
      {
       "output_type": "stream",
       "stream": "stdout",
       "text": [
        " 37.2759372031\n",
        "0.00167683293681"
       ]
      },
      {
       "output_type": "stream",
       "stream": "stdout",
       "text": [
        " 42.9193426013\n",
        "0.00167683293681"
       ]
      },
      {
       "output_type": "stream",
       "stream": "stdout",
       "text": [
        " 49.4171336132\n",
        "0.00167683293681"
       ]
      },
      {
       "output_type": "stream",
       "stream": "stdout",
       "text": [
        " 56.8986602902\n",
        "0.00167683293681"
       ]
      },
      {
       "output_type": "stream",
       "stream": "stdout",
       "text": [
        " 65.512855686\n",
        "0.00167683293681"
       ]
      },
      {
       "output_type": "stream",
       "stream": "stdout",
       "text": [
        " 75.4312006335\n",
        "0.00167683293681"
       ]
      },
      {
       "output_type": "stream",
       "stream": "stdout",
       "text": [
        " 86.8511373751\n",
        "0.00167683293681"
       ]
      },
      {
       "output_type": "stream",
       "stream": "stdout",
       "text": [
        " 100.0\n",
        "0.00281176869797"
       ]
      },
      {
       "output_type": "stream",
       "stream": "stdout",
       "text": [
        " 0.1\n",
        "0.00281176869797"
       ]
      },
      {
       "output_type": "stream",
       "stream": "stdout",
       "text": [
        " 0.115139539933\n",
        "0.00281176869797"
       ]
      },
      {
       "output_type": "stream",
       "stream": "stdout",
       "text": [
        " 0.132571136559\n",
        "0.00281176869797"
       ]
      },
      {
       "output_type": "stream",
       "stream": "stdout",
       "text": [
        " 0.152641796718\n",
        "0.00281176869797"
       ]
      },
      {
       "output_type": "stream",
       "stream": "stdout",
       "text": [
        " 0.175751062485\n",
        "0.00281176869797"
       ]
      },
      {
       "output_type": "stream",
       "stream": "stdout",
       "text": [
        " 0.202358964773\n",
        "0.00281176869797"
       ]
      },
      {
       "output_type": "stream",
       "stream": "stdout",
       "text": [
        " 0.232995181052\n",
        "0.00281176869797"
       ]
      },
      {
       "output_type": "stream",
       "stream": "stdout",
       "text": [
        " 0.268269579528\n",
        "0.00281176869797"
       ]
      },
      {
       "output_type": "stream",
       "stream": "stdout",
       "text": [
        " 0.308884359648\n",
        "0.00281176869797"
       ]
      },
      {
       "output_type": "stream",
       "stream": "stdout",
       "text": [
        " 0.355648030622\n",
        "0.00281176869797"
       ]
      },
      {
       "output_type": "stream",
       "stream": "stdout",
       "text": [
        " 0.409491506238\n",
        "0.00281176869797"
       ]
      },
      {
       "output_type": "stream",
       "stream": "stdout",
       "text": [
        " 0.471486636346\n",
        "0.00281176869797"
       ]
      },
      {
       "output_type": "stream",
       "stream": "stdout",
       "text": [
        " 0.542867543932\n",
        "0.00281176869797"
       ]
      },
      {
       "output_type": "stream",
       "stream": "stdout",
       "text": [
        " 0.625055192527\n",
        "0.00281176869797"
       ]
      },
      {
       "output_type": "stream",
       "stream": "stdout",
       "text": [
        " 0.719685673001\n",
        "0.00281176869797"
       ]
      },
      {
       "output_type": "stream",
       "stream": "stdout",
       "text": [
        " 0.828642772855\n",
        "0.00281176869797"
       ]
      },
      {
       "output_type": "stream",
       "stream": "stdout",
       "text": [
        " 0.95409547635\n",
        "0.00281176869797"
       ]
      },
      {
       "output_type": "stream",
       "stream": "stdout",
       "text": [
        " 1.09854114199\n",
        "0.00281176869797"
       ]
      },
      {
       "output_type": "stream",
       "stream": "stdout",
       "text": [
        " 1.26485521686\n",
        "0.00281176869797"
       ]
      },
      {
       "output_type": "stream",
       "stream": "stdout",
       "text": [
        " 1.4563484775\n",
        "0.00281176869797"
       ]
      },
      {
       "output_type": "stream",
       "stream": "stdout",
       "text": [
        " 1.67683293681\n",
        "0.00281176869797"
       ]
      },
      {
       "output_type": "stream",
       "stream": "stdout",
       "text": [
        " 1.93069772888\n",
        "0.00281176869797"
       ]
      },
      {
       "output_type": "stream",
       "stream": "stdout",
       "text": [
        " 2.22299648253\n",
        "0.00281176869797"
       ]
      },
      {
       "output_type": "stream",
       "stream": "stdout",
       "text": [
        " 2.5595479227\n",
        "0.00281176869797"
       ]
      },
      {
       "output_type": "stream",
       "stream": "stdout",
       "text": [
        " 2.94705170255\n",
        "0.00281176869797"
       ]
      },
      {
       "output_type": "stream",
       "stream": "stdout",
       "text": [
        " 3.3932217719\n",
        "0.00281176869797"
       ]
      },
      {
       "output_type": "stream",
       "stream": "stdout",
       "text": [
        " 3.90693993705\n",
        "0.00281176869797"
       ]
      },
      {
       "output_type": "stream",
       "stream": "stdout",
       "text": [
        " 4.49843266897\n",
        "0.00281176869797"
       ]
      },
      {
       "output_type": "stream",
       "stream": "stdout",
       "text": [
        " 5.17947467923\n",
        "0.00281176869797"
       ]
      },
      {
       "output_type": "stream",
       "stream": "stdout",
       "text": [
        " 5.96362331659\n",
        "0.00281176869797"
       ]
      },
      {
       "output_type": "stream",
       "stream": "stdout",
       "text": [
        " 6.86648845004\n",
        "0.00281176869797"
       ]
      },
      {
       "output_type": "stream",
       "stream": "stdout",
       "text": [
        " 7.90604321091\n",
        "0.00281176869797"
       ]
      },
      {
       "output_type": "stream",
       "stream": "stdout",
       "text": [
        " 9.10298177992\n",
        "0.00281176869797"
       ]
      },
      {
       "output_type": "stream",
       "stream": "stdout",
       "text": [
        " 10.4811313415\n",
        "0.00281176869797"
       ]
      },
      {
       "output_type": "stream",
       "stream": "stdout",
       "text": [
        " 12.0679264064\n",
        "0.00281176869797"
       ]
      },
      {
       "output_type": "stream",
       "stream": "stdout",
       "text": [
        " 13.8949549437\n",
        "0.00281176869797"
       ]
      },
      {
       "output_type": "stream",
       "stream": "stdout",
       "text": [
        " 15.9985871961\n",
        "0.00281176869797"
       ]
      },
      {
       "output_type": "stream",
       "stream": "stdout",
       "text": [
        " 18.4206996933\n",
        "0.00281176869797"
       ]
      },
      {
       "output_type": "stream",
       "stream": "stdout",
       "text": [
        " 21.2095088792\n",
        "0.00281176869797"
       ]
      },
      {
       "output_type": "stream",
       "stream": "stdout",
       "text": [
        " 24.4205309455\n",
        "0.00281176869797"
       ]
      },
      {
       "output_type": "stream",
       "stream": "stdout",
       "text": [
        " 28.1176869797\n",
        "0.00281176869797"
       ]
      },
      {
       "output_type": "stream",
       "stream": "stdout",
       "text": [
        " 32.3745754282\n",
        "0.00281176869797"
       ]
      },
      {
       "output_type": "stream",
       "stream": "stdout",
       "text": [
        " 37.2759372031\n",
        "0.00281176869797"
       ]
      },
      {
       "output_type": "stream",
       "stream": "stdout",
       "text": [
        " 42.9193426013\n",
        "0.00281176869797"
       ]
      },
      {
       "output_type": "stream",
       "stream": "stdout",
       "text": [
        " 49.4171336132\n",
        "0.00281176869797"
       ]
      },
      {
       "output_type": "stream",
       "stream": "stdout",
       "text": [
        " 56.8986602902\n",
        "0.00281176869797"
       ]
      },
      {
       "output_type": "stream",
       "stream": "stdout",
       "text": [
        " 65.512855686\n",
        "0.00281176869797"
       ]
      },
      {
       "output_type": "stream",
       "stream": "stdout",
       "text": [
        " 75.4312006335\n",
        "0.00281176869797"
       ]
      },
      {
       "output_type": "stream",
       "stream": "stdout",
       "text": [
        " 86.8511373751\n",
        "0.00281176869797"
       ]
      },
      {
       "output_type": "stream",
       "stream": "stdout",
       "text": [
        " 100.0\n",
        "0.00471486636346"
       ]
      },
      {
       "output_type": "stream",
       "stream": "stdout",
       "text": [
        " 0.1\n",
        "0.00471486636346"
       ]
      },
      {
       "output_type": "stream",
       "stream": "stdout",
       "text": [
        " 0.115139539933\n",
        "0.00471486636346"
       ]
      },
      {
       "output_type": "stream",
       "stream": "stdout",
       "text": [
        " 0.132571136559\n",
        "0.00471486636346"
       ]
      },
      {
       "output_type": "stream",
       "stream": "stdout",
       "text": [
        " 0.152641796718\n",
        "0.00471486636346"
       ]
      },
      {
       "output_type": "stream",
       "stream": "stdout",
       "text": [
        " 0.175751062485\n",
        "0.00471486636346"
       ]
      },
      {
       "output_type": "stream",
       "stream": "stdout",
       "text": [
        " 0.202358964773\n",
        "0.00471486636346"
       ]
      },
      {
       "output_type": "stream",
       "stream": "stdout",
       "text": [
        " 0.232995181052\n",
        "0.00471486636346"
       ]
      },
      {
       "output_type": "stream",
       "stream": "stdout",
       "text": [
        " 0.268269579528\n",
        "0.00471486636346"
       ]
      },
      {
       "output_type": "stream",
       "stream": "stdout",
       "text": [
        " 0.308884359648\n",
        "0.00471486636346"
       ]
      },
      {
       "output_type": "stream",
       "stream": "stdout",
       "text": [
        " 0.355648030622\n",
        "0.00471486636346"
       ]
      },
      {
       "output_type": "stream",
       "stream": "stdout",
       "text": [
        " 0.409491506238\n",
        "0.00471486636346"
       ]
      },
      {
       "output_type": "stream",
       "stream": "stdout",
       "text": [
        " 0.471486636346\n",
        "0.00471486636346"
       ]
      },
      {
       "output_type": "stream",
       "stream": "stdout",
       "text": [
        " 0.542867543932\n",
        "0.00471486636346"
       ]
      },
      {
       "output_type": "stream",
       "stream": "stdout",
       "text": [
        " 0.625055192527\n",
        "0.00471486636346"
       ]
      },
      {
       "output_type": "stream",
       "stream": "stdout",
       "text": [
        " 0.719685673001\n",
        "0.00471486636346"
       ]
      },
      {
       "output_type": "stream",
       "stream": "stdout",
       "text": [
        " 0.828642772855\n",
        "0.00471486636346"
       ]
      },
      {
       "output_type": "stream",
       "stream": "stdout",
       "text": [
        " 0.95409547635\n",
        "0.00471486636346"
       ]
      },
      {
       "output_type": "stream",
       "stream": "stdout",
       "text": [
        " 1.09854114199\n",
        "0.00471486636346"
       ]
      },
      {
       "output_type": "stream",
       "stream": "stdout",
       "text": [
        " 1.26485521686\n",
        "0.00471486636346"
       ]
      },
      {
       "output_type": "stream",
       "stream": "stdout",
       "text": [
        " 1.4563484775\n",
        "0.00471486636346"
       ]
      },
      {
       "output_type": "stream",
       "stream": "stdout",
       "text": [
        " 1.67683293681\n",
        "0.00471486636346"
       ]
      },
      {
       "output_type": "stream",
       "stream": "stdout",
       "text": [
        " 1.93069772888\n",
        "0.00471486636346"
       ]
      },
      {
       "output_type": "stream",
       "stream": "stdout",
       "text": [
        " 2.22299648253\n",
        "0.00471486636346"
       ]
      },
      {
       "output_type": "stream",
       "stream": "stdout",
       "text": [
        " 2.5595479227\n",
        "0.00471486636346"
       ]
      },
      {
       "output_type": "stream",
       "stream": "stdout",
       "text": [
        " 2.94705170255\n",
        "0.00471486636346"
       ]
      },
      {
       "output_type": "stream",
       "stream": "stdout",
       "text": [
        " 3.3932217719\n",
        "0.00471486636346"
       ]
      },
      {
       "output_type": "stream",
       "stream": "stdout",
       "text": [
        " 3.90693993705\n",
        "0.00471486636346"
       ]
      },
      {
       "output_type": "stream",
       "stream": "stdout",
       "text": [
        " 4.49843266897\n",
        "0.00471486636346"
       ]
      },
      {
       "output_type": "stream",
       "stream": "stdout",
       "text": [
        " 5.17947467923\n",
        "0.00471486636346"
       ]
      },
      {
       "output_type": "stream",
       "stream": "stdout",
       "text": [
        " 5.96362331659\n",
        "0.00471486636346"
       ]
      },
      {
       "output_type": "stream",
       "stream": "stdout",
       "text": [
        " 6.86648845004\n",
        "0.00471486636346"
       ]
      },
      {
       "output_type": "stream",
       "stream": "stdout",
       "text": [
        " 7.90604321091\n",
        "0.00471486636346"
       ]
      },
      {
       "output_type": "stream",
       "stream": "stdout",
       "text": [
        " 9.10298177992\n",
        "0.00471486636346"
       ]
      },
      {
       "output_type": "stream",
       "stream": "stdout",
       "text": [
        " 10.4811313415\n",
        "0.00471486636346"
       ]
      },
      {
       "output_type": "stream",
       "stream": "stdout",
       "text": [
        " 12.0679264064\n",
        "0.00471486636346"
       ]
      },
      {
       "output_type": "stream",
       "stream": "stdout",
       "text": [
        " 13.8949549437\n",
        "0.00471486636346"
       ]
      },
      {
       "output_type": "stream",
       "stream": "stdout",
       "text": [
        " 15.9985871961\n",
        "0.00471486636346"
       ]
      },
      {
       "output_type": "stream",
       "stream": "stdout",
       "text": [
        " 18.4206996933\n",
        "0.00471486636346"
       ]
      },
      {
       "output_type": "stream",
       "stream": "stdout",
       "text": [
        " 21.2095088792\n",
        "0.00471486636346"
       ]
      },
      {
       "output_type": "stream",
       "stream": "stdout",
       "text": [
        " 24.4205309455\n",
        "0.00471486636346"
       ]
      },
      {
       "output_type": "stream",
       "stream": "stdout",
       "text": [
        " 28.1176869797\n",
        "0.00471486636346"
       ]
      },
      {
       "output_type": "stream",
       "stream": "stdout",
       "text": [
        " 32.3745754282\n",
        "0.00471486636346"
       ]
      },
      {
       "output_type": "stream",
       "stream": "stdout",
       "text": [
        " 37.2759372031\n",
        "0.00471486636346"
       ]
      },
      {
       "output_type": "stream",
       "stream": "stdout",
       "text": [
        " 42.9193426013\n",
        "0.00471486636346"
       ]
      },
      {
       "output_type": "stream",
       "stream": "stdout",
       "text": [
        " 49.4171336132\n",
        "0.00471486636346"
       ]
      },
      {
       "output_type": "stream",
       "stream": "stdout",
       "text": [
        " 56.8986602902\n",
        "0.00471486636346"
       ]
      },
      {
       "output_type": "stream",
       "stream": "stdout",
       "text": [
        " 65.512855686\n",
        "0.00471486636346"
       ]
      },
      {
       "output_type": "stream",
       "stream": "stdout",
       "text": [
        " 75.4312006335\n",
        "0.00471486636346"
       ]
      },
      {
       "output_type": "stream",
       "stream": "stdout",
       "text": [
        " 86.8511373751\n",
        "0.00471486636346"
       ]
      },
      {
       "output_type": "stream",
       "stream": "stdout",
       "text": [
        " 100.0\n",
        "0.00790604321091"
       ]
      },
      {
       "output_type": "stream",
       "stream": "stdout",
       "text": [
        " 0.1\n",
        "0.00790604321091"
       ]
      },
      {
       "output_type": "stream",
       "stream": "stdout",
       "text": [
        " 0.115139539933\n",
        "0.00790604321091"
       ]
      },
      {
       "output_type": "stream",
       "stream": "stdout",
       "text": [
        " 0.132571136559\n",
        "0.00790604321091"
       ]
      },
      {
       "output_type": "stream",
       "stream": "stdout",
       "text": [
        " 0.152641796718\n",
        "0.00790604321091"
       ]
      },
      {
       "output_type": "stream",
       "stream": "stdout",
       "text": [
        " 0.175751062485\n",
        "0.00790604321091"
       ]
      },
      {
       "output_type": "stream",
       "stream": "stdout",
       "text": [
        " 0.202358964773\n",
        "0.00790604321091"
       ]
      }
     ],
     "prompt_number": "*"
    },
    {
     "cell_type": "code",
     "collapsed": false,
     "input": [
      "f = open('../dat/CH4/s_neg3_8.txt', 'wb')\n",
      "for i in range(len(s)):\n",
      "    f.write('%s ' % str(s[i]))\n",
      "    f.write('%s \\n' % str(len(a)))\n",
      "    for j in range(len(a)):\n",
      "        f.write(' %s ' % str(a[j]))\n",
      "        f.write(' %s \\n' % str(darray[i, j]))\n",
      "f.close()"
     ],
     "language": "python",
     "metadata": {},
     "outputs": [],
     "prompt_number": 3
    },
    {
     "cell_type": "code",
     "collapsed": false,
     "input": [
      "s, a, arrayH2O = read_drag_file_many('s_neg3_8.txt', 'CH4', 50, 50)"
     ],
     "language": "python",
     "metadata": {},
     "outputs": [],
     "prompt_number": 4
    },
    {
     "cell_type": "code",
     "collapsed": false,
     "input": [
      "#f, (ax1, ax2, ax3) = plt.subplots(3, sharex = True, figsize = (3.5, 8))\n",
      "\n",
      "rnb = linspace(0, 256, len(s))\n",
      "\n",
      "for i in range(0, len(s)):\n",
      "    plt.loglog(a, arrayH2O[i], c = cm.rainbow(int(rnb[i])))\n",
      "plt.ylim(ymin = 0.1, ymax = 1e2)\n",
      "plt.xlim(xmin = 0.1, xmax = 1e2)\n",
      "plt.ylabel('Desorption distance [AU]')\n",
      "plt.xlabel('Initial distance [AU]')\n",
      "#plt.savefig('../figs/desorption_dist_H2O_with_acc_1e5yr.pdf')"
     ],
     "language": "python",
     "metadata": {},
     "outputs": [
      {
       "output_type": "pyout",
       "prompt_number": 5,
       "text": [
        "<matplotlib.text.Text at 0x288df90>"
       ]
      },
      {
       "output_type": "display_data",
       "png": "[encoded data removed]"
      }
     ],
     "prompt_number": 5
    },
    {
     "cell_type": "code",
     "collapsed": false,
     "input": [
      "s, a, arrayH2O = read_drag_file_many('s_neg3_8_varying_sigmap.txt', 'CO2', 50, 50)"
     ],
     "language": "python",
     "metadata": {},
     "outputs": [],
     "prompt_number": 30
    },
    {
     "cell_type": "code",
     "collapsed": false,
     "input": [
      "f = open('../dat/H2O/act_s_100cm_1e4_0.01Msun.txt', 'wb')\n",
      "for i in range(len(a)):\n",
      "    f.write(' %s ' % str(a[i]))\n",
      "    f.write(' %s \\n' % str(darray1e4[i]))\n",
      "f.close()"
     ],
     "language": "python",
     "metadata": {},
     "outputs": [],
     "prompt_number": 47
    },
    {
     "cell_type": "code",
     "collapsed": false,
     "input": [],
     "language": "python",
     "metadata": {},
     "outputs": []
    }
   ],
   "metadata": {}
  }
 ]
}