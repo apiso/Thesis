{
 "metadata": {
  "name": "CO_plots_new-Copy0"
 },
 "nbformat": 3,
 "nbformat_minor": 0,
 "worksheets": [
  {
   "cells": [
    {
     "cell_type": "code",
     "collapsed": false,
     "input": [
      "import numpy as np\n",
      "from matplotlib import pyplot as plt\n",
      "import C_to_O as CO\n",
      "from T_freeze import T_freeze, Rdes, tevap\n",
      "from C_to_O import T_freeze_H20, T_freeze_CO2, T_freeze_CO\n",
      "import matplotlib.cm as cm\n",
      "\n",
      "from drift_timescales import tr, Tdisk, ts, lambdamfp, cdisk, tdes, rf, r_freeze, t_gas_acc\n",
      "from scipy.optimize import brentq\n",
      "from utils.constants import cmperau"
     ],
     "language": "python",
     "metadata": {},
     "outputs": [],
     "prompt_number": 1
    },
    {
     "cell_type": "code",
     "collapsed": false,
     "input": [
      "a = np.logspace(0, 2, 500)\n",
      "\n",
      "arraygas, arraysolid  = [], []\n",
      "for i in range(len(a)):\n",
      "    arraygas = np.append(arraygas, CO.C_O_ratio(a[i])[0])\n",
      "    arraysolid = np.append(arraysolid, CO.C_O_ratio(a[i])[1])"
     ],
     "language": "python",
     "metadata": {},
     "outputs": [
      {
       "output_type": "stream",
       "stream": "stderr",
       "text": [
        "C_to_O.py:119: RuntimeWarning: invalid value encountered in divide\n",
        "  return n(T, 'C') / n(T, 'O')\n"
       ]
      }
     ],
     "prompt_number": 2
    },
    {
     "cell_type": "code",
     "collapsed": false,
     "input": [
      "plt.semilogx(a, arraygas)\n",
      "plt.semilogx(a, arraysolid, '--b')\n",
      "plt.semilogx(a, ones(len(a))*0.54, ls = ':', lw = 2, color = 'black')\n",
      "plt.ylim(0, 1.2)\n",
      "plt.xlabel('a [AU]')\n",
      "plt.ylabel('C/O ratio')\n",
      "#plt.savefig('C_O_ratio.pdf')"
     ],
     "language": "python",
     "metadata": {},
     "outputs": [
      {
       "output_type": "pyout",
       "prompt_number": 3,
       "text": [
        "<matplotlib.text.Text at 0x3d2ea90>"
       ]
      },
      {
       "output_type": "display_data",
       "png": "[encoded data removed]"
      }
     ],
     "prompt_number": 3
    },
    {
     "cell_type": "code",
     "collapsed": false,
     "input": [
      "def Tdiff_H2O(r):\n",
      "    return Tdisk(r) - T_freeze_H20\n",
      "\n",
      "def Tdiff_CO2(r):\n",
      "    return Tdisk(r) - T_freeze_CO2\n",
      "\n",
      "def Tdiff_CO(r):\n",
      "    return Tdisk(r) - T_freeze_CO\n",
      "\n",
      "\n",
      "\n",
      "rH2O = r_freeze(18., 5800., 1e6)\n",
      "rCO2 = r_freeze(44., 2000, 3e5)\n",
      "rCO = r_freeze(28., 850, 1e6)"
     ],
     "language": "python",
     "metadata": {},
     "outputs": [],
     "prompt_number": 4
    },
    {
     "cell_type": "code",
     "collapsed": false,
     "input": [
      "s = np.logspace(-5, 5, 1000)\n",
      "\n",
      "tr_H2O, tr_CO2, tr_CO, teps_H2O, teps_CO2, teps_CO, tst_H2O, tst_CO2, tst_CO = [], [], [], [], [], [], [], [], []\n",
      "for i in range(len(s)):\n",
      "    tr_H2O = append(tr_H2O, tr(rH2O, s[i], rhos = 2.0, betaS = 1))\n",
      "    tr_CO2 = append(tr_CO2, tr(rCO2, s[i], rhos = 2.0, betaS = 1))\n",
      "    tr_CO = append(tr_CO, tr(rCO, s[i], rhos = 2.0, betaS = 1))\n",
      "    \n",
      "    teps_H2O = append(teps_H2O, tr(rH2O, s[i], rhos = 2.0, betaS = 1, eps = 1))\n",
      "    teps_CO2 = append(teps_CO2, tr(rCO2, s[i], rhos = 2.0, betaS = 1, eps = 1))\n",
      "    teps_CO = append(teps_CO, tr(rCO, s[i], rhos = 2.0, betaS = 1, eps = 1))\n",
      "    \n",
      "    tst_H2O = append(tst_H2O, tr(rH2O, s[i], rhos = 2.0, betaS = 1, eps = -1))\n",
      "    tst_CO2 = append(tst_CO2, tr(rCO2, s[i], rhos = 2.0, betaS = 1, eps = -1))\n",
      "    tst_CO = append(tst_CO, tr(rCO, s[i], rhos = 2.0, betaS = 1, eps = -1))"
     ],
     "language": "python",
     "metadata": {},
     "outputs": [],
     "prompt_number": 5
    },
    {
     "cell_type": "code",
     "collapsed": false,
     "input": [
      "tevap_H2O = tdes(18., 5800., T_freeze_H20, s, rhos = 2.) #tevap(18., 5800., T_freeze_H20)\n",
      "tevap_CO2 =  tdes(44., 2000., T_freeze_CO2, s, rhos = 2.)\n",
      "tevap_CO =  tdes(28., 850., T_freeze_CO, s, rhos = 2.)"
     ],
     "language": "python",
     "metadata": {},
     "outputs": [],
     "prompt_number": 6
    },
    {
     "cell_type": "code",
     "collapsed": false,
     "input": [
      "t_acc_H2O = t_gas_acc(rH2O, 0.01, betaS = 1.)\n",
      "t_acc_CO2 = t_gas_acc(rCO2, 0.01, betaS = 1.)\n",
      "t_acc_CO = t_gas_acc(rCO, 0.01, betaS = 1.)"
     ],
     "language": "python",
     "metadata": {},
     "outputs": [],
     "prompt_number": 7
    },
    {
     "cell_type": "code",
     "collapsed": false,
     "input": [
      "p1, = plt.loglog(s, tr_H2O / (365 * 24 * 3600), label = r'$\\rm H_2 \\rm O$ snowline')\n",
      "p2, = plt.loglog(s, tr_CO2 / (365 * 24 * 3600), label = r'$\\rm CO_2$ snowline')\n",
      "p3, = plt.loglog(s, tr_CO / (365 * 24 * 3600), label = r'$\\rm CO$ snowline')\n",
      "p4, = plt.loglog(s, tevap_H2O * ones(len(s)) / (365 * 24 * 3600), '--b')\n",
      "\n",
      "#plt.loglog(s, teps_H2O / (365 * 24 * 3600), ':b')\n",
      "#plt.loglog(s, teps_CO2 / (365 * 24 * 3600), ':g')\n",
      "#plt.loglog(s, teps_CO / (365 * 24 * 3600), ':r')\n",
      "\n",
      "#plt.loglog(s, tst_H2O / (365 * 24 * 3600), ':b')\n",
      "#plt.loglog(s, tst_CO2 / (365 * 24 * 3600), ':g')\n",
      "#plt.loglog(s, tst_CO / (365 * 24 * 3600), ':r')\n",
      "\n",
      "plt.loglog(s, tevap_CO2 * ones(len(s)) / (365 * 24 * 3600), '--g')\n",
      "plt.loglog(s, tevap_CO * ones(len(s)) / (365 * 24 * 3600), '--r')\n",
      "\n",
      "p5, = plt.loglog(s, t_acc_H2O * ones(len(s)) / (365 * 24 * 3600), ':', lw = 2, c = 'b')\n",
      "plt.loglog(s, t_acc_CO2 * ones(len(s)) / (365 * 24 * 3600), ':', lw = 2, c = 'g')\n",
      "plt.loglog(s, t_acc_CO * ones(len(s)) / (365 * 24 * 3600), ':', lw = 2, c = 'r')\n",
      "\n",
      "l1 = legend([p1, p4, p5], [r'$t_{\\rm{r, drift}}$', r'$t_{\\rm evap}$', r'$t_{\\rm gas,acc}$'], frameon = False, loc = 4)\n",
      "plt.legend(loc = 9, frameon = False)\n",
      "gca().add_artist(l1)\n",
      "plt.xlabel('s [cm]')\n",
      "plt.ylabel(r'$t$ [yr]')\n",
      "plt.loglog(s, ones(len(s)) * 3e6, '--', color = 'black')\n",
      "\n",
      "#plt.savefig('drift_timescales_betaS1_gas_acc_new.pdf')"
     ],
     "language": "python",
     "metadata": {},
     "outputs": [
      {
       "output_type": "pyout",
       "prompt_number": 8,
       "text": [
        "[<matplotlib.lines.Line2D at 0x40bced0>]"
       ]
      },
      {
       "output_type": "display_data",
       "png": "[encoded data removed]"
      }
     ],
     "prompt_number": 8
    },
    {
     "cell_type": "code",
     "collapsed": false,
     "input": [
      "#reload(rf)\n",
      "a = logspace(-1, 2, 50)\n",
      "\n",
      "s0, s1, s2, s3, s4, s5, s6, s7, s8, s9, s10 = [], [], [], [], [], [], [], [], [], [], []\n",
      "for i in range(len(a)):\n",
      "    s0 = append(s0, rf(a[i], 0.01, 18, 5800, rhos = 2.0, mu = 2.3, Sigma0 = 2e3, betaS = 1., npts = 1e5, nptsin = 1e4, vphi = 0))\n",
      "    s1 = append(s1, rf(a[i], 0.1, 18, 5800, rhos = 2.0, mu = 2.3, Sigma0 = 2e3, betaS = 1., npts = 1e5, nptsin = 1e4, vphi = 0))\n",
      "    s2 = append(s2, rf(a[i], 1, 18, 5800, rhos = 2.0, mu = 2.3, Sigma0 = 2e3, betaS = 1., npts = 1e5, nptsin = 1e4, vphi = 0))\n",
      "    s3 = append(s3, rf(a[i], 1e1, 18, 5800, rhos = 2.0, mu = 2.3, Sigma0 = 2e3, betaS = 1., npts = 1e5, nptsin = 1e4, vphi = 0))\n",
      "    s4 = append(s4, rf(a[i], 1e2, 18, 5800, rhos = 2.0, mu = 2.3, Sigma0 = 2e3, betaS = 1., npts = 1e5, nptsin = 1e4, vphi = 0))\n",
      "    s5 = append(s5, rf(a[i], 1e3, 18, 5800, rhos = 2.0, mu = 2.3, Sigma0 = 2e3, betaS = 1., npts = 1e5, nptsin = 1e4, vphi = 0))\n",
      "    s6 = append(s6, rf(a[i], 1e4, 18, 5800, rhos = 2.0, mu = 2.3, Sigma0 = 2e3, betaS = 1., npts = 1e5, nptsin = 1e4, vphi = 0))\n",
      "    s7 = append(s7, rf(a[i], 1e5, 18, 5800, rhos = 2.0, mu = 2.3, Sigma0 = 2e3, betaS = 1., npts = 1e5, nptsin = 1e4, vphi = 0))\n",
      "    s8 = append(s8, rf(a[i], 1e6, 18, 5800, rhos = 2.0, mu = 2.3, Sigma0 = 2e3, betaS = 1., npts = 1e5, nptsin = 1e4, vphi = 0))\n",
      "    s9 = append(s9, rf(a[i], 1e7, 18, 5800, rhos = 2.0, mu = 2.3, Sigma0 = 2e3, betaS = 1., npts = 1e5, nptsin = 1e4, vphi = 0))\n",
      "    s10 = append(s10, rf(a[i], 1e8, 18, 5800, rhos = 2.0, mu = 2.3, Sigma0 = 2e3, betaS = 1., npts = 1e5, nptsin = 1e4, vphi = 0))"
     ],
     "language": "python",
     "metadata": {},
     "outputs": []
    },
    {
     "cell_type": "code",
     "collapsed": false,
     "input": [
      "s0c, s1c, s2c, s3c, s4c, s5c, s6c, s7c, s8c, s9c, s10c = [], [], [], [], [], [], [], [], [], [], []\n",
      "for i in range(len(a)):\n",
      "    s0c = append(s0c, rf(a[i], 0.01, 44, 2000, rhos = 2.0, betaS = 1., npts = 1e6)[0])\n",
      "    s1c = append(s1c, rf(a[i], 0.1, 44, 2000, rhos = 2.0, betaS = 1., npts = 1e6)[0])\n",
      "    s2c = append(s2c, rf(a[i], 1, 44, 2000, rhos = 2.0, betaS = 1., npts = 1e6)[0])\n",
      "    s3c = append(s3c, rf(a[i], 1e1, 44, 2000, rhos = 2.0, betaS = 1., npts = 1e6)[0])\n",
      "    s4c = append(s4c, rf(a[i], 1e2, 44, 2000, rhos = 2.0, betaS = 1., npts = 1e6)[0])\n",
      "    s5c = append(s5c, rf(a[i], 1e3, 44, 2000, rhos = 2.0, betaS = 1., npts = 1e6)[0])\n",
      "    s6c = append(s6c, rf(a[i], 1e4, 44, 2000, rhos = 2.0, betaS = 1., npts = 1e6)[0])\n",
      "    s7c = append(s7c, rf(a[i], 1e5, 44, 2000, rhos = 2.0, betaS = 1., npts = 1e6)[0])\n",
      "    s8c = append(s8c, rf(a[i], 1e6, 44, 2000, rhos = 2.0, betaS = 1., npts = 1e6)[0])\n",
      "    s9c = append(s9c, rf(a[i], 1e7, 44, 2000, rhos = 2.0, betaS = 1., npts = 1e6)[0])\n",
      "    s10c = append(s10c, rf(a[i], 1e8, 44, 2000, rhos = 2.0, betaS = 1., npts = 1e6)[0])"
     ],
     "language": "python",
     "metadata": {},
     "outputs": []
    },
    {
     "cell_type": "code",
     "collapsed": false,
     "input": [
      "s0co, s1co, s2co, s3co, s4co, s5co, s6co, s7co, s8co, s9co, s10co = [], [], [], [], [], [], [], [], [], [], []\n",
      "for i in range(len(a)):\n",
      "    s0co = append(s0co, rf(a[i], 0.01, 28, 850, rhos = 2.0, betaS = 1., npts = 1e6)[0])\n",
      "    s1co = append(s1co, rf(a[i], 0.1, 28, 850, rhos = 2.0, betaS = 1., npts = 1e6)[0])\n",
      "    s2co = append(s2co, rf(a[i], 1, 28, 850, rhos = 2.0, betaS = 1., npts = 1e6)[0])\n",
      "    s3co = append(s3co, rf(a[i], 1e1, 28, 850, rhos = 2.0, betaS = 1., npts = 1e6)[0])\n",
      "    s4co = append(s4co, rf(a[i], 1e2, 28, 850, rhos = 2.0, betaS = 1., npts = 1e6)[0])\n",
      "    s5co = append(s5co, rf(a[i], 1e3, 28, 850, rhos = 2.0, betaS = 1., npts = 1e6)[0])\n",
      "    s6co = append(s6co, rf(a[i], 1e4, 28, 850, rhos = 2.0, betaS = 1., npts = 1e6)[0])\n",
      "    s7co = append(s7co, rf(a[i], 1e5, 28, 850, rhos = 2.0, betaS = 1., npts = 1e6)[0])\n",
      "    s8co = append(s8co, rf(a[i], 1e6, 28, 850, rhos = 2.0, betaS = 1., npts = 1e6)[0])\n",
      "    s9co = append(s9co, rf(a[i], 1e7, 28, 850, rhos = 2.0, betaS = 1., npts = 1e6)[0])\n",
      "    s10co = append(s10co, rf(a[i], 1e8, 28, 2000, rhos = 2.0, betaS = 1., npts = 1e6)[0])"
     ],
     "language": "python",
     "metadata": {},
     "outputs": []
    },
    {
     "cell_type": "code",
     "collapsed": false,
     "input": [
      "f, (ax1, ax2, ax3) = plt.subplots(3, sharex = True, figsize = (3.5, 8))\n",
      "\n",
      "rnb = linspace(0, 256, 11)\n",
      "\n",
      "ax1.loglog(a, s0, c = cm.rainbow(int(rnb[0])), label = '0.01 cm')\n",
      "ax1.loglog(a, s1, c = cm.rainbow(int(rnb[1])), label = '0.1 cm')\n",
      "ax1.loglog(a, s2, c = cm.rainbow(int(rnb[2])), label = '1 cm')\n",
      "ax1.loglog(a, s3, c = cm.rainbow(int(rnb[3])), label = '10 cm')\n",
      "ax1.loglog(a, s4, c = cm.rainbow(int(rnb[4])), label = r'$10^2$ cm')\n",
      "ax1.loglog(a, s5, c = cm.rainbow(int(rnb[5])), label = r'$10^3$ cm')\n",
      "ax1.loglog(a, s6, c = cm.rainbow(int(rnb[6])), label = r'$10^4$ cm')\n",
      "ax1.loglog(a, s7, c = cm.rainbow(int(rnb[7])), label = r'$10^5$ cm')\n",
      "ax1.loglog(a, s8, c = cm.rainbow(int(rnb[8])), label = r'$10^6$ cm')\n",
      "ax1.loglog(a, s9, c = cm.rainbow(int(rnb[9])), label = r'$10^7$ cm')\n",
      "ax1.loglog(a, s10, c = cm.rainbow(int(rnb[10])), label = r'$10^8$ cm')\n",
      "ax1.loglog(a, a, '--', color = 'black')\n",
      "ax1.loglog(a, ones(len(a)) * rH2O, ':', lw = 2, c = 'black')\n",
      "ax1.set_ylabel('Desorption distance [AU]')\n",
      "ax1.set_ylim(ymin = 0.10001, ymax = 100)\n",
      "ax1.text(0.7, 63, 'H2O')\n",
      "\n",
      "ax2.loglog(a, s0c, c = cm.rainbow(int(rnb[0])))\n",
      "ax2.loglog(a, s1c, c = cm.rainbow(int(rnb[1])))\n",
      "ax2.loglog(a, s2c, c = cm.rainbow(int(rnb[2])))\n",
      "ax2.loglog(a, s3c, c = cm.rainbow(int(rnb[3])))\n",
      "ax2.loglog(a, s4c, c = cm.rainbow(int(rnb[4])))\n",
      "ax2.loglog(a, s5c, c = cm.rainbow(int(rnb[5])))\n",
      "ax2.loglog(a, s6c, c = cm.rainbow(int(rnb[6])))\n",
      "ax2.loglog(a, s7c, c = cm.rainbow(int(rnb[7])))\n",
      "ax2.loglog(a, s8c, c = cm.rainbow(int(rnb[8])))\n",
      "ax2.loglog(a, s9c, c = cm.rainbow(int(rnb[9])))\n",
      "ax2.loglog(a, s10c, c = cm.rainbow(int(rnb[10])))\n",
      "ax2.loglog(a, a, '--', color = 'black')\n",
      "ax2.set_ylabel('Desorption distance [AU]')\n",
      "ax2.set_ylim(ymin = 0.10001, ymax = 100)\n",
      "ax2.text(0.7, 63, 'CO2')\n",
      "ax2.loglog(a, ones(len(a)) * rCO2, ':', lw = 2, c = 'black')\n",
      "\n",
      "ax3.loglog(a, s0co, c = cm.rainbow(int(rnb[0])))\n",
      "ax3.loglog(a, s1co, c = cm.rainbow(int(rnb[1])), label = '0.1 cm')\n",
      "ax3.loglog(a, s2co, c = cm.rainbow(int(rnb[2])), label = '1 cm')\n",
      "ax3.loglog(a, s3co, c = cm.rainbow(int(rnb[3])), label = '10 cm')\n",
      "ax3.loglog(a, s4co, c = cm.rainbow(int(rnb[4])), label = r'$10^2$ cm')\n",
      "ax3.loglog(a, s5co, c = cm.rainbow(int(rnb[5])), label = r'$10^3$ cm')\n",
      "ax3.loglog(a, s6co, c = cm.rainbow(int(rnb[6])), label = r'$10^4$ cm')\n",
      "ax3.loglog(a, s7co, c = cm.rainbow(int(rnb[7])), label = r'$10^5$ cm')\n",
      "ax3.loglog(a, s8co, c = cm.rainbow(int(rnb[8])), label = r'$10^6$ cm')\n",
      "ax3.loglog(a, s9co, c = cm.rainbow(int(rnb[9])), label = r'$10^7$ cm')\n",
      "ax3.loglog(a, s10co, c = cm.rainbow(int(rnb[10])), label = r'$10^8$ cm')\n",
      "ax3.loglog(a, a, '--', color = 'black')\n",
      "ax3.set_ylabel('Desorption distance [AU]')\n",
      "ax3.set_xlabel('Initial distance [AU]')\n",
      "ax3.set_ylim(ymax = 100)\n",
      "ax3.legend(loc = 4, frameon = False, prop = {'size':9}, labelspacing = 0)\n",
      "ax3.loglog(a, ones(len(a)) * rCO, ':', lw = 2, c = 'black')\n",
      "ax3.text(0.7, 63, 'CO')\n",
      "\n",
      "plt.tight_layout()\n",
      "f.subplots_adjust(hspace = 0)\n",
      "\n",
      "#plt.savefig('desorption_distace_2.pdf')\n",
      "\n"
     ],
     "language": "python",
     "metadata": {},
     "outputs": []
    },
    {
     "cell_type": "code",
     "collapsed": false,
     "input": [
      "a = logspace(-1, 2, 50)\n",
      "s = logspace(-3, 8, 50)\n",
      "\n",
      "darray = np.ndarray(shape = (len(s), len(a)), dtype = float)\n",
      "\n",
      "for i in range(len(s)):\n",
      "    for j in range(len(a)):\n",
      "        darray[i, j] = rf(a[j], s[i], 18, 5800, rhos = 2.0, mu = 2.3, Sigma0 = 2e3, betaS = 1., npts = 1e6, nptsin = 1e5, vphi = 0)"
     ],
     "language": "python",
     "metadata": {},
     "outputs": []
    },
    {
     "cell_type": "code",
     "collapsed": false,
     "input": [
      "a = logspace(-1, 2, 50)\n",
      "s = logspace(-3, 8, 50)\n",
      "\n",
      "darrayCO2 = np.ndarray(shape = (len(s), len(a)), dtype = float)\n",
      "\n",
      "for i in range(len(s)):\n",
      "    for j in range(len(a)):\n",
      "        darrayCO2[i, j] = rf(a[j], s[i], 44, 2000, rhos = 2.0, mu = 2.3, Sigma0 = 2e3, betaS = 1., npts = 1e6, nptsin = 1e5, vphi = 0)"
     ],
     "language": "python",
     "metadata": {},
     "outputs": []
    },
    {
     "cell_type": "code",
     "collapsed": false,
     "input": [
      "a = logspace(-1, 2, 50)\n",
      "s = logspace(-3, 8, 50)\n",
      "\n",
      "darrayCO = np.ndarray(shape = (len(s), len(a)), dtype = float)\n",
      "\n",
      "for i in range(len(s)):\n",
      "    for j in range(len(a)):\n",
      "        darrayCO[i, j] = rf(a[j], s[i], 28, 850, rhos = 2.0, mu = 2.3, Sigma0 = 2e3, betaS = 1., npts = 1e6, nptsin = 1e5, vphi = 0)"
     ],
     "language": "python",
     "metadata": {},
     "outputs": []
    },
    {
     "cell_type": "code",
     "collapsed": false,
     "input": [
      "f = open('../dat/H2O/s_neg3_8.txt', 'wb')\n",
      "for i in range(len(s)):\n",
      "    f.write('%s ' % str(s[i]))\n",
      "    f.write('%s \\n' % str(len(a)))\n",
      "    for j in range(len(a)):\n",
      "        f.write(' %s ' % str(a[j]))\n",
      "        f.write(' %s \\n' % str(darray[i, j]))\n",
      "f.close()"
     ],
     "language": "python",
     "metadata": {},
     "outputs": []
    }
   ],
   "metadata": {}
  }
 ]
}